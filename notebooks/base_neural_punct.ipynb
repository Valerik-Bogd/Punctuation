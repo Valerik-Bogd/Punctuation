{
  "nbformat": 4,
  "nbformat_minor": 0,
  "metadata": {
    "colab": {
      "provenance": [],
      "collapsed_sections": [
        "DBXUa2FB2BHF",
        "UfY1DL-t41Xb",
        "xytMrL-oMEmk",
        "n1FDl49K53TR"
      ],
      "gpuType": "V100",
      "machine_shape": "hm",
      "toc_visible": true
    },
    "kernelspec": {
      "name": "python3",
      "display_name": "Python 3"
    },
    "language_info": {
      "name": "python"
    },
    "widgets": {
      "application/vnd.jupyter.widget-state+json": {
        "d30b9cd3c2ed40eea9b3a97f41014631": {
          "model_module": "@jupyter-widgets/controls",
          "model_name": "HBoxModel",
          "model_module_version": "1.5.0",
          "state": {
            "_dom_classes": [],
            "_model_module": "@jupyter-widgets/controls",
            "_model_module_version": "1.5.0",
            "_model_name": "HBoxModel",
            "_view_count": null,
            "_view_module": "@jupyter-widgets/controls",
            "_view_module_version": "1.5.0",
            "_view_name": "HBoxView",
            "box_style": "",
            "children": [
              "IPY_MODEL_dee24f9d91864a758ffb789359783b5a",
              "IPY_MODEL_dfcd9cda67e14d949511071485024acf",
              "IPY_MODEL_9ba18e1d0c3b4bcf91c627661cc9a719"
            ],
            "layout": "IPY_MODEL_9df2d6646f984eff933268fd496b3b73"
          }
        },
        "dee24f9d91864a758ffb789359783b5a": {
          "model_module": "@jupyter-widgets/controls",
          "model_name": "HTMLModel",
          "model_module_version": "1.5.0",
          "state": {
            "_dom_classes": [],
            "_model_module": "@jupyter-widgets/controls",
            "_model_module_version": "1.5.0",
            "_model_name": "HTMLModel",
            "_view_count": null,
            "_view_module": "@jupyter-widgets/controls",
            "_view_module_version": "1.5.0",
            "_view_name": "HTMLView",
            "description": "",
            "description_tooltip": null,
            "layout": "IPY_MODEL_a5aedadf5e844627ac5ad34bf4ae2fab",
            "placeholder": "​",
            "style": "IPY_MODEL_5e273678d93f4b40b18f1ce10b02edee",
            "value": "config.json: 100%"
          }
        },
        "dfcd9cda67e14d949511071485024acf": {
          "model_module": "@jupyter-widgets/controls",
          "model_name": "FloatProgressModel",
          "model_module_version": "1.5.0",
          "state": {
            "_dom_classes": [],
            "_model_module": "@jupyter-widgets/controls",
            "_model_module_version": "1.5.0",
            "_model_name": "FloatProgressModel",
            "_view_count": null,
            "_view_module": "@jupyter-widgets/controls",
            "_view_module_version": "1.5.0",
            "_view_name": "ProgressView",
            "bar_style": "success",
            "description": "",
            "description_tooltip": null,
            "layout": "IPY_MODEL_a2b05a8765d7458a96ea47d79f25a177",
            "max": 642,
            "min": 0,
            "orientation": "horizontal",
            "style": "IPY_MODEL_89ef040650c241c690bd21d70719ba30",
            "value": 642
          }
        },
        "9ba18e1d0c3b4bcf91c627661cc9a719": {
          "model_module": "@jupyter-widgets/controls",
          "model_name": "HTMLModel",
          "model_module_version": "1.5.0",
          "state": {
            "_dom_classes": [],
            "_model_module": "@jupyter-widgets/controls",
            "_model_module_version": "1.5.0",
            "_model_name": "HTMLModel",
            "_view_count": null,
            "_view_module": "@jupyter-widgets/controls",
            "_view_module_version": "1.5.0",
            "_view_name": "HTMLView",
            "description": "",
            "description_tooltip": null,
            "layout": "IPY_MODEL_6906a809786d4151a8a9e0502d2385bf",
            "placeholder": "​",
            "style": "IPY_MODEL_140b9bedac9e4d9f933cf6a33baba0a3",
            "value": " 642/642 [00:00&lt;00:00, 51.3kB/s]"
          }
        },
        "9df2d6646f984eff933268fd496b3b73": {
          "model_module": "@jupyter-widgets/base",
          "model_name": "LayoutModel",
          "model_module_version": "1.2.0",
          "state": {
            "_model_module": "@jupyter-widgets/base",
            "_model_module_version": "1.2.0",
            "_model_name": "LayoutModel",
            "_view_count": null,
            "_view_module": "@jupyter-widgets/base",
            "_view_module_version": "1.2.0",
            "_view_name": "LayoutView",
            "align_content": null,
            "align_items": null,
            "align_self": null,
            "border": null,
            "bottom": null,
            "display": null,
            "flex": null,
            "flex_flow": null,
            "grid_area": null,
            "grid_auto_columns": null,
            "grid_auto_flow": null,
            "grid_auto_rows": null,
            "grid_column": null,
            "grid_gap": null,
            "grid_row": null,
            "grid_template_areas": null,
            "grid_template_columns": null,
            "grid_template_rows": null,
            "height": null,
            "justify_content": null,
            "justify_items": null,
            "left": null,
            "margin": null,
            "max_height": null,
            "max_width": null,
            "min_height": null,
            "min_width": null,
            "object_fit": null,
            "object_position": null,
            "order": null,
            "overflow": null,
            "overflow_x": null,
            "overflow_y": null,
            "padding": null,
            "right": null,
            "top": null,
            "visibility": null,
            "width": null
          }
        },
        "a5aedadf5e844627ac5ad34bf4ae2fab": {
          "model_module": "@jupyter-widgets/base",
          "model_name": "LayoutModel",
          "model_module_version": "1.2.0",
          "state": {
            "_model_module": "@jupyter-widgets/base",
            "_model_module_version": "1.2.0",
            "_model_name": "LayoutModel",
            "_view_count": null,
            "_view_module": "@jupyter-widgets/base",
            "_view_module_version": "1.2.0",
            "_view_name": "LayoutView",
            "align_content": null,
            "align_items": null,
            "align_self": null,
            "border": null,
            "bottom": null,
            "display": null,
            "flex": null,
            "flex_flow": null,
            "grid_area": null,
            "grid_auto_columns": null,
            "grid_auto_flow": null,
            "grid_auto_rows": null,
            "grid_column": null,
            "grid_gap": null,
            "grid_row": null,
            "grid_template_areas": null,
            "grid_template_columns": null,
            "grid_template_rows": null,
            "height": null,
            "justify_content": null,
            "justify_items": null,
            "left": null,
            "margin": null,
            "max_height": null,
            "max_width": null,
            "min_height": null,
            "min_width": null,
            "object_fit": null,
            "object_position": null,
            "order": null,
            "overflow": null,
            "overflow_x": null,
            "overflow_y": null,
            "padding": null,
            "right": null,
            "top": null,
            "visibility": null,
            "width": null
          }
        },
        "5e273678d93f4b40b18f1ce10b02edee": {
          "model_module": "@jupyter-widgets/controls",
          "model_name": "DescriptionStyleModel",
          "model_module_version": "1.5.0",
          "state": {
            "_model_module": "@jupyter-widgets/controls",
            "_model_module_version": "1.5.0",
            "_model_name": "DescriptionStyleModel",
            "_view_count": null,
            "_view_module": "@jupyter-widgets/base",
            "_view_module_version": "1.2.0",
            "_view_name": "StyleView",
            "description_width": ""
          }
        },
        "a2b05a8765d7458a96ea47d79f25a177": {
          "model_module": "@jupyter-widgets/base",
          "model_name": "LayoutModel",
          "model_module_version": "1.2.0",
          "state": {
            "_model_module": "@jupyter-widgets/base",
            "_model_module_version": "1.2.0",
            "_model_name": "LayoutModel",
            "_view_count": null,
            "_view_module": "@jupyter-widgets/base",
            "_view_module_version": "1.2.0",
            "_view_name": "LayoutView",
            "align_content": null,
            "align_items": null,
            "align_self": null,
            "border": null,
            "bottom": null,
            "display": null,
            "flex": null,
            "flex_flow": null,
            "grid_area": null,
            "grid_auto_columns": null,
            "grid_auto_flow": null,
            "grid_auto_rows": null,
            "grid_column": null,
            "grid_gap": null,
            "grid_row": null,
            "grid_template_areas": null,
            "grid_template_columns": null,
            "grid_template_rows": null,
            "height": null,
            "justify_content": null,
            "justify_items": null,
            "left": null,
            "margin": null,
            "max_height": null,
            "max_width": null,
            "min_height": null,
            "min_width": null,
            "object_fit": null,
            "object_position": null,
            "order": null,
            "overflow": null,
            "overflow_x": null,
            "overflow_y": null,
            "padding": null,
            "right": null,
            "top": null,
            "visibility": null,
            "width": null
          }
        },
        "89ef040650c241c690bd21d70719ba30": {
          "model_module": "@jupyter-widgets/controls",
          "model_name": "ProgressStyleModel",
          "model_module_version": "1.5.0",
          "state": {
            "_model_module": "@jupyter-widgets/controls",
            "_model_module_version": "1.5.0",
            "_model_name": "ProgressStyleModel",
            "_view_count": null,
            "_view_module": "@jupyter-widgets/base",
            "_view_module_version": "1.2.0",
            "_view_name": "StyleView",
            "bar_color": null,
            "description_width": ""
          }
        },
        "6906a809786d4151a8a9e0502d2385bf": {
          "model_module": "@jupyter-widgets/base",
          "model_name": "LayoutModel",
          "model_module_version": "1.2.0",
          "state": {
            "_model_module": "@jupyter-widgets/base",
            "_model_module_version": "1.2.0",
            "_model_name": "LayoutModel",
            "_view_count": null,
            "_view_module": "@jupyter-widgets/base",
            "_view_module_version": "1.2.0",
            "_view_name": "LayoutView",
            "align_content": null,
            "align_items": null,
            "align_self": null,
            "border": null,
            "bottom": null,
            "display": null,
            "flex": null,
            "flex_flow": null,
            "grid_area": null,
            "grid_auto_columns": null,
            "grid_auto_flow": null,
            "grid_auto_rows": null,
            "grid_column": null,
            "grid_gap": null,
            "grid_row": null,
            "grid_template_areas": null,
            "grid_template_columns": null,
            "grid_template_rows": null,
            "height": null,
            "justify_content": null,
            "justify_items": null,
            "left": null,
            "margin": null,
            "max_height": null,
            "max_width": null,
            "min_height": null,
            "min_width": null,
            "object_fit": null,
            "object_position": null,
            "order": null,
            "overflow": null,
            "overflow_x": null,
            "overflow_y": null,
            "padding": null,
            "right": null,
            "top": null,
            "visibility": null,
            "width": null
          }
        },
        "140b9bedac9e4d9f933cf6a33baba0a3": {
          "model_module": "@jupyter-widgets/controls",
          "model_name": "DescriptionStyleModel",
          "model_module_version": "1.5.0",
          "state": {
            "_model_module": "@jupyter-widgets/controls",
            "_model_module_version": "1.5.0",
            "_model_name": "DescriptionStyleModel",
            "_view_count": null,
            "_view_module": "@jupyter-widgets/base",
            "_view_module_version": "1.2.0",
            "_view_name": "StyleView",
            "description_width": ""
          }
        },
        "a44b160893db4d10be290761d3d41c05": {
          "model_module": "@jupyter-widgets/controls",
          "model_name": "HBoxModel",
          "model_module_version": "1.5.0",
          "state": {
            "_dom_classes": [],
            "_model_module": "@jupyter-widgets/controls",
            "_model_module_version": "1.5.0",
            "_model_name": "HBoxModel",
            "_view_count": null,
            "_view_module": "@jupyter-widgets/controls",
            "_view_module_version": "1.5.0",
            "_view_name": "HBoxView",
            "box_style": "",
            "children": [
              "IPY_MODEL_e0777e939953431894b8a1cd87af0341",
              "IPY_MODEL_44a09c6526b245b9aa425d409e6945c6",
              "IPY_MODEL_3d51669d8f214aba8564c99c00d853fb"
            ],
            "layout": "IPY_MODEL_7f8cfa972b6f4768840d858bc977f19a"
          }
        },
        "e0777e939953431894b8a1cd87af0341": {
          "model_module": "@jupyter-widgets/controls",
          "model_name": "HTMLModel",
          "model_module_version": "1.5.0",
          "state": {
            "_dom_classes": [],
            "_model_module": "@jupyter-widgets/controls",
            "_model_module_version": "1.5.0",
            "_model_name": "HTMLModel",
            "_view_count": null,
            "_view_module": "@jupyter-widgets/controls",
            "_view_module_version": "1.5.0",
            "_view_name": "HTMLView",
            "description": "",
            "description_tooltip": null,
            "layout": "IPY_MODEL_b734c08a12544787b4c42b57408037c8",
            "placeholder": "​",
            "style": "IPY_MODEL_86543641292c4ef591b93f530b281f90",
            "value": "pytorch_model.bin: 100%"
          }
        },
        "44a09c6526b245b9aa425d409e6945c6": {
          "model_module": "@jupyter-widgets/controls",
          "model_name": "FloatProgressModel",
          "model_module_version": "1.5.0",
          "state": {
            "_dom_classes": [],
            "_model_module": "@jupyter-widgets/controls",
            "_model_module_version": "1.5.0",
            "_model_name": "FloatProgressModel",
            "_view_count": null,
            "_view_module": "@jupyter-widgets/controls",
            "_view_module_version": "1.5.0",
            "_view_name": "ProgressView",
            "bar_style": "success",
            "description": "",
            "description_tooltip": null,
            "layout": "IPY_MODEL_9881bf101c854c288b59f85337d32c34",
            "max": 711456784,
            "min": 0,
            "orientation": "horizontal",
            "style": "IPY_MODEL_daefc118b4ad474cb5bd981ceb153823",
            "value": 711456784
          }
        },
        "3d51669d8f214aba8564c99c00d853fb": {
          "model_module": "@jupyter-widgets/controls",
          "model_name": "HTMLModel",
          "model_module_version": "1.5.0",
          "state": {
            "_dom_classes": [],
            "_model_module": "@jupyter-widgets/controls",
            "_model_module_version": "1.5.0",
            "_model_name": "HTMLModel",
            "_view_count": null,
            "_view_module": "@jupyter-widgets/controls",
            "_view_module_version": "1.5.0",
            "_view_name": "HTMLView",
            "description": "",
            "description_tooltip": null,
            "layout": "IPY_MODEL_9b20844320074519aa285f622c5af5e9",
            "placeholder": "​",
            "style": "IPY_MODEL_797f870746f44f4d911b0dbeb6ec9a21",
            "value": " 711M/711M [00:01&lt;00:00, 394MB/s]"
          }
        },
        "7f8cfa972b6f4768840d858bc977f19a": {
          "model_module": "@jupyter-widgets/base",
          "model_name": "LayoutModel",
          "model_module_version": "1.2.0",
          "state": {
            "_model_module": "@jupyter-widgets/base",
            "_model_module_version": "1.2.0",
            "_model_name": "LayoutModel",
            "_view_count": null,
            "_view_module": "@jupyter-widgets/base",
            "_view_module_version": "1.2.0",
            "_view_name": "LayoutView",
            "align_content": null,
            "align_items": null,
            "align_self": null,
            "border": null,
            "bottom": null,
            "display": null,
            "flex": null,
            "flex_flow": null,
            "grid_area": null,
            "grid_auto_columns": null,
            "grid_auto_flow": null,
            "grid_auto_rows": null,
            "grid_column": null,
            "grid_gap": null,
            "grid_row": null,
            "grid_template_areas": null,
            "grid_template_columns": null,
            "grid_template_rows": null,
            "height": null,
            "justify_content": null,
            "justify_items": null,
            "left": null,
            "margin": null,
            "max_height": null,
            "max_width": null,
            "min_height": null,
            "min_width": null,
            "object_fit": null,
            "object_position": null,
            "order": null,
            "overflow": null,
            "overflow_x": null,
            "overflow_y": null,
            "padding": null,
            "right": null,
            "top": null,
            "visibility": null,
            "width": null
          }
        },
        "b734c08a12544787b4c42b57408037c8": {
          "model_module": "@jupyter-widgets/base",
          "model_name": "LayoutModel",
          "model_module_version": "1.2.0",
          "state": {
            "_model_module": "@jupyter-widgets/base",
            "_model_module_version": "1.2.0",
            "_model_name": "LayoutModel",
            "_view_count": null,
            "_view_module": "@jupyter-widgets/base",
            "_view_module_version": "1.2.0",
            "_view_name": "LayoutView",
            "align_content": null,
            "align_items": null,
            "align_self": null,
            "border": null,
            "bottom": null,
            "display": null,
            "flex": null,
            "flex_flow": null,
            "grid_area": null,
            "grid_auto_columns": null,
            "grid_auto_flow": null,
            "grid_auto_rows": null,
            "grid_column": null,
            "grid_gap": null,
            "grid_row": null,
            "grid_template_areas": null,
            "grid_template_columns": null,
            "grid_template_rows": null,
            "height": null,
            "justify_content": null,
            "justify_items": null,
            "left": null,
            "margin": null,
            "max_height": null,
            "max_width": null,
            "min_height": null,
            "min_width": null,
            "object_fit": null,
            "object_position": null,
            "order": null,
            "overflow": null,
            "overflow_x": null,
            "overflow_y": null,
            "padding": null,
            "right": null,
            "top": null,
            "visibility": null,
            "width": null
          }
        },
        "86543641292c4ef591b93f530b281f90": {
          "model_module": "@jupyter-widgets/controls",
          "model_name": "DescriptionStyleModel",
          "model_module_version": "1.5.0",
          "state": {
            "_model_module": "@jupyter-widgets/controls",
            "_model_module_version": "1.5.0",
            "_model_name": "DescriptionStyleModel",
            "_view_count": null,
            "_view_module": "@jupyter-widgets/base",
            "_view_module_version": "1.2.0",
            "_view_name": "StyleView",
            "description_width": ""
          }
        },
        "9881bf101c854c288b59f85337d32c34": {
          "model_module": "@jupyter-widgets/base",
          "model_name": "LayoutModel",
          "model_module_version": "1.2.0",
          "state": {
            "_model_module": "@jupyter-widgets/base",
            "_model_module_version": "1.2.0",
            "_model_name": "LayoutModel",
            "_view_count": null,
            "_view_module": "@jupyter-widgets/base",
            "_view_module_version": "1.2.0",
            "_view_name": "LayoutView",
            "align_content": null,
            "align_items": null,
            "align_self": null,
            "border": null,
            "bottom": null,
            "display": null,
            "flex": null,
            "flex_flow": null,
            "grid_area": null,
            "grid_auto_columns": null,
            "grid_auto_flow": null,
            "grid_auto_rows": null,
            "grid_column": null,
            "grid_gap": null,
            "grid_row": null,
            "grid_template_areas": null,
            "grid_template_columns": null,
            "grid_template_rows": null,
            "height": null,
            "justify_content": null,
            "justify_items": null,
            "left": null,
            "margin": null,
            "max_height": null,
            "max_width": null,
            "min_height": null,
            "min_width": null,
            "object_fit": null,
            "object_position": null,
            "order": null,
            "overflow": null,
            "overflow_x": null,
            "overflow_y": null,
            "padding": null,
            "right": null,
            "top": null,
            "visibility": null,
            "width": null
          }
        },
        "daefc118b4ad474cb5bd981ceb153823": {
          "model_module": "@jupyter-widgets/controls",
          "model_name": "ProgressStyleModel",
          "model_module_version": "1.5.0",
          "state": {
            "_model_module": "@jupyter-widgets/controls",
            "_model_module_version": "1.5.0",
            "_model_name": "ProgressStyleModel",
            "_view_count": null,
            "_view_module": "@jupyter-widgets/base",
            "_view_module_version": "1.2.0",
            "_view_name": "StyleView",
            "bar_color": null,
            "description_width": ""
          }
        },
        "9b20844320074519aa285f622c5af5e9": {
          "model_module": "@jupyter-widgets/base",
          "model_name": "LayoutModel",
          "model_module_version": "1.2.0",
          "state": {
            "_model_module": "@jupyter-widgets/base",
            "_model_module_version": "1.2.0",
            "_model_name": "LayoutModel",
            "_view_count": null,
            "_view_module": "@jupyter-widgets/base",
            "_view_module_version": "1.2.0",
            "_view_name": "LayoutView",
            "align_content": null,
            "align_items": null,
            "align_self": null,
            "border": null,
            "bottom": null,
            "display": null,
            "flex": null,
            "flex_flow": null,
            "grid_area": null,
            "grid_auto_columns": null,
            "grid_auto_flow": null,
            "grid_auto_rows": null,
            "grid_column": null,
            "grid_gap": null,
            "grid_row": null,
            "grid_template_areas": null,
            "grid_template_columns": null,
            "grid_template_rows": null,
            "height": null,
            "justify_content": null,
            "justify_items": null,
            "left": null,
            "margin": null,
            "max_height": null,
            "max_width": null,
            "min_height": null,
            "min_width": null,
            "object_fit": null,
            "object_position": null,
            "order": null,
            "overflow": null,
            "overflow_x": null,
            "overflow_y": null,
            "padding": null,
            "right": null,
            "top": null,
            "visibility": null,
            "width": null
          }
        },
        "797f870746f44f4d911b0dbeb6ec9a21": {
          "model_module": "@jupyter-widgets/controls",
          "model_name": "DescriptionStyleModel",
          "model_module_version": "1.5.0",
          "state": {
            "_model_module": "@jupyter-widgets/controls",
            "_model_module_version": "1.5.0",
            "_model_name": "DescriptionStyleModel",
            "_view_count": null,
            "_view_module": "@jupyter-widgets/base",
            "_view_module_version": "1.2.0",
            "_view_name": "StyleView",
            "description_width": ""
          }
        },
        "17780a30efd74a3ab47a7a56fb649a4a": {
          "model_module": "@jupyter-widgets/controls",
          "model_name": "HBoxModel",
          "model_module_version": "1.5.0",
          "state": {
            "_dom_classes": [],
            "_model_module": "@jupyter-widgets/controls",
            "_model_module_version": "1.5.0",
            "_model_name": "HBoxModel",
            "_view_count": null,
            "_view_module": "@jupyter-widgets/controls",
            "_view_module_version": "1.5.0",
            "_view_name": "HBoxView",
            "box_style": "",
            "children": [
              "IPY_MODEL_c411a1c1024544a0b9a68abd829f5287",
              "IPY_MODEL_a67df6f2051e464ca81e49777b441497",
              "IPY_MODEL_5002ea1dc85147a0a10c83cb96a5bf01"
            ],
            "layout": "IPY_MODEL_030106c18e664b59b1cbad778c8b2fcd"
          }
        },
        "c411a1c1024544a0b9a68abd829f5287": {
          "model_module": "@jupyter-widgets/controls",
          "model_name": "HTMLModel",
          "model_module_version": "1.5.0",
          "state": {
            "_dom_classes": [],
            "_model_module": "@jupyter-widgets/controls",
            "_model_module_version": "1.5.0",
            "_model_name": "HTMLModel",
            "_view_count": null,
            "_view_module": "@jupyter-widgets/controls",
            "_view_module_version": "1.5.0",
            "_view_name": "HTMLView",
            "description": "",
            "description_tooltip": null,
            "layout": "IPY_MODEL_932a4ccd8cd342769479406f387e0101",
            "placeholder": "​",
            "style": "IPY_MODEL_58faa34ec31f4b64abc973a19337e12d",
            "value": "tokenizer_config.json: 100%"
          }
        },
        "a67df6f2051e464ca81e49777b441497": {
          "model_module": "@jupyter-widgets/controls",
          "model_name": "FloatProgressModel",
          "model_module_version": "1.5.0",
          "state": {
            "_dom_classes": [],
            "_model_module": "@jupyter-widgets/controls",
            "_model_module_version": "1.5.0",
            "_model_name": "FloatProgressModel",
            "_view_count": null,
            "_view_module": "@jupyter-widgets/controls",
            "_view_module_version": "1.5.0",
            "_view_name": "ProgressView",
            "bar_style": "success",
            "description": "",
            "description_tooltip": null,
            "layout": "IPY_MODEL_889e6334c3ff493896b521cd8c07f99d",
            "max": 24,
            "min": 0,
            "orientation": "horizontal",
            "style": "IPY_MODEL_5dc15f974eb34b20b28b003a5b02cfca",
            "value": 24
          }
        },
        "5002ea1dc85147a0a10c83cb96a5bf01": {
          "model_module": "@jupyter-widgets/controls",
          "model_name": "HTMLModel",
          "model_module_version": "1.5.0",
          "state": {
            "_dom_classes": [],
            "_model_module": "@jupyter-widgets/controls",
            "_model_module_version": "1.5.0",
            "_model_name": "HTMLModel",
            "_view_count": null,
            "_view_module": "@jupyter-widgets/controls",
            "_view_module_version": "1.5.0",
            "_view_name": "HTMLView",
            "description": "",
            "description_tooltip": null,
            "layout": "IPY_MODEL_3037d53a57674c92bfe7077d60e1c998",
            "placeholder": "​",
            "style": "IPY_MODEL_0579311e7bb0458c9037931e1ac58946",
            "value": " 24.0/24.0 [00:00&lt;00:00, 1.96kB/s]"
          }
        },
        "030106c18e664b59b1cbad778c8b2fcd": {
          "model_module": "@jupyter-widgets/base",
          "model_name": "LayoutModel",
          "model_module_version": "1.2.0",
          "state": {
            "_model_module": "@jupyter-widgets/base",
            "_model_module_version": "1.2.0",
            "_model_name": "LayoutModel",
            "_view_count": null,
            "_view_module": "@jupyter-widgets/base",
            "_view_module_version": "1.2.0",
            "_view_name": "LayoutView",
            "align_content": null,
            "align_items": null,
            "align_self": null,
            "border": null,
            "bottom": null,
            "display": null,
            "flex": null,
            "flex_flow": null,
            "grid_area": null,
            "grid_auto_columns": null,
            "grid_auto_flow": null,
            "grid_auto_rows": null,
            "grid_column": null,
            "grid_gap": null,
            "grid_row": null,
            "grid_template_areas": null,
            "grid_template_columns": null,
            "grid_template_rows": null,
            "height": null,
            "justify_content": null,
            "justify_items": null,
            "left": null,
            "margin": null,
            "max_height": null,
            "max_width": null,
            "min_height": null,
            "min_width": null,
            "object_fit": null,
            "object_position": null,
            "order": null,
            "overflow": null,
            "overflow_x": null,
            "overflow_y": null,
            "padding": null,
            "right": null,
            "top": null,
            "visibility": null,
            "width": null
          }
        },
        "932a4ccd8cd342769479406f387e0101": {
          "model_module": "@jupyter-widgets/base",
          "model_name": "LayoutModel",
          "model_module_version": "1.2.0",
          "state": {
            "_model_module": "@jupyter-widgets/base",
            "_model_module_version": "1.2.0",
            "_model_name": "LayoutModel",
            "_view_count": null,
            "_view_module": "@jupyter-widgets/base",
            "_view_module_version": "1.2.0",
            "_view_name": "LayoutView",
            "align_content": null,
            "align_items": null,
            "align_self": null,
            "border": null,
            "bottom": null,
            "display": null,
            "flex": null,
            "flex_flow": null,
            "grid_area": null,
            "grid_auto_columns": null,
            "grid_auto_flow": null,
            "grid_auto_rows": null,
            "grid_column": null,
            "grid_gap": null,
            "grid_row": null,
            "grid_template_areas": null,
            "grid_template_columns": null,
            "grid_template_rows": null,
            "height": null,
            "justify_content": null,
            "justify_items": null,
            "left": null,
            "margin": null,
            "max_height": null,
            "max_width": null,
            "min_height": null,
            "min_width": null,
            "object_fit": null,
            "object_position": null,
            "order": null,
            "overflow": null,
            "overflow_x": null,
            "overflow_y": null,
            "padding": null,
            "right": null,
            "top": null,
            "visibility": null,
            "width": null
          }
        },
        "58faa34ec31f4b64abc973a19337e12d": {
          "model_module": "@jupyter-widgets/controls",
          "model_name": "DescriptionStyleModel",
          "model_module_version": "1.5.0",
          "state": {
            "_model_module": "@jupyter-widgets/controls",
            "_model_module_version": "1.5.0",
            "_model_name": "DescriptionStyleModel",
            "_view_count": null,
            "_view_module": "@jupyter-widgets/base",
            "_view_module_version": "1.2.0",
            "_view_name": "StyleView",
            "description_width": ""
          }
        },
        "889e6334c3ff493896b521cd8c07f99d": {
          "model_module": "@jupyter-widgets/base",
          "model_name": "LayoutModel",
          "model_module_version": "1.2.0",
          "state": {
            "_model_module": "@jupyter-widgets/base",
            "_model_module_version": "1.2.0",
            "_model_name": "LayoutModel",
            "_view_count": null,
            "_view_module": "@jupyter-widgets/base",
            "_view_module_version": "1.2.0",
            "_view_name": "LayoutView",
            "align_content": null,
            "align_items": null,
            "align_self": null,
            "border": null,
            "bottom": null,
            "display": null,
            "flex": null,
            "flex_flow": null,
            "grid_area": null,
            "grid_auto_columns": null,
            "grid_auto_flow": null,
            "grid_auto_rows": null,
            "grid_column": null,
            "grid_gap": null,
            "grid_row": null,
            "grid_template_areas": null,
            "grid_template_columns": null,
            "grid_template_rows": null,
            "height": null,
            "justify_content": null,
            "justify_items": null,
            "left": null,
            "margin": null,
            "max_height": null,
            "max_width": null,
            "min_height": null,
            "min_width": null,
            "object_fit": null,
            "object_position": null,
            "order": null,
            "overflow": null,
            "overflow_x": null,
            "overflow_y": null,
            "padding": null,
            "right": null,
            "top": null,
            "visibility": null,
            "width": null
          }
        },
        "5dc15f974eb34b20b28b003a5b02cfca": {
          "model_module": "@jupyter-widgets/controls",
          "model_name": "ProgressStyleModel",
          "model_module_version": "1.5.0",
          "state": {
            "_model_module": "@jupyter-widgets/controls",
            "_model_module_version": "1.5.0",
            "_model_name": "ProgressStyleModel",
            "_view_count": null,
            "_view_module": "@jupyter-widgets/base",
            "_view_module_version": "1.2.0",
            "_view_name": "StyleView",
            "bar_color": null,
            "description_width": ""
          }
        },
        "3037d53a57674c92bfe7077d60e1c998": {
          "model_module": "@jupyter-widgets/base",
          "model_name": "LayoutModel",
          "model_module_version": "1.2.0",
          "state": {
            "_model_module": "@jupyter-widgets/base",
            "_model_module_version": "1.2.0",
            "_model_name": "LayoutModel",
            "_view_count": null,
            "_view_module": "@jupyter-widgets/base",
            "_view_module_version": "1.2.0",
            "_view_name": "LayoutView",
            "align_content": null,
            "align_items": null,
            "align_self": null,
            "border": null,
            "bottom": null,
            "display": null,
            "flex": null,
            "flex_flow": null,
            "grid_area": null,
            "grid_auto_columns": null,
            "grid_auto_flow": null,
            "grid_auto_rows": null,
            "grid_column": null,
            "grid_gap": null,
            "grid_row": null,
            "grid_template_areas": null,
            "grid_template_columns": null,
            "grid_template_rows": null,
            "height": null,
            "justify_content": null,
            "justify_items": null,
            "left": null,
            "margin": null,
            "max_height": null,
            "max_width": null,
            "min_height": null,
            "min_width": null,
            "object_fit": null,
            "object_position": null,
            "order": null,
            "overflow": null,
            "overflow_x": null,
            "overflow_y": null,
            "padding": null,
            "right": null,
            "top": null,
            "visibility": null,
            "width": null
          }
        },
        "0579311e7bb0458c9037931e1ac58946": {
          "model_module": "@jupyter-widgets/controls",
          "model_name": "DescriptionStyleModel",
          "model_module_version": "1.5.0",
          "state": {
            "_model_module": "@jupyter-widgets/controls",
            "_model_module_version": "1.5.0",
            "_model_name": "DescriptionStyleModel",
            "_view_count": null,
            "_view_module": "@jupyter-widgets/base",
            "_view_module_version": "1.2.0",
            "_view_name": "StyleView",
            "description_width": ""
          }
        },
        "dffb15193ebd4a91959ce3c6b13937fa": {
          "model_module": "@jupyter-widgets/controls",
          "model_name": "HBoxModel",
          "model_module_version": "1.5.0",
          "state": {
            "_dom_classes": [],
            "_model_module": "@jupyter-widgets/controls",
            "_model_module_version": "1.5.0",
            "_model_name": "HBoxModel",
            "_view_count": null,
            "_view_module": "@jupyter-widgets/controls",
            "_view_module_version": "1.5.0",
            "_view_name": "HBoxView",
            "box_style": "",
            "children": [
              "IPY_MODEL_e4f411c13c734c23b96525cc3533777f",
              "IPY_MODEL_1bd834c6154f450c9aff05b4c2686888",
              "IPY_MODEL_9e24ab008ddf43b99aab4752968d0856"
            ],
            "layout": "IPY_MODEL_ae0ad328f7314938b600226dc46f5bb2"
          }
        },
        "e4f411c13c734c23b96525cc3533777f": {
          "model_module": "@jupyter-widgets/controls",
          "model_name": "HTMLModel",
          "model_module_version": "1.5.0",
          "state": {
            "_dom_classes": [],
            "_model_module": "@jupyter-widgets/controls",
            "_model_module_version": "1.5.0",
            "_model_name": "HTMLModel",
            "_view_count": null,
            "_view_module": "@jupyter-widgets/controls",
            "_view_module_version": "1.5.0",
            "_view_name": "HTMLView",
            "description": "",
            "description_tooltip": null,
            "layout": "IPY_MODEL_127d9773ddd747679c332ce8cf9f9e4f",
            "placeholder": "​",
            "style": "IPY_MODEL_d9c24a6e9a5a434f8b9f6a4d37d0b517",
            "value": "vocab.txt: 100%"
          }
        },
        "1bd834c6154f450c9aff05b4c2686888": {
          "model_module": "@jupyter-widgets/controls",
          "model_name": "FloatProgressModel",
          "model_module_version": "1.5.0",
          "state": {
            "_dom_classes": [],
            "_model_module": "@jupyter-widgets/controls",
            "_model_module_version": "1.5.0",
            "_model_name": "FloatProgressModel",
            "_view_count": null,
            "_view_module": "@jupyter-widgets/controls",
            "_view_module_version": "1.5.0",
            "_view_name": "ProgressView",
            "bar_style": "success",
            "description": "",
            "description_tooltip": null,
            "layout": "IPY_MODEL_24020b096aaf424a84740a49b50784b7",
            "max": 1649718,
            "min": 0,
            "orientation": "horizontal",
            "style": "IPY_MODEL_454f314dae54450293a877da52b9efd8",
            "value": 1649718
          }
        },
        "9e24ab008ddf43b99aab4752968d0856": {
          "model_module": "@jupyter-widgets/controls",
          "model_name": "HTMLModel",
          "model_module_version": "1.5.0",
          "state": {
            "_dom_classes": [],
            "_model_module": "@jupyter-widgets/controls",
            "_model_module_version": "1.5.0",
            "_model_name": "HTMLModel",
            "_view_count": null,
            "_view_module": "@jupyter-widgets/controls",
            "_view_module_version": "1.5.0",
            "_view_name": "HTMLView",
            "description": "",
            "description_tooltip": null,
            "layout": "IPY_MODEL_9e70e32eab994714b7cb27acba0ce48a",
            "placeholder": "​",
            "style": "IPY_MODEL_212ce95b0e7d409fb3ff592ce1458a30",
            "value": " 1.65M/1.65M [00:00&lt;00:00, 5.04MB/s]"
          }
        },
        "ae0ad328f7314938b600226dc46f5bb2": {
          "model_module": "@jupyter-widgets/base",
          "model_name": "LayoutModel",
          "model_module_version": "1.2.0",
          "state": {
            "_model_module": "@jupyter-widgets/base",
            "_model_module_version": "1.2.0",
            "_model_name": "LayoutModel",
            "_view_count": null,
            "_view_module": "@jupyter-widgets/base",
            "_view_module_version": "1.2.0",
            "_view_name": "LayoutView",
            "align_content": null,
            "align_items": null,
            "align_self": null,
            "border": null,
            "bottom": null,
            "display": null,
            "flex": null,
            "flex_flow": null,
            "grid_area": null,
            "grid_auto_columns": null,
            "grid_auto_flow": null,
            "grid_auto_rows": null,
            "grid_column": null,
            "grid_gap": null,
            "grid_row": null,
            "grid_template_areas": null,
            "grid_template_columns": null,
            "grid_template_rows": null,
            "height": null,
            "justify_content": null,
            "justify_items": null,
            "left": null,
            "margin": null,
            "max_height": null,
            "max_width": null,
            "min_height": null,
            "min_width": null,
            "object_fit": null,
            "object_position": null,
            "order": null,
            "overflow": null,
            "overflow_x": null,
            "overflow_y": null,
            "padding": null,
            "right": null,
            "top": null,
            "visibility": null,
            "width": null
          }
        },
        "127d9773ddd747679c332ce8cf9f9e4f": {
          "model_module": "@jupyter-widgets/base",
          "model_name": "LayoutModel",
          "model_module_version": "1.2.0",
          "state": {
            "_model_module": "@jupyter-widgets/base",
            "_model_module_version": "1.2.0",
            "_model_name": "LayoutModel",
            "_view_count": null,
            "_view_module": "@jupyter-widgets/base",
            "_view_module_version": "1.2.0",
            "_view_name": "LayoutView",
            "align_content": null,
            "align_items": null,
            "align_self": null,
            "border": null,
            "bottom": null,
            "display": null,
            "flex": null,
            "flex_flow": null,
            "grid_area": null,
            "grid_auto_columns": null,
            "grid_auto_flow": null,
            "grid_auto_rows": null,
            "grid_column": null,
            "grid_gap": null,
            "grid_row": null,
            "grid_template_areas": null,
            "grid_template_columns": null,
            "grid_template_rows": null,
            "height": null,
            "justify_content": null,
            "justify_items": null,
            "left": null,
            "margin": null,
            "max_height": null,
            "max_width": null,
            "min_height": null,
            "min_width": null,
            "object_fit": null,
            "object_position": null,
            "order": null,
            "overflow": null,
            "overflow_x": null,
            "overflow_y": null,
            "padding": null,
            "right": null,
            "top": null,
            "visibility": null,
            "width": null
          }
        },
        "d9c24a6e9a5a434f8b9f6a4d37d0b517": {
          "model_module": "@jupyter-widgets/controls",
          "model_name": "DescriptionStyleModel",
          "model_module_version": "1.5.0",
          "state": {
            "_model_module": "@jupyter-widgets/controls",
            "_model_module_version": "1.5.0",
            "_model_name": "DescriptionStyleModel",
            "_view_count": null,
            "_view_module": "@jupyter-widgets/base",
            "_view_module_version": "1.2.0",
            "_view_name": "StyleView",
            "description_width": ""
          }
        },
        "24020b096aaf424a84740a49b50784b7": {
          "model_module": "@jupyter-widgets/base",
          "model_name": "LayoutModel",
          "model_module_version": "1.2.0",
          "state": {
            "_model_module": "@jupyter-widgets/base",
            "_model_module_version": "1.2.0",
            "_model_name": "LayoutModel",
            "_view_count": null,
            "_view_module": "@jupyter-widgets/base",
            "_view_module_version": "1.2.0",
            "_view_name": "LayoutView",
            "align_content": null,
            "align_items": null,
            "align_self": null,
            "border": null,
            "bottom": null,
            "display": null,
            "flex": null,
            "flex_flow": null,
            "grid_area": null,
            "grid_auto_columns": null,
            "grid_auto_flow": null,
            "grid_auto_rows": null,
            "grid_column": null,
            "grid_gap": null,
            "grid_row": null,
            "grid_template_areas": null,
            "grid_template_columns": null,
            "grid_template_rows": null,
            "height": null,
            "justify_content": null,
            "justify_items": null,
            "left": null,
            "margin": null,
            "max_height": null,
            "max_width": null,
            "min_height": null,
            "min_width": null,
            "object_fit": null,
            "object_position": null,
            "order": null,
            "overflow": null,
            "overflow_x": null,
            "overflow_y": null,
            "padding": null,
            "right": null,
            "top": null,
            "visibility": null,
            "width": null
          }
        },
        "454f314dae54450293a877da52b9efd8": {
          "model_module": "@jupyter-widgets/controls",
          "model_name": "ProgressStyleModel",
          "model_module_version": "1.5.0",
          "state": {
            "_model_module": "@jupyter-widgets/controls",
            "_model_module_version": "1.5.0",
            "_model_name": "ProgressStyleModel",
            "_view_count": null,
            "_view_module": "@jupyter-widgets/base",
            "_view_module_version": "1.2.0",
            "_view_name": "StyleView",
            "bar_color": null,
            "description_width": ""
          }
        },
        "9e70e32eab994714b7cb27acba0ce48a": {
          "model_module": "@jupyter-widgets/base",
          "model_name": "LayoutModel",
          "model_module_version": "1.2.0",
          "state": {
            "_model_module": "@jupyter-widgets/base",
            "_model_module_version": "1.2.0",
            "_model_name": "LayoutModel",
            "_view_count": null,
            "_view_module": "@jupyter-widgets/base",
            "_view_module_version": "1.2.0",
            "_view_name": "LayoutView",
            "align_content": null,
            "align_items": null,
            "align_self": null,
            "border": null,
            "bottom": null,
            "display": null,
            "flex": null,
            "flex_flow": null,
            "grid_area": null,
            "grid_auto_columns": null,
            "grid_auto_flow": null,
            "grid_auto_rows": null,
            "grid_column": null,
            "grid_gap": null,
            "grid_row": null,
            "grid_template_areas": null,
            "grid_template_columns": null,
            "grid_template_rows": null,
            "height": null,
            "justify_content": null,
            "justify_items": null,
            "left": null,
            "margin": null,
            "max_height": null,
            "max_width": null,
            "min_height": null,
            "min_width": null,
            "object_fit": null,
            "object_position": null,
            "order": null,
            "overflow": null,
            "overflow_x": null,
            "overflow_y": null,
            "padding": null,
            "right": null,
            "top": null,
            "visibility": null,
            "width": null
          }
        },
        "212ce95b0e7d409fb3ff592ce1458a30": {
          "model_module": "@jupyter-widgets/controls",
          "model_name": "DescriptionStyleModel",
          "model_module_version": "1.5.0",
          "state": {
            "_model_module": "@jupyter-widgets/controls",
            "_model_module_version": "1.5.0",
            "_model_name": "DescriptionStyleModel",
            "_view_count": null,
            "_view_module": "@jupyter-widgets/base",
            "_view_module_version": "1.2.0",
            "_view_name": "StyleView",
            "description_width": ""
          }
        },
        "c5d1a71da0934c969afb3464aa77c517": {
          "model_module": "@jupyter-widgets/controls",
          "model_name": "HBoxModel",
          "model_module_version": "1.5.0",
          "state": {
            "_dom_classes": [],
            "_model_module": "@jupyter-widgets/controls",
            "_model_module_version": "1.5.0",
            "_model_name": "HBoxModel",
            "_view_count": null,
            "_view_module": "@jupyter-widgets/controls",
            "_view_module_version": "1.5.0",
            "_view_name": "HBoxView",
            "box_style": "",
            "children": [
              "IPY_MODEL_5d6656a318e94c74958107b8cd2034b5",
              "IPY_MODEL_97c50fece0bc4af8a21f076bcec6f8cc",
              "IPY_MODEL_0da6254008c1466e8dd5c5abd14227d9"
            ],
            "layout": "IPY_MODEL_6e47bf6ef3934ae98a057e1f7141f45c"
          }
        },
        "5d6656a318e94c74958107b8cd2034b5": {
          "model_module": "@jupyter-widgets/controls",
          "model_name": "HTMLModel",
          "model_module_version": "1.5.0",
          "state": {
            "_dom_classes": [],
            "_model_module": "@jupyter-widgets/controls",
            "_model_module_version": "1.5.0",
            "_model_name": "HTMLModel",
            "_view_count": null,
            "_view_module": "@jupyter-widgets/controls",
            "_view_module_version": "1.5.0",
            "_view_name": "HTMLView",
            "description": "",
            "description_tooltip": null,
            "layout": "IPY_MODEL_02fc37097a844aeb8e9bd0504f0022fa",
            "placeholder": "​",
            "style": "IPY_MODEL_71251159ee474bbb8f4677d2d897d728",
            "value": "special_tokens_map.json: 100%"
          }
        },
        "97c50fece0bc4af8a21f076bcec6f8cc": {
          "model_module": "@jupyter-widgets/controls",
          "model_name": "FloatProgressModel",
          "model_module_version": "1.5.0",
          "state": {
            "_dom_classes": [],
            "_model_module": "@jupyter-widgets/controls",
            "_model_module_version": "1.5.0",
            "_model_name": "FloatProgressModel",
            "_view_count": null,
            "_view_module": "@jupyter-widgets/controls",
            "_view_module_version": "1.5.0",
            "_view_name": "ProgressView",
            "bar_style": "success",
            "description": "",
            "description_tooltip": null,
            "layout": "IPY_MODEL_b80ec90a0c00475582eecb7e98ce6021",
            "max": 112,
            "min": 0,
            "orientation": "horizontal",
            "style": "IPY_MODEL_070c022f49c348ba9d528c354fecac71",
            "value": 112
          }
        },
        "0da6254008c1466e8dd5c5abd14227d9": {
          "model_module": "@jupyter-widgets/controls",
          "model_name": "HTMLModel",
          "model_module_version": "1.5.0",
          "state": {
            "_dom_classes": [],
            "_model_module": "@jupyter-widgets/controls",
            "_model_module_version": "1.5.0",
            "_model_name": "HTMLModel",
            "_view_count": null,
            "_view_module": "@jupyter-widgets/controls",
            "_view_module_version": "1.5.0",
            "_view_name": "HTMLView",
            "description": "",
            "description_tooltip": null,
            "layout": "IPY_MODEL_bb658670ecfb4c1aa2e8d2206ed0f493",
            "placeholder": "​",
            "style": "IPY_MODEL_10a1a35c6ec64ca9a104e0b7a4281b41",
            "value": " 112/112 [00:00&lt;00:00, 8.32kB/s]"
          }
        },
        "6e47bf6ef3934ae98a057e1f7141f45c": {
          "model_module": "@jupyter-widgets/base",
          "model_name": "LayoutModel",
          "model_module_version": "1.2.0",
          "state": {
            "_model_module": "@jupyter-widgets/base",
            "_model_module_version": "1.2.0",
            "_model_name": "LayoutModel",
            "_view_count": null,
            "_view_module": "@jupyter-widgets/base",
            "_view_module_version": "1.2.0",
            "_view_name": "LayoutView",
            "align_content": null,
            "align_items": null,
            "align_self": null,
            "border": null,
            "bottom": null,
            "display": null,
            "flex": null,
            "flex_flow": null,
            "grid_area": null,
            "grid_auto_columns": null,
            "grid_auto_flow": null,
            "grid_auto_rows": null,
            "grid_column": null,
            "grid_gap": null,
            "grid_row": null,
            "grid_template_areas": null,
            "grid_template_columns": null,
            "grid_template_rows": null,
            "height": null,
            "justify_content": null,
            "justify_items": null,
            "left": null,
            "margin": null,
            "max_height": null,
            "max_width": null,
            "min_height": null,
            "min_width": null,
            "object_fit": null,
            "object_position": null,
            "order": null,
            "overflow": null,
            "overflow_x": null,
            "overflow_y": null,
            "padding": null,
            "right": null,
            "top": null,
            "visibility": null,
            "width": null
          }
        },
        "02fc37097a844aeb8e9bd0504f0022fa": {
          "model_module": "@jupyter-widgets/base",
          "model_name": "LayoutModel",
          "model_module_version": "1.2.0",
          "state": {
            "_model_module": "@jupyter-widgets/base",
            "_model_module_version": "1.2.0",
            "_model_name": "LayoutModel",
            "_view_count": null,
            "_view_module": "@jupyter-widgets/base",
            "_view_module_version": "1.2.0",
            "_view_name": "LayoutView",
            "align_content": null,
            "align_items": null,
            "align_self": null,
            "border": null,
            "bottom": null,
            "display": null,
            "flex": null,
            "flex_flow": null,
            "grid_area": null,
            "grid_auto_columns": null,
            "grid_auto_flow": null,
            "grid_auto_rows": null,
            "grid_column": null,
            "grid_gap": null,
            "grid_row": null,
            "grid_template_areas": null,
            "grid_template_columns": null,
            "grid_template_rows": null,
            "height": null,
            "justify_content": null,
            "justify_items": null,
            "left": null,
            "margin": null,
            "max_height": null,
            "max_width": null,
            "min_height": null,
            "min_width": null,
            "object_fit": null,
            "object_position": null,
            "order": null,
            "overflow": null,
            "overflow_x": null,
            "overflow_y": null,
            "padding": null,
            "right": null,
            "top": null,
            "visibility": null,
            "width": null
          }
        },
        "71251159ee474bbb8f4677d2d897d728": {
          "model_module": "@jupyter-widgets/controls",
          "model_name": "DescriptionStyleModel",
          "model_module_version": "1.5.0",
          "state": {
            "_model_module": "@jupyter-widgets/controls",
            "_model_module_version": "1.5.0",
            "_model_name": "DescriptionStyleModel",
            "_view_count": null,
            "_view_module": "@jupyter-widgets/base",
            "_view_module_version": "1.2.0",
            "_view_name": "StyleView",
            "description_width": ""
          }
        },
        "b80ec90a0c00475582eecb7e98ce6021": {
          "model_module": "@jupyter-widgets/base",
          "model_name": "LayoutModel",
          "model_module_version": "1.2.0",
          "state": {
            "_model_module": "@jupyter-widgets/base",
            "_model_module_version": "1.2.0",
            "_model_name": "LayoutModel",
            "_view_count": null,
            "_view_module": "@jupyter-widgets/base",
            "_view_module_version": "1.2.0",
            "_view_name": "LayoutView",
            "align_content": null,
            "align_items": null,
            "align_self": null,
            "border": null,
            "bottom": null,
            "display": null,
            "flex": null,
            "flex_flow": null,
            "grid_area": null,
            "grid_auto_columns": null,
            "grid_auto_flow": null,
            "grid_auto_rows": null,
            "grid_column": null,
            "grid_gap": null,
            "grid_row": null,
            "grid_template_areas": null,
            "grid_template_columns": null,
            "grid_template_rows": null,
            "height": null,
            "justify_content": null,
            "justify_items": null,
            "left": null,
            "margin": null,
            "max_height": null,
            "max_width": null,
            "min_height": null,
            "min_width": null,
            "object_fit": null,
            "object_position": null,
            "order": null,
            "overflow": null,
            "overflow_x": null,
            "overflow_y": null,
            "padding": null,
            "right": null,
            "top": null,
            "visibility": null,
            "width": null
          }
        },
        "070c022f49c348ba9d528c354fecac71": {
          "model_module": "@jupyter-widgets/controls",
          "model_name": "ProgressStyleModel",
          "model_module_version": "1.5.0",
          "state": {
            "_model_module": "@jupyter-widgets/controls",
            "_model_module_version": "1.5.0",
            "_model_name": "ProgressStyleModel",
            "_view_count": null,
            "_view_module": "@jupyter-widgets/base",
            "_view_module_version": "1.2.0",
            "_view_name": "StyleView",
            "bar_color": null,
            "description_width": ""
          }
        },
        "bb658670ecfb4c1aa2e8d2206ed0f493": {
          "model_module": "@jupyter-widgets/base",
          "model_name": "LayoutModel",
          "model_module_version": "1.2.0",
          "state": {
            "_model_module": "@jupyter-widgets/base",
            "_model_module_version": "1.2.0",
            "_model_name": "LayoutModel",
            "_view_count": null,
            "_view_module": "@jupyter-widgets/base",
            "_view_module_version": "1.2.0",
            "_view_name": "LayoutView",
            "align_content": null,
            "align_items": null,
            "align_self": null,
            "border": null,
            "bottom": null,
            "display": null,
            "flex": null,
            "flex_flow": null,
            "grid_area": null,
            "grid_auto_columns": null,
            "grid_auto_flow": null,
            "grid_auto_rows": null,
            "grid_column": null,
            "grid_gap": null,
            "grid_row": null,
            "grid_template_areas": null,
            "grid_template_columns": null,
            "grid_template_rows": null,
            "height": null,
            "justify_content": null,
            "justify_items": null,
            "left": null,
            "margin": null,
            "max_height": null,
            "max_width": null,
            "min_height": null,
            "min_width": null,
            "object_fit": null,
            "object_position": null,
            "order": null,
            "overflow": null,
            "overflow_x": null,
            "overflow_y": null,
            "padding": null,
            "right": null,
            "top": null,
            "visibility": null,
            "width": null
          }
        },
        "10a1a35c6ec64ca9a104e0b7a4281b41": {
          "model_module": "@jupyter-widgets/controls",
          "model_name": "DescriptionStyleModel",
          "model_module_version": "1.5.0",
          "state": {
            "_model_module": "@jupyter-widgets/controls",
            "_model_module_version": "1.5.0",
            "_model_name": "DescriptionStyleModel",
            "_view_count": null,
            "_view_module": "@jupyter-widgets/base",
            "_view_module_version": "1.2.0",
            "_view_name": "StyleView",
            "description_width": ""
          }
        }
      }
    },
    "accelerator": "GPU"
  },
  "cells": [
    {
      "cell_type": "markdown",
      "source": [
        "# Импорты"
      ],
      "metadata": {
        "id": "DBXUa2FB2BHF"
      }
    },
    {
      "cell_type": "code",
      "source": [
        "# # common_path = '/content/drive/MyDrive/Colab Notebooks/punctuation_23_10_11/debug_data'\n",
        "# # common_save_path = '/content/drive/MyDrive/Colab Notebooks/punctuation_23_10_11/'\n",
        "\n",
        "# common_path = '/content/drive/MyDrive/Colab Notebooks/punctuation_23_10_11/datasets/ready-to-use'\n",
        "# common_save_path = common_path\n",
        "\n",
        "common_path = '/content/drive/MyDrive/Data_punct/Datasets'\n",
        "common_save_path = common_path"
      ],
      "metadata": {
        "id": "_0hIL2TdqJjl"
      },
      "execution_count": null,
      "outputs": []
    },
    {
      "cell_type": "code",
      "source": [
        "from google.colab import drive\n",
        "drive.mount('/content/drive')"
      ],
      "metadata": {
        "id": "ds9VcR_eqbbx",
        "colab": {
          "base_uri": "https://localhost:8080/"
        },
        "outputId": "b84afa10-04fe-4956-e39d-a6fc15ba0087"
      },
      "execution_count": null,
      "outputs": [
        {
          "output_type": "stream",
          "name": "stdout",
          "text": [
            "Mounted at /content/drive\n"
          ]
        }
      ]
    },
    {
      "cell_type": "code",
      "execution_count": null,
      "metadata": {
        "id": "GrEhB59uJJXY"
      },
      "outputs": [],
      "source": [
        "!pip install transformers\n",
        "!pip install labml\n",
        "\n",
        "from contextlib import ExitStack\n",
        "from pathlib import Path\n",
        "from typing import Tuple\n",
        "\n",
        "import numpy as np\n",
        "import torch\n",
        "import torch.multiprocessing\n",
        "import torch.nn as nn\n",
        "import argparse\n",
        "from labml import experiment, tracker\n",
        "from numpy import ndarray\n",
        "from torch.utils.data import DataLoader\n",
        "from tqdm import tqdm\n",
        "import os\n",
        "from pathlib import Path\n",
        "from typing import Dict, List, Optional, Tuple, TypedDict, Union\n",
        "from torch import Tensor\n",
        "from transformers import PreTrainedModel\n",
        "from transformers import PreTrainedTokenizer\n",
        "from transformers import AutoModel, AutoTokenizer\n",
        "from transformers import AutoModel, AutoTokenizer\n",
        "\n",
        "\n",
        "from google.colab import drive\n",
        "import sys\n",
        "from IPython.display import clear_output\n",
        "\n",
        "clear_output()"
      ]
    },
    {
      "cell_type": "code",
      "source": [
        "# https://github.com/pytorch/pytorch/issues/11201\n",
        "torch.multiprocessing.set_sharing_strategy('file_system')\n",
        "\n",
        "# for reproducibility\n",
        "seed = 42\n",
        "torch.manual_seed(seed)\n",
        "torch.backends.cudnn.deterministic = True\n",
        "torch.backends.cudnn.benchmark = False\n",
        "np.random.seed(seed)"
      ],
      "metadata": {
        "id": "JsiYJEmc42Jd"
      },
      "execution_count": null,
      "outputs": []
    },
    {
      "cell_type": "code",
      "source": [
        "from google.colab import drive\n",
        "from pathlib import Path\n",
        "drive.mount('/content/drive/')\n",
        "sys.path.insert(0, common_path)"
      ],
      "metadata": {
        "id": "MFqD1M4aJH8Y",
        "colab": {
          "base_uri": "https://localhost:8080/"
        },
        "outputId": "9bb92a74-a3c9-4de8-b648-0e405f60b9aa"
      },
      "execution_count": null,
      "outputs": [
        {
          "output_type": "stream",
          "name": "stdout",
          "text": [
            "Drive already mounted at /content/drive/; to attempt to forcibly remount, call drive.mount(\"/content/drive/\", force_remount=True).\n"
          ]
        }
      ]
    },
    {
      "cell_type": "code",
      "source": [
        "!ls"
      ],
      "metadata": {
        "id": "YwlUDhAyJYyB",
        "colab": {
          "base_uri": "https://localhost:8080/"
        },
        "outputId": "3a3c2cf5-d894-4bae-e27b-2b4ddd24a233"
      },
      "execution_count": null,
      "outputs": [
        {
          "output_type": "stream",
          "name": "stdout",
          "text": [
            "drive  sample_data\n"
          ]
        }
      ]
    },
    {
      "cell_type": "markdown",
      "source": [
        "# Вариант определения таргетов (не запускать)"
      ],
      "metadata": {
        "id": "UfY1DL-t41Xb"
      }
    },
    {
      "cell_type": "code",
      "source": [
        "PRETRAINED_MODELS = {\n",
        "      'bert-base-uncased': (768, 'bert'),\n",
        "      'bert-large-uncased': (1024, 'bert'),\n",
        "      'bert-base-multilingual-cased': (768, 'bert'),\n",
        "      'bert-base-multilingual-uncased': (768, 'bert'),\n",
        "      # 'xlm-mlm-en-2048': (2048, 'xlm'),\n",
        "      # 'xlm-mlm-100-1280': (1280, 'xlm'),\n",
        "      'roberta-base': (768, 'roberta'),\n",
        "      'roberta-large': (1024, 'roberta'),\n",
        "      'distilbert-base-uncased': (768, 'bert'),\n",
        "      'distilbert-base-multilingual-cased': (768, 'bert'),\n",
        "      'xlm-roberta-base': (768, 'roberta'),\n",
        "      'xlm-roberta-large': (1024, 'roberta'),\n",
        "      'albert-base-v1': (768, 'albert'),\n",
        "      'albert-base-v2': (768, 'albert'),\n",
        "      'albert-large-v2': (1024, 'albert'),\n",
        "      'DeepPavlov/rubert-base-cased-sentence': (768, 'bert'),\n",
        "}"
      ],
      "metadata": {
        "id": "jD57PJCB9cDZ"
      },
      "execution_count": null,
      "outputs": []
    },
    {
      "cell_type": "code",
      "source": [
        "TOKEN_IDX = {}\n",
        "targets = {}\n",
        "\n",
        "def get_special_tokens(name, tokenizer):\n",
        "    names_special = tokenizer.all_special_tokens\n",
        "    special_ids = tokenizer.all_special_ids\n",
        "    return {name: dict(zip(names_special, special_ids))}\n",
        "\n",
        "\n",
        "def get_punct_tokens(name, tokenizer):\n",
        "    all_punct = [\"'\", '\"',\n",
        "                 \".\", \",\", \"!\", \"?\",\n",
        "                 \"-\", \":\", \";\"]\n",
        "    names_punct = [\n",
        "                   'S_QUOTE', 'D_QUOTE',\n",
        "                   'PERIOD', 'COMMA', 'EX_MARK', 'Q_MARK',\n",
        "                   'DASH', 'COLUMN', 'SEMI_COL'\n",
        "                   ]\n",
        "\n",
        "    tokenized_data = tokenizer(all_punct)\n",
        "\n",
        "    tokens_dict = {}\n",
        "    for one_mark, tokens in zip(names_punct, tokenized_data[\"input_ids\"]):\n",
        "        if len(tokens) > 3:\n",
        "          continue\n",
        "        tokens_dict[one_mark] = tokens[1]\n",
        "    return {name: tokens_dict}\n",
        "\n",
        "# space is usually [SEP] special token and shouldn't be mask 1"
      ],
      "metadata": {
        "id": "S_GINtPsKVoE"
      },
      "execution_count": null,
      "outputs": []
    },
    {
      "cell_type": "code",
      "source": [
        "for name_of_model in PRETRAINED_MODELS.keys():\n",
        "    print(name_of_model)\n",
        "    model = AutoModel.from_pretrained(name_of_model)\n",
        "    tokenizer = AutoTokenizer.from_pretrained(name_of_model)\n",
        "    TOKEN_IDX.update(get_special_tokens(name=name_of_model, tokenizer=tokenizer))\n",
        "    targets.update(get_punct_tokens(name=name_of_model, tokenizer=tokenizer))\n",
        "    del model\n",
        "    clear_output()"
      ],
      "metadata": {
        "id": "wm0gBER_FCUh"
      },
      "execution_count": null,
      "outputs": []
    },
    {
      "cell_type": "code",
      "source": [
        "print('TOKEN_IDX')\n",
        "for k, v in TOKEN_IDX.items():\n",
        "    print(k, v)\n",
        "print('-----------')\n",
        "print()\n",
        "print('targets')\n",
        "for k, v in targets.items():\n",
        "    print(k, v)"
      ],
      "metadata": {
        "id": "1UqAJf6pK8uB",
        "colab": {
          "base_uri": "https://localhost:8080/"
        },
        "outputId": "8661fffb-646b-46b3-8619-4b5acf5e4718"
      },
      "execution_count": null,
      "outputs": [
        {
          "output_type": "stream",
          "name": "stdout",
          "text": [
            "TOKEN_IDX\n",
            "bert-base-uncased {'[UNK]': 100, '[SEP]': 102, '[PAD]': 0, '[CLS]': 101, '[MASK]': 103}\n",
            "bert-large-uncased {'[UNK]': 100, '[SEP]': 102, '[PAD]': 0, '[CLS]': 101, '[MASK]': 103}\n",
            "bert-base-multilingual-cased {'[UNK]': 100, '[SEP]': 102, '[PAD]': 0, '[CLS]': 101, '[MASK]': 103}\n",
            "bert-base-multilingual-uncased {'[UNK]': 100, '[SEP]': 102, '[PAD]': 0, '[CLS]': 101, '[MASK]': 103}\n",
            "roberta-base {'<s>': 0, '</s>': 2, '<unk>': 3, '<pad>': 1, '<mask>': 50264}\n",
            "roberta-large {'<s>': 0, '</s>': 2, '<unk>': 3, '<pad>': 1, '<mask>': 50264}\n",
            "distilbert-base-uncased {'[UNK]': 100, '[SEP]': 102, '[PAD]': 0, '[CLS]': 101, '[MASK]': 103}\n",
            "distilbert-base-multilingual-cased {'[UNK]': 100, '[SEP]': 102, '[PAD]': 0, '[CLS]': 101, '[MASK]': 103}\n",
            "xlm-roberta-base {'<s>': 0, '</s>': 2, '<unk>': 3, '<pad>': 1, '<mask>': 250001}\n",
            "xlm-roberta-large {'<s>': 0, '</s>': 2, '<unk>': 3, '<pad>': 1, '<mask>': 250001}\n",
            "albert-base-v1 {'[CLS]': 2, '[SEP]': 3, '<unk>': 1, '<pad>': 0, '[MASK]': 4}\n",
            "albert-base-v2 {'[CLS]': 2, '[SEP]': 3, '<unk>': 1, '<pad>': 0, '[MASK]': 4}\n",
            "albert-large-v2 {'[CLS]': 2, '[SEP]': 3, '<unk>': 1, '<pad>': 0, '[MASK]': 4}\n",
            "DeepPavlov/rubert-base-cased-sentence {'[UNK]': 100, '[SEP]': 102, '[PAD]': 0, '[CLS]': 101, '[MASK]': 103}\n",
            "-----------\n",
            "\n",
            "targets\n",
            "bert-base-uncased {'S_QUOTE': 1005, 'D_QUOTE': 1000, 'PERIOD': 1012, 'COMMA': 1010, 'EX_MARK': 999, 'Q_MARK': 1029, 'DASH': 1011, 'COLUMN': 1024, 'SEMI_COL': 1025}\n",
            "bert-large-uncased {'S_QUOTE': 1005, 'D_QUOTE': 1000, 'PERIOD': 1012, 'COMMA': 1010, 'EX_MARK': 999, 'Q_MARK': 1029, 'DASH': 1011, 'COLUMN': 1024, 'SEMI_COL': 1025}\n",
            "bert-base-multilingual-cased {'S_QUOTE': 112, 'D_QUOTE': 107, 'PERIOD': 119, 'COMMA': 117, 'EX_MARK': 106, 'Q_MARK': 136, 'DASH': 118, 'COLUMN': 131, 'SEMI_COL': 132}\n",
            "bert-base-multilingual-uncased {'S_QUOTE': 112, 'D_QUOTE': 107, 'PERIOD': 119, 'COMMA': 117, 'EX_MARK': 106, 'Q_MARK': 136, 'DASH': 118, 'COLUMN': 131, 'SEMI_COL': 132}\n",
            "roberta-base {'S_QUOTE': 108, 'D_QUOTE': 113, 'PERIOD': 4, 'COMMA': 6, 'EX_MARK': 328, 'Q_MARK': 116, 'DASH': 12, 'COLUMN': 35, 'SEMI_COL': 131}\n",
            "roberta-large {'S_QUOTE': 108, 'D_QUOTE': 113, 'PERIOD': 4, 'COMMA': 6, 'EX_MARK': 328, 'Q_MARK': 116, 'DASH': 12, 'COLUMN': 35, 'SEMI_COL': 131}\n",
            "distilbert-base-uncased {'S_QUOTE': 1005, 'D_QUOTE': 1000, 'PERIOD': 1012, 'COMMA': 1010, 'EX_MARK': 999, 'Q_MARK': 1029, 'DASH': 1011, 'COLUMN': 1024, 'SEMI_COL': 1025}\n",
            "distilbert-base-multilingual-cased {'S_QUOTE': 112, 'D_QUOTE': 107, 'PERIOD': 119, 'COMMA': 117, 'EX_MARK': 106, 'Q_MARK': 136, 'DASH': 118, 'COLUMN': 131, 'SEMI_COL': 132}\n",
            "xlm-roberta-base {'S_QUOTE': 242, 'D_QUOTE': 44, 'EX_MARK': 711, 'Q_MARK': 705, 'DASH': 20, 'COLUMN': 152, 'SEMI_COL': 2819}\n",
            "xlm-roberta-large {'S_QUOTE': 242, 'D_QUOTE': 44, 'EX_MARK': 711, 'Q_MARK': 705, 'DASH': 20, 'COLUMN': 152, 'SEMI_COL': 2819}\n",
            "albert-base-v1 {}\n",
            "albert-base-v2 {}\n",
            "albert-large-v2 {}\n",
            "DeepPavlov/rubert-base-cased-sentence {'S_QUOTE': 118, 'D_QUOTE': 108, 'PERIOD': 132, 'COMMA': 128, 'EX_MARK': 106, 'Q_MARK': 166, 'DASH': 130, 'COLUMN': 156, 'SEMI_COL': 158}\n"
          ]
        }
      ]
    },
    {
      "cell_type": "markdown",
      "source": [
        "\n",
        "# Служебное"
      ],
      "metadata": {
        "id": "SOEKGL1D5xp5"
      }
    },
    {
      "cell_type": "code",
      "source": [
        "model = AutoModel.from_pretrained('DeepPavlov/rubert-base-cased-sentence') #####################################\n",
        "tokenizer = AutoTokenizer.from_pretrained('DeepPavlov/rubert-base-cased-sentence') ##################################"
      ],
      "metadata": {
        "id": "rRoWqVixA0FT",
        "colab": {
          "base_uri": "https://localhost:8080/",
          "height": 177,
          "referenced_widgets": [
            "d30b9cd3c2ed40eea9b3a97f41014631",
            "dee24f9d91864a758ffb789359783b5a",
            "dfcd9cda67e14d949511071485024acf",
            "9ba18e1d0c3b4bcf91c627661cc9a719",
            "9df2d6646f984eff933268fd496b3b73",
            "a5aedadf5e844627ac5ad34bf4ae2fab",
            "5e273678d93f4b40b18f1ce10b02edee",
            "a2b05a8765d7458a96ea47d79f25a177",
            "89ef040650c241c690bd21d70719ba30",
            "6906a809786d4151a8a9e0502d2385bf",
            "140b9bedac9e4d9f933cf6a33baba0a3",
            "a44b160893db4d10be290761d3d41c05",
            "e0777e939953431894b8a1cd87af0341",
            "44a09c6526b245b9aa425d409e6945c6",
            "3d51669d8f214aba8564c99c00d853fb",
            "7f8cfa972b6f4768840d858bc977f19a",
            "b734c08a12544787b4c42b57408037c8",
            "86543641292c4ef591b93f530b281f90",
            "9881bf101c854c288b59f85337d32c34",
            "daefc118b4ad474cb5bd981ceb153823",
            "9b20844320074519aa285f622c5af5e9",
            "797f870746f44f4d911b0dbeb6ec9a21",
            "17780a30efd74a3ab47a7a56fb649a4a",
            "c411a1c1024544a0b9a68abd829f5287",
            "a67df6f2051e464ca81e49777b441497",
            "5002ea1dc85147a0a10c83cb96a5bf01",
            "030106c18e664b59b1cbad778c8b2fcd",
            "932a4ccd8cd342769479406f387e0101",
            "58faa34ec31f4b64abc973a19337e12d",
            "889e6334c3ff493896b521cd8c07f99d",
            "5dc15f974eb34b20b28b003a5b02cfca",
            "3037d53a57674c92bfe7077d60e1c998",
            "0579311e7bb0458c9037931e1ac58946",
            "dffb15193ebd4a91959ce3c6b13937fa",
            "e4f411c13c734c23b96525cc3533777f",
            "1bd834c6154f450c9aff05b4c2686888",
            "9e24ab008ddf43b99aab4752968d0856",
            "ae0ad328f7314938b600226dc46f5bb2",
            "127d9773ddd747679c332ce8cf9f9e4f",
            "d9c24a6e9a5a434f8b9f6a4d37d0b517",
            "24020b096aaf424a84740a49b50784b7",
            "454f314dae54450293a877da52b9efd8",
            "9e70e32eab994714b7cb27acba0ce48a",
            "212ce95b0e7d409fb3ff592ce1458a30",
            "c5d1a71da0934c969afb3464aa77c517",
            "5d6656a318e94c74958107b8cd2034b5",
            "97c50fece0bc4af8a21f076bcec6f8cc",
            "0da6254008c1466e8dd5c5abd14227d9",
            "6e47bf6ef3934ae98a057e1f7141f45c",
            "02fc37097a844aeb8e9bd0504f0022fa",
            "71251159ee474bbb8f4677d2d897d728",
            "b80ec90a0c00475582eecb7e98ce6021",
            "070c022f49c348ba9d528c354fecac71",
            "bb658670ecfb4c1aa2e8d2206ed0f493",
            "10a1a35c6ec64ca9a104e0b7a4281b41"
          ]
        },
        "outputId": "b49e8b30-b10d-4568-fd5c-89395bb12108"
      },
      "execution_count": null,
      "outputs": [
        {
          "output_type": "display_data",
          "data": {
            "text/plain": [
              "config.json:   0%|          | 0.00/642 [00:00<?, ?B/s]"
            ],
            "application/vnd.jupyter.widget-view+json": {
              "version_major": 2,
              "version_minor": 0,
              "model_id": "d30b9cd3c2ed40eea9b3a97f41014631"
            }
          },
          "metadata": {}
        },
        {
          "output_type": "display_data",
          "data": {
            "text/plain": [
              "pytorch_model.bin:   0%|          | 0.00/711M [00:00<?, ?B/s]"
            ],
            "application/vnd.jupyter.widget-view+json": {
              "version_major": 2,
              "version_minor": 0,
              "model_id": "a44b160893db4d10be290761d3d41c05"
            }
          },
          "metadata": {}
        },
        {
          "output_type": "display_data",
          "data": {
            "text/plain": [
              "tokenizer_config.json:   0%|          | 0.00/24.0 [00:00<?, ?B/s]"
            ],
            "application/vnd.jupyter.widget-view+json": {
              "version_major": 2,
              "version_minor": 0,
              "model_id": "17780a30efd74a3ab47a7a56fb649a4a"
            }
          },
          "metadata": {}
        },
        {
          "output_type": "display_data",
          "data": {
            "text/plain": [
              "vocab.txt:   0%|          | 0.00/1.65M [00:00<?, ?B/s]"
            ],
            "application/vnd.jupyter.widget-view+json": {
              "version_major": 2,
              "version_minor": 0,
              "model_id": "dffb15193ebd4a91959ce3c6b13937fa"
            }
          },
          "metadata": {}
        },
        {
          "output_type": "display_data",
          "data": {
            "text/plain": [
              "special_tokens_map.json:   0%|          | 0.00/112 [00:00<?, ?B/s]"
            ],
            "application/vnd.jupyter.widget-view+json": {
              "version_major": 2,
              "version_minor": 0,
              "model_id": "c5d1a71da0934c969afb3464aa77c517"
            }
          },
          "metadata": {}
        }
      ]
    },
    {
      "cell_type": "code",
      "source": [
        "from typing import Dict, List, Optional, Tuple, TypedDict, Union\n",
        "\n",
        "import numpy as np\n",
        "import torch\n",
        "from torch import Tensor\n",
        "from tqdm import tqdm\n",
        "from transformers import PreTrainedTokenizer\n",
        "\n",
        "# probability of applying substitution operation on tokens selected for augmentation\n",
        "alpha_sub = 0.40\n",
        "# probability of applying delete operation on tokens selected for augmentation\n",
        "alpha_del = 0.40\n",
        "\n",
        "tokenizer = None\n",
        "# substitution strategy: 'unk' -> replace with unknown tokens, 'rand' -> replace with random tokens from vocabulary\n",
        "sub_style = 'unk'\n",
        "\n",
        "\n",
        "def augment_none(x, y, y_mask, x_aug, y_aug, y_mask_aug, i, token_style):\n",
        "    \"\"\"\n",
        "    apply no augmentation\n",
        "    \"\"\"\n",
        "    x_aug.append(x[i])\n",
        "    y_aug.append(y[i])\n",
        "    y_mask_aug.append(y_mask[i])\n",
        "\n",
        "\n",
        "def augment_substitute(x, y, y_mask, x_aug, y_aug, y_mask_aug, i, token_style):\n",
        "    \"\"\"\n",
        "    replace a token with a random token or the unknown token\n",
        "    \"\"\"\n",
        "    if sub_style == 'rand':\n",
        "        x_aug.append(np.random.randint(tokenizer.vocab_size))\n",
        "    else:\n",
        "        x_aug.append(TOKEN_IDX[token_style]['UNK'])\n",
        "    y_aug.append(y[i])\n",
        "    y_mask_aug.append(y_mask[i])\n",
        "\n",
        "\n",
        "def augment_insert(x, y, y_mask, x_aug, y_aug, y_mask_aug, i, token_style):\n",
        "    \"\"\"\n",
        "    insert the unknown token before this token\n",
        "    \"\"\"\n",
        "    x_aug.append(TOKEN_IDX[token_style]['UNK'])\n",
        "    y_aug.append(0)\n",
        "    y_mask_aug.append(1)\n",
        "    x_aug.append(x[i])\n",
        "    y_aug.append(y[i])\n",
        "    y_mask_aug.append(y_mask[i])\n",
        "\n",
        "\n",
        "def augment_delete(x, y, y_mask, x_aug, y_aug, y_mask_aug, i, token_style):\n",
        "    \"\"\"\n",
        "    remove this token i..e, not add in augmented tokens\n",
        "    \"\"\"\n",
        "    return\n",
        "\n",
        "\n",
        "def augment_all(x, y, y_mask, x_aug, y_aug, y_mask_aug, i, token_style):\n",
        "    \"\"\"\n",
        "    apply substitution with alpha_sub probability, deletion with alpha_sub probability and insertion with\n",
        "    1-(alpha_sub+alpha_sub) probability\n",
        "    \"\"\"\n",
        "    r = np.random.rand()\n",
        "    if r < alpha_sub:\n",
        "        augment_substitute(x, y, y_mask, x_aug, y_aug, y_mask_aug, i, token_style)\n",
        "    elif r < alpha_sub + alpha_del:\n",
        "        augment_delete(x, y, y_mask, x_aug, y_aug, y_mask_aug, i, token_style)\n",
        "    else:\n",
        "        augment_insert(x, y, y_mask, x_aug, y_aug, y_mask_aug, i, token_style)\n",
        "\n",
        "AUGMENTATIONS = {'none': augment_none,\n",
        "    'substitute': augment_substitute,\n",
        "    'insert': augment_insert,\n",
        "    'delete': augment_delete,\n",
        "    'all': augment_all}\n",
        "\n",
        "TOKEN_IDX = {\n",
        "      'bert': {\n",
        "          # '[MASK]': 103,\n",
        "          'S_QUOTE': 118,\n",
        "          'D_QUOTE': 108,\n",
        "          'PERIOD': 132,\n",
        "          'COMMA': 128,\n",
        "          'EX_MARK': 106,\n",
        "          'Q_MARK': 166,\n",
        "          'DASH': 130,\n",
        "          'COLUMN': 156,\n",
        "          'SEMI_COL': 158,\n",
        "          'START_SEQ': 101,\n",
        "          'PAD': 0,\n",
        "          'END_SEQ': 102,\n",
        "          'UNK': 100\n",
        "      },\n",
        "      'xlm': {\n",
        "          'START_SEQ': 0,\n",
        "          'PAD': 2,\n",
        "          'END_SEQ': 1,\n",
        "          'UNK': 3\n",
        "      },\n",
        "      'roberta': {\n",
        "          'START_SEQ': 0,\n",
        "          'PAD': 1,\n",
        "          'END_SEQ': 2,\n",
        "          'UNK': 3\n",
        "      },\n",
        "      'albert': {\n",
        "          'START_SEQ': 2,\n",
        "          'PAD': 0,\n",
        "          'END_SEQ': 3,\n",
        "          'UNK': 1\n",
        "      },\n",
        "  }"
      ],
      "metadata": {
        "id": "k_8Dz14q5hat"
      },
      "execution_count": null,
      "outputs": []
    },
    {
      "cell_type": "code",
      "source": [],
      "metadata": {
        "id": "U-PIpVVPOM0p"
      },
      "execution_count": null,
      "outputs": []
    },
    {
      "cell_type": "code",
      "source": [
        "PRETRAINED_MODELS = {'DeepPavlov/rubert-base-cased-sentence': (AutoModel, AutoTokenizer, 768, 'bert')}\n",
        "\n",
        "Path_type = Union[Path, str, os.PathLike]\n",
        "\n",
        "\n",
        "class CorrectionModel(nn.Module):\n",
        "    def __init__(self,\n",
        "                 pretrained_model: PreTrainedModel,\n",
        "                 targets: Dict[str, int],\n",
        "                 freeze_pretrained=False,\n",
        "                 lstm_dim=-1) -> None:\n",
        "\n",
        "        super(CorrectionModel, self).__init__()\n",
        "        self.pretrained_transformer = PRETRAINED_MODELS[pretrained_model][0].from_pretrained(pretrained_model)\n",
        "\n",
        "        if freeze_pretrained:\n",
        "            for p in self.pretrained_transformer.parameters():\n",
        "                p.requires_grad = False\n",
        "\n",
        "        bert_dim = PRETRAINED_MODELS[pretrained_model][2]\n",
        "\n",
        "        if lstm_dim == -1:\n",
        "            hidden_size = bert_dim\n",
        "        else:\n",
        "            hidden_size = lstm_dim\n",
        "\n",
        "        self.hidden_size = hidden_size\n",
        "\n",
        "        self.lstm = nn.LSTM(input_size=bert_dim,\n",
        "                            hidden_size=hidden_size,\n",
        "                            num_layers=1,\n",
        "                            bidirectional=True)\n",
        "\n",
        "        self.linear = nn.Linear(in_features=hidden_size * 2,\n",
        "                                out_features=len(targets))\n",
        "\n",
        "    def forward(self, x: Tensor, attn_masks: Tensor) -> Tensor:\n",
        "        # add dummy batch for single sample\n",
        "        if len(x.shape) == 1:\n",
        "            x = x.view(1, x.shape[0])\n",
        "        # (B, N, E) -> (B, N, E)\n",
        "        x = self.pretrained_transformer(x, attention_mask=attn_masks)[0]\n",
        "        # (B, N, E) -> (N, B, E)\n",
        "        x = torch.transpose(x, 0, 1)\n",
        "        x, (_, _) = self.lstm(x)\n",
        "        # (N, B, E) -> (B, N, E)\n",
        "        x = torch.transpose(x, 0, 1)\n",
        "        x = self.linear(x)\n",
        "        return x\n",
        "\n",
        "    def save(self, save_path: Path_type) -> None:\n",
        "        torch.save(self.state_dict(), save_path)\n",
        "\n",
        "    def load(self, load_path: Path_type, *args, **kwargs) -> None:\n",
        "        self.load_state_dict(torch.load(load_path, *args, **kwargs))\n",
        "\n",
        "    def modify_last_linear(self, *args, **kwargs):\n",
        "        self.linear = nn.Linear(*args, **kwargs)"
      ],
      "metadata": {
        "id": "zr4RJaFz10cj"
      },
      "execution_count": null,
      "outputs": []
    },
    {
      "cell_type": "code",
      "source": [
        "import re\n",
        "from glob import glob\n",
        "def get_last_epoch_params(weights_dir: Path) -> Tuple[int, float]:\n",
        "    \"\"\"\n",
        "    Get last epoch number and last best accuracy\n",
        "\n",
        "    Args:\n",
        "        weights_dir (Path): directory where wheights are stored\n",
        "\n",
        "    Returns:\n",
        "        tuple[int, float]: epoch number, best accuracy\n",
        "    \"\"\"\n",
        "    weights = list(glob(f'{common_path}/weights/*.pt'))\n",
        "    print (weights)\n",
        "    last_weight = str(sorted(weights)[-1])\n",
        "    if (match := re.search(r'_ep(\\d+)_(\\d+)\\.pt', last_weight)):\n",
        "        epoch = int(match.group(1))\n",
        "        best_acc = float('0.' + match.group(2))\n",
        "        return epoch, best_acc\n",
        "    return 0, 0.0\n",
        "\n",
        "def log_text(file_path, log):\n",
        "    if not log.endswith('\\n'):\n",
        "        log += '\\n'\n",
        "\n",
        "    print(log)\n",
        "    with open(file_path, 'a') as f:\n",
        "        f.write(log)\n",
        "\n",
        "def log_train_epoch(file_path, epoch, train_loss, train_accuracy):\n",
        "    log = f\"epoch: {epoch}, Train loss: {train_loss}, Train accuracy: {train_accuracy}\\n\"\n",
        "    log_text(file_path, log)\n",
        "\n",
        "def log_val_epoch(file_path, epoch, val_loss, val_acc):\n",
        "    log = f\"epoch: {epoch}, Val loss: {val_loss}, Val accuracy: {val_acc}\\n\"\n",
        "    log_text(file_path, log)\n",
        "\n",
        "\n",
        "def log_test_metrics(file_path, precision, recall, f1, accuracy, cm):\n",
        "    log = (f\"Precision: {precision}\\n\"\n",
        "           f\"Recall: {recall}\\n\"\n",
        "           f\"F1 score: {f1}\\n\"\n",
        "           f\"Accuracy: {accuracy}\\n\"\n",
        "           f\"Confusion Matrix:\\n{cm}\\n\")\n",
        "    log_text(file_path, log)\n",
        "\n",
        "def save_weights(model: CorrectionModel,\n",
        "                 weights_dir: Path,\n",
        "                 epoch: int,\n",
        "                 accuracy: float) -> None:\n",
        "    \"\"\"\n",
        "    Save weights with epoch number and accuracy\n",
        "\n",
        "    Args:\n",
        "        model (CorrectionModel): model instance\n",
        "        weights_dir (Path): path to store weight\n",
        "        epoch (int): epoch number\n",
        "        accuracy (float): accuracy\n",
        "    \"\"\"\n",
        "    acc = str(accuracy)[2:6]\n",
        "    save_path = f\"{common_path}/weights/weights_ep{epoch}_{acc}.pt\"\n",
        "    model.save(save_path)\n",
        "\n",
        "def log_target_test_metrics(file_path, target, precision, recall, f1):\n",
        "    log = (f\"{target}:\\n\"\n",
        "           f\"\\tPrecision: {round(precision, 4)}\\n\"\n",
        "           f\"\\tRecall: {round(recall, 4)}\\n\"\n",
        "           f\"\\tF1 score: {round(f1, 4)}\\n\")\n",
        "    log_text(file_path, log)"
      ],
      "metadata": {
        "id": "720XCm6SLdz-"
      },
      "execution_count": null,
      "outputs": []
    },
    {
      "cell_type": "code",
      "source": [],
      "metadata": {
        "id": "PhYXAbIDMneC"
      },
      "execution_count": null,
      "outputs": []
    },
    {
      "cell_type": "markdown",
      "source": [
        "#Метрики"
      ],
      "metadata": {
        "id": "xytMrL-oMEmk"
      }
    },
    {
      "cell_type": "code",
      "source": [
        "def calc_accuracy_metrics(model: nn.Module,\n",
        "                          loader: DataLoader\n",
        "                          ) -> Tuple[ndarray, ndarray, ndarray, float, ndarray]:\n",
        "    \"\"\"\n",
        "    Calculate different accuracy metrics\n",
        "\n",
        "    Args:\n",
        "        model (nn.Module): model instance\n",
        "        loader (DataLoader): data loader\n",
        "\n",
        "    Returns:\n",
        "        tuple[ndarray, ndarray, ndarray, float, ndarray]: precision, recall, \\\n",
        "            f1_score, accuracy, confusion_matrx\n",
        "    \"\"\"\n",
        "    num_iteration = 0\n",
        "    correct = 0\n",
        "    total = 0\n",
        "\n",
        "    model.eval()\n",
        "\n",
        "    # +1 for overall result\n",
        "    tp = np.zeros(1 + len(TARGETS), dtype=np.int64)\n",
        "    fp = np.zeros(1 + len(TARGETS), dtype=np.int64)\n",
        "    fn = np.zeros(1 + len(TARGETS), dtype=np.int64)\n",
        "    cm = np.zeros((len(TARGETS), len(TARGETS)), dtype=np.int64)\n",
        "\n",
        "    with torch.no_grad():\n",
        "        for x, y, att, y_mask in tqdm(loader, desc='test'):\n",
        "            x = x.to(DEVICE)\n",
        "            y = y.view(-1).to(DEVICE)\n",
        "            att = att.to(DEVICE)\n",
        "            y_mask = y_mask.view(-1).to(DEVICE)\n",
        "\n",
        "            y_predict = model(x, att)\n",
        "            y_predict = y_predict.view(-1, y_predict.shape[2])\n",
        "            y_predict = torch.argmax(y_predict, dim=1).view(-1)\n",
        "\n",
        "            num_iteration += 1\n",
        "            y_mask = y_mask.view(-1)\n",
        "            correct += int(torch.sum(y_mask * (y_predict == y).long()).item())\n",
        "            total += int(torch.sum(y_mask).item())\n",
        "            for i in range(y.shape[0]):\n",
        "                if y_mask[i] == 0:\n",
        "                    # we can ignore this because we know there won't be\n",
        "                    # any punctuation in this position since we created\n",
        "                    # this position due to padding or sub-word tokenization\n",
        "                    continue\n",
        "                cor = y[i]\n",
        "                prd = y_predict[i]\n",
        "                if cor == prd:\n",
        "                    tp[cor] += 1\n",
        "                else:\n",
        "                    fn[cor] += 1\n",
        "                    fp[prd] += 1\n",
        "                cm[cor][prd] += 1\n",
        "\n",
        "    # ignore first index which is for no punctuation\n",
        "    tp[-1] = np.sum(tp[1:])\n",
        "    fp[-1] = np.sum(fp[1:])\n",
        "    fn[-1] = np.sum(fn[1:])\n",
        "\n",
        "    precision = tp / (tp + fp)\n",
        "    recall = tp / (tp + fn)\n",
        "    f1 = 2 * precision * recall / (precision + recall)\n",
        "    accuracy = correct / total\n",
        "\n",
        "    return precision, recall, f1, accuracy, cm"
      ],
      "metadata": {
        "id": "XMRB74DjLF3W"
      },
      "execution_count": null,
      "outputs": []
    },
    {
      "cell_type": "markdown",
      "source": [
        "#Датасет"
      ],
      "metadata": {
        "id": "n1FDl49K53TR"
      }
    },
    {
      "cell_type": "code",
      "source": [
        "class BaseDataset(torch.utils.data.Dataset):\n",
        "    def __init__(self, files: Union[str, List[str]],\n",
        "                 tokenizer: PreTrainedTokenizer,\n",
        "                 targets: Dict[str, int],\n",
        "                 sequence_len: int,\n",
        "                 token_style: str) -> None:\n",
        "\n",
        "        if isinstance(files, list):\n",
        "            self.data = []\n",
        "            for file in files:\n",
        "                self.data += self._parse_data(file, tokenizer, targets, sequence_len, token_style)\n",
        "        else:\n",
        "            self.data = self._parse_data(files, tokenizer, targets, sequence_len, token_style)\n",
        "\n",
        "    @classmethod\n",
        "    def _parse_data(cls,\n",
        "                    file_path: str,\n",
        "                    tokenizer: PreTrainedTokenizer,\n",
        "                    targets: Dict[str, int],\n",
        "                    seq_len: int,\n",
        "                    token_style: str):\n",
        "        \"\"\"Parse file to train data\n",
        "\n",
        "        Args:\n",
        "            file_path (`str`): text file path that contains tokens and punctuations separated by tab in lines\n",
        "            tokenizer (`PreTrainedTokenizer`): tokenizer that will be used to further tokenize word for BERT like models\n",
        "            targets (`dict[str, int]`): dictionary of target: label\n",
        "            seq_len (`int`): maximum length of each sequence\n",
        "            token_style (`str`): For getting index of special tokens in pretrained.TOKEN_IDX\n",
        "\n",
        "        Returns:\n",
        "            list[Batch]: each having sequence_len punctuation_mask is used to ignore special indices like padding and intermediate sub-word token during evaluation\n",
        "        \"\"\"\n",
        "        with open(file_path, 'r', encoding='utf-8') as file:\n",
        "            x, y = [], []\n",
        "            for i, line in enumerate(file):\n",
        "                if (line := line.strip()):\n",
        "                    token = line.rsplit('\\t', 1)\n",
        "                    if len(token) == 2:\n",
        "                        x.append(token[0])\n",
        "                        target = targets[token[1]]\n",
        "                        y.append(target)\n",
        "                    else:\n",
        "                        continue\n",
        "\n",
        "        data = cls.parse_tokens(x, tokenizer, seq_len, token_style, y)\n",
        "        # cls._add_targets_to_data(y, data)\n",
        "        return data\n",
        "\n",
        "    @classmethod\n",
        "    def parse_tokens(cls,\n",
        "                     tokens: Union[List[str], Tuple[str]],\n",
        "                     tokenizer: PreTrainedTokenizer,\n",
        "                     seq_len: int,\n",
        "                     token_style: str,\n",
        "                     targets: Optional[List[int]] = None,\n",
        "                     debug: bool = True):\n",
        "        \"\"\"\n",
        "        Convert tokenized data for model prediction\n",
        "\n",
        "        Args:\n",
        "            tokens (`Union[list[str], tuple[str]]`): splited tokens\n",
        "            tokenizer (`PreTrainedTokenizer`): tokenizer which split tokens to subtokens\n",
        "            seq_len (`int`): sequence length\n",
        "            token_style (`str`): token_style from pretrained.TOKEN_IDX\n",
        "\n",
        "        Returns:\n",
        "            (`list[BatchWithoutTarget]`): list of bathces\n",
        "\n",
        "        ```txt\n",
        "        tokens    : [token  token  ##token  PAD ]\n",
        "             x    : [321    1233   23121    101 ]\n",
        "             y    : [tar    0      tar      0   ]\n",
        "        y_mask    : [1      0      1        0   ]\n",
        "        attn_mask : [1      1      1        0   ]\n",
        "        ```\n",
        "\n",
        "        \"\"\"\n",
        "        data_items = []\n",
        "        # loop until end of the entire text\n",
        "        idx = 0\n",
        "\n",
        "        if debug:\n",
        "            pbar = tqdm(total=len(tokens))\n",
        "\n",
        "        while idx < len(tokens):\n",
        "            x = [TOKEN_IDX[token_style]['START_SEQ']]\n",
        "            w_id = [-1]    # word indexes\n",
        "            y = [0]\n",
        "            y_mask = [1] if targets else [0]\n",
        "\n",
        "            # loop until we have required sequence length\n",
        "            # -1 because we will have a special end of sequence token at the end\n",
        "            while len(x) < seq_len - 1 and idx < len(tokens):\n",
        "                word_pieces = tokenizer.tokenize(tokens[idx])\n",
        "\n",
        "                # if taking these tokens exceeds sequence length we finish\n",
        "                # current sequence with padding\n",
        "                # then start next sequence from this token\n",
        "                if len(word_pieces) + len(x) >= seq_len:\n",
        "                    break\n",
        "                for i in range(len(word_pieces) - 1):\n",
        "                    x.append(tokenizer.convert_tokens_to_ids(word_pieces[i]))\n",
        "                    w_id.append(idx)\n",
        "                    y.append(0)\n",
        "                    y_mask.append(0)\n",
        "                if len(word_pieces) > 0:\n",
        "                    x.append(tokenizer.convert_tokens_to_ids(word_pieces[-1]))\n",
        "                else:\n",
        "                    x.append(TOKEN_IDX[token_style]['UNK'])\n",
        "\n",
        "                w_id.append(idx)\n",
        "\n",
        "                if targets:\n",
        "                    y.append(targets[idx])\n",
        "                else:\n",
        "                    y.append(0)\n",
        "\n",
        "                y_mask.append(1)\n",
        "\n",
        "                idx += 1\n",
        "                if debug:\n",
        "                    pbar.update(1)\n",
        "\n",
        "            x.append(TOKEN_IDX[token_style]['END_SEQ'])\n",
        "            w_id.append(-1)\n",
        "            y.append(0)\n",
        "            if targets:\n",
        "                y_mask.append(1)\n",
        "            else:\n",
        "                y_mask.append(0)\n",
        "\n",
        "            # Fill with pad tokens\n",
        "            if len(x) < seq_len:\n",
        "                x = x + [TOKEN_IDX[token_style]['PAD'] for _ in range(seq_len - len(x))]\n",
        "                w_id = w_id + [-100 for _ in range(seq_len - len(w_id))]\n",
        "                y = y + [0 for _ in range(seq_len - len(y))]\n",
        "                y_mask = y_mask + [0 for _ in range(seq_len - len(y_mask))]\n",
        "\n",
        "            attn_mask = [1 if token != TOKEN_IDX[token_style]['PAD'] else 0 for token in x]\n",
        "\n",
        "            data_items.append([x, w_id, attn_mask, y, y_mask])\n",
        "\n",
        "        if debug:\n",
        "            pbar.close()\n",
        "\n",
        "        return data_items\n",
        "\n",
        "    @classmethod\n",
        "    def _add_targets_to_data(cls,\n",
        "                             targets: List[int],\n",
        "                             data: List[List[List[int]]]) -> None:\n",
        "\n",
        "        targets = targets.copy()\n",
        "\n",
        "        for idx, batch in tqdm(enumerate(data), total=len(data)):\n",
        "            y = []\n",
        "            y_mask = []\n",
        "            word_ids = batch[1]\n",
        "            for i, w_id in enumerate(word_ids):\n",
        "                if w_id == -100:\n",
        "                    y.append(0)\n",
        "                    y_mask.append(0)\n",
        "                elif w_id == -1:\n",
        "                    y.append(0)\n",
        "                    y_mask.append(1)\n",
        "                elif w_id != word_ids[i + 1]:\n",
        "                    y.append(targets.pop(0))\n",
        "                    y_mask.append(1)\n",
        "                else:\n",
        "                    y.append(0)\n",
        "                    y_mask.append(0)\n",
        "\n",
        "            data[idx].extend([y, y_mask])\n",
        "\n",
        "    def __len__(self) -> int:\n",
        "        return len(self.data)\n",
        "\n",
        "    def __getitem__(self, index: int) -> Tuple[Tensor, Tensor, Tensor, Tensor]:\n",
        "        x = self.data[index][0]\n",
        "        attn_mask = self.data[index][2]\n",
        "        y = self.data[index][3]\n",
        "        y_mask = self.data[index][4]\n",
        "\n",
        "        x = torch.tensor(x)\n",
        "        attn_mask = torch.tensor(attn_mask)\n",
        "        y = torch.tensor(y)\n",
        "        y_mask = torch.tensor(y_mask)\n",
        "\n",
        "        return x, y, attn_mask, y_mask"
      ],
      "metadata": {
        "id": "LUwJAVVW5UIu"
      },
      "execution_count": null,
      "outputs": []
    },
    {
      "cell_type": "markdown",
      "source": [
        "# Код модели"
      ],
      "metadata": {
        "id": "SIqJn3MiWu40"
      }
    },
    {
      "cell_type": "code",
      "source": [
        "class RepunctDataset(BaseDataset):\n",
        "    def __init__(self,\n",
        "                 files: Union[str, List[str]],\n",
        "                 tokenizer: PreTrainedTokenizer,\n",
        "                 targets: Dict[str, int],\n",
        "                 sequence_len: int,\n",
        "                 token_style: str,\n",
        "                 is_train=False,\n",
        "                 augment_rate=0.,\n",
        "                 augment_type='substitute') -> None:\n",
        "        \"\"\"Preprocess data for restore punctuation\n",
        "\n",
        "        Args:\n",
        "            files (`Union[str, list[str]]`): single file or list of text files containing tokens and punctuations separated by tab in lines\n",
        "            tokenizer (`PreTrainedTokenizer`): tokenizer that will be used to further tokenize word for BERT like models\n",
        "            targets (`dict[str, int]`): dict with targets\n",
        "            sequence_len (`int`): length of each sequence\n",
        "            token_style (`str`): For getting index of special tokens in pretrained.TOKEN_IDX\n",
        "            is_train (`bool, optional`): if false do not apply augmentation. Defaults to False.\n",
        "            augment_rate (`float, optional`): percent of data which should be augmented. Defaults to 0.0.\n",
        "            augment_type (`str, optional`): augmentation type. Defaults to 'substitute'.\n",
        "        \"\"\"\n",
        "        super().__init__(files, tokenizer, targets, sequence_len, token_style)\n",
        "\n",
        "        self.sequence_len = sequence_len\n",
        "        self.token_style = token_style\n",
        "        self.is_train = is_train\n",
        "        self.augment_type = augment_type\n",
        "        self.augment_rate = augment_rate\n",
        "\n",
        "    # TODO: remove method\n",
        "    @classmethod\n",
        "    def _parse_data_old(cls,\n",
        "                        file_path: str,\n",
        "                        tokenizer: PreTrainedTokenizer,\n",
        "                        targets: Dict[str, int],\n",
        "                        seq_len: int,\n",
        "                        token_style: str):\n",
        "        \"\"\"Parse file to train data\n",
        "\n",
        "        Args:\n",
        "            file_path (`str`): text file path that contains tokens and punctuations separated by tab in lines\n",
        "            tokenizer (`PreTrainedTokenizer`): tokenizer that will be used to further tokenize word for BERT like models\n",
        "            targets (`dict[str, int]`): dictionary of target: label\n",
        "            seq_len (`int`): maximum length of each sequence\n",
        "            token_style (`str`): For getting index of special tokens in pretrained.TOKEN_IDX\n",
        "\n",
        "        Returns:\n",
        "            list[Batch]: each having sequence_len punctuation_mask is used to ignore special indices like padding and intermediate sub-word token during evaluation\n",
        "        \"\"\"\n",
        "        data_items = []\n",
        "        with open(file_path, 'r', encoding='utf-8') as f:\n",
        "            lines = [line for line in f.read().split('\\n') if line.strip()]\n",
        "            idx = 0\n",
        "            # loop until end of the entire text\n",
        "            while idx < len(lines):\n",
        "                x = [TOKEN_IDX[token_style]['START_SEQ']]\n",
        "                y = [0]\n",
        "                y_mask = [1]  # which positions we need to consider while evaluating i.e., ignore pad or sub tokens\n",
        "\n",
        "                # loop until we have required sequence length\n",
        "                # -1 because we will have a special end of sequence token at the end\n",
        "                while len(x) < seq_len - 1 and idx < len(lines):\n",
        "                    word, target = lines[idx].rsplit('\\t', 1)\n",
        "                    tokens = tokenizer.tokenize(word)\n",
        "\n",
        "                    # if taking these tokens exceeds sequence length we finish current sequence with padding\n",
        "                    # then start next sequence from this token\n",
        "                    if len(tokens) + len(x) >= seq_len:\n",
        "                        break\n",
        "                    else:\n",
        "                        for i in range(len(tokens) - 1):\n",
        "                            x.append(tokenizer.convert_tokens_to_ids(tokens[i]))\n",
        "                            y.append(0)\n",
        "                            y_mask.append(0)\n",
        "                        if len(tokens) > 0:\n",
        "                            x.append(tokenizer.convert_tokens_to_ids(tokens[-1]))\n",
        "                        else:\n",
        "                            x.append(TOKEN_IDX[token_style]['UNK'])\n",
        "                        y.append(targets[target])\n",
        "                        y_mask.append(1)\n",
        "                        idx += 1\n",
        "\n",
        "                x.append(TOKEN_IDX[token_style]['END_SEQ'])\n",
        "                y.append(0)\n",
        "                y_mask.append(1)\n",
        "\n",
        "                # Fill with pad tokens\n",
        "                if len(x) < seq_len:\n",
        "                    x = x + [TOKEN_IDX[token_style]['PAD'] for _ in range(seq_len - len(x))]\n",
        "                    y = y + [0 for _ in range(seq_len - len(y))]\n",
        "                    y_mask = y_mask + [0 for _ in range(seq_len - len(y_mask))]\n",
        "\n",
        "                attn_mask = [1 if token != TOKEN_IDX[token_style]['PAD'] else 0 for token in x]\n",
        "                data_items.append([x, y, attn_mask, y_mask])\n",
        "\n",
        "        return data_items\n",
        "\n",
        "    def _augment(self, x, y, y_mask):\n",
        "        x_aug = []\n",
        "        y_aug = []\n",
        "        y_mask_aug = []\n",
        "        for i in range(len(x)):\n",
        "            r = np.random.rand()\n",
        "            if r < self.augment_rate:\n",
        "                AUGMENTATIONS[self.augment_type](x, y, y_mask, x_aug, y_aug, y_mask_aug, i, self.token_style)\n",
        "            else:\n",
        "                x_aug.append(x[i])\n",
        "                y_aug.append(y[i])\n",
        "                y_mask_aug.append(y_mask[i])\n",
        "\n",
        "        if len(x_aug) > self.sequence_len:\n",
        "            # len increased due to insert\n",
        "            x_aug = x_aug[:self.sequence_len]\n",
        "            y_aug = y_aug[:self.sequence_len]\n",
        "            y_mask_aug = y_mask_aug[:self.sequence_len]\n",
        "        elif len(x_aug) < self.sequence_len:\n",
        "            # len decreased due to delete\n",
        "            x_aug = x_aug + [TOKEN_IDX[self.token_style]['PAD'] for _ in range(self.sequence_len - len(x_aug))]\n",
        "            y_aug = y_aug + [0 for _ in range(self.sequence_len - len(y_aug))]\n",
        "            y_mask_aug = y_mask_aug + [0 for _ in range(self.sequence_len - len(y_mask_aug))]\n",
        "\n",
        "        attn_mask = [1 if token != TOKEN_IDX[self.token_style]['PAD'] else 0 for token in x]\n",
        "        return x_aug, y_aug, attn_mask, y_mask_aug\n",
        "\n",
        "    def __getitem__(self, index: int) -> Tuple[Tensor, Tensor, Tensor, Tensor]:\n",
        "        x = self.data[index][0]\n",
        "        attn_mask = self.data[index][2]\n",
        "        y = self.data[index][3]\n",
        "        y_mask = self.data[index][4]\n",
        "\n",
        "        if self.is_train and self.augment_rate > 0:\n",
        "            x, y, attn_mask, y_mask = self._augment(x, y, y_mask)\n",
        "\n",
        "        x = torch.tensor(x)\n",
        "        attn_mask = torch.tensor(attn_mask)\n",
        "        y = torch.tensor(y)\n",
        "        y_mask = torch.tensor(y_mask)\n",
        "\n",
        "        return x, y, attn_mask, y_mask"
      ],
      "metadata": {
        "id": "BuCZX3Dl16Qi"
      },
      "execution_count": null,
      "outputs": []
    },
    {
      "cell_type": "code",
      "source": [],
      "metadata": {
        "id": "ELwG2NzO4xMj"
      },
      "execution_count": null,
      "outputs": []
    },
    {
      "cell_type": "markdown",
      "source": [
        "# Модель"
      ],
      "metadata": {
        "id": "IRjvMG-JQJGd"
      }
    },
    {
      "cell_type": "code",
      "source": [
        "all_punct = [\"'\", '\"',\n",
        "              \".\", \",\", \"!\", \"?\",\n",
        "              \"-\", \":\", \";\"]\n",
        "names_punct = [\n",
        "                'S_QUOTE', 'D_QUOTE',\n",
        "                'PERIOD', 'COMMA', 'EX_MARK', 'Q_MARK',\n",
        "                'DASH', 'COLUMN', 'SEMI_COL'\n",
        "                ]\n",
        "punctuation_marks = dict(zip(all_punct, names_punct))\n",
        "punctuation_marks[' '] = 'O'\n",
        "\n",
        "# targets for DeepPavlov/rubert-base-cased-sentence:\n",
        "# targets = {'O': 102, 'S_QUOTE': 118, 'D_QUOTE': 108, 'PERIOD': 132, 'COMMA': 128, 'EX_MARK': 106, 'Q_MARK': 166, 'DASH': 130, 'COLUMN': 156, 'SEMI_COL': 158}\n",
        "targets = {'O': 0, 'S_QUOTE': 1, 'D_QUOTE': 2, 'PERIOD': 3, 'COMMA': 4, 'EX_MARK': 5, 'Q_MARK': 6, 'DASH': 7, 'COLUMN': 8, 'SEMI_COL': 9}\n",
        "\n",
        "\n",
        "weights = [1.5] * len(targets)"
      ],
      "metadata": {
        "id": "7cDcxwXFHJ_f"
      },
      "execution_count": null,
      "outputs": []
    },
    {
      "cell_type": "code",
      "source": [
        "# MODEL\n",
        "print('Loading model...')\n",
        "\n",
        "# targets = {'O': 0, 'M': 1} # 'TARGETS'\n",
        "# weights = [1.5, 1.5] # weights for targets'\n",
        "lr = 5e-6\n",
        "decay = 0\n",
        "cuda = False\n",
        "resume = True\n",
        "fine_tune = True\n",
        "lstm_dim = -1\n",
        "pretrained_model = 'DeepPavlov/rubert-base-cased-sentence'\n",
        "freeze_pretrained = False\n",
        "model_save_path = f'{common_save_path}model_saved'\n",
        "alpha_sub = 0.40\n",
        "# probability of applying delete operation on tokens selected for augmentation\n",
        "alpha_del = 0.40\n",
        "tokenizer = None\n",
        "# substitution strategy: 'unk' -> replace with unknown tokens, 'rand' -> replace with random tokens from vocabulary\n",
        "sub_style = 'unk'\n",
        "\n",
        "labml_flag = False\n",
        "sequence_length = 256\n",
        "\n",
        "TARGETS = targets\n",
        "DEVICE = torch.device('cuda' if (cuda and torch.cuda.is_available()) else 'cpu')\n",
        "\n",
        "MODEL = CorrectionModel(pretrained_model,\n",
        "                        targets=TARGETS,\n",
        "                        freeze_pretrained=freeze_pretrained,\n",
        "                        lstm_dim=lstm_dim)\n",
        "\n",
        "\n",
        "MODEL.to(DEVICE)"
      ],
      "metadata": {
        "id": "JlpJX5ppQXHm",
        "colab": {
          "base_uri": "https://localhost:8080/"
        },
        "outputId": "4953d540-e40b-420e-9ff4-8bfa72f3b153"
      },
      "execution_count": null,
      "outputs": [
        {
          "output_type": "stream",
          "name": "stdout",
          "text": [
            "Loading model...\n"
          ]
        },
        {
          "output_type": "execute_result",
          "data": {
            "text/plain": [
              "CorrectionModel(\n",
              "  (pretrained_transformer): BertModel(\n",
              "    (embeddings): BertEmbeddings(\n",
              "      (word_embeddings): Embedding(119547, 768, padding_idx=0)\n",
              "      (position_embeddings): Embedding(512, 768)\n",
              "      (token_type_embeddings): Embedding(2, 768)\n",
              "      (LayerNorm): LayerNorm((768,), eps=1e-12, elementwise_affine=True)\n",
              "      (dropout): Dropout(p=0.1, inplace=False)\n",
              "    )\n",
              "    (encoder): BertEncoder(\n",
              "      (layer): ModuleList(\n",
              "        (0-11): 12 x BertLayer(\n",
              "          (attention): BertAttention(\n",
              "            (self): BertSelfAttention(\n",
              "              (query): Linear(in_features=768, out_features=768, bias=True)\n",
              "              (key): Linear(in_features=768, out_features=768, bias=True)\n",
              "              (value): Linear(in_features=768, out_features=768, bias=True)\n",
              "              (dropout): Dropout(p=0.1, inplace=False)\n",
              "            )\n",
              "            (output): BertSelfOutput(\n",
              "              (dense): Linear(in_features=768, out_features=768, bias=True)\n",
              "              (LayerNorm): LayerNorm((768,), eps=1e-12, elementwise_affine=True)\n",
              "              (dropout): Dropout(p=0.1, inplace=False)\n",
              "            )\n",
              "          )\n",
              "          (intermediate): BertIntermediate(\n",
              "            (dense): Linear(in_features=768, out_features=3072, bias=True)\n",
              "            (intermediate_act_fn): GELUActivation()\n",
              "          )\n",
              "          (output): BertOutput(\n",
              "            (dense): Linear(in_features=3072, out_features=768, bias=True)\n",
              "            (LayerNorm): LayerNorm((768,), eps=1e-12, elementwise_affine=True)\n",
              "            (dropout): Dropout(p=0.1, inplace=False)\n",
              "          )\n",
              "        )\n",
              "      )\n",
              "    )\n",
              "    (pooler): BertPooler(\n",
              "      (dense): Linear(in_features=768, out_features=768, bias=True)\n",
              "      (activation): Tanh()\n",
              "    )\n",
              "  )\n",
              "  (lstm): LSTM(768, 768, bidirectional=True)\n",
              "  (linear): Linear(in_features=1536, out_features=10, bias=True)\n",
              ")"
            ]
          },
          "metadata": {},
          "execution_count": 15
        }
      ]
    },
    {
      "cell_type": "code",
      "source": [
        "WEIGHTS = torch.FloatTensor(np.array(weights)).to(DEVICE)\n",
        "CRITERION = nn.CrossEntropyLoss(weight=WEIGHTS)\n",
        "OPTIMIZER = torch.optim.Adam(MODEL.parameters(), lr=lr, weight_decay=decay)\n",
        "print('Model was loaded.')\n",
        "\n",
        "# TOKENIZER\n",
        "print('Loading tokenizer...')\n",
        "tokenizer = PRETRAINED_MODELS[pretrained_model][1].from_pretrained(pretrained_model)\n",
        "token_style = PRETRAINED_MODELS[pretrained_model][3]\n",
        "SEQ_LEN = sequence_length\n",
        "print('Tokenizer was loaded.')\n",
        "\n",
        "# CONFIG AUGMENTATION\n",
        "AUG_RATE = 0.\n",
        "AUG_TYPE = 'all'\n",
        "\n",
        "\n",
        "# DATASETS\n",
        "data_loader_params = {\n",
        "    'batch_size': 4,\n",
        "    'shuffle': True,\n",
        "    'num_workers': 1\n",
        "}"
      ],
      "metadata": {
        "id": "1U9lt46GJji0",
        "colab": {
          "base_uri": "https://localhost:8080/"
        },
        "outputId": "d7d4dd13-2427-468f-b162-d904738fd446"
      },
      "execution_count": null,
      "outputs": [
        {
          "output_type": "stream",
          "name": "stdout",
          "text": [
            "Model was loaded.\n",
            "Loading tokenizer...\n",
            "Tokenizer was loaded.\n"
          ]
        }
      ]
    },
    {
      "cell_type": "code",
      "source": [
        "# file_paths = ['file1.txt', 'file2.txt', 'file3.txt']\n",
        "# file_paths = [os.path.join(files, file) for file in os.listdir(files)]:\n",
        "# 1734\n",
        "\n",
        "train_flist = []\n",
        "val_flist = []\n",
        "test_flist = []\n",
        "# r=root, d=directories, f = files\n",
        "for r, d, f in os.walk(f'{common_path}/literature_csv'):\n",
        "    i = 0\n",
        "    for file in f:\n",
        "        if i <= 1000:\n",
        "            if file.endswith(('.txt')):\n",
        "                train_flist.append(os.path.join(r, file))\n",
        "        elif 1000 < i <= 1300:\n",
        "            if file.endswith(('.txt')):\n",
        "                val_flist.append(os.path.join(r, file))\n",
        "        elif 1300 < i <= 1734:\n",
        "            if file.endswith(('.txt')):\n",
        "                test_flist.append(os.path.join(r, file))\n",
        "        i += 1\n",
        "print(test_flist)"
      ],
      "metadata": {
        "id": "TqWFkyZWfkV-",
        "colab": {
          "base_uri": "https://localhost:8080/"
        },
        "outputId": "7b10bad0-a37c-44ed-cd87-9267006d3298"
      },
      "execution_count": null,
      "outputs": [
        {
          "output_type": "stream",
          "name": "stdout",
          "text": [
            "['/content/drive/MyDrive/Data_punct/Datasets/literature_csv/000451.txt', '/content/drive/MyDrive/Data_punct/Datasets/literature_csv/000452.txt', '/content/drive/MyDrive/Data_punct/Datasets/literature_csv/000453.txt', '/content/drive/MyDrive/Data_punct/Datasets/literature_csv/000454.txt', '/content/drive/MyDrive/Data_punct/Datasets/literature_csv/000455.txt', '/content/drive/MyDrive/Data_punct/Datasets/literature_csv/000456.txt', '/content/drive/MyDrive/Data_punct/Datasets/literature_csv/000457.txt', '/content/drive/MyDrive/Data_punct/Datasets/literature_csv/000458.txt', '/content/drive/MyDrive/Data_punct/Datasets/literature_csv/000459.txt', '/content/drive/MyDrive/Data_punct/Datasets/literature_csv/000460.txt', '/content/drive/MyDrive/Data_punct/Datasets/literature_csv/000461.txt', '/content/drive/MyDrive/Data_punct/Datasets/literature_csv/000462.txt', '/content/drive/MyDrive/Data_punct/Datasets/literature_csv/000463.txt', '/content/drive/MyDrive/Data_punct/Datasets/literature_csv/000464.txt', '/content/drive/MyDrive/Data_punct/Datasets/literature_csv/000465.txt', '/content/drive/MyDrive/Data_punct/Datasets/literature_csv/000466.txt', '/content/drive/MyDrive/Data_punct/Datasets/literature_csv/000467.txt', '/content/drive/MyDrive/Data_punct/Datasets/literature_csv/000468.txt', '/content/drive/MyDrive/Data_punct/Datasets/literature_csv/000469.txt', '/content/drive/MyDrive/Data_punct/Datasets/literature_csv/000470.txt', '/content/drive/MyDrive/Data_punct/Datasets/literature_csv/000471.txt', '/content/drive/MyDrive/Data_punct/Datasets/literature_csv/000472.txt', '/content/drive/MyDrive/Data_punct/Datasets/literature_csv/000473.txt', '/content/drive/MyDrive/Data_punct/Datasets/literature_csv/000474.txt', '/content/drive/MyDrive/Data_punct/Datasets/literature_csv/000475.txt', '/content/drive/MyDrive/Data_punct/Datasets/literature_csv/000476.txt', '/content/drive/MyDrive/Data_punct/Datasets/literature_csv/000477.txt', '/content/drive/MyDrive/Data_punct/Datasets/literature_csv/000478.txt', '/content/drive/MyDrive/Data_punct/Datasets/literature_csv/000479.txt', '/content/drive/MyDrive/Data_punct/Datasets/literature_csv/000480.txt', '/content/drive/MyDrive/Data_punct/Datasets/literature_csv/000481.txt', '/content/drive/MyDrive/Data_punct/Datasets/literature_csv/000482.txt', '/content/drive/MyDrive/Data_punct/Datasets/literature_csv/000483.txt', '/content/drive/MyDrive/Data_punct/Datasets/literature_csv/000484.txt', '/content/drive/MyDrive/Data_punct/Datasets/literature_csv/000485.txt', '/content/drive/MyDrive/Data_punct/Datasets/literature_csv/000486.txt', '/content/drive/MyDrive/Data_punct/Datasets/literature_csv/000487.txt', '/content/drive/MyDrive/Data_punct/Datasets/literature_csv/000488.txt', '/content/drive/MyDrive/Data_punct/Datasets/literature_csv/000489.txt', '/content/drive/MyDrive/Data_punct/Datasets/literature_csv/000490.txt', '/content/drive/MyDrive/Data_punct/Datasets/literature_csv/000491.txt', '/content/drive/MyDrive/Data_punct/Datasets/literature_csv/000492.txt', '/content/drive/MyDrive/Data_punct/Datasets/literature_csv/000493.txt', '/content/drive/MyDrive/Data_punct/Datasets/literature_csv/000494.txt', '/content/drive/MyDrive/Data_punct/Datasets/literature_csv/000495.txt', '/content/drive/MyDrive/Data_punct/Datasets/literature_csv/000496.txt', '/content/drive/MyDrive/Data_punct/Datasets/literature_csv/000497.txt', '/content/drive/MyDrive/Data_punct/Datasets/literature_csv/000498.txt', '/content/drive/MyDrive/Data_punct/Datasets/literature_csv/000499.txt', '/content/drive/MyDrive/Data_punct/Datasets/literature_csv/000500.txt', '/content/drive/MyDrive/Data_punct/Datasets/literature_csv/000501.txt', '/content/drive/MyDrive/Data_punct/Datasets/literature_csv/000502.txt', '/content/drive/MyDrive/Data_punct/Datasets/literature_csv/000503.txt', '/content/drive/MyDrive/Data_punct/Datasets/literature_csv/000504.txt', '/content/drive/MyDrive/Data_punct/Datasets/literature_csv/000505.txt', '/content/drive/MyDrive/Data_punct/Datasets/literature_csv/000506.txt', '/content/drive/MyDrive/Data_punct/Datasets/literature_csv/000507.txt', '/content/drive/MyDrive/Data_punct/Datasets/literature_csv/000508.txt', '/content/drive/MyDrive/Data_punct/Datasets/literature_csv/000509.txt', '/content/drive/MyDrive/Data_punct/Datasets/literature_csv/000510.txt', '/content/drive/MyDrive/Data_punct/Datasets/literature_csv/000511.txt', '/content/drive/MyDrive/Data_punct/Datasets/literature_csv/000512.txt', '/content/drive/MyDrive/Data_punct/Datasets/literature_csv/000513.txt', '/content/drive/MyDrive/Data_punct/Datasets/literature_csv/000514.txt', '/content/drive/MyDrive/Data_punct/Datasets/literature_csv/000515.txt', '/content/drive/MyDrive/Data_punct/Datasets/literature_csv/000516.txt', '/content/drive/MyDrive/Data_punct/Datasets/literature_csv/000517.txt', '/content/drive/MyDrive/Data_punct/Datasets/literature_csv/000518.txt', '/content/drive/MyDrive/Data_punct/Datasets/literature_csv/000519.txt', '/content/drive/MyDrive/Data_punct/Datasets/literature_csv/000520.txt', '/content/drive/MyDrive/Data_punct/Datasets/literature_csv/000521.txt', '/content/drive/MyDrive/Data_punct/Datasets/literature_csv/000522.txt', '/content/drive/MyDrive/Data_punct/Datasets/literature_csv/000523.txt', '/content/drive/MyDrive/Data_punct/Datasets/literature_csv/000524.txt', '/content/drive/MyDrive/Data_punct/Datasets/literature_csv/000525.txt', '/content/drive/MyDrive/Data_punct/Datasets/literature_csv/000526.txt', '/content/drive/MyDrive/Data_punct/Datasets/literature_csv/000527.txt', '/content/drive/MyDrive/Data_punct/Datasets/literature_csv/000528.txt', '/content/drive/MyDrive/Data_punct/Datasets/literature_csv/000529.txt', '/content/drive/MyDrive/Data_punct/Datasets/literature_csv/000530.txt', '/content/drive/MyDrive/Data_punct/Datasets/literature_csv/000531.txt', '/content/drive/MyDrive/Data_punct/Datasets/literature_csv/000532.txt', '/content/drive/MyDrive/Data_punct/Datasets/literature_csv/000533.txt', '/content/drive/MyDrive/Data_punct/Datasets/literature_csv/000534.txt', '/content/drive/MyDrive/Data_punct/Datasets/literature_csv/000535.txt', '/content/drive/MyDrive/Data_punct/Datasets/literature_csv/000536.txt', '/content/drive/MyDrive/Data_punct/Datasets/literature_csv/000537.txt', '/content/drive/MyDrive/Data_punct/Datasets/literature_csv/000538.txt', '/content/drive/MyDrive/Data_punct/Datasets/literature_csv/000539.txt', '/content/drive/MyDrive/Data_punct/Datasets/literature_csv/000540.txt', '/content/drive/MyDrive/Data_punct/Datasets/literature_csv/000541.txt', '/content/drive/MyDrive/Data_punct/Datasets/literature_csv/000542.txt', '/content/drive/MyDrive/Data_punct/Datasets/literature_csv/000543.txt', '/content/drive/MyDrive/Data_punct/Datasets/literature_csv/000544.txt', '/content/drive/MyDrive/Data_punct/Datasets/literature_csv/000545.txt', '/content/drive/MyDrive/Data_punct/Datasets/literature_csv/000546.txt', '/content/drive/MyDrive/Data_punct/Datasets/literature_csv/000547.txt', '/content/drive/MyDrive/Data_punct/Datasets/literature_csv/000548.txt', '/content/drive/MyDrive/Data_punct/Datasets/literature_csv/000549.txt', '/content/drive/MyDrive/Data_punct/Datasets/literature_csv/000550.txt', '/content/drive/MyDrive/Data_punct/Datasets/literature_csv/000551.txt', '/content/drive/MyDrive/Data_punct/Datasets/literature_csv/000552.txt', '/content/drive/MyDrive/Data_punct/Datasets/literature_csv/000553.txt', '/content/drive/MyDrive/Data_punct/Datasets/literature_csv/000554.txt', '/content/drive/MyDrive/Data_punct/Datasets/literature_csv/000555.txt', '/content/drive/MyDrive/Data_punct/Datasets/literature_csv/000556.txt', '/content/drive/MyDrive/Data_punct/Datasets/literature_csv/000557.txt', '/content/drive/MyDrive/Data_punct/Datasets/literature_csv/000558.txt', '/content/drive/MyDrive/Data_punct/Datasets/literature_csv/000559.txt', '/content/drive/MyDrive/Data_punct/Datasets/literature_csv/000560.txt', '/content/drive/MyDrive/Data_punct/Datasets/literature_csv/000561.txt', '/content/drive/MyDrive/Data_punct/Datasets/literature_csv/000562.txt', '/content/drive/MyDrive/Data_punct/Datasets/literature_csv/000563.txt', '/content/drive/MyDrive/Data_punct/Datasets/literature_csv/000564.txt', '/content/drive/MyDrive/Data_punct/Datasets/literature_csv/000565.txt', '/content/drive/MyDrive/Data_punct/Datasets/literature_csv/000566.txt', '/content/drive/MyDrive/Data_punct/Datasets/literature_csv/000567.txt', '/content/drive/MyDrive/Data_punct/Datasets/literature_csv/000568.txt', '/content/drive/MyDrive/Data_punct/Datasets/literature_csv/000569.txt', '/content/drive/MyDrive/Data_punct/Datasets/literature_csv/000570.txt', '/content/drive/MyDrive/Data_punct/Datasets/literature_csv/000571.txt', '/content/drive/MyDrive/Data_punct/Datasets/literature_csv/000572.txt', '/content/drive/MyDrive/Data_punct/Datasets/literature_csv/000573.txt', '/content/drive/MyDrive/Data_punct/Datasets/literature_csv/000574.txt', '/content/drive/MyDrive/Data_punct/Datasets/literature_csv/000575.txt', '/content/drive/MyDrive/Data_punct/Datasets/literature_csv/000576.txt', '/content/drive/MyDrive/Data_punct/Datasets/literature_csv/000577.txt', '/content/drive/MyDrive/Data_punct/Datasets/literature_csv/000578.txt', '/content/drive/MyDrive/Data_punct/Datasets/literature_csv/000579.txt', '/content/drive/MyDrive/Data_punct/Datasets/literature_csv/000580.txt', '/content/drive/MyDrive/Data_punct/Datasets/literature_csv/000581.txt', '/content/drive/MyDrive/Data_punct/Datasets/literature_csv/000582.txt', '/content/drive/MyDrive/Data_punct/Datasets/literature_csv/000583.txt', '/content/drive/MyDrive/Data_punct/Datasets/literature_csv/000584.txt', '/content/drive/MyDrive/Data_punct/Datasets/literature_csv/000585.txt', '/content/drive/MyDrive/Data_punct/Datasets/literature_csv/000586.txt', '/content/drive/MyDrive/Data_punct/Datasets/literature_csv/000587.txt', '/content/drive/MyDrive/Data_punct/Datasets/literature_csv/000588.txt', '/content/drive/MyDrive/Data_punct/Datasets/literature_csv/000589.txt', '/content/drive/MyDrive/Data_punct/Datasets/literature_csv/000590.txt', '/content/drive/MyDrive/Data_punct/Datasets/literature_csv/000591.txt', '/content/drive/MyDrive/Data_punct/Datasets/literature_csv/000592.txt', '/content/drive/MyDrive/Data_punct/Datasets/literature_csv/000593.txt', '/content/drive/MyDrive/Data_punct/Datasets/literature_csv/000594.txt', '/content/drive/MyDrive/Data_punct/Datasets/literature_csv/000595.txt', '/content/drive/MyDrive/Data_punct/Datasets/literature_csv/000596.txt', '/content/drive/MyDrive/Data_punct/Datasets/literature_csv/000597.txt', '/content/drive/MyDrive/Data_punct/Datasets/literature_csv/000598.txt', '/content/drive/MyDrive/Data_punct/Datasets/literature_csv/000599.txt', '/content/drive/MyDrive/Data_punct/Datasets/literature_csv/000600.txt', '/content/drive/MyDrive/Data_punct/Datasets/literature_csv/000601.txt', '/content/drive/MyDrive/Data_punct/Datasets/literature_csv/000602.txt', '/content/drive/MyDrive/Data_punct/Datasets/literature_csv/000603.txt', '/content/drive/MyDrive/Data_punct/Datasets/literature_csv/000604.txt', '/content/drive/MyDrive/Data_punct/Datasets/literature_csv/000605.txt', '/content/drive/MyDrive/Data_punct/Datasets/literature_csv/000606.txt', '/content/drive/MyDrive/Data_punct/Datasets/literature_csv/000607.txt', '/content/drive/MyDrive/Data_punct/Datasets/literature_csv/000608.txt', '/content/drive/MyDrive/Data_punct/Datasets/literature_csv/000609.txt', '/content/drive/MyDrive/Data_punct/Datasets/literature_csv/000610.txt', '/content/drive/MyDrive/Data_punct/Datasets/literature_csv/000611.txt', '/content/drive/MyDrive/Data_punct/Datasets/literature_csv/000612.txt', '/content/drive/MyDrive/Data_punct/Datasets/literature_csv/000613.txt', '/content/drive/MyDrive/Data_punct/Datasets/literature_csv/000614.txt', '/content/drive/MyDrive/Data_punct/Datasets/literature_csv/000615.txt', '/content/drive/MyDrive/Data_punct/Datasets/literature_csv/000616.txt', '/content/drive/MyDrive/Data_punct/Datasets/literature_csv/000617.txt', '/content/drive/MyDrive/Data_punct/Datasets/literature_csv/000618.txt', '/content/drive/MyDrive/Data_punct/Datasets/literature_csv/000619.txt', '/content/drive/MyDrive/Data_punct/Datasets/literature_csv/000620.txt', '/content/drive/MyDrive/Data_punct/Datasets/literature_csv/000621.txt', '/content/drive/MyDrive/Data_punct/Datasets/literature_csv/000622.txt', '/content/drive/MyDrive/Data_punct/Datasets/literature_csv/000623.txt', '/content/drive/MyDrive/Data_punct/Datasets/literature_csv/000624.txt', '/content/drive/MyDrive/Data_punct/Datasets/literature_csv/000625.txt', '/content/drive/MyDrive/Data_punct/Datasets/literature_csv/000626.txt', '/content/drive/MyDrive/Data_punct/Datasets/literature_csv/000627.txt', '/content/drive/MyDrive/Data_punct/Datasets/literature_csv/000628.txt', '/content/drive/MyDrive/Data_punct/Datasets/literature_csv/000629.txt', '/content/drive/MyDrive/Data_punct/Datasets/literature_csv/000630.txt', '/content/drive/MyDrive/Data_punct/Datasets/literature_csv/000631.txt', '/content/drive/MyDrive/Data_punct/Datasets/literature_csv/000632.txt', '/content/drive/MyDrive/Data_punct/Datasets/literature_csv/000633.txt', '/content/drive/MyDrive/Data_punct/Datasets/literature_csv/000634.txt', '/content/drive/MyDrive/Data_punct/Datasets/literature_csv/000635.txt', '/content/drive/MyDrive/Data_punct/Datasets/literature_csv/000636.txt', '/content/drive/MyDrive/Data_punct/Datasets/literature_csv/000637.txt', '/content/drive/MyDrive/Data_punct/Datasets/literature_csv/000638.txt', '/content/drive/MyDrive/Data_punct/Datasets/literature_csv/000639.txt', '/content/drive/MyDrive/Data_punct/Datasets/literature_csv/000640.txt', '/content/drive/MyDrive/Data_punct/Datasets/literature_csv/000641.txt', '/content/drive/MyDrive/Data_punct/Datasets/literature_csv/000642.txt', '/content/drive/MyDrive/Data_punct/Datasets/literature_csv/000643.txt', '/content/drive/MyDrive/Data_punct/Datasets/literature_csv/000644.txt', '/content/drive/MyDrive/Data_punct/Datasets/literature_csv/000645.txt', '/content/drive/MyDrive/Data_punct/Datasets/literature_csv/000646.txt', '/content/drive/MyDrive/Data_punct/Datasets/literature_csv/000647.txt', '/content/drive/MyDrive/Data_punct/Datasets/literature_csv/000648.txt', '/content/drive/MyDrive/Data_punct/Datasets/literature_csv/000649.txt', '/content/drive/MyDrive/Data_punct/Datasets/literature_csv/000650.txt', '/content/drive/MyDrive/Data_punct/Datasets/literature_csv/000651.txt', '/content/drive/MyDrive/Data_punct/Datasets/literature_csv/000652.txt', '/content/drive/MyDrive/Data_punct/Datasets/literature_csv/000653.txt', '/content/drive/MyDrive/Data_punct/Datasets/literature_csv/000654.txt', '/content/drive/MyDrive/Data_punct/Datasets/literature_csv/000655.txt', '/content/drive/MyDrive/Data_punct/Datasets/literature_csv/000656.txt', '/content/drive/MyDrive/Data_punct/Datasets/literature_csv/000657.txt', '/content/drive/MyDrive/Data_punct/Datasets/literature_csv/000658.txt', '/content/drive/MyDrive/Data_punct/Datasets/literature_csv/000659.txt', '/content/drive/MyDrive/Data_punct/Datasets/literature_csv/000660.txt', '/content/drive/MyDrive/Data_punct/Datasets/literature_csv/000661.txt', '/content/drive/MyDrive/Data_punct/Datasets/literature_csv/000662.txt', '/content/drive/MyDrive/Data_punct/Datasets/literature_csv/000663.txt', '/content/drive/MyDrive/Data_punct/Datasets/literature_csv/000664.txt', '/content/drive/MyDrive/Data_punct/Datasets/literature_csv/000665.txt', '/content/drive/MyDrive/Data_punct/Datasets/literature_csv/000666.txt', '/content/drive/MyDrive/Data_punct/Datasets/literature_csv/000667.txt', '/content/drive/MyDrive/Data_punct/Datasets/literature_csv/000668.txt', '/content/drive/MyDrive/Data_punct/Datasets/literature_csv/000669.txt', '/content/drive/MyDrive/Data_punct/Datasets/literature_csv/000670.txt', '/content/drive/MyDrive/Data_punct/Datasets/literature_csv/000671.txt', '/content/drive/MyDrive/Data_punct/Datasets/literature_csv/000672.txt', '/content/drive/MyDrive/Data_punct/Datasets/literature_csv/000673.txt', '/content/drive/MyDrive/Data_punct/Datasets/literature_csv/000674.txt', '/content/drive/MyDrive/Data_punct/Datasets/literature_csv/000675.txt', '/content/drive/MyDrive/Data_punct/Datasets/literature_csv/000676.txt', '/content/drive/MyDrive/Data_punct/Datasets/literature_csv/000677.txt', '/content/drive/MyDrive/Data_punct/Datasets/literature_csv/000678.txt', '/content/drive/MyDrive/Data_punct/Datasets/literature_csv/000679.txt', '/content/drive/MyDrive/Data_punct/Datasets/literature_csv/000680.txt', '/content/drive/MyDrive/Data_punct/Datasets/literature_csv/000681.txt', '/content/drive/MyDrive/Data_punct/Datasets/literature_csv/000682.txt', '/content/drive/MyDrive/Data_punct/Datasets/literature_csv/000683.txt', '/content/drive/MyDrive/Data_punct/Datasets/literature_csv/000684.txt', '/content/drive/MyDrive/Data_punct/Datasets/literature_csv/000685.txt', '/content/drive/MyDrive/Data_punct/Datasets/literature_csv/000686.txt', '/content/drive/MyDrive/Data_punct/Datasets/literature_csv/000687.txt', '/content/drive/MyDrive/Data_punct/Datasets/literature_csv/000688.txt', '/content/drive/MyDrive/Data_punct/Datasets/literature_csv/000689.txt', '/content/drive/MyDrive/Data_punct/Datasets/literature_csv/000690.txt', '/content/drive/MyDrive/Data_punct/Datasets/literature_csv/000691.txt', '/content/drive/MyDrive/Data_punct/Datasets/literature_csv/000692.txt', '/content/drive/MyDrive/Data_punct/Datasets/literature_csv/000693.txt', '/content/drive/MyDrive/Data_punct/Datasets/literature_csv/000694.txt', '/content/drive/MyDrive/Data_punct/Datasets/literature_csv/000695.txt', '/content/drive/MyDrive/Data_punct/Datasets/literature_csv/000696.txt', '/content/drive/MyDrive/Data_punct/Datasets/literature_csv/000697.txt', '/content/drive/MyDrive/Data_punct/Datasets/literature_csv/000698.txt', '/content/drive/MyDrive/Data_punct/Datasets/literature_csv/000699.txt', '/content/drive/MyDrive/Data_punct/Datasets/literature_csv/000700.txt', '/content/drive/MyDrive/Data_punct/Datasets/literature_csv/000701.txt', '/content/drive/MyDrive/Data_punct/Datasets/literature_csv/000702.txt', '/content/drive/MyDrive/Data_punct/Datasets/literature_csv/000703.txt', '/content/drive/MyDrive/Data_punct/Datasets/literature_csv/000704.txt', '/content/drive/MyDrive/Data_punct/Datasets/literature_csv/000705.txt', '/content/drive/MyDrive/Data_punct/Datasets/literature_csv/000706.txt', '/content/drive/MyDrive/Data_punct/Datasets/literature_csv/000707.txt', '/content/drive/MyDrive/Data_punct/Datasets/literature_csv/000708.txt', '/content/drive/MyDrive/Data_punct/Datasets/literature_csv/000709.txt', '/content/drive/MyDrive/Data_punct/Datasets/literature_csv/000710.txt', '/content/drive/MyDrive/Data_punct/Datasets/literature_csv/000711.txt', '/content/drive/MyDrive/Data_punct/Datasets/literature_csv/000712.txt', '/content/drive/MyDrive/Data_punct/Datasets/literature_csv/000713.txt', '/content/drive/MyDrive/Data_punct/Datasets/literature_csv/000714.txt', '/content/drive/MyDrive/Data_punct/Datasets/literature_csv/000715.txt', '/content/drive/MyDrive/Data_punct/Datasets/literature_csv/000716.txt', '/content/drive/MyDrive/Data_punct/Datasets/literature_csv/000717.txt', '/content/drive/MyDrive/Data_punct/Datasets/literature_csv/000718.txt', '/content/drive/MyDrive/Data_punct/Datasets/literature_csv/000719.txt', '/content/drive/MyDrive/Data_punct/Datasets/literature_csv/000720.txt', '/content/drive/MyDrive/Data_punct/Datasets/literature_csv/000721.txt', '/content/drive/MyDrive/Data_punct/Datasets/literature_csv/000722.txt', '/content/drive/MyDrive/Data_punct/Datasets/literature_csv/000723.txt', '/content/drive/MyDrive/Data_punct/Datasets/literature_csv/000724.txt', '/content/drive/MyDrive/Data_punct/Datasets/literature_csv/000725.txt', '/content/drive/MyDrive/Data_punct/Datasets/literature_csv/000726.txt', '/content/drive/MyDrive/Data_punct/Datasets/literature_csv/000727.txt', '/content/drive/MyDrive/Data_punct/Datasets/literature_csv/000728.txt', '/content/drive/MyDrive/Data_punct/Datasets/literature_csv/000729.txt', '/content/drive/MyDrive/Data_punct/Datasets/literature_csv/000730.txt', '/content/drive/MyDrive/Data_punct/Datasets/literature_csv/000731.txt', '/content/drive/MyDrive/Data_punct/Datasets/literature_csv/000732.txt', '/content/drive/MyDrive/Data_punct/Datasets/literature_csv/000733.txt', '/content/drive/MyDrive/Data_punct/Datasets/literature_csv/000734.txt', '/content/drive/MyDrive/Data_punct/Datasets/literature_csv/000735.txt', '/content/drive/MyDrive/Data_punct/Datasets/literature_csv/000736.txt', '/content/drive/MyDrive/Data_punct/Datasets/literature_csv/000737.txt', '/content/drive/MyDrive/Data_punct/Datasets/literature_csv/000738.txt', '/content/drive/MyDrive/Data_punct/Datasets/literature_csv/000739.txt', '/content/drive/MyDrive/Data_punct/Datasets/literature_csv/000740.txt', '/content/drive/MyDrive/Data_punct/Datasets/literature_csv/000741.txt', '/content/drive/MyDrive/Data_punct/Datasets/literature_csv/000742.txt', '/content/drive/MyDrive/Data_punct/Datasets/literature_csv/000743.txt', '/content/drive/MyDrive/Data_punct/Datasets/literature_csv/000744.txt', '/content/drive/MyDrive/Data_punct/Datasets/literature_csv/000745.txt', '/content/drive/MyDrive/Data_punct/Datasets/literature_csv/000746.txt', '/content/drive/MyDrive/Data_punct/Datasets/literature_csv/000747.txt', '/content/drive/MyDrive/Data_punct/Datasets/literature_csv/000748.txt', '/content/drive/MyDrive/Data_punct/Datasets/literature_csv/000749.txt', '/content/drive/MyDrive/Data_punct/Datasets/literature_csv/000750.txt', '/content/drive/MyDrive/Data_punct/Datasets/literature_csv/000751.txt', '/content/drive/MyDrive/Data_punct/Datasets/literature_csv/000752.txt', '/content/drive/MyDrive/Data_punct/Datasets/literature_csv/000753.txt', '/content/drive/MyDrive/Data_punct/Datasets/literature_csv/000754.txt', '/content/drive/MyDrive/Data_punct/Datasets/literature_csv/000755.txt', '/content/drive/MyDrive/Data_punct/Datasets/literature_csv/000756.txt', '/content/drive/MyDrive/Data_punct/Datasets/literature_csv/000757.txt', '/content/drive/MyDrive/Data_punct/Datasets/literature_csv/000758.txt', '/content/drive/MyDrive/Data_punct/Datasets/literature_csv/000759.txt', '/content/drive/MyDrive/Data_punct/Datasets/literature_csv/000760.txt', '/content/drive/MyDrive/Data_punct/Datasets/literature_csv/000761.txt', '/content/drive/MyDrive/Data_punct/Datasets/literature_csv/000762.txt', '/content/drive/MyDrive/Data_punct/Datasets/literature_csv/000763.txt', '/content/drive/MyDrive/Data_punct/Datasets/literature_csv/000764.txt', '/content/drive/MyDrive/Data_punct/Datasets/literature_csv/000765.txt', '/content/drive/MyDrive/Data_punct/Datasets/literature_csv/000766.txt', '/content/drive/MyDrive/Data_punct/Datasets/literature_csv/000767.txt', '/content/drive/MyDrive/Data_punct/Datasets/literature_csv/000768.txt', '/content/drive/MyDrive/Data_punct/Datasets/literature_csv/000769.txt', '/content/drive/MyDrive/Data_punct/Datasets/literature_csv/000770.txt', '/content/drive/MyDrive/Data_punct/Datasets/literature_csv/000771.txt', '/content/drive/MyDrive/Data_punct/Datasets/literature_csv/000772.txt', '/content/drive/MyDrive/Data_punct/Datasets/literature_csv/000773.txt', '/content/drive/MyDrive/Data_punct/Datasets/literature_csv/000774.txt', '/content/drive/MyDrive/Data_punct/Datasets/literature_csv/000775.txt', '/content/drive/MyDrive/Data_punct/Datasets/literature_csv/000776.txt', '/content/drive/MyDrive/Data_punct/Datasets/literature_csv/000777.txt', '/content/drive/MyDrive/Data_punct/Datasets/literature_csv/000778.txt', '/content/drive/MyDrive/Data_punct/Datasets/literature_csv/000779.txt', '/content/drive/MyDrive/Data_punct/Datasets/literature_csv/000780.txt', '/content/drive/MyDrive/Data_punct/Datasets/literature_csv/000781.txt', '/content/drive/MyDrive/Data_punct/Datasets/literature_csv/000782.txt', '/content/drive/MyDrive/Data_punct/Datasets/literature_csv/000783.txt', '/content/drive/MyDrive/Data_punct/Datasets/literature_csv/000784.txt', '/content/drive/MyDrive/Data_punct/Datasets/literature_csv/000785.txt', '/content/drive/MyDrive/Data_punct/Datasets/literature_csv/000786.txt', '/content/drive/MyDrive/Data_punct/Datasets/literature_csv/000787.txt', '/content/drive/MyDrive/Data_punct/Datasets/literature_csv/000788.txt', '/content/drive/MyDrive/Data_punct/Datasets/literature_csv/000789.txt', '/content/drive/MyDrive/Data_punct/Datasets/literature_csv/000790.txt', '/content/drive/MyDrive/Data_punct/Datasets/literature_csv/000791.txt', '/content/drive/MyDrive/Data_punct/Datasets/literature_csv/000792.txt', '/content/drive/MyDrive/Data_punct/Datasets/literature_csv/000793.txt', '/content/drive/MyDrive/Data_punct/Datasets/literature_csv/000794.txt', '/content/drive/MyDrive/Data_punct/Datasets/literature_csv/000795.txt', '/content/drive/MyDrive/Data_punct/Datasets/literature_csv/000796.txt', '/content/drive/MyDrive/Data_punct/Datasets/literature_csv/000797.txt', '/content/drive/MyDrive/Data_punct/Datasets/literature_csv/000798.txt', '/content/drive/MyDrive/Data_punct/Datasets/literature_csv/000799.txt', '/content/drive/MyDrive/Data_punct/Datasets/literature_csv/000800.txt', '/content/drive/MyDrive/Data_punct/Datasets/literature_csv/000801.txt', '/content/drive/MyDrive/Data_punct/Datasets/literature_csv/000802.txt', '/content/drive/MyDrive/Data_punct/Datasets/literature_csv/000803.txt', '/content/drive/MyDrive/Data_punct/Datasets/literature_csv/000804.txt', '/content/drive/MyDrive/Data_punct/Datasets/literature_csv/000805.txt', '/content/drive/MyDrive/Data_punct/Datasets/literature_csv/000806.txt', '/content/drive/MyDrive/Data_punct/Datasets/literature_csv/000807.txt', '/content/drive/MyDrive/Data_punct/Datasets/literature_csv/000808.txt', '/content/drive/MyDrive/Data_punct/Datasets/literature_csv/000809.txt', '/content/drive/MyDrive/Data_punct/Datasets/literature_csv/000810.txt', '/content/drive/MyDrive/Data_punct/Datasets/literature_csv/000811.txt', '/content/drive/MyDrive/Data_punct/Datasets/literature_csv/000812.txt', '/content/drive/MyDrive/Data_punct/Datasets/literature_csv/000813.txt', '/content/drive/MyDrive/Data_punct/Datasets/literature_csv/000814.txt', '/content/drive/MyDrive/Data_punct/Datasets/literature_csv/000815.txt', '/content/drive/MyDrive/Data_punct/Datasets/literature_csv/000816.txt', '/content/drive/MyDrive/Data_punct/Datasets/literature_csv/000817.txt', '/content/drive/MyDrive/Data_punct/Datasets/literature_csv/000818.txt', '/content/drive/MyDrive/Data_punct/Datasets/literature_csv/000819.txt', '/content/drive/MyDrive/Data_punct/Datasets/literature_csv/000820.txt', '/content/drive/MyDrive/Data_punct/Datasets/literature_csv/000821.txt', '/content/drive/MyDrive/Data_punct/Datasets/literature_csv/000822.txt', '/content/drive/MyDrive/Data_punct/Datasets/literature_csv/000823.txt', '/content/drive/MyDrive/Data_punct/Datasets/literature_csv/000824.txt', '/content/drive/MyDrive/Data_punct/Datasets/literature_csv/000825.txt', '/content/drive/MyDrive/Data_punct/Datasets/literature_csv/000826.txt', '/content/drive/MyDrive/Data_punct/Datasets/literature_csv/000827.txt', '/content/drive/MyDrive/Data_punct/Datasets/literature_csv/000828.txt', '/content/drive/MyDrive/Data_punct/Datasets/literature_csv/000829.txt', '/content/drive/MyDrive/Data_punct/Datasets/literature_csv/000830.txt', '/content/drive/MyDrive/Data_punct/Datasets/literature_csv/000831.txt', '/content/drive/MyDrive/Data_punct/Datasets/literature_csv/000832.txt', '/content/drive/MyDrive/Data_punct/Datasets/literature_csv/000833.txt', '/content/drive/MyDrive/Data_punct/Datasets/literature_csv/000834.txt', '/content/drive/MyDrive/Data_punct/Datasets/literature_csv/000835.txt', '/content/drive/MyDrive/Data_punct/Datasets/literature_csv/000836.txt', '/content/drive/MyDrive/Data_punct/Datasets/literature_csv/000837.txt', '/content/drive/MyDrive/Data_punct/Datasets/literature_csv/000838.txt', '/content/drive/MyDrive/Data_punct/Datasets/literature_csv/000839.txt', '/content/drive/MyDrive/Data_punct/Datasets/literature_csv/000840.txt', '/content/drive/MyDrive/Data_punct/Datasets/literature_csv/000841.txt', '/content/drive/MyDrive/Data_punct/Datasets/literature_csv/000842.txt', '/content/drive/MyDrive/Data_punct/Datasets/literature_csv/000843.txt', '/content/drive/MyDrive/Data_punct/Datasets/literature_csv/000844.txt', '/content/drive/MyDrive/Data_punct/Datasets/literature_csv/000845.txt', '/content/drive/MyDrive/Data_punct/Datasets/literature_csv/000846.txt', '/content/drive/MyDrive/Data_punct/Datasets/literature_csv/000847.txt', '/content/drive/MyDrive/Data_punct/Datasets/literature_csv/000848.txt', '/content/drive/MyDrive/Data_punct/Datasets/literature_csv/000849.txt', '/content/drive/MyDrive/Data_punct/Datasets/literature_csv/000850.txt', '/content/drive/MyDrive/Data_punct/Datasets/literature_csv/000851.txt', '/content/drive/MyDrive/Data_punct/Datasets/literature_csv/000852.txt', '/content/drive/MyDrive/Data_punct/Datasets/literature_csv/000853.txt', '/content/drive/MyDrive/Data_punct/Datasets/literature_csv/000854.txt', '/content/drive/MyDrive/Data_punct/Datasets/literature_csv/000855.txt', '/content/drive/MyDrive/Data_punct/Datasets/literature_csv/000856.txt', '/content/drive/MyDrive/Data_punct/Datasets/literature_csv/000857.txt', '/content/drive/MyDrive/Data_punct/Datasets/literature_csv/000858.txt', '/content/drive/MyDrive/Data_punct/Datasets/literature_csv/000859.txt', '/content/drive/MyDrive/Data_punct/Datasets/literature_csv/000860.txt', '/content/drive/MyDrive/Data_punct/Datasets/literature_csv/000861.txt', '/content/drive/MyDrive/Data_punct/Datasets/literature_csv/000862.txt', '/content/drive/MyDrive/Data_punct/Datasets/literature_csv/000863.txt', '/content/drive/MyDrive/Data_punct/Datasets/literature_csv/000864.txt', '/content/drive/MyDrive/Data_punct/Datasets/literature_csv/000865.txt', '/content/drive/MyDrive/Data_punct/Datasets/literature_csv/000866.txt', '/content/drive/MyDrive/Data_punct/Datasets/literature_csv/000867.txt', '/content/drive/MyDrive/Data_punct/Datasets/literature_csv/000868.txt', '/content/drive/MyDrive/Data_punct/Datasets/literature_csv/000869.txt', '/content/drive/MyDrive/Data_punct/Datasets/literature_csv/000870.txt', '/content/drive/MyDrive/Data_punct/Datasets/literature_csv/000871.txt', '/content/drive/MyDrive/Data_punct/Datasets/literature_csv/000872.txt', '/content/drive/MyDrive/Data_punct/Datasets/literature_csv/000873.txt', '/content/drive/MyDrive/Data_punct/Datasets/literature_csv/000874.txt', '/content/drive/MyDrive/Data_punct/Datasets/literature_csv/000875.txt', '/content/drive/MyDrive/Data_punct/Datasets/literature_csv/000876.txt', '/content/drive/MyDrive/Data_punct/Datasets/literature_csv/000877.txt', '/content/drive/MyDrive/Data_punct/Datasets/literature_csv/000878.txt', '/content/drive/MyDrive/Data_punct/Datasets/literature_csv/000879.txt', '/content/drive/MyDrive/Data_punct/Datasets/literature_csv/000880.txt', '/content/drive/MyDrive/Data_punct/Datasets/literature_csv/000881.txt', '/content/drive/MyDrive/Data_punct/Datasets/literature_csv/000882.txt', '/content/drive/MyDrive/Data_punct/Datasets/literature_csv/000883.txt']\n"
          ]
        }
      ]
    },
    {
      "cell_type": "code",
      "source": [
        "print('Loading train data...')\n",
        "# f'{common_path}/train.txt'\n",
        "train_dataset = RepunctDataset(train_flist, tokenizer=tokenizer, targets=TARGETS,\n",
        "                               sequence_len=SEQ_LEN, token_style=token_style,\n",
        "                               is_train=True, augment_rate=AUG_RATE,\n",
        "                               augment_type=AUG_TYPE)\n",
        "train_loader = DataLoader(train_dataset, **data_loader_params)"
      ],
      "metadata": {
        "id": "3p-LPS_LJw_E",
        "colab": {
          "base_uri": "https://localhost:8080/"
        },
        "outputId": "2f06f68b-cf04-42da-d9d1-93f0c00069a7"
      },
      "execution_count": null,
      "outputs": [
        {
          "output_type": "stream",
          "name": "stdout",
          "text": [
            "Loading train data...\n"
          ]
        },
        {
          "output_type": "stream",
          "name": "stderr",
          "text": [
            "100%|██████████| 437/437 [00:00<00:00, 14030.46it/s]\n",
            "100%|██████████| 305/305 [00:00<00:00, 22423.54it/s]\n",
            "100%|██████████| 138/138 [00:00<00:00, 16732.11it/s]\n",
            "100%|██████████| 141/141 [00:00<00:00, 17953.22it/s]\n",
            "100%|██████████| 436/436 [00:00<00:00, 22096.09it/s]\n",
            "100%|██████████| 466/466 [00:00<00:00, 23087.55it/s]\n",
            "100%|██████████| 340/340 [00:00<00:00, 20445.65it/s]\n",
            "100%|██████████| 481/481 [00:00<00:00, 22607.13it/s]\n",
            "100%|██████████| 277/277 [00:00<00:00, 21475.46it/s]\n",
            "100%|██████████| 182/182 [00:00<00:00, 19123.77it/s]\n",
            "100%|██████████| 435/435 [00:00<00:00, 21806.17it/s]\n",
            "100%|██████████| 465/465 [00:00<00:00, 22925.35it/s]\n",
            "100%|██████████| 212/212 [00:00<00:00, 22291.67it/s]\n",
            "100%|██████████| 118/118 [00:00<00:00, 20244.93it/s]\n",
            "100%|██████████| 417/417 [00:00<00:00, 22981.13it/s]\n",
            "100%|██████████| 155/155 [00:00<00:00, 18777.57it/s]\n",
            "100%|██████████| 873/873 [00:00<00:00, 24674.37it/s]\n",
            "100%|██████████| 228/228 [00:00<00:00, 13331.77it/s]\n",
            "100%|██████████| 122/122 [00:00<00:00, 18553.48it/s]\n",
            "100%|██████████| 144/144 [00:00<00:00, 18990.69it/s]\n",
            "100%|██████████| 154/154 [00:00<00:00, 19429.17it/s]\n",
            "100%|██████████| 263/263 [00:00<00:00, 21540.75it/s]\n",
            "100%|██████████| 140/140 [00:00<00:00, 19696.19it/s]\n",
            "100%|██████████| 287/287 [00:00<00:00, 21433.42it/s]\n",
            "100%|██████████| 436/436 [00:00<00:00, 22002.51it/s]\n",
            "100%|██████████| 296/296 [00:00<00:00, 21636.33it/s]\n",
            "100%|██████████| 324/324 [00:00<00:00, 21510.95it/s]\n",
            "100%|██████████| 159/159 [00:00<00:00, 20017.24it/s]\n",
            "100%|██████████| 395/395 [00:00<00:00, 22436.12it/s]\n",
            "100%|██████████| 231/231 [00:00<00:00, 24059.70it/s]\n",
            "100%|██████████| 413/413 [00:00<00:00, 19923.03it/s]\n",
            "100%|██████████| 323/323 [00:00<00:00, 21268.49it/s]\n",
            "100%|██████████| 478/478 [00:00<00:00, 20501.03it/s]\n",
            "100%|██████████| 272/272 [00:00<00:00, 21567.40it/s]\n",
            "100%|██████████| 377/377 [00:00<00:00, 21836.89it/s]\n",
            "100%|██████████| 215/215 [00:00<00:00, 20060.40it/s]\n",
            "100%|██████████| 204/204 [00:00<00:00, 19470.21it/s]\n",
            "100%|██████████| 102/102 [00:00<00:00, 20920.24it/s]\n",
            "100%|██████████| 374/374 [00:00<00:00, 22067.83it/s]\n",
            "100%|██████████| 444/444 [00:00<00:00, 22073.98it/s]\n",
            "100%|██████████| 149/149 [00:00<00:00, 19493.18it/s]\n",
            "100%|██████████| 258/258 [00:00<00:00, 21736.51it/s]\n",
            "100%|██████████| 299/299 [00:00<00:00, 20719.63it/s]\n",
            "100%|██████████| 121/121 [00:00<00:00, 17712.31it/s]\n",
            "100%|██████████| 503/503 [00:00<00:00, 20720.85it/s]\n",
            "100%|██████████| 649/649 [00:00<00:00, 23687.97it/s]\n",
            "100%|██████████| 624/624 [00:00<00:00, 22289.80it/s]\n",
            "100%|██████████| 211/211 [00:00<00:00, 21052.34it/s]\n",
            "100%|██████████| 247/247 [00:00<00:00, 22363.10it/s]\n",
            "100%|██████████| 170/170 [00:00<00:00, 20310.24it/s]\n",
            "100%|██████████| 171/171 [00:00<00:00, 16278.02it/s]\n",
            "100%|██████████| 135/135 [00:00<00:00, 20138.39it/s]\n",
            "100%|██████████| 379/379 [00:00<00:00, 23534.90it/s]\n",
            "100%|██████████| 279/279 [00:00<00:00, 21949.00it/s]\n",
            "100%|██████████| 922/922 [00:00<00:00, 23778.96it/s]\n",
            "100%|██████████| 438/438 [00:00<00:00, 22868.62it/s]\n",
            "100%|██████████| 762/762 [00:00<00:00, 22467.91it/s]\n",
            "100%|██████████| 730/730 [00:00<00:00, 23659.46it/s]\n",
            "100%|██████████| 434/434 [00:00<00:00, 22707.83it/s]\n",
            "100%|██████████| 194/194 [00:00<00:00, 21789.76it/s]\n",
            "100%|██████████| 530/530 [00:00<00:00, 24889.22it/s]\n",
            "100%|██████████| 587/587 [00:00<00:00, 24039.06it/s]\n",
            "100%|██████████| 482/482 [00:00<00:00, 21415.38it/s]\n",
            "100%|██████████| 423/423 [00:00<00:00, 22173.78it/s]\n",
            "100%|██████████| 455/455 [00:00<00:00, 23046.18it/s]\n",
            "100%|██████████| 309/309 [00:00<00:00, 22451.97it/s]\n",
            "100%|██████████| 422/422 [00:00<00:00, 21657.16it/s]\n",
            "100%|██████████| 91/91 [00:00<00:00, 17141.14it/s]\n",
            "100%|██████████| 203/203 [00:00<00:00, 21011.89it/s]\n",
            "100%|██████████| 89/89 [00:00<00:00, 17089.04it/s]\n",
            "100%|██████████| 181/181 [00:00<00:00, 21854.14it/s]\n",
            "100%|██████████| 176/176 [00:00<00:00, 21747.51it/s]\n",
            "100%|██████████| 223/223 [00:00<00:00, 21870.87it/s]\n",
            "100%|██████████| 251/251 [00:00<00:00, 21419.97it/s]\n",
            "100%|██████████| 269/269 [00:00<00:00, 21975.53it/s]\n",
            "100%|██████████| 147/147 [00:00<00:00, 19526.31it/s]\n",
            "100%|██████████| 430/430 [00:00<00:00, 22393.51it/s]\n",
            "100%|██████████| 799/799 [00:00<00:00, 23566.16it/s]\n",
            "100%|██████████| 470/470 [00:00<00:00, 23070.17it/s]\n",
            "100%|██████████| 131/131 [00:00<00:00, 18209.51it/s]\n",
            "100%|██████████| 397/397 [00:00<00:00, 21870.01it/s]\n",
            "100%|██████████| 228/228 [00:00<00:00, 21457.13it/s]\n",
            "100%|██████████| 137/137 [00:00<00:00, 18164.05it/s]\n",
            "100%|██████████| 130/130 [00:00<00:00, 20318.21it/s]\n",
            "100%|██████████| 171/171 [00:00<00:00, 21684.84it/s]\n",
            "100%|██████████| 150/150 [00:00<00:00, 19036.18it/s]\n",
            "100%|██████████| 149/149 [00:00<00:00, 19435.59it/s]\n",
            "100%|██████████| 350/350 [00:00<00:00, 24113.91it/s]\n",
            "100%|██████████| 675/675 [00:00<00:00, 22900.97it/s]\n",
            "100%|██████████| 225/225 [00:00<00:00, 21943.37it/s]\n",
            "100%|██████████| 98/98 [00:00<00:00, 13434.06it/s]\n",
            "100%|██████████| 200/200 [00:00<00:00, 19265.11it/s]\n",
            "100%|██████████| 356/356 [00:00<00:00, 21182.75it/s]\n",
            "100%|██████████| 134/134 [00:00<00:00, 22138.76it/s]\n",
            "100%|██████████| 257/257 [00:00<00:00, 19043.80it/s]\n",
            "100%|██████████| 474/474 [00:00<00:00, 22678.90it/s]\n",
            "100%|██████████| 249/249 [00:00<00:00, 20711.59it/s]\n",
            "100%|██████████| 344/344 [00:00<00:00, 23505.54it/s]\n",
            "100%|██████████| 240/240 [00:00<00:00, 20709.63it/s]\n",
            "100%|██████████| 159/159 [00:00<00:00, 20352.62it/s]\n",
            "100%|██████████| 103/103 [00:00<00:00, 18210.74it/s]\n",
            "100%|██████████| 147/147 [00:00<00:00, 20063.22it/s]\n",
            "100%|██████████| 165/165 [00:00<00:00, 20172.56it/s]\n",
            "100%|██████████| 208/208 [00:00<00:00, 20512.46it/s]\n",
            "100%|██████████| 135/135 [00:00<00:00, 20363.63it/s]\n",
            "100%|██████████| 128/128 [00:00<00:00, 18929.90it/s]\n",
            "100%|██████████| 162/162 [00:00<00:00, 17065.00it/s]\n",
            "100%|██████████| 139/139 [00:00<00:00, 20096.11it/s]\n",
            "100%|██████████| 127/127 [00:00<00:00, 20032.97it/s]\n",
            "100%|██████████| 206/206 [00:00<00:00, 21523.18it/s]\n",
            "100%|██████████| 114/114 [00:00<00:00, 17400.58it/s]\n",
            "100%|██████████| 174/174 [00:00<00:00, 20781.62it/s]\n",
            "100%|██████████| 145/145 [00:00<00:00, 19384.65it/s]\n",
            "100%|██████████| 145/145 [00:00<00:00, 18265.68it/s]\n",
            "100%|██████████| 247/247 [00:00<00:00, 20942.69it/s]\n",
            "100%|██████████| 155/155 [00:00<00:00, 16550.00it/s]\n",
            "100%|██████████| 316/316 [00:00<00:00, 21049.46it/s]\n",
            "100%|██████████| 468/468 [00:00<00:00, 22194.09it/s]\n",
            "100%|██████████| 171/171 [00:00<00:00, 19826.02it/s]\n",
            "100%|██████████| 144/144 [00:00<00:00, 18443.26it/s]\n",
            "100%|██████████| 149/149 [00:00<00:00, 17973.35it/s]\n",
            "100%|██████████| 350/350 [00:00<00:00, 20650.84it/s]\n",
            "100%|██████████| 910/910 [00:00<00:00, 22539.50it/s]\n",
            "100%|██████████| 272/272 [00:00<00:00, 20956.11it/s]\n",
            "100%|██████████| 708/708 [00:00<00:00, 22688.89it/s]\n",
            "100%|██████████| 111/111 [00:00<00:00, 17532.21it/s]\n",
            "100%|██████████| 129/129 [00:00<00:00, 19306.52it/s]\n",
            "100%|██████████| 128/128 [00:00<00:00, 18639.41it/s]\n",
            "100%|██████████| 258/258 [00:00<00:00, 20921.24it/s]\n",
            "100%|██████████| 172/172 [00:00<00:00, 20616.13it/s]\n",
            "100%|██████████| 134/134 [00:00<00:00, 18268.71it/s]\n",
            "100%|██████████| 257/257 [00:00<00:00, 20645.77it/s]\n",
            "100%|██████████| 474/474 [00:00<00:00, 22110.39it/s]\n",
            "100%|██████████| 249/249 [00:00<00:00, 21201.85it/s]\n",
            "100%|██████████| 344/344 [00:00<00:00, 22439.55it/s]\n",
            "100%|██████████| 240/240 [00:00<00:00, 21264.80it/s]\n",
            "100%|██████████| 134/134 [00:00<00:00, 20364.39it/s]\n",
            "100%|██████████| 257/257 [00:00<00:00, 21277.43it/s]\n",
            "100%|██████████| 106/106 [00:00<00:00, 18772.80it/s]\n",
            "100%|██████████| 88/88 [00:00<00:00, 15074.48it/s]\n",
            "100%|██████████| 105/105 [00:00<00:00, 18642.93it/s]\n",
            "100%|██████████| 113/113 [00:00<00:00, 17392.26it/s]\n",
            "100%|██████████| 116/116 [00:00<00:00, 18863.23it/s]\n",
            "100%|██████████| 119/119 [00:00<00:00, 19049.01it/s]\n",
            "100%|██████████| 565/565 [00:00<00:00, 22193.12it/s]\n",
            "100%|██████████| 157/157 [00:00<00:00, 21151.37it/s]\n",
            "100%|██████████| 128/128 [00:00<00:00, 20863.13it/s]\n",
            "100%|██████████| 104/104 [00:00<00:00, 19903.61it/s]\n",
            "100%|██████████| 181/181 [00:00<00:00, 16128.85it/s]\n",
            "100%|██████████| 874/874 [00:00<00:00, 22140.21it/s]\n",
            "100%|██████████| 255/255 [00:00<00:00, 17387.06it/s]\n",
            "100%|██████████| 180/180 [00:00<00:00, 19290.07it/s]\n",
            "100%|██████████| 138/138 [00:00<00:00, 18392.56it/s]\n",
            "100%|██████████| 244/244 [00:00<00:00, 17828.51it/s]\n",
            "100%|██████████| 265/265 [00:00<00:00, 20567.54it/s]\n",
            "100%|██████████| 153/153 [00:00<00:00, 17612.49it/s]\n",
            "100%|██████████| 120/120 [00:00<00:00, 18350.46it/s]\n",
            "100%|██████████| 272/272 [00:00<00:00, 19896.59it/s]\n",
            "100%|██████████| 1226/1226 [00:00<00:00, 22946.08it/s]\n",
            "100%|██████████| 265/265 [00:00<00:00, 18676.12it/s]\n",
            "100%|██████████| 257/257 [00:00<00:00, 19448.91it/s]\n",
            "100%|██████████| 576/576 [00:00<00:00, 22095.07it/s]\n",
            "100%|██████████| 269/269 [00:00<00:00, 21122.28it/s]\n",
            "100%|██████████| 188/188 [00:00<00:00, 19915.87it/s]\n",
            "100%|██████████| 129/129 [00:00<00:00, 18041.52it/s]\n",
            "100%|██████████| 420/420 [00:00<00:00, 22866.44it/s]\n",
            "100%|██████████| 516/516 [00:00<00:00, 21873.37it/s]\n",
            "100%|██████████| 258/258 [00:00<00:00, 22576.37it/s]\n",
            "100%|██████████| 689/689 [00:00<00:00, 23309.96it/s]\n",
            "100%|██████████| 560/560 [00:00<00:00, 22595.36it/s]\n",
            "100%|██████████| 536/536 [00:00<00:00, 21835.57it/s]\n",
            "100%|██████████| 501/501 [00:00<00:00, 21170.76it/s]\n",
            "100%|██████████| 368/368 [00:00<00:00, 21962.83it/s]\n",
            "100%|██████████| 234/234 [00:00<00:00, 20140.92it/s]\n",
            "100%|██████████| 351/351 [00:00<00:00, 21636.96it/s]\n",
            "100%|██████████| 683/683 [00:00<00:00, 23373.17it/s]\n",
            "100%|██████████| 202/202 [00:00<00:00, 19783.53it/s]\n",
            "100%|██████████| 395/395 [00:00<00:00, 22224.83it/s]\n",
            "100%|██████████| 125/125 [00:00<00:00, 19563.72it/s]\n",
            "100%|██████████| 260/260 [00:00<00:00, 23444.46it/s]\n",
            "100%|██████████| 299/299 [00:00<00:00, 21042.25it/s]\n",
            "100%|██████████| 319/319 [00:00<00:00, 22307.52it/s]\n",
            "100%|██████████| 431/431 [00:00<00:00, 22612.36it/s]\n",
            "100%|██████████| 140/140 [00:00<00:00, 19197.15it/s]\n",
            "100%|██████████| 287/287 [00:00<00:00, 21038.23it/s]\n",
            "100%|██████████| 296/296 [00:00<00:00, 21645.00it/s]\n",
            "100%|██████████| 324/324 [00:00<00:00, 23012.45it/s]\n",
            "100%|██████████| 159/159 [00:00<00:00, 20129.62it/s]\n",
            "100%|██████████| 123/123 [00:00<00:00, 18751.80it/s]\n",
            "100%|██████████| 464/464 [00:00<00:00, 21595.65it/s]\n",
            "100%|██████████| 798/798 [00:00<00:00, 23140.11it/s]\n",
            "100%|██████████| 791/791 [00:00<00:00, 23219.98it/s]\n",
            "100%|██████████| 461/461 [00:00<00:00, 22273.89it/s]\n",
            "100%|██████████| 550/550 [00:00<00:00, 22609.03it/s]\n",
            "100%|██████████| 263/263 [00:00<00:00, 19709.51it/s]\n",
            "100%|██████████| 142/142 [00:00<00:00, 17583.07it/s]\n",
            "100%|██████████| 174/174 [00:00<00:00, 20137.10it/s]\n",
            "100%|██████████| 92/92 [00:00<00:00, 17003.44it/s]\n",
            "100%|██████████| 175/175 [00:00<00:00, 19949.53it/s]\n",
            "100%|██████████| 812/812 [00:00<00:00, 22690.04it/s]\n",
            "100%|██████████| 586/586 [00:00<00:00, 17441.05it/s]\n",
            "100%|██████████| 424/424 [00:00<00:00, 19417.65it/s]\n",
            "100%|██████████| 1234/1234 [00:00<00:00, 23250.82it/s]\n",
            "100%|██████████| 391/391 [00:00<00:00, 22099.68it/s]\n",
            "100%|██████████| 1023/1023 [00:00<00:00, 22875.09it/s]\n",
            "100%|██████████| 297/297 [00:00<00:00, 20643.79it/s]\n",
            "100%|██████████| 190/190 [00:00<00:00, 21061.86it/s]\n",
            "100%|██████████| 104/104 [00:00<00:00, 17488.88it/s]\n",
            "100%|██████████| 237/237 [00:00<00:00, 18507.73it/s]\n",
            "100%|██████████| 244/244 [00:00<00:00, 20444.49it/s]\n",
            "100%|██████████| 1773/1773 [00:00<00:00, 22993.68it/s]\n",
            "100%|██████████| 299/299 [00:00<00:00, 21499.30it/s]\n",
            "100%|██████████| 180/180 [00:00<00:00, 19811.97it/s]\n",
            "100%|██████████| 395/395 [00:00<00:00, 21516.51it/s]\n",
            "100%|██████████| 125/125 [00:00<00:00, 12133.77it/s]\n",
            "100%|██████████| 260/260 [00:00<00:00, 21005.86it/s]\n",
            "100%|██████████| 299/299 [00:00<00:00, 20398.12it/s]\n",
            "100%|██████████| 319/319 [00:00<00:00, 21982.80it/s]\n",
            "100%|██████████| 431/431 [00:00<00:00, 22577.90it/s]\n",
            "100%|██████████| 298/298 [00:00<00:00, 23623.63it/s]\n",
            "100%|██████████| 129/129 [00:00<00:00, 10458.80it/s]\n",
            "100%|██████████| 186/186 [00:00<00:00, 20868.86it/s]\n",
            "100%|██████████| 136/136 [00:00<00:00, 19012.28it/s]\n",
            "100%|██████████| 327/327 [00:00<00:00, 20721.22it/s]\n",
            "100%|██████████| 211/211 [00:00<00:00, 19754.42it/s]\n",
            "100%|██████████| 169/169 [00:00<00:00, 18954.90it/s]\n",
            "100%|██████████| 242/242 [00:00<00:00, 16943.85it/s]\n",
            "100%|██████████| 373/373 [00:00<00:00, 14732.10it/s]\n",
            "100%|██████████| 126/126 [00:00<00:00, 18313.83it/s]\n",
            "100%|██████████| 508/508 [00:00<00:00, 21346.56it/s]\n",
            "100%|██████████| 241/241 [00:00<00:00, 19866.89it/s]\n",
            "100%|██████████| 198/198 [00:00<00:00, 13297.13it/s]\n",
            "100%|██████████| 225/225 [00:00<00:00, 19781.55it/s]\n",
            "100%|██████████| 211/211 [00:00<00:00, 18921.94it/s]\n",
            "100%|██████████| 116/116 [00:00<00:00, 16047.87it/s]\n",
            "100%|██████████| 105/105 [00:00<00:00, 18314.21it/s]\n",
            "100%|██████████| 137/137 [00:00<00:00, 19011.40it/s]\n",
            "100%|██████████| 381/381 [00:00<00:00, 21964.54it/s]\n",
            "100%|██████████| 266/266 [00:00<00:00, 16438.56it/s]\n",
            "100%|██████████| 367/367 [00:00<00:00, 20743.73it/s]\n",
            "100%|██████████| 264/264 [00:00<00:00, 20092.47it/s]\n",
            "100%|██████████| 294/294 [00:00<00:00, 21251.62it/s]\n",
            "100%|██████████| 819/819 [00:00<00:00, 22391.13it/s]\n",
            "100%|██████████| 318/318 [00:00<00:00, 21088.90it/s]\n",
            "100%|██████████| 286/286 [00:00<00:00, 20353.44it/s]\n",
            "100%|██████████| 406/406 [00:00<00:00, 21435.34it/s]\n",
            "100%|██████████| 483/483 [00:00<00:00, 22604.62it/s]\n",
            "100%|██████████| 528/528 [00:00<00:00, 14278.30it/s]\n",
            "100%|██████████| 261/261 [00:00<00:00, 19807.72it/s]\n",
            "100%|██████████| 215/215 [00:00<00:00, 13463.75it/s]\n",
            "100%|██████████| 205/205 [00:00<00:00, 13043.37it/s]\n",
            "100%|██████████| 428/428 [00:00<00:00, 21797.32it/s]\n",
            "100%|██████████| 233/233 [00:00<00:00, 13251.16it/s]\n",
            "100%|██████████| 179/179 [00:00<00:00, 15633.44it/s]\n",
            "100%|██████████| 206/206 [00:00<00:00, 13245.64it/s]\n",
            "100%|██████████| 165/165 [00:00<00:00, 20244.56it/s]\n",
            "100%|██████████| 431/431 [00:00<00:00, 21693.81it/s]\n",
            "100%|██████████| 253/253 [00:00<00:00, 20129.35it/s]\n",
            "100%|██████████| 161/161 [00:00<00:00, 18702.79it/s]\n",
            "100%|██████████| 177/177 [00:00<00:00, 21536.08it/s]\n",
            "100%|██████████| 263/263 [00:00<00:00, 20605.63it/s]\n",
            "100%|██████████| 289/289 [00:00<00:00, 20567.64it/s]\n",
            "100%|██████████| 330/330 [00:00<00:00, 21450.58it/s]\n",
            "100%|██████████| 463/463 [00:00<00:00, 22240.88it/s]\n",
            "100%|██████████| 143/143 [00:00<00:00, 18450.40it/s]\n",
            "100%|██████████| 455/455 [00:00<00:00, 22259.90it/s]\n",
            "100%|██████████| 250/250 [00:00<00:00, 21646.01it/s]\n",
            "100%|██████████| 205/205 [00:00<00:00, 20360.22it/s]\n",
            "100%|██████████| 140/140 [00:00<00:00, 19608.06it/s]\n",
            "100%|██████████| 135/135 [00:00<00:00, 20610.46it/s]\n",
            "100%|██████████| 197/197 [00:00<00:00, 14606.03it/s]\n",
            "100%|██████████| 369/369 [00:00<00:00, 21112.84it/s]\n",
            "100%|██████████| 272/272 [00:00<00:00, 13975.53it/s]\n",
            "100%|██████████| 527/527 [00:00<00:00, 22297.97it/s]\n",
            "100%|██████████| 252/252 [00:00<00:00, 23701.42it/s]\n",
            "100%|██████████| 207/207 [00:00<00:00, 21952.49it/s]\n",
            "100%|██████████| 145/145 [00:00<00:00, 17628.75it/s]\n",
            "100%|██████████| 123/123 [00:00<00:00, 16976.52it/s]\n",
            "100%|██████████| 345/345 [00:00<00:00, 13538.24it/s]\n",
            "100%|██████████| 264/264 [00:00<00:00, 20814.62it/s]\n",
            "100%|██████████| 114/114 [00:00<00:00, 17949.27it/s]\n",
            "100%|██████████| 154/154 [00:00<00:00, 12567.57it/s]\n",
            "100%|██████████| 111/111 [00:00<00:00, 19043.18it/s]\n",
            "100%|██████████| 104/104 [00:00<00:00, 17640.94it/s]\n",
            "100%|██████████| 299/299 [00:00<00:00, 21078.32it/s]\n",
            "100%|██████████| 264/264 [00:00<00:00, 20723.47it/s]\n",
            "100%|██████████| 235/235 [00:00<00:00, 20638.67it/s]\n",
            "100%|██████████| 332/332 [00:00<00:00, 20991.75it/s]\n",
            "100%|██████████| 110/110 [00:00<00:00, 15703.12it/s]\n",
            "100%|██████████| 564/564 [00:00<00:00, 16375.72it/s]\n",
            "100%|██████████| 355/355 [00:00<00:00, 21062.89it/s]\n",
            "100%|██████████| 264/264 [00:00<00:00, 21882.89it/s]\n",
            "100%|██████████| 166/166 [00:00<00:00, 17985.96it/s]\n",
            "100%|██████████| 312/312 [00:00<00:00, 20891.17it/s]\n",
            "100%|██████████| 179/179 [00:00<00:00, 18602.55it/s]\n",
            "100%|██████████| 316/316 [00:00<00:00, 21206.74it/s]\n",
            "100%|██████████| 219/219 [00:00<00:00, 21286.94it/s]\n",
            "100%|██████████| 145/145 [00:00<00:00, 17910.65it/s]\n",
            "100%|██████████| 106/106 [00:00<00:00, 18142.34it/s]\n",
            "100%|██████████| 191/191 [00:00<00:00, 19698.83it/s]\n",
            "100%|██████████| 176/176 [00:00<00:00, 13392.31it/s]\n",
            "100%|██████████| 147/147 [00:00<00:00, 20975.09it/s]\n",
            "100%|██████████| 561/561 [00:00<00:00, 23229.23it/s]\n",
            "100%|██████████| 100/100 [00:00<00:00, 15458.88it/s]\n",
            "100%|██████████| 215/215 [00:00<00:00, 19134.19it/s]\n",
            "100%|██████████| 191/191 [00:00<00:00, 20075.48it/s]\n",
            "100%|██████████| 128/128 [00:00<00:00, 17139.28it/s]\n",
            "100%|██████████| 110/110 [00:00<00:00, 19077.63it/s]\n",
            "100%|██████████| 137/137 [00:00<00:00, 17196.97it/s]\n",
            "100%|██████████| 634/634 [00:00<00:00, 22320.43it/s]\n",
            "100%|██████████| 254/254 [00:00<00:00, 19840.46it/s]\n",
            "100%|██████████| 134/134 [00:00<00:00, 19796.30it/s]\n",
            "100%|██████████| 431/431 [00:00<00:00, 20859.72it/s]\n",
            "100%|██████████| 253/253 [00:00<00:00, 20692.62it/s]\n",
            "100%|██████████| 161/161 [00:00<00:00, 19039.22it/s]\n",
            "100%|██████████| 326/326 [00:00<00:00, 20799.57it/s]\n",
            "100%|██████████| 252/252 [00:00<00:00, 21436.40it/s]\n",
            "100%|██████████| 207/207 [00:00<00:00, 19264.69it/s]\n",
            "100%|██████████| 278/278 [00:00<00:00, 22431.59it/s]\n",
            "100%|██████████| 568/568 [00:00<00:00, 22186.92it/s]\n",
            "100%|██████████| 150/150 [00:00<00:00, 19765.18it/s]\n",
            "100%|██████████| 133/133 [00:00<00:00, 18406.39it/s]\n",
            "100%|██████████| 275/275 [00:00<00:00, 21315.28it/s]\n",
            "100%|██████████| 214/214 [00:00<00:00, 21156.89it/s]\n",
            "100%|██████████| 445/445 [00:00<00:00, 22016.95it/s]\n",
            "100%|██████████| 383/383 [00:00<00:00, 20988.51it/s]\n",
            "100%|██████████| 216/216 [00:00<00:00, 20127.74it/s]\n",
            "100%|██████████| 183/183 [00:00<00:00, 20095.24it/s]\n",
            "100%|██████████| 255/255 [00:00<00:00, 14352.87it/s]\n",
            "100%|██████████| 136/136 [00:00<00:00, 17035.25it/s]\n",
            "100%|██████████| 112/112 [00:00<00:00, 19789.45it/s]\n",
            "100%|██████████| 183/183 [00:00<00:00, 18546.31it/s]\n",
            "100%|██████████| 244/244 [00:00<00:00, 21308.17it/s]\n",
            "100%|██████████| 201/201 [00:00<00:00, 20358.24it/s]\n",
            "100%|██████████| 87/87 [00:00<00:00, 17268.68it/s]\n",
            "100%|██████████| 125/125 [00:00<00:00, 17719.62it/s]\n",
            "100%|██████████| 133/133 [00:00<00:00, 16697.87it/s]\n",
            "100%|██████████| 118/118 [00:00<00:00, 15668.72it/s]\n",
            "100%|██████████| 297/297 [00:00<00:00, 14172.04it/s]\n",
            "100%|██████████| 97/97 [00:00<00:00, 18052.42it/s]\n",
            "100%|██████████| 269/269 [00:00<00:00, 21679.53it/s]\n",
            "100%|██████████| 82/82 [00:00<00:00, 16611.91it/s]\n",
            "100%|██████████| 175/175 [00:00<00:00, 19517.21it/s]\n",
            "100%|██████████| 106/106 [00:00<00:00, 19137.23it/s]\n",
            "100%|██████████| 145/145 [00:00<00:00, 18838.83it/s]\n",
            "100%|██████████| 159/159 [00:00<00:00, 19780.35it/s]\n",
            "100%|██████████| 149/149 [00:00<00:00, 13552.61it/s]\n",
            "100%|██████████| 87/87 [00:00<00:00, 14849.21it/s]\n",
            "100%|██████████| 209/209 [00:00<00:00, 18855.47it/s]\n",
            "100%|██████████| 205/205 [00:00<00:00, 19489.82it/s]\n",
            "100%|██████████| 333/333 [00:00<00:00, 21866.54it/s]\n",
            "100%|██████████| 217/217 [00:00<00:00, 17605.06it/s]\n",
            "100%|██████████| 345/345 [00:00<00:00, 20912.42it/s]\n",
            "100%|██████████| 157/157 [00:00<00:00, 19192.82it/s]\n",
            "100%|██████████| 160/160 [00:00<00:00, 19015.32it/s]\n",
            "100%|██████████| 485/485 [00:00<00:00, 15252.01it/s]\n",
            "100%|██████████| 486/486 [00:00<00:00, 23598.70it/s]\n",
            "100%|██████████| 395/395 [00:00<00:00, 22258.27it/s]\n",
            "100%|██████████| 166/166 [00:00<00:00, 18789.25it/s]\n",
            "100%|██████████| 87/87 [00:00<00:00, 13609.74it/s]\n",
            "100%|██████████| 314/314 [00:00<00:00, 21689.20it/s]\n",
            "100%|██████████| 320/320 [00:00<00:00, 21462.47it/s]\n",
            "100%|██████████| 397/397 [00:00<00:00, 22165.20it/s]\n",
            "100%|██████████| 368/368 [00:00<00:00, 20778.98it/s]\n",
            "100%|██████████| 227/227 [00:00<00:00, 21523.84it/s]\n",
            "100%|██████████| 769/769 [00:00<00:00, 22793.20it/s]\n",
            "100%|██████████| 244/244 [00:00<00:00, 19397.46it/s]\n",
            "100%|██████████| 107/107 [00:00<00:00, 17595.49it/s]\n",
            "100%|██████████| 268/268 [00:00<00:00, 20671.09it/s]\n",
            "100%|██████████| 228/228 [00:00<00:00, 21166.47it/s]\n",
            "100%|██████████| 236/236 [00:00<00:00, 19454.33it/s]\n",
            "100%|██████████| 302/302 [00:00<00:00, 20246.47it/s]\n",
            "100%|██████████| 161/161 [00:00<00:00, 19293.80it/s]\n",
            "100%|██████████| 417/417 [00:00<00:00, 21550.60it/s]\n",
            "100%|██████████| 145/145 [00:00<00:00, 18924.42it/s]\n",
            "100%|██████████| 458/458 [00:00<00:00, 21179.85it/s]\n",
            "100%|██████████| 145/145 [00:00<00:00, 19100.94it/s]\n",
            "100%|██████████| 423/423 [00:00<00:00, 20042.60it/s]\n",
            "100%|██████████| 115/115 [00:00<00:00, 16047.67it/s]\n",
            "100%|██████████| 595/595 [00:00<00:00, 23135.14it/s]\n",
            "100%|██████████| 476/476 [00:00<00:00, 22191.59it/s]\n",
            "100%|██████████| 163/163 [00:00<00:00, 17343.71it/s]\n",
            "100%|██████████| 208/208 [00:00<00:00, 13182.86it/s]\n",
            "100%|██████████| 247/247 [00:00<00:00, 20712.41it/s]\n",
            "100%|██████████| 188/188 [00:00<00:00, 13825.84it/s]\n",
            "100%|██████████| 307/307 [00:00<00:00, 14089.48it/s]\n",
            "100%|██████████| 363/363 [00:00<00:00, 21484.36it/s]\n",
            "100%|██████████| 473/473 [00:00<00:00, 22605.52it/s]\n",
            "100%|██████████| 93/93 [00:00<00:00, 13641.21it/s]\n",
            "100%|██████████| 233/233 [00:00<00:00, 18805.28it/s]\n",
            "100%|██████████| 164/164 [00:00<00:00, 16897.14it/s]\n",
            "100%|██████████| 211/211 [00:00<00:00, 20912.55it/s]\n",
            "100%|██████████| 577/577 [00:00<00:00, 21635.39it/s]\n",
            "100%|██████████| 711/711 [00:00<00:00, 22580.59it/s]\n",
            "100%|██████████| 564/564 [00:00<00:00, 22375.12it/s]\n",
            "100%|██████████| 228/228 [00:00<00:00, 18778.62it/s]\n",
            "100%|██████████| 154/154 [00:00<00:00, 19336.11it/s]\n",
            "100%|██████████| 137/137 [00:00<00:00, 17018.71it/s]\n",
            "100%|██████████| 130/130 [00:00<00:00, 12288.92it/s]\n",
            "100%|██████████| 550/550 [00:00<00:00, 15522.96it/s]\n",
            "100%|██████████| 248/248 [00:00<00:00, 20578.62it/s]\n",
            "100%|██████████| 634/634 [00:00<00:00, 21100.15it/s]\n",
            "100%|██████████| 439/439 [00:00<00:00, 20266.13it/s]\n",
            "100%|██████████| 209/209 [00:00<00:00, 18806.12it/s]\n",
            "100%|██████████| 139/139 [00:00<00:00, 18096.85it/s]\n",
            "100%|██████████| 119/119 [00:00<00:00, 16375.40it/s]\n",
            "100%|██████████| 119/119 [00:00<00:00, 13800.49it/s]\n",
            "100%|██████████| 454/454 [00:00<00:00, 22481.87it/s]\n",
            "100%|██████████| 128/128 [00:00<00:00, 18769.09it/s]\n",
            "100%|██████████| 459/459 [00:00<00:00, 21732.64it/s]\n",
            "100%|██████████| 638/638 [00:00<00:00, 21447.19it/s]\n",
            "100%|██████████| 421/421 [00:00<00:00, 18529.85it/s]\n",
            "100%|██████████| 223/223 [00:00<00:00, 18451.59it/s]\n",
            "100%|██████████| 361/361 [00:00<00:00, 21766.51it/s]\n",
            "100%|██████████| 135/135 [00:00<00:00, 18571.65it/s]\n",
            "100%|██████████| 158/158 [00:00<00:00, 18998.34it/s]\n",
            "100%|██████████| 235/235 [00:00<00:00, 19976.52it/s]\n",
            "100%|██████████| 332/332 [00:00<00:00, 20379.77it/s]\n",
            "100%|██████████| 142/142 [00:00<00:00, 19684.41it/s]\n",
            "100%|██████████| 413/413 [00:00<00:00, 20425.76it/s]\n",
            "100%|██████████| 203/203 [00:00<00:00, 18044.03it/s]\n",
            "100%|██████████| 682/682 [00:00<00:00, 21919.32it/s]\n",
            "100%|██████████| 252/252 [00:00<00:00, 14741.08it/s]\n",
            "100%|██████████| 523/523 [00:00<00:00, 21829.25it/s]\n",
            "100%|██████████| 239/239 [00:00<00:00, 19199.39it/s]\n",
            "100%|██████████| 852/852 [00:00<00:00, 23436.32it/s]\n",
            "100%|██████████| 230/230 [00:00<00:00, 20259.78it/s]\n",
            "100%|██████████| 168/168 [00:00<00:00, 20700.44it/s]\n",
            "100%|██████████| 154/154 [00:00<00:00, 15560.28it/s]\n",
            "100%|██████████| 130/130 [00:00<00:00, 20047.04it/s]\n",
            "100%|██████████| 267/267 [00:00<00:00, 19865.88it/s]\n",
            "100%|██████████| 251/251 [00:00<00:00, 18914.99it/s]\n",
            "100%|██████████| 354/354 [00:00<00:00, 21566.42it/s]\n",
            "100%|██████████| 221/221 [00:00<00:00, 18385.12it/s]\n",
            "100%|██████████| 387/387 [00:00<00:00, 20089.30it/s]\n",
            "100%|██████████| 341/341 [00:00<00:00, 20316.74it/s]\n",
            "100%|██████████| 259/259 [00:00<00:00, 19540.67it/s]\n",
            "100%|██████████| 259/259 [00:00<00:00, 19902.98it/s]\n",
            "100%|██████████| 851/851 [00:00<00:00, 21817.03it/s]\n",
            "100%|██████████| 899/899 [00:00<00:00, 22835.58it/s]\n",
            "100%|██████████| 160/160 [00:00<00:00, 17425.89it/s]\n",
            "100%|██████████| 314/314 [00:00<00:00, 21898.36it/s]\n",
            "100%|██████████| 320/320 [00:00<00:00, 19137.87it/s]\n",
            "100%|██████████| 397/397 [00:00<00:00, 21710.04it/s]\n",
            "100%|██████████| 269/269 [00:00<00:00, 18878.40it/s]\n",
            "100%|██████████| 210/210 [00:00<00:00, 21258.51it/s]\n",
            "100%|██████████| 365/365 [00:00<00:00, 22110.67it/s]\n",
            "100%|██████████| 189/189 [00:00<00:00, 19523.77it/s]\n",
            "100%|██████████| 432/432 [00:00<00:00, 21238.97it/s]\n",
            "100%|██████████| 279/279 [00:00<00:00, 21528.25it/s]\n",
            "100%|██████████| 421/421 [00:00<00:00, 21037.73it/s]\n",
            "100%|██████████| 104/104 [00:00<00:00, 17756.56it/s]\n",
            "100%|██████████| 204/204 [00:00<00:00, 21813.59it/s]\n",
            "100%|██████████| 212/212 [00:00<00:00, 19734.40it/s]\n",
            "100%|██████████| 313/313 [00:00<00:00, 20858.90it/s]\n",
            "100%|██████████| 402/402 [00:00<00:00, 22128.88it/s]\n",
            "100%|██████████| 132/132 [00:00<00:00, 19337.37it/s]\n",
            "100%|██████████| 686/686 [00:00<00:00, 21252.35it/s]\n",
            "100%|██████████| 219/219 [00:00<00:00, 20943.31it/s]\n",
            "100%|██████████| 311/311 [00:00<00:00, 20173.03it/s]\n",
            "100%|██████████| 151/151 [00:00<00:00, 19574.11it/s]\n",
            "100%|██████████| 126/126 [00:00<00:00, 19160.41it/s]\n",
            "100%|██████████| 179/179 [00:00<00:00, 16584.87it/s]\n",
            "100%|██████████| 148/148 [00:00<00:00, 19057.99it/s]\n",
            "100%|██████████| 222/222 [00:00<00:00, 18326.19it/s]\n",
            "100%|██████████| 160/160 [00:00<00:00, 22112.38it/s]\n",
            "100%|██████████| 196/196 [00:00<00:00, 20294.85it/s]\n",
            "100%|██████████| 381/381 [00:00<00:00, 21161.47it/s]\n",
            "100%|██████████| 305/305 [00:00<00:00, 21600.78it/s]\n",
            "100%|██████████| 220/220 [00:00<00:00, 19906.95it/s]\n",
            "100%|██████████| 252/252 [00:00<00:00, 21459.90it/s]\n",
            "100%|██████████| 338/338 [00:00<00:00, 20352.51it/s]\n",
            "100%|██████████| 421/421 [00:00<00:00, 20592.92it/s]\n",
            "100%|██████████| 148/148 [00:00<00:00, 20953.82it/s]\n",
            "100%|██████████| 200/200 [00:00<00:00, 20918.70it/s]\n",
            "100%|██████████| 907/907 [00:00<00:00, 21710.44it/s]\n",
            "100%|██████████| 730/730 [00:00<00:00, 21433.67it/s]\n",
            "100%|██████████| 257/257 [00:00<00:00, 19535.97it/s]\n",
            "100%|██████████| 301/301 [00:00<00:00, 19147.72it/s]\n",
            "100%|██████████| 302/302 [00:00<00:00, 20538.31it/s]\n",
            "100%|██████████| 166/166 [00:00<00:00, 19808.09it/s]\n",
            "100%|██████████| 245/245 [00:00<00:00, 20400.72it/s]\n",
            "100%|██████████| 111/111 [00:00<00:00, 17556.67it/s]\n",
            "100%|██████████| 256/256 [00:00<00:00, 20535.93it/s]\n",
            "100%|██████████| 222/222 [00:00<00:00, 20593.05it/s]\n",
            "100%|██████████| 326/326 [00:00<00:00, 20041.08it/s]\n",
            "100%|██████████| 290/290 [00:00<00:00, 20722.14it/s]\n",
            "100%|██████████| 272/272 [00:00<00:00, 21432.07it/s]\n",
            "100%|██████████| 298/298 [00:00<00:00, 21181.92it/s]\n",
            "100%|██████████| 156/156 [00:00<00:00, 19818.01it/s]\n",
            "100%|██████████| 300/300 [00:00<00:00, 20251.25it/s]\n",
            "100%|██████████| 101/101 [00:00<00:00, 17663.54it/s]\n",
            "100%|██████████| 221/221 [00:00<00:00, 19859.90it/s]\n",
            "100%|██████████| 225/225 [00:00<00:00, 18484.71it/s]\n",
            "100%|██████████| 255/255 [00:00<00:00, 19506.97it/s]\n",
            "100%|██████████| 160/160 [00:00<00:00, 17531.97it/s]\n",
            "100%|██████████| 99/99 [00:00<00:00, 17443.23it/s]\n",
            "100%|██████████| 180/180 [00:00<00:00, 20183.79it/s]\n",
            "100%|██████████| 164/164 [00:00<00:00, 17694.75it/s]\n",
            "100%|██████████| 144/144 [00:00<00:00, 19123.57it/s]\n",
            "100%|██████████| 93/93 [00:00<00:00, 15308.28it/s]\n",
            "100%|██████████| 181/181 [00:00<00:00, 21435.76it/s]\n",
            "100%|██████████| 337/337 [00:00<00:00, 21430.98it/s]\n",
            "100%|██████████| 206/206 [00:00<00:00, 22458.58it/s]\n",
            "100%|██████████| 100/100 [00:00<00:00, 18051.66it/s]\n",
            "100%|██████████| 284/284 [00:00<00:00, 19851.38it/s]\n",
            "100%|██████████| 368/368 [00:00<00:00, 19900.00it/s]\n",
            "100%|██████████| 137/137 [00:00<00:00, 20407.70it/s]\n",
            "100%|██████████| 323/323 [00:00<00:00, 21369.81it/s]\n",
            "100%|██████████| 340/340 [00:00<00:00, 21036.49it/s]\n",
            "100%|██████████| 707/707 [00:00<00:00, 21841.79it/s]\n",
            "100%|██████████| 729/729 [00:00<00:00, 22723.30it/s]\n",
            "100%|██████████| 284/284 [00:00<00:00, 21584.08it/s]\n",
            "100%|██████████| 346/346 [00:00<00:00, 21299.32it/s]\n",
            "100%|██████████| 147/147 [00:00<00:00, 19653.28it/s]\n",
            "100%|██████████| 655/655 [00:00<00:00, 22949.75it/s]\n",
            "100%|██████████| 186/186 [00:00<00:00, 19495.23it/s]\n",
            "100%|██████████| 304/304 [00:00<00:00, 20829.01it/s]\n",
            "100%|██████████| 274/274 [00:00<00:00, 20779.27it/s]\n",
            "100%|██████████| 339/339 [00:00<00:00, 21356.76it/s]\n",
            "100%|██████████| 364/364 [00:00<00:00, 22133.53it/s]\n",
            "100%|██████████| 194/194 [00:00<00:00, 17424.25it/s]\n",
            "100%|██████████| 217/217 [00:00<00:00, 21193.22it/s]\n",
            "100%|██████████| 132/132 [00:00<00:00, 15700.09it/s]\n",
            "100%|██████████| 127/127 [00:00<00:00, 14105.78it/s]\n",
            "100%|██████████| 99/99 [00:00<00:00, 15660.42it/s]\n",
            "100%|██████████| 117/117 [00:00<00:00, 17478.76it/s]\n",
            "100%|██████████| 162/162 [00:00<00:00, 18427.00it/s]\n",
            "100%|██████████| 97/97 [00:00<00:00, 16120.43it/s]\n",
            "100%|██████████| 193/193 [00:00<00:00, 20052.04it/s]\n",
            "100%|██████████| 228/228 [00:00<00:00, 17338.43it/s]\n",
            "100%|██████████| 108/108 [00:00<00:00, 17269.72it/s]\n",
            "100%|██████████| 154/154 [00:00<00:00, 18875.04it/s]\n",
            "100%|██████████| 232/232 [00:00<00:00, 18541.19it/s]\n",
            "100%|██████████| 93/93 [00:00<00:00, 16678.94it/s]\n",
            "100%|██████████| 119/119 [00:00<00:00, 18224.12it/s]\n",
            "100%|██████████| 120/120 [00:00<00:00, 17426.65it/s]\n",
            "100%|██████████| 197/197 [00:00<00:00, 18932.66it/s]\n",
            "100%|██████████| 93/93 [00:00<00:00, 16286.86it/s]\n",
            "100%|██████████| 280/280 [00:00<00:00, 17655.71it/s]\n",
            "100%|██████████| 86/86 [00:00<00:00, 17569.90it/s]\n",
            "100%|██████████| 112/112 [00:00<00:00, 17178.46it/s]\n",
            "100%|██████████| 119/119 [00:00<00:00, 17296.40it/s]\n",
            "100%|██████████| 117/117 [00:00<00:00, 17532.46it/s]\n",
            "100%|██████████| 144/144 [00:00<00:00, 18001.30it/s]\n",
            "100%|██████████| 150/150 [00:00<00:00, 18244.57it/s]\n",
            "100%|██████████| 181/181 [00:00<00:00, 18579.31it/s]\n",
            "100%|██████████| 104/104 [00:00<00:00, 15658.25it/s]\n",
            "100%|██████████| 258/258 [00:00<00:00, 21123.40it/s]\n",
            "100%|██████████| 216/216 [00:00<00:00, 16290.61it/s]\n",
            "100%|██████████| 239/239 [00:00<00:00, 19752.10it/s]\n",
            "100%|██████████| 158/158 [00:00<00:00, 18816.55it/s]\n",
            "100%|██████████| 194/194 [00:00<00:00, 19558.56it/s]\n",
            "100%|██████████| 261/261 [00:00<00:00, 17724.42it/s]\n",
            "100%|██████████| 229/229 [00:00<00:00, 20690.97it/s]\n",
            "100%|██████████| 214/214 [00:00<00:00, 18952.70it/s]\n",
            "100%|██████████| 267/267 [00:00<00:00, 18387.61it/s]\n",
            "100%|██████████| 261/261 [00:00<00:00, 18539.38it/s]\n",
            "100%|██████████| 222/222 [00:00<00:00, 20203.86it/s]\n",
            "100%|██████████| 181/181 [00:00<00:00, 20205.17it/s]\n",
            "100%|██████████| 113/113 [00:00<00:00, 16400.44it/s]\n",
            "100%|██████████| 168/168 [00:00<00:00, 19057.80it/s]\n",
            "100%|██████████| 186/186 [00:00<00:00, 21286.82it/s]\n",
            "100%|██████████| 186/186 [00:00<00:00, 21471.36it/s]\n",
            "100%|██████████| 279/279 [00:00<00:00, 20635.73it/s]\n",
            "100%|██████████| 137/137 [00:00<00:00, 21662.51it/s]\n",
            "100%|██████████| 125/125 [00:00<00:00, 14307.22it/s]\n",
            "100%|██████████| 173/173 [00:00<00:00, 19676.08it/s]\n",
            "100%|██████████| 160/160 [00:00<00:00, 18660.53it/s]\n",
            "100%|██████████| 275/275 [00:00<00:00, 20994.81it/s]\n",
            "100%|██████████| 120/120 [00:00<00:00, 17675.73it/s]\n",
            "100%|██████████| 117/117 [00:00<00:00, 18217.83it/s]\n",
            "100%|██████████| 218/218 [00:00<00:00, 17050.97it/s]\n",
            "100%|██████████| 172/172 [00:00<00:00, 18768.90it/s]\n",
            "100%|██████████| 94/94 [00:00<00:00, 15207.30it/s]\n",
            "100%|██████████| 202/202 [00:00<00:00, 15958.44it/s]\n",
            "100%|██████████| 143/143 [00:00<00:00, 18957.76it/s]\n",
            "100%|██████████| 258/258 [00:00<00:00, 20137.90it/s]\n",
            "100%|██████████| 239/239 [00:00<00:00, 18165.72it/s]\n",
            "100%|██████████| 523/523 [00:00<00:00, 23174.42it/s]\n",
            "100%|██████████| 195/195 [00:00<00:00, 18625.64it/s]\n",
            "100%|██████████| 152/152 [00:00<00:00, 18435.43it/s]\n",
            "100%|██████████| 272/272 [00:00<00:00, 20107.70it/s]\n",
            "100%|██████████| 123/123 [00:00<00:00, 13862.67it/s]\n",
            "100%|██████████| 452/452 [00:00<00:00, 21790.09it/s]\n",
            "100%|██████████| 588/588 [00:00<00:00, 22800.82it/s]\n",
            "100%|██████████| 168/168 [00:00<00:00, 17455.92it/s]\n",
            "100%|██████████| 189/189 [00:00<00:00, 19783.47it/s]\n",
            "100%|██████████| 90/90 [00:00<00:00, 15919.00it/s]\n",
            "100%|██████████| 261/261 [00:00<00:00, 19581.32it/s]\n",
            "100%|██████████| 244/244 [00:00<00:00, 20731.49it/s]\n",
            "100%|██████████| 140/140 [00:00<00:00, 18195.98it/s]\n",
            "100%|██████████| 175/175 [00:00<00:00, 19376.04it/s]\n",
            "100%|██████████| 112/112 [00:00<00:00, 18149.44it/s]\n",
            "100%|██████████| 101/101 [00:00<00:00, 17053.45it/s]\n",
            "100%|██████████| 216/216 [00:00<00:00, 19084.70it/s]\n",
            "100%|██████████| 101/101 [00:00<00:00, 19681.50it/s]\n",
            "100%|██████████| 99/99 [00:00<00:00, 16976.82it/s]\n",
            "100%|██████████| 136/136 [00:00<00:00, 18428.16it/s]\n",
            "100%|██████████| 109/109 [00:00<00:00, 17753.15it/s]\n",
            "100%|██████████| 104/104 [00:00<00:00, 13133.25it/s]\n",
            "100%|██████████| 117/117 [00:00<00:00, 17091.58it/s]\n",
            "100%|██████████| 254/254 [00:00<00:00, 22131.69it/s]\n",
            "100%|██████████| 201/201 [00:00<00:00, 20383.34it/s]\n",
            "100%|██████████| 489/489 [00:00<00:00, 22515.61it/s]\n",
            "100%|██████████| 140/140 [00:00<00:00, 15194.00it/s]\n",
            "100%|██████████| 338/338 [00:00<00:00, 20427.88it/s]\n",
            "100%|██████████| 120/120 [00:00<00:00, 21569.17it/s]\n",
            "100%|██████████| 160/160 [00:00<00:00, 16013.38it/s]\n",
            "100%|██████████| 261/261 [00:00<00:00, 17740.22it/s]\n",
            "100%|██████████| 210/210 [00:00<00:00, 17266.94it/s]\n",
            "100%|██████████| 111/111 [00:00<00:00, 16777.22it/s]\n",
            "100%|██████████| 111/111 [00:00<00:00, 14567.66it/s]\n",
            "100%|██████████| 106/106 [00:00<00:00, 13617.87it/s]\n",
            "100%|██████████| 166/166 [00:00<00:00, 19675.43it/s]\n",
            "100%|██████████| 305/305 [00:00<00:00, 22136.40it/s]\n",
            "100%|██████████| 285/285 [00:00<00:00, 21988.79it/s]\n",
            "100%|██████████| 94/94 [00:00<00:00, 15703.37it/s]\n",
            "100%|██████████| 251/251 [00:00<00:00, 21132.75it/s]\n",
            "100%|██████████| 204/204 [00:00<00:00, 20786.08it/s]\n",
            "100%|██████████| 372/372 [00:00<00:00, 20817.90it/s]\n",
            "100%|██████████| 297/297 [00:00<00:00, 19646.23it/s]\n",
            "100%|██████████| 117/117 [00:00<00:00, 13207.03it/s]\n",
            "100%|██████████| 137/137 [00:00<00:00, 16920.48it/s]\n",
            "100%|██████████| 369/369 [00:00<00:00, 18640.23it/s]\n",
            "100%|██████████| 625/625 [00:00<00:00, 21799.37it/s]\n",
            "100%|██████████| 500/500 [00:00<00:00, 21614.33it/s]\n",
            "100%|██████████| 424/424 [00:00<00:00, 21902.64it/s]\n",
            "100%|██████████| 179/179 [00:00<00:00, 18795.35it/s]\n",
            "100%|██████████| 176/176 [00:00<00:00, 18409.37it/s]\n",
            "100%|██████████| 213/213 [00:00<00:00, 20275.21it/s]\n",
            "100%|██████████| 253/253 [00:00<00:00, 16579.57it/s]\n",
            "100%|██████████| 225/225 [00:00<00:00, 18658.30it/s]\n",
            "100%|██████████| 105/105 [00:00<00:00, 17088.39it/s]\n",
            "100%|██████████| 245/245 [00:00<00:00, 17329.20it/s]\n",
            "100%|██████████| 297/297 [00:00<00:00, 20582.39it/s]\n",
            "100%|██████████| 110/110 [00:00<00:00, 13795.81it/s]\n",
            "100%|██████████| 98/98 [00:00<00:00, 10667.82it/s]\n",
            "100%|██████████| 177/177 [00:00<00:00, 19020.08it/s]\n",
            "100%|██████████| 176/176 [00:00<00:00, 20890.81it/s]\n",
            "100%|██████████| 242/242 [00:00<00:00, 16957.72it/s]\n",
            "100%|██████████| 119/119 [00:00<00:00, 18553.35it/s]\n",
            "100%|██████████| 119/119 [00:00<00:00, 19584.94it/s]\n",
            "100%|██████████| 85/85 [00:00<00:00, 16131.94it/s]\n",
            "100%|██████████| 170/170 [00:00<00:00, 20451.22it/s]\n",
            "100%|██████████| 162/162 [00:00<00:00, 19954.69it/s]\n",
            "100%|██████████| 119/119 [00:00<00:00, 13277.70it/s]\n",
            "100%|██████████| 274/274 [00:00<00:00, 20913.89it/s]\n",
            "100%|██████████| 179/179 [00:00<00:00, 18701.25it/s]\n",
            "100%|██████████| 122/122 [00:00<00:00, 16613.26it/s]\n",
            "100%|██████████| 111/111 [00:00<00:00, 12032.66it/s]\n",
            "100%|██████████| 143/143 [00:00<00:00, 14491.77it/s]\n",
            "100%|██████████| 220/220 [00:00<00:00, 19693.25it/s]\n",
            "100%|██████████| 94/94 [00:00<00:00, 13340.93it/s]\n",
            "100%|██████████| 206/206 [00:00<00:00, 20594.62it/s]\n",
            "100%|██████████| 152/152 [00:00<00:00, 18540.52it/s]\n",
            "100%|██████████| 104/104 [00:00<00:00, 12307.30it/s]\n",
            "100%|██████████| 117/117 [00:00<00:00, 17192.18it/s]\n",
            "100%|██████████| 148/148 [00:00<00:00, 16180.72it/s]\n",
            "100%|██████████| 166/166 [00:00<00:00, 15934.78it/s]\n",
            "100%|██████████| 194/194 [00:00<00:00, 19445.45it/s]\n",
            "100%|██████████| 173/173 [00:00<00:00, 18651.89it/s]\n",
            "100%|██████████| 398/398 [00:00<00:00, 21224.83it/s]\n",
            "100%|██████████| 258/258 [00:00<00:00, 19766.38it/s]\n",
            "100%|██████████| 343/343 [00:00<00:00, 18666.75it/s]\n",
            "100%|██████████| 310/310 [00:00<00:00, 21031.56it/s]\n",
            "100%|██████████| 300/300 [00:00<00:00, 20540.85it/s]\n",
            "100%|██████████| 139/139 [00:00<00:00, 18574.24it/s]\n",
            "100%|██████████| 129/129 [00:00<00:00, 17466.68it/s]\n",
            "100%|██████████| 121/121 [00:00<00:00, 19076.48it/s]\n",
            "100%|██████████| 169/169 [00:00<00:00, 17977.11it/s]\n",
            "100%|██████████| 90/90 [00:00<00:00, 15601.87it/s]\n",
            "100%|██████████| 101/101 [00:00<00:00, 15080.98it/s]\n",
            "100%|██████████| 151/151 [00:00<00:00, 18396.07it/s]\n",
            "100%|██████████| 135/135 [00:00<00:00, 17967.60it/s]\n",
            "100%|██████████| 206/206 [00:00<00:00, 19181.84it/s]\n",
            "100%|██████████| 98/98 [00:00<00:00, 16326.73it/s]\n",
            "100%|██████████| 394/394 [00:00<00:00, 22844.60it/s]\n",
            "100%|██████████| 207/207 [00:00<00:00, 19720.64it/s]\n",
            "100%|██████████| 174/174 [00:00<00:00, 19787.13it/s]\n",
            "100%|██████████| 98/98 [00:00<00:00, 12430.20it/s]\n",
            "100%|██████████| 129/129 [00:00<00:00, 17579.61it/s]\n",
            "100%|██████████| 129/129 [00:00<00:00, 15965.81it/s]\n",
            "100%|██████████| 287/287 [00:00<00:00, 21056.63it/s]\n",
            "100%|██████████| 176/176 [00:00<00:00, 17006.02it/s]\n",
            "100%|██████████| 342/342 [00:00<00:00, 21893.35it/s]\n",
            "100%|██████████| 246/246 [00:00<00:00, 22660.96it/s]\n",
            "100%|██████████| 163/163 [00:00<00:00, 19012.53it/s]\n",
            "100%|██████████| 137/137 [00:00<00:00, 18990.04it/s]\n",
            "100%|██████████| 152/152 [00:00<00:00, 18496.95it/s]\n",
            "100%|██████████| 558/558 [00:00<00:00, 23455.11it/s]\n",
            "100%|██████████| 101/101 [00:00<00:00, 17647.35it/s]\n",
            "100%|██████████| 156/156 [00:00<00:00, 19097.85it/s]\n",
            "100%|██████████| 369/369 [00:00<00:00, 20515.62it/s]\n",
            "100%|██████████| 291/291 [00:00<00:00, 18634.81it/s]\n",
            "100%|██████████| 148/148 [00:00<00:00, 16333.13it/s]\n",
            "100%|██████████| 102/102 [00:00<00:00, 16911.85it/s]\n",
            "100%|██████████| 140/140 [00:00<00:00, 18684.06it/s]\n",
            "100%|██████████| 290/290 [00:00<00:00, 20216.87it/s]\n",
            "100%|██████████| 516/516 [00:00<00:00, 21866.08it/s]\n",
            "100%|██████████| 269/269 [00:00<00:00, 21105.29it/s]\n",
            "100%|██████████| 92/92 [00:00<00:00, 15912.41it/s]\n",
            "100%|██████████| 149/149 [00:00<00:00, 15407.69it/s]\n",
            "100%|██████████| 243/243 [00:00<00:00, 17750.81it/s]\n",
            "100%|██████████| 208/208 [00:00<00:00, 19711.59it/s]\n",
            "100%|██████████| 139/139 [00:00<00:00, 14533.79it/s]\n",
            "100%|██████████| 99/99 [00:00<00:00, 19487.33it/s]\n",
            "100%|██████████| 153/153 [00:00<00:00, 18843.33it/s]\n",
            "100%|██████████| 147/147 [00:00<00:00, 15280.36it/s]\n",
            "100%|██████████| 234/234 [00:00<00:00, 21033.54it/s]\n",
            "100%|██████████| 292/292 [00:00<00:00, 22007.06it/s]\n",
            "100%|██████████| 103/103 [00:00<00:00, 17219.92it/s]\n",
            "100%|██████████| 95/95 [00:00<00:00, 17384.01it/s]\n",
            "100%|██████████| 143/143 [00:00<00:00, 17828.47it/s]\n",
            "100%|██████████| 122/122 [00:00<00:00, 16698.92it/s]\n",
            "100%|██████████| 136/136 [00:00<00:00, 17338.16it/s]\n",
            "100%|██████████| 116/116 [00:00<00:00, 14826.28it/s]\n",
            "100%|██████████| 224/224 [00:00<00:00, 19996.68it/s]\n",
            "100%|██████████| 117/117 [00:00<00:00, 17586.50it/s]\n",
            "100%|██████████| 117/117 [00:00<00:00, 12924.93it/s]\n",
            "100%|██████████| 150/150 [00:00<00:00, 18259.92it/s]\n",
            "100%|██████████| 111/111 [00:00<00:00, 16070.13it/s]\n",
            "100%|██████████| 160/160 [00:00<00:00, 15055.27it/s]\n",
            "100%|██████████| 199/199 [00:00<00:00, 18764.14it/s]\n",
            "100%|██████████| 125/125 [00:00<00:00, 17203.31it/s]\n",
            "100%|██████████| 122/122 [00:00<00:00, 13302.44it/s]\n",
            "100%|██████████| 184/184 [00:00<00:00, 18304.88it/s]\n",
            "100%|██████████| 268/268 [00:00<00:00, 15410.51it/s]\n",
            "100%|██████████| 153/153 [00:00<00:00, 17203.13it/s]\n",
            "100%|██████████| 187/187 [00:00<00:00, 16056.31it/s]\n",
            "100%|██████████| 93/93 [00:00<00:00, 17237.63it/s]\n",
            "100%|██████████| 173/173 [00:00<00:00, 21490.78it/s]\n",
            "100%|██████████| 128/128 [00:00<00:00, 14105.54it/s]\n",
            "100%|██████████| 155/155 [00:00<00:00, 17924.87it/s]\n",
            "100%|██████████| 147/147 [00:00<00:00, 17882.79it/s]\n",
            "100%|██████████| 95/95 [00:00<00:00, 16674.71it/s]\n",
            "100%|██████████| 116/116 [00:00<00:00, 17896.03it/s]\n",
            "100%|██████████| 125/125 [00:00<00:00, 17237.24it/s]\n",
            "100%|██████████| 194/194 [00:00<00:00, 18882.74it/s]\n",
            "100%|██████████| 293/293 [00:00<00:00, 21217.73it/s]\n",
            "100%|██████████| 312/312 [00:00<00:00, 21329.75it/s]\n",
            "100%|██████████| 154/154 [00:00<00:00, 20626.63it/s]\n",
            "100%|██████████| 161/161 [00:00<00:00, 19648.02it/s]\n",
            "100%|██████████| 141/141 [00:00<00:00, 18901.11it/s]\n",
            "100%|██████████| 158/158 [00:00<00:00, 19189.78it/s]\n",
            "100%|██████████| 220/220 [00:00<00:00, 16688.31it/s]\n",
            "100%|██████████| 167/167 [00:00<00:00, 15258.66it/s]\n",
            "100%|██████████| 286/286 [00:00<00:00, 21139.68it/s]\n",
            "100%|██████████| 127/127 [00:00<00:00, 17829.58it/s]\n",
            "100%|██████████| 103/103 [00:00<00:00, 17009.07it/s]\n",
            "100%|██████████| 305/305 [00:00<00:00, 20333.19it/s]\n",
            "100%|██████████| 221/221 [00:00<00:00, 20359.36it/s]\n",
            "100%|██████████| 188/188 [00:00<00:00, 19941.56it/s]\n",
            "100%|██████████| 220/220 [00:00<00:00, 21711.69it/s]\n",
            "100%|██████████| 211/211 [00:00<00:00, 21307.29it/s]\n",
            "100%|██████████| 222/222 [00:00<00:00, 20102.23it/s]\n",
            "100%|██████████| 110/110 [00:00<00:00, 13067.48it/s]\n",
            "100%|██████████| 111/111 [00:00<00:00, 17860.43it/s]\n",
            "100%|██████████| 240/240 [00:00<00:00, 20723.70it/s]\n",
            "100%|██████████| 284/284 [00:00<00:00, 17280.29it/s]\n",
            "100%|██████████| 285/285 [00:00<00:00, 20997.31it/s]\n",
            "100%|██████████| 129/129 [00:00<00:00, 17099.05it/s]\n",
            "100%|██████████| 198/198 [00:00<00:00, 19916.83it/s]\n",
            "100%|██████████| 306/306 [00:00<00:00, 20222.43it/s]\n",
            "100%|██████████| 114/114 [00:00<00:00, 17532.02it/s]\n",
            "100%|██████████| 309/309 [00:00<00:00, 20008.34it/s]\n",
            "100%|██████████| 198/198 [00:00<00:00, 19458.57it/s]\n",
            "100%|██████████| 127/127 [00:00<00:00, 17048.38it/s]\n",
            "100%|██████████| 145/145 [00:00<00:00, 20028.79it/s]\n",
            "100%|██████████| 134/134 [00:00<00:00, 15104.86it/s]\n",
            "100%|██████████| 103/103 [00:00<00:00, 15031.26it/s]\n",
            "100%|██████████| 152/152 [00:00<00:00, 19410.98it/s]\n",
            "100%|██████████| 158/158 [00:00<00:00, 15085.02it/s]\n",
            "100%|██████████| 121/121 [00:00<00:00, 18901.71it/s]\n",
            "100%|██████████| 245/245 [00:00<00:00, 20000.09it/s]\n",
            "100%|██████████| 340/340 [00:00<00:00, 18013.81it/s]\n",
            "100%|██████████| 120/120 [00:00<00:00, 19635.49it/s]\n",
            "100%|██████████| 161/161 [00:00<00:00, 19523.05it/s]\n",
            "100%|██████████| 134/134 [00:00<00:00, 16892.18it/s]\n",
            "100%|██████████| 182/182 [00:00<00:00, 18885.78it/s]\n",
            "100%|██████████| 261/261 [00:00<00:00, 18567.68it/s]\n",
            "100%|██████████| 92/92 [00:00<00:00, 12550.04it/s]\n",
            "100%|██████████| 240/240 [00:00<00:00, 19053.11it/s]\n",
            "100%|██████████| 137/137 [00:00<00:00, 16567.28it/s]\n",
            "100%|██████████| 116/116 [00:00<00:00, 19303.28it/s]\n",
            "100%|██████████| 98/98 [00:00<00:00, 13404.70it/s]\n",
            "100%|██████████| 198/198 [00:00<00:00, 19034.87it/s]\n",
            "100%|██████████| 232/232 [00:00<00:00, 18601.08it/s]\n",
            "100%|██████████| 233/233 [00:00<00:00, 21903.11it/s]\n",
            "100%|██████████| 328/328 [00:00<00:00, 20351.06it/s]\n",
            "100%|██████████| 145/145 [00:00<00:00, 17536.74it/s]\n",
            "100%|██████████| 134/134 [00:00<00:00, 17691.36it/s]\n",
            "100%|██████████| 211/211 [00:00<00:00, 15326.50it/s]\n",
            "100%|██████████| 175/175 [00:00<00:00, 19732.33it/s]\n",
            "100%|██████████| 161/161 [00:00<00:00, 18436.25it/s]\n",
            "100%|██████████| 121/121 [00:00<00:00, 18562.26it/s]\n",
            "100%|██████████| 114/114 [00:00<00:00, 17498.65it/s]\n",
            "100%|██████████| 199/199 [00:00<00:00, 15435.92it/s]\n",
            "100%|██████████| 92/92 [00:00<00:00, 12277.31it/s]\n",
            "100%|██████████| 254/254 [00:00<00:00, 16555.09it/s]\n",
            "100%|██████████| 364/364 [00:00<00:00, 21614.92it/s]\n",
            "100%|██████████| 175/175 [00:00<00:00, 19380.13it/s]\n",
            "100%|██████████| 179/179 [00:00<00:00, 19374.48it/s]\n",
            "100%|██████████| 317/317 [00:00<00:00, 18966.84it/s]\n",
            "100%|██████████| 346/346 [00:00<00:00, 21009.77it/s]\n",
            "100%|██████████| 336/336 [00:00<00:00, 20656.75it/s]\n",
            "100%|██████████| 433/433 [00:00<00:00, 20513.40it/s]\n",
            "100%|██████████| 180/180 [00:00<00:00, 17165.93it/s]\n",
            "100%|██████████| 436/436 [00:00<00:00, 19602.70it/s]\n",
            "100%|██████████| 107/107 [00:00<00:00, 15173.12it/s]\n",
            "100%|██████████| 98/98 [00:00<00:00, 18001.30it/s]\n",
            "100%|██████████| 205/205 [00:00<00:00, 18727.02it/s]\n",
            "100%|██████████| 129/129 [00:00<00:00, 16339.47it/s]\n",
            "100%|██████████| 134/134 [00:00<00:00, 14151.75it/s]\n",
            "100%|██████████| 102/102 [00:00<00:00, 18383.42it/s]\n",
            "100%|██████████| 192/192 [00:00<00:00, 18562.29it/s]\n",
            "100%|██████████| 197/197 [00:00<00:00, 18387.06it/s]\n",
            "100%|██████████| 90/90 [00:00<00:00, 16416.78it/s]\n",
            "100%|██████████| 124/124 [00:00<00:00, 12257.40it/s]\n",
            "100%|██████████| 110/110 [00:00<00:00, 17508.76it/s]\n",
            "100%|██████████| 90/90 [00:00<00:00, 11292.55it/s]\n",
            "100%|██████████| 191/191 [00:00<00:00, 13176.84it/s]\n",
            "100%|██████████| 138/138 [00:00<00:00, 17465.19it/s]\n",
            "100%|██████████| 90/90 [00:00<00:00, 16065.34it/s]\n",
            "100%|██████████| 154/154 [00:00<00:00, 17206.71it/s]\n",
            "100%|██████████| 128/128 [00:00<00:00, 17597.71it/s]\n",
            "100%|██████████| 129/129 [00:00<00:00, 16969.27it/s]\n",
            "100%|██████████| 104/104 [00:00<00:00, 15745.86it/s]\n",
            "100%|██████████| 96/96 [00:00<00:00, 16107.42it/s]\n",
            "100%|██████████| 121/121 [00:00<00:00, 12215.34it/s]\n",
            "100%|██████████| 184/184 [00:00<00:00, 18389.93it/s]\n",
            "100%|██████████| 177/177 [00:00<00:00, 18014.41it/s]\n",
            "100%|██████████| 299/299 [00:00<00:00, 20162.98it/s]\n",
            "100%|██████████| 119/119 [00:00<00:00, 18346.71it/s]\n",
            "100%|██████████| 112/112 [00:00<00:00, 16617.57it/s]\n",
            "100%|██████████| 110/110 [00:00<00:00, 16138.15it/s]\n",
            "100%|██████████| 264/264 [00:00<00:00, 20505.11it/s]\n",
            "100%|██████████| 328/328 [00:00<00:00, 21889.82it/s]\n",
            "100%|██████████| 149/149 [00:00<00:00, 18667.52it/s]\n",
            "100%|██████████| 109/109 [00:00<00:00, 17591.93it/s]\n",
            "100%|██████████| 967/967 [00:00<00:00, 22472.06it/s]\n",
            "100%|██████████| 145/145 [00:00<00:00, 18007.70it/s]\n",
            "100%|██████████| 164/164 [00:00<00:00, 16058.50it/s]\n",
            "100%|██████████| 255/255 [00:00<00:00, 20026.35it/s]\n",
            "100%|██████████| 136/136 [00:00<00:00, 13416.09it/s]\n",
            "100%|██████████| 360/360 [00:00<00:00, 20815.69it/s]\n",
            "100%|██████████| 304/304 [00:00<00:00, 17087.95it/s]\n",
            "100%|██████████| 309/309 [00:00<00:00, 20523.85it/s]\n",
            "100%|██████████| 118/118 [00:00<00:00, 12329.43it/s]\n",
            "100%|██████████| 87/87 [00:00<00:00, 13618.38it/s]\n",
            "100%|██████████| 272/272 [00:00<00:00, 21454.64it/s]\n",
            "100%|██████████| 708/708 [00:00<00:00, 22336.81it/s]\n",
            "100%|██████████| 111/111 [00:00<00:00, 16725.38it/s]\n",
            "100%|██████████| 822/822 [00:00<00:00, 22342.22it/s]\n",
            "100%|██████████| 206/206 [00:00<00:00, 21617.42it/s]\n",
            "100%|██████████| 1150/1150 [00:00<00:00, 22695.81it/s]\n",
            "100%|██████████| 242/242 [00:00<00:00, 19826.58it/s]\n",
            "100%|██████████| 140/140 [00:00<00:00, 18824.82it/s]\n",
            "100%|██████████| 1034/1034 [00:00<00:00, 22344.73it/s]\n",
            "100%|██████████| 1586/1586 [00:00<00:00, 23334.96it/s]\n",
            "100%|██████████| 323/323 [00:00<00:00, 20872.01it/s]\n",
            "100%|██████████| 116/116 [00:00<00:00, 18003.97it/s]\n",
            "100%|██████████| 146/146 [00:00<00:00, 14372.82it/s]\n",
            "100%|██████████| 124/124 [00:00<00:00, 17179.55it/s]\n",
            "100%|██████████| 109/109 [00:00<00:00, 17308.21it/s]\n",
            "100%|██████████| 162/162 [00:00<00:00, 19527.45it/s]\n",
            "100%|██████████| 147/147 [00:00<00:00, 17355.74it/s]\n",
            "100%|██████████| 159/159 [00:00<00:00, 21494.00it/s]\n",
            "100%|██████████| 1102/1102 [00:00<00:00, 23615.15it/s]\n",
            "100%|██████████| 134/134 [00:00<00:00, 19052.74it/s]\n",
            "100%|██████████| 257/257 [00:00<00:00, 15896.42it/s]\n",
            "100%|██████████| 1226/1226 [00:00<00:00, 23837.68it/s]\n",
            "100%|██████████| 265/265 [00:00<00:00, 20455.50it/s]\n",
            "100%|██████████| 610/610 [00:00<00:00, 22929.76it/s]\n",
            "100%|██████████| 504/504 [00:00<00:00, 21276.31it/s]\n",
            "100%|██████████| 211/211 [00:00<00:00, 18485.99it/s]\n",
            "100%|██████████| 110/110 [00:00<00:00, 13714.21it/s]\n",
            "100%|██████████| 309/309 [00:00<00:00, 21298.93it/s]\n",
            "100%|██████████| 257/257 [00:00<00:00, 18015.14it/s]\n",
            "100%|██████████| 576/576 [00:00<00:00, 20285.65it/s]\n",
            "100%|██████████| 269/269 [00:00<00:00, 20825.97it/s]\n",
            "100%|██████████| 188/188 [00:00<00:00, 18828.75it/s]\n",
            "100%|██████████| 129/129 [00:00<00:00, 18556.96it/s]\n",
            "100%|██████████| 1062/1062 [00:00<00:00, 24510.95it/s]\n",
            "100%|██████████| 794/794 [00:00<00:00, 23147.50it/s]\n",
            "100%|██████████| 1386/1386 [00:00<00:00, 23771.15it/s]\n",
            "100%|██████████| 691/691 [00:00<00:00, 20797.70it/s]\n",
            "100%|██████████| 852/852 [00:00<00:00, 20997.52it/s]\n",
            "100%|██████████| 155/155 [00:00<00:00, 14841.50it/s]\n",
            "100%|██████████| 830/830 [00:00<00:00, 23285.79it/s]\n",
            "100%|██████████| 168/168 [00:00<00:00, 19429.85it/s]\n",
            "100%|██████████| 985/985 [00:00<00:00, 15307.11it/s]\n",
            "100%|██████████| 1913/1913 [00:00<00:00, 15468.48it/s]\n",
            "100%|██████████| 983/983 [00:00<00:00, 24096.32it/s]\n",
            "100%|██████████| 475/475 [00:00<00:00, 21865.47it/s]\n",
            "100%|██████████| 106/106 [00:00<00:00, 17148.00it/s]\n",
            "100%|██████████| 140/140 [00:00<00:00, 13263.52it/s]\n",
            "100%|██████████| 287/287 [00:00<00:00, 21989.39it/s]\n",
            "100%|██████████| 436/436 [00:00<00:00, 21223.92it/s]\n",
            "100%|██████████| 296/296 [00:00<00:00, 20844.76it/s]\n",
            "100%|██████████| 324/324 [00:00<00:00, 22155.90it/s]\n",
            "100%|██████████| 123/123 [00:00<00:00, 18501.63it/s]\n",
            "100%|██████████| 827/827 [00:00<00:00, 21552.55it/s]\n",
            "100%|██████████| 234/234 [00:00<00:00, 20344.24it/s]\n",
            "100%|██████████| 232/232 [00:00<00:00, 19079.22it/s]\n",
            "100%|██████████| 202/202 [00:00<00:00, 18936.76it/s]\n",
            "100%|██████████| 466/466 [00:00<00:00, 21687.05it/s]\n",
            "100%|██████████| 524/524 [00:00<00:00, 22245.09it/s]\n",
            "100%|██████████| 962/962 [00:00<00:00, 22931.55it/s]\n",
            "100%|██████████| 1586/1586 [00:00<00:00, 23443.67it/s]\n",
            "100%|██████████| 782/782 [00:00<00:00, 23255.59it/s]\n",
            "100%|██████████| 768/768 [00:00<00:00, 22355.34it/s]\n",
            "100%|██████████| 528/528 [00:00<00:00, 19958.66it/s]\n",
            "100%|██████████| 352/352 [00:00<00:00, 15481.84it/s]\n",
            "100%|██████████| 113/113 [00:00<00:00, 13118.81it/s]\n",
            "100%|██████████| 136/136 [00:00<00:00, 14181.92it/s]\n",
            "100%|██████████| 419/419 [00:00<00:00, 12324.25it/s]\n",
            "100%|██████████| 173/173 [00:00<00:00, 11748.75it/s]\n",
            "100%|██████████| 99/99 [00:00<00:00, 14348.67it/s]\n",
            "100%|██████████| 516/516 [00:00<00:00, 23553.76it/s]\n",
            "100%|██████████| 237/237 [00:00<00:00, 15179.81it/s]\n",
            "100%|██████████| 248/248 [00:00<00:00, 19745.39it/s]\n",
            "100%|██████████| 488/488 [00:00<00:00, 22104.13it/s]\n",
            "100%|██████████| 474/474 [00:00<00:00, 21306.86it/s]\n",
            "100%|██████████| 250/250 [00:00<00:00, 20530.93it/s]\n",
            "100%|██████████| 410/410 [00:00<00:00, 21194.84it/s]\n",
            "100%|██████████| 149/149 [00:00<00:00, 16635.20it/s]\n",
            "100%|██████████| 88/88 [00:00<00:00, 14028.84it/s]\n",
            "100%|██████████| 110/110 [00:00<00:00, 10727.62it/s]\n",
            "100%|██████████| 92/92 [00:00<00:00, 15648.48it/s]\n",
            "100%|██████████| 99/99 [00:00<00:00, 16950.49it/s]\n",
            "100%|██████████| 179/179 [00:00<00:00, 20266.71it/s]\n",
            "100%|██████████| 236/236 [00:00<00:00, 19711.17it/s]\n",
            "100%|██████████| 114/114 [00:00<00:00, 20048.25it/s]\n",
            "100%|██████████| 99/99 [00:00<00:00, 20168.84it/s]\n",
            "100%|██████████| 107/107 [00:00<00:00, 11742.60it/s]\n",
            "100%|██████████| 177/177 [00:00<00:00, 19940.15it/s]\n",
            "100%|██████████| 180/180 [00:00<00:00, 19629.62it/s]\n",
            "100%|██████████| 201/201 [00:00<00:00, 18799.73it/s]\n",
            "100%|██████████| 164/164 [00:00<00:00, 18737.83it/s]\n",
            "100%|██████████| 134/134 [00:00<00:00, 18420.79it/s]\n",
            "100%|██████████| 100/100 [00:00<00:00, 15932.17it/s]\n",
            "100%|██████████| 188/188 [00:00<00:00, 20523.39it/s]\n",
            "100%|██████████| 225/225 [00:00<00:00, 18102.48it/s]\n",
            "100%|██████████| 323/323 [00:00<00:00, 16486.28it/s]\n",
            "100%|██████████| 421/421 [00:00<00:00, 20884.21it/s]\n",
            "100%|██████████| 240/240 [00:00<00:00, 15377.36it/s]\n",
            "100%|██████████| 194/194 [00:00<00:00, 19434.31it/s]\n",
            "100%|██████████| 196/196 [00:00<00:00, 16623.87it/s]\n",
            "100%|██████████| 154/154 [00:00<00:00, 19048.15it/s]\n",
            "100%|██████████| 259/259 [00:00<00:00, 18942.02it/s]\n",
            "100%|██████████| 403/403 [00:00<00:00, 14827.10it/s]\n",
            "100%|██████████| 269/269 [00:00<00:00, 13682.11it/s]\n",
            "100%|██████████| 120/120 [00:00<00:00, 12350.42it/s]\n",
            "100%|██████████| 279/279 [00:00<00:00, 14334.14it/s]\n",
            "100%|██████████| 315/315 [00:00<00:00, 14791.99it/s]\n",
            "100%|██████████| 395/395 [00:00<00:00, 16493.28it/s]\n",
            "100%|██████████| 358/358 [00:00<00:00, 17673.95it/s]\n",
            "100%|██████████| 351/351 [00:00<00:00, 20153.88it/s]\n",
            "100%|██████████| 95/95 [00:00<00:00, 18947.17it/s]\n",
            "100%|██████████| 323/323 [00:00<00:00, 19688.99it/s]\n",
            "100%|██████████| 408/408 [00:00<00:00, 19640.72it/s]\n",
            "100%|██████████| 179/179 [00:00<00:00, 19445.23it/s]\n",
            "100%|██████████| 224/224 [00:00<00:00, 19048.78it/s]\n",
            "100%|██████████| 317/317 [00:00<00:00, 20897.69it/s]\n",
            "100%|██████████| 398/398 [00:00<00:00, 14458.73it/s]\n",
            "100%|██████████| 359/359 [00:00<00:00, 21493.90it/s]\n",
            "100%|██████████| 295/295 [00:00<00:00, 19705.37it/s]\n",
            "100%|██████████| 370/370 [00:00<00:00, 20428.24it/s]\n",
            "100%|██████████| 193/193 [00:00<00:00, 16554.54it/s]\n",
            "100%|██████████| 233/233 [00:00<00:00, 19099.30it/s]\n",
            "100%|██████████| 312/312 [00:00<00:00, 17724.81it/s]\n",
            "100%|██████████| 200/200 [00:00<00:00, 20213.51it/s]\n",
            "100%|██████████| 302/302 [00:00<00:00, 21661.53it/s]\n",
            "100%|██████████| 145/145 [00:00<00:00, 12602.29it/s]\n",
            "100%|██████████| 259/259 [00:00<00:00, 20100.75it/s]\n",
            "100%|██████████| 168/168 [00:00<00:00, 17001.88it/s]\n",
            "100%|██████████| 333/333 [00:00<00:00, 20559.41it/s]\n",
            "100%|██████████| 112/112 [00:00<00:00, 17093.44it/s]\n",
            "100%|██████████| 241/241 [00:00<00:00, 17465.40it/s]\n",
            "100%|██████████| 183/183 [00:00<00:00, 20861.51it/s]\n",
            "100%|██████████| 246/246 [00:00<00:00, 20905.24it/s]\n",
            "100%|██████████| 102/102 [00:00<00:00, 16013.59it/s]\n",
            "100%|██████████| 136/136 [00:00<00:00, 18910.80it/s]\n",
            "100%|██████████| 126/126 [00:00<00:00, 15001.34it/s]\n",
            "100%|██████████| 120/120 [00:00<00:00, 13562.46it/s]\n",
            "100%|██████████| 153/153 [00:00<00:00, 17018.37it/s]\n",
            "100%|██████████| 230/230 [00:00<00:00, 19935.32it/s]\n",
            "100%|██████████| 88/88 [00:00<00:00, 17731.49it/s]\n",
            "100%|██████████| 212/212 [00:00<00:00, 13598.29it/s]\n",
            "100%|██████████| 223/223 [00:00<00:00, 14078.87it/s]\n",
            "100%|██████████| 498/498 [00:00<00:00, 15023.72it/s]\n",
            "100%|██████████| 419/419 [00:00<00:00, 21102.21it/s]\n",
            "100%|██████████| 263/263 [00:00<00:00, 20313.46it/s]\n",
            "100%|██████████| 351/351 [00:00<00:00, 19679.99it/s]\n",
            "100%|██████████| 553/553 [00:00<00:00, 19221.75it/s]\n",
            "100%|██████████| 229/229 [00:00<00:00, 14655.11it/s]\n",
            "100%|██████████| 323/323 [00:00<00:00, 21130.49it/s]\n",
            "100%|██████████| 402/402 [00:00<00:00, 20993.98it/s]\n",
            "100%|██████████| 483/483 [00:00<00:00, 20928.19it/s]\n",
            "100%|██████████| 383/383 [00:00<00:00, 20573.48it/s]\n"
          ]
        }
      ]
    },
    {
      "cell_type": "code",
      "source": [
        "print('Loading validation data...')\n",
        "# f'{common_path}/valid.txt'\n",
        "val_dataset = RepunctDataset(val_flist, tokenizer=tokenizer, targets=TARGETS,\n",
        "                             sequence_len=SEQ_LEN, token_style=token_style,\n",
        "                             is_train=True)\n",
        "val_loader = DataLoader(val_dataset, **data_loader_params)"
      ],
      "metadata": {
        "id": "CnDwCxObJmPg",
        "colab": {
          "base_uri": "https://localhost:8080/"
        },
        "outputId": "acb533f9-f233-4745-de21-1c8faa5ccbda"
      },
      "execution_count": null,
      "outputs": [
        {
          "output_type": "stream",
          "name": "stdout",
          "text": [
            "Loading validation data...\n"
          ]
        },
        {
          "output_type": "stream",
          "name": "stderr",
          "text": [
            "100%|██████████| 327/327 [00:00<00:00, 20603.86it/s]\n",
            "100%|██████████| 575/575 [00:00<00:00, 22602.43it/s]\n",
            "100%|██████████| 519/519 [00:00<00:00, 22699.10it/s]\n",
            "100%|██████████| 144/144 [00:00<00:00, 17758.37it/s]\n",
            "100%|██████████| 162/162 [00:00<00:00, 18981.93it/s]\n",
            "100%|██████████| 399/399 [00:00<00:00, 22982.96it/s]\n",
            "100%|██████████| 328/328 [00:00<00:00, 21941.49it/s]\n",
            "100%|██████████| 182/182 [00:00<00:00, 20527.69it/s]\n",
            "100%|██████████| 180/180 [00:00<00:00, 21422.58it/s]\n",
            "100%|██████████| 413/413 [00:00<00:00, 22403.62it/s]\n",
            "100%|██████████| 392/392 [00:00<00:00, 20756.80it/s]\n",
            "100%|██████████| 321/321 [00:00<00:00, 20913.54it/s]\n",
            "100%|██████████| 98/98 [00:00<00:00, 17414.81it/s]\n",
            "100%|██████████| 219/219 [00:00<00:00, 20390.08it/s]\n",
            "100%|██████████| 254/254 [00:00<00:00, 22707.67it/s]\n",
            "100%|██████████| 209/209 [00:00<00:00, 14517.01it/s]\n",
            "100%|██████████| 151/151 [00:00<00:00, 20243.56it/s]\n",
            "100%|██████████| 94/94 [00:00<00:00, 18138.78it/s]\n",
            "100%|██████████| 308/308 [00:00<00:00, 14024.73it/s]\n",
            "100%|██████████| 225/225 [00:00<00:00, 22540.33it/s]\n",
            "100%|██████████| 244/244 [00:00<00:00, 21713.70it/s]\n",
            "100%|██████████| 315/315 [00:00<00:00, 21796.32it/s]\n",
            "100%|██████████| 202/202 [00:00<00:00, 21660.47it/s]\n",
            "100%|██████████| 220/220 [00:00<00:00, 13262.05it/s]\n",
            "100%|██████████| 766/766 [00:00<00:00, 19139.86it/s]\n",
            "100%|██████████| 273/273 [00:00<00:00, 20621.04it/s]\n",
            "100%|██████████| 351/351 [00:00<00:00, 20050.67it/s]\n",
            "100%|██████████| 323/323 [00:00<00:00, 20942.02it/s]\n",
            "100%|██████████| 179/179 [00:00<00:00, 21079.27it/s]\n",
            "100%|██████████| 408/408 [00:00<00:00, 23028.26it/s]\n",
            "100%|██████████| 224/224 [00:00<00:00, 19703.96it/s]\n",
            "100%|██████████| 407/407 [00:00<00:00, 21717.77it/s]\n",
            "100%|██████████| 232/232 [00:00<00:00, 21343.19it/s]\n",
            "100%|██████████| 148/148 [00:00<00:00, 20031.53it/s]\n",
            "100%|██████████| 139/139 [00:00<00:00, 20667.46it/s]\n",
            "100%|██████████| 147/147 [00:00<00:00, 13422.50it/s]\n",
            "100%|██████████| 146/146 [00:00<00:00, 20136.41it/s]\n",
            "100%|██████████| 158/158 [00:00<00:00, 21252.65it/s]\n",
            "100%|██████████| 321/321 [00:00<00:00, 15653.85it/s]\n",
            "100%|██████████| 244/244 [00:00<00:00, 22495.00it/s]\n",
            "100%|██████████| 108/108 [00:00<00:00, 18198.01it/s]\n",
            "100%|██████████| 89/89 [00:00<00:00, 18281.65it/s]\n",
            "100%|██████████| 114/114 [00:00<00:00, 19079.47it/s]\n",
            "100%|██████████| 174/174 [00:00<00:00, 21752.22it/s]\n",
            "100%|██████████| 214/214 [00:00<00:00, 20451.63it/s]\n",
            "100%|██████████| 196/196 [00:00<00:00, 21807.67it/s]\n",
            "100%|██████████| 100/100 [00:00<00:00, 20467.01it/s]\n",
            "100%|██████████| 258/258 [00:00<00:00, 21303.46it/s]\n",
            "100%|██████████| 307/307 [00:00<00:00, 22685.49it/s]\n",
            "100%|██████████| 146/146 [00:00<00:00, 18921.28it/s]\n",
            "100%|██████████| 118/118 [00:00<00:00, 17401.92it/s]\n",
            "100%|██████████| 97/97 [00:00<00:00, 20177.92it/s]\n",
            "100%|██████████| 158/158 [00:00<00:00, 20213.51it/s]\n",
            "100%|██████████| 92/92 [00:00<00:00, 16420.25it/s]\n",
            "100%|██████████| 101/101 [00:00<00:00, 16189.27it/s]\n",
            "100%|██████████| 168/168 [00:00<00:00, 19077.41it/s]\n",
            "100%|██████████| 179/179 [00:00<00:00, 19718.46it/s]\n",
            "100%|██████████| 201/201 [00:00<00:00, 19856.21it/s]\n",
            "100%|██████████| 115/115 [00:00<00:00, 19242.23it/s]\n",
            "100%|██████████| 90/90 [00:00<00:00, 15958.04it/s]\n",
            "100%|██████████| 483/483 [00:00<00:00, 21088.53it/s]\n",
            "100%|██████████| 519/519 [00:00<00:00, 22834.11it/s]\n",
            "100%|██████████| 180/180 [00:00<00:00, 21058.68it/s]\n",
            "100%|██████████| 446/446 [00:00<00:00, 21967.70it/s]\n",
            "100%|██████████| 301/301 [00:00<00:00, 20278.94it/s]\n",
            "100%|██████████| 159/159 [00:00<00:00, 20161.27it/s]\n",
            "100%|██████████| 143/143 [00:00<00:00, 19970.22it/s]\n",
            "100%|██████████| 263/263 [00:00<00:00, 20873.50it/s]\n",
            "100%|██████████| 96/96 [00:00<00:00, 17950.75it/s]\n",
            "100%|██████████| 237/237 [00:00<00:00, 16850.88it/s]\n",
            "100%|██████████| 125/125 [00:00<00:00, 16874.96it/s]\n",
            "100%|██████████| 257/257 [00:00<00:00, 13511.87it/s]\n",
            "100%|██████████| 146/146 [00:00<00:00, 19559.49it/s]\n",
            "100%|██████████| 178/178 [00:00<00:00, 17605.26it/s]\n",
            "100%|██████████| 126/126 [00:00<00:00, 18272.04it/s]\n",
            "100%|██████████| 397/397 [00:00<00:00, 22731.34it/s]\n",
            "100%|██████████| 404/404 [00:00<00:00, 21836.04it/s]\n",
            "100%|██████████| 326/326 [00:00<00:00, 21582.93it/s]\n",
            "100%|██████████| 303/303 [00:00<00:00, 21520.54it/s]\n",
            "100%|██████████| 293/293 [00:00<00:00, 13358.82it/s]\n",
            "100%|██████████| 226/226 [00:00<00:00, 20813.12it/s]\n",
            "100%|██████████| 324/324 [00:00<00:00, 21174.77it/s]\n",
            "100%|██████████| 203/203 [00:00<00:00, 19524.05it/s]\n",
            "100%|██████████| 268/268 [00:00<00:00, 21095.50it/s]\n",
            "100%|██████████| 136/136 [00:00<00:00, 18927.74it/s]\n",
            "100%|██████████| 309/309 [00:00<00:00, 20536.86it/s]\n",
            "100%|██████████| 215/215 [00:00<00:00, 18482.41it/s]\n",
            "100%|██████████| 182/182 [00:00<00:00, 19744.03it/s]\n",
            "100%|██████████| 166/166 [00:00<00:00, 18096.75it/s]\n",
            "100%|██████████| 333/333 [00:00<00:00, 20590.32it/s]\n",
            "100%|██████████| 331/331 [00:00<00:00, 21554.00it/s]\n",
            "100%|██████████| 470/470 [00:00<00:00, 22410.56it/s]\n",
            "100%|██████████| 371/371 [00:00<00:00, 20939.07it/s]\n",
            "100%|██████████| 166/166 [00:00<00:00, 18998.43it/s]\n",
            "100%|██████████| 610/610 [00:00<00:00, 22609.60it/s]\n",
            "100%|██████████| 409/409 [00:00<00:00, 22508.01it/s]\n",
            "100%|██████████| 334/334 [00:00<00:00, 22486.32it/s]\n",
            "100%|██████████| 183/183 [00:00<00:00, 13782.44it/s]\n",
            "100%|██████████| 369/369 [00:00<00:00, 22347.50it/s]\n",
            "100%|██████████| 352/352 [00:00<00:00, 22239.89it/s]\n",
            "100%|██████████| 176/176 [00:00<00:00, 19460.05it/s]\n",
            "100%|██████████| 213/213 [00:00<00:00, 20049.07it/s]\n",
            "100%|██████████| 184/184 [00:00<00:00, 19593.58it/s]\n",
            "100%|██████████| 182/182 [00:00<00:00, 20110.21it/s]\n",
            "100%|██████████| 237/237 [00:00<00:00, 20511.10it/s]\n",
            "100%|██████████| 131/131 [00:00<00:00, 18089.61it/s]\n",
            "100%|██████████| 341/341 [00:00<00:00, 20617.22it/s]\n",
            "100%|██████████| 383/383 [00:00<00:00, 21585.55it/s]\n",
            "100%|██████████| 435/435 [00:00<00:00, 21720.50it/s]\n",
            "100%|██████████| 349/349 [00:00<00:00, 19461.70it/s]\n",
            "100%|██████████| 97/97 [00:00<00:00, 16586.39it/s]\n",
            "100%|██████████| 106/106 [00:00<00:00, 21029.05it/s]\n",
            "100%|██████████| 142/142 [00:00<00:00, 19467.58it/s]\n",
            "100%|██████████| 120/120 [00:00<00:00, 18869.18it/s]\n",
            "100%|██████████| 281/281 [00:00<00:00, 21370.02it/s]\n",
            "100%|██████████| 404/404 [00:00<00:00, 14178.25it/s]\n",
            "100%|██████████| 498/498 [00:00<00:00, 21489.56it/s]\n",
            "100%|██████████| 538/538 [00:00<00:00, 22507.06it/s]\n",
            "100%|██████████| 252/252 [00:00<00:00, 21216.95it/s]\n",
            "100%|██████████| 332/332 [00:00<00:00, 21221.45it/s]\n",
            "100%|██████████| 360/360 [00:00<00:00, 22398.82it/s]\n",
            "100%|██████████| 298/298 [00:00<00:00, 20511.05it/s]\n",
            "100%|██████████| 174/174 [00:00<00:00, 18566.89it/s]\n",
            "100%|██████████| 740/740 [00:00<00:00, 22883.87it/s]\n",
            "100%|██████████| 506/506 [00:00<00:00, 22017.34it/s]\n",
            "100%|██████████| 431/431 [00:00<00:00, 22030.36it/s]\n",
            "100%|██████████| 201/201 [00:00<00:00, 13002.69it/s]\n",
            "100%|██████████| 164/164 [00:00<00:00, 14035.50it/s]\n",
            "100%|██████████| 180/180 [00:00<00:00, 19030.42it/s]\n",
            "100%|██████████| 134/134 [00:00<00:00, 16034.37it/s]\n",
            "100%|██████████| 188/188 [00:00<00:00, 12803.08it/s]\n",
            "100%|██████████| 323/323 [00:00<00:00, 19791.68it/s]\n",
            "100%|██████████| 178/178 [00:00<00:00, 20345.72it/s]\n",
            "100%|██████████| 563/563 [00:00<00:00, 21246.82it/s]\n",
            "100%|██████████| 622/622 [00:00<00:00, 22066.70it/s]\n",
            "100%|██████████| 262/262 [00:00<00:00, 19760.26it/s]\n",
            "100%|██████████| 389/389 [00:00<00:00, 19934.08it/s]\n",
            "100%|██████████| 435/435 [00:00<00:00, 22192.62it/s]\n",
            "100%|██████████| 458/458 [00:00<00:00, 22196.44it/s]\n",
            "100%|██████████| 305/305 [00:00<00:00, 21476.75it/s]\n",
            "100%|██████████| 175/175 [00:00<00:00, 20748.62it/s]\n",
            "100%|██████████| 144/144 [00:00<00:00, 18772.29it/s]\n",
            "100%|██████████| 137/137 [00:00<00:00, 21823.76it/s]\n",
            "100%|██████████| 101/101 [00:00<00:00, 15280.07it/s]\n",
            "100%|██████████| 155/155 [00:00<00:00, 13504.44it/s]\n",
            "100%|██████████| 120/120 [00:00<00:00, 13039.29it/s]\n",
            "100%|██████████| 204/204 [00:00<00:00, 14226.96it/s]\n",
            "100%|██████████| 88/88 [00:00<00:00, 15163.66it/s]\n",
            "100%|██████████| 512/512 [00:00<00:00, 15055.69it/s]\n",
            "100%|██████████| 155/155 [00:00<00:00, 14019.30it/s]\n",
            "100%|██████████| 284/284 [00:00<00:00, 21397.59it/s]\n",
            "100%|██████████| 146/146 [00:00<00:00, 17261.97it/s]\n",
            "100%|██████████| 268/268 [00:00<00:00, 19252.45it/s]\n",
            "100%|██████████| 297/297 [00:00<00:00, 13647.56it/s]\n",
            "100%|██████████| 194/194 [00:00<00:00, 20410.75it/s]\n",
            "100%|██████████| 155/155 [00:00<00:00, 19606.05it/s]\n",
            "100%|██████████| 263/263 [00:00<00:00, 20721.76it/s]\n",
            "100%|██████████| 312/312 [00:00<00:00, 20810.77it/s]\n",
            "100%|██████████| 352/352 [00:00<00:00, 18332.80it/s]\n",
            "100%|██████████| 297/297 [00:00<00:00, 20624.65it/s]\n",
            "100%|██████████| 257/257 [00:00<00:00, 19274.67it/s]\n",
            "100%|██████████| 323/323 [00:00<00:00, 20121.79it/s]\n",
            "100%|██████████| 191/191 [00:00<00:00, 20895.49it/s]\n",
            "100%|██████████| 281/281 [00:00<00:00, 20571.44it/s]\n",
            "100%|██████████| 259/259 [00:00<00:00, 19922.33it/s]\n",
            "100%|██████████| 127/127 [00:00<00:00, 18122.57it/s]\n",
            "100%|██████████| 346/346 [00:00<00:00, 14443.40it/s]\n",
            "100%|██████████| 235/235 [00:00<00:00, 13064.64it/s]\n",
            "100%|██████████| 165/165 [00:00<00:00, 14810.71it/s]\n",
            "100%|██████████| 191/191 [00:00<00:00, 18529.25it/s]\n",
            "100%|██████████| 421/421 [00:00<00:00, 20845.75it/s]\n",
            "100%|██████████| 336/336 [00:00<00:00, 20820.02it/s]\n",
            "100%|██████████| 343/343 [00:00<00:00, 13902.92it/s]\n",
            "100%|██████████| 91/91 [00:00<00:00, 17095.84it/s]\n",
            "100%|██████████| 341/341 [00:00<00:00, 20423.50it/s]\n",
            "100%|██████████| 350/350 [00:00<00:00, 20170.19it/s]\n",
            "100%|██████████| 254/254 [00:00<00:00, 20447.06it/s]\n",
            "100%|██████████| 403/403 [00:00<00:00, 20688.15it/s]\n",
            "100%|██████████| 241/241 [00:00<00:00, 20273.72it/s]\n",
            "100%|██████████| 212/212 [00:00<00:00, 19396.89it/s]\n",
            "100%|██████████| 195/195 [00:00<00:00, 17264.88it/s]\n",
            "100%|██████████| 169/169 [00:00<00:00, 18819.52it/s]\n",
            "100%|██████████| 235/235 [00:00<00:00, 19898.28it/s]\n",
            "100%|██████████| 152/152 [00:00<00:00, 17958.71it/s]\n",
            "100%|██████████| 121/121 [00:00<00:00, 19156.41it/s]\n",
            "100%|██████████| 142/142 [00:00<00:00, 18243.92it/s]\n",
            "100%|██████████| 107/107 [00:00<00:00, 17850.94it/s]\n",
            "100%|██████████| 216/216 [00:00<00:00, 20408.40it/s]\n",
            "100%|██████████| 169/169 [00:00<00:00, 18803.55it/s]\n",
            "100%|██████████| 129/129 [00:00<00:00, 15117.78it/s]\n",
            "100%|██████████| 160/160 [00:00<00:00, 16017.58it/s]\n",
            "100%|██████████| 240/240 [00:00<00:00, 21113.60it/s]\n",
            "100%|██████████| 423/423 [00:00<00:00, 18213.45it/s]\n",
            "100%|██████████| 165/165 [00:00<00:00, 16617.69it/s]\n",
            "100%|██████████| 248/248 [00:00<00:00, 19962.53it/s]\n",
            "100%|██████████| 493/493 [00:00<00:00, 22655.02it/s]\n",
            "100%|██████████| 363/363 [00:00<00:00, 21868.55it/s]\n",
            "100%|██████████| 275/275 [00:00<00:00, 20998.63it/s]\n",
            "100%|██████████| 455/455 [00:00<00:00, 21705.94it/s]\n",
            "100%|██████████| 716/716 [00:00<00:00, 22332.36it/s]\n",
            "100%|██████████| 281/281 [00:00<00:00, 21631.23it/s]\n",
            "100%|██████████| 486/486 [00:00<00:00, 22183.39it/s]\n",
            "100%|██████████| 591/591 [00:00<00:00, 21325.69it/s]\n",
            "100%|██████████| 504/504 [00:00<00:00, 22267.12it/s]\n",
            "100%|██████████| 512/512 [00:00<00:00, 22131.02it/s]\n",
            "100%|██████████| 405/405 [00:00<00:00, 22208.91it/s]\n",
            "100%|██████████| 433/433 [00:00<00:00, 21700.98it/s]\n",
            "100%|██████████| 377/377 [00:00<00:00, 21457.59it/s]\n",
            "100%|██████████| 292/292 [00:00<00:00, 21337.62it/s]\n",
            "100%|██████████| 549/549 [00:00<00:00, 22894.40it/s]\n",
            "100%|██████████| 180/180 [00:00<00:00, 19962.84it/s]\n",
            "100%|██████████| 189/189 [00:00<00:00, 18305.59it/s]\n",
            "100%|██████████| 189/189 [00:00<00:00, 18306.01it/s]\n",
            "100%|██████████| 388/388 [00:00<00:00, 21519.78it/s]\n",
            "100%|██████████| 435/435 [00:00<00:00, 21624.48it/s]\n",
            "100%|██████████| 393/393 [00:00<00:00, 20130.20it/s]\n",
            "100%|██████████| 207/207 [00:00<00:00, 22078.09it/s]\n",
            "100%|██████████| 232/232 [00:00<00:00, 19013.24it/s]\n",
            "100%|██████████| 263/263 [00:00<00:00, 20260.48it/s]\n",
            "100%|██████████| 153/153 [00:00<00:00, 20688.24it/s]\n",
            "100%|██████████| 492/492 [00:00<00:00, 23381.95it/s]\n",
            "100%|██████████| 811/811 [00:00<00:00, 22942.88it/s]\n",
            "100%|██████████| 276/276 [00:00<00:00, 21323.83it/s]\n",
            "100%|██████████| 185/185 [00:00<00:00, 20909.36it/s]\n",
            "100%|██████████| 231/231 [00:00<00:00, 22249.16it/s]\n",
            "100%|██████████| 177/177 [00:00<00:00, 21196.05it/s]\n",
            "100%|██████████| 385/385 [00:00<00:00, 22033.42it/s]\n",
            "100%|██████████| 334/334 [00:00<00:00, 22151.38it/s]\n",
            "100%|██████████| 337/337 [00:00<00:00, 21145.01it/s]\n",
            "100%|██████████| 236/236 [00:00<00:00, 20866.74it/s]\n",
            "100%|██████████| 343/343 [00:00<00:00, 21934.93it/s]\n",
            "100%|██████████| 383/383 [00:00<00:00, 19805.92it/s]\n",
            "100%|██████████| 218/218 [00:00<00:00, 19808.45it/s]\n",
            "100%|██████████| 182/182 [00:00<00:00, 19544.35it/s]\n",
            "100%|██████████| 170/170 [00:00<00:00, 18596.62it/s]\n",
            "100%|██████████| 189/189 [00:00<00:00, 19428.54it/s]\n",
            "100%|██████████| 187/187 [00:00<00:00, 17425.79it/s]\n",
            "100%|██████████| 135/135 [00:00<00:00, 17247.37it/s]\n",
            "100%|██████████| 123/123 [00:00<00:00, 17373.27it/s]\n",
            "100%|██████████| 182/182 [00:00<00:00, 19450.23it/s]\n",
            "100%|██████████| 108/108 [00:00<00:00, 14753.76it/s]\n",
            "100%|██████████| 127/127 [00:00<00:00, 16866.46it/s]\n",
            "100%|██████████| 128/128 [00:00<00:00, 18700.44it/s]\n",
            "100%|██████████| 159/159 [00:00<00:00, 19211.66it/s]\n",
            "100%|██████████| 221/221 [00:00<00:00, 20379.95it/s]\n",
            "100%|██████████| 115/115 [00:00<00:00, 17841.50it/s]\n",
            "100%|██████████| 141/141 [00:00<00:00, 21137.92it/s]\n",
            "100%|██████████| 180/180 [00:00<00:00, 20198.91it/s]\n",
            "100%|██████████| 152/152 [00:00<00:00, 18805.21it/s]\n",
            "100%|██████████| 167/167 [00:00<00:00, 17743.21it/s]\n",
            "100%|██████████| 134/134 [00:00<00:00, 17360.74it/s]\n",
            "100%|██████████| 134/134 [00:00<00:00, 19340.56it/s]\n",
            "100%|██████████| 227/227 [00:00<00:00, 21014.57it/s]\n",
            "100%|██████████| 203/203 [00:00<00:00, 19146.47it/s]\n",
            "100%|██████████| 276/276 [00:00<00:00, 21117.28it/s]\n",
            "100%|██████████| 182/182 [00:00<00:00, 19598.04it/s]\n",
            "100%|██████████| 259/259 [00:00<00:00, 21032.02it/s]\n",
            "100%|██████████| 270/270 [00:00<00:00, 20648.79it/s]\n",
            "100%|██████████| 402/402 [00:00<00:00, 21291.69it/s]\n",
            "100%|██████████| 279/279 [00:00<00:00, 21056.05it/s]\n",
            "100%|██████████| 120/120 [00:00<00:00, 16338.79it/s]\n",
            "100%|██████████| 218/218 [00:00<00:00, 20272.22it/s]\n",
            "100%|██████████| 216/216 [00:00<00:00, 20638.06it/s]\n",
            "100%|██████████| 251/251 [00:00<00:00, 19453.24it/s]\n",
            "100%|██████████| 349/349 [00:00<00:00, 22022.15it/s]\n",
            "100%|██████████| 256/256 [00:00<00:00, 21484.29it/s]\n",
            "100%|██████████| 190/190 [00:00<00:00, 17935.67it/s]\n",
            "100%|██████████| 265/265 [00:00<00:00, 22095.91it/s]\n",
            "100%|██████████| 297/297 [00:00<00:00, 19546.04it/s]\n",
            "100%|██████████| 304/304 [00:00<00:00, 21698.86it/s]\n",
            "100%|██████████| 125/125 [00:00<00:00, 17015.71it/s]\n",
            "100%|██████████| 122/122 [00:00<00:00, 16174.26it/s]\n",
            "100%|██████████| 140/140 [00:00<00:00, 18448.09it/s]\n",
            "100%|██████████| 122/122 [00:00<00:00, 16560.57it/s]\n",
            "100%|██████████| 116/116 [00:00<00:00, 18047.38it/s]\n",
            "100%|██████████| 283/283 [00:00<00:00, 20171.09it/s]\n",
            "100%|██████████| 321/321 [00:00<00:00, 20861.04it/s]\n",
            "100%|██████████| 283/283 [00:00<00:00, 20399.89it/s]\n",
            "100%|██████████| 151/151 [00:00<00:00, 20004.42it/s]\n",
            "100%|██████████| 215/215 [00:00<00:00, 20269.17it/s]\n",
            "100%|██████████| 125/125 [00:00<00:00, 16756.30it/s]\n",
            "100%|██████████| 225/225 [00:00<00:00, 21150.60it/s]\n",
            "100%|██████████| 207/207 [00:00<00:00, 19793.92it/s]\n",
            "100%|██████████| 104/104 [00:00<00:00, 17956.10it/s]\n",
            "100%|██████████| 157/157 [00:00<00:00, 17412.49it/s]\n",
            "100%|██████████| 215/215 [00:00<00:00, 20108.72it/s]\n",
            "100%|██████████| 150/150 [00:00<00:00, 17001.64it/s]\n",
            "100%|██████████| 345/345 [00:00<00:00, 20069.55it/s]\n",
            "100%|██████████| 166/166 [00:00<00:00, 18945.18it/s]\n",
            "100%|██████████| 222/222 [00:00<00:00, 18048.41it/s]\n",
            "100%|██████████| 696/696 [00:00<00:00, 22684.07it/s]\n",
            "100%|██████████| 201/201 [00:00<00:00, 19905.91it/s]\n",
            "100%|██████████| 164/164 [00:00<00:00, 17629.45it/s]\n",
            "100%|██████████| 180/180 [00:00<00:00, 20679.71it/s]\n",
            "100%|██████████| 134/134 [00:00<00:00, 18022.08it/s]\n",
            "100%|██████████| 188/188 [00:00<00:00, 19169.30it/s]\n",
            "100%|██████████| 323/323 [00:00<00:00, 19983.48it/s]\n",
            "100%|██████████| 245/245 [00:00<00:00, 20449.84it/s]\n",
            "100%|██████████| 211/211 [00:00<00:00, 18718.23it/s]\n",
            "100%|██████████| 210/210 [00:00<00:00, 18033.37it/s]\n"
          ]
        }
      ]
    },
    {
      "cell_type": "code",
      "source": [
        "print('Loading test data...')\n",
        "# f'{common_path}/test.txt'\n",
        "test_dataset = RepunctDataset(test_flist, tokenizer=tokenizer, targets=TARGETS,\n",
        "                                      sequence_len=SEQ_LEN, token_style=token_style,\n",
        "                                      is_train=True, augment_rate=AUG_RATE,\n",
        "                                      augment_type=AUG_TYPE)\n",
        "test_loader = DataLoader(test_dataset, **data_loader_params)\n",
        "\n",
        "print('Data was loaded.')"
      ],
      "metadata": {
        "id": "mRcn0AWRJ_pH",
        "colab": {
          "base_uri": "https://localhost:8080/"
        },
        "outputId": "1c0c0922-d953-4655-9f69-6f63a224b8a9"
      },
      "execution_count": null,
      "outputs": [
        {
          "output_type": "stream",
          "name": "stdout",
          "text": [
            "Loading test data...\n"
          ]
        },
        {
          "output_type": "stream",
          "name": "stderr",
          "text": [
            "100%|██████████| 166/166 [00:00<00:00, 17557.35it/s]\n",
            "100%|██████████| 300/300 [00:00<00:00, 20388.08it/s]\n",
            "100%|██████████| 235/235 [00:00<00:00, 21798.47it/s]\n",
            "100%|██████████| 97/97 [00:00<00:00, 16572.20it/s]\n",
            "100%|██████████| 432/432 [00:00<00:00, 22379.84it/s]\n",
            "100%|██████████| 151/151 [00:00<00:00, 20099.01it/s]\n",
            "100%|██████████| 181/181 [00:00<00:00, 20275.33it/s]\n",
            "100%|██████████| 387/387 [00:00<00:00, 22096.92it/s]\n",
            "100%|██████████| 177/177 [00:00<00:00, 19551.55it/s]\n",
            "100%|██████████| 117/117 [00:00<00:00, 20124.40it/s]\n",
            "100%|██████████| 98/98 [00:00<00:00, 18316.55it/s]\n",
            "100%|██████████| 87/87 [00:00<00:00, 17002.35it/s]\n",
            "100%|██████████| 182/182 [00:00<00:00, 19913.48it/s]\n",
            "100%|██████████| 204/204 [00:00<00:00, 20039.77it/s]\n",
            "100%|██████████| 259/259 [00:00<00:00, 21891.12it/s]\n",
            "100%|██████████| 269/269 [00:00<00:00, 21267.61it/s]\n",
            "100%|██████████| 403/403 [00:00<00:00, 21783.68it/s]\n",
            "100%|██████████| 279/279 [00:00<00:00, 20940.75it/s]\n",
            "100%|██████████| 120/120 [00:00<00:00, 18913.14it/s]\n",
            "100%|██████████| 203/203 [00:00<00:00, 19613.10it/s]\n",
            "100%|██████████| 210/210 [00:00<00:00, 20340.01it/s]\n",
            "100%|██████████| 104/104 [00:00<00:00, 18355.04it/s]\n",
            "100%|██████████| 277/277 [00:00<00:00, 20160.37it/s]\n",
            "100%|██████████| 278/278 [00:00<00:00, 20940.26it/s]\n",
            "100%|██████████| 104/104 [00:00<00:00, 21321.06it/s]\n",
            "100%|██████████| 229/229 [00:00<00:00, 21724.77it/s]\n",
            "100%|██████████| 114/114 [00:00<00:00, 17866.78it/s]\n",
            "100%|██████████| 219/219 [00:00<00:00, 19302.59it/s]\n",
            "100%|██████████| 217/217 [00:00<00:00, 20792.34it/s]\n",
            "100%|██████████| 200/200 [00:00<00:00, 20083.33it/s]\n",
            "100%|██████████| 324/324 [00:00<00:00, 22525.35it/s]\n",
            "100%|██████████| 147/147 [00:00<00:00, 17574.90it/s]\n",
            "100%|██████████| 313/313 [00:00<00:00, 21781.54it/s]\n",
            "100%|██████████| 583/583 [00:00<00:00, 23097.43it/s]\n",
            "100%|██████████| 386/386 [00:00<00:00, 22067.16it/s]\n",
            "100%|██████████| 519/519 [00:00<00:00, 22652.57it/s]\n",
            "100%|██████████| 533/533 [00:00<00:00, 22310.80it/s]\n",
            "100%|██████████| 412/412 [00:00<00:00, 20090.37it/s]\n",
            "100%|██████████| 521/521 [00:00<00:00, 22521.44it/s]\n",
            "100%|██████████| 234/234 [00:00<00:00, 18976.92it/s]\n",
            "100%|██████████| 734/734 [00:00<00:00, 22141.01it/s]\n",
            "100%|██████████| 227/227 [00:00<00:00, 19988.81it/s]\n",
            "100%|██████████| 372/372 [00:00<00:00, 20981.95it/s]\n",
            "100%|██████████| 247/247 [00:00<00:00, 19102.99it/s]\n",
            "100%|██████████| 342/342 [00:00<00:00, 22705.29it/s]\n",
            "100%|██████████| 216/216 [00:00<00:00, 20075.56it/s]\n",
            "100%|██████████| 167/167 [00:00<00:00, 17074.12it/s]\n",
            "100%|██████████| 167/167 [00:00<00:00, 19236.76it/s]\n",
            "100%|██████████| 746/746 [00:00<00:00, 22540.44it/s]\n",
            "100%|██████████| 463/463 [00:00<00:00, 22467.32it/s]\n",
            "100%|██████████| 420/420 [00:00<00:00, 20720.90it/s]\n",
            "100%|██████████| 434/434 [00:00<00:00, 21821.24it/s]\n",
            "100%|██████████| 909/909 [00:00<00:00, 21236.92it/s]\n",
            "100%|██████████| 246/246 [00:00<00:00, 21169.88it/s]\n",
            "100%|██████████| 371/371 [00:00<00:00, 22569.97it/s]\n",
            "100%|██████████| 202/202 [00:00<00:00, 20364.12it/s]\n",
            "100%|██████████| 128/128 [00:00<00:00, 17824.99it/s]\n",
            "100%|██████████| 124/124 [00:00<00:00, 18836.47it/s]\n",
            "100%|██████████| 136/136 [00:00<00:00, 19543.82it/s]\n",
            "100%|██████████| 145/145 [00:00<00:00, 19425.52it/s]\n",
            "100%|██████████| 291/291 [00:00<00:00, 21696.22it/s]\n",
            "100%|██████████| 442/442 [00:00<00:00, 22108.72it/s]\n",
            "100%|██████████| 120/120 [00:00<00:00, 21670.39it/s]\n",
            "100%|██████████| 169/169 [00:00<00:00, 21042.49it/s]\n",
            "100%|██████████| 235/235 [00:00<00:00, 20390.18it/s]\n",
            "100%|██████████| 152/152 [00:00<00:00, 18746.60it/s]\n",
            "100%|██████████| 121/121 [00:00<00:00, 19189.73it/s]\n",
            "100%|██████████| 142/142 [00:00<00:00, 19438.35it/s]\n",
            "100%|██████████| 107/107 [00:00<00:00, 19975.54it/s]\n",
            "100%|██████████| 193/193 [00:00<00:00, 20891.42it/s]\n",
            "100%|██████████| 125/125 [00:00<00:00, 19561.53it/s]\n",
            "100%|██████████| 166/166 [00:00<00:00, 20405.45it/s]\n",
            "100%|██████████| 154/154 [00:00<00:00, 20106.55it/s]\n",
            "100%|██████████| 205/205 [00:00<00:00, 19500.43it/s]\n",
            "100%|██████████| 294/294 [00:00<00:00, 21131.44it/s]\n",
            "100%|██████████| 250/250 [00:00<00:00, 20473.20it/s]\n",
            "100%|██████████| 222/222 [00:00<00:00, 20584.40it/s]\n",
            "100%|██████████| 273/273 [00:00<00:00, 22097.86it/s]\n",
            "100%|██████████| 275/275 [00:00<00:00, 22175.87it/s]\n",
            "100%|██████████| 203/203 [00:00<00:00, 21959.14it/s]\n",
            "100%|██████████| 172/172 [00:00<00:00, 20505.96it/s]\n",
            "100%|██████████| 258/258 [00:00<00:00, 21085.53it/s]\n",
            "100%|██████████| 159/159 [00:00<00:00, 20959.00it/s]\n",
            "100%|██████████| 166/166 [00:00<00:00, 19982.05it/s]\n",
            "100%|██████████| 224/224 [00:00<00:00, 20806.19it/s]\n",
            "100%|██████████| 270/270 [00:00<00:00, 20616.83it/s]\n",
            "100%|██████████| 121/121 [00:00<00:00, 13863.76it/s]\n",
            "100%|██████████| 230/230 [00:00<00:00, 20588.40it/s]\n",
            "100%|██████████| 175/175 [00:00<00:00, 20382.18it/s]\n",
            "100%|██████████| 262/262 [00:00<00:00, 18920.59it/s]\n",
            "100%|██████████| 115/115 [00:00<00:00, 21675.50it/s]\n",
            "100%|██████████| 551/551 [00:00<00:00, 22880.21it/s]\n",
            "100%|██████████| 1705/1705 [00:00<00:00, 24523.38it/s]\n",
            "100%|██████████| 622/622 [00:00<00:00, 22790.55it/s]\n",
            "100%|██████████| 440/440 [00:00<00:00, 21943.00it/s]\n",
            "100%|██████████| 483/483 [00:00<00:00, 23497.91it/s]\n",
            "100%|██████████| 519/519 [00:00<00:00, 23206.05it/s]\n",
            "100%|██████████| 180/180 [00:00<00:00, 20203.78it/s]\n",
            "100%|██████████| 276/276 [00:00<00:00, 22492.62it/s]\n",
            "100%|██████████| 197/197 [00:00<00:00, 20866.13it/s]\n",
            "100%|██████████| 240/240 [00:00<00:00, 21337.37it/s]\n",
            "100%|██████████| 180/180 [00:00<00:00, 19806.25it/s]\n",
            "100%|██████████| 147/147 [00:00<00:00, 19702.89it/s]\n",
            "100%|██████████| 93/93 [00:00<00:00, 17655.83it/s]\n",
            "100%|██████████| 107/107 [00:00<00:00, 19531.31it/s]\n",
            "100%|██████████| 306/306 [00:00<00:00, 21232.42it/s]\n",
            "100%|██████████| 115/115 [00:00<00:00, 19425.11it/s]\n",
            "100%|██████████| 101/101 [00:00<00:00, 17778.44it/s]\n",
            "100%|██████████| 148/148 [00:00<00:00, 19297.34it/s]\n",
            "100%|██████████| 231/231 [00:00<00:00, 21092.05it/s]\n",
            "100%|██████████| 106/106 [00:00<00:00, 18748.26it/s]\n",
            "100%|██████████| 169/169 [00:00<00:00, 20646.55it/s]\n",
            "100%|██████████| 120/120 [00:00<00:00, 19683.10it/s]\n",
            "100%|██████████| 320/320 [00:00<00:00, 22283.83it/s]\n",
            "100%|██████████| 271/271 [00:00<00:00, 20766.16it/s]\n",
            "100%|██████████| 165/165 [00:00<00:00, 19974.61it/s]\n",
            "100%|██████████| 306/306 [00:00<00:00, 21915.46it/s]\n",
            "100%|██████████| 115/115 [00:00<00:00, 19124.74it/s]\n",
            "100%|██████████| 144/144 [00:00<00:00, 18626.98it/s]\n",
            "100%|██████████| 190/190 [00:00<00:00, 20881.40it/s]\n",
            "100%|██████████| 138/138 [00:00<00:00, 19849.59it/s]\n",
            "100%|██████████| 102/102 [00:00<00:00, 19826.63it/s]\n",
            "100%|██████████| 170/170 [00:00<00:00, 21199.73it/s]\n",
            "100%|██████████| 157/157 [00:00<00:00, 19536.17it/s]\n",
            "100%|██████████| 191/191 [00:00<00:00, 20137.05it/s]\n",
            "100%|██████████| 223/223 [00:00<00:00, 21694.84it/s]\n",
            "100%|██████████| 243/243 [00:00<00:00, 21155.21it/s]\n",
            "100%|██████████| 373/373 [00:00<00:00, 22443.59it/s]\n",
            "100%|██████████| 279/279 [00:00<00:00, 21456.40it/s]\n",
            "100%|██████████| 132/132 [00:00<00:00, 19926.87it/s]\n",
            "100%|██████████| 169/169 [00:00<00:00, 20715.34it/s]\n",
            "100%|██████████| 116/116 [00:00<00:00, 20290.22it/s]\n",
            "100%|██████████| 515/515 [00:00<00:00, 22846.48it/s]\n",
            "100%|██████████| 637/637 [00:00<00:00, 24197.10it/s]\n",
            "100%|██████████| 103/103 [00:00<00:00, 18977.08it/s]\n",
            "100%|██████████| 376/376 [00:00<00:00, 22736.96it/s]\n",
            "100%|██████████| 158/158 [00:00<00:00, 16337.95it/s]\n",
            "100%|██████████| 131/131 [00:00<00:00, 20485.96it/s]\n",
            "100%|██████████| 100/100 [00:00<00:00, 19723.05it/s]\n",
            "100%|██████████| 141/141 [00:00<00:00, 18554.21it/s]\n",
            "100%|██████████| 273/273 [00:00<00:00, 22272.37it/s]\n",
            "100%|██████████| 191/191 [00:00<00:00, 20993.50it/s]\n",
            "100%|██████████| 102/102 [00:00<00:00, 19860.68it/s]\n",
            "100%|██████████| 91/91 [00:00<00:00, 17189.00it/s]\n",
            "100%|██████████| 112/112 [00:00<00:00, 18138.93it/s]\n",
            "100%|██████████| 194/194 [00:00<00:00, 21276.97it/s]\n",
            "100%|██████████| 144/144 [00:00<00:00, 19678.74it/s]\n",
            "100%|██████████| 186/186 [00:00<00:00, 21001.44it/s]\n",
            "100%|██████████| 103/103 [00:00<00:00, 19436.42it/s]\n",
            "100%|██████████| 123/123 [00:00<00:00, 18617.13it/s]\n",
            "100%|██████████| 126/126 [00:00<00:00, 19038.92it/s]\n",
            "100%|██████████| 100/100 [00:00<00:00, 17553.80it/s]\n",
            "100%|██████████| 144/144 [00:00<00:00, 19400.61it/s]\n",
            "100%|██████████| 148/148 [00:00<00:00, 19715.33it/s]\n",
            "100%|██████████| 117/117 [00:00<00:00, 19336.21it/s]\n",
            "100%|██████████| 105/105 [00:00<00:00, 19674.85it/s]\n",
            "100%|██████████| 114/114 [00:00<00:00, 18076.16it/s]\n",
            "100%|██████████| 183/183 [00:00<00:00, 21249.62it/s]\n",
            "100%|██████████| 103/103 [00:00<00:00, 17098.60it/s]\n",
            "100%|██████████| 244/244 [00:00<00:00, 21843.47it/s]\n",
            "100%|██████████| 146/146 [00:00<00:00, 20737.86it/s]\n",
            "100%|██████████| 159/159 [00:00<00:00, 21083.57it/s]\n",
            "100%|██████████| 230/230 [00:00<00:00, 21413.29it/s]\n",
            "100%|██████████| 156/156 [00:00<00:00, 20821.37it/s]\n",
            "100%|██████████| 258/258 [00:00<00:00, 21366.55it/s]\n",
            "100%|██████████| 244/244 [00:00<00:00, 21814.60it/s]\n",
            "100%|██████████| 297/297 [00:00<00:00, 20504.81it/s]\n",
            "100%|██████████| 261/261 [00:00<00:00, 19896.64it/s]\n",
            "100%|██████████| 94/94 [00:00<00:00, 15606.40it/s]\n",
            "100%|██████████| 112/112 [00:00<00:00, 18894.02it/s]\n",
            "100%|██████████| 120/120 [00:00<00:00, 17829.77it/s]\n",
            "100%|██████████| 117/117 [00:00<00:00, 20154.16it/s]\n",
            "100%|██████████| 144/144 [00:00<00:00, 19278.62it/s]\n",
            "100%|██████████| 216/216 [00:00<00:00, 20686.13it/s]\n",
            "100%|██████████| 203/203 [00:00<00:00, 20037.27it/s]\n",
            "100%|██████████| 104/104 [00:00<00:00, 17263.24it/s]\n",
            "100%|██████████| 136/136 [00:00<00:00, 20645.89it/s]\n",
            "100%|██████████| 114/114 [00:00<00:00, 18042.74it/s]\n",
            "100%|██████████| 95/95 [00:00<00:00, 16146.32it/s]\n",
            "100%|██████████| 91/91 [00:00<00:00, 20193.73it/s]\n",
            "100%|██████████| 138/138 [00:00<00:00, 717.83it/s]\n",
            "100%|██████████| 109/109 [00:00<00:00, 18952.00it/s]\n",
            "100%|██████████| 161/161 [00:00<00:00, 21645.77it/s]\n",
            "100%|██████████| 120/120 [00:00<00:00, 19982.39it/s]\n",
            "100%|██████████| 103/103 [00:00<00:00, 19083.55it/s]\n",
            "100%|██████████| 107/107 [00:00<00:00, 18915.56it/s]\n",
            "100%|██████████| 136/136 [00:00<00:00, 20436.56it/s]\n",
            "100%|██████████| 151/151 [00:00<00:00, 20255.21it/s]\n",
            "100%|██████████| 114/114 [00:00<00:00, 21342.20it/s]\n",
            "100%|██████████| 134/134 [00:00<00:00, 21004.44it/s]\n",
            "100%|██████████| 101/101 [00:00<00:00, 20161.08it/s]\n",
            "100%|██████████| 128/128 [00:00<00:00, 20258.52it/s]\n",
            "100%|██████████| 156/156 [00:00<00:00, 22126.05it/s]\n",
            "100%|██████████| 379/379 [00:00<00:00, 22846.89it/s]\n",
            "100%|██████████| 90/90 [00:00<00:00, 18883.81it/s]\n",
            "100%|██████████| 135/135 [00:00<00:00, 19422.07it/s]\n",
            "100%|██████████| 229/229 [00:00<00:00, 20933.13it/s]\n",
            "100%|██████████| 122/122 [00:00<00:00, 19252.23it/s]\n",
            "100%|██████████| 141/141 [00:00<00:00, 19047.21it/s]\n",
            "100%|██████████| 113/113 [00:00<00:00, 16728.66it/s]\n",
            "100%|██████████| 109/109 [00:00<00:00, 17702.97it/s]\n",
            "100%|██████████| 99/99 [00:00<00:00, 17884.23it/s]\n",
            "100%|██████████| 174/174 [00:00<00:00, 19595.34it/s]\n",
            "100%|██████████| 175/175 [00:00<00:00, 20540.75it/s]\n",
            "100%|██████████| 464/464 [00:00<00:00, 20341.55it/s]\n",
            "100%|██████████| 138/138 [00:00<00:00, 17745.23it/s]\n",
            "100%|██████████| 117/117 [00:00<00:00, 19506.06it/s]\n",
            "100%|██████████| 337/337 [00:00<00:00, 20908.55it/s]\n",
            "100%|██████████| 116/116 [00:00<00:00, 16534.89it/s]\n",
            "100%|██████████| 177/177 [00:00<00:00, 21835.70it/s]\n",
            "100%|██████████| 119/119 [00:00<00:00, 17094.98it/s]\n",
            "100%|██████████| 107/107 [00:00<00:00, 18875.78it/s]\n",
            "100%|██████████| 265/265 [00:00<00:00, 21299.04it/s]\n",
            "100%|██████████| 120/120 [00:00<00:00, 18329.08it/s]\n",
            "100%|██████████| 137/137 [00:00<00:00, 18941.22it/s]\n",
            "100%|██████████| 172/172 [00:00<00:00, 19114.02it/s]\n",
            "100%|██████████| 189/189 [00:00<00:00, 19134.04it/s]\n",
            "100%|██████████| 95/95 [00:00<00:00, 17954.26it/s]\n",
            "100%|██████████| 136/136 [00:00<00:00, 19636.66it/s]\n",
            "100%|██████████| 127/127 [00:00<00:00, 19099.88it/s]\n",
            "100%|██████████| 230/230 [00:00<00:00, 20624.49it/s]\n",
            "100%|██████████| 172/172 [00:00<00:00, 20167.18it/s]\n",
            "100%|██████████| 95/95 [00:00<00:00, 17490.84it/s]\n",
            "100%|██████████| 168/168 [00:00<00:00, 19564.18it/s]\n",
            "100%|██████████| 196/196 [00:00<00:00, 20048.86it/s]\n",
            "100%|██████████| 183/183 [00:00<00:00, 17336.92it/s]\n",
            "100%|██████████| 175/175 [00:00<00:00, 20659.85it/s]\n",
            "100%|██████████| 116/116 [00:00<00:00, 18163.26it/s]\n",
            "100%|██████████| 197/197 [00:00<00:00, 18826.97it/s]\n",
            "100%|██████████| 103/103 [00:00<00:00, 15754.26it/s]\n",
            "100%|██████████| 190/190 [00:00<00:00, 18276.67it/s]\n",
            "100%|██████████| 110/110 [00:00<00:00, 17771.79it/s]\n",
            "100%|██████████| 93/93 [00:00<00:00, 16606.51it/s]\n",
            "100%|██████████| 95/95 [00:00<00:00, 17587.34it/s]\n",
            "100%|██████████| 124/124 [00:00<00:00, 18627.33it/s]\n",
            "100%|██████████| 138/138 [00:00<00:00, 19295.73it/s]\n",
            "100%|██████████| 172/172 [00:00<00:00, 20987.38it/s]\n",
            "100%|██████████| 134/134 [00:00<00:00, 19442.93it/s]\n",
            "100%|██████████| 126/126 [00:00<00:00, 19026.58it/s]\n",
            "100%|██████████| 130/130 [00:00<00:00, 19719.34it/s]\n",
            "100%|██████████| 102/102 [00:00<00:00, 16512.37it/s]\n",
            "100%|██████████| 365/365 [00:00<00:00, 21806.13it/s]\n",
            "100%|██████████| 176/176 [00:00<00:00, 19778.62it/s]\n",
            "100%|██████████| 144/144 [00:00<00:00, 18987.10it/s]\n",
            "100%|██████████| 329/329 [00:00<00:00, 20482.80it/s]\n",
            "100%|██████████| 354/354 [00:00<00:00, 22294.05it/s]\n",
            "100%|██████████| 157/157 [00:00<00:00, 18738.96it/s]\n",
            "100%|██████████| 104/104 [00:00<00:00, 13777.44it/s]\n",
            "100%|██████████| 110/110 [00:00<00:00, 17652.79it/s]\n",
            "100%|██████████| 136/136 [00:00<00:00, 18962.98it/s]\n",
            "100%|██████████| 138/138 [00:00<00:00, 20140.37it/s]\n",
            "100%|██████████| 234/234 [00:00<00:00, 20356.05it/s]\n",
            "100%|██████████| 106/106 [00:00<00:00, 16786.08it/s]\n",
            "100%|██████████| 103/103 [00:00<00:00, 17415.68it/s]\n",
            "100%|██████████| 125/125 [00:00<00:00, 18302.31it/s]\n",
            "100%|██████████| 117/117 [00:00<00:00, 18378.16it/s]\n",
            "100%|██████████| 597/597 [00:00<00:00, 23060.48it/s]\n",
            "100%|██████████| 630/630 [00:00<00:00, 23788.36it/s]\n",
            "100%|██████████| 206/206 [00:00<00:00, 19522.50it/s]\n",
            "100%|██████████| 281/281 [00:00<00:00, 22494.50it/s]\n",
            "100%|██████████| 124/124 [00:00<00:00, 20495.50it/s]\n",
            "100%|██████████| 308/308 [00:00<00:00, 20512.98it/s]\n",
            "100%|██████████| 210/210 [00:00<00:00, 20076.22it/s]\n",
            "100%|██████████| 122/122 [00:00<00:00, 16592.79it/s]\n",
            "100%|██████████| 153/153 [00:00<00:00, 19400.46it/s]\n",
            "100%|██████████| 274/274 [00:00<00:00, 19732.48it/s]\n",
            "100%|██████████| 147/147 [00:00<00:00, 19911.60it/s]\n",
            "100%|██████████| 155/155 [00:00<00:00, 22029.65it/s]\n",
            "100%|██████████| 288/288 [00:00<00:00, 22068.43it/s]\n",
            "100%|██████████| 175/175 [00:00<00:00, 22299.28it/s]\n",
            "100%|██████████| 129/129 [00:00<00:00, 18802.66it/s]\n",
            "100%|██████████| 133/133 [00:00<00:00, 19255.20it/s]\n",
            "100%|██████████| 134/134 [00:00<00:00, 19304.03it/s]\n",
            "100%|██████████| 123/123 [00:00<00:00, 21076.04it/s]\n",
            "100%|██████████| 93/93 [00:00<00:00, 16713.24it/s]\n",
            "100%|██████████| 124/124 [00:00<00:00, 19869.11it/s]\n",
            "100%|██████████| 112/112 [00:00<00:00, 19571.79it/s]\n",
            "100%|██████████| 143/143 [00:00<00:00, 20319.31it/s]\n",
            "100%|██████████| 112/112 [00:00<00:00, 18922.94it/s]\n",
            "100%|██████████| 136/136 [00:00<00:00, 19739.95it/s]\n",
            "100%|██████████| 133/133 [00:00<00:00, 17496.55it/s]\n",
            "100%|██████████| 130/130 [00:00<00:00, 18774.21it/s]\n",
            "100%|██████████| 152/152 [00:00<00:00, 20072.23it/s]\n",
            "100%|██████████| 115/115 [00:00<00:00, 18197.58it/s]\n",
            "100%|██████████| 152/152 [00:00<00:00, 19368.52it/s]\n",
            "100%|██████████| 119/119 [00:00<00:00, 17643.68it/s]\n",
            "100%|██████████| 233/233 [00:00<00:00, 21834.60it/s]\n",
            "100%|██████████| 138/138 [00:00<00:00, 18070.99it/s]\n",
            "100%|██████████| 126/126 [00:00<00:00, 18862.24it/s]\n",
            "100%|██████████| 169/169 [00:00<00:00, 18483.86it/s]\n",
            "100%|██████████| 279/279 [00:00<00:00, 23143.62it/s]\n",
            "100%|██████████| 129/129 [00:00<00:00, 19363.87it/s]\n",
            "100%|██████████| 222/222 [00:00<00:00, 20610.37it/s]\n",
            "100%|██████████| 170/170 [00:00<00:00, 19902.08it/s]\n",
            "100%|██████████| 133/133 [00:00<00:00, 18376.68it/s]\n",
            "100%|██████████| 130/130 [00:00<00:00, 18593.68it/s]\n",
            "100%|██████████| 147/147 [00:00<00:00, 19334.65it/s]\n",
            "100%|██████████| 103/103 [00:00<00:00, 16836.72it/s]\n",
            "100%|██████████| 139/139 [00:00<00:00, 18900.61it/s]\n",
            "100%|██████████| 192/192 [00:00<00:00, 18541.77it/s]\n",
            "100%|██████████| 195/195 [00:00<00:00, 20489.75it/s]\n",
            "100%|██████████| 198/198 [00:00<00:00, 21894.29it/s]\n",
            "100%|██████████| 127/127 [00:00<00:00, 20411.41it/s]\n",
            "100%|██████████| 227/227 [00:00<00:00, 19330.55it/s]\n",
            "100%|██████████| 255/255 [00:00<00:00, 22288.74it/s]\n",
            "100%|██████████| 402/402 [00:00<00:00, 21554.35it/s]\n",
            "100%|██████████| 270/270 [00:00<00:00, 21924.42it/s]\n",
            "100%|██████████| 156/156 [00:00<00:00, 20247.29it/s]\n",
            "100%|██████████| 130/130 [00:00<00:00, 19562.99it/s]\n",
            "100%|██████████| 205/205 [00:00<00:00, 21251.42it/s]\n",
            "100%|██████████| 166/166 [00:00<00:00, 17350.41it/s]\n",
            "100%|██████████| 151/151 [00:00<00:00, 21051.68it/s]\n",
            "100%|██████████| 213/213 [00:00<00:00, 17068.26it/s]\n",
            "100%|██████████| 180/180 [00:00<00:00, 19881.36it/s]\n",
            "100%|██████████| 206/206 [00:00<00:00, 17699.66it/s]\n",
            "100%|██████████| 201/201 [00:00<00:00, 20886.31it/s]\n",
            "100%|██████████| 238/238 [00:00<00:00, 21535.24it/s]\n",
            "100%|██████████| 115/115 [00:00<00:00, 21083.35it/s]\n",
            "100%|██████████| 214/214 [00:00<00:00, 21562.47it/s]\n",
            "100%|██████████| 134/134 [00:00<00:00, 18936.55it/s]\n",
            "100%|██████████| 112/112 [00:00<00:00, 19923.74it/s]\n",
            "100%|██████████| 174/174 [00:00<00:00, 21212.29it/s]\n",
            "100%|██████████| 91/91 [00:00<00:00, 17775.79it/s]\n",
            "100%|██████████| 151/151 [00:00<00:00, 20205.45it/s]\n",
            "100%|██████████| 150/150 [00:00<00:00, 20471.34it/s]\n",
            "100%|██████████| 216/216 [00:00<00:00, 19199.15it/s]\n",
            "100%|██████████| 127/127 [00:00<00:00, 18534.97it/s]\n",
            "100%|██████████| 111/111 [00:00<00:00, 19026.06it/s]\n",
            "100%|██████████| 630/630 [00:00<00:00, 21836.13it/s]\n",
            "100%|██████████| 307/307 [00:00<00:00, 20987.93it/s]\n",
            "100%|██████████| 294/294 [00:00<00:00, 20072.03it/s]\n",
            "100%|██████████| 102/102 [00:00<00:00, 17529.26it/s]\n",
            "100%|██████████| 99/99 [00:00<00:00, 15837.22it/s]\n",
            "100%|██████████| 278/278 [00:00<00:00, 21296.33it/s]\n",
            "100%|██████████| 169/169 [00:00<00:00, 19553.06it/s]\n",
            "100%|██████████| 164/164 [00:00<00:00, 19593.97it/s]\n",
            "100%|██████████| 130/130 [00:00<00:00, 12545.95it/s]\n",
            "100%|██████████| 149/149 [00:00<00:00, 21021.61it/s]\n",
            "100%|██████████| 109/109 [00:00<00:00, 18001.30it/s]\n",
            "100%|██████████| 212/212 [00:00<00:00, 21354.29it/s]\n",
            "100%|██████████| 101/101 [00:00<00:00, 16328.43it/s]\n",
            "100%|██████████| 117/117 [00:00<00:00, 19363.67it/s]\n",
            "100%|██████████| 121/121 [00:00<00:00, 16750.64it/s]\n",
            "100%|██████████| 138/138 [00:00<00:00, 19150.81it/s]\n",
            "100%|██████████| 126/126 [00:00<00:00, 18491.33it/s]\n",
            "100%|██████████| 174/174 [00:00<00:00, 19353.19it/s]\n",
            "100%|██████████| 164/164 [00:00<00:00, 20058.49it/s]\n",
            "100%|██████████| 202/202 [00:00<00:00, 16813.84it/s]\n",
            "100%|██████████| 383/383 [00:00<00:00, 22935.07it/s]\n",
            "100%|██████████| 230/230 [00:00<00:00, 19584.43it/s]\n",
            "100%|██████████| 361/361 [00:00<00:00, 21576.07it/s]\n",
            "100%|██████████| 321/321 [00:00<00:00, 21964.01it/s]\n",
            "100%|██████████| 276/276 [00:00<00:00, 20157.20it/s]\n",
            "100%|██████████| 216/216 [00:00<00:00, 19749.95it/s]\n",
            "100%|██████████| 107/107 [00:00<00:00, 15379.55it/s]\n",
            "100%|██████████| 103/103 [00:00<00:00, 18332.84it/s]\n",
            "100%|██████████| 175/175 [00:00<00:00, 20567.23it/s]\n",
            "100%|██████████| 179/179 [00:00<00:00, 20307.28it/s]\n",
            "100%|██████████| 204/204 [00:00<00:00, 19711.53it/s]\n",
            "100%|██████████| 101/101 [00:00<00:00, 17542.85it/s]\n",
            "100%|██████████| 209/209 [00:00<00:00, 21415.72it/s]\n",
            "100%|██████████| 170/170 [00:00<00:00, 18600.02it/s]\n",
            "100%|██████████| 120/120 [00:00<00:00, 19171.04it/s]\n",
            "100%|██████████| 432/432 [00:00<00:00, 22195.35it/s]\n",
            "100%|██████████| 142/142 [00:00<00:00, 18899.86it/s]\n",
            "100%|██████████| 144/144 [00:00<00:00, 19586.20it/s]\n",
            "100%|██████████| 199/199 [00:00<00:00, 18103.99it/s]\n",
            "100%|██████████| 199/199 [00:00<00:00, 20915.81it/s]\n",
            "100%|██████████| 188/188 [00:00<00:00, 18891.45it/s]\n",
            "100%|██████████| 425/425 [00:00<00:00, 22162.29it/s]\n",
            "100%|██████████| 127/127 [00:00<00:00, 19134.87it/s]\n",
            "100%|██████████| 150/150 [00:00<00:00, 18285.93it/s]\n",
            "100%|██████████| 152/152 [00:00<00:00, 20330.83it/s]\n",
            "100%|██████████| 125/125 [00:00<00:00, 19505.49it/s]\n",
            "100%|██████████| 132/132 [00:00<00:00, 20254.93it/s]\n",
            "100%|██████████| 165/165 [00:00<00:00, 19464.50it/s]\n",
            "100%|██████████| 123/123 [00:00<00:00, 18689.30it/s]\n",
            "100%|██████████| 240/240 [00:00<00:00, 17695.31it/s]\n",
            "100%|██████████| 127/127 [00:00<00:00, 15578.07it/s]\n",
            "100%|██████████| 211/211 [00:00<00:00, 20559.84it/s]\n",
            "100%|██████████| 265/265 [00:00<00:00, 20143.36it/s]\n",
            "100%|██████████| 286/286 [00:00<00:00, 20028.23it/s]\n",
            "100%|██████████| 337/337 [00:00<00:00, 23258.74it/s]\n",
            "100%|██████████| 346/346 [00:00<00:00, 22169.37it/s]\n",
            "100%|██████████| 272/272 [00:00<00:00, 20978.85it/s]\n",
            "100%|██████████| 708/708 [00:00<00:00, 23063.88it/s]\n",
            "100%|██████████| 111/111 [00:00<00:00, 18726.08it/s]\n",
            "100%|██████████| 298/298 [00:00<00:00, 22072.95it/s]\n",
            "100%|██████████| 431/431 [00:00<00:00, 22541.30it/s]\n",
            "100%|██████████| 471/471 [00:00<00:00, 22853.67it/s]\n",
            "100%|██████████| 370/370 [00:00<00:00, 21797.16it/s]\n",
            "100%|██████████| 173/173 [00:00<00:00, 17995.05it/s]\n",
            "100%|██████████| 157/157 [00:00<00:00, 20319.23it/s]\n",
            "100%|██████████| 257/257 [00:00<00:00, 21428.01it/s]\n",
            "100%|██████████| 576/576 [00:00<00:00, 22409.46it/s]\n",
            "100%|██████████| 269/269 [00:00<00:00, 19969.69it/s]\n",
            "100%|██████████| 188/188 [00:00<00:00, 19113.08it/s]\n",
            "100%|██████████| 129/129 [00:00<00:00, 18278.00it/s]\n",
            "100%|██████████| 89/89 [00:00<00:00, 18681.47it/s]\n",
            "100%|██████████| 205/205 [00:00<00:00, 21668.07it/s]\n",
            "100%|██████████| 189/189 [00:00<00:00, 20840.85it/s]\n",
            "100%|██████████| 167/167 [00:00<00:00, 19105.06it/s]\n",
            "100%|██████████| 448/448 [00:00<00:00, 20272.39it/s]\n",
            "100%|██████████| 335/335 [00:00<00:00, 22951.52it/s]\n",
            "100%|██████████| 190/190 [00:00<00:00, 21565.71it/s]\n",
            "100%|██████████| 423/423 [00:00<00:00, 22298.07it/s]\n",
            "100%|██████████| 453/453 [00:00<00:00, 23045.35it/s]\n",
            "100%|██████████| 208/208 [00:00<00:00, 18953.60it/s]\n",
            "100%|██████████| 459/459 [00:00<00:00, 21422.85it/s]\n",
            "100%|██████████| 104/104 [00:00<00:00, 18356.59it/s]\n",
            "100%|██████████| 225/225 [00:00<00:00, 21111.32it/s]\n",
            "100%|██████████| 187/187 [00:00<00:00, 20747.95it/s]\n",
            "100%|██████████| 176/176 [00:00<00:00, 19939.97it/s]\n",
            "100%|██████████| 270/270 [00:00<00:00, 19523.19it/s]\n",
            "100%|██████████| 389/389 [00:00<00:00, 20558.50it/s]\n",
            "100%|██████████| 520/520 [00:00<00:00, 21288.18it/s]\n",
            "100%|██████████| 285/285 [00:00<00:00, 18933.06it/s]\n",
            "100%|██████████| 300/300 [00:00<00:00, 20639.57it/s]\n",
            "100%|██████████| 441/441 [00:00<00:00, 22937.03it/s]\n",
            "100%|██████████| 192/192 [00:00<00:00, 17428.23it/s]\n",
            "100%|██████████| 122/122 [00:00<00:00, 19542.66it/s]\n",
            "100%|██████████| 196/196 [00:00<00:00, 20176.80it/s]\n",
            "100%|██████████| 203/203 [00:00<00:00, 18985.52it/s]\n",
            "100%|██████████| 203/203 [00:00<00:00, 17685.72it/s]\n",
            "100%|██████████| 118/118 [00:00<00:00, 16502.00it/s]\n",
            "100%|██████████| 123/123 [00:00<00:00, 15784.46it/s]\n",
            "100%|██████████| 144/144 [00:00<00:00, 19637.79it/s]\n",
            "100%|██████████| 252/252 [00:00<00:00, 19440.22it/s]\n",
            "100%|██████████| 530/530 [00:00<00:00, 22347.58it/s]\n",
            "100%|██████████| 220/220 [00:00<00:00, 22262.76it/s]\n",
            "100%|██████████| 216/216 [00:00<00:00, 18005.24it/s]\n",
            "100%|██████████| 329/329 [00:00<00:00, 20397.42it/s]\n",
            "100%|██████████| 444/444 [00:00<00:00, 22291.43it/s]"
          ]
        },
        {
          "output_type": "stream",
          "name": "stdout",
          "text": [
            "Data was loaded.\n"
          ]
        },
        {
          "output_type": "stream",
          "name": "stderr",
          "text": [
            "\n"
          ]
        }
      ]
    },
    {
      "cell_type": "markdown",
      "source": [
        "Выдаются 4 кусочка по 256"
      ],
      "metadata": {
        "id": "3Hb1te7wLn7t"
      }
    },
    {
      "cell_type": "code",
      "source": [
        "len(next(iter(test_loader)))"
      ],
      "metadata": {
        "id": "CWv3l0wkLOav",
        "colab": {
          "base_uri": "https://localhost:8080/"
        },
        "outputId": "8228ece1-c787-46d3-b6dc-95799bc1de72"
      },
      "execution_count": null,
      "outputs": [
        {
          "output_type": "execute_result",
          "data": {
            "text/plain": [
              "4"
            ]
          },
          "metadata": {},
          "execution_count": 21
        }
      ]
    },
    {
      "cell_type": "code",
      "source": [
        "next(iter(test_loader))[0].shape"
      ],
      "metadata": {
        "id": "xQ86_6EwLhTT",
        "colab": {
          "base_uri": "https://localhost:8080/"
        },
        "outputId": "06db32ab-9de3-4f98-9501-478755d9b894"
      },
      "execution_count": null,
      "outputs": [
        {
          "output_type": "execute_result",
          "data": {
            "text/plain": [
              "torch.Size([4, 256])"
            ]
          },
          "metadata": {},
          "execution_count": 22
        }
      ]
    },
    {
      "cell_type": "code",
      "source": [
        "LOG_PATH = f\"{common_path}/debug/logs.txt\"\n",
        "WEIGHTS_SAVE_DIR = f'{common_path}/weights'"
      ],
      "metadata": {
        "id": "FBJWPXQHKSV0"
      },
      "execution_count": null,
      "outputs": []
    },
    {
      "cell_type": "markdown",
      "source": [
        "#Обучение"
      ],
      "metadata": {
        "id": "Ue5xLTCZM5Pp"
      }
    },
    {
      "cell_type": "code",
      "source": [
        "gradient_clip =-1 #отключён\n",
        "def train_epoch(model: nn.Module,\n",
        "                loader: DataLoader,\n",
        "                criterion: nn.Module,\n",
        "                optimizer: torch.optim.Optimizer\n",
        "                ) -> Tuple[float, float]:\n",
        "    \"\"\"\n",
        "    Train single epoch\n",
        "\n",
        "    Args:\n",
        "        model (nn.Module): model instance\n",
        "        loader (DataLoader): data loader\n",
        "        criterion (nn.Module): criterion\n",
        "        optimizer (torch.optim.Optimizer): optimizer\n",
        "\n",
        "    Returns:\n",
        "        tuple[float, float]: train_loss, train_accuracy\n",
        "    \"\"\"\n",
        "    train_loss = 0.0\n",
        "    train_iteration = 0\n",
        "    correct = 0.\n",
        "    total = 0.\n",
        "\n",
        "    model.train()\n",
        "    for x, y, att, y_mask in tqdm(loader, desc='train'):\n",
        "        # print ('x:',x.shape)\n",
        "        # print ('y:',y.shape)\n",
        "        # print ('y_mask:',y_mask.shape)\n",
        "        # print ('att:',att.shape)\n",
        "\n",
        "        x = x.to(DEVICE)\n",
        "        y = y.view(-1).to(DEVICE)\n",
        "        att = att.to(DEVICE)\n",
        "        y_mask = y_mask.view(-1).to(DEVICE)\n",
        "\n",
        "        print ('\\nProgress1')\n",
        "        y_predict = model(x, att)\n",
        "        print ('\\nProgress111')\n",
        "\n",
        "        print (y_predict.shape)\n",
        "        # print (y_predict)\n",
        "\n",
        "        y_predict = y_predict.view(-1, y_predict.shape[2])\n",
        "        print ('y_predict.shape: ', y_predict.shape)\n",
        "        print ('Progress222')\n",
        "\n",
        "        loss = criterion(y_predict, y)####\n",
        "        print ('Progress2')\n",
        "\n",
        "        y_predict = torch.argmax(y_predict, dim=1).view(-1)\n",
        "        correct += torch.sum(y_mask * (y_predict == y).long()).item()\n",
        "        print ('Progress3')\n",
        "\n",
        "        optimizer.zero_grad()\n",
        "        train_loss += loss.item()\n",
        "        train_iteration += 1\n",
        "        loss.backward()\n",
        "        print ('Progress4')\n",
        "\n",
        "        if gradient_clip > 0:\n",
        "            torch.nn.utils.clip_grad_norm_(model.parameters(), gradient_clip)\n",
        "\n",
        "        optimizer.step()\n",
        "        total += torch.sum(y_mask.view(-1)).item()\n",
        "\n",
        "    train_loss /= train_iteration\n",
        "    train_accuracy = correct / total\n",
        "\n",
        "    return train_loss, train_accuracy\n",
        "\n",
        "\n",
        "def validate_epoch(model: nn.Module,\n",
        "                   loader: DataLoader,\n",
        "                   criterion: nn.Module) -> Tuple[float, float]:\n",
        "    \"\"\"\n",
        "    Validate sinlge epoch\n",
        "\n",
        "    Args:\n",
        "        model (nn.Module): model instance\n",
        "        loader (DataLoader): data loader (should be different from train loader)\n",
        "        criterion (nn.Module): criterion\n",
        "\n",
        "    Returns:\n",
        "        tuple[float, float]: validation_loss, validation_accuracy\n",
        "    \"\"\"\n",
        "    num_iteration = 0\n",
        "    correct = 0.\n",
        "    total = 0.\n",
        "    val_loss = 0.0\n",
        "\n",
        "    model.eval()\n",
        "    with torch.no_grad():\n",
        "        for x, y, att, y_mask in tqdm(loader, desc='eval'):\n",
        "            x = x.to(DEVICE)\n",
        "            y = y.view(-1).to(DEVICE)\n",
        "            att = att.to(DEVICE)\n",
        "            y_mask = y_mask.view(-1).to(DEVICE)\n",
        "\n",
        "            y_predict = model(x, att)\n",
        "            y_predict = y_predict.view(-1, y_predict.shape[2])\n",
        "\n",
        "            loss = criterion(y_predict, y)\n",
        "            y_predict = torch.argmax(y_predict, dim=1).view(-1)\n",
        "\n",
        "            val_loss += loss.item()\n",
        "            num_iteration += 1\n",
        "            y_mask = y_mask.view(-1)\n",
        "            correct += torch.sum(y_mask * (y_predict == y).long()).item()\n",
        "            total += torch.sum(y_mask).item()\n",
        "\n",
        "    val_loss = val_loss / num_iteration\n",
        "    val_acc = correct / total\n",
        "\n",
        "    return val_loss, val_acc"
      ],
      "metadata": {
        "id": "vjqwyLQRKldM"
      },
      "execution_count": null,
      "outputs": []
    },
    {
      "cell_type": "code",
      "source": [
        "def train() -> None:\n",
        "    epoch = 2\n",
        "    \"\"\"Train: global function\"\"\"\n",
        "    resume = False\n",
        "    if not resume:\n",
        "        best_val_acc = 0.0\n",
        "        epochs = range(epoch)\n",
        "    #else:\n",
        "    #    last_epoch, best_val_acc = get_last_epoch_params('/content/drive/My Drive/debug_data/weights')\n",
        "    #    epochs = range(last_epoch + 1, last_epoch + 1 + epoch)\n",
        "\n",
        "    for epoch in epochs:\n",
        "        train_loss, train_acc = train_epoch(MODEL, train_loader, CRITERION, OPTIMIZER)\n",
        "        log_train_epoch(LOG_PATH, epoch, train_loss, train_acc)\n",
        "\n",
        "        val_loss, val_acc = validate_epoch(MODEL, val_loader, CRITERION)\n",
        "        log_val_epoch(LOG_PATH, epoch, val_loss, val_acc)\n",
        "\n",
        "        tracker.save(epoch, {'train_loss': train_loss,\n",
        "                              'train_accuracy': train_acc,\n",
        "                              'val_loss': val_loss,\n",
        "                              'val_accuracy': val_acc})\n",
        "\n",
        "        # store_every_weight = True ###########\n",
        "        store_best_weights = True\n",
        "        # if store_every_weight:\n",
        "        #     save_weights(MODEL, WEIGHTS_SAVE_DIR, epoch, val_acc)\n",
        "        # elif store_best_weights and (val_acc > best_val_acc):\n",
        "        #     best_val_acc = val_acc\n",
        "        #     save_weights(MODEL, WEIGHTS_SAVE_DIR, epoch, val_acc)\n",
        "        best_val_acc = val_acc\n",
        "        save_weights(MODEL, WEIGHTS_SAVE_DIR, epoch, val_acc)\n",
        "\n",
        "    log_text(LOG_PATH, f\"Best validation Acc: {best_val_acc}\")\n",
        "\n",
        "\n",
        "def test():\n",
        "    \"\"\"Test: global function\"\"\"\n",
        "    # precision, recall, f1, accuracy, cm = calc_accuracy_metrics(MODEL, test_loader)\n",
        "    precision, recall, f1, accuracy, cm = calc_accuracy_metrics(MODEL, val_loader)\n",
        "    log_test_metrics(LOG_PATH, precision, recall, f1, accuracy, cm)\n",
        "\n",
        "    non_O_keys = \" + \".join(list(TARGETS)[1:])\n",
        "    targets = list(TARGETS) + [non_O_keys]\n",
        "    for i, target in enumerate(targets):\n",
        "        log_target_test_metrics(LOG_PATH, target, precision[i], recall[i], f1[i])"
      ],
      "metadata": {
        "id": "i_SxdlbsQLzL"
      },
      "execution_count": null,
      "outputs": []
    },
    {
      "cell_type": "markdown",
      "source": [
        "#Train"
      ],
      "metadata": {
        "id": "6e_NSTTNMLI2"
      }
    },
    {
      "cell_type": "code",
      "source": [
        "train()"
      ],
      "metadata": {
        "id": "mXliKw3HQSXs",
        "colab": {
          "base_uri": "https://localhost:8080/",
          "height": 1000
        },
        "outputId": "d4a121b8-9452-47fc-d346-60bd5188a7c8"
      },
      "execution_count": null,
      "outputs": [
        {
          "output_type": "stream",
          "name": "stderr",
          "text": [
            "\rtrain:   0%|          | 0/462 [00:00<?, ?it/s]"
          ]
        },
        {
          "output_type": "stream",
          "name": "stdout",
          "text": [
            "\n",
            "Progress1\n",
            "\n",
            "Progress111\n",
            "torch.Size([4, 256, 10])\n",
            "y_predict.shape:  torch.Size([1024, 10])\n",
            "Progress222\n",
            "Progress2\n",
            "Progress3\n",
            "Progress4\n"
          ]
        },
        {
          "output_type": "stream",
          "name": "stderr",
          "text": [
            "\rtrain:   0%|          | 1/462 [00:05<41:59,  5.46s/it]"
          ]
        },
        {
          "output_type": "stream",
          "name": "stdout",
          "text": [
            "\n",
            "Progress1\n",
            "\n",
            "Progress111\n",
            "torch.Size([4, 256, 10])\n",
            "y_predict.shape:  torch.Size([1024, 10])\n",
            "Progress222\n",
            "Progress2\n",
            "Progress3\n",
            "Progress4\n"
          ]
        },
        {
          "output_type": "stream",
          "name": "stderr",
          "text": [
            "\rtrain:   0%|          | 2/462 [00:08<29:29,  3.85s/it]"
          ]
        },
        {
          "output_type": "stream",
          "name": "stdout",
          "text": [
            "\n",
            "Progress1\n",
            "\n",
            "Progress111\n",
            "torch.Size([4, 256, 10])\n",
            "y_predict.shape:  torch.Size([1024, 10])\n",
            "Progress222\n",
            "Progress2\n",
            "Progress3\n",
            "Progress4\n"
          ]
        },
        {
          "output_type": "stream",
          "name": "stderr",
          "text": [
            "\rtrain:   1%|          | 3/462 [00:10<25:03,  3.28s/it]"
          ]
        },
        {
          "output_type": "stream",
          "name": "stdout",
          "text": [
            "\n",
            "Progress1\n",
            "\n",
            "Progress111\n",
            "torch.Size([4, 256, 10])\n",
            "y_predict.shape:  torch.Size([1024, 10])\n",
            "Progress222\n",
            "Progress2\n",
            "Progress3\n",
            "Progress4\n"
          ]
        },
        {
          "output_type": "stream",
          "name": "stderr",
          "text": [
            "\rtrain:   1%|          | 4/462 [00:13<22:51,  2.99s/it]"
          ]
        },
        {
          "output_type": "stream",
          "name": "stdout",
          "text": [
            "\n",
            "Progress1\n",
            "\n",
            "Progress111\n",
            "torch.Size([4, 256, 10])\n",
            "y_predict.shape:  torch.Size([1024, 10])\n",
            "Progress222\n",
            "Progress2\n",
            "Progress3\n",
            "Progress4\n"
          ]
        },
        {
          "output_type": "stream",
          "name": "stderr",
          "text": [
            "\rtrain:   1%|          | 5/462 [00:16<22:05,  2.90s/it]"
          ]
        },
        {
          "output_type": "stream",
          "name": "stdout",
          "text": [
            "\n",
            "Progress1\n",
            "\n",
            "Progress111\n",
            "torch.Size([4, 256, 10])\n",
            "y_predict.shape:  torch.Size([1024, 10])\n",
            "Progress222\n",
            "Progress2\n",
            "Progress3\n",
            "Progress4\n"
          ]
        },
        {
          "output_type": "stream",
          "name": "stderr",
          "text": [
            "\rtrain:   1%|▏         | 6/462 [00:19<23:05,  3.04s/it]"
          ]
        },
        {
          "output_type": "stream",
          "name": "stdout",
          "text": [
            "\n",
            "Progress1\n",
            "\n",
            "Progress111\n",
            "torch.Size([4, 256, 10])\n",
            "y_predict.shape:  torch.Size([1024, 10])\n",
            "Progress222\n",
            "Progress2\n",
            "Progress3\n",
            "Progress4\n"
          ]
        },
        {
          "output_type": "stream",
          "name": "stderr",
          "text": [
            "\rtrain:   2%|▏         | 7/462 [00:22<23:46,  3.14s/it]"
          ]
        },
        {
          "output_type": "stream",
          "name": "stdout",
          "text": [
            "\n",
            "Progress1\n",
            "\n",
            "Progress111\n",
            "torch.Size([4, 256, 10])\n",
            "y_predict.shape:  torch.Size([1024, 10])\n",
            "Progress222\n",
            "Progress2\n",
            "Progress3\n",
            "Progress4\n"
          ]
        },
        {
          "output_type": "stream",
          "name": "stderr",
          "text": [
            "\rtrain:   2%|▏         | 8/462 [00:25<22:18,  2.95s/it]"
          ]
        },
        {
          "output_type": "stream",
          "name": "stdout",
          "text": [
            "\n",
            "Progress1\n",
            "\n",
            "Progress111\n",
            "torch.Size([4, 256, 10])\n",
            "y_predict.shape:  torch.Size([1024, 10])\n",
            "Progress222\n",
            "Progress2\n",
            "Progress3\n",
            "Progress4\n"
          ]
        },
        {
          "output_type": "stream",
          "name": "stderr",
          "text": [
            "\rtrain:   2%|▏         | 9/462 [00:27<21:23,  2.83s/it]"
          ]
        },
        {
          "output_type": "stream",
          "name": "stdout",
          "text": [
            "\n",
            "Progress1\n",
            "\n",
            "Progress111\n",
            "torch.Size([4, 256, 10])\n",
            "y_predict.shape:  torch.Size([1024, 10])\n",
            "Progress222\n",
            "Progress2\n",
            "Progress3\n",
            "Progress4\n"
          ]
        },
        {
          "output_type": "stream",
          "name": "stderr",
          "text": [
            "\rtrain:   2%|▏         | 10/462 [00:30<20:42,  2.75s/it]"
          ]
        },
        {
          "output_type": "stream",
          "name": "stdout",
          "text": [
            "\n",
            "Progress1\n",
            "\n",
            "Progress111\n",
            "torch.Size([4, 256, 10])\n",
            "y_predict.shape:  torch.Size([1024, 10])\n",
            "Progress222\n",
            "Progress2\n",
            "Progress3\n",
            "Progress4\n"
          ]
        },
        {
          "output_type": "stream",
          "name": "stderr",
          "text": [
            "\rtrain:   2%|▏         | 11/462 [00:34<22:48,  3.03s/it]"
          ]
        },
        {
          "output_type": "stream",
          "name": "stdout",
          "text": [
            "\n",
            "Progress1\n",
            "\n",
            "Progress111\n",
            "torch.Size([4, 256, 10])\n",
            "y_predict.shape:  torch.Size([1024, 10])\n",
            "Progress222\n",
            "Progress2\n",
            "Progress3\n",
            "Progress4\n"
          ]
        },
        {
          "output_type": "stream",
          "name": "stderr",
          "text": [
            "\rtrain:   3%|▎         | 12/462 [00:37<23:07,  3.08s/it]"
          ]
        },
        {
          "output_type": "stream",
          "name": "stdout",
          "text": [
            "\n",
            "Progress1\n",
            "\n",
            "Progress111\n",
            "torch.Size([4, 256, 10])\n",
            "y_predict.shape:  torch.Size([1024, 10])\n",
            "Progress222\n",
            "Progress2\n",
            "Progress3\n",
            "Progress4\n"
          ]
        },
        {
          "output_type": "stream",
          "name": "stderr",
          "text": [
            "\rtrain:   3%|▎         | 13/462 [00:39<21:53,  2.93s/it]"
          ]
        },
        {
          "output_type": "stream",
          "name": "stdout",
          "text": [
            "\n",
            "Progress1\n",
            "\n",
            "Progress111\n",
            "torch.Size([4, 256, 10])\n",
            "y_predict.shape:  torch.Size([1024, 10])\n",
            "Progress222\n",
            "Progress2\n",
            "Progress3\n",
            "Progress4\n"
          ]
        },
        {
          "output_type": "stream",
          "name": "stderr",
          "text": [
            "\rtrain:   3%|▎         | 14/462 [00:42<20:59,  2.81s/it]"
          ]
        },
        {
          "output_type": "stream",
          "name": "stdout",
          "text": [
            "\n",
            "Progress1\n",
            "\n",
            "Progress111\n",
            "torch.Size([4, 256, 10])\n",
            "y_predict.shape:  torch.Size([1024, 10])\n",
            "Progress222\n",
            "Progress2\n",
            "Progress3\n",
            "Progress4\n"
          ]
        },
        {
          "output_type": "stream",
          "name": "stderr",
          "text": [
            "\rtrain:   3%|▎         | 15/462 [00:44<20:23,  2.74s/it]"
          ]
        },
        {
          "output_type": "stream",
          "name": "stdout",
          "text": [
            "\n",
            "Progress1\n",
            "\n",
            "Progress111\n",
            "torch.Size([4, 256, 10])\n",
            "y_predict.shape:  torch.Size([1024, 10])\n",
            "Progress222\n",
            "Progress2\n",
            "Progress3\n",
            "Progress4\n"
          ]
        },
        {
          "output_type": "stream",
          "name": "stderr",
          "text": [
            "\rtrain:   3%|▎         | 16/462 [00:47<20:17,  2.73s/it]"
          ]
        },
        {
          "output_type": "stream",
          "name": "stdout",
          "text": [
            "\n",
            "Progress1\n",
            "\n",
            "Progress111\n",
            "torch.Size([4, 256, 10])\n",
            "y_predict.shape:  torch.Size([1024, 10])\n",
            "Progress222\n",
            "Progress2\n",
            "Progress3\n",
            "Progress4\n"
          ]
        },
        {
          "output_type": "stream",
          "name": "stderr",
          "text": [
            "\rtrain:   4%|▎         | 17/462 [00:51<23:15,  3.13s/it]"
          ]
        },
        {
          "output_type": "stream",
          "name": "stdout",
          "text": [
            "\n",
            "Progress1\n",
            "\n",
            "Progress111\n",
            "torch.Size([4, 256, 10])\n",
            "y_predict.shape:  torch.Size([1024, 10])\n",
            "Progress222\n",
            "Progress2\n",
            "Progress3\n",
            "Progress4\n"
          ]
        },
        {
          "output_type": "stream",
          "name": "stderr",
          "text": [
            "\rtrain:   4%|▍         | 18/462 [00:54<21:41,  2.93s/it]"
          ]
        },
        {
          "output_type": "stream",
          "name": "stdout",
          "text": [
            "\n",
            "Progress1\n",
            "\n",
            "Progress111\n",
            "torch.Size([4, 256, 10])\n",
            "y_predict.shape:  torch.Size([1024, 10])\n",
            "Progress222\n",
            "Progress2\n",
            "Progress3\n",
            "Progress4\n"
          ]
        },
        {
          "output_type": "stream",
          "name": "stderr",
          "text": [
            "\rtrain:   4%|▍         | 19/462 [00:56<20:38,  2.80s/it]"
          ]
        },
        {
          "output_type": "stream",
          "name": "stdout",
          "text": [
            "\n",
            "Progress1\n",
            "\n",
            "Progress111\n",
            "torch.Size([4, 256, 10])\n",
            "y_predict.shape:  torch.Size([1024, 10])\n",
            "Progress222\n",
            "Progress2\n",
            "Progress3\n",
            "Progress4\n"
          ]
        },
        {
          "output_type": "stream",
          "name": "stderr",
          "text": [
            "\rtrain:   4%|▍         | 20/462 [00:59<19:56,  2.71s/it]"
          ]
        },
        {
          "output_type": "stream",
          "name": "stdout",
          "text": [
            "\n",
            "Progress1\n",
            "\n",
            "Progress111\n",
            "torch.Size([4, 256, 10])\n",
            "y_predict.shape:  torch.Size([1024, 10])\n",
            "Progress222\n",
            "Progress2\n",
            "Progress3\n",
            "Progress4\n"
          ]
        },
        {
          "output_type": "stream",
          "name": "stderr",
          "text": [
            "\rtrain:   5%|▍         | 21/462 [01:01<19:50,  2.70s/it]"
          ]
        },
        {
          "output_type": "stream",
          "name": "stdout",
          "text": [
            "\n",
            "Progress1\n",
            "\n",
            "Progress111\n",
            "torch.Size([4, 256, 10])\n",
            "y_predict.shape:  torch.Size([1024, 10])\n",
            "Progress222\n",
            "Progress2\n",
            "Progress3\n",
            "Progress4\n"
          ]
        },
        {
          "output_type": "stream",
          "name": "stderr",
          "text": [
            "\rtrain:   5%|▍         | 22/462 [01:06<23:05,  3.15s/it]"
          ]
        },
        {
          "output_type": "stream",
          "name": "stdout",
          "text": [
            "\n",
            "Progress1\n",
            "\n",
            "Progress111\n",
            "torch.Size([4, 256, 10])\n",
            "y_predict.shape:  torch.Size([1024, 10])\n",
            "Progress222\n",
            "Progress2\n",
            "Progress3\n",
            "Progress4\n"
          ]
        },
        {
          "output_type": "stream",
          "name": "stderr",
          "text": [
            "\rtrain:   5%|▍         | 23/462 [01:08<21:40,  2.96s/it]"
          ]
        },
        {
          "output_type": "stream",
          "name": "stdout",
          "text": [
            "\n",
            "Progress1\n",
            "\n",
            "Progress111\n",
            "torch.Size([4, 256, 10])\n",
            "y_predict.shape:  torch.Size([1024, 10])\n",
            "Progress222\n",
            "Progress2\n",
            "Progress3\n",
            "Progress4\n"
          ]
        },
        {
          "output_type": "stream",
          "name": "stderr",
          "text": [
            "\rtrain:   5%|▌         | 24/462 [01:11<20:42,  2.84s/it]"
          ]
        },
        {
          "output_type": "stream",
          "name": "stdout",
          "text": [
            "\n",
            "Progress1\n",
            "\n",
            "Progress111\n",
            "torch.Size([4, 256, 10])\n",
            "y_predict.shape:  torch.Size([1024, 10])\n",
            "Progress222\n",
            "Progress2\n",
            "Progress3\n",
            "Progress4\n"
          ]
        },
        {
          "output_type": "stream",
          "name": "stderr",
          "text": [
            "\rtrain:   5%|▌         | 25/462 [01:13<19:52,  2.73s/it]"
          ]
        },
        {
          "output_type": "stream",
          "name": "stdout",
          "text": [
            "\n",
            "Progress1\n",
            "\n",
            "Progress111\n",
            "torch.Size([4, 256, 10])\n",
            "y_predict.shape:  torch.Size([1024, 10])\n",
            "Progress222\n",
            "Progress2\n",
            "Progress3\n",
            "Progress4\n"
          ]
        },
        {
          "output_type": "stream",
          "name": "stderr",
          "text": [
            "\rtrain:   6%|▌         | 26/462 [01:16<19:47,  2.72s/it]"
          ]
        },
        {
          "output_type": "stream",
          "name": "stdout",
          "text": [
            "\n",
            "Progress1\n",
            "\n",
            "Progress111\n",
            "torch.Size([4, 256, 10])\n",
            "y_predict.shape:  torch.Size([1024, 10])\n",
            "Progress222\n",
            "Progress2\n",
            "Progress3\n",
            "Progress4\n"
          ]
        },
        {
          "output_type": "stream",
          "name": "stderr",
          "text": [
            "\rtrain:   6%|▌         | 27/462 [01:20<22:37,  3.12s/it]"
          ]
        },
        {
          "output_type": "stream",
          "name": "stdout",
          "text": [
            "\n",
            "Progress1\n",
            "\n",
            "Progress111\n",
            "torch.Size([4, 256, 10])\n",
            "y_predict.shape:  torch.Size([1024, 10])\n",
            "Progress222\n",
            "Progress2\n",
            "Progress3\n",
            "Progress4\n"
          ]
        },
        {
          "output_type": "stream",
          "name": "stderr",
          "text": [
            "\rtrain:   6%|▌         | 28/462 [01:22<21:15,  2.94s/it]"
          ]
        },
        {
          "output_type": "stream",
          "name": "stdout",
          "text": [
            "\n",
            "Progress1\n",
            "\n",
            "Progress111\n",
            "torch.Size([4, 256, 10])\n",
            "y_predict.shape:  torch.Size([1024, 10])\n",
            "Progress222\n",
            "Progress2\n",
            "Progress3\n",
            "Progress4\n"
          ]
        },
        {
          "output_type": "stream",
          "name": "stderr",
          "text": [
            "\rtrain:   6%|▋         | 29/462 [01:25<20:19,  2.82s/it]"
          ]
        },
        {
          "output_type": "stream",
          "name": "stdout",
          "text": [
            "\n",
            "Progress1\n",
            "\n",
            "Progress111\n",
            "torch.Size([4, 256, 10])\n",
            "y_predict.shape:  torch.Size([1024, 10])\n",
            "Progress222\n",
            "Progress2\n",
            "Progress3\n",
            "Progress4\n"
          ]
        },
        {
          "output_type": "stream",
          "name": "stderr",
          "text": [
            "\rtrain:   6%|▋         | 30/462 [01:27<19:38,  2.73s/it]"
          ]
        },
        {
          "output_type": "stream",
          "name": "stdout",
          "text": [
            "\n",
            "Progress1\n",
            "\n",
            "Progress111\n",
            "torch.Size([4, 256, 10])\n",
            "y_predict.shape:  torch.Size([1024, 10])\n",
            "Progress222\n",
            "Progress2\n",
            "Progress3\n",
            "Progress4\n"
          ]
        },
        {
          "output_type": "stream",
          "name": "stderr",
          "text": [
            "\rtrain:   7%|▋         | 31/462 [01:30<19:12,  2.67s/it]"
          ]
        },
        {
          "output_type": "stream",
          "name": "stdout",
          "text": [
            "\n",
            "Progress1\n",
            "\n",
            "Progress111\n",
            "torch.Size([4, 256, 10])\n",
            "y_predict.shape:  torch.Size([1024, 10])\n",
            "Progress222\n",
            "Progress2\n",
            "Progress3\n",
            "Progress4\n"
          ]
        },
        {
          "output_type": "stream",
          "name": "stderr",
          "text": [
            "\rtrain:   7%|▋         | 32/462 [01:34<21:53,  3.05s/it]"
          ]
        },
        {
          "output_type": "stream",
          "name": "stdout",
          "text": [
            "\n",
            "Progress1\n",
            "\n",
            "Progress111\n",
            "torch.Size([4, 256, 10])\n",
            "y_predict.shape:  torch.Size([1024, 10])\n",
            "Progress222\n",
            "Progress2\n",
            "Progress3\n",
            "Progress4\n"
          ]
        },
        {
          "output_type": "stream",
          "name": "stderr",
          "text": [
            "\rtrain:   7%|▋         | 33/462 [01:37<21:03,  2.95s/it]"
          ]
        },
        {
          "output_type": "stream",
          "name": "stdout",
          "text": [
            "\n",
            "Progress1\n",
            "\n",
            "Progress111\n",
            "torch.Size([4, 256, 10])\n",
            "y_predict.shape:  torch.Size([1024, 10])\n",
            "Progress222\n",
            "Progress2\n",
            "Progress3\n",
            "Progress4\n"
          ]
        },
        {
          "output_type": "stream",
          "name": "stderr",
          "text": [
            "\rtrain:   7%|▋         | 34/462 [01:39<20:05,  2.82s/it]"
          ]
        },
        {
          "output_type": "stream",
          "name": "stdout",
          "text": [
            "\n",
            "Progress1\n",
            "\n",
            "Progress111\n",
            "torch.Size([4, 256, 10])\n",
            "y_predict.shape:  torch.Size([1024, 10])\n",
            "Progress222\n",
            "Progress2\n",
            "Progress3\n",
            "Progress4\n"
          ]
        },
        {
          "output_type": "stream",
          "name": "stderr",
          "text": [
            "\rtrain:   8%|▊         | 35/462 [01:42<19:24,  2.73s/it]"
          ]
        },
        {
          "output_type": "stream",
          "name": "stdout",
          "text": [
            "\n",
            "Progress1\n",
            "\n",
            "Progress111\n",
            "torch.Size([4, 256, 10])\n",
            "y_predict.shape:  torch.Size([1024, 10])\n",
            "Progress222\n",
            "Progress2\n",
            "Progress3\n",
            "Progress4\n"
          ]
        },
        {
          "output_type": "stream",
          "name": "stderr",
          "text": [
            "\rtrain:   8%|▊         | 36/462 [01:44<18:55,  2.66s/it]"
          ]
        },
        {
          "output_type": "stream",
          "name": "stdout",
          "text": [
            "\n",
            "Progress1\n",
            "\n",
            "Progress111\n",
            "torch.Size([4, 256, 10])\n",
            "y_predict.shape:  torch.Size([1024, 10])\n",
            "Progress222\n",
            "Progress2\n",
            "Progress3\n",
            "Progress4\n"
          ]
        },
        {
          "output_type": "stream",
          "name": "stderr",
          "text": [
            "\rtrain:   8%|▊         | 37/462 [01:47<19:56,  2.82s/it]"
          ]
        },
        {
          "output_type": "stream",
          "name": "stdout",
          "text": [
            "\n",
            "Progress1\n",
            "\n",
            "Progress111\n",
            "torch.Size([4, 256, 10])\n",
            "y_predict.shape:  torch.Size([1024, 10])\n",
            "Progress222\n",
            "Progress2\n",
            "Progress3\n",
            "Progress4\n"
          ]
        },
        {
          "output_type": "stream",
          "name": "stderr",
          "text": [
            "\rtrain:   8%|▊         | 38/462 [01:51<21:53,  3.10s/it]"
          ]
        },
        {
          "output_type": "stream",
          "name": "stdout",
          "text": [
            "\n",
            "Progress1\n",
            "\n",
            "Progress111\n",
            "torch.Size([4, 256, 10])\n",
            "y_predict.shape:  torch.Size([1024, 10])\n",
            "Progress222\n",
            "Progress2\n",
            "Progress3\n",
            "Progress4\n"
          ]
        },
        {
          "output_type": "stream",
          "name": "stderr",
          "text": [
            "\rtrain:   8%|▊         | 39/462 [01:54<20:46,  2.95s/it]"
          ]
        },
        {
          "output_type": "stream",
          "name": "stdout",
          "text": [
            "\n",
            "Progress1\n",
            "\n",
            "Progress111\n",
            "torch.Size([4, 256, 10])\n",
            "y_predict.shape:  torch.Size([1024, 10])\n",
            "Progress222\n",
            "Progress2\n",
            "Progress3\n",
            "Progress4\n"
          ]
        },
        {
          "output_type": "stream",
          "name": "stderr",
          "text": [
            "\rtrain:   9%|▊         | 40/462 [01:56<19:53,  2.83s/it]"
          ]
        },
        {
          "output_type": "stream",
          "name": "stdout",
          "text": [
            "\n",
            "Progress1\n",
            "\n",
            "Progress111\n",
            "torch.Size([4, 256, 10])\n",
            "y_predict.shape:  torch.Size([1024, 10])\n",
            "Progress222\n",
            "Progress2\n",
            "Progress3\n",
            "Progress4\n"
          ]
        },
        {
          "output_type": "stream",
          "name": "stderr",
          "text": [
            "\rtrain:   9%|▉         | 41/462 [01:59<19:17,  2.75s/it]"
          ]
        },
        {
          "output_type": "stream",
          "name": "stdout",
          "text": [
            "\n",
            "Progress1\n",
            "\n",
            "Progress111\n",
            "torch.Size([4, 256, 10])\n",
            "y_predict.shape:  torch.Size([1024, 10])\n",
            "Progress222\n",
            "Progress2\n",
            "Progress3\n",
            "Progress4\n"
          ]
        },
        {
          "output_type": "stream",
          "name": "stderr",
          "text": [
            "\rtrain:   9%|▉         | 42/462 [02:02<19:36,  2.80s/it]"
          ]
        },
        {
          "output_type": "stream",
          "name": "stdout",
          "text": [
            "\n",
            "Progress1\n",
            "\n",
            "Progress111\n",
            "torch.Size([4, 256, 10])\n",
            "y_predict.shape:  torch.Size([1024, 10])\n",
            "Progress222\n",
            "Progress2\n",
            "Progress3\n",
            "Progress4\n"
          ]
        },
        {
          "output_type": "stream",
          "name": "stderr",
          "text": [
            "\rtrain:   9%|▉         | 43/462 [02:06<21:56,  3.14s/it]"
          ]
        },
        {
          "output_type": "stream",
          "name": "stdout",
          "text": [
            "\n",
            "Progress1\n",
            "\n",
            "Progress111\n",
            "torch.Size([4, 256, 10])\n",
            "y_predict.shape:  torch.Size([1024, 10])\n",
            "Progress222\n",
            "Progress2\n",
            "Progress3\n",
            "Progress4\n"
          ]
        },
        {
          "output_type": "stream",
          "name": "stderr",
          "text": [
            "\rtrain:  10%|▉         | 44/462 [02:08<20:35,  2.96s/it]"
          ]
        },
        {
          "output_type": "stream",
          "name": "stdout",
          "text": [
            "\n",
            "Progress1\n",
            "\n",
            "Progress111\n",
            "torch.Size([4, 256, 10])\n",
            "y_predict.shape:  torch.Size([1024, 10])\n",
            "Progress222\n",
            "Progress2\n",
            "Progress3\n",
            "Progress4\n"
          ]
        },
        {
          "output_type": "stream",
          "name": "stderr",
          "text": [
            "\rtrain:  10%|▉         | 45/462 [02:11<19:38,  2.83s/it]"
          ]
        },
        {
          "output_type": "stream",
          "name": "stdout",
          "text": [
            "\n",
            "Progress1\n",
            "\n",
            "Progress111\n",
            "torch.Size([4, 256, 10])\n",
            "y_predict.shape:  torch.Size([1024, 10])\n",
            "Progress222\n",
            "Progress2\n",
            "Progress3\n",
            "Progress4\n"
          ]
        },
        {
          "output_type": "stream",
          "name": "stderr",
          "text": [
            "\rtrain:  10%|▉         | 46/462 [02:13<19:00,  2.74s/it]"
          ]
        },
        {
          "output_type": "stream",
          "name": "stdout",
          "text": [
            "\n",
            "Progress1\n",
            "\n",
            "Progress111\n",
            "torch.Size([4, 256, 10])\n",
            "y_predict.shape:  torch.Size([1024, 10])\n",
            "Progress222\n",
            "Progress2\n",
            "Progress3\n",
            "Progress4\n"
          ]
        },
        {
          "output_type": "stream",
          "name": "stderr",
          "text": [
            "\rtrain:  10%|█         | 47/462 [02:16<19:04,  2.76s/it]"
          ]
        },
        {
          "output_type": "stream",
          "name": "stdout",
          "text": [
            "\n",
            "Progress1\n",
            "\n",
            "Progress111\n",
            "torch.Size([4, 256, 10])\n",
            "y_predict.shape:  torch.Size([1024, 10])\n",
            "Progress222\n",
            "Progress2\n",
            "Progress3\n",
            "Progress4\n"
          ]
        },
        {
          "output_type": "stream",
          "name": "stderr",
          "text": [
            "\rtrain:  10%|█         | 48/462 [02:19<20:13,  2.93s/it]"
          ]
        },
        {
          "output_type": "stream",
          "name": "stdout",
          "text": [
            "\n",
            "Progress1\n",
            "\n",
            "Progress111\n",
            "torch.Size([4, 256, 10])\n",
            "y_predict.shape:  torch.Size([1024, 10])\n",
            "Progress222\n",
            "Progress2\n",
            "Progress3\n",
            "Progress4\n"
          ]
        },
        {
          "output_type": "stream",
          "name": "stderr",
          "text": [
            "\rtrain:  11%|█         | 49/462 [02:23<20:50,  3.03s/it]"
          ]
        },
        {
          "output_type": "stream",
          "name": "stdout",
          "text": [
            "\n",
            "Progress1\n",
            "\n",
            "Progress111\n",
            "torch.Size([4, 256, 10])\n",
            "y_predict.shape:  torch.Size([1024, 10])\n",
            "Progress222\n",
            "Progress2\n",
            "Progress3\n",
            "Progress4\n"
          ]
        },
        {
          "output_type": "stream",
          "name": "stderr",
          "text": [
            "\rtrain:  11%|█         | 50/462 [02:25<19:47,  2.88s/it]"
          ]
        },
        {
          "output_type": "stream",
          "name": "stdout",
          "text": [
            "\n",
            "Progress1\n",
            "\n",
            "Progress111\n",
            "torch.Size([4, 256, 10])\n",
            "y_predict.shape:  torch.Size([1024, 10])\n",
            "Progress222\n",
            "Progress2\n",
            "Progress3\n",
            "Progress4\n"
          ]
        },
        {
          "output_type": "stream",
          "name": "stderr",
          "text": [
            "\rtrain:  11%|█         | 51/462 [02:28<19:07,  2.79s/it]"
          ]
        },
        {
          "output_type": "stream",
          "name": "stdout",
          "text": [
            "\n",
            "Progress1\n",
            "\n",
            "Progress111\n",
            "torch.Size([4, 256, 10])\n",
            "y_predict.shape:  torch.Size([1024, 10])\n",
            "Progress222\n",
            "Progress2\n",
            "Progress3\n",
            "Progress4\n"
          ]
        },
        {
          "output_type": "stream",
          "name": "stderr",
          "text": [
            "\rtrain:  11%|█▏        | 52/462 [02:30<18:37,  2.73s/it]"
          ]
        },
        {
          "output_type": "stream",
          "name": "stdout",
          "text": [
            "\n",
            "Progress1\n",
            "\n",
            "Progress111\n",
            "torch.Size([4, 256, 10])\n",
            "y_predict.shape:  torch.Size([1024, 10])\n",
            "Progress222\n",
            "Progress2\n",
            "Progress3\n",
            "Progress4\n"
          ]
        },
        {
          "output_type": "stream",
          "name": "stderr",
          "text": [
            "\rtrain:  11%|█▏        | 53/462 [02:33<19:27,  2.86s/it]"
          ]
        },
        {
          "output_type": "stream",
          "name": "stdout",
          "text": [
            "\n",
            "Progress1\n",
            "\n",
            "Progress111\n",
            "torch.Size([4, 256, 10])\n",
            "y_predict.shape:  torch.Size([1024, 10])\n",
            "Progress222\n",
            "Progress2\n",
            "Progress3\n",
            "Progress4\n"
          ]
        },
        {
          "output_type": "stream",
          "name": "stderr",
          "text": [
            "\rtrain:  12%|█▏        | 54/462 [02:37<20:21,  2.99s/it]"
          ]
        },
        {
          "output_type": "stream",
          "name": "stdout",
          "text": [
            "\n",
            "Progress1\n",
            "\n",
            "Progress111\n",
            "torch.Size([4, 256, 10])\n",
            "y_predict.shape:  torch.Size([1024, 10])\n",
            "Progress222\n",
            "Progress2\n",
            "Progress3\n",
            "Progress4\n"
          ]
        },
        {
          "output_type": "stream",
          "name": "stderr",
          "text": [
            "\rtrain:  12%|█▏        | 55/462 [02:40<20:06,  2.96s/it]"
          ]
        },
        {
          "output_type": "stream",
          "name": "stdout",
          "text": [
            "\n",
            "Progress1\n",
            "\n",
            "Progress111\n",
            "torch.Size([4, 256, 10])\n",
            "y_predict.shape:  torch.Size([1024, 10])\n",
            "Progress222\n",
            "Progress2\n",
            "Progress3\n",
            "Progress4\n"
          ]
        },
        {
          "output_type": "stream",
          "name": "stderr",
          "text": [
            "\rtrain:  12%|█▏        | 56/462 [02:42<19:12,  2.84s/it]"
          ]
        },
        {
          "output_type": "stream",
          "name": "stdout",
          "text": [
            "\n",
            "Progress1\n",
            "\n",
            "Progress111\n",
            "torch.Size([4, 256, 10])\n",
            "y_predict.shape:  torch.Size([1024, 10])\n",
            "Progress222\n",
            "Progress2\n",
            "Progress3\n",
            "Progress4\n"
          ]
        },
        {
          "output_type": "stream",
          "name": "stderr",
          "text": [
            "\rtrain:  12%|█▏        | 57/462 [02:45<18:36,  2.76s/it]"
          ]
        },
        {
          "output_type": "stream",
          "name": "stdout",
          "text": [
            "\n",
            "Progress1\n",
            "\n",
            "Progress111\n",
            "torch.Size([4, 256, 10])\n",
            "y_predict.shape:  torch.Size([1024, 10])\n",
            "Progress222\n",
            "Progress2\n",
            "Progress3\n",
            "Progress4\n"
          ]
        },
        {
          "output_type": "stream",
          "name": "stderr",
          "text": [
            "\rtrain:  13%|█▎        | 58/462 [02:47<18:11,  2.70s/it]"
          ]
        },
        {
          "output_type": "stream",
          "name": "stdout",
          "text": [
            "\n",
            "Progress1\n",
            "\n",
            "Progress111\n",
            "torch.Size([4, 256, 10])\n",
            "y_predict.shape:  torch.Size([1024, 10])\n",
            "Progress222\n",
            "Progress2\n",
            "Progress3\n",
            "Progress4\n"
          ]
        },
        {
          "output_type": "stream",
          "name": "stderr",
          "text": [
            "\rtrain:  13%|█▎        | 59/462 [02:51<20:27,  3.05s/it]"
          ]
        },
        {
          "output_type": "stream",
          "name": "stdout",
          "text": [
            "\n",
            "Progress1\n",
            "\n",
            "Progress111\n",
            "torch.Size([4, 256, 10])\n",
            "y_predict.shape:  torch.Size([1024, 10])\n",
            "Progress222\n",
            "Progress2\n",
            "Progress3\n",
            "Progress4\n"
          ]
        },
        {
          "output_type": "stream",
          "name": "stderr",
          "text": [
            "\rtrain:  13%|█▎        | 60/462 [02:54<19:55,  2.97s/it]"
          ]
        },
        {
          "output_type": "stream",
          "name": "stdout",
          "text": [
            "\n",
            "Progress1\n",
            "\n",
            "Progress111\n",
            "torch.Size([4, 256, 10])\n",
            "y_predict.shape:  torch.Size([1024, 10])\n",
            "Progress222\n",
            "Progress2\n",
            "Progress3\n",
            "Progress4\n"
          ]
        },
        {
          "output_type": "stream",
          "name": "stderr",
          "text": [
            "\rtrain:  13%|█▎        | 61/462 [02:57<19:03,  2.85s/it]"
          ]
        },
        {
          "output_type": "stream",
          "name": "stdout",
          "text": [
            "\n",
            "Progress1\n",
            "\n",
            "Progress111\n",
            "torch.Size([4, 256, 10])\n",
            "y_predict.shape:  torch.Size([1024, 10])\n",
            "Progress222\n",
            "Progress2\n",
            "Progress3\n",
            "Progress4\n"
          ]
        },
        {
          "output_type": "stream",
          "name": "stderr",
          "text": [
            "\rtrain:  13%|█▎        | 62/462 [02:59<18:21,  2.75s/it]"
          ]
        },
        {
          "output_type": "stream",
          "name": "stdout",
          "text": [
            "\n",
            "Progress1\n",
            "\n",
            "Progress111\n",
            "torch.Size([4, 256, 10])\n",
            "y_predict.shape:  torch.Size([1024, 10])\n",
            "Progress222\n",
            "Progress2\n",
            "Progress3\n",
            "Progress4\n"
          ]
        },
        {
          "output_type": "stream",
          "name": "stderr",
          "text": [
            "\rtrain:  14%|█▎        | 63/462 [03:02<17:47,  2.68s/it]"
          ]
        },
        {
          "output_type": "stream",
          "name": "stdout",
          "text": [
            "\n",
            "Progress1\n",
            "\n",
            "Progress111\n",
            "torch.Size([4, 256, 10])\n",
            "y_predict.shape:  torch.Size([1024, 10])\n",
            "Progress222\n",
            "Progress2\n",
            "Progress3\n",
            "Progress4\n"
          ]
        },
        {
          "output_type": "stream",
          "name": "stderr",
          "text": [
            "\rtrain:  14%|█▍        | 64/462 [03:05<19:42,  2.97s/it]"
          ]
        },
        {
          "output_type": "stream",
          "name": "stdout",
          "text": [
            "\n",
            "Progress1\n",
            "\n",
            "Progress111\n",
            "torch.Size([4, 256, 10])\n",
            "y_predict.shape:  torch.Size([1024, 10])\n",
            "Progress222\n",
            "Progress2\n",
            "Progress3\n",
            "Progress4\n"
          ]
        },
        {
          "output_type": "stream",
          "name": "stderr",
          "text": [
            "\rtrain:  14%|█▍        | 65/462 [03:08<19:44,  2.98s/it]"
          ]
        },
        {
          "output_type": "stream",
          "name": "stdout",
          "text": [
            "\n",
            "Progress1\n",
            "\n",
            "Progress111\n",
            "torch.Size([4, 256, 10])\n",
            "y_predict.shape:  torch.Size([1024, 10])\n",
            "Progress222\n",
            "Progress2\n",
            "Progress3\n",
            "Progress4\n"
          ]
        },
        {
          "output_type": "stream",
          "name": "stderr",
          "text": [
            "\rtrain:  14%|█▍        | 66/462 [03:11<18:45,  2.84s/it]"
          ]
        },
        {
          "output_type": "stream",
          "name": "stdout",
          "text": [
            "\n",
            "Progress1\n",
            "\n",
            "Progress111\n",
            "torch.Size([4, 256, 10])\n",
            "y_predict.shape:  torch.Size([1024, 10])\n",
            "Progress222\n",
            "Progress2\n",
            "Progress3\n",
            "Progress4\n"
          ]
        },
        {
          "output_type": "stream",
          "name": "stderr",
          "text": [
            "\rtrain:  15%|█▍        | 67/462 [03:13<18:07,  2.75s/it]"
          ]
        },
        {
          "output_type": "stream",
          "name": "stdout",
          "text": [
            "\n",
            "Progress1\n",
            "\n",
            "Progress111\n",
            "torch.Size([4, 256, 10])\n",
            "y_predict.shape:  torch.Size([1024, 10])\n",
            "Progress222\n",
            "Progress2\n",
            "Progress3\n",
            "Progress4\n"
          ]
        },
        {
          "output_type": "stream",
          "name": "stderr",
          "text": [
            "\rtrain:  15%|█▍        | 68/462 [03:16<17:37,  2.68s/it]"
          ]
        },
        {
          "output_type": "stream",
          "name": "stdout",
          "text": [
            "\n",
            "Progress1\n",
            "\n",
            "Progress111\n",
            "torch.Size([4, 256, 10])\n",
            "y_predict.shape:  torch.Size([1024, 10])\n",
            "Progress222\n",
            "Progress2\n",
            "Progress3\n",
            "Progress4\n"
          ]
        },
        {
          "output_type": "stream",
          "name": "stderr",
          "text": [
            "\rtrain:  15%|█▍        | 69/462 [03:19<18:25,  2.81s/it]"
          ]
        },
        {
          "output_type": "stream",
          "name": "stdout",
          "text": [
            "\n",
            "Progress1\n",
            "\n",
            "Progress111\n",
            "torch.Size([4, 256, 10])\n",
            "y_predict.shape:  torch.Size([1024, 10])\n",
            "Progress222\n",
            "Progress2\n",
            "Progress3\n",
            "Progress4\n"
          ]
        },
        {
          "output_type": "stream",
          "name": "stderr",
          "text": [
            "\rtrain:  15%|█▌        | 70/462 [03:23<19:59,  3.06s/it]"
          ]
        },
        {
          "output_type": "stream",
          "name": "stdout",
          "text": [
            "\n",
            "Progress1\n",
            "\n",
            "Progress111\n",
            "torch.Size([4, 256, 10])\n",
            "y_predict.shape:  torch.Size([1024, 10])\n",
            "Progress222\n",
            "Progress2\n",
            "Progress3\n",
            "Progress4\n"
          ]
        },
        {
          "output_type": "stream",
          "name": "stderr",
          "text": [
            "\rtrain:  15%|█▌        | 71/462 [03:25<18:44,  2.88s/it]"
          ]
        },
        {
          "output_type": "stream",
          "name": "stdout",
          "text": [
            "\n",
            "Progress1\n",
            "\n",
            "Progress111\n",
            "torch.Size([4, 256, 10])\n",
            "y_predict.shape:  torch.Size([1024, 10])\n",
            "Progress222\n",
            "Progress2\n",
            "Progress3\n",
            "Progress4\n"
          ]
        },
        {
          "output_type": "stream",
          "name": "stderr",
          "text": [
            "\rtrain:  16%|█▌        | 72/462 [03:28<18:00,  2.77s/it]"
          ]
        },
        {
          "output_type": "stream",
          "name": "stdout",
          "text": [
            "\n",
            "Progress1\n",
            "\n",
            "Progress111\n",
            "torch.Size([4, 256, 10])\n",
            "y_predict.shape:  torch.Size([1024, 10])\n",
            "Progress222\n",
            "Progress2\n",
            "Progress3\n",
            "Progress4\n"
          ]
        },
        {
          "output_type": "stream",
          "name": "stderr",
          "text": [
            "\rtrain:  16%|█▌        | 73/462 [03:30<17:33,  2.71s/it]"
          ]
        },
        {
          "output_type": "stream",
          "name": "stdout",
          "text": [
            "\n",
            "Progress1\n",
            "\n",
            "Progress111\n",
            "torch.Size([4, 256, 10])\n",
            "y_predict.shape:  torch.Size([1024, 10])\n",
            "Progress222\n",
            "Progress2\n",
            "Progress3\n",
            "Progress4\n"
          ]
        },
        {
          "output_type": "stream",
          "name": "stderr",
          "text": [
            "\rtrain:  16%|█▌        | 74/462 [03:33<17:48,  2.76s/it]"
          ]
        },
        {
          "output_type": "stream",
          "name": "stdout",
          "text": [
            "\n",
            "Progress1\n",
            "\n",
            "Progress111\n",
            "torch.Size([4, 256, 10])\n",
            "y_predict.shape:  torch.Size([1024, 10])\n",
            "Progress222\n",
            "Progress2\n",
            "Progress3\n",
            "Progress4\n"
          ]
        },
        {
          "output_type": "stream",
          "name": "stderr",
          "text": [
            "\rtrain:  16%|█▌        | 75/462 [03:36<19:08,  2.97s/it]"
          ]
        },
        {
          "output_type": "stream",
          "name": "stdout",
          "text": [
            "\n",
            "Progress1\n",
            "\n",
            "Progress111\n",
            "torch.Size([4, 256, 10])\n",
            "y_predict.shape:  torch.Size([1024, 10])\n",
            "Progress222\n",
            "Progress2\n",
            "Progress3\n",
            "Progress4\n"
          ]
        },
        {
          "output_type": "stream",
          "name": "stderr",
          "text": [
            "\rtrain:  16%|█▋        | 76/462 [03:39<18:57,  2.95s/it]"
          ]
        },
        {
          "output_type": "stream",
          "name": "stdout",
          "text": [
            "\n",
            "Progress1\n",
            "\n",
            "Progress111\n",
            "torch.Size([4, 256, 10])\n",
            "y_predict.shape:  torch.Size([1024, 10])\n",
            "Progress222\n",
            "Progress2\n",
            "Progress3\n",
            "Progress4\n"
          ]
        },
        {
          "output_type": "stream",
          "name": "stderr",
          "text": [
            "\rtrain:  17%|█▋        | 77/462 [03:42<18:04,  2.82s/it]"
          ]
        },
        {
          "output_type": "stream",
          "name": "stdout",
          "text": [
            "\n",
            "Progress1\n",
            "\n",
            "Progress111\n",
            "torch.Size([4, 256, 10])\n",
            "y_predict.shape:  torch.Size([1024, 10])\n",
            "Progress222\n",
            "Progress2\n",
            "Progress3\n",
            "Progress4\n"
          ]
        },
        {
          "output_type": "stream",
          "name": "stderr",
          "text": [
            "\rtrain:  17%|█▋        | 78/462 [03:44<17:30,  2.74s/it]"
          ]
        },
        {
          "output_type": "stream",
          "name": "stdout",
          "text": [
            "\n",
            "Progress1\n",
            "\n",
            "Progress111\n",
            "torch.Size([4, 256, 10])\n",
            "y_predict.shape:  torch.Size([1024, 10])\n",
            "Progress222\n",
            "Progress2\n",
            "Progress3\n",
            "Progress4\n"
          ]
        },
        {
          "output_type": "stream",
          "name": "stderr",
          "text": [
            "\rtrain:  17%|█▋        | 79/462 [03:47<17:05,  2.68s/it]"
          ]
        },
        {
          "output_type": "stream",
          "name": "stdout",
          "text": [
            "\n",
            "Progress1\n",
            "\n",
            "Progress111\n",
            "torch.Size([4, 256, 10])\n",
            "y_predict.shape:  torch.Size([1024, 10])\n",
            "Progress222\n",
            "Progress2\n",
            "Progress3\n",
            "Progress4\n"
          ]
        },
        {
          "output_type": "stream",
          "name": "stderr",
          "text": [
            "\rtrain:  17%|█▋        | 80/462 [03:50<18:01,  2.83s/it]"
          ]
        },
        {
          "output_type": "stream",
          "name": "stdout",
          "text": [
            "\n",
            "Progress1\n",
            "\n",
            "Progress111\n",
            "torch.Size([4, 256, 10])\n",
            "y_predict.shape:  torch.Size([1024, 10])\n",
            "Progress222\n",
            "Progress2\n",
            "Progress3\n",
            "Progress4\n"
          ]
        },
        {
          "output_type": "stream",
          "name": "stderr",
          "text": [
            "\rtrain:  18%|█▊        | 81/462 [03:54<19:27,  3.06s/it]"
          ]
        },
        {
          "output_type": "stream",
          "name": "stdout",
          "text": [
            "\n",
            "Progress1\n",
            "\n",
            "Progress111\n",
            "torch.Size([4, 256, 10])\n",
            "y_predict.shape:  torch.Size([1024, 10])\n",
            "Progress222\n",
            "Progress2\n",
            "Progress3\n",
            "Progress4\n"
          ]
        },
        {
          "output_type": "stream",
          "name": "stderr",
          "text": [
            "\rtrain:  18%|█▊        | 82/462 [03:56<18:22,  2.90s/it]"
          ]
        },
        {
          "output_type": "stream",
          "name": "stdout",
          "text": [
            "\n",
            "Progress1\n",
            "\n",
            "Progress111\n",
            "torch.Size([4, 256, 10])\n",
            "y_predict.shape:  torch.Size([1024, 10])\n",
            "Progress222\n",
            "Progress2\n",
            "Progress3\n",
            "Progress4\n"
          ]
        },
        {
          "output_type": "stream",
          "name": "stderr",
          "text": [
            "\rtrain:  18%|█▊        | 83/462 [03:59<17:37,  2.79s/it]"
          ]
        },
        {
          "output_type": "stream",
          "name": "stdout",
          "text": [
            "\n",
            "Progress1\n",
            "\n",
            "Progress111\n",
            "torch.Size([4, 256, 10])\n",
            "y_predict.shape:  torch.Size([1024, 10])\n",
            "Progress222\n",
            "Progress2\n",
            "Progress3\n",
            "Progress4\n"
          ]
        },
        {
          "output_type": "stream",
          "name": "stderr",
          "text": [
            "\rtrain:  18%|█▊        | 84/462 [04:01<17:01,  2.70s/it]"
          ]
        },
        {
          "output_type": "stream",
          "name": "stdout",
          "text": [
            "\n",
            "Progress1\n",
            "\n",
            "Progress111\n",
            "torch.Size([4, 256, 10])\n",
            "y_predict.shape:  torch.Size([1024, 10])\n",
            "Progress222\n",
            "Progress2\n",
            "Progress3\n",
            "Progress4\n"
          ]
        },
        {
          "output_type": "stream",
          "name": "stderr",
          "text": [
            "\rtrain:  18%|█▊        | 85/462 [04:04<16:54,  2.69s/it]"
          ]
        },
        {
          "output_type": "stream",
          "name": "stdout",
          "text": [
            "\n",
            "Progress1\n",
            "\n",
            "Progress111\n",
            "torch.Size([4, 256, 10])\n",
            "y_predict.shape:  torch.Size([1024, 10])\n",
            "Progress222\n",
            "Progress2\n",
            "Progress3\n",
            "Progress4\n"
          ]
        },
        {
          "output_type": "stream",
          "name": "stderr",
          "text": [
            "\rtrain:  19%|█▊        | 86/462 [04:08<18:34,  2.96s/it]"
          ]
        },
        {
          "output_type": "stream",
          "name": "stdout",
          "text": [
            "\n",
            "Progress1\n",
            "\n",
            "Progress111\n",
            "torch.Size([4, 256, 10])\n",
            "y_predict.shape:  torch.Size([1024, 10])\n",
            "Progress222\n",
            "Progress2\n",
            "Progress3\n",
            "Progress4\n"
          ]
        },
        {
          "output_type": "stream",
          "name": "stderr",
          "text": [
            "\rtrain:  19%|█▉        | 87/462 [04:11<18:24,  2.95s/it]"
          ]
        },
        {
          "output_type": "stream",
          "name": "stdout",
          "text": [
            "\n",
            "Progress1\n",
            "\n",
            "Progress111\n",
            "torch.Size([4, 256, 10])\n",
            "y_predict.shape:  torch.Size([1024, 10])\n",
            "Progress222\n",
            "Progress2\n",
            "Progress3\n",
            "Progress4\n"
          ]
        },
        {
          "output_type": "stream",
          "name": "stderr",
          "text": [
            "\rtrain:  19%|█▉        | 88/462 [04:13<17:33,  2.82s/it]"
          ]
        },
        {
          "output_type": "stream",
          "name": "stdout",
          "text": [
            "\n",
            "Progress1\n",
            "\n",
            "Progress111\n",
            "torch.Size([4, 256, 10])\n",
            "y_predict.shape:  torch.Size([1024, 10])\n",
            "Progress222\n",
            "Progress2\n",
            "Progress3\n",
            "Progress4\n"
          ]
        },
        {
          "output_type": "stream",
          "name": "stderr",
          "text": [
            "\rtrain:  19%|█▉        | 89/462 [04:15<16:48,  2.70s/it]"
          ]
        },
        {
          "output_type": "stream",
          "name": "stdout",
          "text": [
            "\n",
            "Progress1\n",
            "\n",
            "Progress111\n",
            "torch.Size([4, 256, 10])\n",
            "y_predict.shape:  torch.Size([1024, 10])\n",
            "Progress222\n",
            "Progress2\n",
            "Progress3\n",
            "Progress4\n"
          ]
        },
        {
          "output_type": "stream",
          "name": "stderr",
          "text": [
            "\rtrain:  19%|█▉        | 90/462 [04:18<16:22,  2.64s/it]"
          ]
        },
        {
          "output_type": "stream",
          "name": "stdout",
          "text": [
            "\n",
            "Progress1\n",
            "\n",
            "Progress111\n",
            "torch.Size([4, 256, 10])\n",
            "y_predict.shape:  torch.Size([1024, 10])\n",
            "Progress222\n",
            "Progress2\n",
            "Progress3\n",
            "Progress4\n"
          ]
        },
        {
          "output_type": "stream",
          "name": "stderr",
          "text": [
            "\rtrain:  20%|█▉        | 91/462 [04:21<17:03,  2.76s/it]"
          ]
        },
        {
          "output_type": "stream",
          "name": "stdout",
          "text": [
            "\n",
            "Progress1\n",
            "\n",
            "Progress111\n",
            "torch.Size([4, 256, 10])\n",
            "y_predict.shape:  torch.Size([1024, 10])\n",
            "Progress222\n",
            "Progress2\n",
            "Progress3\n",
            "Progress4\n"
          ]
        },
        {
          "output_type": "stream",
          "name": "stderr",
          "text": [
            "\rtrain:  20%|█▉        | 92/462 [04:25<18:54,  3.07s/it]"
          ]
        },
        {
          "output_type": "stream",
          "name": "stdout",
          "text": [
            "\n",
            "Progress1\n",
            "\n",
            "Progress111\n",
            "torch.Size([4, 256, 10])\n",
            "y_predict.shape:  torch.Size([1024, 10])\n",
            "Progress222\n",
            "Progress2\n",
            "Progress3\n",
            "Progress4\n"
          ]
        },
        {
          "output_type": "stream",
          "name": "stderr",
          "text": [
            "\rtrain:  20%|██        | 93/462 [04:27<17:50,  2.90s/it]"
          ]
        },
        {
          "output_type": "stream",
          "name": "stdout",
          "text": [
            "\n",
            "Progress1\n",
            "\n",
            "Progress111\n",
            "torch.Size([4, 256, 10])\n",
            "y_predict.shape:  torch.Size([1024, 10])\n",
            "Progress222\n",
            "Progress2\n",
            "Progress3\n",
            "Progress4\n"
          ]
        },
        {
          "output_type": "stream",
          "name": "stderr",
          "text": [
            "\rtrain:  20%|██        | 94/462 [04:30<17:04,  2.78s/it]"
          ]
        },
        {
          "output_type": "stream",
          "name": "stdout",
          "text": [
            "\n",
            "Progress1\n",
            "\n",
            "Progress111\n",
            "torch.Size([4, 256, 10])\n",
            "y_predict.shape:  torch.Size([1024, 10])\n",
            "Progress222\n",
            "Progress2\n",
            "Progress3\n",
            "Progress4\n"
          ]
        },
        {
          "output_type": "stream",
          "name": "stderr",
          "text": [
            "\rtrain:  21%|██        | 95/462 [04:32<16:29,  2.70s/it]"
          ]
        },
        {
          "output_type": "stream",
          "name": "stdout",
          "text": [
            "\n",
            "Progress1\n",
            "\n",
            "Progress111\n",
            "torch.Size([4, 256, 10])\n",
            "y_predict.shape:  torch.Size([1024, 10])\n",
            "Progress222\n",
            "Progress2\n",
            "Progress3\n",
            "Progress4\n"
          ]
        },
        {
          "output_type": "stream",
          "name": "stderr",
          "text": [
            "\rtrain:  21%|██        | 96/462 [04:35<16:42,  2.74s/it]"
          ]
        },
        {
          "output_type": "stream",
          "name": "stdout",
          "text": [
            "\n",
            "Progress1\n",
            "\n",
            "Progress111\n",
            "torch.Size([4, 256, 10])\n",
            "y_predict.shape:  torch.Size([1024, 10])\n",
            "Progress222\n",
            "Progress2\n",
            "Progress3\n",
            "Progress4\n"
          ]
        },
        {
          "output_type": "stream",
          "name": "stderr",
          "text": [
            "\rtrain:  21%|██        | 97/462 [04:39<18:44,  3.08s/it]"
          ]
        },
        {
          "output_type": "stream",
          "name": "stdout",
          "text": [
            "\n",
            "Progress1\n",
            "\n",
            "Progress111\n",
            "torch.Size([4, 256, 10])\n",
            "y_predict.shape:  torch.Size([1024, 10])\n",
            "Progress222\n",
            "Progress2\n",
            "Progress3\n",
            "Progress4\n"
          ]
        },
        {
          "output_type": "stream",
          "name": "stderr",
          "text": [
            "\rtrain:  21%|██        | 98/462 [04:42<17:44,  2.92s/it]"
          ]
        },
        {
          "output_type": "stream",
          "name": "stdout",
          "text": [
            "\n",
            "Progress1\n",
            "\n",
            "Progress111\n",
            "torch.Size([4, 256, 10])\n",
            "y_predict.shape:  torch.Size([1024, 10])\n",
            "Progress222\n",
            "Progress2\n",
            "Progress3\n",
            "Progress4\n"
          ]
        },
        {
          "output_type": "stream",
          "name": "stderr",
          "text": [
            "\rtrain:  21%|██▏       | 99/462 [04:44<16:57,  2.80s/it]"
          ]
        },
        {
          "output_type": "stream",
          "name": "stdout",
          "text": [
            "\n",
            "Progress1\n",
            "\n",
            "Progress111\n",
            "torch.Size([4, 256, 10])\n",
            "y_predict.shape:  torch.Size([1024, 10])\n",
            "Progress222\n",
            "Progress2\n",
            "Progress3\n",
            "Progress4\n"
          ]
        },
        {
          "output_type": "stream",
          "name": "stderr",
          "text": [
            "\rtrain:  22%|██▏       | 100/462 [04:47<16:21,  2.71s/it]"
          ]
        },
        {
          "output_type": "stream",
          "name": "stdout",
          "text": [
            "\n",
            "Progress1\n",
            "\n",
            "Progress111\n",
            "torch.Size([4, 256, 10])\n",
            "y_predict.shape:  torch.Size([1024, 10])\n",
            "Progress222\n",
            "Progress2\n",
            "Progress3\n",
            "Progress4\n"
          ]
        },
        {
          "output_type": "stream",
          "name": "stderr",
          "text": [
            "\rtrain:  22%|██▏       | 101/462 [04:49<15:59,  2.66s/it]"
          ]
        },
        {
          "output_type": "stream",
          "name": "stdout",
          "text": [
            "\n",
            "Progress1\n",
            "\n",
            "Progress111\n",
            "torch.Size([4, 256, 10])\n",
            "y_predict.shape:  torch.Size([1024, 10])\n",
            "Progress222\n",
            "Progress2\n",
            "Progress3\n",
            "Progress4\n"
          ]
        },
        {
          "output_type": "stream",
          "name": "stderr",
          "text": [
            "\rtrain:  22%|██▏       | 102/462 [04:53<18:40,  3.11s/it]"
          ]
        },
        {
          "output_type": "stream",
          "name": "stdout",
          "text": [
            "\n",
            "Progress1\n",
            "\n",
            "Progress111\n",
            "torch.Size([4, 256, 10])\n",
            "y_predict.shape:  torch.Size([1024, 10])\n",
            "Progress222\n",
            "Progress2\n",
            "Progress3\n",
            "Progress4\n"
          ]
        },
        {
          "output_type": "stream",
          "name": "stderr",
          "text": [
            "\rtrain:  22%|██▏       | 103/462 [04:56<17:33,  2.94s/it]"
          ]
        },
        {
          "output_type": "stream",
          "name": "stdout",
          "text": [
            "\n",
            "Progress1\n",
            "\n",
            "Progress111\n",
            "torch.Size([4, 256, 10])\n",
            "y_predict.shape:  torch.Size([1024, 10])\n",
            "Progress222\n",
            "Progress2\n",
            "Progress3\n",
            "Progress4\n"
          ]
        },
        {
          "output_type": "stream",
          "name": "stderr",
          "text": [
            "\rtrain:  23%|██▎       | 104/462 [04:58<16:48,  2.82s/it]"
          ]
        },
        {
          "output_type": "stream",
          "name": "stdout",
          "text": [
            "\n",
            "Progress1\n",
            "\n",
            "Progress111\n",
            "torch.Size([4, 256, 10])\n",
            "y_predict.shape:  torch.Size([1024, 10])\n",
            "Progress222\n",
            "Progress2\n",
            "Progress3\n",
            "Progress4\n"
          ]
        },
        {
          "output_type": "stream",
          "name": "stderr",
          "text": [
            "\rtrain:  23%|██▎       | 105/462 [05:01<16:18,  2.74s/it]"
          ]
        },
        {
          "output_type": "stream",
          "name": "stdout",
          "text": [
            "\n",
            "Progress1\n",
            "\n",
            "Progress111\n",
            "torch.Size([4, 256, 10])\n",
            "y_predict.shape:  torch.Size([1024, 10])\n",
            "Progress222\n",
            "Progress2\n",
            "Progress3\n",
            "Progress4\n"
          ]
        },
        {
          "output_type": "stream",
          "name": "stderr",
          "text": [
            "\rtrain:  23%|██▎       | 106/462 [05:04<16:05,  2.71s/it]"
          ]
        },
        {
          "output_type": "stream",
          "name": "stdout",
          "text": [
            "\n",
            "Progress1\n",
            "\n",
            "Progress111\n",
            "torch.Size([4, 256, 10])\n",
            "y_predict.shape:  torch.Size([1024, 10])\n",
            "Progress222\n",
            "Progress2\n",
            "Progress3\n",
            "Progress4\n"
          ]
        },
        {
          "output_type": "stream",
          "name": "stderr",
          "text": [
            "\rtrain:  23%|██▎       | 107/462 [05:08<18:32,  3.13s/it]"
          ]
        },
        {
          "output_type": "stream",
          "name": "stdout",
          "text": [
            "\n",
            "Progress1\n",
            "\n",
            "Progress111\n",
            "torch.Size([4, 256, 10])\n",
            "y_predict.shape:  torch.Size([1024, 10])\n",
            "Progress222\n",
            "Progress2\n",
            "Progress3\n",
            "Progress4\n"
          ]
        },
        {
          "output_type": "stream",
          "name": "stderr",
          "text": [
            "\rtrain:  23%|██▎       | 108/462 [05:10<17:27,  2.96s/it]"
          ]
        },
        {
          "output_type": "stream",
          "name": "stdout",
          "text": [
            "\n",
            "Progress1\n",
            "\n",
            "Progress111\n",
            "torch.Size([4, 256, 10])\n",
            "y_predict.shape:  torch.Size([1024, 10])\n",
            "Progress222\n",
            "Progress2\n",
            "Progress3\n",
            "Progress4\n"
          ]
        },
        {
          "output_type": "stream",
          "name": "stderr",
          "text": [
            "\rtrain:  24%|██▎       | 109/462 [05:13<16:36,  2.82s/it]"
          ]
        },
        {
          "output_type": "stream",
          "name": "stdout",
          "text": [
            "\n",
            "Progress1\n",
            "\n",
            "Progress111\n",
            "torch.Size([4, 256, 10])\n",
            "y_predict.shape:  torch.Size([1024, 10])\n",
            "Progress222\n",
            "Progress2\n",
            "Progress3\n",
            "Progress4\n"
          ]
        },
        {
          "output_type": "stream",
          "name": "stderr",
          "text": [
            "\rtrain:  24%|██▍       | 110/462 [05:15<16:01,  2.73s/it]"
          ]
        },
        {
          "output_type": "stream",
          "name": "stdout",
          "text": [
            "\n",
            "Progress1\n",
            "\n",
            "Progress111\n",
            "torch.Size([4, 256, 10])\n",
            "y_predict.shape:  torch.Size([1024, 10])\n",
            "Progress222\n",
            "Progress2\n",
            "Progress3\n",
            "Progress4\n"
          ]
        },
        {
          "output_type": "stream",
          "name": "stderr",
          "text": [
            "\rtrain:  24%|██▍       | 111/462 [05:18<15:37,  2.67s/it]"
          ]
        },
        {
          "output_type": "stream",
          "name": "stdout",
          "text": [
            "\n",
            "Progress1\n",
            "\n",
            "Progress111\n",
            "torch.Size([4, 256, 10])\n",
            "y_predict.shape:  torch.Size([1024, 10])\n",
            "Progress222\n",
            "Progress2\n",
            "Progress3\n",
            "Progress4\n"
          ]
        },
        {
          "output_type": "stream",
          "name": "stderr",
          "text": [
            "\rtrain:  24%|██▍       | 112/462 [05:21<16:43,  2.87s/it]"
          ]
        },
        {
          "output_type": "stream",
          "name": "stdout",
          "text": [
            "\n",
            "Progress1\n",
            "\n",
            "Progress111\n",
            "torch.Size([4, 256, 10])\n",
            "y_predict.shape:  torch.Size([1024, 10])\n",
            "Progress222\n",
            "Progress2\n",
            "Progress3\n",
            "Progress4\n"
          ]
        },
        {
          "output_type": "stream",
          "name": "stderr",
          "text": [
            "\rtrain:  24%|██▍       | 113/462 [05:24<17:16,  2.97s/it]"
          ]
        },
        {
          "output_type": "stream",
          "name": "stdout",
          "text": [
            "\n",
            "Progress1\n",
            "\n",
            "Progress111\n",
            "torch.Size([4, 256, 10])\n",
            "y_predict.shape:  torch.Size([1024, 10])\n",
            "Progress222\n",
            "Progress2\n",
            "Progress3\n",
            "Progress4\n"
          ]
        },
        {
          "output_type": "stream",
          "name": "stderr",
          "text": [
            "\rtrain:  25%|██▍       | 114/462 [05:27<16:36,  2.86s/it]"
          ]
        },
        {
          "output_type": "stream",
          "name": "stdout",
          "text": [
            "\n",
            "Progress1\n",
            "\n",
            "Progress111\n",
            "torch.Size([4, 256, 10])\n",
            "y_predict.shape:  torch.Size([1024, 10])\n",
            "Progress222\n",
            "Progress2\n",
            "Progress3\n",
            "Progress4\n"
          ]
        },
        {
          "output_type": "stream",
          "name": "stderr",
          "text": [
            "\rtrain:  25%|██▍       | 115/462 [05:29<15:58,  2.76s/it]"
          ]
        },
        {
          "output_type": "stream",
          "name": "stdout",
          "text": [
            "\n",
            "Progress1\n",
            "\n",
            "Progress111\n",
            "torch.Size([4, 256, 10])\n",
            "y_predict.shape:  torch.Size([1024, 10])\n",
            "Progress222\n",
            "Progress2\n",
            "Progress3\n",
            "Progress4\n"
          ]
        },
        {
          "output_type": "stream",
          "name": "stderr",
          "text": [
            "\rtrain:  25%|██▌       | 116/462 [05:32<15:33,  2.70s/it]"
          ]
        },
        {
          "output_type": "stream",
          "name": "stdout",
          "text": [
            "\n",
            "Progress1\n",
            "\n",
            "Progress111\n",
            "torch.Size([4, 256, 10])\n",
            "y_predict.shape:  torch.Size([1024, 10])\n",
            "Progress222\n",
            "Progress2\n",
            "Progress3\n",
            "Progress4\n"
          ]
        },
        {
          "output_type": "stream",
          "name": "stderr",
          "text": [
            "\rtrain:  25%|██▌       | 117/462 [05:35<15:15,  2.65s/it]"
          ]
        },
        {
          "output_type": "stream",
          "name": "stdout",
          "text": [
            "\n",
            "Progress1\n",
            "\n",
            "Progress111\n",
            "torch.Size([4, 256, 10])\n",
            "y_predict.shape:  torch.Size([1024, 10])\n",
            "Progress222\n",
            "Progress2\n",
            "Progress3\n",
            "Progress4\n"
          ]
        },
        {
          "output_type": "stream",
          "name": "stderr",
          "text": [
            "\rtrain:  26%|██▌       | 118/462 [05:38<16:12,  2.83s/it]"
          ]
        },
        {
          "output_type": "stream",
          "name": "stdout",
          "text": [
            "\n",
            "Progress1\n",
            "\n",
            "Progress111\n",
            "torch.Size([4, 256, 10])\n",
            "y_predict.shape:  torch.Size([1024, 10])\n",
            "Progress222\n",
            "Progress2\n",
            "Progress3\n",
            "Progress4\n"
          ]
        },
        {
          "output_type": "stream",
          "name": "stderr",
          "text": [
            "\rtrain:  26%|██▌       | 119/462 [05:41<16:48,  2.94s/it]"
          ]
        },
        {
          "output_type": "stream",
          "name": "stdout",
          "text": [
            "\n",
            "Progress1\n",
            "\n",
            "Progress111\n",
            "torch.Size([4, 256, 10])\n",
            "y_predict.shape:  torch.Size([1024, 10])\n",
            "Progress222\n",
            "Progress2\n",
            "Progress3\n",
            "Progress4\n"
          ]
        },
        {
          "output_type": "stream",
          "name": "stderr",
          "text": [
            "\rtrain:  26%|██▌       | 120/462 [05:44<16:32,  2.90s/it]"
          ]
        },
        {
          "output_type": "stream",
          "name": "stdout",
          "text": [
            "\n",
            "Progress1\n",
            "\n",
            "Progress111\n",
            "torch.Size([4, 256, 10])\n",
            "y_predict.shape:  torch.Size([1024, 10])\n",
            "Progress222\n",
            "Progress2\n",
            "Progress3\n",
            "Progress4\n"
          ]
        },
        {
          "output_type": "stream",
          "name": "stderr",
          "text": [
            "\rtrain:  26%|██▌       | 121/462 [05:46<15:53,  2.80s/it]"
          ]
        },
        {
          "output_type": "stream",
          "name": "stdout",
          "text": [
            "\n",
            "Progress1\n",
            "\n",
            "Progress111\n",
            "torch.Size([4, 256, 10])\n",
            "y_predict.shape:  torch.Size([1024, 10])\n",
            "Progress222\n",
            "Progress2\n",
            "Progress3\n",
            "Progress4\n"
          ]
        },
        {
          "output_type": "stream",
          "name": "stderr",
          "text": [
            "\rtrain:  26%|██▋       | 122/462 [05:49<15:28,  2.73s/it]"
          ]
        },
        {
          "output_type": "stream",
          "name": "stdout",
          "text": [
            "\n",
            "Progress1\n",
            "\n",
            "Progress111\n",
            "torch.Size([4, 256, 10])\n",
            "y_predict.shape:  torch.Size([1024, 10])\n",
            "Progress222\n",
            "Progress2\n",
            "Progress3\n",
            "Progress4\n"
          ]
        },
        {
          "output_type": "stream",
          "name": "stderr",
          "text": [
            "\rtrain:  27%|██▋       | 123/462 [05:51<15:07,  2.68s/it]"
          ]
        },
        {
          "output_type": "stream",
          "name": "stdout",
          "text": [
            "\n",
            "Progress1\n",
            "\n",
            "Progress111\n",
            "torch.Size([4, 256, 10])\n",
            "y_predict.shape:  torch.Size([1024, 10])\n",
            "Progress222\n",
            "Progress2\n",
            "Progress3\n",
            "Progress4\n"
          ]
        },
        {
          "output_type": "stream",
          "name": "stderr",
          "text": [
            "\rtrain:  27%|██▋       | 124/462 [05:54<15:32,  2.76s/it]"
          ]
        },
        {
          "output_type": "stream",
          "name": "stdout",
          "text": [
            "\n",
            "Progress1\n",
            "\n",
            "Progress111\n",
            "torch.Size([4, 256, 10])\n",
            "y_predict.shape:  torch.Size([1024, 10])\n",
            "Progress222\n",
            "Progress2\n",
            "Progress3\n",
            "Progress4\n"
          ]
        },
        {
          "output_type": "stream",
          "name": "stderr",
          "text": [
            "\rtrain:  27%|██▋       | 125/462 [05:58<16:18,  2.90s/it]"
          ]
        },
        {
          "output_type": "stream",
          "name": "stdout",
          "text": [
            "\n",
            "Progress1\n",
            "\n",
            "Progress111\n",
            "torch.Size([4, 256, 10])\n",
            "y_predict.shape:  torch.Size([1024, 10])\n",
            "Progress222\n",
            "Progress2\n",
            "Progress3\n",
            "Progress4\n"
          ]
        },
        {
          "output_type": "stream",
          "name": "stderr",
          "text": [
            "\rtrain:  27%|██▋       | 126/462 [06:01<16:33,  2.96s/it]"
          ]
        },
        {
          "output_type": "stream",
          "name": "stdout",
          "text": [
            "\n",
            "Progress1\n",
            "\n",
            "Progress111\n",
            "torch.Size([4, 256, 10])\n",
            "y_predict.shape:  torch.Size([1024, 10])\n",
            "Progress222\n",
            "Progress2\n",
            "Progress3\n",
            "Progress4\n"
          ]
        },
        {
          "output_type": "stream",
          "name": "stderr",
          "text": [
            "\rtrain:  27%|██▋       | 127/462 [06:03<15:41,  2.81s/it]"
          ]
        },
        {
          "output_type": "stream",
          "name": "stdout",
          "text": [
            "\n",
            "Progress1\n",
            "\n",
            "Progress111\n",
            "torch.Size([4, 256, 10])\n",
            "y_predict.shape:  torch.Size([1024, 10])\n",
            "Progress222\n",
            "Progress2\n",
            "Progress3\n",
            "Progress4\n"
          ]
        },
        {
          "output_type": "stream",
          "name": "stderr",
          "text": [
            "\rtrain:  28%|██▊       | 128/462 [06:06<15:05,  2.71s/it]"
          ]
        },
        {
          "output_type": "stream",
          "name": "stdout",
          "text": [
            "\n",
            "Progress1\n",
            "\n",
            "Progress111\n",
            "torch.Size([4, 256, 10])\n",
            "y_predict.shape:  torch.Size([1024, 10])\n",
            "Progress222\n",
            "Progress2\n",
            "Progress3\n",
            "Progress4\n"
          ]
        },
        {
          "output_type": "stream",
          "name": "stderr",
          "text": [
            "\rtrain:  28%|██▊       | 129/462 [06:08<14:42,  2.65s/it]"
          ]
        },
        {
          "output_type": "stream",
          "name": "stdout",
          "text": [
            "\n",
            "Progress1\n",
            "\n",
            "Progress111\n",
            "torch.Size([4, 256, 10])\n",
            "y_predict.shape:  torch.Size([1024, 10])\n",
            "Progress222\n",
            "Progress2\n",
            "Progress3\n",
            "Progress4\n"
          ]
        },
        {
          "output_type": "stream",
          "name": "stderr",
          "text": [
            "\rtrain:  28%|██▊       | 130/462 [06:11<14:33,  2.63s/it]"
          ]
        },
        {
          "output_type": "stream",
          "name": "stdout",
          "text": [
            "\n",
            "Progress1\n",
            "\n",
            "Progress111\n",
            "torch.Size([4, 256, 10])\n",
            "y_predict.shape:  torch.Size([1024, 10])\n",
            "Progress222\n",
            "Progress2\n",
            "Progress3\n",
            "Progress4\n"
          ]
        },
        {
          "output_type": "stream",
          "name": "stderr",
          "text": [
            "\rtrain:  28%|██▊       | 131/462 [06:14<15:23,  2.79s/it]"
          ]
        },
        {
          "output_type": "stream",
          "name": "stdout",
          "text": [
            "\n",
            "Progress1\n",
            "\n",
            "Progress111\n",
            "torch.Size([4, 256, 10])\n",
            "y_predict.shape:  torch.Size([1024, 10])\n",
            "Progress222\n",
            "Progress2\n",
            "Progress3\n",
            "Progress4\n"
          ]
        },
        {
          "output_type": "stream",
          "name": "stderr",
          "text": [
            "\rtrain:  29%|██▊       | 132/462 [06:17<15:58,  2.90s/it]"
          ]
        },
        {
          "output_type": "stream",
          "name": "stdout",
          "text": [
            "\n",
            "Progress1\n",
            "\n",
            "Progress111\n",
            "torch.Size([4, 256, 10])\n",
            "y_predict.shape:  torch.Size([1024, 10])\n",
            "Progress222\n",
            "Progress2\n",
            "Progress3\n",
            "Progress4\n"
          ]
        },
        {
          "output_type": "stream",
          "name": "stderr",
          "text": [
            "\rtrain:  29%|██▉       | 133/462 [06:20<15:37,  2.85s/it]"
          ]
        },
        {
          "output_type": "stream",
          "name": "stdout",
          "text": [
            "\n",
            "Progress1\n",
            "\n",
            "Progress111\n",
            "torch.Size([4, 256, 10])\n",
            "y_predict.shape:  torch.Size([1024, 10])\n",
            "Progress222\n",
            "Progress2\n",
            "Progress3\n",
            "Progress4\n"
          ]
        },
        {
          "output_type": "stream",
          "name": "stderr",
          "text": [
            "\rtrain:  29%|██▉       | 134/462 [06:22<15:01,  2.75s/it]"
          ]
        },
        {
          "output_type": "stream",
          "name": "stdout",
          "text": [
            "\n",
            "Progress1\n",
            "\n",
            "Progress111\n",
            "torch.Size([4, 256, 10])\n",
            "y_predict.shape:  torch.Size([1024, 10])\n",
            "Progress222\n",
            "Progress2\n",
            "Progress3\n",
            "Progress4\n"
          ]
        },
        {
          "output_type": "stream",
          "name": "stderr",
          "text": [
            "\rtrain:  29%|██▉       | 135/462 [06:25<14:39,  2.69s/it]"
          ]
        },
        {
          "output_type": "stream",
          "name": "stdout",
          "text": [
            "\n",
            "Progress1\n",
            "\n",
            "Progress111\n",
            "torch.Size([4, 256, 10])\n",
            "y_predict.shape:  torch.Size([1024, 10])\n",
            "Progress222\n",
            "Progress2\n",
            "Progress3\n",
            "Progress4\n"
          ]
        },
        {
          "output_type": "stream",
          "name": "stderr",
          "text": [
            "\rtrain:  29%|██▉       | 136/462 [06:27<14:19,  2.64s/it]"
          ]
        },
        {
          "output_type": "stream",
          "name": "stdout",
          "text": [
            "\n",
            "Progress1\n",
            "\n",
            "Progress111\n",
            "torch.Size([4, 256, 10])\n",
            "y_predict.shape:  torch.Size([1024, 10])\n",
            "Progress222\n",
            "Progress2\n",
            "Progress3\n",
            "Progress4\n"
          ]
        },
        {
          "output_type": "stream",
          "name": "stderr",
          "text": [
            "\rtrain:  30%|██▉       | 137/462 [06:30<14:54,  2.75s/it]"
          ]
        },
        {
          "output_type": "stream",
          "name": "stdout",
          "text": [
            "\n",
            "Progress1\n",
            "\n",
            "Progress111\n",
            "torch.Size([4, 256, 10])\n",
            "y_predict.shape:  torch.Size([1024, 10])\n",
            "Progress222\n",
            "Progress2\n",
            "Progress3\n",
            "Progress4\n"
          ]
        },
        {
          "output_type": "stream",
          "name": "stderr",
          "text": [
            "\rtrain:  30%|██▉       | 138/462 [06:34<16:21,  3.03s/it]"
          ]
        },
        {
          "output_type": "stream",
          "name": "stdout",
          "text": [
            "\n",
            "Progress1\n",
            "\n",
            "Progress111\n",
            "torch.Size([4, 256, 10])\n",
            "y_predict.shape:  torch.Size([1024, 10])\n",
            "Progress222\n",
            "Progress2\n",
            "Progress3\n",
            "Progress4\n"
          ]
        },
        {
          "output_type": "stream",
          "name": "stderr",
          "text": [
            "\rtrain:  30%|███       | 139/462 [06:37<15:29,  2.88s/it]"
          ]
        },
        {
          "output_type": "stream",
          "name": "stdout",
          "text": [
            "\n",
            "Progress1\n",
            "\n",
            "Progress111\n",
            "torch.Size([4, 256, 10])\n",
            "y_predict.shape:  torch.Size([1024, 10])\n",
            "Progress222\n",
            "Progress2\n",
            "Progress3\n",
            "Progress4\n"
          ]
        },
        {
          "output_type": "stream",
          "name": "stderr",
          "text": [
            "\rtrain:  30%|███       | 140/462 [06:39<14:51,  2.77s/it]"
          ]
        },
        {
          "output_type": "stream",
          "name": "stdout",
          "text": [
            "\n",
            "Progress1\n",
            "\n",
            "Progress111\n",
            "torch.Size([4, 256, 10])\n",
            "y_predict.shape:  torch.Size([1024, 10])\n",
            "Progress222\n",
            "Progress2\n",
            "Progress3\n",
            "Progress4\n"
          ]
        },
        {
          "output_type": "stream",
          "name": "stderr",
          "text": [
            "\rtrain:  31%|███       | 141/462 [06:42<14:36,  2.73s/it]"
          ]
        },
        {
          "output_type": "stream",
          "name": "stdout",
          "text": [
            "\n",
            "Progress1\n",
            "\n",
            "Progress111\n",
            "torch.Size([4, 256, 10])\n",
            "y_predict.shape:  torch.Size([1024, 10])\n",
            "Progress222\n",
            "Progress2\n",
            "Progress3\n",
            "Progress4\n"
          ]
        },
        {
          "output_type": "stream",
          "name": "stderr",
          "text": [
            "\rtrain:  31%|███       | 142/462 [06:45<14:37,  2.74s/it]"
          ]
        },
        {
          "output_type": "stream",
          "name": "stdout",
          "text": [
            "\n",
            "Progress1\n",
            "\n",
            "Progress111\n",
            "torch.Size([4, 256, 10])\n",
            "y_predict.shape:  torch.Size([1024, 10])\n",
            "Progress222\n",
            "Progress2\n",
            "Progress3\n",
            "Progress4\n"
          ]
        },
        {
          "output_type": "stream",
          "name": "stderr",
          "text": [
            "\rtrain:  31%|███       | 143/462 [06:48<15:25,  2.90s/it]"
          ]
        },
        {
          "output_type": "stream",
          "name": "stdout",
          "text": [
            "\n",
            "Progress1\n",
            "\n",
            "Progress111\n",
            "torch.Size([4, 256, 10])\n",
            "y_predict.shape:  torch.Size([1024, 10])\n",
            "Progress222\n",
            "Progress2\n",
            "Progress3\n",
            "Progress4\n"
          ]
        },
        {
          "output_type": "stream",
          "name": "stderr",
          "text": [
            "\rtrain:  31%|███       | 144/462 [06:51<15:42,  2.96s/it]"
          ]
        },
        {
          "output_type": "stream",
          "name": "stdout",
          "text": [
            "\n",
            "Progress1\n",
            "\n",
            "Progress111\n",
            "torch.Size([4, 256, 10])\n",
            "y_predict.shape:  torch.Size([1024, 10])\n",
            "Progress222\n",
            "Progress2\n",
            "Progress3\n",
            "Progress4\n"
          ]
        },
        {
          "output_type": "stream",
          "name": "stderr",
          "text": [
            "\rtrain:  31%|███▏      | 145/462 [06:53<14:57,  2.83s/it]"
          ]
        },
        {
          "output_type": "stream",
          "name": "stdout",
          "text": [
            "\n",
            "Progress1\n",
            "\n",
            "Progress111\n",
            "torch.Size([4, 256, 10])\n",
            "y_predict.shape:  torch.Size([1024, 10])\n",
            "Progress222\n",
            "Progress2\n",
            "Progress3\n",
            "Progress4\n"
          ]
        },
        {
          "output_type": "stream",
          "name": "stderr",
          "text": [
            "\rtrain:  32%|███▏      | 146/462 [06:56<14:29,  2.75s/it]"
          ]
        },
        {
          "output_type": "stream",
          "name": "stdout",
          "text": [
            "\n",
            "Progress1\n",
            "\n",
            "Progress111\n",
            "torch.Size([4, 256, 10])\n",
            "y_predict.shape:  torch.Size([1024, 10])\n",
            "Progress222\n",
            "Progress2\n",
            "Progress3\n",
            "Progress4\n"
          ]
        },
        {
          "output_type": "stream",
          "name": "stderr",
          "text": [
            "\rtrain:  32%|███▏      | 147/462 [06:59<14:01,  2.67s/it]"
          ]
        },
        {
          "output_type": "stream",
          "name": "stdout",
          "text": [
            "\n",
            "Progress1\n",
            "\n",
            "Progress111\n",
            "torch.Size([4, 256, 10])\n",
            "y_predict.shape:  torch.Size([1024, 10])\n",
            "Progress222\n",
            "Progress2\n",
            "Progress3\n",
            "Progress4\n"
          ]
        },
        {
          "output_type": "stream",
          "name": "stderr",
          "text": [
            "\rtrain:  32%|███▏      | 148/462 [07:02<14:32,  2.78s/it]"
          ]
        },
        {
          "output_type": "stream",
          "name": "stdout",
          "text": [
            "\n",
            "Progress1\n",
            "\n",
            "Progress111\n",
            "torch.Size([4, 256, 10])\n",
            "y_predict.shape:  torch.Size([1024, 10])\n",
            "Progress222\n",
            "Progress2\n",
            "Progress3\n",
            "Progress4\n"
          ]
        },
        {
          "output_type": "stream",
          "name": "stderr",
          "text": [
            "\rtrain:  32%|███▏      | 149/462 [07:05<15:46,  3.02s/it]"
          ]
        },
        {
          "output_type": "stream",
          "name": "stdout",
          "text": [
            "\n",
            "Progress1\n",
            "\n",
            "Progress111\n",
            "torch.Size([4, 256, 10])\n",
            "y_predict.shape:  torch.Size([1024, 10])\n",
            "Progress222\n",
            "Progress2\n",
            "Progress3\n",
            "Progress4\n"
          ]
        },
        {
          "output_type": "stream",
          "name": "stderr",
          "text": [
            "\rtrain:  32%|███▏      | 150/462 [07:08<15:05,  2.90s/it]"
          ]
        },
        {
          "output_type": "stream",
          "name": "stdout",
          "text": [
            "\n",
            "Progress1\n",
            "\n",
            "Progress111\n",
            "torch.Size([4, 256, 10])\n",
            "y_predict.shape:  torch.Size([1024, 10])\n",
            "Progress222\n",
            "Progress2\n",
            "Progress3\n",
            "Progress4\n"
          ]
        },
        {
          "output_type": "stream",
          "name": "stderr",
          "text": [
            "\rtrain:  33%|███▎      | 151/462 [07:10<14:22,  2.77s/it]"
          ]
        },
        {
          "output_type": "stream",
          "name": "stdout",
          "text": [
            "\n",
            "Progress1\n",
            "\n",
            "Progress111\n",
            "torch.Size([4, 256, 10])\n",
            "y_predict.shape:  torch.Size([1024, 10])\n",
            "Progress222\n",
            "Progress2\n",
            "Progress3\n",
            "Progress4\n"
          ]
        },
        {
          "output_type": "stream",
          "name": "stderr",
          "text": [
            "\rtrain:  33%|███▎      | 152/462 [07:13<13:49,  2.68s/it]"
          ]
        },
        {
          "output_type": "stream",
          "name": "stdout",
          "text": [
            "\n",
            "Progress1\n",
            "\n",
            "Progress111\n",
            "torch.Size([4, 256, 10])\n",
            "y_predict.shape:  torch.Size([1024, 10])\n",
            "Progress222\n",
            "Progress2\n",
            "Progress3\n",
            "Progress4\n"
          ]
        },
        {
          "output_type": "stream",
          "name": "stderr",
          "text": [
            "\rtrain:  33%|███▎      | 153/462 [07:15<13:28,  2.62s/it]"
          ]
        },
        {
          "output_type": "stream",
          "name": "stdout",
          "text": [
            "\n",
            "Progress1\n",
            "\n",
            "Progress111\n",
            "torch.Size([4, 256, 10])\n",
            "y_predict.shape:  torch.Size([1024, 10])\n",
            "Progress222\n",
            "Progress2\n",
            "Progress3\n",
            "Progress4\n"
          ]
        },
        {
          "output_type": "stream",
          "name": "stderr",
          "text": [
            "\rtrain:  33%|███▎      | 154/462 [07:18<14:21,  2.80s/it]"
          ]
        },
        {
          "output_type": "stream",
          "name": "stdout",
          "text": [
            "\n",
            "Progress1\n",
            "\n",
            "Progress111\n",
            "torch.Size([4, 256, 10])\n",
            "y_predict.shape:  torch.Size([1024, 10])\n",
            "Progress222\n",
            "Progress2\n",
            "Progress3\n",
            "Progress4\n"
          ]
        },
        {
          "output_type": "stream",
          "name": "stderr",
          "text": [
            "\rtrain:  34%|███▎      | 155/462 [07:22<15:34,  3.04s/it]"
          ]
        },
        {
          "output_type": "stream",
          "name": "stdout",
          "text": [
            "\n",
            "Progress1\n",
            "\n",
            "Progress111\n",
            "torch.Size([4, 256, 10])\n",
            "y_predict.shape:  torch.Size([1024, 10])\n",
            "Progress222\n",
            "Progress2\n",
            "Progress3\n",
            "Progress4\n"
          ]
        },
        {
          "output_type": "stream",
          "name": "stderr",
          "text": [
            "\rtrain:  34%|███▍      | 156/462 [07:25<14:41,  2.88s/it]"
          ]
        },
        {
          "output_type": "stream",
          "name": "stdout",
          "text": [
            "\n",
            "Progress1\n",
            "\n",
            "Progress111\n",
            "torch.Size([4, 256, 10])\n",
            "y_predict.shape:  torch.Size([1024, 10])\n",
            "Progress222\n",
            "Progress2\n",
            "Progress3\n",
            "Progress4\n"
          ]
        },
        {
          "output_type": "stream",
          "name": "stderr",
          "text": [
            "\rtrain:  34%|███▍      | 157/462 [07:27<14:02,  2.76s/it]"
          ]
        },
        {
          "output_type": "stream",
          "name": "stdout",
          "text": [
            "\n",
            "Progress1\n",
            "\n",
            "Progress111\n",
            "torch.Size([4, 256, 10])\n",
            "y_predict.shape:  torch.Size([1024, 10])\n",
            "Progress222\n",
            "Progress2\n",
            "Progress3\n",
            "Progress4\n"
          ]
        },
        {
          "output_type": "stream",
          "name": "stderr",
          "text": [
            "\rtrain:  34%|███▍      | 158/462 [07:30<13:38,  2.69s/it]"
          ]
        },
        {
          "output_type": "stream",
          "name": "stdout",
          "text": [
            "\n",
            "Progress1\n",
            "\n",
            "Progress111\n",
            "torch.Size([4, 256, 10])\n",
            "y_predict.shape:  torch.Size([1024, 10])\n",
            "Progress222\n",
            "Progress2\n",
            "Progress3\n",
            "Progress4\n"
          ]
        },
        {
          "output_type": "stream",
          "name": "stderr",
          "text": [
            "\rtrain:  34%|███▍      | 159/462 [07:32<13:54,  2.75s/it]"
          ]
        },
        {
          "output_type": "stream",
          "name": "stdout",
          "text": [
            "\n",
            "Progress1\n",
            "\n",
            "Progress111\n",
            "torch.Size([4, 256, 10])\n",
            "y_predict.shape:  torch.Size([1024, 10])\n",
            "Progress222\n",
            "Progress2\n",
            "Progress3\n",
            "Progress4\n"
          ]
        },
        {
          "output_type": "stream",
          "name": "stderr",
          "text": [
            "\rtrain:  35%|███▍      | 160/462 [07:36<15:37,  3.11s/it]"
          ]
        },
        {
          "output_type": "stream",
          "name": "stdout",
          "text": [
            "\n",
            "Progress1\n",
            "\n",
            "Progress111\n",
            "torch.Size([4, 256, 10])\n",
            "y_predict.shape:  torch.Size([1024, 10])\n",
            "Progress222\n",
            "Progress2\n",
            "Progress3\n",
            "Progress4\n"
          ]
        },
        {
          "output_type": "stream",
          "name": "stderr",
          "text": [
            "\rtrain:  35%|███▍      | 161/462 [07:39<14:48,  2.95s/it]"
          ]
        },
        {
          "output_type": "stream",
          "name": "stdout",
          "text": [
            "\n",
            "Progress1\n",
            "\n",
            "Progress111\n",
            "torch.Size([4, 256, 10])\n",
            "y_predict.shape:  torch.Size([1024, 10])\n",
            "Progress222\n",
            "Progress2\n",
            "Progress3\n",
            "Progress4\n"
          ]
        },
        {
          "output_type": "stream",
          "name": "stderr",
          "text": [
            "\rtrain:  35%|███▌      | 162/462 [07:41<14:08,  2.83s/it]"
          ]
        },
        {
          "output_type": "stream",
          "name": "stdout",
          "text": [
            "\n",
            "Progress1\n",
            "\n",
            "Progress111\n",
            "torch.Size([4, 256, 10])\n",
            "y_predict.shape:  torch.Size([1024, 10])\n",
            "Progress222\n",
            "Progress2\n",
            "Progress3\n",
            "Progress4\n"
          ]
        },
        {
          "output_type": "stream",
          "name": "stderr",
          "text": [
            "\rtrain:  35%|███▌      | 163/462 [07:44<13:44,  2.76s/it]"
          ]
        },
        {
          "output_type": "stream",
          "name": "stdout",
          "text": [
            "\n",
            "Progress1\n",
            "\n",
            "Progress111\n",
            "torch.Size([4, 256, 10])\n",
            "y_predict.shape:  torch.Size([1024, 10])\n",
            "Progress222\n",
            "Progress2\n",
            "Progress3\n",
            "Progress4\n"
          ]
        },
        {
          "output_type": "stream",
          "name": "stderr",
          "text": [
            "\rtrain:  35%|███▌      | 164/462 [07:47<13:45,  2.77s/it]"
          ]
        },
        {
          "output_type": "stream",
          "name": "stdout",
          "text": [
            "\n",
            "Progress1\n",
            "\n",
            "Progress111\n",
            "torch.Size([4, 256, 10])\n",
            "y_predict.shape:  torch.Size([1024, 10])\n",
            "Progress222\n",
            "Progress2\n",
            "Progress3\n",
            "Progress4\n"
          ]
        },
        {
          "output_type": "stream",
          "name": "stderr",
          "text": [
            "\rtrain:  36%|███▌      | 165/462 [07:50<14:23,  2.91s/it]"
          ]
        },
        {
          "output_type": "stream",
          "name": "stdout",
          "text": [
            "\n",
            "Progress1\n",
            "\n",
            "Progress111\n",
            "torch.Size([4, 256, 10])\n",
            "y_predict.shape:  torch.Size([1024, 10])\n",
            "Progress222\n",
            "Progress2\n",
            "Progress3\n",
            "Progress4\n"
          ]
        },
        {
          "output_type": "stream",
          "name": "stderr",
          "text": [
            "\rtrain:  36%|███▌      | 166/462 [07:53<14:55,  3.03s/it]"
          ]
        },
        {
          "output_type": "stream",
          "name": "stdout",
          "text": [
            "\n",
            "Progress1\n",
            "\n",
            "Progress111\n",
            "torch.Size([4, 256, 10])\n",
            "y_predict.shape:  torch.Size([1024, 10])\n",
            "Progress222\n",
            "Progress2\n",
            "Progress3\n",
            "Progress4\n"
          ]
        },
        {
          "output_type": "stream",
          "name": "stderr",
          "text": [
            "\rtrain:  36%|███▌      | 167/462 [07:56<14:06,  2.87s/it]"
          ]
        },
        {
          "output_type": "stream",
          "name": "stdout",
          "text": [
            "\n",
            "Progress1\n",
            "\n",
            "Progress111\n",
            "torch.Size([4, 256, 10])\n",
            "y_predict.shape:  torch.Size([1024, 10])\n",
            "Progress222\n",
            "Progress2\n",
            "Progress3\n",
            "Progress4\n"
          ]
        },
        {
          "output_type": "stream",
          "name": "stderr",
          "text": [
            "\rtrain:  36%|███▋      | 168/462 [07:58<13:35,  2.77s/it]"
          ]
        },
        {
          "output_type": "stream",
          "name": "stdout",
          "text": [
            "\n",
            "Progress1\n",
            "\n",
            "Progress111\n",
            "torch.Size([4, 256, 10])\n",
            "y_predict.shape:  torch.Size([1024, 10])\n",
            "Progress222\n",
            "Progress2\n",
            "Progress3\n",
            "Progress4\n"
          ]
        },
        {
          "output_type": "stream",
          "name": "stderr",
          "text": [
            "\rtrain:  37%|███▋      | 169/462 [08:01<13:07,  2.69s/it]"
          ]
        },
        {
          "output_type": "stream",
          "name": "stdout",
          "text": [
            "\n",
            "Progress1\n",
            "\n",
            "Progress111\n",
            "torch.Size([4, 256, 10])\n",
            "y_predict.shape:  torch.Size([1024, 10])\n",
            "Progress222\n",
            "Progress2\n",
            "Progress3\n",
            "Progress4\n"
          ]
        },
        {
          "output_type": "stream",
          "name": "stderr",
          "text": [
            "\rtrain:  37%|███▋      | 170/462 [08:04<13:37,  2.80s/it]"
          ]
        },
        {
          "output_type": "stream",
          "name": "stdout",
          "text": [
            "\n",
            "Progress1\n",
            "\n",
            "Progress111\n",
            "torch.Size([4, 256, 10])\n",
            "y_predict.shape:  torch.Size([1024, 10])\n",
            "Progress222\n",
            "Progress2\n",
            "Progress3\n",
            "Progress4\n"
          ]
        },
        {
          "output_type": "stream",
          "name": "stderr",
          "text": [
            "\rtrain:  37%|███▋      | 171/462 [08:08<14:43,  3.04s/it]"
          ]
        },
        {
          "output_type": "stream",
          "name": "stdout",
          "text": [
            "\n",
            "Progress1\n",
            "\n",
            "Progress111\n",
            "torch.Size([4, 256, 10])\n",
            "y_predict.shape:  torch.Size([1024, 10])\n",
            "Progress222\n",
            "Progress2\n",
            "Progress3\n",
            "Progress4\n"
          ]
        },
        {
          "output_type": "stream",
          "name": "stderr",
          "text": [
            "\rtrain:  37%|███▋      | 172/462 [08:10<14:00,  2.90s/it]"
          ]
        },
        {
          "output_type": "stream",
          "name": "stdout",
          "text": [
            "\n",
            "Progress1\n",
            "\n",
            "Progress111\n",
            "torch.Size([4, 256, 10])\n",
            "y_predict.shape:  torch.Size([1024, 10])\n",
            "Progress222\n",
            "Progress2\n",
            "Progress3\n",
            "Progress4\n"
          ]
        },
        {
          "output_type": "stream",
          "name": "stderr",
          "text": [
            "\rtrain:  37%|███▋      | 173/462 [08:13<13:18,  2.76s/it]"
          ]
        },
        {
          "output_type": "stream",
          "name": "stdout",
          "text": [
            "\n",
            "Progress1\n",
            "\n",
            "Progress111\n",
            "torch.Size([4, 256, 10])\n",
            "y_predict.shape:  torch.Size([1024, 10])\n",
            "Progress222\n",
            "Progress2\n",
            "Progress3\n",
            "Progress4\n"
          ]
        },
        {
          "output_type": "stream",
          "name": "stderr",
          "text": [
            "\rtrain:  38%|███▊      | 174/462 [08:15<12:55,  2.69s/it]"
          ]
        },
        {
          "output_type": "stream",
          "name": "stdout",
          "text": [
            "\n",
            "Progress1\n",
            "\n",
            "Progress111\n",
            "torch.Size([4, 256, 10])\n",
            "y_predict.shape:  torch.Size([1024, 10])\n",
            "Progress222\n",
            "Progress2\n",
            "Progress3\n",
            "Progress4\n"
          ]
        },
        {
          "output_type": "stream",
          "name": "stderr",
          "text": [
            "\rtrain:  38%|███▊      | 175/462 [08:18<12:39,  2.65s/it]"
          ]
        },
        {
          "output_type": "stream",
          "name": "stdout",
          "text": [
            "\n",
            "Progress1\n",
            "\n",
            "Progress111\n",
            "torch.Size([4, 256, 10])\n",
            "y_predict.shape:  torch.Size([1024, 10])\n",
            "Progress222\n",
            "Progress2\n",
            "Progress3\n",
            "Progress4\n"
          ]
        },
        {
          "output_type": "stream",
          "name": "stderr",
          "text": [
            "\rtrain:  38%|███▊      | 176/462 [08:21<13:23,  2.81s/it]"
          ]
        },
        {
          "output_type": "stream",
          "name": "stdout",
          "text": [
            "\n",
            "Progress1\n",
            "\n",
            "Progress111\n",
            "torch.Size([4, 256, 10])\n",
            "y_predict.shape:  torch.Size([1024, 10])\n",
            "Progress222\n",
            "Progress2\n",
            "Progress3\n",
            "Progress4\n"
          ]
        },
        {
          "output_type": "stream",
          "name": "stderr",
          "text": [
            "\rtrain:  38%|███▊      | 177/462 [08:24<14:15,  3.00s/it]"
          ]
        },
        {
          "output_type": "stream",
          "name": "stdout",
          "text": [
            "\n",
            "Progress1\n",
            "\n",
            "Progress111\n",
            "torch.Size([4, 256, 10])\n",
            "y_predict.shape:  torch.Size([1024, 10])\n",
            "Progress222\n",
            "Progress2\n",
            "Progress3\n",
            "Progress4\n"
          ]
        },
        {
          "output_type": "stream",
          "name": "stderr",
          "text": [
            "\rtrain:  39%|███▊      | 178/462 [08:27<13:29,  2.85s/it]"
          ]
        },
        {
          "output_type": "stream",
          "name": "stdout",
          "text": [
            "\n",
            "Progress1\n",
            "\n",
            "Progress111\n",
            "torch.Size([4, 256, 10])\n",
            "y_predict.shape:  torch.Size([1024, 10])\n",
            "Progress222\n",
            "Progress2\n",
            "Progress3\n",
            "Progress4\n"
          ]
        },
        {
          "output_type": "stream",
          "name": "stderr",
          "text": [
            "\rtrain:  39%|███▊      | 179/462 [08:29<12:56,  2.74s/it]"
          ]
        },
        {
          "output_type": "stream",
          "name": "stdout",
          "text": [
            "\n",
            "Progress1\n",
            "\n",
            "Progress111\n",
            "torch.Size([4, 256, 10])\n",
            "y_predict.shape:  torch.Size([1024, 10])\n",
            "Progress222\n",
            "Progress2\n",
            "Progress3\n",
            "Progress4\n"
          ]
        },
        {
          "output_type": "stream",
          "name": "stderr",
          "text": [
            "\rtrain:  39%|███▉      | 180/462 [08:32<12:35,  2.68s/it]"
          ]
        },
        {
          "output_type": "stream",
          "name": "stdout",
          "text": [
            "\n",
            "Progress1\n",
            "\n",
            "Progress111\n",
            "torch.Size([4, 256, 10])\n",
            "y_predict.shape:  torch.Size([1024, 10])\n",
            "Progress222\n",
            "Progress2\n",
            "Progress3\n",
            "Progress4\n"
          ]
        },
        {
          "output_type": "stream",
          "name": "stderr",
          "text": [
            "\rtrain:  39%|███▉      | 181/462 [08:35<12:42,  2.71s/it]"
          ]
        },
        {
          "output_type": "stream",
          "name": "stdout",
          "text": [
            "\n",
            "Progress1\n",
            "\n",
            "Progress111\n",
            "torch.Size([4, 256, 10])\n",
            "y_predict.shape:  torch.Size([1024, 10])\n",
            "Progress222\n",
            "Progress2\n",
            "Progress3\n",
            "Progress4\n"
          ]
        },
        {
          "output_type": "stream",
          "name": "stderr",
          "text": [
            "\rtrain:  39%|███▉      | 182/462 [08:38<14:09,  3.03s/it]"
          ]
        },
        {
          "output_type": "stream",
          "name": "stdout",
          "text": [
            "\n",
            "Progress1\n",
            "\n",
            "Progress111\n",
            "torch.Size([4, 256, 10])\n",
            "y_predict.shape:  torch.Size([1024, 10])\n",
            "Progress222\n",
            "Progress2\n",
            "Progress3\n",
            "Progress4\n"
          ]
        },
        {
          "output_type": "stream",
          "name": "stderr",
          "text": [
            "\rtrain:  40%|███▉      | 183/462 [08:41<13:18,  2.86s/it]"
          ]
        },
        {
          "output_type": "stream",
          "name": "stdout",
          "text": [
            "\n",
            "Progress1\n",
            "\n",
            "Progress111\n",
            "torch.Size([4, 256, 10])\n",
            "y_predict.shape:  torch.Size([1024, 10])\n",
            "Progress222\n",
            "Progress2\n",
            "Progress3\n",
            "Progress4\n"
          ]
        },
        {
          "output_type": "stream",
          "name": "stderr",
          "text": [
            "\rtrain:  40%|███▉      | 184/462 [08:43<12:39,  2.73s/it]"
          ]
        },
        {
          "output_type": "stream",
          "name": "stdout",
          "text": [
            "\n",
            "Progress1\n",
            "\n",
            "Progress111\n",
            "torch.Size([4, 256, 10])\n",
            "y_predict.shape:  torch.Size([1024, 10])\n",
            "Progress222\n",
            "Progress2\n",
            "Progress3\n",
            "Progress4\n"
          ]
        },
        {
          "output_type": "stream",
          "name": "stderr",
          "text": [
            "\rtrain:  40%|████      | 185/462 [08:46<12:18,  2.67s/it]"
          ]
        },
        {
          "output_type": "stream",
          "name": "stdout",
          "text": [
            "\n",
            "Progress1\n",
            "\n",
            "Progress111\n",
            "torch.Size([4, 256, 10])\n",
            "y_predict.shape:  torch.Size([1024, 10])\n",
            "Progress222\n",
            "Progress2\n",
            "Progress3\n",
            "Progress4\n"
          ]
        },
        {
          "output_type": "stream",
          "name": "stderr",
          "text": [
            "\rtrain:  40%|████      | 186/462 [08:48<12:16,  2.67s/it]"
          ]
        },
        {
          "output_type": "stream",
          "name": "stdout",
          "text": [
            "\n",
            "Progress1\n",
            "\n",
            "Progress111\n",
            "torch.Size([4, 256, 10])\n",
            "y_predict.shape:  torch.Size([1024, 10])\n",
            "Progress222\n",
            "Progress2\n",
            "Progress3\n",
            "Progress4\n"
          ]
        },
        {
          "output_type": "stream",
          "name": "stderr",
          "text": [
            "\rtrain:  40%|████      | 187/462 [08:52<13:58,  3.05s/it]"
          ]
        },
        {
          "output_type": "stream",
          "name": "stdout",
          "text": [
            "\n",
            "Progress1\n",
            "\n",
            "Progress111\n",
            "torch.Size([4, 256, 10])\n",
            "y_predict.shape:  torch.Size([1024, 10])\n",
            "Progress222\n",
            "Progress2\n",
            "Progress3\n",
            "Progress4\n"
          ]
        },
        {
          "output_type": "stream",
          "name": "stderr",
          "text": [
            "\rtrain:  41%|████      | 188/462 [08:55<13:08,  2.88s/it]"
          ]
        },
        {
          "output_type": "stream",
          "name": "stdout",
          "text": [
            "\n",
            "Progress1\n",
            "\n",
            "Progress111\n",
            "torch.Size([4, 256, 10])\n",
            "y_predict.shape:  torch.Size([1024, 10])\n",
            "Progress222\n",
            "Progress2\n",
            "Progress3\n",
            "Progress4\n"
          ]
        },
        {
          "output_type": "stream",
          "name": "stderr",
          "text": [
            "\rtrain:  41%|████      | 189/462 [08:57<12:32,  2.76s/it]"
          ]
        },
        {
          "output_type": "stream",
          "name": "stdout",
          "text": [
            "\n",
            "Progress1\n",
            "\n",
            "Progress111\n",
            "torch.Size([4, 256, 10])\n",
            "y_predict.shape:  torch.Size([1024, 10])\n",
            "Progress222\n",
            "Progress2\n",
            "Progress3\n",
            "Progress4\n"
          ]
        },
        {
          "output_type": "stream",
          "name": "stderr",
          "text": [
            "\rtrain:  41%|████      | 190/462 [09:00<12:12,  2.69s/it]"
          ]
        },
        {
          "output_type": "stream",
          "name": "stdout",
          "text": [
            "\n",
            "Progress1\n",
            "\n",
            "Progress111\n",
            "torch.Size([4, 256, 10])\n",
            "y_predict.shape:  torch.Size([1024, 10])\n",
            "Progress222\n",
            "Progress2\n",
            "Progress3\n",
            "Progress4\n"
          ]
        },
        {
          "output_type": "stream",
          "name": "stderr",
          "text": [
            "\rtrain:  41%|████▏     | 191/462 [09:03<12:02,  2.67s/it]"
          ]
        },
        {
          "output_type": "stream",
          "name": "stdout",
          "text": [
            "\n",
            "Progress1\n",
            "\n",
            "Progress111\n",
            "torch.Size([4, 256, 10])\n",
            "y_predict.shape:  torch.Size([1024, 10])\n",
            "Progress222\n",
            "Progress2\n",
            "Progress3\n",
            "Progress4\n"
          ]
        },
        {
          "output_type": "stream",
          "name": "stderr",
          "text": [
            "\rtrain:  42%|████▏     | 192/462 [09:06<12:41,  2.82s/it]"
          ]
        },
        {
          "output_type": "stream",
          "name": "stdout",
          "text": [
            "\n",
            "Progress1\n",
            "\n",
            "Progress111\n",
            "torch.Size([4, 256, 10])\n",
            "y_predict.shape:  torch.Size([1024, 10])\n",
            "Progress222\n",
            "Progress2\n",
            "Progress3\n",
            "Progress4\n"
          ]
        },
        {
          "output_type": "stream",
          "name": "stderr",
          "text": [
            "\rtrain:  42%|████▏     | 193/462 [09:09<13:16,  2.96s/it]"
          ]
        },
        {
          "output_type": "stream",
          "name": "stdout",
          "text": [
            "\n",
            "Progress1\n",
            "\n",
            "Progress111\n",
            "torch.Size([4, 256, 10])\n",
            "y_predict.shape:  torch.Size([1024, 10])\n",
            "Progress222\n",
            "Progress2\n",
            "Progress3\n",
            "Progress4\n"
          ]
        },
        {
          "output_type": "stream",
          "name": "stderr",
          "text": [
            "\rtrain:  42%|████▏     | 194/462 [09:11<12:34,  2.81s/it]"
          ]
        },
        {
          "output_type": "stream",
          "name": "stdout",
          "text": [
            "\n",
            "Progress1\n",
            "\n",
            "Progress111\n",
            "torch.Size([4, 256, 10])\n",
            "y_predict.shape:  torch.Size([1024, 10])\n",
            "Progress222\n",
            "Progress2\n",
            "Progress3\n",
            "Progress4\n"
          ]
        },
        {
          "output_type": "stream",
          "name": "stderr",
          "text": [
            "\rtrain:  42%|████▏     | 195/462 [09:14<12:07,  2.72s/it]"
          ]
        },
        {
          "output_type": "stream",
          "name": "stdout",
          "text": [
            "\n",
            "Progress1\n",
            "\n",
            "Progress111\n",
            "torch.Size([4, 256, 10])\n",
            "y_predict.shape:  torch.Size([1024, 10])\n",
            "Progress222\n",
            "Progress2\n",
            "Progress3\n",
            "Progress4\n"
          ]
        },
        {
          "output_type": "stream",
          "name": "stderr",
          "text": [
            "\rtrain:  42%|████▏     | 196/462 [09:17<11:48,  2.66s/it]"
          ]
        },
        {
          "output_type": "stream",
          "name": "stdout",
          "text": [
            "\n",
            "Progress1\n",
            "\n",
            "Progress111\n",
            "torch.Size([4, 256, 10])\n",
            "y_predict.shape:  torch.Size([1024, 10])\n",
            "Progress222\n",
            "Progress2\n",
            "Progress3\n",
            "Progress4\n"
          ]
        },
        {
          "output_type": "stream",
          "name": "stderr",
          "text": [
            "\rtrain:  43%|████▎     | 197/462 [09:19<12:00,  2.72s/it]"
          ]
        },
        {
          "output_type": "stream",
          "name": "stdout",
          "text": [
            "\n",
            "Progress1\n",
            "\n",
            "Progress111\n",
            "torch.Size([4, 256, 10])\n",
            "y_predict.shape:  torch.Size([1024, 10])\n",
            "Progress222\n",
            "Progress2\n",
            "Progress3\n",
            "Progress4\n"
          ]
        },
        {
          "output_type": "stream",
          "name": "stderr",
          "text": [
            "\rtrain:  43%|████▎     | 198/462 [09:23<12:36,  2.87s/it]"
          ]
        },
        {
          "output_type": "stream",
          "name": "stdout",
          "text": [
            "\n",
            "Progress1\n",
            "\n",
            "Progress111\n",
            "torch.Size([4, 256, 10])\n",
            "y_predict.shape:  torch.Size([1024, 10])\n",
            "Progress222\n",
            "Progress2\n",
            "Progress3\n",
            "Progress4\n"
          ]
        },
        {
          "output_type": "stream",
          "name": "stderr",
          "text": [
            "\rtrain:  43%|████▎     | 199/462 [09:26<12:43,  2.90s/it]"
          ]
        },
        {
          "output_type": "stream",
          "name": "stdout",
          "text": [
            "\n",
            "Progress1\n",
            "\n",
            "Progress111\n",
            "torch.Size([4, 256, 10])\n",
            "y_predict.shape:  torch.Size([1024, 10])\n",
            "Progress222\n",
            "Progress2\n",
            "Progress3\n",
            "Progress4\n"
          ]
        },
        {
          "output_type": "stream",
          "name": "stderr",
          "text": [
            "\rtrain:  43%|████▎     | 200/462 [09:28<12:10,  2.79s/it]"
          ]
        },
        {
          "output_type": "stream",
          "name": "stdout",
          "text": [
            "\n",
            "Progress1\n",
            "\n",
            "Progress111\n",
            "torch.Size([4, 256, 10])\n",
            "y_predict.shape:  torch.Size([1024, 10])\n",
            "Progress222\n",
            "Progress2\n",
            "Progress3\n",
            "Progress4\n"
          ]
        },
        {
          "output_type": "stream",
          "name": "stderr",
          "text": [
            "\rtrain:  44%|████▎     | 201/462 [09:31<11:45,  2.70s/it]"
          ]
        },
        {
          "output_type": "stream",
          "name": "stdout",
          "text": [
            "\n",
            "Progress1\n",
            "\n",
            "Progress111\n",
            "torch.Size([4, 256, 10])\n",
            "y_predict.shape:  torch.Size([1024, 10])\n",
            "Progress222\n",
            "Progress2\n",
            "Progress3\n",
            "Progress4\n"
          ]
        },
        {
          "output_type": "stream",
          "name": "stderr",
          "text": [
            "\rtrain:  44%|████▎     | 202/462 [09:33<11:28,  2.65s/it]"
          ]
        },
        {
          "output_type": "stream",
          "name": "stdout",
          "text": [
            "\n",
            "Progress1\n",
            "\n",
            "Progress111\n",
            "torch.Size([4, 256, 10])\n",
            "y_predict.shape:  torch.Size([1024, 10])\n",
            "Progress222\n",
            "Progress2\n",
            "Progress3\n",
            "Progress4\n"
          ]
        },
        {
          "output_type": "stream",
          "name": "stderr",
          "text": [
            "\rtrain:  44%|████▍     | 203/462 [09:37<12:37,  2.92s/it]"
          ]
        },
        {
          "output_type": "stream",
          "name": "stdout",
          "text": [
            "\n",
            "Progress1\n",
            "\n",
            "Progress111\n",
            "torch.Size([4, 256, 10])\n",
            "y_predict.shape:  torch.Size([1024, 10])\n",
            "Progress222\n",
            "Progress2\n",
            "Progress3\n",
            "Progress4\n"
          ]
        },
        {
          "output_type": "stream",
          "name": "stderr",
          "text": [
            "\rtrain:  44%|████▍     | 204/462 [09:40<12:43,  2.96s/it]"
          ]
        },
        {
          "output_type": "stream",
          "name": "stdout",
          "text": [
            "\n",
            "Progress1\n",
            "\n",
            "Progress111\n",
            "torch.Size([4, 256, 10])\n",
            "y_predict.shape:  torch.Size([1024, 10])\n",
            "Progress222\n",
            "Progress2\n",
            "Progress3\n",
            "Progress4\n"
          ]
        },
        {
          "output_type": "stream",
          "name": "stderr",
          "text": [
            "\rtrain:  44%|████▍     | 205/462 [09:42<12:06,  2.83s/it]"
          ]
        },
        {
          "output_type": "stream",
          "name": "stdout",
          "text": [
            "\n",
            "Progress1\n",
            "\n",
            "Progress111\n",
            "torch.Size([4, 256, 10])\n",
            "y_predict.shape:  torch.Size([1024, 10])\n",
            "Progress222\n",
            "Progress2\n",
            "Progress3\n",
            "Progress4\n"
          ]
        },
        {
          "output_type": "stream",
          "name": "stderr",
          "text": [
            "\rtrain:  45%|████▍     | 206/462 [09:45<11:35,  2.72s/it]"
          ]
        },
        {
          "output_type": "stream",
          "name": "stdout",
          "text": [
            "\n",
            "Progress1\n",
            "\n",
            "Progress111\n",
            "torch.Size([4, 256, 10])\n",
            "y_predict.shape:  torch.Size([1024, 10])\n",
            "Progress222\n",
            "Progress2\n",
            "Progress3\n",
            "Progress4\n"
          ]
        },
        {
          "output_type": "stream",
          "name": "stderr",
          "text": [
            "\rtrain:  45%|████▍     | 207/462 [09:47<11:12,  2.64s/it]"
          ]
        },
        {
          "output_type": "stream",
          "name": "stdout",
          "text": [
            "\n",
            "Progress1\n",
            "\n",
            "Progress111\n",
            "torch.Size([4, 256, 10])\n",
            "y_predict.shape:  torch.Size([1024, 10])\n",
            "Progress222\n",
            "Progress2\n",
            "Progress3\n",
            "Progress4\n"
          ]
        },
        {
          "output_type": "stream",
          "name": "stderr",
          "text": [
            "\rtrain:  45%|████▌     | 208/462 [09:50<10:53,  2.57s/it]"
          ]
        },
        {
          "output_type": "stream",
          "name": "stdout",
          "text": [
            "\n",
            "Progress1\n",
            "\n",
            "Progress111\n",
            "torch.Size([4, 256, 10])\n",
            "y_predict.shape:  torch.Size([1024, 10])\n",
            "Progress222\n",
            "Progress2\n",
            "Progress3\n",
            "Progress4\n"
          ]
        },
        {
          "output_type": "stream",
          "name": "stderr",
          "text": [
            "\rtrain:  45%|████▌     | 209/462 [09:53<11:30,  2.73s/it]"
          ]
        },
        {
          "output_type": "stream",
          "name": "stdout",
          "text": [
            "\n",
            "Progress1\n",
            "\n",
            "Progress111\n",
            "torch.Size([4, 256, 10])\n",
            "y_predict.shape:  torch.Size([1024, 10])\n",
            "Progress222\n",
            "Progress2\n",
            "Progress3\n",
            "Progress4\n"
          ]
        },
        {
          "output_type": "stream",
          "name": "stderr",
          "text": [
            "\rtrain:  45%|████▌     | 210/462 [09:56<12:06,  2.88s/it]"
          ]
        },
        {
          "output_type": "stream",
          "name": "stdout",
          "text": [
            "\n",
            "Progress1\n",
            "\n",
            "Progress111\n",
            "torch.Size([4, 256, 10])\n",
            "y_predict.shape:  torch.Size([1024, 10])\n",
            "Progress222\n",
            "Progress2\n",
            "Progress3\n",
            "Progress4\n"
          ]
        },
        {
          "output_type": "stream",
          "name": "stderr",
          "text": [
            "\rtrain:  46%|████▌     | 211/462 [09:59<11:53,  2.84s/it]"
          ]
        },
        {
          "output_type": "stream",
          "name": "stdout",
          "text": [
            "\n",
            "Progress1\n",
            "\n",
            "Progress111\n",
            "torch.Size([4, 256, 10])\n",
            "y_predict.shape:  torch.Size([1024, 10])\n",
            "Progress222\n",
            "Progress2\n",
            "Progress3\n",
            "Progress4\n"
          ]
        },
        {
          "output_type": "stream",
          "name": "stderr",
          "text": [
            "\rtrain:  46%|████▌     | 212/462 [10:01<11:24,  2.74s/it]"
          ]
        },
        {
          "output_type": "stream",
          "name": "stdout",
          "text": [
            "\n",
            "Progress1\n",
            "\n",
            "Progress111\n",
            "torch.Size([4, 256, 10])\n",
            "y_predict.shape:  torch.Size([1024, 10])\n",
            "Progress222\n",
            "Progress2\n",
            "Progress3\n",
            "Progress4\n"
          ]
        },
        {
          "output_type": "stream",
          "name": "stderr",
          "text": [
            "\rtrain:  46%|████▌     | 213/462 [10:04<10:56,  2.64s/it]"
          ]
        },
        {
          "output_type": "stream",
          "name": "stdout",
          "text": [
            "\n",
            "Progress1\n",
            "\n",
            "Progress111\n",
            "torch.Size([4, 256, 10])\n",
            "y_predict.shape:  torch.Size([1024, 10])\n",
            "Progress222\n",
            "Progress2\n",
            "Progress3\n",
            "Progress4\n"
          ]
        },
        {
          "output_type": "stream",
          "name": "stderr",
          "text": [
            "\rtrain:  46%|████▋     | 214/462 [10:06<10:39,  2.58s/it]"
          ]
        },
        {
          "output_type": "stream",
          "name": "stdout",
          "text": [
            "\n",
            "Progress1\n",
            "\n",
            "Progress111\n",
            "torch.Size([4, 256, 10])\n",
            "y_predict.shape:  torch.Size([1024, 10])\n",
            "Progress222\n",
            "Progress2\n",
            "Progress3\n",
            "Progress4\n"
          ]
        },
        {
          "output_type": "stream",
          "name": "stderr",
          "text": [
            "\rtrain:  47%|████▋     | 215/462 [10:09<11:43,  2.85s/it]"
          ]
        },
        {
          "output_type": "stream",
          "name": "stdout",
          "text": [
            "\n",
            "Progress1\n",
            "\n",
            "Progress111\n",
            "torch.Size([4, 256, 10])\n",
            "y_predict.shape:  torch.Size([1024, 10])\n",
            "Progress222\n",
            "Progress2\n",
            "Progress3\n",
            "Progress4\n"
          ]
        },
        {
          "output_type": "stream",
          "name": "stderr",
          "text": [
            "\rtrain:  47%|████▋     | 216/462 [10:13<12:05,  2.95s/it]"
          ]
        },
        {
          "output_type": "stream",
          "name": "stdout",
          "text": [
            "\n",
            "Progress1\n",
            "\n",
            "Progress111\n",
            "torch.Size([4, 256, 10])\n",
            "y_predict.shape:  torch.Size([1024, 10])\n",
            "Progress222\n",
            "Progress2\n",
            "Progress3\n",
            "Progress4\n"
          ]
        },
        {
          "output_type": "stream",
          "name": "stderr",
          "text": [
            "\rtrain:  47%|████▋     | 217/462 [10:15<11:30,  2.82s/it]"
          ]
        },
        {
          "output_type": "stream",
          "name": "stdout",
          "text": [
            "\n",
            "Progress1\n",
            "\n",
            "Progress111\n",
            "torch.Size([4, 256, 10])\n",
            "y_predict.shape:  torch.Size([1024, 10])\n",
            "Progress222\n",
            "Progress2\n",
            "Progress3\n",
            "Progress4\n"
          ]
        },
        {
          "output_type": "stream",
          "name": "stderr",
          "text": [
            "\rtrain:  47%|████▋     | 218/462 [10:18<11:04,  2.72s/it]"
          ]
        },
        {
          "output_type": "stream",
          "name": "stdout",
          "text": [
            "\n",
            "Progress1\n",
            "\n",
            "Progress111\n",
            "torch.Size([4, 256, 10])\n",
            "y_predict.shape:  torch.Size([1024, 10])\n",
            "Progress222\n",
            "Progress2\n",
            "Progress3\n",
            "Progress4\n"
          ]
        },
        {
          "output_type": "stream",
          "name": "stderr",
          "text": [
            "\rtrain:  47%|████▋     | 219/462 [10:20<10:42,  2.64s/it]"
          ]
        },
        {
          "output_type": "stream",
          "name": "stdout",
          "text": [
            "\n",
            "Progress1\n",
            "\n",
            "Progress111\n",
            "torch.Size([4, 256, 10])\n",
            "y_predict.shape:  torch.Size([1024, 10])\n",
            "Progress222\n",
            "Progress2\n",
            "Progress3\n",
            "Progress4\n"
          ]
        },
        {
          "output_type": "stream",
          "name": "stderr",
          "text": [
            "\rtrain:  48%|████▊     | 220/462 [10:23<11:03,  2.74s/it]"
          ]
        },
        {
          "output_type": "stream",
          "name": "stdout",
          "text": [
            "\n",
            "Progress1\n",
            "\n",
            "Progress111\n",
            "torch.Size([4, 256, 10])\n",
            "y_predict.shape:  torch.Size([1024, 10])\n",
            "Progress222\n",
            "Progress2\n",
            "Progress3\n",
            "Progress4\n"
          ]
        },
        {
          "output_type": "stream",
          "name": "stderr",
          "text": [
            "\rtrain:  48%|████▊     | 221/462 [10:27<12:06,  3.02s/it]"
          ]
        },
        {
          "output_type": "stream",
          "name": "stdout",
          "text": [
            "\n",
            "Progress1\n",
            "\n",
            "Progress111\n",
            "torch.Size([4, 256, 10])\n",
            "y_predict.shape:  torch.Size([1024, 10])\n",
            "Progress222\n",
            "Progress2\n",
            "Progress3\n",
            "Progress4\n"
          ]
        },
        {
          "output_type": "stream",
          "name": "stderr",
          "text": [
            "\rtrain:  48%|████▊     | 222/462 [10:29<11:28,  2.87s/it]"
          ]
        },
        {
          "output_type": "stream",
          "name": "stdout",
          "text": [
            "\n",
            "Progress1\n",
            "\n",
            "Progress111\n",
            "torch.Size([4, 256, 10])\n",
            "y_predict.shape:  torch.Size([1024, 10])\n",
            "Progress222\n",
            "Progress2\n",
            "Progress3\n",
            "Progress4\n"
          ]
        },
        {
          "output_type": "stream",
          "name": "stderr",
          "text": [
            "\rtrain:  48%|████▊     | 223/462 [10:32<10:56,  2.75s/it]"
          ]
        },
        {
          "output_type": "stream",
          "name": "stdout",
          "text": [
            "\n",
            "Progress1\n",
            "\n",
            "Progress111\n",
            "torch.Size([4, 256, 10])\n",
            "y_predict.shape:  torch.Size([1024, 10])\n",
            "Progress222\n",
            "Progress2\n",
            "Progress3\n",
            "Progress4\n"
          ]
        },
        {
          "output_type": "stream",
          "name": "stderr",
          "text": [
            "\rtrain:  48%|████▊     | 224/462 [10:34<10:32,  2.66s/it]"
          ]
        },
        {
          "output_type": "stream",
          "name": "stdout",
          "text": [
            "\n",
            "Progress1\n",
            "\n",
            "Progress111\n",
            "torch.Size([4, 256, 10])\n",
            "y_predict.shape:  torch.Size([1024, 10])\n",
            "Progress222\n",
            "Progress2\n",
            "Progress3\n",
            "Progress4\n"
          ]
        },
        {
          "output_type": "stream",
          "name": "stderr",
          "text": [
            "\rtrain:  49%|████▊     | 225/462 [10:37<10:17,  2.60s/it]"
          ]
        },
        {
          "output_type": "stream",
          "name": "stdout",
          "text": [
            "\n",
            "Progress1\n",
            "\n",
            "Progress111\n",
            "torch.Size([4, 256, 10])\n",
            "y_predict.shape:  torch.Size([1024, 10])\n",
            "Progress222\n",
            "Progress2\n",
            "Progress3\n",
            "Progress4\n"
          ]
        },
        {
          "output_type": "stream",
          "name": "stderr",
          "text": [
            "\rtrain:  49%|████▉     | 226/462 [10:40<11:08,  2.83s/it]"
          ]
        },
        {
          "output_type": "stream",
          "name": "stdout",
          "text": [
            "\n",
            "Progress1\n",
            "\n",
            "Progress111\n",
            "torch.Size([4, 256, 10])\n",
            "y_predict.shape:  torch.Size([1024, 10])\n",
            "Progress222\n",
            "Progress2\n",
            "Progress3\n",
            "Progress4\n"
          ]
        },
        {
          "output_type": "stream",
          "name": "stderr",
          "text": [
            "\rtrain:  49%|████▉     | 227/462 [10:43<11:32,  2.94s/it]"
          ]
        },
        {
          "output_type": "stream",
          "name": "stdout",
          "text": [
            "\n",
            "Progress1\n",
            "\n",
            "Progress111\n",
            "torch.Size([4, 256, 10])\n",
            "y_predict.shape:  torch.Size([1024, 10])\n",
            "Progress222\n",
            "Progress2\n",
            "Progress3\n",
            "Progress4\n"
          ]
        },
        {
          "output_type": "stream",
          "name": "stderr",
          "text": [
            "\rtrain:  49%|████▉     | 228/462 [10:46<10:52,  2.79s/it]"
          ]
        },
        {
          "output_type": "stream",
          "name": "stdout",
          "text": [
            "\n",
            "Progress1\n",
            "\n",
            "Progress111\n",
            "torch.Size([4, 256, 10])\n",
            "y_predict.shape:  torch.Size([1024, 10])\n",
            "Progress222\n",
            "Progress2\n",
            "Progress3\n",
            "Progress4\n"
          ]
        },
        {
          "output_type": "stream",
          "name": "stderr",
          "text": [
            "\rtrain:  50%|████▉     | 229/462 [10:48<10:30,  2.71s/it]"
          ]
        },
        {
          "output_type": "stream",
          "name": "stdout",
          "text": [
            "\n",
            "Progress1\n",
            "\n",
            "Progress111\n",
            "torch.Size([4, 256, 10])\n",
            "y_predict.shape:  torch.Size([1024, 10])\n",
            "Progress222\n",
            "Progress2\n",
            "Progress3\n",
            "Progress4\n"
          ]
        },
        {
          "output_type": "stream",
          "name": "stderr",
          "text": [
            "\rtrain:  50%|████▉     | 230/462 [10:51<10:13,  2.65s/it]"
          ]
        },
        {
          "output_type": "stream",
          "name": "stdout",
          "text": [
            "\n",
            "Progress1\n",
            "\n",
            "Progress111\n",
            "torch.Size([4, 256, 10])\n",
            "y_predict.shape:  torch.Size([1024, 10])\n",
            "Progress222\n",
            "Progress2\n",
            "Progress3\n",
            "Progress4\n"
          ]
        },
        {
          "output_type": "stream",
          "name": "stderr",
          "text": [
            "\rtrain:  50%|█████     | 231/462 [10:53<10:17,  2.67s/it]"
          ]
        },
        {
          "output_type": "stream",
          "name": "stdout",
          "text": [
            "\n",
            "Progress1\n",
            "\n",
            "Progress111\n",
            "torch.Size([4, 256, 10])\n",
            "y_predict.shape:  torch.Size([1024, 10])\n",
            "Progress222\n",
            "Progress2\n",
            "Progress3\n",
            "Progress4\n"
          ]
        },
        {
          "output_type": "stream",
          "name": "stderr",
          "text": [
            "\rtrain:  50%|█████     | 232/462 [10:57<10:55,  2.85s/it]"
          ]
        },
        {
          "output_type": "stream",
          "name": "stdout",
          "text": [
            "\n",
            "Progress1\n",
            "\n",
            "Progress111\n",
            "torch.Size([4, 256, 10])\n",
            "y_predict.shape:  torch.Size([1024, 10])\n",
            "Progress222\n",
            "Progress2\n",
            "Progress3\n",
            "Progress4\n"
          ]
        },
        {
          "output_type": "stream",
          "name": "stderr",
          "text": [
            "\rtrain:  50%|█████     | 233/462 [11:00<11:12,  2.94s/it]"
          ]
        },
        {
          "output_type": "stream",
          "name": "stdout",
          "text": [
            "\n",
            "Progress1\n",
            "\n",
            "Progress111\n",
            "torch.Size([4, 256, 10])\n",
            "y_predict.shape:  torch.Size([1024, 10])\n",
            "Progress222\n",
            "Progress2\n",
            "Progress3\n",
            "Progress4\n"
          ]
        },
        {
          "output_type": "stream",
          "name": "stderr",
          "text": [
            "\rtrain:  51%|█████     | 234/462 [11:02<10:39,  2.80s/it]"
          ]
        },
        {
          "output_type": "stream",
          "name": "stdout",
          "text": [
            "\n",
            "Progress1\n",
            "\n",
            "Progress111\n",
            "torch.Size([4, 256, 10])\n",
            "y_predict.shape:  torch.Size([1024, 10])\n",
            "Progress222\n",
            "Progress2\n",
            "Progress3\n",
            "Progress4\n"
          ]
        },
        {
          "output_type": "stream",
          "name": "stderr",
          "text": [
            "\rtrain:  51%|█████     | 235/462 [11:05<10:16,  2.72s/it]"
          ]
        },
        {
          "output_type": "stream",
          "name": "stdout",
          "text": [
            "\n",
            "Progress1\n",
            "\n",
            "Progress111\n",
            "torch.Size([4, 256, 10])\n",
            "y_predict.shape:  torch.Size([1024, 10])\n",
            "Progress222\n",
            "Progress2\n",
            "Progress3\n",
            "Progress4\n"
          ]
        },
        {
          "output_type": "stream",
          "name": "stderr",
          "text": [
            "\rtrain:  51%|█████     | 236/462 [11:07<09:59,  2.65s/it]"
          ]
        },
        {
          "output_type": "stream",
          "name": "stdout",
          "text": [
            "\n",
            "Progress1\n",
            "\n",
            "Progress111\n",
            "torch.Size([4, 256, 10])\n",
            "y_predict.shape:  torch.Size([1024, 10])\n",
            "Progress222\n",
            "Progress2\n",
            "Progress3\n",
            "Progress4\n"
          ]
        },
        {
          "output_type": "stream",
          "name": "stderr",
          "text": [
            "\rtrain:  51%|█████▏    | 237/462 [11:10<09:48,  2.61s/it]"
          ]
        },
        {
          "output_type": "stream",
          "name": "stdout",
          "text": [
            "\n",
            "Progress1\n",
            "\n",
            "Progress111\n",
            "torch.Size([4, 256, 10])\n",
            "y_predict.shape:  torch.Size([1024, 10])\n",
            "Progress222\n",
            "Progress2\n",
            "Progress3\n",
            "Progress4\n"
          ]
        },
        {
          "output_type": "stream",
          "name": "stderr",
          "text": [
            "\rtrain:  52%|█████▏    | 238/462 [11:13<10:16,  2.75s/it]"
          ]
        },
        {
          "output_type": "stream",
          "name": "stdout",
          "text": [
            "\n",
            "Progress1\n",
            "\n",
            "Progress111\n",
            "torch.Size([4, 256, 10])\n",
            "y_predict.shape:  torch.Size([1024, 10])\n",
            "Progress222\n",
            "Progress2\n",
            "Progress3\n",
            "Progress4\n"
          ]
        },
        {
          "output_type": "stream",
          "name": "stderr",
          "text": [
            "\rtrain:  52%|█████▏    | 239/462 [11:16<11:04,  2.98s/it]"
          ]
        },
        {
          "output_type": "stream",
          "name": "stdout",
          "text": [
            "\n",
            "Progress1\n",
            "\n",
            "Progress111\n",
            "torch.Size([4, 256, 10])\n",
            "y_predict.shape:  torch.Size([1024, 10])\n",
            "Progress222\n",
            "Progress2\n",
            "Progress3\n",
            "Progress4\n"
          ]
        },
        {
          "output_type": "stream",
          "name": "stderr",
          "text": [
            "\rtrain:  52%|█████▏    | 240/462 [11:19<10:32,  2.85s/it]"
          ]
        },
        {
          "output_type": "stream",
          "name": "stdout",
          "text": [
            "\n",
            "Progress1\n",
            "\n",
            "Progress111\n",
            "torch.Size([4, 256, 10])\n",
            "y_predict.shape:  torch.Size([1024, 10])\n",
            "Progress222\n",
            "Progress2\n",
            "Progress3\n",
            "Progress4\n"
          ]
        },
        {
          "output_type": "stream",
          "name": "stderr",
          "text": [
            "\rtrain:  52%|█████▏    | 241/462 [11:21<10:04,  2.73s/it]"
          ]
        },
        {
          "output_type": "stream",
          "name": "stdout",
          "text": [
            "\n",
            "Progress1\n",
            "\n",
            "Progress111\n",
            "torch.Size([4, 256, 10])\n",
            "y_predict.shape:  torch.Size([1024, 10])\n",
            "Progress222\n",
            "Progress2\n",
            "Progress3\n",
            "Progress4\n"
          ]
        },
        {
          "output_type": "stream",
          "name": "stderr",
          "text": [
            "\rtrain:  52%|█████▏    | 242/462 [11:24<09:44,  2.66s/it]"
          ]
        },
        {
          "output_type": "stream",
          "name": "stdout",
          "text": [
            "\n",
            "Progress1\n",
            "\n",
            "Progress111\n",
            "torch.Size([4, 256, 10])\n",
            "y_predict.shape:  torch.Size([1024, 10])\n",
            "Progress222\n",
            "Progress2\n",
            "Progress3\n",
            "Progress4\n"
          ]
        },
        {
          "output_type": "stream",
          "name": "stderr",
          "text": [
            "\rtrain:  53%|█████▎    | 243/462 [11:27<09:45,  2.68s/it]"
          ]
        },
        {
          "output_type": "stream",
          "name": "stdout",
          "text": [
            "\n",
            "Progress1\n",
            "\n",
            "Progress111\n",
            "torch.Size([4, 256, 10])\n",
            "y_predict.shape:  torch.Size([1024, 10])\n",
            "Progress222\n",
            "Progress2\n",
            "Progress3\n",
            "Progress4\n"
          ]
        },
        {
          "output_type": "stream",
          "name": "stderr",
          "text": [
            "\rtrain:  53%|█████▎    | 244/462 [11:30<10:11,  2.80s/it]"
          ]
        },
        {
          "output_type": "stream",
          "name": "stdout",
          "text": [
            "\n",
            "Progress1\n",
            "\n",
            "Progress111\n",
            "torch.Size([4, 256, 10])\n",
            "y_predict.shape:  torch.Size([1024, 10])\n",
            "Progress222\n",
            "Progress2\n",
            "Progress3\n",
            "Progress4\n"
          ]
        },
        {
          "output_type": "stream",
          "name": "stderr",
          "text": [
            "\rtrain:  53%|█████▎    | 245/462 [11:33<10:44,  2.97s/it]"
          ]
        },
        {
          "output_type": "stream",
          "name": "stdout",
          "text": [
            "\n",
            "Progress1\n",
            "\n",
            "Progress111\n",
            "torch.Size([4, 256, 10])\n",
            "y_predict.shape:  torch.Size([1024, 10])\n",
            "Progress222\n",
            "Progress2\n",
            "Progress3\n",
            "Progress4\n"
          ]
        },
        {
          "output_type": "stream",
          "name": "stderr",
          "text": [
            "\rtrain:  53%|█████▎    | 246/462 [11:36<10:06,  2.81s/it]"
          ]
        },
        {
          "output_type": "stream",
          "name": "stdout",
          "text": [
            "\n",
            "Progress1\n",
            "\n",
            "Progress111\n",
            "torch.Size([4, 256, 10])\n",
            "y_predict.shape:  torch.Size([1024, 10])\n",
            "Progress222\n",
            "Progress2\n",
            "Progress3\n",
            "Progress4\n"
          ]
        },
        {
          "output_type": "stream",
          "name": "stderr",
          "text": [
            "\rtrain:  53%|█████▎    | 247/462 [11:38<09:43,  2.71s/it]"
          ]
        },
        {
          "output_type": "stream",
          "name": "stdout",
          "text": [
            "\n",
            "Progress1\n",
            "\n",
            "Progress111\n",
            "torch.Size([4, 256, 10])\n",
            "y_predict.shape:  torch.Size([1024, 10])\n",
            "Progress222\n",
            "Progress2\n",
            "Progress3\n",
            "Progress4\n"
          ]
        },
        {
          "output_type": "stream",
          "name": "stderr",
          "text": [
            "\rtrain:  54%|█████▎    | 248/462 [11:40<09:23,  2.64s/it]"
          ]
        },
        {
          "output_type": "stream",
          "name": "stdout",
          "text": [
            "\n",
            "Progress1\n",
            "\n",
            "Progress111\n",
            "torch.Size([4, 256, 10])\n",
            "y_predict.shape:  torch.Size([1024, 10])\n",
            "Progress222\n",
            "Progress2\n",
            "Progress3\n",
            "Progress4\n"
          ]
        },
        {
          "output_type": "stream",
          "name": "stderr",
          "text": [
            "\rtrain:  54%|█████▍    | 249/462 [11:43<09:27,  2.66s/it]"
          ]
        },
        {
          "output_type": "stream",
          "name": "stdout",
          "text": [
            "\n",
            "Progress1\n",
            "\n",
            "Progress111\n",
            "torch.Size([4, 256, 10])\n",
            "y_predict.shape:  torch.Size([1024, 10])\n",
            "Progress222\n",
            "Progress2\n",
            "Progress3\n",
            "Progress4\n"
          ]
        },
        {
          "output_type": "stream",
          "name": "stderr",
          "text": [
            "\rtrain:  54%|█████▍    | 250/462 [11:47<10:41,  3.02s/it]"
          ]
        },
        {
          "output_type": "stream",
          "name": "stdout",
          "text": [
            "\n",
            "Progress1\n",
            "\n",
            "Progress111\n",
            "torch.Size([4, 256, 10])\n",
            "y_predict.shape:  torch.Size([1024, 10])\n",
            "Progress222\n",
            "Progress2\n",
            "Progress3\n",
            "Progress4\n"
          ]
        },
        {
          "output_type": "stream",
          "name": "stderr",
          "text": [
            "\rtrain:  54%|█████▍    | 251/462 [11:50<10:04,  2.86s/it]"
          ]
        },
        {
          "output_type": "stream",
          "name": "stdout",
          "text": [
            "\n",
            "Progress1\n",
            "\n",
            "Progress111\n",
            "torch.Size([4, 256, 10])\n",
            "y_predict.shape:  torch.Size([1024, 10])\n",
            "Progress222\n",
            "Progress2\n",
            "Progress3\n",
            "Progress4\n"
          ]
        },
        {
          "output_type": "stream",
          "name": "stderr",
          "text": [
            "\rtrain:  55%|█████▍    | 252/462 [11:52<09:38,  2.76s/it]"
          ]
        },
        {
          "output_type": "stream",
          "name": "stdout",
          "text": [
            "\n",
            "Progress1\n",
            "\n",
            "Progress111\n",
            "torch.Size([4, 256, 10])\n",
            "y_predict.shape:  torch.Size([1024, 10])\n",
            "Progress222\n",
            "Progress2\n",
            "Progress3\n",
            "Progress4\n"
          ]
        },
        {
          "output_type": "stream",
          "name": "stderr",
          "text": [
            "\rtrain:  55%|█████▍    | 253/462 [11:55<09:22,  2.69s/it]"
          ]
        },
        {
          "output_type": "stream",
          "name": "stdout",
          "text": [
            "\n",
            "Progress1\n",
            "\n",
            "Progress111\n",
            "torch.Size([4, 256, 10])\n",
            "y_predict.shape:  torch.Size([1024, 10])\n",
            "Progress222\n",
            "Progress2\n",
            "Progress3\n",
            "Progress4\n"
          ]
        },
        {
          "output_type": "stream",
          "name": "stderr",
          "text": [
            "\rtrain:  55%|█████▍    | 254/462 [11:57<09:08,  2.64s/it]"
          ]
        },
        {
          "output_type": "stream",
          "name": "stdout",
          "text": [
            "\n",
            "Progress1\n",
            "\n",
            "Progress111\n",
            "torch.Size([4, 256, 10])\n",
            "y_predict.shape:  torch.Size([1024, 10])\n",
            "Progress222\n",
            "Progress2\n",
            "Progress3\n",
            "Progress4\n"
          ]
        },
        {
          "output_type": "stream",
          "name": "stderr",
          "text": [
            "\rtrain:  55%|█████▌    | 255/462 [12:00<09:47,  2.84s/it]"
          ]
        },
        {
          "output_type": "stream",
          "name": "stdout",
          "text": [
            "\n",
            "Progress1\n",
            "\n",
            "Progress111\n",
            "torch.Size([4, 256, 10])\n",
            "y_predict.shape:  torch.Size([1024, 10])\n",
            "Progress222\n",
            "Progress2\n",
            "Progress3\n",
            "Progress4\n"
          ]
        },
        {
          "output_type": "stream",
          "name": "stderr",
          "text": [
            "\rtrain:  55%|█████▌    | 256/462 [12:04<10:22,  3.02s/it]"
          ]
        },
        {
          "output_type": "stream",
          "name": "stdout",
          "text": [
            "\n",
            "Progress1\n",
            "\n",
            "Progress111\n",
            "torch.Size([4, 256, 10])\n",
            "y_predict.shape:  torch.Size([1024, 10])\n",
            "Progress222\n",
            "Progress2\n",
            "Progress3\n",
            "Progress4\n"
          ]
        },
        {
          "output_type": "stream",
          "name": "stderr",
          "text": [
            "\rtrain:  56%|█████▌    | 257/462 [12:06<09:48,  2.87s/it]"
          ]
        },
        {
          "output_type": "stream",
          "name": "stdout",
          "text": [
            "\n",
            "Progress1\n",
            "\n",
            "Progress111\n",
            "torch.Size([4, 256, 10])\n",
            "y_predict.shape:  torch.Size([1024, 10])\n",
            "Progress222\n",
            "Progress2\n",
            "Progress3\n",
            "Progress4\n"
          ]
        },
        {
          "output_type": "stream",
          "name": "stderr",
          "text": [
            "\rtrain:  56%|█████▌    | 258/462 [12:09<09:21,  2.75s/it]"
          ]
        },
        {
          "output_type": "stream",
          "name": "stdout",
          "text": [
            "\n",
            "Progress1\n",
            "\n",
            "Progress111\n",
            "torch.Size([4, 256, 10])\n",
            "y_predict.shape:  torch.Size([1024, 10])\n",
            "Progress222\n",
            "Progress2\n",
            "Progress3\n",
            "Progress4\n"
          ]
        },
        {
          "output_type": "stream",
          "name": "stderr",
          "text": [
            "\rtrain:  56%|█████▌    | 259/462 [12:11<09:04,  2.68s/it]"
          ]
        },
        {
          "output_type": "stream",
          "name": "stdout",
          "text": [
            "\n",
            "Progress1\n",
            "\n",
            "Progress111\n",
            "torch.Size([4, 256, 10])\n",
            "y_predict.shape:  torch.Size([1024, 10])\n",
            "Progress222\n",
            "Progress2\n",
            "Progress3\n",
            "Progress4\n"
          ]
        },
        {
          "output_type": "stream",
          "name": "stderr",
          "text": [
            "\rtrain:  56%|█████▋    | 260/462 [12:14<09:12,  2.74s/it]"
          ]
        },
        {
          "output_type": "stream",
          "name": "stdout",
          "text": [
            "\n",
            "Progress1\n",
            "\n",
            "Progress111\n",
            "torch.Size([4, 256, 10])\n",
            "y_predict.shape:  torch.Size([1024, 10])\n",
            "Progress222\n",
            "Progress2\n",
            "Progress3\n",
            "Progress4\n"
          ]
        },
        {
          "output_type": "stream",
          "name": "stderr",
          "text": [
            "\rtrain:  56%|█████▋    | 261/462 [12:18<10:21,  3.09s/it]"
          ]
        },
        {
          "output_type": "stream",
          "name": "stdout",
          "text": [
            "\n",
            "Progress1\n",
            "\n",
            "Progress111\n",
            "torch.Size([4, 256, 10])\n",
            "y_predict.shape:  torch.Size([1024, 10])\n",
            "Progress222\n",
            "Progress2\n",
            "Progress3\n",
            "Progress4\n"
          ]
        },
        {
          "output_type": "stream",
          "name": "stderr",
          "text": [
            "\rtrain:  57%|█████▋    | 262/462 [12:21<09:42,  2.91s/it]"
          ]
        },
        {
          "output_type": "stream",
          "name": "stdout",
          "text": [
            "\n",
            "Progress1\n",
            "\n",
            "Progress111\n",
            "torch.Size([4, 256, 10])\n",
            "y_predict.shape:  torch.Size([1024, 10])\n",
            "Progress222\n",
            "Progress2\n",
            "Progress3\n",
            "Progress4\n"
          ]
        },
        {
          "output_type": "stream",
          "name": "stderr",
          "text": [
            "\rtrain:  57%|█████▋    | 263/462 [12:23<09:16,  2.80s/it]"
          ]
        },
        {
          "output_type": "stream",
          "name": "stdout",
          "text": [
            "\n",
            "Progress1\n",
            "\n",
            "Progress111\n",
            "torch.Size([4, 256, 10])\n",
            "y_predict.shape:  torch.Size([1024, 10])\n",
            "Progress222\n",
            "Progress2\n",
            "Progress3\n",
            "Progress4\n"
          ]
        },
        {
          "output_type": "stream",
          "name": "stderr",
          "text": [
            "\rtrain:  57%|█████▋    | 264/462 [12:26<08:56,  2.71s/it]"
          ]
        },
        {
          "output_type": "stream",
          "name": "stdout",
          "text": [
            "\n",
            "Progress1\n",
            "\n",
            "Progress111\n",
            "torch.Size([4, 256, 10])\n",
            "y_predict.shape:  torch.Size([1024, 10])\n",
            "Progress222\n",
            "Progress2\n",
            "Progress3\n",
            "Progress4\n"
          ]
        },
        {
          "output_type": "stream",
          "name": "stderr",
          "text": [
            "\rtrain:  57%|█████▋    | 265/462 [12:28<08:45,  2.67s/it]"
          ]
        },
        {
          "output_type": "stream",
          "name": "stdout",
          "text": [
            "\n",
            "Progress1\n",
            "\n",
            "Progress111\n",
            "torch.Size([4, 256, 10])\n",
            "y_predict.shape:  torch.Size([1024, 10])\n",
            "Progress222\n",
            "Progress2\n",
            "Progress3\n",
            "Progress4\n"
          ]
        },
        {
          "output_type": "stream",
          "name": "stderr",
          "text": [
            "\rtrain:  58%|█████▊    | 266/462 [12:32<09:51,  3.02s/it]"
          ]
        },
        {
          "output_type": "stream",
          "name": "stdout",
          "text": [
            "\n",
            "Progress1\n",
            "\n",
            "Progress111\n",
            "torch.Size([4, 256, 10])\n",
            "y_predict.shape:  torch.Size([1024, 10])\n",
            "Progress222\n",
            "Progress2\n",
            "Progress3\n",
            "Progress4\n"
          ]
        },
        {
          "output_type": "stream",
          "name": "stderr",
          "text": [
            "\rtrain:  58%|█████▊    | 267/462 [12:35<09:32,  2.93s/it]"
          ]
        },
        {
          "output_type": "stream",
          "name": "stdout",
          "text": [
            "\n",
            "Progress1\n",
            "\n",
            "Progress111\n",
            "torch.Size([4, 256, 10])\n",
            "y_predict.shape:  torch.Size([1024, 10])\n",
            "Progress222\n",
            "Progress2\n",
            "Progress3\n",
            "Progress4\n"
          ]
        },
        {
          "output_type": "stream",
          "name": "stderr",
          "text": [
            "\rtrain:  58%|█████▊    | 268/462 [12:37<09:06,  2.81s/it]"
          ]
        },
        {
          "output_type": "stream",
          "name": "stdout",
          "text": [
            "\n",
            "Progress1\n",
            "\n",
            "Progress111\n",
            "torch.Size([4, 256, 10])\n",
            "y_predict.shape:  torch.Size([1024, 10])\n",
            "Progress222\n",
            "Progress2\n",
            "Progress3\n",
            "Progress4\n"
          ]
        },
        {
          "output_type": "stream",
          "name": "stderr",
          "text": [
            "\rtrain:  58%|█████▊    | 269/462 [12:40<08:47,  2.73s/it]"
          ]
        },
        {
          "output_type": "stream",
          "name": "stdout",
          "text": [
            "\n",
            "Progress1\n",
            "\n",
            "Progress111\n",
            "torch.Size([4, 256, 10])\n",
            "y_predict.shape:  torch.Size([1024, 10])\n",
            "Progress222\n",
            "Progress2\n",
            "Progress3\n",
            "Progress4\n"
          ]
        },
        {
          "output_type": "stream",
          "name": "stderr",
          "text": [
            "\rtrain:  58%|█████▊    | 270/462 [12:42<08:34,  2.68s/it]"
          ]
        },
        {
          "output_type": "stream",
          "name": "stdout",
          "text": [
            "\n",
            "Progress1\n",
            "\n",
            "Progress111\n",
            "torch.Size([4, 256, 10])\n",
            "y_predict.shape:  torch.Size([1024, 10])\n",
            "Progress222\n",
            "Progress2\n",
            "Progress3\n",
            "Progress4\n"
          ]
        },
        {
          "output_type": "stream",
          "name": "stderr",
          "text": [
            "\rtrain:  59%|█████▊    | 271/462 [12:46<09:00,  2.83s/it]"
          ]
        },
        {
          "output_type": "stream",
          "name": "stdout",
          "text": [
            "\n",
            "Progress1\n",
            "\n",
            "Progress111\n",
            "torch.Size([4, 256, 10])\n",
            "y_predict.shape:  torch.Size([1024, 10])\n",
            "Progress222\n",
            "Progress2\n",
            "Progress3\n",
            "Progress4\n"
          ]
        },
        {
          "output_type": "stream",
          "name": "stderr",
          "text": [
            "\rtrain:  59%|█████▉    | 272/462 [12:49<09:39,  3.05s/it]"
          ]
        },
        {
          "output_type": "stream",
          "name": "stdout",
          "text": [
            "\n",
            "Progress1\n",
            "\n",
            "Progress111\n",
            "torch.Size([4, 256, 10])\n",
            "y_predict.shape:  torch.Size([1024, 10])\n",
            "Progress222\n",
            "Progress2\n",
            "Progress3\n",
            "Progress4\n"
          ]
        },
        {
          "output_type": "stream",
          "name": "stderr",
          "text": [
            "\rtrain:  59%|█████▉    | 273/462 [12:52<09:04,  2.88s/it]"
          ]
        },
        {
          "output_type": "stream",
          "name": "stdout",
          "text": [
            "\n",
            "Progress1\n",
            "\n",
            "Progress111\n",
            "torch.Size([4, 256, 10])\n",
            "y_predict.shape:  torch.Size([1024, 10])\n",
            "Progress222\n",
            "Progress2\n",
            "Progress3\n",
            "Progress4\n"
          ]
        },
        {
          "output_type": "stream",
          "name": "stderr",
          "text": [
            "\rtrain:  59%|█████▉    | 274/462 [12:54<08:41,  2.77s/it]"
          ]
        },
        {
          "output_type": "stream",
          "name": "stdout",
          "text": [
            "\n",
            "Progress1\n",
            "\n",
            "Progress111\n",
            "torch.Size([4, 256, 10])\n",
            "y_predict.shape:  torch.Size([1024, 10])\n",
            "Progress222\n",
            "Progress2\n",
            "Progress3\n",
            "Progress4\n"
          ]
        },
        {
          "output_type": "stream",
          "name": "stderr",
          "text": [
            "\rtrain:  60%|█████▉    | 275/462 [12:57<08:23,  2.69s/it]"
          ]
        },
        {
          "output_type": "stream",
          "name": "stdout",
          "text": [
            "\n",
            "Progress1\n",
            "\n",
            "Progress111\n",
            "torch.Size([4, 256, 10])\n",
            "y_predict.shape:  torch.Size([1024, 10])\n",
            "Progress222\n",
            "Progress2\n",
            "Progress3\n",
            "Progress4\n"
          ]
        },
        {
          "output_type": "stream",
          "name": "stderr",
          "text": [
            "\rtrain:  60%|█████▉    | 276/462 [13:00<08:29,  2.74s/it]"
          ]
        },
        {
          "output_type": "stream",
          "name": "stdout",
          "text": [
            "\n",
            "Progress1\n",
            "\n",
            "Progress111\n",
            "torch.Size([4, 256, 10])\n",
            "y_predict.shape:  torch.Size([1024, 10])\n",
            "Progress222\n",
            "Progress2\n",
            "Progress3\n",
            "Progress4\n"
          ]
        },
        {
          "output_type": "stream",
          "name": "stderr",
          "text": [
            "\rtrain:  60%|█████▉    | 277/462 [13:03<09:24,  3.05s/it]"
          ]
        },
        {
          "output_type": "stream",
          "name": "stdout",
          "text": [
            "\n",
            "Progress1\n",
            "\n",
            "Progress111\n",
            "torch.Size([4, 256, 10])\n",
            "y_predict.shape:  torch.Size([1024, 10])\n",
            "Progress222\n",
            "Progress2\n",
            "Progress3\n",
            "Progress4\n"
          ]
        },
        {
          "output_type": "stream",
          "name": "stderr",
          "text": [
            "\rtrain:  60%|██████    | 278/462 [13:06<08:52,  2.89s/it]"
          ]
        },
        {
          "output_type": "stream",
          "name": "stdout",
          "text": [
            "\n",
            "Progress1\n",
            "\n",
            "Progress111\n",
            "torch.Size([4, 256, 10])\n",
            "y_predict.shape:  torch.Size([1024, 10])\n",
            "Progress222\n",
            "Progress2\n",
            "Progress3\n",
            "Progress4\n"
          ]
        },
        {
          "output_type": "stream",
          "name": "stderr",
          "text": [
            "\rtrain:  60%|██████    | 279/462 [13:08<08:29,  2.78s/it]"
          ]
        },
        {
          "output_type": "stream",
          "name": "stdout",
          "text": [
            "\n",
            "Progress1\n",
            "\n",
            "Progress111\n",
            "torch.Size([4, 256, 10])\n",
            "y_predict.shape:  torch.Size([1024, 10])\n",
            "Progress222\n",
            "Progress2\n",
            "Progress3\n",
            "Progress4\n"
          ]
        },
        {
          "output_type": "stream",
          "name": "stderr",
          "text": [
            "\rtrain:  61%|██████    | 280/462 [13:11<08:12,  2.71s/it]"
          ]
        },
        {
          "output_type": "stream",
          "name": "stdout",
          "text": [
            "\n",
            "Progress1\n",
            "\n",
            "Progress111\n",
            "torch.Size([4, 256, 10])\n",
            "y_predict.shape:  torch.Size([1024, 10])\n",
            "Progress222\n",
            "Progress2\n",
            "Progress3\n",
            "Progress4\n"
          ]
        },
        {
          "output_type": "stream",
          "name": "stderr",
          "text": [
            "\rtrain:  61%|██████    | 281/462 [13:14<08:04,  2.68s/it]"
          ]
        },
        {
          "output_type": "stream",
          "name": "stdout",
          "text": [
            "\n",
            "Progress1\n",
            "\n",
            "Progress111\n",
            "torch.Size([4, 256, 10])\n",
            "y_predict.shape:  torch.Size([1024, 10])\n",
            "Progress222\n",
            "Progress2\n",
            "Progress3\n",
            "Progress4\n"
          ]
        },
        {
          "output_type": "stream",
          "name": "stderr",
          "text": [
            "\rtrain:  61%|██████    | 282/462 [13:18<09:20,  3.11s/it]"
          ]
        },
        {
          "output_type": "stream",
          "name": "stdout",
          "text": [
            "\n",
            "Progress1\n",
            "\n",
            "Progress111\n",
            "torch.Size([4, 256, 10])\n",
            "y_predict.shape:  torch.Size([1024, 10])\n",
            "Progress222\n",
            "Progress2\n",
            "Progress3\n",
            "Progress4\n"
          ]
        },
        {
          "output_type": "stream",
          "name": "stderr",
          "text": [
            "\rtrain:  61%|██████▏   | 283/462 [13:20<08:42,  2.92s/it]"
          ]
        },
        {
          "output_type": "stream",
          "name": "stdout",
          "text": [
            "\n",
            "Progress1\n",
            "\n",
            "Progress111\n",
            "torch.Size([4, 256, 10])\n",
            "y_predict.shape:  torch.Size([1024, 10])\n",
            "Progress222\n",
            "Progress2\n",
            "Progress3\n",
            "Progress4\n"
          ]
        },
        {
          "output_type": "stream",
          "name": "stderr",
          "text": [
            "\rtrain:  61%|██████▏   | 284/462 [13:23<08:18,  2.80s/it]"
          ]
        },
        {
          "output_type": "stream",
          "name": "stdout",
          "text": [
            "\n",
            "Progress1\n",
            "\n",
            "Progress111\n",
            "torch.Size([4, 256, 10])\n",
            "y_predict.shape:  torch.Size([1024, 10])\n",
            "Progress222\n",
            "Progress2\n",
            "Progress3\n",
            "Progress4\n"
          ]
        },
        {
          "output_type": "stream",
          "name": "stderr",
          "text": [
            "\rtrain:  62%|██████▏   | 285/462 [13:25<08:01,  2.72s/it]"
          ]
        },
        {
          "output_type": "stream",
          "name": "stdout",
          "text": [
            "\n",
            "Progress1\n",
            "\n",
            "Progress111\n",
            "torch.Size([4, 256, 10])\n",
            "y_predict.shape:  torch.Size([1024, 10])\n",
            "Progress222\n",
            "Progress2\n",
            "Progress3\n",
            "Progress4\n"
          ]
        },
        {
          "output_type": "stream",
          "name": "stderr",
          "text": [
            "\rtrain:  62%|██████▏   | 286/462 [13:28<07:49,  2.67s/it]"
          ]
        },
        {
          "output_type": "stream",
          "name": "stdout",
          "text": [
            "\n",
            "Progress1\n",
            "\n",
            "Progress111\n",
            "torch.Size([4, 256, 10])\n",
            "y_predict.shape:  torch.Size([1024, 10])\n",
            "Progress222\n",
            "Progress2\n",
            "Progress3\n",
            "Progress4\n"
          ]
        },
        {
          "output_type": "stream",
          "name": "stderr",
          "text": [
            "\rtrain:  62%|██████▏   | 287/462 [13:32<09:00,  3.09s/it]"
          ]
        },
        {
          "output_type": "stream",
          "name": "stdout",
          "text": [
            "\n",
            "Progress1\n",
            "\n",
            "Progress111\n",
            "torch.Size([4, 256, 10])\n",
            "y_predict.shape:  torch.Size([1024, 10])\n",
            "Progress222\n",
            "Progress2\n",
            "Progress3\n",
            "Progress4\n"
          ]
        },
        {
          "output_type": "stream",
          "name": "stderr",
          "text": [
            "\rtrain:  62%|██████▏   | 288/462 [13:34<08:29,  2.93s/it]"
          ]
        },
        {
          "output_type": "stream",
          "name": "stdout",
          "text": [
            "\n",
            "Progress1\n",
            "\n",
            "Progress111\n",
            "torch.Size([4, 256, 10])\n",
            "y_predict.shape:  torch.Size([1024, 10])\n",
            "Progress222\n",
            "Progress2\n",
            "Progress3\n",
            "Progress4\n"
          ]
        },
        {
          "output_type": "stream",
          "name": "stderr",
          "text": [
            "\rtrain:  63%|██████▎   | 289/462 [13:37<08:08,  2.82s/it]"
          ]
        },
        {
          "output_type": "stream",
          "name": "stdout",
          "text": [
            "\n",
            "Progress1\n",
            "\n",
            "Progress111\n",
            "torch.Size([4, 256, 10])\n",
            "y_predict.shape:  torch.Size([1024, 10])\n",
            "Progress222\n",
            "Progress2\n",
            "Progress3\n",
            "Progress4\n"
          ]
        },
        {
          "output_type": "stream",
          "name": "stderr",
          "text": [
            "\rtrain:  63%|██████▎   | 290/462 [13:39<07:48,  2.72s/it]"
          ]
        },
        {
          "output_type": "stream",
          "name": "stdout",
          "text": [
            "\n",
            "Progress1\n",
            "\n",
            "Progress111\n",
            "torch.Size([4, 256, 10])\n",
            "y_predict.shape:  torch.Size([1024, 10])\n",
            "Progress222\n",
            "Progress2\n",
            "Progress3\n",
            "Progress4\n"
          ]
        },
        {
          "output_type": "stream",
          "name": "stderr",
          "text": [
            "\rtrain:  63%|██████▎   | 291/462 [13:42<07:34,  2.66s/it]"
          ]
        },
        {
          "output_type": "stream",
          "name": "stdout",
          "text": [
            "\n",
            "Progress1\n",
            "\n",
            "Progress111\n",
            "torch.Size([4, 256, 10])\n",
            "y_predict.shape:  torch.Size([1024, 10])\n",
            "Progress222\n",
            "Progress2\n",
            "Progress3\n",
            "Progress4\n"
          ]
        },
        {
          "output_type": "stream",
          "name": "stderr",
          "text": [
            "\rtrain:  63%|██████▎   | 292/462 [13:45<08:15,  2.92s/it]"
          ]
        },
        {
          "output_type": "stream",
          "name": "stdout",
          "text": [
            "\n",
            "Progress1\n",
            "\n",
            "Progress111\n",
            "torch.Size([4, 256, 10])\n",
            "y_predict.shape:  torch.Size([1024, 10])\n",
            "Progress222\n",
            "Progress2\n",
            "Progress3\n",
            "Progress4\n"
          ]
        },
        {
          "output_type": "stream",
          "name": "stderr",
          "text": [
            "\rtrain:  63%|██████▎   | 293/462 [13:49<08:23,  2.98s/it]"
          ]
        },
        {
          "output_type": "stream",
          "name": "stdout",
          "text": [
            "\n",
            "Progress1\n",
            "\n",
            "Progress111\n",
            "torch.Size([4, 256, 10])\n",
            "y_predict.shape:  torch.Size([1024, 10])\n",
            "Progress222\n",
            "Progress2\n",
            "Progress3\n",
            "Progress4\n"
          ]
        },
        {
          "output_type": "stream",
          "name": "stderr",
          "text": [
            "\rtrain:  64%|██████▎   | 294/462 [13:51<07:58,  2.85s/it]"
          ]
        },
        {
          "output_type": "stream",
          "name": "stdout",
          "text": [
            "\n",
            "Progress1\n",
            "\n",
            "Progress111\n",
            "torch.Size([4, 256, 10])\n",
            "y_predict.shape:  torch.Size([1024, 10])\n",
            "Progress222\n",
            "Progress2\n",
            "Progress3\n",
            "Progress4\n"
          ]
        },
        {
          "output_type": "stream",
          "name": "stderr",
          "text": [
            "\rtrain:  64%|██████▍   | 295/462 [13:54<07:37,  2.74s/it]"
          ]
        },
        {
          "output_type": "stream",
          "name": "stdout",
          "text": [
            "\n",
            "Progress1\n",
            "\n",
            "Progress111\n",
            "torch.Size([4, 256, 10])\n",
            "y_predict.shape:  torch.Size([1024, 10])\n",
            "Progress222\n",
            "Progress2\n",
            "Progress3\n",
            "Progress4\n"
          ]
        },
        {
          "output_type": "stream",
          "name": "stderr",
          "text": [
            "\rtrain:  64%|██████▍   | 296/462 [13:56<07:22,  2.66s/it]"
          ]
        },
        {
          "output_type": "stream",
          "name": "stdout",
          "text": [
            "\n",
            "Progress1\n",
            "\n",
            "Progress111\n",
            "torch.Size([4, 256, 10])\n",
            "y_predict.shape:  torch.Size([1024, 10])\n",
            "Progress222\n",
            "Progress2\n",
            "Progress3\n",
            "Progress4\n"
          ]
        },
        {
          "output_type": "stream",
          "name": "stderr",
          "text": [
            "\rtrain:  64%|██████▍   | 297/462 [13:59<07:34,  2.75s/it]"
          ]
        },
        {
          "output_type": "stream",
          "name": "stdout",
          "text": [
            "\n",
            "Progress1\n",
            "\n",
            "Progress111\n",
            "torch.Size([4, 256, 10])\n",
            "y_predict.shape:  torch.Size([1024, 10])\n",
            "Progress222\n",
            "Progress2\n",
            "Progress3\n",
            "Progress4\n"
          ]
        },
        {
          "output_type": "stream",
          "name": "stderr",
          "text": [
            "\rtrain:  65%|██████▍   | 298/462 [14:03<08:21,  3.06s/it]"
          ]
        },
        {
          "output_type": "stream",
          "name": "stdout",
          "text": [
            "\n",
            "Progress1\n",
            "\n",
            "Progress111\n",
            "torch.Size([4, 256, 10])\n",
            "y_predict.shape:  torch.Size([1024, 10])\n",
            "Progress222\n",
            "Progress2\n",
            "Progress3\n",
            "Progress4\n"
          ]
        },
        {
          "output_type": "stream",
          "name": "stderr",
          "text": [
            "\rtrain:  65%|██████▍   | 299/462 [14:05<07:55,  2.92s/it]"
          ]
        },
        {
          "output_type": "stream",
          "name": "stdout",
          "text": [
            "\n",
            "Progress1\n",
            "\n",
            "Progress111\n",
            "torch.Size([4, 256, 10])\n",
            "y_predict.shape:  torch.Size([1024, 10])\n",
            "Progress222\n",
            "Progress2\n",
            "Progress3\n",
            "Progress4\n"
          ]
        },
        {
          "output_type": "stream",
          "name": "stderr",
          "text": [
            "\rtrain:  65%|██████▍   | 300/462 [14:08<07:32,  2.80s/it]"
          ]
        },
        {
          "output_type": "stream",
          "name": "stdout",
          "text": [
            "\n",
            "Progress1\n",
            "\n",
            "Progress111\n",
            "torch.Size([4, 256, 10])\n",
            "y_predict.shape:  torch.Size([1024, 10])\n",
            "Progress222\n",
            "Progress2\n",
            "Progress3\n",
            "Progress4\n"
          ]
        },
        {
          "output_type": "stream",
          "name": "stderr",
          "text": [
            "\rtrain:  65%|██████▌   | 301/462 [14:10<07:15,  2.70s/it]"
          ]
        },
        {
          "output_type": "stream",
          "name": "stdout",
          "text": [
            "\n",
            "Progress1\n",
            "\n",
            "Progress111\n",
            "torch.Size([4, 256, 10])\n",
            "y_predict.shape:  torch.Size([1024, 10])\n",
            "Progress222\n",
            "Progress2\n",
            "Progress3\n",
            "Progress4\n"
          ]
        },
        {
          "output_type": "stream",
          "name": "stderr",
          "text": [
            "\rtrain:  65%|██████▌   | 302/462 [14:13<07:14,  2.71s/it]"
          ]
        },
        {
          "output_type": "stream",
          "name": "stdout",
          "text": [
            "\n",
            "Progress1\n",
            "\n",
            "Progress111\n",
            "torch.Size([4, 256, 10])\n",
            "y_predict.shape:  torch.Size([1024, 10])\n",
            "Progress222\n",
            "Progress2\n",
            "Progress3\n",
            "Progress4\n"
          ]
        },
        {
          "output_type": "stream",
          "name": "stderr",
          "text": [
            "\rtrain:  66%|██████▌   | 303/462 [14:17<08:09,  3.08s/it]"
          ]
        },
        {
          "output_type": "stream",
          "name": "stdout",
          "text": [
            "\n",
            "Progress1\n",
            "\n",
            "Progress111\n",
            "torch.Size([4, 256, 10])\n",
            "y_predict.shape:  torch.Size([1024, 10])\n",
            "Progress222\n",
            "Progress2\n",
            "Progress3\n",
            "Progress4\n"
          ]
        },
        {
          "output_type": "stream",
          "name": "stderr",
          "text": [
            "\rtrain:  66%|██████▌   | 304/462 [14:20<07:39,  2.91s/it]"
          ]
        },
        {
          "output_type": "stream",
          "name": "stdout",
          "text": [
            "\n",
            "Progress1\n",
            "\n",
            "Progress111\n",
            "torch.Size([4, 256, 10])\n",
            "y_predict.shape:  torch.Size([1024, 10])\n",
            "Progress222\n",
            "Progress2\n",
            "Progress3\n",
            "Progress4\n"
          ]
        },
        {
          "output_type": "stream",
          "name": "stderr",
          "text": [
            "\rtrain:  66%|██████▌   | 305/462 [14:22<07:15,  2.78s/it]"
          ]
        },
        {
          "output_type": "stream",
          "name": "stdout",
          "text": [
            "\n",
            "Progress1\n",
            "\n",
            "Progress111\n",
            "torch.Size([4, 256, 10])\n",
            "y_predict.shape:  torch.Size([1024, 10])\n",
            "Progress222\n",
            "Progress2\n",
            "Progress3\n",
            "Progress4\n"
          ]
        },
        {
          "output_type": "stream",
          "name": "stderr",
          "text": [
            "\rtrain:  66%|██████▌   | 306/462 [14:25<06:59,  2.69s/it]"
          ]
        },
        {
          "output_type": "stream",
          "name": "stdout",
          "text": [
            "\n",
            "Progress1\n",
            "\n",
            "Progress111\n",
            "torch.Size([4, 256, 10])\n",
            "y_predict.shape:  torch.Size([1024, 10])\n",
            "Progress222\n",
            "Progress2\n",
            "Progress3\n",
            "Progress4\n"
          ]
        },
        {
          "output_type": "stream",
          "name": "stderr",
          "text": [
            "\rtrain:  66%|██████▋   | 307/462 [14:27<06:53,  2.67s/it]"
          ]
        },
        {
          "output_type": "stream",
          "name": "stdout",
          "text": [
            "\n",
            "Progress1\n",
            "\n",
            "Progress111\n",
            "torch.Size([4, 256, 10])\n",
            "y_predict.shape:  torch.Size([1024, 10])\n",
            "Progress222\n",
            "Progress2\n",
            "Progress3\n",
            "Progress4\n"
          ]
        },
        {
          "output_type": "stream",
          "name": "stderr",
          "text": [
            "\rtrain:  67%|██████▋   | 308/462 [14:31<07:49,  3.05s/it]"
          ]
        },
        {
          "output_type": "stream",
          "name": "stdout",
          "text": [
            "\n",
            "Progress1\n",
            "\n",
            "Progress111\n",
            "torch.Size([4, 256, 10])\n",
            "y_predict.shape:  torch.Size([1024, 10])\n",
            "Progress222\n",
            "Progress2\n",
            "Progress3\n",
            "Progress4\n"
          ]
        },
        {
          "output_type": "stream",
          "name": "stderr",
          "text": [
            "\rtrain:  67%|██████▋   | 309/462 [14:34<07:23,  2.90s/it]"
          ]
        },
        {
          "output_type": "stream",
          "name": "stdout",
          "text": [
            "\n",
            "Progress1\n",
            "\n",
            "Progress111\n",
            "torch.Size([4, 256, 10])\n",
            "y_predict.shape:  torch.Size([1024, 10])\n",
            "Progress222\n",
            "Progress2\n",
            "Progress3\n",
            "Progress4\n"
          ]
        },
        {
          "output_type": "stream",
          "name": "stderr",
          "text": [
            "\rtrain:  67%|██████▋   | 310/462 [14:36<07:02,  2.78s/it]"
          ]
        },
        {
          "output_type": "stream",
          "name": "stdout",
          "text": [
            "\n",
            "Progress1\n",
            "\n",
            "Progress111\n",
            "torch.Size([4, 256, 10])\n",
            "y_predict.shape:  torch.Size([1024, 10])\n",
            "Progress222\n",
            "Progress2\n",
            "Progress3\n",
            "Progress4\n"
          ]
        },
        {
          "output_type": "stream",
          "name": "stderr",
          "text": [
            "\rtrain:  67%|██████▋   | 311/462 [14:39<06:47,  2.70s/it]"
          ]
        },
        {
          "output_type": "stream",
          "name": "stdout",
          "text": [
            "\n",
            "Progress1\n",
            "\n",
            "Progress111\n",
            "torch.Size([4, 256, 10])\n",
            "y_predict.shape:  torch.Size([1024, 10])\n",
            "Progress222\n",
            "Progress2\n",
            "Progress3\n",
            "Progress4\n"
          ]
        },
        {
          "output_type": "stream",
          "name": "stderr",
          "text": [
            "\rtrain:  68%|██████▊   | 312/462 [14:41<06:34,  2.63s/it]"
          ]
        },
        {
          "output_type": "stream",
          "name": "stdout",
          "text": [
            "\n",
            "Progress1\n",
            "\n",
            "Progress111\n",
            "torch.Size([4, 256, 10])\n",
            "y_predict.shape:  torch.Size([1024, 10])\n",
            "Progress222\n",
            "Progress2\n",
            "Progress3\n",
            "Progress4\n"
          ]
        },
        {
          "output_type": "stream",
          "name": "stderr",
          "text": [
            "\rtrain:  68%|██████▊   | 313/462 [14:44<06:55,  2.79s/it]"
          ]
        },
        {
          "output_type": "stream",
          "name": "stdout",
          "text": [
            "\n",
            "Progress1\n",
            "\n",
            "Progress111\n",
            "torch.Size([4, 256, 10])\n",
            "y_predict.shape:  torch.Size([1024, 10])\n",
            "Progress222\n",
            "Progress2\n",
            "Progress3\n",
            "Progress4\n"
          ]
        },
        {
          "output_type": "stream",
          "name": "stderr",
          "text": [
            "\rtrain:  68%|██████▊   | 314/462 [14:48<07:21,  2.98s/it]"
          ]
        },
        {
          "output_type": "stream",
          "name": "stdout",
          "text": [
            "\n",
            "Progress1\n",
            "\n",
            "Progress111\n",
            "torch.Size([4, 256, 10])\n",
            "y_predict.shape:  torch.Size([1024, 10])\n",
            "Progress222\n",
            "Progress2\n",
            "Progress3\n",
            "Progress4\n"
          ]
        },
        {
          "output_type": "stream",
          "name": "stderr",
          "text": [
            "\rtrain:  68%|██████▊   | 315/462 [14:50<06:58,  2.85s/it]"
          ]
        },
        {
          "output_type": "stream",
          "name": "stdout",
          "text": [
            "\n",
            "Progress1\n",
            "\n",
            "Progress111\n",
            "torch.Size([4, 256, 10])\n",
            "y_predict.shape:  torch.Size([1024, 10])\n",
            "Progress222\n",
            "Progress2\n",
            "Progress3\n",
            "Progress4\n"
          ]
        },
        {
          "output_type": "stream",
          "name": "stderr",
          "text": [
            "\rtrain:  68%|██████▊   | 316/462 [14:53<06:38,  2.73s/it]"
          ]
        },
        {
          "output_type": "stream",
          "name": "stdout",
          "text": [
            "\n",
            "Progress1\n",
            "\n",
            "Progress111\n",
            "torch.Size([4, 256, 10])\n",
            "y_predict.shape:  torch.Size([1024, 10])\n",
            "Progress222\n",
            "Progress2\n",
            "Progress3\n",
            "Progress4\n"
          ]
        },
        {
          "output_type": "stream",
          "name": "stderr",
          "text": [
            "\rtrain:  69%|██████▊   | 317/462 [14:55<06:24,  2.65s/it]"
          ]
        },
        {
          "output_type": "stream",
          "name": "stdout",
          "text": [
            "\n",
            "Progress1\n",
            "\n",
            "Progress111\n",
            "torch.Size([4, 256, 10])\n",
            "y_predict.shape:  torch.Size([1024, 10])\n",
            "Progress222\n",
            "Progress2\n",
            "Progress3\n",
            "Progress4\n"
          ]
        },
        {
          "output_type": "stream",
          "name": "stderr",
          "text": [
            "\rtrain:  69%|██████▉   | 318/462 [14:58<06:13,  2.59s/it]"
          ]
        },
        {
          "output_type": "stream",
          "name": "stdout",
          "text": [
            "\n",
            "Progress1\n",
            "\n",
            "Progress111\n",
            "torch.Size([4, 256, 10])\n",
            "y_predict.shape:  torch.Size([1024, 10])\n",
            "Progress222\n",
            "Progress2\n",
            "Progress3\n",
            "Progress4\n"
          ]
        },
        {
          "output_type": "stream",
          "name": "stderr",
          "text": [
            "\rtrain:  69%|██████▉   | 319/462 [15:01<06:38,  2.79s/it]"
          ]
        },
        {
          "output_type": "stream",
          "name": "stdout",
          "text": [
            "\n",
            "Progress1\n",
            "\n",
            "Progress111\n",
            "torch.Size([4, 256, 10])\n",
            "y_predict.shape:  torch.Size([1024, 10])\n",
            "Progress222\n",
            "Progress2\n",
            "Progress3\n",
            "Progress4\n"
          ]
        },
        {
          "output_type": "stream",
          "name": "stderr",
          "text": [
            "\rtrain:  69%|██████▉   | 320/462 [15:04<07:08,  3.02s/it]"
          ]
        },
        {
          "output_type": "stream",
          "name": "stdout",
          "text": [
            "\n",
            "Progress1\n",
            "\n",
            "Progress111\n",
            "torch.Size([4, 256, 10])\n",
            "y_predict.shape:  torch.Size([1024, 10])\n",
            "Progress222\n",
            "Progress2\n",
            "Progress3\n",
            "Progress4\n"
          ]
        },
        {
          "output_type": "stream",
          "name": "stderr",
          "text": [
            "\rtrain:  69%|██████▉   | 321/462 [15:07<06:42,  2.86s/it]"
          ]
        },
        {
          "output_type": "stream",
          "name": "stdout",
          "text": [
            "\n",
            "Progress1\n",
            "\n",
            "Progress111\n",
            "torch.Size([4, 256, 10])\n",
            "y_predict.shape:  torch.Size([1024, 10])\n",
            "Progress222\n",
            "Progress2\n",
            "Progress3\n",
            "Progress4\n"
          ]
        },
        {
          "output_type": "stream",
          "name": "stderr",
          "text": [
            "\rtrain:  70%|██████▉   | 322/462 [15:09<06:24,  2.74s/it]"
          ]
        },
        {
          "output_type": "stream",
          "name": "stdout",
          "text": [
            "\n",
            "Progress1\n",
            "\n",
            "Progress111\n",
            "torch.Size([4, 256, 10])\n",
            "y_predict.shape:  torch.Size([1024, 10])\n",
            "Progress222\n",
            "Progress2\n",
            "Progress3\n",
            "Progress4\n"
          ]
        },
        {
          "output_type": "stream",
          "name": "stderr",
          "text": [
            "\rtrain:  70%|██████▉   | 323/462 [15:12<06:09,  2.66s/it]"
          ]
        },
        {
          "output_type": "stream",
          "name": "stdout",
          "text": [
            "\n",
            "Progress1\n",
            "\n",
            "Progress111\n",
            "torch.Size([4, 256, 10])\n",
            "y_predict.shape:  torch.Size([1024, 10])\n",
            "Progress222\n",
            "Progress2\n",
            "Progress3\n",
            "Progress4\n"
          ]
        },
        {
          "output_type": "stream",
          "name": "stderr",
          "text": [
            "\rtrain:  70%|███████   | 324/462 [15:15<06:16,  2.73s/it]"
          ]
        },
        {
          "output_type": "stream",
          "name": "stdout",
          "text": [
            "\n",
            "Progress1\n",
            "\n",
            "Progress111\n",
            "torch.Size([4, 256, 10])\n",
            "y_predict.shape:  torch.Size([1024, 10])\n",
            "Progress222\n",
            "Progress2\n",
            "Progress3\n",
            "Progress4\n"
          ]
        },
        {
          "output_type": "stream",
          "name": "stderr",
          "text": [
            "\rtrain:  70%|███████   | 325/462 [15:19<07:02,  3.08s/it]"
          ]
        },
        {
          "output_type": "stream",
          "name": "stdout",
          "text": [
            "\n",
            "Progress1\n",
            "\n",
            "Progress111\n",
            "torch.Size([4, 256, 10])\n",
            "y_predict.shape:  torch.Size([1024, 10])\n",
            "Progress222\n",
            "Progress2\n",
            "Progress3\n",
            "Progress4\n"
          ]
        },
        {
          "output_type": "stream",
          "name": "stderr",
          "text": [
            "\rtrain:  71%|███████   | 326/462 [15:21<06:34,  2.90s/it]"
          ]
        },
        {
          "output_type": "stream",
          "name": "stdout",
          "text": [
            "\n",
            "Progress1\n",
            "\n",
            "Progress111\n",
            "torch.Size([4, 256, 10])\n",
            "y_predict.shape:  torch.Size([1024, 10])\n",
            "Progress222\n",
            "Progress2\n",
            "Progress3\n",
            "Progress4\n"
          ]
        },
        {
          "output_type": "stream",
          "name": "stderr",
          "text": [
            "\rtrain:  71%|███████   | 327/462 [15:24<06:13,  2.77s/it]"
          ]
        },
        {
          "output_type": "stream",
          "name": "stdout",
          "text": [
            "\n",
            "Progress1\n",
            "\n",
            "Progress111\n",
            "torch.Size([4, 256, 10])\n",
            "y_predict.shape:  torch.Size([1024, 10])\n",
            "Progress222\n",
            "Progress2\n",
            "Progress3\n",
            "Progress4\n"
          ]
        },
        {
          "output_type": "stream",
          "name": "stderr",
          "text": [
            "\rtrain:  71%|███████   | 328/462 [15:26<05:58,  2.68s/it]"
          ]
        },
        {
          "output_type": "stream",
          "name": "stdout",
          "text": [
            "\n",
            "Progress1\n",
            "\n",
            "Progress111\n",
            "torch.Size([4, 256, 10])\n",
            "y_predict.shape:  torch.Size([1024, 10])\n",
            "Progress222\n",
            "Progress2\n",
            "Progress3\n",
            "Progress4\n"
          ]
        },
        {
          "output_type": "stream",
          "name": "stderr",
          "text": [
            "\rtrain:  71%|███████   | 329/462 [15:29<05:53,  2.66s/it]"
          ]
        },
        {
          "output_type": "stream",
          "name": "stdout",
          "text": [
            "\n",
            "Progress1\n",
            "\n",
            "Progress111\n",
            "torch.Size([4, 256, 10])\n",
            "y_predict.shape:  torch.Size([1024, 10])\n",
            "Progress222\n",
            "Progress2\n",
            "Progress3\n",
            "Progress4\n"
          ]
        },
        {
          "output_type": "stream",
          "name": "stderr",
          "text": [
            "\rtrain:  71%|███████▏  | 330/462 [15:32<06:11,  2.81s/it]"
          ]
        },
        {
          "output_type": "stream",
          "name": "stdout",
          "text": [
            "\n",
            "Progress1\n",
            "\n",
            "Progress111\n",
            "torch.Size([4, 256, 10])\n",
            "y_predict.shape:  torch.Size([1024, 10])\n",
            "Progress222\n",
            "Progress2\n",
            "Progress3\n",
            "Progress4\n"
          ]
        },
        {
          "output_type": "stream",
          "name": "stderr",
          "text": [
            "\rtrain:  72%|███████▏  | 331/462 [15:35<06:31,  2.99s/it]"
          ]
        },
        {
          "output_type": "stream",
          "name": "stdout",
          "text": [
            "\n",
            "Progress1\n",
            "\n",
            "Progress111\n",
            "torch.Size([4, 256, 10])\n",
            "y_predict.shape:  torch.Size([1024, 10])\n",
            "Progress222\n",
            "Progress2\n",
            "Progress3\n",
            "Progress4\n"
          ]
        },
        {
          "output_type": "stream",
          "name": "stderr",
          "text": [
            "\rtrain:  72%|███████▏  | 332/462 [15:38<06:06,  2.82s/it]"
          ]
        },
        {
          "output_type": "stream",
          "name": "stdout",
          "text": [
            "\n",
            "Progress1\n",
            "\n",
            "Progress111\n",
            "torch.Size([4, 256, 10])\n",
            "y_predict.shape:  torch.Size([1024, 10])\n",
            "Progress222\n",
            "Progress2\n",
            "Progress3\n",
            "Progress4\n"
          ]
        },
        {
          "output_type": "stream",
          "name": "stderr",
          "text": [
            "\rtrain:  72%|███████▏  | 333/462 [15:40<05:51,  2.72s/it]"
          ]
        },
        {
          "output_type": "stream",
          "name": "stdout",
          "text": [
            "\n",
            "Progress1\n",
            "\n",
            "Progress111\n",
            "torch.Size([4, 256, 10])\n",
            "y_predict.shape:  torch.Size([1024, 10])\n",
            "Progress222\n",
            "Progress2\n",
            "Progress3\n",
            "Progress4\n"
          ]
        },
        {
          "output_type": "stream",
          "name": "stderr",
          "text": [
            "\rtrain:  72%|███████▏  | 334/462 [15:43<05:41,  2.67s/it]"
          ]
        },
        {
          "output_type": "stream",
          "name": "stdout",
          "text": [
            "\n",
            "Progress1\n",
            "\n",
            "Progress111\n",
            "torch.Size([4, 256, 10])\n",
            "y_predict.shape:  torch.Size([1024, 10])\n",
            "Progress222\n",
            "Progress2\n",
            "Progress3\n",
            "Progress4\n"
          ]
        },
        {
          "output_type": "stream",
          "name": "stderr",
          "text": [
            "\rtrain:  73%|███████▎  | 335/462 [15:46<05:43,  2.71s/it]"
          ]
        },
        {
          "output_type": "stream",
          "name": "stdout",
          "text": [
            "\n",
            "Progress1\n",
            "\n",
            "Progress111\n",
            "torch.Size([4, 256, 10])\n",
            "y_predict.shape:  torch.Size([1024, 10])\n",
            "Progress222\n",
            "Progress2\n",
            "Progress3\n",
            "Progress4\n"
          ]
        },
        {
          "output_type": "stream",
          "name": "stderr",
          "text": [
            "\rtrain:  73%|███████▎  | 336/462 [15:49<06:15,  2.98s/it]"
          ]
        },
        {
          "output_type": "stream",
          "name": "stdout",
          "text": [
            "\n",
            "Progress1\n",
            "\n",
            "Progress111\n",
            "torch.Size([4, 256, 10])\n",
            "y_predict.shape:  torch.Size([1024, 10])\n",
            "Progress222\n",
            "Progress2\n",
            "Progress3\n",
            "Progress4\n"
          ]
        },
        {
          "output_type": "stream",
          "name": "stderr",
          "text": [
            "\rtrain:  73%|███████▎  | 337/462 [15:52<06:03,  2.91s/it]"
          ]
        },
        {
          "output_type": "stream",
          "name": "stdout",
          "text": [
            "\n",
            "Progress1\n",
            "\n",
            "Progress111\n",
            "torch.Size([4, 256, 10])\n",
            "y_predict.shape:  torch.Size([1024, 10])\n",
            "Progress222\n",
            "Progress2\n",
            "Progress3\n",
            "Progress4\n"
          ]
        },
        {
          "output_type": "stream",
          "name": "stderr",
          "text": [
            "\rtrain:  73%|███████▎  | 338/462 [15:54<05:44,  2.78s/it]"
          ]
        },
        {
          "output_type": "stream",
          "name": "stdout",
          "text": [
            "\n",
            "Progress1\n",
            "\n",
            "Progress111\n",
            "torch.Size([4, 256, 10])\n",
            "y_predict.shape:  torch.Size([1024, 10])\n",
            "Progress222\n",
            "Progress2\n",
            "Progress3\n",
            "Progress4\n"
          ]
        },
        {
          "output_type": "stream",
          "name": "stderr",
          "text": [
            "\rtrain:  73%|███████▎  | 339/462 [15:57<05:33,  2.71s/it]"
          ]
        },
        {
          "output_type": "stream",
          "name": "stdout",
          "text": [
            "\n",
            "Progress1\n",
            "\n",
            "Progress111\n",
            "torch.Size([4, 256, 10])\n",
            "y_predict.shape:  torch.Size([1024, 10])\n",
            "Progress222\n",
            "Progress2\n",
            "Progress3\n",
            "Progress4\n"
          ]
        },
        {
          "output_type": "stream",
          "name": "stderr",
          "text": [
            "\rtrain:  74%|███████▎  | 340/462 [15:59<05:24,  2.66s/it]"
          ]
        },
        {
          "output_type": "stream",
          "name": "stdout",
          "text": [
            "\n",
            "Progress1\n",
            "\n",
            "Progress111\n",
            "torch.Size([4, 256, 10])\n",
            "y_predict.shape:  torch.Size([1024, 10])\n",
            "Progress222\n",
            "Progress2\n",
            "Progress3\n",
            "Progress4\n"
          ]
        },
        {
          "output_type": "stream",
          "name": "stderr",
          "text": [
            "\rtrain:  74%|███████▍  | 341/462 [16:03<05:36,  2.78s/it]"
          ]
        },
        {
          "output_type": "stream",
          "name": "stdout",
          "text": [
            "\n",
            "Progress1\n",
            "\n",
            "Progress111\n",
            "torch.Size([4, 256, 10])\n",
            "y_predict.shape:  torch.Size([1024, 10])\n",
            "Progress222\n",
            "Progress2\n",
            "Progress3\n",
            "Progress4\n"
          ]
        },
        {
          "output_type": "stream",
          "name": "stderr",
          "text": [
            "\rtrain:  74%|███████▍  | 342/462 [16:06<06:06,  3.05s/it]"
          ]
        },
        {
          "output_type": "stream",
          "name": "stdout",
          "text": [
            "\n",
            "Progress1\n",
            "\n",
            "Progress111\n",
            "torch.Size([4, 256, 10])\n",
            "y_predict.shape:  torch.Size([1024, 10])\n",
            "Progress222\n",
            "Progress2\n",
            "Progress3\n",
            "Progress4\n"
          ]
        },
        {
          "output_type": "stream",
          "name": "stderr",
          "text": [
            "\rtrain:  74%|███████▍  | 343/462 [16:09<05:43,  2.89s/it]"
          ]
        },
        {
          "output_type": "stream",
          "name": "stdout",
          "text": [
            "\n",
            "Progress1\n",
            "\n",
            "Progress111\n",
            "torch.Size([4, 256, 10])\n",
            "y_predict.shape:  torch.Size([1024, 10])\n",
            "Progress222\n",
            "Progress2\n",
            "Progress3\n",
            "Progress4\n"
          ]
        },
        {
          "output_type": "stream",
          "name": "stderr",
          "text": [
            "\rtrain:  74%|███████▍  | 344/462 [16:11<05:28,  2.79s/it]"
          ]
        },
        {
          "output_type": "stream",
          "name": "stdout",
          "text": [
            "\n",
            "Progress1\n",
            "\n",
            "Progress111\n",
            "torch.Size([4, 256, 10])\n",
            "y_predict.shape:  torch.Size([1024, 10])\n",
            "Progress222\n",
            "Progress2\n",
            "Progress3\n",
            "Progress4\n"
          ]
        },
        {
          "output_type": "stream",
          "name": "stderr",
          "text": [
            "\rtrain:  75%|███████▍  | 345/462 [16:14<05:17,  2.71s/it]"
          ]
        },
        {
          "output_type": "stream",
          "name": "stdout",
          "text": [
            "\n",
            "Progress1\n",
            "\n",
            "Progress111\n",
            "torch.Size([4, 256, 10])\n",
            "y_predict.shape:  torch.Size([1024, 10])\n",
            "Progress222\n",
            "Progress2\n",
            "Progress3\n",
            "Progress4\n"
          ]
        },
        {
          "output_type": "stream",
          "name": "stderr",
          "text": [
            "\rtrain:  75%|███████▍  | 346/462 [16:17<05:19,  2.75s/it]"
          ]
        },
        {
          "output_type": "stream",
          "name": "stdout",
          "text": [
            "\n",
            "Progress1\n",
            "\n",
            "Progress111\n",
            "torch.Size([4, 256, 10])\n",
            "y_predict.shape:  torch.Size([1024, 10])\n",
            "Progress222\n",
            "Progress2\n",
            "Progress3\n",
            "Progress4\n"
          ]
        },
        {
          "output_type": "stream",
          "name": "stderr",
          "text": [
            "\rtrain:  75%|███████▌  | 347/462 [16:20<05:36,  2.93s/it]"
          ]
        },
        {
          "output_type": "stream",
          "name": "stdout",
          "text": [
            "\n",
            "Progress1\n",
            "\n",
            "Progress111\n",
            "torch.Size([4, 256, 10])\n",
            "y_predict.shape:  torch.Size([1024, 10])\n",
            "Progress222\n",
            "Progress2\n",
            "Progress3\n",
            "Progress4\n"
          ]
        },
        {
          "output_type": "stream",
          "name": "stderr",
          "text": [
            "\rtrain:  75%|███████▌  | 348/462 [16:23<05:33,  2.93s/it]"
          ]
        },
        {
          "output_type": "stream",
          "name": "stdout",
          "text": [
            "\n",
            "Progress1\n",
            "\n",
            "Progress111\n",
            "torch.Size([4, 256, 10])\n",
            "y_predict.shape:  torch.Size([1024, 10])\n",
            "Progress222\n",
            "Progress2\n",
            "Progress3\n",
            "Progress4\n"
          ]
        },
        {
          "output_type": "stream",
          "name": "stderr",
          "text": [
            "\rtrain:  76%|███████▌  | 349/462 [16:25<05:17,  2.81s/it]"
          ]
        },
        {
          "output_type": "stream",
          "name": "stdout",
          "text": [
            "\n",
            "Progress1\n",
            "\n",
            "Progress111\n",
            "torch.Size([4, 256, 10])\n",
            "y_predict.shape:  torch.Size([1024, 10])\n",
            "Progress222\n",
            "Progress2\n",
            "Progress3\n",
            "Progress4\n"
          ]
        },
        {
          "output_type": "stream",
          "name": "stderr",
          "text": [
            "\rtrain:  76%|███████▌  | 350/462 [16:28<05:04,  2.72s/it]"
          ]
        },
        {
          "output_type": "stream",
          "name": "stdout",
          "text": [
            "\n",
            "Progress1\n",
            "\n",
            "Progress111\n",
            "torch.Size([4, 256, 10])\n",
            "y_predict.shape:  torch.Size([1024, 10])\n",
            "Progress222\n",
            "Progress2\n",
            "Progress3\n",
            "Progress4\n"
          ]
        },
        {
          "output_type": "stream",
          "name": "stderr",
          "text": [
            "\rtrain:  76%|███████▌  | 351/462 [16:30<04:54,  2.66s/it]"
          ]
        },
        {
          "output_type": "stream",
          "name": "stdout",
          "text": [
            "\n",
            "Progress1\n",
            "\n",
            "Progress111\n",
            "torch.Size([4, 256, 10])\n",
            "y_predict.shape:  torch.Size([1024, 10])\n",
            "Progress222\n",
            "Progress2\n",
            "Progress3\n",
            "Progress4\n"
          ]
        },
        {
          "output_type": "stream",
          "name": "stderr",
          "text": [
            "\rtrain:  76%|███████▌  | 352/462 [16:34<05:23,  2.94s/it]"
          ]
        },
        {
          "output_type": "stream",
          "name": "stdout",
          "text": [
            "\n",
            "Progress1\n",
            "\n",
            "Progress111\n",
            "torch.Size([4, 256, 10])\n",
            "y_predict.shape:  torch.Size([1024, 10])\n",
            "Progress222\n",
            "Progress2\n",
            "Progress3\n",
            "Progress4\n"
          ]
        },
        {
          "output_type": "stream",
          "name": "stderr",
          "text": [
            "\rtrain:  76%|███████▋  | 353/462 [16:37<05:20,  2.94s/it]"
          ]
        },
        {
          "output_type": "stream",
          "name": "stdout",
          "text": [
            "\n",
            "Progress1\n",
            "\n",
            "Progress111\n",
            "torch.Size([4, 256, 10])\n",
            "y_predict.shape:  torch.Size([1024, 10])\n",
            "Progress222\n",
            "Progress2\n",
            "Progress3\n",
            "Progress4\n"
          ]
        },
        {
          "output_type": "stream",
          "name": "stderr",
          "text": [
            "\rtrain:  77%|███████▋  | 354/462 [16:39<05:03,  2.81s/it]"
          ]
        },
        {
          "output_type": "stream",
          "name": "stdout",
          "text": [
            "\n",
            "Progress1\n",
            "\n",
            "Progress111\n",
            "torch.Size([4, 256, 10])\n",
            "y_predict.shape:  torch.Size([1024, 10])\n",
            "Progress222\n",
            "Progress2\n",
            "Progress3\n",
            "Progress4\n"
          ]
        },
        {
          "output_type": "stream",
          "name": "stderr",
          "text": [
            "\rtrain:  77%|███████▋  | 355/462 [16:42<04:52,  2.74s/it]"
          ]
        },
        {
          "output_type": "stream",
          "name": "stdout",
          "text": [
            "\n",
            "Progress1\n",
            "\n",
            "Progress111\n",
            "torch.Size([4, 256, 10])\n",
            "y_predict.shape:  torch.Size([1024, 10])\n",
            "Progress222\n",
            "Progress2\n",
            "Progress3\n",
            "Progress4\n"
          ]
        },
        {
          "output_type": "stream",
          "name": "stderr",
          "text": [
            "\rtrain:  77%|███████▋  | 356/462 [16:45<04:43,  2.67s/it]"
          ]
        },
        {
          "output_type": "stream",
          "name": "stdout",
          "text": [
            "\n",
            "Progress1\n",
            "\n",
            "Progress111\n",
            "torch.Size([4, 256, 10])\n",
            "y_predict.shape:  torch.Size([1024, 10])\n",
            "Progress222\n",
            "Progress2\n",
            "Progress3\n",
            "Progress4\n"
          ]
        },
        {
          "output_type": "stream",
          "name": "stderr",
          "text": [
            "\rtrain:  77%|███████▋  | 357/462 [16:48<04:48,  2.75s/it]"
          ]
        },
        {
          "output_type": "stream",
          "name": "stdout",
          "text": [
            "\n",
            "Progress1\n",
            "\n",
            "Progress111\n",
            "torch.Size([4, 256, 10])\n",
            "y_predict.shape:  torch.Size([1024, 10])\n",
            "Progress222\n",
            "Progress2\n",
            "Progress3\n",
            "Progress4\n"
          ]
        },
        {
          "output_type": "stream",
          "name": "stderr",
          "text": [
            "\rtrain:  77%|███████▋  | 358/462 [16:51<05:02,  2.91s/it]"
          ]
        },
        {
          "output_type": "stream",
          "name": "stdout",
          "text": [
            "\n",
            "Progress1\n",
            "\n",
            "Progress111\n",
            "torch.Size([4, 256, 10])\n",
            "y_predict.shape:  torch.Size([1024, 10])\n",
            "Progress222\n",
            "Progress2\n",
            "Progress3\n",
            "Progress4\n"
          ]
        },
        {
          "output_type": "stream",
          "name": "stderr",
          "text": [
            "\rtrain:  78%|███████▊  | 359/462 [16:54<05:02,  2.94s/it]"
          ]
        },
        {
          "output_type": "stream",
          "name": "stdout",
          "text": [
            "\n",
            "Progress1\n",
            "\n",
            "Progress111\n",
            "torch.Size([4, 256, 10])\n",
            "y_predict.shape:  torch.Size([1024, 10])\n",
            "Progress222\n",
            "Progress2\n",
            "Progress3\n",
            "Progress4\n"
          ]
        },
        {
          "output_type": "stream",
          "name": "stderr",
          "text": [
            "\rtrain:  78%|███████▊  | 360/462 [16:56<04:47,  2.82s/it]"
          ]
        },
        {
          "output_type": "stream",
          "name": "stdout",
          "text": [
            "\n",
            "Progress1\n",
            "\n",
            "Progress111\n",
            "torch.Size([4, 256, 10])\n",
            "y_predict.shape:  torch.Size([1024, 10])\n",
            "Progress222\n",
            "Progress2\n",
            "Progress3\n",
            "Progress4\n"
          ]
        },
        {
          "output_type": "stream",
          "name": "stderr",
          "text": [
            "\rtrain:  78%|███████▊  | 361/462 [16:59<04:35,  2.73s/it]"
          ]
        },
        {
          "output_type": "stream",
          "name": "stdout",
          "text": [
            "\n",
            "Progress1\n",
            "\n",
            "Progress111\n",
            "torch.Size([4, 256, 10])\n",
            "y_predict.shape:  torch.Size([1024, 10])\n",
            "Progress222\n",
            "Progress2\n",
            "Progress3\n",
            "Progress4\n"
          ]
        },
        {
          "output_type": "stream",
          "name": "stderr",
          "text": [
            "\rtrain:  78%|███████▊  | 362/462 [17:01<04:25,  2.66s/it]"
          ]
        },
        {
          "output_type": "stream",
          "name": "stdout",
          "text": [
            "\n",
            "Progress1\n",
            "\n",
            "Progress111\n",
            "torch.Size([4, 256, 10])\n",
            "y_predict.shape:  torch.Size([1024, 10])\n",
            "Progress222\n",
            "Progress2\n",
            "Progress3\n",
            "Progress4\n"
          ]
        },
        {
          "output_type": "stream",
          "name": "stderr",
          "text": [
            "\rtrain:  79%|███████▊  | 363/462 [17:04<04:34,  2.77s/it]"
          ]
        },
        {
          "output_type": "stream",
          "name": "stdout",
          "text": [
            "\n",
            "Progress1\n",
            "\n",
            "Progress111\n",
            "torch.Size([4, 256, 10])\n",
            "y_predict.shape:  torch.Size([1024, 10])\n",
            "Progress222\n",
            "Progress2\n",
            "Progress3\n",
            "Progress4\n"
          ]
        },
        {
          "output_type": "stream",
          "name": "stderr",
          "text": [
            "\rtrain:  79%|███████▉  | 364/462 [17:08<04:49,  2.95s/it]"
          ]
        },
        {
          "output_type": "stream",
          "name": "stdout",
          "text": [
            "\n",
            "Progress1\n",
            "\n",
            "Progress111\n",
            "torch.Size([4, 256, 10])\n",
            "y_predict.shape:  torch.Size([1024, 10])\n",
            "Progress222\n",
            "Progress2\n",
            "Progress3\n",
            "Progress4\n"
          ]
        },
        {
          "output_type": "stream",
          "name": "stderr",
          "text": [
            "\rtrain:  79%|███████▉  | 365/462 [17:11<04:45,  2.94s/it]"
          ]
        },
        {
          "output_type": "stream",
          "name": "stdout",
          "text": [
            "\n",
            "Progress1\n",
            "\n",
            "Progress111\n",
            "torch.Size([4, 256, 10])\n",
            "y_predict.shape:  torch.Size([1024, 10])\n",
            "Progress222\n",
            "Progress2\n",
            "Progress3\n",
            "Progress4\n"
          ]
        },
        {
          "output_type": "stream",
          "name": "stderr",
          "text": [
            "\rtrain:  79%|███████▉  | 366/462 [17:13<04:29,  2.81s/it]"
          ]
        },
        {
          "output_type": "stream",
          "name": "stdout",
          "text": [
            "\n",
            "Progress1\n",
            "\n",
            "Progress111\n",
            "torch.Size([4, 256, 10])\n",
            "y_predict.shape:  torch.Size([1024, 10])\n",
            "Progress222\n",
            "Progress2\n",
            "Progress3\n",
            "Progress4\n"
          ]
        },
        {
          "output_type": "stream",
          "name": "stderr",
          "text": [
            "\rtrain:  79%|███████▉  | 367/462 [17:16<04:18,  2.72s/it]"
          ]
        },
        {
          "output_type": "stream",
          "name": "stdout",
          "text": [
            "\n",
            "Progress1\n",
            "\n",
            "Progress111\n",
            "torch.Size([4, 256, 10])\n",
            "y_predict.shape:  torch.Size([1024, 10])\n",
            "Progress222\n",
            "Progress2\n",
            "Progress3\n",
            "Progress4\n"
          ]
        },
        {
          "output_type": "stream",
          "name": "stderr",
          "text": [
            "\rtrain:  80%|███████▉  | 368/462 [17:18<04:08,  2.64s/it]"
          ]
        },
        {
          "output_type": "stream",
          "name": "stdout",
          "text": [
            "\n",
            "Progress1\n",
            "\n",
            "Progress111\n",
            "torch.Size([4, 256, 10])\n",
            "y_predict.shape:  torch.Size([1024, 10])\n",
            "Progress222\n",
            "Progress2\n",
            "Progress3\n",
            "Progress4\n"
          ]
        },
        {
          "output_type": "stream",
          "name": "stderr",
          "text": [
            "\rtrain:  80%|███████▉  | 369/462 [17:21<04:20,  2.80s/it]"
          ]
        },
        {
          "output_type": "stream",
          "name": "stdout",
          "text": [
            "\n",
            "Progress1\n",
            "\n",
            "Progress111\n",
            "torch.Size([4, 256, 10])\n",
            "y_predict.shape:  torch.Size([1024, 10])\n",
            "Progress222\n",
            "Progress2\n",
            "Progress3\n",
            "Progress4\n"
          ]
        },
        {
          "output_type": "stream",
          "name": "stderr",
          "text": [
            "\rtrain:  80%|████████  | 370/462 [17:25<04:39,  3.03s/it]"
          ]
        },
        {
          "output_type": "stream",
          "name": "stdout",
          "text": [
            "\n",
            "Progress1\n",
            "\n",
            "Progress111\n",
            "torch.Size([4, 256, 10])\n",
            "y_predict.shape:  torch.Size([1024, 10])\n",
            "Progress222\n",
            "Progress2\n",
            "Progress3\n",
            "Progress4\n"
          ]
        },
        {
          "output_type": "stream",
          "name": "stderr",
          "text": [
            "\rtrain:  80%|████████  | 371/462 [17:27<04:19,  2.86s/it]"
          ]
        },
        {
          "output_type": "stream",
          "name": "stdout",
          "text": [
            "\n",
            "Progress1\n",
            "\n",
            "Progress111\n",
            "torch.Size([4, 256, 10])\n",
            "y_predict.shape:  torch.Size([1024, 10])\n",
            "Progress222\n",
            "Progress2\n",
            "Progress3\n",
            "Progress4\n"
          ]
        },
        {
          "output_type": "stream",
          "name": "stderr",
          "text": [
            "\rtrain:  81%|████████  | 372/462 [17:30<04:06,  2.73s/it]"
          ]
        },
        {
          "output_type": "stream",
          "name": "stdout",
          "text": [
            "\n",
            "Progress1\n",
            "\n",
            "Progress111\n",
            "torch.Size([4, 256, 10])\n",
            "y_predict.shape:  torch.Size([1024, 10])\n",
            "Progress222\n",
            "Progress2\n",
            "Progress3\n",
            "Progress4\n"
          ]
        },
        {
          "output_type": "stream",
          "name": "stderr",
          "text": [
            "\rtrain:  81%|████████  | 373/462 [17:32<03:56,  2.66s/it]"
          ]
        },
        {
          "output_type": "stream",
          "name": "stdout",
          "text": [
            "\n",
            "Progress1\n",
            "\n",
            "Progress111\n",
            "torch.Size([4, 256, 10])\n",
            "y_predict.shape:  torch.Size([1024, 10])\n",
            "Progress222\n",
            "Progress2\n",
            "Progress3\n",
            "Progress4\n"
          ]
        },
        {
          "output_type": "stream",
          "name": "stderr",
          "text": [
            "\rtrain:  81%|████████  | 374/462 [17:35<03:56,  2.69s/it]"
          ]
        },
        {
          "output_type": "stream",
          "name": "stdout",
          "text": [
            "\n",
            "Progress1\n",
            "\n",
            "Progress111\n",
            "torch.Size([4, 256, 10])\n",
            "y_predict.shape:  torch.Size([1024, 10])\n",
            "Progress222\n",
            "Progress2\n",
            "Progress3\n",
            "Progress4\n"
          ]
        },
        {
          "output_type": "stream",
          "name": "stderr",
          "text": [
            "\rtrain:  81%|████████  | 375/462 [17:39<04:25,  3.05s/it]"
          ]
        },
        {
          "output_type": "stream",
          "name": "stdout",
          "text": [
            "\n",
            "Progress1\n",
            "\n",
            "Progress111\n",
            "torch.Size([4, 256, 10])\n",
            "y_predict.shape:  torch.Size([1024, 10])\n",
            "Progress222\n",
            "Progress2\n",
            "Progress3\n",
            "Progress4\n"
          ]
        },
        {
          "output_type": "stream",
          "name": "stderr",
          "text": [
            "\rtrain:  81%|████████▏ | 376/462 [17:41<04:08,  2.89s/it]"
          ]
        },
        {
          "output_type": "stream",
          "name": "stdout",
          "text": [
            "\n",
            "Progress1\n",
            "\n",
            "Progress111\n",
            "torch.Size([4, 256, 10])\n",
            "y_predict.shape:  torch.Size([1024, 10])\n",
            "Progress222\n",
            "Progress2\n",
            "Progress3\n",
            "Progress4\n"
          ]
        },
        {
          "output_type": "stream",
          "name": "stderr",
          "text": [
            "\rtrain:  82%|████████▏ | 377/462 [17:44<03:54,  2.76s/it]"
          ]
        },
        {
          "output_type": "stream",
          "name": "stdout",
          "text": [
            "\n",
            "Progress1\n",
            "\n",
            "Progress111\n",
            "torch.Size([4, 256, 10])\n",
            "y_predict.shape:  torch.Size([1024, 10])\n",
            "Progress222\n",
            "Progress2\n",
            "Progress3\n",
            "Progress4\n"
          ]
        },
        {
          "output_type": "stream",
          "name": "stderr",
          "text": [
            "\rtrain:  82%|████████▏ | 378/462 [17:46<03:44,  2.67s/it]"
          ]
        },
        {
          "output_type": "stream",
          "name": "stdout",
          "text": [
            "\n",
            "Progress1\n",
            "\n",
            "Progress111\n",
            "torch.Size([4, 256, 10])\n",
            "y_predict.shape:  torch.Size([1024, 10])\n",
            "Progress222\n",
            "Progress2\n",
            "Progress3\n",
            "Progress4\n"
          ]
        },
        {
          "output_type": "stream",
          "name": "stderr",
          "text": [
            "\rtrain:  82%|████████▏ | 379/462 [17:49<03:39,  2.64s/it]"
          ]
        },
        {
          "output_type": "stream",
          "name": "stdout",
          "text": [
            "\n",
            "Progress1\n",
            "\n",
            "Progress111\n",
            "torch.Size([4, 256, 10])\n",
            "y_predict.shape:  torch.Size([1024, 10])\n",
            "Progress222\n",
            "Progress2\n",
            "Progress3\n",
            "Progress4\n"
          ]
        },
        {
          "output_type": "stream",
          "name": "stderr",
          "text": [
            "\rtrain:  82%|████████▏ | 380/462 [17:52<03:48,  2.79s/it]"
          ]
        },
        {
          "output_type": "stream",
          "name": "stdout",
          "text": [
            "\n",
            "Progress1\n",
            "\n",
            "Progress111\n",
            "torch.Size([4, 256, 10])\n",
            "y_predict.shape:  torch.Size([1024, 10])\n",
            "Progress222\n",
            "Progress2\n",
            "Progress3\n",
            "Progress4\n"
          ]
        },
        {
          "output_type": "stream",
          "name": "stderr",
          "text": [
            "\rtrain:  82%|████████▏ | 381/462 [17:55<03:58,  2.94s/it]"
          ]
        },
        {
          "output_type": "stream",
          "name": "stdout",
          "text": [
            "\n",
            "Progress1\n",
            "\n",
            "Progress111\n",
            "torch.Size([4, 256, 10])\n",
            "y_predict.shape:  torch.Size([1024, 10])\n",
            "Progress222\n",
            "Progress2\n",
            "Progress3\n",
            "Progress4\n"
          ]
        },
        {
          "output_type": "stream",
          "name": "stderr",
          "text": [
            "\rtrain:  83%|████████▎ | 382/462 [17:58<03:48,  2.86s/it]"
          ]
        },
        {
          "output_type": "stream",
          "name": "stdout",
          "text": [
            "\n",
            "Progress1\n",
            "\n",
            "Progress111\n",
            "torch.Size([4, 256, 10])\n",
            "y_predict.shape:  torch.Size([1024, 10])\n",
            "Progress222\n",
            "Progress2\n",
            "Progress3\n",
            "Progress4\n"
          ]
        },
        {
          "output_type": "stream",
          "name": "stderr",
          "text": [
            "\rtrain:  83%|████████▎ | 383/462 [18:00<03:36,  2.74s/it]"
          ]
        },
        {
          "output_type": "stream",
          "name": "stdout",
          "text": [
            "\n",
            "Progress1\n",
            "\n",
            "Progress111\n",
            "torch.Size([4, 256, 10])\n",
            "y_predict.shape:  torch.Size([1024, 10])\n",
            "Progress222\n",
            "Progress2\n",
            "Progress3\n",
            "Progress4\n"
          ]
        },
        {
          "output_type": "stream",
          "name": "stderr",
          "text": [
            "\rtrain:  83%|████████▎ | 384/462 [18:03<03:28,  2.67s/it]"
          ]
        },
        {
          "output_type": "stream",
          "name": "stdout",
          "text": [
            "\n",
            "Progress1\n",
            "\n",
            "Progress111\n",
            "torch.Size([4, 256, 10])\n",
            "y_predict.shape:  torch.Size([1024, 10])\n",
            "Progress222\n",
            "Progress2\n",
            "Progress3\n",
            "Progress4\n"
          ]
        },
        {
          "output_type": "stream",
          "name": "stderr",
          "text": [
            "\rtrain:  83%|████████▎ | 385/462 [18:06<03:22,  2.64s/it]"
          ]
        },
        {
          "output_type": "stream",
          "name": "stdout",
          "text": [
            "\n",
            "Progress1\n",
            "\n",
            "Progress111\n",
            "torch.Size([4, 256, 10])\n",
            "y_predict.shape:  torch.Size([1024, 10])\n",
            "Progress222\n",
            "Progress2\n",
            "Progress3\n",
            "Progress4\n"
          ]
        },
        {
          "output_type": "stream",
          "name": "stderr",
          "text": [
            "\rtrain:  84%|████████▎ | 386/462 [18:09<03:31,  2.78s/it]"
          ]
        },
        {
          "output_type": "stream",
          "name": "stdout",
          "text": [
            "\n",
            "Progress1\n",
            "\n",
            "Progress111\n",
            "torch.Size([4, 256, 10])\n",
            "y_predict.shape:  torch.Size([1024, 10])\n",
            "Progress222\n",
            "Progress2\n",
            "Progress3\n",
            "Progress4\n"
          ]
        },
        {
          "output_type": "stream",
          "name": "stderr",
          "text": [
            "\rtrain:  84%|████████▍ | 387/462 [18:12<03:47,  3.03s/it]"
          ]
        },
        {
          "output_type": "stream",
          "name": "stdout",
          "text": [
            "\n",
            "Progress1\n",
            "\n",
            "Progress111\n",
            "torch.Size([4, 256, 10])\n",
            "y_predict.shape:  torch.Size([1024, 10])\n",
            "Progress222\n",
            "Progress2\n",
            "Progress3\n",
            "Progress4\n"
          ]
        },
        {
          "output_type": "stream",
          "name": "stderr",
          "text": [
            "\rtrain:  84%|████████▍ | 388/462 [18:15<03:30,  2.85s/it]"
          ]
        },
        {
          "output_type": "stream",
          "name": "stdout",
          "text": [
            "\n",
            "Progress1\n",
            "\n",
            "Progress111\n",
            "torch.Size([4, 256, 10])\n",
            "y_predict.shape:  torch.Size([1024, 10])\n",
            "Progress222\n",
            "Progress2\n",
            "Progress3\n",
            "Progress4\n"
          ]
        },
        {
          "output_type": "stream",
          "name": "stderr",
          "text": [
            "\rtrain:  84%|████████▍ | 389/462 [18:17<03:20,  2.74s/it]"
          ]
        },
        {
          "output_type": "stream",
          "name": "stdout",
          "text": [
            "\n",
            "Progress1\n",
            "\n",
            "Progress111\n",
            "torch.Size([4, 256, 10])\n",
            "y_predict.shape:  torch.Size([1024, 10])\n",
            "Progress222\n",
            "Progress2\n",
            "Progress3\n",
            "Progress4\n"
          ]
        },
        {
          "output_type": "stream",
          "name": "stderr",
          "text": [
            "\rtrain:  84%|████████▍ | 390/462 [18:20<03:13,  2.68s/it]"
          ]
        },
        {
          "output_type": "stream",
          "name": "stdout",
          "text": [
            "\n",
            "Progress1\n",
            "\n",
            "Progress111\n",
            "torch.Size([4, 256, 10])\n",
            "y_predict.shape:  torch.Size([1024, 10])\n",
            "Progress222\n",
            "Progress2\n",
            "Progress3\n",
            "Progress4\n"
          ]
        },
        {
          "output_type": "stream",
          "name": "stderr",
          "text": [
            "\rtrain:  85%|████████▍ | 391/462 [18:23<03:12,  2.71s/it]"
          ]
        },
        {
          "output_type": "stream",
          "name": "stdout",
          "text": [
            "\n",
            "Progress1\n",
            "\n",
            "Progress111\n",
            "torch.Size([4, 256, 10])\n",
            "y_predict.shape:  torch.Size([1024, 10])\n",
            "Progress222\n",
            "Progress2\n",
            "Progress3\n",
            "Progress4\n"
          ]
        },
        {
          "output_type": "stream",
          "name": "stderr",
          "text": [
            "\rtrain:  85%|████████▍ | 392/462 [18:26<03:34,  3.07s/it]"
          ]
        },
        {
          "output_type": "stream",
          "name": "stdout",
          "text": [
            "\n",
            "Progress1\n",
            "\n",
            "Progress111\n",
            "torch.Size([4, 256, 10])\n",
            "y_predict.shape:  torch.Size([1024, 10])\n",
            "Progress222\n",
            "Progress2\n",
            "Progress3\n",
            "Progress4\n"
          ]
        },
        {
          "output_type": "stream",
          "name": "stderr",
          "text": [
            "\rtrain:  85%|████████▌ | 393/462 [18:29<03:20,  2.90s/it]"
          ]
        },
        {
          "output_type": "stream",
          "name": "stdout",
          "text": [
            "\n",
            "Progress1\n",
            "\n",
            "Progress111\n",
            "torch.Size([4, 256, 10])\n",
            "y_predict.shape:  torch.Size([1024, 10])\n",
            "Progress222\n",
            "Progress2\n",
            "Progress3\n",
            "Progress4\n"
          ]
        },
        {
          "output_type": "stream",
          "name": "stderr",
          "text": [
            "\rtrain:  85%|████████▌ | 394/462 [18:31<03:10,  2.79s/it]"
          ]
        },
        {
          "output_type": "stream",
          "name": "stdout",
          "text": [
            "\n",
            "Progress1\n",
            "\n",
            "Progress111\n",
            "torch.Size([4, 256, 10])\n",
            "y_predict.shape:  torch.Size([1024, 10])\n",
            "Progress222\n",
            "Progress2\n",
            "Progress3\n",
            "Progress4\n"
          ]
        },
        {
          "output_type": "stream",
          "name": "stderr",
          "text": [
            "\rtrain:  85%|████████▌ | 395/462 [18:34<03:01,  2.71s/it]"
          ]
        },
        {
          "output_type": "stream",
          "name": "stdout",
          "text": [
            "\n",
            "Progress1\n",
            "\n",
            "Progress111\n",
            "torch.Size([4, 256, 10])\n",
            "y_predict.shape:  torch.Size([1024, 10])\n",
            "Progress222\n",
            "Progress2\n",
            "Progress3\n",
            "Progress4\n"
          ]
        },
        {
          "output_type": "stream",
          "name": "stderr",
          "text": [
            "\rtrain:  86%|████████▌ | 396/462 [18:37<02:58,  2.71s/it]"
          ]
        },
        {
          "output_type": "stream",
          "name": "stdout",
          "text": [
            "\n",
            "Progress1\n",
            "\n",
            "Progress111\n",
            "torch.Size([4, 256, 10])\n",
            "y_predict.shape:  torch.Size([1024, 10])\n",
            "Progress222\n",
            "Progress2\n",
            "Progress3\n",
            "Progress4\n"
          ]
        },
        {
          "output_type": "stream",
          "name": "stderr",
          "text": [
            "\rtrain:  86%|████████▌ | 397/462 [18:40<03:06,  2.86s/it]"
          ]
        },
        {
          "output_type": "stream",
          "name": "stdout",
          "text": [
            "\n",
            "Progress1\n",
            "\n",
            "Progress111\n",
            "torch.Size([4, 256, 10])\n",
            "y_predict.shape:  torch.Size([1024, 10])\n",
            "Progress222\n",
            "Progress2\n",
            "Progress3\n",
            "Progress4\n"
          ]
        },
        {
          "output_type": "stream",
          "name": "stderr",
          "text": [
            "\rtrain:  86%|████████▌ | 398/462 [18:43<03:10,  2.97s/it]"
          ]
        },
        {
          "output_type": "stream",
          "name": "stdout",
          "text": [
            "\n",
            "Progress1\n",
            "\n",
            "Progress111\n",
            "torch.Size([4, 256, 10])\n",
            "y_predict.shape:  torch.Size([1024, 10])\n",
            "Progress222\n",
            "Progress2\n",
            "Progress3\n",
            "Progress4\n"
          ]
        },
        {
          "output_type": "stream",
          "name": "stderr",
          "text": [
            "\rtrain:  86%|████████▋ | 399/462 [18:46<02:59,  2.84s/it]"
          ]
        },
        {
          "output_type": "stream",
          "name": "stdout",
          "text": [
            "\n",
            "Progress1\n",
            "\n",
            "Progress111\n",
            "torch.Size([4, 256, 10])\n",
            "y_predict.shape:  torch.Size([1024, 10])\n",
            "Progress222\n",
            "Progress2\n",
            "Progress3\n",
            "Progress4\n"
          ]
        },
        {
          "output_type": "stream",
          "name": "stderr",
          "text": [
            "\rtrain:  87%|████████▋ | 400/462 [18:48<02:49,  2.74s/it]"
          ]
        },
        {
          "output_type": "stream",
          "name": "stdout",
          "text": [
            "\n",
            "Progress1\n",
            "\n",
            "Progress111\n",
            "torch.Size([4, 256, 10])\n",
            "y_predict.shape:  torch.Size([1024, 10])\n",
            "Progress222\n",
            "Progress2\n",
            "Progress3\n",
            "Progress4\n"
          ]
        },
        {
          "output_type": "stream",
          "name": "stderr",
          "text": [
            "\rtrain:  87%|████████▋ | 401/462 [18:51<02:42,  2.67s/it]"
          ]
        },
        {
          "output_type": "stream",
          "name": "stdout",
          "text": [
            "\n",
            "Progress1\n",
            "\n",
            "Progress111\n",
            "torch.Size([4, 256, 10])\n",
            "y_predict.shape:  torch.Size([1024, 10])\n",
            "Progress222\n",
            "Progress2\n",
            "Progress3\n",
            "Progress4\n"
          ]
        },
        {
          "output_type": "stream",
          "name": "stderr",
          "text": [
            "\rtrain:  87%|████████▋ | 402/462 [18:54<02:46,  2.77s/it]"
          ]
        },
        {
          "output_type": "stream",
          "name": "stdout",
          "text": [
            "\n",
            "Progress1\n",
            "\n",
            "Progress111\n",
            "torch.Size([4, 256, 10])\n",
            "y_predict.shape:  torch.Size([1024, 10])\n",
            "Progress222\n",
            "Progress2\n",
            "Progress3\n",
            "Progress4\n"
          ]
        },
        {
          "output_type": "stream",
          "name": "stderr",
          "text": [
            "\rtrain:  87%|████████▋ | 403/462 [18:57<02:57,  3.01s/it]"
          ]
        },
        {
          "output_type": "stream",
          "name": "stdout",
          "text": [
            "\n",
            "Progress1\n",
            "\n",
            "Progress111\n",
            "torch.Size([4, 256, 10])\n",
            "y_predict.shape:  torch.Size([1024, 10])\n",
            "Progress222\n",
            "Progress2\n",
            "Progress3\n",
            "Progress4\n"
          ]
        },
        {
          "output_type": "stream",
          "name": "stderr",
          "text": [
            "\rtrain:  87%|████████▋ | 404/462 [19:00<02:48,  2.90s/it]"
          ]
        },
        {
          "output_type": "stream",
          "name": "stdout",
          "text": [
            "\n",
            "Progress1\n",
            "\n",
            "Progress111\n",
            "torch.Size([4, 256, 10])\n",
            "y_predict.shape:  torch.Size([1024, 10])\n",
            "Progress222\n",
            "Progress2\n",
            "Progress3\n",
            "Progress4\n"
          ]
        },
        {
          "output_type": "stream",
          "name": "stderr",
          "text": [
            "\rtrain:  88%|████████▊ | 405/462 [19:02<02:38,  2.78s/it]"
          ]
        },
        {
          "output_type": "stream",
          "name": "stdout",
          "text": [
            "\n",
            "Progress1\n",
            "\n",
            "Progress111\n",
            "torch.Size([4, 256, 10])\n",
            "y_predict.shape:  torch.Size([1024, 10])\n",
            "Progress222\n",
            "Progress2\n",
            "Progress3\n",
            "Progress4\n"
          ]
        },
        {
          "output_type": "stream",
          "name": "stderr",
          "text": [
            "\rtrain:  88%|████████▊ | 406/462 [19:05<02:31,  2.70s/it]"
          ]
        },
        {
          "output_type": "stream",
          "name": "stdout",
          "text": [
            "\n",
            "Progress1\n",
            "\n",
            "Progress111\n",
            "torch.Size([4, 256, 10])\n",
            "y_predict.shape:  torch.Size([1024, 10])\n",
            "Progress222\n",
            "Progress2\n",
            "Progress3\n",
            "Progress4\n"
          ]
        },
        {
          "output_type": "stream",
          "name": "stderr",
          "text": [
            "\rtrain:  88%|████████▊ | 407/462 [19:07<02:25,  2.64s/it]"
          ]
        },
        {
          "output_type": "stream",
          "name": "stdout",
          "text": [
            "\n",
            "Progress1\n",
            "\n",
            "Progress111\n",
            "torch.Size([4, 256, 10])\n",
            "y_predict.shape:  torch.Size([1024, 10])\n",
            "Progress222\n",
            "Progress2\n",
            "Progress3\n",
            "Progress4\n"
          ]
        },
        {
          "output_type": "stream",
          "name": "stderr",
          "text": [
            "\rtrain:  88%|████████▊ | 408/462 [19:11<02:31,  2.81s/it]"
          ]
        },
        {
          "output_type": "stream",
          "name": "stdout",
          "text": [
            "\n",
            "Progress1\n",
            "\n",
            "Progress111\n",
            "torch.Size([4, 256, 10])\n",
            "y_predict.shape:  torch.Size([1024, 10])\n",
            "Progress222\n",
            "Progress2\n",
            "Progress3\n",
            "Progress4\n"
          ]
        },
        {
          "output_type": "stream",
          "name": "stderr",
          "text": [
            "\rtrain:  89%|████████▊ | 409/462 [19:14<02:36,  2.96s/it]"
          ]
        },
        {
          "output_type": "stream",
          "name": "stdout",
          "text": [
            "\n",
            "Progress1\n",
            "\n",
            "Progress111\n",
            "torch.Size([4, 256, 10])\n",
            "y_predict.shape:  torch.Size([1024, 10])\n",
            "Progress222\n",
            "Progress2\n",
            "Progress3\n",
            "Progress4\n"
          ]
        },
        {
          "output_type": "stream",
          "name": "stderr",
          "text": [
            "\rtrain:  89%|████████▊ | 410/462 [19:17<02:29,  2.87s/it]"
          ]
        },
        {
          "output_type": "stream",
          "name": "stdout",
          "text": [
            "\n",
            "Progress1\n",
            "\n",
            "Progress111\n",
            "torch.Size([4, 256, 10])\n",
            "y_predict.shape:  torch.Size([1024, 10])\n",
            "Progress222\n",
            "Progress2\n",
            "Progress3\n",
            "Progress4\n"
          ]
        },
        {
          "output_type": "stream",
          "name": "stderr",
          "text": [
            "\rtrain:  89%|████████▉ | 411/462 [19:19<02:20,  2.76s/it]"
          ]
        },
        {
          "output_type": "stream",
          "name": "stdout",
          "text": [
            "\n",
            "Progress1\n",
            "\n",
            "Progress111\n",
            "torch.Size([4, 256, 10])\n",
            "y_predict.shape:  torch.Size([1024, 10])\n",
            "Progress222\n",
            "Progress2\n",
            "Progress3\n",
            "Progress4\n"
          ]
        },
        {
          "output_type": "stream",
          "name": "stderr",
          "text": [
            "\rtrain:  89%|████████▉ | 412/462 [19:22<02:14,  2.69s/it]"
          ]
        },
        {
          "output_type": "stream",
          "name": "stdout",
          "text": [
            "\n",
            "Progress1\n",
            "\n",
            "Progress111\n",
            "torch.Size([4, 256, 10])\n",
            "y_predict.shape:  torch.Size([1024, 10])\n",
            "Progress222\n",
            "Progress2\n",
            "Progress3\n",
            "Progress4\n"
          ]
        },
        {
          "output_type": "stream",
          "name": "stderr",
          "text": [
            "\rtrain:  89%|████████▉ | 413/462 [19:24<02:10,  2.66s/it]"
          ]
        },
        {
          "output_type": "stream",
          "name": "stdout",
          "text": [
            "\n",
            "Progress1\n",
            "\n",
            "Progress111\n",
            "torch.Size([4, 256, 10])\n",
            "y_predict.shape:  torch.Size([1024, 10])\n",
            "Progress222\n",
            "Progress2\n",
            "Progress3\n",
            "Progress4\n"
          ]
        },
        {
          "output_type": "stream",
          "name": "stderr",
          "text": [
            "\rtrain:  90%|████████▉ | 414/462 [19:27<02:15,  2.83s/it]"
          ]
        },
        {
          "output_type": "stream",
          "name": "stdout",
          "text": [
            "\n",
            "Progress1\n",
            "\n",
            "Progress111\n",
            "torch.Size([4, 256, 10])\n",
            "y_predict.shape:  torch.Size([1024, 10])\n",
            "Progress222\n",
            "Progress2\n",
            "Progress3\n",
            "Progress4\n"
          ]
        },
        {
          "output_type": "stream",
          "name": "stderr",
          "text": [
            "\rtrain:  90%|████████▉ | 415/462 [19:31<02:23,  3.06s/it]"
          ]
        },
        {
          "output_type": "stream",
          "name": "stdout",
          "text": [
            "\n",
            "Progress1\n",
            "\n",
            "Progress111\n",
            "torch.Size([4, 256, 10])\n",
            "y_predict.shape:  torch.Size([1024, 10])\n",
            "Progress222\n",
            "Progress2\n",
            "Progress3\n",
            "Progress4\n"
          ]
        },
        {
          "output_type": "stream",
          "name": "stderr",
          "text": [
            "\rtrain:  90%|█████████ | 416/462 [19:34<02:14,  2.92s/it]"
          ]
        },
        {
          "output_type": "stream",
          "name": "stdout",
          "text": [
            "\n",
            "Progress1\n",
            "\n",
            "Progress111\n",
            "torch.Size([4, 256, 10])\n",
            "y_predict.shape:  torch.Size([1024, 10])\n",
            "Progress222\n",
            "Progress2\n",
            "Progress3\n",
            "Progress4\n"
          ]
        },
        {
          "output_type": "stream",
          "name": "stderr",
          "text": [
            "\rtrain:  90%|█████████ | 417/462 [19:36<02:06,  2.82s/it]"
          ]
        },
        {
          "output_type": "stream",
          "name": "stdout",
          "text": [
            "\n",
            "Progress1\n",
            "\n",
            "Progress111\n",
            "torch.Size([4, 256, 10])\n",
            "y_predict.shape:  torch.Size([1024, 10])\n",
            "Progress222\n",
            "Progress2\n",
            "Progress3\n",
            "Progress4\n"
          ]
        },
        {
          "output_type": "stream",
          "name": "stderr",
          "text": [
            "\rtrain:  90%|█████████ | 418/462 [19:39<01:59,  2.71s/it]"
          ]
        },
        {
          "output_type": "stream",
          "name": "stdout",
          "text": [
            "\n",
            "Progress1\n",
            "\n",
            "Progress111\n",
            "torch.Size([4, 256, 10])\n",
            "y_predict.shape:  torch.Size([1024, 10])\n",
            "Progress222\n",
            "Progress2\n",
            "Progress3\n",
            "Progress4\n"
          ]
        },
        {
          "output_type": "stream",
          "name": "stderr",
          "text": [
            "\rtrain:  91%|█████████ | 419/462 [19:41<01:57,  2.74s/it]"
          ]
        },
        {
          "output_type": "stream",
          "name": "stdout",
          "text": [
            "\n",
            "Progress1\n",
            "\n",
            "Progress111\n",
            "torch.Size([4, 256, 10])\n",
            "y_predict.shape:  torch.Size([1024, 10])\n",
            "Progress222\n",
            "Progress2\n",
            "Progress3\n",
            "Progress4\n"
          ]
        },
        {
          "output_type": "stream",
          "name": "stderr",
          "text": [
            "\rtrain:  91%|█████████ | 420/462 [19:45<02:00,  2.86s/it]"
          ]
        },
        {
          "output_type": "stream",
          "name": "stdout",
          "text": [
            "\n",
            "Progress1\n",
            "\n",
            "Progress111\n",
            "torch.Size([4, 256, 10])\n",
            "y_predict.shape:  torch.Size([1024, 10])\n",
            "Progress222\n",
            "Progress2\n",
            "Progress3\n",
            "Progress4\n"
          ]
        },
        {
          "output_type": "stream",
          "name": "stderr",
          "text": [
            "\rtrain:  91%|█████████ | 421/462 [19:48<02:00,  2.95s/it]"
          ]
        },
        {
          "output_type": "stream",
          "name": "stdout",
          "text": [
            "\n",
            "Progress1\n",
            "\n",
            "Progress111\n",
            "torch.Size([4, 256, 10])\n",
            "y_predict.shape:  torch.Size([1024, 10])\n",
            "Progress222\n",
            "Progress2\n",
            "Progress3\n",
            "Progress4\n"
          ]
        },
        {
          "output_type": "stream",
          "name": "stderr",
          "text": [
            "\rtrain:  91%|█████████▏| 422/462 [19:50<01:52,  2.81s/it]"
          ]
        },
        {
          "output_type": "stream",
          "name": "stdout",
          "text": [
            "\n",
            "Progress1\n",
            "\n",
            "Progress111\n",
            "torch.Size([4, 256, 10])\n",
            "y_predict.shape:  torch.Size([1024, 10])\n",
            "Progress222\n",
            "Progress2\n",
            "Progress3\n",
            "Progress4\n"
          ]
        },
        {
          "output_type": "stream",
          "name": "stderr",
          "text": [
            "\rtrain:  92%|█████████▏| 423/462 [19:53<01:45,  2.72s/it]"
          ]
        },
        {
          "output_type": "stream",
          "name": "stdout",
          "text": [
            "\n",
            "Progress1\n",
            "\n",
            "Progress111\n",
            "torch.Size([4, 256, 10])\n",
            "y_predict.shape:  torch.Size([1024, 10])\n",
            "Progress222\n",
            "Progress2\n",
            "Progress3\n",
            "Progress4\n"
          ]
        },
        {
          "output_type": "stream",
          "name": "stderr",
          "text": [
            "\rtrain:  92%|█████████▏| 424/462 [19:55<01:40,  2.64s/it]"
          ]
        },
        {
          "output_type": "stream",
          "name": "stdout",
          "text": [
            "\n",
            "Progress1\n",
            "\n",
            "Progress111\n",
            "torch.Size([4, 256, 10])\n",
            "y_predict.shape:  torch.Size([1024, 10])\n",
            "Progress222\n",
            "Progress2\n",
            "Progress3\n",
            "Progress4\n"
          ]
        },
        {
          "output_type": "stream",
          "name": "stderr",
          "text": [
            "\rtrain:  92%|█████████▏| 425/462 [19:58<01:36,  2.60s/it]"
          ]
        },
        {
          "output_type": "stream",
          "name": "stdout",
          "text": [
            "\n",
            "Progress1\n",
            "\n",
            "Progress111\n",
            "torch.Size([4, 256, 10])\n",
            "y_predict.shape:  torch.Size([1024, 10])\n",
            "Progress222\n",
            "Progress2\n",
            "Progress3\n",
            "Progress4\n"
          ]
        },
        {
          "output_type": "stream",
          "name": "stderr",
          "text": [
            "\rtrain:  92%|█████████▏| 426/462 [20:02<01:48,  3.01s/it]"
          ]
        },
        {
          "output_type": "stream",
          "name": "stdout",
          "text": [
            "\n",
            "Progress1\n",
            "\n",
            "Progress111\n",
            "torch.Size([4, 256, 10])\n",
            "y_predict.shape:  torch.Size([1024, 10])\n",
            "Progress222\n",
            "Progress2\n",
            "Progress3\n",
            "Progress4\n"
          ]
        },
        {
          "output_type": "stream",
          "name": "stderr",
          "text": [
            "\rtrain:  92%|█████████▏| 427/462 [20:04<01:41,  2.91s/it]"
          ]
        },
        {
          "output_type": "stream",
          "name": "stdout",
          "text": [
            "\n",
            "Progress1\n",
            "\n",
            "Progress111\n",
            "torch.Size([4, 256, 10])\n",
            "y_predict.shape:  torch.Size([1024, 10])\n",
            "Progress222\n",
            "Progress2\n",
            "Progress3\n",
            "Progress4\n"
          ]
        },
        {
          "output_type": "stream",
          "name": "stderr",
          "text": [
            "\rtrain:  93%|█████████▎| 428/462 [20:07<01:34,  2.78s/it]"
          ]
        },
        {
          "output_type": "stream",
          "name": "stdout",
          "text": [
            "\n",
            "Progress1\n",
            "\n",
            "Progress111\n",
            "torch.Size([4, 256, 10])\n",
            "y_predict.shape:  torch.Size([1024, 10])\n",
            "Progress222\n",
            "Progress2\n",
            "Progress3\n",
            "Progress4\n"
          ]
        },
        {
          "output_type": "stream",
          "name": "stderr",
          "text": [
            "\rtrain:  93%|█████████▎| 429/462 [20:09<01:29,  2.71s/it]"
          ]
        },
        {
          "output_type": "stream",
          "name": "stdout",
          "text": [
            "\n",
            "Progress1\n",
            "\n",
            "Progress111\n",
            "torch.Size([4, 256, 10])\n",
            "y_predict.shape:  torch.Size([1024, 10])\n",
            "Progress222\n",
            "Progress2\n",
            "Progress3\n",
            "Progress4\n"
          ]
        },
        {
          "output_type": "stream",
          "name": "stderr",
          "text": [
            "\rtrain:  93%|█████████▎| 430/462 [20:12<01:25,  2.66s/it]"
          ]
        },
        {
          "output_type": "stream",
          "name": "stdout",
          "text": [
            "\n",
            "Progress1\n",
            "\n",
            "Progress111\n",
            "torch.Size([4, 256, 10])\n",
            "y_predict.shape:  torch.Size([1024, 10])\n",
            "Progress222\n",
            "Progress2\n",
            "Progress3\n",
            "Progress4\n"
          ]
        },
        {
          "output_type": "stream",
          "name": "stderr",
          "text": [
            "\rtrain:  93%|█████████▎| 431/462 [20:15<01:29,  2.90s/it]"
          ]
        },
        {
          "output_type": "stream",
          "name": "stdout",
          "text": [
            "\n",
            "Progress1\n",
            "\n",
            "Progress111\n",
            "torch.Size([4, 256, 10])\n",
            "y_predict.shape:  torch.Size([1024, 10])\n",
            "Progress222\n",
            "Progress2\n",
            "Progress3\n",
            "Progress4\n"
          ]
        },
        {
          "output_type": "stream",
          "name": "stderr",
          "text": [
            "\rtrain:  94%|█████████▎| 432/462 [20:19<01:30,  3.01s/it]"
          ]
        },
        {
          "output_type": "stream",
          "name": "stdout",
          "text": [
            "\n",
            "Progress1\n",
            "\n",
            "Progress111\n",
            "torch.Size([4, 256, 10])\n",
            "y_predict.shape:  torch.Size([1024, 10])\n",
            "Progress222\n",
            "Progress2\n",
            "Progress3\n",
            "Progress4\n"
          ]
        },
        {
          "output_type": "stream",
          "name": "stderr",
          "text": [
            "\rtrain:  94%|█████████▎| 433/462 [20:21<01:22,  2.86s/it]"
          ]
        },
        {
          "output_type": "stream",
          "name": "stdout",
          "text": [
            "\n",
            "Progress1\n",
            "\n",
            "Progress111\n",
            "torch.Size([4, 256, 10])\n",
            "y_predict.shape:  torch.Size([1024, 10])\n",
            "Progress222\n",
            "Progress2\n",
            "Progress3\n",
            "Progress4\n"
          ]
        },
        {
          "output_type": "stream",
          "name": "stderr",
          "text": [
            "\rtrain:  94%|█████████▍| 434/462 [20:24<01:17,  2.76s/it]"
          ]
        },
        {
          "output_type": "stream",
          "name": "stdout",
          "text": [
            "\n",
            "Progress1\n",
            "\n",
            "Progress111\n",
            "torch.Size([4, 256, 10])\n",
            "y_predict.shape:  torch.Size([1024, 10])\n",
            "Progress222\n",
            "Progress2\n",
            "Progress3\n",
            "Progress4\n"
          ]
        },
        {
          "output_type": "stream",
          "name": "stderr",
          "text": [
            "\rtrain:  94%|█████████▍| 435/462 [20:26<01:12,  2.67s/it]"
          ]
        },
        {
          "output_type": "stream",
          "name": "stdout",
          "text": [
            "\n",
            "Progress1\n",
            "\n",
            "Progress111\n",
            "torch.Size([4, 256, 10])\n",
            "y_predict.shape:  torch.Size([1024, 10])\n",
            "Progress222\n",
            "Progress2\n",
            "Progress3\n",
            "Progress4\n"
          ]
        },
        {
          "output_type": "stream",
          "name": "stderr",
          "text": [
            "\rtrain:  94%|█████████▍| 436/462 [20:29<01:11,  2.73s/it]"
          ]
        },
        {
          "output_type": "stream",
          "name": "stdout",
          "text": [
            "\n",
            "Progress1\n",
            "\n",
            "Progress111\n",
            "torch.Size([4, 256, 10])\n",
            "y_predict.shape:  torch.Size([1024, 10])\n",
            "Progress222\n",
            "Progress2\n",
            "Progress3\n",
            "Progress4\n"
          ]
        },
        {
          "output_type": "stream",
          "name": "stderr",
          "text": [
            "\rtrain:  95%|█████████▍| 437/462 [20:33<01:16,  3.06s/it]"
          ]
        },
        {
          "output_type": "stream",
          "name": "stdout",
          "text": [
            "\n",
            "Progress1\n",
            "\n",
            "Progress111\n",
            "torch.Size([4, 256, 10])\n",
            "y_predict.shape:  torch.Size([1024, 10])\n",
            "Progress222\n",
            "Progress2\n",
            "Progress3\n",
            "Progress4\n"
          ]
        },
        {
          "output_type": "stream",
          "name": "stderr",
          "text": [
            "\rtrain:  95%|█████████▍| 438/462 [20:35<01:09,  2.89s/it]"
          ]
        },
        {
          "output_type": "stream",
          "name": "stdout",
          "text": [
            "\n",
            "Progress1\n",
            "\n",
            "Progress111\n",
            "torch.Size([4, 256, 10])\n",
            "y_predict.shape:  torch.Size([1024, 10])\n",
            "Progress222\n",
            "Progress2\n",
            "Progress3\n",
            "Progress4\n"
          ]
        },
        {
          "output_type": "stream",
          "name": "stderr",
          "text": [
            "\rtrain:  95%|█████████▌| 439/462 [20:38<01:03,  2.78s/it]"
          ]
        },
        {
          "output_type": "stream",
          "name": "stdout",
          "text": [
            "\n",
            "Progress1\n",
            "\n",
            "Progress111\n",
            "torch.Size([4, 256, 10])\n",
            "y_predict.shape:  torch.Size([1024, 10])\n",
            "Progress222\n",
            "Progress2\n",
            "Progress3\n",
            "Progress4\n"
          ]
        },
        {
          "output_type": "stream",
          "name": "stderr",
          "text": [
            "\rtrain:  95%|█████████▌| 440/462 [20:40<00:58,  2.68s/it]"
          ]
        },
        {
          "output_type": "stream",
          "name": "stdout",
          "text": [
            "\n",
            "Progress1\n",
            "\n",
            "Progress111\n",
            "torch.Size([4, 256, 10])\n",
            "y_predict.shape:  torch.Size([1024, 10])\n",
            "Progress222\n",
            "Progress2\n",
            "Progress3\n",
            "Progress4\n"
          ]
        },
        {
          "output_type": "stream",
          "name": "stderr",
          "text": [
            "\rtrain:  95%|█████████▌| 441/462 [20:43<00:55,  2.65s/it]"
          ]
        },
        {
          "output_type": "stream",
          "name": "stdout",
          "text": [
            "\n",
            "Progress1\n",
            "\n",
            "Progress111\n",
            "torch.Size([4, 256, 10])\n",
            "y_predict.shape:  torch.Size([1024, 10])\n",
            "Progress222\n",
            "Progress2\n",
            "Progress3\n",
            "Progress4\n"
          ]
        },
        {
          "output_type": "stream",
          "name": "stderr",
          "text": [
            "\rtrain:  96%|█████████▌| 442/462 [20:46<00:56,  2.82s/it]"
          ]
        },
        {
          "output_type": "stream",
          "name": "stdout",
          "text": [
            "\n",
            "Progress1\n",
            "\n",
            "Progress111\n",
            "torch.Size([4, 256, 10])\n",
            "y_predict.shape:  torch.Size([1024, 10])\n",
            "Progress222\n",
            "Progress2\n",
            "Progress3\n",
            "Progress4\n"
          ]
        },
        {
          "output_type": "stream",
          "name": "stderr",
          "text": [
            "\rtrain:  96%|█████████▌| 443/462 [20:49<00:56,  2.98s/it]"
          ]
        },
        {
          "output_type": "stream",
          "name": "stdout",
          "text": [
            "\n",
            "Progress1\n",
            "\n",
            "Progress111\n",
            "torch.Size([4, 256, 10])\n",
            "y_predict.shape:  torch.Size([1024, 10])\n",
            "Progress222\n",
            "Progress2\n",
            "Progress3\n",
            "Progress4\n"
          ]
        },
        {
          "output_type": "stream",
          "name": "stderr",
          "text": [
            "\rtrain:  96%|█████████▌| 444/462 [20:52<00:51,  2.84s/it]"
          ]
        },
        {
          "output_type": "stream",
          "name": "stdout",
          "text": [
            "\n",
            "Progress1\n",
            "\n",
            "Progress111\n",
            "torch.Size([4, 256, 10])\n",
            "y_predict.shape:  torch.Size([1024, 10])\n",
            "Progress222\n",
            "Progress2\n",
            "Progress3\n",
            "Progress4\n"
          ]
        },
        {
          "output_type": "stream",
          "name": "stderr",
          "text": [
            "\rtrain:  96%|█████████▋| 445/462 [20:54<00:46,  2.74s/it]"
          ]
        },
        {
          "output_type": "stream",
          "name": "stdout",
          "text": [
            "\n",
            "Progress1\n",
            "\n",
            "Progress111\n",
            "torch.Size([4, 256, 10])\n",
            "y_predict.shape:  torch.Size([1024, 10])\n",
            "Progress222\n",
            "Progress2\n",
            "Progress3\n",
            "Progress4\n"
          ]
        },
        {
          "output_type": "stream",
          "name": "stderr",
          "text": [
            "\rtrain:  97%|█████████▋| 446/462 [20:57<00:42,  2.66s/it]"
          ]
        },
        {
          "output_type": "stream",
          "name": "stdout",
          "text": [
            "\n",
            "Progress1\n",
            "\n",
            "Progress111\n",
            "torch.Size([4, 256, 10])\n",
            "y_predict.shape:  torch.Size([1024, 10])\n",
            "Progress222\n",
            "Progress2\n",
            "Progress3\n",
            "Progress4\n"
          ]
        },
        {
          "output_type": "stream",
          "name": "stderr",
          "text": [
            "\rtrain:  97%|█████████▋| 447/462 [21:00<00:41,  2.76s/it]"
          ]
        },
        {
          "output_type": "stream",
          "name": "stdout",
          "text": [
            "\n",
            "Progress1\n",
            "\n",
            "Progress111\n",
            "torch.Size([4, 256, 10])\n",
            "y_predict.shape:  torch.Size([1024, 10])\n",
            "Progress222\n",
            "Progress2\n",
            "Progress3\n",
            "Progress4\n"
          ]
        },
        {
          "output_type": "stream",
          "name": "stderr",
          "text": [
            "\rtrain:  97%|█████████▋| 448/462 [21:04<00:43,  3.08s/it]"
          ]
        },
        {
          "output_type": "stream",
          "name": "stdout",
          "text": [
            "\n",
            "Progress1\n",
            "\n",
            "Progress111\n",
            "torch.Size([4, 256, 10])\n",
            "y_predict.shape:  torch.Size([1024, 10])\n",
            "Progress222\n",
            "Progress2\n",
            "Progress3\n",
            "Progress4\n"
          ]
        },
        {
          "output_type": "stream",
          "name": "stderr",
          "text": [
            "\rtrain:  97%|█████████▋| 449/462 [21:06<00:37,  2.91s/it]"
          ]
        },
        {
          "output_type": "stream",
          "name": "stdout",
          "text": [
            "\n",
            "Progress1\n",
            "\n",
            "Progress111\n",
            "torch.Size([4, 256, 10])\n",
            "y_predict.shape:  torch.Size([1024, 10])\n",
            "Progress222\n",
            "Progress2\n",
            "Progress3\n",
            "Progress4\n"
          ]
        },
        {
          "output_type": "stream",
          "name": "stderr",
          "text": [
            "\rtrain:  97%|█████████▋| 450/462 [21:09<00:33,  2.79s/it]"
          ]
        },
        {
          "output_type": "stream",
          "name": "stdout",
          "text": [
            "\n",
            "Progress1\n",
            "\n",
            "Progress111\n",
            "torch.Size([4, 256, 10])\n",
            "y_predict.shape:  torch.Size([1024, 10])\n",
            "Progress222\n",
            "Progress2\n",
            "Progress3\n",
            "Progress4\n"
          ]
        },
        {
          "output_type": "stream",
          "name": "stderr",
          "text": [
            "\rtrain:  98%|█████████▊| 451/462 [21:11<00:29,  2.71s/it]"
          ]
        },
        {
          "output_type": "stream",
          "name": "stdout",
          "text": [
            "\n",
            "Progress1\n",
            "\n",
            "Progress111\n",
            "torch.Size([4, 256, 10])\n",
            "y_predict.shape:  torch.Size([1024, 10])\n",
            "Progress222\n",
            "Progress2\n",
            "Progress3\n",
            "Progress4\n"
          ]
        },
        {
          "output_type": "stream",
          "name": "stderr",
          "text": [
            "\rtrain:  98%|█████████▊| 452/462 [21:14<00:26,  2.70s/it]"
          ]
        },
        {
          "output_type": "stream",
          "name": "stdout",
          "text": [
            "\n",
            "Progress1\n",
            "\n",
            "Progress111\n",
            "torch.Size([4, 256, 10])\n",
            "y_predict.shape:  torch.Size([1024, 10])\n",
            "Progress222\n",
            "Progress2\n",
            "Progress3\n",
            "Progress4\n"
          ]
        },
        {
          "output_type": "stream",
          "name": "stderr",
          "text": [
            "\rtrain:  98%|█████████▊| 453/462 [21:17<00:25,  2.88s/it]"
          ]
        },
        {
          "output_type": "stream",
          "name": "stdout",
          "text": [
            "\n",
            "Progress1\n",
            "\n",
            "Progress111\n",
            "torch.Size([4, 256, 10])\n",
            "y_predict.shape:  torch.Size([1024, 10])\n",
            "Progress222\n",
            "Progress2\n",
            "Progress3\n",
            "Progress4\n"
          ]
        },
        {
          "output_type": "stream",
          "name": "stderr",
          "text": [
            "\rtrain:  98%|█████████▊| 454/462 [21:21<00:24,  3.00s/it]"
          ]
        },
        {
          "output_type": "stream",
          "name": "stdout",
          "text": [
            "\n",
            "Progress1\n",
            "\n",
            "Progress111\n",
            "torch.Size([4, 256, 10])\n",
            "y_predict.shape:  torch.Size([1024, 10])\n",
            "Progress222\n",
            "Progress2\n",
            "Progress3\n",
            "Progress4\n"
          ]
        },
        {
          "output_type": "stream",
          "name": "stderr",
          "text": [
            "\rtrain:  98%|█████████▊| 455/462 [21:23<00:19,  2.85s/it]"
          ]
        },
        {
          "output_type": "stream",
          "name": "stdout",
          "text": [
            "\n",
            "Progress1\n",
            "\n",
            "Progress111\n",
            "torch.Size([4, 256, 10])\n",
            "y_predict.shape:  torch.Size([1024, 10])\n",
            "Progress222\n",
            "Progress2\n",
            "Progress3\n",
            "Progress4\n"
          ]
        },
        {
          "output_type": "stream",
          "name": "stderr",
          "text": [
            "\rtrain:  99%|█████████▊| 456/462 [21:26<00:16,  2.74s/it]"
          ]
        },
        {
          "output_type": "stream",
          "name": "stdout",
          "text": [
            "\n",
            "Progress1\n",
            "\n",
            "Progress111\n",
            "torch.Size([4, 256, 10])\n",
            "y_predict.shape:  torch.Size([1024, 10])\n",
            "Progress222\n",
            "Progress2\n",
            "Progress3\n",
            "Progress4\n"
          ]
        },
        {
          "output_type": "stream",
          "name": "stderr",
          "text": [
            "\rtrain:  99%|█████████▉| 457/462 [21:28<00:13,  2.66s/it]"
          ]
        },
        {
          "output_type": "stream",
          "name": "stdout",
          "text": [
            "\n",
            "Progress1\n",
            "\n",
            "Progress111\n",
            "torch.Size([4, 256, 10])\n",
            "y_predict.shape:  torch.Size([1024, 10])\n",
            "Progress222\n",
            "Progress2\n",
            "Progress3\n",
            "Progress4\n"
          ]
        },
        {
          "output_type": "stream",
          "name": "stderr",
          "text": [
            "\rtrain:  99%|█████████▉| 458/462 [21:31<00:11,  2.76s/it]"
          ]
        },
        {
          "output_type": "stream",
          "name": "stdout",
          "text": [
            "\n",
            "Progress1\n",
            "\n",
            "Progress111\n",
            "torch.Size([4, 256, 10])\n",
            "y_predict.shape:  torch.Size([1024, 10])\n",
            "Progress222\n",
            "Progress2\n",
            "Progress3\n",
            "Progress4\n"
          ]
        },
        {
          "output_type": "stream",
          "name": "stderr",
          "text": [
            "\rtrain:  99%|█████████▉| 459/462 [21:35<00:09,  3.06s/it]"
          ]
        },
        {
          "output_type": "stream",
          "name": "stdout",
          "text": [
            "\n",
            "Progress1\n",
            "\n",
            "Progress111\n",
            "torch.Size([4, 256, 10])\n",
            "y_predict.shape:  torch.Size([1024, 10])\n",
            "Progress222\n",
            "Progress2\n",
            "Progress3\n",
            "Progress4\n"
          ]
        },
        {
          "output_type": "stream",
          "name": "stderr",
          "text": [
            "\rtrain: 100%|█████████▉| 460/462 [21:37<00:05,  2.90s/it]"
          ]
        },
        {
          "output_type": "stream",
          "name": "stdout",
          "text": [
            "\n",
            "Progress1\n",
            "\n",
            "Progress111\n",
            "torch.Size([4, 256, 10])\n",
            "y_predict.shape:  torch.Size([1024, 10])\n",
            "Progress222\n",
            "Progress2\n",
            "Progress3\n",
            "Progress4\n"
          ]
        },
        {
          "output_type": "stream",
          "name": "stderr",
          "text": [
            "\rtrain: 100%|█████████▉| 461/462 [21:40<00:02,  2.77s/it]"
          ]
        },
        {
          "output_type": "stream",
          "name": "stdout",
          "text": [
            "\n",
            "Progress1\n",
            "\n",
            "Progress111\n",
            "torch.Size([1, 256, 10])\n",
            "y_predict.shape:  torch.Size([256, 10])\n",
            "Progress222\n",
            "Progress2\n",
            "Progress3\n",
            "Progress4\n"
          ]
        },
        {
          "output_type": "stream",
          "name": "stderr",
          "text": [
            "train: 100%|██████████| 462/462 [21:41<00:00,  2.82s/it]\n"
          ]
        },
        {
          "output_type": "stream",
          "name": "stdout",
          "text": [
            "epoch: 0, Train loss: 0.6071557750627076, Train accuracy: 0.7843560949169314\n",
            "\n"
          ]
        },
        {
          "output_type": "stream",
          "name": "stderr",
          "text": [
            "eval: 100%|██████████| 139/139 [01:47<00:00,  1.29it/s]\n"
          ]
        },
        {
          "output_type": "stream",
          "name": "stdout",
          "text": [
            "epoch: 0, Val loss: 0.34531609419224074, Val accuracy: 0.7857061424065465\n",
            "\n"
          ]
        },
        {
          "output_type": "display_data",
          "data": {
            "text/plain": [
              "<IPython.core.display.HTML object>"
            ],
            "text/html": [
              "<pre style=\"overflow-x: scroll;\"><strong><span style=\"color: #DDB62B\">       0:  </span></strong> train_loss: <strong>0.607156</strong> train_accuracy: <strong>0.784356</strong> val_loss: <strong>0.345316</strong> val_accuracy: <strong>0.785706</strong></pre>"
            ]
          },
          "metadata": {}
        },
        {
          "output_type": "error",
          "ename": "RuntimeError",
          "evalue": "ignored",
          "traceback": [
            "\u001b[0;31m---------------------------------------------------------------------------\u001b[0m",
            "\u001b[0;31mRuntimeError\u001b[0m                              Traceback (most recent call last)",
            "\u001b[0;32m<ipython-input-26-2da0ffaf5447>\u001b[0m in \u001b[0;36m<cell line: 1>\u001b[0;34m()\u001b[0m\n\u001b[0;32m----> 1\u001b[0;31m \u001b[0mtrain\u001b[0m\u001b[0;34m(\u001b[0m\u001b[0;34m)\u001b[0m\u001b[0;34m\u001b[0m\u001b[0;34m\u001b[0m\u001b[0m\n\u001b[0m",
            "\u001b[0;32m<ipython-input-25-0e8cbaa8a93d>\u001b[0m in \u001b[0;36mtrain\u001b[0;34m()\u001b[0m\n\u001b[1;32m     30\u001b[0m         \u001b[0;31m#     save_weights(MODEL, WEIGHTS_SAVE_DIR, epoch, val_acc)\u001b[0m\u001b[0;34m\u001b[0m\u001b[0;34m\u001b[0m\u001b[0m\n\u001b[1;32m     31\u001b[0m         \u001b[0mbest_val_acc\u001b[0m \u001b[0;34m=\u001b[0m \u001b[0mval_acc\u001b[0m\u001b[0;34m\u001b[0m\u001b[0;34m\u001b[0m\u001b[0m\n\u001b[0;32m---> 32\u001b[0;31m         \u001b[0msave_weights\u001b[0m\u001b[0;34m(\u001b[0m\u001b[0mMODEL\u001b[0m\u001b[0;34m,\u001b[0m \u001b[0mWEIGHTS_SAVE_DIR\u001b[0m\u001b[0;34m,\u001b[0m \u001b[0mepoch\u001b[0m\u001b[0;34m,\u001b[0m \u001b[0mval_acc\u001b[0m\u001b[0;34m)\u001b[0m\u001b[0;34m\u001b[0m\u001b[0;34m\u001b[0m\u001b[0m\n\u001b[0m\u001b[1;32m     33\u001b[0m \u001b[0;34m\u001b[0m\u001b[0m\n\u001b[1;32m     34\u001b[0m     \u001b[0mlog_text\u001b[0m\u001b[0;34m(\u001b[0m\u001b[0mLOG_PATH\u001b[0m\u001b[0;34m,\u001b[0m \u001b[0;34mf\"Best validation Acc: {best_val_acc}\"\u001b[0m\u001b[0;34m)\u001b[0m\u001b[0;34m\u001b[0m\u001b[0;34m\u001b[0m\u001b[0m\n",
            "\u001b[0;32m<ipython-input-10-4a4fae15e9b3>\u001b[0m in \u001b[0;36msave_weights\u001b[0;34m(model, weights_dir, epoch, accuracy)\u001b[0m\n\u001b[1;32m     62\u001b[0m     \u001b[0mmodel\u001b[0m\u001b[0;34m.\u001b[0m\u001b[0msave\u001b[0m\u001b[0;34m(\u001b[0m\u001b[0msave_path\u001b[0m\u001b[0;34m)\u001b[0m\u001b[0;34m\u001b[0m\u001b[0;34m\u001b[0m\u001b[0m\n\u001b[1;32m     63\u001b[0m     \u001b[0mm_save_path\u001b[0m \u001b[0;34m=\u001b[0m \u001b[0;34mf\"{common_path}/weights/weights_ep{epoch}_{acc}/model.pt\"\u001b[0m\u001b[0;34m\u001b[0m\u001b[0;34m\u001b[0m\u001b[0m\n\u001b[0;32m---> 64\u001b[0;31m     \u001b[0mtorch\u001b[0m\u001b[0;34m.\u001b[0m\u001b[0msave\u001b[0m \u001b[0;34m(\u001b[0m\u001b[0mmodel\u001b[0m\u001b[0;34m.\u001b[0m\u001b[0mstate_dict\u001b[0m\u001b[0;34m,\u001b[0m \u001b[0mm_save_path\u001b[0m\u001b[0;34m)\u001b[0m\u001b[0;34m\u001b[0m\u001b[0;34m\u001b[0m\u001b[0m\n\u001b[0m\u001b[1;32m     65\u001b[0m \u001b[0;34m\u001b[0m\u001b[0m\n\u001b[1;32m     66\u001b[0m \u001b[0;32mdef\u001b[0m \u001b[0mlog_target_test_metrics\u001b[0m\u001b[0;34m(\u001b[0m\u001b[0mfile_path\u001b[0m\u001b[0;34m,\u001b[0m \u001b[0mtarget\u001b[0m\u001b[0;34m,\u001b[0m \u001b[0mprecision\u001b[0m\u001b[0;34m,\u001b[0m \u001b[0mrecall\u001b[0m\u001b[0;34m,\u001b[0m \u001b[0mf1\u001b[0m\u001b[0;34m)\u001b[0m\u001b[0;34m:\u001b[0m\u001b[0;34m\u001b[0m\u001b[0;34m\u001b[0m\u001b[0m\n",
            "\u001b[0;32m/usr/local/lib/python3.10/dist-packages/torch/serialization.py\u001b[0m in \u001b[0;36msave\u001b[0;34m(obj, f, pickle_module, pickle_protocol, _use_new_zipfile_serialization, _disable_byteorder_record)\u001b[0m\n\u001b[1;32m    616\u001b[0m \u001b[0;34m\u001b[0m\u001b[0m\n\u001b[1;32m    617\u001b[0m     \u001b[0;32mif\u001b[0m \u001b[0m_use_new_zipfile_serialization\u001b[0m\u001b[0;34m:\u001b[0m\u001b[0;34m\u001b[0m\u001b[0;34m\u001b[0m\u001b[0m\n\u001b[0;32m--> 618\u001b[0;31m         \u001b[0;32mwith\u001b[0m \u001b[0m_open_zipfile_writer\u001b[0m\u001b[0;34m(\u001b[0m\u001b[0mf\u001b[0m\u001b[0;34m)\u001b[0m \u001b[0;32mas\u001b[0m \u001b[0mopened_zipfile\u001b[0m\u001b[0;34m:\u001b[0m\u001b[0;34m\u001b[0m\u001b[0;34m\u001b[0m\u001b[0m\n\u001b[0m\u001b[1;32m    619\u001b[0m             \u001b[0m_save\u001b[0m\u001b[0;34m(\u001b[0m\u001b[0mobj\u001b[0m\u001b[0;34m,\u001b[0m \u001b[0mopened_zipfile\u001b[0m\u001b[0;34m,\u001b[0m \u001b[0mpickle_module\u001b[0m\u001b[0;34m,\u001b[0m \u001b[0mpickle_protocol\u001b[0m\u001b[0;34m,\u001b[0m \u001b[0m_disable_byteorder_record\u001b[0m\u001b[0;34m)\u001b[0m\u001b[0;34m\u001b[0m\u001b[0;34m\u001b[0m\u001b[0m\n\u001b[1;32m    620\u001b[0m             \u001b[0;32mreturn\u001b[0m\u001b[0;34m\u001b[0m\u001b[0;34m\u001b[0m\u001b[0m\n",
            "\u001b[0;32m/usr/local/lib/python3.10/dist-packages/torch/serialization.py\u001b[0m in \u001b[0;36m_open_zipfile_writer\u001b[0;34m(name_or_buffer)\u001b[0m\n\u001b[1;32m    490\u001b[0m     \u001b[0;32melse\u001b[0m\u001b[0;34m:\u001b[0m\u001b[0;34m\u001b[0m\u001b[0;34m\u001b[0m\u001b[0m\n\u001b[1;32m    491\u001b[0m         \u001b[0mcontainer\u001b[0m \u001b[0;34m=\u001b[0m \u001b[0m_open_zipfile_writer_buffer\u001b[0m\u001b[0;34m\u001b[0m\u001b[0;34m\u001b[0m\u001b[0m\n\u001b[0;32m--> 492\u001b[0;31m     \u001b[0;32mreturn\u001b[0m \u001b[0mcontainer\u001b[0m\u001b[0;34m(\u001b[0m\u001b[0mname_or_buffer\u001b[0m\u001b[0;34m)\u001b[0m\u001b[0;34m\u001b[0m\u001b[0;34m\u001b[0m\u001b[0m\n\u001b[0m\u001b[1;32m    493\u001b[0m \u001b[0;34m\u001b[0m\u001b[0m\n\u001b[1;32m    494\u001b[0m \u001b[0;34m\u001b[0m\u001b[0m\n",
            "\u001b[0;32m/usr/local/lib/python3.10/dist-packages/torch/serialization.py\u001b[0m in \u001b[0;36m__init__\u001b[0;34m(self, name)\u001b[0m\n\u001b[1;32m    461\u001b[0m             \u001b[0msuper\u001b[0m\u001b[0;34m(\u001b[0m\u001b[0;34m)\u001b[0m\u001b[0;34m.\u001b[0m\u001b[0m__init__\u001b[0m\u001b[0;34m(\u001b[0m\u001b[0mtorch\u001b[0m\u001b[0;34m.\u001b[0m\u001b[0m_C\u001b[0m\u001b[0;34m.\u001b[0m\u001b[0mPyTorchFileWriter\u001b[0m\u001b[0;34m(\u001b[0m\u001b[0mself\u001b[0m\u001b[0;34m.\u001b[0m\u001b[0mfile_stream\u001b[0m\u001b[0;34m)\u001b[0m\u001b[0;34m)\u001b[0m\u001b[0;34m\u001b[0m\u001b[0;34m\u001b[0m\u001b[0m\n\u001b[1;32m    462\u001b[0m         \u001b[0;32melse\u001b[0m\u001b[0;34m:\u001b[0m\u001b[0;34m\u001b[0m\u001b[0;34m\u001b[0m\u001b[0m\n\u001b[0;32m--> 463\u001b[0;31m             \u001b[0msuper\u001b[0m\u001b[0;34m(\u001b[0m\u001b[0;34m)\u001b[0m\u001b[0;34m.\u001b[0m\u001b[0m__init__\u001b[0m\u001b[0;34m(\u001b[0m\u001b[0mtorch\u001b[0m\u001b[0;34m.\u001b[0m\u001b[0m_C\u001b[0m\u001b[0;34m.\u001b[0m\u001b[0mPyTorchFileWriter\u001b[0m\u001b[0;34m(\u001b[0m\u001b[0mself\u001b[0m\u001b[0;34m.\u001b[0m\u001b[0mname\u001b[0m\u001b[0;34m)\u001b[0m\u001b[0;34m)\u001b[0m\u001b[0;34m\u001b[0m\u001b[0;34m\u001b[0m\u001b[0m\n\u001b[0m\u001b[1;32m    464\u001b[0m \u001b[0;34m\u001b[0m\u001b[0m\n\u001b[1;32m    465\u001b[0m     \u001b[0;32mdef\u001b[0m \u001b[0m__exit__\u001b[0m\u001b[0;34m(\u001b[0m\u001b[0mself\u001b[0m\u001b[0;34m,\u001b[0m \u001b[0;34m*\u001b[0m\u001b[0margs\u001b[0m\u001b[0;34m)\u001b[0m \u001b[0;34m->\u001b[0m \u001b[0;32mNone\u001b[0m\u001b[0;34m:\u001b[0m\u001b[0;34m\u001b[0m\u001b[0;34m\u001b[0m\u001b[0m\n",
            "\u001b[0;31mRuntimeError\u001b[0m: Parent directory /content/drive/MyDrive/Data_punct/Datasets/weights/weights_ep0_7857 does not exist."
          ]
        }
      ]
    },
    {
      "cell_type": "markdown",
      "source": [
        "Таргеты на данный момент:\n",
        "O M\n",
        "Okay, Mistake\n",
        "\n",
        "`targets={O: 0,\"M\": 1}`"
      ],
      "metadata": {
        "id": "hUlo9_BdZN8I"
      }
    },
    {
      "cell_type": "code",
      "source": [
        "#targets = {t: i for i, t in enumerate(args_targets)}"
      ],
      "metadata": {
        "id": "VE6ak_2MNKdW"
      },
      "execution_count": null,
      "outputs": []
    },
    {
      "cell_type": "code",
      "source": [
        "debug_other = f'{common_path}/test.txt'"
      ],
      "metadata": {
        "id": "vML5Dvjt18nC"
      },
      "execution_count": null,
      "outputs": []
    },
    {
      "cell_type": "code",
      "source": [
        "# weights = list(glob(f'{common_path}/weights/*.pt'))\n",
        "i_hope_path = '/content/drive/MyDrive/Data_punct/Datasets/weights/weights_ep0_9792.pt'\n",
        "# last_weight = str(sorted(weights)[-1])\n",
        "\n",
        "lr = 5e-6\n",
        "decay = 0\n",
        "cuda = False\n",
        "resume = True\n",
        "fine_tune = True\n",
        "lstm_dim = -1\n",
        "pretrained_model = 'DeepPavlov/rubert-base-cased-sentence'\n",
        "freeze_pretrained = False\n",
        "model_save_path = f'{common_save_path}model_saved'\n",
        "alpha_sub = 0.40\n",
        "# probability of applying delete operation on tokens selected for augmentation\n",
        "alpha_del = 0.40\n",
        "tokenizer = None\n",
        "# substitution strategy: 'unk' -> replace with unknown tokens, 'rand' -> replace with random tokens from vocabulary\n",
        "sub_style = 'unk'\n",
        "labml_flag = False\n",
        "sequence_length = 256\n",
        "TARGETS = targets\n",
        "DEVICE = torch.device('cuda' if (cuda and torch.cuda.is_available()) else 'cpu')\n",
        "\n",
        "\n",
        "\n",
        "MODEL = CorrectionModel(pretrained_model,\n",
        "                        targets=TARGETS,\n",
        "                        freeze_pretrained=freeze_pretrained,\n",
        "                        lstm_dim=lstm_dim)\n",
        "\n",
        "\n",
        "WEIGHTS = torch.FloatTensor(np.array(weights)).to(DEVICE)\n",
        "CRITERION = nn.CrossEntropyLoss(weight=WEIGHTS)\n",
        "# OPTIMIZER = torch.optim.Adam(MODEL.parameters(), lr=lr, weight_decay=decay)\n",
        "# # TOKENIZER\n",
        "tokenizer = PRETRAINED_MODELS[pretrained_model][1].from_pretrained(pretrained_model)\n",
        "token_style = PRETRAINED_MODELS[pretrained_model][3]\n",
        "SEQ_LEN = sequence_length\n",
        "# CONFIG AUGMENTATION\n",
        "AUG_RATE = 0.\n",
        "AUG_TYPE = 'all'\n",
        "# DATASETS\n",
        "data_loader_params = {\n",
        "    'batch_size': 4,\n",
        "    'shuffle': True,\n",
        "    'num_workers': 1\n",
        "}\n",
        "\n",
        "MODEL.to(DEVICE)\n",
        "MODEL.load_state_dict(torch.load(i_hope_path))\n",
        "# MODEL.eval()"
      ],
      "metadata": {
        "id": "XQLR3Zty2KlK",
        "colab": {
          "base_uri": "https://localhost:8080/"
        },
        "outputId": "45618b7f-ed3e-4fdf-fb2b-dca8eee96a1e"
      },
      "execution_count": null,
      "outputs": [
        {
          "output_type": "execute_result",
          "data": {
            "text/plain": [
              "<All keys matched successfully>"
            ]
          },
          "metadata": {},
          "execution_count": 29
        }
      ]
    },
    {
      "cell_type": "code",
      "source": [
        "#  x, y, att, and y_mask are the input features, target labels, attention masks,\n",
        "#  and target masks, respectively, for each batch of data in the dataloader.\n",
        "import pandas as pd\n",
        "pd.set_option('display.max_rows', None)\n",
        "\n",
        "targets_inversed = {v: k for k, v in TARGETS.items()}\n",
        "\n",
        "test2_dataset = RepunctDataset(debug_other, tokenizer=tokenizer, targets=TARGETS, #f'{common_path}/debug_sentences.txt'\n",
        "                                      sequence_len=SEQ_LEN, token_style=token_style,\n",
        "                                      is_train=False, augment_rate=AUG_RATE, #istrainwastrue\n",
        "                                      augment_type=AUG_TYPE)\n",
        "test2_loader = DataLoader(test2_dataset, **data_loader_params)\n",
        "\n",
        "\n",
        "def predict_one(model: nn.Module,\n",
        "                loader: DataLoader,\n",
        "                criterion: nn.Module) -> Tuple[float, float]:\n",
        "\n",
        "    num_iteration = 0\n",
        "    correct = 0.\n",
        "    total = 0.\n",
        "    val_loss = 0.0\n",
        "\n",
        "    model.eval()\n",
        "    with torch.no_grad():\n",
        "        for x, y, att, y_mask in tqdm(test2_loader, desc='eval'):\n",
        "            x = x.to(DEVICE)\n",
        "            y = y.view(-1).to(DEVICE)\n",
        "            att = att.to(DEVICE)\n",
        "            y_mask = y_mask.view(-1).to(DEVICE)\n",
        "\n",
        "            y_predict = model(x, att)\n",
        "            y_predict = y_predict.view(-1, y_predict.shape[2])\n",
        "\n",
        "            loss = criterion(y_predict, y)\n",
        "            y_predict = torch.argmax(y_predict, dim=1).view(-1)\n",
        "\n",
        "            val_loss += loss.item()\n",
        "            num_iteration += 1\n",
        "            y_mask = y_mask.view(-1)\n",
        "\n",
        "            non_O_keys = \" + \".join(list(TARGETS)[1:])\n",
        "            # targets = list(TARGETS) + [non_O_keys]\n",
        "            # for i, target in enumerate(targets):\n",
        "            preds_labels = []\n",
        "            tokens = []\n",
        "            # for i in range(x.shape[0]):\n",
        "            #     tokens.append(tokenizer.decode(x[i]))\n",
        "\n",
        "            for i in range(x.shape[0]):\n",
        "                token_ids = x[i].tolist()\n",
        "                token_subwords = tokenizer.convert_ids_to_tokens(token_ids)\n",
        "                tokens.append(token_subwords)\n",
        "            for i in y_predict.data:\n",
        "                preds_labels.append(targets_inversed[i.item()])\n",
        "\n",
        "            y_true_label = []\n",
        "            for i in y.tolist():\n",
        "                y_true_label.append(targets_inversed[i])\n",
        "\n",
        "            return {'tokens': tokens[0],\n",
        "                    'y_true': y.tolist(),\n",
        "                    'y_true_label': y_true_label,\n",
        "                    'y_predict': y_predict,\n",
        "                    'preds_labels': preds_labels}\n",
        "\n",
        "sent_table = predict_one(MODEL, test2_loader, CRITERION)\n",
        "sent_table = pd.DataFrame.from_dict(sent_table)\n",
        "sent_table\n"
      ],
      "metadata": {
        "id": "juG2quHYBEtf",
        "colab": {
          "base_uri": "https://localhost:8080/",
          "height": 1000
        },
        "outputId": "8cdff440-62a3-4b7c-e7af-96671266829e"
      },
      "execution_count": null,
      "outputs": [
        {
          "output_type": "stream",
          "name": "stderr",
          "text": [
            "100%|██████████| 87/87 [00:00<00:00, 15899.28it/s]\n",
            "eval:   0%|          | 0/1 [00:00<?, ?it/s]\n"
          ]
        },
        {
          "output_type": "execute_result",
          "data": {
            "text/plain": [
              "               tokens  y_true y_true_label  y_predict preds_labels\n",
              "0               [CLS]       0            O          0            O\n",
              "1                  18       0            O          0            O\n",
              "2             декабря       0            O          0            O\n",
              "3                2001       0            O          0            O\n",
              "4                года       0            O          0            O\n",
              "5              Принят       0            O          0            O\n",
              "6     Государственной       0            O          0            O\n",
              "7               Думой       0            O          0            O\n",
              "8                  22       0            O          0            O\n",
              "9              ноября       0            O          0            O\n",
              "10               2001       0            O          0            O\n",
              "11               года       0            O          0            O\n",
              "12                Одо       0            O          0            O\n",
              "13              ##бре       0            O          0            O\n",
              "14                ##н       0            O          0            O\n",
              "15            Советом       0            O          0            O\n",
              "16          Федерации       0            O          0            O\n",
              "17                  5       0            O          0            O\n",
              "18            декабря       0            O          0            O\n",
              "19               2001       0            O          0            O\n",
              "20               года       0            O          0            O\n",
              "21             Список       0            O          0            O\n",
              "22              измен       0            O          0            O\n",
              "23            ##яющих       0            O          0            O\n",
              "24         документов       0            O          0            O\n",
              "25                  с       0            O          0            O\n",
              "26                изм       0            O          0            O\n",
              "27                  .       0            O          0            O\n",
              "28                  ,       4        COMMA          0            O\n",
              "29             внесен       0            O          0            O\n",
              "30             ##ными       0            O          0            O\n",
              "31             Статья       0            O          0            O\n",
              "32                  1       0            O          0            O\n",
              "33                  .       3       PERIOD          0            O\n",
              "34             Законы       0            O          0            O\n",
              "35                  ,       4        COMMA          0            O\n",
              "36       определяющие       0            O          0            O\n",
              "37            порядок       0            O          0            O\n",
              "38         уголовного       0            O          0            O\n",
              "39   судопроизводства       0            O          0            O\n",
              "40                  1       0            O          0            O\n",
              "41                  .       3       PERIOD          0            O\n",
              "42            Порядок       0            O          0            O\n",
              "43         уголовного       0            O          0            O\n",
              "44   судопроизводства       0            O          0            O\n",
              "45                 на       0            O          0            O\n",
              "46         территории       0            O          0            O\n",
              "47         Российской       0            O          0            O\n",
              "48          Федерации       0            O          0            O\n",
              "49    устанавливается       0            O          0            O\n",
              "50          настоящим       0            O          0            O\n",
              "51             Кодекс       0            O          0            O\n",
              "52               ##ом       0            O          0            O\n",
              "53                  ,       4        COMMA          0            O\n",
              "54         основанным       0            O          0            O\n",
              "55                 на       0            O          0            O\n",
              "56        Конституции       0            O          0            O\n",
              "57         Российской       0            O          0            O\n",
              "58          Федерации       0            O          0            O\n",
              "59                  .       3       PERIOD          0            O\n",
              "60                  2       0            O          0            O\n",
              "61                  .       3       PERIOD          0            O\n",
              "62            Порядок       0            O          0            O\n",
              "63         уголовного       0            O          0            O\n",
              "64   судопроизводства       0            O          0            O\n",
              "65                  ,       4        COMMA          0            O\n",
              "66      установленный       0            O          0            O\n",
              "67          настоящим       0            O          0            O\n",
              "68             Кодекс       0            O          0            O\n",
              "69               ##ом       0            O          0            O\n",
              "70                  ,       4        COMMA          0            O\n",
              "71           является       0            O          0            O\n",
              "72       обязательным       0            O          0            O\n",
              "73                для       0            O          0            O\n",
              "74              судов       0            O          0            O\n",
              "75                  ,       4        COMMA          0            O\n",
              "76            органов       0            O          0            O\n",
              "77        прокуратуры       0            O          0            O\n",
              "78                  ,       4        COMMA          0            O\n",
              "79            органов       0            O          0            O\n",
              "80   предварительного       0            O          0            O\n",
              "81          следствия       0            O          0            O\n",
              "82                  и       0            O          0            O\n",
              "83            органов       0            O          0            O\n",
              "84           дознания       0            O          0            O\n",
              "85                  ,       4        COMMA          0            O\n",
              "86                  а       0            O          0            O\n",
              "87              также       0            O          0            O\n",
              "88               иных       0            O          0            O\n",
              "89         участников       0            O          0            O\n",
              "90         уголовного       0            O          0            O\n",
              "91   судопроизводства       0            O          0            O\n",
              "92                  .       3       PERIOD          0            O\n",
              "93                  3       0            O          0            O\n",
              "94                  .       3       PERIOD          0            O\n",
              "95              [SEP]       0            O          0            O\n",
              "96              [PAD]       0            O          0            O\n",
              "97              [PAD]       0            O          0            O\n",
              "98              [PAD]       0            O          0            O\n",
              "99              [PAD]       0            O          0            O\n",
              "100             [PAD]       0            O          0            O\n",
              "101             [PAD]       0            O          0            O\n",
              "102             [PAD]       0            O          0            O\n",
              "103             [PAD]       0            O          0            O\n",
              "104             [PAD]       0            O          0            O\n",
              "105             [PAD]       0            O          0            O\n",
              "106             [PAD]       0            O          0            O\n",
              "107             [PAD]       0            O          0            O\n",
              "108             [PAD]       0            O          0            O\n",
              "109             [PAD]       0            O          0            O\n",
              "110             [PAD]       0            O          0            O\n",
              "111             [PAD]       0            O          0            O\n",
              "112             [PAD]       0            O          0            O\n",
              "113             [PAD]       0            O          0            O\n",
              "114             [PAD]       0            O          0            O\n",
              "115             [PAD]       0            O          0            O\n",
              "116             [PAD]       0            O          0            O\n",
              "117             [PAD]       0            O          0            O\n",
              "118             [PAD]       0            O          0            O\n",
              "119             [PAD]       0            O          0            O\n",
              "120             [PAD]       0            O          0            O\n",
              "121             [PAD]       0            O          0            O\n",
              "122             [PAD]       0            O          0            O\n",
              "123             [PAD]       0            O          0            O\n",
              "124             [PAD]       0            O          0            O\n",
              "125             [PAD]       0            O          0            O\n",
              "126             [PAD]       0            O          0            O\n",
              "127             [PAD]       0            O          0            O\n",
              "128             [PAD]       0            O          0            O\n",
              "129             [PAD]       0            O          0            O\n",
              "130             [PAD]       0            O          0            O\n",
              "131             [PAD]       0            O          0            O\n",
              "132             [PAD]       0            O          0            O\n",
              "133             [PAD]       0            O          0            O\n",
              "134             [PAD]       0            O          0            O\n",
              "135             [PAD]       0            O          0            O\n",
              "136             [PAD]       0            O          0            O\n",
              "137             [PAD]       0            O          0            O\n",
              "138             [PAD]       0            O          0            O\n",
              "139             [PAD]       0            O          0            O\n",
              "140             [PAD]       0            O          0            O\n",
              "141             [PAD]       0            O          0            O\n",
              "142             [PAD]       0            O          0            O\n",
              "143             [PAD]       0            O          0            O\n",
              "144             [PAD]       0            O          0            O\n",
              "145             [PAD]       0            O          0            O\n",
              "146             [PAD]       0            O          0            O\n",
              "147             [PAD]       0            O          0            O\n",
              "148             [PAD]       0            O          0            O\n",
              "149             [PAD]       0            O          0            O\n",
              "150             [PAD]       0            O          0            O\n",
              "151             [PAD]       0            O          0            O\n",
              "152             [PAD]       0            O          0            O\n",
              "153             [PAD]       0            O          0            O\n",
              "154             [PAD]       0            O          0            O\n",
              "155             [PAD]       0            O          0            O\n",
              "156             [PAD]       0            O          0            O\n",
              "157             [PAD]       0            O          0            O\n",
              "158             [PAD]       0            O          0            O\n",
              "159             [PAD]       0            O          0            O\n",
              "160             [PAD]       0            O          0            O\n",
              "161             [PAD]       0            O          0            O\n",
              "162             [PAD]       0            O          0            O\n",
              "163             [PAD]       0            O          0            O\n",
              "164             [PAD]       0            O          0            O\n",
              "165             [PAD]       0            O          0            O\n",
              "166             [PAD]       0            O          0            O\n",
              "167             [PAD]       0            O          0            O\n",
              "168             [PAD]       0            O          0            O\n",
              "169             [PAD]       0            O          0            O\n",
              "170             [PAD]       0            O          0            O\n",
              "171             [PAD]       0            O          0            O\n",
              "172             [PAD]       0            O          0            O\n",
              "173             [PAD]       0            O          0            O\n",
              "174             [PAD]       0            O          0            O\n",
              "175             [PAD]       0            O          0            O\n",
              "176             [PAD]       0            O          0            O\n",
              "177             [PAD]       0            O          0            O\n",
              "178             [PAD]       0            O          0            O\n",
              "179             [PAD]       0            O          0            O\n",
              "180             [PAD]       0            O          0            O\n",
              "181             [PAD]       0            O          0            O\n",
              "182             [PAD]       0            O          0            O\n",
              "183             [PAD]       0            O          0            O\n",
              "184             [PAD]       0            O          0            O\n",
              "185             [PAD]       0            O          0            O\n",
              "186             [PAD]       0            O          0            O\n",
              "187             [PAD]       0            O          0            O\n",
              "188             [PAD]       0            O          0            O\n",
              "189             [PAD]       0            O          0            O\n",
              "190             [PAD]       0            O          0            O\n",
              "191             [PAD]       0            O          0            O\n",
              "192             [PAD]       0            O          0            O\n",
              "193             [PAD]       0            O          0            O\n",
              "194             [PAD]       0            O          0            O\n",
              "195             [PAD]       0            O          0            O\n",
              "196             [PAD]       0            O          0            O\n",
              "197             [PAD]       0            O          0            O\n",
              "198             [PAD]       0            O          0            O\n",
              "199             [PAD]       0            O          0            O\n",
              "200             [PAD]       0            O          0            O\n",
              "201             [PAD]       0            O          0            O\n",
              "202             [PAD]       0            O          0            O\n",
              "203             [PAD]       0            O          0            O\n",
              "204             [PAD]       0            O          0            O\n",
              "205             [PAD]       0            O          0            O\n",
              "206             [PAD]       0            O          0            O\n",
              "207             [PAD]       0            O          0            O\n",
              "208             [PAD]       0            O          0            O\n",
              "209             [PAD]       0            O          0            O\n",
              "210             [PAD]       0            O          0            O\n",
              "211             [PAD]       0            O          0            O\n",
              "212             [PAD]       0            O          0            O\n",
              "213             [PAD]       0            O          0            O\n",
              "214             [PAD]       0            O          0            O\n",
              "215             [PAD]       0            O          0            O\n",
              "216             [PAD]       0            O          0            O\n",
              "217             [PAD]       0            O          0            O\n",
              "218             [PAD]       0            O          0            O\n",
              "219             [PAD]       0            O          0            O\n",
              "220             [PAD]       0            O          0            O\n",
              "221             [PAD]       0            O          0            O\n",
              "222             [PAD]       0            O          0            O\n",
              "223             [PAD]       0            O          0            O\n",
              "224             [PAD]       0            O          0            O\n",
              "225             [PAD]       0            O          0            O\n",
              "226             [PAD]       0            O          0            O\n",
              "227             [PAD]       0            O          0            O\n",
              "228             [PAD]       0            O          0            O\n",
              "229             [PAD]       0            O          0            O\n",
              "230             [PAD]       0            O          0            O\n",
              "231             [PAD]       0            O          0            O\n",
              "232             [PAD]       0            O          0            O\n",
              "233             [PAD]       0            O          0            O\n",
              "234             [PAD]       0            O          0            O\n",
              "235             [PAD]       0            O          0            O\n",
              "236             [PAD]       0            O          0            O\n",
              "237             [PAD]       0            O          0            O\n",
              "238             [PAD]       0            O          0            O\n",
              "239             [PAD]       0            O          0            O\n",
              "240             [PAD]       0            O          0            O\n",
              "241             [PAD]       0            O          0            O\n",
              "242             [PAD]       0            O          0            O\n",
              "243             [PAD]       0            O          0            O\n",
              "244             [PAD]       0            O          0            O\n",
              "245             [PAD]       0            O          0            O\n",
              "246             [PAD]       0            O          0            O\n",
              "247             [PAD]       0            O          0            O\n",
              "248             [PAD]       0            O          0            O\n",
              "249             [PAD]       0            O          0            O\n",
              "250             [PAD]       0            O          0            O\n",
              "251             [PAD]       0            O          0            O\n",
              "252             [PAD]       0            O          0            O\n",
              "253             [PAD]       0            O          0            O\n",
              "254             [PAD]       0            O          0            O\n",
              "255             [PAD]       0            O          0            O"
            ],
            "text/html": [
              "\n",
              "  <div id=\"df-53b39715-1228-4f18-bf72-90fbf87fb1e4\" class=\"colab-df-container\">\n",
              "    <div>\n",
              "<style scoped>\n",
              "    .dataframe tbody tr th:only-of-type {\n",
              "        vertical-align: middle;\n",
              "    }\n",
              "\n",
              "    .dataframe tbody tr th {\n",
              "        vertical-align: top;\n",
              "    }\n",
              "\n",
              "    .dataframe thead th {\n",
              "        text-align: right;\n",
              "    }\n",
              "</style>\n",
              "<table border=\"1\" class=\"dataframe\">\n",
              "  <thead>\n",
              "    <tr style=\"text-align: right;\">\n",
              "      <th></th>\n",
              "      <th>tokens</th>\n",
              "      <th>y_true</th>\n",
              "      <th>y_true_label</th>\n",
              "      <th>y_predict</th>\n",
              "      <th>preds_labels</th>\n",
              "    </tr>\n",
              "  </thead>\n",
              "  <tbody>\n",
              "    <tr>\n",
              "      <th>0</th>\n",
              "      <td>[CLS]</td>\n",
              "      <td>0</td>\n",
              "      <td>O</td>\n",
              "      <td>0</td>\n",
              "      <td>O</td>\n",
              "    </tr>\n",
              "    <tr>\n",
              "      <th>1</th>\n",
              "      <td>18</td>\n",
              "      <td>0</td>\n",
              "      <td>O</td>\n",
              "      <td>0</td>\n",
              "      <td>O</td>\n",
              "    </tr>\n",
              "    <tr>\n",
              "      <th>2</th>\n",
              "      <td>декабря</td>\n",
              "      <td>0</td>\n",
              "      <td>O</td>\n",
              "      <td>0</td>\n",
              "      <td>O</td>\n",
              "    </tr>\n",
              "    <tr>\n",
              "      <th>3</th>\n",
              "      <td>2001</td>\n",
              "      <td>0</td>\n",
              "      <td>O</td>\n",
              "      <td>0</td>\n",
              "      <td>O</td>\n",
              "    </tr>\n",
              "    <tr>\n",
              "      <th>4</th>\n",
              "      <td>года</td>\n",
              "      <td>0</td>\n",
              "      <td>O</td>\n",
              "      <td>0</td>\n",
              "      <td>O</td>\n",
              "    </tr>\n",
              "    <tr>\n",
              "      <th>5</th>\n",
              "      <td>Принят</td>\n",
              "      <td>0</td>\n",
              "      <td>O</td>\n",
              "      <td>0</td>\n",
              "      <td>O</td>\n",
              "    </tr>\n",
              "    <tr>\n",
              "      <th>6</th>\n",
              "      <td>Государственной</td>\n",
              "      <td>0</td>\n",
              "      <td>O</td>\n",
              "      <td>0</td>\n",
              "      <td>O</td>\n",
              "    </tr>\n",
              "    <tr>\n",
              "      <th>7</th>\n",
              "      <td>Думой</td>\n",
              "      <td>0</td>\n",
              "      <td>O</td>\n",
              "      <td>0</td>\n",
              "      <td>O</td>\n",
              "    </tr>\n",
              "    <tr>\n",
              "      <th>8</th>\n",
              "      <td>22</td>\n",
              "      <td>0</td>\n",
              "      <td>O</td>\n",
              "      <td>0</td>\n",
              "      <td>O</td>\n",
              "    </tr>\n",
              "    <tr>\n",
              "      <th>9</th>\n",
              "      <td>ноября</td>\n",
              "      <td>0</td>\n",
              "      <td>O</td>\n",
              "      <td>0</td>\n",
              "      <td>O</td>\n",
              "    </tr>\n",
              "    <tr>\n",
              "      <th>10</th>\n",
              "      <td>2001</td>\n",
              "      <td>0</td>\n",
              "      <td>O</td>\n",
              "      <td>0</td>\n",
              "      <td>O</td>\n",
              "    </tr>\n",
              "    <tr>\n",
              "      <th>11</th>\n",
              "      <td>года</td>\n",
              "      <td>0</td>\n",
              "      <td>O</td>\n",
              "      <td>0</td>\n",
              "      <td>O</td>\n",
              "    </tr>\n",
              "    <tr>\n",
              "      <th>12</th>\n",
              "      <td>Одо</td>\n",
              "      <td>0</td>\n",
              "      <td>O</td>\n",
              "      <td>0</td>\n",
              "      <td>O</td>\n",
              "    </tr>\n",
              "    <tr>\n",
              "      <th>13</th>\n",
              "      <td>##бре</td>\n",
              "      <td>0</td>\n",
              "      <td>O</td>\n",
              "      <td>0</td>\n",
              "      <td>O</td>\n",
              "    </tr>\n",
              "    <tr>\n",
              "      <th>14</th>\n",
              "      <td>##н</td>\n",
              "      <td>0</td>\n",
              "      <td>O</td>\n",
              "      <td>0</td>\n",
              "      <td>O</td>\n",
              "    </tr>\n",
              "    <tr>\n",
              "      <th>15</th>\n",
              "      <td>Советом</td>\n",
              "      <td>0</td>\n",
              "      <td>O</td>\n",
              "      <td>0</td>\n",
              "      <td>O</td>\n",
              "    </tr>\n",
              "    <tr>\n",
              "      <th>16</th>\n",
              "      <td>Федерации</td>\n",
              "      <td>0</td>\n",
              "      <td>O</td>\n",
              "      <td>0</td>\n",
              "      <td>O</td>\n",
              "    </tr>\n",
              "    <tr>\n",
              "      <th>17</th>\n",
              "      <td>5</td>\n",
              "      <td>0</td>\n",
              "      <td>O</td>\n",
              "      <td>0</td>\n",
              "      <td>O</td>\n",
              "    </tr>\n",
              "    <tr>\n",
              "      <th>18</th>\n",
              "      <td>декабря</td>\n",
              "      <td>0</td>\n",
              "      <td>O</td>\n",
              "      <td>0</td>\n",
              "      <td>O</td>\n",
              "    </tr>\n",
              "    <tr>\n",
              "      <th>19</th>\n",
              "      <td>2001</td>\n",
              "      <td>0</td>\n",
              "      <td>O</td>\n",
              "      <td>0</td>\n",
              "      <td>O</td>\n",
              "    </tr>\n",
              "    <tr>\n",
              "      <th>20</th>\n",
              "      <td>года</td>\n",
              "      <td>0</td>\n",
              "      <td>O</td>\n",
              "      <td>0</td>\n",
              "      <td>O</td>\n",
              "    </tr>\n",
              "    <tr>\n",
              "      <th>21</th>\n",
              "      <td>Список</td>\n",
              "      <td>0</td>\n",
              "      <td>O</td>\n",
              "      <td>0</td>\n",
              "      <td>O</td>\n",
              "    </tr>\n",
              "    <tr>\n",
              "      <th>22</th>\n",
              "      <td>измен</td>\n",
              "      <td>0</td>\n",
              "      <td>O</td>\n",
              "      <td>0</td>\n",
              "      <td>O</td>\n",
              "    </tr>\n",
              "    <tr>\n",
              "      <th>23</th>\n",
              "      <td>##яющих</td>\n",
              "      <td>0</td>\n",
              "      <td>O</td>\n",
              "      <td>0</td>\n",
              "      <td>O</td>\n",
              "    </tr>\n",
              "    <tr>\n",
              "      <th>24</th>\n",
              "      <td>документов</td>\n",
              "      <td>0</td>\n",
              "      <td>O</td>\n",
              "      <td>0</td>\n",
              "      <td>O</td>\n",
              "    </tr>\n",
              "    <tr>\n",
              "      <th>25</th>\n",
              "      <td>с</td>\n",
              "      <td>0</td>\n",
              "      <td>O</td>\n",
              "      <td>0</td>\n",
              "      <td>O</td>\n",
              "    </tr>\n",
              "    <tr>\n",
              "      <th>26</th>\n",
              "      <td>изм</td>\n",
              "      <td>0</td>\n",
              "      <td>O</td>\n",
              "      <td>0</td>\n",
              "      <td>O</td>\n",
              "    </tr>\n",
              "    <tr>\n",
              "      <th>27</th>\n",
              "      <td>.</td>\n",
              "      <td>0</td>\n",
              "      <td>O</td>\n",
              "      <td>0</td>\n",
              "      <td>O</td>\n",
              "    </tr>\n",
              "    <tr>\n",
              "      <th>28</th>\n",
              "      <td>,</td>\n",
              "      <td>4</td>\n",
              "      <td>COMMA</td>\n",
              "      <td>0</td>\n",
              "      <td>O</td>\n",
              "    </tr>\n",
              "    <tr>\n",
              "      <th>29</th>\n",
              "      <td>внесен</td>\n",
              "      <td>0</td>\n",
              "      <td>O</td>\n",
              "      <td>0</td>\n",
              "      <td>O</td>\n",
              "    </tr>\n",
              "    <tr>\n",
              "      <th>30</th>\n",
              "      <td>##ными</td>\n",
              "      <td>0</td>\n",
              "      <td>O</td>\n",
              "      <td>0</td>\n",
              "      <td>O</td>\n",
              "    </tr>\n",
              "    <tr>\n",
              "      <th>31</th>\n",
              "      <td>Статья</td>\n",
              "      <td>0</td>\n",
              "      <td>O</td>\n",
              "      <td>0</td>\n",
              "      <td>O</td>\n",
              "    </tr>\n",
              "    <tr>\n",
              "      <th>32</th>\n",
              "      <td>1</td>\n",
              "      <td>0</td>\n",
              "      <td>O</td>\n",
              "      <td>0</td>\n",
              "      <td>O</td>\n",
              "    </tr>\n",
              "    <tr>\n",
              "      <th>33</th>\n",
              "      <td>.</td>\n",
              "      <td>3</td>\n",
              "      <td>PERIOD</td>\n",
              "      <td>0</td>\n",
              "      <td>O</td>\n",
              "    </tr>\n",
              "    <tr>\n",
              "      <th>34</th>\n",
              "      <td>Законы</td>\n",
              "      <td>0</td>\n",
              "      <td>O</td>\n",
              "      <td>0</td>\n",
              "      <td>O</td>\n",
              "    </tr>\n",
              "    <tr>\n",
              "      <th>35</th>\n",
              "      <td>,</td>\n",
              "      <td>4</td>\n",
              "      <td>COMMA</td>\n",
              "      <td>0</td>\n",
              "      <td>O</td>\n",
              "    </tr>\n",
              "    <tr>\n",
              "      <th>36</th>\n",
              "      <td>определяющие</td>\n",
              "      <td>0</td>\n",
              "      <td>O</td>\n",
              "      <td>0</td>\n",
              "      <td>O</td>\n",
              "    </tr>\n",
              "    <tr>\n",
              "      <th>37</th>\n",
              "      <td>порядок</td>\n",
              "      <td>0</td>\n",
              "      <td>O</td>\n",
              "      <td>0</td>\n",
              "      <td>O</td>\n",
              "    </tr>\n",
              "    <tr>\n",
              "      <th>38</th>\n",
              "      <td>уголовного</td>\n",
              "      <td>0</td>\n",
              "      <td>O</td>\n",
              "      <td>0</td>\n",
              "      <td>O</td>\n",
              "    </tr>\n",
              "    <tr>\n",
              "      <th>39</th>\n",
              "      <td>судопроизводства</td>\n",
              "      <td>0</td>\n",
              "      <td>O</td>\n",
              "      <td>0</td>\n",
              "      <td>O</td>\n",
              "    </tr>\n",
              "    <tr>\n",
              "      <th>40</th>\n",
              "      <td>1</td>\n",
              "      <td>0</td>\n",
              "      <td>O</td>\n",
              "      <td>0</td>\n",
              "      <td>O</td>\n",
              "    </tr>\n",
              "    <tr>\n",
              "      <th>41</th>\n",
              "      <td>.</td>\n",
              "      <td>3</td>\n",
              "      <td>PERIOD</td>\n",
              "      <td>0</td>\n",
              "      <td>O</td>\n",
              "    </tr>\n",
              "    <tr>\n",
              "      <th>42</th>\n",
              "      <td>Порядок</td>\n",
              "      <td>0</td>\n",
              "      <td>O</td>\n",
              "      <td>0</td>\n",
              "      <td>O</td>\n",
              "    </tr>\n",
              "    <tr>\n",
              "      <th>43</th>\n",
              "      <td>уголовного</td>\n",
              "      <td>0</td>\n",
              "      <td>O</td>\n",
              "      <td>0</td>\n",
              "      <td>O</td>\n",
              "    </tr>\n",
              "    <tr>\n",
              "      <th>44</th>\n",
              "      <td>судопроизводства</td>\n",
              "      <td>0</td>\n",
              "      <td>O</td>\n",
              "      <td>0</td>\n",
              "      <td>O</td>\n",
              "    </tr>\n",
              "    <tr>\n",
              "      <th>45</th>\n",
              "      <td>на</td>\n",
              "      <td>0</td>\n",
              "      <td>O</td>\n",
              "      <td>0</td>\n",
              "      <td>O</td>\n",
              "    </tr>\n",
              "    <tr>\n",
              "      <th>46</th>\n",
              "      <td>территории</td>\n",
              "      <td>0</td>\n",
              "      <td>O</td>\n",
              "      <td>0</td>\n",
              "      <td>O</td>\n",
              "    </tr>\n",
              "    <tr>\n",
              "      <th>47</th>\n",
              "      <td>Российской</td>\n",
              "      <td>0</td>\n",
              "      <td>O</td>\n",
              "      <td>0</td>\n",
              "      <td>O</td>\n",
              "    </tr>\n",
              "    <tr>\n",
              "      <th>48</th>\n",
              "      <td>Федерации</td>\n",
              "      <td>0</td>\n",
              "      <td>O</td>\n",
              "      <td>0</td>\n",
              "      <td>O</td>\n",
              "    </tr>\n",
              "    <tr>\n",
              "      <th>49</th>\n",
              "      <td>устанавливается</td>\n",
              "      <td>0</td>\n",
              "      <td>O</td>\n",
              "      <td>0</td>\n",
              "      <td>O</td>\n",
              "    </tr>\n",
              "    <tr>\n",
              "      <th>50</th>\n",
              "      <td>настоящим</td>\n",
              "      <td>0</td>\n",
              "      <td>O</td>\n",
              "      <td>0</td>\n",
              "      <td>O</td>\n",
              "    </tr>\n",
              "    <tr>\n",
              "      <th>51</th>\n",
              "      <td>Кодекс</td>\n",
              "      <td>0</td>\n",
              "      <td>O</td>\n",
              "      <td>0</td>\n",
              "      <td>O</td>\n",
              "    </tr>\n",
              "    <tr>\n",
              "      <th>52</th>\n",
              "      <td>##ом</td>\n",
              "      <td>0</td>\n",
              "      <td>O</td>\n",
              "      <td>0</td>\n",
              "      <td>O</td>\n",
              "    </tr>\n",
              "    <tr>\n",
              "      <th>53</th>\n",
              "      <td>,</td>\n",
              "      <td>4</td>\n",
              "      <td>COMMA</td>\n",
              "      <td>0</td>\n",
              "      <td>O</td>\n",
              "    </tr>\n",
              "    <tr>\n",
              "      <th>54</th>\n",
              "      <td>основанным</td>\n",
              "      <td>0</td>\n",
              "      <td>O</td>\n",
              "      <td>0</td>\n",
              "      <td>O</td>\n",
              "    </tr>\n",
              "    <tr>\n",
              "      <th>55</th>\n",
              "      <td>на</td>\n",
              "      <td>0</td>\n",
              "      <td>O</td>\n",
              "      <td>0</td>\n",
              "      <td>O</td>\n",
              "    </tr>\n",
              "    <tr>\n",
              "      <th>56</th>\n",
              "      <td>Конституции</td>\n",
              "      <td>0</td>\n",
              "      <td>O</td>\n",
              "      <td>0</td>\n",
              "      <td>O</td>\n",
              "    </tr>\n",
              "    <tr>\n",
              "      <th>57</th>\n",
              "      <td>Российской</td>\n",
              "      <td>0</td>\n",
              "      <td>O</td>\n",
              "      <td>0</td>\n",
              "      <td>O</td>\n",
              "    </tr>\n",
              "    <tr>\n",
              "      <th>58</th>\n",
              "      <td>Федерации</td>\n",
              "      <td>0</td>\n",
              "      <td>O</td>\n",
              "      <td>0</td>\n",
              "      <td>O</td>\n",
              "    </tr>\n",
              "    <tr>\n",
              "      <th>59</th>\n",
              "      <td>.</td>\n",
              "      <td>3</td>\n",
              "      <td>PERIOD</td>\n",
              "      <td>0</td>\n",
              "      <td>O</td>\n",
              "    </tr>\n",
              "    <tr>\n",
              "      <th>60</th>\n",
              "      <td>2</td>\n",
              "      <td>0</td>\n",
              "      <td>O</td>\n",
              "      <td>0</td>\n",
              "      <td>O</td>\n",
              "    </tr>\n",
              "    <tr>\n",
              "      <th>61</th>\n",
              "      <td>.</td>\n",
              "      <td>3</td>\n",
              "      <td>PERIOD</td>\n",
              "      <td>0</td>\n",
              "      <td>O</td>\n",
              "    </tr>\n",
              "    <tr>\n",
              "      <th>62</th>\n",
              "      <td>Порядок</td>\n",
              "      <td>0</td>\n",
              "      <td>O</td>\n",
              "      <td>0</td>\n",
              "      <td>O</td>\n",
              "    </tr>\n",
              "    <tr>\n",
              "      <th>63</th>\n",
              "      <td>уголовного</td>\n",
              "      <td>0</td>\n",
              "      <td>O</td>\n",
              "      <td>0</td>\n",
              "      <td>O</td>\n",
              "    </tr>\n",
              "    <tr>\n",
              "      <th>64</th>\n",
              "      <td>судопроизводства</td>\n",
              "      <td>0</td>\n",
              "      <td>O</td>\n",
              "      <td>0</td>\n",
              "      <td>O</td>\n",
              "    </tr>\n",
              "    <tr>\n",
              "      <th>65</th>\n",
              "      <td>,</td>\n",
              "      <td>4</td>\n",
              "      <td>COMMA</td>\n",
              "      <td>0</td>\n",
              "      <td>O</td>\n",
              "    </tr>\n",
              "    <tr>\n",
              "      <th>66</th>\n",
              "      <td>установленный</td>\n",
              "      <td>0</td>\n",
              "      <td>O</td>\n",
              "      <td>0</td>\n",
              "      <td>O</td>\n",
              "    </tr>\n",
              "    <tr>\n",
              "      <th>67</th>\n",
              "      <td>настоящим</td>\n",
              "      <td>0</td>\n",
              "      <td>O</td>\n",
              "      <td>0</td>\n",
              "      <td>O</td>\n",
              "    </tr>\n",
              "    <tr>\n",
              "      <th>68</th>\n",
              "      <td>Кодекс</td>\n",
              "      <td>0</td>\n",
              "      <td>O</td>\n",
              "      <td>0</td>\n",
              "      <td>O</td>\n",
              "    </tr>\n",
              "    <tr>\n",
              "      <th>69</th>\n",
              "      <td>##ом</td>\n",
              "      <td>0</td>\n",
              "      <td>O</td>\n",
              "      <td>0</td>\n",
              "      <td>O</td>\n",
              "    </tr>\n",
              "    <tr>\n",
              "      <th>70</th>\n",
              "      <td>,</td>\n",
              "      <td>4</td>\n",
              "      <td>COMMA</td>\n",
              "      <td>0</td>\n",
              "      <td>O</td>\n",
              "    </tr>\n",
              "    <tr>\n",
              "      <th>71</th>\n",
              "      <td>является</td>\n",
              "      <td>0</td>\n",
              "      <td>O</td>\n",
              "      <td>0</td>\n",
              "      <td>O</td>\n",
              "    </tr>\n",
              "    <tr>\n",
              "      <th>72</th>\n",
              "      <td>обязательным</td>\n",
              "      <td>0</td>\n",
              "      <td>O</td>\n",
              "      <td>0</td>\n",
              "      <td>O</td>\n",
              "    </tr>\n",
              "    <tr>\n",
              "      <th>73</th>\n",
              "      <td>для</td>\n",
              "      <td>0</td>\n",
              "      <td>O</td>\n",
              "      <td>0</td>\n",
              "      <td>O</td>\n",
              "    </tr>\n",
              "    <tr>\n",
              "      <th>74</th>\n",
              "      <td>судов</td>\n",
              "      <td>0</td>\n",
              "      <td>O</td>\n",
              "      <td>0</td>\n",
              "      <td>O</td>\n",
              "    </tr>\n",
              "    <tr>\n",
              "      <th>75</th>\n",
              "      <td>,</td>\n",
              "      <td>4</td>\n",
              "      <td>COMMA</td>\n",
              "      <td>0</td>\n",
              "      <td>O</td>\n",
              "    </tr>\n",
              "    <tr>\n",
              "      <th>76</th>\n",
              "      <td>органов</td>\n",
              "      <td>0</td>\n",
              "      <td>O</td>\n",
              "      <td>0</td>\n",
              "      <td>O</td>\n",
              "    </tr>\n",
              "    <tr>\n",
              "      <th>77</th>\n",
              "      <td>прокуратуры</td>\n",
              "      <td>0</td>\n",
              "      <td>O</td>\n",
              "      <td>0</td>\n",
              "      <td>O</td>\n",
              "    </tr>\n",
              "    <tr>\n",
              "      <th>78</th>\n",
              "      <td>,</td>\n",
              "      <td>4</td>\n",
              "      <td>COMMA</td>\n",
              "      <td>0</td>\n",
              "      <td>O</td>\n",
              "    </tr>\n",
              "    <tr>\n",
              "      <th>79</th>\n",
              "      <td>органов</td>\n",
              "      <td>0</td>\n",
              "      <td>O</td>\n",
              "      <td>0</td>\n",
              "      <td>O</td>\n",
              "    </tr>\n",
              "    <tr>\n",
              "      <th>80</th>\n",
              "      <td>предварительного</td>\n",
              "      <td>0</td>\n",
              "      <td>O</td>\n",
              "      <td>0</td>\n",
              "      <td>O</td>\n",
              "    </tr>\n",
              "    <tr>\n",
              "      <th>81</th>\n",
              "      <td>следствия</td>\n",
              "      <td>0</td>\n",
              "      <td>O</td>\n",
              "      <td>0</td>\n",
              "      <td>O</td>\n",
              "    </tr>\n",
              "    <tr>\n",
              "      <th>82</th>\n",
              "      <td>и</td>\n",
              "      <td>0</td>\n",
              "      <td>O</td>\n",
              "      <td>0</td>\n",
              "      <td>O</td>\n",
              "    </tr>\n",
              "    <tr>\n",
              "      <th>83</th>\n",
              "      <td>органов</td>\n",
              "      <td>0</td>\n",
              "      <td>O</td>\n",
              "      <td>0</td>\n",
              "      <td>O</td>\n",
              "    </tr>\n",
              "    <tr>\n",
              "      <th>84</th>\n",
              "      <td>дознания</td>\n",
              "      <td>0</td>\n",
              "      <td>O</td>\n",
              "      <td>0</td>\n",
              "      <td>O</td>\n",
              "    </tr>\n",
              "    <tr>\n",
              "      <th>85</th>\n",
              "      <td>,</td>\n",
              "      <td>4</td>\n",
              "      <td>COMMA</td>\n",
              "      <td>0</td>\n",
              "      <td>O</td>\n",
              "    </tr>\n",
              "    <tr>\n",
              "      <th>86</th>\n",
              "      <td>а</td>\n",
              "      <td>0</td>\n",
              "      <td>O</td>\n",
              "      <td>0</td>\n",
              "      <td>O</td>\n",
              "    </tr>\n",
              "    <tr>\n",
              "      <th>87</th>\n",
              "      <td>также</td>\n",
              "      <td>0</td>\n",
              "      <td>O</td>\n",
              "      <td>0</td>\n",
              "      <td>O</td>\n",
              "    </tr>\n",
              "    <tr>\n",
              "      <th>88</th>\n",
              "      <td>иных</td>\n",
              "      <td>0</td>\n",
              "      <td>O</td>\n",
              "      <td>0</td>\n",
              "      <td>O</td>\n",
              "    </tr>\n",
              "    <tr>\n",
              "      <th>89</th>\n",
              "      <td>участников</td>\n",
              "      <td>0</td>\n",
              "      <td>O</td>\n",
              "      <td>0</td>\n",
              "      <td>O</td>\n",
              "    </tr>\n",
              "    <tr>\n",
              "      <th>90</th>\n",
              "      <td>уголовного</td>\n",
              "      <td>0</td>\n",
              "      <td>O</td>\n",
              "      <td>0</td>\n",
              "      <td>O</td>\n",
              "    </tr>\n",
              "    <tr>\n",
              "      <th>91</th>\n",
              "      <td>судопроизводства</td>\n",
              "      <td>0</td>\n",
              "      <td>O</td>\n",
              "      <td>0</td>\n",
              "      <td>O</td>\n",
              "    </tr>\n",
              "    <tr>\n",
              "      <th>92</th>\n",
              "      <td>.</td>\n",
              "      <td>3</td>\n",
              "      <td>PERIOD</td>\n",
              "      <td>0</td>\n",
              "      <td>O</td>\n",
              "    </tr>\n",
              "    <tr>\n",
              "      <th>93</th>\n",
              "      <td>3</td>\n",
              "      <td>0</td>\n",
              "      <td>O</td>\n",
              "      <td>0</td>\n",
              "      <td>O</td>\n",
              "    </tr>\n",
              "    <tr>\n",
              "      <th>94</th>\n",
              "      <td>.</td>\n",
              "      <td>3</td>\n",
              "      <td>PERIOD</td>\n",
              "      <td>0</td>\n",
              "      <td>O</td>\n",
              "    </tr>\n",
              "    <tr>\n",
              "      <th>95</th>\n",
              "      <td>[SEP]</td>\n",
              "      <td>0</td>\n",
              "      <td>O</td>\n",
              "      <td>0</td>\n",
              "      <td>O</td>\n",
              "    </tr>\n",
              "    <tr>\n",
              "      <th>96</th>\n",
              "      <td>[PAD]</td>\n",
              "      <td>0</td>\n",
              "      <td>O</td>\n",
              "      <td>0</td>\n",
              "      <td>O</td>\n",
              "    </tr>\n",
              "    <tr>\n",
              "      <th>97</th>\n",
              "      <td>[PAD]</td>\n",
              "      <td>0</td>\n",
              "      <td>O</td>\n",
              "      <td>0</td>\n",
              "      <td>O</td>\n",
              "    </tr>\n",
              "    <tr>\n",
              "      <th>98</th>\n",
              "      <td>[PAD]</td>\n",
              "      <td>0</td>\n",
              "      <td>O</td>\n",
              "      <td>0</td>\n",
              "      <td>O</td>\n",
              "    </tr>\n",
              "    <tr>\n",
              "      <th>99</th>\n",
              "      <td>[PAD]</td>\n",
              "      <td>0</td>\n",
              "      <td>O</td>\n",
              "      <td>0</td>\n",
              "      <td>O</td>\n",
              "    </tr>\n",
              "    <tr>\n",
              "      <th>100</th>\n",
              "      <td>[PAD]</td>\n",
              "      <td>0</td>\n",
              "      <td>O</td>\n",
              "      <td>0</td>\n",
              "      <td>O</td>\n",
              "    </tr>\n",
              "    <tr>\n",
              "      <th>101</th>\n",
              "      <td>[PAD]</td>\n",
              "      <td>0</td>\n",
              "      <td>O</td>\n",
              "      <td>0</td>\n",
              "      <td>O</td>\n",
              "    </tr>\n",
              "    <tr>\n",
              "      <th>102</th>\n",
              "      <td>[PAD]</td>\n",
              "      <td>0</td>\n",
              "      <td>O</td>\n",
              "      <td>0</td>\n",
              "      <td>O</td>\n",
              "    </tr>\n",
              "    <tr>\n",
              "      <th>103</th>\n",
              "      <td>[PAD]</td>\n",
              "      <td>0</td>\n",
              "      <td>O</td>\n",
              "      <td>0</td>\n",
              "      <td>O</td>\n",
              "    </tr>\n",
              "    <tr>\n",
              "      <th>104</th>\n",
              "      <td>[PAD]</td>\n",
              "      <td>0</td>\n",
              "      <td>O</td>\n",
              "      <td>0</td>\n",
              "      <td>O</td>\n",
              "    </tr>\n",
              "    <tr>\n",
              "      <th>105</th>\n",
              "      <td>[PAD]</td>\n",
              "      <td>0</td>\n",
              "      <td>O</td>\n",
              "      <td>0</td>\n",
              "      <td>O</td>\n",
              "    </tr>\n",
              "    <tr>\n",
              "      <th>106</th>\n",
              "      <td>[PAD]</td>\n",
              "      <td>0</td>\n",
              "      <td>O</td>\n",
              "      <td>0</td>\n",
              "      <td>O</td>\n",
              "    </tr>\n",
              "    <tr>\n",
              "      <th>107</th>\n",
              "      <td>[PAD]</td>\n",
              "      <td>0</td>\n",
              "      <td>O</td>\n",
              "      <td>0</td>\n",
              "      <td>O</td>\n",
              "    </tr>\n",
              "    <tr>\n",
              "      <th>108</th>\n",
              "      <td>[PAD]</td>\n",
              "      <td>0</td>\n",
              "      <td>O</td>\n",
              "      <td>0</td>\n",
              "      <td>O</td>\n",
              "    </tr>\n",
              "    <tr>\n",
              "      <th>109</th>\n",
              "      <td>[PAD]</td>\n",
              "      <td>0</td>\n",
              "      <td>O</td>\n",
              "      <td>0</td>\n",
              "      <td>O</td>\n",
              "    </tr>\n",
              "    <tr>\n",
              "      <th>110</th>\n",
              "      <td>[PAD]</td>\n",
              "      <td>0</td>\n",
              "      <td>O</td>\n",
              "      <td>0</td>\n",
              "      <td>O</td>\n",
              "    </tr>\n",
              "    <tr>\n",
              "      <th>111</th>\n",
              "      <td>[PAD]</td>\n",
              "      <td>0</td>\n",
              "      <td>O</td>\n",
              "      <td>0</td>\n",
              "      <td>O</td>\n",
              "    </tr>\n",
              "    <tr>\n",
              "      <th>112</th>\n",
              "      <td>[PAD]</td>\n",
              "      <td>0</td>\n",
              "      <td>O</td>\n",
              "      <td>0</td>\n",
              "      <td>O</td>\n",
              "    </tr>\n",
              "    <tr>\n",
              "      <th>113</th>\n",
              "      <td>[PAD]</td>\n",
              "      <td>0</td>\n",
              "      <td>O</td>\n",
              "      <td>0</td>\n",
              "      <td>O</td>\n",
              "    </tr>\n",
              "    <tr>\n",
              "      <th>114</th>\n",
              "      <td>[PAD]</td>\n",
              "      <td>0</td>\n",
              "      <td>O</td>\n",
              "      <td>0</td>\n",
              "      <td>O</td>\n",
              "    </tr>\n",
              "    <tr>\n",
              "      <th>115</th>\n",
              "      <td>[PAD]</td>\n",
              "      <td>0</td>\n",
              "      <td>O</td>\n",
              "      <td>0</td>\n",
              "      <td>O</td>\n",
              "    </tr>\n",
              "    <tr>\n",
              "      <th>116</th>\n",
              "      <td>[PAD]</td>\n",
              "      <td>0</td>\n",
              "      <td>O</td>\n",
              "      <td>0</td>\n",
              "      <td>O</td>\n",
              "    </tr>\n",
              "    <tr>\n",
              "      <th>117</th>\n",
              "      <td>[PAD]</td>\n",
              "      <td>0</td>\n",
              "      <td>O</td>\n",
              "      <td>0</td>\n",
              "      <td>O</td>\n",
              "    </tr>\n",
              "    <tr>\n",
              "      <th>118</th>\n",
              "      <td>[PAD]</td>\n",
              "      <td>0</td>\n",
              "      <td>O</td>\n",
              "      <td>0</td>\n",
              "      <td>O</td>\n",
              "    </tr>\n",
              "    <tr>\n",
              "      <th>119</th>\n",
              "      <td>[PAD]</td>\n",
              "      <td>0</td>\n",
              "      <td>O</td>\n",
              "      <td>0</td>\n",
              "      <td>O</td>\n",
              "    </tr>\n",
              "    <tr>\n",
              "      <th>120</th>\n",
              "      <td>[PAD]</td>\n",
              "      <td>0</td>\n",
              "      <td>O</td>\n",
              "      <td>0</td>\n",
              "      <td>O</td>\n",
              "    </tr>\n",
              "    <tr>\n",
              "      <th>121</th>\n",
              "      <td>[PAD]</td>\n",
              "      <td>0</td>\n",
              "      <td>O</td>\n",
              "      <td>0</td>\n",
              "      <td>O</td>\n",
              "    </tr>\n",
              "    <tr>\n",
              "      <th>122</th>\n",
              "      <td>[PAD]</td>\n",
              "      <td>0</td>\n",
              "      <td>O</td>\n",
              "      <td>0</td>\n",
              "      <td>O</td>\n",
              "    </tr>\n",
              "    <tr>\n",
              "      <th>123</th>\n",
              "      <td>[PAD]</td>\n",
              "      <td>0</td>\n",
              "      <td>O</td>\n",
              "      <td>0</td>\n",
              "      <td>O</td>\n",
              "    </tr>\n",
              "    <tr>\n",
              "      <th>124</th>\n",
              "      <td>[PAD]</td>\n",
              "      <td>0</td>\n",
              "      <td>O</td>\n",
              "      <td>0</td>\n",
              "      <td>O</td>\n",
              "    </tr>\n",
              "    <tr>\n",
              "      <th>125</th>\n",
              "      <td>[PAD]</td>\n",
              "      <td>0</td>\n",
              "      <td>O</td>\n",
              "      <td>0</td>\n",
              "      <td>O</td>\n",
              "    </tr>\n",
              "    <tr>\n",
              "      <th>126</th>\n",
              "      <td>[PAD]</td>\n",
              "      <td>0</td>\n",
              "      <td>O</td>\n",
              "      <td>0</td>\n",
              "      <td>O</td>\n",
              "    </tr>\n",
              "    <tr>\n",
              "      <th>127</th>\n",
              "      <td>[PAD]</td>\n",
              "      <td>0</td>\n",
              "      <td>O</td>\n",
              "      <td>0</td>\n",
              "      <td>O</td>\n",
              "    </tr>\n",
              "    <tr>\n",
              "      <th>128</th>\n",
              "      <td>[PAD]</td>\n",
              "      <td>0</td>\n",
              "      <td>O</td>\n",
              "      <td>0</td>\n",
              "      <td>O</td>\n",
              "    </tr>\n",
              "    <tr>\n",
              "      <th>129</th>\n",
              "      <td>[PAD]</td>\n",
              "      <td>0</td>\n",
              "      <td>O</td>\n",
              "      <td>0</td>\n",
              "      <td>O</td>\n",
              "    </tr>\n",
              "    <tr>\n",
              "      <th>130</th>\n",
              "      <td>[PAD]</td>\n",
              "      <td>0</td>\n",
              "      <td>O</td>\n",
              "      <td>0</td>\n",
              "      <td>O</td>\n",
              "    </tr>\n",
              "    <tr>\n",
              "      <th>131</th>\n",
              "      <td>[PAD]</td>\n",
              "      <td>0</td>\n",
              "      <td>O</td>\n",
              "      <td>0</td>\n",
              "      <td>O</td>\n",
              "    </tr>\n",
              "    <tr>\n",
              "      <th>132</th>\n",
              "      <td>[PAD]</td>\n",
              "      <td>0</td>\n",
              "      <td>O</td>\n",
              "      <td>0</td>\n",
              "      <td>O</td>\n",
              "    </tr>\n",
              "    <tr>\n",
              "      <th>133</th>\n",
              "      <td>[PAD]</td>\n",
              "      <td>0</td>\n",
              "      <td>O</td>\n",
              "      <td>0</td>\n",
              "      <td>O</td>\n",
              "    </tr>\n",
              "    <tr>\n",
              "      <th>134</th>\n",
              "      <td>[PAD]</td>\n",
              "      <td>0</td>\n",
              "      <td>O</td>\n",
              "      <td>0</td>\n",
              "      <td>O</td>\n",
              "    </tr>\n",
              "    <tr>\n",
              "      <th>135</th>\n",
              "      <td>[PAD]</td>\n",
              "      <td>0</td>\n",
              "      <td>O</td>\n",
              "      <td>0</td>\n",
              "      <td>O</td>\n",
              "    </tr>\n",
              "    <tr>\n",
              "      <th>136</th>\n",
              "      <td>[PAD]</td>\n",
              "      <td>0</td>\n",
              "      <td>O</td>\n",
              "      <td>0</td>\n",
              "      <td>O</td>\n",
              "    </tr>\n",
              "    <tr>\n",
              "      <th>137</th>\n",
              "      <td>[PAD]</td>\n",
              "      <td>0</td>\n",
              "      <td>O</td>\n",
              "      <td>0</td>\n",
              "      <td>O</td>\n",
              "    </tr>\n",
              "    <tr>\n",
              "      <th>138</th>\n",
              "      <td>[PAD]</td>\n",
              "      <td>0</td>\n",
              "      <td>O</td>\n",
              "      <td>0</td>\n",
              "      <td>O</td>\n",
              "    </tr>\n",
              "    <tr>\n",
              "      <th>139</th>\n",
              "      <td>[PAD]</td>\n",
              "      <td>0</td>\n",
              "      <td>O</td>\n",
              "      <td>0</td>\n",
              "      <td>O</td>\n",
              "    </tr>\n",
              "    <tr>\n",
              "      <th>140</th>\n",
              "      <td>[PAD]</td>\n",
              "      <td>0</td>\n",
              "      <td>O</td>\n",
              "      <td>0</td>\n",
              "      <td>O</td>\n",
              "    </tr>\n",
              "    <tr>\n",
              "      <th>141</th>\n",
              "      <td>[PAD]</td>\n",
              "      <td>0</td>\n",
              "      <td>O</td>\n",
              "      <td>0</td>\n",
              "      <td>O</td>\n",
              "    </tr>\n",
              "    <tr>\n",
              "      <th>142</th>\n",
              "      <td>[PAD]</td>\n",
              "      <td>0</td>\n",
              "      <td>O</td>\n",
              "      <td>0</td>\n",
              "      <td>O</td>\n",
              "    </tr>\n",
              "    <tr>\n",
              "      <th>143</th>\n",
              "      <td>[PAD]</td>\n",
              "      <td>0</td>\n",
              "      <td>O</td>\n",
              "      <td>0</td>\n",
              "      <td>O</td>\n",
              "    </tr>\n",
              "    <tr>\n",
              "      <th>144</th>\n",
              "      <td>[PAD]</td>\n",
              "      <td>0</td>\n",
              "      <td>O</td>\n",
              "      <td>0</td>\n",
              "      <td>O</td>\n",
              "    </tr>\n",
              "    <tr>\n",
              "      <th>145</th>\n",
              "      <td>[PAD]</td>\n",
              "      <td>0</td>\n",
              "      <td>O</td>\n",
              "      <td>0</td>\n",
              "      <td>O</td>\n",
              "    </tr>\n",
              "    <tr>\n",
              "      <th>146</th>\n",
              "      <td>[PAD]</td>\n",
              "      <td>0</td>\n",
              "      <td>O</td>\n",
              "      <td>0</td>\n",
              "      <td>O</td>\n",
              "    </tr>\n",
              "    <tr>\n",
              "      <th>147</th>\n",
              "      <td>[PAD]</td>\n",
              "      <td>0</td>\n",
              "      <td>O</td>\n",
              "      <td>0</td>\n",
              "      <td>O</td>\n",
              "    </tr>\n",
              "    <tr>\n",
              "      <th>148</th>\n",
              "      <td>[PAD]</td>\n",
              "      <td>0</td>\n",
              "      <td>O</td>\n",
              "      <td>0</td>\n",
              "      <td>O</td>\n",
              "    </tr>\n",
              "    <tr>\n",
              "      <th>149</th>\n",
              "      <td>[PAD]</td>\n",
              "      <td>0</td>\n",
              "      <td>O</td>\n",
              "      <td>0</td>\n",
              "      <td>O</td>\n",
              "    </tr>\n",
              "    <tr>\n",
              "      <th>150</th>\n",
              "      <td>[PAD]</td>\n",
              "      <td>0</td>\n",
              "      <td>O</td>\n",
              "      <td>0</td>\n",
              "      <td>O</td>\n",
              "    </tr>\n",
              "    <tr>\n",
              "      <th>151</th>\n",
              "      <td>[PAD]</td>\n",
              "      <td>0</td>\n",
              "      <td>O</td>\n",
              "      <td>0</td>\n",
              "      <td>O</td>\n",
              "    </tr>\n",
              "    <tr>\n",
              "      <th>152</th>\n",
              "      <td>[PAD]</td>\n",
              "      <td>0</td>\n",
              "      <td>O</td>\n",
              "      <td>0</td>\n",
              "      <td>O</td>\n",
              "    </tr>\n",
              "    <tr>\n",
              "      <th>153</th>\n",
              "      <td>[PAD]</td>\n",
              "      <td>0</td>\n",
              "      <td>O</td>\n",
              "      <td>0</td>\n",
              "      <td>O</td>\n",
              "    </tr>\n",
              "    <tr>\n",
              "      <th>154</th>\n",
              "      <td>[PAD]</td>\n",
              "      <td>0</td>\n",
              "      <td>O</td>\n",
              "      <td>0</td>\n",
              "      <td>O</td>\n",
              "    </tr>\n",
              "    <tr>\n",
              "      <th>155</th>\n",
              "      <td>[PAD]</td>\n",
              "      <td>0</td>\n",
              "      <td>O</td>\n",
              "      <td>0</td>\n",
              "      <td>O</td>\n",
              "    </tr>\n",
              "    <tr>\n",
              "      <th>156</th>\n",
              "      <td>[PAD]</td>\n",
              "      <td>0</td>\n",
              "      <td>O</td>\n",
              "      <td>0</td>\n",
              "      <td>O</td>\n",
              "    </tr>\n",
              "    <tr>\n",
              "      <th>157</th>\n",
              "      <td>[PAD]</td>\n",
              "      <td>0</td>\n",
              "      <td>O</td>\n",
              "      <td>0</td>\n",
              "      <td>O</td>\n",
              "    </tr>\n",
              "    <tr>\n",
              "      <th>158</th>\n",
              "      <td>[PAD]</td>\n",
              "      <td>0</td>\n",
              "      <td>O</td>\n",
              "      <td>0</td>\n",
              "      <td>O</td>\n",
              "    </tr>\n",
              "    <tr>\n",
              "      <th>159</th>\n",
              "      <td>[PAD]</td>\n",
              "      <td>0</td>\n",
              "      <td>O</td>\n",
              "      <td>0</td>\n",
              "      <td>O</td>\n",
              "    </tr>\n",
              "    <tr>\n",
              "      <th>160</th>\n",
              "      <td>[PAD]</td>\n",
              "      <td>0</td>\n",
              "      <td>O</td>\n",
              "      <td>0</td>\n",
              "      <td>O</td>\n",
              "    </tr>\n",
              "    <tr>\n",
              "      <th>161</th>\n",
              "      <td>[PAD]</td>\n",
              "      <td>0</td>\n",
              "      <td>O</td>\n",
              "      <td>0</td>\n",
              "      <td>O</td>\n",
              "    </tr>\n",
              "    <tr>\n",
              "      <th>162</th>\n",
              "      <td>[PAD]</td>\n",
              "      <td>0</td>\n",
              "      <td>O</td>\n",
              "      <td>0</td>\n",
              "      <td>O</td>\n",
              "    </tr>\n",
              "    <tr>\n",
              "      <th>163</th>\n",
              "      <td>[PAD]</td>\n",
              "      <td>0</td>\n",
              "      <td>O</td>\n",
              "      <td>0</td>\n",
              "      <td>O</td>\n",
              "    </tr>\n",
              "    <tr>\n",
              "      <th>164</th>\n",
              "      <td>[PAD]</td>\n",
              "      <td>0</td>\n",
              "      <td>O</td>\n",
              "      <td>0</td>\n",
              "      <td>O</td>\n",
              "    </tr>\n",
              "    <tr>\n",
              "      <th>165</th>\n",
              "      <td>[PAD]</td>\n",
              "      <td>0</td>\n",
              "      <td>O</td>\n",
              "      <td>0</td>\n",
              "      <td>O</td>\n",
              "    </tr>\n",
              "    <tr>\n",
              "      <th>166</th>\n",
              "      <td>[PAD]</td>\n",
              "      <td>0</td>\n",
              "      <td>O</td>\n",
              "      <td>0</td>\n",
              "      <td>O</td>\n",
              "    </tr>\n",
              "    <tr>\n",
              "      <th>167</th>\n",
              "      <td>[PAD]</td>\n",
              "      <td>0</td>\n",
              "      <td>O</td>\n",
              "      <td>0</td>\n",
              "      <td>O</td>\n",
              "    </tr>\n",
              "    <tr>\n",
              "      <th>168</th>\n",
              "      <td>[PAD]</td>\n",
              "      <td>0</td>\n",
              "      <td>O</td>\n",
              "      <td>0</td>\n",
              "      <td>O</td>\n",
              "    </tr>\n",
              "    <tr>\n",
              "      <th>169</th>\n",
              "      <td>[PAD]</td>\n",
              "      <td>0</td>\n",
              "      <td>O</td>\n",
              "      <td>0</td>\n",
              "      <td>O</td>\n",
              "    </tr>\n",
              "    <tr>\n",
              "      <th>170</th>\n",
              "      <td>[PAD]</td>\n",
              "      <td>0</td>\n",
              "      <td>O</td>\n",
              "      <td>0</td>\n",
              "      <td>O</td>\n",
              "    </tr>\n",
              "    <tr>\n",
              "      <th>171</th>\n",
              "      <td>[PAD]</td>\n",
              "      <td>0</td>\n",
              "      <td>O</td>\n",
              "      <td>0</td>\n",
              "      <td>O</td>\n",
              "    </tr>\n",
              "    <tr>\n",
              "      <th>172</th>\n",
              "      <td>[PAD]</td>\n",
              "      <td>0</td>\n",
              "      <td>O</td>\n",
              "      <td>0</td>\n",
              "      <td>O</td>\n",
              "    </tr>\n",
              "    <tr>\n",
              "      <th>173</th>\n",
              "      <td>[PAD]</td>\n",
              "      <td>0</td>\n",
              "      <td>O</td>\n",
              "      <td>0</td>\n",
              "      <td>O</td>\n",
              "    </tr>\n",
              "    <tr>\n",
              "      <th>174</th>\n",
              "      <td>[PAD]</td>\n",
              "      <td>0</td>\n",
              "      <td>O</td>\n",
              "      <td>0</td>\n",
              "      <td>O</td>\n",
              "    </tr>\n",
              "    <tr>\n",
              "      <th>175</th>\n",
              "      <td>[PAD]</td>\n",
              "      <td>0</td>\n",
              "      <td>O</td>\n",
              "      <td>0</td>\n",
              "      <td>O</td>\n",
              "    </tr>\n",
              "    <tr>\n",
              "      <th>176</th>\n",
              "      <td>[PAD]</td>\n",
              "      <td>0</td>\n",
              "      <td>O</td>\n",
              "      <td>0</td>\n",
              "      <td>O</td>\n",
              "    </tr>\n",
              "    <tr>\n",
              "      <th>177</th>\n",
              "      <td>[PAD]</td>\n",
              "      <td>0</td>\n",
              "      <td>O</td>\n",
              "      <td>0</td>\n",
              "      <td>O</td>\n",
              "    </tr>\n",
              "    <tr>\n",
              "      <th>178</th>\n",
              "      <td>[PAD]</td>\n",
              "      <td>0</td>\n",
              "      <td>O</td>\n",
              "      <td>0</td>\n",
              "      <td>O</td>\n",
              "    </tr>\n",
              "    <tr>\n",
              "      <th>179</th>\n",
              "      <td>[PAD]</td>\n",
              "      <td>0</td>\n",
              "      <td>O</td>\n",
              "      <td>0</td>\n",
              "      <td>O</td>\n",
              "    </tr>\n",
              "    <tr>\n",
              "      <th>180</th>\n",
              "      <td>[PAD]</td>\n",
              "      <td>0</td>\n",
              "      <td>O</td>\n",
              "      <td>0</td>\n",
              "      <td>O</td>\n",
              "    </tr>\n",
              "    <tr>\n",
              "      <th>181</th>\n",
              "      <td>[PAD]</td>\n",
              "      <td>0</td>\n",
              "      <td>O</td>\n",
              "      <td>0</td>\n",
              "      <td>O</td>\n",
              "    </tr>\n",
              "    <tr>\n",
              "      <th>182</th>\n",
              "      <td>[PAD]</td>\n",
              "      <td>0</td>\n",
              "      <td>O</td>\n",
              "      <td>0</td>\n",
              "      <td>O</td>\n",
              "    </tr>\n",
              "    <tr>\n",
              "      <th>183</th>\n",
              "      <td>[PAD]</td>\n",
              "      <td>0</td>\n",
              "      <td>O</td>\n",
              "      <td>0</td>\n",
              "      <td>O</td>\n",
              "    </tr>\n",
              "    <tr>\n",
              "      <th>184</th>\n",
              "      <td>[PAD]</td>\n",
              "      <td>0</td>\n",
              "      <td>O</td>\n",
              "      <td>0</td>\n",
              "      <td>O</td>\n",
              "    </tr>\n",
              "    <tr>\n",
              "      <th>185</th>\n",
              "      <td>[PAD]</td>\n",
              "      <td>0</td>\n",
              "      <td>O</td>\n",
              "      <td>0</td>\n",
              "      <td>O</td>\n",
              "    </tr>\n",
              "    <tr>\n",
              "      <th>186</th>\n",
              "      <td>[PAD]</td>\n",
              "      <td>0</td>\n",
              "      <td>O</td>\n",
              "      <td>0</td>\n",
              "      <td>O</td>\n",
              "    </tr>\n",
              "    <tr>\n",
              "      <th>187</th>\n",
              "      <td>[PAD]</td>\n",
              "      <td>0</td>\n",
              "      <td>O</td>\n",
              "      <td>0</td>\n",
              "      <td>O</td>\n",
              "    </tr>\n",
              "    <tr>\n",
              "      <th>188</th>\n",
              "      <td>[PAD]</td>\n",
              "      <td>0</td>\n",
              "      <td>O</td>\n",
              "      <td>0</td>\n",
              "      <td>O</td>\n",
              "    </tr>\n",
              "    <tr>\n",
              "      <th>189</th>\n",
              "      <td>[PAD]</td>\n",
              "      <td>0</td>\n",
              "      <td>O</td>\n",
              "      <td>0</td>\n",
              "      <td>O</td>\n",
              "    </tr>\n",
              "    <tr>\n",
              "      <th>190</th>\n",
              "      <td>[PAD]</td>\n",
              "      <td>0</td>\n",
              "      <td>O</td>\n",
              "      <td>0</td>\n",
              "      <td>O</td>\n",
              "    </tr>\n",
              "    <tr>\n",
              "      <th>191</th>\n",
              "      <td>[PAD]</td>\n",
              "      <td>0</td>\n",
              "      <td>O</td>\n",
              "      <td>0</td>\n",
              "      <td>O</td>\n",
              "    </tr>\n",
              "    <tr>\n",
              "      <th>192</th>\n",
              "      <td>[PAD]</td>\n",
              "      <td>0</td>\n",
              "      <td>O</td>\n",
              "      <td>0</td>\n",
              "      <td>O</td>\n",
              "    </tr>\n",
              "    <tr>\n",
              "      <th>193</th>\n",
              "      <td>[PAD]</td>\n",
              "      <td>0</td>\n",
              "      <td>O</td>\n",
              "      <td>0</td>\n",
              "      <td>O</td>\n",
              "    </tr>\n",
              "    <tr>\n",
              "      <th>194</th>\n",
              "      <td>[PAD]</td>\n",
              "      <td>0</td>\n",
              "      <td>O</td>\n",
              "      <td>0</td>\n",
              "      <td>O</td>\n",
              "    </tr>\n",
              "    <tr>\n",
              "      <th>195</th>\n",
              "      <td>[PAD]</td>\n",
              "      <td>0</td>\n",
              "      <td>O</td>\n",
              "      <td>0</td>\n",
              "      <td>O</td>\n",
              "    </tr>\n",
              "    <tr>\n",
              "      <th>196</th>\n",
              "      <td>[PAD]</td>\n",
              "      <td>0</td>\n",
              "      <td>O</td>\n",
              "      <td>0</td>\n",
              "      <td>O</td>\n",
              "    </tr>\n",
              "    <tr>\n",
              "      <th>197</th>\n",
              "      <td>[PAD]</td>\n",
              "      <td>0</td>\n",
              "      <td>O</td>\n",
              "      <td>0</td>\n",
              "      <td>O</td>\n",
              "    </tr>\n",
              "    <tr>\n",
              "      <th>198</th>\n",
              "      <td>[PAD]</td>\n",
              "      <td>0</td>\n",
              "      <td>O</td>\n",
              "      <td>0</td>\n",
              "      <td>O</td>\n",
              "    </tr>\n",
              "    <tr>\n",
              "      <th>199</th>\n",
              "      <td>[PAD]</td>\n",
              "      <td>0</td>\n",
              "      <td>O</td>\n",
              "      <td>0</td>\n",
              "      <td>O</td>\n",
              "    </tr>\n",
              "    <tr>\n",
              "      <th>200</th>\n",
              "      <td>[PAD]</td>\n",
              "      <td>0</td>\n",
              "      <td>O</td>\n",
              "      <td>0</td>\n",
              "      <td>O</td>\n",
              "    </tr>\n",
              "    <tr>\n",
              "      <th>201</th>\n",
              "      <td>[PAD]</td>\n",
              "      <td>0</td>\n",
              "      <td>O</td>\n",
              "      <td>0</td>\n",
              "      <td>O</td>\n",
              "    </tr>\n",
              "    <tr>\n",
              "      <th>202</th>\n",
              "      <td>[PAD]</td>\n",
              "      <td>0</td>\n",
              "      <td>O</td>\n",
              "      <td>0</td>\n",
              "      <td>O</td>\n",
              "    </tr>\n",
              "    <tr>\n",
              "      <th>203</th>\n",
              "      <td>[PAD]</td>\n",
              "      <td>0</td>\n",
              "      <td>O</td>\n",
              "      <td>0</td>\n",
              "      <td>O</td>\n",
              "    </tr>\n",
              "    <tr>\n",
              "      <th>204</th>\n",
              "      <td>[PAD]</td>\n",
              "      <td>0</td>\n",
              "      <td>O</td>\n",
              "      <td>0</td>\n",
              "      <td>O</td>\n",
              "    </tr>\n",
              "    <tr>\n",
              "      <th>205</th>\n",
              "      <td>[PAD]</td>\n",
              "      <td>0</td>\n",
              "      <td>O</td>\n",
              "      <td>0</td>\n",
              "      <td>O</td>\n",
              "    </tr>\n",
              "    <tr>\n",
              "      <th>206</th>\n",
              "      <td>[PAD]</td>\n",
              "      <td>0</td>\n",
              "      <td>O</td>\n",
              "      <td>0</td>\n",
              "      <td>O</td>\n",
              "    </tr>\n",
              "    <tr>\n",
              "      <th>207</th>\n",
              "      <td>[PAD]</td>\n",
              "      <td>0</td>\n",
              "      <td>O</td>\n",
              "      <td>0</td>\n",
              "      <td>O</td>\n",
              "    </tr>\n",
              "    <tr>\n",
              "      <th>208</th>\n",
              "      <td>[PAD]</td>\n",
              "      <td>0</td>\n",
              "      <td>O</td>\n",
              "      <td>0</td>\n",
              "      <td>O</td>\n",
              "    </tr>\n",
              "    <tr>\n",
              "      <th>209</th>\n",
              "      <td>[PAD]</td>\n",
              "      <td>0</td>\n",
              "      <td>O</td>\n",
              "      <td>0</td>\n",
              "      <td>O</td>\n",
              "    </tr>\n",
              "    <tr>\n",
              "      <th>210</th>\n",
              "      <td>[PAD]</td>\n",
              "      <td>0</td>\n",
              "      <td>O</td>\n",
              "      <td>0</td>\n",
              "      <td>O</td>\n",
              "    </tr>\n",
              "    <tr>\n",
              "      <th>211</th>\n",
              "      <td>[PAD]</td>\n",
              "      <td>0</td>\n",
              "      <td>O</td>\n",
              "      <td>0</td>\n",
              "      <td>O</td>\n",
              "    </tr>\n",
              "    <tr>\n",
              "      <th>212</th>\n",
              "      <td>[PAD]</td>\n",
              "      <td>0</td>\n",
              "      <td>O</td>\n",
              "      <td>0</td>\n",
              "      <td>O</td>\n",
              "    </tr>\n",
              "    <tr>\n",
              "      <th>213</th>\n",
              "      <td>[PAD]</td>\n",
              "      <td>0</td>\n",
              "      <td>O</td>\n",
              "      <td>0</td>\n",
              "      <td>O</td>\n",
              "    </tr>\n",
              "    <tr>\n",
              "      <th>214</th>\n",
              "      <td>[PAD]</td>\n",
              "      <td>0</td>\n",
              "      <td>O</td>\n",
              "      <td>0</td>\n",
              "      <td>O</td>\n",
              "    </tr>\n",
              "    <tr>\n",
              "      <th>215</th>\n",
              "      <td>[PAD]</td>\n",
              "      <td>0</td>\n",
              "      <td>O</td>\n",
              "      <td>0</td>\n",
              "      <td>O</td>\n",
              "    </tr>\n",
              "    <tr>\n",
              "      <th>216</th>\n",
              "      <td>[PAD]</td>\n",
              "      <td>0</td>\n",
              "      <td>O</td>\n",
              "      <td>0</td>\n",
              "      <td>O</td>\n",
              "    </tr>\n",
              "    <tr>\n",
              "      <th>217</th>\n",
              "      <td>[PAD]</td>\n",
              "      <td>0</td>\n",
              "      <td>O</td>\n",
              "      <td>0</td>\n",
              "      <td>O</td>\n",
              "    </tr>\n",
              "    <tr>\n",
              "      <th>218</th>\n",
              "      <td>[PAD]</td>\n",
              "      <td>0</td>\n",
              "      <td>O</td>\n",
              "      <td>0</td>\n",
              "      <td>O</td>\n",
              "    </tr>\n",
              "    <tr>\n",
              "      <th>219</th>\n",
              "      <td>[PAD]</td>\n",
              "      <td>0</td>\n",
              "      <td>O</td>\n",
              "      <td>0</td>\n",
              "      <td>O</td>\n",
              "    </tr>\n",
              "    <tr>\n",
              "      <th>220</th>\n",
              "      <td>[PAD]</td>\n",
              "      <td>0</td>\n",
              "      <td>O</td>\n",
              "      <td>0</td>\n",
              "      <td>O</td>\n",
              "    </tr>\n",
              "    <tr>\n",
              "      <th>221</th>\n",
              "      <td>[PAD]</td>\n",
              "      <td>0</td>\n",
              "      <td>O</td>\n",
              "      <td>0</td>\n",
              "      <td>O</td>\n",
              "    </tr>\n",
              "    <tr>\n",
              "      <th>222</th>\n",
              "      <td>[PAD]</td>\n",
              "      <td>0</td>\n",
              "      <td>O</td>\n",
              "      <td>0</td>\n",
              "      <td>O</td>\n",
              "    </tr>\n",
              "    <tr>\n",
              "      <th>223</th>\n",
              "      <td>[PAD]</td>\n",
              "      <td>0</td>\n",
              "      <td>O</td>\n",
              "      <td>0</td>\n",
              "      <td>O</td>\n",
              "    </tr>\n",
              "    <tr>\n",
              "      <th>224</th>\n",
              "      <td>[PAD]</td>\n",
              "      <td>0</td>\n",
              "      <td>O</td>\n",
              "      <td>0</td>\n",
              "      <td>O</td>\n",
              "    </tr>\n",
              "    <tr>\n",
              "      <th>225</th>\n",
              "      <td>[PAD]</td>\n",
              "      <td>0</td>\n",
              "      <td>O</td>\n",
              "      <td>0</td>\n",
              "      <td>O</td>\n",
              "    </tr>\n",
              "    <tr>\n",
              "      <th>226</th>\n",
              "      <td>[PAD]</td>\n",
              "      <td>0</td>\n",
              "      <td>O</td>\n",
              "      <td>0</td>\n",
              "      <td>O</td>\n",
              "    </tr>\n",
              "    <tr>\n",
              "      <th>227</th>\n",
              "      <td>[PAD]</td>\n",
              "      <td>0</td>\n",
              "      <td>O</td>\n",
              "      <td>0</td>\n",
              "      <td>O</td>\n",
              "    </tr>\n",
              "    <tr>\n",
              "      <th>228</th>\n",
              "      <td>[PAD]</td>\n",
              "      <td>0</td>\n",
              "      <td>O</td>\n",
              "      <td>0</td>\n",
              "      <td>O</td>\n",
              "    </tr>\n",
              "    <tr>\n",
              "      <th>229</th>\n",
              "      <td>[PAD]</td>\n",
              "      <td>0</td>\n",
              "      <td>O</td>\n",
              "      <td>0</td>\n",
              "      <td>O</td>\n",
              "    </tr>\n",
              "    <tr>\n",
              "      <th>230</th>\n",
              "      <td>[PAD]</td>\n",
              "      <td>0</td>\n",
              "      <td>O</td>\n",
              "      <td>0</td>\n",
              "      <td>O</td>\n",
              "    </tr>\n",
              "    <tr>\n",
              "      <th>231</th>\n",
              "      <td>[PAD]</td>\n",
              "      <td>0</td>\n",
              "      <td>O</td>\n",
              "      <td>0</td>\n",
              "      <td>O</td>\n",
              "    </tr>\n",
              "    <tr>\n",
              "      <th>232</th>\n",
              "      <td>[PAD]</td>\n",
              "      <td>0</td>\n",
              "      <td>O</td>\n",
              "      <td>0</td>\n",
              "      <td>O</td>\n",
              "    </tr>\n",
              "    <tr>\n",
              "      <th>233</th>\n",
              "      <td>[PAD]</td>\n",
              "      <td>0</td>\n",
              "      <td>O</td>\n",
              "      <td>0</td>\n",
              "      <td>O</td>\n",
              "    </tr>\n",
              "    <tr>\n",
              "      <th>234</th>\n",
              "      <td>[PAD]</td>\n",
              "      <td>0</td>\n",
              "      <td>O</td>\n",
              "      <td>0</td>\n",
              "      <td>O</td>\n",
              "    </tr>\n",
              "    <tr>\n",
              "      <th>235</th>\n",
              "      <td>[PAD]</td>\n",
              "      <td>0</td>\n",
              "      <td>O</td>\n",
              "      <td>0</td>\n",
              "      <td>O</td>\n",
              "    </tr>\n",
              "    <tr>\n",
              "      <th>236</th>\n",
              "      <td>[PAD]</td>\n",
              "      <td>0</td>\n",
              "      <td>O</td>\n",
              "      <td>0</td>\n",
              "      <td>O</td>\n",
              "    </tr>\n",
              "    <tr>\n",
              "      <th>237</th>\n",
              "      <td>[PAD]</td>\n",
              "      <td>0</td>\n",
              "      <td>O</td>\n",
              "      <td>0</td>\n",
              "      <td>O</td>\n",
              "    </tr>\n",
              "    <tr>\n",
              "      <th>238</th>\n",
              "      <td>[PAD]</td>\n",
              "      <td>0</td>\n",
              "      <td>O</td>\n",
              "      <td>0</td>\n",
              "      <td>O</td>\n",
              "    </tr>\n",
              "    <tr>\n",
              "      <th>239</th>\n",
              "      <td>[PAD]</td>\n",
              "      <td>0</td>\n",
              "      <td>O</td>\n",
              "      <td>0</td>\n",
              "      <td>O</td>\n",
              "    </tr>\n",
              "    <tr>\n",
              "      <th>240</th>\n",
              "      <td>[PAD]</td>\n",
              "      <td>0</td>\n",
              "      <td>O</td>\n",
              "      <td>0</td>\n",
              "      <td>O</td>\n",
              "    </tr>\n",
              "    <tr>\n",
              "      <th>241</th>\n",
              "      <td>[PAD]</td>\n",
              "      <td>0</td>\n",
              "      <td>O</td>\n",
              "      <td>0</td>\n",
              "      <td>O</td>\n",
              "    </tr>\n",
              "    <tr>\n",
              "      <th>242</th>\n",
              "      <td>[PAD]</td>\n",
              "      <td>0</td>\n",
              "      <td>O</td>\n",
              "      <td>0</td>\n",
              "      <td>O</td>\n",
              "    </tr>\n",
              "    <tr>\n",
              "      <th>243</th>\n",
              "      <td>[PAD]</td>\n",
              "      <td>0</td>\n",
              "      <td>O</td>\n",
              "      <td>0</td>\n",
              "      <td>O</td>\n",
              "    </tr>\n",
              "    <tr>\n",
              "      <th>244</th>\n",
              "      <td>[PAD]</td>\n",
              "      <td>0</td>\n",
              "      <td>O</td>\n",
              "      <td>0</td>\n",
              "      <td>O</td>\n",
              "    </tr>\n",
              "    <tr>\n",
              "      <th>245</th>\n",
              "      <td>[PAD]</td>\n",
              "      <td>0</td>\n",
              "      <td>O</td>\n",
              "      <td>0</td>\n",
              "      <td>O</td>\n",
              "    </tr>\n",
              "    <tr>\n",
              "      <th>246</th>\n",
              "      <td>[PAD]</td>\n",
              "      <td>0</td>\n",
              "      <td>O</td>\n",
              "      <td>0</td>\n",
              "      <td>O</td>\n",
              "    </tr>\n",
              "    <tr>\n",
              "      <th>247</th>\n",
              "      <td>[PAD]</td>\n",
              "      <td>0</td>\n",
              "      <td>O</td>\n",
              "      <td>0</td>\n",
              "      <td>O</td>\n",
              "    </tr>\n",
              "    <tr>\n",
              "      <th>248</th>\n",
              "      <td>[PAD]</td>\n",
              "      <td>0</td>\n",
              "      <td>O</td>\n",
              "      <td>0</td>\n",
              "      <td>O</td>\n",
              "    </tr>\n",
              "    <tr>\n",
              "      <th>249</th>\n",
              "      <td>[PAD]</td>\n",
              "      <td>0</td>\n",
              "      <td>O</td>\n",
              "      <td>0</td>\n",
              "      <td>O</td>\n",
              "    </tr>\n",
              "    <tr>\n",
              "      <th>250</th>\n",
              "      <td>[PAD]</td>\n",
              "      <td>0</td>\n",
              "      <td>O</td>\n",
              "      <td>0</td>\n",
              "      <td>O</td>\n",
              "    </tr>\n",
              "    <tr>\n",
              "      <th>251</th>\n",
              "      <td>[PAD]</td>\n",
              "      <td>0</td>\n",
              "      <td>O</td>\n",
              "      <td>0</td>\n",
              "      <td>O</td>\n",
              "    </tr>\n",
              "    <tr>\n",
              "      <th>252</th>\n",
              "      <td>[PAD]</td>\n",
              "      <td>0</td>\n",
              "      <td>O</td>\n",
              "      <td>0</td>\n",
              "      <td>O</td>\n",
              "    </tr>\n",
              "    <tr>\n",
              "      <th>253</th>\n",
              "      <td>[PAD]</td>\n",
              "      <td>0</td>\n",
              "      <td>O</td>\n",
              "      <td>0</td>\n",
              "      <td>O</td>\n",
              "    </tr>\n",
              "    <tr>\n",
              "      <th>254</th>\n",
              "      <td>[PAD]</td>\n",
              "      <td>0</td>\n",
              "      <td>O</td>\n",
              "      <td>0</td>\n",
              "      <td>O</td>\n",
              "    </tr>\n",
              "    <tr>\n",
              "      <th>255</th>\n",
              "      <td>[PAD]</td>\n",
              "      <td>0</td>\n",
              "      <td>O</td>\n",
              "      <td>0</td>\n",
              "      <td>O</td>\n",
              "    </tr>\n",
              "  </tbody>\n",
              "</table>\n",
              "</div>\n",
              "    <div class=\"colab-df-buttons\">\n",
              "\n",
              "  <div class=\"colab-df-container\">\n",
              "    <button class=\"colab-df-convert\" onclick=\"convertToInteractive('df-53b39715-1228-4f18-bf72-90fbf87fb1e4')\"\n",
              "            title=\"Convert this dataframe to an interactive table.\"\n",
              "            style=\"display:none;\">\n",
              "\n",
              "  <svg xmlns=\"http://www.w3.org/2000/svg\" height=\"24px\" viewBox=\"0 -960 960 960\">\n",
              "    <path d=\"M120-120v-720h720v720H120Zm60-500h600v-160H180v160Zm220 220h160v-160H400v160Zm0 220h160v-160H400v160ZM180-400h160v-160H180v160Zm440 0h160v-160H620v160ZM180-180h160v-160H180v160Zm440 0h160v-160H620v160Z\"/>\n",
              "  </svg>\n",
              "    </button>\n",
              "\n",
              "  <style>\n",
              "    .colab-df-container {\n",
              "      display:flex;\n",
              "      gap: 12px;\n",
              "    }\n",
              "\n",
              "    .colab-df-convert {\n",
              "      background-color: #E8F0FE;\n",
              "      border: none;\n",
              "      border-radius: 50%;\n",
              "      cursor: pointer;\n",
              "      display: none;\n",
              "      fill: #1967D2;\n",
              "      height: 32px;\n",
              "      padding: 0 0 0 0;\n",
              "      width: 32px;\n",
              "    }\n",
              "\n",
              "    .colab-df-convert:hover {\n",
              "      background-color: #E2EBFA;\n",
              "      box-shadow: 0px 1px 2px rgba(60, 64, 67, 0.3), 0px 1px 3px 1px rgba(60, 64, 67, 0.15);\n",
              "      fill: #174EA6;\n",
              "    }\n",
              "\n",
              "    .colab-df-buttons div {\n",
              "      margin-bottom: 4px;\n",
              "    }\n",
              "\n",
              "    [theme=dark] .colab-df-convert {\n",
              "      background-color: #3B4455;\n",
              "      fill: #D2E3FC;\n",
              "    }\n",
              "\n",
              "    [theme=dark] .colab-df-convert:hover {\n",
              "      background-color: #434B5C;\n",
              "      box-shadow: 0px 1px 3px 1px rgba(0, 0, 0, 0.15);\n",
              "      filter: drop-shadow(0px 1px 2px rgba(0, 0, 0, 0.3));\n",
              "      fill: #FFFFFF;\n",
              "    }\n",
              "  </style>\n",
              "\n",
              "    <script>\n",
              "      const buttonEl =\n",
              "        document.querySelector('#df-53b39715-1228-4f18-bf72-90fbf87fb1e4 button.colab-df-convert');\n",
              "      buttonEl.style.display =\n",
              "        google.colab.kernel.accessAllowed ? 'block' : 'none';\n",
              "\n",
              "      async function convertToInteractive(key) {\n",
              "        const element = document.querySelector('#df-53b39715-1228-4f18-bf72-90fbf87fb1e4');\n",
              "        const dataTable =\n",
              "          await google.colab.kernel.invokeFunction('convertToInteractive',\n",
              "                                                    [key], {});\n",
              "        if (!dataTable) return;\n",
              "\n",
              "        const docLinkHtml = 'Like what you see? Visit the ' +\n",
              "          '<a target=\"_blank\" href=https://colab.research.google.com/notebooks/data_table.ipynb>data table notebook</a>'\n",
              "          + ' to learn more about interactive tables.';\n",
              "        element.innerHTML = '';\n",
              "        dataTable['output_type'] = 'display_data';\n",
              "        await google.colab.output.renderOutput(dataTable, element);\n",
              "        const docLink = document.createElement('div');\n",
              "        docLink.innerHTML = docLinkHtml;\n",
              "        element.appendChild(docLink);\n",
              "      }\n",
              "    </script>\n",
              "  </div>\n",
              "\n",
              "\n",
              "<div id=\"df-26b8e7ad-d703-4a8a-9aec-88932a3211f6\">\n",
              "  <button class=\"colab-df-quickchart\" onclick=\"quickchart('df-26b8e7ad-d703-4a8a-9aec-88932a3211f6')\"\n",
              "            title=\"Suggest charts\"\n",
              "            style=\"display:none;\">\n",
              "\n",
              "<svg xmlns=\"http://www.w3.org/2000/svg\" height=\"24px\"viewBox=\"0 0 24 24\"\n",
              "     width=\"24px\">\n",
              "    <g>\n",
              "        <path d=\"M19 3H5c-1.1 0-2 .9-2 2v14c0 1.1.9 2 2 2h14c1.1 0 2-.9 2-2V5c0-1.1-.9-2-2-2zM9 17H7v-7h2v7zm4 0h-2V7h2v10zm4 0h-2v-4h2v4z\"/>\n",
              "    </g>\n",
              "</svg>\n",
              "  </button>\n",
              "\n",
              "<style>\n",
              "  .colab-df-quickchart {\n",
              "      --bg-color: #E8F0FE;\n",
              "      --fill-color: #1967D2;\n",
              "      --hover-bg-color: #E2EBFA;\n",
              "      --hover-fill-color: #174EA6;\n",
              "      --disabled-fill-color: #AAA;\n",
              "      --disabled-bg-color: #DDD;\n",
              "  }\n",
              "\n",
              "  [theme=dark] .colab-df-quickchart {\n",
              "      --bg-color: #3B4455;\n",
              "      --fill-color: #D2E3FC;\n",
              "      --hover-bg-color: #434B5C;\n",
              "      --hover-fill-color: #FFFFFF;\n",
              "      --disabled-bg-color: #3B4455;\n",
              "      --disabled-fill-color: #666;\n",
              "  }\n",
              "\n",
              "  .colab-df-quickchart {\n",
              "    background-color: var(--bg-color);\n",
              "    border: none;\n",
              "    border-radius: 50%;\n",
              "    cursor: pointer;\n",
              "    display: none;\n",
              "    fill: var(--fill-color);\n",
              "    height: 32px;\n",
              "    padding: 0;\n",
              "    width: 32px;\n",
              "  }\n",
              "\n",
              "  .colab-df-quickchart:hover {\n",
              "    background-color: var(--hover-bg-color);\n",
              "    box-shadow: 0 1px 2px rgba(60, 64, 67, 0.3), 0 1px 3px 1px rgba(60, 64, 67, 0.15);\n",
              "    fill: var(--button-hover-fill-color);\n",
              "  }\n",
              "\n",
              "  .colab-df-quickchart-complete:disabled,\n",
              "  .colab-df-quickchart-complete:disabled:hover {\n",
              "    background-color: var(--disabled-bg-color);\n",
              "    fill: var(--disabled-fill-color);\n",
              "    box-shadow: none;\n",
              "  }\n",
              "\n",
              "  .colab-df-spinner {\n",
              "    border: 2px solid var(--fill-color);\n",
              "    border-color: transparent;\n",
              "    border-bottom-color: var(--fill-color);\n",
              "    animation:\n",
              "      spin 1s steps(1) infinite;\n",
              "  }\n",
              "\n",
              "  @keyframes spin {\n",
              "    0% {\n",
              "      border-color: transparent;\n",
              "      border-bottom-color: var(--fill-color);\n",
              "      border-left-color: var(--fill-color);\n",
              "    }\n",
              "    20% {\n",
              "      border-color: transparent;\n",
              "      border-left-color: var(--fill-color);\n",
              "      border-top-color: var(--fill-color);\n",
              "    }\n",
              "    30% {\n",
              "      border-color: transparent;\n",
              "      border-left-color: var(--fill-color);\n",
              "      border-top-color: var(--fill-color);\n",
              "      border-right-color: var(--fill-color);\n",
              "    }\n",
              "    40% {\n",
              "      border-color: transparent;\n",
              "      border-right-color: var(--fill-color);\n",
              "      border-top-color: var(--fill-color);\n",
              "    }\n",
              "    60% {\n",
              "      border-color: transparent;\n",
              "      border-right-color: var(--fill-color);\n",
              "    }\n",
              "    80% {\n",
              "      border-color: transparent;\n",
              "      border-right-color: var(--fill-color);\n",
              "      border-bottom-color: var(--fill-color);\n",
              "    }\n",
              "    90% {\n",
              "      border-color: transparent;\n",
              "      border-bottom-color: var(--fill-color);\n",
              "    }\n",
              "  }\n",
              "</style>\n",
              "\n",
              "  <script>\n",
              "    async function quickchart(key) {\n",
              "      const quickchartButtonEl =\n",
              "        document.querySelector('#' + key + ' button');\n",
              "      quickchartButtonEl.disabled = true;  // To prevent multiple clicks.\n",
              "      quickchartButtonEl.classList.add('colab-df-spinner');\n",
              "      try {\n",
              "        const charts = await google.colab.kernel.invokeFunction(\n",
              "            'suggestCharts', [key], {});\n",
              "      } catch (error) {\n",
              "        console.error('Error during call to suggestCharts:', error);\n",
              "      }\n",
              "      quickchartButtonEl.classList.remove('colab-df-spinner');\n",
              "      quickchartButtonEl.classList.add('colab-df-quickchart-complete');\n",
              "    }\n",
              "    (() => {\n",
              "      let quickchartButtonEl =\n",
              "        document.querySelector('#df-26b8e7ad-d703-4a8a-9aec-88932a3211f6 button');\n",
              "      quickchartButtonEl.style.display =\n",
              "        google.colab.kernel.accessAllowed ? 'block' : 'none';\n",
              "    })();\n",
              "  </script>\n",
              "</div>\n",
              "    </div>\n",
              "  </div>\n"
            ]
          },
          "metadata": {},
          "execution_count": 32
        }
      ]
    },
    {
      "cell_type": "code",
      "source": [],
      "metadata": {
        "id": "LlTkkSiF_8RS"
      },
      "execution_count": null,
      "outputs": []
    },
    {
      "cell_type": "markdown",
      "source": [
        "# other"
      ],
      "metadata": {
        "id": "ASxXBLONKoyA"
      }
    },
    {
      "cell_type": "code",
      "source": [
        "test2_dataset = RepunctDataset(f'{common_path}/debug_sentences.txt', tokenizer=tokenizer, targets=TARGETS,\n",
        "                                      sequence_len=SEQ_LEN, token_style=token_style,\n",
        "                                      is_train=True, augment_rate=AUG_RATE,\n",
        "                                      augment_type=AUG_TYPE)\n",
        "test2_loader = DataLoader(test2_dataset, **data_loader_params)\n",
        "\n",
        "def predict_one(model: nn.Module,\n",
        "                   loader: DataLoader) -> Tuple[List[str], List[int]]:\n",
        "\n",
        "    tokens = []\n",
        "    predictions = []\n",
        "\n",
        "    model.eval()\n",
        "    with torch.no_grad():\n",
        "        for x, y, att, y_mask in tqdm(loader, desc='eval'):\n",
        "            x = x.to(DEVICE)\n",
        "            y = y.view(-1).to(DEVICE)\n",
        "            att = att.to(DEVICE)\n",
        "\n",
        "            outputs = model(x, attention_mask=att)\n",
        "            logits = outputs[0]\n",
        "            y_predict = torch.argmax(logits, dim=1).view(-1)\n",
        "\n",
        "            for i in range(x.shape[0]):\n",
        "                tokens.append(tokenizer.decode(x[i]))\n",
        "                print(y_predict[i].item())\n",
        "                predictions.append(y_predict[i].item())\n",
        "\n",
        "    return tokens, predictions\n",
        "\n",
        "\n",
        "print()\n",
        "print()\n",
        "tokens, predn = predict_one(model, test2_loader)\n",
        "print(tokens)"
      ],
      "metadata": {
        "colab": {
          "base_uri": "https://localhost:8080/",
          "height": 443
        },
        "id": "r86zqXcMFIAo",
        "outputId": "a5fb47ff-f5a6-4b94-aa16-fd7b67c5210d"
      },
      "execution_count": null,
      "outputs": [
        {
          "output_type": "error",
          "ename": "FileNotFoundError",
          "evalue": "ignored",
          "traceback": [
            "\u001b[0;31m---------------------------------------------------------------------------\u001b[0m",
            "\u001b[0;31mFileNotFoundError\u001b[0m                         Traceback (most recent call last)",
            "\u001b[0;32m<ipython-input-32-ad4326e818f2>\u001b[0m in \u001b[0;36m<cell line: 1>\u001b[0;34m()\u001b[0m\n\u001b[0;32m----> 1\u001b[0;31m test2_dataset = RepunctDataset(f'{common_path}/debug_sentences.txt', tokenizer=tokenizer, targets=TARGETS,\n\u001b[0m\u001b[1;32m      2\u001b[0m                                       \u001b[0msequence_len\u001b[0m\u001b[0;34m=\u001b[0m\u001b[0mSEQ_LEN\u001b[0m\u001b[0;34m,\u001b[0m \u001b[0mtoken_style\u001b[0m\u001b[0;34m=\u001b[0m\u001b[0mtoken_style\u001b[0m\u001b[0;34m,\u001b[0m\u001b[0;34m\u001b[0m\u001b[0;34m\u001b[0m\u001b[0m\n\u001b[1;32m      3\u001b[0m                                       \u001b[0mis_train\u001b[0m\u001b[0;34m=\u001b[0m\u001b[0;32mTrue\u001b[0m\u001b[0;34m,\u001b[0m \u001b[0maugment_rate\u001b[0m\u001b[0;34m=\u001b[0m\u001b[0mAUG_RATE\u001b[0m\u001b[0;34m,\u001b[0m\u001b[0;34m\u001b[0m\u001b[0;34m\u001b[0m\u001b[0m\n\u001b[1;32m      4\u001b[0m                                       augment_type=AUG_TYPE)\n\u001b[1;32m      5\u001b[0m \u001b[0mtest2_loader\u001b[0m \u001b[0;34m=\u001b[0m \u001b[0mDataLoader\u001b[0m\u001b[0;34m(\u001b[0m\u001b[0mtest2_dataset\u001b[0m\u001b[0;34m,\u001b[0m \u001b[0;34m**\u001b[0m\u001b[0mdata_loader_params\u001b[0m\u001b[0;34m)\u001b[0m\u001b[0;34m\u001b[0m\u001b[0;34m\u001b[0m\u001b[0m\n",
            "\u001b[0;32m<ipython-input-12-89ebb210b7b4>\u001b[0m in \u001b[0;36m__init__\u001b[0;34m(self, files, tokenizer, targets, sequence_len, token_style, is_train, augment_rate, augment_type)\u001b[0m\n\u001b[1;32m     21\u001b[0m             \u001b[0maugment_type\u001b[0m \u001b[0;34m(\u001b[0m\u001b[0;31m`\u001b[0m\u001b[0mstr\u001b[0m\u001b[0;34m,\u001b[0m \u001b[0moptional\u001b[0m\u001b[0;31m`\u001b[0m\u001b[0;34m)\u001b[0m\u001b[0;34m:\u001b[0m \u001b[0maugmentation\u001b[0m \u001b[0mtype\u001b[0m\u001b[0;34m.\u001b[0m \u001b[0mDefaults\u001b[0m \u001b[0mto\u001b[0m \u001b[0;34m'substitute'\u001b[0m\u001b[0;34m.\u001b[0m\u001b[0;34m\u001b[0m\u001b[0;34m\u001b[0m\u001b[0m\n\u001b[1;32m     22\u001b[0m         \"\"\"\n\u001b[0;32m---> 23\u001b[0;31m         \u001b[0msuper\u001b[0m\u001b[0;34m(\u001b[0m\u001b[0;34m)\u001b[0m\u001b[0;34m.\u001b[0m\u001b[0m__init__\u001b[0m\u001b[0;34m(\u001b[0m\u001b[0mfiles\u001b[0m\u001b[0;34m,\u001b[0m \u001b[0mtokenizer\u001b[0m\u001b[0;34m,\u001b[0m \u001b[0mtargets\u001b[0m\u001b[0;34m,\u001b[0m \u001b[0msequence_len\u001b[0m\u001b[0;34m,\u001b[0m \u001b[0mtoken_style\u001b[0m\u001b[0;34m)\u001b[0m\u001b[0;34m\u001b[0m\u001b[0;34m\u001b[0m\u001b[0m\n\u001b[0m\u001b[1;32m     24\u001b[0m \u001b[0;34m\u001b[0m\u001b[0m\n\u001b[1;32m     25\u001b[0m         \u001b[0mself\u001b[0m\u001b[0;34m.\u001b[0m\u001b[0msequence_len\u001b[0m \u001b[0;34m=\u001b[0m \u001b[0msequence_len\u001b[0m\u001b[0;34m\u001b[0m\u001b[0;34m\u001b[0m\u001b[0m\n",
            "\u001b[0;32m<ipython-input-11-0b1d4e4d56b6>\u001b[0m in \u001b[0;36m__init__\u001b[0;34m(self, files, tokenizer, targets, sequence_len, token_style)\u001b[0m\n\u001b[1;32m     11\u001b[0m                 \u001b[0mself\u001b[0m\u001b[0;34m.\u001b[0m\u001b[0mdata\u001b[0m \u001b[0;34m+=\u001b[0m \u001b[0mself\u001b[0m\u001b[0;34m.\u001b[0m\u001b[0m_parse_data\u001b[0m\u001b[0;34m(\u001b[0m\u001b[0mfile\u001b[0m\u001b[0;34m,\u001b[0m \u001b[0mtokenizer\u001b[0m\u001b[0;34m,\u001b[0m \u001b[0mtargets\u001b[0m\u001b[0;34m,\u001b[0m \u001b[0msequence_len\u001b[0m\u001b[0;34m,\u001b[0m \u001b[0mtoken_style\u001b[0m\u001b[0;34m)\u001b[0m\u001b[0;34m\u001b[0m\u001b[0;34m\u001b[0m\u001b[0m\n\u001b[1;32m     12\u001b[0m         \u001b[0;32melse\u001b[0m\u001b[0;34m:\u001b[0m\u001b[0;34m\u001b[0m\u001b[0;34m\u001b[0m\u001b[0m\n\u001b[0;32m---> 13\u001b[0;31m             \u001b[0mself\u001b[0m\u001b[0;34m.\u001b[0m\u001b[0mdata\u001b[0m \u001b[0;34m=\u001b[0m \u001b[0mself\u001b[0m\u001b[0;34m.\u001b[0m\u001b[0m_parse_data\u001b[0m\u001b[0;34m(\u001b[0m\u001b[0mfiles\u001b[0m\u001b[0;34m,\u001b[0m \u001b[0mtokenizer\u001b[0m\u001b[0;34m,\u001b[0m \u001b[0mtargets\u001b[0m\u001b[0;34m,\u001b[0m \u001b[0msequence_len\u001b[0m\u001b[0;34m,\u001b[0m \u001b[0mtoken_style\u001b[0m\u001b[0;34m)\u001b[0m\u001b[0;34m\u001b[0m\u001b[0;34m\u001b[0m\u001b[0m\n\u001b[0m\u001b[1;32m     14\u001b[0m \u001b[0;34m\u001b[0m\u001b[0m\n\u001b[1;32m     15\u001b[0m     \u001b[0;34m@\u001b[0m\u001b[0mclassmethod\u001b[0m\u001b[0;34m\u001b[0m\u001b[0;34m\u001b[0m\u001b[0m\n",
            "\u001b[0;32m<ipython-input-11-0b1d4e4d56b6>\u001b[0m in \u001b[0;36m_parse_data\u001b[0;34m(cls, file_path, tokenizer, targets, seq_len, token_style)\u001b[0m\n\u001b[1;32m     32\u001b[0m             \u001b[0mlist\u001b[0m\u001b[0;34m[\u001b[0m\u001b[0mBatch\u001b[0m\u001b[0;34m]\u001b[0m\u001b[0;34m:\u001b[0m \u001b[0meach\u001b[0m \u001b[0mhaving\u001b[0m \u001b[0msequence_len\u001b[0m \u001b[0mpunctuation_mask\u001b[0m \u001b[0;32mis\u001b[0m \u001b[0mused\u001b[0m \u001b[0mto\u001b[0m \u001b[0mignore\u001b[0m \u001b[0mspecial\u001b[0m \u001b[0mindices\u001b[0m \u001b[0mlike\u001b[0m \u001b[0mpadding\u001b[0m \u001b[0;32mand\u001b[0m \u001b[0mintermediate\u001b[0m \u001b[0msub\u001b[0m\u001b[0;34m-\u001b[0m\u001b[0mword\u001b[0m \u001b[0mtoken\u001b[0m \u001b[0mduring\u001b[0m \u001b[0mevaluation\u001b[0m\u001b[0;34m\u001b[0m\u001b[0;34m\u001b[0m\u001b[0m\n\u001b[1;32m     33\u001b[0m         \"\"\"\n\u001b[0;32m---> 34\u001b[0;31m         \u001b[0;32mwith\u001b[0m \u001b[0mopen\u001b[0m\u001b[0;34m(\u001b[0m\u001b[0mfile_path\u001b[0m\u001b[0;34m,\u001b[0m \u001b[0;34m'r'\u001b[0m\u001b[0;34m,\u001b[0m \u001b[0mencoding\u001b[0m\u001b[0;34m=\u001b[0m\u001b[0;34m'utf-8'\u001b[0m\u001b[0;34m)\u001b[0m \u001b[0;32mas\u001b[0m \u001b[0mfile\u001b[0m\u001b[0;34m:\u001b[0m\u001b[0;34m\u001b[0m\u001b[0;34m\u001b[0m\u001b[0m\n\u001b[0m\u001b[1;32m     35\u001b[0m             \u001b[0mx\u001b[0m\u001b[0;34m,\u001b[0m \u001b[0my\u001b[0m \u001b[0;34m=\u001b[0m \u001b[0;34m[\u001b[0m\u001b[0;34m]\u001b[0m\u001b[0;34m,\u001b[0m \u001b[0;34m[\u001b[0m\u001b[0;34m]\u001b[0m\u001b[0;34m\u001b[0m\u001b[0;34m\u001b[0m\u001b[0m\n\u001b[1;32m     36\u001b[0m             \u001b[0;32mfor\u001b[0m \u001b[0mi\u001b[0m\u001b[0;34m,\u001b[0m \u001b[0mline\u001b[0m \u001b[0;32min\u001b[0m \u001b[0menumerate\u001b[0m\u001b[0;34m(\u001b[0m\u001b[0mfile\u001b[0m\u001b[0;34m)\u001b[0m\u001b[0;34m:\u001b[0m\u001b[0;34m\u001b[0m\u001b[0;34m\u001b[0m\u001b[0m\n",
            "\u001b[0;31mFileNotFoundError\u001b[0m: [Errno 2] No such file or directory: '/content/drive/MyDrive/Colab Notebooks/punctuation_23_10_11/datasets/ready-to-use/debug_sentences.txt'"
          ]
        }
      ]
    },
    {
      "cell_type": "code",
      "source": [],
      "metadata": {
        "id": "iahKX0hcl7Vs"
      },
      "execution_count": null,
      "outputs": []
    },
    {
      "cell_type": "code",
      "source": [
        "# Example of target with class indices\n",
        "loss = nn.CrossEntropyLoss()\n",
        "input = torch.randn(3, 5, requires_grad=True)\n",
        "print (input.shape)\n",
        "target = torch.empty(3, dtype=torch.long).random_(5)\n",
        "print (target.shape)\n",
        "output = loss(input, target)\n",
        "output.backward()\n"
      ],
      "metadata": {
        "id": "4DSyOzizfsjv"
      },
      "execution_count": null,
      "outputs": []
    },
    {
      "cell_type": "code",
      "source": [
        "# Example of target with class probabilities\n",
        "input = torch.randn(3, 5, requires_grad=True)\n",
        "print (input.shape)\n",
        "target = torch.randn(3, 5).softmax(dim=1)\n",
        "print (target.shape)\n",
        "output = loss(input, target)\n",
        "output.backward()"
      ],
      "metadata": {
        "id": "HjyMyDZxiyln"
      },
      "execution_count": null,
      "outputs": []
    },
    {
      "cell_type": "code",
      "source": [],
      "metadata": {
        "id": "v6hyJNNpiyEb"
      },
      "execution_count": null,
      "outputs": []
    }
  ]
}