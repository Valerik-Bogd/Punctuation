{
  "nbformat": 4,
  "nbformat_minor": 0,
  "metadata": {
    "colab": {
      "provenance": [],
      "collapsed_sections": [
        "DBXUa2FB2BHF",
        "UfY1DL-t41Xb",
        "xytMrL-oMEmk",
        "n1FDl49K53TR"
      ],
      "gpuType": "V100",
      "machine_shape": "hm",
      "include_colab_link": true
    },
    "kernelspec": {
      "name": "python3",
      "display_name": "Python 3"
    },
    "language_info": {
      "name": "python"
    },
    "widgets": {
      "application/vnd.jupyter.widget-state+json": {
        "420a98d5249445978e2867537409e4fc": {
          "model_module": "@jupyter-widgets/controls",
          "model_name": "HBoxModel",
          "model_module_version": "1.5.0",
          "state": {
            "_dom_classes": [],
            "_model_module": "@jupyter-widgets/controls",
            "_model_module_version": "1.5.0",
            "_model_name": "HBoxModel",
            "_view_count": null,
            "_view_module": "@jupyter-widgets/controls",
            "_view_module_version": "1.5.0",
            "_view_name": "HBoxView",
            "box_style": "",
            "children": [
              "IPY_MODEL_dbc0ad9a1a714795a79d9a60227bfaa3",
              "IPY_MODEL_c14219e1455f4e5cb12915428d8f0226",
              "IPY_MODEL_744151376b3e49d59f5e3e9bb26634f1"
            ],
            "layout": "IPY_MODEL_e71ce7c3ff45497bb8b3060273f528dc"
          }
        },
        "dbc0ad9a1a714795a79d9a60227bfaa3": {
          "model_module": "@jupyter-widgets/controls",
          "model_name": "HTMLModel",
          "model_module_version": "1.5.0",
          "state": {
            "_dom_classes": [],
            "_model_module": "@jupyter-widgets/controls",
            "_model_module_version": "1.5.0",
            "_model_name": "HTMLModel",
            "_view_count": null,
            "_view_module": "@jupyter-widgets/controls",
            "_view_module_version": "1.5.0",
            "_view_name": "HTMLView",
            "description": "",
            "description_tooltip": null,
            "layout": "IPY_MODEL_eb3531a413bd498b909a1bdb5187053e",
            "placeholder": "​",
            "style": "IPY_MODEL_c6fa98c87fb44f8ba4743917a92a657b",
            "value": "config.json: 100%"
          }
        },
        "c14219e1455f4e5cb12915428d8f0226": {
          "model_module": "@jupyter-widgets/controls",
          "model_name": "FloatProgressModel",
          "model_module_version": "1.5.0",
          "state": {
            "_dom_classes": [],
            "_model_module": "@jupyter-widgets/controls",
            "_model_module_version": "1.5.0",
            "_model_name": "FloatProgressModel",
            "_view_count": null,
            "_view_module": "@jupyter-widgets/controls",
            "_view_module_version": "1.5.0",
            "_view_name": "ProgressView",
            "bar_style": "success",
            "description": "",
            "description_tooltip": null,
            "layout": "IPY_MODEL_77da478f4e1f4cf68b2faa8e56502c47",
            "max": 642,
            "min": 0,
            "orientation": "horizontal",
            "style": "IPY_MODEL_8ca45936292c4167a2f7fde6bf776e3b",
            "value": 642
          }
        },
        "744151376b3e49d59f5e3e9bb26634f1": {
          "model_module": "@jupyter-widgets/controls",
          "model_name": "HTMLModel",
          "model_module_version": "1.5.0",
          "state": {
            "_dom_classes": [],
            "_model_module": "@jupyter-widgets/controls",
            "_model_module_version": "1.5.0",
            "_model_name": "HTMLModel",
            "_view_count": null,
            "_view_module": "@jupyter-widgets/controls",
            "_view_module_version": "1.5.0",
            "_view_name": "HTMLView",
            "description": "",
            "description_tooltip": null,
            "layout": "IPY_MODEL_2f9b84fc136e4a4181f56c25c4391b46",
            "placeholder": "​",
            "style": "IPY_MODEL_c05d8abb0142438fa94048d6a3ce1c2c",
            "value": " 642/642 [00:00&lt;00:00, 53.0kB/s]"
          }
        },
        "e71ce7c3ff45497bb8b3060273f528dc": {
          "model_module": "@jupyter-widgets/base",
          "model_name": "LayoutModel",
          "model_module_version": "1.2.0",
          "state": {
            "_model_module": "@jupyter-widgets/base",
            "_model_module_version": "1.2.0",
            "_model_name": "LayoutModel",
            "_view_count": null,
            "_view_module": "@jupyter-widgets/base",
            "_view_module_version": "1.2.0",
            "_view_name": "LayoutView",
            "align_content": null,
            "align_items": null,
            "align_self": null,
            "border": null,
            "bottom": null,
            "display": null,
            "flex": null,
            "flex_flow": null,
            "grid_area": null,
            "grid_auto_columns": null,
            "grid_auto_flow": null,
            "grid_auto_rows": null,
            "grid_column": null,
            "grid_gap": null,
            "grid_row": null,
            "grid_template_areas": null,
            "grid_template_columns": null,
            "grid_template_rows": null,
            "height": null,
            "justify_content": null,
            "justify_items": null,
            "left": null,
            "margin": null,
            "max_height": null,
            "max_width": null,
            "min_height": null,
            "min_width": null,
            "object_fit": null,
            "object_position": null,
            "order": null,
            "overflow": null,
            "overflow_x": null,
            "overflow_y": null,
            "padding": null,
            "right": null,
            "top": null,
            "visibility": null,
            "width": null
          }
        },
        "eb3531a413bd498b909a1bdb5187053e": {
          "model_module": "@jupyter-widgets/base",
          "model_name": "LayoutModel",
          "model_module_version": "1.2.0",
          "state": {
            "_model_module": "@jupyter-widgets/base",
            "_model_module_version": "1.2.0",
            "_model_name": "LayoutModel",
            "_view_count": null,
            "_view_module": "@jupyter-widgets/base",
            "_view_module_version": "1.2.0",
            "_view_name": "LayoutView",
            "align_content": null,
            "align_items": null,
            "align_self": null,
            "border": null,
            "bottom": null,
            "display": null,
            "flex": null,
            "flex_flow": null,
            "grid_area": null,
            "grid_auto_columns": null,
            "grid_auto_flow": null,
            "grid_auto_rows": null,
            "grid_column": null,
            "grid_gap": null,
            "grid_row": null,
            "grid_template_areas": null,
            "grid_template_columns": null,
            "grid_template_rows": null,
            "height": null,
            "justify_content": null,
            "justify_items": null,
            "left": null,
            "margin": null,
            "max_height": null,
            "max_width": null,
            "min_height": null,
            "min_width": null,
            "object_fit": null,
            "object_position": null,
            "order": null,
            "overflow": null,
            "overflow_x": null,
            "overflow_y": null,
            "padding": null,
            "right": null,
            "top": null,
            "visibility": null,
            "width": null
          }
        },
        "c6fa98c87fb44f8ba4743917a92a657b": {
          "model_module": "@jupyter-widgets/controls",
          "model_name": "DescriptionStyleModel",
          "model_module_version": "1.5.0",
          "state": {
            "_model_module": "@jupyter-widgets/controls",
            "_model_module_version": "1.5.0",
            "_model_name": "DescriptionStyleModel",
            "_view_count": null,
            "_view_module": "@jupyter-widgets/base",
            "_view_module_version": "1.2.0",
            "_view_name": "StyleView",
            "description_width": ""
          }
        },
        "77da478f4e1f4cf68b2faa8e56502c47": {
          "model_module": "@jupyter-widgets/base",
          "model_name": "LayoutModel",
          "model_module_version": "1.2.0",
          "state": {
            "_model_module": "@jupyter-widgets/base",
            "_model_module_version": "1.2.0",
            "_model_name": "LayoutModel",
            "_view_count": null,
            "_view_module": "@jupyter-widgets/base",
            "_view_module_version": "1.2.0",
            "_view_name": "LayoutView",
            "align_content": null,
            "align_items": null,
            "align_self": null,
            "border": null,
            "bottom": null,
            "display": null,
            "flex": null,
            "flex_flow": null,
            "grid_area": null,
            "grid_auto_columns": null,
            "grid_auto_flow": null,
            "grid_auto_rows": null,
            "grid_column": null,
            "grid_gap": null,
            "grid_row": null,
            "grid_template_areas": null,
            "grid_template_columns": null,
            "grid_template_rows": null,
            "height": null,
            "justify_content": null,
            "justify_items": null,
            "left": null,
            "margin": null,
            "max_height": null,
            "max_width": null,
            "min_height": null,
            "min_width": null,
            "object_fit": null,
            "object_position": null,
            "order": null,
            "overflow": null,
            "overflow_x": null,
            "overflow_y": null,
            "padding": null,
            "right": null,
            "top": null,
            "visibility": null,
            "width": null
          }
        },
        "8ca45936292c4167a2f7fde6bf776e3b": {
          "model_module": "@jupyter-widgets/controls",
          "model_name": "ProgressStyleModel",
          "model_module_version": "1.5.0",
          "state": {
            "_model_module": "@jupyter-widgets/controls",
            "_model_module_version": "1.5.0",
            "_model_name": "ProgressStyleModel",
            "_view_count": null,
            "_view_module": "@jupyter-widgets/base",
            "_view_module_version": "1.2.0",
            "_view_name": "StyleView",
            "bar_color": null,
            "description_width": ""
          }
        },
        "2f9b84fc136e4a4181f56c25c4391b46": {
          "model_module": "@jupyter-widgets/base",
          "model_name": "LayoutModel",
          "model_module_version": "1.2.0",
          "state": {
            "_model_module": "@jupyter-widgets/base",
            "_model_module_version": "1.2.0",
            "_model_name": "LayoutModel",
            "_view_count": null,
            "_view_module": "@jupyter-widgets/base",
            "_view_module_version": "1.2.0",
            "_view_name": "LayoutView",
            "align_content": null,
            "align_items": null,
            "align_self": null,
            "border": null,
            "bottom": null,
            "display": null,
            "flex": null,
            "flex_flow": null,
            "grid_area": null,
            "grid_auto_columns": null,
            "grid_auto_flow": null,
            "grid_auto_rows": null,
            "grid_column": null,
            "grid_gap": null,
            "grid_row": null,
            "grid_template_areas": null,
            "grid_template_columns": null,
            "grid_template_rows": null,
            "height": null,
            "justify_content": null,
            "justify_items": null,
            "left": null,
            "margin": null,
            "max_height": null,
            "max_width": null,
            "min_height": null,
            "min_width": null,
            "object_fit": null,
            "object_position": null,
            "order": null,
            "overflow": null,
            "overflow_x": null,
            "overflow_y": null,
            "padding": null,
            "right": null,
            "top": null,
            "visibility": null,
            "width": null
          }
        },
        "c05d8abb0142438fa94048d6a3ce1c2c": {
          "model_module": "@jupyter-widgets/controls",
          "model_name": "DescriptionStyleModel",
          "model_module_version": "1.5.0",
          "state": {
            "_model_module": "@jupyter-widgets/controls",
            "_model_module_version": "1.5.0",
            "_model_name": "DescriptionStyleModel",
            "_view_count": null,
            "_view_module": "@jupyter-widgets/base",
            "_view_module_version": "1.2.0",
            "_view_name": "StyleView",
            "description_width": ""
          }
        },
        "3a11b25e506c4e49b5807db38ea864b3": {
          "model_module": "@jupyter-widgets/controls",
          "model_name": "HBoxModel",
          "model_module_version": "1.5.0",
          "state": {
            "_dom_classes": [],
            "_model_module": "@jupyter-widgets/controls",
            "_model_module_version": "1.5.0",
            "_model_name": "HBoxModel",
            "_view_count": null,
            "_view_module": "@jupyter-widgets/controls",
            "_view_module_version": "1.5.0",
            "_view_name": "HBoxView",
            "box_style": "",
            "children": [
              "IPY_MODEL_c7afd7fe40974524a7f76a3d13b20cc1",
              "IPY_MODEL_d785965272c842d18a7422e30cbbdf55",
              "IPY_MODEL_f23812e887cc4e7eb83123a66177a332"
            ],
            "layout": "IPY_MODEL_70df42cfa4234371ab0437dabcf64247"
          }
        },
        "c7afd7fe40974524a7f76a3d13b20cc1": {
          "model_module": "@jupyter-widgets/controls",
          "model_name": "HTMLModel",
          "model_module_version": "1.5.0",
          "state": {
            "_dom_classes": [],
            "_model_module": "@jupyter-widgets/controls",
            "_model_module_version": "1.5.0",
            "_model_name": "HTMLModel",
            "_view_count": null,
            "_view_module": "@jupyter-widgets/controls",
            "_view_module_version": "1.5.0",
            "_view_name": "HTMLView",
            "description": "",
            "description_tooltip": null,
            "layout": "IPY_MODEL_f9e5c38a0b9b4540b32fec4f0ef71a61",
            "placeholder": "​",
            "style": "IPY_MODEL_1a5db452f1264d978388cfe1061422ae",
            "value": "pytorch_model.bin: 100%"
          }
        },
        "d785965272c842d18a7422e30cbbdf55": {
          "model_module": "@jupyter-widgets/controls",
          "model_name": "FloatProgressModel",
          "model_module_version": "1.5.0",
          "state": {
            "_dom_classes": [],
            "_model_module": "@jupyter-widgets/controls",
            "_model_module_version": "1.5.0",
            "_model_name": "FloatProgressModel",
            "_view_count": null,
            "_view_module": "@jupyter-widgets/controls",
            "_view_module_version": "1.5.0",
            "_view_name": "ProgressView",
            "bar_style": "success",
            "description": "",
            "description_tooltip": null,
            "layout": "IPY_MODEL_4fc1708df6e7457488f27258ace42479",
            "max": 711456784,
            "min": 0,
            "orientation": "horizontal",
            "style": "IPY_MODEL_47fd754d9e3241a586cfc72ced578ee3",
            "value": 711456784
          }
        },
        "f23812e887cc4e7eb83123a66177a332": {
          "model_module": "@jupyter-widgets/controls",
          "model_name": "HTMLModel",
          "model_module_version": "1.5.0",
          "state": {
            "_dom_classes": [],
            "_model_module": "@jupyter-widgets/controls",
            "_model_module_version": "1.5.0",
            "_model_name": "HTMLModel",
            "_view_count": null,
            "_view_module": "@jupyter-widgets/controls",
            "_view_module_version": "1.5.0",
            "_view_name": "HTMLView",
            "description": "",
            "description_tooltip": null,
            "layout": "IPY_MODEL_7b4f6311d8b94f62aa52744ddd5e9d26",
            "placeholder": "​",
            "style": "IPY_MODEL_84ea6974d587494b83f39a9d0a8b54a3",
            "value": " 711M/711M [00:01&lt;00:00, 389MB/s]"
          }
        },
        "70df42cfa4234371ab0437dabcf64247": {
          "model_module": "@jupyter-widgets/base",
          "model_name": "LayoutModel",
          "model_module_version": "1.2.0",
          "state": {
            "_model_module": "@jupyter-widgets/base",
            "_model_module_version": "1.2.0",
            "_model_name": "LayoutModel",
            "_view_count": null,
            "_view_module": "@jupyter-widgets/base",
            "_view_module_version": "1.2.0",
            "_view_name": "LayoutView",
            "align_content": null,
            "align_items": null,
            "align_self": null,
            "border": null,
            "bottom": null,
            "display": null,
            "flex": null,
            "flex_flow": null,
            "grid_area": null,
            "grid_auto_columns": null,
            "grid_auto_flow": null,
            "grid_auto_rows": null,
            "grid_column": null,
            "grid_gap": null,
            "grid_row": null,
            "grid_template_areas": null,
            "grid_template_columns": null,
            "grid_template_rows": null,
            "height": null,
            "justify_content": null,
            "justify_items": null,
            "left": null,
            "margin": null,
            "max_height": null,
            "max_width": null,
            "min_height": null,
            "min_width": null,
            "object_fit": null,
            "object_position": null,
            "order": null,
            "overflow": null,
            "overflow_x": null,
            "overflow_y": null,
            "padding": null,
            "right": null,
            "top": null,
            "visibility": null,
            "width": null
          }
        },
        "f9e5c38a0b9b4540b32fec4f0ef71a61": {
          "model_module": "@jupyter-widgets/base",
          "model_name": "LayoutModel",
          "model_module_version": "1.2.0",
          "state": {
            "_model_module": "@jupyter-widgets/base",
            "_model_module_version": "1.2.0",
            "_model_name": "LayoutModel",
            "_view_count": null,
            "_view_module": "@jupyter-widgets/base",
            "_view_module_version": "1.2.0",
            "_view_name": "LayoutView",
            "align_content": null,
            "align_items": null,
            "align_self": null,
            "border": null,
            "bottom": null,
            "display": null,
            "flex": null,
            "flex_flow": null,
            "grid_area": null,
            "grid_auto_columns": null,
            "grid_auto_flow": null,
            "grid_auto_rows": null,
            "grid_column": null,
            "grid_gap": null,
            "grid_row": null,
            "grid_template_areas": null,
            "grid_template_columns": null,
            "grid_template_rows": null,
            "height": null,
            "justify_content": null,
            "justify_items": null,
            "left": null,
            "margin": null,
            "max_height": null,
            "max_width": null,
            "min_height": null,
            "min_width": null,
            "object_fit": null,
            "object_position": null,
            "order": null,
            "overflow": null,
            "overflow_x": null,
            "overflow_y": null,
            "padding": null,
            "right": null,
            "top": null,
            "visibility": null,
            "width": null
          }
        },
        "1a5db452f1264d978388cfe1061422ae": {
          "model_module": "@jupyter-widgets/controls",
          "model_name": "DescriptionStyleModel",
          "model_module_version": "1.5.0",
          "state": {
            "_model_module": "@jupyter-widgets/controls",
            "_model_module_version": "1.5.0",
            "_model_name": "DescriptionStyleModel",
            "_view_count": null,
            "_view_module": "@jupyter-widgets/base",
            "_view_module_version": "1.2.0",
            "_view_name": "StyleView",
            "description_width": ""
          }
        },
        "4fc1708df6e7457488f27258ace42479": {
          "model_module": "@jupyter-widgets/base",
          "model_name": "LayoutModel",
          "model_module_version": "1.2.0",
          "state": {
            "_model_module": "@jupyter-widgets/base",
            "_model_module_version": "1.2.0",
            "_model_name": "LayoutModel",
            "_view_count": null,
            "_view_module": "@jupyter-widgets/base",
            "_view_module_version": "1.2.0",
            "_view_name": "LayoutView",
            "align_content": null,
            "align_items": null,
            "align_self": null,
            "border": null,
            "bottom": null,
            "display": null,
            "flex": null,
            "flex_flow": null,
            "grid_area": null,
            "grid_auto_columns": null,
            "grid_auto_flow": null,
            "grid_auto_rows": null,
            "grid_column": null,
            "grid_gap": null,
            "grid_row": null,
            "grid_template_areas": null,
            "grid_template_columns": null,
            "grid_template_rows": null,
            "height": null,
            "justify_content": null,
            "justify_items": null,
            "left": null,
            "margin": null,
            "max_height": null,
            "max_width": null,
            "min_height": null,
            "min_width": null,
            "object_fit": null,
            "object_position": null,
            "order": null,
            "overflow": null,
            "overflow_x": null,
            "overflow_y": null,
            "padding": null,
            "right": null,
            "top": null,
            "visibility": null,
            "width": null
          }
        },
        "47fd754d9e3241a586cfc72ced578ee3": {
          "model_module": "@jupyter-widgets/controls",
          "model_name": "ProgressStyleModel",
          "model_module_version": "1.5.0",
          "state": {
            "_model_module": "@jupyter-widgets/controls",
            "_model_module_version": "1.5.0",
            "_model_name": "ProgressStyleModel",
            "_view_count": null,
            "_view_module": "@jupyter-widgets/base",
            "_view_module_version": "1.2.0",
            "_view_name": "StyleView",
            "bar_color": null,
            "description_width": ""
          }
        },
        "7b4f6311d8b94f62aa52744ddd5e9d26": {
          "model_module": "@jupyter-widgets/base",
          "model_name": "LayoutModel",
          "model_module_version": "1.2.0",
          "state": {
            "_model_module": "@jupyter-widgets/base",
            "_model_module_version": "1.2.0",
            "_model_name": "LayoutModel",
            "_view_count": null,
            "_view_module": "@jupyter-widgets/base",
            "_view_module_version": "1.2.0",
            "_view_name": "LayoutView",
            "align_content": null,
            "align_items": null,
            "align_self": null,
            "border": null,
            "bottom": null,
            "display": null,
            "flex": null,
            "flex_flow": null,
            "grid_area": null,
            "grid_auto_columns": null,
            "grid_auto_flow": null,
            "grid_auto_rows": null,
            "grid_column": null,
            "grid_gap": null,
            "grid_row": null,
            "grid_template_areas": null,
            "grid_template_columns": null,
            "grid_template_rows": null,
            "height": null,
            "justify_content": null,
            "justify_items": null,
            "left": null,
            "margin": null,
            "max_height": null,
            "max_width": null,
            "min_height": null,
            "min_width": null,
            "object_fit": null,
            "object_position": null,
            "order": null,
            "overflow": null,
            "overflow_x": null,
            "overflow_y": null,
            "padding": null,
            "right": null,
            "top": null,
            "visibility": null,
            "width": null
          }
        },
        "84ea6974d587494b83f39a9d0a8b54a3": {
          "model_module": "@jupyter-widgets/controls",
          "model_name": "DescriptionStyleModel",
          "model_module_version": "1.5.0",
          "state": {
            "_model_module": "@jupyter-widgets/controls",
            "_model_module_version": "1.5.0",
            "_model_name": "DescriptionStyleModel",
            "_view_count": null,
            "_view_module": "@jupyter-widgets/base",
            "_view_module_version": "1.2.0",
            "_view_name": "StyleView",
            "description_width": ""
          }
        },
        "85810e23868d458397adbadf85ef7f69": {
          "model_module": "@jupyter-widgets/controls",
          "model_name": "HBoxModel",
          "model_module_version": "1.5.0",
          "state": {
            "_dom_classes": [],
            "_model_module": "@jupyter-widgets/controls",
            "_model_module_version": "1.5.0",
            "_model_name": "HBoxModel",
            "_view_count": null,
            "_view_module": "@jupyter-widgets/controls",
            "_view_module_version": "1.5.0",
            "_view_name": "HBoxView",
            "box_style": "",
            "children": [
              "IPY_MODEL_af3c2c8a1d0f4128a43b9bad1a50eb3f",
              "IPY_MODEL_6d5bf587be6341c582d173681187b1ed",
              "IPY_MODEL_47109f93d2e44e2786640121dc492a0a"
            ],
            "layout": "IPY_MODEL_9059e326364c41f4a71230d1cdd4a983"
          }
        },
        "af3c2c8a1d0f4128a43b9bad1a50eb3f": {
          "model_module": "@jupyter-widgets/controls",
          "model_name": "HTMLModel",
          "model_module_version": "1.5.0",
          "state": {
            "_dom_classes": [],
            "_model_module": "@jupyter-widgets/controls",
            "_model_module_version": "1.5.0",
            "_model_name": "HTMLModel",
            "_view_count": null,
            "_view_module": "@jupyter-widgets/controls",
            "_view_module_version": "1.5.0",
            "_view_name": "HTMLView",
            "description": "",
            "description_tooltip": null,
            "layout": "IPY_MODEL_5a17debcc5664b07947405646adad9ba",
            "placeholder": "​",
            "style": "IPY_MODEL_3cf650940229413b8bc7a0eb59d100d0",
            "value": "tokenizer_config.json: 100%"
          }
        },
        "6d5bf587be6341c582d173681187b1ed": {
          "model_module": "@jupyter-widgets/controls",
          "model_name": "FloatProgressModel",
          "model_module_version": "1.5.0",
          "state": {
            "_dom_classes": [],
            "_model_module": "@jupyter-widgets/controls",
            "_model_module_version": "1.5.0",
            "_model_name": "FloatProgressModel",
            "_view_count": null,
            "_view_module": "@jupyter-widgets/controls",
            "_view_module_version": "1.5.0",
            "_view_name": "ProgressView",
            "bar_style": "success",
            "description": "",
            "description_tooltip": null,
            "layout": "IPY_MODEL_7ef6e26fd3544a7699d7b6d245676dcd",
            "max": 24,
            "min": 0,
            "orientation": "horizontal",
            "style": "IPY_MODEL_90e5d6492eff4e57abc2a1117e3d04c0",
            "value": 24
          }
        },
        "47109f93d2e44e2786640121dc492a0a": {
          "model_module": "@jupyter-widgets/controls",
          "model_name": "HTMLModel",
          "model_module_version": "1.5.0",
          "state": {
            "_dom_classes": [],
            "_model_module": "@jupyter-widgets/controls",
            "_model_module_version": "1.5.0",
            "_model_name": "HTMLModel",
            "_view_count": null,
            "_view_module": "@jupyter-widgets/controls",
            "_view_module_version": "1.5.0",
            "_view_name": "HTMLView",
            "description": "",
            "description_tooltip": null,
            "layout": "IPY_MODEL_6923d141d6614f6a8f87443f0fb3b5e4",
            "placeholder": "​",
            "style": "IPY_MODEL_63a63cd2b68049f3a1c06eb9c7f82948",
            "value": " 24.0/24.0 [00:00&lt;00:00, 2.30kB/s]"
          }
        },
        "9059e326364c41f4a71230d1cdd4a983": {
          "model_module": "@jupyter-widgets/base",
          "model_name": "LayoutModel",
          "model_module_version": "1.2.0",
          "state": {
            "_model_module": "@jupyter-widgets/base",
            "_model_module_version": "1.2.0",
            "_model_name": "LayoutModel",
            "_view_count": null,
            "_view_module": "@jupyter-widgets/base",
            "_view_module_version": "1.2.0",
            "_view_name": "LayoutView",
            "align_content": null,
            "align_items": null,
            "align_self": null,
            "border": null,
            "bottom": null,
            "display": null,
            "flex": null,
            "flex_flow": null,
            "grid_area": null,
            "grid_auto_columns": null,
            "grid_auto_flow": null,
            "grid_auto_rows": null,
            "grid_column": null,
            "grid_gap": null,
            "grid_row": null,
            "grid_template_areas": null,
            "grid_template_columns": null,
            "grid_template_rows": null,
            "height": null,
            "justify_content": null,
            "justify_items": null,
            "left": null,
            "margin": null,
            "max_height": null,
            "max_width": null,
            "min_height": null,
            "min_width": null,
            "object_fit": null,
            "object_position": null,
            "order": null,
            "overflow": null,
            "overflow_x": null,
            "overflow_y": null,
            "padding": null,
            "right": null,
            "top": null,
            "visibility": null,
            "width": null
          }
        },
        "5a17debcc5664b07947405646adad9ba": {
          "model_module": "@jupyter-widgets/base",
          "model_name": "LayoutModel",
          "model_module_version": "1.2.0",
          "state": {
            "_model_module": "@jupyter-widgets/base",
            "_model_module_version": "1.2.0",
            "_model_name": "LayoutModel",
            "_view_count": null,
            "_view_module": "@jupyter-widgets/base",
            "_view_module_version": "1.2.0",
            "_view_name": "LayoutView",
            "align_content": null,
            "align_items": null,
            "align_self": null,
            "border": null,
            "bottom": null,
            "display": null,
            "flex": null,
            "flex_flow": null,
            "grid_area": null,
            "grid_auto_columns": null,
            "grid_auto_flow": null,
            "grid_auto_rows": null,
            "grid_column": null,
            "grid_gap": null,
            "grid_row": null,
            "grid_template_areas": null,
            "grid_template_columns": null,
            "grid_template_rows": null,
            "height": null,
            "justify_content": null,
            "justify_items": null,
            "left": null,
            "margin": null,
            "max_height": null,
            "max_width": null,
            "min_height": null,
            "min_width": null,
            "object_fit": null,
            "object_position": null,
            "order": null,
            "overflow": null,
            "overflow_x": null,
            "overflow_y": null,
            "padding": null,
            "right": null,
            "top": null,
            "visibility": null,
            "width": null
          }
        },
        "3cf650940229413b8bc7a0eb59d100d0": {
          "model_module": "@jupyter-widgets/controls",
          "model_name": "DescriptionStyleModel",
          "model_module_version": "1.5.0",
          "state": {
            "_model_module": "@jupyter-widgets/controls",
            "_model_module_version": "1.5.0",
            "_model_name": "DescriptionStyleModel",
            "_view_count": null,
            "_view_module": "@jupyter-widgets/base",
            "_view_module_version": "1.2.0",
            "_view_name": "StyleView",
            "description_width": ""
          }
        },
        "7ef6e26fd3544a7699d7b6d245676dcd": {
          "model_module": "@jupyter-widgets/base",
          "model_name": "LayoutModel",
          "model_module_version": "1.2.0",
          "state": {
            "_model_module": "@jupyter-widgets/base",
            "_model_module_version": "1.2.0",
            "_model_name": "LayoutModel",
            "_view_count": null,
            "_view_module": "@jupyter-widgets/base",
            "_view_module_version": "1.2.0",
            "_view_name": "LayoutView",
            "align_content": null,
            "align_items": null,
            "align_self": null,
            "border": null,
            "bottom": null,
            "display": null,
            "flex": null,
            "flex_flow": null,
            "grid_area": null,
            "grid_auto_columns": null,
            "grid_auto_flow": null,
            "grid_auto_rows": null,
            "grid_column": null,
            "grid_gap": null,
            "grid_row": null,
            "grid_template_areas": null,
            "grid_template_columns": null,
            "grid_template_rows": null,
            "height": null,
            "justify_content": null,
            "justify_items": null,
            "left": null,
            "margin": null,
            "max_height": null,
            "max_width": null,
            "min_height": null,
            "min_width": null,
            "object_fit": null,
            "object_position": null,
            "order": null,
            "overflow": null,
            "overflow_x": null,
            "overflow_y": null,
            "padding": null,
            "right": null,
            "top": null,
            "visibility": null,
            "width": null
          }
        },
        "90e5d6492eff4e57abc2a1117e3d04c0": {
          "model_module": "@jupyter-widgets/controls",
          "model_name": "ProgressStyleModel",
          "model_module_version": "1.5.0",
          "state": {
            "_model_module": "@jupyter-widgets/controls",
            "_model_module_version": "1.5.0",
            "_model_name": "ProgressStyleModel",
            "_view_count": null,
            "_view_module": "@jupyter-widgets/base",
            "_view_module_version": "1.2.0",
            "_view_name": "StyleView",
            "bar_color": null,
            "description_width": ""
          }
        },
        "6923d141d6614f6a8f87443f0fb3b5e4": {
          "model_module": "@jupyter-widgets/base",
          "model_name": "LayoutModel",
          "model_module_version": "1.2.0",
          "state": {
            "_model_module": "@jupyter-widgets/base",
            "_model_module_version": "1.2.0",
            "_model_name": "LayoutModel",
            "_view_count": null,
            "_view_module": "@jupyter-widgets/base",
            "_view_module_version": "1.2.0",
            "_view_name": "LayoutView",
            "align_content": null,
            "align_items": null,
            "align_self": null,
            "border": null,
            "bottom": null,
            "display": null,
            "flex": null,
            "flex_flow": null,
            "grid_area": null,
            "grid_auto_columns": null,
            "grid_auto_flow": null,
            "grid_auto_rows": null,
            "grid_column": null,
            "grid_gap": null,
            "grid_row": null,
            "grid_template_areas": null,
            "grid_template_columns": null,
            "grid_template_rows": null,
            "height": null,
            "justify_content": null,
            "justify_items": null,
            "left": null,
            "margin": null,
            "max_height": null,
            "max_width": null,
            "min_height": null,
            "min_width": null,
            "object_fit": null,
            "object_position": null,
            "order": null,
            "overflow": null,
            "overflow_x": null,
            "overflow_y": null,
            "padding": null,
            "right": null,
            "top": null,
            "visibility": null,
            "width": null
          }
        },
        "63a63cd2b68049f3a1c06eb9c7f82948": {
          "model_module": "@jupyter-widgets/controls",
          "model_name": "DescriptionStyleModel",
          "model_module_version": "1.5.0",
          "state": {
            "_model_module": "@jupyter-widgets/controls",
            "_model_module_version": "1.5.0",
            "_model_name": "DescriptionStyleModel",
            "_view_count": null,
            "_view_module": "@jupyter-widgets/base",
            "_view_module_version": "1.2.0",
            "_view_name": "StyleView",
            "description_width": ""
          }
        },
        "5e1dc63cf03d48c5bc38cb6b7b939a4f": {
          "model_module": "@jupyter-widgets/controls",
          "model_name": "HBoxModel",
          "model_module_version": "1.5.0",
          "state": {
            "_dom_classes": [],
            "_model_module": "@jupyter-widgets/controls",
            "_model_module_version": "1.5.0",
            "_model_name": "HBoxModel",
            "_view_count": null,
            "_view_module": "@jupyter-widgets/controls",
            "_view_module_version": "1.5.0",
            "_view_name": "HBoxView",
            "box_style": "",
            "children": [
              "IPY_MODEL_1d49ce867ebb402398359e649be58a7b",
              "IPY_MODEL_bfa8cf95c3934c61a59b47adb52eca1b",
              "IPY_MODEL_04b491f11eeb4f949b1581151a0a54ca"
            ],
            "layout": "IPY_MODEL_b1cf65e79cd346029d366d934fbe09db"
          }
        },
        "1d49ce867ebb402398359e649be58a7b": {
          "model_module": "@jupyter-widgets/controls",
          "model_name": "HTMLModel",
          "model_module_version": "1.5.0",
          "state": {
            "_dom_classes": [],
            "_model_module": "@jupyter-widgets/controls",
            "_model_module_version": "1.5.0",
            "_model_name": "HTMLModel",
            "_view_count": null,
            "_view_module": "@jupyter-widgets/controls",
            "_view_module_version": "1.5.0",
            "_view_name": "HTMLView",
            "description": "",
            "description_tooltip": null,
            "layout": "IPY_MODEL_e4d8583f48b24fcca735a46c52facdaa",
            "placeholder": "​",
            "style": "IPY_MODEL_405d12c0990141b89cee4a367d2eb88e",
            "value": "vocab.txt: 100%"
          }
        },
        "bfa8cf95c3934c61a59b47adb52eca1b": {
          "model_module": "@jupyter-widgets/controls",
          "model_name": "FloatProgressModel",
          "model_module_version": "1.5.0",
          "state": {
            "_dom_classes": [],
            "_model_module": "@jupyter-widgets/controls",
            "_model_module_version": "1.5.0",
            "_model_name": "FloatProgressModel",
            "_view_count": null,
            "_view_module": "@jupyter-widgets/controls",
            "_view_module_version": "1.5.0",
            "_view_name": "ProgressView",
            "bar_style": "success",
            "description": "",
            "description_tooltip": null,
            "layout": "IPY_MODEL_2f3d3cd6cea7452196d33538c631bc9f",
            "max": 1649718,
            "min": 0,
            "orientation": "horizontal",
            "style": "IPY_MODEL_2cec5157f61643eebe08b4b7b100a91a",
            "value": 1649718
          }
        },
        "04b491f11eeb4f949b1581151a0a54ca": {
          "model_module": "@jupyter-widgets/controls",
          "model_name": "HTMLModel",
          "model_module_version": "1.5.0",
          "state": {
            "_dom_classes": [],
            "_model_module": "@jupyter-widgets/controls",
            "_model_module_version": "1.5.0",
            "_model_name": "HTMLModel",
            "_view_count": null,
            "_view_module": "@jupyter-widgets/controls",
            "_view_module_version": "1.5.0",
            "_view_name": "HTMLView",
            "description": "",
            "description_tooltip": null,
            "layout": "IPY_MODEL_a361f546af8747e6a023eb249b0f3c28",
            "placeholder": "​",
            "style": "IPY_MODEL_b3b6176001114f079c9f7ff9e8a74038",
            "value": " 1.65M/1.65M [00:00&lt;00:00, 6.75MB/s]"
          }
        },
        "b1cf65e79cd346029d366d934fbe09db": {
          "model_module": "@jupyter-widgets/base",
          "model_name": "LayoutModel",
          "model_module_version": "1.2.0",
          "state": {
            "_model_module": "@jupyter-widgets/base",
            "_model_module_version": "1.2.0",
            "_model_name": "LayoutModel",
            "_view_count": null,
            "_view_module": "@jupyter-widgets/base",
            "_view_module_version": "1.2.0",
            "_view_name": "LayoutView",
            "align_content": null,
            "align_items": null,
            "align_self": null,
            "border": null,
            "bottom": null,
            "display": null,
            "flex": null,
            "flex_flow": null,
            "grid_area": null,
            "grid_auto_columns": null,
            "grid_auto_flow": null,
            "grid_auto_rows": null,
            "grid_column": null,
            "grid_gap": null,
            "grid_row": null,
            "grid_template_areas": null,
            "grid_template_columns": null,
            "grid_template_rows": null,
            "height": null,
            "justify_content": null,
            "justify_items": null,
            "left": null,
            "margin": null,
            "max_height": null,
            "max_width": null,
            "min_height": null,
            "min_width": null,
            "object_fit": null,
            "object_position": null,
            "order": null,
            "overflow": null,
            "overflow_x": null,
            "overflow_y": null,
            "padding": null,
            "right": null,
            "top": null,
            "visibility": null,
            "width": null
          }
        },
        "e4d8583f48b24fcca735a46c52facdaa": {
          "model_module": "@jupyter-widgets/base",
          "model_name": "LayoutModel",
          "model_module_version": "1.2.0",
          "state": {
            "_model_module": "@jupyter-widgets/base",
            "_model_module_version": "1.2.0",
            "_model_name": "LayoutModel",
            "_view_count": null,
            "_view_module": "@jupyter-widgets/base",
            "_view_module_version": "1.2.0",
            "_view_name": "LayoutView",
            "align_content": null,
            "align_items": null,
            "align_self": null,
            "border": null,
            "bottom": null,
            "display": null,
            "flex": null,
            "flex_flow": null,
            "grid_area": null,
            "grid_auto_columns": null,
            "grid_auto_flow": null,
            "grid_auto_rows": null,
            "grid_column": null,
            "grid_gap": null,
            "grid_row": null,
            "grid_template_areas": null,
            "grid_template_columns": null,
            "grid_template_rows": null,
            "height": null,
            "justify_content": null,
            "justify_items": null,
            "left": null,
            "margin": null,
            "max_height": null,
            "max_width": null,
            "min_height": null,
            "min_width": null,
            "object_fit": null,
            "object_position": null,
            "order": null,
            "overflow": null,
            "overflow_x": null,
            "overflow_y": null,
            "padding": null,
            "right": null,
            "top": null,
            "visibility": null,
            "width": null
          }
        },
        "405d12c0990141b89cee4a367d2eb88e": {
          "model_module": "@jupyter-widgets/controls",
          "model_name": "DescriptionStyleModel",
          "model_module_version": "1.5.0",
          "state": {
            "_model_module": "@jupyter-widgets/controls",
            "_model_module_version": "1.5.0",
            "_model_name": "DescriptionStyleModel",
            "_view_count": null,
            "_view_module": "@jupyter-widgets/base",
            "_view_module_version": "1.2.0",
            "_view_name": "StyleView",
            "description_width": ""
          }
        },
        "2f3d3cd6cea7452196d33538c631bc9f": {
          "model_module": "@jupyter-widgets/base",
          "model_name": "LayoutModel",
          "model_module_version": "1.2.0",
          "state": {
            "_model_module": "@jupyter-widgets/base",
            "_model_module_version": "1.2.0",
            "_model_name": "LayoutModel",
            "_view_count": null,
            "_view_module": "@jupyter-widgets/base",
            "_view_module_version": "1.2.0",
            "_view_name": "LayoutView",
            "align_content": null,
            "align_items": null,
            "align_self": null,
            "border": null,
            "bottom": null,
            "display": null,
            "flex": null,
            "flex_flow": null,
            "grid_area": null,
            "grid_auto_columns": null,
            "grid_auto_flow": null,
            "grid_auto_rows": null,
            "grid_column": null,
            "grid_gap": null,
            "grid_row": null,
            "grid_template_areas": null,
            "grid_template_columns": null,
            "grid_template_rows": null,
            "height": null,
            "justify_content": null,
            "justify_items": null,
            "left": null,
            "margin": null,
            "max_height": null,
            "max_width": null,
            "min_height": null,
            "min_width": null,
            "object_fit": null,
            "object_position": null,
            "order": null,
            "overflow": null,
            "overflow_x": null,
            "overflow_y": null,
            "padding": null,
            "right": null,
            "top": null,
            "visibility": null,
            "width": null
          }
        },
        "2cec5157f61643eebe08b4b7b100a91a": {
          "model_module": "@jupyter-widgets/controls",
          "model_name": "ProgressStyleModel",
          "model_module_version": "1.5.0",
          "state": {
            "_model_module": "@jupyter-widgets/controls",
            "_model_module_version": "1.5.0",
            "_model_name": "ProgressStyleModel",
            "_view_count": null,
            "_view_module": "@jupyter-widgets/base",
            "_view_module_version": "1.2.0",
            "_view_name": "StyleView",
            "bar_color": null,
            "description_width": ""
          }
        },
        "a361f546af8747e6a023eb249b0f3c28": {
          "model_module": "@jupyter-widgets/base",
          "model_name": "LayoutModel",
          "model_module_version": "1.2.0",
          "state": {
            "_model_module": "@jupyter-widgets/base",
            "_model_module_version": "1.2.0",
            "_model_name": "LayoutModel",
            "_view_count": null,
            "_view_module": "@jupyter-widgets/base",
            "_view_module_version": "1.2.0",
            "_view_name": "LayoutView",
            "align_content": null,
            "align_items": null,
            "align_self": null,
            "border": null,
            "bottom": null,
            "display": null,
            "flex": null,
            "flex_flow": null,
            "grid_area": null,
            "grid_auto_columns": null,
            "grid_auto_flow": null,
            "grid_auto_rows": null,
            "grid_column": null,
            "grid_gap": null,
            "grid_row": null,
            "grid_template_areas": null,
            "grid_template_columns": null,
            "grid_template_rows": null,
            "height": null,
            "justify_content": null,
            "justify_items": null,
            "left": null,
            "margin": null,
            "max_height": null,
            "max_width": null,
            "min_height": null,
            "min_width": null,
            "object_fit": null,
            "object_position": null,
            "order": null,
            "overflow": null,
            "overflow_x": null,
            "overflow_y": null,
            "padding": null,
            "right": null,
            "top": null,
            "visibility": null,
            "width": null
          }
        },
        "b3b6176001114f079c9f7ff9e8a74038": {
          "model_module": "@jupyter-widgets/controls",
          "model_name": "DescriptionStyleModel",
          "model_module_version": "1.5.0",
          "state": {
            "_model_module": "@jupyter-widgets/controls",
            "_model_module_version": "1.5.0",
            "_model_name": "DescriptionStyleModel",
            "_view_count": null,
            "_view_module": "@jupyter-widgets/base",
            "_view_module_version": "1.2.0",
            "_view_name": "StyleView",
            "description_width": ""
          }
        },
        "a6f4c8cc8e624851bf9eea55d029a18b": {
          "model_module": "@jupyter-widgets/controls",
          "model_name": "HBoxModel",
          "model_module_version": "1.5.0",
          "state": {
            "_dom_classes": [],
            "_model_module": "@jupyter-widgets/controls",
            "_model_module_version": "1.5.0",
            "_model_name": "HBoxModel",
            "_view_count": null,
            "_view_module": "@jupyter-widgets/controls",
            "_view_module_version": "1.5.0",
            "_view_name": "HBoxView",
            "box_style": "",
            "children": [
              "IPY_MODEL_31c6ac67775a47f5b252a04edc729fa2",
              "IPY_MODEL_4f4f6ae63cd04bc1a559b415ddfe3923",
              "IPY_MODEL_c3fc541aacd642d2875f96856c157523"
            ],
            "layout": "IPY_MODEL_3bce49ca4ca44abc942fe25aa3f8266d"
          }
        },
        "31c6ac67775a47f5b252a04edc729fa2": {
          "model_module": "@jupyter-widgets/controls",
          "model_name": "HTMLModel",
          "model_module_version": "1.5.0",
          "state": {
            "_dom_classes": [],
            "_model_module": "@jupyter-widgets/controls",
            "_model_module_version": "1.5.0",
            "_model_name": "HTMLModel",
            "_view_count": null,
            "_view_module": "@jupyter-widgets/controls",
            "_view_module_version": "1.5.0",
            "_view_name": "HTMLView",
            "description": "",
            "description_tooltip": null,
            "layout": "IPY_MODEL_8d966d4150674510afc22691d6660101",
            "placeholder": "​",
            "style": "IPY_MODEL_2459a7c10d4c4ee3a0dca92638f61f93",
            "value": "special_tokens_map.json: 100%"
          }
        },
        "4f4f6ae63cd04bc1a559b415ddfe3923": {
          "model_module": "@jupyter-widgets/controls",
          "model_name": "FloatProgressModel",
          "model_module_version": "1.5.0",
          "state": {
            "_dom_classes": [],
            "_model_module": "@jupyter-widgets/controls",
            "_model_module_version": "1.5.0",
            "_model_name": "FloatProgressModel",
            "_view_count": null,
            "_view_module": "@jupyter-widgets/controls",
            "_view_module_version": "1.5.0",
            "_view_name": "ProgressView",
            "bar_style": "success",
            "description": "",
            "description_tooltip": null,
            "layout": "IPY_MODEL_699c46a7adef4a69a2e38c2ce08d9c17",
            "max": 112,
            "min": 0,
            "orientation": "horizontal",
            "style": "IPY_MODEL_c0eb0f52bb3e4d9ca16bdd4bbe293130",
            "value": 112
          }
        },
        "c3fc541aacd642d2875f96856c157523": {
          "model_module": "@jupyter-widgets/controls",
          "model_name": "HTMLModel",
          "model_module_version": "1.5.0",
          "state": {
            "_dom_classes": [],
            "_model_module": "@jupyter-widgets/controls",
            "_model_module_version": "1.5.0",
            "_model_name": "HTMLModel",
            "_view_count": null,
            "_view_module": "@jupyter-widgets/controls",
            "_view_module_version": "1.5.0",
            "_view_name": "HTMLView",
            "description": "",
            "description_tooltip": null,
            "layout": "IPY_MODEL_cee5d3c2c9054516a1f53edcf604d402",
            "placeholder": "​",
            "style": "IPY_MODEL_7bd8143e974b45b08d5b60354f9f9c2e",
            "value": " 112/112 [00:00&lt;00:00, 8.87kB/s]"
          }
        },
        "3bce49ca4ca44abc942fe25aa3f8266d": {
          "model_module": "@jupyter-widgets/base",
          "model_name": "LayoutModel",
          "model_module_version": "1.2.0",
          "state": {
            "_model_module": "@jupyter-widgets/base",
            "_model_module_version": "1.2.0",
            "_model_name": "LayoutModel",
            "_view_count": null,
            "_view_module": "@jupyter-widgets/base",
            "_view_module_version": "1.2.0",
            "_view_name": "LayoutView",
            "align_content": null,
            "align_items": null,
            "align_self": null,
            "border": null,
            "bottom": null,
            "display": null,
            "flex": null,
            "flex_flow": null,
            "grid_area": null,
            "grid_auto_columns": null,
            "grid_auto_flow": null,
            "grid_auto_rows": null,
            "grid_column": null,
            "grid_gap": null,
            "grid_row": null,
            "grid_template_areas": null,
            "grid_template_columns": null,
            "grid_template_rows": null,
            "height": null,
            "justify_content": null,
            "justify_items": null,
            "left": null,
            "margin": null,
            "max_height": null,
            "max_width": null,
            "min_height": null,
            "min_width": null,
            "object_fit": null,
            "object_position": null,
            "order": null,
            "overflow": null,
            "overflow_x": null,
            "overflow_y": null,
            "padding": null,
            "right": null,
            "top": null,
            "visibility": null,
            "width": null
          }
        },
        "8d966d4150674510afc22691d6660101": {
          "model_module": "@jupyter-widgets/base",
          "model_name": "LayoutModel",
          "model_module_version": "1.2.0",
          "state": {
            "_model_module": "@jupyter-widgets/base",
            "_model_module_version": "1.2.0",
            "_model_name": "LayoutModel",
            "_view_count": null,
            "_view_module": "@jupyter-widgets/base",
            "_view_module_version": "1.2.0",
            "_view_name": "LayoutView",
            "align_content": null,
            "align_items": null,
            "align_self": null,
            "border": null,
            "bottom": null,
            "display": null,
            "flex": null,
            "flex_flow": null,
            "grid_area": null,
            "grid_auto_columns": null,
            "grid_auto_flow": null,
            "grid_auto_rows": null,
            "grid_column": null,
            "grid_gap": null,
            "grid_row": null,
            "grid_template_areas": null,
            "grid_template_columns": null,
            "grid_template_rows": null,
            "height": null,
            "justify_content": null,
            "justify_items": null,
            "left": null,
            "margin": null,
            "max_height": null,
            "max_width": null,
            "min_height": null,
            "min_width": null,
            "object_fit": null,
            "object_position": null,
            "order": null,
            "overflow": null,
            "overflow_x": null,
            "overflow_y": null,
            "padding": null,
            "right": null,
            "top": null,
            "visibility": null,
            "width": null
          }
        },
        "2459a7c10d4c4ee3a0dca92638f61f93": {
          "model_module": "@jupyter-widgets/controls",
          "model_name": "DescriptionStyleModel",
          "model_module_version": "1.5.0",
          "state": {
            "_model_module": "@jupyter-widgets/controls",
            "_model_module_version": "1.5.0",
            "_model_name": "DescriptionStyleModel",
            "_view_count": null,
            "_view_module": "@jupyter-widgets/base",
            "_view_module_version": "1.2.0",
            "_view_name": "StyleView",
            "description_width": ""
          }
        },
        "699c46a7adef4a69a2e38c2ce08d9c17": {
          "model_module": "@jupyter-widgets/base",
          "model_name": "LayoutModel",
          "model_module_version": "1.2.0",
          "state": {
            "_model_module": "@jupyter-widgets/base",
            "_model_module_version": "1.2.0",
            "_model_name": "LayoutModel",
            "_view_count": null,
            "_view_module": "@jupyter-widgets/base",
            "_view_module_version": "1.2.0",
            "_view_name": "LayoutView",
            "align_content": null,
            "align_items": null,
            "align_self": null,
            "border": null,
            "bottom": null,
            "display": null,
            "flex": null,
            "flex_flow": null,
            "grid_area": null,
            "grid_auto_columns": null,
            "grid_auto_flow": null,
            "grid_auto_rows": null,
            "grid_column": null,
            "grid_gap": null,
            "grid_row": null,
            "grid_template_areas": null,
            "grid_template_columns": null,
            "grid_template_rows": null,
            "height": null,
            "justify_content": null,
            "justify_items": null,
            "left": null,
            "margin": null,
            "max_height": null,
            "max_width": null,
            "min_height": null,
            "min_width": null,
            "object_fit": null,
            "object_position": null,
            "order": null,
            "overflow": null,
            "overflow_x": null,
            "overflow_y": null,
            "padding": null,
            "right": null,
            "top": null,
            "visibility": null,
            "width": null
          }
        },
        "c0eb0f52bb3e4d9ca16bdd4bbe293130": {
          "model_module": "@jupyter-widgets/controls",
          "model_name": "ProgressStyleModel",
          "model_module_version": "1.5.0",
          "state": {
            "_model_module": "@jupyter-widgets/controls",
            "_model_module_version": "1.5.0",
            "_model_name": "ProgressStyleModel",
            "_view_count": null,
            "_view_module": "@jupyter-widgets/base",
            "_view_module_version": "1.2.0",
            "_view_name": "StyleView",
            "bar_color": null,
            "description_width": ""
          }
        },
        "cee5d3c2c9054516a1f53edcf604d402": {
          "model_module": "@jupyter-widgets/base",
          "model_name": "LayoutModel",
          "model_module_version": "1.2.0",
          "state": {
            "_model_module": "@jupyter-widgets/base",
            "_model_module_version": "1.2.0",
            "_model_name": "LayoutModel",
            "_view_count": null,
            "_view_module": "@jupyter-widgets/base",
            "_view_module_version": "1.2.0",
            "_view_name": "LayoutView",
            "align_content": null,
            "align_items": null,
            "align_self": null,
            "border": null,
            "bottom": null,
            "display": null,
            "flex": null,
            "flex_flow": null,
            "grid_area": null,
            "grid_auto_columns": null,
            "grid_auto_flow": null,
            "grid_auto_rows": null,
            "grid_column": null,
            "grid_gap": null,
            "grid_row": null,
            "grid_template_areas": null,
            "grid_template_columns": null,
            "grid_template_rows": null,
            "height": null,
            "justify_content": null,
            "justify_items": null,
            "left": null,
            "margin": null,
            "max_height": null,
            "max_width": null,
            "min_height": null,
            "min_width": null,
            "object_fit": null,
            "object_position": null,
            "order": null,
            "overflow": null,
            "overflow_x": null,
            "overflow_y": null,
            "padding": null,
            "right": null,
            "top": null,
            "visibility": null,
            "width": null
          }
        },
        "7bd8143e974b45b08d5b60354f9f9c2e": {
          "model_module": "@jupyter-widgets/controls",
          "model_name": "DescriptionStyleModel",
          "model_module_version": "1.5.0",
          "state": {
            "_model_module": "@jupyter-widgets/controls",
            "_model_module_version": "1.5.0",
            "_model_name": "DescriptionStyleModel",
            "_view_count": null,
            "_view_module": "@jupyter-widgets/base",
            "_view_module_version": "1.2.0",
            "_view_name": "StyleView",
            "description_width": ""
          }
        }
      }
    },
    "accelerator": "GPU"
  },
  "cells": [
    {
      "cell_type": "markdown",
      "metadata": {
        "id": "view-in-github",
        "colab_type": "text"
      },
      "source": [
        "<a href=\"https://colab.research.google.com/github/Valerik-Bogd/Punctuation/blob/main/Rubert_LSTM_punct_0.ipynb\" target=\"_parent\"><img src=\"https://colab.research.google.com/assets/colab-badge.svg\" alt=\"Open In Colab\"/></a>"
      ]
    },
    {
      "cell_type": "markdown",
      "source": [
        "# Импорты"
      ],
      "metadata": {
        "id": "DBXUa2FB2BHF"
      }
    },
    {
      "cell_type": "code",
      "source": [
        "# # common_path = '/content/drive/MyDrive/Colab Notebooks/punctuation_23_10_11/debug_data'\n",
        "# # common_save_path = '/content/drive/MyDrive/Colab Notebooks/punctuation_23_10_11/'\n",
        "\n",
        "# common_path = '/content/drive/MyDrive/Colab Notebooks/punctuation_23_10_11/datasets/ready-to-use'\n",
        "# common_save_path = common_path\n",
        "\n",
        "common_path = '/content/drive/MyDrive/Data_punct/Datasets'\n",
        "common_save_path = common_path"
      ],
      "metadata": {
        "id": "_0hIL2TdqJjl"
      },
      "execution_count": null,
      "outputs": []
    },
    {
      "cell_type": "code",
      "source": [
        "from google.colab import drive\n",
        "drive.mount('/content/drive')"
      ],
      "metadata": {
        "id": "ds9VcR_eqbbx",
        "colab": {
          "base_uri": "https://localhost:8080/"
        },
        "outputId": "53381c1e-e70d-408b-96a5-912dcd033852"
      },
      "execution_count": null,
      "outputs": [
        {
          "output_type": "stream",
          "name": "stdout",
          "text": [
            "Mounted at /content/drive\n"
          ]
        }
      ]
    },
    {
      "cell_type": "code",
      "execution_count": null,
      "metadata": {
        "id": "GrEhB59uJJXY"
      },
      "outputs": [],
      "source": [
        "!pip install transformers\n",
        "!pip install labml\n",
        "\n",
        "from contextlib import ExitStack\n",
        "from pathlib import Path\n",
        "from typing import Tuple\n",
        "\n",
        "import numpy as np\n",
        "import torch\n",
        "import torch.multiprocessing\n",
        "import torch.nn as nn\n",
        "import argparse\n",
        "from labml import experiment, tracker\n",
        "from numpy import ndarray\n",
        "from torch.utils.data import DataLoader\n",
        "from tqdm import tqdm\n",
        "import os\n",
        "from pathlib import Path\n",
        "from typing import Dict, List, Optional, Tuple, TypedDict, Union\n",
        "from torch import Tensor\n",
        "from transformers import PreTrainedModel\n",
        "from transformers import PreTrainedTokenizer\n",
        "from transformers import AutoModel, AutoTokenizer\n",
        "from transformers import AutoModel, AutoTokenizer\n",
        "\n",
        "\n",
        "from google.colab import drive\n",
        "import sys\n",
        "from IPython.display import clear_output\n",
        "\n",
        "clear_output()"
      ]
    },
    {
      "cell_type": "code",
      "source": [
        "# https://github.com/pytorch/pytorch/issues/11201\n",
        "torch.multiprocessing.set_sharing_strategy('file_system')\n",
        "\n",
        "# for reproducibility\n",
        "seed = 42\n",
        "torch.manual_seed(seed)\n",
        "torch.backends.cudnn.deterministic = True\n",
        "torch.backends.cudnn.benchmark = False\n",
        "np.random.seed(seed)"
      ],
      "metadata": {
        "id": "JsiYJEmc42Jd"
      },
      "execution_count": null,
      "outputs": []
    },
    {
      "cell_type": "code",
      "source": [
        "from google.colab import drive\n",
        "from pathlib import Path\n",
        "drive.mount('/content/drive/')\n",
        "sys.path.insert(0, common_path)"
      ],
      "metadata": {
        "id": "MFqD1M4aJH8Y",
        "colab": {
          "base_uri": "https://localhost:8080/"
        },
        "outputId": "3819c0aa-87e1-4b82-a351-eb18fb905113"
      },
      "execution_count": null,
      "outputs": [
        {
          "output_type": "stream",
          "name": "stdout",
          "text": [
            "Drive already mounted at /content/drive/; to attempt to forcibly remount, call drive.mount(\"/content/drive/\", force_remount=True).\n"
          ]
        }
      ]
    },
    {
      "cell_type": "code",
      "source": [
        "!ls"
      ],
      "metadata": {
        "id": "YwlUDhAyJYyB",
        "colab": {
          "base_uri": "https://localhost:8080/"
        },
        "outputId": "52be1bd6-af25-4ef8-a0ed-006abe41c2ee"
      },
      "execution_count": null,
      "outputs": [
        {
          "output_type": "stream",
          "name": "stdout",
          "text": [
            "drive  sample_data\n"
          ]
        }
      ]
    },
    {
      "cell_type": "code",
      "source": [
        "PRETRAINED_MODELS = {\n",
        "      'bert-base-uncased': (768, 'bert'),\n",
        "      'bert-large-uncased': (1024, 'bert'),\n",
        "      'bert-base-multilingual-cased': (768, 'bert'),\n",
        "      'bert-base-multilingual-uncased': (768, 'bert'),\n",
        "      # 'xlm-mlm-en-2048': (2048, 'xlm'),\n",
        "      # 'xlm-mlm-100-1280': (1280, 'xlm'),\n",
        "      'roberta-base': (768, 'roberta'),\n",
        "      'roberta-large': (1024, 'roberta'),\n",
        "      'distilbert-base-uncased': (768, 'bert'),\n",
        "      'distilbert-base-multilingual-cased': (768, 'bert'),\n",
        "      'xlm-roberta-base': (768, 'roberta'),\n",
        "      'xlm-roberta-large': (1024, 'roberta'),\n",
        "      'albert-base-v1': (768, 'albert'),\n",
        "      'albert-base-v2': (768, 'albert'),\n",
        "      'albert-large-v2': (1024, 'albert'),\n",
        "      'DeepPavlov/rubert-base-cased-sentence': (768, 'bert'),\n",
        "}"
      ],
      "metadata": {
        "id": "jD57PJCB9cDZ"
      },
      "execution_count": null,
      "outputs": []
    },
    {
      "cell_type": "code",
      "source": [
        "TOKEN_IDX = {}\n",
        "targets = {}\n",
        "\n",
        "def get_special_tokens(name, tokenizer):\n",
        "    names_special = tokenizer.all_special_tokens\n",
        "    special_ids = tokenizer.all_special_ids\n",
        "    return {name: dict(zip(names_special, special_ids))}\n",
        "\n",
        "\n",
        "def get_punct_tokens(name, tokenizer):\n",
        "    all_punct = [\"'\", '\"',\n",
        "                 \".\", \",\", \"!\", \"?\",\n",
        "                 \"-\", \":\", \";\"]\n",
        "    names_punct = [\n",
        "                   'S_QUOTE', 'D_QUOTE',\n",
        "                   'PERIOD', 'COMMA', 'EX_MARK', 'Q_MARK',\n",
        "                   'DASH', 'COLUMN', 'SEMI_COL'\n",
        "                   ]\n",
        "\n",
        "    tokenized_data = tokenizer(all_punct)\n",
        "\n",
        "    tokens_dict = {}\n",
        "    for one_mark, tokens in zip(names_punct, tokenized_data[\"input_ids\"]):\n",
        "        if len(tokens) > 3:\n",
        "          continue\n",
        "        tokens_dict[one_mark] = tokens[1]\n",
        "    return {name: tokens_dict}\n",
        "\n",
        "# space is usually [SEP] special token and shouldn't be mask 1"
      ],
      "metadata": {
        "id": "S_GINtPsKVoE"
      },
      "execution_count": null,
      "outputs": []
    },
    {
      "cell_type": "code",
      "source": [
        "for name_of_model in PRETRAINED_MODELS.keys():\n",
        "    print(name_of_model)\n",
        "    model = AutoModel.from_pretrained(name_of_model)\n",
        "    tokenizer = AutoTokenizer.from_pretrained(name_of_model)\n",
        "    TOKEN_IDX.update(get_special_tokens(name=name_of_model, tokenizer=tokenizer))\n",
        "    targets.update(get_punct_tokens(name=name_of_model, tokenizer=tokenizer))\n",
        "    del model\n",
        "    clear_output()"
      ],
      "metadata": {
        "id": "wm0gBER_FCUh"
      },
      "execution_count": null,
      "outputs": []
    },
    {
      "cell_type": "code",
      "source": [
        "print('TOKEN_IDX')\n",
        "for k, v in TOKEN_IDX.items():\n",
        "    print(k, v)\n",
        "print('-----------')\n",
        "print()\n",
        "print('targets')\n",
        "for k, v in targets.items():\n",
        "    print(k, v)"
      ],
      "metadata": {
        "id": "1UqAJf6pK8uB",
        "colab": {
          "base_uri": "https://localhost:8080/"
        },
        "outputId": "8661fffb-646b-46b3-8619-4b5acf5e4718"
      },
      "execution_count": null,
      "outputs": [
        {
          "output_type": "stream",
          "name": "stdout",
          "text": [
            "TOKEN_IDX\n",
            "bert-base-uncased {'[UNK]': 100, '[SEP]': 102, '[PAD]': 0, '[CLS]': 101, '[MASK]': 103}\n",
            "bert-large-uncased {'[UNK]': 100, '[SEP]': 102, '[PAD]': 0, '[CLS]': 101, '[MASK]': 103}\n",
            "bert-base-multilingual-cased {'[UNK]': 100, '[SEP]': 102, '[PAD]': 0, '[CLS]': 101, '[MASK]': 103}\n",
            "bert-base-multilingual-uncased {'[UNK]': 100, '[SEP]': 102, '[PAD]': 0, '[CLS]': 101, '[MASK]': 103}\n",
            "roberta-base {'<s>': 0, '</s>': 2, '<unk>': 3, '<pad>': 1, '<mask>': 50264}\n",
            "roberta-large {'<s>': 0, '</s>': 2, '<unk>': 3, '<pad>': 1, '<mask>': 50264}\n",
            "distilbert-base-uncased {'[UNK]': 100, '[SEP]': 102, '[PAD]': 0, '[CLS]': 101, '[MASK]': 103}\n",
            "distilbert-base-multilingual-cased {'[UNK]': 100, '[SEP]': 102, '[PAD]': 0, '[CLS]': 101, '[MASK]': 103}\n",
            "xlm-roberta-base {'<s>': 0, '</s>': 2, '<unk>': 3, '<pad>': 1, '<mask>': 250001}\n",
            "xlm-roberta-large {'<s>': 0, '</s>': 2, '<unk>': 3, '<pad>': 1, '<mask>': 250001}\n",
            "albert-base-v1 {'[CLS]': 2, '[SEP]': 3, '<unk>': 1, '<pad>': 0, '[MASK]': 4}\n",
            "albert-base-v2 {'[CLS]': 2, '[SEP]': 3, '<unk>': 1, '<pad>': 0, '[MASK]': 4}\n",
            "albert-large-v2 {'[CLS]': 2, '[SEP]': 3, '<unk>': 1, '<pad>': 0, '[MASK]': 4}\n",
            "DeepPavlov/rubert-base-cased-sentence {'[UNK]': 100, '[SEP]': 102, '[PAD]': 0, '[CLS]': 101, '[MASK]': 103}\n",
            "-----------\n",
            "\n",
            "targets\n",
            "bert-base-uncased {'S_QUOTE': 1005, 'D_QUOTE': 1000, 'PERIOD': 1012, 'COMMA': 1010, 'EX_MARK': 999, 'Q_MARK': 1029, 'DASH': 1011, 'COLUMN': 1024, 'SEMI_COL': 1025}\n",
            "bert-large-uncased {'S_QUOTE': 1005, 'D_QUOTE': 1000, 'PERIOD': 1012, 'COMMA': 1010, 'EX_MARK': 999, 'Q_MARK': 1029, 'DASH': 1011, 'COLUMN': 1024, 'SEMI_COL': 1025}\n",
            "bert-base-multilingual-cased {'S_QUOTE': 112, 'D_QUOTE': 107, 'PERIOD': 119, 'COMMA': 117, 'EX_MARK': 106, 'Q_MARK': 136, 'DASH': 118, 'COLUMN': 131, 'SEMI_COL': 132}\n",
            "bert-base-multilingual-uncased {'S_QUOTE': 112, 'D_QUOTE': 107, 'PERIOD': 119, 'COMMA': 117, 'EX_MARK': 106, 'Q_MARK': 136, 'DASH': 118, 'COLUMN': 131, 'SEMI_COL': 132}\n",
            "roberta-base {'S_QUOTE': 108, 'D_QUOTE': 113, 'PERIOD': 4, 'COMMA': 6, 'EX_MARK': 328, 'Q_MARK': 116, 'DASH': 12, 'COLUMN': 35, 'SEMI_COL': 131}\n",
            "roberta-large {'S_QUOTE': 108, 'D_QUOTE': 113, 'PERIOD': 4, 'COMMA': 6, 'EX_MARK': 328, 'Q_MARK': 116, 'DASH': 12, 'COLUMN': 35, 'SEMI_COL': 131}\n",
            "distilbert-base-uncased {'S_QUOTE': 1005, 'D_QUOTE': 1000, 'PERIOD': 1012, 'COMMA': 1010, 'EX_MARK': 999, 'Q_MARK': 1029, 'DASH': 1011, 'COLUMN': 1024, 'SEMI_COL': 1025}\n",
            "distilbert-base-multilingual-cased {'S_QUOTE': 112, 'D_QUOTE': 107, 'PERIOD': 119, 'COMMA': 117, 'EX_MARK': 106, 'Q_MARK': 136, 'DASH': 118, 'COLUMN': 131, 'SEMI_COL': 132}\n",
            "xlm-roberta-base {'S_QUOTE': 242, 'D_QUOTE': 44, 'EX_MARK': 711, 'Q_MARK': 705, 'DASH': 20, 'COLUMN': 152, 'SEMI_COL': 2819}\n",
            "xlm-roberta-large {'S_QUOTE': 242, 'D_QUOTE': 44, 'EX_MARK': 711, 'Q_MARK': 705, 'DASH': 20, 'COLUMN': 152, 'SEMI_COL': 2819}\n",
            "albert-base-v1 {}\n",
            "albert-base-v2 {}\n",
            "albert-large-v2 {}\n",
            "DeepPavlov/rubert-base-cased-sentence {'S_QUOTE': 118, 'D_QUOTE': 108, 'PERIOD': 132, 'COMMA': 128, 'EX_MARK': 106, 'Q_MARK': 166, 'DASH': 130, 'COLUMN': 156, 'SEMI_COL': 158}\n"
          ]
        }
      ]
    },
    {
      "cell_type": "markdown",
      "source": [
        "\n",
        "# Служебное"
      ],
      "metadata": {
        "id": "SOEKGL1D5xp5"
      }
    },
    {
      "cell_type": "code",
      "source": [
        "model = AutoModel.from_pretrained('DeepPavlov/rubert-base-cased-sentence') #####################################\n",
        "tokenizer = AutoTokenizer.from_pretrained('DeepPavlov/rubert-base-cased-sentence') ##################################"
      ],
      "metadata": {
        "id": "rRoWqVixA0FT",
        "colab": {
          "base_uri": "https://localhost:8080/",
          "referenced_widgets": [
            "420a98d5249445978e2867537409e4fc",
            "dbc0ad9a1a714795a79d9a60227bfaa3",
            "c14219e1455f4e5cb12915428d8f0226",
            "744151376b3e49d59f5e3e9bb26634f1",
            "e71ce7c3ff45497bb8b3060273f528dc",
            "eb3531a413bd498b909a1bdb5187053e",
            "c6fa98c87fb44f8ba4743917a92a657b",
            "77da478f4e1f4cf68b2faa8e56502c47",
            "8ca45936292c4167a2f7fde6bf776e3b",
            "2f9b84fc136e4a4181f56c25c4391b46",
            "c05d8abb0142438fa94048d6a3ce1c2c",
            "3a11b25e506c4e49b5807db38ea864b3",
            "c7afd7fe40974524a7f76a3d13b20cc1",
            "d785965272c842d18a7422e30cbbdf55",
            "f23812e887cc4e7eb83123a66177a332",
            "70df42cfa4234371ab0437dabcf64247",
            "f9e5c38a0b9b4540b32fec4f0ef71a61",
            "1a5db452f1264d978388cfe1061422ae",
            "4fc1708df6e7457488f27258ace42479",
            "47fd754d9e3241a586cfc72ced578ee3",
            "7b4f6311d8b94f62aa52744ddd5e9d26",
            "84ea6974d587494b83f39a9d0a8b54a3",
            "85810e23868d458397adbadf85ef7f69",
            "af3c2c8a1d0f4128a43b9bad1a50eb3f",
            "6d5bf587be6341c582d173681187b1ed",
            "47109f93d2e44e2786640121dc492a0a",
            "9059e326364c41f4a71230d1cdd4a983",
            "5a17debcc5664b07947405646adad9ba",
            "3cf650940229413b8bc7a0eb59d100d0",
            "7ef6e26fd3544a7699d7b6d245676dcd",
            "90e5d6492eff4e57abc2a1117e3d04c0",
            "6923d141d6614f6a8f87443f0fb3b5e4",
            "63a63cd2b68049f3a1c06eb9c7f82948",
            "5e1dc63cf03d48c5bc38cb6b7b939a4f",
            "1d49ce867ebb402398359e649be58a7b",
            "bfa8cf95c3934c61a59b47adb52eca1b",
            "04b491f11eeb4f949b1581151a0a54ca",
            "b1cf65e79cd346029d366d934fbe09db",
            "e4d8583f48b24fcca735a46c52facdaa",
            "405d12c0990141b89cee4a367d2eb88e",
            "2f3d3cd6cea7452196d33538c631bc9f",
            "2cec5157f61643eebe08b4b7b100a91a",
            "a361f546af8747e6a023eb249b0f3c28",
            "b3b6176001114f079c9f7ff9e8a74038",
            "a6f4c8cc8e624851bf9eea55d029a18b",
            "31c6ac67775a47f5b252a04edc729fa2",
            "4f4f6ae63cd04bc1a559b415ddfe3923",
            "c3fc541aacd642d2875f96856c157523",
            "3bce49ca4ca44abc942fe25aa3f8266d",
            "8d966d4150674510afc22691d6660101",
            "2459a7c10d4c4ee3a0dca92638f61f93",
            "699c46a7adef4a69a2e38c2ce08d9c17",
            "c0eb0f52bb3e4d9ca16bdd4bbe293130",
            "cee5d3c2c9054516a1f53edcf604d402",
            "7bd8143e974b45b08d5b60354f9f9c2e"
          ]
        },
        "outputId": "bc74e5ae-5103-4b6c-c719-6a29fa9064c1"
      },
      "execution_count": null,
      "outputs": [
        {
          "output_type": "display_data",
          "data": {
            "text/plain": [
              "config.json:   0%|          | 0.00/642 [00:00<?, ?B/s]"
            ],
            "application/vnd.jupyter.widget-view+json": {
              "version_major": 2,
              "version_minor": 0,
              "model_id": "420a98d5249445978e2867537409e4fc"
            }
          },
          "metadata": {}
        },
        {
          "output_type": "display_data",
          "data": {
            "text/plain": [
              "pytorch_model.bin:   0%|          | 0.00/711M [00:00<?, ?B/s]"
            ],
            "application/vnd.jupyter.widget-view+json": {
              "version_major": 2,
              "version_minor": 0,
              "model_id": "3a11b25e506c4e49b5807db38ea864b3"
            }
          },
          "metadata": {}
        },
        {
          "output_type": "display_data",
          "data": {
            "text/plain": [
              "tokenizer_config.json:   0%|          | 0.00/24.0 [00:00<?, ?B/s]"
            ],
            "application/vnd.jupyter.widget-view+json": {
              "version_major": 2,
              "version_minor": 0,
              "model_id": "85810e23868d458397adbadf85ef7f69"
            }
          },
          "metadata": {}
        },
        {
          "output_type": "display_data",
          "data": {
            "text/plain": [
              "vocab.txt:   0%|          | 0.00/1.65M [00:00<?, ?B/s]"
            ],
            "application/vnd.jupyter.widget-view+json": {
              "version_major": 2,
              "version_minor": 0,
              "model_id": "5e1dc63cf03d48c5bc38cb6b7b939a4f"
            }
          },
          "metadata": {}
        },
        {
          "output_type": "display_data",
          "data": {
            "text/plain": [
              "special_tokens_map.json:   0%|          | 0.00/112 [00:00<?, ?B/s]"
            ],
            "application/vnd.jupyter.widget-view+json": {
              "version_major": 2,
              "version_minor": 0,
              "model_id": "a6f4c8cc8e624851bf9eea55d029a18b"
            }
          },
          "metadata": {}
        }
      ]
    },
    {
      "cell_type": "code",
      "source": [
        "from typing import Dict, List, Optional, Tuple, TypedDict, Union\n",
        "\n",
        "import numpy as np\n",
        "import torch\n",
        "from torch import Tensor\n",
        "from tqdm import tqdm\n",
        "from transformers import PreTrainedTokenizer\n",
        "\n",
        "# probability of applying substitution operation on tokens selected for augmentation\n",
        "alpha_sub = 0.40\n",
        "# probability of applying delete operation on tokens selected for augmentation\n",
        "alpha_del = 0.40\n",
        "\n",
        "tokenizer = None\n",
        "# substitution strategy: 'unk' -> replace with unknown tokens, 'rand' -> replace with random tokens from vocabulary\n",
        "sub_style = 'unk'\n",
        "\n",
        "\n",
        "def augment_none(x, y, y_mask, x_aug, y_aug, y_mask_aug, i, token_style):\n",
        "    \"\"\"\n",
        "    apply no augmentation\n",
        "    \"\"\"\n",
        "    x_aug.append(x[i])\n",
        "    y_aug.append(y[i])\n",
        "    y_mask_aug.append(y_mask[i])\n",
        "\n",
        "\n",
        "def augment_substitute(x, y, y_mask, x_aug, y_aug, y_mask_aug, i, token_style):\n",
        "    \"\"\"\n",
        "    replace a token with a random token or the unknown token\n",
        "    \"\"\"\n",
        "    if sub_style == 'rand':\n",
        "        x_aug.append(np.random.randint(tokenizer.vocab_size))\n",
        "    else:\n",
        "        x_aug.append(TOKEN_IDX[token_style]['UNK'])\n",
        "    y_aug.append(y[i])\n",
        "    y_mask_aug.append(y_mask[i])\n",
        "\n",
        "\n",
        "def augment_insert(x, y, y_mask, x_aug, y_aug, y_mask_aug, i, token_style):\n",
        "    \"\"\"\n",
        "    insert the unknown token before this token\n",
        "    \"\"\"\n",
        "    x_aug.append(TOKEN_IDX[token_style]['UNK'])\n",
        "    y_aug.append(0)\n",
        "    y_mask_aug.append(1)\n",
        "    x_aug.append(x[i])\n",
        "    y_aug.append(y[i])\n",
        "    y_mask_aug.append(y_mask[i])\n",
        "\n",
        "\n",
        "def augment_delete(x, y, y_mask, x_aug, y_aug, y_mask_aug, i, token_style):\n",
        "    \"\"\"\n",
        "    remove this token i..e, not add in augmented tokens\n",
        "    \"\"\"\n",
        "    return\n",
        "\n",
        "\n",
        "def augment_all(x, y, y_mask, x_aug, y_aug, y_mask_aug, i, token_style):\n",
        "    \"\"\"\n",
        "    apply substitution with alpha_sub probability, deletion with alpha_sub probability and insertion with\n",
        "    1-(alpha_sub+alpha_sub) probability\n",
        "    \"\"\"\n",
        "    r = np.random.rand()\n",
        "    if r < alpha_sub:\n",
        "        augment_substitute(x, y, y_mask, x_aug, y_aug, y_mask_aug, i, token_style)\n",
        "    elif r < alpha_sub + alpha_del:\n",
        "        augment_delete(x, y, y_mask, x_aug, y_aug, y_mask_aug, i, token_style)\n",
        "    else:\n",
        "        augment_insert(x, y, y_mask, x_aug, y_aug, y_mask_aug, i, token_style)\n",
        "\n",
        "AUGMENTATIONS = {'none': augment_none,\n",
        "    'substitute': augment_substitute,\n",
        "    'insert': augment_insert,\n",
        "    'delete': augment_delete,\n",
        "    'all': augment_all}\n",
        "\n",
        "TOKEN_IDX = {\n",
        "      'bert': {\n",
        "          # '[MASK]': 103,\n",
        "          'S_QUOTE': 118,\n",
        "          'D_QUOTE': 108,\n",
        "          'PERIOD': 132,\n",
        "          'COMMA': 128,\n",
        "          'EX_MARK': 106,\n",
        "          'Q_MARK': 166,\n",
        "          'DASH': 130,\n",
        "          'COLUMN': 156,\n",
        "          'SEMI_COL': 158,\n",
        "          'START_SEQ': 101,\n",
        "          'PAD': 0,\n",
        "          'END_SEQ': 102,\n",
        "          'UNK': 100\n",
        "      },\n",
        "      'xlm': {\n",
        "          'START_SEQ': 0,\n",
        "          'PAD': 2,\n",
        "          'END_SEQ': 1,\n",
        "          'UNK': 3\n",
        "      },\n",
        "      'roberta': {\n",
        "          'START_SEQ': 0,\n",
        "          'PAD': 1,\n",
        "          'END_SEQ': 2,\n",
        "          'UNK': 3\n",
        "      },\n",
        "      'albert': {\n",
        "          'START_SEQ': 2,\n",
        "          'PAD': 0,\n",
        "          'END_SEQ': 3,\n",
        "          'UNK': 1\n",
        "      },\n",
        "  }"
      ],
      "metadata": {
        "id": "k_8Dz14q5hat"
      },
      "execution_count": null,
      "outputs": []
    },
    {
      "cell_type": "code",
      "source": [],
      "metadata": {
        "id": "U-PIpVVPOM0p"
      },
      "execution_count": null,
      "outputs": []
    },
    {
      "cell_type": "code",
      "source": [
        "PRETRAINED_MODELS = {'DeepPavlov/rubert-base-cased-sentence': (AutoModel, AutoTokenizer, 768, 'bert')}\n",
        "\n",
        "Path_type = Union[Path, str, os.PathLike]\n",
        "\n",
        "\n",
        "class CorrectionModel(nn.Module):\n",
        "    def __init__(self,\n",
        "                 pretrained_model: PreTrainedModel,\n",
        "                 targets: Dict[str, int],\n",
        "                 freeze_pretrained=False,\n",
        "                 lstm_dim=-1) -> None:\n",
        "\n",
        "        super(CorrectionModel, self).__init__()\n",
        "        self.pretrained_transformer = PRETRAINED_MODELS[pretrained_model][0].from_pretrained(pretrained_model)\n",
        "\n",
        "        if freeze_pretrained:\n",
        "            for p in self.pretrained_transformer.parameters():\n",
        "                p.requires_grad = False\n",
        "\n",
        "        bert_dim = PRETRAINED_MODELS[pretrained_model][2]\n",
        "\n",
        "        if lstm_dim == -1:\n",
        "            hidden_size = bert_dim\n",
        "        else:\n",
        "            hidden_size = lstm_dim\n",
        "\n",
        "        self.hidden_size = hidden_size\n",
        "\n",
        "        self.lstm = nn.LSTM(input_size=bert_dim,\n",
        "                            hidden_size=hidden_size,\n",
        "                            num_layers=1,\n",
        "                            bidirectional=True)\n",
        "\n",
        "        self.linear = nn.Linear(in_features=hidden_size * 2,\n",
        "                                out_features=len(targets))\n",
        "\n",
        "    def forward(self, x: Tensor, attn_masks: Tensor) -> Tensor:\n",
        "        # add dummy batch for single sample\n",
        "        if len(x.shape) == 1:\n",
        "            x = x.view(1, x.shape[0])\n",
        "        # (B, N, E) -> (B, N, E)\n",
        "        x = self.pretrained_transformer(x, attention_mask=attn_masks)[0]\n",
        "        # (B, N, E) -> (N, B, E)\n",
        "        x = torch.transpose(x, 0, 1)\n",
        "        x, (_, _) = self.lstm(x)\n",
        "        # (N, B, E) -> (B, N, E)\n",
        "        x = torch.transpose(x, 0, 1)\n",
        "        x = self.linear(x)\n",
        "        return x\n",
        "\n",
        "    def save(self, save_path: Path_type) -> None:\n",
        "        torch.save(self.state_dict(), save_path)\n",
        "\n",
        "    def load(self, load_path: Path_type, *args, **kwargs) -> None:\n",
        "        self.load_state_dict(torch.load(load_path, *args, **kwargs))\n",
        "\n",
        "    def modify_last_linear(self, *args, **kwargs):\n",
        "        self.linear = nn.Linear(*args, **kwargs)"
      ],
      "metadata": {
        "id": "zr4RJaFz10cj"
      },
      "execution_count": null,
      "outputs": []
    },
    {
      "cell_type": "code",
      "source": [
        "import re\n",
        "from glob import glob\n",
        "def get_last_epoch_params(weights_dir: Path) -> Tuple[int, float]:\n",
        "    \"\"\"\n",
        "    Get last epoch number and last best accuracy\n",
        "\n",
        "    Args:\n",
        "        weights_dir (Path): directory where wheights are stored\n",
        "\n",
        "    Returns:\n",
        "        tuple[int, float]: epoch number, best accuracy\n",
        "    \"\"\"\n",
        "    weights = list(glob(f'{common_path}/weights/*.pt'))\n",
        "    print (weights)\n",
        "    last_weight = str(sorted(weights)[-1])\n",
        "    if (match := re.search(r'_ep(\\d+)_(\\d+)\\.pt', last_weight)):\n",
        "        epoch = int(match.group(1))\n",
        "        best_acc = float('0.' + match.group(2))\n",
        "        return epoch, best_acc\n",
        "    return 0, 0.0\n",
        "\n",
        "def log_text(file_path, log):\n",
        "    if not log.endswith('\\n'):\n",
        "        log += '\\n'\n",
        "\n",
        "    print(log)\n",
        "    with open(file_path, 'a') as f:\n",
        "        f.write(log)\n",
        "\n",
        "def log_train_epoch(file_path, epoch, train_loss, train_accuracy):\n",
        "    log = f\"epoch: {epoch}, Train loss: {train_loss}, Train accuracy: {train_accuracy}\\n\"\n",
        "    log_text(file_path, log)\n",
        "\n",
        "def log_val_epoch(file_path, epoch, val_loss, val_acc):\n",
        "    log = f\"epoch: {epoch}, Val loss: {val_loss}, Val accuracy: {val_acc}\\n\"\n",
        "    log_text(file_path, log)\n",
        "\n",
        "\n",
        "def log_test_metrics(file_path, precision, recall, f1, accuracy, cm):\n",
        "    log = (f\"Precision: {precision}\\n\"\n",
        "           f\"Recall: {recall}\\n\"\n",
        "           f\"F1 score: {f1}\\n\"\n",
        "           f\"Accuracy: {accuracy}\\n\"\n",
        "           f\"Confusion Matrix:\\n{cm}\\n\")\n",
        "    log_text(file_path, log)\n",
        "\n",
        "def save_weights(model: CorrectionModel,\n",
        "                 weights_dir: Path,\n",
        "                 epoch: int,\n",
        "                 accuracy: float) -> None:\n",
        "    \"\"\"\n",
        "    Save weights with epoch number and accuracy\n",
        "\n",
        "    Args:\n",
        "        model (CorrectionModel): model instance\n",
        "        weights_dir (Path): path to store weight\n",
        "        epoch (int): epoch number\n",
        "        accuracy (float): accuracy\n",
        "    \"\"\"\n",
        "    acc = str(accuracy)[2:6]\n",
        "    save_path = f\"{common_path}/weights/weights_ep{epoch}_{acc}.pt\"\n",
        "    model.save(save_path)\n",
        "\n",
        "def log_target_test_metrics(file_path, target, precision, recall, f1):\n",
        "    log = (f\"{target}:\\n\"\n",
        "           f\"\\tPrecision: {round(precision, 4)}\\n\"\n",
        "           f\"\\tRecall: {round(recall, 4)}\\n\"\n",
        "           f\"\\tF1 score: {round(f1, 4)}\\n\")\n",
        "    log_text(file_path, log)"
      ],
      "metadata": {
        "id": "720XCm6SLdz-"
      },
      "execution_count": null,
      "outputs": []
    },
    {
      "cell_type": "code",
      "source": [],
      "metadata": {
        "id": "PhYXAbIDMneC"
      },
      "execution_count": null,
      "outputs": []
    },
    {
      "cell_type": "markdown",
      "source": [
        "#Метрики"
      ],
      "metadata": {
        "id": "xytMrL-oMEmk"
      }
    },
    {
      "cell_type": "code",
      "source": [
        "def calc_accuracy_metrics(model: nn.Module,\n",
        "                          loader: DataLoader\n",
        "                          ) -> Tuple[ndarray, ndarray, ndarray, float, ndarray]:\n",
        "    \"\"\"\n",
        "    Calculate different accuracy metrics\n",
        "\n",
        "    Args:\n",
        "        model (nn.Module): model instance\n",
        "        loader (DataLoader): data loader\n",
        "\n",
        "    Returns:\n",
        "        tuple[ndarray, ndarray, ndarray, float, ndarray]: precision, recall, \\\n",
        "            f1_score, accuracy, confusion_matrx\n",
        "    \"\"\"\n",
        "    num_iteration = 0\n",
        "    correct = 0\n",
        "    total = 0\n",
        "\n",
        "    model.eval()\n",
        "\n",
        "    # +1 for overall result\n",
        "    tp = np.zeros(1 + len(TARGETS), dtype=np.int64)\n",
        "    fp = np.zeros(1 + len(TARGETS), dtype=np.int64)\n",
        "    fn = np.zeros(1 + len(TARGETS), dtype=np.int64)\n",
        "    cm = np.zeros((len(TARGETS), len(TARGETS)), dtype=np.int64)\n",
        "\n",
        "    with torch.no_grad():\n",
        "        for x, y, att, y_mask in tqdm(loader, desc='test'):\n",
        "            x = x.to(DEVICE)\n",
        "            y = y.view(-1).to(DEVICE)\n",
        "            att = att.to(DEVICE)\n",
        "            y_mask = y_mask.view(-1).to(DEVICE)\n",
        "\n",
        "            y_predict = model(x, att)\n",
        "            y_predict = y_predict.view(-1, y_predict.shape[2])\n",
        "            y_predict = torch.argmax(y_predict, dim=1).view(-1)\n",
        "\n",
        "            num_iteration += 1\n",
        "            y_mask = y_mask.view(-1)\n",
        "            correct += int(torch.sum(y_mask * (y_predict == y).long()).item())\n",
        "            total += int(torch.sum(y_mask).item())\n",
        "            for i in range(y.shape[0]):\n",
        "                if y_mask[i] == 0:\n",
        "                    # we can ignore this because we know there won't be\n",
        "                    # any punctuation in this position since we created\n",
        "                    # this position due to padding or sub-word tokenization\n",
        "                    continue\n",
        "                cor = y[i]\n",
        "                prd = y_predict[i]\n",
        "                if cor == prd:\n",
        "                    tp[cor] += 1\n",
        "                else:\n",
        "                    fn[cor] += 1\n",
        "                    fp[prd] += 1\n",
        "                cm[cor][prd] += 1\n",
        "\n",
        "    # ignore first index which is for no punctuation\n",
        "    tp[-1] = np.sum(tp[1:])\n",
        "    fp[-1] = np.sum(fp[1:])\n",
        "    fn[-1] = np.sum(fn[1:])\n",
        "\n",
        "    precision = tp / (tp + fp)\n",
        "    recall = tp / (tp + fn)\n",
        "    f1 = 2 * precision * recall / (precision + recall)\n",
        "    accuracy = correct / total\n",
        "\n",
        "    return precision, recall, f1, accuracy, cm"
      ],
      "metadata": {
        "id": "XMRB74DjLF3W"
      },
      "execution_count": null,
      "outputs": []
    },
    {
      "cell_type": "markdown",
      "source": [
        "#Датасет"
      ],
      "metadata": {
        "id": "n1FDl49K53TR"
      }
    },
    {
      "cell_type": "code",
      "source": [
        "class BaseDataset(torch.utils.data.Dataset):\n",
        "    def __init__(self, files: Union[str, List[str]],\n",
        "                 tokenizer: PreTrainedTokenizer,\n",
        "                 targets: Dict[str, int],\n",
        "                 sequence_len: int,\n",
        "                 token_style: str) -> None:\n",
        "\n",
        "        if isinstance(files, list):\n",
        "            self.data = []\n",
        "            for file in files:\n",
        "                self.data += self._parse_data(file, tokenizer, targets, sequence_len, token_style)\n",
        "        else:\n",
        "            self.data = self._parse_data(files, tokenizer, targets, sequence_len, token_style)\n",
        "\n",
        "    @classmethod\n",
        "    def _parse_data(cls,\n",
        "                    file_path: str,\n",
        "                    tokenizer: PreTrainedTokenizer,\n",
        "                    targets: Dict[str, int],\n",
        "                    seq_len: int,\n",
        "                    token_style: str):\n",
        "        \"\"\"Parse file to train data\n",
        "\n",
        "        Args:\n",
        "            file_path (`str`): text file path that contains tokens and punctuations separated by tab in lines\n",
        "            tokenizer (`PreTrainedTokenizer`): tokenizer that will be used to further tokenize word for BERT like models\n",
        "            targets (`dict[str, int]`): dictionary of target: label\n",
        "            seq_len (`int`): maximum length of each sequence\n",
        "            token_style (`str`): For getting index of special tokens in pretrained.TOKEN_IDX\n",
        "\n",
        "        Returns:\n",
        "            list[Batch]: each having sequence_len punctuation_mask is used to ignore special indices like padding and intermediate sub-word token during evaluation\n",
        "        \"\"\"\n",
        "        with open(file_path, 'r', encoding='utf-8') as file:\n",
        "            x, y = [], []\n",
        "            for i, line in enumerate(file):\n",
        "                if (line := line.strip()):\n",
        "                    token = line.rsplit('\\t', 1)\n",
        "                    if len(token) == 2:\n",
        "                        x.append(token[0])\n",
        "                        target = targets[token[1]]\n",
        "                        y.append(target)\n",
        "                    else:\n",
        "                        continue\n",
        "\n",
        "        data = cls.parse_tokens(x, tokenizer, seq_len, token_style, y)\n",
        "        # cls._add_targets_to_data(y, data)\n",
        "        return data\n",
        "\n",
        "    @classmethod\n",
        "    def parse_tokens(cls,\n",
        "                     tokens: Union[List[str], Tuple[str]],\n",
        "                     tokenizer: PreTrainedTokenizer,\n",
        "                     seq_len: int,\n",
        "                     token_style: str,\n",
        "                     targets: Optional[List[int]] = None,\n",
        "                     debug: bool = True):\n",
        "        \"\"\"\n",
        "        Convert tokenized data for model prediction\n",
        "\n",
        "        Args:\n",
        "            tokens (`Union[list[str], tuple[str]]`): splited tokens\n",
        "            tokenizer (`PreTrainedTokenizer`): tokenizer which split tokens to subtokens\n",
        "            seq_len (`int`): sequence length\n",
        "            token_style (`str`): token_style from pretrained.TOKEN_IDX\n",
        "\n",
        "        Returns:\n",
        "            (`list[BatchWithoutTarget]`): list of bathces\n",
        "\n",
        "        ```txt\n",
        "        tokens    : [token  token  ##token  PAD ]\n",
        "             x    : [321    1233   23121    101 ]\n",
        "             y    : [tar    0      tar      0   ]\n",
        "        y_mask    : [1      0      1        0   ]\n",
        "        attn_mask : [1      1      1        0   ]\n",
        "        ```\n",
        "\n",
        "        \"\"\"\n",
        "        data_items = []\n",
        "        # loop until end of the entire text\n",
        "        idx = 0\n",
        "\n",
        "        if debug:\n",
        "            pbar = tqdm(total=len(tokens))\n",
        "\n",
        "        while idx < len(tokens):\n",
        "            x = [TOKEN_IDX[token_style]['START_SEQ']]\n",
        "            w_id = [-1]    # word indexes\n",
        "            y = [0]\n",
        "            y_mask = [1] if targets else [0]\n",
        "\n",
        "            # loop until we have required sequence length\n",
        "            # -1 because we will have a special end of sequence token at the end\n",
        "            while len(x) < seq_len - 1 and idx < len(tokens):\n",
        "                word_pieces = tokenizer.tokenize(tokens[idx])\n",
        "\n",
        "                # if taking these tokens exceeds sequence length we finish\n",
        "                # current sequence with padding\n",
        "                # then start next sequence from this token\n",
        "                if len(word_pieces) + len(x) >= seq_len:\n",
        "                    break\n",
        "                for i in range(len(word_pieces) - 1):\n",
        "                    x.append(tokenizer.convert_tokens_to_ids(word_pieces[i]))\n",
        "                    w_id.append(idx)\n",
        "                    y.append(0)\n",
        "                    y_mask.append(0)\n",
        "                if len(word_pieces) > 0:\n",
        "                    x.append(tokenizer.convert_tokens_to_ids(word_pieces[-1]))\n",
        "                else:\n",
        "                    x.append(TOKEN_IDX[token_style]['UNK'])\n",
        "\n",
        "                w_id.append(idx)\n",
        "\n",
        "                if targets:\n",
        "                    y.append(targets[idx])\n",
        "                else:\n",
        "                    y.append(0)\n",
        "\n",
        "                y_mask.append(1)\n",
        "\n",
        "                idx += 1\n",
        "                if debug:\n",
        "                    pbar.update(1)\n",
        "\n",
        "            x.append(TOKEN_IDX[token_style]['END_SEQ'])\n",
        "            w_id.append(-1)\n",
        "            y.append(0)\n",
        "            if targets:\n",
        "                y_mask.append(1)\n",
        "            else:\n",
        "                y_mask.append(0)\n",
        "\n",
        "            # Fill with pad tokens\n",
        "            if len(x) < seq_len:\n",
        "                x = x + [TOKEN_IDX[token_style]['PAD'] for _ in range(seq_len - len(x))]\n",
        "                w_id = w_id + [-100 for _ in range(seq_len - len(w_id))]\n",
        "                y = y + [0 for _ in range(seq_len - len(y))]\n",
        "                y_mask = y_mask + [0 for _ in range(seq_len - len(y_mask))]\n",
        "\n",
        "            attn_mask = [1 if token != TOKEN_IDX[token_style]['PAD'] else 0 for token in x]\n",
        "\n",
        "            data_items.append([x, w_id, attn_mask, y, y_mask])\n",
        "\n",
        "        if debug:\n",
        "            pbar.close()\n",
        "\n",
        "        return data_items\n",
        "\n",
        "    @classmethod\n",
        "    def _add_targets_to_data(cls,\n",
        "                             targets: List[int],\n",
        "                             data: List[List[List[int]]]) -> None:\n",
        "\n",
        "        targets = targets.copy()\n",
        "\n",
        "        for idx, batch in tqdm(enumerate(data), total=len(data)):\n",
        "            y = []\n",
        "            y_mask = []\n",
        "            word_ids = batch[1]\n",
        "            for i, w_id in enumerate(word_ids):\n",
        "                if w_id == -100:\n",
        "                    y.append(0)\n",
        "                    y_mask.append(0)\n",
        "                elif w_id == -1:\n",
        "                    y.append(0)\n",
        "                    y_mask.append(1)\n",
        "                elif w_id != word_ids[i + 1]:\n",
        "                    y.append(targets.pop(0))\n",
        "                    y_mask.append(1)\n",
        "                else:\n",
        "                    y.append(0)\n",
        "                    y_mask.append(0)\n",
        "\n",
        "            data[idx].extend([y, y_mask])\n",
        "\n",
        "    def __len__(self) -> int:\n",
        "        return len(self.data)\n",
        "\n",
        "    def __getitem__(self, index: int) -> Tuple[Tensor, Tensor, Tensor, Tensor]:\n",
        "        x = self.data[index][0]\n",
        "        attn_mask = self.data[index][2]\n",
        "        y = self.data[index][3]\n",
        "        y_mask = self.data[index][4]\n",
        "\n",
        "        x = torch.tensor(x)\n",
        "        attn_mask = torch.tensor(attn_mask)\n",
        "        y = torch.tensor(y)\n",
        "        y_mask = torch.tensor(y_mask)\n",
        "\n",
        "        return x, y, attn_mask, y_mask"
      ],
      "metadata": {
        "id": "LUwJAVVW5UIu"
      },
      "execution_count": null,
      "outputs": []
    },
    {
      "cell_type": "markdown",
      "source": [
        "# Код модели"
      ],
      "metadata": {
        "id": "SIqJn3MiWu40"
      }
    },
    {
      "cell_type": "code",
      "source": [
        "class RepunctDataset(BaseDataset):\n",
        "    def __init__(self,\n",
        "                 files: Union[str, List[str]],\n",
        "                 tokenizer: PreTrainedTokenizer,\n",
        "                 targets: Dict[str, int],\n",
        "                 sequence_len: int,\n",
        "                 token_style: str,\n",
        "                 is_train=False,\n",
        "                 augment_rate=0.,\n",
        "                 augment_type='substitute') -> None:\n",
        "        \"\"\"Preprocess data for restore punctuation\n",
        "\n",
        "        Args:\n",
        "            files (`Union[str, list[str]]`): single file or list of text files containing tokens and punctuations separated by tab in lines\n",
        "            tokenizer (`PreTrainedTokenizer`): tokenizer that will be used to further tokenize word for BERT like models\n",
        "            targets (`dict[str, int]`): dict with targets\n",
        "            sequence_len (`int`): length of each sequence\n",
        "            token_style (`str`): For getting index of special tokens in pretrained.TOKEN_IDX\n",
        "            is_train (`bool, optional`): if false do not apply augmentation. Defaults to False.\n",
        "            augment_rate (`float, optional`): percent of data which should be augmented. Defaults to 0.0.\n",
        "            augment_type (`str, optional`): augmentation type. Defaults to 'substitute'.\n",
        "        \"\"\"\n",
        "        super().__init__(files, tokenizer, targets, sequence_len, token_style)\n",
        "\n",
        "        self.sequence_len = sequence_len\n",
        "        self.token_style = token_style\n",
        "        self.is_train = is_train\n",
        "        self.augment_type = augment_type\n",
        "        self.augment_rate = augment_rate\n",
        "\n",
        "    # TODO: remove method\n",
        "    @classmethod\n",
        "    def _parse_data_old(cls,\n",
        "                        file_path: str,\n",
        "                        tokenizer: PreTrainedTokenizer,\n",
        "                        targets: Dict[str, int],\n",
        "                        seq_len: int,\n",
        "                        token_style: str):\n",
        "        \"\"\"Parse file to train data\n",
        "\n",
        "        Args:\n",
        "            file_path (`str`): text file path that contains tokens and punctuations separated by tab in lines\n",
        "            tokenizer (`PreTrainedTokenizer`): tokenizer that will be used to further tokenize word for BERT like models\n",
        "            targets (`dict[str, int]`): dictionary of target: label\n",
        "            seq_len (`int`): maximum length of each sequence\n",
        "            token_style (`str`): For getting index of special tokens in pretrained.TOKEN_IDX\n",
        "\n",
        "        Returns:\n",
        "            list[Batch]: each having sequence_len punctuation_mask is used to ignore special indices like padding and intermediate sub-word token during evaluation\n",
        "        \"\"\"\n",
        "        data_items = []\n",
        "        with open(file_path, 'r', encoding='utf-8') as f:\n",
        "            lines = [line for line in f.read().split('\\n') if line.strip()]\n",
        "            idx = 0\n",
        "            # loop until end of the entire text\n",
        "            while idx < len(lines):\n",
        "                x = [TOKEN_IDX[token_style]['START_SEQ']]\n",
        "                y = [0]\n",
        "                y_mask = [1]  # which positions we need to consider while evaluating i.e., ignore pad or sub tokens\n",
        "\n",
        "                # loop until we have required sequence length\n",
        "                # -1 because we will have a special end of sequence token at the end\n",
        "                while len(x) < seq_len - 1 and idx < len(lines):\n",
        "                    word, target = lines[idx].rsplit('\\t', 1)\n",
        "                    tokens = tokenizer.tokenize(word)\n",
        "\n",
        "                    # if taking these tokens exceeds sequence length we finish current sequence with padding\n",
        "                    # then start next sequence from this token\n",
        "                    if len(tokens) + len(x) >= seq_len:\n",
        "                        break\n",
        "                    else:\n",
        "                        for i in range(len(tokens) - 1):\n",
        "                            x.append(tokenizer.convert_tokens_to_ids(tokens[i]))\n",
        "                            y.append(0)\n",
        "                            y_mask.append(0)\n",
        "                        if len(tokens) > 0:\n",
        "                            x.append(tokenizer.convert_tokens_to_ids(tokens[-1]))\n",
        "                        else:\n",
        "                            x.append(TOKEN_IDX[token_style]['UNK'])\n",
        "                        y.append(targets[target])\n",
        "                        y_mask.append(1)\n",
        "                        idx += 1\n",
        "\n",
        "                x.append(TOKEN_IDX[token_style]['END_SEQ'])\n",
        "                y.append(0)\n",
        "                y_mask.append(1)\n",
        "\n",
        "                # Fill with pad tokens\n",
        "                if len(x) < seq_len:\n",
        "                    x = x + [TOKEN_IDX[token_style]['PAD'] for _ in range(seq_len - len(x))]\n",
        "                    y = y + [0 for _ in range(seq_len - len(y))]\n",
        "                    y_mask = y_mask + [0 for _ in range(seq_len - len(y_mask))]\n",
        "\n",
        "                attn_mask = [1 if token != TOKEN_IDX[token_style]['PAD'] else 0 for token in x]\n",
        "                data_items.append([x, y, attn_mask, y_mask])\n",
        "\n",
        "        return data_items\n",
        "\n",
        "    def _augment(self, x, y, y_mask):\n",
        "        x_aug = []\n",
        "        y_aug = []\n",
        "        y_mask_aug = []\n",
        "        for i in range(len(x)):\n",
        "            r = np.random.rand()\n",
        "            if r < self.augment_rate:\n",
        "                AUGMENTATIONS[self.augment_type](x, y, y_mask, x_aug, y_aug, y_mask_aug, i, self.token_style)\n",
        "            else:\n",
        "                x_aug.append(x[i])\n",
        "                y_aug.append(y[i])\n",
        "                y_mask_aug.append(y_mask[i])\n",
        "\n",
        "        if len(x_aug) > self.sequence_len:\n",
        "            # len increased due to insert\n",
        "            x_aug = x_aug[:self.sequence_len]\n",
        "            y_aug = y_aug[:self.sequence_len]\n",
        "            y_mask_aug = y_mask_aug[:self.sequence_len]\n",
        "        elif len(x_aug) < self.sequence_len:\n",
        "            # len decreased due to delete\n",
        "            x_aug = x_aug + [TOKEN_IDX[self.token_style]['PAD'] for _ in range(self.sequence_len - len(x_aug))]\n",
        "            y_aug = y_aug + [0 for _ in range(self.sequence_len - len(y_aug))]\n",
        "            y_mask_aug = y_mask_aug + [0 for _ in range(self.sequence_len - len(y_mask_aug))]\n",
        "\n",
        "        attn_mask = [1 if token != TOKEN_IDX[self.token_style]['PAD'] else 0 for token in x]\n",
        "        return x_aug, y_aug, attn_mask, y_mask_aug\n",
        "\n",
        "    def __getitem__(self, index: int) -> Tuple[Tensor, Tensor, Tensor, Tensor]:\n",
        "        x = self.data[index][0]\n",
        "        attn_mask = self.data[index][2]\n",
        "        y = self.data[index][3]\n",
        "        y_mask = self.data[index][4]\n",
        "\n",
        "        if self.is_train and self.augment_rate > 0:\n",
        "            x, y, attn_mask, y_mask = self._augment(x, y, y_mask)\n",
        "\n",
        "        x = torch.tensor(x)\n",
        "        attn_mask = torch.tensor(attn_mask)\n",
        "        y = torch.tensor(y)\n",
        "        y_mask = torch.tensor(y_mask)\n",
        "\n",
        "        return x, y, attn_mask, y_mask"
      ],
      "metadata": {
        "id": "BuCZX3Dl16Qi"
      },
      "execution_count": null,
      "outputs": []
    },
    {
      "cell_type": "code",
      "source": [],
      "metadata": {
        "id": "ELwG2NzO4xMj"
      },
      "execution_count": null,
      "outputs": []
    },
    {
      "cell_type": "markdown",
      "source": [
        "# Модель"
      ],
      "metadata": {
        "id": "IRjvMG-JQJGd"
      }
    },
    {
      "cell_type": "code",
      "source": [
        "all_punct = [\"'\", '\"',\n",
        "              \".\", \",\", \"!\", \"?\",\n",
        "              \"-\", \":\", \";\"]\n",
        "names_punct = [\n",
        "                'S_QUOTE', 'D_QUOTE',\n",
        "                'PERIOD', 'COMMA', 'EX_MARK', 'Q_MARK',\n",
        "                'DASH', 'COLUMN', 'SEMI_COL'\n",
        "                ]\n",
        "punctuation_marks = dict(zip(all_punct, names_punct))\n",
        "punctuation_marks[' '] = 'O'\n",
        "\n",
        "# targets for DeepPavlov/rubert-base-cased-sentence:\n",
        "# targets = {'O': 102, 'S_QUOTE': 118, 'D_QUOTE': 108, 'PERIOD': 132, 'COMMA': 128, 'EX_MARK': 106, 'Q_MARK': 166, 'DASH': 130, 'COLUMN': 156, 'SEMI_COL': 158}\n",
        "targets = {'O': 0, 'S_QUOTE': 1, 'D_QUOTE': 2, 'PERIOD': 3, 'COMMA': 4, 'EX_MARK': 5, 'Q_MARK': 6, 'DASH': 7, 'COLUMN': 8, 'SEMI_COL': 9}\n",
        "\n",
        "\n",
        "weights = [1.5] * len(targets)"
      ],
      "metadata": {
        "id": "7cDcxwXFHJ_f"
      },
      "execution_count": null,
      "outputs": []
    },
    {
      "cell_type": "code",
      "source": [
        "# MODEL\n",
        "print('Loading model...')\n",
        "\n",
        "# targets = {'O': 0, 'M': 1} # 'TARGETS'\n",
        "# weights = [1.5, 1.5] # weights for targets'\n",
        "lr = 5e-6\n",
        "decay = 0\n",
        "cuda = False\n",
        "resume = True\n",
        "fine_tune = True\n",
        "lstm_dim = -1\n",
        "pretrained_model = 'DeepPavlov/rubert-base-cased-sentence'\n",
        "freeze_pretrained = False\n",
        "model_save_path = f'{common_save_path}model_saved'\n",
        "alpha_sub = 0.40\n",
        "# probability of applying delete operation on tokens selected for augmentation\n",
        "alpha_del = 0.40\n",
        "tokenizer = None\n",
        "# substitution strategy: 'unk' -> replace with unknown tokens, 'rand' -> replace with random tokens from vocabulary\n",
        "sub_style = 'unk'\n",
        "\n",
        "labml_flag = False\n",
        "sequence_length = 256\n",
        "\n",
        "TARGETS = targets\n",
        "DEVICE = torch.device('cuda' if (cuda and torch.cuda.is_available()) else 'cpu')\n",
        "\n",
        "MODEL = CorrectionModel(pretrained_model,\n",
        "                        targets=TARGETS,\n",
        "                        freeze_pretrained=freeze_pretrained,\n",
        "                        lstm_dim=lstm_dim)\n",
        "\n",
        "\n",
        "MODEL.to(DEVICE)"
      ],
      "metadata": {
        "id": "JlpJX5ppQXHm",
        "colab": {
          "base_uri": "https://localhost:8080/"
        },
        "outputId": "69e9c723-045d-4e42-8f30-e5ba4695a9ac"
      },
      "execution_count": null,
      "outputs": [
        {
          "output_type": "stream",
          "name": "stdout",
          "text": [
            "Loading model...\n"
          ]
        },
        {
          "output_type": "execute_result",
          "data": {
            "text/plain": [
              "CorrectionModel(\n",
              "  (pretrained_transformer): BertModel(\n",
              "    (embeddings): BertEmbeddings(\n",
              "      (word_embeddings): Embedding(119547, 768, padding_idx=0)\n",
              "      (position_embeddings): Embedding(512, 768)\n",
              "      (token_type_embeddings): Embedding(2, 768)\n",
              "      (LayerNorm): LayerNorm((768,), eps=1e-12, elementwise_affine=True)\n",
              "      (dropout): Dropout(p=0.1, inplace=False)\n",
              "    )\n",
              "    (encoder): BertEncoder(\n",
              "      (layer): ModuleList(\n",
              "        (0-11): 12 x BertLayer(\n",
              "          (attention): BertAttention(\n",
              "            (self): BertSelfAttention(\n",
              "              (query): Linear(in_features=768, out_features=768, bias=True)\n",
              "              (key): Linear(in_features=768, out_features=768, bias=True)\n",
              "              (value): Linear(in_features=768, out_features=768, bias=True)\n",
              "              (dropout): Dropout(p=0.1, inplace=False)\n",
              "            )\n",
              "            (output): BertSelfOutput(\n",
              "              (dense): Linear(in_features=768, out_features=768, bias=True)\n",
              "              (LayerNorm): LayerNorm((768,), eps=1e-12, elementwise_affine=True)\n",
              "              (dropout): Dropout(p=0.1, inplace=False)\n",
              "            )\n",
              "          )\n",
              "          (intermediate): BertIntermediate(\n",
              "            (dense): Linear(in_features=768, out_features=3072, bias=True)\n",
              "            (intermediate_act_fn): GELUActivation()\n",
              "          )\n",
              "          (output): BertOutput(\n",
              "            (dense): Linear(in_features=3072, out_features=768, bias=True)\n",
              "            (LayerNorm): LayerNorm((768,), eps=1e-12, elementwise_affine=True)\n",
              "            (dropout): Dropout(p=0.1, inplace=False)\n",
              "          )\n",
              "        )\n",
              "      )\n",
              "    )\n",
              "    (pooler): BertPooler(\n",
              "      (dense): Linear(in_features=768, out_features=768, bias=True)\n",
              "      (activation): Tanh()\n",
              "    )\n",
              "  )\n",
              "  (lstm): LSTM(768, 768, bidirectional=True)\n",
              "  (linear): Linear(in_features=1536, out_features=10, bias=True)\n",
              ")"
            ]
          },
          "metadata": {},
          "execution_count": 15
        }
      ]
    },
    {
      "cell_type": "code",
      "source": [
        "WEIGHTS = torch.FloatTensor(np.array(weights)).to(DEVICE)\n",
        "CRITERION = nn.CrossEntropyLoss(weight=WEIGHTS)\n",
        "OPTIMIZER = torch.optim.Adam(MODEL.parameters(), lr=lr, weight_decay=decay)\n",
        "print('Model was loaded.')\n",
        "\n",
        "# TOKENIZER\n",
        "print('Loading tokenizer...')\n",
        "tokenizer = PRETRAINED_MODELS[pretrained_model][1].from_pretrained(pretrained_model)\n",
        "token_style = PRETRAINED_MODELS[pretrained_model][3]\n",
        "SEQ_LEN = sequence_length\n",
        "print('Tokenizer was loaded.')\n",
        "\n",
        "# CONFIG AUGMENTATION\n",
        "AUG_RATE = 0.\n",
        "AUG_TYPE = 'all'\n",
        "\n",
        "\n",
        "# DATASETS\n",
        "data_loader_params = {\n",
        "    'batch_size': 4,\n",
        "    'shuffle': True,\n",
        "    'num_workers': 1\n",
        "}"
      ],
      "metadata": {
        "id": "1U9lt46GJji0",
        "colab": {
          "base_uri": "https://localhost:8080/"
        },
        "outputId": "94e1d0ae-6985-4478-c101-a3d437f4dab3"
      },
      "execution_count": null,
      "outputs": [
        {
          "output_type": "stream",
          "name": "stdout",
          "text": [
            "Model was loaded.\n",
            "Loading tokenizer...\n",
            "Tokenizer was loaded.\n"
          ]
        }
      ]
    },
    {
      "cell_type": "code",
      "source": [
        "# file_paths = ['file1.txt', 'file2.txt', 'file3.txt']\n",
        "# file_paths = [os.path.join(files, file) for file in os.listdir(files)]:\n",
        "# 1734\n",
        "\n",
        "train_flist = []\n",
        "val_flist = []\n",
        "test_flist = []\n",
        "# r=root, d=directories, f = files\n",
        "for r, d, f in os.walk(f'{common_path}/literature_csv'):\n",
        "    i = 0\n",
        "    for file in f:\n",
        "        if i <= 1000:\n",
        "            if file.endswith(('.txt')):\n",
        "                train_flist.append(os.path.join(r, file))\n",
        "        elif 1000 < i <= 1300:\n",
        "            if file.endswith(('.txt')):\n",
        "                val_flist.append(os.path.join(r, file))\n",
        "        elif 1300 < i <= 1734:\n",
        "            if file.endswith(('.txt')):\n",
        "                test_flist.append(os.path.join(r, file))\n",
        "        i += 1\n",
        "print(test_flist)"
      ],
      "metadata": {
        "id": "TqWFkyZWfkV-",
        "colab": {
          "base_uri": "https://localhost:8080/"
        },
        "outputId": "42f06e2b-6321-41fc-c1d7-d16e2a31cbbe"
      },
      "execution_count": null,
      "outputs": [
        {
          "output_type": "stream",
          "name": "stdout",
          "text": [
            "['/content/drive/MyDrive/Data_punct/Datasets/literature_csv/000451.txt', '/content/drive/MyDrive/Data_punct/Datasets/literature_csv/000452.txt', '/content/drive/MyDrive/Data_punct/Datasets/literature_csv/000453.txt', '/content/drive/MyDrive/Data_punct/Datasets/literature_csv/000454.txt', '/content/drive/MyDrive/Data_punct/Datasets/literature_csv/000455.txt', '/content/drive/MyDrive/Data_punct/Datasets/literature_csv/000456.txt', '/content/drive/MyDrive/Data_punct/Datasets/literature_csv/000457.txt', '/content/drive/MyDrive/Data_punct/Datasets/literature_csv/000458.txt', '/content/drive/MyDrive/Data_punct/Datasets/literature_csv/000459.txt', '/content/drive/MyDrive/Data_punct/Datasets/literature_csv/000460.txt', '/content/drive/MyDrive/Data_punct/Datasets/literature_csv/000461.txt', '/content/drive/MyDrive/Data_punct/Datasets/literature_csv/000462.txt', '/content/drive/MyDrive/Data_punct/Datasets/literature_csv/000463.txt', '/content/drive/MyDrive/Data_punct/Datasets/literature_csv/000464.txt', '/content/drive/MyDrive/Data_punct/Datasets/literature_csv/000465.txt', '/content/drive/MyDrive/Data_punct/Datasets/literature_csv/000466.txt', '/content/drive/MyDrive/Data_punct/Datasets/literature_csv/000467.txt', '/content/drive/MyDrive/Data_punct/Datasets/literature_csv/000468.txt', '/content/drive/MyDrive/Data_punct/Datasets/literature_csv/000469.txt', '/content/drive/MyDrive/Data_punct/Datasets/literature_csv/000470.txt', '/content/drive/MyDrive/Data_punct/Datasets/literature_csv/000471.txt', '/content/drive/MyDrive/Data_punct/Datasets/literature_csv/000472.txt', '/content/drive/MyDrive/Data_punct/Datasets/literature_csv/000473.txt', '/content/drive/MyDrive/Data_punct/Datasets/literature_csv/000474.txt', '/content/drive/MyDrive/Data_punct/Datasets/literature_csv/000475.txt', '/content/drive/MyDrive/Data_punct/Datasets/literature_csv/000476.txt', '/content/drive/MyDrive/Data_punct/Datasets/literature_csv/000477.txt', '/content/drive/MyDrive/Data_punct/Datasets/literature_csv/000478.txt', '/content/drive/MyDrive/Data_punct/Datasets/literature_csv/000479.txt', '/content/drive/MyDrive/Data_punct/Datasets/literature_csv/000480.txt', '/content/drive/MyDrive/Data_punct/Datasets/literature_csv/000481.txt', '/content/drive/MyDrive/Data_punct/Datasets/literature_csv/000482.txt', '/content/drive/MyDrive/Data_punct/Datasets/literature_csv/000483.txt', '/content/drive/MyDrive/Data_punct/Datasets/literature_csv/000484.txt', '/content/drive/MyDrive/Data_punct/Datasets/literature_csv/000485.txt', '/content/drive/MyDrive/Data_punct/Datasets/literature_csv/000486.txt', '/content/drive/MyDrive/Data_punct/Datasets/literature_csv/000487.txt', '/content/drive/MyDrive/Data_punct/Datasets/literature_csv/000488.txt', '/content/drive/MyDrive/Data_punct/Datasets/literature_csv/000489.txt', '/content/drive/MyDrive/Data_punct/Datasets/literature_csv/000490.txt', '/content/drive/MyDrive/Data_punct/Datasets/literature_csv/000491.txt', '/content/drive/MyDrive/Data_punct/Datasets/literature_csv/000492.txt', '/content/drive/MyDrive/Data_punct/Datasets/literature_csv/000493.txt', '/content/drive/MyDrive/Data_punct/Datasets/literature_csv/000494.txt', '/content/drive/MyDrive/Data_punct/Datasets/literature_csv/000495.txt', '/content/drive/MyDrive/Data_punct/Datasets/literature_csv/000496.txt', '/content/drive/MyDrive/Data_punct/Datasets/literature_csv/000497.txt', '/content/drive/MyDrive/Data_punct/Datasets/literature_csv/000498.txt', '/content/drive/MyDrive/Data_punct/Datasets/literature_csv/000499.txt', '/content/drive/MyDrive/Data_punct/Datasets/literature_csv/000500.txt', '/content/drive/MyDrive/Data_punct/Datasets/literature_csv/000501.txt', '/content/drive/MyDrive/Data_punct/Datasets/literature_csv/000502.txt', '/content/drive/MyDrive/Data_punct/Datasets/literature_csv/000503.txt', '/content/drive/MyDrive/Data_punct/Datasets/literature_csv/000504.txt', '/content/drive/MyDrive/Data_punct/Datasets/literature_csv/000505.txt', '/content/drive/MyDrive/Data_punct/Datasets/literature_csv/000506.txt', '/content/drive/MyDrive/Data_punct/Datasets/literature_csv/000507.txt', '/content/drive/MyDrive/Data_punct/Datasets/literature_csv/000508.txt', '/content/drive/MyDrive/Data_punct/Datasets/literature_csv/000509.txt', '/content/drive/MyDrive/Data_punct/Datasets/literature_csv/000510.txt', '/content/drive/MyDrive/Data_punct/Datasets/literature_csv/000511.txt', '/content/drive/MyDrive/Data_punct/Datasets/literature_csv/000512.txt', '/content/drive/MyDrive/Data_punct/Datasets/literature_csv/000513.txt', '/content/drive/MyDrive/Data_punct/Datasets/literature_csv/000514.txt', '/content/drive/MyDrive/Data_punct/Datasets/literature_csv/000515.txt', '/content/drive/MyDrive/Data_punct/Datasets/literature_csv/000516.txt', '/content/drive/MyDrive/Data_punct/Datasets/literature_csv/000517.txt', '/content/drive/MyDrive/Data_punct/Datasets/literature_csv/000518.txt', '/content/drive/MyDrive/Data_punct/Datasets/literature_csv/000519.txt', '/content/drive/MyDrive/Data_punct/Datasets/literature_csv/000520.txt', '/content/drive/MyDrive/Data_punct/Datasets/literature_csv/000521.txt', '/content/drive/MyDrive/Data_punct/Datasets/literature_csv/000522.txt', '/content/drive/MyDrive/Data_punct/Datasets/literature_csv/000523.txt', '/content/drive/MyDrive/Data_punct/Datasets/literature_csv/000524.txt', '/content/drive/MyDrive/Data_punct/Datasets/literature_csv/000525.txt', '/content/drive/MyDrive/Data_punct/Datasets/literature_csv/000526.txt', '/content/drive/MyDrive/Data_punct/Datasets/literature_csv/000527.txt', '/content/drive/MyDrive/Data_punct/Datasets/literature_csv/000528.txt', '/content/drive/MyDrive/Data_punct/Datasets/literature_csv/000529.txt', '/content/drive/MyDrive/Data_punct/Datasets/literature_csv/000530.txt', '/content/drive/MyDrive/Data_punct/Datasets/literature_csv/000531.txt', '/content/drive/MyDrive/Data_punct/Datasets/literature_csv/000532.txt', '/content/drive/MyDrive/Data_punct/Datasets/literature_csv/000533.txt', '/content/drive/MyDrive/Data_punct/Datasets/literature_csv/000534.txt', '/content/drive/MyDrive/Data_punct/Datasets/literature_csv/000535.txt', '/content/drive/MyDrive/Data_punct/Datasets/literature_csv/000536.txt', '/content/drive/MyDrive/Data_punct/Datasets/literature_csv/000537.txt', '/content/drive/MyDrive/Data_punct/Datasets/literature_csv/000538.txt', '/content/drive/MyDrive/Data_punct/Datasets/literature_csv/000539.txt', '/content/drive/MyDrive/Data_punct/Datasets/literature_csv/000540.txt', '/content/drive/MyDrive/Data_punct/Datasets/literature_csv/000541.txt', '/content/drive/MyDrive/Data_punct/Datasets/literature_csv/000542.txt', '/content/drive/MyDrive/Data_punct/Datasets/literature_csv/000543.txt', '/content/drive/MyDrive/Data_punct/Datasets/literature_csv/000544.txt', '/content/drive/MyDrive/Data_punct/Datasets/literature_csv/000545.txt', '/content/drive/MyDrive/Data_punct/Datasets/literature_csv/000546.txt', '/content/drive/MyDrive/Data_punct/Datasets/literature_csv/000547.txt', '/content/drive/MyDrive/Data_punct/Datasets/literature_csv/000548.txt', '/content/drive/MyDrive/Data_punct/Datasets/literature_csv/000549.txt', '/content/drive/MyDrive/Data_punct/Datasets/literature_csv/000550.txt', '/content/drive/MyDrive/Data_punct/Datasets/literature_csv/000551.txt', '/content/drive/MyDrive/Data_punct/Datasets/literature_csv/000552.txt', '/content/drive/MyDrive/Data_punct/Datasets/literature_csv/000553.txt', '/content/drive/MyDrive/Data_punct/Datasets/literature_csv/000554.txt', '/content/drive/MyDrive/Data_punct/Datasets/literature_csv/000555.txt', '/content/drive/MyDrive/Data_punct/Datasets/literature_csv/000556.txt', '/content/drive/MyDrive/Data_punct/Datasets/literature_csv/000557.txt', '/content/drive/MyDrive/Data_punct/Datasets/literature_csv/000558.txt', '/content/drive/MyDrive/Data_punct/Datasets/literature_csv/000559.txt', '/content/drive/MyDrive/Data_punct/Datasets/literature_csv/000560.txt', '/content/drive/MyDrive/Data_punct/Datasets/literature_csv/000561.txt', '/content/drive/MyDrive/Data_punct/Datasets/literature_csv/000562.txt', '/content/drive/MyDrive/Data_punct/Datasets/literature_csv/000563.txt', '/content/drive/MyDrive/Data_punct/Datasets/literature_csv/000564.txt', '/content/drive/MyDrive/Data_punct/Datasets/literature_csv/000565.txt', '/content/drive/MyDrive/Data_punct/Datasets/literature_csv/000566.txt', '/content/drive/MyDrive/Data_punct/Datasets/literature_csv/000567.txt', '/content/drive/MyDrive/Data_punct/Datasets/literature_csv/000568.txt', '/content/drive/MyDrive/Data_punct/Datasets/literature_csv/000569.txt', '/content/drive/MyDrive/Data_punct/Datasets/literature_csv/000570.txt', '/content/drive/MyDrive/Data_punct/Datasets/literature_csv/000571.txt', '/content/drive/MyDrive/Data_punct/Datasets/literature_csv/000572.txt', '/content/drive/MyDrive/Data_punct/Datasets/literature_csv/000573.txt', '/content/drive/MyDrive/Data_punct/Datasets/literature_csv/000574.txt', '/content/drive/MyDrive/Data_punct/Datasets/literature_csv/000575.txt', '/content/drive/MyDrive/Data_punct/Datasets/literature_csv/000576.txt', '/content/drive/MyDrive/Data_punct/Datasets/literature_csv/000577.txt', '/content/drive/MyDrive/Data_punct/Datasets/literature_csv/000578.txt', '/content/drive/MyDrive/Data_punct/Datasets/literature_csv/000579.txt', '/content/drive/MyDrive/Data_punct/Datasets/literature_csv/000580.txt', '/content/drive/MyDrive/Data_punct/Datasets/literature_csv/000581.txt', '/content/drive/MyDrive/Data_punct/Datasets/literature_csv/000582.txt', '/content/drive/MyDrive/Data_punct/Datasets/literature_csv/000583.txt', '/content/drive/MyDrive/Data_punct/Datasets/literature_csv/000584.txt', '/content/drive/MyDrive/Data_punct/Datasets/literature_csv/000585.txt', '/content/drive/MyDrive/Data_punct/Datasets/literature_csv/000586.txt', '/content/drive/MyDrive/Data_punct/Datasets/literature_csv/000587.txt', '/content/drive/MyDrive/Data_punct/Datasets/literature_csv/000588.txt', '/content/drive/MyDrive/Data_punct/Datasets/literature_csv/000589.txt', '/content/drive/MyDrive/Data_punct/Datasets/literature_csv/000590.txt', '/content/drive/MyDrive/Data_punct/Datasets/literature_csv/000591.txt', '/content/drive/MyDrive/Data_punct/Datasets/literature_csv/000592.txt', '/content/drive/MyDrive/Data_punct/Datasets/literature_csv/000593.txt', '/content/drive/MyDrive/Data_punct/Datasets/literature_csv/000594.txt', '/content/drive/MyDrive/Data_punct/Datasets/literature_csv/000595.txt', '/content/drive/MyDrive/Data_punct/Datasets/literature_csv/000596.txt', '/content/drive/MyDrive/Data_punct/Datasets/literature_csv/000597.txt', '/content/drive/MyDrive/Data_punct/Datasets/literature_csv/000598.txt', '/content/drive/MyDrive/Data_punct/Datasets/literature_csv/000599.txt', '/content/drive/MyDrive/Data_punct/Datasets/literature_csv/000600.txt', '/content/drive/MyDrive/Data_punct/Datasets/literature_csv/000601.txt', '/content/drive/MyDrive/Data_punct/Datasets/literature_csv/000602.txt', '/content/drive/MyDrive/Data_punct/Datasets/literature_csv/000603.txt', '/content/drive/MyDrive/Data_punct/Datasets/literature_csv/000604.txt', '/content/drive/MyDrive/Data_punct/Datasets/literature_csv/000605.txt', '/content/drive/MyDrive/Data_punct/Datasets/literature_csv/000606.txt', '/content/drive/MyDrive/Data_punct/Datasets/literature_csv/000607.txt', '/content/drive/MyDrive/Data_punct/Datasets/literature_csv/000608.txt', '/content/drive/MyDrive/Data_punct/Datasets/literature_csv/000609.txt', '/content/drive/MyDrive/Data_punct/Datasets/literature_csv/000610.txt', '/content/drive/MyDrive/Data_punct/Datasets/literature_csv/000611.txt', '/content/drive/MyDrive/Data_punct/Datasets/literature_csv/000612.txt', '/content/drive/MyDrive/Data_punct/Datasets/literature_csv/000613.txt', '/content/drive/MyDrive/Data_punct/Datasets/literature_csv/000614.txt', '/content/drive/MyDrive/Data_punct/Datasets/literature_csv/000615.txt', '/content/drive/MyDrive/Data_punct/Datasets/literature_csv/000616.txt', '/content/drive/MyDrive/Data_punct/Datasets/literature_csv/000617.txt', '/content/drive/MyDrive/Data_punct/Datasets/literature_csv/000618.txt', '/content/drive/MyDrive/Data_punct/Datasets/literature_csv/000619.txt', '/content/drive/MyDrive/Data_punct/Datasets/literature_csv/000620.txt', '/content/drive/MyDrive/Data_punct/Datasets/literature_csv/000621.txt', '/content/drive/MyDrive/Data_punct/Datasets/literature_csv/000622.txt', '/content/drive/MyDrive/Data_punct/Datasets/literature_csv/000623.txt', '/content/drive/MyDrive/Data_punct/Datasets/literature_csv/000624.txt', '/content/drive/MyDrive/Data_punct/Datasets/literature_csv/000625.txt', '/content/drive/MyDrive/Data_punct/Datasets/literature_csv/000626.txt', '/content/drive/MyDrive/Data_punct/Datasets/literature_csv/000627.txt', '/content/drive/MyDrive/Data_punct/Datasets/literature_csv/000628.txt', '/content/drive/MyDrive/Data_punct/Datasets/literature_csv/000629.txt', '/content/drive/MyDrive/Data_punct/Datasets/literature_csv/000630.txt', '/content/drive/MyDrive/Data_punct/Datasets/literature_csv/000631.txt', '/content/drive/MyDrive/Data_punct/Datasets/literature_csv/000632.txt', '/content/drive/MyDrive/Data_punct/Datasets/literature_csv/000633.txt', '/content/drive/MyDrive/Data_punct/Datasets/literature_csv/000634.txt', '/content/drive/MyDrive/Data_punct/Datasets/literature_csv/000635.txt', '/content/drive/MyDrive/Data_punct/Datasets/literature_csv/000636.txt', '/content/drive/MyDrive/Data_punct/Datasets/literature_csv/000637.txt', '/content/drive/MyDrive/Data_punct/Datasets/literature_csv/000638.txt', '/content/drive/MyDrive/Data_punct/Datasets/literature_csv/000639.txt', '/content/drive/MyDrive/Data_punct/Datasets/literature_csv/000640.txt', '/content/drive/MyDrive/Data_punct/Datasets/literature_csv/000641.txt', '/content/drive/MyDrive/Data_punct/Datasets/literature_csv/000642.txt', '/content/drive/MyDrive/Data_punct/Datasets/literature_csv/000643.txt', '/content/drive/MyDrive/Data_punct/Datasets/literature_csv/000644.txt', '/content/drive/MyDrive/Data_punct/Datasets/literature_csv/000645.txt', '/content/drive/MyDrive/Data_punct/Datasets/literature_csv/000646.txt', '/content/drive/MyDrive/Data_punct/Datasets/literature_csv/000647.txt', '/content/drive/MyDrive/Data_punct/Datasets/literature_csv/000648.txt', '/content/drive/MyDrive/Data_punct/Datasets/literature_csv/000649.txt', '/content/drive/MyDrive/Data_punct/Datasets/literature_csv/000650.txt', '/content/drive/MyDrive/Data_punct/Datasets/literature_csv/000651.txt', '/content/drive/MyDrive/Data_punct/Datasets/literature_csv/000652.txt', '/content/drive/MyDrive/Data_punct/Datasets/literature_csv/000653.txt', '/content/drive/MyDrive/Data_punct/Datasets/literature_csv/000654.txt', '/content/drive/MyDrive/Data_punct/Datasets/literature_csv/000655.txt', '/content/drive/MyDrive/Data_punct/Datasets/literature_csv/000656.txt', '/content/drive/MyDrive/Data_punct/Datasets/literature_csv/000657.txt', '/content/drive/MyDrive/Data_punct/Datasets/literature_csv/000658.txt', '/content/drive/MyDrive/Data_punct/Datasets/literature_csv/000659.txt', '/content/drive/MyDrive/Data_punct/Datasets/literature_csv/000660.txt', '/content/drive/MyDrive/Data_punct/Datasets/literature_csv/000661.txt', '/content/drive/MyDrive/Data_punct/Datasets/literature_csv/000662.txt', '/content/drive/MyDrive/Data_punct/Datasets/literature_csv/000663.txt', '/content/drive/MyDrive/Data_punct/Datasets/literature_csv/000664.txt', '/content/drive/MyDrive/Data_punct/Datasets/literature_csv/000665.txt', '/content/drive/MyDrive/Data_punct/Datasets/literature_csv/000666.txt', '/content/drive/MyDrive/Data_punct/Datasets/literature_csv/000667.txt', '/content/drive/MyDrive/Data_punct/Datasets/literature_csv/000668.txt', '/content/drive/MyDrive/Data_punct/Datasets/literature_csv/000669.txt', '/content/drive/MyDrive/Data_punct/Datasets/literature_csv/000670.txt', '/content/drive/MyDrive/Data_punct/Datasets/literature_csv/000671.txt', '/content/drive/MyDrive/Data_punct/Datasets/literature_csv/000672.txt', '/content/drive/MyDrive/Data_punct/Datasets/literature_csv/000673.txt', '/content/drive/MyDrive/Data_punct/Datasets/literature_csv/000674.txt', '/content/drive/MyDrive/Data_punct/Datasets/literature_csv/000675.txt', '/content/drive/MyDrive/Data_punct/Datasets/literature_csv/000676.txt', '/content/drive/MyDrive/Data_punct/Datasets/literature_csv/000677.txt', '/content/drive/MyDrive/Data_punct/Datasets/literature_csv/000678.txt', '/content/drive/MyDrive/Data_punct/Datasets/literature_csv/000679.txt', '/content/drive/MyDrive/Data_punct/Datasets/literature_csv/000680.txt', '/content/drive/MyDrive/Data_punct/Datasets/literature_csv/000681.txt', '/content/drive/MyDrive/Data_punct/Datasets/literature_csv/000682.txt', '/content/drive/MyDrive/Data_punct/Datasets/literature_csv/000683.txt', '/content/drive/MyDrive/Data_punct/Datasets/literature_csv/000684.txt', '/content/drive/MyDrive/Data_punct/Datasets/literature_csv/000685.txt', '/content/drive/MyDrive/Data_punct/Datasets/literature_csv/000686.txt', '/content/drive/MyDrive/Data_punct/Datasets/literature_csv/000687.txt', '/content/drive/MyDrive/Data_punct/Datasets/literature_csv/000688.txt', '/content/drive/MyDrive/Data_punct/Datasets/literature_csv/000689.txt', '/content/drive/MyDrive/Data_punct/Datasets/literature_csv/000690.txt', '/content/drive/MyDrive/Data_punct/Datasets/literature_csv/000691.txt', '/content/drive/MyDrive/Data_punct/Datasets/literature_csv/000692.txt', '/content/drive/MyDrive/Data_punct/Datasets/literature_csv/000693.txt', '/content/drive/MyDrive/Data_punct/Datasets/literature_csv/000694.txt', '/content/drive/MyDrive/Data_punct/Datasets/literature_csv/000695.txt', '/content/drive/MyDrive/Data_punct/Datasets/literature_csv/000696.txt', '/content/drive/MyDrive/Data_punct/Datasets/literature_csv/000697.txt', '/content/drive/MyDrive/Data_punct/Datasets/literature_csv/000698.txt', '/content/drive/MyDrive/Data_punct/Datasets/literature_csv/000699.txt', '/content/drive/MyDrive/Data_punct/Datasets/literature_csv/000700.txt', '/content/drive/MyDrive/Data_punct/Datasets/literature_csv/000701.txt', '/content/drive/MyDrive/Data_punct/Datasets/literature_csv/000702.txt', '/content/drive/MyDrive/Data_punct/Datasets/literature_csv/000703.txt', '/content/drive/MyDrive/Data_punct/Datasets/literature_csv/000704.txt', '/content/drive/MyDrive/Data_punct/Datasets/literature_csv/000705.txt', '/content/drive/MyDrive/Data_punct/Datasets/literature_csv/000706.txt', '/content/drive/MyDrive/Data_punct/Datasets/literature_csv/000707.txt', '/content/drive/MyDrive/Data_punct/Datasets/literature_csv/000708.txt', '/content/drive/MyDrive/Data_punct/Datasets/literature_csv/000709.txt', '/content/drive/MyDrive/Data_punct/Datasets/literature_csv/000710.txt', '/content/drive/MyDrive/Data_punct/Datasets/literature_csv/000711.txt', '/content/drive/MyDrive/Data_punct/Datasets/literature_csv/000712.txt', '/content/drive/MyDrive/Data_punct/Datasets/literature_csv/000713.txt', '/content/drive/MyDrive/Data_punct/Datasets/literature_csv/000714.txt', '/content/drive/MyDrive/Data_punct/Datasets/literature_csv/000715.txt', '/content/drive/MyDrive/Data_punct/Datasets/literature_csv/000716.txt', '/content/drive/MyDrive/Data_punct/Datasets/literature_csv/000717.txt', '/content/drive/MyDrive/Data_punct/Datasets/literature_csv/000718.txt', '/content/drive/MyDrive/Data_punct/Datasets/literature_csv/000719.txt', '/content/drive/MyDrive/Data_punct/Datasets/literature_csv/000720.txt', '/content/drive/MyDrive/Data_punct/Datasets/literature_csv/000721.txt', '/content/drive/MyDrive/Data_punct/Datasets/literature_csv/000722.txt', '/content/drive/MyDrive/Data_punct/Datasets/literature_csv/000723.txt', '/content/drive/MyDrive/Data_punct/Datasets/literature_csv/000724.txt', '/content/drive/MyDrive/Data_punct/Datasets/literature_csv/000725.txt', '/content/drive/MyDrive/Data_punct/Datasets/literature_csv/000726.txt', '/content/drive/MyDrive/Data_punct/Datasets/literature_csv/000727.txt', '/content/drive/MyDrive/Data_punct/Datasets/literature_csv/000728.txt', '/content/drive/MyDrive/Data_punct/Datasets/literature_csv/000729.txt', '/content/drive/MyDrive/Data_punct/Datasets/literature_csv/000730.txt', '/content/drive/MyDrive/Data_punct/Datasets/literature_csv/000731.txt', '/content/drive/MyDrive/Data_punct/Datasets/literature_csv/000732.txt', '/content/drive/MyDrive/Data_punct/Datasets/literature_csv/000733.txt', '/content/drive/MyDrive/Data_punct/Datasets/literature_csv/000734.txt', '/content/drive/MyDrive/Data_punct/Datasets/literature_csv/000735.txt', '/content/drive/MyDrive/Data_punct/Datasets/literature_csv/000736.txt', '/content/drive/MyDrive/Data_punct/Datasets/literature_csv/000737.txt', '/content/drive/MyDrive/Data_punct/Datasets/literature_csv/000738.txt', '/content/drive/MyDrive/Data_punct/Datasets/literature_csv/000739.txt', '/content/drive/MyDrive/Data_punct/Datasets/literature_csv/000740.txt', '/content/drive/MyDrive/Data_punct/Datasets/literature_csv/000741.txt', '/content/drive/MyDrive/Data_punct/Datasets/literature_csv/000742.txt', '/content/drive/MyDrive/Data_punct/Datasets/literature_csv/000743.txt', '/content/drive/MyDrive/Data_punct/Datasets/literature_csv/000744.txt', '/content/drive/MyDrive/Data_punct/Datasets/literature_csv/000745.txt', '/content/drive/MyDrive/Data_punct/Datasets/literature_csv/000746.txt', '/content/drive/MyDrive/Data_punct/Datasets/literature_csv/000747.txt', '/content/drive/MyDrive/Data_punct/Datasets/literature_csv/000748.txt', '/content/drive/MyDrive/Data_punct/Datasets/literature_csv/000749.txt', '/content/drive/MyDrive/Data_punct/Datasets/literature_csv/000750.txt', '/content/drive/MyDrive/Data_punct/Datasets/literature_csv/000751.txt', '/content/drive/MyDrive/Data_punct/Datasets/literature_csv/000752.txt', '/content/drive/MyDrive/Data_punct/Datasets/literature_csv/000753.txt', '/content/drive/MyDrive/Data_punct/Datasets/literature_csv/000754.txt', '/content/drive/MyDrive/Data_punct/Datasets/literature_csv/000755.txt', '/content/drive/MyDrive/Data_punct/Datasets/literature_csv/000756.txt', '/content/drive/MyDrive/Data_punct/Datasets/literature_csv/000757.txt', '/content/drive/MyDrive/Data_punct/Datasets/literature_csv/000758.txt', '/content/drive/MyDrive/Data_punct/Datasets/literature_csv/000759.txt', '/content/drive/MyDrive/Data_punct/Datasets/literature_csv/000760.txt', '/content/drive/MyDrive/Data_punct/Datasets/literature_csv/000761.txt', '/content/drive/MyDrive/Data_punct/Datasets/literature_csv/000762.txt', '/content/drive/MyDrive/Data_punct/Datasets/literature_csv/000763.txt', '/content/drive/MyDrive/Data_punct/Datasets/literature_csv/000764.txt', '/content/drive/MyDrive/Data_punct/Datasets/literature_csv/000765.txt', '/content/drive/MyDrive/Data_punct/Datasets/literature_csv/000766.txt', '/content/drive/MyDrive/Data_punct/Datasets/literature_csv/000767.txt', '/content/drive/MyDrive/Data_punct/Datasets/literature_csv/000768.txt', '/content/drive/MyDrive/Data_punct/Datasets/literature_csv/000769.txt', '/content/drive/MyDrive/Data_punct/Datasets/literature_csv/000770.txt', '/content/drive/MyDrive/Data_punct/Datasets/literature_csv/000771.txt', '/content/drive/MyDrive/Data_punct/Datasets/literature_csv/000772.txt', '/content/drive/MyDrive/Data_punct/Datasets/literature_csv/000773.txt', '/content/drive/MyDrive/Data_punct/Datasets/literature_csv/000774.txt', '/content/drive/MyDrive/Data_punct/Datasets/literature_csv/000775.txt', '/content/drive/MyDrive/Data_punct/Datasets/literature_csv/000776.txt', '/content/drive/MyDrive/Data_punct/Datasets/literature_csv/000777.txt', '/content/drive/MyDrive/Data_punct/Datasets/literature_csv/000778.txt', '/content/drive/MyDrive/Data_punct/Datasets/literature_csv/000779.txt', '/content/drive/MyDrive/Data_punct/Datasets/literature_csv/000780.txt', '/content/drive/MyDrive/Data_punct/Datasets/literature_csv/000781.txt', '/content/drive/MyDrive/Data_punct/Datasets/literature_csv/000782.txt', '/content/drive/MyDrive/Data_punct/Datasets/literature_csv/000783.txt', '/content/drive/MyDrive/Data_punct/Datasets/literature_csv/000784.txt', '/content/drive/MyDrive/Data_punct/Datasets/literature_csv/000785.txt', '/content/drive/MyDrive/Data_punct/Datasets/literature_csv/000786.txt', '/content/drive/MyDrive/Data_punct/Datasets/literature_csv/000787.txt', '/content/drive/MyDrive/Data_punct/Datasets/literature_csv/000788.txt', '/content/drive/MyDrive/Data_punct/Datasets/literature_csv/000789.txt', '/content/drive/MyDrive/Data_punct/Datasets/literature_csv/000790.txt', '/content/drive/MyDrive/Data_punct/Datasets/literature_csv/000791.txt', '/content/drive/MyDrive/Data_punct/Datasets/literature_csv/000792.txt', '/content/drive/MyDrive/Data_punct/Datasets/literature_csv/000793.txt', '/content/drive/MyDrive/Data_punct/Datasets/literature_csv/000794.txt', '/content/drive/MyDrive/Data_punct/Datasets/literature_csv/000795.txt', '/content/drive/MyDrive/Data_punct/Datasets/literature_csv/000796.txt', '/content/drive/MyDrive/Data_punct/Datasets/literature_csv/000797.txt', '/content/drive/MyDrive/Data_punct/Datasets/literature_csv/000798.txt', '/content/drive/MyDrive/Data_punct/Datasets/literature_csv/000799.txt', '/content/drive/MyDrive/Data_punct/Datasets/literature_csv/000800.txt', '/content/drive/MyDrive/Data_punct/Datasets/literature_csv/000801.txt', '/content/drive/MyDrive/Data_punct/Datasets/literature_csv/000802.txt', '/content/drive/MyDrive/Data_punct/Datasets/literature_csv/000803.txt', '/content/drive/MyDrive/Data_punct/Datasets/literature_csv/000804.txt', '/content/drive/MyDrive/Data_punct/Datasets/literature_csv/000805.txt', '/content/drive/MyDrive/Data_punct/Datasets/literature_csv/000806.txt', '/content/drive/MyDrive/Data_punct/Datasets/literature_csv/000807.txt', '/content/drive/MyDrive/Data_punct/Datasets/literature_csv/000808.txt', '/content/drive/MyDrive/Data_punct/Datasets/literature_csv/000809.txt', '/content/drive/MyDrive/Data_punct/Datasets/literature_csv/000810.txt', '/content/drive/MyDrive/Data_punct/Datasets/literature_csv/000811.txt', '/content/drive/MyDrive/Data_punct/Datasets/literature_csv/000812.txt', '/content/drive/MyDrive/Data_punct/Datasets/literature_csv/000813.txt', '/content/drive/MyDrive/Data_punct/Datasets/literature_csv/000814.txt', '/content/drive/MyDrive/Data_punct/Datasets/literature_csv/000815.txt', '/content/drive/MyDrive/Data_punct/Datasets/literature_csv/000816.txt', '/content/drive/MyDrive/Data_punct/Datasets/literature_csv/000817.txt', '/content/drive/MyDrive/Data_punct/Datasets/literature_csv/000818.txt', '/content/drive/MyDrive/Data_punct/Datasets/literature_csv/000819.txt', '/content/drive/MyDrive/Data_punct/Datasets/literature_csv/000820.txt', '/content/drive/MyDrive/Data_punct/Datasets/literature_csv/000821.txt', '/content/drive/MyDrive/Data_punct/Datasets/literature_csv/000822.txt', '/content/drive/MyDrive/Data_punct/Datasets/literature_csv/000823.txt', '/content/drive/MyDrive/Data_punct/Datasets/literature_csv/000824.txt', '/content/drive/MyDrive/Data_punct/Datasets/literature_csv/000825.txt', '/content/drive/MyDrive/Data_punct/Datasets/literature_csv/000826.txt', '/content/drive/MyDrive/Data_punct/Datasets/literature_csv/000827.txt', '/content/drive/MyDrive/Data_punct/Datasets/literature_csv/000828.txt', '/content/drive/MyDrive/Data_punct/Datasets/literature_csv/000829.txt', '/content/drive/MyDrive/Data_punct/Datasets/literature_csv/000830.txt', '/content/drive/MyDrive/Data_punct/Datasets/literature_csv/000831.txt', '/content/drive/MyDrive/Data_punct/Datasets/literature_csv/000832.txt', '/content/drive/MyDrive/Data_punct/Datasets/literature_csv/000833.txt', '/content/drive/MyDrive/Data_punct/Datasets/literature_csv/000834.txt', '/content/drive/MyDrive/Data_punct/Datasets/literature_csv/000835.txt', '/content/drive/MyDrive/Data_punct/Datasets/literature_csv/000836.txt', '/content/drive/MyDrive/Data_punct/Datasets/literature_csv/000837.txt', '/content/drive/MyDrive/Data_punct/Datasets/literature_csv/000838.txt', '/content/drive/MyDrive/Data_punct/Datasets/literature_csv/000839.txt', '/content/drive/MyDrive/Data_punct/Datasets/literature_csv/000840.txt', '/content/drive/MyDrive/Data_punct/Datasets/literature_csv/000841.txt', '/content/drive/MyDrive/Data_punct/Datasets/literature_csv/000842.txt', '/content/drive/MyDrive/Data_punct/Datasets/literature_csv/000843.txt', '/content/drive/MyDrive/Data_punct/Datasets/literature_csv/000844.txt', '/content/drive/MyDrive/Data_punct/Datasets/literature_csv/000845.txt', '/content/drive/MyDrive/Data_punct/Datasets/literature_csv/000846.txt', '/content/drive/MyDrive/Data_punct/Datasets/literature_csv/000847.txt', '/content/drive/MyDrive/Data_punct/Datasets/literature_csv/000848.txt', '/content/drive/MyDrive/Data_punct/Datasets/literature_csv/000849.txt', '/content/drive/MyDrive/Data_punct/Datasets/literature_csv/000850.txt', '/content/drive/MyDrive/Data_punct/Datasets/literature_csv/000851.txt', '/content/drive/MyDrive/Data_punct/Datasets/literature_csv/000852.txt', '/content/drive/MyDrive/Data_punct/Datasets/literature_csv/000853.txt', '/content/drive/MyDrive/Data_punct/Datasets/literature_csv/000854.txt', '/content/drive/MyDrive/Data_punct/Datasets/literature_csv/000855.txt', '/content/drive/MyDrive/Data_punct/Datasets/literature_csv/000856.txt', '/content/drive/MyDrive/Data_punct/Datasets/literature_csv/000857.txt', '/content/drive/MyDrive/Data_punct/Datasets/literature_csv/000858.txt', '/content/drive/MyDrive/Data_punct/Datasets/literature_csv/000859.txt', '/content/drive/MyDrive/Data_punct/Datasets/literature_csv/000860.txt', '/content/drive/MyDrive/Data_punct/Datasets/literature_csv/000861.txt', '/content/drive/MyDrive/Data_punct/Datasets/literature_csv/000862.txt', '/content/drive/MyDrive/Data_punct/Datasets/literature_csv/000863.txt', '/content/drive/MyDrive/Data_punct/Datasets/literature_csv/000864.txt', '/content/drive/MyDrive/Data_punct/Datasets/literature_csv/000865.txt', '/content/drive/MyDrive/Data_punct/Datasets/literature_csv/000866.txt', '/content/drive/MyDrive/Data_punct/Datasets/literature_csv/000867.txt', '/content/drive/MyDrive/Data_punct/Datasets/literature_csv/000868.txt', '/content/drive/MyDrive/Data_punct/Datasets/literature_csv/000869.txt', '/content/drive/MyDrive/Data_punct/Datasets/literature_csv/000870.txt', '/content/drive/MyDrive/Data_punct/Datasets/literature_csv/000871.txt', '/content/drive/MyDrive/Data_punct/Datasets/literature_csv/000872.txt', '/content/drive/MyDrive/Data_punct/Datasets/literature_csv/000873.txt', '/content/drive/MyDrive/Data_punct/Datasets/literature_csv/000874.txt', '/content/drive/MyDrive/Data_punct/Datasets/literature_csv/000875.txt', '/content/drive/MyDrive/Data_punct/Datasets/literature_csv/000876.txt', '/content/drive/MyDrive/Data_punct/Datasets/literature_csv/000877.txt', '/content/drive/MyDrive/Data_punct/Datasets/literature_csv/000878.txt', '/content/drive/MyDrive/Data_punct/Datasets/literature_csv/000879.txt', '/content/drive/MyDrive/Data_punct/Datasets/literature_csv/000880.txt', '/content/drive/MyDrive/Data_punct/Datasets/literature_csv/000881.txt', '/content/drive/MyDrive/Data_punct/Datasets/literature_csv/000882.txt', '/content/drive/MyDrive/Data_punct/Datasets/literature_csv/000883.txt']\n"
          ]
        }
      ]
    },
    {
      "cell_type": "code",
      "source": [
        "print('Loading train data...')\n",
        "# f'{common_path}/train.txt'\n",
        "train_dataset = RepunctDataset(train_flist, tokenizer=tokenizer, targets=TARGETS,\n",
        "                               sequence_len=SEQ_LEN, token_style=token_style,\n",
        "                               is_train=True, augment_rate=AUG_RATE,\n",
        "                               augment_type=AUG_TYPE)\n",
        "train_loader = DataLoader(train_dataset, **data_loader_params)"
      ],
      "metadata": {
        "id": "3p-LPS_LJw_E",
        "colab": {
          "base_uri": "https://localhost:8080/"
        },
        "outputId": "301df14d-e789-4a7c-f9d7-b0a4a1db58b8"
      },
      "execution_count": null,
      "outputs": [
        {
          "output_type": "stream",
          "name": "stdout",
          "text": [
            "Loading train data...\n"
          ]
        },
        {
          "output_type": "stream",
          "name": "stderr",
          "text": [
            "100%|██████████| 437/437 [00:00<00:00, 16235.39it/s]\n",
            "100%|██████████| 305/305 [00:00<00:00, 23222.59it/s]\n",
            "100%|██████████| 138/138 [00:00<00:00, 22334.23it/s]\n",
            "100%|██████████| 141/141 [00:00<00:00, 19918.39it/s]\n",
            "100%|██████████| 436/436 [00:00<00:00, 24408.92it/s]\n",
            "100%|██████████| 466/466 [00:00<00:00, 21065.32it/s]\n",
            "100%|██████████| 340/340 [00:00<00:00, 22673.72it/s]\n",
            "100%|██████████| 481/481 [00:00<00:00, 21681.46it/s]\n",
            "100%|██████████| 277/277 [00:00<00:00, 20292.07it/s]\n",
            "100%|██████████| 182/182 [00:00<00:00, 20978.44it/s]\n",
            "100%|██████████| 435/435 [00:00<00:00, 22460.63it/s]\n",
            "100%|██████████| 465/465 [00:00<00:00, 23548.71it/s]\n",
            "100%|██████████| 212/212 [00:00<00:00, 22369.62it/s]\n",
            "100%|██████████| 118/118 [00:00<00:00, 18732.37it/s]\n",
            "100%|██████████| 417/417 [00:00<00:00, 13330.47it/s]\n",
            "100%|██████████| 155/155 [00:00<00:00, 18326.06it/s]\n",
            "100%|██████████| 873/873 [00:00<00:00, 20853.99it/s]\n",
            "100%|██████████| 228/228 [00:00<00:00, 18160.61it/s]\n",
            "100%|██████████| 122/122 [00:00<00:00, 21860.27it/s]\n",
            "100%|██████████| 144/144 [00:00<00:00, 18213.56it/s]\n",
            "100%|██████████| 154/154 [00:00<00:00, 20315.87it/s]\n",
            "100%|██████████| 263/263 [00:00<00:00, 21590.08it/s]\n",
            "100%|██████████| 140/140 [00:00<00:00, 21122.39it/s]\n",
            "100%|██████████| 287/287 [00:00<00:00, 19613.28it/s]\n",
            "100%|██████████| 436/436 [00:00<00:00, 23641.80it/s]\n",
            "100%|██████████| 296/296 [00:00<00:00, 21550.32it/s]\n",
            "100%|██████████| 324/324 [00:00<00:00, 21236.98it/s]\n",
            "100%|██████████| 159/159 [00:00<00:00, 20075.09it/s]\n",
            "100%|██████████| 395/395 [00:00<00:00, 20033.25it/s]\n",
            "100%|██████████| 231/231 [00:00<00:00, 23739.60it/s]\n",
            "100%|██████████| 413/413 [00:00<00:00, 23848.01it/s]\n",
            "100%|██████████| 323/323 [00:00<00:00, 21876.38it/s]\n",
            "100%|██████████| 478/478 [00:00<00:00, 23102.99it/s]\n",
            "100%|██████████| 272/272 [00:00<00:00, 20368.33it/s]\n",
            "100%|██████████| 377/377 [00:00<00:00, 22900.44it/s]\n",
            "100%|██████████| 215/215 [00:00<00:00, 21172.91it/s]\n",
            "100%|██████████| 204/204 [00:00<00:00, 20529.73it/s]\n",
            "100%|██████████| 102/102 [00:00<00:00, 16263.79it/s]\n",
            "100%|██████████| 374/374 [00:00<00:00, 22447.41it/s]\n",
            "100%|██████████| 444/444 [00:00<00:00, 22981.07it/s]\n",
            "100%|██████████| 149/149 [00:00<00:00, 18277.71it/s]\n",
            "100%|██████████| 258/258 [00:00<00:00, 22275.68it/s]\n",
            "100%|██████████| 299/299 [00:00<00:00, 20212.37it/s]\n",
            "100%|██████████| 121/121 [00:00<00:00, 21399.51it/s]\n",
            "100%|██████████| 503/503 [00:00<00:00, 24280.81it/s]\n",
            "100%|██████████| 649/649 [00:00<00:00, 22935.72it/s]\n",
            "100%|██████████| 624/624 [00:00<00:00, 23128.31it/s]\n",
            "100%|██████████| 211/211 [00:00<00:00, 22398.21it/s]\n",
            "100%|██████████| 247/247 [00:00<00:00, 24148.46it/s]\n",
            "100%|██████████| 170/170 [00:00<00:00, 21917.18it/s]\n",
            "100%|██████████| 171/171 [00:00<00:00, 22431.54it/s]\n",
            "100%|██████████| 135/135 [00:00<00:00, 20172.11it/s]\n",
            "100%|██████████| 379/379 [00:00<00:00, 21330.31it/s]\n",
            "100%|██████████| 279/279 [00:00<00:00, 20742.17it/s]\n",
            "100%|██████████| 922/922 [00:00<00:00, 24572.20it/s]\n",
            "100%|██████████| 438/438 [00:00<00:00, 23487.29it/s]\n",
            "100%|██████████| 762/762 [00:00<00:00, 24796.80it/s]\n",
            "100%|██████████| 730/730 [00:00<00:00, 24361.43it/s]\n",
            "100%|██████████| 434/434 [00:00<00:00, 23351.31it/s]\n",
            "100%|██████████| 194/194 [00:00<00:00, 20956.94it/s]\n",
            "100%|██████████| 530/530 [00:00<00:00, 23896.34it/s]\n",
            "100%|██████████| 587/587 [00:00<00:00, 24696.38it/s]\n",
            "100%|██████████| 482/482 [00:00<00:00, 22039.19it/s]\n",
            "100%|██████████| 423/423 [00:00<00:00, 22528.55it/s]\n",
            "100%|██████████| 455/455 [00:00<00:00, 24147.90it/s]\n",
            "100%|██████████| 309/309 [00:00<00:00, 23076.81it/s]\n",
            "100%|██████████| 422/422 [00:00<00:00, 22532.80it/s]\n",
            "100%|██████████| 91/91 [00:00<00:00, 17338.13it/s]\n",
            "100%|██████████| 203/203 [00:00<00:00, 21424.28it/s]\n",
            "100%|██████████| 89/89 [00:00<00:00, 19471.76it/s]\n",
            "100%|██████████| 181/181 [00:00<00:00, 22043.88it/s]\n",
            "100%|██████████| 176/176 [00:00<00:00, 23129.39it/s]\n",
            "100%|██████████| 223/223 [00:00<00:00, 23342.98it/s]\n",
            "100%|██████████| 251/251 [00:00<00:00, 23210.25it/s]\n",
            "100%|██████████| 269/269 [00:00<00:00, 23530.09it/s]\n",
            "100%|██████████| 147/147 [00:00<00:00, 21304.86it/s]\n",
            "100%|██████████| 430/430 [00:00<00:00, 24263.45it/s]\n",
            "100%|██████████| 799/799 [00:00<00:00, 24643.89it/s]\n",
            "100%|██████████| 470/470 [00:00<00:00, 23540.99it/s]\n",
            "100%|██████████| 131/131 [00:00<00:00, 19736.13it/s]\n",
            "100%|██████████| 397/397 [00:00<00:00, 23618.99it/s]\n",
            "100%|██████████| 228/228 [00:00<00:00, 21316.51it/s]\n",
            "100%|██████████| 137/137 [00:00<00:00, 18868.45it/s]\n",
            "100%|██████████| 130/130 [00:00<00:00, 21467.76it/s]\n",
            "100%|██████████| 171/171 [00:00<00:00, 21677.63it/s]\n",
            "100%|██████████| 150/150 [00:00<00:00, 21297.37it/s]\n",
            "100%|██████████| 149/149 [00:00<00:00, 21194.13it/s]\n",
            "100%|██████████| 350/350 [00:00<00:00, 22399.32it/s]\n",
            "100%|██████████| 675/675 [00:00<00:00, 23234.95it/s]\n",
            "100%|██████████| 225/225 [00:00<00:00, 21764.22it/s]\n",
            "100%|██████████| 98/98 [00:00<00:00, 20120.50it/s]\n",
            "100%|██████████| 200/200 [00:00<00:00, 20964.18it/s]\n",
            "100%|██████████| 356/356 [00:00<00:00, 21532.20it/s]\n",
            "100%|██████████| 134/134 [00:00<00:00, 19942.40it/s]\n",
            "100%|██████████| 257/257 [00:00<00:00, 23049.08it/s]\n",
            "100%|██████████| 474/474 [00:00<00:00, 22796.18it/s]\n",
            "100%|██████████| 249/249 [00:00<00:00, 22626.72it/s]\n",
            "100%|██████████| 344/344 [00:00<00:00, 23071.05it/s]\n",
            "100%|██████████| 240/240 [00:00<00:00, 22347.27it/s]\n",
            "100%|██████████| 159/159 [00:00<00:00, 20908.40it/s]\n",
            "100%|██████████| 103/103 [00:00<00:00, 18440.04it/s]\n",
            "100%|██████████| 147/147 [00:00<00:00, 20714.35it/s]\n",
            "100%|██████████| 165/165 [00:00<00:00, 20565.81it/s]\n",
            "100%|██████████| 208/208 [00:00<00:00, 22460.62it/s]\n",
            "100%|██████████| 135/135 [00:00<00:00, 19895.68it/s]\n",
            "100%|██████████| 128/128 [00:00<00:00, 20073.69it/s]\n",
            "100%|██████████| 162/162 [00:00<00:00, 20869.75it/s]\n",
            "100%|██████████| 139/139 [00:00<00:00, 20862.70it/s]\n",
            "100%|██████████| 127/127 [00:00<00:00, 19198.32it/s]\n",
            "100%|██████████| 206/206 [00:00<00:00, 21596.89it/s]\n",
            "100%|██████████| 114/114 [00:00<00:00, 20776.51it/s]\n",
            "100%|██████████| 174/174 [00:00<00:00, 21061.09it/s]\n",
            "100%|██████████| 145/145 [00:00<00:00, 19897.08it/s]\n",
            "100%|██████████| 145/145 [00:00<00:00, 21968.43it/s]\n",
            "100%|██████████| 247/247 [00:00<00:00, 21893.35it/s]\n",
            "100%|██████████| 155/155 [00:00<00:00, 20276.24it/s]\n",
            "100%|██████████| 316/316 [00:00<00:00, 22982.89it/s]\n",
            "100%|██████████| 468/468 [00:00<00:00, 24209.55it/s]\n",
            "100%|██████████| 171/171 [00:00<00:00, 23112.46it/s]\n",
            "100%|██████████| 144/144 [00:00<00:00, 14172.61it/s]\n",
            "100%|██████████| 149/149 [00:00<00:00, 19605.09it/s]\n",
            "100%|██████████| 350/350 [00:00<00:00, 23306.13it/s]\n",
            "100%|██████████| 910/910 [00:00<00:00, 23715.33it/s]\n",
            "100%|██████████| 272/272 [00:00<00:00, 22821.12it/s]\n",
            "100%|██████████| 708/708 [00:00<00:00, 21633.20it/s]\n",
            "100%|██████████| 111/111 [00:00<00:00, 15149.28it/s]\n",
            "100%|██████████| 129/129 [00:00<00:00, 20880.07it/s]\n",
            "100%|██████████| 128/128 [00:00<00:00, 24167.05it/s]\n",
            "100%|██████████| 258/258 [00:00<00:00, 24274.99it/s]\n",
            "100%|██████████| 172/172 [00:00<00:00, 18860.66it/s]\n",
            "100%|██████████| 134/134 [00:00<00:00, 20393.21it/s]\n",
            "100%|██████████| 257/257 [00:00<00:00, 23056.96it/s]\n",
            "100%|██████████| 474/474 [00:00<00:00, 24785.26it/s]\n",
            "100%|██████████| 249/249 [00:00<00:00, 22200.10it/s]\n",
            "100%|██████████| 344/344 [00:00<00:00, 24344.75it/s]\n",
            "100%|██████████| 240/240 [00:00<00:00, 23544.22it/s]\n",
            "100%|██████████| 134/134 [00:00<00:00, 17781.47it/s]\n",
            "100%|██████████| 257/257 [00:00<00:00, 22903.62it/s]\n",
            "100%|██████████| 106/106 [00:00<00:00, 20996.28it/s]\n",
            "100%|██████████| 88/88 [00:00<00:00, 19317.46it/s]\n",
            "100%|██████████| 105/105 [00:00<00:00, 19579.51it/s]\n",
            "100%|██████████| 113/113 [00:00<00:00, 19220.42it/s]\n",
            "100%|██████████| 116/116 [00:00<00:00, 16794.01it/s]\n",
            "100%|██████████| 119/119 [00:00<00:00, 20437.40it/s]\n",
            "100%|██████████| 565/565 [00:00<00:00, 23360.26it/s]\n",
            "100%|██████████| 157/157 [00:00<00:00, 20215.69it/s]\n",
            "100%|██████████| 128/128 [00:00<00:00, 21963.30it/s]\n",
            "100%|██████████| 104/104 [00:00<00:00, 19299.51it/s]\n",
            "100%|██████████| 181/181 [00:00<00:00, 19817.51it/s]\n",
            "100%|██████████| 874/874 [00:00<00:00, 21180.05it/s]\n",
            "100%|██████████| 255/255 [00:00<00:00, 21938.09it/s]\n",
            "100%|██████████| 180/180 [00:00<00:00, 21355.93it/s]\n",
            "100%|██████████| 138/138 [00:00<00:00, 20783.27it/s]\n",
            "100%|██████████| 244/244 [00:00<00:00, 20713.03it/s]\n",
            "100%|██████████| 265/265 [00:00<00:00, 22175.70it/s]\n",
            "100%|██████████| 153/153 [00:00<00:00, 22747.46it/s]\n",
            "100%|██████████| 120/120 [00:00<00:00, 18661.39it/s]\n",
            "100%|██████████| 272/272 [00:00<00:00, 22469.63it/s]\n",
            "100%|██████████| 1226/1226 [00:00<00:00, 23300.95it/s]\n",
            "100%|██████████| 265/265 [00:00<00:00, 23877.35it/s]\n",
            "100%|██████████| 257/257 [00:00<00:00, 22604.40it/s]\n",
            "100%|██████████| 576/576 [00:00<00:00, 23712.22it/s]\n",
            "100%|██████████| 269/269 [00:00<00:00, 22599.71it/s]\n",
            "100%|██████████| 188/188 [00:00<00:00, 20992.74it/s]\n",
            "100%|██████████| 129/129 [00:00<00:00, 20333.92it/s]\n",
            "100%|██████████| 420/420 [00:00<00:00, 14994.32it/s]\n",
            "100%|██████████| 516/516 [00:00<00:00, 20905.08it/s]\n",
            "100%|██████████| 258/258 [00:00<00:00, 21952.13it/s]\n",
            "100%|██████████| 689/689 [00:00<00:00, 23204.77it/s]\n",
            "100%|██████████| 560/560 [00:00<00:00, 24054.10it/s]\n",
            "100%|██████████| 536/536 [00:00<00:00, 24339.81it/s]\n",
            "100%|██████████| 501/501 [00:00<00:00, 22413.17it/s]\n",
            "100%|██████████| 368/368 [00:00<00:00, 21636.49it/s]\n",
            "100%|██████████| 234/234 [00:00<00:00, 16098.60it/s]\n",
            "100%|██████████| 351/351 [00:00<00:00, 23099.50it/s]\n",
            "100%|██████████| 683/683 [00:00<00:00, 21753.93it/s]\n",
            "100%|██████████| 202/202 [00:00<00:00, 17903.17it/s]\n",
            "100%|██████████| 395/395 [00:00<00:00, 21921.06it/s]\n",
            "100%|██████████| 125/125 [00:00<00:00, 21296.94it/s]\n",
            "100%|██████████| 260/260 [00:00<00:00, 21826.97it/s]\n",
            "100%|██████████| 299/299 [00:00<00:00, 22169.72it/s]\n",
            "100%|██████████| 319/319 [00:00<00:00, 21477.49it/s]\n",
            "100%|██████████| 431/431 [00:00<00:00, 22954.62it/s]\n",
            "100%|██████████| 140/140 [00:00<00:00, 12540.10it/s]\n",
            "100%|██████████| 287/287 [00:00<00:00, 13508.91it/s]\n",
            "100%|██████████| 296/296 [00:00<00:00, 17817.62it/s]\n",
            "100%|██████████| 324/324 [00:00<00:00, 22722.71it/s]\n",
            "100%|██████████| 159/159 [00:00<00:00, 20144.21it/s]\n",
            "100%|██████████| 123/123 [00:00<00:00, 19213.41it/s]\n",
            "100%|██████████| 464/464 [00:00<00:00, 24378.16it/s]\n",
            "100%|██████████| 798/798 [00:00<00:00, 16822.50it/s]\n",
            "100%|██████████| 791/791 [00:00<00:00, 22927.77it/s]\n",
            "100%|██████████| 461/461 [00:00<00:00, 15916.16it/s]\n",
            "100%|██████████| 550/550 [00:00<00:00, 19926.64it/s]\n",
            "100%|██████████| 263/263 [00:00<00:00, 14397.05it/s]\n",
            "100%|██████████| 142/142 [00:00<00:00, 20500.16it/s]\n",
            "100%|██████████| 174/174 [00:00<00:00, 19573.79it/s]\n",
            "100%|██████████| 92/92 [00:00<00:00, 17582.17it/s]\n",
            "100%|██████████| 175/175 [00:00<00:00, 19466.48it/s]\n",
            "100%|██████████| 812/812 [00:00<00:00, 23698.94it/s]\n",
            "100%|██████████| 586/586 [00:00<00:00, 17488.45it/s]\n",
            "100%|██████████| 424/424 [00:00<00:00, 21998.28it/s]\n",
            "100%|██████████| 1234/1234 [00:00<00:00, 24155.60it/s]\n",
            "100%|██████████| 391/391 [00:00<00:00, 21516.31it/s]\n",
            "100%|██████████| 1023/1023 [00:00<00:00, 19028.07it/s]\n",
            "100%|██████████| 297/297 [00:00<00:00, 20985.65it/s]\n",
            "100%|██████████| 190/190 [00:00<00:00, 18396.07it/s]\n",
            "100%|██████████| 104/104 [00:00<00:00, 19794.33it/s]\n",
            "100%|██████████| 237/237 [00:00<00:00, 15692.14it/s]\n",
            "100%|██████████| 244/244 [00:00<00:00, 14502.67it/s]\n",
            "100%|██████████| 1773/1773 [00:00<00:00, 23825.24it/s]\n",
            "100%|██████████| 299/299 [00:00<00:00, 20233.24it/s]\n",
            "100%|██████████| 180/180 [00:00<00:00, 20636.18it/s]\n",
            "100%|██████████| 395/395 [00:00<00:00, 22036.53it/s]\n",
            "100%|██████████| 125/125 [00:00<00:00, 15591.74it/s]\n",
            "100%|██████████| 260/260 [00:00<00:00, 21628.27it/s]\n",
            "100%|██████████| 299/299 [00:00<00:00, 21471.69it/s]\n",
            "100%|██████████| 319/319 [00:00<00:00, 19829.61it/s]\n",
            "100%|██████████| 431/431 [00:00<00:00, 21712.05it/s]\n",
            "100%|██████████| 298/298 [00:00<00:00, 22854.73it/s]\n",
            "100%|██████████| 129/129 [00:00<00:00, 13132.65it/s]\n",
            "100%|██████████| 186/186 [00:00<00:00, 20344.77it/s]\n",
            "100%|██████████| 136/136 [00:00<00:00, 18595.17it/s]\n",
            "100%|██████████| 327/327 [00:00<00:00, 21698.45it/s]\n",
            "100%|██████████| 211/211 [00:00<00:00, 22309.57it/s]\n",
            "100%|██████████| 169/169 [00:00<00:00, 18276.54it/s]\n",
            "100%|██████████| 242/242 [00:00<00:00, 21934.08it/s]\n",
            "100%|██████████| 373/373 [00:00<00:00, 22628.30it/s]\n",
            "100%|██████████| 126/126 [00:00<00:00, 19580.67it/s]\n",
            "100%|██████████| 508/508 [00:00<00:00, 21824.30it/s]\n",
            "100%|██████████| 241/241 [00:00<00:00, 20644.30it/s]\n",
            "100%|██████████| 198/198 [00:00<00:00, 20165.41it/s]\n",
            "100%|██████████| 225/225 [00:00<00:00, 19852.71it/s]\n",
            "100%|██████████| 211/211 [00:00<00:00, 20525.98it/s]\n",
            "100%|██████████| 116/116 [00:00<00:00, 19962.22it/s]\n",
            "100%|██████████| 105/105 [00:00<00:00, 17654.21it/s]\n",
            "100%|██████████| 137/137 [00:00<00:00, 19746.38it/s]\n",
            "100%|██████████| 381/381 [00:00<00:00, 22285.86it/s]\n",
            "100%|██████████| 266/266 [00:00<00:00, 21587.08it/s]\n",
            "100%|██████████| 367/367 [00:00<00:00, 21764.72it/s]\n",
            "100%|██████████| 264/264 [00:00<00:00, 21533.93it/s]\n",
            "100%|██████████| 294/294 [00:00<00:00, 21496.88it/s]\n",
            "100%|██████████| 819/819 [00:00<00:00, 22011.77it/s]\n",
            "100%|██████████| 318/318 [00:00<00:00, 19919.48it/s]\n",
            "100%|██████████| 286/286 [00:00<00:00, 19752.85it/s]\n",
            "100%|██████████| 406/406 [00:00<00:00, 22350.54it/s]\n",
            "100%|██████████| 483/483 [00:00<00:00, 21610.67it/s]\n",
            "100%|██████████| 528/528 [00:00<00:00, 22719.59it/s]\n",
            "100%|██████████| 261/261 [00:00<00:00, 13023.62it/s]\n",
            "100%|██████████| 215/215 [00:00<00:00, 18988.34it/s]\n",
            "100%|██████████| 205/205 [00:00<00:00, 19221.00it/s]\n",
            "100%|██████████| 428/428 [00:00<00:00, 20910.45it/s]\n",
            "100%|██████████| 233/233 [00:00<00:00, 20037.99it/s]\n",
            "100%|██████████| 179/179 [00:00<00:00, 16894.25it/s]\n",
            "100%|██████████| 206/206 [00:00<00:00, 20015.91it/s]\n",
            "100%|██████████| 165/165 [00:00<00:00, 13277.44it/s]\n",
            "100%|██████████| 431/431 [00:00<00:00, 20812.41it/s]\n",
            "100%|██████████| 253/253 [00:00<00:00, 20685.76it/s]\n",
            "100%|██████████| 161/161 [00:00<00:00, 18442.29it/s]\n",
            "100%|██████████| 177/177 [00:00<00:00, 17814.70it/s]\n",
            "100%|██████████| 263/263 [00:00<00:00, 20590.25it/s]\n",
            "100%|██████████| 289/289 [00:00<00:00, 20044.21it/s]\n",
            "100%|██████████| 330/330 [00:00<00:00, 22803.39it/s]\n",
            "100%|██████████| 463/463 [00:00<00:00, 23219.22it/s]\n",
            "100%|██████████| 143/143 [00:00<00:00, 13057.27it/s]\n",
            "100%|██████████| 455/455 [00:00<00:00, 20103.53it/s]\n",
            "100%|██████████| 250/250 [00:00<00:00, 22823.91it/s]\n",
            "100%|██████████| 205/205 [00:00<00:00, 20419.21it/s]\n",
            "100%|██████████| 140/140 [00:00<00:00, 22277.12it/s]\n",
            "100%|██████████| 135/135 [00:00<00:00, 23081.32it/s]\n",
            "100%|██████████| 197/197 [00:00<00:00, 14125.86it/s]\n",
            "100%|██████████| 369/369 [00:00<00:00, 16326.79it/s]\n",
            "100%|██████████| 272/272 [00:00<00:00, 21659.12it/s]\n",
            "100%|██████████| 527/527 [00:00<00:00, 14119.08it/s]\n",
            "100%|██████████| 252/252 [00:00<00:00, 22133.07it/s]\n",
            "100%|██████████| 207/207 [00:00<00:00, 20282.22it/s]\n",
            "100%|██████████| 145/145 [00:00<00:00, 13282.68it/s]\n",
            "100%|██████████| 123/123 [00:00<00:00, 14340.90it/s]\n",
            "100%|██████████| 345/345 [00:00<00:00, 14004.02it/s]\n",
            "100%|██████████| 264/264 [00:00<00:00, 23788.27it/s]\n",
            "100%|██████████| 114/114 [00:00<00:00, 19545.07it/s]\n",
            "100%|██████████| 154/154 [00:00<00:00, 21041.89it/s]\n",
            "100%|██████████| 111/111 [00:00<00:00, 18146.54it/s]\n",
            "100%|██████████| 104/104 [00:00<00:00, 14696.53it/s]\n",
            "100%|██████████| 299/299 [00:00<00:00, 19973.19it/s]\n",
            "100%|██████████| 264/264 [00:00<00:00, 21364.83it/s]\n",
            "100%|██████████| 235/235 [00:00<00:00, 20863.21it/s]\n",
            "100%|██████████| 332/332 [00:00<00:00, 22048.72it/s]\n",
            "100%|██████████| 110/110 [00:00<00:00, 19524.08it/s]\n",
            "100%|██████████| 564/564 [00:00<00:00, 22493.63it/s]\n",
            "100%|██████████| 355/355 [00:00<00:00, 21553.46it/s]\n",
            "100%|██████████| 264/264 [00:00<00:00, 21332.72it/s]\n",
            "100%|██████████| 166/166 [00:00<00:00, 19850.45it/s]\n",
            "100%|██████████| 312/312 [00:00<00:00, 20421.39it/s]\n",
            "100%|██████████| 179/179 [00:00<00:00, 19506.87it/s]\n",
            "100%|██████████| 316/316 [00:00<00:00, 20378.86it/s]\n",
            "100%|██████████| 219/219 [00:00<00:00, 18686.48it/s]\n",
            "100%|██████████| 145/145 [00:00<00:00, 19521.54it/s]\n",
            "100%|██████████| 106/106 [00:00<00:00, 17201.08it/s]\n",
            "100%|██████████| 191/191 [00:00<00:00, 21414.38it/s]\n",
            "100%|██████████| 176/176 [00:00<00:00, 20808.36it/s]\n",
            "100%|██████████| 147/147 [00:00<00:00, 19212.95it/s]\n",
            "100%|██████████| 561/561 [00:00<00:00, 22298.50it/s]\n",
            "100%|██████████| 100/100 [00:00<00:00, 17173.58it/s]\n",
            "100%|██████████| 215/215 [00:00<00:00, 19774.47it/s]\n",
            "100%|██████████| 191/191 [00:00<00:00, 22384.31it/s]\n",
            "100%|██████████| 128/128 [00:00<00:00, 19137.74it/s]\n",
            "100%|██████████| 110/110 [00:00<00:00, 18309.20it/s]\n",
            "100%|██████████| 137/137 [00:00<00:00, 18658.91it/s]\n",
            "100%|██████████| 634/634 [00:00<00:00, 20797.82it/s]\n",
            "100%|██████████| 254/254 [00:00<00:00, 12380.34it/s]\n",
            "100%|██████████| 134/134 [00:00<00:00, 13286.61it/s]\n",
            "100%|██████████| 431/431 [00:00<00:00, 23045.63it/s]\n",
            "100%|██████████| 253/253 [00:00<00:00, 20746.02it/s]\n",
            "100%|██████████| 161/161 [00:00<00:00, 20434.63it/s]\n",
            "100%|██████████| 326/326 [00:00<00:00, 21783.39it/s]\n",
            "100%|██████████| 252/252 [00:00<00:00, 21449.02it/s]\n",
            "100%|██████████| 207/207 [00:00<00:00, 20309.26it/s]\n",
            "100%|██████████| 278/278 [00:00<00:00, 19966.38it/s]\n",
            "100%|██████████| 568/568 [00:00<00:00, 22721.21it/s]\n",
            "100%|██████████| 150/150 [00:00<00:00, 20285.86it/s]\n",
            "100%|██████████| 133/133 [00:00<00:00, 17928.98it/s]\n",
            "100%|██████████| 275/275 [00:00<00:00, 22601.72it/s]\n",
            "100%|██████████| 214/214 [00:00<00:00, 21071.96it/s]\n",
            "100%|██████████| 445/445 [00:00<00:00, 22269.93it/s]\n",
            "100%|██████████| 383/383 [00:00<00:00, 21073.59it/s]\n",
            "100%|██████████| 216/216 [00:00<00:00, 14265.44it/s]\n",
            "100%|██████████| 183/183 [00:00<00:00, 20050.09it/s]\n",
            "100%|██████████| 255/255 [00:00<00:00, 21511.85it/s]\n",
            "100%|██████████| 136/136 [00:00<00:00, 17431.94it/s]\n",
            "100%|██████████| 112/112 [00:00<00:00, 17273.20it/s]\n",
            "100%|██████████| 183/183 [00:00<00:00, 20389.91it/s]\n",
            "100%|██████████| 244/244 [00:00<00:00, 21056.09it/s]\n",
            "100%|██████████| 201/201 [00:00<00:00, 19598.18it/s]\n",
            "100%|██████████| 87/87 [00:00<00:00, 17465.39it/s]\n",
            "100%|██████████| 125/125 [00:00<00:00, 20046.95it/s]\n",
            "100%|██████████| 133/133 [00:00<00:00, 18647.58it/s]\n",
            "100%|██████████| 118/118 [00:00<00:00, 18410.44it/s]\n",
            "100%|██████████| 297/297 [00:00<00:00, 21712.45it/s]\n",
            "100%|██████████| 97/97 [00:00<00:00, 18103.03it/s]\n",
            "100%|██████████| 269/269 [00:00<00:00, 21981.53it/s]\n",
            "100%|██████████| 82/82 [00:00<00:00, 16528.88it/s]\n",
            "100%|██████████| 175/175 [00:00<00:00, 19973.42it/s]\n",
            "100%|██████████| 106/106 [00:00<00:00, 19538.40it/s]\n",
            "100%|██████████| 145/145 [00:00<00:00, 15412.42it/s]\n",
            "100%|██████████| 159/159 [00:00<00:00, 19263.27it/s]\n",
            "100%|██████████| 149/149 [00:00<00:00, 17377.62it/s]\n",
            "100%|██████████| 87/87 [00:00<00:00, 15328.90it/s]\n",
            "100%|██████████| 209/209 [00:00<00:00, 20506.93it/s]\n",
            "100%|██████████| 205/205 [00:00<00:00, 11555.80it/s]\n",
            "100%|██████████| 333/333 [00:00<00:00, 15064.64it/s]\n",
            "100%|██████████| 217/217 [00:00<00:00, 15265.06it/s]\n",
            "100%|██████████| 345/345 [00:00<00:00, 14916.96it/s]\n",
            "100%|██████████| 157/157 [00:00<00:00, 15721.76it/s]\n",
            "100%|██████████| 160/160 [00:00<00:00, 14944.63it/s]\n",
            "100%|██████████| 485/485 [00:00<00:00, 14152.40it/s]\n",
            "100%|██████████| 486/486 [00:00<00:00, 18966.92it/s]\n",
            "100%|██████████| 395/395 [00:00<00:00, 19529.32it/s]\n",
            "100%|██████████| 166/166 [00:00<00:00, 20749.03it/s]\n",
            "100%|██████████| 87/87 [00:00<00:00, 15908.29it/s]\n",
            "100%|██████████| 314/314 [00:00<00:00, 14959.07it/s]\n",
            "100%|██████████| 320/320 [00:00<00:00, 19327.75it/s]\n",
            "100%|██████████| 397/397 [00:00<00:00, 20379.39it/s]\n",
            "100%|██████████| 368/368 [00:00<00:00, 21028.95it/s]\n",
            "100%|██████████| 227/227 [00:00<00:00, 17938.22it/s]\n",
            "100%|██████████| 769/769 [00:00<00:00, 21779.54it/s]\n",
            "100%|██████████| 244/244 [00:00<00:00, 21259.04it/s]\n",
            "100%|██████████| 107/107 [00:00<00:00, 17562.44it/s]\n",
            "100%|██████████| 268/268 [00:00<00:00, 21278.79it/s]\n",
            "100%|██████████| 228/228 [00:00<00:00, 21333.63it/s]\n",
            "100%|██████████| 236/236 [00:00<00:00, 21875.27it/s]\n",
            "100%|██████████| 302/302 [00:00<00:00, 21109.92it/s]\n",
            "100%|██████████| 161/161 [00:00<00:00, 17789.33it/s]\n",
            "100%|██████████| 417/417 [00:00<00:00, 22318.95it/s]\n",
            "100%|██████████| 145/145 [00:00<00:00, 19441.66it/s]\n",
            "100%|██████████| 458/458 [00:00<00:00, 20134.70it/s]\n",
            "100%|██████████| 145/145 [00:00<00:00, 19216.22it/s]\n",
            "100%|██████████| 423/423 [00:00<00:00, 22528.26it/s]\n",
            "100%|██████████| 115/115 [00:00<00:00, 16650.38it/s]\n",
            "100%|██████████| 595/595 [00:00<00:00, 22297.77it/s]\n",
            "100%|██████████| 476/476 [00:00<00:00, 20602.96it/s]\n",
            "100%|██████████| 163/163 [00:00<00:00, 18938.27it/s]\n",
            "100%|██████████| 208/208 [00:00<00:00, 21130.51it/s]\n",
            "100%|██████████| 247/247 [00:00<00:00, 15136.36it/s]\n",
            "100%|██████████| 188/188 [00:00<00:00, 14860.24it/s]\n",
            "100%|██████████| 307/307 [00:00<00:00, 10289.36it/s]\n",
            "100%|██████████| 363/363 [00:00<00:00, 15096.25it/s]\n",
            "100%|██████████| 473/473 [00:00<00:00, 15128.50it/s]\n",
            "100%|██████████| 93/93 [00:00<00:00, 13625.01it/s]\n",
            "100%|██████████| 233/233 [00:00<00:00, 13702.46it/s]\n",
            "100%|██████████| 164/164 [00:00<00:00, 20017.05it/s]\n",
            "100%|██████████| 211/211 [00:00<00:00, 24356.63it/s]\n",
            "100%|██████████| 577/577 [00:00<00:00, 23170.51it/s]\n",
            "100%|██████████| 711/711 [00:00<00:00, 20491.09it/s]\n",
            "100%|██████████| 564/564 [00:00<00:00, 20494.94it/s]\n",
            "100%|██████████| 228/228 [00:00<00:00, 21428.76it/s]\n",
            "100%|██████████| 154/154 [00:00<00:00, 17938.31it/s]\n",
            "100%|██████████| 137/137 [00:00<00:00, 18899.48it/s]\n",
            "100%|██████████| 130/130 [00:00<00:00, 17781.75it/s]\n",
            "100%|██████████| 550/550 [00:00<00:00, 21834.99it/s]\n",
            "100%|██████████| 248/248 [00:00<00:00, 20518.14it/s]\n",
            "100%|██████████| 634/634 [00:00<00:00, 23223.14it/s]\n",
            "100%|██████████| 439/439 [00:00<00:00, 22959.70it/s]\n",
            "100%|██████████| 209/209 [00:00<00:00, 21381.76it/s]\n",
            "100%|██████████| 139/139 [00:00<00:00, 19582.44it/s]\n",
            "100%|██████████| 119/119 [00:00<00:00, 17456.71it/s]\n",
            "100%|██████████| 119/119 [00:00<00:00, 21407.77it/s]\n",
            "100%|██████████| 454/454 [00:00<00:00, 20454.74it/s]\n",
            "100%|██████████| 128/128 [00:00<00:00, 19766.24it/s]\n",
            "100%|██████████| 459/459 [00:00<00:00, 22389.52it/s]\n",
            "100%|██████████| 638/638 [00:00<00:00, 23072.25it/s]\n",
            "100%|██████████| 421/421 [00:00<00:00, 19591.29it/s]\n",
            "100%|██████████| 223/223 [00:00<00:00, 21891.86it/s]\n",
            "100%|██████████| 361/361 [00:00<00:00, 19767.66it/s]\n",
            "100%|██████████| 135/135 [00:00<00:00, 20867.95it/s]\n",
            "100%|██████████| 158/158 [00:00<00:00, 20447.39it/s]\n",
            "100%|██████████| 235/235 [00:00<00:00, 21791.24it/s]\n",
            "100%|██████████| 332/332 [00:00<00:00, 22594.66it/s]\n",
            "100%|██████████| 142/142 [00:00<00:00, 14396.34it/s]\n",
            "100%|██████████| 413/413 [00:00<00:00, 21154.38it/s]\n",
            "100%|██████████| 203/203 [00:00<00:00, 14650.01it/s]\n",
            "100%|██████████| 682/682 [00:00<00:00, 16301.83it/s]\n",
            "100%|██████████| 252/252 [00:00<00:00, 14682.92it/s]\n",
            "100%|██████████| 523/523 [00:00<00:00, 21523.81it/s]\n",
            "100%|██████████| 239/239 [00:00<00:00, 21688.89it/s]\n",
            "100%|██████████| 852/852 [00:00<00:00, 21744.71it/s]\n",
            "100%|██████████| 230/230 [00:00<00:00, 18963.46it/s]\n",
            "100%|██████████| 168/168 [00:00<00:00, 18549.58it/s]\n",
            "100%|██████████| 154/154 [00:00<00:00, 21269.15it/s]\n",
            "100%|██████████| 130/130 [00:00<00:00, 19409.09it/s]\n",
            "100%|██████████| 267/267 [00:00<00:00, 21900.87it/s]\n",
            "100%|██████████| 251/251 [00:00<00:00, 19863.97it/s]\n",
            "100%|██████████| 354/354 [00:00<00:00, 22499.79it/s]\n",
            "100%|██████████| 221/221 [00:00<00:00, 21994.62it/s]\n",
            "100%|██████████| 387/387 [00:00<00:00, 21286.70it/s]\n",
            "100%|██████████| 341/341 [00:00<00:00, 20655.93it/s]\n",
            "100%|██████████| 259/259 [00:00<00:00, 21941.96it/s]\n",
            "100%|██████████| 259/259 [00:00<00:00, 21580.61it/s]\n",
            "100%|██████████| 851/851 [00:00<00:00, 24391.82it/s]\n",
            "100%|██████████| 899/899 [00:00<00:00, 23602.00it/s]\n",
            "100%|██████████| 160/160 [00:00<00:00, 19980.61it/s]\n",
            "100%|██████████| 314/314 [00:00<00:00, 22334.34it/s]\n",
            "100%|██████████| 320/320 [00:00<00:00, 22100.00it/s]\n",
            "100%|██████████| 397/397 [00:00<00:00, 20899.14it/s]\n",
            "100%|██████████| 269/269 [00:00<00:00, 21438.14it/s]\n",
            "100%|██████████| 210/210 [00:00<00:00, 18401.07it/s]\n",
            "100%|██████████| 365/365 [00:00<00:00, 23810.89it/s]\n",
            "100%|██████████| 189/189 [00:00<00:00, 20090.82it/s]\n",
            "100%|██████████| 432/432 [00:00<00:00, 23061.47it/s]\n",
            "100%|██████████| 279/279 [00:00<00:00, 22848.99it/s]\n",
            "100%|██████████| 421/421 [00:00<00:00, 23591.52it/s]\n",
            "100%|██████████| 104/104 [00:00<00:00, 18113.43it/s]\n",
            "100%|██████████| 204/204 [00:00<00:00, 19775.76it/s]\n",
            "100%|██████████| 212/212 [00:00<00:00, 18422.37it/s]\n",
            "100%|██████████| 313/313 [00:00<00:00, 19254.04it/s]\n",
            "100%|██████████| 402/402 [00:00<00:00, 17066.58it/s]\n",
            "100%|██████████| 132/132 [00:00<00:00, 15143.13it/s]\n",
            "100%|██████████| 686/686 [00:00<00:00, 20559.87it/s]\n",
            "100%|██████████| 219/219 [00:00<00:00, 18268.38it/s]\n",
            "100%|██████████| 311/311 [00:00<00:00, 20314.40it/s]\n",
            "100%|██████████| 151/151 [00:00<00:00, 17782.45it/s]\n",
            "100%|██████████| 126/126 [00:00<00:00, 16829.57it/s]\n",
            "100%|██████████| 179/179 [00:00<00:00, 17152.07it/s]\n",
            "100%|██████████| 148/148 [00:00<00:00, 16614.22it/s]\n",
            "100%|██████████| 222/222 [00:00<00:00, 19119.04it/s]\n",
            "100%|██████████| 160/160 [00:00<00:00, 22062.22it/s]\n",
            "100%|██████████| 196/196 [00:00<00:00, 19561.77it/s]\n",
            "100%|██████████| 381/381 [00:00<00:00, 21023.67it/s]\n",
            "100%|██████████| 305/305 [00:00<00:00, 22253.85it/s]\n",
            "100%|██████████| 220/220 [00:00<00:00, 21896.65it/s]\n",
            "100%|██████████| 252/252 [00:00<00:00, 22635.50it/s]\n",
            "100%|██████████| 338/338 [00:00<00:00, 22635.35it/s]\n",
            "100%|██████████| 421/421 [00:00<00:00, 22564.72it/s]\n",
            "100%|██████████| 148/148 [00:00<00:00, 20499.88it/s]\n",
            "100%|██████████| 200/200 [00:00<00:00, 20066.04it/s]\n",
            "100%|██████████| 907/907 [00:00<00:00, 23081.14it/s]\n",
            "100%|██████████| 730/730 [00:00<00:00, 20780.23it/s]\n",
            "100%|██████████| 257/257 [00:00<00:00, 18201.62it/s]\n",
            "100%|██████████| 301/301 [00:00<00:00, 19930.62it/s]\n",
            "100%|██████████| 302/302 [00:00<00:00, 18978.75it/s]\n",
            "100%|██████████| 166/166 [00:00<00:00, 18874.82it/s]\n",
            "100%|██████████| 245/245 [00:00<00:00, 18152.03it/s]\n",
            "100%|██████████| 111/111 [00:00<00:00, 17954.79it/s]\n",
            "100%|██████████| 256/256 [00:00<00:00, 18080.42it/s]\n",
            "100%|██████████| 222/222 [00:00<00:00, 19170.21it/s]\n",
            "100%|██████████| 326/326 [00:00<00:00, 20751.28it/s]\n",
            "100%|██████████| 290/290 [00:00<00:00, 20742.99it/s]\n",
            "100%|██████████| 272/272 [00:00<00:00, 20172.77it/s]\n",
            "100%|██████████| 298/298 [00:00<00:00, 22920.95it/s]\n",
            "100%|██████████| 156/156 [00:00<00:00, 20360.70it/s]\n",
            "100%|██████████| 300/300 [00:00<00:00, 22403.87it/s]\n",
            "100%|██████████| 101/101 [00:00<00:00, 17575.60it/s]\n",
            "100%|██████████| 221/221 [00:00<00:00, 19077.57it/s]\n",
            "100%|██████████| 225/225 [00:00<00:00, 20163.20it/s]\n",
            "100%|██████████| 255/255 [00:00<00:00, 20804.27it/s]\n",
            "100%|██████████| 160/160 [00:00<00:00, 19286.93it/s]\n",
            "100%|██████████| 99/99 [00:00<00:00, 21136.99it/s]\n",
            "100%|██████████| 180/180 [00:00<00:00, 20987.84it/s]\n",
            "100%|██████████| 164/164 [00:00<00:00, 18854.94it/s]\n",
            "100%|██████████| 144/144 [00:00<00:00, 19276.16it/s]\n",
            "100%|██████████| 93/93 [00:00<00:00, 15908.90it/s]\n",
            "100%|██████████| 181/181 [00:00<00:00, 18192.84it/s]\n",
            "100%|██████████| 337/337 [00:00<00:00, 19138.85it/s]\n",
            "100%|██████████| 206/206 [00:00<00:00, 21806.74it/s]\n",
            "100%|██████████| 100/100 [00:00<00:00, 11979.96it/s]\n",
            "100%|██████████| 284/284 [00:00<00:00, 20791.06it/s]\n",
            "100%|██████████| 368/368 [00:00<00:00, 22541.79it/s]\n",
            "100%|██████████| 137/137 [00:00<00:00, 20679.44it/s]\n",
            "100%|██████████| 323/323 [00:00<00:00, 20393.49it/s]\n",
            "100%|██████████| 340/340 [00:00<00:00, 21476.53it/s]\n",
            "100%|██████████| 707/707 [00:00<00:00, 22728.74it/s]\n",
            "100%|██████████| 729/729 [00:00<00:00, 23213.94it/s]\n",
            "100%|██████████| 284/284 [00:00<00:00, 22781.18it/s]\n",
            "100%|██████████| 346/346 [00:00<00:00, 20426.90it/s]\n",
            "100%|██████████| 147/147 [00:00<00:00, 18633.46it/s]\n",
            "100%|██████████| 655/655 [00:00<00:00, 21795.07it/s]\n",
            "100%|██████████| 186/186 [00:00<00:00, 17485.28it/s]\n",
            "100%|██████████| 304/304 [00:00<00:00, 21005.72it/s]\n",
            "100%|██████████| 274/274 [00:00<00:00, 21472.68it/s]\n",
            "100%|██████████| 339/339 [00:00<00:00, 22503.27it/s]\n",
            "100%|██████████| 364/364 [00:00<00:00, 23587.17it/s]\n",
            "100%|██████████| 194/194 [00:00<00:00, 18509.47it/s]\n",
            "100%|██████████| 217/217 [00:00<00:00, 22081.18it/s]\n",
            "100%|██████████| 132/132 [00:00<00:00, 18746.13it/s]\n",
            "100%|██████████| 127/127 [00:00<00:00, 14846.06it/s]\n",
            "100%|██████████| 99/99 [00:00<00:00, 14033.94it/s]\n",
            "100%|██████████| 117/117 [00:00<00:00, 19369.02it/s]\n",
            "100%|██████████| 162/162 [00:00<00:00, 20709.46it/s]\n",
            "100%|██████████| 97/97 [00:00<00:00, 18652.46it/s]\n",
            "100%|██████████| 193/193 [00:00<00:00, 16807.17it/s]\n",
            "100%|██████████| 228/228 [00:00<00:00, 19760.33it/s]\n",
            "100%|██████████| 108/108 [00:00<00:00, 17225.07it/s]\n",
            "100%|██████████| 154/154 [00:00<00:00, 18323.53it/s]\n",
            "100%|██████████| 232/232 [00:00<00:00, 22179.94it/s]\n",
            "100%|██████████| 93/93 [00:00<00:00, 16852.60it/s]\n",
            "100%|██████████| 119/119 [00:00<00:00, 14383.51it/s]\n",
            "100%|██████████| 120/120 [00:00<00:00, 17319.91it/s]\n",
            "100%|██████████| 197/197 [00:00<00:00, 21731.57it/s]\n",
            "100%|██████████| 93/93 [00:00<00:00, 17315.68it/s]\n",
            "100%|██████████| 280/280 [00:00<00:00, 21581.19it/s]\n",
            "100%|██████████| 86/86 [00:00<00:00, 17471.19it/s]\n",
            "100%|██████████| 112/112 [00:00<00:00, 18794.24it/s]\n",
            "100%|██████████| 119/119 [00:00<00:00, 16004.17it/s]\n",
            "100%|██████████| 117/117 [00:00<00:00, 18110.92it/s]\n",
            "100%|██████████| 144/144 [00:00<00:00, 16798.68it/s]\n",
            "100%|██████████| 150/150 [00:00<00:00, 17871.42it/s]\n",
            "100%|██████████| 181/181 [00:00<00:00, 20027.67it/s]\n",
            "100%|██████████| 104/104 [00:00<00:00, 15008.00it/s]\n",
            "100%|██████████| 258/258 [00:00<00:00, 22967.85it/s]\n",
            "100%|██████████| 216/216 [00:00<00:00, 21110.30it/s]\n",
            "100%|██████████| 239/239 [00:00<00:00, 21542.53it/s]\n",
            "100%|██████████| 158/158 [00:00<00:00, 18523.59it/s]\n",
            "100%|██████████| 194/194 [00:00<00:00, 17881.05it/s]\n",
            "100%|██████████| 261/261 [00:00<00:00, 19000.82it/s]\n",
            "100%|██████████| 229/229 [00:00<00:00, 21749.37it/s]\n",
            "100%|██████████| 214/214 [00:00<00:00, 18692.60it/s]\n",
            "100%|██████████| 267/267 [00:00<00:00, 21561.02it/s]\n",
            "100%|██████████| 261/261 [00:00<00:00, 22030.86it/s]\n",
            "100%|██████████| 222/222 [00:00<00:00, 18875.64it/s]\n",
            "100%|██████████| 181/181 [00:00<00:00, 19311.38it/s]\n",
            "100%|██████████| 113/113 [00:00<00:00, 18307.96it/s]\n",
            "100%|██████████| 168/168 [00:00<00:00, 20105.09it/s]\n",
            "100%|██████████| 186/186 [00:00<00:00, 18401.28it/s]\n",
            "100%|██████████| 186/186 [00:00<00:00, 12533.38it/s]\n",
            "100%|██████████| 279/279 [00:00<00:00, 22436.31it/s]\n",
            "100%|██████████| 137/137 [00:00<00:00, 18579.27it/s]\n",
            "100%|██████████| 125/125 [00:00<00:00, 19025.58it/s]\n",
            "100%|██████████| 173/173 [00:00<00:00, 20431.79it/s]\n",
            "100%|██████████| 160/160 [00:00<00:00, 19021.79it/s]\n",
            "100%|██████████| 275/275 [00:00<00:00, 20428.13it/s]\n",
            "100%|██████████| 120/120 [00:00<00:00, 19135.33it/s]\n",
            "100%|██████████| 117/117 [00:00<00:00, 17364.95it/s]\n",
            "100%|██████████| 218/218 [00:00<00:00, 20663.46it/s]\n",
            "100%|██████████| 172/172 [00:00<00:00, 19385.72it/s]\n",
            "100%|██████████| 94/94 [00:00<00:00, 12964.96it/s]\n",
            "100%|██████████| 202/202 [00:00<00:00, 19141.26it/s]\n",
            "100%|██████████| 143/143 [00:00<00:00, 16030.19it/s]\n",
            "100%|██████████| 258/258 [00:00<00:00, 20410.24it/s]\n",
            "100%|██████████| 239/239 [00:00<00:00, 22828.35it/s]\n",
            "100%|██████████| 523/523 [00:00<00:00, 22632.85it/s]\n",
            "100%|██████████| 195/195 [00:00<00:00, 18890.21it/s]\n",
            "100%|██████████| 152/152 [00:00<00:00, 19122.78it/s]\n",
            "100%|██████████| 272/272 [00:00<00:00, 20837.46it/s]\n",
            "100%|██████████| 123/123 [00:00<00:00, 16568.16it/s]\n",
            "100%|██████████| 452/452 [00:00<00:00, 22213.15it/s]\n",
            "100%|██████████| 588/588 [00:00<00:00, 21953.06it/s]\n",
            "100%|██████████| 168/168 [00:00<00:00, 21668.66it/s]\n",
            "100%|██████████| 189/189 [00:00<00:00, 20101.52it/s]\n",
            "100%|██████████| 90/90 [00:00<00:00, 16641.13it/s]\n",
            "100%|██████████| 261/261 [00:00<00:00, 15814.07it/s]\n",
            "100%|██████████| 244/244 [00:00<00:00, 18681.16it/s]\n",
            "100%|██████████| 140/140 [00:00<00:00, 19498.03it/s]\n",
            "100%|██████████| 175/175 [00:00<00:00, 22880.40it/s]\n",
            "100%|██████████| 112/112 [00:00<00:00, 16704.43it/s]\n",
            "100%|██████████| 101/101 [00:00<00:00, 17689.36it/s]\n",
            "100%|██████████| 216/216 [00:00<00:00, 17194.34it/s]\n",
            "100%|██████████| 101/101 [00:00<00:00, 16509.15it/s]\n",
            "100%|██████████| 99/99 [00:00<00:00, 15453.52it/s]\n",
            "100%|██████████| 136/136 [00:00<00:00, 16017.33it/s]\n",
            "100%|██████████| 109/109 [00:00<00:00, 15768.60it/s]\n",
            "100%|██████████| 104/104 [00:00<00:00, 16103.35it/s]\n",
            "100%|██████████| 117/117 [00:00<00:00, 16668.94it/s]\n",
            "100%|██████████| 254/254 [00:00<00:00, 17768.32it/s]\n",
            "100%|██████████| 201/201 [00:00<00:00, 18436.70it/s]\n",
            "100%|██████████| 489/489 [00:00<00:00, 22266.53it/s]\n",
            "100%|██████████| 140/140 [00:00<00:00, 20173.93it/s]\n",
            "100%|██████████| 338/338 [00:00<00:00, 20674.85it/s]\n",
            "100%|██████████| 120/120 [00:00<00:00, 13060.60it/s]\n",
            "100%|██████████| 160/160 [00:00<00:00, 18879.44it/s]\n",
            "100%|██████████| 261/261 [00:00<00:00, 21374.86it/s]\n",
            "100%|██████████| 210/210 [00:00<00:00, 19048.94it/s]\n",
            "100%|██████████| 111/111 [00:00<00:00, 17249.00it/s]\n",
            "100%|██████████| 111/111 [00:00<00:00, 16985.94it/s]\n",
            "100%|██████████| 106/106 [00:00<00:00, 19052.76it/s]\n",
            "100%|██████████| 166/166 [00:00<00:00, 21035.51it/s]\n",
            "100%|██████████| 305/305 [00:00<00:00, 19653.75it/s]\n",
            "100%|██████████| 285/285 [00:00<00:00, 20535.94it/s]\n",
            "100%|██████████| 94/94 [00:00<00:00, 15929.88it/s]\n",
            "100%|██████████| 251/251 [00:00<00:00, 20007.04it/s]\n",
            "100%|██████████| 204/204 [00:00<00:00, 20361.67it/s]\n",
            "100%|██████████| 372/372 [00:00<00:00, 23125.55it/s]\n",
            "100%|██████████| 297/297 [00:00<00:00, 20143.08it/s]\n",
            "100%|██████████| 117/117 [00:00<00:00, 19203.79it/s]\n",
            "100%|██████████| 137/137 [00:00<00:00, 15396.68it/s]\n",
            "100%|██████████| 369/369 [00:00<00:00, 21200.76it/s]\n",
            "100%|██████████| 625/625 [00:00<00:00, 24053.88it/s]\n",
            "100%|██████████| 500/500 [00:00<00:00, 22333.17it/s]\n",
            "100%|██████████| 424/424 [00:00<00:00, 19524.03it/s]\n",
            "100%|██████████| 179/179 [00:00<00:00, 18317.97it/s]\n",
            "100%|██████████| 176/176 [00:00<00:00, 15749.89it/s]\n",
            "100%|██████████| 213/213 [00:00<00:00, 18669.79it/s]\n",
            "100%|██████████| 253/253 [00:00<00:00, 19316.98it/s]\n",
            "100%|██████████| 225/225 [00:00<00:00, 19857.72it/s]\n",
            "100%|██████████| 105/105 [00:00<00:00, 17455.49it/s]\n",
            "100%|██████████| 245/245 [00:00<00:00, 19458.89it/s]\n",
            "100%|██████████| 297/297 [00:00<00:00, 18893.55it/s]\n",
            "100%|██████████| 110/110 [00:00<00:00, 15897.92it/s]\n",
            "100%|██████████| 98/98 [00:00<00:00, 13541.60it/s]\n",
            "100%|██████████| 177/177 [00:00<00:00, 22330.93it/s]\n",
            "100%|██████████| 176/176 [00:00<00:00, 18412.59it/s]\n",
            "100%|██████████| 242/242 [00:00<00:00, 21155.10it/s]\n",
            "100%|██████████| 119/119 [00:00<00:00, 19173.41it/s]\n",
            "100%|██████████| 119/119 [00:00<00:00, 19073.76it/s]\n",
            "100%|██████████| 85/85 [00:00<00:00, 16922.95it/s]\n",
            "100%|██████████| 170/170 [00:00<00:00, 21681.26it/s]\n",
            "100%|██████████| 162/162 [00:00<00:00, 20279.27it/s]\n",
            "100%|██████████| 119/119 [00:00<00:00, 14770.86it/s]\n",
            "100%|██████████| 274/274 [00:00<00:00, 21463.46it/s]\n",
            "100%|██████████| 179/179 [00:00<00:00, 21747.88it/s]\n",
            "100%|██████████| 122/122 [00:00<00:00, 14187.23it/s]\n",
            "100%|██████████| 111/111 [00:00<00:00, 18223.26it/s]\n",
            "100%|██████████| 143/143 [00:00<00:00, 18600.31it/s]\n",
            "100%|██████████| 220/220 [00:00<00:00, 20736.82it/s]\n",
            "100%|██████████| 94/94 [00:00<00:00, 13793.19it/s]\n",
            "100%|██████████| 206/206 [00:00<00:00, 17927.72it/s]\n",
            "100%|██████████| 152/152 [00:00<00:00, 17723.56it/s]\n",
            "100%|██████████| 104/104 [00:00<00:00, 14106.71it/s]\n",
            "100%|██████████| 117/117 [00:00<00:00, 17552.53it/s]\n",
            "100%|██████████| 148/148 [00:00<00:00, 15547.69it/s]\n",
            "100%|██████████| 166/166 [00:00<00:00, 15912.93it/s]\n",
            "100%|██████████| 194/194 [00:00<00:00, 19433.38it/s]\n",
            "100%|██████████| 173/173 [00:00<00:00, 19157.13it/s]\n",
            "100%|██████████| 398/398 [00:00<00:00, 21258.89it/s]\n",
            "100%|██████████| 258/258 [00:00<00:00, 19958.14it/s]\n",
            "100%|██████████| 343/343 [00:00<00:00, 19267.76it/s]\n",
            "100%|██████████| 310/310 [00:00<00:00, 19948.06it/s]\n",
            "100%|██████████| 300/300 [00:00<00:00, 21582.30it/s]\n",
            "100%|██████████| 139/139 [00:00<00:00, 19381.92it/s]\n",
            "100%|██████████| 129/129 [00:00<00:00, 19369.41it/s]\n",
            "100%|██████████| 121/121 [00:00<00:00, 12821.11it/s]\n",
            "100%|██████████| 169/169 [00:00<00:00, 15714.92it/s]\n",
            "100%|██████████| 90/90 [00:00<00:00, 15562.64it/s]\n",
            "100%|██████████| 101/101 [00:00<00:00, 12286.81it/s]\n",
            "100%|██████████| 151/151 [00:00<00:00, 15221.96it/s]\n",
            "100%|██████████| 135/135 [00:00<00:00, 18986.39it/s]\n",
            "100%|██████████| 206/206 [00:00<00:00, 20278.98it/s]\n",
            "100%|██████████| 98/98 [00:00<00:00, 18882.85it/s]\n",
            "100%|██████████| 394/394 [00:00<00:00, 22359.03it/s]\n",
            "100%|██████████| 207/207 [00:00<00:00, 21284.62it/s]\n",
            "100%|██████████| 174/174 [00:00<00:00, 16193.15it/s]\n",
            "100%|██████████| 98/98 [00:00<00:00, 14093.18it/s]\n",
            "100%|██████████| 129/129 [00:00<00:00, 18376.70it/s]\n",
            "100%|██████████| 129/129 [00:00<00:00, 18459.46it/s]\n",
            "100%|██████████| 287/287 [00:00<00:00, 21935.30it/s]\n",
            "100%|██████████| 176/176 [00:00<00:00, 20503.78it/s]\n",
            "100%|██████████| 342/342 [00:00<00:00, 20821.75it/s]\n",
            "100%|██████████| 246/246 [00:00<00:00, 20713.86it/s]\n",
            "100%|██████████| 163/163 [00:00<00:00, 13911.88it/s]\n",
            "100%|██████████| 137/137 [00:00<00:00, 20406.98it/s]\n",
            "100%|██████████| 152/152 [00:00<00:00, 16875.36it/s]\n",
            "100%|██████████| 558/558 [00:00<00:00, 21829.64it/s]\n",
            "100%|██████████| 101/101 [00:00<00:00, 18836.97it/s]\n",
            "100%|██████████| 156/156 [00:00<00:00, 21993.66it/s]\n",
            "100%|██████████| 369/369 [00:00<00:00, 19247.10it/s]\n",
            "100%|██████████| 291/291 [00:00<00:00, 21051.46it/s]\n",
            "100%|██████████| 148/148 [00:00<00:00, 17422.80it/s]\n",
            "100%|██████████| 102/102 [00:00<00:00, 15888.70it/s]\n",
            "100%|██████████| 140/140 [00:00<00:00, 21488.00it/s]\n",
            "100%|██████████| 290/290 [00:00<00:00, 21474.32it/s]\n",
            "100%|██████████| 516/516 [00:00<00:00, 22672.39it/s]\n",
            "100%|██████████| 269/269 [00:00<00:00, 18440.57it/s]\n",
            "100%|██████████| 92/92 [00:00<00:00, 17388.07it/s]\n",
            "100%|██████████| 149/149 [00:00<00:00, 17615.67it/s]\n",
            "100%|██████████| 243/243 [00:00<00:00, 19074.29it/s]\n",
            "100%|██████████| 208/208 [00:00<00:00, 19847.47it/s]\n",
            "100%|██████████| 139/139 [00:00<00:00, 16494.79it/s]\n",
            "100%|██████████| 99/99 [00:00<00:00, 16198.65it/s]\n",
            "100%|██████████| 153/153 [00:00<00:00, 16497.73it/s]\n",
            "100%|██████████| 147/147 [00:00<00:00, 15608.39it/s]\n",
            "100%|██████████| 234/234 [00:00<00:00, 21885.77it/s]\n",
            "100%|██████████| 292/292 [00:00<00:00, 20765.99it/s]\n",
            "100%|██████████| 103/103 [00:00<00:00, 13709.92it/s]\n",
            "100%|██████████| 95/95 [00:00<00:00, 15884.98it/s]\n",
            "100%|██████████| 143/143 [00:00<00:00, 14370.94it/s]\n",
            "100%|██████████| 122/122 [00:00<00:00, 19606.31it/s]\n",
            "100%|██████████| 136/136 [00:00<00:00, 19763.20it/s]\n",
            "100%|██████████| 116/116 [00:00<00:00, 18958.04it/s]\n",
            "100%|██████████| 224/224 [00:00<00:00, 20139.42it/s]\n",
            "100%|██████████| 117/117 [00:00<00:00, 16266.69it/s]\n",
            "100%|██████████| 117/117 [00:00<00:00, 13790.07it/s]\n",
            "100%|██████████| 150/150 [00:00<00:00, 19384.57it/s]\n",
            "100%|██████████| 111/111 [00:00<00:00, 14721.98it/s]\n",
            "100%|██████████| 160/160 [00:00<00:00, 19934.90it/s]\n",
            "100%|██████████| 199/199 [00:00<00:00, 21069.99it/s]\n",
            "100%|██████████| 125/125 [00:00<00:00, 19329.30it/s]\n",
            "100%|██████████| 122/122 [00:00<00:00, 13784.79it/s]\n",
            "100%|██████████| 184/184 [00:00<00:00, 20416.72it/s]\n",
            "100%|██████████| 268/268 [00:00<00:00, 21420.31it/s]\n",
            "100%|██████████| 153/153 [00:00<00:00, 20706.26it/s]\n",
            "100%|██████████| 187/187 [00:00<00:00, 18056.42it/s]\n",
            "100%|██████████| 93/93 [00:00<00:00, 17456.71it/s]\n",
            "100%|██████████| 173/173 [00:00<00:00, 20335.02it/s]\n",
            "100%|██████████| 128/128 [00:00<00:00, 18798.66it/s]\n",
            "100%|██████████| 155/155 [00:00<00:00, 17266.01it/s]\n",
            "100%|██████████| 147/147 [00:00<00:00, 18546.59it/s]\n",
            "100%|██████████| 95/95 [00:00<00:00, 13782.26it/s]\n",
            "100%|██████████| 116/116 [00:00<00:00, 18770.80it/s]\n",
            "100%|██████████| 125/125 [00:00<00:00, 18679.21it/s]\n",
            "100%|██████████| 194/194 [00:00<00:00, 21257.51it/s]\n",
            "100%|██████████| 293/293 [00:00<00:00, 17942.17it/s]\n",
            "100%|██████████| 312/312 [00:00<00:00, 21418.77it/s]\n",
            "100%|██████████| 154/154 [00:00<00:00, 15574.16it/s]\n",
            "100%|██████████| 161/161 [00:00<00:00, 19816.38it/s]\n",
            "100%|██████████| 141/141 [00:00<00:00, 19390.70it/s]\n",
            "100%|██████████| 158/158 [00:00<00:00, 19715.59it/s]\n",
            "100%|██████████| 220/220 [00:00<00:00, 19849.57it/s]\n",
            "100%|██████████| 167/167 [00:00<00:00, 19129.06it/s]\n",
            "100%|██████████| 286/286 [00:00<00:00, 21386.16it/s]\n",
            "100%|██████████| 127/127 [00:00<00:00, 18065.41it/s]\n",
            "100%|██████████| 103/103 [00:00<00:00, 16035.53it/s]\n",
            "100%|██████████| 305/305 [00:00<00:00, 20552.06it/s]\n",
            "100%|██████████| 221/221 [00:00<00:00, 20541.63it/s]\n",
            "100%|██████████| 188/188 [00:00<00:00, 19882.23it/s]\n",
            "100%|██████████| 220/220 [00:00<00:00, 16988.49it/s]\n",
            "100%|██████████| 211/211 [00:00<00:00, 19899.23it/s]\n",
            "100%|██████████| 222/222 [00:00<00:00, 21415.26it/s]\n",
            "100%|██████████| 110/110 [00:00<00:00, 18627.80it/s]\n",
            "100%|██████████| 111/111 [00:00<00:00, 17697.49it/s]\n",
            "100%|██████████| 240/240 [00:00<00:00, 20447.14it/s]\n",
            "100%|██████████| 284/284 [00:00<00:00, 21110.52it/s]\n",
            "100%|██████████| 285/285 [00:00<00:00, 19483.91it/s]\n",
            "100%|██████████| 129/129 [00:00<00:00, 14540.86it/s]\n",
            "100%|██████████| 198/198 [00:00<00:00, 19460.39it/s]\n",
            "100%|██████████| 306/306 [00:00<00:00, 22215.90it/s]\n",
            "100%|██████████| 114/114 [00:00<00:00, 12927.18it/s]\n",
            "100%|██████████| 309/309 [00:00<00:00, 19137.08it/s]\n",
            "100%|██████████| 198/198 [00:00<00:00, 18717.82it/s]\n",
            "100%|██████████| 127/127 [00:00<00:00, 15798.46it/s]\n",
            "100%|██████████| 145/145 [00:00<00:00, 15292.67it/s]\n",
            "100%|██████████| 134/134 [00:00<00:00, 19509.75it/s]\n",
            "100%|██████████| 103/103 [00:00<00:00, 18717.27it/s]\n",
            "100%|██████████| 152/152 [00:00<00:00, 18919.61it/s]\n",
            "100%|██████████| 158/158 [00:00<00:00, 14992.20it/s]\n",
            "100%|██████████| 121/121 [00:00<00:00, 18413.42it/s]\n",
            "100%|██████████| 245/245 [00:00<00:00, 20783.62it/s]\n",
            "100%|██████████| 340/340 [00:00<00:00, 20792.64it/s]\n",
            "100%|██████████| 120/120 [00:00<00:00, 20203.78it/s]\n",
            "100%|██████████| 161/161 [00:00<00:00, 15810.52it/s]\n",
            "100%|██████████| 134/134 [00:00<00:00, 20130.26it/s]\n",
            "100%|██████████| 182/182 [00:00<00:00, 22578.03it/s]\n",
            "100%|██████████| 261/261 [00:00<00:00, 20246.97it/s]\n",
            "100%|██████████| 92/92 [00:00<00:00, 18814.04it/s]\n",
            "100%|██████████| 240/240 [00:00<00:00, 21501.90it/s]\n",
            "100%|██████████| 137/137 [00:00<00:00, 19671.34it/s]\n",
            "100%|██████████| 116/116 [00:00<00:00, 18833.29it/s]\n",
            "100%|██████████| 98/98 [00:00<00:00, 19996.20it/s]\n",
            "100%|██████████| 198/198 [00:00<00:00, 17211.50it/s]\n",
            "100%|██████████| 232/232 [00:00<00:00, 21440.53it/s]\n",
            "100%|██████████| 233/233 [00:00<00:00, 19454.80it/s]\n",
            "100%|██████████| 328/328 [00:00<00:00, 17660.45it/s]\n",
            "100%|██████████| 145/145 [00:00<00:00, 20609.08it/s]\n",
            "100%|██████████| 134/134 [00:00<00:00, 16608.65it/s]\n",
            "100%|██████████| 211/211 [00:00<00:00, 18297.94it/s]\n",
            "100%|██████████| 175/175 [00:00<00:00, 20029.56it/s]\n",
            "100%|██████████| 161/161 [00:00<00:00, 15431.86it/s]\n",
            "100%|██████████| 121/121 [00:00<00:00, 18219.74it/s]\n",
            "100%|██████████| 114/114 [00:00<00:00, 18701.14it/s]\n",
            "100%|██████████| 199/199 [00:00<00:00, 21805.95it/s]\n",
            "100%|██████████| 92/92 [00:00<00:00, 16791.09it/s]\n",
            "100%|██████████| 254/254 [00:00<00:00, 20388.75it/s]\n",
            "100%|██████████| 364/364 [00:00<00:00, 21330.15it/s]\n",
            "100%|██████████| 175/175 [00:00<00:00, 22145.22it/s]\n",
            "100%|██████████| 179/179 [00:00<00:00, 20874.73it/s]\n",
            "100%|██████████| 317/317 [00:00<00:00, 21001.66it/s]\n",
            "100%|██████████| 346/346 [00:00<00:00, 18378.36it/s]\n",
            "100%|██████████| 336/336 [00:00<00:00, 19573.42it/s]\n",
            "100%|██████████| 433/433 [00:00<00:00, 22172.58it/s]\n",
            "100%|██████████| 180/180 [00:00<00:00, 17983.72it/s]\n",
            "100%|██████████| 436/436 [00:00<00:00, 17453.92it/s]\n",
            "100%|██████████| 107/107 [00:00<00:00, 20531.16it/s]\n",
            "100%|██████████| 98/98 [00:00<00:00, 17454.75it/s]\n",
            "100%|██████████| 205/205 [00:00<00:00, 22048.68it/s]\n",
            "100%|██████████| 129/129 [00:00<00:00, 17138.59it/s]\n",
            "100%|██████████| 134/134 [00:00<00:00, 19569.52it/s]\n",
            "100%|██████████| 102/102 [00:00<00:00, 15194.59it/s]\n",
            "100%|██████████| 192/192 [00:00<00:00, 19477.72it/s]\n",
            "100%|██████████| 197/197 [00:00<00:00, 20646.11it/s]\n",
            "100%|██████████| 90/90 [00:00<00:00, 17201.52it/s]\n",
            "100%|██████████| 124/124 [00:00<00:00, 19655.85it/s]\n",
            "100%|██████████| 110/110 [00:00<00:00, 18122.21it/s]\n",
            "100%|██████████| 90/90 [00:00<00:00, 16004.72it/s]\n",
            "100%|██████████| 191/191 [00:00<00:00, 19564.13it/s]\n",
            "100%|██████████| 138/138 [00:00<00:00, 17968.89it/s]\n",
            "100%|██████████| 90/90 [00:00<00:00, 17733.23it/s]\n",
            "100%|██████████| 154/154 [00:00<00:00, 15466.02it/s]\n",
            "100%|██████████| 128/128 [00:00<00:00, 17374.46it/s]\n",
            "100%|██████████| 129/129 [00:00<00:00, 18298.39it/s]\n",
            "100%|██████████| 104/104 [00:00<00:00, 18180.62it/s]\n",
            "100%|██████████| 96/96 [00:00<00:00, 11838.21it/s]\n",
            "100%|██████████| 121/121 [00:00<00:00, 16590.74it/s]\n",
            "100%|██████████| 184/184 [00:00<00:00, 17555.78it/s]\n",
            "100%|██████████| 177/177 [00:00<00:00, 19363.38it/s]\n",
            "100%|██████████| 299/299 [00:00<00:00, 17813.37it/s]\n",
            "100%|██████████| 119/119 [00:00<00:00, 13861.04it/s]\n",
            "100%|██████████| 112/112 [00:00<00:00, 12851.18it/s]\n",
            "100%|██████████| 110/110 [00:00<00:00, 18217.38it/s]\n",
            "100%|██████████| 264/264 [00:00<00:00, 20343.87it/s]\n",
            "100%|██████████| 328/328 [00:00<00:00, 19552.48it/s]\n",
            "100%|██████████| 149/149 [00:00<00:00, 16028.50it/s]\n",
            "100%|██████████| 109/109 [00:00<00:00, 17735.24it/s]\n",
            "100%|██████████| 967/967 [00:00<00:00, 22666.59it/s]\n",
            "100%|██████████| 145/145 [00:00<00:00, 17863.83it/s]\n",
            "100%|██████████| 164/164 [00:00<00:00, 19019.16it/s]\n",
            "100%|██████████| 255/255 [00:00<00:00, 21669.62it/s]\n",
            "100%|██████████| 136/136 [00:00<00:00, 14372.74it/s]\n",
            "100%|██████████| 360/360 [00:00<00:00, 20839.54it/s]\n",
            "100%|██████████| 304/304 [00:00<00:00, 22753.23it/s]\n",
            "100%|██████████| 309/309 [00:00<00:00, 22271.79it/s]\n",
            "100%|██████████| 118/118 [00:00<00:00, 13513.02it/s]\n",
            "100%|██████████| 87/87 [00:00<00:00, 15628.27it/s]\n",
            "100%|██████████| 272/272 [00:00<00:00, 18264.42it/s]\n",
            "100%|██████████| 708/708 [00:00<00:00, 22395.94it/s]\n",
            "100%|██████████| 111/111 [00:00<00:00, 18211.85it/s]\n",
            "100%|██████████| 822/822 [00:00<00:00, 21931.21it/s]\n",
            "100%|██████████| 206/206 [00:00<00:00, 21386.27it/s]\n",
            "100%|██████████| 1150/1150 [00:00<00:00, 23389.60it/s]\n",
            "100%|██████████| 242/242 [00:00<00:00, 21645.48it/s]\n",
            "100%|██████████| 140/140 [00:00<00:00, 20570.40it/s]\n",
            "100%|██████████| 1034/1034 [00:00<00:00, 23015.78it/s]\n",
            "100%|██████████| 1586/1586 [00:00<00:00, 24723.82it/s]\n",
            "100%|██████████| 323/323 [00:00<00:00, 19819.76it/s]\n",
            "100%|██████████| 116/116 [00:00<00:00, 13014.29it/s]\n",
            "100%|██████████| 146/146 [00:00<00:00, 20719.62it/s]\n",
            "100%|██████████| 124/124 [00:00<00:00, 21130.85it/s]\n",
            "100%|██████████| 109/109 [00:00<00:00, 18958.29it/s]\n",
            "100%|██████████| 162/162 [00:00<00:00, 14877.98it/s]\n",
            "100%|██████████| 147/147 [00:00<00:00, 19325.56it/s]\n",
            "100%|██████████| 159/159 [00:00<00:00, 21196.82it/s]\n",
            "100%|██████████| 1102/1102 [00:00<00:00, 23903.49it/s]\n",
            "100%|██████████| 134/134 [00:00<00:00, 18765.21it/s]\n",
            "100%|██████████| 257/257 [00:00<00:00, 18824.96it/s]\n",
            "100%|██████████| 1226/1226 [00:00<00:00, 23836.24it/s]\n",
            "100%|██████████| 265/265 [00:00<00:00, 21948.87it/s]\n",
            "100%|██████████| 610/610 [00:00<00:00, 21252.51it/s]\n",
            "100%|██████████| 504/504 [00:00<00:00, 23155.69it/s]\n",
            "100%|██████████| 211/211 [00:00<00:00, 21058.85it/s]\n",
            "100%|██████████| 110/110 [00:00<00:00, 13615.86it/s]\n",
            "100%|██████████| 309/309 [00:00<00:00, 21433.84it/s]\n",
            "100%|██████████| 257/257 [00:00<00:00, 19554.40it/s]\n",
            "100%|██████████| 576/576 [00:00<00:00, 24264.01it/s]\n",
            "100%|██████████| 269/269 [00:00<00:00, 22058.45it/s]\n",
            "100%|██████████| 188/188 [00:00<00:00, 15308.27it/s]\n",
            "100%|██████████| 129/129 [00:00<00:00, 18818.35it/s]\n",
            "100%|██████████| 1062/1062 [00:00<00:00, 24281.80it/s]\n",
            "100%|██████████| 794/794 [00:00<00:00, 23400.09it/s]\n",
            "100%|██████████| 1386/1386 [00:00<00:00, 21823.60it/s]\n",
            "100%|██████████| 691/691 [00:00<00:00, 21057.30it/s]\n",
            "100%|██████████| 852/852 [00:00<00:00, 23569.72it/s]\n",
            "100%|██████████| 155/155 [00:00<00:00, 19712.47it/s]\n",
            "100%|██████████| 830/830 [00:00<00:00, 23356.56it/s]\n",
            "100%|██████████| 168/168 [00:00<00:00, 20581.93it/s]\n",
            "100%|██████████| 985/985 [00:00<00:00, 24159.18it/s]\n",
            "100%|██████████| 1913/1913 [00:00<00:00, 24069.69it/s]\n",
            "100%|██████████| 983/983 [00:00<00:00, 23927.67it/s]\n",
            "100%|██████████| 475/475 [00:00<00:00, 21451.58it/s]\n",
            "100%|██████████| 106/106 [00:00<00:00, 18343.70it/s]\n",
            "100%|██████████| 140/140 [00:00<00:00, 18172.89it/s]\n",
            "100%|██████████| 287/287 [00:00<00:00, 18103.64it/s]\n",
            "100%|██████████| 436/436 [00:00<00:00, 22702.59it/s]\n",
            "100%|██████████| 296/296 [00:00<00:00, 21377.77it/s]\n",
            "100%|██████████| 324/324 [00:00<00:00, 22328.82it/s]\n",
            "100%|██████████| 123/123 [00:00<00:00, 18298.85it/s]\n",
            "100%|██████████| 827/827 [00:00<00:00, 22749.23it/s]\n",
            "100%|██████████| 234/234 [00:00<00:00, 16504.68it/s]\n",
            "100%|██████████| 232/232 [00:00<00:00, 21245.79it/s]\n",
            "100%|██████████| 202/202 [00:00<00:00, 21219.96it/s]\n",
            "100%|██████████| 466/466 [00:00<00:00, 23694.91it/s]\n",
            "100%|██████████| 524/524 [00:00<00:00, 20209.98it/s]\n",
            "100%|██████████| 962/962 [00:00<00:00, 23756.63it/s]\n",
            "100%|██████████| 1586/1586 [00:00<00:00, 24401.86it/s]\n",
            "100%|██████████| 782/782 [00:00<00:00, 24639.57it/s]\n",
            "100%|██████████| 768/768 [00:00<00:00, 23368.29it/s]\n",
            "100%|██████████| 528/528 [00:00<00:00, 24071.92it/s]\n",
            "100%|██████████| 352/352 [00:00<00:00, 19896.97it/s]\n",
            "100%|██████████| 113/113 [00:00<00:00, 14952.25it/s]\n",
            "100%|██████████| 136/136 [00:00<00:00, 17905.25it/s]\n",
            "100%|██████████| 419/419 [00:00<00:00, 20501.79it/s]\n",
            "100%|██████████| 173/173 [00:00<00:00, 17822.24it/s]\n",
            "100%|██████████| 99/99 [00:00<00:00, 17241.16it/s]\n",
            "100%|██████████| 516/516 [00:00<00:00, 22988.10it/s]\n",
            "100%|██████████| 237/237 [00:00<00:00, 21104.65it/s]\n",
            "100%|██████████| 248/248 [00:00<00:00, 20870.11it/s]\n",
            "100%|██████████| 488/488 [00:00<00:00, 22216.41it/s]\n",
            "100%|██████████| 474/474 [00:00<00:00, 15908.36it/s]\n",
            "100%|██████████| 250/250 [00:00<00:00, 20080.35it/s]\n",
            "100%|██████████| 410/410 [00:00<00:00, 20180.07it/s]\n",
            "100%|██████████| 149/149 [00:00<00:00, 18927.02it/s]\n",
            "100%|██████████| 88/88 [00:00<00:00, 16806.24it/s]\n",
            "100%|██████████| 110/110 [00:00<00:00, 16437.12it/s]\n",
            "100%|██████████| 92/92 [00:00<00:00, 17094.58it/s]\n",
            "100%|██████████| 99/99 [00:00<00:00, 16740.02it/s]\n",
            "100%|██████████| 179/179 [00:00<00:00, 19929.40it/s]\n",
            "100%|██████████| 236/236 [00:00<00:00, 22039.89it/s]\n",
            "100%|██████████| 114/114 [00:00<00:00, 19631.74it/s]\n",
            "100%|██████████| 99/99 [00:00<00:00, 15042.06it/s]\n",
            "100%|██████████| 107/107 [00:00<00:00, 13439.26it/s]\n",
            "100%|██████████| 177/177 [00:00<00:00, 19093.95it/s]\n",
            "100%|██████████| 180/180 [00:00<00:00, 18480.28it/s]\n",
            "100%|██████████| 201/201 [00:00<00:00, 18920.40it/s]\n",
            "100%|██████████| 164/164 [00:00<00:00, 16122.49it/s]\n",
            "100%|██████████| 134/134 [00:00<00:00, 17810.77it/s]\n",
            "100%|██████████| 100/100 [00:00<00:00, 15715.48it/s]\n",
            "100%|██████████| 188/188 [00:00<00:00, 15549.47it/s]\n",
            "100%|██████████| 225/225 [00:00<00:00, 20229.33it/s]\n",
            "100%|██████████| 323/323 [00:00<00:00, 21156.23it/s]\n",
            "100%|██████████| 421/421 [00:00<00:00, 18438.33it/s]\n",
            "100%|██████████| 240/240 [00:00<00:00, 18870.59it/s]\n",
            "100%|██████████| 194/194 [00:00<00:00, 20475.98it/s]\n",
            "100%|██████████| 196/196 [00:00<00:00, 18770.75it/s]\n",
            "100%|██████████| 154/154 [00:00<00:00, 14415.35it/s]\n",
            "100%|██████████| 259/259 [00:00<00:00, 14168.65it/s]\n",
            "100%|██████████| 403/403 [00:00<00:00, 21051.18it/s]\n",
            "100%|██████████| 269/269 [00:00<00:00, 18761.62it/s]\n",
            "100%|██████████| 120/120 [00:00<00:00, 17645.99it/s]\n",
            "100%|██████████| 279/279 [00:00<00:00, 20050.90it/s]\n",
            "100%|██████████| 315/315 [00:00<00:00, 21638.54it/s]\n",
            "100%|██████████| 395/395 [00:00<00:00, 19872.97it/s]\n",
            "100%|██████████| 358/358 [00:00<00:00, 18757.08it/s]\n",
            "100%|██████████| 351/351 [00:00<00:00, 21080.22it/s]\n",
            "100%|██████████| 95/95 [00:00<00:00, 16623.93it/s]\n",
            "100%|██████████| 323/323 [00:00<00:00, 21505.50it/s]\n",
            "100%|██████████| 408/408 [00:00<00:00, 19756.81it/s]\n",
            "100%|██████████| 179/179 [00:00<00:00, 16749.52it/s]\n",
            "100%|██████████| 224/224 [00:00<00:00, 17698.49it/s]\n",
            "100%|██████████| 317/317 [00:00<00:00, 21730.37it/s]\n",
            "100%|██████████| 398/398 [00:00<00:00, 19201.86it/s]\n",
            "100%|██████████| 359/359 [00:00<00:00, 18456.95it/s]\n",
            "100%|██████████| 295/295 [00:00<00:00, 14114.18it/s]\n",
            "100%|██████████| 370/370 [00:00<00:00, 22506.53it/s]\n",
            "100%|██████████| 193/193 [00:00<00:00, 18493.15it/s]\n",
            "100%|██████████| 233/233 [00:00<00:00, 20864.96it/s]\n",
            "100%|██████████| 312/312 [00:00<00:00, 17334.82it/s]\n",
            "100%|██████████| 200/200 [00:00<00:00, 20590.59it/s]\n",
            "100%|██████████| 302/302 [00:00<00:00, 14667.27it/s]\n",
            "100%|██████████| 145/145 [00:00<00:00, 16473.20it/s]\n",
            "100%|██████████| 259/259 [00:00<00:00, 21009.24it/s]\n",
            "100%|██████████| 168/168 [00:00<00:00, 20106.23it/s]\n",
            "100%|██████████| 333/333 [00:00<00:00, 23034.60it/s]\n",
            "100%|██████████| 112/112 [00:00<00:00, 18887.94it/s]\n",
            "100%|██████████| 241/241 [00:00<00:00, 20709.85it/s]\n",
            "100%|██████████| 183/183 [00:00<00:00, 16708.92it/s]\n",
            "100%|██████████| 246/246 [00:00<00:00, 19036.53it/s]\n",
            "100%|██████████| 102/102 [00:00<00:00, 16845.26it/s]\n",
            "100%|██████████| 136/136 [00:00<00:00, 18116.79it/s]\n",
            "100%|██████████| 126/126 [00:00<00:00, 18403.12it/s]\n",
            "100%|██████████| 120/120 [00:00<00:00, 14387.46it/s]\n",
            "100%|██████████| 153/153 [00:00<00:00, 20205.56it/s]\n",
            "100%|██████████| 230/230 [00:00<00:00, 21244.47it/s]\n",
            "100%|██████████| 88/88 [00:00<00:00, 12990.49it/s]\n",
            "100%|██████████| 212/212 [00:00<00:00, 20082.04it/s]\n",
            "100%|██████████| 223/223 [00:00<00:00, 19058.80it/s]\n",
            "100%|██████████| 498/498 [00:00<00:00, 21002.52it/s]\n",
            "100%|██████████| 419/419 [00:00<00:00, 20549.25it/s]\n",
            "100%|██████████| 263/263 [00:00<00:00, 20187.43it/s]\n",
            "100%|██████████| 351/351 [00:00<00:00, 21817.49it/s]\n",
            "100%|██████████| 553/553 [00:00<00:00, 22684.55it/s]\n",
            "100%|██████████| 229/229 [00:00<00:00, 21299.38it/s]\n",
            "100%|██████████| 323/323 [00:00<00:00, 13087.32it/s]\n",
            "100%|██████████| 402/402 [00:00<00:00, 21204.93it/s]\n",
            "100%|██████████| 483/483 [00:00<00:00, 23403.44it/s]\n",
            "100%|██████████| 383/383 [00:00<00:00, 15534.61it/s]\n"
          ]
        }
      ]
    },
    {
      "cell_type": "code",
      "source": [
        "print('Loading validation data...')\n",
        "# f'{common_path}/valid.txt'\n",
        "val_dataset = RepunctDataset(val_flist, tokenizer=tokenizer, targets=TARGETS,\n",
        "                             sequence_len=SEQ_LEN, token_style=token_style,\n",
        "                             is_train=True)\n",
        "val_loader = DataLoader(val_dataset, **data_loader_params)"
      ],
      "metadata": {
        "id": "CnDwCxObJmPg",
        "colab": {
          "base_uri": "https://localhost:8080/"
        },
        "outputId": "2242edf2-b057-492c-84a1-1de5b370a965"
      },
      "execution_count": null,
      "outputs": [
        {
          "output_type": "stream",
          "name": "stdout",
          "text": [
            "Loading validation data...\n"
          ]
        },
        {
          "output_type": "stream",
          "name": "stderr",
          "text": [
            "100%|██████████| 327/327 [00:00<00:00, 22481.27it/s]\n",
            "100%|██████████| 575/575 [00:00<00:00, 19395.12it/s]\n",
            "100%|██████████| 519/519 [00:00<00:00, 23386.30it/s]\n",
            "100%|██████████| 144/144 [00:00<00:00, 20448.24it/s]\n",
            "100%|██████████| 162/162 [00:00<00:00, 16568.98it/s]\n",
            "100%|██████████| 399/399 [00:00<00:00, 22452.91it/s]\n",
            "100%|██████████| 328/328 [00:00<00:00, 22616.01it/s]\n",
            "100%|██████████| 182/182 [00:00<00:00, 20932.42it/s]\n",
            "100%|██████████| 180/180 [00:00<00:00, 17648.67it/s]\n",
            "100%|██████████| 413/413 [00:00<00:00, 24235.37it/s]\n",
            "100%|██████████| 392/392 [00:00<00:00, 22756.01it/s]\n",
            "100%|██████████| 321/321 [00:00<00:00, 22908.38it/s]\n",
            "100%|██████████| 98/98 [00:00<00:00, 21119.14it/s]\n",
            "100%|██████████| 219/219 [00:00<00:00, 22529.00it/s]\n",
            "100%|██████████| 254/254 [00:00<00:00, 22643.48it/s]\n",
            "100%|██████████| 209/209 [00:00<00:00, 20101.11it/s]\n",
            "100%|██████████| 151/151 [00:00<00:00, 14755.94it/s]\n",
            "100%|██████████| 94/94 [00:00<00:00, 19313.44it/s]\n",
            "100%|██████████| 308/308 [00:00<00:00, 21970.16it/s]\n",
            "100%|██████████| 225/225 [00:00<00:00, 12188.65it/s]\n",
            "100%|██████████| 244/244 [00:00<00:00, 22007.87it/s]\n",
            "100%|██████████| 315/315 [00:00<00:00, 23031.16it/s]\n",
            "100%|██████████| 202/202 [00:00<00:00, 21973.95it/s]\n",
            "100%|██████████| 220/220 [00:00<00:00, 21341.11it/s]\n",
            "100%|██████████| 766/766 [00:00<00:00, 23572.50it/s]\n",
            "100%|██████████| 273/273 [00:00<00:00, 14074.33it/s]\n",
            "100%|██████████| 351/351 [00:00<00:00, 16125.05it/s]\n",
            "100%|██████████| 323/323 [00:00<00:00, 21642.57it/s]\n",
            "100%|██████████| 179/179 [00:00<00:00, 20082.40it/s]\n",
            "100%|██████████| 408/408 [00:00<00:00, 20477.65it/s]\n",
            "100%|██████████| 224/224 [00:00<00:00, 20092.90it/s]\n",
            "100%|██████████| 407/407 [00:00<00:00, 21553.25it/s]\n",
            "100%|██████████| 232/232 [00:00<00:00, 22428.40it/s]\n",
            "100%|██████████| 148/148 [00:00<00:00, 20698.80it/s]\n",
            "100%|██████████| 139/139 [00:00<00:00, 21655.46it/s]\n",
            "100%|██████████| 147/147 [00:00<00:00, 19382.06it/s]\n",
            "100%|██████████| 146/146 [00:00<00:00, 21638.46it/s]\n",
            "100%|██████████| 158/158 [00:00<00:00, 21045.45it/s]\n",
            "100%|██████████| 321/321 [00:00<00:00, 17069.25it/s]\n",
            "100%|██████████| 244/244 [00:00<00:00, 23117.99it/s]\n",
            "100%|██████████| 108/108 [00:00<00:00, 19454.77it/s]\n",
            "100%|██████████| 89/89 [00:00<00:00, 17608.16it/s]\n",
            "100%|██████████| 114/114 [00:00<00:00, 19900.56it/s]\n",
            "100%|██████████| 174/174 [00:00<00:00, 20215.19it/s]\n",
            "100%|██████████| 214/214 [00:00<00:00, 18054.90it/s]\n",
            "100%|██████████| 196/196 [00:00<00:00, 20368.77it/s]\n",
            "100%|██████████| 100/100 [00:00<00:00, 20756.69it/s]\n",
            "100%|██████████| 258/258 [00:00<00:00, 20341.56it/s]\n",
            "100%|██████████| 307/307 [00:00<00:00, 22819.77it/s]\n",
            "100%|██████████| 146/146 [00:00<00:00, 22123.14it/s]\n",
            "100%|██████████| 118/118 [00:00<00:00, 18663.85it/s]\n",
            "100%|██████████| 97/97 [00:00<00:00, 19966.02it/s]\n",
            "100%|██████████| 158/158 [00:00<00:00, 17989.09it/s]\n",
            "100%|██████████| 92/92 [00:00<00:00, 20004.98it/s]\n",
            "100%|██████████| 101/101 [00:00<00:00, 13537.36it/s]\n",
            "100%|██████████| 168/168 [00:00<00:00, 21219.71it/s]\n",
            "100%|██████████| 179/179 [00:00<00:00, 20368.98it/s]\n",
            "100%|██████████| 201/201 [00:00<00:00, 20715.41it/s]\n",
            "100%|██████████| 115/115 [00:00<00:00, 20897.02it/s]\n",
            "100%|██████████| 90/90 [00:00<00:00, 17867.53it/s]\n",
            "100%|██████████| 483/483 [00:00<00:00, 22437.63it/s]\n",
            "100%|██████████| 519/519 [00:00<00:00, 22411.19it/s]\n",
            "100%|██████████| 180/180 [00:00<00:00, 21083.97it/s]\n",
            "100%|██████████| 446/446 [00:00<00:00, 23280.52it/s]\n",
            "100%|██████████| 301/301 [00:00<00:00, 17453.31it/s]\n",
            "100%|██████████| 159/159 [00:00<00:00, 19298.94it/s]\n",
            "100%|██████████| 143/143 [00:00<00:00, 20333.09it/s]\n",
            "100%|██████████| 263/263 [00:00<00:00, 19572.43it/s]\n",
            "100%|██████████| 96/96 [00:00<00:00, 18115.50it/s]\n",
            "100%|██████████| 237/237 [00:00<00:00, 21265.38it/s]\n",
            "100%|██████████| 125/125 [00:00<00:00, 18553.61it/s]\n",
            "100%|██████████| 257/257 [00:00<00:00, 21509.68it/s]\n",
            "100%|██████████| 146/146 [00:00<00:00, 19247.18it/s]\n",
            "100%|██████████| 178/178 [00:00<00:00, 20660.45it/s]\n",
            "100%|██████████| 126/126 [00:00<00:00, 19045.78it/s]\n",
            "100%|██████████| 397/397 [00:00<00:00, 22735.68it/s]\n",
            "100%|██████████| 404/404 [00:00<00:00, 22182.50it/s]\n",
            "100%|██████████| 326/326 [00:00<00:00, 21543.48it/s]\n",
            "100%|██████████| 303/303 [00:00<00:00, 19610.74it/s]\n",
            "100%|██████████| 293/293 [00:00<00:00, 19647.81it/s]\n",
            "100%|██████████| 226/226 [00:00<00:00, 20893.40it/s]\n",
            "100%|██████████| 324/324 [00:00<00:00, 20850.22it/s]\n",
            "100%|██████████| 203/203 [00:00<00:00, 20194.10it/s]\n",
            "100%|██████████| 268/268 [00:00<00:00, 21356.82it/s]\n",
            "100%|██████████| 136/136 [00:00<00:00, 19423.36it/s]\n",
            "100%|██████████| 309/309 [00:00<00:00, 21745.64it/s]\n",
            "100%|██████████| 215/215 [00:00<00:00, 21923.94it/s]\n",
            "100%|██████████| 182/182 [00:00<00:00, 21483.83it/s]\n",
            "100%|██████████| 166/166 [00:00<00:00, 19441.39it/s]\n",
            "100%|██████████| 333/333 [00:00<00:00, 22557.67it/s]\n",
            "100%|██████████| 331/331 [00:00<00:00, 23305.21it/s]\n",
            "100%|██████████| 470/470 [00:00<00:00, 22611.06it/s]\n",
            "100%|██████████| 371/371 [00:00<00:00, 22451.12it/s]\n",
            "100%|██████████| 166/166 [00:00<00:00, 19626.62it/s]\n",
            "100%|██████████| 610/610 [00:00<00:00, 23707.61it/s]\n",
            "100%|██████████| 409/409 [00:00<00:00, 22036.72it/s]\n",
            "100%|██████████| 334/334 [00:00<00:00, 22275.72it/s]\n",
            "100%|██████████| 183/183 [00:00<00:00, 21993.69it/s]\n",
            "100%|██████████| 369/369 [00:00<00:00, 22983.34it/s]\n",
            "100%|██████████| 352/352 [00:00<00:00, 23595.89it/s]\n",
            "100%|██████████| 176/176 [00:00<00:00, 22341.86it/s]\n",
            "100%|██████████| 213/213 [00:00<00:00, 21508.73it/s]\n",
            "100%|██████████| 184/184 [00:00<00:00, 21484.10it/s]\n",
            "100%|██████████| 182/182 [00:00<00:00, 19837.41it/s]\n",
            "100%|██████████| 237/237 [00:00<00:00, 17921.14it/s]\n",
            "100%|██████████| 131/131 [00:00<00:00, 17195.15it/s]\n",
            "100%|██████████| 341/341 [00:00<00:00, 22804.94it/s]\n",
            "100%|██████████| 383/383 [00:00<00:00, 22804.84it/s]\n",
            "100%|██████████| 435/435 [00:00<00:00, 20827.88it/s]\n",
            "100%|██████████| 349/349 [00:00<00:00, 22371.16it/s]\n",
            "100%|██████████| 97/97 [00:00<00:00, 18839.02it/s]\n",
            "100%|██████████| 106/106 [00:00<00:00, 18474.04it/s]\n",
            "100%|██████████| 142/142 [00:00<00:00, 18279.76it/s]\n",
            "100%|██████████| 120/120 [00:00<00:00, 19744.10it/s]\n",
            "100%|██████████| 281/281 [00:00<00:00, 22767.83it/s]\n",
            "100%|██████████| 404/404 [00:00<00:00, 22222.64it/s]\n",
            "100%|██████████| 498/498 [00:00<00:00, 15977.81it/s]\n",
            "100%|██████████| 538/538 [00:00<00:00, 24232.82it/s]\n",
            "100%|██████████| 252/252 [00:00<00:00, 18184.34it/s]\n",
            "100%|██████████| 332/332 [00:00<00:00, 20830.35it/s]\n",
            "100%|██████████| 360/360 [00:00<00:00, 20359.88it/s]\n",
            "100%|██████████| 298/298 [00:00<00:00, 15043.48it/s]\n",
            "100%|██████████| 174/174 [00:00<00:00, 14781.54it/s]\n",
            "100%|██████████| 740/740 [00:00<00:00, 24209.92it/s]\n",
            "100%|██████████| 506/506 [00:00<00:00, 23991.84it/s]\n",
            "100%|██████████| 431/431 [00:00<00:00, 24035.01it/s]\n",
            "100%|██████████| 201/201 [00:00<00:00, 20870.80it/s]\n",
            "100%|██████████| 164/164 [00:00<00:00, 19179.84it/s]\n",
            "100%|██████████| 180/180 [00:00<00:00, 21161.98it/s]\n",
            "100%|██████████| 134/134 [00:00<00:00, 18126.71it/s]\n",
            "100%|██████████| 188/188 [00:00<00:00, 21448.99it/s]\n",
            "100%|██████████| 323/323 [00:00<00:00, 21920.62it/s]\n",
            "100%|██████████| 178/178 [00:00<00:00, 20452.17it/s]\n",
            "100%|██████████| 563/563 [00:00<00:00, 23681.42it/s]\n",
            "100%|██████████| 622/622 [00:00<00:00, 23534.38it/s]\n",
            "100%|██████████| 262/262 [00:00<00:00, 21686.68it/s]\n",
            "100%|██████████| 389/389 [00:00<00:00, 20565.76it/s]\n",
            "100%|██████████| 435/435 [00:00<00:00, 22883.76it/s]\n",
            "100%|██████████| 458/458 [00:00<00:00, 20256.14it/s]\n",
            "100%|██████████| 305/305 [00:00<00:00, 21135.41it/s]\n",
            "100%|██████████| 175/175 [00:00<00:00, 21632.23it/s]\n",
            "100%|██████████| 144/144 [00:00<00:00, 22108.41it/s]\n",
            "100%|██████████| 137/137 [00:00<00:00, 20367.19it/s]\n",
            "100%|██████████| 101/101 [00:00<00:00, 19149.48it/s]\n",
            "100%|██████████| 155/155 [00:00<00:00, 23389.71it/s]\n",
            "100%|██████████| 120/120 [00:00<00:00, 20603.24it/s]\n",
            "100%|██████████| 204/204 [00:00<00:00, 21733.25it/s]\n",
            "100%|██████████| 88/88 [00:00<00:00, 18269.50it/s]\n",
            "100%|██████████| 512/512 [00:00<00:00, 24339.61it/s]\n",
            "100%|██████████| 155/155 [00:00<00:00, 20453.58it/s]\n",
            "100%|██████████| 284/284 [00:00<00:00, 23349.65it/s]\n",
            "100%|██████████| 146/146 [00:00<00:00, 21059.51it/s]\n",
            "100%|██████████| 268/268 [00:00<00:00, 21554.21it/s]\n",
            "100%|██████████| 297/297 [00:00<00:00, 21859.13it/s]\n",
            "100%|██████████| 194/194 [00:00<00:00, 21406.83it/s]\n",
            "100%|██████████| 155/155 [00:00<00:00, 20847.11it/s]\n",
            "100%|██████████| 263/263 [00:00<00:00, 20275.00it/s]\n",
            "100%|██████████| 312/312 [00:00<00:00, 22628.01it/s]\n",
            "100%|██████████| 352/352 [00:00<00:00, 21682.67it/s]\n",
            "100%|██████████| 297/297 [00:00<00:00, 21347.07it/s]\n",
            "100%|██████████| 257/257 [00:00<00:00, 19118.78it/s]\n",
            "100%|██████████| 323/323 [00:00<00:00, 22574.82it/s]\n",
            "100%|██████████| 191/191 [00:00<00:00, 20590.96it/s]\n",
            "100%|██████████| 281/281 [00:00<00:00, 22638.82it/s]\n",
            "100%|██████████| 259/259 [00:00<00:00, 21393.19it/s]\n",
            "100%|██████████| 127/127 [00:00<00:00, 17924.98it/s]\n",
            "100%|██████████| 346/346 [00:00<00:00, 22524.47it/s]\n",
            "100%|██████████| 235/235 [00:00<00:00, 18369.33it/s]\n",
            "100%|██████████| 165/165 [00:00<00:00, 17834.30it/s]\n",
            "100%|██████████| 191/191 [00:00<00:00, 21640.56it/s]\n",
            "100%|██████████| 421/421 [00:00<00:00, 23185.73it/s]\n",
            "100%|██████████| 336/336 [00:00<00:00, 21109.42it/s]\n",
            "100%|██████████| 343/343 [00:00<00:00, 22672.63it/s]\n",
            "100%|██████████| 91/91 [00:00<00:00, 16195.60it/s]\n",
            "100%|██████████| 341/341 [00:00<00:00, 20390.60it/s]\n",
            "100%|██████████| 350/350 [00:00<00:00, 21236.68it/s]\n",
            "100%|██████████| 254/254 [00:00<00:00, 21315.59it/s]\n",
            "100%|██████████| 403/403 [00:00<00:00, 21261.42it/s]\n",
            "100%|██████████| 241/241 [00:00<00:00, 19391.63it/s]\n",
            "100%|██████████| 212/212 [00:00<00:00, 20757.58it/s]\n",
            "100%|██████████| 195/195 [00:00<00:00, 19180.82it/s]\n",
            "100%|██████████| 169/169 [00:00<00:00, 18491.57it/s]\n",
            "100%|██████████| 235/235 [00:00<00:00, 19501.44it/s]\n",
            "100%|██████████| 152/152 [00:00<00:00, 20129.90it/s]\n",
            "100%|██████████| 121/121 [00:00<00:00, 17919.31it/s]\n",
            "100%|██████████| 142/142 [00:00<00:00, 17440.44it/s]\n",
            "100%|██████████| 107/107 [00:00<00:00, 17152.32it/s]\n",
            "100%|██████████| 216/216 [00:00<00:00, 18689.81it/s]\n",
            "100%|██████████| 169/169 [00:00<00:00, 19533.12it/s]\n",
            "100%|██████████| 129/129 [00:00<00:00, 19252.93it/s]\n",
            "100%|██████████| 160/160 [00:00<00:00, 18231.65it/s]\n",
            "100%|██████████| 240/240 [00:00<00:00, 21053.98it/s]\n",
            "100%|██████████| 423/423 [00:00<00:00, 21679.04it/s]\n",
            "100%|██████████| 165/165 [00:00<00:00, 18091.66it/s]\n",
            "100%|██████████| 248/248 [00:00<00:00, 20381.44it/s]\n",
            "100%|██████████| 493/493 [00:00<00:00, 21744.71it/s]\n",
            "100%|██████████| 363/363 [00:00<00:00, 21987.30it/s]\n",
            "100%|██████████| 275/275 [00:00<00:00, 19868.97it/s]\n",
            "100%|██████████| 455/455 [00:00<00:00, 17506.57it/s]\n",
            "100%|██████████| 716/716 [00:00<00:00, 22212.44it/s]\n",
            "100%|██████████| 281/281 [00:00<00:00, 21246.36it/s]\n",
            "100%|██████████| 486/486 [00:00<00:00, 21633.66it/s]\n",
            "100%|██████████| 591/591 [00:00<00:00, 23437.18it/s]\n",
            "100%|██████████| 504/504 [00:00<00:00, 22524.55it/s]\n",
            "100%|██████████| 512/512 [00:00<00:00, 22097.09it/s]\n",
            "100%|██████████| 405/405 [00:00<00:00, 22079.01it/s]\n",
            "100%|██████████| 433/433 [00:00<00:00, 22981.47it/s]\n",
            "100%|██████████| 377/377 [00:00<00:00, 21445.66it/s]\n",
            "100%|██████████| 292/292 [00:00<00:00, 20087.53it/s]\n",
            "100%|██████████| 549/549 [00:00<00:00, 21864.00it/s]\n",
            "100%|██████████| 180/180 [00:00<00:00, 15631.59it/s]\n",
            "100%|██████████| 189/189 [00:00<00:00, 18438.86it/s]\n",
            "100%|██████████| 189/189 [00:00<00:00, 19061.35it/s]\n",
            "100%|██████████| 388/388 [00:00<00:00, 20657.14it/s]\n",
            "100%|██████████| 435/435 [00:00<00:00, 21879.91it/s]\n",
            "100%|██████████| 393/393 [00:00<00:00, 19054.00it/s]\n",
            "100%|██████████| 207/207 [00:00<00:00, 18573.16it/s]\n",
            "100%|██████████| 232/232 [00:00<00:00, 15885.96it/s]\n",
            "100%|██████████| 263/263 [00:00<00:00, 18848.71it/s]\n",
            "100%|██████████| 153/153 [00:00<00:00, 14703.71it/s]\n",
            "100%|██████████| 492/492 [00:00<00:00, 17373.86it/s]\n",
            "100%|██████████| 811/811 [00:00<00:00, 19091.98it/s]\n",
            "100%|██████████| 276/276 [00:00<00:00, 19383.93it/s]\n",
            "100%|██████████| 185/185 [00:00<00:00, 17691.84it/s]\n",
            "100%|██████████| 231/231 [00:00<00:00, 21129.30it/s]\n",
            "100%|██████████| 177/177 [00:00<00:00, 18976.81it/s]\n",
            "100%|██████████| 385/385 [00:00<00:00, 18984.55it/s]\n",
            "100%|██████████| 334/334 [00:00<00:00, 20366.62it/s]\n",
            "100%|██████████| 337/337 [00:00<00:00, 21435.86it/s]\n",
            "100%|██████████| 236/236 [00:00<00:00, 19130.97it/s]\n",
            "100%|██████████| 343/343 [00:00<00:00, 22077.99it/s]\n",
            "100%|██████████| 383/383 [00:00<00:00, 19356.30it/s]\n",
            "100%|██████████| 218/218 [00:00<00:00, 20161.37it/s]\n",
            "100%|██████████| 182/182 [00:00<00:00, 16887.07it/s]\n",
            "100%|██████████| 170/170 [00:00<00:00, 19404.86it/s]\n",
            "100%|██████████| 189/189 [00:00<00:00, 21017.67it/s]\n",
            "100%|██████████| 187/187 [00:00<00:00, 21076.34it/s]\n",
            "100%|██████████| 135/135 [00:00<00:00, 17835.17it/s]\n",
            "100%|██████████| 123/123 [00:00<00:00, 20190.97it/s]\n",
            "100%|██████████| 182/182 [00:00<00:00, 20470.99it/s]\n",
            "100%|██████████| 108/108 [00:00<00:00, 19723.29it/s]\n",
            "100%|██████████| 127/127 [00:00<00:00, 17353.29it/s]\n",
            "100%|██████████| 128/128 [00:00<00:00, 18813.81it/s]\n",
            "100%|██████████| 159/159 [00:00<00:00, 19214.98it/s]\n",
            "100%|██████████| 221/221 [00:00<00:00, 21305.56it/s]\n",
            "100%|██████████| 115/115 [00:00<00:00, 17871.91it/s]\n",
            "100%|██████████| 141/141 [00:00<00:00, 19363.40it/s]\n",
            "100%|██████████| 180/180 [00:00<00:00, 19179.32it/s]\n",
            "100%|██████████| 152/152 [00:00<00:00, 20900.71it/s]\n",
            "100%|██████████| 167/167 [00:00<00:00, 17566.55it/s]\n",
            "100%|██████████| 134/134 [00:00<00:00, 18879.93it/s]\n",
            "100%|██████████| 134/134 [00:00<00:00, 17481.70it/s]\n",
            "100%|██████████| 227/227 [00:00<00:00, 20332.00it/s]\n",
            "100%|██████████| 203/203 [00:00<00:00, 21357.64it/s]\n",
            "100%|██████████| 276/276 [00:00<00:00, 21530.05it/s]\n",
            "100%|██████████| 182/182 [00:00<00:00, 20580.27it/s]\n",
            "100%|██████████| 259/259 [00:00<00:00, 22401.22it/s]\n",
            "100%|██████████| 270/270 [00:00<00:00, 21616.41it/s]\n",
            "100%|██████████| 402/402 [00:00<00:00, 21876.79it/s]\n",
            "100%|██████████| 279/279 [00:00<00:00, 19890.72it/s]\n",
            "100%|██████████| 120/120 [00:00<00:00, 14879.13it/s]\n",
            "100%|██████████| 218/218 [00:00<00:00, 20867.18it/s]\n",
            "100%|██████████| 216/216 [00:00<00:00, 19744.35it/s]\n",
            "100%|██████████| 251/251 [00:00<00:00, 18327.54it/s]\n",
            "100%|██████████| 349/349 [00:00<00:00, 22478.69it/s]\n",
            "100%|██████████| 256/256 [00:00<00:00, 20098.49it/s]\n",
            "100%|██████████| 190/190 [00:00<00:00, 19869.79it/s]\n",
            "100%|██████████| 265/265 [00:00<00:00, 19666.83it/s]\n",
            "100%|██████████| 297/297 [00:00<00:00, 19003.94it/s]\n",
            "100%|██████████| 304/304 [00:00<00:00, 21267.80it/s]\n",
            "100%|██████████| 125/125 [00:00<00:00, 19355.71it/s]\n",
            "100%|██████████| 122/122 [00:00<00:00, 15685.89it/s]\n",
            "100%|██████████| 140/140 [00:00<00:00, 17323.65it/s]\n",
            "100%|██████████| 122/122 [00:00<00:00, 18332.80it/s]\n",
            "100%|██████████| 116/116 [00:00<00:00, 17424.32it/s]\n",
            "100%|██████████| 283/283 [00:00<00:00, 16619.59it/s]\n",
            "100%|██████████| 321/321 [00:00<00:00, 21413.12it/s]\n",
            "100%|██████████| 283/283 [00:00<00:00, 21419.59it/s]\n",
            "100%|██████████| 151/151 [00:00<00:00, 20348.27it/s]\n",
            "100%|██████████| 215/215 [00:00<00:00, 20797.88it/s]\n",
            "100%|██████████| 125/125 [00:00<00:00, 18571.36it/s]\n",
            "100%|██████████| 225/225 [00:00<00:00, 21235.31it/s]\n",
            "100%|██████████| 207/207 [00:00<00:00, 18389.84it/s]\n",
            "100%|██████████| 104/104 [00:00<00:00, 15490.88it/s]\n",
            "100%|██████████| 157/157 [00:00<00:00, 19836.90it/s]\n",
            "100%|██████████| 215/215 [00:00<00:00, 21287.87it/s]\n",
            "100%|██████████| 150/150 [00:00<00:00, 17138.26it/s]\n",
            "100%|██████████| 345/345 [00:00<00:00, 20509.03it/s]\n",
            "100%|██████████| 166/166 [00:00<00:00, 20209.99it/s]\n",
            "100%|██████████| 222/222 [00:00<00:00, 19862.53it/s]\n",
            "100%|██████████| 696/696 [00:00<00:00, 22153.52it/s]\n",
            "100%|██████████| 201/201 [00:00<00:00, 21034.31it/s]\n",
            "100%|██████████| 164/164 [00:00<00:00, 19510.60it/s]\n",
            "100%|██████████| 180/180 [00:00<00:00, 19255.14it/s]\n",
            "100%|██████████| 134/134 [00:00<00:00, 17851.50it/s]\n",
            "100%|██████████| 188/188 [00:00<00:00, 17375.37it/s]\n",
            "100%|██████████| 323/323 [00:00<00:00, 21250.81it/s]\n",
            "100%|██████████| 245/245 [00:00<00:00, 19891.69it/s]\n",
            "100%|██████████| 211/211 [00:00<00:00, 21814.64it/s]\n",
            "100%|██████████| 210/210 [00:00<00:00, 20593.96it/s]\n"
          ]
        }
      ]
    },
    {
      "cell_type": "code",
      "source": [
        "print('Loading test data...')\n",
        "# f'{common_path}/test.txt'\n",
        "test_dataset = RepunctDataset(test_flist, tokenizer=tokenizer, targets=TARGETS,\n",
        "                                      sequence_len=SEQ_LEN, token_style=token_style,\n",
        "                                      is_train=True, augment_rate=AUG_RATE,\n",
        "                                      augment_type=AUG_TYPE)\n",
        "test_loader = DataLoader(test_dataset, **data_loader_params)\n",
        "\n",
        "print('Data was loaded.')"
      ],
      "metadata": {
        "id": "mRcn0AWRJ_pH",
        "colab": {
          "base_uri": "https://localhost:8080/"
        },
        "outputId": "b3b4f1a6-7ed5-42a6-f8e2-5bbe01947899"
      },
      "execution_count": null,
      "outputs": [
        {
          "output_type": "stream",
          "name": "stdout",
          "text": [
            "Loading test data...\n"
          ]
        },
        {
          "output_type": "stream",
          "name": "stderr",
          "text": [
            "100%|██████████| 166/166 [00:00<00:00, 19432.16it/s]\n",
            "100%|██████████| 300/300 [00:00<00:00, 20734.11it/s]\n",
            "100%|██████████| 235/235 [00:00<00:00, 20714.14it/s]\n",
            "100%|██████████| 97/97 [00:00<00:00, 20160.93it/s]\n",
            "100%|██████████| 432/432 [00:00<00:00, 19821.03it/s]\n",
            "100%|██████████| 151/151 [00:00<00:00, 19714.25it/s]\n",
            "100%|██████████| 181/181 [00:00<00:00, 19182.08it/s]\n",
            "100%|██████████| 387/387 [00:00<00:00, 22359.30it/s]\n",
            "100%|██████████| 177/177 [00:00<00:00, 20187.95it/s]\n",
            "100%|██████████| 117/117 [00:00<00:00, 17958.49it/s]\n",
            "100%|██████████| 98/98 [00:00<00:00, 19546.43it/s]\n",
            "100%|██████████| 87/87 [00:00<00:00, 17931.42it/s]\n",
            "100%|██████████| 182/182 [00:00<00:00, 20063.69it/s]\n",
            "100%|██████████| 204/204 [00:00<00:00, 18979.59it/s]\n",
            "100%|██████████| 259/259 [00:00<00:00, 21642.95it/s]\n",
            "100%|██████████| 269/269 [00:00<00:00, 21692.03it/s]\n",
            "100%|██████████| 403/403 [00:00<00:00, 21887.20it/s]\n",
            "100%|██████████| 279/279 [00:00<00:00, 21049.61it/s]\n",
            "100%|██████████| 120/120 [00:00<00:00, 18094.50it/s]\n",
            "100%|██████████| 203/203 [00:00<00:00, 20982.89it/s]\n",
            "100%|██████████| 210/210 [00:00<00:00, 20375.77it/s]\n",
            "100%|██████████| 104/104 [00:00<00:00, 16931.55it/s]\n",
            "100%|██████████| 277/277 [00:00<00:00, 19056.26it/s]\n",
            "100%|██████████| 278/278 [00:00<00:00, 21653.85it/s]\n",
            "100%|██████████| 104/104 [00:00<00:00, 17860.53it/s]\n",
            "100%|██████████| 229/229 [00:00<00:00, 21514.07it/s]\n",
            "100%|██████████| 114/114 [00:00<00:00, 19702.93it/s]\n",
            "100%|██████████| 219/219 [00:00<00:00, 20115.91it/s]\n",
            "100%|██████████| 217/217 [00:00<00:00, 21421.17it/s]\n",
            "100%|██████████| 200/200 [00:00<00:00, 21221.94it/s]\n",
            "100%|██████████| 324/324 [00:00<00:00, 19571.61it/s]\n",
            "100%|██████████| 147/147 [00:00<00:00, 20157.67it/s]\n",
            "100%|██████████| 313/313 [00:00<00:00, 21782.99it/s]\n",
            "100%|██████████| 583/583 [00:00<00:00, 20390.07it/s]\n",
            "100%|██████████| 386/386 [00:00<00:00, 20987.29it/s]\n",
            "100%|██████████| 519/519 [00:00<00:00, 21439.55it/s]\n",
            "100%|██████████| 533/533 [00:00<00:00, 23530.52it/s]\n",
            "100%|██████████| 412/412 [00:00<00:00, 23254.65it/s]\n",
            "100%|██████████| 521/521 [00:00<00:00, 20874.16it/s]\n",
            "100%|██████████| 234/234 [00:00<00:00, 19989.96it/s]\n",
            "100%|██████████| 734/734 [00:00<00:00, 21965.50it/s]\n",
            "100%|██████████| 227/227 [00:00<00:00, 20356.78it/s]\n",
            "100%|██████████| 372/372 [00:00<00:00, 23123.50it/s]\n",
            "100%|██████████| 247/247 [00:00<00:00, 21710.74it/s]\n",
            "100%|██████████| 342/342 [00:00<00:00, 21683.85it/s]\n",
            "100%|██████████| 216/216 [00:00<00:00, 18298.72it/s]\n",
            "100%|██████████| 167/167 [00:00<00:00, 19213.01it/s]\n",
            "100%|██████████| 167/167 [00:00<00:00, 19891.20it/s]\n",
            "100%|██████████| 746/746 [00:00<00:00, 22238.30it/s]\n",
            "100%|██████████| 463/463 [00:00<00:00, 22659.22it/s]\n",
            "100%|██████████| 420/420 [00:00<00:00, 22811.07it/s]\n",
            "100%|██████████| 434/434 [00:00<00:00, 22322.44it/s]\n",
            "100%|██████████| 909/909 [00:00<00:00, 24109.92it/s]\n",
            "100%|██████████| 246/246 [00:00<00:00, 21838.86it/s]\n",
            "100%|██████████| 371/371 [00:00<00:00, 23149.51it/s]\n",
            "100%|██████████| 202/202 [00:00<00:00, 18148.21it/s]\n",
            "100%|██████████| 128/128 [00:00<00:00, 19260.63it/s]\n",
            "100%|██████████| 124/124 [00:00<00:00, 20055.28it/s]\n",
            "100%|██████████| 136/136 [00:00<00:00, 17163.91it/s]\n",
            "100%|██████████| 145/145 [00:00<00:00, 20368.88it/s]\n",
            "100%|██████████| 291/291 [00:00<00:00, 21911.61it/s]\n",
            "100%|██████████| 442/442 [00:00<00:00, 22695.23it/s]\n",
            "100%|██████████| 120/120 [00:00<00:00, 17451.42it/s]\n",
            "100%|██████████| 169/169 [00:00<00:00, 19932.44it/s]\n",
            "100%|██████████| 235/235 [00:00<00:00, 22138.25it/s]\n",
            "100%|██████████| 152/152 [00:00<00:00, 20092.47it/s]\n",
            "100%|██████████| 121/121 [00:00<00:00, 17873.87it/s]\n",
            "100%|██████████| 142/142 [00:00<00:00, 18588.99it/s]\n",
            "100%|██████████| 107/107 [00:00<00:00, 18402.86it/s]\n",
            "100%|██████████| 193/193 [00:00<00:00, 21276.89it/s]\n",
            "100%|██████████| 125/125 [00:00<00:00, 19656.87it/s]\n",
            "100%|██████████| 166/166 [00:00<00:00, 20018.24it/s]\n",
            "100%|██████████| 154/154 [00:00<00:00, 19581.73it/s]\n",
            "100%|██████████| 205/205 [00:00<00:00, 21076.39it/s]\n",
            "100%|██████████| 294/294 [00:00<00:00, 20455.27it/s]\n",
            "100%|██████████| 250/250 [00:00<00:00, 21151.73it/s]\n",
            "100%|██████████| 222/222 [00:00<00:00, 19923.30it/s]\n",
            "100%|██████████| 273/273 [00:00<00:00, 20850.47it/s]\n",
            "100%|██████████| 275/275 [00:00<00:00, 21331.83it/s]\n",
            "100%|██████████| 203/203 [00:00<00:00, 21650.91it/s]\n",
            "100%|██████████| 172/172 [00:00<00:00, 20429.89it/s]\n",
            "100%|██████████| 258/258 [00:00<00:00, 21502.84it/s]\n",
            "100%|██████████| 159/159 [00:00<00:00, 18448.49it/s]\n",
            "100%|██████████| 166/166 [00:00<00:00, 19779.39it/s]\n",
            "100%|██████████| 224/224 [00:00<00:00, 21914.12it/s]\n",
            "100%|██████████| 270/270 [00:00<00:00, 21234.59it/s]\n",
            "100%|██████████| 121/121 [00:00<00:00, 19445.60it/s]\n",
            "100%|██████████| 230/230 [00:00<00:00, 20009.75it/s]\n",
            "100%|██████████| 175/175 [00:00<00:00, 17822.10it/s]\n",
            "100%|██████████| 262/262 [00:00<00:00, 20658.49it/s]\n",
            "100%|██████████| 115/115 [00:00<00:00, 19094.45it/s]\n",
            "100%|██████████| 551/551 [00:00<00:00, 22383.38it/s]\n",
            "100%|██████████| 1705/1705 [00:00<00:00, 23797.41it/s]\n",
            "100%|██████████| 622/622 [00:00<00:00, 22989.78it/s]\n",
            "100%|██████████| 440/440 [00:00<00:00, 22033.64it/s]\n",
            "100%|██████████| 483/483 [00:00<00:00, 22138.97it/s]\n",
            "100%|██████████| 519/519 [00:00<00:00, 23124.46it/s]\n",
            "100%|██████████| 180/180 [00:00<00:00, 18863.05it/s]\n",
            "100%|██████████| 276/276 [00:00<00:00, 20447.01it/s]\n",
            "100%|██████████| 197/197 [00:00<00:00, 20492.49it/s]\n",
            "100%|██████████| 240/240 [00:00<00:00, 21659.67it/s]\n",
            "100%|██████████| 180/180 [00:00<00:00, 21491.49it/s]\n",
            "100%|██████████| 147/147 [00:00<00:00, 20170.86it/s]\n",
            "100%|██████████| 93/93 [00:00<00:00, 17871.82it/s]\n",
            "100%|██████████| 107/107 [00:00<00:00, 20763.88it/s]\n",
            "100%|██████████| 306/306 [00:00<00:00, 21964.22it/s]\n",
            "100%|██████████| 115/115 [00:00<00:00, 19262.98it/s]\n",
            "100%|██████████| 101/101 [00:00<00:00, 18074.27it/s]\n",
            "100%|██████████| 148/148 [00:00<00:00, 20384.10it/s]\n",
            "100%|██████████| 231/231 [00:00<00:00, 21624.95it/s]\n",
            "100%|██████████| 106/106 [00:00<00:00, 17433.10it/s]\n",
            "100%|██████████| 169/169 [00:00<00:00, 21596.41it/s]\n",
            "100%|██████████| 120/120 [00:00<00:00, 20078.85it/s]\n",
            "100%|██████████| 320/320 [00:00<00:00, 22521.26it/s]\n",
            "100%|██████████| 271/271 [00:00<00:00, 20617.00it/s]\n",
            "100%|██████████| 165/165 [00:00<00:00, 19958.48it/s]\n",
            "100%|██████████| 306/306 [00:00<00:00, 22055.94it/s]\n",
            "100%|██████████| 115/115 [00:00<00:00, 18386.25it/s]\n",
            "100%|██████████| 144/144 [00:00<00:00, 20153.48it/s]\n",
            "100%|██████████| 190/190 [00:00<00:00, 21050.18it/s]\n",
            "100%|██████████| 138/138 [00:00<00:00, 18733.06it/s]\n",
            "100%|██████████| 102/102 [00:00<00:00, 17998.28it/s]\n",
            "100%|██████████| 170/170 [00:00<00:00, 20525.39it/s]\n",
            "100%|██████████| 157/157 [00:00<00:00, 19865.62it/s]\n",
            "100%|██████████| 191/191 [00:00<00:00, 20475.71it/s]\n",
            "100%|██████████| 223/223 [00:00<00:00, 22048.74it/s]\n",
            "100%|██████████| 243/243 [00:00<00:00, 22531.08it/s]\n",
            "100%|██████████| 373/373 [00:00<00:00, 22454.22it/s]\n",
            "100%|██████████| 279/279 [00:00<00:00, 20312.28it/s]\n",
            "100%|██████████| 132/132 [00:00<00:00, 18830.93it/s]\n",
            "100%|██████████| 169/169 [00:00<00:00, 19765.70it/s]\n",
            "100%|██████████| 116/116 [00:00<00:00, 20253.90it/s]\n",
            "100%|██████████| 515/515 [00:00<00:00, 22023.52it/s]\n",
            "100%|██████████| 637/637 [00:00<00:00, 22556.88it/s]\n",
            "100%|██████████| 103/103 [00:00<00:00, 17833.37it/s]\n",
            "100%|██████████| 376/376 [00:00<00:00, 22166.51it/s]\n",
            "100%|██████████| 158/158 [00:00<00:00, 18300.06it/s]\n",
            "100%|██████████| 131/131 [00:00<00:00, 17625.39it/s]\n",
            "100%|██████████| 100/100 [00:00<00:00, 17347.61it/s]\n",
            "100%|██████████| 141/141 [00:00<00:00, 18378.35it/s]\n",
            "100%|██████████| 273/273 [00:00<00:00, 20998.83it/s]\n",
            "100%|██████████| 191/191 [00:00<00:00, 20337.96it/s]\n",
            "100%|██████████| 102/102 [00:00<00:00, 17416.50it/s]\n",
            "100%|██████████| 91/91 [00:00<00:00, 17058.40it/s]\n",
            "100%|██████████| 112/112 [00:00<00:00, 20569.32it/s]\n",
            "100%|██████████| 194/194 [00:00<00:00, 20597.79it/s]\n",
            "100%|██████████| 144/144 [00:00<00:00, 15490.63it/s]\n",
            "100%|██████████| 186/186 [00:00<00:00, 20539.74it/s]\n",
            "100%|██████████| 103/103 [00:00<00:00, 17894.68it/s]\n",
            "100%|██████████| 123/123 [00:00<00:00, 18866.32it/s]\n",
            "100%|██████████| 126/126 [00:00<00:00, 18700.06it/s]\n",
            "100%|██████████| 100/100 [00:00<00:00, 16114.58it/s]\n",
            "100%|██████████| 144/144 [00:00<00:00, 20125.28it/s]\n",
            "100%|██████████| 148/148 [00:00<00:00, 17146.56it/s]\n",
            "100%|██████████| 117/117 [00:00<00:00, 19667.10it/s]\n",
            "100%|██████████| 105/105 [00:00<00:00, 20224.19it/s]\n",
            "100%|██████████| 114/114 [00:00<00:00, 19418.86it/s]\n",
            "100%|██████████| 183/183 [00:00<00:00, 19870.50it/s]\n",
            "100%|██████████| 103/103 [00:00<00:00, 18507.98it/s]\n",
            "100%|██████████| 244/244 [00:00<00:00, 22620.30it/s]\n",
            "100%|██████████| 146/146 [00:00<00:00, 20833.82it/s]\n",
            "100%|██████████| 159/159 [00:00<00:00, 20573.00it/s]\n",
            "100%|██████████| 230/230 [00:00<00:00, 22534.22it/s]\n",
            "100%|██████████| 156/156 [00:00<00:00, 19015.71it/s]\n",
            "100%|██████████| 258/258 [00:00<00:00, 21991.39it/s]\n",
            "100%|██████████| 244/244 [00:00<00:00, 20988.72it/s]\n",
            "100%|██████████| 297/297 [00:00<00:00, 19668.56it/s]\n",
            "100%|██████████| 261/261 [00:00<00:00, 19424.28it/s]\n",
            "100%|██████████| 94/94 [00:00<00:00, 17299.89it/s]\n",
            "100%|██████████| 112/112 [00:00<00:00, 17249.74it/s]\n",
            "100%|██████████| 120/120 [00:00<00:00, 19782.12it/s]\n",
            "100%|██████████| 117/117 [00:00<00:00, 19015.52it/s]\n",
            "100%|██████████| 144/144 [00:00<00:00, 20209.46it/s]\n",
            "100%|██████████| 216/216 [00:00<00:00, 21743.10it/s]\n",
            "100%|██████████| 203/203 [00:00<00:00, 22368.15it/s]\n",
            "100%|██████████| 104/104 [00:00<00:00, 17655.22it/s]\n",
            "100%|██████████| 136/136 [00:00<00:00, 20400.02it/s]\n",
            "100%|██████████| 114/114 [00:00<00:00, 19836.98it/s]\n",
            "100%|██████████| 95/95 [00:00<00:00, 15962.62it/s]\n",
            "100%|██████████| 91/91 [00:00<00:00, 18074.62it/s]\n",
            "100%|██████████| 138/138 [00:00<00:00, 20884.50it/s]\n",
            "100%|██████████| 109/109 [00:00<00:00, 18246.29it/s]\n",
            "100%|██████████| 161/161 [00:00<00:00, 20038.66it/s]\n",
            "100%|██████████| 120/120 [00:00<00:00, 19396.37it/s]\n",
            "100%|██████████| 103/103 [00:00<00:00, 19889.20it/s]\n",
            "100%|██████████| 107/107 [00:00<00:00, 18869.43it/s]\n",
            "100%|██████████| 136/136 [00:00<00:00, 19201.71it/s]\n",
            "100%|██████████| 151/151 [00:00<00:00, 21955.90it/s]\n",
            "100%|██████████| 114/114 [00:00<00:00, 20776.51it/s]\n",
            "100%|██████████| 134/134 [00:00<00:00, 18586.49it/s]\n",
            "100%|██████████| 101/101 [00:00<00:00, 19666.89it/s]\n",
            "100%|██████████| 128/128 [00:00<00:00, 18595.51it/s]\n",
            "100%|██████████| 156/156 [00:00<00:00, 19900.59it/s]\n",
            "100%|██████████| 379/379 [00:00<00:00, 19591.10it/s]\n",
            "100%|██████████| 90/90 [00:00<00:00, 15120.66it/s]\n",
            "100%|██████████| 135/135 [00:00<00:00, 22617.58it/s]\n",
            "100%|██████████| 229/229 [00:00<00:00, 19302.56it/s]\n",
            "100%|██████████| 122/122 [00:00<00:00, 19115.58it/s]\n",
            "100%|██████████| 141/141 [00:00<00:00, 19585.92it/s]\n",
            "100%|██████████| 113/113 [00:00<00:00, 19603.60it/s]\n",
            "100%|██████████| 109/109 [00:00<00:00, 18141.31it/s]\n",
            "100%|██████████| 99/99 [00:00<00:00, 20371.69it/s]\n",
            "100%|██████████| 174/174 [00:00<00:00, 20900.05it/s]\n",
            "100%|██████████| 175/175 [00:00<00:00, 22313.52it/s]\n",
            "100%|██████████| 464/464 [00:00<00:00, 22410.58it/s]\n",
            "100%|██████████| 138/138 [00:00<00:00, 19840.06it/s]\n",
            "100%|██████████| 117/117 [00:00<00:00, 19881.44it/s]\n",
            "100%|██████████| 337/337 [00:00<00:00, 22134.74it/s]\n",
            "100%|██████████| 116/116 [00:00<00:00, 17013.05it/s]\n",
            "100%|██████████| 177/177 [00:00<00:00, 19949.80it/s]\n",
            "100%|██████████| 119/119 [00:00<00:00, 18554.04it/s]\n",
            "100%|██████████| 107/107 [00:00<00:00, 16602.19it/s]\n",
            "100%|██████████| 265/265 [00:00<00:00, 22810.10it/s]\n",
            "100%|██████████| 120/120 [00:00<00:00, 19604.13it/s]\n",
            "100%|██████████| 137/137 [00:00<00:00, 20105.66it/s]\n",
            "100%|██████████| 172/172 [00:00<00:00, 19575.09it/s]\n",
            "100%|██████████| 189/189 [00:00<00:00, 21209.42it/s]\n",
            "100%|██████████| 95/95 [00:00<00:00, 18494.26it/s]\n",
            "100%|██████████| 136/136 [00:00<00:00, 19556.55it/s]\n",
            "100%|██████████| 127/127 [00:00<00:00, 20204.70it/s]\n",
            "100%|██████████| 230/230 [00:00<00:00, 22066.20it/s]\n",
            "100%|██████████| 172/172 [00:00<00:00, 18727.00it/s]\n",
            "100%|██████████| 95/95 [00:00<00:00, 19259.46it/s]\n",
            "100%|██████████| 168/168 [00:00<00:00, 18854.84it/s]\n",
            "100%|██████████| 196/196 [00:00<00:00, 18939.40it/s]\n",
            "100%|██████████| 183/183 [00:00<00:00, 19732.57it/s]\n",
            "100%|██████████| 175/175 [00:00<00:00, 18378.57it/s]\n",
            "100%|██████████| 116/116 [00:00<00:00, 18130.10it/s]\n",
            "100%|██████████| 197/197 [00:00<00:00, 21795.78it/s]\n",
            "100%|██████████| 103/103 [00:00<00:00, 17217.86it/s]\n",
            "100%|██████████| 190/190 [00:00<00:00, 20616.70it/s]\n",
            "100%|██████████| 110/110 [00:00<00:00, 19991.92it/s]\n",
            "100%|██████████| 93/93 [00:00<00:00, 17207.97it/s]\n",
            "100%|██████████| 95/95 [00:00<00:00, 19882.19it/s]\n",
            "100%|██████████| 124/124 [00:00<00:00, 22032.27it/s]\n",
            "100%|██████████| 138/138 [00:00<00:00, 21065.40it/s]\n",
            "100%|██████████| 172/172 [00:00<00:00, 18141.64it/s]\n",
            "100%|██████████| 134/134 [00:00<00:00, 19277.54it/s]\n",
            "100%|██████████| 126/126 [00:00<00:00, 19558.21it/s]\n",
            "100%|██████████| 130/130 [00:00<00:00, 19260.32it/s]\n",
            "100%|██████████| 102/102 [00:00<00:00, 17601.37it/s]\n",
            "100%|██████████| 365/365 [00:00<00:00, 23101.62it/s]\n",
            "100%|██████████| 176/176 [00:00<00:00, 21869.93it/s]\n",
            "100%|██████████| 144/144 [00:00<00:00, 19129.63it/s]\n",
            "100%|██████████| 329/329 [00:00<00:00, 21286.61it/s]\n",
            "100%|██████████| 354/354 [00:00<00:00, 20726.20it/s]\n",
            "100%|██████████| 157/157 [00:00<00:00, 18740.56it/s]\n",
            "100%|██████████| 104/104 [00:00<00:00, 15900.26it/s]\n",
            "100%|██████████| 110/110 [00:00<00:00, 17862.61it/s]\n",
            "100%|██████████| 136/136 [00:00<00:00, 19746.78it/s]\n",
            "100%|██████████| 138/138 [00:00<00:00, 18717.91it/s]\n",
            "100%|██████████| 234/234 [00:00<00:00, 19348.02it/s]\n",
            "100%|██████████| 106/106 [00:00<00:00, 19051.13it/s]\n",
            "100%|██████████| 103/103 [00:00<00:00, 17375.05it/s]\n",
            "100%|██████████| 125/125 [00:00<00:00, 19139.49it/s]\n",
            "100%|██████████| 117/117 [00:00<00:00, 20164.92it/s]\n",
            "100%|██████████| 597/597 [00:00<00:00, 23073.23it/s]\n",
            "100%|██████████| 630/630 [00:00<00:00, 23991.17it/s]\n",
            "100%|██████████| 206/206 [00:00<00:00, 20776.36it/s]\n",
            "100%|██████████| 281/281 [00:00<00:00, 20226.52it/s]\n",
            "100%|██████████| 124/124 [00:00<00:00, 17290.92it/s]\n",
            "100%|██████████| 308/308 [00:00<00:00, 22823.72it/s]\n",
            "100%|██████████| 210/210 [00:00<00:00, 21496.65it/s]\n",
            "100%|██████████| 122/122 [00:00<00:00, 20048.78it/s]\n",
            "100%|██████████| 153/153 [00:00<00:00, 20637.68it/s]\n",
            "100%|██████████| 274/274 [00:00<00:00, 21413.86it/s]\n",
            "100%|██████████| 147/147 [00:00<00:00, 20949.43it/s]\n",
            "100%|██████████| 155/155 [00:00<00:00, 19190.52it/s]\n",
            "100%|██████████| 288/288 [00:00<00:00, 19324.26it/s]\n",
            "100%|██████████| 175/175 [00:00<00:00, 20430.41it/s]\n",
            "100%|██████████| 129/129 [00:00<00:00, 21034.30it/s]\n",
            "100%|██████████| 133/133 [00:00<00:00, 16712.88it/s]\n",
            "100%|██████████| 134/134 [00:00<00:00, 18912.33it/s]\n",
            "100%|██████████| 123/123 [00:00<00:00, 17631.56it/s]\n",
            "100%|██████████| 93/93 [00:00<00:00, 17804.11it/s]\n",
            "100%|██████████| 124/124 [00:00<00:00, 19483.54it/s]\n",
            "100%|██████████| 112/112 [00:00<00:00, 18675.44it/s]\n",
            "100%|██████████| 143/143 [00:00<00:00, 18645.41it/s]\n",
            "100%|██████████| 112/112 [00:00<00:00, 17898.42it/s]\n",
            "100%|██████████| 136/136 [00:00<00:00, 18422.81it/s]\n",
            "100%|██████████| 133/133 [00:00<00:00, 19240.59it/s]\n",
            "100%|██████████| 130/130 [00:00<00:00, 17722.22it/s]\n",
            "100%|██████████| 152/152 [00:00<00:00, 18496.95it/s]\n",
            "100%|██████████| 115/115 [00:00<00:00, 19727.81it/s]\n",
            "100%|██████████| 152/152 [00:00<00:00, 19695.83it/s]\n",
            "100%|██████████| 119/119 [00:00<00:00, 19452.13it/s]\n",
            "100%|██████████| 233/233 [00:00<00:00, 20755.50it/s]\n",
            "100%|██████████| 138/138 [00:00<00:00, 18753.69it/s]\n",
            "100%|██████████| 126/126 [00:00<00:00, 19184.75it/s]\n",
            "100%|██████████| 169/169 [00:00<00:00, 21384.66it/s]\n",
            "100%|██████████| 279/279 [00:00<00:00, 22225.80it/s]\n",
            "100%|██████████| 129/129 [00:00<00:00, 19216.01it/s]\n",
            "100%|██████████| 222/222 [00:00<00:00, 21846.36it/s]\n",
            "100%|██████████| 170/170 [00:00<00:00, 21578.90it/s]\n",
            "100%|██████████| 133/133 [00:00<00:00, 21878.75it/s]\n",
            "100%|██████████| 130/130 [00:00<00:00, 17265.98it/s]\n",
            "100%|██████████| 147/147 [00:00<00:00, 19736.32it/s]\n",
            "100%|██████████| 103/103 [00:00<00:00, 20008.03it/s]\n",
            "100%|██████████| 139/139 [00:00<00:00, 19345.91it/s]\n",
            "100%|██████████| 192/192 [00:00<00:00, 19677.61it/s]\n",
            "100%|██████████| 195/195 [00:00<00:00, 19308.06it/s]\n",
            "100%|██████████| 198/198 [00:00<00:00, 20528.30it/s]\n",
            "100%|██████████| 127/127 [00:00<00:00, 18558.87it/s]\n",
            "100%|██████████| 227/227 [00:00<00:00, 21126.01it/s]\n",
            "100%|██████████| 255/255 [00:00<00:00, 21703.92it/s]\n",
            "100%|██████████| 402/402 [00:00<00:00, 22261.23it/s]\n",
            "100%|██████████| 270/270 [00:00<00:00, 21690.94it/s]\n",
            "100%|██████████| 156/156 [00:00<00:00, 19446.93it/s]\n",
            "100%|██████████| 130/130 [00:00<00:00, 19351.91it/s]\n",
            "100%|██████████| 205/205 [00:00<00:00, 20952.10it/s]\n",
            "100%|██████████| 166/166 [00:00<00:00, 19797.95it/s]\n",
            "100%|██████████| 151/151 [00:00<00:00, 19115.66it/s]\n",
            "100%|██████████| 213/213 [00:00<00:00, 22494.95it/s]\n",
            "100%|██████████| 180/180 [00:00<00:00, 17943.55it/s]\n",
            "100%|██████████| 206/206 [00:00<00:00, 19369.32it/s]\n",
            "100%|██████████| 201/201 [00:00<00:00, 22222.50it/s]\n",
            "100%|██████████| 238/238 [00:00<00:00, 21680.70it/s]\n",
            "100%|██████████| 115/115 [00:00<00:00, 18106.72it/s]\n",
            "100%|██████████| 214/214 [00:00<00:00, 22733.36it/s]\n",
            "100%|██████████| 134/134 [00:00<00:00, 17435.61it/s]\n",
            "100%|██████████| 112/112 [00:00<00:00, 18207.83it/s]\n",
            "100%|██████████| 174/174 [00:00<00:00, 20538.90it/s]\n",
            "100%|██████████| 91/91 [00:00<00:00, 19073.59it/s]\n",
            "100%|██████████| 151/151 [00:00<00:00, 19415.10it/s]\n",
            "100%|██████████| 150/150 [00:00<00:00, 18715.66it/s]\n",
            "100%|██████████| 216/216 [00:00<00:00, 22179.05it/s]\n",
            "100%|██████████| 127/127 [00:00<00:00, 18465.58it/s]\n",
            "100%|██████████| 111/111 [00:00<00:00, 19072.05it/s]\n",
            "100%|██████████| 630/630 [00:00<00:00, 24303.85it/s]\n",
            "100%|██████████| 307/307 [00:00<00:00, 19887.43it/s]\n",
            "100%|██████████| 294/294 [00:00<00:00, 22222.48it/s]\n",
            "100%|██████████| 102/102 [00:00<00:00, 18284.43it/s]\n",
            "100%|██████████| 99/99 [00:00<00:00, 17296.46it/s]\n",
            "100%|██████████| 278/278 [00:00<00:00, 19964.67it/s]\n",
            "100%|██████████| 169/169 [00:00<00:00, 20902.26it/s]\n",
            "100%|██████████| 164/164 [00:00<00:00, 19720.36it/s]\n",
            "100%|██████████| 130/130 [00:00<00:00, 19017.81it/s]\n",
            "100%|██████████| 149/149 [00:00<00:00, 19625.40it/s]\n",
            "100%|██████████| 109/109 [00:00<00:00, 20079.90it/s]\n",
            "100%|██████████| 212/212 [00:00<00:00, 22710.71it/s]\n",
            "100%|██████████| 101/101 [00:00<00:00, 19626.79it/s]\n",
            "100%|██████████| 117/117 [00:00<00:00, 16046.48it/s]\n",
            "100%|██████████| 121/121 [00:00<00:00, 18958.90it/s]\n",
            "100%|██████████| 138/138 [00:00<00:00, 17506.40it/s]\n",
            "100%|██████████| 126/126 [00:00<00:00, 20161.08it/s]\n",
            "100%|██████████| 174/174 [00:00<00:00, 20969.71it/s]\n",
            "100%|██████████| 164/164 [00:00<00:00, 20410.84it/s]\n",
            "100%|██████████| 202/202 [00:00<00:00, 19587.77it/s]\n",
            "100%|██████████| 383/383 [00:00<00:00, 21979.24it/s]\n",
            "100%|██████████| 230/230 [00:00<00:00, 21173.59it/s]\n",
            "100%|██████████| 361/361 [00:00<00:00, 21792.20it/s]\n",
            "100%|██████████| 321/321 [00:00<00:00, 22634.94it/s]\n",
            "100%|██████████| 276/276 [00:00<00:00, 20514.77it/s]\n",
            "100%|██████████| 216/216 [00:00<00:00, 22522.55it/s]\n",
            "100%|██████████| 107/107 [00:00<00:00, 18820.37it/s]\n",
            "100%|██████████| 103/103 [00:00<00:00, 14884.18it/s]\n",
            "100%|██████████| 175/175 [00:00<00:00, 20292.59it/s]\n",
            "100%|██████████| 179/179 [00:00<00:00, 18753.57it/s]\n",
            "100%|██████████| 204/204 [00:00<00:00, 20087.76it/s]\n",
            "100%|██████████| 101/101 [00:00<00:00, 17451.07it/s]\n",
            "100%|██████████| 209/209 [00:00<00:00, 21862.77it/s]\n",
            "100%|██████████| 170/170 [00:00<00:00, 15615.09it/s]\n",
            "100%|██████████| 120/120 [00:00<00:00, 19556.14it/s]\n",
            "100%|██████████| 432/432 [00:00<00:00, 24123.81it/s]\n",
            "100%|██████████| 142/142 [00:00<00:00, 20828.51it/s]\n",
            "100%|██████████| 144/144 [00:00<00:00, 17989.51it/s]\n",
            "100%|██████████| 199/199 [00:00<00:00, 20051.57it/s]\n",
            "100%|██████████| 199/199 [00:00<00:00, 19724.61it/s]\n",
            "100%|██████████| 188/188 [00:00<00:00, 22182.72it/s]\n",
            "100%|██████████| 425/425 [00:00<00:00, 23039.67it/s]\n",
            "100%|██████████| 127/127 [00:00<00:00, 16847.26it/s]\n",
            "100%|██████████| 150/150 [00:00<00:00, 22107.09it/s]\n",
            "100%|██████████| 152/152 [00:00<00:00, 17724.55it/s]\n",
            "100%|██████████| 125/125 [00:00<00:00, 19801.64it/s]\n",
            "100%|██████████| 132/132 [00:00<00:00, 19745.64it/s]\n",
            "100%|██████████| 165/165 [00:00<00:00, 20008.68it/s]\n",
            "100%|██████████| 123/123 [00:00<00:00, 17556.56it/s]\n",
            "100%|██████████| 240/240 [00:00<00:00, 19772.79it/s]\n",
            "100%|██████████| 127/127 [00:00<00:00, 12399.07it/s]\n",
            "100%|██████████| 211/211 [00:00<00:00, 20186.08it/s]\n",
            "100%|██████████| 265/265 [00:00<00:00, 19493.34it/s]\n",
            "100%|██████████| 286/286 [00:00<00:00, 22205.64it/s]\n",
            "100%|██████████| 337/337 [00:00<00:00, 21242.25it/s]\n",
            "100%|██████████| 346/346 [00:00<00:00, 21384.37it/s]\n",
            "100%|██████████| 272/272 [00:00<00:00, 21276.59it/s]\n",
            "100%|██████████| 708/708 [00:00<00:00, 24145.57it/s]\n",
            "100%|██████████| 111/111 [00:00<00:00, 16808.71it/s]\n",
            "100%|██████████| 298/298 [00:00<00:00, 22838.03it/s]\n",
            "100%|██████████| 431/431 [00:00<00:00, 22283.73it/s]\n",
            "100%|██████████| 471/471 [00:00<00:00, 21891.33it/s]\n",
            "100%|██████████| 370/370 [00:00<00:00, 23294.69it/s]\n",
            "100%|██████████| 173/173 [00:00<00:00, 20541.69it/s]\n",
            "100%|██████████| 157/157 [00:00<00:00, 18772.61it/s]\n",
            "100%|██████████| 257/257 [00:00<00:00, 19934.09it/s]\n",
            "100%|██████████| 576/576 [00:00<00:00, 23238.48it/s]\n",
            "100%|██████████| 269/269 [00:00<00:00, 21402.76it/s]\n",
            "100%|██████████| 188/188 [00:00<00:00, 21297.78it/s]\n",
            "100%|██████████| 129/129 [00:00<00:00, 20818.21it/s]\n",
            "100%|██████████| 89/89 [00:00<00:00, 16585.64it/s]\n",
            "100%|██████████| 205/205 [00:00<00:00, 20676.50it/s]\n",
            "100%|██████████| 189/189 [00:00<00:00, 20032.94it/s]\n",
            "100%|██████████| 167/167 [00:00<00:00, 20234.83it/s]\n",
            "100%|██████████| 448/448 [00:00<00:00, 21540.07it/s]\n",
            "100%|██████████| 335/335 [00:00<00:00, 20106.92it/s]\n",
            "100%|██████████| 190/190 [00:00<00:00, 21847.13it/s]\n",
            "100%|██████████| 423/423 [00:00<00:00, 22333.16it/s]\n",
            "100%|██████████| 453/453 [00:00<00:00, 22982.35it/s]\n",
            "100%|██████████| 208/208 [00:00<00:00, 21423.68it/s]\n",
            "100%|██████████| 459/459 [00:00<00:00, 21447.43it/s]\n",
            "100%|██████████| 104/104 [00:00<00:00, 18156.40it/s]\n",
            "100%|██████████| 225/225 [00:00<00:00, 20616.91it/s]\n",
            "100%|██████████| 187/187 [00:00<00:00, 20059.71it/s]\n",
            "100%|██████████| 176/176 [00:00<00:00, 21827.25it/s]\n",
            "100%|██████████| 270/270 [00:00<00:00, 20046.77it/s]\n",
            "100%|██████████| 389/389 [00:00<00:00, 22021.65it/s]\n",
            "100%|██████████| 520/520 [00:00<00:00, 23102.99it/s]\n",
            "100%|██████████| 285/285 [00:00<00:00, 21096.62it/s]\n",
            "100%|██████████| 300/300 [00:00<00:00, 22621.37it/s]\n",
            "100%|██████████| 441/441 [00:00<00:00, 21402.73it/s]\n",
            "100%|██████████| 192/192 [00:00<00:00, 18576.85it/s]\n",
            "100%|██████████| 122/122 [00:00<00:00, 16662.49it/s]\n",
            "100%|██████████| 196/196 [00:00<00:00, 20867.71it/s]\n",
            "100%|██████████| 203/203 [00:00<00:00, 19376.09it/s]\n",
            "100%|██████████| 203/203 [00:00<00:00, 20799.39it/s]\n",
            "100%|██████████| 118/118 [00:00<00:00, 18970.02it/s]\n",
            "100%|██████████| 123/123 [00:00<00:00, 18497.65it/s]\n",
            "100%|██████████| 144/144 [00:00<00:00, 18481.63it/s]\n",
            "100%|██████████| 252/252 [00:00<00:00, 22233.16it/s]\n",
            "100%|██████████| 530/530 [00:00<00:00, 24016.13it/s]\n",
            "100%|██████████| 220/220 [00:00<00:00, 19508.39it/s]\n",
            "100%|██████████| 216/216 [00:00<00:00, 19682.58it/s]\n",
            "100%|██████████| 329/329 [00:00<00:00, 21189.53it/s]\n",
            "100%|██████████| 444/444 [00:00<00:00, 21394.59it/s]"
          ]
        },
        {
          "output_type": "stream",
          "name": "stdout",
          "text": [
            "Data was loaded.\n"
          ]
        },
        {
          "output_type": "stream",
          "name": "stderr",
          "text": [
            "\n"
          ]
        }
      ]
    },
    {
      "cell_type": "markdown",
      "source": [
        "Выдаются 4 кусочка по 256"
      ],
      "metadata": {
        "id": "3Hb1te7wLn7t"
      }
    },
    {
      "cell_type": "code",
      "source": [
        "len(next(iter(test_loader)))"
      ],
      "metadata": {
        "id": "CWv3l0wkLOav",
        "colab": {
          "base_uri": "https://localhost:8080/"
        },
        "outputId": "42fe3833-4248-4316-a1c8-62bb60ad3432"
      },
      "execution_count": null,
      "outputs": [
        {
          "output_type": "execute_result",
          "data": {
            "text/plain": [
              "4"
            ]
          },
          "metadata": {},
          "execution_count": 21
        }
      ]
    },
    {
      "cell_type": "code",
      "source": [
        "next(iter(test_loader))[0].shape"
      ],
      "metadata": {
        "id": "xQ86_6EwLhTT",
        "colab": {
          "base_uri": "https://localhost:8080/"
        },
        "outputId": "d1f969d6-fae6-4a90-fdb5-7480b87db736"
      },
      "execution_count": null,
      "outputs": [
        {
          "output_type": "execute_result",
          "data": {
            "text/plain": [
              "torch.Size([4, 256])"
            ]
          },
          "metadata": {},
          "execution_count": 22
        }
      ]
    },
    {
      "cell_type": "code",
      "source": [
        "LOG_PATH = f\"{common_path}/debug/logs.txt\"\n",
        "WEIGHTS_SAVE_DIR = f'{common_path}/weights'"
      ],
      "metadata": {
        "id": "FBJWPXQHKSV0"
      },
      "execution_count": null,
      "outputs": []
    },
    {
      "cell_type": "markdown",
      "source": [
        "#Обучение"
      ],
      "metadata": {
        "id": "Ue5xLTCZM5Pp"
      }
    },
    {
      "cell_type": "code",
      "source": [
        "gradient_clip =-1 #отключён\n",
        "def train_epoch(model: nn.Module,\n",
        "                loader: DataLoader,\n",
        "                criterion: nn.Module,\n",
        "                optimizer: torch.optim.Optimizer\n",
        "                ) -> Tuple[float, float]:\n",
        "    \"\"\"\n",
        "    Train single epoch\n",
        "\n",
        "    Args:\n",
        "        model (nn.Module): model instance\n",
        "        loader (DataLoader): data loader\n",
        "        criterion (nn.Module): criterion\n",
        "        optimizer (torch.optim.Optimizer): optimizer\n",
        "\n",
        "    Returns:\n",
        "        tuple[float, float]: train_loss, train_accuracy\n",
        "    \"\"\"\n",
        "    train_loss = 0.0\n",
        "    train_iteration = 0\n",
        "    correct = 0.\n",
        "    total = 0.\n",
        "\n",
        "    model.train()\n",
        "    for x, y, att, y_mask in tqdm(loader, desc='train'):\n",
        "        # print ('x:',x.shape)\n",
        "        # print ('y:',y.shape)\n",
        "        # print ('y_mask:',y_mask.shape)\n",
        "        # print ('att:',att.shape)\n",
        "\n",
        "        x = x.to(DEVICE)\n",
        "        y = y.view(-1).to(DEVICE)\n",
        "        att = att.to(DEVICE)\n",
        "        y_mask = y_mask.view(-1).to(DEVICE)\n",
        "\n",
        "        print ('\\nProgress1')\n",
        "        y_predict = model(x, att)\n",
        "        print ('\\nProgress111')\n",
        "\n",
        "        print (y_predict.shape)\n",
        "        # print (y_predict)\n",
        "\n",
        "        y_predict = y_predict.view(-1, y_predict.shape[2])\n",
        "        print ('y_predict.shape: ', y_predict.shape)\n",
        "        print ('Progress222')\n",
        "\n",
        "        loss = criterion(y_predict, y)####\n",
        "        print ('Progress2')\n",
        "\n",
        "        y_predict = torch.argmax(y_predict, dim=1).view(-1)\n",
        "        correct += torch.sum(y_mask * (y_predict == y).long()).item()\n",
        "        print ('Progress3')\n",
        "\n",
        "        optimizer.zero_grad()\n",
        "        train_loss += loss.item()\n",
        "        train_iteration += 1\n",
        "        loss.backward()\n",
        "        print ('Progress4')\n",
        "\n",
        "        if gradient_clip > 0:\n",
        "            torch.nn.utils.clip_grad_norm_(model.parameters(), gradient_clip)\n",
        "\n",
        "        optimizer.step()\n",
        "        total += torch.sum(y_mask.view(-1)).item()\n",
        "\n",
        "    train_loss /= train_iteration\n",
        "    train_accuracy = correct / total\n",
        "\n",
        "    return train_loss, train_accuracy\n",
        "\n",
        "\n",
        "def validate_epoch(model: nn.Module,\n",
        "                   loader: DataLoader,\n",
        "                   criterion: nn.Module) -> Tuple[float, float]:\n",
        "    \"\"\"\n",
        "    Validate sinlge epoch\n",
        "\n",
        "    Args:\n",
        "        model (nn.Module): model instance\n",
        "        loader (DataLoader): data loader (should be different from train loader)\n",
        "        criterion (nn.Module): criterion\n",
        "\n",
        "    Returns:\n",
        "        tuple[float, float]: validation_loss, validation_accuracy\n",
        "    \"\"\"\n",
        "    num_iteration = 0\n",
        "    correct = 0.\n",
        "    total = 0.\n",
        "    val_loss = 0.0\n",
        "\n",
        "    model.eval()\n",
        "    with torch.no_grad():\n",
        "        for x, y, att, y_mask in tqdm(loader, desc='eval'):\n",
        "            x = x.to(DEVICE)\n",
        "            y = y.view(-1).to(DEVICE)\n",
        "            att = att.to(DEVICE)\n",
        "            y_mask = y_mask.view(-1).to(DEVICE)\n",
        "\n",
        "            y_predict = model(x, att)\n",
        "            y_predict = y_predict.view(-1, y_predict.shape[2])\n",
        "\n",
        "            loss = criterion(y_predict, y)\n",
        "            y_predict = torch.argmax(y_predict, dim=1).view(-1)\n",
        "\n",
        "            val_loss += loss.item()\n",
        "            num_iteration += 1\n",
        "            y_mask = y_mask.view(-1)\n",
        "            correct += torch.sum(y_mask * (y_predict == y).long()).item()\n",
        "            total += torch.sum(y_mask).item()\n",
        "\n",
        "    val_loss = val_loss / num_iteration\n",
        "    val_acc = correct / total\n",
        "\n",
        "    return val_loss, val_acc"
      ],
      "metadata": {
        "id": "vjqwyLQRKldM"
      },
      "execution_count": null,
      "outputs": []
    },
    {
      "cell_type": "code",
      "source": [
        "def train() -> None:\n",
        "    epoch = 2\n",
        "    \"\"\"Train: global function\"\"\"\n",
        "    resume = False\n",
        "    if not resume:\n",
        "        best_val_acc = 0.0\n",
        "        epochs = range(epoch)\n",
        "    #else:\n",
        "    #    last_epoch, best_val_acc = get_last_epoch_params('/content/drive/My Drive/debug_data/weights')\n",
        "    #    epochs = range(last_epoch + 1, last_epoch + 1 + epoch)\n",
        "\n",
        "    for epoch in epochs:\n",
        "        train_loss, train_acc = train_epoch(MODEL, train_loader, CRITERION, OPTIMIZER)\n",
        "        log_train_epoch(LOG_PATH, epoch, train_loss, train_acc)\n",
        "\n",
        "        val_loss, val_acc = validate_epoch(MODEL, val_loader, CRITERION)\n",
        "        log_val_epoch(LOG_PATH, epoch, val_loss, val_acc)\n",
        "\n",
        "        tracker.save(epoch, {'train_loss': train_loss,\n",
        "                              'train_accuracy': train_acc,\n",
        "                              'val_loss': val_loss,\n",
        "                              'val_accuracy': val_acc})\n",
        "\n",
        "        # store_every_weight = True ###########\n",
        "        store_best_weights = True\n",
        "        # if store_every_weight:\n",
        "        #     save_weights(MODEL, WEIGHTS_SAVE_DIR, epoch, val_acc)\n",
        "        # elif store_best_weights and (val_acc > best_val_acc):\n",
        "        #     best_val_acc = val_acc\n",
        "        #     save_weights(MODEL, WEIGHTS_SAVE_DIR, epoch, val_acc)\n",
        "        best_val_acc = val_acc\n",
        "        save_weights(MODEL, WEIGHTS_SAVE_DIR, epoch, val_acc)\n",
        "\n",
        "    log_text(LOG_PATH, f\"Best validation Acc: {best_val_acc}\")\n",
        "\n",
        "\n",
        "def test():\n",
        "    \"\"\"Test: global function\"\"\"\n",
        "    # precision, recall, f1, accuracy, cm = calc_accuracy_metrics(MODEL, test_loader)\n",
        "    precision, recall, f1, accuracy, cm = calc_accuracy_metrics(MODEL, val_loader)\n",
        "    log_test_metrics(LOG_PATH, precision, recall, f1, accuracy, cm)\n",
        "\n",
        "    non_O_keys = \" + \".join(list(TARGETS)[1:])\n",
        "    targets = list(TARGETS) + [non_O_keys]\n",
        "    for i, target in enumerate(targets):\n",
        "        log_target_test_metrics(LOG_PATH, target, precision[i], recall[i], f1[i])"
      ],
      "metadata": {
        "id": "i_SxdlbsQLzL"
      },
      "execution_count": null,
      "outputs": []
    },
    {
      "cell_type": "markdown",
      "source": [
        "#Train"
      ],
      "metadata": {
        "id": "6e_NSTTNMLI2"
      }
    },
    {
      "cell_type": "code",
      "source": [
        "train()"
      ],
      "metadata": {
        "id": "mXliKw3HQSXs",
        "colab": {
          "base_uri": "https://localhost:8080/",
          "height": 1000
        },
        "outputId": "9b80714a-1f47-41ed-d736-6a4cd0c0c0e9"
      },
      "execution_count": null,
      "outputs": [
        {
          "output_type": "stream",
          "name": "stderr",
          "text": [
            "\rtrain:   0%|          | 0/462 [00:00<?, ?it/s]"
          ]
        },
        {
          "output_type": "stream",
          "name": "stdout",
          "text": [
            "\n",
            "Progress1\n",
            "\n",
            "Progress111\n",
            "torch.Size([4, 256, 10])\n",
            "y_predict.shape:  torch.Size([1024, 10])\n",
            "Progress222\n",
            "Progress2\n",
            "Progress3\n",
            "Progress4\n"
          ]
        },
        {
          "output_type": "stream",
          "name": "stderr",
          "text": [
            "\rtrain:   0%|          | 1/462 [00:05<41:32,  5.41s/it]"
          ]
        },
        {
          "output_type": "stream",
          "name": "stdout",
          "text": [
            "\n",
            "Progress1\n",
            "\n",
            "Progress111\n",
            "torch.Size([4, 256, 10])\n",
            "y_predict.shape:  torch.Size([1024, 10])\n",
            "Progress222\n",
            "Progress2\n",
            "Progress3\n",
            "Progress4\n"
          ]
        },
        {
          "output_type": "stream",
          "name": "stderr",
          "text": [
            "\rtrain:   0%|          | 2/462 [00:08<30:22,  3.96s/it]"
          ]
        },
        {
          "output_type": "stream",
          "name": "stdout",
          "text": [
            "\n",
            "Progress1\n",
            "\n",
            "Progress111\n",
            "torch.Size([4, 256, 10])\n",
            "y_predict.shape:  torch.Size([1024, 10])\n",
            "Progress222\n",
            "Progress2\n",
            "Progress3\n",
            "Progress4\n"
          ]
        },
        {
          "output_type": "stream",
          "name": "stderr",
          "text": [
            "\rtrain:   1%|          | 3/462 [00:11<26:39,  3.48s/it]"
          ]
        },
        {
          "output_type": "stream",
          "name": "stdout",
          "text": [
            "\n",
            "Progress1\n",
            "\n",
            "Progress111\n",
            "torch.Size([4, 256, 10])\n",
            "y_predict.shape:  torch.Size([1024, 10])\n",
            "Progress222\n",
            "Progress2\n",
            "Progress3\n",
            "Progress4\n"
          ]
        },
        {
          "output_type": "stream",
          "name": "stderr",
          "text": [
            "\rtrain:   1%|          | 4/462 [00:14<26:25,  3.46s/it]"
          ]
        },
        {
          "output_type": "stream",
          "name": "stdout",
          "text": [
            "\n",
            "Progress1\n",
            "\n",
            "Progress111\n",
            "torch.Size([4, 256, 10])\n",
            "y_predict.shape:  torch.Size([1024, 10])\n",
            "Progress222\n",
            "Progress2\n",
            "Progress3\n",
            "Progress4\n"
          ]
        },
        {
          "output_type": "stream",
          "name": "stderr",
          "text": [
            "\rtrain:   1%|          | 5/462 [00:18<27:59,  3.67s/it]"
          ]
        },
        {
          "output_type": "stream",
          "name": "stdout",
          "text": [
            "\n",
            "Progress1\n",
            "\n",
            "Progress111\n",
            "torch.Size([4, 256, 10])\n",
            "y_predict.shape:  torch.Size([1024, 10])\n",
            "Progress222\n",
            "Progress2\n",
            "Progress3\n",
            "Progress4\n"
          ]
        },
        {
          "output_type": "stream",
          "name": "stderr",
          "text": [
            "\rtrain:   1%|▏         | 6/462 [00:21<25:55,  3.41s/it]"
          ]
        },
        {
          "output_type": "stream",
          "name": "stdout",
          "text": [
            "\n",
            "Progress1\n",
            "\n",
            "Progress111\n",
            "torch.Size([4, 256, 10])\n",
            "y_predict.shape:  torch.Size([1024, 10])\n",
            "Progress222\n",
            "Progress2\n",
            "Progress3\n",
            "Progress4\n"
          ]
        },
        {
          "output_type": "stream",
          "name": "stderr",
          "text": [
            "\rtrain:   2%|▏         | 7/462 [00:24<24:44,  3.26s/it]"
          ]
        },
        {
          "output_type": "stream",
          "name": "stdout",
          "text": [
            "\n",
            "Progress1\n",
            "\n",
            "Progress111\n",
            "torch.Size([4, 256, 10])\n",
            "y_predict.shape:  torch.Size([1024, 10])\n",
            "Progress222\n",
            "Progress2\n",
            "Progress3\n",
            "Progress4\n"
          ]
        },
        {
          "output_type": "stream",
          "name": "stderr",
          "text": [
            "\rtrain:   2%|▏         | 8/462 [00:27<24:09,  3.19s/it]"
          ]
        },
        {
          "output_type": "stream",
          "name": "stdout",
          "text": [
            "\n",
            "Progress1\n",
            "\n",
            "Progress111\n",
            "torch.Size([4, 256, 10])\n",
            "y_predict.shape:  torch.Size([1024, 10])\n",
            "Progress222\n",
            "Progress2\n",
            "Progress3\n",
            "Progress4\n"
          ]
        },
        {
          "output_type": "stream",
          "name": "stderr",
          "text": [
            "\rtrain:   2%|▏         | 9/462 [00:31<26:22,  3.49s/it]"
          ]
        },
        {
          "output_type": "stream",
          "name": "stdout",
          "text": [
            "\n",
            "Progress1\n",
            "\n",
            "Progress111\n",
            "torch.Size([4, 256, 10])\n",
            "y_predict.shape:  torch.Size([1024, 10])\n",
            "Progress222\n",
            "Progress2\n",
            "Progress3\n",
            "Progress4\n"
          ]
        },
        {
          "output_type": "stream",
          "name": "stderr",
          "text": [
            "\rtrain:   2%|▏         | 10/462 [00:35<26:47,  3.56s/it]"
          ]
        },
        {
          "output_type": "stream",
          "name": "stdout",
          "text": [
            "\n",
            "Progress1\n",
            "\n",
            "Progress111\n",
            "torch.Size([4, 256, 10])\n",
            "y_predict.shape:  torch.Size([1024, 10])\n",
            "Progress222\n",
            "Progress2\n",
            "Progress3\n",
            "Progress4\n"
          ]
        },
        {
          "output_type": "stream",
          "name": "stderr",
          "text": [
            "\rtrain:   2%|▏         | 11/462 [00:38<25:33,  3.40s/it]"
          ]
        },
        {
          "output_type": "stream",
          "name": "stdout",
          "text": [
            "\n",
            "Progress1\n",
            "\n",
            "Progress111\n",
            "torch.Size([4, 256, 10])\n",
            "y_predict.shape:  torch.Size([1024, 10])\n",
            "Progress222\n",
            "Progress2\n",
            "Progress3\n",
            "Progress4\n"
          ]
        },
        {
          "output_type": "stream",
          "name": "stderr",
          "text": [
            "\rtrain:   3%|▎         | 12/462 [00:41<24:30,  3.27s/it]"
          ]
        },
        {
          "output_type": "stream",
          "name": "stdout",
          "text": [
            "\n",
            "Progress1\n",
            "\n",
            "Progress111\n",
            "torch.Size([4, 256, 10])\n",
            "y_predict.shape:  torch.Size([1024, 10])\n",
            "Progress222\n",
            "Progress2\n",
            "Progress3\n",
            "Progress4\n"
          ]
        },
        {
          "output_type": "stream",
          "name": "stderr",
          "text": [
            "\rtrain:   3%|▎         | 13/462 [00:44<24:03,  3.21s/it]"
          ]
        },
        {
          "output_type": "stream",
          "name": "stdout",
          "text": [
            "\n",
            "Progress1\n",
            "\n",
            "Progress111\n",
            "torch.Size([4, 256, 10])\n",
            "y_predict.shape:  torch.Size([1024, 10])\n",
            "Progress222\n",
            "Progress2\n",
            "Progress3\n",
            "Progress4\n"
          ]
        },
        {
          "output_type": "stream",
          "name": "stderr",
          "text": [
            "\rtrain:   3%|▎         | 14/462 [00:49<26:57,  3.61s/it]"
          ]
        },
        {
          "output_type": "stream",
          "name": "stdout",
          "text": [
            "\n",
            "Progress1\n",
            "\n",
            "Progress111\n",
            "torch.Size([4, 256, 10])\n",
            "y_predict.shape:  torch.Size([1024, 10])\n",
            "Progress222\n",
            "Progress2\n",
            "Progress3\n",
            "Progress4\n"
          ]
        },
        {
          "output_type": "stream",
          "name": "stderr",
          "text": [
            "\rtrain:   3%|▎         | 15/462 [00:52<25:31,  3.43s/it]"
          ]
        },
        {
          "output_type": "stream",
          "name": "stdout",
          "text": [
            "\n",
            "Progress1\n",
            "\n",
            "Progress111\n",
            "torch.Size([4, 256, 10])\n",
            "y_predict.shape:  torch.Size([1024, 10])\n",
            "Progress222\n",
            "Progress2\n",
            "Progress3\n",
            "Progress4\n"
          ]
        },
        {
          "output_type": "stream",
          "name": "stderr",
          "text": [
            "\rtrain:   3%|▎         | 16/462 [00:55<24:28,  3.29s/it]"
          ]
        },
        {
          "output_type": "stream",
          "name": "stdout",
          "text": [
            "\n",
            "Progress1\n",
            "\n",
            "Progress111\n",
            "torch.Size([4, 256, 10])\n",
            "y_predict.shape:  torch.Size([1024, 10])\n",
            "Progress222\n",
            "Progress2\n",
            "Progress3\n",
            "Progress4\n"
          ]
        },
        {
          "output_type": "stream",
          "name": "stderr",
          "text": [
            "\rtrain:   4%|▎         | 17/462 [00:58<23:47,  3.21s/it]"
          ]
        },
        {
          "output_type": "stream",
          "name": "stdout",
          "text": [
            "\n",
            "Progress1\n",
            "\n",
            "Progress111\n",
            "torch.Size([4, 256, 10])\n",
            "y_predict.shape:  torch.Size([1024, 10])\n",
            "Progress222\n",
            "Progress2\n",
            "Progress3\n",
            "Progress4\n"
          ]
        },
        {
          "output_type": "stream",
          "name": "stderr",
          "text": [
            "\rtrain:   4%|▍         | 18/462 [01:02<26:57,  3.64s/it]"
          ]
        },
        {
          "output_type": "stream",
          "name": "stdout",
          "text": [
            "\n",
            "Progress1\n",
            "\n",
            "Progress111\n",
            "torch.Size([4, 256, 10])\n",
            "y_predict.shape:  torch.Size([1024, 10])\n",
            "Progress222\n",
            "Progress2\n",
            "Progress3\n",
            "Progress4\n"
          ]
        },
        {
          "output_type": "stream",
          "name": "stderr",
          "text": [
            "\rtrain:   4%|▍         | 19/462 [01:05<25:09,  3.41s/it]"
          ]
        },
        {
          "output_type": "stream",
          "name": "stdout",
          "text": [
            "\n",
            "Progress1\n",
            "\n",
            "Progress111\n",
            "torch.Size([4, 256, 10])\n",
            "y_predict.shape:  torch.Size([1024, 10])\n",
            "Progress222\n",
            "Progress2\n",
            "Progress3\n",
            "Progress4\n"
          ]
        },
        {
          "output_type": "stream",
          "name": "stderr",
          "text": [
            "\rtrain:   4%|▍         | 20/462 [01:08<23:52,  3.24s/it]"
          ]
        },
        {
          "output_type": "stream",
          "name": "stdout",
          "text": [
            "\n",
            "Progress1\n",
            "\n",
            "Progress111\n",
            "torch.Size([4, 256, 10])\n",
            "y_predict.shape:  torch.Size([1024, 10])\n",
            "Progress222\n",
            "Progress2\n",
            "Progress3\n",
            "Progress4\n"
          ]
        },
        {
          "output_type": "stream",
          "name": "stderr",
          "text": [
            "\rtrain:   5%|▍         | 21/462 [01:11<23:00,  3.13s/it]"
          ]
        },
        {
          "output_type": "stream",
          "name": "stdout",
          "text": [
            "\n",
            "Progress1\n",
            "\n",
            "Progress111\n",
            "torch.Size([4, 256, 10])\n",
            "y_predict.shape:  torch.Size([1024, 10])\n",
            "Progress222\n",
            "Progress2\n",
            "Progress3\n",
            "Progress4\n"
          ]
        },
        {
          "output_type": "stream",
          "name": "stderr",
          "text": [
            "\rtrain:   5%|▍         | 22/462 [01:15<24:14,  3.31s/it]"
          ]
        },
        {
          "output_type": "stream",
          "name": "stdout",
          "text": [
            "\n",
            "Progress1\n",
            "\n",
            "Progress111\n",
            "torch.Size([4, 256, 10])\n",
            "y_predict.shape:  torch.Size([1024, 10])\n",
            "Progress222\n",
            "Progress2\n",
            "Progress3\n",
            "Progress4\n"
          ]
        },
        {
          "output_type": "stream",
          "name": "stderr",
          "text": [
            "\rtrain:   5%|▍         | 23/462 [01:19<25:53,  3.54s/it]"
          ]
        },
        {
          "output_type": "stream",
          "name": "stdout",
          "text": [
            "\n",
            "Progress1\n",
            "\n",
            "Progress111\n",
            "torch.Size([4, 256, 10])\n",
            "y_predict.shape:  torch.Size([1024, 10])\n",
            "Progress222\n",
            "Progress2\n",
            "Progress3\n",
            "Progress4\n"
          ]
        },
        {
          "output_type": "stream",
          "name": "stderr",
          "text": [
            "\rtrain:   5%|▌         | 24/462 [01:22<24:42,  3.38s/it]"
          ]
        },
        {
          "output_type": "stream",
          "name": "stdout",
          "text": [
            "\n",
            "Progress1\n",
            "\n",
            "Progress111\n",
            "torch.Size([4, 256, 10])\n",
            "y_predict.shape:  torch.Size([1024, 10])\n",
            "Progress222\n",
            "Progress2\n",
            "Progress3\n",
            "Progress4\n"
          ]
        },
        {
          "output_type": "stream",
          "name": "stderr",
          "text": [
            "\rtrain:   5%|▌         | 25/462 [01:25<23:58,  3.29s/it]"
          ]
        },
        {
          "output_type": "stream",
          "name": "stdout",
          "text": [
            "\n",
            "Progress1\n",
            "\n",
            "Progress111\n",
            "torch.Size([4, 256, 10])\n",
            "y_predict.shape:  torch.Size([1024, 10])\n",
            "Progress222\n",
            "Progress2\n",
            "Progress3\n",
            "Progress4\n"
          ]
        },
        {
          "output_type": "stream",
          "name": "stderr",
          "text": [
            "\rtrain:   6%|▌         | 26/462 [01:28<23:24,  3.22s/it]"
          ]
        },
        {
          "output_type": "stream",
          "name": "stdout",
          "text": [
            "\n",
            "Progress1\n",
            "\n",
            "Progress111\n",
            "torch.Size([4, 256, 10])\n",
            "y_predict.shape:  torch.Size([1024, 10])\n",
            "Progress222\n",
            "Progress2\n",
            "Progress3\n",
            "Progress4\n"
          ]
        },
        {
          "output_type": "stream",
          "name": "stderr",
          "text": [
            "\rtrain:   6%|▌         | 27/462 [01:32<25:31,  3.52s/it]"
          ]
        },
        {
          "output_type": "stream",
          "name": "stdout",
          "text": [
            "\n",
            "Progress1\n",
            "\n",
            "Progress111\n",
            "torch.Size([4, 256, 10])\n",
            "y_predict.shape:  torch.Size([1024, 10])\n",
            "Progress222\n",
            "Progress2\n",
            "Progress3\n",
            "Progress4\n"
          ]
        },
        {
          "output_type": "stream",
          "name": "stderr",
          "text": [
            "\rtrain:   6%|▌         | 28/462 [01:36<25:35,  3.54s/it]"
          ]
        },
        {
          "output_type": "stream",
          "name": "stdout",
          "text": [
            "\n",
            "Progress1\n",
            "\n",
            "Progress111\n",
            "torch.Size([4, 256, 10])\n",
            "y_predict.shape:  torch.Size([1024, 10])\n",
            "Progress222\n",
            "Progress2\n",
            "Progress3\n",
            "Progress4\n"
          ]
        },
        {
          "output_type": "stream",
          "name": "stderr",
          "text": [
            "\rtrain:   6%|▋         | 29/462 [01:39<24:30,  3.40s/it]"
          ]
        },
        {
          "output_type": "stream",
          "name": "stdout",
          "text": [
            "\n",
            "Progress1\n",
            "\n",
            "Progress111\n",
            "torch.Size([4, 256, 10])\n",
            "y_predict.shape:  torch.Size([1024, 10])\n",
            "Progress222\n",
            "Progress2\n",
            "Progress3\n",
            "Progress4\n"
          ]
        },
        {
          "output_type": "stream",
          "name": "stderr",
          "text": [
            "\rtrain:   6%|▋         | 30/462 [01:42<23:44,  3.30s/it]"
          ]
        },
        {
          "output_type": "stream",
          "name": "stdout",
          "text": [
            "\n",
            "Progress1\n",
            "\n",
            "Progress111\n",
            "torch.Size([4, 256, 10])\n",
            "y_predict.shape:  torch.Size([1024, 10])\n",
            "Progress222\n",
            "Progress2\n",
            "Progress3\n",
            "Progress4\n"
          ]
        },
        {
          "output_type": "stream",
          "name": "stderr",
          "text": [
            "\rtrain:   7%|▋         | 31/462 [01:45<24:35,  3.42s/it]"
          ]
        },
        {
          "output_type": "stream",
          "name": "stdout",
          "text": [
            "\n",
            "Progress1\n",
            "\n",
            "Progress111\n",
            "torch.Size([4, 256, 10])\n",
            "y_predict.shape:  torch.Size([1024, 10])\n",
            "Progress222\n",
            "Progress2\n",
            "Progress3\n",
            "Progress4\n"
          ]
        },
        {
          "output_type": "stream",
          "name": "stderr",
          "text": [
            "\rtrain:   7%|▋         | 32/462 [01:50<25:59,  3.63s/it]"
          ]
        },
        {
          "output_type": "stream",
          "name": "stdout",
          "text": [
            "\n",
            "Progress1\n",
            "\n",
            "Progress111\n",
            "torch.Size([4, 256, 10])\n",
            "y_predict.shape:  torch.Size([1024, 10])\n",
            "Progress222\n",
            "Progress2\n",
            "Progress3\n",
            "Progress4\n"
          ]
        },
        {
          "output_type": "stream",
          "name": "stderr",
          "text": [
            "\rtrain:   7%|▋         | 33/462 [01:53<24:39,  3.45s/it]"
          ]
        },
        {
          "output_type": "stream",
          "name": "stdout",
          "text": [
            "\n",
            "Progress1\n",
            "\n",
            "Progress111\n",
            "torch.Size([4, 256, 10])\n",
            "y_predict.shape:  torch.Size([1024, 10])\n",
            "Progress222\n",
            "Progress2\n",
            "Progress3\n",
            "Progress4\n"
          ]
        },
        {
          "output_type": "stream",
          "name": "stderr",
          "text": [
            "\rtrain:   7%|▋         | 34/462 [01:56<23:32,  3.30s/it]"
          ]
        },
        {
          "output_type": "stream",
          "name": "stdout",
          "text": [
            "\n",
            "Progress1\n",
            "\n",
            "Progress111\n",
            "torch.Size([4, 256, 10])\n",
            "y_predict.shape:  torch.Size([1024, 10])\n",
            "Progress222\n",
            "Progress2\n",
            "Progress3\n",
            "Progress4\n"
          ]
        },
        {
          "output_type": "stream",
          "name": "stderr",
          "text": [
            "\rtrain:   8%|▊         | 35/462 [01:59<22:57,  3.23s/it]"
          ]
        },
        {
          "output_type": "stream",
          "name": "stdout",
          "text": [
            "\n",
            "Progress1\n",
            "\n",
            "Progress111\n",
            "torch.Size([4, 256, 10])\n",
            "y_predict.shape:  torch.Size([1024, 10])\n",
            "Progress222\n",
            "Progress2\n",
            "Progress3\n",
            "Progress4\n"
          ]
        },
        {
          "output_type": "stream",
          "name": "stderr",
          "text": [
            "\rtrain:   8%|▊         | 36/462 [02:03<25:15,  3.56s/it]"
          ]
        },
        {
          "output_type": "stream",
          "name": "stdout",
          "text": [
            "\n",
            "Progress1\n",
            "\n",
            "Progress111\n",
            "torch.Size([4, 256, 10])\n",
            "y_predict.shape:  torch.Size([1024, 10])\n",
            "Progress222\n",
            "Progress2\n",
            "Progress3\n",
            "Progress4\n"
          ]
        },
        {
          "output_type": "stream",
          "name": "stderr",
          "text": [
            "\rtrain:   8%|▊         | 37/462 [02:06<24:27,  3.45s/it]"
          ]
        },
        {
          "output_type": "stream",
          "name": "stdout",
          "text": [
            "\n",
            "Progress1\n",
            "\n",
            "Progress111\n",
            "torch.Size([4, 256, 10])\n",
            "y_predict.shape:  torch.Size([1024, 10])\n",
            "Progress222\n",
            "Progress2\n",
            "Progress3\n",
            "Progress4\n"
          ]
        },
        {
          "output_type": "stream",
          "name": "stderr",
          "text": [
            "\rtrain:   8%|▊         | 38/462 [02:09<23:16,  3.29s/it]"
          ]
        },
        {
          "output_type": "stream",
          "name": "stdout",
          "text": [
            "\n",
            "Progress1\n",
            "\n",
            "Progress111\n",
            "torch.Size([4, 256, 10])\n",
            "y_predict.shape:  torch.Size([1024, 10])\n",
            "Progress222\n",
            "Progress2\n",
            "Progress3\n",
            "Progress4\n"
          ]
        },
        {
          "output_type": "stream",
          "name": "stderr",
          "text": [
            "\rtrain:   8%|▊         | 39/462 [02:12<22:33,  3.20s/it]"
          ]
        },
        {
          "output_type": "stream",
          "name": "stdout",
          "text": [
            "\n",
            "Progress1\n",
            "\n",
            "Progress111\n",
            "torch.Size([4, 256, 10])\n",
            "y_predict.shape:  torch.Size([1024, 10])\n",
            "Progress222\n",
            "Progress2\n",
            "Progress3\n",
            "Progress4\n"
          ]
        },
        {
          "output_type": "stream",
          "name": "stderr",
          "text": [
            "\rtrain:   9%|▊         | 40/462 [02:16<24:49,  3.53s/it]"
          ]
        },
        {
          "output_type": "stream",
          "name": "stdout",
          "text": [
            "\n",
            "Progress1\n",
            "\n",
            "Progress111\n",
            "torch.Size([4, 256, 10])\n",
            "y_predict.shape:  torch.Size([1024, 10])\n",
            "Progress222\n",
            "Progress2\n",
            "Progress3\n",
            "Progress4\n"
          ]
        },
        {
          "output_type": "stream",
          "name": "stderr",
          "text": [
            "\rtrain:   9%|▉         | 41/462 [02:20<25:33,  3.64s/it]"
          ]
        },
        {
          "output_type": "stream",
          "name": "stdout",
          "text": [
            "\n",
            "Progress1\n",
            "\n",
            "Progress111\n",
            "torch.Size([4, 256, 10])\n",
            "y_predict.shape:  torch.Size([1024, 10])\n",
            "Progress222\n",
            "Progress2\n",
            "Progress3\n",
            "Progress4\n"
          ]
        },
        {
          "output_type": "stream",
          "name": "stderr",
          "text": [
            "\rtrain:   9%|▉         | 42/462 [02:23<24:12,  3.46s/it]"
          ]
        },
        {
          "output_type": "stream",
          "name": "stdout",
          "text": [
            "\n",
            "Progress1\n",
            "\n",
            "Progress111\n",
            "torch.Size([4, 256, 10])\n",
            "y_predict.shape:  torch.Size([1024, 10])\n",
            "Progress222\n",
            "Progress2\n",
            "Progress3\n",
            "Progress4\n"
          ]
        },
        {
          "output_type": "stream",
          "name": "stderr",
          "text": [
            "\rtrain:   9%|▉         | 43/462 [02:26<23:18,  3.34s/it]"
          ]
        },
        {
          "output_type": "stream",
          "name": "stdout",
          "text": [
            "\n",
            "Progress1\n",
            "\n",
            "Progress111\n",
            "torch.Size([4, 256, 10])\n",
            "y_predict.shape:  torch.Size([1024, 10])\n",
            "Progress222\n",
            "Progress2\n",
            "Progress3\n",
            "Progress4\n"
          ]
        },
        {
          "output_type": "stream",
          "name": "stderr",
          "text": [
            "\rtrain:  10%|▉         | 44/462 [02:31<25:12,  3.62s/it]"
          ]
        },
        {
          "output_type": "stream",
          "name": "stdout",
          "text": [
            "\n",
            "Progress1\n",
            "\n",
            "Progress111\n",
            "torch.Size([4, 256, 10])\n",
            "y_predict.shape:  torch.Size([1024, 10])\n",
            "Progress222\n",
            "Progress2\n",
            "Progress3\n",
            "Progress4\n"
          ]
        },
        {
          "output_type": "stream",
          "name": "stderr",
          "text": [
            "\rtrain:  10%|▉         | 45/462 [02:36<28:25,  4.09s/it]"
          ]
        },
        {
          "output_type": "stream",
          "name": "stdout",
          "text": [
            "\n",
            "Progress1\n",
            "\n",
            "Progress111\n",
            "torch.Size([4, 256, 10])\n",
            "y_predict.shape:  torch.Size([1024, 10])\n",
            "Progress222\n",
            "Progress2\n",
            "Progress3\n",
            "Progress4\n"
          ]
        },
        {
          "output_type": "stream",
          "name": "stderr",
          "text": [
            "\rtrain:  10%|▉         | 46/462 [02:39<26:15,  3.79s/it]"
          ]
        },
        {
          "output_type": "stream",
          "name": "stdout",
          "text": [
            "\n",
            "Progress1\n",
            "\n",
            "Progress111\n",
            "torch.Size([4, 256, 10])\n",
            "y_predict.shape:  torch.Size([1024, 10])\n",
            "Progress222\n",
            "Progress2\n",
            "Progress3\n",
            "Progress4\n"
          ]
        },
        {
          "output_type": "stream",
          "name": "stderr",
          "text": [
            "\rtrain:  10%|█         | 47/462 [02:42<24:48,  3.59s/it]"
          ]
        },
        {
          "output_type": "stream",
          "name": "stdout",
          "text": [
            "\n",
            "Progress1\n",
            "\n",
            "Progress111\n",
            "torch.Size([4, 256, 10])\n",
            "y_predict.shape:  torch.Size([1024, 10])\n",
            "Progress222\n",
            "Progress2\n",
            "Progress3\n",
            "Progress4\n"
          ]
        },
        {
          "output_type": "stream",
          "name": "stderr",
          "text": [
            "\rtrain:  10%|█         | 48/462 [02:46<25:08,  3.64s/it]"
          ]
        },
        {
          "output_type": "stream",
          "name": "stdout",
          "text": [
            "\n",
            "Progress1\n",
            "\n",
            "Progress111\n",
            "torch.Size([4, 256, 10])\n",
            "y_predict.shape:  torch.Size([1024, 10])\n",
            "Progress222\n",
            "Progress2\n",
            "Progress3\n",
            "Progress4\n"
          ]
        },
        {
          "output_type": "stream",
          "name": "stderr",
          "text": [
            "\rtrain:  11%|█         | 49/462 [02:50<25:43,  3.74s/it]"
          ]
        },
        {
          "output_type": "stream",
          "name": "stdout",
          "text": [
            "\n",
            "Progress1\n",
            "\n",
            "Progress111\n",
            "torch.Size([4, 256, 10])\n",
            "y_predict.shape:  torch.Size([1024, 10])\n",
            "Progress222\n",
            "Progress2\n",
            "Progress3\n",
            "Progress4\n"
          ]
        },
        {
          "output_type": "stream",
          "name": "stderr",
          "text": [
            "\rtrain:  11%|█         | 50/462 [02:53<24:02,  3.50s/it]"
          ]
        },
        {
          "output_type": "stream",
          "name": "stdout",
          "text": [
            "\n",
            "Progress1\n",
            "\n",
            "Progress111\n",
            "torch.Size([4, 256, 10])\n",
            "y_predict.shape:  torch.Size([1024, 10])\n",
            "Progress222\n",
            "Progress2\n",
            "Progress3\n",
            "Progress4\n"
          ]
        },
        {
          "output_type": "stream",
          "name": "stderr",
          "text": [
            "\rtrain:  11%|█         | 51/462 [02:56<22:49,  3.33s/it]"
          ]
        },
        {
          "output_type": "stream",
          "name": "stdout",
          "text": [
            "\n",
            "Progress1\n",
            "\n",
            "Progress111\n",
            "torch.Size([4, 256, 10])\n",
            "y_predict.shape:  torch.Size([1024, 10])\n",
            "Progress222\n",
            "Progress2\n",
            "Progress3\n",
            "Progress4\n"
          ]
        },
        {
          "output_type": "stream",
          "name": "stderr",
          "text": [
            "\rtrain:  11%|█▏        | 52/462 [02:59<22:12,  3.25s/it]"
          ]
        },
        {
          "output_type": "stream",
          "name": "stdout",
          "text": [
            "\n",
            "Progress1\n",
            "\n",
            "Progress111\n",
            "torch.Size([4, 256, 10])\n",
            "y_predict.shape:  torch.Size([1024, 10])\n",
            "Progress222\n",
            "Progress2\n",
            "Progress3\n",
            "Progress4\n"
          ]
        },
        {
          "output_type": "stream",
          "name": "stderr",
          "text": [
            "\rtrain:  11%|█▏        | 53/462 [03:03<24:44,  3.63s/it]"
          ]
        },
        {
          "output_type": "stream",
          "name": "stdout",
          "text": [
            "\n",
            "Progress1\n",
            "\n",
            "Progress111\n",
            "torch.Size([4, 256, 10])\n",
            "y_predict.shape:  torch.Size([1024, 10])\n",
            "Progress222\n",
            "Progress2\n",
            "Progress3\n",
            "Progress4\n"
          ]
        },
        {
          "output_type": "stream",
          "name": "stderr",
          "text": [
            "\rtrain:  12%|█▏        | 54/462 [03:06<23:22,  3.44s/it]"
          ]
        },
        {
          "output_type": "stream",
          "name": "stdout",
          "text": [
            "\n",
            "Progress1\n",
            "\n",
            "Progress111\n",
            "torch.Size([4, 256, 10])\n",
            "y_predict.shape:  torch.Size([1024, 10])\n",
            "Progress222\n",
            "Progress2\n",
            "Progress3\n",
            "Progress4\n"
          ]
        },
        {
          "output_type": "stream",
          "name": "stderr",
          "text": [
            "\rtrain:  12%|█▏        | 55/462 [03:09<22:33,  3.32s/it]"
          ]
        },
        {
          "output_type": "stream",
          "name": "stdout",
          "text": [
            "\n",
            "Progress1\n",
            "\n",
            "Progress111\n",
            "torch.Size([4, 256, 10])\n",
            "y_predict.shape:  torch.Size([1024, 10])\n",
            "Progress222\n",
            "Progress2\n",
            "Progress3\n",
            "Progress4\n"
          ]
        },
        {
          "output_type": "stream",
          "name": "stderr",
          "text": [
            "\rtrain:  12%|█▏        | 56/462 [03:12<21:56,  3.24s/it]"
          ]
        },
        {
          "output_type": "stream",
          "name": "stdout",
          "text": [
            "\n",
            "Progress1\n",
            "\n",
            "Progress111\n",
            "torch.Size([4, 256, 10])\n",
            "y_predict.shape:  torch.Size([1024, 10])\n",
            "Progress222\n",
            "Progress2\n",
            "Progress3\n",
            "Progress4\n"
          ]
        },
        {
          "output_type": "stream",
          "name": "stderr",
          "text": [
            "\rtrain:  12%|█▏        | 57/462 [03:17<24:28,  3.63s/it]"
          ]
        },
        {
          "output_type": "stream",
          "name": "stdout",
          "text": [
            "\n",
            "Progress1\n",
            "\n",
            "Progress111\n",
            "torch.Size([4, 256, 10])\n",
            "y_predict.shape:  torch.Size([1024, 10])\n",
            "Progress222\n",
            "Progress2\n",
            "Progress3\n",
            "Progress4\n"
          ]
        },
        {
          "output_type": "stream",
          "name": "stderr",
          "text": [
            "\rtrain:  13%|█▎        | 58/462 [03:20<24:16,  3.61s/it]"
          ]
        },
        {
          "output_type": "stream",
          "name": "stdout",
          "text": [
            "\n",
            "Progress1\n",
            "\n",
            "Progress111\n",
            "torch.Size([4, 256, 10])\n",
            "y_predict.shape:  torch.Size([1024, 10])\n",
            "Progress222\n",
            "Progress2\n",
            "Progress3\n",
            "Progress4\n"
          ]
        },
        {
          "output_type": "stream",
          "name": "stderr",
          "text": [
            "\rtrain:  13%|█▎        | 59/462 [03:23<22:58,  3.42s/it]"
          ]
        },
        {
          "output_type": "stream",
          "name": "stdout",
          "text": [
            "\n",
            "Progress1\n",
            "\n",
            "Progress111\n",
            "torch.Size([4, 256, 10])\n",
            "y_predict.shape:  torch.Size([1024, 10])\n",
            "Progress222\n",
            "Progress2\n",
            "Progress3\n",
            "Progress4\n"
          ]
        },
        {
          "output_type": "stream",
          "name": "stderr",
          "text": [
            "\rtrain:  13%|█▎        | 60/462 [03:27<22:23,  3.34s/it]"
          ]
        },
        {
          "output_type": "stream",
          "name": "stdout",
          "text": [
            "\n",
            "Progress1\n",
            "\n",
            "Progress111\n",
            "torch.Size([4, 256, 10])\n",
            "y_predict.shape:  torch.Size([1024, 10])\n",
            "Progress222\n",
            "Progress2\n",
            "Progress3\n",
            "Progress4\n"
          ]
        },
        {
          "output_type": "stream",
          "name": "stderr",
          "text": [
            "\rtrain:  13%|█▎        | 61/462 [03:30<22:56,  3.43s/it]"
          ]
        },
        {
          "output_type": "stream",
          "name": "stdout",
          "text": [
            "\n",
            "Progress1\n",
            "\n",
            "Progress111\n",
            "torch.Size([4, 256, 10])\n",
            "y_predict.shape:  torch.Size([1024, 10])\n",
            "Progress222\n",
            "Progress2\n",
            "Progress3\n",
            "Progress4\n"
          ]
        },
        {
          "output_type": "stream",
          "name": "stderr",
          "text": [
            "\rtrain:  13%|█▎        | 62/462 [03:34<24:39,  3.70s/it]"
          ]
        },
        {
          "output_type": "stream",
          "name": "stdout",
          "text": [
            "\n",
            "Progress1\n",
            "\n",
            "Progress111\n",
            "torch.Size([4, 256, 10])\n",
            "y_predict.shape:  torch.Size([1024, 10])\n",
            "Progress222\n",
            "Progress2\n",
            "Progress3\n",
            "Progress4\n"
          ]
        },
        {
          "output_type": "stream",
          "name": "stderr",
          "text": [
            "\rtrain:  14%|█▎        | 63/462 [03:38<23:27,  3.53s/it]"
          ]
        },
        {
          "output_type": "stream",
          "name": "stdout",
          "text": [
            "\n",
            "Progress1\n",
            "\n",
            "Progress111\n",
            "torch.Size([4, 256, 10])\n",
            "y_predict.shape:  torch.Size([1024, 10])\n",
            "Progress222\n",
            "Progress2\n",
            "Progress3\n",
            "Progress4\n"
          ]
        },
        {
          "output_type": "stream",
          "name": "stderr",
          "text": [
            "\rtrain:  14%|█▍        | 64/462 [03:41<22:23,  3.38s/it]"
          ]
        },
        {
          "output_type": "stream",
          "name": "stdout",
          "text": [
            "\n",
            "Progress1\n",
            "\n",
            "Progress111\n",
            "torch.Size([4, 256, 10])\n",
            "y_predict.shape:  torch.Size([1024, 10])\n",
            "Progress222\n",
            "Progress2\n",
            "Progress3\n",
            "Progress4\n"
          ]
        },
        {
          "output_type": "stream",
          "name": "stderr",
          "text": [
            "\rtrain:  14%|█▍        | 65/462 [03:44<21:27,  3.24s/it]"
          ]
        },
        {
          "output_type": "stream",
          "name": "stdout",
          "text": [
            "\n",
            "Progress1\n",
            "\n",
            "Progress111\n",
            "torch.Size([4, 256, 10])\n",
            "y_predict.shape:  torch.Size([1024, 10])\n",
            "Progress222\n",
            "Progress2\n",
            "Progress3\n",
            "Progress4\n"
          ]
        },
        {
          "output_type": "stream",
          "name": "stderr",
          "text": [
            "\rtrain:  14%|█▍        | 66/462 [03:47<22:21,  3.39s/it]"
          ]
        },
        {
          "output_type": "stream",
          "name": "stdout",
          "text": [
            "\n",
            "Progress1\n",
            "\n",
            "Progress111\n",
            "torch.Size([4, 256, 10])\n",
            "y_predict.shape:  torch.Size([1024, 10])\n",
            "Progress222\n",
            "Progress2\n",
            "Progress3\n",
            "Progress4\n"
          ]
        },
        {
          "output_type": "stream",
          "name": "stderr",
          "text": [
            "\rtrain:  15%|█▍        | 67/462 [03:51<23:07,  3.51s/it]"
          ]
        },
        {
          "output_type": "stream",
          "name": "stdout",
          "text": [
            "\n",
            "Progress1\n",
            "\n",
            "Progress111\n",
            "torch.Size([4, 256, 10])\n",
            "y_predict.shape:  torch.Size([1024, 10])\n",
            "Progress222\n",
            "Progress2\n",
            "Progress3\n",
            "Progress4\n"
          ]
        },
        {
          "output_type": "stream",
          "name": "stderr",
          "text": [
            "\rtrain:  15%|█▍        | 68/462 [03:54<21:44,  3.31s/it]"
          ]
        },
        {
          "output_type": "stream",
          "name": "stdout",
          "text": [
            "\n",
            "Progress1\n",
            "\n",
            "Progress111\n",
            "torch.Size([4, 256, 10])\n",
            "y_predict.shape:  torch.Size([1024, 10])\n",
            "Progress222\n",
            "Progress2\n",
            "Progress3\n",
            "Progress4\n"
          ]
        },
        {
          "output_type": "stream",
          "name": "stderr",
          "text": [
            "\rtrain:  15%|█▍        | 69/462 [03:57<20:49,  3.18s/it]"
          ]
        },
        {
          "output_type": "stream",
          "name": "stdout",
          "text": [
            "\n",
            "Progress1\n",
            "\n",
            "Progress111\n",
            "torch.Size([4, 256, 10])\n",
            "y_predict.shape:  torch.Size([1024, 10])\n",
            "Progress222\n",
            "Progress2\n",
            "Progress3\n",
            "Progress4\n"
          ]
        },
        {
          "output_type": "stream",
          "name": "stderr",
          "text": [
            "\rtrain:  15%|█▌        | 70/462 [04:00<20:42,  3.17s/it]"
          ]
        },
        {
          "output_type": "stream",
          "name": "stdout",
          "text": [
            "\n",
            "Progress1\n",
            "\n",
            "Progress111\n",
            "torch.Size([4, 256, 10])\n",
            "y_predict.shape:  torch.Size([1024, 10])\n",
            "Progress222\n",
            "Progress2\n",
            "Progress3\n",
            "Progress4\n"
          ]
        },
        {
          "output_type": "stream",
          "name": "stderr",
          "text": [
            "\rtrain:  15%|█▌        | 71/462 [04:05<23:22,  3.59s/it]"
          ]
        },
        {
          "output_type": "stream",
          "name": "stdout",
          "text": [
            "\n",
            "Progress1\n",
            "\n",
            "Progress111\n",
            "torch.Size([4, 256, 10])\n",
            "y_predict.shape:  torch.Size([1024, 10])\n",
            "Progress222\n",
            "Progress2\n",
            "Progress3\n",
            "Progress4\n"
          ]
        },
        {
          "output_type": "stream",
          "name": "stderr",
          "text": [
            "\rtrain:  16%|█▌        | 72/462 [04:08<22:35,  3.48s/it]"
          ]
        },
        {
          "output_type": "stream",
          "name": "stdout",
          "text": [
            "\n",
            "Progress1\n",
            "\n",
            "Progress111\n",
            "torch.Size([4, 256, 10])\n",
            "y_predict.shape:  torch.Size([1024, 10])\n",
            "Progress222\n",
            "Progress2\n",
            "Progress3\n",
            "Progress4\n"
          ]
        },
        {
          "output_type": "stream",
          "name": "stderr",
          "text": [
            "\rtrain:  16%|█▌        | 73/462 [04:11<21:36,  3.33s/it]"
          ]
        },
        {
          "output_type": "stream",
          "name": "stdout",
          "text": [
            "\n",
            "Progress1\n",
            "\n",
            "Progress111\n",
            "torch.Size([4, 256, 10])\n",
            "y_predict.shape:  torch.Size([1024, 10])\n",
            "Progress222\n",
            "Progress2\n",
            "Progress3\n",
            "Progress4\n"
          ]
        },
        {
          "output_type": "stream",
          "name": "stderr",
          "text": [
            "\rtrain:  16%|█▌        | 74/462 [04:14<20:56,  3.24s/it]"
          ]
        },
        {
          "output_type": "stream",
          "name": "stdout",
          "text": [
            "\n",
            "Progress1\n",
            "\n",
            "Progress111\n",
            "torch.Size([4, 256, 10])\n",
            "y_predict.shape:  torch.Size([1024, 10])\n",
            "Progress222\n",
            "Progress2\n",
            "Progress3\n",
            "Progress4\n"
          ]
        },
        {
          "output_type": "stream",
          "name": "stderr",
          "text": [
            "\rtrain:  16%|█▌        | 75/462 [04:17<21:32,  3.34s/it]"
          ]
        },
        {
          "output_type": "stream",
          "name": "stdout",
          "text": [
            "\n",
            "Progress1\n",
            "\n",
            "Progress111\n",
            "torch.Size([4, 256, 10])\n",
            "y_predict.shape:  torch.Size([1024, 10])\n",
            "Progress222\n",
            "Progress2\n",
            "Progress3\n",
            "Progress4\n"
          ]
        },
        {
          "output_type": "stream",
          "name": "stderr",
          "text": [
            "\rtrain:  16%|█▋        | 76/462 [04:22<23:26,  3.64s/it]"
          ]
        },
        {
          "output_type": "stream",
          "name": "stdout",
          "text": [
            "\n",
            "Progress1\n",
            "\n",
            "Progress111\n",
            "torch.Size([4, 256, 10])\n",
            "y_predict.shape:  torch.Size([1024, 10])\n",
            "Progress222\n",
            "Progress2\n",
            "Progress3\n",
            "Progress4\n"
          ]
        },
        {
          "output_type": "stream",
          "name": "stderr",
          "text": [
            "\rtrain:  17%|█▋        | 77/462 [04:25<22:11,  3.46s/it]"
          ]
        },
        {
          "output_type": "stream",
          "name": "stdout",
          "text": [
            "\n",
            "Progress1\n",
            "\n",
            "Progress111\n",
            "torch.Size([4, 256, 10])\n",
            "y_predict.shape:  torch.Size([1024, 10])\n",
            "Progress222\n",
            "Progress2\n",
            "Progress3\n",
            "Progress4\n"
          ]
        },
        {
          "output_type": "stream",
          "name": "stderr",
          "text": [
            "\rtrain:  17%|█▋        | 78/462 [04:28<21:21,  3.34s/it]"
          ]
        },
        {
          "output_type": "stream",
          "name": "stdout",
          "text": [
            "\n",
            "Progress1\n",
            "\n",
            "Progress111\n",
            "torch.Size([4, 256, 10])\n",
            "y_predict.shape:  torch.Size([1024, 10])\n",
            "Progress222\n",
            "Progress2\n",
            "Progress3\n",
            "Progress4\n"
          ]
        },
        {
          "output_type": "stream",
          "name": "stderr",
          "text": [
            "\rtrain:  17%|█▋        | 79/462 [04:31<20:46,  3.26s/it]"
          ]
        },
        {
          "output_type": "stream",
          "name": "stdout",
          "text": [
            "\n",
            "Progress1\n",
            "\n",
            "Progress111\n",
            "torch.Size([4, 256, 10])\n",
            "y_predict.shape:  torch.Size([1024, 10])\n",
            "Progress222\n",
            "Progress2\n",
            "Progress3\n",
            "Progress4\n"
          ]
        },
        {
          "output_type": "stream",
          "name": "stderr",
          "text": [
            "\rtrain:  17%|█▋        | 80/462 [04:35<22:20,  3.51s/it]"
          ]
        },
        {
          "output_type": "stream",
          "name": "stdout",
          "text": [
            "\n",
            "Progress1\n",
            "\n",
            "Progress111\n",
            "torch.Size([4, 256, 10])\n",
            "y_predict.shape:  torch.Size([1024, 10])\n",
            "Progress222\n",
            "Progress2\n",
            "Progress3\n",
            "Progress4\n"
          ]
        },
        {
          "output_type": "stream",
          "name": "stderr",
          "text": [
            "\rtrain:  18%|█▊        | 81/462 [04:39<22:30,  3.54s/it]"
          ]
        },
        {
          "output_type": "stream",
          "name": "stdout",
          "text": [
            "\n",
            "Progress1\n",
            "\n",
            "Progress111\n",
            "torch.Size([4, 256, 10])\n",
            "y_predict.shape:  torch.Size([1024, 10])\n",
            "Progress222\n",
            "Progress2\n",
            "Progress3\n",
            "Progress4\n"
          ]
        },
        {
          "output_type": "stream",
          "name": "stderr",
          "text": [
            "\rtrain:  18%|█▊        | 82/462 [04:41<21:18,  3.37s/it]"
          ]
        },
        {
          "output_type": "stream",
          "name": "stdout",
          "text": [
            "\n",
            "Progress1\n",
            "\n",
            "Progress111\n",
            "torch.Size([4, 256, 10])\n",
            "y_predict.shape:  torch.Size([1024, 10])\n",
            "Progress222\n",
            "Progress2\n",
            "Progress3\n",
            "Progress4\n"
          ]
        },
        {
          "output_type": "stream",
          "name": "stderr",
          "text": [
            "\rtrain:  18%|█▊        | 83/462 [04:44<20:19,  3.22s/it]"
          ]
        },
        {
          "output_type": "stream",
          "name": "stdout",
          "text": [
            "\n",
            "Progress1\n",
            "\n",
            "Progress111\n",
            "torch.Size([4, 256, 10])\n",
            "y_predict.shape:  torch.Size([1024, 10])\n",
            "Progress222\n",
            "Progress2\n",
            "Progress3\n",
            "Progress4\n"
          ]
        },
        {
          "output_type": "stream",
          "name": "stderr",
          "text": [
            "\rtrain:  18%|█▊        | 84/462 [04:48<20:12,  3.21s/it]"
          ]
        },
        {
          "output_type": "stream",
          "name": "stdout",
          "text": [
            "\n",
            "Progress1\n",
            "\n",
            "Progress111\n",
            "torch.Size([4, 256, 10])\n",
            "y_predict.shape:  torch.Size([1024, 10])\n",
            "Progress222\n",
            "Progress2\n",
            "Progress3\n",
            "Progress4\n"
          ]
        },
        {
          "output_type": "stream",
          "name": "stderr",
          "text": [
            "\rtrain:  18%|█▊        | 85/462 [04:52<22:08,  3.52s/it]"
          ]
        },
        {
          "output_type": "stream",
          "name": "stdout",
          "text": [
            "\n",
            "Progress1\n",
            "\n",
            "Progress111\n",
            "torch.Size([4, 256, 10])\n",
            "y_predict.shape:  torch.Size([1024, 10])\n",
            "Progress222\n",
            "Progress2\n",
            "Progress3\n",
            "Progress4\n"
          ]
        },
        {
          "output_type": "stream",
          "name": "stderr",
          "text": [
            "\rtrain:  19%|█▊        | 86/462 [04:55<21:40,  3.46s/it]"
          ]
        },
        {
          "output_type": "stream",
          "name": "stdout",
          "text": [
            "\n",
            "Progress1\n",
            "\n",
            "Progress111\n",
            "torch.Size([4, 256, 10])\n",
            "y_predict.shape:  torch.Size([1024, 10])\n",
            "Progress222\n",
            "Progress2\n",
            "Progress3\n",
            "Progress4\n"
          ]
        },
        {
          "output_type": "stream",
          "name": "stderr",
          "text": [
            "\rtrain:  19%|█▉        | 87/462 [04:58<20:50,  3.33s/it]"
          ]
        },
        {
          "output_type": "stream",
          "name": "stdout",
          "text": [
            "\n",
            "Progress1\n",
            "\n",
            "Progress111\n",
            "torch.Size([4, 256, 10])\n",
            "y_predict.shape:  torch.Size([1024, 10])\n",
            "Progress222\n",
            "Progress2\n",
            "Progress3\n",
            "Progress4\n"
          ]
        },
        {
          "output_type": "stream",
          "name": "stderr",
          "text": [
            "\rtrain:  19%|█▉        | 88/462 [05:01<20:19,  3.26s/it]"
          ]
        },
        {
          "output_type": "stream",
          "name": "stdout",
          "text": [
            "\n",
            "Progress1\n",
            "\n",
            "Progress111\n",
            "torch.Size([4, 256, 10])\n",
            "y_predict.shape:  torch.Size([1024, 10])\n",
            "Progress222\n",
            "Progress2\n",
            "Progress3\n",
            "Progress4\n"
          ]
        },
        {
          "output_type": "stream",
          "name": "stderr",
          "text": [
            "\rtrain:  19%|█▉        | 89/462 [05:05<21:22,  3.44s/it]"
          ]
        },
        {
          "output_type": "stream",
          "name": "stdout",
          "text": [
            "\n",
            "Progress1\n",
            "\n",
            "Progress111\n",
            "torch.Size([4, 256, 10])\n",
            "y_predict.shape:  torch.Size([1024, 10])\n",
            "Progress222\n",
            "Progress2\n",
            "Progress3\n",
            "Progress4\n"
          ]
        },
        {
          "output_type": "stream",
          "name": "stderr",
          "text": [
            "\rtrain:  19%|█▉        | 90/462 [05:09<22:46,  3.67s/it]"
          ]
        },
        {
          "output_type": "stream",
          "name": "stdout",
          "text": [
            "\n",
            "Progress1\n",
            "\n",
            "Progress111\n",
            "torch.Size([4, 256, 10])\n",
            "y_predict.shape:  torch.Size([1024, 10])\n",
            "Progress222\n",
            "Progress2\n",
            "Progress3\n",
            "Progress4\n"
          ]
        },
        {
          "output_type": "stream",
          "name": "stderr",
          "text": [
            "\rtrain:  20%|█▉        | 91/462 [05:12<21:36,  3.49s/it]"
          ]
        },
        {
          "output_type": "stream",
          "name": "stdout",
          "text": [
            "\n",
            "Progress1\n",
            "\n",
            "Progress111\n",
            "torch.Size([4, 256, 10])\n",
            "y_predict.shape:  torch.Size([1024, 10])\n",
            "Progress222\n",
            "Progress2\n",
            "Progress3\n",
            "Progress4\n"
          ]
        },
        {
          "output_type": "stream",
          "name": "stderr",
          "text": [
            "\rtrain:  20%|█▉        | 92/462 [05:16<20:49,  3.38s/it]"
          ]
        },
        {
          "output_type": "stream",
          "name": "stdout",
          "text": [
            "\n",
            "Progress1\n",
            "\n",
            "Progress111\n",
            "torch.Size([4, 256, 10])\n",
            "y_predict.shape:  torch.Size([1024, 10])\n",
            "Progress222\n",
            "Progress2\n",
            "Progress3\n",
            "Progress4\n"
          ]
        },
        {
          "output_type": "stream",
          "name": "stderr",
          "text": [
            "\rtrain:  20%|██        | 93/462 [05:19<20:39,  3.36s/it]"
          ]
        },
        {
          "output_type": "stream",
          "name": "stdout",
          "text": [
            "\n",
            "Progress1\n",
            "\n",
            "Progress111\n",
            "torch.Size([4, 256, 10])\n",
            "y_predict.shape:  torch.Size([1024, 10])\n",
            "Progress222\n",
            "Progress2\n",
            "Progress3\n",
            "Progress4\n"
          ]
        },
        {
          "output_type": "stream",
          "name": "stderr",
          "text": [
            "\rtrain:  20%|██        | 94/462 [05:23<22:37,  3.69s/it]"
          ]
        },
        {
          "output_type": "stream",
          "name": "stdout",
          "text": [
            "\n",
            "Progress1\n",
            "\n",
            "Progress111\n",
            "torch.Size([4, 256, 10])\n",
            "y_predict.shape:  torch.Size([1024, 10])\n",
            "Progress222\n",
            "Progress2\n",
            "Progress3\n",
            "Progress4\n"
          ]
        },
        {
          "output_type": "stream",
          "name": "stderr",
          "text": [
            "\rtrain:  21%|██        | 95/462 [05:27<21:55,  3.58s/it]"
          ]
        },
        {
          "output_type": "stream",
          "name": "stdout",
          "text": [
            "\n",
            "Progress1\n",
            "\n",
            "Progress111\n",
            "torch.Size([4, 256, 10])\n",
            "y_predict.shape:  torch.Size([1024, 10])\n",
            "Progress222\n",
            "Progress2\n",
            "Progress3\n",
            "Progress4\n"
          ]
        },
        {
          "output_type": "stream",
          "name": "stderr",
          "text": [
            "\rtrain:  21%|██        | 96/462 [05:30<20:47,  3.41s/it]"
          ]
        },
        {
          "output_type": "stream",
          "name": "stdout",
          "text": [
            "\n",
            "Progress1\n",
            "\n",
            "Progress111\n",
            "torch.Size([4, 256, 10])\n",
            "y_predict.shape:  torch.Size([1024, 10])\n",
            "Progress222\n",
            "Progress2\n",
            "Progress3\n",
            "Progress4\n"
          ]
        },
        {
          "output_type": "stream",
          "name": "stderr",
          "text": [
            "\rtrain:  21%|██        | 97/462 [05:33<19:54,  3.27s/it]"
          ]
        },
        {
          "output_type": "stream",
          "name": "stdout",
          "text": [
            "\n",
            "Progress1\n",
            "\n",
            "Progress111\n",
            "torch.Size([4, 256, 10])\n",
            "y_predict.shape:  torch.Size([1024, 10])\n",
            "Progress222\n",
            "Progress2\n",
            "Progress3\n",
            "Progress4\n"
          ]
        },
        {
          "output_type": "stream",
          "name": "stderr",
          "text": [
            "\rtrain:  21%|██        | 98/462 [05:36<20:24,  3.36s/it]"
          ]
        },
        {
          "output_type": "stream",
          "name": "stdout",
          "text": [
            "\n",
            "Progress1\n",
            "\n",
            "Progress111\n",
            "torch.Size([4, 256, 10])\n",
            "y_predict.shape:  torch.Size([1024, 10])\n",
            "Progress222\n",
            "Progress2\n",
            "Progress3\n",
            "Progress4\n"
          ]
        },
        {
          "output_type": "stream",
          "name": "stderr",
          "text": [
            "\rtrain:  21%|██▏       | 99/462 [05:40<21:31,  3.56s/it]"
          ]
        },
        {
          "output_type": "stream",
          "name": "stdout",
          "text": [
            "\n",
            "Progress1\n",
            "\n",
            "Progress111\n",
            "torch.Size([4, 256, 10])\n",
            "y_predict.shape:  torch.Size([1024, 10])\n",
            "Progress222\n",
            "Progress2\n",
            "Progress3\n",
            "Progress4\n"
          ]
        },
        {
          "output_type": "stream",
          "name": "stderr",
          "text": [
            "\rtrain:  22%|██▏       | 100/462 [05:43<20:15,  3.36s/it]"
          ]
        },
        {
          "output_type": "stream",
          "name": "stdout",
          "text": [
            "\n",
            "Progress1\n",
            "\n",
            "Progress111\n",
            "torch.Size([4, 256, 10])\n",
            "y_predict.shape:  torch.Size([1024, 10])\n",
            "Progress222\n",
            "Progress2\n",
            "Progress3\n",
            "Progress4\n"
          ]
        },
        {
          "output_type": "stream",
          "name": "stderr",
          "text": [
            "\rtrain:  22%|██▏       | 101/462 [05:46<19:28,  3.24s/it]"
          ]
        },
        {
          "output_type": "stream",
          "name": "stdout",
          "text": [
            "\n",
            "Progress1\n",
            "\n",
            "Progress111\n",
            "torch.Size([4, 256, 10])\n",
            "y_predict.shape:  torch.Size([1024, 10])\n",
            "Progress222\n",
            "Progress2\n",
            "Progress3\n",
            "Progress4\n"
          ]
        },
        {
          "output_type": "stream",
          "name": "stderr",
          "text": [
            "\rtrain:  22%|██▏       | 102/462 [05:49<19:07,  3.19s/it]"
          ]
        },
        {
          "output_type": "stream",
          "name": "stdout",
          "text": [
            "\n",
            "Progress1\n",
            "\n",
            "Progress111\n",
            "torch.Size([4, 256, 10])\n",
            "y_predict.shape:  torch.Size([1024, 10])\n",
            "Progress222\n",
            "Progress2\n",
            "Progress3\n",
            "Progress4\n"
          ]
        },
        {
          "output_type": "stream",
          "name": "stderr",
          "text": [
            "\rtrain:  22%|██▏       | 103/462 [05:54<21:34,  3.61s/it]"
          ]
        },
        {
          "output_type": "stream",
          "name": "stdout",
          "text": [
            "\n",
            "Progress1\n",
            "\n",
            "Progress111\n",
            "torch.Size([4, 256, 10])\n",
            "y_predict.shape:  torch.Size([1024, 10])\n",
            "Progress222\n",
            "Progress2\n",
            "Progress3\n",
            "Progress4\n"
          ]
        },
        {
          "output_type": "stream",
          "name": "stderr",
          "text": [
            "\rtrain:  23%|██▎       | 104/462 [05:57<20:34,  3.45s/it]"
          ]
        },
        {
          "output_type": "stream",
          "name": "stdout",
          "text": [
            "\n",
            "Progress1\n",
            "\n",
            "Progress111\n",
            "torch.Size([4, 256, 10])\n",
            "y_predict.shape:  torch.Size([1024, 10])\n",
            "Progress222\n",
            "Progress2\n",
            "Progress3\n",
            "Progress4\n"
          ]
        },
        {
          "output_type": "stream",
          "name": "stderr",
          "text": [
            "\rtrain:  23%|██▎       | 105/462 [06:00<19:49,  3.33s/it]"
          ]
        },
        {
          "output_type": "stream",
          "name": "stdout",
          "text": [
            "\n",
            "Progress1\n",
            "\n",
            "Progress111\n",
            "torch.Size([4, 256, 10])\n",
            "y_predict.shape:  torch.Size([1024, 10])\n",
            "Progress222\n",
            "Progress2\n",
            "Progress3\n",
            "Progress4\n"
          ]
        },
        {
          "output_type": "stream",
          "name": "stderr",
          "text": [
            "\rtrain:  23%|██▎       | 106/462 [06:03<19:22,  3.27s/it]"
          ]
        },
        {
          "output_type": "stream",
          "name": "stdout",
          "text": [
            "\n",
            "Progress1\n",
            "\n",
            "Progress111\n",
            "torch.Size([4, 256, 10])\n",
            "y_predict.shape:  torch.Size([1024, 10])\n",
            "Progress222\n",
            "Progress2\n",
            "Progress3\n",
            "Progress4\n"
          ]
        },
        {
          "output_type": "stream",
          "name": "stderr",
          "text": [
            "\rtrain:  23%|██▎       | 107/462 [06:07<21:12,  3.59s/it]"
          ]
        },
        {
          "output_type": "stream",
          "name": "stdout",
          "text": [
            "\n",
            "Progress1\n",
            "\n",
            "Progress111\n",
            "torch.Size([4, 256, 10])\n",
            "y_predict.shape:  torch.Size([1024, 10])\n",
            "Progress222\n",
            "Progress2\n",
            "Progress3\n",
            "Progress4\n"
          ]
        },
        {
          "output_type": "stream",
          "name": "stderr",
          "text": [
            "\rtrain:  23%|██▎       | 108/462 [06:11<21:07,  3.58s/it]"
          ]
        },
        {
          "output_type": "stream",
          "name": "stdout",
          "text": [
            "\n",
            "Progress1\n",
            "\n",
            "Progress111\n",
            "torch.Size([4, 256, 10])\n",
            "y_predict.shape:  torch.Size([1024, 10])\n",
            "Progress222\n",
            "Progress2\n",
            "Progress3\n",
            "Progress4\n"
          ]
        },
        {
          "output_type": "stream",
          "name": "stderr",
          "text": [
            "\rtrain:  24%|██▎       | 109/462 [06:14<20:09,  3.43s/it]"
          ]
        },
        {
          "output_type": "stream",
          "name": "stdout",
          "text": [
            "\n",
            "Progress1\n",
            "\n",
            "Progress111\n",
            "torch.Size([4, 256, 10])\n",
            "y_predict.shape:  torch.Size([1024, 10])\n",
            "Progress222\n",
            "Progress2\n",
            "Progress3\n",
            "Progress4\n"
          ]
        },
        {
          "output_type": "stream",
          "name": "stderr",
          "text": [
            "\rtrain:  24%|██▍       | 110/462 [06:17<19:26,  3.31s/it]"
          ]
        },
        {
          "output_type": "stream",
          "name": "stdout",
          "text": [
            "\n",
            "Progress1\n",
            "\n",
            "Progress111\n",
            "torch.Size([4, 256, 10])\n",
            "y_predict.shape:  torch.Size([1024, 10])\n",
            "Progress222\n",
            "Progress2\n",
            "Progress3\n",
            "Progress4\n"
          ]
        },
        {
          "output_type": "stream",
          "name": "stderr",
          "text": [
            "\rtrain:  24%|██▍       | 111/462 [06:20<19:30,  3.33s/it]"
          ]
        },
        {
          "output_type": "stream",
          "name": "stdout",
          "text": [
            "\n",
            "Progress1\n",
            "\n",
            "Progress111\n",
            "torch.Size([4, 256, 10])\n",
            "y_predict.shape:  torch.Size([1024, 10])\n",
            "Progress222\n",
            "Progress2\n",
            "Progress3\n",
            "Progress4\n"
          ]
        },
        {
          "output_type": "stream",
          "name": "stderr",
          "text": [
            "\rtrain:  24%|██▍       | 112/462 [06:25<21:06,  3.62s/it]"
          ]
        },
        {
          "output_type": "stream",
          "name": "stdout",
          "text": [
            "\n",
            "Progress1\n",
            "\n",
            "Progress111\n",
            "torch.Size([4, 256, 10])\n",
            "y_predict.shape:  torch.Size([1024, 10])\n",
            "Progress222\n",
            "Progress2\n",
            "Progress3\n",
            "Progress4\n"
          ]
        },
        {
          "output_type": "stream",
          "name": "stderr",
          "text": [
            "\rtrain:  24%|██▍       | 113/462 [06:28<19:47,  3.40s/it]"
          ]
        },
        {
          "output_type": "stream",
          "name": "stdout",
          "text": [
            "\n",
            "Progress1\n",
            "\n",
            "Progress111\n",
            "torch.Size([4, 256, 10])\n",
            "y_predict.shape:  torch.Size([1024, 10])\n",
            "Progress222\n",
            "Progress2\n",
            "Progress3\n",
            "Progress4\n"
          ]
        },
        {
          "output_type": "stream",
          "name": "stderr",
          "text": [
            "\rtrain:  25%|██▍       | 114/462 [06:30<18:53,  3.26s/it]"
          ]
        },
        {
          "output_type": "stream",
          "name": "stdout",
          "text": [
            "\n",
            "Progress1\n",
            "\n",
            "Progress111\n",
            "torch.Size([4, 256, 10])\n",
            "y_predict.shape:  torch.Size([1024, 10])\n",
            "Progress222\n",
            "Progress2\n",
            "Progress3\n",
            "Progress4\n"
          ]
        },
        {
          "output_type": "stream",
          "name": "stderr",
          "text": [
            "\rtrain:  25%|██▍       | 115/462 [06:33<18:21,  3.17s/it]"
          ]
        },
        {
          "output_type": "stream",
          "name": "stdout",
          "text": [
            "\n",
            "Progress1\n",
            "\n",
            "Progress111\n",
            "torch.Size([4, 256, 10])\n",
            "y_predict.shape:  torch.Size([1024, 10])\n",
            "Progress222\n",
            "Progress2\n",
            "Progress3\n",
            "Progress4\n"
          ]
        },
        {
          "output_type": "stream",
          "name": "stderr",
          "text": [
            "\rtrain:  25%|██▌       | 116/462 [06:38<20:12,  3.50s/it]"
          ]
        },
        {
          "output_type": "stream",
          "name": "stdout",
          "text": [
            "\n",
            "Progress1\n",
            "\n",
            "Progress111\n",
            "torch.Size([4, 256, 10])\n",
            "y_predict.shape:  torch.Size([1024, 10])\n",
            "Progress222\n",
            "Progress2\n",
            "Progress3\n",
            "Progress4\n"
          ]
        },
        {
          "output_type": "stream",
          "name": "stderr",
          "text": [
            "\rtrain:  25%|██▌       | 117/462 [06:41<20:20,  3.54s/it]"
          ]
        },
        {
          "output_type": "stream",
          "name": "stdout",
          "text": [
            "\n",
            "Progress1\n",
            "\n",
            "Progress111\n",
            "torch.Size([4, 256, 10])\n",
            "y_predict.shape:  torch.Size([1024, 10])\n",
            "Progress222\n",
            "Progress2\n",
            "Progress3\n",
            "Progress4\n"
          ]
        },
        {
          "output_type": "stream",
          "name": "stderr",
          "text": [
            "\rtrain:  26%|██▌       | 118/462 [06:44<19:30,  3.40s/it]"
          ]
        },
        {
          "output_type": "stream",
          "name": "stdout",
          "text": [
            "\n",
            "Progress1\n",
            "\n",
            "Progress111\n",
            "torch.Size([4, 256, 10])\n",
            "y_predict.shape:  torch.Size([1024, 10])\n",
            "Progress222\n",
            "Progress2\n",
            "Progress3\n",
            "Progress4\n"
          ]
        },
        {
          "output_type": "stream",
          "name": "stderr",
          "text": [
            "\rtrain:  26%|██▌       | 119/462 [06:47<18:51,  3.30s/it]"
          ]
        },
        {
          "output_type": "stream",
          "name": "stdout",
          "text": [
            "\n",
            "Progress1\n",
            "\n",
            "Progress111\n",
            "torch.Size([4, 256, 10])\n",
            "y_predict.shape:  torch.Size([1024, 10])\n",
            "Progress222\n",
            "Progress2\n",
            "Progress3\n",
            "Progress4\n"
          ]
        },
        {
          "output_type": "stream",
          "name": "stderr",
          "text": [
            "\rtrain:  26%|██▌       | 120/462 [06:51<19:01,  3.34s/it]"
          ]
        },
        {
          "output_type": "stream",
          "name": "stdout",
          "text": [
            "\n",
            "Progress1\n",
            "\n",
            "Progress111\n",
            "torch.Size([4, 256, 10])\n",
            "y_predict.shape:  torch.Size([1024, 10])\n",
            "Progress222\n",
            "Progress2\n",
            "Progress3\n",
            "Progress4\n"
          ]
        },
        {
          "output_type": "stream",
          "name": "stderr",
          "text": [
            "\rtrain:  26%|██▌       | 121/462 [06:55<20:47,  3.66s/it]"
          ]
        },
        {
          "output_type": "stream",
          "name": "stdout",
          "text": [
            "\n",
            "Progress1\n",
            "\n",
            "Progress111\n",
            "torch.Size([4, 256, 10])\n",
            "y_predict.shape:  torch.Size([1024, 10])\n",
            "Progress222\n",
            "Progress2\n",
            "Progress3\n",
            "Progress4\n"
          ]
        },
        {
          "output_type": "stream",
          "name": "stderr",
          "text": [
            "\rtrain:  26%|██▋       | 122/462 [06:58<19:40,  3.47s/it]"
          ]
        },
        {
          "output_type": "stream",
          "name": "stdout",
          "text": [
            "\n",
            "Progress1\n",
            "\n",
            "Progress111\n",
            "torch.Size([4, 256, 10])\n",
            "y_predict.shape:  torch.Size([1024, 10])\n",
            "Progress222\n",
            "Progress2\n",
            "Progress3\n",
            "Progress4\n"
          ]
        },
        {
          "output_type": "stream",
          "name": "stderr",
          "text": [
            "\rtrain:  27%|██▋       | 123/462 [07:01<18:59,  3.36s/it]"
          ]
        },
        {
          "output_type": "stream",
          "name": "stdout",
          "text": [
            "\n",
            "Progress1\n",
            "\n",
            "Progress111\n",
            "torch.Size([4, 256, 10])\n",
            "y_predict.shape:  torch.Size([1024, 10])\n",
            "Progress222\n",
            "Progress2\n",
            "Progress3\n",
            "Progress4\n"
          ]
        },
        {
          "output_type": "stream",
          "name": "stderr",
          "text": [
            "\rtrain:  27%|██▋       | 124/462 [07:05<18:58,  3.37s/it]"
          ]
        },
        {
          "output_type": "stream",
          "name": "stdout",
          "text": [
            "\n",
            "Progress1\n",
            "\n",
            "Progress111\n",
            "torch.Size([4, 256, 10])\n",
            "y_predict.shape:  torch.Size([1024, 10])\n",
            "Progress222\n",
            "Progress2\n",
            "Progress3\n",
            "Progress4\n"
          ]
        },
        {
          "output_type": "stream",
          "name": "stderr",
          "text": [
            "\rtrain:  27%|██▋       | 125/462 [07:09<20:45,  3.69s/it]"
          ]
        },
        {
          "output_type": "stream",
          "name": "stdout",
          "text": [
            "\n",
            "Progress1\n",
            "\n",
            "Progress111\n",
            "torch.Size([4, 256, 10])\n",
            "y_predict.shape:  torch.Size([1024, 10])\n",
            "Progress222\n",
            "Progress2\n",
            "Progress3\n",
            "Progress4\n"
          ]
        },
        {
          "output_type": "stream",
          "name": "stderr",
          "text": [
            "\rtrain:  27%|██▋       | 126/462 [07:12<19:37,  3.50s/it]"
          ]
        },
        {
          "output_type": "stream",
          "name": "stdout",
          "text": [
            "\n",
            "Progress1\n",
            "\n",
            "Progress111\n",
            "torch.Size([4, 256, 10])\n",
            "y_predict.shape:  torch.Size([1024, 10])\n",
            "Progress222\n",
            "Progress2\n",
            "Progress3\n",
            "Progress4\n"
          ]
        },
        {
          "output_type": "stream",
          "name": "stderr",
          "text": [
            "\rtrain:  27%|██▋       | 127/462 [07:15<18:50,  3.38s/it]"
          ]
        },
        {
          "output_type": "stream",
          "name": "stdout",
          "text": [
            "\n",
            "Progress1\n",
            "\n",
            "Progress111\n",
            "torch.Size([4, 256, 10])\n",
            "y_predict.shape:  torch.Size([1024, 10])\n",
            "Progress222\n",
            "Progress2\n",
            "Progress3\n",
            "Progress4\n"
          ]
        },
        {
          "output_type": "stream",
          "name": "stderr",
          "text": [
            "\rtrain:  28%|██▊       | 128/462 [07:19<18:21,  3.30s/it]"
          ]
        },
        {
          "output_type": "stream",
          "name": "stdout",
          "text": [
            "\n",
            "Progress1\n",
            "\n",
            "Progress111\n",
            "torch.Size([4, 256, 10])\n",
            "y_predict.shape:  torch.Size([1024, 10])\n",
            "Progress222\n",
            "Progress2\n",
            "Progress3\n",
            "Progress4\n"
          ]
        },
        {
          "output_type": "stream",
          "name": "stderr",
          "text": [
            "\rtrain:  28%|██▊       | 129/462 [07:23<20:00,  3.61s/it]"
          ]
        },
        {
          "output_type": "stream",
          "name": "stdout",
          "text": [
            "\n",
            "Progress1\n",
            "\n",
            "Progress111\n",
            "torch.Size([4, 256, 10])\n",
            "y_predict.shape:  torch.Size([1024, 10])\n",
            "Progress222\n",
            "Progress2\n",
            "Progress3\n",
            "Progress4\n"
          ]
        },
        {
          "output_type": "stream",
          "name": "stderr",
          "text": [
            "\rtrain:  28%|██▊       | 130/462 [07:26<19:25,  3.51s/it]"
          ]
        },
        {
          "output_type": "stream",
          "name": "stdout",
          "text": [
            "\n",
            "Progress1\n",
            "\n",
            "Progress111\n",
            "torch.Size([4, 256, 10])\n",
            "y_predict.shape:  torch.Size([1024, 10])\n",
            "Progress222\n",
            "Progress2\n",
            "Progress3\n",
            "Progress4\n"
          ]
        },
        {
          "output_type": "stream",
          "name": "stderr",
          "text": [
            "\rtrain:  28%|██▊       | 131/462 [07:29<18:31,  3.36s/it]"
          ]
        },
        {
          "output_type": "stream",
          "name": "stdout",
          "text": [
            "\n",
            "Progress1\n",
            "\n",
            "Progress111\n",
            "torch.Size([4, 256, 10])\n",
            "y_predict.shape:  torch.Size([1024, 10])\n",
            "Progress222\n",
            "Progress2\n",
            "Progress3\n",
            "Progress4\n"
          ]
        },
        {
          "output_type": "stream",
          "name": "stderr",
          "text": [
            "\rtrain:  29%|██▊       | 132/462 [07:32<17:38,  3.21s/it]"
          ]
        },
        {
          "output_type": "stream",
          "name": "stdout",
          "text": [
            "\n",
            "Progress1\n",
            "\n",
            "Progress111\n",
            "torch.Size([4, 256, 10])\n",
            "y_predict.shape:  torch.Size([1024, 10])\n",
            "Progress222\n",
            "Progress2\n",
            "Progress3\n",
            "Progress4\n"
          ]
        },
        {
          "output_type": "stream",
          "name": "stderr",
          "text": [
            "\rtrain:  29%|██▉       | 133/462 [07:36<18:12,  3.32s/it]"
          ]
        },
        {
          "output_type": "stream",
          "name": "stdout",
          "text": [
            "\n",
            "Progress1\n",
            "\n",
            "Progress111\n",
            "torch.Size([4, 256, 10])\n",
            "y_predict.shape:  torch.Size([1024, 10])\n",
            "Progress222\n",
            "Progress2\n",
            "Progress3\n",
            "Progress4\n"
          ]
        },
        {
          "output_type": "stream",
          "name": "stderr",
          "text": [
            "\rtrain:  29%|██▉       | 134/462 [07:40<19:33,  3.58s/it]"
          ]
        },
        {
          "output_type": "stream",
          "name": "stdout",
          "text": [
            "\n",
            "Progress1\n",
            "\n",
            "Progress111\n",
            "torch.Size([4, 256, 10])\n",
            "y_predict.shape:  torch.Size([1024, 10])\n",
            "Progress222\n",
            "Progress2\n",
            "Progress3\n",
            "Progress4\n"
          ]
        },
        {
          "output_type": "stream",
          "name": "stderr",
          "text": [
            "\rtrain:  29%|██▉       | 135/462 [07:43<18:34,  3.41s/it]"
          ]
        },
        {
          "output_type": "stream",
          "name": "stdout",
          "text": [
            "\n",
            "Progress1\n",
            "\n",
            "Progress111\n",
            "torch.Size([4, 256, 10])\n",
            "y_predict.shape:  torch.Size([1024, 10])\n",
            "Progress222\n",
            "Progress2\n",
            "Progress3\n",
            "Progress4\n"
          ]
        },
        {
          "output_type": "stream",
          "name": "stderr",
          "text": [
            "\rtrain:  29%|██▉       | 136/462 [07:46<17:55,  3.30s/it]"
          ]
        },
        {
          "output_type": "stream",
          "name": "stdout",
          "text": [
            "\n",
            "Progress1\n",
            "\n",
            "Progress111\n",
            "torch.Size([4, 256, 10])\n",
            "y_predict.shape:  torch.Size([1024, 10])\n",
            "Progress222\n",
            "Progress2\n",
            "Progress3\n",
            "Progress4\n"
          ]
        },
        {
          "output_type": "stream",
          "name": "stderr",
          "text": [
            "\rtrain:  30%|██▉       | 137/462 [07:49<17:59,  3.32s/it]"
          ]
        },
        {
          "output_type": "stream",
          "name": "stdout",
          "text": [
            "\n",
            "Progress1\n",
            "\n",
            "Progress111\n",
            "torch.Size([4, 256, 10])\n",
            "y_predict.shape:  torch.Size([1024, 10])\n",
            "Progress222\n",
            "Progress2\n",
            "Progress3\n",
            "Progress4\n"
          ]
        },
        {
          "output_type": "stream",
          "name": "stderr",
          "text": [
            "\rtrain:  30%|██▉       | 138/462 [07:53<19:33,  3.62s/it]"
          ]
        },
        {
          "output_type": "stream",
          "name": "stdout",
          "text": [
            "\n",
            "Progress1\n",
            "\n",
            "Progress111\n",
            "torch.Size([4, 256, 10])\n",
            "y_predict.shape:  torch.Size([1024, 10])\n",
            "Progress222\n",
            "Progress2\n",
            "Progress3\n",
            "Progress4\n"
          ]
        },
        {
          "output_type": "stream",
          "name": "stderr",
          "text": [
            "\rtrain:  30%|███       | 139/462 [07:57<18:34,  3.45s/it]"
          ]
        },
        {
          "output_type": "stream",
          "name": "stdout",
          "text": [
            "\n",
            "Progress1\n",
            "\n",
            "Progress111\n",
            "torch.Size([4, 256, 10])\n",
            "y_predict.shape:  torch.Size([1024, 10])\n",
            "Progress222\n",
            "Progress2\n",
            "Progress3\n",
            "Progress4\n"
          ]
        },
        {
          "output_type": "stream",
          "name": "stderr",
          "text": [
            "\rtrain:  30%|███       | 140/462 [08:00<17:46,  3.31s/it]"
          ]
        },
        {
          "output_type": "stream",
          "name": "stdout",
          "text": [
            "\n",
            "Progress1\n",
            "\n",
            "Progress111\n",
            "torch.Size([4, 256, 10])\n",
            "y_predict.shape:  torch.Size([1024, 10])\n",
            "Progress222\n",
            "Progress2\n",
            "Progress3\n",
            "Progress4\n"
          ]
        },
        {
          "output_type": "stream",
          "name": "stderr",
          "text": [
            "\rtrain:  31%|███       | 141/462 [08:03<17:19,  3.24s/it]"
          ]
        },
        {
          "output_type": "stream",
          "name": "stdout",
          "text": [
            "\n",
            "Progress1\n",
            "\n",
            "Progress111\n",
            "torch.Size([4, 256, 10])\n",
            "y_predict.shape:  torch.Size([1024, 10])\n",
            "Progress222\n",
            "Progress2\n",
            "Progress3\n",
            "Progress4\n"
          ]
        },
        {
          "output_type": "stream",
          "name": "stderr",
          "text": [
            "\rtrain:  31%|███       | 142/462 [08:07<19:34,  3.67s/it]"
          ]
        },
        {
          "output_type": "stream",
          "name": "stdout",
          "text": [
            "\n",
            "Progress1\n",
            "\n",
            "Progress111\n",
            "torch.Size([4, 256, 10])\n",
            "y_predict.shape:  torch.Size([1024, 10])\n",
            "Progress222\n",
            "Progress2\n",
            "Progress3\n",
            "Progress4\n"
          ]
        },
        {
          "output_type": "stream",
          "name": "stderr",
          "text": [
            "\rtrain:  31%|███       | 143/462 [08:10<18:26,  3.47s/it]"
          ]
        },
        {
          "output_type": "stream",
          "name": "stdout",
          "text": [
            "\n",
            "Progress1\n",
            "\n",
            "Progress111\n",
            "torch.Size([4, 256, 10])\n",
            "y_predict.shape:  torch.Size([1024, 10])\n",
            "Progress222\n",
            "Progress2\n",
            "Progress3\n",
            "Progress4\n"
          ]
        },
        {
          "output_type": "stream",
          "name": "stderr",
          "text": [
            "\rtrain:  31%|███       | 144/462 [08:13<17:38,  3.33s/it]"
          ]
        },
        {
          "output_type": "stream",
          "name": "stdout",
          "text": [
            "\n",
            "Progress1\n",
            "\n",
            "Progress111\n",
            "torch.Size([4, 256, 10])\n",
            "y_predict.shape:  torch.Size([1024, 10])\n",
            "Progress222\n",
            "Progress2\n",
            "Progress3\n",
            "Progress4\n"
          ]
        },
        {
          "output_type": "stream",
          "name": "stderr",
          "text": [
            "\rtrain:  31%|███▏      | 145/462 [08:16<16:56,  3.21s/it]"
          ]
        },
        {
          "output_type": "stream",
          "name": "stdout",
          "text": [
            "\n",
            "Progress1\n",
            "\n",
            "Progress111\n",
            "torch.Size([4, 256, 10])\n",
            "y_predict.shape:  torch.Size([1024, 10])\n",
            "Progress222\n",
            "Progress2\n",
            "Progress3\n",
            "Progress4\n"
          ]
        },
        {
          "output_type": "stream",
          "name": "stderr",
          "text": [
            "\rtrain:  32%|███▏      | 146/462 [08:20<18:33,  3.52s/it]"
          ]
        },
        {
          "output_type": "stream",
          "name": "stdout",
          "text": [
            "\n",
            "Progress1\n",
            "\n",
            "Progress111\n",
            "torch.Size([4, 256, 10])\n",
            "y_predict.shape:  torch.Size([1024, 10])\n",
            "Progress222\n",
            "Progress2\n",
            "Progress3\n",
            "Progress4\n"
          ]
        },
        {
          "output_type": "stream",
          "name": "stderr",
          "text": [
            "\rtrain:  32%|███▏      | 147/462 [08:24<18:16,  3.48s/it]"
          ]
        },
        {
          "output_type": "stream",
          "name": "stdout",
          "text": [
            "\n",
            "Progress1\n",
            "\n",
            "Progress111\n",
            "torch.Size([4, 256, 10])\n",
            "y_predict.shape:  torch.Size([1024, 10])\n",
            "Progress222\n",
            "Progress2\n",
            "Progress3\n",
            "Progress4\n"
          ]
        },
        {
          "output_type": "stream",
          "name": "stderr",
          "text": [
            "\rtrain:  32%|███▏      | 148/462 [08:27<17:24,  3.33s/it]"
          ]
        },
        {
          "output_type": "stream",
          "name": "stdout",
          "text": [
            "\n",
            "Progress1\n",
            "\n",
            "Progress111\n",
            "torch.Size([4, 256, 10])\n",
            "y_predict.shape:  torch.Size([1024, 10])\n",
            "Progress222\n",
            "Progress2\n",
            "Progress3\n",
            "Progress4\n"
          ]
        },
        {
          "output_type": "stream",
          "name": "stderr",
          "text": [
            "\rtrain:  32%|███▏      | 149/462 [08:30<16:44,  3.21s/it]"
          ]
        },
        {
          "output_type": "stream",
          "name": "stdout",
          "text": [
            "\n",
            "Progress1\n",
            "\n",
            "Progress111\n",
            "torch.Size([4, 256, 10])\n",
            "y_predict.shape:  torch.Size([1024, 10])\n",
            "Progress222\n",
            "Progress2\n",
            "Progress3\n",
            "Progress4\n"
          ]
        },
        {
          "output_type": "stream",
          "name": "stderr",
          "text": [
            "\rtrain:  32%|███▏      | 150/462 [08:33<17:20,  3.33s/it]"
          ]
        },
        {
          "output_type": "stream",
          "name": "stdout",
          "text": [
            "\n",
            "Progress1\n",
            "\n",
            "Progress111\n",
            "torch.Size([4, 256, 10])\n",
            "y_predict.shape:  torch.Size([1024, 10])\n",
            "Progress222\n",
            "Progress2\n",
            "Progress3\n",
            "Progress4\n"
          ]
        },
        {
          "output_type": "stream",
          "name": "stderr",
          "text": [
            "\rtrain:  33%|███▎      | 151/462 [08:38<18:51,  3.64s/it]"
          ]
        },
        {
          "output_type": "stream",
          "name": "stdout",
          "text": [
            "\n",
            "Progress1\n",
            "\n",
            "Progress111\n",
            "torch.Size([4, 256, 10])\n",
            "y_predict.shape:  torch.Size([1024, 10])\n",
            "Progress222\n",
            "Progress2\n",
            "Progress3\n",
            "Progress4\n"
          ]
        },
        {
          "output_type": "stream",
          "name": "stderr",
          "text": [
            "\rtrain:  33%|███▎      | 152/462 [08:41<17:51,  3.46s/it]"
          ]
        },
        {
          "output_type": "stream",
          "name": "stdout",
          "text": [
            "\n",
            "Progress1\n",
            "\n",
            "Progress111\n",
            "torch.Size([4, 256, 10])\n",
            "y_predict.shape:  torch.Size([1024, 10])\n",
            "Progress222\n",
            "Progress2\n",
            "Progress3\n",
            "Progress4\n"
          ]
        },
        {
          "output_type": "stream",
          "name": "stderr",
          "text": [
            "\rtrain:  33%|███▎      | 153/462 [08:44<17:09,  3.33s/it]"
          ]
        },
        {
          "output_type": "stream",
          "name": "stdout",
          "text": [
            "\n",
            "Progress1\n",
            "\n",
            "Progress111\n",
            "torch.Size([4, 256, 10])\n",
            "y_predict.shape:  torch.Size([1024, 10])\n",
            "Progress222\n",
            "Progress2\n",
            "Progress3\n",
            "Progress4\n"
          ]
        },
        {
          "output_type": "stream",
          "name": "stderr",
          "text": [
            "\rtrain:  33%|███▎      | 154/462 [08:47<16:39,  3.25s/it]"
          ]
        },
        {
          "output_type": "stream",
          "name": "stdout",
          "text": [
            "\n",
            "Progress1\n",
            "\n",
            "Progress111\n",
            "torch.Size([4, 256, 10])\n",
            "y_predict.shape:  torch.Size([1024, 10])\n",
            "Progress222\n",
            "Progress2\n",
            "Progress3\n",
            "Progress4\n"
          ]
        },
        {
          "output_type": "stream",
          "name": "stderr",
          "text": [
            "\rtrain:  34%|███▎      | 155/462 [08:51<18:22,  3.59s/it]"
          ]
        },
        {
          "output_type": "stream",
          "name": "stdout",
          "text": [
            "\n",
            "Progress1\n",
            "\n",
            "Progress111\n",
            "torch.Size([4, 256, 10])\n",
            "y_predict.shape:  torch.Size([1024, 10])\n",
            "Progress222\n",
            "Progress2\n",
            "Progress3\n",
            "Progress4\n"
          ]
        },
        {
          "output_type": "stream",
          "name": "stderr",
          "text": [
            "\rtrain:  34%|███▍      | 156/462 [08:55<18:23,  3.61s/it]"
          ]
        },
        {
          "output_type": "stream",
          "name": "stdout",
          "text": [
            "\n",
            "Progress1\n",
            "\n",
            "Progress111\n",
            "torch.Size([4, 256, 10])\n",
            "y_predict.shape:  torch.Size([1024, 10])\n",
            "Progress222\n",
            "Progress2\n",
            "Progress3\n",
            "Progress4\n"
          ]
        },
        {
          "output_type": "stream",
          "name": "stderr",
          "text": [
            "\rtrain:  34%|███▍      | 157/462 [08:58<17:24,  3.42s/it]"
          ]
        },
        {
          "output_type": "stream",
          "name": "stdout",
          "text": [
            "\n",
            "Progress1\n",
            "\n",
            "Progress111\n",
            "torch.Size([4, 256, 10])\n",
            "y_predict.shape:  torch.Size([1024, 10])\n",
            "Progress222\n",
            "Progress2\n",
            "Progress3\n",
            "Progress4\n"
          ]
        },
        {
          "output_type": "stream",
          "name": "stderr",
          "text": [
            "\rtrain:  34%|███▍      | 158/462 [09:01<16:47,  3.32s/it]"
          ]
        },
        {
          "output_type": "stream",
          "name": "stdout",
          "text": [
            "\n",
            "Progress1\n",
            "\n",
            "Progress111\n",
            "torch.Size([4, 256, 10])\n",
            "y_predict.shape:  torch.Size([1024, 10])\n",
            "Progress222\n",
            "Progress2\n",
            "Progress3\n",
            "Progress4\n"
          ]
        },
        {
          "output_type": "stream",
          "name": "stderr",
          "text": [
            "\rtrain:  34%|███▍      | 159/462 [09:05<17:26,  3.45s/it]"
          ]
        },
        {
          "output_type": "stream",
          "name": "stdout",
          "text": [
            "\n",
            "Progress1\n",
            "\n",
            "Progress111\n",
            "torch.Size([4, 256, 10])\n",
            "y_predict.shape:  torch.Size([1024, 10])\n",
            "Progress222\n",
            "Progress2\n",
            "Progress3\n",
            "Progress4\n"
          ]
        },
        {
          "output_type": "stream",
          "name": "stderr",
          "text": [
            "\rtrain:  35%|███▍      | 160/462 [09:09<18:41,  3.72s/it]"
          ]
        },
        {
          "output_type": "stream",
          "name": "stdout",
          "text": [
            "\n",
            "Progress1\n",
            "\n",
            "Progress111\n",
            "torch.Size([4, 256, 10])\n",
            "y_predict.shape:  torch.Size([1024, 10])\n",
            "Progress222\n",
            "Progress2\n",
            "Progress3\n",
            "Progress4\n"
          ]
        },
        {
          "output_type": "stream",
          "name": "stderr",
          "text": [
            "\rtrain:  35%|███▍      | 161/462 [09:12<17:26,  3.48s/it]"
          ]
        },
        {
          "output_type": "stream",
          "name": "stdout",
          "text": [
            "\n",
            "Progress1\n",
            "\n",
            "Progress111\n",
            "torch.Size([4, 256, 10])\n",
            "y_predict.shape:  torch.Size([1024, 10])\n",
            "Progress222\n",
            "Progress2\n",
            "Progress3\n",
            "Progress4\n"
          ]
        },
        {
          "output_type": "stream",
          "name": "stderr",
          "text": [
            "\rtrain:  35%|███▌      | 162/462 [09:15<16:28,  3.30s/it]"
          ]
        },
        {
          "output_type": "stream",
          "name": "stdout",
          "text": [
            "\n",
            "Progress1\n",
            "\n",
            "Progress111\n",
            "torch.Size([4, 256, 10])\n",
            "y_predict.shape:  torch.Size([1024, 10])\n",
            "Progress222\n",
            "Progress2\n",
            "Progress3\n",
            "Progress4\n"
          ]
        },
        {
          "output_type": "stream",
          "name": "stderr",
          "text": [
            "\rtrain:  35%|███▌      | 163/462 [09:18<15:53,  3.19s/it]"
          ]
        },
        {
          "output_type": "stream",
          "name": "stdout",
          "text": [
            "\n",
            "Progress1\n",
            "\n",
            "Progress111\n",
            "torch.Size([4, 256, 10])\n",
            "y_predict.shape:  torch.Size([1024, 10])\n",
            "Progress222\n",
            "Progress2\n",
            "Progress3\n",
            "Progress4\n"
          ]
        },
        {
          "output_type": "stream",
          "name": "stderr",
          "text": [
            "\rtrain:  35%|███▌      | 164/462 [09:22<16:43,  3.37s/it]"
          ]
        },
        {
          "output_type": "stream",
          "name": "stdout",
          "text": [
            "\n",
            "Progress1\n",
            "\n",
            "Progress111\n",
            "torch.Size([4, 256, 10])\n",
            "y_predict.shape:  torch.Size([1024, 10])\n",
            "Progress222\n",
            "Progress2\n",
            "Progress3\n",
            "Progress4\n"
          ]
        },
        {
          "output_type": "stream",
          "name": "stderr",
          "text": [
            "\rtrain:  36%|███▌      | 165/462 [09:26<17:44,  3.58s/it]"
          ]
        },
        {
          "output_type": "stream",
          "name": "stdout",
          "text": [
            "\n",
            "Progress1\n",
            "\n",
            "Progress111\n",
            "torch.Size([4, 256, 10])\n",
            "y_predict.shape:  torch.Size([1024, 10])\n",
            "Progress222\n",
            "Progress2\n",
            "Progress3\n",
            "Progress4\n"
          ]
        },
        {
          "output_type": "stream",
          "name": "stderr",
          "text": [
            "\rtrain:  36%|███▌      | 166/462 [09:29<16:59,  3.44s/it]"
          ]
        },
        {
          "output_type": "stream",
          "name": "stdout",
          "text": [
            "\n",
            "Progress1\n",
            "\n",
            "Progress111\n",
            "torch.Size([4, 256, 10])\n",
            "y_predict.shape:  torch.Size([1024, 10])\n",
            "Progress222\n",
            "Progress2\n",
            "Progress3\n",
            "Progress4\n"
          ]
        },
        {
          "output_type": "stream",
          "name": "stderr",
          "text": [
            "\rtrain:  36%|███▌      | 167/462 [09:32<16:26,  3.34s/it]"
          ]
        },
        {
          "output_type": "stream",
          "name": "stdout",
          "text": [
            "\n",
            "Progress1\n",
            "\n",
            "Progress111\n",
            "torch.Size([4, 256, 10])\n",
            "y_predict.shape:  torch.Size([1024, 10])\n",
            "Progress222\n",
            "Progress2\n",
            "Progress3\n",
            "Progress4\n"
          ]
        },
        {
          "output_type": "stream",
          "name": "stderr",
          "text": [
            "\rtrain:  36%|███▋      | 168/462 [09:35<16:17,  3.32s/it]"
          ]
        },
        {
          "output_type": "stream",
          "name": "stdout",
          "text": [
            "\n",
            "Progress1\n",
            "\n",
            "Progress111\n",
            "torch.Size([4, 256, 10])\n",
            "y_predict.shape:  torch.Size([1024, 10])\n",
            "Progress222\n",
            "Progress2\n",
            "Progress3\n",
            "Progress4\n"
          ]
        },
        {
          "output_type": "stream",
          "name": "stderr",
          "text": [
            "\rtrain:  37%|███▋      | 169/462 [09:40<17:56,  3.67s/it]"
          ]
        },
        {
          "output_type": "stream",
          "name": "stdout",
          "text": [
            "\n",
            "Progress1\n",
            "\n",
            "Progress111\n",
            "torch.Size([4, 256, 10])\n",
            "y_predict.shape:  torch.Size([1024, 10])\n",
            "Progress222\n",
            "Progress2\n",
            "Progress3\n",
            "Progress4\n"
          ]
        },
        {
          "output_type": "stream",
          "name": "stderr",
          "text": [
            "\rtrain:  37%|███▋      | 170/462 [09:43<16:51,  3.46s/it]"
          ]
        },
        {
          "output_type": "stream",
          "name": "stdout",
          "text": [
            "\n",
            "Progress1\n",
            "\n",
            "Progress111\n",
            "torch.Size([4, 256, 10])\n",
            "y_predict.shape:  torch.Size([1024, 10])\n",
            "Progress222\n",
            "Progress2\n",
            "Progress3\n",
            "Progress4\n"
          ]
        },
        {
          "output_type": "stream",
          "name": "stderr",
          "text": [
            "\rtrain:  37%|███▋      | 171/462 [09:46<16:14,  3.35s/it]"
          ]
        },
        {
          "output_type": "stream",
          "name": "stdout",
          "text": [
            "\n",
            "Progress1\n",
            "\n",
            "Progress111\n",
            "torch.Size([4, 256, 10])\n",
            "y_predict.shape:  torch.Size([1024, 10])\n",
            "Progress222\n",
            "Progress2\n",
            "Progress3\n",
            "Progress4\n"
          ]
        },
        {
          "output_type": "stream",
          "name": "stderr",
          "text": [
            "\rtrain:  37%|███▋      | 172/462 [09:49<15:51,  3.28s/it]"
          ]
        },
        {
          "output_type": "stream",
          "name": "stdout",
          "text": [
            "\n",
            "Progress1\n",
            "\n",
            "Progress111\n",
            "torch.Size([4, 256, 10])\n",
            "y_predict.shape:  torch.Size([1024, 10])\n",
            "Progress222\n",
            "Progress2\n",
            "Progress3\n",
            "Progress4\n"
          ]
        },
        {
          "output_type": "stream",
          "name": "stderr",
          "text": [
            "\rtrain:  37%|███▋      | 173/462 [09:53<17:25,  3.62s/it]"
          ]
        },
        {
          "output_type": "stream",
          "name": "stdout",
          "text": [
            "\n",
            "Progress1\n",
            "\n",
            "Progress111\n",
            "torch.Size([4, 256, 10])\n",
            "y_predict.shape:  torch.Size([1024, 10])\n",
            "Progress222\n",
            "Progress2\n",
            "Progress3\n",
            "Progress4\n"
          ]
        },
        {
          "output_type": "stream",
          "name": "stderr",
          "text": [
            "\rtrain:  38%|███▊      | 174/462 [09:57<17:14,  3.59s/it]"
          ]
        },
        {
          "output_type": "stream",
          "name": "stdout",
          "text": [
            "\n",
            "Progress1\n",
            "\n",
            "Progress111\n",
            "torch.Size([4, 256, 10])\n",
            "y_predict.shape:  torch.Size([1024, 10])\n",
            "Progress222\n",
            "Progress2\n",
            "Progress3\n",
            "Progress4\n"
          ]
        },
        {
          "output_type": "stream",
          "name": "stderr",
          "text": [
            "\rtrain:  38%|███▊      | 175/462 [10:00<16:23,  3.43s/it]"
          ]
        },
        {
          "output_type": "stream",
          "name": "stdout",
          "text": [
            "\n",
            "Progress1\n",
            "\n",
            "Progress111\n",
            "torch.Size([4, 256, 10])\n",
            "y_predict.shape:  torch.Size([1024, 10])\n",
            "Progress222\n",
            "Progress2\n",
            "Progress3\n",
            "Progress4\n"
          ]
        },
        {
          "output_type": "stream",
          "name": "stderr",
          "text": [
            "\rtrain:  38%|███▊      | 176/462 [10:03<15:41,  3.29s/it]"
          ]
        },
        {
          "output_type": "stream",
          "name": "stdout",
          "text": [
            "\n",
            "Progress1\n",
            "\n",
            "Progress111\n",
            "torch.Size([4, 256, 10])\n",
            "y_predict.shape:  torch.Size([1024, 10])\n",
            "Progress222\n",
            "Progress2\n",
            "Progress3\n",
            "Progress4\n"
          ]
        },
        {
          "output_type": "stream",
          "name": "stderr",
          "text": [
            "\rtrain:  38%|███▊      | 177/462 [10:06<16:10,  3.40s/it]"
          ]
        },
        {
          "output_type": "stream",
          "name": "stdout",
          "text": [
            "\n",
            "Progress1\n",
            "\n",
            "Progress111\n",
            "torch.Size([4, 256, 10])\n",
            "y_predict.shape:  torch.Size([1024, 10])\n",
            "Progress222\n",
            "Progress2\n",
            "Progress3\n",
            "Progress4\n"
          ]
        },
        {
          "output_type": "stream",
          "name": "stderr",
          "text": [
            "\rtrain:  39%|███▊      | 178/462 [10:11<17:12,  3.63s/it]"
          ]
        },
        {
          "output_type": "stream",
          "name": "stdout",
          "text": [
            "\n",
            "Progress1\n",
            "\n",
            "Progress111\n",
            "torch.Size([4, 256, 10])\n",
            "y_predict.shape:  torch.Size([1024, 10])\n",
            "Progress222\n",
            "Progress2\n",
            "Progress3\n",
            "Progress4\n"
          ]
        },
        {
          "output_type": "stream",
          "name": "stderr",
          "text": [
            "\rtrain:  39%|███▊      | 179/462 [10:14<16:10,  3.43s/it]"
          ]
        },
        {
          "output_type": "stream",
          "name": "stdout",
          "text": [
            "\n",
            "Progress1\n",
            "\n",
            "Progress111\n",
            "torch.Size([4, 256, 10])\n",
            "y_predict.shape:  torch.Size([1024, 10])\n",
            "Progress222\n",
            "Progress2\n",
            "Progress3\n",
            "Progress4\n"
          ]
        },
        {
          "output_type": "stream",
          "name": "stderr",
          "text": [
            "\rtrain:  39%|███▉      | 180/462 [10:17<15:27,  3.29s/it]"
          ]
        },
        {
          "output_type": "stream",
          "name": "stdout",
          "text": [
            "\n",
            "Progress1\n",
            "\n",
            "Progress111\n",
            "torch.Size([4, 256, 10])\n",
            "y_predict.shape:  torch.Size([1024, 10])\n",
            "Progress222\n",
            "Progress2\n",
            "Progress3\n",
            "Progress4\n"
          ]
        },
        {
          "output_type": "stream",
          "name": "stderr",
          "text": [
            "\rtrain:  39%|███▉      | 181/462 [10:20<15:11,  3.24s/it]"
          ]
        },
        {
          "output_type": "stream",
          "name": "stdout",
          "text": [
            "\n",
            "Progress1\n",
            "\n",
            "Progress111\n",
            "torch.Size([4, 256, 10])\n",
            "y_predict.shape:  torch.Size([1024, 10])\n",
            "Progress222\n",
            "Progress2\n",
            "Progress3\n",
            "Progress4\n"
          ]
        },
        {
          "output_type": "stream",
          "name": "stderr",
          "text": [
            "\rtrain:  39%|███▉      | 182/462 [10:24<16:59,  3.64s/it]"
          ]
        },
        {
          "output_type": "stream",
          "name": "stdout",
          "text": [
            "\n",
            "Progress1\n",
            "\n",
            "Progress111\n",
            "torch.Size([4, 256, 10])\n",
            "y_predict.shape:  torch.Size([1024, 10])\n",
            "Progress222\n",
            "Progress2\n",
            "Progress3\n",
            "Progress4\n"
          ]
        },
        {
          "output_type": "stream",
          "name": "stderr",
          "text": [
            "\rtrain:  40%|███▉      | 183/462 [10:28<16:42,  3.59s/it]"
          ]
        },
        {
          "output_type": "stream",
          "name": "stdout",
          "text": [
            "\n",
            "Progress1\n",
            "\n",
            "Progress111\n",
            "torch.Size([4, 256, 10])\n",
            "y_predict.shape:  torch.Size([1024, 10])\n",
            "Progress222\n",
            "Progress2\n",
            "Progress3\n",
            "Progress4\n"
          ]
        },
        {
          "output_type": "stream",
          "name": "stderr",
          "text": [
            "\rtrain:  40%|███▉      | 184/462 [10:31<15:56,  3.44s/it]"
          ]
        },
        {
          "output_type": "stream",
          "name": "stdout",
          "text": [
            "\n",
            "Progress1\n",
            "\n",
            "Progress111\n",
            "torch.Size([4, 256, 10])\n",
            "y_predict.shape:  torch.Size([1024, 10])\n",
            "Progress222\n",
            "Progress2\n",
            "Progress3\n",
            "Progress4\n"
          ]
        },
        {
          "output_type": "stream",
          "name": "stderr",
          "text": [
            "\rtrain:  40%|████      | 185/462 [10:34<15:24,  3.34s/it]"
          ]
        },
        {
          "output_type": "stream",
          "name": "stdout",
          "text": [
            "\n",
            "Progress1\n",
            "\n",
            "Progress111\n",
            "torch.Size([4, 256, 10])\n",
            "y_predict.shape:  torch.Size([1024, 10])\n",
            "Progress222\n",
            "Progress2\n",
            "Progress3\n",
            "Progress4\n"
          ]
        },
        {
          "output_type": "stream",
          "name": "stderr",
          "text": [
            "\rtrain:  40%|████      | 186/462 [10:38<16:15,  3.54s/it]"
          ]
        },
        {
          "output_type": "stream",
          "name": "stdout",
          "text": [
            "\n",
            "Progress1\n",
            "\n",
            "Progress111\n",
            "torch.Size([4, 256, 10])\n",
            "y_predict.shape:  torch.Size([1024, 10])\n",
            "Progress222\n",
            "Progress2\n",
            "Progress3\n",
            "Progress4\n"
          ]
        },
        {
          "output_type": "stream",
          "name": "stderr",
          "text": [
            "\rtrain:  40%|████      | 187/462 [10:42<17:14,  3.76s/it]"
          ]
        },
        {
          "output_type": "stream",
          "name": "stdout",
          "text": [
            "\n",
            "Progress1\n",
            "\n",
            "Progress111\n",
            "torch.Size([4, 256, 10])\n",
            "y_predict.shape:  torch.Size([1024, 10])\n",
            "Progress222\n",
            "Progress2\n",
            "Progress3\n",
            "Progress4\n"
          ]
        },
        {
          "output_type": "stream",
          "name": "stderr",
          "text": [
            "\rtrain:  41%|████      | 188/462 [10:45<16:15,  3.56s/it]"
          ]
        },
        {
          "output_type": "stream",
          "name": "stdout",
          "text": [
            "\n",
            "Progress1\n",
            "\n",
            "Progress111\n",
            "torch.Size([4, 256, 10])\n",
            "y_predict.shape:  torch.Size([1024, 10])\n",
            "Progress222\n",
            "Progress2\n",
            "Progress3\n",
            "Progress4\n"
          ]
        },
        {
          "output_type": "stream",
          "name": "stderr",
          "text": [
            "\rtrain:  41%|████      | 189/462 [10:48<15:34,  3.42s/it]"
          ]
        },
        {
          "output_type": "stream",
          "name": "stdout",
          "text": [
            "\n",
            "Progress1\n",
            "\n",
            "Progress111\n",
            "torch.Size([4, 256, 10])\n",
            "y_predict.shape:  torch.Size([1024, 10])\n",
            "Progress222\n",
            "Progress2\n",
            "Progress3\n",
            "Progress4\n"
          ]
        },
        {
          "output_type": "stream",
          "name": "stderr",
          "text": [
            "\rtrain:  41%|████      | 190/462 [10:51<15:04,  3.32s/it]"
          ]
        },
        {
          "output_type": "stream",
          "name": "stdout",
          "text": [
            "\n",
            "Progress1\n",
            "\n",
            "Progress111\n",
            "torch.Size([4, 256, 10])\n",
            "y_predict.shape:  torch.Size([1024, 10])\n",
            "Progress222\n",
            "Progress2\n",
            "Progress3\n",
            "Progress4\n"
          ]
        },
        {
          "output_type": "stream",
          "name": "stderr",
          "text": [
            "\rtrain:  41%|████▏     | 191/462 [10:56<16:31,  3.66s/it]"
          ]
        },
        {
          "output_type": "stream",
          "name": "stdout",
          "text": [
            "\n",
            "Progress1\n",
            "\n",
            "Progress111\n",
            "torch.Size([4, 256, 10])\n",
            "y_predict.shape:  torch.Size([1024, 10])\n",
            "Progress222\n",
            "Progress2\n",
            "Progress3\n",
            "Progress4\n"
          ]
        },
        {
          "output_type": "stream",
          "name": "stderr",
          "text": [
            "\rtrain:  42%|████▏     | 192/462 [11:00<16:29,  3.67s/it]"
          ]
        },
        {
          "output_type": "stream",
          "name": "stdout",
          "text": [
            "\n",
            "Progress1\n",
            "\n",
            "Progress111\n",
            "torch.Size([4, 256, 10])\n",
            "y_predict.shape:  torch.Size([1024, 10])\n",
            "Progress222\n",
            "Progress2\n",
            "Progress3\n",
            "Progress4\n"
          ]
        },
        {
          "output_type": "stream",
          "name": "stderr",
          "text": [
            "\rtrain:  42%|████▏     | 193/462 [11:03<15:34,  3.47s/it]"
          ]
        },
        {
          "output_type": "stream",
          "name": "stdout",
          "text": [
            "\n",
            "Progress1\n",
            "\n",
            "Progress111\n",
            "torch.Size([4, 256, 10])\n",
            "y_predict.shape:  torch.Size([1024, 10])\n",
            "Progress222\n",
            "Progress2\n",
            "Progress3\n",
            "Progress4\n"
          ]
        },
        {
          "output_type": "stream",
          "name": "stderr",
          "text": [
            "\rtrain:  42%|████▏     | 194/462 [11:06<14:58,  3.35s/it]"
          ]
        },
        {
          "output_type": "stream",
          "name": "stdout",
          "text": [
            "\n",
            "Progress1\n",
            "\n",
            "Progress111\n",
            "torch.Size([4, 256, 10])\n",
            "y_predict.shape:  torch.Size([1024, 10])\n",
            "Progress222\n",
            "Progress2\n",
            "Progress3\n",
            "Progress4\n"
          ]
        },
        {
          "output_type": "stream",
          "name": "stderr",
          "text": [
            "\rtrain:  42%|████▏     | 195/462 [11:09<15:20,  3.45s/it]"
          ]
        },
        {
          "output_type": "stream",
          "name": "stdout",
          "text": [
            "\n",
            "Progress1\n",
            "\n",
            "Progress111\n",
            "torch.Size([4, 256, 10])\n",
            "y_predict.shape:  torch.Size([1024, 10])\n",
            "Progress222\n",
            "Progress2\n",
            "Progress3\n",
            "Progress4\n"
          ]
        },
        {
          "output_type": "stream",
          "name": "stderr",
          "text": [
            "\rtrain:  42%|████▏     | 196/462 [11:13<16:02,  3.62s/it]"
          ]
        },
        {
          "output_type": "stream",
          "name": "stdout",
          "text": [
            "\n",
            "Progress1\n",
            "\n",
            "Progress111\n",
            "torch.Size([4, 256, 10])\n",
            "y_predict.shape:  torch.Size([1024, 10])\n",
            "Progress222\n",
            "Progress2\n",
            "Progress3\n",
            "Progress4\n"
          ]
        },
        {
          "output_type": "stream",
          "name": "stderr",
          "text": [
            "\rtrain:  43%|████▎     | 197/462 [11:16<15:15,  3.45s/it]"
          ]
        },
        {
          "output_type": "stream",
          "name": "stdout",
          "text": [
            "\n",
            "Progress1\n",
            "\n",
            "Progress111\n",
            "torch.Size([4, 256, 10])\n",
            "y_predict.shape:  torch.Size([1024, 10])\n",
            "Progress222\n",
            "Progress2\n",
            "Progress3\n",
            "Progress4\n"
          ]
        },
        {
          "output_type": "stream",
          "name": "stderr",
          "text": [
            "\rtrain:  43%|████▎     | 198/462 [11:20<14:49,  3.37s/it]"
          ]
        },
        {
          "output_type": "stream",
          "name": "stdout",
          "text": [
            "\n",
            "Progress1\n",
            "\n",
            "Progress111\n",
            "torch.Size([4, 256, 10])\n",
            "y_predict.shape:  torch.Size([1024, 10])\n",
            "Progress222\n",
            "Progress2\n",
            "Progress3\n",
            "Progress4\n"
          ]
        },
        {
          "output_type": "stream",
          "name": "stderr",
          "text": [
            "\rtrain:  43%|████▎     | 199/462 [11:23<14:54,  3.40s/it]"
          ]
        },
        {
          "output_type": "stream",
          "name": "stdout",
          "text": [
            "\n",
            "Progress1\n",
            "\n",
            "Progress111\n",
            "torch.Size([4, 256, 10])\n",
            "y_predict.shape:  torch.Size([1024, 10])\n",
            "Progress222\n",
            "Progress2\n",
            "Progress3\n",
            "Progress4\n"
          ]
        },
        {
          "output_type": "stream",
          "name": "stderr",
          "text": [
            "\rtrain:  43%|████▎     | 200/462 [11:28<16:22,  3.75s/it]"
          ]
        },
        {
          "output_type": "stream",
          "name": "stdout",
          "text": [
            "\n",
            "Progress1\n",
            "\n",
            "Progress111\n",
            "torch.Size([4, 256, 10])\n",
            "y_predict.shape:  torch.Size([1024, 10])\n",
            "Progress222\n",
            "Progress2\n",
            "Progress3\n",
            "Progress4\n"
          ]
        },
        {
          "output_type": "stream",
          "name": "stderr",
          "text": [
            "\rtrain:  44%|████▎     | 201/462 [11:31<15:34,  3.58s/it]"
          ]
        },
        {
          "output_type": "stream",
          "name": "stdout",
          "text": [
            "\n",
            "Progress1\n",
            "\n",
            "Progress111\n",
            "torch.Size([4, 256, 10])\n",
            "y_predict.shape:  torch.Size([1024, 10])\n",
            "Progress222\n",
            "Progress2\n",
            "Progress3\n",
            "Progress4\n"
          ]
        },
        {
          "output_type": "stream",
          "name": "stderr",
          "text": [
            "\rtrain:  44%|████▎     | 202/462 [11:34<14:46,  3.41s/it]"
          ]
        },
        {
          "output_type": "stream",
          "name": "stdout",
          "text": [
            "\n",
            "Progress1\n",
            "\n",
            "Progress111\n",
            "torch.Size([4, 256, 10])\n",
            "y_predict.shape:  torch.Size([1024, 10])\n",
            "Progress222\n",
            "Progress2\n",
            "Progress3\n",
            "Progress4\n"
          ]
        },
        {
          "output_type": "stream",
          "name": "stderr",
          "text": [
            "\rtrain:  44%|████▍     | 203/462 [11:37<14:20,  3.32s/it]"
          ]
        },
        {
          "output_type": "stream",
          "name": "stdout",
          "text": [
            "\n",
            "Progress1\n",
            "\n",
            "Progress111\n",
            "torch.Size([4, 256, 10])\n",
            "y_predict.shape:  torch.Size([1024, 10])\n",
            "Progress222\n",
            "Progress2\n",
            "Progress3\n",
            "Progress4\n"
          ]
        },
        {
          "output_type": "stream",
          "name": "stderr",
          "text": [
            "\rtrain:  44%|████▍     | 204/462 [11:41<15:12,  3.54s/it]"
          ]
        },
        {
          "output_type": "stream",
          "name": "stdout",
          "text": [
            "\n",
            "Progress1\n",
            "\n",
            "Progress111\n",
            "torch.Size([4, 256, 10])\n",
            "y_predict.shape:  torch.Size([1024, 10])\n",
            "Progress222\n",
            "Progress2\n",
            "Progress3\n",
            "Progress4\n"
          ]
        },
        {
          "output_type": "stream",
          "name": "stderr",
          "text": [
            "\rtrain:  44%|████▍     | 205/462 [11:45<15:53,  3.71s/it]"
          ]
        },
        {
          "output_type": "stream",
          "name": "stdout",
          "text": [
            "\n",
            "Progress1\n",
            "\n",
            "Progress111\n",
            "torch.Size([4, 256, 10])\n",
            "y_predict.shape:  torch.Size([1024, 10])\n",
            "Progress222\n",
            "Progress2\n",
            "Progress3\n",
            "Progress4\n"
          ]
        },
        {
          "output_type": "stream",
          "name": "stderr",
          "text": [
            "\rtrain:  45%|████▍     | 206/462 [11:48<15:01,  3.52s/it]"
          ]
        },
        {
          "output_type": "stream",
          "name": "stdout",
          "text": [
            "\n",
            "Progress1\n",
            "\n",
            "Progress111\n",
            "torch.Size([4, 256, 10])\n",
            "y_predict.shape:  torch.Size([1024, 10])\n",
            "Progress222\n",
            "Progress2\n",
            "Progress3\n",
            "Progress4\n"
          ]
        },
        {
          "output_type": "stream",
          "name": "stderr",
          "text": [
            "\rtrain:  45%|████▍     | 207/462 [11:51<14:21,  3.38s/it]"
          ]
        },
        {
          "output_type": "stream",
          "name": "stdout",
          "text": [
            "\n",
            "Progress1\n",
            "\n",
            "Progress111\n",
            "torch.Size([4, 256, 10])\n",
            "y_predict.shape:  torch.Size([1024, 10])\n",
            "Progress222\n",
            "Progress2\n",
            "Progress3\n",
            "Progress4\n"
          ]
        },
        {
          "output_type": "stream",
          "name": "stderr",
          "text": [
            "\rtrain:  45%|████▌     | 208/462 [11:55<14:22,  3.40s/it]"
          ]
        },
        {
          "output_type": "stream",
          "name": "stdout",
          "text": [
            "\n",
            "Progress1\n",
            "\n",
            "Progress111\n",
            "torch.Size([4, 256, 10])\n",
            "y_predict.shape:  torch.Size([1024, 10])\n",
            "Progress222\n",
            "Progress2\n",
            "Progress3\n",
            "Progress4\n"
          ]
        },
        {
          "output_type": "stream",
          "name": "stderr",
          "text": [
            "\rtrain:  45%|████▌     | 209/462 [11:59<15:13,  3.61s/it]"
          ]
        },
        {
          "output_type": "stream",
          "name": "stdout",
          "text": [
            "\n",
            "Progress1\n",
            "\n",
            "Progress111\n",
            "torch.Size([4, 256, 10])\n",
            "y_predict.shape:  torch.Size([1024, 10])\n",
            "Progress222\n",
            "Progress2\n",
            "Progress3\n",
            "Progress4\n"
          ]
        },
        {
          "output_type": "stream",
          "name": "stderr",
          "text": [
            "\rtrain:  45%|████▌     | 210/462 [12:02<14:21,  3.42s/it]"
          ]
        },
        {
          "output_type": "stream",
          "name": "stdout",
          "text": [
            "\n",
            "Progress1\n",
            "\n",
            "Progress111\n",
            "torch.Size([4, 256, 10])\n",
            "y_predict.shape:  torch.Size([1024, 10])\n",
            "Progress222\n",
            "Progress2\n",
            "Progress3\n",
            "Progress4\n"
          ]
        },
        {
          "output_type": "stream",
          "name": "stderr",
          "text": [
            "\rtrain:  46%|████▌     | 211/462 [12:05<13:48,  3.30s/it]"
          ]
        },
        {
          "output_type": "stream",
          "name": "stdout",
          "text": [
            "\n",
            "Progress1\n",
            "\n",
            "Progress111\n",
            "torch.Size([4, 256, 10])\n",
            "y_predict.shape:  torch.Size([1024, 10])\n",
            "Progress222\n",
            "Progress2\n",
            "Progress3\n",
            "Progress4\n"
          ]
        },
        {
          "output_type": "stream",
          "name": "stderr",
          "text": [
            "\rtrain:  46%|████▌     | 212/462 [12:08<13:19,  3.20s/it]"
          ]
        },
        {
          "output_type": "stream",
          "name": "stdout",
          "text": [
            "\n",
            "Progress1\n",
            "\n",
            "Progress111\n",
            "torch.Size([4, 256, 10])\n",
            "y_predict.shape:  torch.Size([1024, 10])\n",
            "Progress222\n",
            "Progress2\n",
            "Progress3\n",
            "Progress4\n"
          ]
        },
        {
          "output_type": "stream",
          "name": "stderr",
          "text": [
            "\rtrain:  46%|████▌     | 213/462 [12:13<15:12,  3.67s/it]"
          ]
        },
        {
          "output_type": "stream",
          "name": "stdout",
          "text": [
            "\n",
            "Progress1\n",
            "\n",
            "Progress111\n",
            "torch.Size([4, 256, 10])\n",
            "y_predict.shape:  torch.Size([1024, 10])\n",
            "Progress222\n",
            "Progress2\n",
            "Progress3\n",
            "Progress4\n"
          ]
        },
        {
          "output_type": "stream",
          "name": "stderr",
          "text": [
            "\rtrain:  46%|████▋     | 214/462 [12:16<14:24,  3.49s/it]"
          ]
        },
        {
          "output_type": "stream",
          "name": "stdout",
          "text": [
            "\n",
            "Progress1\n",
            "\n",
            "Progress111\n",
            "torch.Size([4, 256, 10])\n",
            "y_predict.shape:  torch.Size([1024, 10])\n",
            "Progress222\n",
            "Progress2\n",
            "Progress3\n",
            "Progress4\n"
          ]
        },
        {
          "output_type": "stream",
          "name": "stderr",
          "text": [
            "\rtrain:  47%|████▋     | 215/462 [12:19<13:49,  3.36s/it]"
          ]
        },
        {
          "output_type": "stream",
          "name": "stdout",
          "text": [
            "\n",
            "Progress1\n",
            "\n",
            "Progress111\n",
            "torch.Size([4, 256, 10])\n",
            "y_predict.shape:  torch.Size([1024, 10])\n",
            "Progress222\n",
            "Progress2\n",
            "Progress3\n",
            "Progress4\n"
          ]
        },
        {
          "output_type": "stream",
          "name": "stderr",
          "text": [
            "\rtrain:  47%|████▋     | 216/462 [12:22<13:25,  3.28s/it]"
          ]
        },
        {
          "output_type": "stream",
          "name": "stdout",
          "text": [
            "\n",
            "Progress1\n",
            "\n",
            "Progress111\n",
            "torch.Size([4, 256, 10])\n",
            "y_predict.shape:  torch.Size([1024, 10])\n",
            "Progress222\n",
            "Progress2\n",
            "Progress3\n",
            "Progress4\n"
          ]
        },
        {
          "output_type": "stream",
          "name": "stderr",
          "text": [
            "\rtrain:  47%|████▋     | 217/462 [12:26<15:11,  3.72s/it]"
          ]
        },
        {
          "output_type": "stream",
          "name": "stdout",
          "text": [
            "\n",
            "Progress1\n",
            "\n",
            "Progress111\n",
            "torch.Size([4, 256, 10])\n",
            "y_predict.shape:  torch.Size([1024, 10])\n",
            "Progress222\n",
            "Progress2\n",
            "Progress3\n",
            "Progress4\n"
          ]
        },
        {
          "output_type": "stream",
          "name": "stderr",
          "text": [
            "\rtrain:  47%|████▋     | 218/462 [12:30<14:22,  3.54s/it]"
          ]
        },
        {
          "output_type": "stream",
          "name": "stdout",
          "text": [
            "\n",
            "Progress1\n",
            "\n",
            "Progress111\n",
            "torch.Size([4, 256, 10])\n",
            "y_predict.shape:  torch.Size([1024, 10])\n",
            "Progress222\n",
            "Progress2\n",
            "Progress3\n",
            "Progress4\n"
          ]
        },
        {
          "output_type": "stream",
          "name": "stderr",
          "text": [
            "\rtrain:  47%|████▋     | 219/462 [12:33<13:45,  3.40s/it]"
          ]
        },
        {
          "output_type": "stream",
          "name": "stdout",
          "text": [
            "\n",
            "Progress1\n",
            "\n",
            "Progress111\n",
            "torch.Size([4, 256, 10])\n",
            "y_predict.shape:  torch.Size([1024, 10])\n",
            "Progress222\n",
            "Progress2\n",
            "Progress3\n",
            "Progress4\n"
          ]
        },
        {
          "output_type": "stream",
          "name": "stderr",
          "text": [
            "\rtrain:  48%|████▊     | 220/462 [12:36<13:23,  3.32s/it]"
          ]
        },
        {
          "output_type": "stream",
          "name": "stdout",
          "text": [
            "\n",
            "Progress1\n",
            "\n",
            "Progress111\n",
            "torch.Size([4, 256, 10])\n",
            "y_predict.shape:  torch.Size([1024, 10])\n",
            "Progress222\n",
            "Progress2\n",
            "Progress3\n",
            "Progress4\n"
          ]
        },
        {
          "output_type": "stream",
          "name": "stderr",
          "text": [
            "\rtrain:  48%|████▊     | 221/462 [12:40<14:44,  3.67s/it]"
          ]
        },
        {
          "output_type": "stream",
          "name": "stdout",
          "text": [
            "\n",
            "Progress1\n",
            "\n",
            "Progress111\n",
            "torch.Size([4, 256, 10])\n",
            "y_predict.shape:  torch.Size([1024, 10])\n",
            "Progress222\n",
            "Progress2\n",
            "Progress3\n",
            "Progress4\n"
          ]
        },
        {
          "output_type": "stream",
          "name": "stderr",
          "text": [
            "\rtrain:  48%|████▊     | 222/462 [12:44<14:45,  3.69s/it]"
          ]
        },
        {
          "output_type": "stream",
          "name": "stdout",
          "text": [
            "\n",
            "Progress1\n",
            "\n",
            "Progress111\n",
            "torch.Size([4, 256, 10])\n",
            "y_predict.shape:  torch.Size([1024, 10])\n",
            "Progress222\n",
            "Progress2\n",
            "Progress3\n",
            "Progress4\n"
          ]
        },
        {
          "output_type": "stream",
          "name": "stderr",
          "text": [
            "\rtrain:  48%|████▊     | 223/462 [12:47<13:55,  3.50s/it]"
          ]
        },
        {
          "output_type": "stream",
          "name": "stdout",
          "text": [
            "\n",
            "Progress1\n",
            "\n",
            "Progress111\n",
            "torch.Size([4, 256, 10])\n",
            "y_predict.shape:  torch.Size([1024, 10])\n",
            "Progress222\n",
            "Progress2\n",
            "Progress3\n",
            "Progress4\n"
          ]
        },
        {
          "output_type": "stream",
          "name": "stderr",
          "text": [
            "\rtrain:  48%|████▊     | 224/462 [12:50<13:14,  3.34s/it]"
          ]
        },
        {
          "output_type": "stream",
          "name": "stdout",
          "text": [
            "\n",
            "Progress1\n",
            "\n",
            "Progress111\n",
            "torch.Size([4, 256, 10])\n",
            "y_predict.shape:  torch.Size([1024, 10])\n",
            "Progress222\n",
            "Progress2\n",
            "Progress3\n",
            "Progress4\n"
          ]
        },
        {
          "output_type": "stream",
          "name": "stderr",
          "text": [
            "\rtrain:  49%|████▊     | 225/462 [12:53<12:58,  3.28s/it]"
          ]
        },
        {
          "output_type": "stream",
          "name": "stdout",
          "text": [
            "\n",
            "Progress1\n",
            "\n",
            "Progress111\n",
            "torch.Size([4, 256, 10])\n",
            "y_predict.shape:  torch.Size([1024, 10])\n",
            "Progress222\n",
            "Progress2\n",
            "Progress3\n",
            "Progress4\n"
          ]
        },
        {
          "output_type": "stream",
          "name": "stderr",
          "text": [
            "\rtrain:  49%|████▉     | 226/462 [12:58<14:10,  3.60s/it]"
          ]
        },
        {
          "output_type": "stream",
          "name": "stdout",
          "text": [
            "\n",
            "Progress1\n",
            "\n",
            "Progress111\n",
            "torch.Size([4, 256, 10])\n",
            "y_predict.shape:  torch.Size([1024, 10])\n",
            "Progress222\n",
            "Progress2\n",
            "Progress3\n",
            "Progress4\n"
          ]
        },
        {
          "output_type": "stream",
          "name": "stderr",
          "text": [
            "\rtrain:  49%|████▉     | 227/462 [13:01<13:33,  3.46s/it]"
          ]
        },
        {
          "output_type": "stream",
          "name": "stdout",
          "text": [
            "\n",
            "Progress1\n",
            "\n",
            "Progress111\n",
            "torch.Size([4, 256, 10])\n",
            "y_predict.shape:  torch.Size([1024, 10])\n",
            "Progress222\n",
            "Progress2\n",
            "Progress3\n",
            "Progress4\n"
          ]
        },
        {
          "output_type": "stream",
          "name": "stderr",
          "text": [
            "\rtrain:  49%|████▉     | 228/462 [13:04<13:15,  3.40s/it]"
          ]
        },
        {
          "output_type": "stream",
          "name": "stdout",
          "text": [
            "\n",
            "Progress1\n",
            "\n",
            "Progress111\n",
            "torch.Size([4, 256, 10])\n",
            "y_predict.shape:  torch.Size([1024, 10])\n",
            "Progress222\n",
            "Progress2\n",
            "Progress3\n",
            "Progress4\n"
          ]
        },
        {
          "output_type": "stream",
          "name": "stderr",
          "text": [
            "\rtrain:  50%|████▉     | 229/462 [13:07<13:20,  3.43s/it]"
          ]
        },
        {
          "output_type": "stream",
          "name": "stdout",
          "text": [
            "\n",
            "Progress1\n",
            "\n",
            "Progress111\n",
            "torch.Size([4, 256, 10])\n",
            "y_predict.shape:  torch.Size([1024, 10])\n",
            "Progress222\n",
            "Progress2\n",
            "Progress3\n",
            "Progress4\n"
          ]
        },
        {
          "output_type": "stream",
          "name": "stderr",
          "text": [
            "\rtrain:  50%|████▉     | 230/462 [13:12<14:31,  3.76s/it]"
          ]
        },
        {
          "output_type": "stream",
          "name": "stdout",
          "text": [
            "\n",
            "Progress1\n",
            "\n",
            "Progress111\n",
            "torch.Size([4, 256, 10])\n",
            "y_predict.shape:  torch.Size([1024, 10])\n",
            "Progress222\n",
            "Progress2\n",
            "Progress3\n",
            "Progress4\n"
          ]
        },
        {
          "output_type": "stream",
          "name": "stderr",
          "text": [
            "\rtrain:  50%|█████     | 231/462 [13:15<13:43,  3.57s/it]"
          ]
        },
        {
          "output_type": "stream",
          "name": "stdout",
          "text": [
            "\n",
            "Progress1\n",
            "\n",
            "Progress111\n",
            "torch.Size([4, 256, 10])\n",
            "y_predict.shape:  torch.Size([1024, 10])\n",
            "Progress222\n",
            "Progress2\n",
            "Progress3\n",
            "Progress4\n"
          ]
        },
        {
          "output_type": "stream",
          "name": "stderr",
          "text": [
            "\rtrain:  50%|█████     | 232/462 [13:18<13:09,  3.43s/it]"
          ]
        },
        {
          "output_type": "stream",
          "name": "stdout",
          "text": [
            "\n",
            "Progress1\n",
            "\n",
            "Progress111\n",
            "torch.Size([4, 256, 10])\n",
            "y_predict.shape:  torch.Size([1024, 10])\n",
            "Progress222\n",
            "Progress2\n",
            "Progress3\n",
            "Progress4\n"
          ]
        },
        {
          "output_type": "stream",
          "name": "stderr",
          "text": [
            "\rtrain:  50%|█████     | 233/462 [13:22<13:09,  3.45s/it]"
          ]
        },
        {
          "output_type": "stream",
          "name": "stdout",
          "text": [
            "\n",
            "Progress1\n",
            "\n",
            "Progress111\n",
            "torch.Size([4, 256, 10])\n",
            "y_predict.shape:  torch.Size([1024, 10])\n",
            "Progress222\n",
            "Progress2\n",
            "Progress3\n",
            "Progress4\n"
          ]
        },
        {
          "output_type": "stream",
          "name": "stderr",
          "text": [
            "\rtrain:  51%|█████     | 234/462 [13:26<14:09,  3.73s/it]"
          ]
        },
        {
          "output_type": "stream",
          "name": "stdout",
          "text": [
            "\n",
            "Progress1\n",
            "\n",
            "Progress111\n",
            "torch.Size([4, 256, 10])\n",
            "y_predict.shape:  torch.Size([1024, 10])\n",
            "Progress222\n",
            "Progress2\n",
            "Progress3\n",
            "Progress4\n"
          ]
        },
        {
          "output_type": "stream",
          "name": "stderr",
          "text": [
            "\rtrain:  51%|█████     | 235/462 [13:29<13:20,  3.53s/it]"
          ]
        },
        {
          "output_type": "stream",
          "name": "stdout",
          "text": [
            "\n",
            "Progress1\n",
            "\n",
            "Progress111\n",
            "torch.Size([4, 256, 10])\n",
            "y_predict.shape:  torch.Size([1024, 10])\n",
            "Progress222\n",
            "Progress2\n",
            "Progress3\n",
            "Progress4\n"
          ]
        },
        {
          "output_type": "stream",
          "name": "stderr",
          "text": [
            "\rtrain:  51%|█████     | 236/462 [13:32<12:43,  3.38s/it]"
          ]
        },
        {
          "output_type": "stream",
          "name": "stdout",
          "text": [
            "\n",
            "Progress1\n",
            "\n",
            "Progress111\n",
            "torch.Size([4, 256, 10])\n",
            "y_predict.shape:  torch.Size([1024, 10])\n",
            "Progress222\n",
            "Progress2\n",
            "Progress3\n",
            "Progress4\n"
          ]
        },
        {
          "output_type": "stream",
          "name": "stderr",
          "text": [
            "\rtrain:  51%|█████▏    | 237/462 [13:35<12:29,  3.33s/it]"
          ]
        },
        {
          "output_type": "stream",
          "name": "stdout",
          "text": [
            "\n",
            "Progress1\n",
            "\n",
            "Progress111\n",
            "torch.Size([4, 256, 10])\n",
            "y_predict.shape:  torch.Size([1024, 10])\n",
            "Progress222\n",
            "Progress2\n",
            "Progress3\n",
            "Progress4\n"
          ]
        },
        {
          "output_type": "stream",
          "name": "stderr",
          "text": [
            "\rtrain:  52%|█████▏    | 238/462 [13:40<13:50,  3.71s/it]"
          ]
        },
        {
          "output_type": "stream",
          "name": "stdout",
          "text": [
            "\n",
            "Progress1\n",
            "\n",
            "Progress111\n",
            "torch.Size([4, 256, 10])\n",
            "y_predict.shape:  torch.Size([1024, 10])\n",
            "Progress222\n",
            "Progress2\n",
            "Progress3\n",
            "Progress4\n"
          ]
        },
        {
          "output_type": "stream",
          "name": "stderr",
          "text": [
            "\rtrain:  52%|█████▏    | 239/462 [13:43<13:21,  3.60s/it]"
          ]
        },
        {
          "output_type": "stream",
          "name": "stdout",
          "text": [
            "\n",
            "Progress1\n",
            "\n",
            "Progress111\n",
            "torch.Size([4, 256, 10])\n",
            "y_predict.shape:  torch.Size([1024, 10])\n",
            "Progress222\n",
            "Progress2\n",
            "Progress3\n",
            "Progress4\n"
          ]
        },
        {
          "output_type": "stream",
          "name": "stderr",
          "text": [
            "\rtrain:  52%|█████▏    | 240/462 [13:46<12:42,  3.44s/it]"
          ]
        },
        {
          "output_type": "stream",
          "name": "stdout",
          "text": [
            "\n",
            "Progress1\n",
            "\n",
            "Progress111\n",
            "torch.Size([4, 256, 10])\n",
            "y_predict.shape:  torch.Size([1024, 10])\n",
            "Progress222\n",
            "Progress2\n",
            "Progress3\n",
            "Progress4\n"
          ]
        },
        {
          "output_type": "stream",
          "name": "stderr",
          "text": [
            "\rtrain:  52%|█████▏    | 241/462 [13:49<12:08,  3.30s/it]"
          ]
        },
        {
          "output_type": "stream",
          "name": "stdout",
          "text": [
            "\n",
            "Progress1\n",
            "\n",
            "Progress111\n",
            "torch.Size([4, 256, 10])\n",
            "y_predict.shape:  torch.Size([1024, 10])\n",
            "Progress222\n",
            "Progress2\n",
            "Progress3\n",
            "Progress4\n"
          ]
        },
        {
          "output_type": "stream",
          "name": "stderr",
          "text": [
            "\rtrain:  52%|█████▏    | 242/462 [13:53<12:30,  3.41s/it]"
          ]
        },
        {
          "output_type": "stream",
          "name": "stdout",
          "text": [
            "\n",
            "Progress1\n",
            "\n",
            "Progress111\n",
            "torch.Size([4, 256, 10])\n",
            "y_predict.shape:  torch.Size([1024, 10])\n",
            "Progress222\n",
            "Progress2\n",
            "Progress3\n",
            "Progress4\n"
          ]
        },
        {
          "output_type": "stream",
          "name": "stderr",
          "text": [
            "\rtrain:  53%|█████▎    | 243/462 [13:57<13:20,  3.66s/it]"
          ]
        },
        {
          "output_type": "stream",
          "name": "stdout",
          "text": [
            "\n",
            "Progress1\n",
            "\n",
            "Progress111\n",
            "torch.Size([4, 256, 10])\n",
            "y_predict.shape:  torch.Size([1024, 10])\n",
            "Progress222\n",
            "Progress2\n",
            "Progress3\n",
            "Progress4\n"
          ]
        },
        {
          "output_type": "stream",
          "name": "stderr",
          "text": [
            "\rtrain:  53%|█████▎    | 244/462 [14:00<12:38,  3.48s/it]"
          ]
        },
        {
          "output_type": "stream",
          "name": "stdout",
          "text": [
            "\n",
            "Progress1\n",
            "\n",
            "Progress111\n",
            "torch.Size([4, 256, 10])\n",
            "y_predict.shape:  torch.Size([1024, 10])\n",
            "Progress222\n",
            "Progress2\n",
            "Progress3\n",
            "Progress4\n"
          ]
        },
        {
          "output_type": "stream",
          "name": "stderr",
          "text": [
            "\rtrain:  53%|█████▎    | 245/462 [14:03<12:08,  3.35s/it]"
          ]
        },
        {
          "output_type": "stream",
          "name": "stdout",
          "text": [
            "\n",
            "Progress1\n",
            "\n",
            "Progress111\n",
            "torch.Size([4, 256, 10])\n",
            "y_predict.shape:  torch.Size([1024, 10])\n",
            "Progress222\n",
            "Progress2\n",
            "Progress3\n",
            "Progress4\n"
          ]
        },
        {
          "output_type": "stream",
          "name": "stderr",
          "text": [
            "\rtrain:  53%|█████▎    | 246/462 [14:06<11:42,  3.25s/it]"
          ]
        },
        {
          "output_type": "stream",
          "name": "stdout",
          "text": [
            "\n",
            "Progress1\n",
            "\n",
            "Progress111\n",
            "torch.Size([4, 256, 10])\n",
            "y_predict.shape:  torch.Size([1024, 10])\n",
            "Progress222\n",
            "Progress2\n",
            "Progress3\n",
            "Progress4\n"
          ]
        },
        {
          "output_type": "stream",
          "name": "stderr",
          "text": [
            "\rtrain:  53%|█████▎    | 247/462 [14:10<12:34,  3.51s/it]"
          ]
        },
        {
          "output_type": "stream",
          "name": "stdout",
          "text": [
            "\n",
            "Progress1\n",
            "\n",
            "Progress111\n",
            "torch.Size([4, 256, 10])\n",
            "y_predict.shape:  torch.Size([1024, 10])\n",
            "Progress222\n",
            "Progress2\n",
            "Progress3\n",
            "Progress4\n"
          ]
        },
        {
          "output_type": "stream",
          "name": "stderr",
          "text": [
            "\rtrain:  54%|█████▎    | 248/462 [14:14<12:55,  3.62s/it]"
          ]
        },
        {
          "output_type": "stream",
          "name": "stdout",
          "text": [
            "\n",
            "Progress1\n",
            "\n",
            "Progress111\n",
            "torch.Size([4, 256, 10])\n",
            "y_predict.shape:  torch.Size([1024, 10])\n",
            "Progress222\n",
            "Progress2\n",
            "Progress3\n",
            "Progress4\n"
          ]
        },
        {
          "output_type": "stream",
          "name": "stderr",
          "text": [
            "\rtrain:  54%|█████▍    | 249/462 [14:17<12:13,  3.45s/it]"
          ]
        },
        {
          "output_type": "stream",
          "name": "stdout",
          "text": [
            "\n",
            "Progress1\n",
            "\n",
            "Progress111\n",
            "torch.Size([4, 256, 10])\n",
            "y_predict.shape:  torch.Size([1024, 10])\n",
            "Progress222\n",
            "Progress2\n",
            "Progress3\n",
            "Progress4\n"
          ]
        },
        {
          "output_type": "stream",
          "name": "stderr",
          "text": [
            "\rtrain:  54%|█████▍    | 250/462 [14:20<11:48,  3.34s/it]"
          ]
        },
        {
          "output_type": "stream",
          "name": "stdout",
          "text": [
            "\n",
            "Progress1\n",
            "\n",
            "Progress111\n",
            "torch.Size([4, 256, 10])\n",
            "y_predict.shape:  torch.Size([1024, 10])\n",
            "Progress222\n",
            "Progress2\n",
            "Progress3\n",
            "Progress4\n"
          ]
        },
        {
          "output_type": "stream",
          "name": "stderr",
          "text": [
            "\rtrain:  54%|█████▍    | 251/462 [14:24<12:03,  3.43s/it]"
          ]
        },
        {
          "output_type": "stream",
          "name": "stdout",
          "text": [
            "\n",
            "Progress1\n",
            "\n",
            "Progress111\n",
            "torch.Size([4, 256, 10])\n",
            "y_predict.shape:  torch.Size([1024, 10])\n",
            "Progress222\n",
            "Progress2\n",
            "Progress3\n",
            "Progress4\n"
          ]
        },
        {
          "output_type": "stream",
          "name": "stderr",
          "text": [
            "\rtrain:  55%|█████▍    | 252/462 [14:28<12:54,  3.69s/it]"
          ]
        },
        {
          "output_type": "stream",
          "name": "stdout",
          "text": [
            "\n",
            "Progress1\n",
            "\n",
            "Progress111\n",
            "torch.Size([4, 256, 10])\n",
            "y_predict.shape:  torch.Size([1024, 10])\n",
            "Progress222\n",
            "Progress2\n",
            "Progress3\n",
            "Progress4\n"
          ]
        },
        {
          "output_type": "stream",
          "name": "stderr",
          "text": [
            "\rtrain:  55%|█████▍    | 253/462 [14:32<12:15,  3.52s/it]"
          ]
        },
        {
          "output_type": "stream",
          "name": "stdout",
          "text": [
            "\n",
            "Progress1\n",
            "\n",
            "Progress111\n",
            "torch.Size([4, 256, 10])\n",
            "y_predict.shape:  torch.Size([1024, 10])\n",
            "Progress222\n",
            "Progress2\n",
            "Progress3\n",
            "Progress4\n"
          ]
        },
        {
          "output_type": "stream",
          "name": "stderr",
          "text": [
            "\rtrain:  55%|█████▍    | 254/462 [14:35<11:47,  3.40s/it]"
          ]
        },
        {
          "output_type": "stream",
          "name": "stdout",
          "text": [
            "\n",
            "Progress1\n",
            "\n",
            "Progress111\n",
            "torch.Size([4, 256, 10])\n",
            "y_predict.shape:  torch.Size([1024, 10])\n",
            "Progress222\n",
            "Progress2\n",
            "Progress3\n",
            "Progress4\n"
          ]
        },
        {
          "output_type": "stream",
          "name": "stderr",
          "text": [
            "\rtrain:  55%|█████▌    | 255/462 [14:38<11:34,  3.36s/it]"
          ]
        },
        {
          "output_type": "stream",
          "name": "stdout",
          "text": [
            "\n",
            "Progress1\n",
            "\n",
            "Progress111\n",
            "torch.Size([4, 256, 10])\n",
            "y_predict.shape:  torch.Size([1024, 10])\n",
            "Progress222\n",
            "Progress2\n",
            "Progress3\n",
            "Progress4\n"
          ]
        },
        {
          "output_type": "stream",
          "name": "stderr",
          "text": [
            "\rtrain:  55%|█████▌    | 256/462 [14:42<12:30,  3.64s/it]"
          ]
        },
        {
          "output_type": "stream",
          "name": "stdout",
          "text": [
            "\n",
            "Progress1\n",
            "\n",
            "Progress111\n",
            "torch.Size([4, 256, 10])\n",
            "y_predict.shape:  torch.Size([1024, 10])\n",
            "Progress222\n",
            "Progress2\n",
            "Progress3\n",
            "Progress4\n"
          ]
        },
        {
          "output_type": "stream",
          "name": "stderr",
          "text": [
            "\rtrain:  56%|█████▌    | 257/462 [14:45<11:46,  3.44s/it]"
          ]
        },
        {
          "output_type": "stream",
          "name": "stdout",
          "text": [
            "\n",
            "Progress1\n",
            "\n",
            "Progress111\n",
            "torch.Size([4, 256, 10])\n",
            "y_predict.shape:  torch.Size([1024, 10])\n",
            "Progress222\n",
            "Progress2\n",
            "Progress3\n",
            "Progress4\n"
          ]
        },
        {
          "output_type": "stream",
          "name": "stderr",
          "text": [
            "\rtrain:  56%|█████▌    | 258/462 [14:48<11:09,  3.28s/it]"
          ]
        },
        {
          "output_type": "stream",
          "name": "stdout",
          "text": [
            "\n",
            "Progress1\n",
            "\n",
            "Progress111\n",
            "torch.Size([4, 256, 10])\n",
            "y_predict.shape:  torch.Size([1024, 10])\n",
            "Progress222\n",
            "Progress2\n",
            "Progress3\n",
            "Progress4\n"
          ]
        },
        {
          "output_type": "stream",
          "name": "stderr",
          "text": [
            "\rtrain:  56%|█████▌    | 259/462 [14:51<10:46,  3.18s/it]"
          ]
        },
        {
          "output_type": "stream",
          "name": "stdout",
          "text": [
            "\n",
            "Progress1\n",
            "\n",
            "Progress111\n",
            "torch.Size([4, 256, 10])\n",
            "y_predict.shape:  torch.Size([1024, 10])\n",
            "Progress222\n",
            "Progress2\n",
            "Progress3\n",
            "Progress4\n"
          ]
        },
        {
          "output_type": "stream",
          "name": "stderr",
          "text": [
            "\rtrain:  56%|█████▋    | 260/462 [14:56<12:15,  3.64s/it]"
          ]
        },
        {
          "output_type": "stream",
          "name": "stdout",
          "text": [
            "\n",
            "Progress1\n",
            "\n",
            "Progress111\n",
            "torch.Size([4, 256, 10])\n",
            "y_predict.shape:  torch.Size([1024, 10])\n",
            "Progress222\n",
            "Progress2\n",
            "Progress3\n",
            "Progress4\n"
          ]
        },
        {
          "output_type": "stream",
          "name": "stderr",
          "text": [
            "\rtrain:  56%|█████▋    | 261/462 [14:59<11:39,  3.48s/it]"
          ]
        },
        {
          "output_type": "stream",
          "name": "stdout",
          "text": [
            "\n",
            "Progress1\n",
            "\n",
            "Progress111\n",
            "torch.Size([4, 256, 10])\n",
            "y_predict.shape:  torch.Size([1024, 10])\n",
            "Progress222\n",
            "Progress2\n",
            "Progress3\n",
            "Progress4\n"
          ]
        },
        {
          "output_type": "stream",
          "name": "stderr",
          "text": [
            "\rtrain:  57%|█████▋    | 262/462 [15:02<11:12,  3.36s/it]"
          ]
        },
        {
          "output_type": "stream",
          "name": "stdout",
          "text": [
            "\n",
            "Progress1\n",
            "\n",
            "Progress111\n",
            "torch.Size([4, 256, 10])\n",
            "y_predict.shape:  torch.Size([1024, 10])\n",
            "Progress222\n",
            "Progress2\n",
            "Progress3\n",
            "Progress4\n"
          ]
        },
        {
          "output_type": "stream",
          "name": "stderr",
          "text": [
            "\rtrain:  57%|█████▋    | 263/462 [15:05<10:53,  3.28s/it]"
          ]
        },
        {
          "output_type": "stream",
          "name": "stdout",
          "text": [
            "\n",
            "Progress1\n",
            "\n",
            "Progress111\n",
            "torch.Size([4, 256, 10])\n",
            "y_predict.shape:  torch.Size([1024, 10])\n",
            "Progress222\n",
            "Progress2\n",
            "Progress3\n",
            "Progress4\n"
          ]
        },
        {
          "output_type": "stream",
          "name": "stderr",
          "text": [
            "\rtrain:  57%|█████▋    | 264/462 [15:09<11:50,  3.59s/it]"
          ]
        },
        {
          "output_type": "stream",
          "name": "stdout",
          "text": [
            "\n",
            "Progress1\n",
            "\n",
            "Progress111\n",
            "torch.Size([4, 256, 10])\n",
            "y_predict.shape:  torch.Size([1024, 10])\n",
            "Progress222\n",
            "Progress2\n",
            "Progress3\n",
            "Progress4\n"
          ]
        },
        {
          "output_type": "stream",
          "name": "stderr",
          "text": [
            "\rtrain:  57%|█████▋    | 265/462 [15:13<11:54,  3.63s/it]"
          ]
        },
        {
          "output_type": "stream",
          "name": "stdout",
          "text": [
            "\n",
            "Progress1\n",
            "\n",
            "Progress111\n",
            "torch.Size([4, 256, 10])\n",
            "y_predict.shape:  torch.Size([1024, 10])\n",
            "Progress222\n",
            "Progress2\n",
            "Progress3\n",
            "Progress4\n"
          ]
        },
        {
          "output_type": "stream",
          "name": "stderr",
          "text": [
            "\rtrain:  58%|█████▊    | 266/462 [15:16<11:24,  3.49s/it]"
          ]
        },
        {
          "output_type": "stream",
          "name": "stdout",
          "text": [
            "\n",
            "Progress1\n",
            "\n",
            "Progress111\n",
            "torch.Size([4, 256, 10])\n",
            "y_predict.shape:  torch.Size([1024, 10])\n",
            "Progress222\n",
            "Progress2\n",
            "Progress3\n",
            "Progress4\n"
          ]
        },
        {
          "output_type": "stream",
          "name": "stderr",
          "text": [
            "\rtrain:  58%|█████▊    | 267/462 [15:19<10:58,  3.38s/it]"
          ]
        },
        {
          "output_type": "stream",
          "name": "stdout",
          "text": [
            "\n",
            "Progress1\n",
            "\n",
            "Progress111\n",
            "torch.Size([4, 256, 10])\n",
            "y_predict.shape:  torch.Size([1024, 10])\n",
            "Progress222\n",
            "Progress2\n",
            "Progress3\n",
            "Progress4\n"
          ]
        },
        {
          "output_type": "stream",
          "name": "stderr",
          "text": [
            "\rtrain:  58%|█████▊    | 268/462 [15:23<11:21,  3.51s/it]"
          ]
        },
        {
          "output_type": "stream",
          "name": "stdout",
          "text": [
            "\n",
            "Progress1\n",
            "\n",
            "Progress111\n",
            "torch.Size([4, 256, 10])\n",
            "y_predict.shape:  torch.Size([1024, 10])\n",
            "Progress222\n",
            "Progress2\n",
            "Progress3\n",
            "Progress4\n"
          ]
        },
        {
          "output_type": "stream",
          "name": "stderr",
          "text": [
            "\rtrain:  58%|█████▊    | 269/462 [15:28<12:13,  3.80s/it]"
          ]
        },
        {
          "output_type": "stream",
          "name": "stdout",
          "text": [
            "\n",
            "Progress1\n",
            "\n",
            "Progress111\n",
            "torch.Size([4, 256, 10])\n",
            "y_predict.shape:  torch.Size([1024, 10])\n",
            "Progress222\n",
            "Progress2\n",
            "Progress3\n",
            "Progress4\n"
          ]
        },
        {
          "output_type": "stream",
          "name": "stderr",
          "text": [
            "\rtrain:  58%|█████▊    | 270/462 [15:31<11:26,  3.57s/it]"
          ]
        },
        {
          "output_type": "stream",
          "name": "stdout",
          "text": [
            "\n",
            "Progress1\n",
            "\n",
            "Progress111\n",
            "torch.Size([4, 256, 10])\n",
            "y_predict.shape:  torch.Size([1024, 10])\n",
            "Progress222\n",
            "Progress2\n",
            "Progress3\n",
            "Progress4\n"
          ]
        },
        {
          "output_type": "stream",
          "name": "stderr",
          "text": [
            "\rtrain:  59%|█████▊    | 271/462 [15:34<10:46,  3.39s/it]"
          ]
        },
        {
          "output_type": "stream",
          "name": "stdout",
          "text": [
            "\n",
            "Progress1\n",
            "\n",
            "Progress111\n",
            "torch.Size([4, 256, 10])\n",
            "y_predict.shape:  torch.Size([1024, 10])\n",
            "Progress222\n",
            "Progress2\n",
            "Progress3\n",
            "Progress4\n"
          ]
        },
        {
          "output_type": "stream",
          "name": "stderr",
          "text": [
            "\rtrain:  59%|█████▉    | 272/462 [15:37<10:20,  3.27s/it]"
          ]
        },
        {
          "output_type": "stream",
          "name": "stdout",
          "text": [
            "\n",
            "Progress1\n",
            "\n",
            "Progress111\n",
            "torch.Size([4, 256, 10])\n",
            "y_predict.shape:  torch.Size([1024, 10])\n",
            "Progress222\n",
            "Progress2\n",
            "Progress3\n",
            "Progress4\n"
          ]
        },
        {
          "output_type": "stream",
          "name": "stderr",
          "text": [
            "\rtrain:  59%|█████▉    | 273/462 [15:40<10:48,  3.43s/it]"
          ]
        },
        {
          "output_type": "stream",
          "name": "stdout",
          "text": [
            "\n",
            "Progress1\n",
            "\n",
            "Progress111\n",
            "torch.Size([4, 256, 10])\n",
            "y_predict.shape:  torch.Size([1024, 10])\n",
            "Progress222\n",
            "Progress2\n",
            "Progress3\n",
            "Progress4\n"
          ]
        },
        {
          "output_type": "stream",
          "name": "stderr",
          "text": [
            "\rtrain:  59%|█████▉    | 274/462 [15:45<11:19,  3.61s/it]"
          ]
        },
        {
          "output_type": "stream",
          "name": "stdout",
          "text": [
            "\n",
            "Progress1\n",
            "\n",
            "Progress111\n",
            "torch.Size([4, 256, 10])\n",
            "y_predict.shape:  torch.Size([1024, 10])\n",
            "Progress222\n",
            "Progress2\n",
            "Progress3\n",
            "Progress4\n"
          ]
        },
        {
          "output_type": "stream",
          "name": "stderr",
          "text": [
            "\rtrain:  60%|█████▉    | 275/462 [15:48<10:41,  3.43s/it]"
          ]
        },
        {
          "output_type": "stream",
          "name": "stdout",
          "text": [
            "\n",
            "Progress1\n",
            "\n",
            "Progress111\n",
            "torch.Size([4, 256, 10])\n",
            "y_predict.shape:  torch.Size([1024, 10])\n",
            "Progress222\n",
            "Progress2\n",
            "Progress3\n",
            "Progress4\n"
          ]
        },
        {
          "output_type": "stream",
          "name": "stderr",
          "text": [
            "\rtrain:  60%|█████▉    | 276/462 [15:51<10:15,  3.31s/it]"
          ]
        },
        {
          "output_type": "stream",
          "name": "stdout",
          "text": [
            "\n",
            "Progress1\n",
            "\n",
            "Progress111\n",
            "torch.Size([4, 256, 10])\n",
            "y_predict.shape:  torch.Size([1024, 10])\n",
            "Progress222\n",
            "Progress2\n",
            "Progress3\n",
            "Progress4\n"
          ]
        },
        {
          "output_type": "stream",
          "name": "stderr",
          "text": [
            "\rtrain:  60%|█████▉    | 277/462 [15:54<09:58,  3.24s/it]"
          ]
        },
        {
          "output_type": "stream",
          "name": "stdout",
          "text": [
            "\n",
            "Progress1\n",
            "\n",
            "Progress111\n",
            "torch.Size([4, 256, 10])\n",
            "y_predict.shape:  torch.Size([1024, 10])\n",
            "Progress222\n",
            "Progress2\n",
            "Progress3\n",
            "Progress4\n"
          ]
        },
        {
          "output_type": "stream",
          "name": "stderr",
          "text": [
            "\rtrain:  60%|██████    | 278/462 [15:58<10:47,  3.52s/it]"
          ]
        },
        {
          "output_type": "stream",
          "name": "stdout",
          "text": [
            "\n",
            "Progress1\n",
            "\n",
            "Progress111\n",
            "torch.Size([4, 256, 10])\n",
            "y_predict.shape:  torch.Size([1024, 10])\n",
            "Progress222\n",
            "Progress2\n",
            "Progress3\n",
            "Progress4\n"
          ]
        },
        {
          "output_type": "stream",
          "name": "stderr",
          "text": [
            "\rtrain:  60%|██████    | 279/462 [16:02<11:13,  3.68s/it]"
          ]
        },
        {
          "output_type": "stream",
          "name": "stdout",
          "text": [
            "\n",
            "Progress1\n",
            "\n",
            "Progress111\n",
            "torch.Size([4, 256, 10])\n",
            "y_predict.shape:  torch.Size([1024, 10])\n",
            "Progress222\n",
            "Progress2\n",
            "Progress3\n",
            "Progress4\n"
          ]
        },
        {
          "output_type": "stream",
          "name": "stderr",
          "text": [
            "\rtrain:  61%|██████    | 280/462 [16:05<10:36,  3.50s/it]"
          ]
        },
        {
          "output_type": "stream",
          "name": "stdout",
          "text": [
            "\n",
            "Progress1\n",
            "\n",
            "Progress111\n",
            "torch.Size([4, 256, 10])\n",
            "y_predict.shape:  torch.Size([1024, 10])\n",
            "Progress222\n",
            "Progress2\n",
            "Progress3\n",
            "Progress4\n"
          ]
        },
        {
          "output_type": "stream",
          "name": "stderr",
          "text": [
            "\rtrain:  61%|██████    | 281/462 [16:08<10:05,  3.35s/it]"
          ]
        },
        {
          "output_type": "stream",
          "name": "stdout",
          "text": [
            "\n",
            "Progress1\n",
            "\n",
            "Progress111\n",
            "torch.Size([4, 256, 10])\n",
            "y_predict.shape:  torch.Size([1024, 10])\n",
            "Progress222\n",
            "Progress2\n",
            "Progress3\n",
            "Progress4\n"
          ]
        },
        {
          "output_type": "stream",
          "name": "stderr",
          "text": [
            "\rtrain:  61%|██████    | 282/462 [16:11<09:52,  3.29s/it]"
          ]
        },
        {
          "output_type": "stream",
          "name": "stdout",
          "text": [
            "\n",
            "Progress1\n",
            "\n",
            "Progress111\n",
            "torch.Size([4, 256, 10])\n",
            "y_predict.shape:  torch.Size([1024, 10])\n",
            "Progress222\n",
            "Progress2\n",
            "Progress3\n",
            "Progress4\n"
          ]
        },
        {
          "output_type": "stream",
          "name": "stderr",
          "text": [
            "\rtrain:  61%|██████▏   | 283/462 [16:16<11:09,  3.74s/it]"
          ]
        },
        {
          "output_type": "stream",
          "name": "stdout",
          "text": [
            "\n",
            "Progress1\n",
            "\n",
            "Progress111\n",
            "torch.Size([4, 256, 10])\n",
            "y_predict.shape:  torch.Size([1024, 10])\n",
            "Progress222\n",
            "Progress2\n",
            "Progress3\n",
            "Progress4\n"
          ]
        },
        {
          "output_type": "stream",
          "name": "stderr",
          "text": [
            "\rtrain:  61%|██████▏   | 284/462 [16:19<10:31,  3.55s/it]"
          ]
        },
        {
          "output_type": "stream",
          "name": "stdout",
          "text": [
            "\n",
            "Progress1\n",
            "\n",
            "Progress111\n",
            "torch.Size([4, 256, 10])\n",
            "y_predict.shape:  torch.Size([1024, 10])\n",
            "Progress222\n",
            "Progress2\n",
            "Progress3\n",
            "Progress4\n"
          ]
        },
        {
          "output_type": "stream",
          "name": "stderr",
          "text": [
            "\rtrain:  62%|██████▏   | 285/462 [16:22<10:03,  3.41s/it]"
          ]
        },
        {
          "output_type": "stream",
          "name": "stdout",
          "text": [
            "\n",
            "Progress1\n",
            "\n",
            "Progress111\n",
            "torch.Size([4, 256, 10])\n",
            "y_predict.shape:  torch.Size([1024, 10])\n",
            "Progress222\n",
            "Progress2\n",
            "Progress3\n",
            "Progress4\n"
          ]
        },
        {
          "output_type": "stream",
          "name": "stderr",
          "text": [
            "\rtrain:  62%|██████▏   | 286/462 [16:25<09:44,  3.32s/it]"
          ]
        },
        {
          "output_type": "stream",
          "name": "stdout",
          "text": [
            "\n",
            "Progress1\n",
            "\n",
            "Progress111\n",
            "torch.Size([4, 256, 10])\n",
            "y_predict.shape:  torch.Size([1024, 10])\n",
            "Progress222\n",
            "Progress2\n",
            "Progress3\n",
            "Progress4\n"
          ]
        },
        {
          "output_type": "stream",
          "name": "stderr",
          "text": [
            "\rtrain:  62%|██████▏   | 287/462 [16:30<10:43,  3.68s/it]"
          ]
        },
        {
          "output_type": "stream",
          "name": "stdout",
          "text": [
            "\n",
            "Progress1\n",
            "\n",
            "Progress111\n",
            "torch.Size([4, 256, 10])\n",
            "y_predict.shape:  torch.Size([1024, 10])\n",
            "Progress222\n",
            "Progress2\n",
            "Progress3\n",
            "Progress4\n"
          ]
        },
        {
          "output_type": "stream",
          "name": "stderr",
          "text": [
            "\rtrain:  62%|██████▏   | 288/462 [16:33<10:00,  3.45s/it]"
          ]
        },
        {
          "output_type": "stream",
          "name": "stdout",
          "text": [
            "\n",
            "Progress1\n",
            "\n",
            "Progress111\n",
            "torch.Size([4, 256, 10])\n",
            "y_predict.shape:  torch.Size([1024, 10])\n",
            "Progress222\n",
            "Progress2\n",
            "Progress3\n",
            "Progress4\n"
          ]
        },
        {
          "output_type": "stream",
          "name": "stderr",
          "text": [
            "\rtrain:  63%|██████▎   | 289/462 [16:36<09:31,  3.30s/it]"
          ]
        },
        {
          "output_type": "stream",
          "name": "stdout",
          "text": [
            "\n",
            "Progress1\n",
            "\n",
            "Progress111\n",
            "torch.Size([4, 256, 10])\n",
            "y_predict.shape:  torch.Size([1024, 10])\n",
            "Progress222\n",
            "Progress2\n",
            "Progress3\n",
            "Progress4\n"
          ]
        },
        {
          "output_type": "stream",
          "name": "stderr",
          "text": [
            "\rtrain:  63%|██████▎   | 290/462 [16:38<09:10,  3.20s/it]"
          ]
        },
        {
          "output_type": "stream",
          "name": "stdout",
          "text": [
            "\n",
            "Progress1\n",
            "\n",
            "Progress111\n",
            "torch.Size([4, 256, 10])\n",
            "y_predict.shape:  torch.Size([1024, 10])\n",
            "Progress222\n",
            "Progress2\n",
            "Progress3\n",
            "Progress4\n"
          ]
        },
        {
          "output_type": "stream",
          "name": "stderr",
          "text": [
            "\rtrain:  63%|██████▎   | 291/462 [16:43<10:02,  3.53s/it]"
          ]
        },
        {
          "output_type": "stream",
          "name": "stdout",
          "text": [
            "\n",
            "Progress1\n",
            "\n",
            "Progress111\n",
            "torch.Size([4, 256, 10])\n",
            "y_predict.shape:  torch.Size([1024, 10])\n",
            "Progress222\n",
            "Progress2\n",
            "Progress3\n",
            "Progress4\n"
          ]
        },
        {
          "output_type": "stream",
          "name": "stderr",
          "text": [
            "\rtrain:  63%|██████▎   | 292/462 [16:47<10:11,  3.59s/it]"
          ]
        },
        {
          "output_type": "stream",
          "name": "stdout",
          "text": [
            "\n",
            "Progress1\n",
            "\n",
            "Progress111\n",
            "torch.Size([4, 256, 10])\n",
            "y_predict.shape:  torch.Size([1024, 10])\n",
            "Progress222\n",
            "Progress2\n",
            "Progress3\n",
            "Progress4\n"
          ]
        },
        {
          "output_type": "stream",
          "name": "stderr",
          "text": [
            "\rtrain:  63%|██████▎   | 293/462 [16:50<09:41,  3.44s/it]"
          ]
        },
        {
          "output_type": "stream",
          "name": "stdout",
          "text": [
            "\n",
            "Progress1\n",
            "\n",
            "Progress111\n",
            "torch.Size([4, 256, 10])\n",
            "y_predict.shape:  torch.Size([1024, 10])\n",
            "Progress222\n",
            "Progress2\n",
            "Progress3\n",
            "Progress4\n"
          ]
        },
        {
          "output_type": "stream",
          "name": "stderr",
          "text": [
            "\rtrain:  64%|██████▎   | 294/462 [16:53<09:19,  3.33s/it]"
          ]
        },
        {
          "output_type": "stream",
          "name": "stdout",
          "text": [
            "\n",
            "Progress1\n",
            "\n",
            "Progress111\n",
            "torch.Size([4, 256, 10])\n",
            "y_predict.shape:  torch.Size([1024, 10])\n",
            "Progress222\n",
            "Progress2\n",
            "Progress3\n",
            "Progress4\n"
          ]
        },
        {
          "output_type": "stream",
          "name": "stderr",
          "text": [
            "\rtrain:  64%|██████▍   | 295/462 [16:56<09:09,  3.29s/it]"
          ]
        },
        {
          "output_type": "stream",
          "name": "stdout",
          "text": [
            "\n",
            "Progress1\n",
            "\n",
            "Progress111\n",
            "torch.Size([4, 256, 10])\n",
            "y_predict.shape:  torch.Size([1024, 10])\n",
            "Progress222\n",
            "Progress2\n",
            "Progress3\n",
            "Progress4\n"
          ]
        },
        {
          "output_type": "stream",
          "name": "stderr",
          "text": [
            "\rtrain:  64%|██████▍   | 296/462 [17:00<10:00,  3.61s/it]"
          ]
        },
        {
          "output_type": "stream",
          "name": "stdout",
          "text": [
            "\n",
            "Progress1\n",
            "\n",
            "Progress111\n",
            "torch.Size([4, 256, 10])\n",
            "y_predict.shape:  torch.Size([1024, 10])\n",
            "Progress222\n",
            "Progress2\n",
            "Progress3\n",
            "Progress4\n"
          ]
        },
        {
          "output_type": "stream",
          "name": "stderr",
          "text": [
            "\rtrain:  64%|██████▍   | 297/462 [17:04<09:51,  3.59s/it]"
          ]
        },
        {
          "output_type": "stream",
          "name": "stdout",
          "text": [
            "\n",
            "Progress1\n",
            "\n",
            "Progress111\n",
            "torch.Size([4, 256, 10])\n",
            "y_predict.shape:  torch.Size([1024, 10])\n",
            "Progress222\n",
            "Progress2\n",
            "Progress3\n",
            "Progress4\n"
          ]
        },
        {
          "output_type": "stream",
          "name": "stderr",
          "text": [
            "\rtrain:  65%|██████▍   | 298/462 [17:07<09:24,  3.44s/it]"
          ]
        },
        {
          "output_type": "stream",
          "name": "stdout",
          "text": [
            "\n",
            "Progress1\n",
            "\n",
            "Progress111\n",
            "torch.Size([4, 256, 10])\n",
            "y_predict.shape:  torch.Size([1024, 10])\n",
            "Progress222\n",
            "Progress2\n",
            "Progress3\n",
            "Progress4\n"
          ]
        },
        {
          "output_type": "stream",
          "name": "stderr",
          "text": [
            "\rtrain:  65%|██████▍   | 299/462 [17:10<09:04,  3.34s/it]"
          ]
        },
        {
          "output_type": "stream",
          "name": "stdout",
          "text": [
            "\n",
            "Progress1\n",
            "\n",
            "Progress111\n",
            "torch.Size([4, 256, 10])\n",
            "y_predict.shape:  torch.Size([1024, 10])\n",
            "Progress222\n",
            "Progress2\n",
            "Progress3\n",
            "Progress4\n"
          ]
        },
        {
          "output_type": "stream",
          "name": "stderr",
          "text": [
            "\rtrain:  65%|██████▍   | 300/462 [17:14<09:24,  3.49s/it]"
          ]
        },
        {
          "output_type": "stream",
          "name": "stdout",
          "text": [
            "\n",
            "Progress1\n",
            "\n",
            "Progress111\n",
            "torch.Size([4, 256, 10])\n",
            "y_predict.shape:  torch.Size([1024, 10])\n",
            "Progress222\n",
            "Progress2\n",
            "Progress3\n",
            "Progress4\n"
          ]
        },
        {
          "output_type": "stream",
          "name": "stderr",
          "text": [
            "\rtrain:  65%|██████▌   | 301/462 [17:18<10:01,  3.74s/it]"
          ]
        },
        {
          "output_type": "stream",
          "name": "stdout",
          "text": [
            "\n",
            "Progress1\n",
            "\n",
            "Progress111\n",
            "torch.Size([4, 256, 10])\n",
            "y_predict.shape:  torch.Size([1024, 10])\n",
            "Progress222\n",
            "Progress2\n",
            "Progress3\n",
            "Progress4\n"
          ]
        },
        {
          "output_type": "stream",
          "name": "stderr",
          "text": [
            "\rtrain:  65%|██████▌   | 302/462 [17:21<09:25,  3.54s/it]"
          ]
        },
        {
          "output_type": "stream",
          "name": "stdout",
          "text": [
            "\n",
            "Progress1\n",
            "\n",
            "Progress111\n",
            "torch.Size([4, 256, 10])\n",
            "y_predict.shape:  torch.Size([1024, 10])\n",
            "Progress222\n",
            "Progress2\n",
            "Progress3\n",
            "Progress4\n"
          ]
        },
        {
          "output_type": "stream",
          "name": "stderr",
          "text": [
            "\rtrain:  66%|██████▌   | 303/462 [17:24<08:58,  3.39s/it]"
          ]
        },
        {
          "output_type": "stream",
          "name": "stdout",
          "text": [
            "\n",
            "Progress1\n",
            "\n",
            "Progress111\n",
            "torch.Size([4, 256, 10])\n",
            "y_predict.shape:  torch.Size([1024, 10])\n",
            "Progress222\n",
            "Progress2\n",
            "Progress3\n",
            "Progress4\n"
          ]
        },
        {
          "output_type": "stream",
          "name": "stderr",
          "text": [
            "\rtrain:  66%|██████▌   | 304/462 [17:27<08:39,  3.29s/it]"
          ]
        },
        {
          "output_type": "stream",
          "name": "stdout",
          "text": [
            "\n",
            "Progress1\n",
            "\n",
            "Progress111\n",
            "torch.Size([4, 256, 10])\n",
            "y_predict.shape:  torch.Size([1024, 10])\n",
            "Progress222\n",
            "Progress2\n",
            "Progress3\n",
            "Progress4\n"
          ]
        },
        {
          "output_type": "stream",
          "name": "stderr",
          "text": [
            "\rtrain:  66%|██████▌   | 305/462 [17:32<09:39,  3.69s/it]"
          ]
        },
        {
          "output_type": "stream",
          "name": "stdout",
          "text": [
            "\n",
            "Progress1\n",
            "\n",
            "Progress111\n",
            "torch.Size([4, 256, 10])\n",
            "y_predict.shape:  torch.Size([1024, 10])\n",
            "Progress222\n",
            "Progress2\n",
            "Progress3\n",
            "Progress4\n"
          ]
        },
        {
          "output_type": "stream",
          "name": "stderr",
          "text": [
            "\rtrain:  66%|██████▌   | 306/462 [17:35<09:06,  3.50s/it]"
          ]
        },
        {
          "output_type": "stream",
          "name": "stdout",
          "text": [
            "\n",
            "Progress1\n",
            "\n",
            "Progress111\n",
            "torch.Size([4, 256, 10])\n",
            "y_predict.shape:  torch.Size([1024, 10])\n",
            "Progress222\n",
            "Progress2\n",
            "Progress3\n",
            "Progress4\n"
          ]
        },
        {
          "output_type": "stream",
          "name": "stderr",
          "text": [
            "\rtrain:  66%|██████▋   | 307/462 [17:38<08:37,  3.34s/it]"
          ]
        },
        {
          "output_type": "stream",
          "name": "stdout",
          "text": [
            "\n",
            "Progress1\n",
            "\n",
            "Progress111\n",
            "torch.Size([4, 256, 10])\n",
            "y_predict.shape:  torch.Size([1024, 10])\n",
            "Progress222\n",
            "Progress2\n",
            "Progress3\n",
            "Progress4\n"
          ]
        },
        {
          "output_type": "stream",
          "name": "stderr",
          "text": [
            "\rtrain:  67%|██████▋   | 308/462 [17:41<08:23,  3.27s/it]"
          ]
        },
        {
          "output_type": "stream",
          "name": "stdout",
          "text": [
            "\n",
            "Progress1\n",
            "\n",
            "Progress111\n",
            "torch.Size([4, 256, 10])\n",
            "y_predict.shape:  torch.Size([1024, 10])\n",
            "Progress222\n",
            "Progress2\n",
            "Progress3\n",
            "Progress4\n"
          ]
        },
        {
          "output_type": "stream",
          "name": "stderr",
          "text": [
            "\rtrain:  67%|██████▋   | 309/462 [17:45<09:12,  3.61s/it]"
          ]
        },
        {
          "output_type": "stream",
          "name": "stdout",
          "text": [
            "\n",
            "Progress1\n",
            "\n",
            "Progress111\n",
            "torch.Size([4, 256, 10])\n",
            "y_predict.shape:  torch.Size([1024, 10])\n",
            "Progress222\n",
            "Progress2\n",
            "Progress3\n",
            "Progress4\n"
          ]
        },
        {
          "output_type": "stream",
          "name": "stderr",
          "text": [
            "\rtrain:  67%|██████▋   | 310/462 [17:49<09:13,  3.64s/it]"
          ]
        },
        {
          "output_type": "stream",
          "name": "stdout",
          "text": [
            "\n",
            "Progress1\n",
            "\n",
            "Progress111\n",
            "torch.Size([4, 256, 10])\n",
            "y_predict.shape:  torch.Size([1024, 10])\n",
            "Progress222\n",
            "Progress2\n",
            "Progress3\n",
            "Progress4\n"
          ]
        },
        {
          "output_type": "stream",
          "name": "stderr",
          "text": [
            "\rtrain:  67%|██████▋   | 311/462 [17:52<08:42,  3.46s/it]"
          ]
        },
        {
          "output_type": "stream",
          "name": "stdout",
          "text": [
            "\n",
            "Progress1\n",
            "\n",
            "Progress111\n",
            "torch.Size([4, 256, 10])\n",
            "y_predict.shape:  torch.Size([1024, 10])\n",
            "Progress222\n",
            "Progress2\n",
            "Progress3\n",
            "Progress4\n"
          ]
        },
        {
          "output_type": "stream",
          "name": "stderr",
          "text": [
            "\rtrain:  68%|██████▊   | 312/462 [17:55<08:22,  3.35s/it]"
          ]
        },
        {
          "output_type": "stream",
          "name": "stdout",
          "text": [
            "\n",
            "Progress1\n",
            "\n",
            "Progress111\n",
            "torch.Size([4, 256, 10])\n",
            "y_predict.shape:  torch.Size([1024, 10])\n",
            "Progress222\n",
            "Progress2\n",
            "Progress3\n",
            "Progress4\n"
          ]
        },
        {
          "output_type": "stream",
          "name": "stderr",
          "text": [
            "\rtrain:  68%|██████▊   | 313/462 [17:59<08:32,  3.44s/it]"
          ]
        },
        {
          "output_type": "stream",
          "name": "stdout",
          "text": [
            "\n",
            "Progress1\n",
            "\n",
            "Progress111\n",
            "torch.Size([4, 256, 10])\n",
            "y_predict.shape:  torch.Size([1024, 10])\n",
            "Progress222\n",
            "Progress2\n",
            "Progress3\n",
            "Progress4\n"
          ]
        },
        {
          "output_type": "stream",
          "name": "stderr",
          "text": [
            "\rtrain:  68%|██████▊   | 314/462 [18:03<09:13,  3.74s/it]"
          ]
        },
        {
          "output_type": "stream",
          "name": "stdout",
          "text": [
            "\n",
            "Progress1\n",
            "\n",
            "Progress111\n",
            "torch.Size([4, 256, 10])\n",
            "y_predict.shape:  torch.Size([1024, 10])\n",
            "Progress222\n",
            "Progress2\n",
            "Progress3\n",
            "Progress4\n"
          ]
        },
        {
          "output_type": "stream",
          "name": "stderr",
          "text": [
            "\rtrain:  68%|██████▊   | 315/462 [18:07<08:44,  3.57s/it]"
          ]
        },
        {
          "output_type": "stream",
          "name": "stdout",
          "text": [
            "\n",
            "Progress1\n",
            "\n",
            "Progress111\n",
            "torch.Size([4, 256, 10])\n",
            "y_predict.shape:  torch.Size([1024, 10])\n",
            "Progress222\n",
            "Progress2\n",
            "Progress3\n",
            "Progress4\n"
          ]
        },
        {
          "output_type": "stream",
          "name": "stderr",
          "text": [
            "\rtrain:  68%|██████▊   | 316/462 [18:10<08:20,  3.43s/it]"
          ]
        },
        {
          "output_type": "stream",
          "name": "stdout",
          "text": [
            "\n",
            "Progress1\n",
            "\n",
            "Progress111\n",
            "torch.Size([4, 256, 10])\n",
            "y_predict.shape:  torch.Size([1024, 10])\n",
            "Progress222\n",
            "Progress2\n",
            "Progress3\n",
            "Progress4\n"
          ]
        },
        {
          "output_type": "stream",
          "name": "stderr",
          "text": [
            "\rtrain:  69%|██████▊   | 317/462 [18:13<08:02,  3.33s/it]"
          ]
        },
        {
          "output_type": "stream",
          "name": "stdout",
          "text": [
            "\n",
            "Progress1\n",
            "\n",
            "Progress111\n",
            "torch.Size([4, 256, 10])\n",
            "y_predict.shape:  torch.Size([1024, 10])\n",
            "Progress222\n",
            "Progress2\n",
            "Progress3\n",
            "Progress4\n"
          ]
        },
        {
          "output_type": "stream",
          "name": "stderr",
          "text": [
            "\rtrain:  69%|██████▉   | 318/462 [18:17<08:27,  3.53s/it]"
          ]
        },
        {
          "output_type": "stream",
          "name": "stdout",
          "text": [
            "\n",
            "Progress1\n",
            "\n",
            "Progress111\n",
            "torch.Size([4, 256, 10])\n",
            "y_predict.shape:  torch.Size([1024, 10])\n",
            "Progress222\n",
            "Progress2\n",
            "Progress3\n",
            "Progress4\n"
          ]
        },
        {
          "output_type": "stream",
          "name": "stderr",
          "text": [
            "\rtrain:  69%|██████▉   | 319/462 [18:21<08:46,  3.68s/it]"
          ]
        },
        {
          "output_type": "stream",
          "name": "stdout",
          "text": [
            "\n",
            "Progress1\n",
            "\n",
            "Progress111\n",
            "torch.Size([4, 256, 10])\n",
            "y_predict.shape:  torch.Size([1024, 10])\n",
            "Progress222\n",
            "Progress2\n",
            "Progress3\n",
            "Progress4\n"
          ]
        },
        {
          "output_type": "stream",
          "name": "stderr",
          "text": [
            "\rtrain:  69%|██████▉   | 320/462 [18:24<08:11,  3.46s/it]"
          ]
        },
        {
          "output_type": "stream",
          "name": "stdout",
          "text": [
            "\n",
            "Progress1\n",
            "\n",
            "Progress111\n",
            "torch.Size([4, 256, 10])\n",
            "y_predict.shape:  torch.Size([1024, 10])\n",
            "Progress222\n",
            "Progress2\n",
            "Progress3\n",
            "Progress4\n"
          ]
        },
        {
          "output_type": "stream",
          "name": "stderr",
          "text": [
            "\rtrain:  69%|██████▉   | 321/462 [18:27<07:48,  3.32s/it]"
          ]
        },
        {
          "output_type": "stream",
          "name": "stdout",
          "text": [
            "\n",
            "Progress1\n",
            "\n",
            "Progress111\n",
            "torch.Size([4, 256, 10])\n",
            "y_predict.shape:  torch.Size([1024, 10])\n",
            "Progress222\n",
            "Progress2\n",
            "Progress3\n",
            "Progress4\n"
          ]
        },
        {
          "output_type": "stream",
          "name": "stderr",
          "text": [
            "\rtrain:  70%|██████▉   | 322/462 [18:30<07:31,  3.22s/it]"
          ]
        },
        {
          "output_type": "stream",
          "name": "stdout",
          "text": [
            "\n",
            "Progress1\n",
            "\n",
            "Progress111\n",
            "torch.Size([4, 256, 10])\n",
            "y_predict.shape:  torch.Size([1024, 10])\n",
            "Progress222\n",
            "Progress2\n",
            "Progress3\n",
            "Progress4\n"
          ]
        },
        {
          "output_type": "stream",
          "name": "stderr",
          "text": [
            "\rtrain:  70%|██████▉   | 323/462 [18:34<08:07,  3.51s/it]"
          ]
        },
        {
          "output_type": "stream",
          "name": "stdout",
          "text": [
            "\n",
            "Progress1\n",
            "\n",
            "Progress111\n",
            "torch.Size([4, 256, 10])\n",
            "y_predict.shape:  torch.Size([1024, 10])\n",
            "Progress222\n",
            "Progress2\n",
            "Progress3\n",
            "Progress4\n"
          ]
        },
        {
          "output_type": "stream",
          "name": "stderr",
          "text": [
            "\rtrain:  70%|███████   | 324/462 [18:38<08:21,  3.63s/it]"
          ]
        },
        {
          "output_type": "stream",
          "name": "stdout",
          "text": [
            "\n",
            "Progress1\n",
            "\n",
            "Progress111\n",
            "torch.Size([4, 256, 10])\n",
            "y_predict.shape:  torch.Size([1024, 10])\n",
            "Progress222\n",
            "Progress2\n",
            "Progress3\n",
            "Progress4\n"
          ]
        },
        {
          "output_type": "stream",
          "name": "stderr",
          "text": [
            "\rtrain:  70%|███████   | 325/462 [18:41<07:54,  3.47s/it]"
          ]
        },
        {
          "output_type": "stream",
          "name": "stdout",
          "text": [
            "\n",
            "Progress1\n",
            "\n",
            "Progress111\n",
            "torch.Size([4, 256, 10])\n",
            "y_predict.shape:  torch.Size([1024, 10])\n",
            "Progress222\n",
            "Progress2\n",
            "Progress3\n",
            "Progress4\n"
          ]
        },
        {
          "output_type": "stream",
          "name": "stderr",
          "text": [
            "\rtrain:  71%|███████   | 326/462 [18:44<07:34,  3.34s/it]"
          ]
        },
        {
          "output_type": "stream",
          "name": "stdout",
          "text": [
            "\n",
            "Progress1\n",
            "\n",
            "Progress111\n",
            "torch.Size([4, 256, 10])\n",
            "y_predict.shape:  torch.Size([1024, 10])\n",
            "Progress222\n",
            "Progress2\n",
            "Progress3\n",
            "Progress4\n"
          ]
        },
        {
          "output_type": "stream",
          "name": "stderr",
          "text": [
            "\rtrain:  71%|███████   | 327/462 [18:47<07:24,  3.30s/it]"
          ]
        },
        {
          "output_type": "stream",
          "name": "stdout",
          "text": [
            "\n",
            "Progress1\n",
            "\n",
            "Progress111\n",
            "torch.Size([4, 256, 10])\n",
            "y_predict.shape:  torch.Size([1024, 10])\n",
            "Progress222\n",
            "Progress2\n",
            "Progress3\n",
            "Progress4\n"
          ]
        },
        {
          "output_type": "stream",
          "name": "stderr",
          "text": [
            "\rtrain:  71%|███████   | 328/462 [18:52<08:12,  3.68s/it]"
          ]
        },
        {
          "output_type": "stream",
          "name": "stdout",
          "text": [
            "\n",
            "Progress1\n",
            "\n",
            "Progress111\n",
            "torch.Size([4, 256, 10])\n",
            "y_predict.shape:  torch.Size([1024, 10])\n",
            "Progress222\n",
            "Progress2\n",
            "Progress3\n",
            "Progress4\n"
          ]
        },
        {
          "output_type": "stream",
          "name": "stderr",
          "text": [
            "\rtrain:  71%|███████   | 329/462 [18:55<07:44,  3.49s/it]"
          ]
        },
        {
          "output_type": "stream",
          "name": "stdout",
          "text": [
            "\n",
            "Progress1\n",
            "\n",
            "Progress111\n",
            "torch.Size([4, 256, 10])\n",
            "y_predict.shape:  torch.Size([1024, 10])\n",
            "Progress222\n",
            "Progress2\n",
            "Progress3\n",
            "Progress4\n"
          ]
        },
        {
          "output_type": "stream",
          "name": "stderr",
          "text": [
            "\rtrain:  71%|███████▏  | 330/462 [18:58<07:25,  3.37s/it]"
          ]
        },
        {
          "output_type": "stream",
          "name": "stdout",
          "text": [
            "\n",
            "Progress1\n",
            "\n",
            "Progress111\n",
            "torch.Size([4, 256, 10])\n",
            "y_predict.shape:  torch.Size([1024, 10])\n",
            "Progress222\n",
            "Progress2\n",
            "Progress3\n",
            "Progress4\n"
          ]
        },
        {
          "output_type": "stream",
          "name": "stderr",
          "text": [
            "\rtrain:  72%|███████▏  | 331/462 [19:01<07:11,  3.29s/it]"
          ]
        },
        {
          "output_type": "stream",
          "name": "stdout",
          "text": [
            "\n",
            "Progress1\n",
            "\n",
            "Progress111\n",
            "torch.Size([4, 256, 10])\n",
            "y_predict.shape:  torch.Size([1024, 10])\n",
            "Progress222\n",
            "Progress2\n",
            "Progress3\n",
            "Progress4\n"
          ]
        },
        {
          "output_type": "stream",
          "name": "stderr",
          "text": [
            "\rtrain:  72%|███████▏  | 332/462 [19:05<07:52,  3.63s/it]"
          ]
        },
        {
          "output_type": "stream",
          "name": "stdout",
          "text": [
            "\n",
            "Progress1\n",
            "\n",
            "Progress111\n",
            "torch.Size([4, 256, 10])\n",
            "y_predict.shape:  torch.Size([1024, 10])\n",
            "Progress222\n",
            "Progress2\n",
            "Progress3\n",
            "Progress4\n"
          ]
        },
        {
          "output_type": "stream",
          "name": "stderr",
          "text": [
            "\rtrain:  72%|███████▏  | 333/462 [19:09<07:50,  3.65s/it]"
          ]
        },
        {
          "output_type": "stream",
          "name": "stdout",
          "text": [
            "\n",
            "Progress1\n",
            "\n",
            "Progress111\n",
            "torch.Size([4, 256, 10])\n",
            "y_predict.shape:  torch.Size([1024, 10])\n",
            "Progress222\n",
            "Progress2\n",
            "Progress3\n",
            "Progress4\n"
          ]
        },
        {
          "output_type": "stream",
          "name": "stderr",
          "text": [
            "\rtrain:  72%|███████▏  | 334/462 [19:12<07:21,  3.45s/it]"
          ]
        },
        {
          "output_type": "stream",
          "name": "stdout",
          "text": [
            "\n",
            "Progress1\n",
            "\n",
            "Progress111\n",
            "torch.Size([4, 256, 10])\n",
            "y_predict.shape:  torch.Size([1024, 10])\n",
            "Progress222\n",
            "Progress2\n",
            "Progress3\n",
            "Progress4\n"
          ]
        },
        {
          "output_type": "stream",
          "name": "stderr",
          "text": [
            "\rtrain:  73%|███████▎  | 335/462 [19:15<07:01,  3.32s/it]"
          ]
        },
        {
          "output_type": "stream",
          "name": "stdout",
          "text": [
            "\n",
            "Progress1\n",
            "\n",
            "Progress111\n",
            "torch.Size([4, 256, 10])\n",
            "y_predict.shape:  torch.Size([1024, 10])\n",
            "Progress222\n",
            "Progress2\n",
            "Progress3\n",
            "Progress4\n"
          ]
        },
        {
          "output_type": "stream",
          "name": "stderr",
          "text": [
            "\rtrain:  73%|███████▎  | 336/462 [19:18<06:56,  3.31s/it]"
          ]
        },
        {
          "output_type": "stream",
          "name": "stdout",
          "text": [
            "\n",
            "Progress1\n",
            "\n",
            "Progress111\n",
            "torch.Size([4, 256, 10])\n",
            "y_predict.shape:  torch.Size([1024, 10])\n",
            "Progress222\n",
            "Progress2\n",
            "Progress3\n",
            "Progress4\n"
          ]
        },
        {
          "output_type": "stream",
          "name": "stderr",
          "text": [
            "\rtrain:  73%|███████▎  | 337/462 [19:23<07:30,  3.61s/it]"
          ]
        },
        {
          "output_type": "stream",
          "name": "stdout",
          "text": [
            "\n",
            "Progress1\n",
            "\n",
            "Progress111\n",
            "torch.Size([4, 256, 10])\n",
            "y_predict.shape:  torch.Size([1024, 10])\n",
            "Progress222\n",
            "Progress2\n",
            "Progress3\n",
            "Progress4\n"
          ]
        },
        {
          "output_type": "stream",
          "name": "stderr",
          "text": [
            "\rtrain:  73%|███████▎  | 338/462 [19:26<07:02,  3.41s/it]"
          ]
        },
        {
          "output_type": "stream",
          "name": "stdout",
          "text": [
            "\n",
            "Progress1\n",
            "\n",
            "Progress111\n",
            "torch.Size([4, 256, 10])\n",
            "y_predict.shape:  torch.Size([1024, 10])\n",
            "Progress222\n",
            "Progress2\n",
            "Progress3\n",
            "Progress4\n"
          ]
        },
        {
          "output_type": "stream",
          "name": "stderr",
          "text": [
            "\rtrain:  73%|███████▎  | 339/462 [19:29<06:44,  3.29s/it]"
          ]
        },
        {
          "output_type": "stream",
          "name": "stdout",
          "text": [
            "\n",
            "Progress1\n",
            "\n",
            "Progress111\n",
            "torch.Size([4, 256, 10])\n",
            "y_predict.shape:  torch.Size([1024, 10])\n",
            "Progress222\n",
            "Progress2\n",
            "Progress3\n",
            "Progress4\n"
          ]
        },
        {
          "output_type": "stream",
          "name": "stderr",
          "text": [
            "\rtrain:  74%|███████▎  | 340/462 [19:32<06:36,  3.25s/it]"
          ]
        },
        {
          "output_type": "stream",
          "name": "stdout",
          "text": [
            "\n",
            "Progress1\n",
            "\n",
            "Progress111\n",
            "torch.Size([4, 256, 10])\n",
            "y_predict.shape:  torch.Size([1024, 10])\n",
            "Progress222\n",
            "Progress2\n",
            "Progress3\n",
            "Progress4\n"
          ]
        },
        {
          "output_type": "stream",
          "name": "stderr",
          "text": [
            "\rtrain:  74%|███████▍  | 341/462 [19:36<07:21,  3.65s/it]"
          ]
        },
        {
          "output_type": "stream",
          "name": "stdout",
          "text": [
            "\n",
            "Progress1\n",
            "\n",
            "Progress111\n",
            "torch.Size([4, 256, 10])\n",
            "y_predict.shape:  torch.Size([1024, 10])\n",
            "Progress222\n",
            "Progress2\n",
            "Progress3\n",
            "Progress4\n"
          ]
        },
        {
          "output_type": "stream",
          "name": "stderr",
          "text": [
            "\rtrain:  74%|███████▍  | 342/462 [19:39<06:56,  3.47s/it]"
          ]
        },
        {
          "output_type": "stream",
          "name": "stdout",
          "text": [
            "\n",
            "Progress1\n",
            "\n",
            "Progress111\n",
            "torch.Size([4, 256, 10])\n",
            "y_predict.shape:  torch.Size([1024, 10])\n",
            "Progress222\n",
            "Progress2\n",
            "Progress3\n",
            "Progress4\n"
          ]
        },
        {
          "output_type": "stream",
          "name": "stderr",
          "text": [
            "\rtrain:  74%|███████▍  | 343/462 [19:43<06:39,  3.36s/it]"
          ]
        },
        {
          "output_type": "stream",
          "name": "stdout",
          "text": [
            "\n",
            "Progress1\n",
            "\n",
            "Progress111\n",
            "torch.Size([4, 256, 10])\n",
            "y_predict.shape:  torch.Size([1024, 10])\n",
            "Progress222\n",
            "Progress2\n",
            "Progress3\n",
            "Progress4\n"
          ]
        },
        {
          "output_type": "stream",
          "name": "stderr",
          "text": [
            "\rtrain:  74%|███████▍  | 344/462 [19:46<06:26,  3.28s/it]"
          ]
        },
        {
          "output_type": "stream",
          "name": "stdout",
          "text": [
            "\n",
            "Progress1\n",
            "\n",
            "Progress111\n",
            "torch.Size([4, 256, 10])\n",
            "y_predict.shape:  torch.Size([1024, 10])\n",
            "Progress222\n",
            "Progress2\n",
            "Progress3\n",
            "Progress4\n"
          ]
        },
        {
          "output_type": "stream",
          "name": "stderr",
          "text": [
            "\rtrain:  75%|███████▍  | 345/462 [19:50<07:03,  3.62s/it]"
          ]
        },
        {
          "output_type": "stream",
          "name": "stdout",
          "text": [
            "\n",
            "Progress1\n",
            "\n",
            "Progress111\n",
            "torch.Size([4, 256, 10])\n",
            "y_predict.shape:  torch.Size([1024, 10])\n",
            "Progress222\n",
            "Progress2\n",
            "Progress3\n",
            "Progress4\n"
          ]
        },
        {
          "output_type": "stream",
          "name": "stderr",
          "text": [
            "\rtrain:  75%|███████▍  | 346/462 [19:54<07:00,  3.62s/it]"
          ]
        },
        {
          "output_type": "stream",
          "name": "stdout",
          "text": [
            "\n",
            "Progress1\n",
            "\n",
            "Progress111\n",
            "torch.Size([4, 256, 10])\n",
            "y_predict.shape:  torch.Size([1024, 10])\n",
            "Progress222\n",
            "Progress2\n",
            "Progress3\n",
            "Progress4\n"
          ]
        },
        {
          "output_type": "stream",
          "name": "stderr",
          "text": [
            "\rtrain:  75%|███████▌  | 347/462 [19:57<06:37,  3.46s/it]"
          ]
        },
        {
          "output_type": "stream",
          "name": "stdout",
          "text": [
            "\n",
            "Progress1\n",
            "\n",
            "Progress111\n",
            "torch.Size([4, 256, 10])\n",
            "y_predict.shape:  torch.Size([1024, 10])\n",
            "Progress222\n",
            "Progress2\n",
            "Progress3\n",
            "Progress4\n"
          ]
        },
        {
          "output_type": "stream",
          "name": "stderr",
          "text": [
            "\rtrain:  75%|███████▌  | 348/462 [20:00<06:22,  3.36s/it]"
          ]
        },
        {
          "output_type": "stream",
          "name": "stdout",
          "text": [
            "\n",
            "Progress1\n",
            "\n",
            "Progress111\n",
            "torch.Size([4, 256, 10])\n",
            "y_predict.shape:  torch.Size([1024, 10])\n",
            "Progress222\n",
            "Progress2\n",
            "Progress3\n",
            "Progress4\n"
          ]
        },
        {
          "output_type": "stream",
          "name": "stderr",
          "text": [
            "\rtrain:  76%|███████▌  | 349/462 [20:03<06:26,  3.42s/it]"
          ]
        },
        {
          "output_type": "stream",
          "name": "stdout",
          "text": [
            "\n",
            "Progress1\n",
            "\n",
            "Progress111\n",
            "torch.Size([4, 256, 10])\n",
            "y_predict.shape:  torch.Size([1024, 10])\n",
            "Progress222\n",
            "Progress2\n",
            "Progress3\n",
            "Progress4\n"
          ]
        },
        {
          "output_type": "stream",
          "name": "stderr",
          "text": [
            "\rtrain:  76%|███████▌  | 350/462 [20:08<06:48,  3.65s/it]"
          ]
        },
        {
          "output_type": "stream",
          "name": "stdout",
          "text": [
            "\n",
            "Progress1\n",
            "\n",
            "Progress111\n",
            "torch.Size([4, 256, 10])\n",
            "y_predict.shape:  torch.Size([1024, 10])\n",
            "Progress222\n",
            "Progress2\n",
            "Progress3\n",
            "Progress4\n"
          ]
        },
        {
          "output_type": "stream",
          "name": "stderr",
          "text": [
            "\rtrain:  76%|███████▌  | 351/462 [20:11<06:21,  3.44s/it]"
          ]
        },
        {
          "output_type": "stream",
          "name": "stdout",
          "text": [
            "\n",
            "Progress1\n",
            "\n",
            "Progress111\n",
            "torch.Size([4, 256, 10])\n",
            "y_predict.shape:  torch.Size([1024, 10])\n",
            "Progress222\n",
            "Progress2\n",
            "Progress3\n",
            "Progress4\n"
          ]
        },
        {
          "output_type": "stream",
          "name": "stderr",
          "text": [
            "\rtrain:  76%|███████▌  | 352/462 [20:13<06:00,  3.28s/it]"
          ]
        },
        {
          "output_type": "stream",
          "name": "stdout",
          "text": [
            "\n",
            "Progress1\n",
            "\n",
            "Progress111\n",
            "torch.Size([4, 256, 10])\n",
            "y_predict.shape:  torch.Size([1024, 10])\n",
            "Progress222\n",
            "Progress2\n",
            "Progress3\n",
            "Progress4\n"
          ]
        },
        {
          "output_type": "stream",
          "name": "stderr",
          "text": [
            "\rtrain:  76%|███████▋  | 353/462 [20:16<05:46,  3.18s/it]"
          ]
        },
        {
          "output_type": "stream",
          "name": "stdout",
          "text": [
            "\n",
            "Progress1\n",
            "\n",
            "Progress111\n",
            "torch.Size([4, 256, 10])\n",
            "y_predict.shape:  torch.Size([1024, 10])\n",
            "Progress222\n",
            "Progress2\n",
            "Progress3\n",
            "Progress4\n"
          ]
        },
        {
          "output_type": "stream",
          "name": "stderr",
          "text": [
            "\rtrain:  77%|███████▋  | 354/462 [20:21<06:28,  3.59s/it]"
          ]
        },
        {
          "output_type": "stream",
          "name": "stdout",
          "text": [
            "\n",
            "Progress1\n",
            "\n",
            "Progress111\n",
            "torch.Size([4, 256, 10])\n",
            "y_predict.shape:  torch.Size([1024, 10])\n",
            "Progress222\n",
            "Progress2\n",
            "Progress3\n",
            "Progress4\n"
          ]
        },
        {
          "output_type": "stream",
          "name": "stderr",
          "text": [
            "\rtrain:  77%|███████▋  | 355/462 [20:24<06:07,  3.43s/it]"
          ]
        },
        {
          "output_type": "stream",
          "name": "stdout",
          "text": [
            "\n",
            "Progress1\n",
            "\n",
            "Progress111\n",
            "torch.Size([4, 256, 10])\n",
            "y_predict.shape:  torch.Size([1024, 10])\n",
            "Progress222\n",
            "Progress2\n",
            "Progress3\n",
            "Progress4\n"
          ]
        },
        {
          "output_type": "stream",
          "name": "stderr",
          "text": [
            "\rtrain:  77%|███████▋  | 356/462 [20:27<05:53,  3.33s/it]"
          ]
        },
        {
          "output_type": "stream",
          "name": "stdout",
          "text": [
            "\n",
            "Progress1\n",
            "\n",
            "Progress111\n",
            "torch.Size([4, 256, 10])\n",
            "y_predict.shape:  torch.Size([1024, 10])\n",
            "Progress222\n",
            "Progress2\n",
            "Progress3\n",
            "Progress4\n"
          ]
        },
        {
          "output_type": "stream",
          "name": "stderr",
          "text": [
            "\rtrain:  77%|███████▋  | 357/462 [20:30<05:42,  3.26s/it]"
          ]
        },
        {
          "output_type": "stream",
          "name": "stdout",
          "text": [
            "\n",
            "Progress1\n",
            "\n",
            "Progress111\n",
            "torch.Size([4, 256, 10])\n",
            "y_predict.shape:  torch.Size([1024, 10])\n",
            "Progress222\n",
            "Progress2\n",
            "Progress3\n",
            "Progress4\n"
          ]
        },
        {
          "output_type": "stream",
          "name": "stderr",
          "text": [
            "\rtrain:  77%|███████▋  | 358/462 [20:35<06:27,  3.73s/it]"
          ]
        },
        {
          "output_type": "stream",
          "name": "stdout",
          "text": [
            "\n",
            "Progress1\n",
            "\n",
            "Progress111\n",
            "torch.Size([4, 256, 10])\n",
            "y_predict.shape:  torch.Size([1024, 10])\n",
            "Progress222\n",
            "Progress2\n",
            "Progress3\n",
            "Progress4\n"
          ]
        },
        {
          "output_type": "stream",
          "name": "stderr",
          "text": [
            "\rtrain:  78%|███████▊  | 359/462 [20:38<06:04,  3.53s/it]"
          ]
        },
        {
          "output_type": "stream",
          "name": "stdout",
          "text": [
            "\n",
            "Progress1\n",
            "\n",
            "Progress111\n",
            "torch.Size([4, 256, 10])\n",
            "y_predict.shape:  torch.Size([1024, 10])\n",
            "Progress222\n",
            "Progress2\n",
            "Progress3\n",
            "Progress4\n"
          ]
        },
        {
          "output_type": "stream",
          "name": "stderr",
          "text": [
            "\rtrain:  78%|███████▊  | 360/462 [20:41<05:45,  3.39s/it]"
          ]
        },
        {
          "output_type": "stream",
          "name": "stdout",
          "text": [
            "\n",
            "Progress1\n",
            "\n",
            "Progress111\n",
            "torch.Size([4, 256, 10])\n",
            "y_predict.shape:  torch.Size([1024, 10])\n",
            "Progress222\n",
            "Progress2\n",
            "Progress3\n",
            "Progress4\n"
          ]
        },
        {
          "output_type": "stream",
          "name": "stderr",
          "text": [
            "\rtrain:  78%|███████▊  | 361/462 [20:44<05:33,  3.30s/it]"
          ]
        },
        {
          "output_type": "stream",
          "name": "stdout",
          "text": [
            "\n",
            "Progress1\n",
            "\n",
            "Progress111\n",
            "torch.Size([4, 256, 10])\n",
            "y_predict.shape:  torch.Size([1024, 10])\n",
            "Progress222\n",
            "Progress2\n",
            "Progress3\n",
            "Progress4\n"
          ]
        },
        {
          "output_type": "stream",
          "name": "stderr",
          "text": [
            "\rtrain:  78%|███████▊  | 362/462 [20:49<06:05,  3.65s/it]"
          ]
        },
        {
          "output_type": "stream",
          "name": "stdout",
          "text": [
            "\n",
            "Progress1\n",
            "\n",
            "Progress111\n",
            "torch.Size([4, 256, 10])\n",
            "y_predict.shape:  torch.Size([1024, 10])\n",
            "Progress222\n",
            "Progress2\n",
            "Progress3\n",
            "Progress4\n"
          ]
        },
        {
          "output_type": "stream",
          "name": "stderr",
          "text": [
            "\rtrain:  79%|███████▊  | 363/462 [20:52<06:01,  3.65s/it]"
          ]
        },
        {
          "output_type": "stream",
          "name": "stdout",
          "text": [
            "\n",
            "Progress1\n",
            "\n",
            "Progress111\n",
            "torch.Size([4, 256, 10])\n",
            "y_predict.shape:  torch.Size([1024, 10])\n",
            "Progress222\n",
            "Progress2\n",
            "Progress3\n",
            "Progress4\n"
          ]
        },
        {
          "output_type": "stream",
          "name": "stderr",
          "text": [
            "\rtrain:  79%|███████▉  | 364/462 [20:55<05:40,  3.48s/it]"
          ]
        },
        {
          "output_type": "stream",
          "name": "stdout",
          "text": [
            "\n",
            "Progress1\n",
            "\n",
            "Progress111\n",
            "torch.Size([4, 256, 10])\n",
            "y_predict.shape:  torch.Size([1024, 10])\n",
            "Progress222\n",
            "Progress2\n",
            "Progress3\n",
            "Progress4\n"
          ]
        },
        {
          "output_type": "stream",
          "name": "stderr",
          "text": [
            "\rtrain:  79%|███████▉  | 365/462 [20:59<05:25,  3.36s/it]"
          ]
        },
        {
          "output_type": "stream",
          "name": "stdout",
          "text": [
            "\n",
            "Progress1\n",
            "\n",
            "Progress111\n",
            "torch.Size([4, 256, 10])\n",
            "y_predict.shape:  torch.Size([1024, 10])\n",
            "Progress222\n",
            "Progress2\n",
            "Progress3\n",
            "Progress4\n"
          ]
        },
        {
          "output_type": "stream",
          "name": "stderr",
          "text": [
            "\rtrain:  79%|███████▉  | 366/462 [21:02<05:22,  3.36s/it]"
          ]
        },
        {
          "output_type": "stream",
          "name": "stdout",
          "text": [
            "\n",
            "Progress1\n",
            "\n",
            "Progress111\n",
            "torch.Size([4, 256, 10])\n",
            "y_predict.shape:  torch.Size([1024, 10])\n",
            "Progress222\n",
            "Progress2\n",
            "Progress3\n",
            "Progress4\n"
          ]
        },
        {
          "output_type": "stream",
          "name": "stderr",
          "text": [
            "\rtrain:  79%|███████▉  | 367/462 [21:06<05:46,  3.64s/it]"
          ]
        },
        {
          "output_type": "stream",
          "name": "stdout",
          "text": [
            "\n",
            "Progress1\n",
            "\n",
            "Progress111\n",
            "torch.Size([4, 256, 10])\n",
            "y_predict.shape:  torch.Size([1024, 10])\n",
            "Progress222\n",
            "Progress2\n",
            "Progress3\n",
            "Progress4\n"
          ]
        },
        {
          "output_type": "stream",
          "name": "stderr",
          "text": [
            "\rtrain:  80%|███████▉  | 368/462 [21:09<05:22,  3.43s/it]"
          ]
        },
        {
          "output_type": "stream",
          "name": "stdout",
          "text": [
            "\n",
            "Progress1\n",
            "\n",
            "Progress111\n",
            "torch.Size([4, 256, 10])\n",
            "y_predict.shape:  torch.Size([1024, 10])\n",
            "Progress222\n",
            "Progress2\n",
            "Progress3\n",
            "Progress4\n"
          ]
        },
        {
          "output_type": "stream",
          "name": "stderr",
          "text": [
            "\rtrain:  80%|███████▉  | 369/462 [21:12<05:06,  3.29s/it]"
          ]
        },
        {
          "output_type": "stream",
          "name": "stdout",
          "text": [
            "\n",
            "Progress1\n",
            "\n",
            "Progress111\n",
            "torch.Size([4, 256, 10])\n",
            "y_predict.shape:  torch.Size([1024, 10])\n",
            "Progress222\n",
            "Progress2\n",
            "Progress3\n",
            "Progress4\n"
          ]
        },
        {
          "output_type": "stream",
          "name": "stderr",
          "text": [
            "\rtrain:  80%|████████  | 370/462 [21:15<04:55,  3.21s/it]"
          ]
        },
        {
          "output_type": "stream",
          "name": "stdout",
          "text": [
            "\n",
            "Progress1\n",
            "\n",
            "Progress111\n",
            "torch.Size([4, 256, 10])\n",
            "y_predict.shape:  torch.Size([1024, 10])\n",
            "Progress222\n",
            "Progress2\n",
            "Progress3\n",
            "Progress4\n"
          ]
        },
        {
          "output_type": "stream",
          "name": "stderr",
          "text": [
            "\rtrain:  80%|████████  | 371/462 [21:20<05:31,  3.64s/it]"
          ]
        },
        {
          "output_type": "stream",
          "name": "stdout",
          "text": [
            "\n",
            "Progress1\n",
            "\n",
            "Progress111\n",
            "torch.Size([4, 256, 10])\n",
            "y_predict.shape:  torch.Size([1024, 10])\n",
            "Progress222\n",
            "Progress2\n",
            "Progress3\n",
            "Progress4\n"
          ]
        },
        {
          "output_type": "stream",
          "name": "stderr",
          "text": [
            "\rtrain:  81%|████████  | 372/462 [21:23<05:10,  3.45s/it]"
          ]
        },
        {
          "output_type": "stream",
          "name": "stdout",
          "text": [
            "\n",
            "Progress1\n",
            "\n",
            "Progress111\n",
            "torch.Size([4, 256, 10])\n",
            "y_predict.shape:  torch.Size([1024, 10])\n",
            "Progress222\n",
            "Progress2\n",
            "Progress3\n",
            "Progress4\n"
          ]
        },
        {
          "output_type": "stream",
          "name": "stderr",
          "text": [
            "\rtrain:  81%|████████  | 373/462 [21:26<04:57,  3.34s/it]"
          ]
        },
        {
          "output_type": "stream",
          "name": "stdout",
          "text": [
            "\n",
            "Progress1\n",
            "\n",
            "Progress111\n",
            "torch.Size([4, 256, 10])\n",
            "y_predict.shape:  torch.Size([1024, 10])\n",
            "Progress222\n",
            "Progress2\n",
            "Progress3\n",
            "Progress4\n"
          ]
        },
        {
          "output_type": "stream",
          "name": "stderr",
          "text": [
            "\rtrain:  81%|████████  | 374/462 [21:29<04:47,  3.27s/it]"
          ]
        },
        {
          "output_type": "stream",
          "name": "stdout",
          "text": [
            "\n",
            "Progress1\n",
            "\n",
            "Progress111\n",
            "torch.Size([4, 256, 10])\n",
            "y_predict.shape:  torch.Size([1024, 10])\n",
            "Progress222\n",
            "Progress2\n",
            "Progress3\n",
            "Progress4\n"
          ]
        },
        {
          "output_type": "stream",
          "name": "stderr",
          "text": [
            "\rtrain:  81%|████████  | 375/462 [21:33<05:15,  3.62s/it]"
          ]
        },
        {
          "output_type": "stream",
          "name": "stdout",
          "text": [
            "\n",
            "Progress1\n",
            "\n",
            "Progress111\n",
            "torch.Size([4, 256, 10])\n",
            "y_predict.shape:  torch.Size([1024, 10])\n",
            "Progress222\n",
            "Progress2\n",
            "Progress3\n",
            "Progress4\n"
          ]
        },
        {
          "output_type": "stream",
          "name": "stderr",
          "text": [
            "\rtrain:  81%|████████▏ | 376/462 [21:37<05:11,  3.62s/it]"
          ]
        },
        {
          "output_type": "stream",
          "name": "stdout",
          "text": [
            "\n",
            "Progress1\n",
            "\n",
            "Progress111\n",
            "torch.Size([4, 256, 10])\n",
            "y_predict.shape:  torch.Size([1024, 10])\n",
            "Progress222\n",
            "Progress2\n",
            "Progress3\n",
            "Progress4\n"
          ]
        },
        {
          "output_type": "stream",
          "name": "stderr",
          "text": [
            "\rtrain:  82%|████████▏ | 377/462 [21:40<04:54,  3.46s/it]"
          ]
        },
        {
          "output_type": "stream",
          "name": "stdout",
          "text": [
            "\n",
            "Progress1\n",
            "\n",
            "Progress111\n",
            "torch.Size([4, 256, 10])\n",
            "y_predict.shape:  torch.Size([1024, 10])\n",
            "Progress222\n",
            "Progress2\n",
            "Progress3\n",
            "Progress4\n"
          ]
        },
        {
          "output_type": "stream",
          "name": "stderr",
          "text": [
            "\rtrain:  82%|████████▏ | 378/462 [21:43<04:39,  3.33s/it]"
          ]
        },
        {
          "output_type": "stream",
          "name": "stdout",
          "text": [
            "\n",
            "Progress1\n",
            "\n",
            "Progress111\n",
            "torch.Size([4, 256, 10])\n",
            "y_predict.shape:  torch.Size([1024, 10])\n",
            "Progress222\n",
            "Progress2\n",
            "Progress3\n",
            "Progress4\n"
          ]
        },
        {
          "output_type": "stream",
          "name": "stderr",
          "text": [
            "\rtrain:  82%|████████▏ | 379/462 [21:47<04:38,  3.35s/it]"
          ]
        },
        {
          "output_type": "stream",
          "name": "stdout",
          "text": [
            "\n",
            "Progress1\n",
            "\n",
            "Progress111\n",
            "torch.Size([4, 256, 10])\n",
            "y_predict.shape:  torch.Size([1024, 10])\n",
            "Progress222\n",
            "Progress2\n",
            "Progress3\n",
            "Progress4\n"
          ]
        },
        {
          "output_type": "stream",
          "name": "stderr",
          "text": [
            "\rtrain:  82%|████████▏ | 380/462 [21:51<04:59,  3.65s/it]"
          ]
        },
        {
          "output_type": "stream",
          "name": "stdout",
          "text": [
            "\n",
            "Progress1\n",
            "\n",
            "Progress111\n",
            "torch.Size([4, 256, 10])\n",
            "y_predict.shape:  torch.Size([1024, 10])\n",
            "Progress222\n",
            "Progress2\n",
            "Progress3\n",
            "Progress4\n"
          ]
        },
        {
          "output_type": "stream",
          "name": "stderr",
          "text": [
            "\rtrain:  82%|████████▏ | 381/462 [21:54<04:41,  3.48s/it]"
          ]
        },
        {
          "output_type": "stream",
          "name": "stdout",
          "text": [
            "\n",
            "Progress1\n",
            "\n",
            "Progress111\n",
            "torch.Size([4, 256, 10])\n",
            "y_predict.shape:  torch.Size([1024, 10])\n",
            "Progress222\n",
            "Progress2\n",
            "Progress3\n",
            "Progress4\n"
          ]
        },
        {
          "output_type": "stream",
          "name": "stderr",
          "text": [
            "\rtrain:  83%|████████▎ | 382/462 [21:57<04:27,  3.35s/it]"
          ]
        },
        {
          "output_type": "stream",
          "name": "stdout",
          "text": [
            "\n",
            "Progress1\n",
            "\n",
            "Progress111\n",
            "torch.Size([4, 256, 10])\n",
            "y_predict.shape:  torch.Size([1024, 10])\n",
            "Progress222\n",
            "Progress2\n",
            "Progress3\n",
            "Progress4\n"
          ]
        },
        {
          "output_type": "stream",
          "name": "stderr",
          "text": [
            "\rtrain:  83%|████████▎ | 383/462 [22:00<04:18,  3.28s/it]"
          ]
        },
        {
          "output_type": "stream",
          "name": "stdout",
          "text": [
            "\n",
            "Progress1\n",
            "\n",
            "Progress111\n",
            "torch.Size([4, 256, 10])\n",
            "y_predict.shape:  torch.Size([1024, 10])\n",
            "Progress222\n",
            "Progress2\n",
            "Progress3\n",
            "Progress4\n"
          ]
        },
        {
          "output_type": "stream",
          "name": "stderr",
          "text": [
            "\rtrain:  83%|████████▎ | 384/462 [22:05<04:44,  3.64s/it]"
          ]
        },
        {
          "output_type": "stream",
          "name": "stdout",
          "text": [
            "\n",
            "Progress1\n",
            "\n",
            "Progress111\n",
            "torch.Size([4, 256, 10])\n",
            "y_predict.shape:  torch.Size([1024, 10])\n",
            "Progress222\n",
            "Progress2\n",
            "Progress3\n",
            "Progress4\n"
          ]
        },
        {
          "output_type": "stream",
          "name": "stderr",
          "text": [
            "\rtrain:  83%|████████▎ | 385/462 [22:08<04:23,  3.42s/it]"
          ]
        },
        {
          "output_type": "stream",
          "name": "stdout",
          "text": [
            "\n",
            "Progress1\n",
            "\n",
            "Progress111\n",
            "torch.Size([4, 256, 10])\n",
            "y_predict.shape:  torch.Size([1024, 10])\n",
            "Progress222\n",
            "Progress2\n",
            "Progress3\n",
            "Progress4\n"
          ]
        },
        {
          "output_type": "stream",
          "name": "stderr",
          "text": [
            "\rtrain:  84%|████████▎ | 386/462 [22:10<04:09,  3.28s/it]"
          ]
        },
        {
          "output_type": "stream",
          "name": "stdout",
          "text": [
            "\n",
            "Progress1\n",
            "\n",
            "Progress111\n",
            "torch.Size([4, 256, 10])\n",
            "y_predict.shape:  torch.Size([1024, 10])\n",
            "Progress222\n",
            "Progress2\n",
            "Progress3\n",
            "Progress4\n"
          ]
        },
        {
          "output_type": "stream",
          "name": "stderr",
          "text": [
            "\rtrain:  84%|████████▍ | 387/462 [22:14<04:01,  3.22s/it]"
          ]
        },
        {
          "output_type": "stream",
          "name": "stdout",
          "text": [
            "\n",
            "Progress1\n",
            "\n",
            "Progress111\n",
            "torch.Size([4, 256, 10])\n",
            "y_predict.shape:  torch.Size([1024, 10])\n",
            "Progress222\n",
            "Progress2\n",
            "Progress3\n",
            "Progress4\n"
          ]
        },
        {
          "output_type": "stream",
          "name": "stderr",
          "text": [
            "\rtrain:  84%|████████▍ | 388/462 [22:18<04:15,  3.46s/it]"
          ]
        },
        {
          "output_type": "stream",
          "name": "stdout",
          "text": [
            "\n",
            "Progress1\n",
            "\n",
            "Progress111\n",
            "torch.Size([4, 256, 10])\n",
            "y_predict.shape:  torch.Size([1024, 10])\n",
            "Progress222\n",
            "Progress2\n",
            "Progress3\n",
            "Progress4\n"
          ]
        },
        {
          "output_type": "stream",
          "name": "stderr",
          "text": [
            "\rtrain:  84%|████████▍ | 389/462 [22:22<04:26,  3.65s/it]"
          ]
        },
        {
          "output_type": "stream",
          "name": "stdout",
          "text": [
            "\n",
            "Progress1\n",
            "\n",
            "Progress111\n",
            "torch.Size([4, 256, 10])\n",
            "y_predict.shape:  torch.Size([1024, 10])\n",
            "Progress222\n",
            "Progress2\n",
            "Progress3\n",
            "Progress4\n"
          ]
        },
        {
          "output_type": "stream",
          "name": "stderr",
          "text": [
            "\rtrain:  84%|████████▍ | 390/462 [22:25<04:11,  3.49s/it]"
          ]
        },
        {
          "output_type": "stream",
          "name": "stdout",
          "text": [
            "\n",
            "Progress1\n",
            "\n",
            "Progress111\n",
            "torch.Size([4, 256, 10])\n",
            "y_predict.shape:  torch.Size([1024, 10])\n",
            "Progress222\n",
            "Progress2\n",
            "Progress3\n",
            "Progress4\n"
          ]
        },
        {
          "output_type": "stream",
          "name": "stderr",
          "text": [
            "\rtrain:  85%|████████▍ | 391/462 [22:28<03:59,  3.37s/it]"
          ]
        },
        {
          "output_type": "stream",
          "name": "stdout",
          "text": [
            "\n",
            "Progress1\n",
            "\n",
            "Progress111\n",
            "torch.Size([4, 256, 10])\n",
            "y_predict.shape:  torch.Size([1024, 10])\n",
            "Progress222\n",
            "Progress2\n",
            "Progress3\n",
            "Progress4\n"
          ]
        },
        {
          "output_type": "stream",
          "name": "stderr",
          "text": [
            "\rtrain:  85%|████████▍ | 392/462 [22:31<03:49,  3.27s/it]"
          ]
        },
        {
          "output_type": "stream",
          "name": "stdout",
          "text": [
            "\n",
            "Progress1\n",
            "\n",
            "Progress111\n",
            "torch.Size([4, 256, 10])\n",
            "y_predict.shape:  torch.Size([1024, 10])\n",
            "Progress222\n",
            "Progress2\n",
            "Progress3\n",
            "Progress4\n"
          ]
        },
        {
          "output_type": "stream",
          "name": "stderr",
          "text": [
            "\rtrain:  85%|████████▌ | 393/462 [22:35<04:11,  3.64s/it]"
          ]
        },
        {
          "output_type": "stream",
          "name": "stdout",
          "text": [
            "\n",
            "Progress1\n",
            "\n",
            "Progress111\n",
            "torch.Size([4, 256, 10])\n",
            "y_predict.shape:  torch.Size([1024, 10])\n",
            "Progress222\n",
            "Progress2\n",
            "Progress3\n",
            "Progress4\n"
          ]
        },
        {
          "output_type": "stream",
          "name": "stderr",
          "text": [
            "\rtrain:  85%|████████▌ | 394/462 [22:39<04:07,  3.64s/it]"
          ]
        },
        {
          "output_type": "stream",
          "name": "stdout",
          "text": [
            "\n",
            "Progress1\n",
            "\n",
            "Progress111\n",
            "torch.Size([4, 256, 10])\n",
            "y_predict.shape:  torch.Size([1024, 10])\n",
            "Progress222\n",
            "Progress2\n",
            "Progress3\n",
            "Progress4\n"
          ]
        },
        {
          "output_type": "stream",
          "name": "stderr",
          "text": [
            "\rtrain:  85%|████████▌ | 395/462 [22:42<03:52,  3.47s/it]"
          ]
        },
        {
          "output_type": "stream",
          "name": "stdout",
          "text": [
            "\n",
            "Progress1\n",
            "\n",
            "Progress111\n",
            "torch.Size([4, 256, 10])\n",
            "y_predict.shape:  torch.Size([1024, 10])\n",
            "Progress222\n",
            "Progress2\n",
            "Progress3\n",
            "Progress4\n"
          ]
        },
        {
          "output_type": "stream",
          "name": "stderr",
          "text": [
            "\rtrain:  86%|████████▌ | 396/462 [22:45<03:41,  3.36s/it]"
          ]
        },
        {
          "output_type": "stream",
          "name": "stdout",
          "text": [
            "\n",
            "Progress1\n",
            "\n",
            "Progress111\n",
            "torch.Size([4, 256, 10])\n",
            "y_predict.shape:  torch.Size([1024, 10])\n",
            "Progress222\n",
            "Progress2\n",
            "Progress3\n",
            "Progress4\n"
          ]
        },
        {
          "output_type": "stream",
          "name": "stderr",
          "text": [
            "\rtrain:  86%|████████▌ | 397/462 [22:49<03:40,  3.40s/it]"
          ]
        },
        {
          "output_type": "stream",
          "name": "stdout",
          "text": [
            "\n",
            "Progress1\n",
            "\n",
            "Progress111\n",
            "torch.Size([4, 256, 10])\n",
            "y_predict.shape:  torch.Size([1024, 10])\n",
            "Progress222\n",
            "Progress2\n",
            "Progress3\n",
            "Progress4\n"
          ]
        },
        {
          "output_type": "stream",
          "name": "stderr",
          "text": [
            "\rtrain:  86%|████████▌ | 398/462 [22:53<03:54,  3.67s/it]"
          ]
        },
        {
          "output_type": "stream",
          "name": "stdout",
          "text": [
            "\n",
            "Progress1\n",
            "\n",
            "Progress111\n",
            "torch.Size([4, 256, 10])\n",
            "y_predict.shape:  torch.Size([1024, 10])\n",
            "Progress222\n",
            "Progress2\n",
            "Progress3\n",
            "Progress4\n"
          ]
        },
        {
          "output_type": "stream",
          "name": "stderr",
          "text": [
            "\rtrain:  86%|████████▋ | 399/462 [22:56<03:38,  3.46s/it]"
          ]
        },
        {
          "output_type": "stream",
          "name": "stdout",
          "text": [
            "\n",
            "Progress1\n",
            "\n",
            "Progress111\n",
            "torch.Size([4, 256, 10])\n",
            "y_predict.shape:  torch.Size([1024, 10])\n",
            "Progress222\n",
            "Progress2\n",
            "Progress3\n",
            "Progress4\n"
          ]
        },
        {
          "output_type": "stream",
          "name": "stderr",
          "text": [
            "\rtrain:  87%|████████▋ | 400/462 [22:59<03:26,  3.33s/it]"
          ]
        },
        {
          "output_type": "stream",
          "name": "stdout",
          "text": [
            "\n",
            "Progress1\n",
            "\n",
            "Progress111\n",
            "torch.Size([4, 256, 10])\n",
            "y_predict.shape:  torch.Size([1024, 10])\n",
            "Progress222\n",
            "Progress2\n",
            "Progress3\n",
            "Progress4\n"
          ]
        },
        {
          "output_type": "stream",
          "name": "stderr",
          "text": [
            "\rtrain:  87%|████████▋ | 401/462 [23:02<03:16,  3.22s/it]"
          ]
        },
        {
          "output_type": "stream",
          "name": "stdout",
          "text": [
            "\n",
            "Progress1\n",
            "\n",
            "Progress111\n",
            "torch.Size([4, 256, 10])\n",
            "y_predict.shape:  torch.Size([1024, 10])\n",
            "Progress222\n",
            "Progress2\n",
            "Progress3\n",
            "Progress4\n"
          ]
        },
        {
          "output_type": "stream",
          "name": "stderr",
          "text": [
            "\rtrain:  87%|████████▋ | 402/462 [23:07<03:39,  3.66s/it]"
          ]
        },
        {
          "output_type": "stream",
          "name": "stdout",
          "text": [
            "\n",
            "Progress1\n",
            "\n",
            "Progress111\n",
            "torch.Size([4, 256, 10])\n",
            "y_predict.shape:  torch.Size([1024, 10])\n",
            "Progress222\n",
            "Progress2\n",
            "Progress3\n",
            "Progress4\n"
          ]
        },
        {
          "output_type": "stream",
          "name": "stderr",
          "text": [
            "\rtrain:  87%|████████▋ | 403/462 [23:10<03:24,  3.47s/it]"
          ]
        },
        {
          "output_type": "stream",
          "name": "stdout",
          "text": [
            "\n",
            "Progress1\n",
            "\n",
            "Progress111\n",
            "torch.Size([4, 256, 10])\n",
            "y_predict.shape:  torch.Size([1024, 10])\n",
            "Progress222\n",
            "Progress2\n",
            "Progress3\n",
            "Progress4\n"
          ]
        },
        {
          "output_type": "stream",
          "name": "stderr",
          "text": [
            "\rtrain:  87%|████████▋ | 404/462 [23:13<03:14,  3.35s/it]"
          ]
        },
        {
          "output_type": "stream",
          "name": "stdout",
          "text": [
            "\n",
            "Progress1\n",
            "\n",
            "Progress111\n",
            "torch.Size([4, 256, 10])\n",
            "y_predict.shape:  torch.Size([1024, 10])\n",
            "Progress222\n",
            "Progress2\n",
            "Progress3\n",
            "Progress4\n"
          ]
        },
        {
          "output_type": "stream",
          "name": "stderr",
          "text": [
            "\rtrain:  88%|████████▊ | 405/462 [23:16<03:06,  3.28s/it]"
          ]
        },
        {
          "output_type": "stream",
          "name": "stdout",
          "text": [
            "\n",
            "Progress1\n",
            "\n",
            "Progress111\n",
            "torch.Size([4, 256, 10])\n",
            "y_predict.shape:  torch.Size([1024, 10])\n",
            "Progress222\n",
            "Progress2\n",
            "Progress3\n",
            "Progress4\n"
          ]
        },
        {
          "output_type": "stream",
          "name": "stderr",
          "text": [
            "\rtrain:  88%|████████▊ | 406/462 [23:20<03:23,  3.63s/it]"
          ]
        },
        {
          "output_type": "stream",
          "name": "stdout",
          "text": [
            "\n",
            "Progress1\n",
            "\n",
            "Progress111\n",
            "torch.Size([4, 256, 10])\n",
            "y_predict.shape:  torch.Size([1024, 10])\n",
            "Progress222\n",
            "Progress2\n",
            "Progress3\n",
            "Progress4\n"
          ]
        },
        {
          "output_type": "stream",
          "name": "stderr",
          "text": [
            "\rtrain:  88%|████████▊ | 407/462 [23:24<03:20,  3.65s/it]"
          ]
        },
        {
          "output_type": "stream",
          "name": "stdout",
          "text": [
            "\n",
            "Progress1\n",
            "\n",
            "Progress111\n",
            "torch.Size([4, 256, 10])\n",
            "y_predict.shape:  torch.Size([1024, 10])\n",
            "Progress222\n",
            "Progress2\n",
            "Progress3\n",
            "Progress4\n"
          ]
        },
        {
          "output_type": "stream",
          "name": "stderr",
          "text": [
            "\rtrain:  88%|████████▊ | 408/462 [23:27<03:07,  3.48s/it]"
          ]
        },
        {
          "output_type": "stream",
          "name": "stdout",
          "text": [
            "\n",
            "Progress1\n",
            "\n",
            "Progress111\n",
            "torch.Size([4, 256, 10])\n",
            "y_predict.shape:  torch.Size([1024, 10])\n",
            "Progress222\n",
            "Progress2\n",
            "Progress3\n",
            "Progress4\n"
          ]
        },
        {
          "output_type": "stream",
          "name": "stderr",
          "text": [
            "\rtrain:  89%|████████▊ | 409/462 [23:30<02:59,  3.39s/it]"
          ]
        },
        {
          "output_type": "stream",
          "name": "stdout",
          "text": [
            "\n",
            "Progress1\n",
            "\n",
            "Progress111\n",
            "torch.Size([4, 256, 10])\n",
            "y_predict.shape:  torch.Size([1024, 10])\n",
            "Progress222\n",
            "Progress2\n",
            "Progress3\n",
            "Progress4\n"
          ]
        },
        {
          "output_type": "stream",
          "name": "stderr",
          "text": [
            "\rtrain:  89%|████████▊ | 410/462 [23:34<02:55,  3.38s/it]"
          ]
        },
        {
          "output_type": "stream",
          "name": "stdout",
          "text": [
            "\n",
            "Progress1\n",
            "\n",
            "Progress111\n",
            "torch.Size([4, 256, 10])\n",
            "y_predict.shape:  torch.Size([1024, 10])\n",
            "Progress222\n",
            "Progress2\n",
            "Progress3\n",
            "Progress4\n"
          ]
        },
        {
          "output_type": "stream",
          "name": "stderr",
          "text": [
            "\rtrain:  89%|████████▉ | 411/462 [23:38<03:07,  3.68s/it]"
          ]
        },
        {
          "output_type": "stream",
          "name": "stdout",
          "text": [
            "\n",
            "Progress1\n",
            "\n",
            "Progress111\n",
            "torch.Size([4, 256, 10])\n",
            "y_predict.shape:  torch.Size([1024, 10])\n",
            "Progress222\n",
            "Progress2\n",
            "Progress3\n",
            "Progress4\n"
          ]
        },
        {
          "output_type": "stream",
          "name": "stderr",
          "text": [
            "\rtrain:  89%|████████▉ | 412/462 [23:41<02:54,  3.49s/it]"
          ]
        },
        {
          "output_type": "stream",
          "name": "stdout",
          "text": [
            "\n",
            "Progress1\n",
            "\n",
            "Progress111\n",
            "torch.Size([4, 256, 10])\n",
            "y_predict.shape:  torch.Size([1024, 10])\n",
            "Progress222\n",
            "Progress2\n",
            "Progress3\n",
            "Progress4\n"
          ]
        },
        {
          "output_type": "stream",
          "name": "stderr",
          "text": [
            "\rtrain:  89%|████████▉ | 413/462 [23:44<02:44,  3.37s/it]"
          ]
        },
        {
          "output_type": "stream",
          "name": "stdout",
          "text": [
            "\n",
            "Progress1\n",
            "\n",
            "Progress111\n",
            "torch.Size([4, 256, 10])\n",
            "y_predict.shape:  torch.Size([1024, 10])\n",
            "Progress222\n",
            "Progress2\n",
            "Progress3\n",
            "Progress4\n"
          ]
        },
        {
          "output_type": "stream",
          "name": "stderr",
          "text": [
            "\rtrain:  90%|████████▉ | 414/462 [23:47<02:37,  3.28s/it]"
          ]
        },
        {
          "output_type": "stream",
          "name": "stdout",
          "text": [
            "\n",
            "Progress1\n",
            "\n",
            "Progress111\n",
            "torch.Size([4, 256, 10])\n",
            "y_predict.shape:  torch.Size([1024, 10])\n",
            "Progress222\n",
            "Progress2\n",
            "Progress3\n",
            "Progress4\n"
          ]
        },
        {
          "output_type": "stream",
          "name": "stderr",
          "text": [
            "\rtrain:  90%|████████▉ | 415/462 [23:52<02:49,  3.60s/it]"
          ]
        },
        {
          "output_type": "stream",
          "name": "stdout",
          "text": [
            "\n",
            "Progress1\n",
            "\n",
            "Progress111\n",
            "torch.Size([4, 256, 10])\n",
            "y_predict.shape:  torch.Size([1024, 10])\n",
            "Progress222\n",
            "Progress2\n",
            "Progress3\n",
            "Progress4\n"
          ]
        },
        {
          "output_type": "stream",
          "name": "stderr",
          "text": [
            "\rtrain:  90%|█████████ | 416/462 [23:55<02:43,  3.55s/it]"
          ]
        },
        {
          "output_type": "stream",
          "name": "stdout",
          "text": [
            "\n",
            "Progress1\n",
            "\n",
            "Progress111\n",
            "torch.Size([4, 256, 10])\n",
            "y_predict.shape:  torch.Size([1024, 10])\n",
            "Progress222\n",
            "Progress2\n",
            "Progress3\n",
            "Progress4\n"
          ]
        },
        {
          "output_type": "stream",
          "name": "stderr",
          "text": [
            "\rtrain:  90%|█████████ | 417/462 [23:58<02:31,  3.36s/it]"
          ]
        },
        {
          "output_type": "stream",
          "name": "stdout",
          "text": [
            "\n",
            "Progress1\n",
            "\n",
            "Progress111\n",
            "torch.Size([4, 256, 10])\n",
            "y_predict.shape:  torch.Size([1024, 10])\n",
            "Progress222\n",
            "Progress2\n",
            "Progress3\n",
            "Progress4\n"
          ]
        },
        {
          "output_type": "stream",
          "name": "stderr",
          "text": [
            "\rtrain:  90%|█████████ | 418/462 [24:01<02:22,  3.25s/it]"
          ]
        },
        {
          "output_type": "stream",
          "name": "stdout",
          "text": [
            "\n",
            "Progress1\n",
            "\n",
            "Progress111\n",
            "torch.Size([4, 256, 10])\n",
            "y_predict.shape:  torch.Size([1024, 10])\n",
            "Progress222\n",
            "Progress2\n",
            "Progress3\n",
            "Progress4\n"
          ]
        },
        {
          "output_type": "stream",
          "name": "stderr",
          "text": [
            "\rtrain:  91%|█████████ | 419/462 [24:05<02:24,  3.37s/it]"
          ]
        },
        {
          "output_type": "stream",
          "name": "stdout",
          "text": [
            "\n",
            "Progress1\n",
            "\n",
            "Progress111\n",
            "torch.Size([4, 256, 10])\n",
            "y_predict.shape:  torch.Size([1024, 10])\n",
            "Progress222\n",
            "Progress2\n",
            "Progress3\n",
            "Progress4\n"
          ]
        },
        {
          "output_type": "stream",
          "name": "stderr",
          "text": [
            "\rtrain:  91%|█████████ | 420/462 [24:09<02:32,  3.64s/it]"
          ]
        },
        {
          "output_type": "stream",
          "name": "stdout",
          "text": [
            "\n",
            "Progress1\n",
            "\n",
            "Progress111\n",
            "torch.Size([4, 256, 10])\n",
            "y_predict.shape:  torch.Size([1024, 10])\n",
            "Progress222\n",
            "Progress2\n",
            "Progress3\n",
            "Progress4\n"
          ]
        },
        {
          "output_type": "stream",
          "name": "stderr",
          "text": [
            "\rtrain:  91%|█████████ | 421/462 [24:12<02:22,  3.48s/it]"
          ]
        },
        {
          "output_type": "stream",
          "name": "stdout",
          "text": [
            "\n",
            "Progress1\n",
            "\n",
            "Progress111\n",
            "torch.Size([4, 256, 10])\n",
            "y_predict.shape:  torch.Size([1024, 10])\n",
            "Progress222\n",
            "Progress2\n",
            "Progress3\n",
            "Progress4\n"
          ]
        },
        {
          "output_type": "stream",
          "name": "stderr",
          "text": [
            "\rtrain:  91%|█████████▏| 422/462 [24:15<02:14,  3.36s/it]"
          ]
        },
        {
          "output_type": "stream",
          "name": "stdout",
          "text": [
            "\n",
            "Progress1\n",
            "\n",
            "Progress111\n",
            "torch.Size([4, 256, 10])\n",
            "y_predict.shape:  torch.Size([1024, 10])\n",
            "Progress222\n",
            "Progress2\n",
            "Progress3\n",
            "Progress4\n"
          ]
        },
        {
          "output_type": "stream",
          "name": "stderr",
          "text": [
            "\rtrain:  92%|█████████▏| 423/462 [24:18<02:08,  3.28s/it]"
          ]
        },
        {
          "output_type": "stream",
          "name": "stdout",
          "text": [
            "\n",
            "Progress1\n",
            "\n",
            "Progress111\n",
            "torch.Size([4, 256, 10])\n",
            "y_predict.shape:  torch.Size([1024, 10])\n",
            "Progress222\n",
            "Progress2\n",
            "Progress3\n",
            "Progress4\n"
          ]
        },
        {
          "output_type": "stream",
          "name": "stderr",
          "text": [
            "\rtrain:  92%|█████████▏| 424/462 [24:23<02:20,  3.70s/it]"
          ]
        },
        {
          "output_type": "stream",
          "name": "stdout",
          "text": [
            "\n",
            "Progress1\n",
            "\n",
            "Progress111\n",
            "torch.Size([4, 256, 10])\n",
            "y_predict.shape:  torch.Size([1024, 10])\n",
            "Progress222\n",
            "Progress2\n",
            "Progress3\n",
            "Progress4\n"
          ]
        },
        {
          "output_type": "stream",
          "name": "stderr",
          "text": [
            "\rtrain:  92%|█████████▏| 425/462 [24:26<02:09,  3.50s/it]"
          ]
        },
        {
          "output_type": "stream",
          "name": "stdout",
          "text": [
            "\n",
            "Progress1\n",
            "\n",
            "Progress111\n",
            "torch.Size([4, 256, 10])\n",
            "y_predict.shape:  torch.Size([1024, 10])\n",
            "Progress222\n",
            "Progress2\n",
            "Progress3\n",
            "Progress4\n"
          ]
        },
        {
          "output_type": "stream",
          "name": "stderr",
          "text": [
            "\rtrain:  92%|█████████▏| 426/462 [24:29<02:01,  3.37s/it]"
          ]
        },
        {
          "output_type": "stream",
          "name": "stdout",
          "text": [
            "\n",
            "Progress1\n",
            "\n",
            "Progress111\n",
            "torch.Size([4, 256, 10])\n",
            "y_predict.shape:  torch.Size([1024, 10])\n",
            "Progress222\n",
            "Progress2\n",
            "Progress3\n",
            "Progress4\n"
          ]
        },
        {
          "output_type": "stream",
          "name": "stderr",
          "text": [
            "\rtrain:  92%|█████████▏| 427/462 [24:32<01:55,  3.29s/it]"
          ]
        },
        {
          "output_type": "stream",
          "name": "stdout",
          "text": [
            "\n",
            "Progress1\n",
            "\n",
            "Progress111\n",
            "torch.Size([4, 256, 10])\n",
            "y_predict.shape:  torch.Size([1024, 10])\n",
            "Progress222\n",
            "Progress2\n",
            "Progress3\n",
            "Progress4\n"
          ]
        },
        {
          "output_type": "stream",
          "name": "stderr",
          "text": [
            "\rtrain:  93%|█████████▎| 428/462 [24:36<02:03,  3.63s/it]"
          ]
        },
        {
          "output_type": "stream",
          "name": "stdout",
          "text": [
            "\n",
            "Progress1\n",
            "\n",
            "Progress111\n",
            "torch.Size([4, 256, 10])\n",
            "y_predict.shape:  torch.Size([1024, 10])\n",
            "Progress222\n",
            "Progress2\n",
            "Progress3\n",
            "Progress4\n"
          ]
        },
        {
          "output_type": "stream",
          "name": "stderr",
          "text": [
            "\rtrain:  93%|█████████▎| 429/462 [24:40<01:59,  3.61s/it]"
          ]
        },
        {
          "output_type": "stream",
          "name": "stdout",
          "text": [
            "\n",
            "Progress1\n",
            "\n",
            "Progress111\n",
            "torch.Size([4, 256, 10])\n",
            "y_predict.shape:  torch.Size([1024, 10])\n",
            "Progress222\n",
            "Progress2\n",
            "Progress3\n",
            "Progress4\n"
          ]
        },
        {
          "output_type": "stream",
          "name": "stderr",
          "text": [
            "\rtrain:  93%|█████████▎| 430/462 [24:43<01:49,  3.41s/it]"
          ]
        },
        {
          "output_type": "stream",
          "name": "stdout",
          "text": [
            "\n",
            "Progress1\n",
            "\n",
            "Progress111\n",
            "torch.Size([4, 256, 10])\n",
            "y_predict.shape:  torch.Size([1024, 10])\n",
            "Progress222\n",
            "Progress2\n",
            "Progress3\n",
            "Progress4\n"
          ]
        },
        {
          "output_type": "stream",
          "name": "stderr",
          "text": [
            "\rtrain:  93%|█████████▎| 431/462 [24:46<01:40,  3.26s/it]"
          ]
        },
        {
          "output_type": "stream",
          "name": "stdout",
          "text": [
            "\n",
            "Progress1\n",
            "\n",
            "Progress111\n",
            "torch.Size([4, 256, 10])\n",
            "y_predict.shape:  torch.Size([1024, 10])\n",
            "Progress222\n",
            "Progress2\n",
            "Progress3\n",
            "Progress4\n"
          ]
        },
        {
          "output_type": "stream",
          "name": "stderr",
          "text": [
            "\rtrain:  94%|█████████▎| 432/462 [24:49<01:34,  3.16s/it]"
          ]
        },
        {
          "output_type": "stream",
          "name": "stdout",
          "text": [
            "\n",
            "Progress1\n",
            "\n",
            "Progress111\n",
            "torch.Size([4, 256, 10])\n",
            "y_predict.shape:  torch.Size([1024, 10])\n",
            "Progress222\n",
            "Progress2\n",
            "Progress3\n",
            "Progress4\n"
          ]
        },
        {
          "output_type": "stream",
          "name": "stderr",
          "text": [
            "\rtrain:  94%|█████████▎| 433/462 [24:53<01:41,  3.51s/it]"
          ]
        },
        {
          "output_type": "stream",
          "name": "stdout",
          "text": [
            "\n",
            "Progress1\n",
            "\n",
            "Progress111\n",
            "torch.Size([4, 256, 10])\n",
            "y_predict.shape:  torch.Size([1024, 10])\n",
            "Progress222\n",
            "Progress2\n",
            "Progress3\n",
            "Progress4\n"
          ]
        },
        {
          "output_type": "stream",
          "name": "stderr",
          "text": [
            "\rtrain:  94%|█████████▍| 434/462 [24:56<01:37,  3.47s/it]"
          ]
        },
        {
          "output_type": "stream",
          "name": "stdout",
          "text": [
            "\n",
            "Progress1\n",
            "\n",
            "Progress111\n",
            "torch.Size([4, 256, 10])\n",
            "y_predict.shape:  torch.Size([1024, 10])\n",
            "Progress222\n",
            "Progress2\n",
            "Progress3\n",
            "Progress4\n"
          ]
        },
        {
          "output_type": "stream",
          "name": "stderr",
          "text": [
            "\rtrain:  94%|█████████▍| 435/462 [24:59<01:30,  3.34s/it]"
          ]
        },
        {
          "output_type": "stream",
          "name": "stdout",
          "text": [
            "\n",
            "Progress1\n",
            "\n",
            "Progress111\n",
            "torch.Size([4, 256, 10])\n",
            "y_predict.shape:  torch.Size([1024, 10])\n",
            "Progress222\n",
            "Progress2\n",
            "Progress3\n",
            "Progress4\n"
          ]
        },
        {
          "output_type": "stream",
          "name": "stderr",
          "text": [
            "\rtrain:  94%|█████████▍| 436/462 [25:03<01:25,  3.28s/it]"
          ]
        },
        {
          "output_type": "stream",
          "name": "stdout",
          "text": [
            "\n",
            "Progress1\n",
            "\n",
            "Progress111\n",
            "torch.Size([4, 256, 10])\n",
            "y_predict.shape:  torch.Size([1024, 10])\n",
            "Progress222\n",
            "Progress2\n",
            "Progress3\n",
            "Progress4\n"
          ]
        },
        {
          "output_type": "stream",
          "name": "stderr",
          "text": [
            "\rtrain:  95%|█████████▍| 437/462 [25:06<01:25,  3.42s/it]"
          ]
        },
        {
          "output_type": "stream",
          "name": "stdout",
          "text": [
            "\n",
            "Progress1\n",
            "\n",
            "Progress111\n",
            "torch.Size([4, 256, 10])\n",
            "y_predict.shape:  torch.Size([1024, 10])\n",
            "Progress222\n",
            "Progress2\n",
            "Progress3\n",
            "Progress4\n"
          ]
        },
        {
          "output_type": "stream",
          "name": "stderr",
          "text": [
            "\rtrain:  95%|█████████▍| 438/462 [25:11<01:27,  3.66s/it]"
          ]
        },
        {
          "output_type": "stream",
          "name": "stdout",
          "text": [
            "\n",
            "Progress1\n",
            "\n",
            "Progress111\n",
            "torch.Size([4, 256, 10])\n",
            "y_predict.shape:  torch.Size([1024, 10])\n",
            "Progress222\n",
            "Progress2\n",
            "Progress3\n",
            "Progress4\n"
          ]
        },
        {
          "output_type": "stream",
          "name": "stderr",
          "text": [
            "\rtrain:  95%|█████████▌| 439/462 [25:14<01:19,  3.46s/it]"
          ]
        },
        {
          "output_type": "stream",
          "name": "stdout",
          "text": [
            "\n",
            "Progress1\n",
            "\n",
            "Progress111\n",
            "torch.Size([4, 256, 10])\n",
            "y_predict.shape:  torch.Size([1024, 10])\n",
            "Progress222\n",
            "Progress2\n",
            "Progress3\n",
            "Progress4\n"
          ]
        },
        {
          "output_type": "stream",
          "name": "stderr",
          "text": [
            "\rtrain:  95%|█████████▌| 440/462 [25:17<01:13,  3.34s/it]"
          ]
        },
        {
          "output_type": "stream",
          "name": "stdout",
          "text": [
            "\n",
            "Progress1\n",
            "\n",
            "Progress111\n",
            "torch.Size([4, 256, 10])\n",
            "y_predict.shape:  torch.Size([1024, 10])\n",
            "Progress222\n",
            "Progress2\n",
            "Progress3\n",
            "Progress4\n"
          ]
        },
        {
          "output_type": "stream",
          "name": "stderr",
          "text": [
            "\rtrain:  95%|█████████▌| 441/462 [25:20<01:09,  3.31s/it]"
          ]
        },
        {
          "output_type": "stream",
          "name": "stdout",
          "text": [
            "\n",
            "Progress1\n",
            "\n",
            "Progress111\n",
            "torch.Size([4, 256, 10])\n",
            "y_predict.shape:  torch.Size([1024, 10])\n",
            "Progress222\n",
            "Progress2\n",
            "Progress3\n",
            "Progress4\n"
          ]
        },
        {
          "output_type": "stream",
          "name": "stderr",
          "text": [
            "\rtrain:  96%|█████████▌| 442/462 [25:24<01:13,  3.70s/it]"
          ]
        },
        {
          "output_type": "stream",
          "name": "stdout",
          "text": [
            "\n",
            "Progress1\n",
            "\n",
            "Progress111\n",
            "torch.Size([4, 256, 10])\n",
            "y_predict.shape:  torch.Size([1024, 10])\n",
            "Progress222\n",
            "Progress2\n",
            "Progress3\n",
            "Progress4\n"
          ]
        },
        {
          "output_type": "stream",
          "name": "stderr",
          "text": [
            "\rtrain:  96%|█████████▌| 443/462 [25:28<01:06,  3.51s/it]"
          ]
        },
        {
          "output_type": "stream",
          "name": "stdout",
          "text": [
            "\n",
            "Progress1\n",
            "\n",
            "Progress111\n",
            "torch.Size([4, 256, 10])\n",
            "y_predict.shape:  torch.Size([1024, 10])\n",
            "Progress222\n",
            "Progress2\n",
            "Progress3\n",
            "Progress4\n"
          ]
        },
        {
          "output_type": "stream",
          "name": "stderr",
          "text": [
            "\rtrain:  96%|█████████▌| 444/462 [25:31<01:00,  3.39s/it]"
          ]
        },
        {
          "output_type": "stream",
          "name": "stdout",
          "text": [
            "\n",
            "Progress1\n",
            "\n",
            "Progress111\n",
            "torch.Size([4, 256, 10])\n",
            "y_predict.shape:  torch.Size([1024, 10])\n",
            "Progress222\n",
            "Progress2\n",
            "Progress3\n",
            "Progress4\n"
          ]
        },
        {
          "output_type": "stream",
          "name": "stderr",
          "text": [
            "\rtrain:  96%|█████████▋| 445/462 [25:34<00:56,  3.32s/it]"
          ]
        },
        {
          "output_type": "stream",
          "name": "stdout",
          "text": [
            "\n",
            "Progress1\n",
            "\n",
            "Progress111\n",
            "torch.Size([4, 256, 10])\n",
            "y_predict.shape:  torch.Size([1024, 10])\n",
            "Progress222\n",
            "Progress2\n",
            "Progress3\n",
            "Progress4\n"
          ]
        },
        {
          "output_type": "stream",
          "name": "stderr",
          "text": [
            "\rtrain:  97%|█████████▋| 446/462 [25:38<00:58,  3.66s/it]"
          ]
        },
        {
          "output_type": "stream",
          "name": "stdout",
          "text": [
            "\n",
            "Progress1\n",
            "\n",
            "Progress111\n",
            "torch.Size([4, 256, 10])\n",
            "y_predict.shape:  torch.Size([1024, 10])\n",
            "Progress222\n",
            "Progress2\n",
            "Progress3\n",
            "Progress4\n"
          ]
        },
        {
          "output_type": "stream",
          "name": "stderr",
          "text": [
            "\rtrain:  97%|█████████▋| 447/462 [25:42<00:53,  3.56s/it]"
          ]
        },
        {
          "output_type": "stream",
          "name": "stdout",
          "text": [
            "\n",
            "Progress1\n",
            "\n",
            "Progress111\n",
            "torch.Size([4, 256, 10])\n",
            "y_predict.shape:  torch.Size([1024, 10])\n",
            "Progress222\n",
            "Progress2\n",
            "Progress3\n",
            "Progress4\n"
          ]
        },
        {
          "output_type": "stream",
          "name": "stderr",
          "text": [
            "\rtrain:  97%|█████████▋| 448/462 [25:45<00:47,  3.37s/it]"
          ]
        },
        {
          "output_type": "stream",
          "name": "stdout",
          "text": [
            "\n",
            "Progress1\n",
            "\n",
            "Progress111\n",
            "torch.Size([4, 256, 10])\n",
            "y_predict.shape:  torch.Size([1024, 10])\n",
            "Progress222\n",
            "Progress2\n",
            "Progress3\n",
            "Progress4\n"
          ]
        },
        {
          "output_type": "stream",
          "name": "stderr",
          "text": [
            "\rtrain:  97%|█████████▋| 449/462 [25:48<00:42,  3.28s/it]"
          ]
        },
        {
          "output_type": "stream",
          "name": "stdout",
          "text": [
            "\n",
            "Progress1\n",
            "\n",
            "Progress111\n",
            "torch.Size([4, 256, 10])\n",
            "y_predict.shape:  torch.Size([1024, 10])\n",
            "Progress222\n",
            "Progress2\n",
            "Progress3\n",
            "Progress4\n"
          ]
        },
        {
          "output_type": "stream",
          "name": "stderr",
          "text": [
            "\rtrain:  97%|█████████▋| 450/462 [25:51<00:40,  3.39s/it]"
          ]
        },
        {
          "output_type": "stream",
          "name": "stdout",
          "text": [
            "\n",
            "Progress1\n",
            "\n",
            "Progress111\n",
            "torch.Size([4, 256, 10])\n",
            "y_predict.shape:  torch.Size([1024, 10])\n",
            "Progress222\n",
            "Progress2\n",
            "Progress3\n",
            "Progress4\n"
          ]
        },
        {
          "output_type": "stream",
          "name": "stderr",
          "text": [
            "\rtrain:  98%|█████████▊| 451/462 [25:55<00:39,  3.62s/it]"
          ]
        },
        {
          "output_type": "stream",
          "name": "stdout",
          "text": [
            "\n",
            "Progress1\n",
            "\n",
            "Progress111\n",
            "torch.Size([4, 256, 10])\n",
            "y_predict.shape:  torch.Size([1024, 10])\n",
            "Progress222\n",
            "Progress2\n",
            "Progress3\n",
            "Progress4\n"
          ]
        },
        {
          "output_type": "stream",
          "name": "stderr",
          "text": [
            "\rtrain:  98%|█████████▊| 452/462 [25:58<00:34,  3.45s/it]"
          ]
        },
        {
          "output_type": "stream",
          "name": "stdout",
          "text": [
            "\n",
            "Progress1\n",
            "\n",
            "Progress111\n",
            "torch.Size([4, 256, 10])\n",
            "y_predict.shape:  torch.Size([1024, 10])\n",
            "Progress222\n",
            "Progress2\n",
            "Progress3\n",
            "Progress4\n"
          ]
        },
        {
          "output_type": "stream",
          "name": "stderr",
          "text": [
            "\rtrain:  98%|█████████▊| 453/462 [26:02<00:30,  3.35s/it]"
          ]
        },
        {
          "output_type": "stream",
          "name": "stdout",
          "text": [
            "\n",
            "Progress1\n",
            "\n",
            "Progress111\n",
            "torch.Size([4, 256, 10])\n",
            "y_predict.shape:  torch.Size([1024, 10])\n",
            "Progress222\n",
            "Progress2\n",
            "Progress3\n",
            "Progress4\n"
          ]
        },
        {
          "output_type": "stream",
          "name": "stderr",
          "text": [
            "\rtrain:  98%|█████████▊| 454/462 [26:05<00:26,  3.36s/it]"
          ]
        },
        {
          "output_type": "stream",
          "name": "stdout",
          "text": [
            "\n",
            "Progress1\n",
            "\n",
            "Progress111\n",
            "torch.Size([4, 256, 10])\n",
            "y_predict.shape:  torch.Size([1024, 10])\n",
            "Progress222\n",
            "Progress2\n",
            "Progress3\n",
            "Progress4\n"
          ]
        },
        {
          "output_type": "stream",
          "name": "stderr",
          "text": [
            "\rtrain:  98%|█████████▊| 455/462 [26:09<00:25,  3.66s/it]"
          ]
        },
        {
          "output_type": "stream",
          "name": "stdout",
          "text": [
            "\n",
            "Progress1\n",
            "\n",
            "Progress111\n",
            "torch.Size([4, 256, 10])\n",
            "y_predict.shape:  torch.Size([1024, 10])\n",
            "Progress222\n",
            "Progress2\n",
            "Progress3\n",
            "Progress4\n"
          ]
        },
        {
          "output_type": "stream",
          "name": "stderr",
          "text": [
            "\rtrain:  99%|█████████▊| 456/462 [26:12<00:21,  3.50s/it]"
          ]
        },
        {
          "output_type": "stream",
          "name": "stdout",
          "text": [
            "\n",
            "Progress1\n",
            "\n",
            "Progress111\n",
            "torch.Size([4, 256, 10])\n",
            "y_predict.shape:  torch.Size([1024, 10])\n",
            "Progress222\n",
            "Progress2\n",
            "Progress3\n",
            "Progress4\n"
          ]
        },
        {
          "output_type": "stream",
          "name": "stderr",
          "text": [
            "\rtrain:  99%|█████████▉| 457/462 [26:15<00:16,  3.37s/it]"
          ]
        },
        {
          "output_type": "stream",
          "name": "stdout",
          "text": [
            "\n",
            "Progress1\n",
            "\n",
            "Progress111\n",
            "torch.Size([4, 256, 10])\n",
            "y_predict.shape:  torch.Size([1024, 10])\n",
            "Progress222\n",
            "Progress2\n",
            "Progress3\n",
            "Progress4\n"
          ]
        },
        {
          "output_type": "stream",
          "name": "stderr",
          "text": [
            "\rtrain:  99%|█████████▉| 458/462 [26:19<00:13,  3.29s/it]"
          ]
        },
        {
          "output_type": "stream",
          "name": "stdout",
          "text": [
            "\n",
            "Progress1\n",
            "\n",
            "Progress111\n",
            "torch.Size([4, 256, 10])\n",
            "y_predict.shape:  torch.Size([1024, 10])\n",
            "Progress222\n",
            "Progress2\n",
            "Progress3\n",
            "Progress4\n"
          ]
        },
        {
          "output_type": "stream",
          "name": "stderr",
          "text": [
            "\rtrain:  99%|█████████▉| 459/462 [26:23<00:10,  3.64s/it]"
          ]
        },
        {
          "output_type": "stream",
          "name": "stdout",
          "text": [
            "\n",
            "Progress1\n",
            "\n",
            "Progress111\n",
            "torch.Size([4, 256, 10])\n",
            "y_predict.shape:  torch.Size([1024, 10])\n",
            "Progress222\n",
            "Progress2\n",
            "Progress3\n",
            "Progress4\n"
          ]
        },
        {
          "output_type": "stream",
          "name": "stderr",
          "text": [
            "\rtrain: 100%|█████████▉| 460/462 [26:27<00:07,  3.62s/it]"
          ]
        },
        {
          "output_type": "stream",
          "name": "stdout",
          "text": [
            "\n",
            "Progress1\n",
            "\n",
            "Progress111\n",
            "torch.Size([4, 256, 10])\n",
            "y_predict.shape:  torch.Size([1024, 10])\n",
            "Progress222\n",
            "Progress2\n",
            "Progress3\n",
            "Progress4\n"
          ]
        },
        {
          "output_type": "stream",
          "name": "stderr",
          "text": [
            "\rtrain: 100%|█████████▉| 461/462 [26:30<00:03,  3.44s/it]"
          ]
        },
        {
          "output_type": "stream",
          "name": "stdout",
          "text": [
            "\n",
            "Progress1\n",
            "\n",
            "Progress111\n",
            "torch.Size([1, 256, 10])\n",
            "y_predict.shape:  torch.Size([256, 10])\n",
            "Progress222\n",
            "Progress2\n",
            "Progress3\n",
            "Progress4\n"
          ]
        },
        {
          "output_type": "stream",
          "name": "stderr",
          "text": [
            "train: 100%|██████████| 462/462 [26:31<00:00,  3.44s/it]\n"
          ]
        },
        {
          "output_type": "stream",
          "name": "stdout",
          "text": [
            "epoch: 0, Train loss: 0.6071557789008855, Train accuracy: 0.7843560949169314\n",
            "\n"
          ]
        },
        {
          "output_type": "stream",
          "name": "stderr",
          "text": [
            "eval: 100%|██████████| 139/139 [02:28<00:00,  1.07s/it]\n"
          ]
        },
        {
          "output_type": "stream",
          "name": "stdout",
          "text": [
            "epoch: 0, Val loss: 0.3453161320883593, Val accuracy: 0.7857061424065465\n",
            "\n"
          ]
        },
        {
          "output_type": "display_data",
          "data": {
            "text/plain": [
              "<IPython.core.display.HTML object>"
            ],
            "text/html": [
              "<pre style=\"overflow-x: scroll;\"><strong><span style=\"color: #DDB62B\">       1:  </span></strong> train_loss: <strong>0.250714</strong> train_accuracy: <strong>0.865460</strong> val_loss: <strong>0.177746</strong> val_accuracy: <strong>0.906312</strong></pre>"
            ]
          },
          "metadata": {}
        },
        {
          "output_type": "stream",
          "name": "stderr",
          "text": [
            "\rtrain:   0%|          | 0/462 [00:00<?, ?it/s]"
          ]
        },
        {
          "output_type": "stream",
          "name": "stdout",
          "text": [
            "\n",
            "Progress1\n",
            "\n",
            "Progress111\n",
            "torch.Size([4, 256, 10])\n",
            "y_predict.shape:  torch.Size([1024, 10])\n",
            "Progress222\n",
            "Progress2\n",
            "Progress3\n",
            "Progress4\n"
          ]
        },
        {
          "output_type": "stream",
          "name": "stderr",
          "text": [
            "\rtrain:   0%|          | 1/462 [00:06<47:24,  6.17s/it]"
          ]
        },
        {
          "output_type": "stream",
          "name": "stdout",
          "text": [
            "\n",
            "Progress1\n",
            "\n",
            "Progress111\n",
            "torch.Size([4, 256, 10])\n",
            "y_predict.shape:  torch.Size([1024, 10])\n",
            "Progress222\n",
            "Progress2\n",
            "Progress3\n",
            "Progress4\n"
          ]
        },
        {
          "output_type": "stream",
          "name": "stderr",
          "text": [
            "\rtrain:   0%|          | 2/462 [00:09<35:19,  4.61s/it]"
          ]
        },
        {
          "output_type": "stream",
          "name": "stdout",
          "text": [
            "\n",
            "Progress1\n",
            "\n",
            "Progress111\n",
            "torch.Size([4, 256, 10])\n",
            "y_predict.shape:  torch.Size([1024, 10])\n",
            "Progress222\n",
            "Progress2\n",
            "Progress3\n",
            "Progress4\n"
          ]
        },
        {
          "output_type": "stream",
          "name": "stderr",
          "text": [
            "\rtrain:   1%|          | 3/462 [00:14<35:01,  4.58s/it]"
          ]
        },
        {
          "output_type": "stream",
          "name": "stdout",
          "text": [
            "\n",
            "Progress1\n",
            "\n",
            "Progress111\n",
            "torch.Size([4, 256, 10])\n",
            "y_predict.shape:  torch.Size([1024, 10])\n",
            "Progress222\n",
            "Progress2\n",
            "Progress3\n",
            "Progress4\n"
          ]
        },
        {
          "output_type": "stream",
          "name": "stderr",
          "text": [
            "\rtrain:   1%|          | 4/462 [00:17<31:59,  4.19s/it]"
          ]
        },
        {
          "output_type": "stream",
          "name": "stdout",
          "text": [
            "\n",
            "Progress1\n",
            "\n",
            "Progress111\n",
            "torch.Size([4, 256, 10])\n",
            "y_predict.shape:  torch.Size([1024, 10])\n",
            "Progress222\n",
            "Progress2\n",
            "Progress3\n",
            "Progress4\n"
          ]
        },
        {
          "output_type": "stream",
          "name": "stderr",
          "text": [
            "\rtrain:   1%|          | 5/462 [00:21<29:49,  3.92s/it]"
          ]
        },
        {
          "output_type": "stream",
          "name": "stdout",
          "text": [
            "\n",
            "Progress1\n",
            "\n",
            "Progress111\n",
            "torch.Size([4, 256, 10])\n",
            "y_predict.shape:  torch.Size([1024, 10])\n",
            "Progress222\n",
            "Progress2\n",
            "Progress3\n",
            "Progress4\n"
          ]
        },
        {
          "output_type": "stream",
          "name": "stderr",
          "text": [
            "\rtrain:   1%|▏         | 6/462 [00:24<27:47,  3.66s/it]"
          ]
        },
        {
          "output_type": "stream",
          "name": "stdout",
          "text": [
            "\n",
            "Progress1\n",
            "\n",
            "Progress111\n",
            "torch.Size([4, 256, 10])\n",
            "y_predict.shape:  torch.Size([1024, 10])\n",
            "Progress222\n",
            "Progress2\n",
            "Progress3\n",
            "Progress4\n"
          ]
        },
        {
          "output_type": "stream",
          "name": "stderr",
          "text": [
            "\rtrain:   2%|▏         | 7/462 [00:28<28:42,  3.79s/it]"
          ]
        },
        {
          "output_type": "stream",
          "name": "stdout",
          "text": [
            "\n",
            "Progress1\n",
            "\n",
            "Progress111\n",
            "torch.Size([4, 256, 10])\n",
            "y_predict.shape:  torch.Size([1024, 10])\n",
            "Progress222\n",
            "Progress2\n",
            "Progress3\n",
            "Progress4\n"
          ]
        },
        {
          "output_type": "stream",
          "name": "stderr",
          "text": [
            "\rtrain:   2%|▏         | 8/462 [00:32<29:07,  3.85s/it]"
          ]
        },
        {
          "output_type": "stream",
          "name": "stdout",
          "text": [
            "\n",
            "Progress1\n",
            "\n",
            "Progress111\n",
            "torch.Size([4, 256, 10])\n",
            "y_predict.shape:  torch.Size([1024, 10])\n",
            "Progress222\n",
            "Progress2\n",
            "Progress3\n",
            "Progress4\n"
          ]
        },
        {
          "output_type": "stream",
          "name": "stderr",
          "text": [
            "\rtrain:   2%|▏         | 9/462 [00:35<27:13,  3.61s/it]"
          ]
        },
        {
          "output_type": "stream",
          "name": "stdout",
          "text": [
            "\n",
            "Progress1\n",
            "\n",
            "Progress111\n",
            "torch.Size([4, 256, 10])\n",
            "y_predict.shape:  torch.Size([1024, 10])\n",
            "Progress222\n",
            "Progress2\n",
            "Progress3\n",
            "Progress4\n"
          ]
        },
        {
          "output_type": "stream",
          "name": "stderr",
          "text": [
            "\rtrain:   2%|▏         | 10/462 [00:38<25:51,  3.43s/it]"
          ]
        },
        {
          "output_type": "stream",
          "name": "stdout",
          "text": [
            "\n",
            "Progress1\n",
            "\n",
            "Progress111\n",
            "torch.Size([4, 256, 10])\n",
            "y_predict.shape:  torch.Size([1024, 10])\n",
            "Progress222\n",
            "Progress2\n",
            "Progress3\n",
            "Progress4\n"
          ]
        },
        {
          "output_type": "stream",
          "name": "stderr",
          "text": [
            "\rtrain:   2%|▏         | 11/462 [00:42<26:16,  3.50s/it]"
          ]
        },
        {
          "output_type": "stream",
          "name": "stdout",
          "text": [
            "\n",
            "Progress1\n",
            "\n",
            "Progress111\n",
            "torch.Size([4, 256, 10])\n",
            "y_predict.shape:  torch.Size([1024, 10])\n",
            "Progress222\n",
            "Progress2\n",
            "Progress3\n",
            "Progress4\n"
          ]
        },
        {
          "output_type": "stream",
          "name": "stderr",
          "text": [
            "\rtrain:   3%|▎         | 12/462 [00:46<28:13,  3.76s/it]"
          ]
        },
        {
          "output_type": "stream",
          "name": "stdout",
          "text": [
            "\n",
            "Progress1\n",
            "\n",
            "Progress111\n",
            "torch.Size([4, 256, 10])\n",
            "y_predict.shape:  torch.Size([1024, 10])\n",
            "Progress222\n",
            "Progress2\n",
            "Progress3\n",
            "Progress4\n"
          ]
        },
        {
          "output_type": "stream",
          "name": "stderr",
          "text": [
            "\rtrain:   3%|▎         | 13/462 [00:49<26:41,  3.57s/it]"
          ]
        },
        {
          "output_type": "stream",
          "name": "stdout",
          "text": [
            "\n",
            "Progress1\n",
            "\n",
            "Progress111\n",
            "torch.Size([4, 256, 10])\n",
            "y_predict.shape:  torch.Size([1024, 10])\n",
            "Progress222\n",
            "Progress2\n",
            "Progress3\n",
            "Progress4\n"
          ]
        },
        {
          "output_type": "stream",
          "name": "stderr",
          "text": [
            "\rtrain:   3%|▎         | 14/462 [00:52<25:36,  3.43s/it]"
          ]
        },
        {
          "output_type": "stream",
          "name": "stdout",
          "text": [
            "\n",
            "Progress1\n",
            "\n",
            "Progress111\n",
            "torch.Size([4, 256, 10])\n",
            "y_predict.shape:  torch.Size([1024, 10])\n",
            "Progress222\n",
            "Progress2\n",
            "Progress3\n",
            "Progress4\n"
          ]
        },
        {
          "output_type": "stream",
          "name": "stderr",
          "text": [
            "\rtrain:   3%|▎         | 15/462 [00:55<24:50,  3.34s/it]"
          ]
        },
        {
          "output_type": "stream",
          "name": "stdout",
          "text": [
            "\n",
            "Progress1\n",
            "\n",
            "Progress111\n",
            "torch.Size([4, 256, 10])\n",
            "y_predict.shape:  torch.Size([1024, 10])\n",
            "Progress222\n",
            "Progress2\n",
            "Progress3\n",
            "Progress4\n"
          ]
        },
        {
          "output_type": "stream",
          "name": "stderr",
          "text": [
            "\rtrain:   3%|▎         | 16/462 [01:00<27:06,  3.65s/it]"
          ]
        },
        {
          "output_type": "stream",
          "name": "stdout",
          "text": [
            "\n",
            "Progress1\n",
            "\n",
            "Progress111\n",
            "torch.Size([4, 256, 10])\n",
            "y_predict.shape:  torch.Size([1024, 10])\n",
            "Progress222\n",
            "Progress2\n",
            "Progress3\n",
            "Progress4\n"
          ]
        },
        {
          "output_type": "stream",
          "name": "stderr",
          "text": [
            "\rtrain:   4%|▎         | 17/462 [01:03<26:38,  3.59s/it]"
          ]
        },
        {
          "output_type": "stream",
          "name": "stdout",
          "text": [
            "\n",
            "Progress1\n",
            "\n",
            "Progress111\n",
            "torch.Size([4, 256, 10])\n",
            "y_predict.shape:  torch.Size([1024, 10])\n",
            "Progress222\n",
            "Progress2\n",
            "Progress3\n",
            "Progress4\n"
          ]
        },
        {
          "output_type": "stream",
          "name": "stderr",
          "text": [
            "\rtrain:   4%|▍         | 18/462 [01:06<25:10,  3.40s/it]"
          ]
        },
        {
          "output_type": "stream",
          "name": "stdout",
          "text": [
            "\n",
            "Progress1\n",
            "\n",
            "Progress111\n",
            "torch.Size([4, 256, 10])\n",
            "y_predict.shape:  torch.Size([1024, 10])\n",
            "Progress222\n",
            "Progress2\n",
            "Progress3\n",
            "Progress4\n"
          ]
        },
        {
          "output_type": "stream",
          "name": "stderr",
          "text": [
            "\rtrain:   4%|▍         | 19/462 [01:09<24:15,  3.29s/it]"
          ]
        },
        {
          "output_type": "stream",
          "name": "stdout",
          "text": [
            "\n",
            "Progress1\n",
            "\n",
            "Progress111\n",
            "torch.Size([4, 256, 10])\n",
            "y_predict.shape:  torch.Size([1024, 10])\n",
            "Progress222\n",
            "Progress2\n",
            "Progress3\n",
            "Progress4\n"
          ]
        },
        {
          "output_type": "stream",
          "name": "stderr",
          "text": [
            "\rtrain:   4%|▍         | 20/462 [01:13<24:38,  3.35s/it]"
          ]
        },
        {
          "output_type": "stream",
          "name": "stdout",
          "text": [
            "\n",
            "Progress1\n",
            "\n",
            "Progress111\n",
            "torch.Size([4, 256, 10])\n",
            "y_predict.shape:  torch.Size([1024, 10])\n",
            "Progress222\n",
            "Progress2\n",
            "Progress3\n",
            "Progress4\n"
          ]
        },
        {
          "output_type": "stream",
          "name": "stderr",
          "text": [
            "\rtrain:   5%|▍         | 21/462 [01:17<26:46,  3.64s/it]"
          ]
        },
        {
          "output_type": "stream",
          "name": "stdout",
          "text": [
            "\n",
            "Progress1\n",
            "\n",
            "Progress111\n",
            "torch.Size([4, 256, 10])\n",
            "y_predict.shape:  torch.Size([1024, 10])\n",
            "Progress222\n",
            "Progress2\n",
            "Progress3\n",
            "Progress4\n"
          ]
        },
        {
          "output_type": "stream",
          "name": "stderr",
          "text": [
            "\rtrain:   5%|▍         | 22/462 [01:20<25:34,  3.49s/it]"
          ]
        },
        {
          "output_type": "stream",
          "name": "stdout",
          "text": [
            "\n",
            "Progress1\n",
            "\n",
            "Progress111\n",
            "torch.Size([4, 256, 10])\n",
            "y_predict.shape:  torch.Size([1024, 10])\n",
            "Progress222\n",
            "Progress2\n",
            "Progress3\n",
            "Progress4\n"
          ]
        },
        {
          "output_type": "stream",
          "name": "stderr",
          "text": [
            "\rtrain:   5%|▍         | 23/462 [01:23<24:36,  3.36s/it]"
          ]
        },
        {
          "output_type": "stream",
          "name": "stdout",
          "text": [
            "\n",
            "Progress1\n",
            "\n",
            "Progress111\n",
            "torch.Size([4, 256, 10])\n",
            "y_predict.shape:  torch.Size([1024, 10])\n",
            "Progress222\n",
            "Progress2\n",
            "Progress3\n",
            "Progress4\n"
          ]
        },
        {
          "output_type": "stream",
          "name": "stderr",
          "text": [
            "\rtrain:   5%|▌         | 24/462 [01:27<25:01,  3.43s/it]"
          ]
        },
        {
          "output_type": "stream",
          "name": "stdout",
          "text": [
            "\n",
            "Progress1\n",
            "\n",
            "Progress111\n",
            "torch.Size([4, 256, 10])\n",
            "y_predict.shape:  torch.Size([1024, 10])\n",
            "Progress222\n",
            "Progress2\n",
            "Progress3\n",
            "Progress4\n"
          ]
        },
        {
          "output_type": "stream",
          "name": "stderr",
          "text": [
            "\rtrain:   5%|▌         | 25/462 [01:31<26:59,  3.71s/it]"
          ]
        },
        {
          "output_type": "stream",
          "name": "stdout",
          "text": [
            "\n",
            "Progress1\n",
            "\n",
            "Progress111\n",
            "torch.Size([4, 256, 10])\n",
            "y_predict.shape:  torch.Size([1024, 10])\n",
            "Progress222\n",
            "Progress2\n",
            "Progress3\n",
            "Progress4\n"
          ]
        },
        {
          "output_type": "stream",
          "name": "stderr",
          "text": [
            "\rtrain:   6%|▌         | 26/462 [01:34<25:35,  3.52s/it]"
          ]
        },
        {
          "output_type": "stream",
          "name": "stdout",
          "text": [
            "\n",
            "Progress1\n",
            "\n",
            "Progress111\n",
            "torch.Size([4, 256, 10])\n",
            "y_predict.shape:  torch.Size([1024, 10])\n",
            "Progress222\n",
            "Progress2\n",
            "Progress3\n",
            "Progress4\n"
          ]
        },
        {
          "output_type": "stream",
          "name": "stderr",
          "text": [
            "\rtrain:   6%|▌         | 27/462 [01:37<24:32,  3.39s/it]"
          ]
        },
        {
          "output_type": "stream",
          "name": "stdout",
          "text": [
            "\n",
            "Progress1\n",
            "\n",
            "Progress111\n",
            "torch.Size([4, 256, 10])\n",
            "y_predict.shape:  torch.Size([1024, 10])\n",
            "Progress222\n",
            "Progress2\n",
            "Progress3\n",
            "Progress4\n"
          ]
        },
        {
          "output_type": "stream",
          "name": "stderr",
          "text": [
            "\rtrain:   6%|▌         | 28/462 [01:41<24:07,  3.34s/it]"
          ]
        },
        {
          "output_type": "stream",
          "name": "stdout",
          "text": [
            "\n",
            "Progress1\n",
            "\n",
            "Progress111\n",
            "torch.Size([4, 256, 10])\n",
            "y_predict.shape:  torch.Size([1024, 10])\n",
            "Progress222\n",
            "Progress2\n",
            "Progress3\n",
            "Progress4\n"
          ]
        },
        {
          "output_type": "stream",
          "name": "stderr",
          "text": [
            "\rtrain:   6%|▋         | 29/462 [01:45<26:49,  3.72s/it]"
          ]
        },
        {
          "output_type": "stream",
          "name": "stdout",
          "text": [
            "\n",
            "Progress1\n",
            "\n",
            "Progress111\n",
            "torch.Size([4, 256, 10])\n",
            "y_predict.shape:  torch.Size([1024, 10])\n",
            "Progress222\n",
            "Progress2\n",
            "Progress3\n",
            "Progress4\n"
          ]
        },
        {
          "output_type": "stream",
          "name": "stderr",
          "text": [
            "\rtrain:   6%|▋         | 30/462 [01:49<25:58,  3.61s/it]"
          ]
        },
        {
          "output_type": "stream",
          "name": "stdout",
          "text": [
            "\n",
            "Progress1\n",
            "\n",
            "Progress111\n",
            "torch.Size([4, 256, 10])\n",
            "y_predict.shape:  torch.Size([1024, 10])\n",
            "Progress222\n",
            "Progress2\n",
            "Progress3\n",
            "Progress4\n"
          ]
        },
        {
          "output_type": "stream",
          "name": "stderr",
          "text": [
            "\rtrain:   7%|▋         | 31/462 [01:52<24:36,  3.42s/it]"
          ]
        },
        {
          "output_type": "stream",
          "name": "stdout",
          "text": [
            "\n",
            "Progress1\n",
            "\n",
            "Progress111\n",
            "torch.Size([4, 256, 10])\n",
            "y_predict.shape:  torch.Size([1024, 10])\n",
            "Progress222\n",
            "Progress2\n",
            "Progress3\n",
            "Progress4\n"
          ]
        },
        {
          "output_type": "stream",
          "name": "stderr",
          "text": [
            "\rtrain:   7%|▋         | 32/462 [01:54<23:29,  3.28s/it]"
          ]
        },
        {
          "output_type": "stream",
          "name": "stdout",
          "text": [
            "\n",
            "Progress1\n",
            "\n",
            "Progress111\n",
            "torch.Size([4, 256, 10])\n",
            "y_predict.shape:  torch.Size([1024, 10])\n",
            "Progress222\n",
            "Progress2\n",
            "Progress3\n",
            "Progress4\n"
          ]
        },
        {
          "output_type": "stream",
          "name": "stderr",
          "text": [
            "\rtrain:   7%|▋         | 33/462 [01:58<24:24,  3.41s/it]"
          ]
        },
        {
          "output_type": "stream",
          "name": "stdout",
          "text": [
            "\n",
            "Progress1\n",
            "\n",
            "Progress111\n",
            "torch.Size([4, 256, 10])\n",
            "y_predict.shape:  torch.Size([1024, 10])\n",
            "Progress222\n",
            "Progress2\n",
            "Progress3\n",
            "Progress4\n"
          ]
        },
        {
          "output_type": "stream",
          "name": "stderr",
          "text": [
            "\rtrain:   7%|▋         | 34/462 [02:02<25:35,  3.59s/it]"
          ]
        },
        {
          "output_type": "stream",
          "name": "stdout",
          "text": [
            "\n",
            "Progress1\n",
            "\n",
            "Progress111\n",
            "torch.Size([4, 256, 10])\n",
            "y_predict.shape:  torch.Size([1024, 10])\n",
            "Progress222\n",
            "Progress2\n",
            "Progress3\n",
            "Progress4\n"
          ]
        },
        {
          "output_type": "stream",
          "name": "stderr",
          "text": [
            "\rtrain:   8%|▊         | 35/462 [02:05<24:06,  3.39s/it]"
          ]
        },
        {
          "output_type": "stream",
          "name": "stdout",
          "text": [
            "\n",
            "Progress1\n",
            "\n",
            "Progress111\n",
            "torch.Size([4, 256, 10])\n",
            "y_predict.shape:  torch.Size([1024, 10])\n",
            "Progress222\n",
            "Progress2\n",
            "Progress3\n",
            "Progress4\n"
          ]
        },
        {
          "output_type": "stream",
          "name": "stderr",
          "text": [
            "\rtrain:   8%|▊         | 36/462 [02:08<23:18,  3.28s/it]"
          ]
        },
        {
          "output_type": "stream",
          "name": "stdout",
          "text": [
            "\n",
            "Progress1\n",
            "\n",
            "Progress111\n",
            "torch.Size([4, 256, 10])\n",
            "y_predict.shape:  torch.Size([1024, 10])\n",
            "Progress222\n",
            "Progress2\n",
            "Progress3\n",
            "Progress4\n"
          ]
        },
        {
          "output_type": "stream",
          "name": "stderr",
          "text": [
            "\rtrain:   8%|▊         | 37/462 [02:11<23:02,  3.25s/it]"
          ]
        },
        {
          "output_type": "stream",
          "name": "stdout",
          "text": [
            "\n",
            "Progress1\n",
            "\n",
            "Progress111\n",
            "torch.Size([4, 256, 10])\n",
            "y_predict.shape:  torch.Size([1024, 10])\n",
            "Progress222\n",
            "Progress2\n",
            "Progress3\n",
            "Progress4\n"
          ]
        },
        {
          "output_type": "stream",
          "name": "stderr",
          "text": [
            "\rtrain:   8%|▊         | 38/462 [02:16<25:45,  3.65s/it]"
          ]
        },
        {
          "output_type": "stream",
          "name": "stdout",
          "text": [
            "\n",
            "Progress1\n",
            "\n",
            "Progress111\n",
            "torch.Size([4, 256, 10])\n",
            "y_predict.shape:  torch.Size([1024, 10])\n",
            "Progress222\n",
            "Progress2\n",
            "Progress3\n",
            "Progress4\n"
          ]
        },
        {
          "output_type": "stream",
          "name": "stderr",
          "text": [
            "\rtrain:   8%|▊         | 39/462 [02:19<25:07,  3.56s/it]"
          ]
        },
        {
          "output_type": "stream",
          "name": "stdout",
          "text": [
            "\n",
            "Progress1\n",
            "\n",
            "Progress111\n",
            "torch.Size([4, 256, 10])\n",
            "y_predict.shape:  torch.Size([1024, 10])\n",
            "Progress222\n",
            "Progress2\n",
            "Progress3\n",
            "Progress4\n"
          ]
        },
        {
          "output_type": "stream",
          "name": "stderr",
          "text": [
            "\rtrain:   9%|▊         | 40/462 [02:22<23:58,  3.41s/it]"
          ]
        },
        {
          "output_type": "stream",
          "name": "stdout",
          "text": [
            "\n",
            "Progress1\n",
            "\n",
            "Progress111\n",
            "torch.Size([4, 256, 10])\n",
            "y_predict.shape:  torch.Size([1024, 10])\n",
            "Progress222\n",
            "Progress2\n",
            "Progress3\n",
            "Progress4\n"
          ]
        },
        {
          "output_type": "stream",
          "name": "stderr",
          "text": [
            "\rtrain:   9%|▉         | 41/462 [02:25<23:04,  3.29s/it]"
          ]
        },
        {
          "output_type": "stream",
          "name": "stdout",
          "text": [
            "\n",
            "Progress1\n",
            "\n",
            "Progress111\n",
            "torch.Size([4, 256, 10])\n",
            "y_predict.shape:  torch.Size([1024, 10])\n",
            "Progress222\n",
            "Progress2\n",
            "Progress3\n",
            "Progress4\n"
          ]
        },
        {
          "output_type": "stream",
          "name": "stderr",
          "text": [
            "\rtrain:   9%|▉         | 42/462 [02:29<24:36,  3.51s/it]"
          ]
        },
        {
          "output_type": "stream",
          "name": "stdout",
          "text": [
            "\n",
            "Progress1\n",
            "\n",
            "Progress111\n",
            "torch.Size([4, 256, 10])\n",
            "y_predict.shape:  torch.Size([1024, 10])\n",
            "Progress222\n",
            "Progress2\n",
            "Progress3\n",
            "Progress4\n"
          ]
        },
        {
          "output_type": "stream",
          "name": "stderr",
          "text": [
            "\rtrain:   9%|▉         | 43/462 [02:33<25:30,  3.65s/it]"
          ]
        },
        {
          "output_type": "stream",
          "name": "stdout",
          "text": [
            "\n",
            "Progress1\n",
            "\n",
            "Progress111\n",
            "torch.Size([4, 256, 10])\n",
            "y_predict.shape:  torch.Size([1024, 10])\n",
            "Progress222\n",
            "Progress2\n",
            "Progress3\n",
            "Progress4\n"
          ]
        },
        {
          "output_type": "stream",
          "name": "stderr",
          "text": [
            "\rtrain:  10%|▉         | 44/462 [02:36<24:14,  3.48s/it]"
          ]
        },
        {
          "output_type": "stream",
          "name": "stdout",
          "text": [
            "\n",
            "Progress1\n",
            "\n",
            "Progress111\n",
            "torch.Size([4, 256, 10])\n",
            "y_predict.shape:  torch.Size([1024, 10])\n",
            "Progress222\n",
            "Progress2\n",
            "Progress3\n",
            "Progress4\n"
          ]
        },
        {
          "output_type": "stream",
          "name": "stderr",
          "text": [
            "\rtrain:  10%|▉         | 45/462 [02:40<23:24,  3.37s/it]"
          ]
        },
        {
          "output_type": "stream",
          "name": "stdout",
          "text": [
            "\n",
            "Progress1\n",
            "\n",
            "Progress111\n",
            "torch.Size([4, 256, 10])\n",
            "y_predict.shape:  torch.Size([1024, 10])\n",
            "Progress222\n",
            "Progress2\n",
            "Progress3\n",
            "Progress4\n"
          ]
        },
        {
          "output_type": "stream",
          "name": "stderr",
          "text": [
            "\rtrain:  10%|▉         | 46/462 [02:43<23:37,  3.41s/it]"
          ]
        },
        {
          "output_type": "stream",
          "name": "stdout",
          "text": [
            "\n",
            "Progress1\n",
            "\n",
            "Progress111\n",
            "torch.Size([4, 256, 10])\n",
            "y_predict.shape:  torch.Size([1024, 10])\n",
            "Progress222\n",
            "Progress2\n",
            "Progress3\n",
            "Progress4\n"
          ]
        },
        {
          "output_type": "stream",
          "name": "stderr",
          "text": [
            "\rtrain:  10%|█         | 47/462 [02:47<25:14,  3.65s/it]"
          ]
        },
        {
          "output_type": "stream",
          "name": "stdout",
          "text": [
            "\n",
            "Progress1\n",
            "\n",
            "Progress111\n",
            "torch.Size([4, 256, 10])\n",
            "y_predict.shape:  torch.Size([1024, 10])\n",
            "Progress222\n",
            "Progress2\n",
            "Progress3\n",
            "Progress4\n"
          ]
        },
        {
          "output_type": "stream",
          "name": "stderr",
          "text": [
            "\rtrain:  10%|█         | 48/462 [02:50<23:46,  3.45s/it]"
          ]
        },
        {
          "output_type": "stream",
          "name": "stdout",
          "text": [
            "\n",
            "Progress1\n",
            "\n",
            "Progress111\n",
            "torch.Size([4, 256, 10])\n",
            "y_predict.shape:  torch.Size([1024, 10])\n",
            "Progress222\n",
            "Progress2\n",
            "Progress3\n",
            "Progress4\n"
          ]
        },
        {
          "output_type": "stream",
          "name": "stderr",
          "text": [
            "\rtrain:  11%|█         | 49/462 [02:53<22:35,  3.28s/it]"
          ]
        },
        {
          "output_type": "stream",
          "name": "stdout",
          "text": [
            "\n",
            "Progress1\n",
            "\n",
            "Progress111\n",
            "torch.Size([4, 256, 10])\n",
            "y_predict.shape:  torch.Size([1024, 10])\n",
            "Progress222\n",
            "Progress2\n",
            "Progress3\n",
            "Progress4\n"
          ]
        },
        {
          "output_type": "stream",
          "name": "stderr",
          "text": [
            "\rtrain:  11%|█         | 50/462 [02:56<21:57,  3.20s/it]"
          ]
        },
        {
          "output_type": "stream",
          "name": "stdout",
          "text": [
            "\n",
            "Progress1\n",
            "\n",
            "Progress111\n",
            "torch.Size([4, 256, 10])\n",
            "y_predict.shape:  torch.Size([1024, 10])\n",
            "Progress222\n",
            "Progress2\n",
            "Progress3\n",
            "Progress4\n"
          ]
        },
        {
          "output_type": "stream",
          "name": "stderr",
          "text": [
            "\rtrain:  11%|█         | 51/462 [03:00<24:06,  3.52s/it]"
          ]
        },
        {
          "output_type": "stream",
          "name": "stdout",
          "text": [
            "\n",
            "Progress1\n",
            "\n",
            "Progress111\n",
            "torch.Size([4, 256, 10])\n",
            "y_predict.shape:  torch.Size([1024, 10])\n",
            "Progress222\n",
            "Progress2\n",
            "Progress3\n",
            "Progress4\n"
          ]
        },
        {
          "output_type": "stream",
          "name": "stderr",
          "text": [
            "\rtrain:  11%|█▏        | 52/462 [03:04<24:08,  3.53s/it]"
          ]
        },
        {
          "output_type": "stream",
          "name": "stdout",
          "text": [
            "\n",
            "Progress1\n",
            "\n",
            "Progress111\n",
            "torch.Size([4, 256, 10])\n",
            "y_predict.shape:  torch.Size([1024, 10])\n",
            "Progress222\n",
            "Progress2\n",
            "Progress3\n",
            "Progress4\n"
          ]
        },
        {
          "output_type": "stream",
          "name": "stderr",
          "text": [
            "\rtrain:  11%|█▏        | 53/462 [03:07<23:09,  3.40s/it]"
          ]
        },
        {
          "output_type": "stream",
          "name": "stdout",
          "text": [
            "\n",
            "Progress1\n",
            "\n",
            "Progress111\n",
            "torch.Size([4, 256, 10])\n",
            "y_predict.shape:  torch.Size([1024, 10])\n",
            "Progress222\n",
            "Progress2\n",
            "Progress3\n",
            "Progress4\n"
          ]
        },
        {
          "output_type": "stream",
          "name": "stderr",
          "text": [
            "\rtrain:  12%|█▏        | 54/462 [03:10<22:26,  3.30s/it]"
          ]
        },
        {
          "output_type": "stream",
          "name": "stdout",
          "text": [
            "\n",
            "Progress1\n",
            "\n",
            "Progress111\n",
            "torch.Size([4, 256, 10])\n",
            "y_predict.shape:  torch.Size([1024, 10])\n",
            "Progress222\n",
            "Progress2\n",
            "Progress3\n",
            "Progress4\n"
          ]
        },
        {
          "output_type": "stream",
          "name": "stderr",
          "text": [
            "\rtrain:  12%|█▏        | 55/462 [03:14<23:39,  3.49s/it]"
          ]
        },
        {
          "output_type": "stream",
          "name": "stdout",
          "text": [
            "\n",
            "Progress1\n",
            "\n",
            "Progress111\n",
            "torch.Size([4, 256, 10])\n",
            "y_predict.shape:  torch.Size([1024, 10])\n",
            "Progress222\n",
            "Progress2\n",
            "Progress3\n",
            "Progress4\n"
          ]
        },
        {
          "output_type": "stream",
          "name": "stderr",
          "text": [
            "\rtrain:  12%|█▏        | 56/462 [03:18<24:52,  3.68s/it]"
          ]
        },
        {
          "output_type": "stream",
          "name": "stdout",
          "text": [
            "\n",
            "Progress1\n",
            "\n",
            "Progress111\n",
            "torch.Size([4, 256, 10])\n",
            "y_predict.shape:  torch.Size([1024, 10])\n",
            "Progress222\n",
            "Progress2\n",
            "Progress3\n",
            "Progress4\n"
          ]
        },
        {
          "output_type": "stream",
          "name": "stderr",
          "text": [
            "\rtrain:  12%|█▏        | 57/462 [03:21<23:32,  3.49s/it]"
          ]
        },
        {
          "output_type": "stream",
          "name": "stdout",
          "text": [
            "\n",
            "Progress1\n",
            "\n",
            "Progress111\n",
            "torch.Size([4, 256, 10])\n",
            "y_predict.shape:  torch.Size([1024, 10])\n",
            "Progress222\n",
            "Progress2\n",
            "Progress3\n",
            "Progress4\n"
          ]
        },
        {
          "output_type": "stream",
          "name": "stderr",
          "text": [
            "\rtrain:  13%|█▎        | 58/462 [03:24<22:44,  3.38s/it]"
          ]
        },
        {
          "output_type": "stream",
          "name": "stdout",
          "text": [
            "\n",
            "Progress1\n",
            "\n",
            "Progress111\n",
            "torch.Size([4, 256, 10])\n",
            "y_predict.shape:  torch.Size([1024, 10])\n",
            "Progress222\n",
            "Progress2\n",
            "Progress3\n",
            "Progress4\n"
          ]
        },
        {
          "output_type": "stream",
          "name": "stderr",
          "text": [
            "\rtrain:  13%|█▎        | 59/462 [03:28<23:05,  3.44s/it]"
          ]
        },
        {
          "output_type": "stream",
          "name": "stdout",
          "text": [
            "\n",
            "Progress1\n",
            "\n",
            "Progress111\n",
            "torch.Size([4, 256, 10])\n",
            "y_predict.shape:  torch.Size([1024, 10])\n",
            "Progress222\n",
            "Progress2\n",
            "Progress3\n",
            "Progress4\n"
          ]
        },
        {
          "output_type": "stream",
          "name": "stderr",
          "text": [
            "\rtrain:  13%|█▎        | 60/462 [03:32<25:02,  3.74s/it]"
          ]
        },
        {
          "output_type": "stream",
          "name": "stdout",
          "text": [
            "\n",
            "Progress1\n",
            "\n",
            "Progress111\n",
            "torch.Size([4, 256, 10])\n",
            "y_predict.shape:  torch.Size([1024, 10])\n",
            "Progress222\n",
            "Progress2\n",
            "Progress3\n",
            "Progress4\n"
          ]
        },
        {
          "output_type": "stream",
          "name": "stderr",
          "text": [
            "\rtrain:  13%|█▎        | 61/462 [03:35<23:39,  3.54s/it]"
          ]
        },
        {
          "output_type": "stream",
          "name": "stdout",
          "text": [
            "\n",
            "Progress1\n",
            "\n",
            "Progress111\n",
            "torch.Size([4, 256, 10])\n",
            "y_predict.shape:  torch.Size([1024, 10])\n",
            "Progress222\n",
            "Progress2\n",
            "Progress3\n",
            "Progress4\n"
          ]
        },
        {
          "output_type": "stream",
          "name": "stderr",
          "text": [
            "\rtrain:  13%|█▎        | 62/462 [03:38<22:36,  3.39s/it]"
          ]
        },
        {
          "output_type": "stream",
          "name": "stdout",
          "text": [
            "\n",
            "Progress1\n",
            "\n",
            "Progress111\n",
            "torch.Size([4, 256, 10])\n",
            "y_predict.shape:  torch.Size([1024, 10])\n",
            "Progress222\n",
            "Progress2\n",
            "Progress3\n",
            "Progress4\n"
          ]
        },
        {
          "output_type": "stream",
          "name": "stderr",
          "text": [
            "\rtrain:  14%|█▎        | 63/462 [03:41<21:47,  3.28s/it]"
          ]
        },
        {
          "output_type": "stream",
          "name": "stdout",
          "text": [
            "\n",
            "Progress1\n",
            "\n",
            "Progress111\n",
            "torch.Size([4, 256, 10])\n",
            "y_predict.shape:  torch.Size([1024, 10])\n",
            "Progress222\n",
            "Progress2\n",
            "Progress3\n",
            "Progress4\n"
          ]
        },
        {
          "output_type": "stream",
          "name": "stderr",
          "text": [
            "\rtrain:  14%|█▍        | 64/462 [03:45<22:48,  3.44s/it]"
          ]
        },
        {
          "output_type": "stream",
          "name": "stdout",
          "text": [
            "\n",
            "Progress1\n",
            "\n",
            "Progress111\n",
            "torch.Size([4, 256, 10])\n",
            "y_predict.shape:  torch.Size([1024, 10])\n",
            "Progress222\n",
            "Progress2\n",
            "Progress3\n",
            "Progress4\n"
          ]
        },
        {
          "output_type": "stream",
          "name": "stderr",
          "text": [
            "\rtrain:  14%|█▍        | 65/462 [03:49<23:59,  3.63s/it]"
          ]
        },
        {
          "output_type": "stream",
          "name": "stdout",
          "text": [
            "\n",
            "Progress1\n",
            "\n",
            "Progress111\n",
            "torch.Size([4, 256, 10])\n",
            "y_predict.shape:  torch.Size([1024, 10])\n",
            "Progress222\n",
            "Progress2\n",
            "Progress3\n",
            "Progress4\n"
          ]
        },
        {
          "output_type": "stream",
          "name": "stderr",
          "text": [
            "\rtrain:  14%|█▍        | 66/462 [03:52<22:37,  3.43s/it]"
          ]
        },
        {
          "output_type": "stream",
          "name": "stdout",
          "text": [
            "\n",
            "Progress1\n",
            "\n",
            "Progress111\n",
            "torch.Size([4, 256, 10])\n",
            "y_predict.shape:  torch.Size([1024, 10])\n",
            "Progress222\n",
            "Progress2\n",
            "Progress3\n",
            "Progress4\n"
          ]
        },
        {
          "output_type": "stream",
          "name": "stderr",
          "text": [
            "\rtrain:  15%|█▍        | 67/462 [03:55<21:42,  3.30s/it]"
          ]
        },
        {
          "output_type": "stream",
          "name": "stdout",
          "text": [
            "\n",
            "Progress1\n",
            "\n",
            "Progress111\n",
            "torch.Size([4, 256, 10])\n",
            "y_predict.shape:  torch.Size([1024, 10])\n",
            "Progress222\n",
            "Progress2\n",
            "Progress3\n",
            "Progress4\n"
          ]
        },
        {
          "output_type": "stream",
          "name": "stderr",
          "text": [
            "\rtrain:  15%|█▍        | 68/462 [03:58<21:09,  3.22s/it]"
          ]
        },
        {
          "output_type": "stream",
          "name": "stdout",
          "text": [
            "\n",
            "Progress1\n",
            "\n",
            "Progress111\n",
            "torch.Size([4, 256, 10])\n",
            "y_predict.shape:  torch.Size([1024, 10])\n",
            "Progress222\n",
            "Progress2\n",
            "Progress3\n",
            "Progress4\n"
          ]
        },
        {
          "output_type": "stream",
          "name": "stderr",
          "text": [
            "\rtrain:  15%|█▍        | 69/462 [04:03<23:06,  3.53s/it]"
          ]
        },
        {
          "output_type": "stream",
          "name": "stdout",
          "text": [
            "\n",
            "Progress1\n",
            "\n",
            "Progress111\n",
            "torch.Size([4, 256, 10])\n",
            "y_predict.shape:  torch.Size([1024, 10])\n",
            "Progress222\n",
            "Progress2\n",
            "Progress3\n",
            "Progress4\n"
          ]
        },
        {
          "output_type": "stream",
          "name": "stderr",
          "text": [
            "\rtrain:  15%|█▌        | 70/462 [04:06<23:31,  3.60s/it]"
          ]
        },
        {
          "output_type": "stream",
          "name": "stdout",
          "text": [
            "\n",
            "Progress1\n",
            "\n",
            "Progress111\n",
            "torch.Size([4, 256, 10])\n",
            "y_predict.shape:  torch.Size([1024, 10])\n",
            "Progress222\n",
            "Progress2\n",
            "Progress3\n",
            "Progress4\n"
          ]
        },
        {
          "output_type": "stream",
          "name": "stderr",
          "text": [
            "\rtrain:  15%|█▌        | 71/462 [04:09<22:29,  3.45s/it]"
          ]
        },
        {
          "output_type": "stream",
          "name": "stdout",
          "text": [
            "\n",
            "Progress1\n",
            "\n",
            "Progress111\n",
            "torch.Size([4, 256, 10])\n",
            "y_predict.shape:  torch.Size([1024, 10])\n",
            "Progress222\n",
            "Progress2\n",
            "Progress3\n",
            "Progress4\n"
          ]
        },
        {
          "output_type": "stream",
          "name": "stderr",
          "text": [
            "\rtrain:  16%|█▌        | 72/462 [04:13<21:39,  3.33s/it]"
          ]
        },
        {
          "output_type": "stream",
          "name": "stdout",
          "text": [
            "\n",
            "Progress1\n",
            "\n",
            "Progress111\n",
            "torch.Size([4, 256, 10])\n",
            "y_predict.shape:  torch.Size([1024, 10])\n",
            "Progress222\n",
            "Progress2\n",
            "Progress3\n",
            "Progress4\n"
          ]
        },
        {
          "output_type": "stream",
          "name": "stderr",
          "text": [
            "\rtrain:  16%|█▌        | 73/462 [04:16<22:15,  3.43s/it]"
          ]
        },
        {
          "output_type": "stream",
          "name": "stdout",
          "text": [
            "\n",
            "Progress1\n",
            "\n",
            "Progress111\n",
            "torch.Size([4, 256, 10])\n",
            "y_predict.shape:  torch.Size([1024, 10])\n",
            "Progress222\n",
            "Progress2\n",
            "Progress3\n",
            "Progress4\n"
          ]
        },
        {
          "output_type": "stream",
          "name": "stderr",
          "text": [
            "\rtrain:  16%|█▌        | 74/462 [04:20<23:42,  3.67s/it]"
          ]
        },
        {
          "output_type": "stream",
          "name": "stdout",
          "text": [
            "\n",
            "Progress1\n",
            "\n",
            "Progress111\n",
            "torch.Size([4, 256, 10])\n",
            "y_predict.shape:  torch.Size([1024, 10])\n",
            "Progress222\n",
            "Progress2\n",
            "Progress3\n",
            "Progress4\n"
          ]
        },
        {
          "output_type": "stream",
          "name": "stderr",
          "text": [
            "\rtrain:  16%|█▌        | 75/462 [04:23<22:31,  3.49s/it]"
          ]
        },
        {
          "output_type": "stream",
          "name": "stdout",
          "text": [
            "\n",
            "Progress1\n",
            "\n",
            "Progress111\n",
            "torch.Size([4, 256, 10])\n",
            "y_predict.shape:  torch.Size([1024, 10])\n",
            "Progress222\n",
            "Progress2\n",
            "Progress3\n",
            "Progress4\n"
          ]
        },
        {
          "output_type": "stream",
          "name": "stderr",
          "text": [
            "\rtrain:  16%|█▋        | 76/462 [04:27<21:41,  3.37s/it]"
          ]
        },
        {
          "output_type": "stream",
          "name": "stdout",
          "text": [
            "\n",
            "Progress1\n",
            "\n",
            "Progress111\n",
            "torch.Size([4, 256, 10])\n",
            "y_predict.shape:  torch.Size([1024, 10])\n",
            "Progress222\n",
            "Progress2\n",
            "Progress3\n",
            "Progress4\n"
          ]
        },
        {
          "output_type": "stream",
          "name": "stderr",
          "text": [
            "\rtrain:  17%|█▋        | 77/462 [04:30<21:53,  3.41s/it]"
          ]
        },
        {
          "output_type": "stream",
          "name": "stdout",
          "text": [
            "\n",
            "Progress1\n",
            "\n",
            "Progress111\n",
            "torch.Size([4, 256, 10])\n",
            "y_predict.shape:  torch.Size([1024, 10])\n",
            "Progress222\n",
            "Progress2\n",
            "Progress3\n",
            "Progress4\n"
          ]
        },
        {
          "output_type": "stream",
          "name": "stderr",
          "text": [
            "\rtrain:  17%|█▋        | 78/462 [04:34<23:37,  3.69s/it]"
          ]
        },
        {
          "output_type": "stream",
          "name": "stdout",
          "text": [
            "\n",
            "Progress1\n",
            "\n",
            "Progress111\n",
            "torch.Size([4, 256, 10])\n",
            "y_predict.shape:  torch.Size([1024, 10])\n",
            "Progress222\n",
            "Progress2\n",
            "Progress3\n",
            "Progress4\n"
          ]
        },
        {
          "output_type": "stream",
          "name": "stderr",
          "text": [
            "\rtrain:  17%|█▋        | 79/462 [04:37<22:10,  3.47s/it]"
          ]
        },
        {
          "output_type": "stream",
          "name": "stdout",
          "text": [
            "\n",
            "Progress1\n",
            "\n",
            "Progress111\n",
            "torch.Size([4, 256, 10])\n",
            "y_predict.shape:  torch.Size([1024, 10])\n",
            "Progress222\n",
            "Progress2\n",
            "Progress3\n",
            "Progress4\n"
          ]
        },
        {
          "output_type": "stream",
          "name": "stderr",
          "text": [
            "\rtrain:  17%|█▋        | 80/462 [04:40<21:02,  3.31s/it]"
          ]
        },
        {
          "output_type": "stream",
          "name": "stdout",
          "text": [
            "\n",
            "Progress1\n",
            "\n",
            "Progress111\n",
            "torch.Size([4, 256, 10])\n",
            "y_predict.shape:  torch.Size([1024, 10])\n",
            "Progress222\n",
            "Progress2\n",
            "Progress3\n",
            "Progress4\n"
          ]
        },
        {
          "output_type": "stream",
          "name": "stderr",
          "text": [
            "\rtrain:  18%|█▊        | 81/462 [04:43<20:20,  3.20s/it]"
          ]
        },
        {
          "output_type": "stream",
          "name": "stdout",
          "text": [
            "\n",
            "Progress1\n",
            "\n",
            "Progress111\n",
            "torch.Size([4, 256, 10])\n",
            "y_predict.shape:  torch.Size([1024, 10])\n",
            "Progress222\n",
            "Progress2\n",
            "Progress3\n",
            "Progress4\n"
          ]
        },
        {
          "output_type": "stream",
          "name": "stderr",
          "text": [
            "\rtrain:  18%|█▊        | 82/462 [04:48<22:22,  3.53s/it]"
          ]
        },
        {
          "output_type": "stream",
          "name": "stdout",
          "text": [
            "\n",
            "Progress1\n",
            "\n",
            "Progress111\n",
            "torch.Size([4, 256, 10])\n",
            "y_predict.shape:  torch.Size([1024, 10])\n",
            "Progress222\n",
            "Progress2\n",
            "Progress3\n",
            "Progress4\n"
          ]
        },
        {
          "output_type": "stream",
          "name": "stderr",
          "text": [
            "\rtrain:  18%|█▊        | 83/462 [04:51<22:05,  3.50s/it]"
          ]
        },
        {
          "output_type": "stream",
          "name": "stdout",
          "text": [
            "\n",
            "Progress1\n",
            "\n",
            "Progress111\n",
            "torch.Size([4, 256, 10])\n",
            "y_predict.shape:  torch.Size([1024, 10])\n",
            "Progress222\n",
            "Progress2\n",
            "Progress3\n",
            "Progress4\n"
          ]
        },
        {
          "output_type": "stream",
          "name": "stderr",
          "text": [
            "\rtrain:  18%|█▊        | 84/462 [04:54<21:13,  3.37s/it]"
          ]
        },
        {
          "output_type": "stream",
          "name": "stdout",
          "text": [
            "\n",
            "Progress1\n",
            "\n",
            "Progress111\n",
            "torch.Size([4, 256, 10])\n",
            "y_predict.shape:  torch.Size([1024, 10])\n",
            "Progress222\n",
            "Progress2\n",
            "Progress3\n",
            "Progress4\n"
          ]
        },
        {
          "output_type": "stream",
          "name": "stderr",
          "text": [
            "\rtrain:  18%|█▊        | 85/462 [04:57<20:34,  3.28s/it]"
          ]
        },
        {
          "output_type": "stream",
          "name": "stdout",
          "text": [
            "\n",
            "Progress1\n",
            "\n",
            "Progress111\n",
            "torch.Size([4, 256, 10])\n",
            "y_predict.shape:  torch.Size([1024, 10])\n",
            "Progress222\n",
            "Progress2\n",
            "Progress3\n",
            "Progress4\n"
          ]
        },
        {
          "output_type": "stream",
          "name": "stderr",
          "text": [
            "\rtrain:  19%|█▊        | 86/462 [05:01<21:06,  3.37s/it]"
          ]
        },
        {
          "output_type": "stream",
          "name": "stdout",
          "text": [
            "\n",
            "Progress1\n",
            "\n",
            "Progress111\n",
            "torch.Size([4, 256, 10])\n",
            "y_predict.shape:  torch.Size([1024, 10])\n",
            "Progress222\n",
            "Progress2\n",
            "Progress3\n",
            "Progress4\n"
          ]
        },
        {
          "output_type": "stream",
          "name": "stderr",
          "text": [
            "\rtrain:  19%|█▉        | 87/462 [05:05<23:11,  3.71s/it]"
          ]
        },
        {
          "output_type": "stream",
          "name": "stdout",
          "text": [
            "\n",
            "Progress1\n",
            "\n",
            "Progress111\n",
            "torch.Size([4, 256, 10])\n",
            "y_predict.shape:  torch.Size([1024, 10])\n",
            "Progress222\n",
            "Progress2\n",
            "Progress3\n",
            "Progress4\n"
          ]
        },
        {
          "output_type": "stream",
          "name": "stderr",
          "text": [
            "\rtrain:  19%|█▉        | 88/462 [05:08<21:55,  3.52s/it]"
          ]
        },
        {
          "output_type": "stream",
          "name": "stdout",
          "text": [
            "\n",
            "Progress1\n",
            "\n",
            "Progress111\n",
            "torch.Size([4, 256, 10])\n",
            "y_predict.shape:  torch.Size([1024, 10])\n",
            "Progress222\n",
            "Progress2\n",
            "Progress3\n",
            "Progress4\n"
          ]
        },
        {
          "output_type": "stream",
          "name": "stderr",
          "text": [
            "\rtrain:  19%|█▉        | 89/462 [05:11<21:06,  3.40s/it]"
          ]
        },
        {
          "output_type": "stream",
          "name": "stdout",
          "text": [
            "\n",
            "Progress1\n",
            "\n",
            "Progress111\n",
            "torch.Size([4, 256, 10])\n",
            "y_predict.shape:  torch.Size([1024, 10])\n",
            "Progress222\n",
            "Progress2\n",
            "Progress3\n",
            "Progress4\n"
          ]
        },
        {
          "output_type": "stream",
          "name": "stderr",
          "text": [
            "\rtrain:  19%|█▉        | 90/462 [05:14<20:29,  3.30s/it]"
          ]
        },
        {
          "output_type": "stream",
          "name": "stdout",
          "text": [
            "\n",
            "Progress1\n",
            "\n",
            "Progress111\n",
            "torch.Size([4, 256, 10])\n",
            "y_predict.shape:  torch.Size([1024, 10])\n",
            "Progress222\n",
            "Progress2\n",
            "Progress3\n",
            "Progress4\n"
          ]
        },
        {
          "output_type": "stream",
          "name": "stderr",
          "text": [
            "\rtrain:  20%|█▉        | 91/462 [05:19<21:58,  3.55s/it]"
          ]
        },
        {
          "output_type": "stream",
          "name": "stdout",
          "text": [
            "\n",
            "Progress1\n",
            "\n",
            "Progress111\n",
            "torch.Size([4, 256, 10])\n",
            "y_predict.shape:  torch.Size([1024, 10])\n",
            "Progress222\n",
            "Progress2\n",
            "Progress3\n",
            "Progress4\n"
          ]
        },
        {
          "output_type": "stream",
          "name": "stderr",
          "text": [
            "\rtrain:  20%|█▉        | 92/462 [05:23<22:53,  3.71s/it]"
          ]
        },
        {
          "output_type": "stream",
          "name": "stdout",
          "text": [
            "\n",
            "Progress1\n",
            "\n",
            "Progress111\n",
            "torch.Size([4, 256, 10])\n",
            "y_predict.shape:  torch.Size([1024, 10])\n",
            "Progress222\n",
            "Progress2\n",
            "Progress3\n",
            "Progress4\n"
          ]
        },
        {
          "output_type": "stream",
          "name": "stderr",
          "text": [
            "\rtrain:  20%|██        | 93/462 [05:26<21:44,  3.53s/it]"
          ]
        },
        {
          "output_type": "stream",
          "name": "stdout",
          "text": [
            "\n",
            "Progress1\n",
            "\n",
            "Progress111\n",
            "torch.Size([4, 256, 10])\n",
            "y_predict.shape:  torch.Size([1024, 10])\n",
            "Progress222\n",
            "Progress2\n",
            "Progress3\n",
            "Progress4\n"
          ]
        },
        {
          "output_type": "stream",
          "name": "stderr",
          "text": [
            "\rtrain:  20%|██        | 94/462 [05:29<20:50,  3.40s/it]"
          ]
        },
        {
          "output_type": "stream",
          "name": "stdout",
          "text": [
            "\n",
            "Progress1\n",
            "\n",
            "Progress111\n",
            "torch.Size([4, 256, 10])\n",
            "y_predict.shape:  torch.Size([1024, 10])\n",
            "Progress222\n",
            "Progress2\n",
            "Progress3\n",
            "Progress4\n"
          ]
        },
        {
          "output_type": "stream",
          "name": "stderr",
          "text": [
            "\rtrain:  21%|██        | 95/462 [05:32<19:57,  3.26s/it]"
          ]
        },
        {
          "output_type": "stream",
          "name": "stdout",
          "text": [
            "\n",
            "Progress1\n",
            "\n",
            "Progress111\n",
            "torch.Size([4, 256, 10])\n",
            "y_predict.shape:  torch.Size([1024, 10])\n",
            "Progress222\n",
            "Progress2\n",
            "Progress3\n",
            "Progress4\n"
          ]
        },
        {
          "output_type": "stream",
          "name": "stderr",
          "text": [
            "\rtrain:  21%|██        | 96/462 [05:36<21:50,  3.58s/it]"
          ]
        },
        {
          "output_type": "stream",
          "name": "stdout",
          "text": [
            "\n",
            "Progress1\n",
            "\n",
            "Progress111\n",
            "torch.Size([4, 256, 10])\n",
            "y_predict.shape:  torch.Size([1024, 10])\n",
            "Progress222\n",
            "Progress2\n",
            "Progress3\n",
            "Progress4\n"
          ]
        },
        {
          "output_type": "stream",
          "name": "stderr",
          "text": [
            "\rtrain:  21%|██        | 97/462 [05:40<21:47,  3.58s/it]"
          ]
        },
        {
          "output_type": "stream",
          "name": "stdout",
          "text": [
            "\n",
            "Progress1\n",
            "\n",
            "Progress111\n",
            "torch.Size([4, 256, 10])\n",
            "y_predict.shape:  torch.Size([1024, 10])\n",
            "Progress222\n",
            "Progress2\n",
            "Progress3\n",
            "Progress4\n"
          ]
        },
        {
          "output_type": "stream",
          "name": "stderr",
          "text": [
            "\rtrain:  21%|██        | 98/462 [05:43<20:37,  3.40s/it]"
          ]
        },
        {
          "output_type": "stream",
          "name": "stdout",
          "text": [
            "\n",
            "Progress1\n",
            "\n",
            "Progress111\n",
            "torch.Size([4, 256, 10])\n",
            "y_predict.shape:  torch.Size([1024, 10])\n",
            "Progress222\n",
            "Progress2\n",
            "Progress3\n",
            "Progress4\n"
          ]
        },
        {
          "output_type": "stream",
          "name": "stderr",
          "text": [
            "\rtrain:  21%|██▏       | 99/462 [05:46<19:47,  3.27s/it]"
          ]
        },
        {
          "output_type": "stream",
          "name": "stdout",
          "text": [
            "\n",
            "Progress1\n",
            "\n",
            "Progress111\n",
            "torch.Size([4, 256, 10])\n",
            "y_predict.shape:  torch.Size([1024, 10])\n",
            "Progress222\n",
            "Progress2\n",
            "Progress3\n",
            "Progress4\n"
          ]
        },
        {
          "output_type": "stream",
          "name": "stderr",
          "text": [
            "\rtrain:  22%|██▏       | 100/462 [05:49<19:28,  3.23s/it]"
          ]
        },
        {
          "output_type": "stream",
          "name": "stdout",
          "text": [
            "\n",
            "Progress1\n",
            "\n",
            "Progress111\n",
            "torch.Size([4, 256, 10])\n",
            "y_predict.shape:  torch.Size([1024, 10])\n",
            "Progress222\n",
            "Progress2\n",
            "Progress3\n",
            "Progress4\n"
          ]
        },
        {
          "output_type": "stream",
          "name": "stderr",
          "text": [
            "\rtrain:  22%|██▏       | 101/462 [05:53<21:42,  3.61s/it]"
          ]
        },
        {
          "output_type": "stream",
          "name": "stdout",
          "text": [
            "\n",
            "Progress1\n",
            "\n",
            "Progress111\n",
            "torch.Size([4, 256, 10])\n",
            "y_predict.shape:  torch.Size([1024, 10])\n",
            "Progress222\n",
            "Progress2\n",
            "Progress3\n",
            "Progress4\n"
          ]
        },
        {
          "output_type": "stream",
          "name": "stderr",
          "text": [
            "\rtrain:  22%|██▏       | 102/462 [05:57<21:18,  3.55s/it]"
          ]
        },
        {
          "output_type": "stream",
          "name": "stdout",
          "text": [
            "\n",
            "Progress1\n",
            "\n",
            "Progress111\n",
            "torch.Size([4, 256, 10])\n",
            "y_predict.shape:  torch.Size([1024, 10])\n",
            "Progress222\n",
            "Progress2\n",
            "Progress3\n",
            "Progress4\n"
          ]
        },
        {
          "output_type": "stream",
          "name": "stderr",
          "text": [
            "\rtrain:  22%|██▏       | 103/462 [06:00<20:20,  3.40s/it]"
          ]
        },
        {
          "output_type": "stream",
          "name": "stdout",
          "text": [
            "\n",
            "Progress1\n",
            "\n",
            "Progress111\n",
            "torch.Size([4, 256, 10])\n",
            "y_predict.shape:  torch.Size([1024, 10])\n",
            "Progress222\n",
            "Progress2\n",
            "Progress3\n",
            "Progress4\n"
          ]
        },
        {
          "output_type": "stream",
          "name": "stderr",
          "text": [
            "\rtrain:  23%|██▎       | 104/462 [06:03<19:37,  3.29s/it]"
          ]
        },
        {
          "output_type": "stream",
          "name": "stdout",
          "text": [
            "\n",
            "Progress1\n",
            "\n",
            "Progress111\n",
            "torch.Size([4, 256, 10])\n",
            "y_predict.shape:  torch.Size([1024, 10])\n",
            "Progress222\n",
            "Progress2\n",
            "Progress3\n",
            "Progress4\n"
          ]
        },
        {
          "output_type": "stream",
          "name": "stderr",
          "text": [
            "\rtrain:  23%|██▎       | 105/462 [06:07<20:39,  3.47s/it]"
          ]
        },
        {
          "output_type": "stream",
          "name": "stdout",
          "text": [
            "\n",
            "Progress1\n",
            "\n",
            "Progress111\n",
            "torch.Size([4, 256, 10])\n",
            "y_predict.shape:  torch.Size([1024, 10])\n",
            "Progress222\n",
            "Progress2\n",
            "Progress3\n",
            "Progress4\n"
          ]
        },
        {
          "output_type": "stream",
          "name": "stderr",
          "text": [
            "\rtrain:  23%|██▎       | 106/462 [06:11<21:39,  3.65s/it]"
          ]
        },
        {
          "output_type": "stream",
          "name": "stdout",
          "text": [
            "\n",
            "Progress1\n",
            "\n",
            "Progress111\n",
            "torch.Size([4, 256, 10])\n",
            "y_predict.shape:  torch.Size([1024, 10])\n",
            "Progress222\n",
            "Progress2\n",
            "Progress3\n",
            "Progress4\n"
          ]
        },
        {
          "output_type": "stream",
          "name": "stderr",
          "text": [
            "\rtrain:  23%|██▎       | 107/462 [06:14<20:35,  3.48s/it]"
          ]
        },
        {
          "output_type": "stream",
          "name": "stdout",
          "text": [
            "\n",
            "Progress1\n",
            "\n",
            "Progress111\n",
            "torch.Size([4, 256, 10])\n",
            "y_predict.shape:  torch.Size([1024, 10])\n",
            "Progress222\n",
            "Progress2\n",
            "Progress3\n",
            "Progress4\n"
          ]
        },
        {
          "output_type": "stream",
          "name": "stderr",
          "text": [
            "\rtrain:  23%|██▎       | 108/462 [06:17<19:49,  3.36s/it]"
          ]
        },
        {
          "output_type": "stream",
          "name": "stdout",
          "text": [
            "\n",
            "Progress1\n",
            "\n",
            "Progress111\n",
            "torch.Size([4, 256, 10])\n",
            "y_predict.shape:  torch.Size([1024, 10])\n",
            "Progress222\n",
            "Progress2\n",
            "Progress3\n",
            "Progress4\n"
          ]
        },
        {
          "output_type": "stream",
          "name": "stderr",
          "text": [
            "\rtrain:  24%|██▎       | 109/462 [06:20<19:58,  3.39s/it]"
          ]
        },
        {
          "output_type": "stream",
          "name": "stdout",
          "text": [
            "\n",
            "Progress1\n",
            "\n",
            "Progress111\n",
            "torch.Size([4, 256, 10])\n",
            "y_predict.shape:  torch.Size([1024, 10])\n",
            "Progress222\n",
            "Progress2\n",
            "Progress3\n",
            "Progress4\n"
          ]
        },
        {
          "output_type": "stream",
          "name": "stderr",
          "text": [
            "\rtrain:  24%|██▍       | 110/462 [06:25<21:20,  3.64s/it]"
          ]
        },
        {
          "output_type": "stream",
          "name": "stdout",
          "text": [
            "\n",
            "Progress1\n",
            "\n",
            "Progress111\n",
            "torch.Size([4, 256, 10])\n",
            "y_predict.shape:  torch.Size([1024, 10])\n",
            "Progress222\n",
            "Progress2\n",
            "Progress3\n",
            "Progress4\n"
          ]
        },
        {
          "output_type": "stream",
          "name": "stderr",
          "text": [
            "\rtrain:  24%|██▍       | 111/462 [06:28<20:04,  3.43s/it]"
          ]
        },
        {
          "output_type": "stream",
          "name": "stdout",
          "text": [
            "\n",
            "Progress1\n",
            "\n",
            "Progress111\n",
            "torch.Size([4, 256, 10])\n",
            "y_predict.shape:  torch.Size([1024, 10])\n",
            "Progress222\n",
            "Progress2\n",
            "Progress3\n",
            "Progress4\n"
          ]
        },
        {
          "output_type": "stream",
          "name": "stderr",
          "text": [
            "\rtrain:  24%|██▍       | 112/462 [06:30<19:09,  3.28s/it]"
          ]
        },
        {
          "output_type": "stream",
          "name": "stdout",
          "text": [
            "\n",
            "Progress1\n",
            "\n",
            "Progress111\n",
            "torch.Size([4, 256, 10])\n",
            "y_predict.shape:  torch.Size([1024, 10])\n",
            "Progress222\n",
            "Progress2\n",
            "Progress3\n",
            "Progress4\n"
          ]
        },
        {
          "output_type": "stream",
          "name": "stderr",
          "text": [
            "\rtrain:  24%|██▍       | 113/462 [06:33<18:35,  3.20s/it]"
          ]
        },
        {
          "output_type": "stream",
          "name": "stdout",
          "text": [
            "\n",
            "Progress1\n",
            "\n",
            "Progress111\n",
            "torch.Size([4, 256, 10])\n",
            "y_predict.shape:  torch.Size([1024, 10])\n",
            "Progress222\n",
            "Progress2\n",
            "Progress3\n",
            "Progress4\n"
          ]
        },
        {
          "output_type": "stream",
          "name": "stderr",
          "text": [
            "\rtrain:  25%|██▍       | 114/462 [06:38<20:03,  3.46s/it]"
          ]
        },
        {
          "output_type": "stream",
          "name": "stdout",
          "text": [
            "\n",
            "Progress1\n",
            "\n",
            "Progress111\n",
            "torch.Size([4, 256, 10])\n",
            "y_predict.shape:  torch.Size([1024, 10])\n",
            "Progress222\n",
            "Progress2\n",
            "Progress3\n",
            "Progress4\n"
          ]
        },
        {
          "output_type": "stream",
          "name": "stderr",
          "text": [
            "\rtrain:  25%|██▍       | 115/462 [06:41<20:46,  3.59s/it]"
          ]
        },
        {
          "output_type": "stream",
          "name": "stdout",
          "text": [
            "\n",
            "Progress1\n",
            "\n",
            "Progress111\n",
            "torch.Size([4, 256, 10])\n",
            "y_predict.shape:  torch.Size([1024, 10])\n",
            "Progress222\n",
            "Progress2\n",
            "Progress3\n",
            "Progress4\n"
          ]
        },
        {
          "output_type": "stream",
          "name": "stderr",
          "text": [
            "\rtrain:  25%|██▌       | 116/462 [06:45<19:51,  3.44s/it]"
          ]
        },
        {
          "output_type": "stream",
          "name": "stdout",
          "text": [
            "\n",
            "Progress1\n",
            "\n",
            "Progress111\n",
            "torch.Size([4, 256, 10])\n",
            "y_predict.shape:  torch.Size([1024, 10])\n",
            "Progress222\n",
            "Progress2\n",
            "Progress3\n",
            "Progress4\n"
          ]
        },
        {
          "output_type": "stream",
          "name": "stderr",
          "text": [
            "\rtrain:  25%|██▌       | 117/462 [06:48<19:04,  3.32s/it]"
          ]
        },
        {
          "output_type": "stream",
          "name": "stdout",
          "text": [
            "\n",
            "Progress1\n",
            "\n",
            "Progress111\n",
            "torch.Size([4, 256, 10])\n",
            "y_predict.shape:  torch.Size([1024, 10])\n",
            "Progress222\n",
            "Progress2\n",
            "Progress3\n",
            "Progress4\n"
          ]
        },
        {
          "output_type": "stream",
          "name": "stderr",
          "text": [
            "\rtrain:  26%|██▌       | 118/462 [06:51<19:04,  3.33s/it]"
          ]
        },
        {
          "output_type": "stream",
          "name": "stdout",
          "text": [
            "\n",
            "Progress1\n",
            "\n",
            "Progress111\n",
            "torch.Size([4, 256, 10])\n",
            "y_predict.shape:  torch.Size([1024, 10])\n",
            "Progress222\n",
            "Progress2\n",
            "Progress3\n",
            "Progress4\n"
          ]
        },
        {
          "output_type": "stream",
          "name": "stderr",
          "text": [
            "\rtrain:  26%|██▌       | 119/462 [06:55<21:07,  3.70s/it]"
          ]
        },
        {
          "output_type": "stream",
          "name": "stdout",
          "text": [
            "\n",
            "Progress1\n",
            "\n",
            "Progress111\n",
            "torch.Size([4, 256, 10])\n",
            "y_predict.shape:  torch.Size([1024, 10])\n",
            "Progress222\n",
            "Progress2\n",
            "Progress3\n",
            "Progress4\n"
          ]
        },
        {
          "output_type": "stream",
          "name": "stderr",
          "text": [
            "\rtrain:  26%|██▌       | 120/462 [06:59<20:15,  3.56s/it]"
          ]
        },
        {
          "output_type": "stream",
          "name": "stdout",
          "text": [
            "\n",
            "Progress1\n",
            "\n",
            "Progress111\n",
            "torch.Size([4, 256, 10])\n",
            "y_predict.shape:  torch.Size([1024, 10])\n",
            "Progress222\n",
            "Progress2\n",
            "Progress3\n",
            "Progress4\n"
          ]
        },
        {
          "output_type": "stream",
          "name": "stderr",
          "text": [
            "\rtrain:  26%|██▌       | 121/462 [07:02<19:31,  3.44s/it]"
          ]
        },
        {
          "output_type": "stream",
          "name": "stdout",
          "text": [
            "\n",
            "Progress1\n",
            "\n",
            "Progress111\n",
            "torch.Size([4, 256, 10])\n",
            "y_predict.shape:  torch.Size([1024, 10])\n",
            "Progress222\n",
            "Progress2\n",
            "Progress3\n",
            "Progress4\n"
          ]
        },
        {
          "output_type": "stream",
          "name": "stderr",
          "text": [
            "\rtrain:  26%|██▋       | 122/462 [07:05<19:01,  3.36s/it]"
          ]
        },
        {
          "output_type": "stream",
          "name": "stdout",
          "text": [
            "\n",
            "Progress1\n",
            "\n",
            "Progress111\n",
            "torch.Size([4, 256, 10])\n",
            "y_predict.shape:  torch.Size([1024, 10])\n",
            "Progress222\n",
            "Progress2\n",
            "Progress3\n",
            "Progress4\n"
          ]
        },
        {
          "output_type": "stream",
          "name": "stderr",
          "text": [
            "\rtrain:  27%|██▋       | 123/462 [07:09<20:46,  3.68s/it]"
          ]
        },
        {
          "output_type": "stream",
          "name": "stdout",
          "text": [
            "\n",
            "Progress1\n",
            "\n",
            "Progress111\n",
            "torch.Size([4, 256, 10])\n",
            "y_predict.shape:  torch.Size([1024, 10])\n",
            "Progress222\n",
            "Progress2\n",
            "Progress3\n",
            "Progress4\n"
          ]
        },
        {
          "output_type": "stream",
          "name": "stderr",
          "text": [
            "\rtrain:  27%|██▋       | 124/462 [07:13<20:33,  3.65s/it]"
          ]
        },
        {
          "output_type": "stream",
          "name": "stdout",
          "text": [
            "\n",
            "Progress1\n",
            "\n",
            "Progress111\n",
            "torch.Size([4, 256, 10])\n",
            "y_predict.shape:  torch.Size([1024, 10])\n",
            "Progress222\n",
            "Progress2\n",
            "Progress3\n",
            "Progress4\n"
          ]
        },
        {
          "output_type": "stream",
          "name": "stderr",
          "text": [
            "\rtrain:  27%|██▋       | 125/462 [07:16<19:31,  3.48s/it]"
          ]
        },
        {
          "output_type": "stream",
          "name": "stdout",
          "text": [
            "\n",
            "Progress1\n",
            "\n",
            "Progress111\n",
            "torch.Size([4, 256, 10])\n",
            "y_predict.shape:  torch.Size([1024, 10])\n",
            "Progress222\n",
            "Progress2\n",
            "Progress3\n",
            "Progress4\n"
          ]
        },
        {
          "output_type": "stream",
          "name": "stderr",
          "text": [
            "\rtrain:  27%|██▋       | 126/462 [07:19<18:46,  3.35s/it]"
          ]
        },
        {
          "output_type": "stream",
          "name": "stdout",
          "text": [
            "\n",
            "Progress1\n",
            "\n",
            "Progress111\n",
            "torch.Size([4, 256, 10])\n",
            "y_predict.shape:  torch.Size([1024, 10])\n",
            "Progress222\n",
            "Progress2\n",
            "Progress3\n",
            "Progress4\n"
          ]
        },
        {
          "output_type": "stream",
          "name": "stderr",
          "text": [
            "\rtrain:  27%|██▋       | 127/462 [07:23<18:39,  3.34s/it]"
          ]
        },
        {
          "output_type": "stream",
          "name": "stdout",
          "text": [
            "\n",
            "Progress1\n",
            "\n",
            "Progress111\n",
            "torch.Size([4, 256, 10])\n",
            "y_predict.shape:  torch.Size([1024, 10])\n",
            "Progress222\n",
            "Progress2\n",
            "Progress3\n",
            "Progress4\n"
          ]
        },
        {
          "output_type": "stream",
          "name": "stderr",
          "text": [
            "\rtrain:  28%|██▊       | 128/462 [07:27<20:08,  3.62s/it]"
          ]
        },
        {
          "output_type": "stream",
          "name": "stdout",
          "text": [
            "\n",
            "Progress1\n",
            "\n",
            "Progress111\n",
            "torch.Size([4, 256, 10])\n",
            "y_predict.shape:  torch.Size([1024, 10])\n",
            "Progress222\n",
            "Progress2\n",
            "Progress3\n",
            "Progress4\n"
          ]
        },
        {
          "output_type": "stream",
          "name": "stderr",
          "text": [
            "\rtrain:  28%|██▊       | 129/462 [07:30<19:17,  3.48s/it]"
          ]
        },
        {
          "output_type": "stream",
          "name": "stdout",
          "text": [
            "\n",
            "Progress1\n",
            "\n",
            "Progress111\n",
            "torch.Size([4, 256, 10])\n",
            "y_predict.shape:  torch.Size([1024, 10])\n",
            "Progress222\n",
            "Progress2\n",
            "Progress3\n",
            "Progress4\n"
          ]
        },
        {
          "output_type": "stream",
          "name": "stderr",
          "text": [
            "\rtrain:  28%|██▊       | 130/462 [07:33<18:23,  3.32s/it]"
          ]
        },
        {
          "output_type": "stream",
          "name": "stdout",
          "text": [
            "\n",
            "Progress1\n",
            "\n",
            "Progress111\n",
            "torch.Size([4, 256, 10])\n",
            "y_predict.shape:  torch.Size([1024, 10])\n",
            "Progress222\n",
            "Progress2\n",
            "Progress3\n",
            "Progress4\n"
          ]
        },
        {
          "output_type": "stream",
          "name": "stderr",
          "text": [
            "\rtrain:  28%|██▊       | 131/462 [07:36<17:56,  3.25s/it]"
          ]
        },
        {
          "output_type": "stream",
          "name": "stdout",
          "text": [
            "\n",
            "Progress1\n",
            "\n",
            "Progress111\n",
            "torch.Size([4, 256, 10])\n",
            "y_predict.shape:  torch.Size([1024, 10])\n",
            "Progress222\n",
            "Progress2\n",
            "Progress3\n",
            "Progress4\n"
          ]
        },
        {
          "output_type": "stream",
          "name": "stderr",
          "text": [
            "\rtrain:  29%|██▊       | 132/462 [07:40<18:55,  3.44s/it]"
          ]
        },
        {
          "output_type": "stream",
          "name": "stdout",
          "text": [
            "\n",
            "Progress1\n",
            "\n",
            "Progress111\n",
            "torch.Size([4, 256, 10])\n",
            "y_predict.shape:  torch.Size([1024, 10])\n",
            "Progress222\n",
            "Progress2\n",
            "Progress3\n",
            "Progress4\n"
          ]
        },
        {
          "output_type": "stream",
          "name": "stderr",
          "text": [
            "\rtrain:  29%|██▉       | 133/462 [07:44<20:07,  3.67s/it]"
          ]
        },
        {
          "output_type": "stream",
          "name": "stdout",
          "text": [
            "\n",
            "Progress1\n",
            "\n",
            "Progress111\n",
            "torch.Size([4, 256, 10])\n",
            "y_predict.shape:  torch.Size([1024, 10])\n",
            "Progress222\n",
            "Progress2\n",
            "Progress3\n",
            "Progress4\n"
          ]
        },
        {
          "output_type": "stream",
          "name": "stderr",
          "text": [
            "\rtrain:  29%|██▉       | 134/462 [07:47<19:09,  3.50s/it]"
          ]
        },
        {
          "output_type": "stream",
          "name": "stdout",
          "text": [
            "\n",
            "Progress1\n",
            "\n",
            "Progress111\n",
            "torch.Size([4, 256, 10])\n",
            "y_predict.shape:  torch.Size([1024, 10])\n",
            "Progress222\n",
            "Progress2\n",
            "Progress3\n",
            "Progress4\n"
          ]
        },
        {
          "output_type": "stream",
          "name": "stderr",
          "text": [
            "\rtrain:  29%|██▉       | 135/462 [07:50<18:28,  3.39s/it]"
          ]
        },
        {
          "output_type": "stream",
          "name": "stdout",
          "text": [
            "\n",
            "Progress1\n",
            "\n",
            "Progress111\n",
            "torch.Size([4, 256, 10])\n",
            "y_predict.shape:  torch.Size([1024, 10])\n",
            "Progress222\n",
            "Progress2\n",
            "Progress3\n",
            "Progress4\n"
          ]
        },
        {
          "output_type": "stream",
          "name": "stderr",
          "text": [
            "\rtrain:  29%|██▉       | 136/462 [07:54<18:26,  3.39s/it]"
          ]
        },
        {
          "output_type": "stream",
          "name": "stdout",
          "text": [
            "\n",
            "Progress1\n",
            "\n",
            "Progress111\n",
            "torch.Size([4, 256, 10])\n",
            "y_predict.shape:  torch.Size([1024, 10])\n",
            "Progress222\n",
            "Progress2\n",
            "Progress3\n",
            "Progress4\n"
          ]
        },
        {
          "output_type": "stream",
          "name": "stderr",
          "text": [
            "\rtrain:  30%|██▉       | 137/462 [07:58<20:15,  3.74s/it]"
          ]
        },
        {
          "output_type": "stream",
          "name": "stdout",
          "text": [
            "\n",
            "Progress1\n",
            "\n",
            "Progress111\n",
            "torch.Size([4, 256, 10])\n",
            "y_predict.shape:  torch.Size([1024, 10])\n",
            "Progress222\n",
            "Progress2\n",
            "Progress3\n",
            "Progress4\n"
          ]
        },
        {
          "output_type": "stream",
          "name": "stderr",
          "text": [
            "\rtrain:  30%|██▉       | 138/462 [08:02<19:29,  3.61s/it]"
          ]
        },
        {
          "output_type": "stream",
          "name": "stdout",
          "text": [
            "\n",
            "Progress1\n",
            "\n",
            "Progress111\n",
            "torch.Size([4, 256, 10])\n",
            "y_predict.shape:  torch.Size([1024, 10])\n",
            "Progress222\n",
            "Progress2\n",
            "Progress3\n",
            "Progress4\n"
          ]
        },
        {
          "output_type": "stream",
          "name": "stderr",
          "text": [
            "\rtrain:  30%|███       | 139/462 [08:05<18:38,  3.46s/it]"
          ]
        },
        {
          "output_type": "stream",
          "name": "stdout",
          "text": [
            "\n",
            "Progress1\n",
            "\n",
            "Progress111\n",
            "torch.Size([4, 256, 10])\n",
            "y_predict.shape:  torch.Size([1024, 10])\n",
            "Progress222\n",
            "Progress2\n",
            "Progress3\n",
            "Progress4\n"
          ]
        },
        {
          "output_type": "stream",
          "name": "stderr",
          "text": [
            "\rtrain:  30%|███       | 140/462 [08:08<18:03,  3.36s/it]"
          ]
        },
        {
          "output_type": "stream",
          "name": "stdout",
          "text": [
            "\n",
            "Progress1\n",
            "\n",
            "Progress111\n",
            "torch.Size([4, 256, 10])\n",
            "y_predict.shape:  torch.Size([1024, 10])\n",
            "Progress222\n",
            "Progress2\n",
            "Progress3\n",
            "Progress4\n"
          ]
        },
        {
          "output_type": "stream",
          "name": "stderr",
          "text": [
            "\rtrain:  31%|███       | 141/462 [08:12<19:37,  3.67s/it]"
          ]
        },
        {
          "output_type": "stream",
          "name": "stdout",
          "text": [
            "\n",
            "Progress1\n",
            "\n",
            "Progress111\n",
            "torch.Size([4, 256, 10])\n",
            "y_predict.shape:  torch.Size([1024, 10])\n",
            "Progress222\n",
            "Progress2\n",
            "Progress3\n",
            "Progress4\n"
          ]
        },
        {
          "output_type": "stream",
          "name": "stderr",
          "text": [
            "\rtrain:  31%|███       | 142/462 [08:16<19:11,  3.60s/it]"
          ]
        },
        {
          "output_type": "stream",
          "name": "stdout",
          "text": [
            "\n",
            "Progress1\n",
            "\n",
            "Progress111\n",
            "torch.Size([4, 256, 10])\n",
            "y_predict.shape:  torch.Size([1024, 10])\n",
            "Progress222\n",
            "Progress2\n",
            "Progress3\n",
            "Progress4\n"
          ]
        },
        {
          "output_type": "stream",
          "name": "stderr",
          "text": [
            "\rtrain:  31%|███       | 143/462 [08:19<18:07,  3.41s/it]"
          ]
        },
        {
          "output_type": "stream",
          "name": "stdout",
          "text": [
            "\n",
            "Progress1\n",
            "\n",
            "Progress111\n",
            "torch.Size([4, 256, 10])\n",
            "y_predict.shape:  torch.Size([1024, 10])\n",
            "Progress222\n",
            "Progress2\n",
            "Progress3\n",
            "Progress4\n"
          ]
        },
        {
          "output_type": "stream",
          "name": "stderr",
          "text": [
            "\rtrain:  31%|███       | 144/462 [08:22<17:23,  3.28s/it]"
          ]
        },
        {
          "output_type": "stream",
          "name": "stdout",
          "text": [
            "\n",
            "Progress1\n",
            "\n",
            "Progress111\n",
            "torch.Size([4, 256, 10])\n",
            "y_predict.shape:  torch.Size([1024, 10])\n",
            "Progress222\n",
            "Progress2\n",
            "Progress3\n",
            "Progress4\n"
          ]
        },
        {
          "output_type": "stream",
          "name": "stderr",
          "text": [
            "\rtrain:  31%|███▏      | 145/462 [08:25<17:47,  3.37s/it]"
          ]
        },
        {
          "output_type": "stream",
          "name": "stdout",
          "text": [
            "\n",
            "Progress1\n",
            "\n",
            "Progress111\n",
            "torch.Size([4, 256, 10])\n",
            "y_predict.shape:  torch.Size([1024, 10])\n",
            "Progress222\n",
            "Progress2\n",
            "Progress3\n",
            "Progress4\n"
          ]
        },
        {
          "output_type": "stream",
          "name": "stderr",
          "text": [
            "\rtrain:  32%|███▏      | 146/462 [08:29<19:09,  3.64s/it]"
          ]
        },
        {
          "output_type": "stream",
          "name": "stdout",
          "text": [
            "\n",
            "Progress1\n",
            "\n",
            "Progress111\n",
            "torch.Size([4, 256, 10])\n",
            "y_predict.shape:  torch.Size([1024, 10])\n",
            "Progress222\n",
            "Progress2\n",
            "Progress3\n",
            "Progress4\n"
          ]
        },
        {
          "output_type": "stream",
          "name": "stderr",
          "text": [
            "\rtrain:  32%|███▏      | 147/462 [08:32<18:11,  3.46s/it]"
          ]
        },
        {
          "output_type": "stream",
          "name": "stdout",
          "text": [
            "\n",
            "Progress1\n",
            "\n",
            "Progress111\n",
            "torch.Size([4, 256, 10])\n",
            "y_predict.shape:  torch.Size([1024, 10])\n",
            "Progress222\n",
            "Progress2\n",
            "Progress3\n",
            "Progress4\n"
          ]
        },
        {
          "output_type": "stream",
          "name": "stderr",
          "text": [
            "\rtrain:  32%|███▏      | 148/462 [08:36<17:31,  3.35s/it]"
          ]
        },
        {
          "output_type": "stream",
          "name": "stdout",
          "text": [
            "\n",
            "Progress1\n",
            "\n",
            "Progress111\n",
            "torch.Size([4, 256, 10])\n",
            "y_predict.shape:  torch.Size([1024, 10])\n",
            "Progress222\n",
            "Progress2\n",
            "Progress3\n",
            "Progress4\n"
          ]
        },
        {
          "output_type": "stream",
          "name": "stderr",
          "text": [
            "\rtrain:  32%|███▏      | 149/462 [08:39<17:11,  3.30s/it]"
          ]
        },
        {
          "output_type": "stream",
          "name": "stdout",
          "text": [
            "\n",
            "Progress1\n",
            "\n",
            "Progress111\n",
            "torch.Size([4, 256, 10])\n",
            "y_predict.shape:  torch.Size([1024, 10])\n",
            "Progress222\n",
            "Progress2\n",
            "Progress3\n",
            "Progress4\n"
          ]
        },
        {
          "output_type": "stream",
          "name": "stderr",
          "text": [
            "\rtrain:  32%|███▏      | 150/462 [08:43<19:03,  3.66s/it]"
          ]
        },
        {
          "output_type": "stream",
          "name": "stdout",
          "text": [
            "\n",
            "Progress1\n",
            "\n",
            "Progress111\n",
            "torch.Size([4, 256, 10])\n",
            "y_predict.shape:  torch.Size([1024, 10])\n",
            "Progress222\n",
            "Progress2\n",
            "Progress3\n",
            "Progress4\n"
          ]
        },
        {
          "output_type": "stream",
          "name": "stderr",
          "text": [
            "\rtrain:  33%|███▎      | 151/462 [08:47<18:38,  3.60s/it]"
          ]
        },
        {
          "output_type": "stream",
          "name": "stdout",
          "text": [
            "\n",
            "Progress1\n",
            "\n",
            "Progress111\n",
            "torch.Size([4, 256, 10])\n",
            "y_predict.shape:  torch.Size([1024, 10])\n",
            "Progress222\n",
            "Progress2\n",
            "Progress3\n",
            "Progress4\n"
          ]
        },
        {
          "output_type": "stream",
          "name": "stderr",
          "text": [
            "\rtrain:  33%|███▎      | 152/462 [08:50<17:55,  3.47s/it]"
          ]
        },
        {
          "output_type": "stream",
          "name": "stdout",
          "text": [
            "\n",
            "Progress1\n",
            "\n",
            "Progress111\n",
            "torch.Size([4, 256, 10])\n",
            "y_predict.shape:  torch.Size([1024, 10])\n",
            "Progress222\n",
            "Progress2\n",
            "Progress3\n",
            "Progress4\n"
          ]
        },
        {
          "output_type": "stream",
          "name": "stderr",
          "text": [
            "\rtrain:  33%|███▎      | 153/462 [08:53<17:18,  3.36s/it]"
          ]
        },
        {
          "output_type": "stream",
          "name": "stdout",
          "text": [
            "\n",
            "Progress1\n",
            "\n",
            "Progress111\n",
            "torch.Size([4, 256, 10])\n",
            "y_predict.shape:  torch.Size([1024, 10])\n",
            "Progress222\n",
            "Progress2\n",
            "Progress3\n",
            "Progress4\n"
          ]
        },
        {
          "output_type": "stream",
          "name": "stderr",
          "text": [
            "\rtrain:  33%|███▎      | 154/462 [08:57<18:10,  3.54s/it]"
          ]
        },
        {
          "output_type": "stream",
          "name": "stdout",
          "text": [
            "\n",
            "Progress1\n",
            "\n",
            "Progress111\n",
            "torch.Size([4, 256, 10])\n",
            "y_predict.shape:  torch.Size([1024, 10])\n",
            "Progress222\n",
            "Progress2\n",
            "Progress3\n",
            "Progress4\n"
          ]
        },
        {
          "output_type": "stream",
          "name": "stderr",
          "text": [
            "\rtrain:  34%|███▎      | 155/462 [09:01<18:53,  3.69s/it]"
          ]
        },
        {
          "output_type": "stream",
          "name": "stdout",
          "text": [
            "\n",
            "Progress1\n",
            "\n",
            "Progress111\n",
            "torch.Size([4, 256, 10])\n",
            "y_predict.shape:  torch.Size([1024, 10])\n",
            "Progress222\n",
            "Progress2\n",
            "Progress3\n",
            "Progress4\n"
          ]
        },
        {
          "output_type": "stream",
          "name": "stderr",
          "text": [
            "\rtrain:  34%|███▍      | 156/462 [09:04<17:59,  3.53s/it]"
          ]
        },
        {
          "output_type": "stream",
          "name": "stdout",
          "text": [
            "\n",
            "Progress1\n",
            "\n",
            "Progress111\n",
            "torch.Size([4, 256, 10])\n",
            "y_predict.shape:  torch.Size([1024, 10])\n",
            "Progress222\n",
            "Progress2\n",
            "Progress3\n",
            "Progress4\n"
          ]
        },
        {
          "output_type": "stream",
          "name": "stderr",
          "text": [
            "\rtrain:  34%|███▍      | 157/462 [09:07<17:15,  3.39s/it]"
          ]
        },
        {
          "output_type": "stream",
          "name": "stdout",
          "text": [
            "\n",
            "Progress1\n",
            "\n",
            "Progress111\n",
            "torch.Size([4, 256, 10])\n",
            "y_predict.shape:  torch.Size([1024, 10])\n",
            "Progress222\n",
            "Progress2\n",
            "Progress3\n",
            "Progress4\n"
          ]
        },
        {
          "output_type": "stream",
          "name": "stderr",
          "text": [
            "\rtrain:  34%|███▍      | 158/462 [09:11<17:10,  3.39s/it]"
          ]
        },
        {
          "output_type": "stream",
          "name": "stdout",
          "text": [
            "\n",
            "Progress1\n",
            "\n",
            "Progress111\n",
            "torch.Size([4, 256, 10])\n",
            "y_predict.shape:  torch.Size([1024, 10])\n",
            "Progress222\n",
            "Progress2\n",
            "Progress3\n",
            "Progress4\n"
          ]
        },
        {
          "output_type": "stream",
          "name": "stderr",
          "text": [
            "\rtrain:  34%|███▍      | 159/462 [09:15<18:47,  3.72s/it]"
          ]
        },
        {
          "output_type": "stream",
          "name": "stdout",
          "text": [
            "\n",
            "Progress1\n",
            "\n",
            "Progress111\n",
            "torch.Size([4, 256, 10])\n",
            "y_predict.shape:  torch.Size([1024, 10])\n",
            "Progress222\n",
            "Progress2\n",
            "Progress3\n",
            "Progress4\n"
          ]
        },
        {
          "output_type": "stream",
          "name": "stderr",
          "text": [
            "\rtrain:  35%|███▍      | 160/462 [09:18<17:41,  3.52s/it]"
          ]
        },
        {
          "output_type": "stream",
          "name": "stdout",
          "text": [
            "\n",
            "Progress1\n",
            "\n",
            "Progress111\n",
            "torch.Size([4, 256, 10])\n",
            "y_predict.shape:  torch.Size([1024, 10])\n",
            "Progress222\n",
            "Progress2\n",
            "Progress3\n",
            "Progress4\n"
          ]
        },
        {
          "output_type": "stream",
          "name": "stderr",
          "text": [
            "\rtrain:  35%|███▍      | 161/462 [09:21<16:49,  3.35s/it]"
          ]
        },
        {
          "output_type": "stream",
          "name": "stdout",
          "text": [
            "\n",
            "Progress1\n",
            "\n",
            "Progress111\n",
            "torch.Size([4, 256, 10])\n",
            "y_predict.shape:  torch.Size([1024, 10])\n",
            "Progress222\n",
            "Progress2\n",
            "Progress3\n",
            "Progress4\n"
          ]
        },
        {
          "output_type": "stream",
          "name": "stderr",
          "text": [
            "\rtrain:  35%|███▌      | 162/462 [09:24<16:16,  3.25s/it]"
          ]
        },
        {
          "output_type": "stream",
          "name": "stdout",
          "text": [
            "\n",
            "Progress1\n",
            "\n",
            "Progress111\n",
            "torch.Size([4, 256, 10])\n",
            "y_predict.shape:  torch.Size([1024, 10])\n",
            "Progress222\n",
            "Progress2\n",
            "Progress3\n",
            "Progress4\n"
          ]
        },
        {
          "output_type": "stream",
          "name": "stderr",
          "text": [
            "\rtrain:  35%|███▌      | 163/462 [09:28<17:09,  3.44s/it]"
          ]
        },
        {
          "output_type": "stream",
          "name": "stdout",
          "text": [
            "\n",
            "Progress1\n",
            "\n",
            "Progress111\n",
            "torch.Size([4, 256, 10])\n",
            "y_predict.shape:  torch.Size([1024, 10])\n",
            "Progress222\n",
            "Progress2\n",
            "Progress3\n",
            "Progress4\n"
          ]
        },
        {
          "output_type": "stream",
          "name": "stderr",
          "text": [
            "\rtrain:  35%|███▌      | 164/462 [09:32<18:29,  3.72s/it]"
          ]
        },
        {
          "output_type": "stream",
          "name": "stdout",
          "text": [
            "\n",
            "Progress1\n",
            "\n",
            "Progress111\n",
            "torch.Size([4, 256, 10])\n",
            "y_predict.shape:  torch.Size([1024, 10])\n",
            "Progress222\n",
            "Progress2\n",
            "Progress3\n",
            "Progress4\n"
          ]
        },
        {
          "output_type": "stream",
          "name": "stderr",
          "text": [
            "\rtrain:  36%|███▌      | 165/462 [09:36<17:35,  3.55s/it]"
          ]
        },
        {
          "output_type": "stream",
          "name": "stdout",
          "text": [
            "\n",
            "Progress1\n",
            "\n",
            "Progress111\n",
            "torch.Size([4, 256, 10])\n",
            "y_predict.shape:  torch.Size([1024, 10])\n",
            "Progress222\n",
            "Progress2\n",
            "Progress3\n",
            "Progress4\n"
          ]
        },
        {
          "output_type": "stream",
          "name": "stderr",
          "text": [
            "\rtrain:  36%|███▌      | 166/462 [09:39<16:52,  3.42s/it]"
          ]
        },
        {
          "output_type": "stream",
          "name": "stdout",
          "text": [
            "\n",
            "Progress1\n",
            "\n",
            "Progress111\n",
            "torch.Size([4, 256, 10])\n",
            "y_predict.shape:  torch.Size([1024, 10])\n",
            "Progress222\n",
            "Progress2\n",
            "Progress3\n",
            "Progress4\n"
          ]
        },
        {
          "output_type": "stream",
          "name": "stderr",
          "text": [
            "\rtrain:  36%|███▌      | 167/462 [09:42<16:17,  3.31s/it]"
          ]
        },
        {
          "output_type": "stream",
          "name": "stdout",
          "text": [
            "\n",
            "Progress1\n",
            "\n",
            "Progress111\n",
            "torch.Size([4, 256, 10])\n",
            "y_predict.shape:  torch.Size([1024, 10])\n",
            "Progress222\n",
            "Progress2\n",
            "Progress3\n",
            "Progress4\n"
          ]
        },
        {
          "output_type": "stream",
          "name": "stderr",
          "text": [
            "\rtrain:  36%|███▋      | 168/462 [09:46<17:43,  3.62s/it]"
          ]
        },
        {
          "output_type": "stream",
          "name": "stdout",
          "text": [
            "\n",
            "Progress1\n",
            "\n",
            "Progress111\n",
            "torch.Size([4, 256, 10])\n",
            "y_predict.shape:  torch.Size([1024, 10])\n",
            "Progress222\n",
            "Progress2\n",
            "Progress3\n",
            "Progress4\n"
          ]
        },
        {
          "output_type": "stream",
          "name": "stderr",
          "text": [
            "\rtrain:  37%|███▋      | 169/462 [09:50<17:50,  3.65s/it]"
          ]
        },
        {
          "output_type": "stream",
          "name": "stdout",
          "text": [
            "\n",
            "Progress1\n",
            "\n",
            "Progress111\n",
            "torch.Size([4, 256, 10])\n",
            "y_predict.shape:  torch.Size([1024, 10])\n",
            "Progress222\n",
            "Progress2\n",
            "Progress3\n",
            "Progress4\n"
          ]
        },
        {
          "output_type": "stream",
          "name": "stderr",
          "text": [
            "\rtrain:  37%|███▋      | 170/462 [09:53<16:58,  3.49s/it]"
          ]
        },
        {
          "output_type": "stream",
          "name": "stdout",
          "text": [
            "\n",
            "Progress1\n",
            "\n",
            "Progress111\n",
            "torch.Size([4, 256, 10])\n",
            "y_predict.shape:  torch.Size([1024, 10])\n",
            "Progress222\n",
            "Progress2\n",
            "Progress3\n",
            "Progress4\n"
          ]
        },
        {
          "output_type": "stream",
          "name": "stderr",
          "text": [
            "\rtrain:  37%|███▋      | 171/462 [09:56<16:21,  3.37s/it]"
          ]
        },
        {
          "output_type": "stream",
          "name": "stdout",
          "text": [
            "\n",
            "Progress1\n",
            "\n",
            "Progress111\n",
            "torch.Size([4, 256, 10])\n",
            "y_predict.shape:  torch.Size([1024, 10])\n",
            "Progress222\n",
            "Progress2\n",
            "Progress3\n",
            "Progress4\n"
          ]
        },
        {
          "output_type": "stream",
          "name": "stderr",
          "text": [
            "\rtrain:  37%|███▋      | 172/462 [10:00<16:57,  3.51s/it]"
          ]
        },
        {
          "output_type": "stream",
          "name": "stdout",
          "text": [
            "\n",
            "Progress1\n",
            "\n",
            "Progress111\n",
            "torch.Size([4, 256, 10])\n",
            "y_predict.shape:  torch.Size([1024, 10])\n",
            "Progress222\n",
            "Progress2\n",
            "Progress3\n",
            "Progress4\n"
          ]
        },
        {
          "output_type": "stream",
          "name": "stderr",
          "text": [
            "\rtrain:  37%|███▋      | 173/462 [10:04<17:59,  3.74s/it]"
          ]
        },
        {
          "output_type": "stream",
          "name": "stdout",
          "text": [
            "\n",
            "Progress1\n",
            "\n",
            "Progress111\n",
            "torch.Size([4, 256, 10])\n",
            "y_predict.shape:  torch.Size([1024, 10])\n",
            "Progress222\n",
            "Progress2\n",
            "Progress3\n",
            "Progress4\n"
          ]
        },
        {
          "output_type": "stream",
          "name": "stderr",
          "text": [
            "\rtrain:  38%|███▊      | 174/462 [10:07<16:47,  3.50s/it]"
          ]
        },
        {
          "output_type": "stream",
          "name": "stdout",
          "text": [
            "\n",
            "Progress1\n",
            "\n",
            "Progress111\n",
            "torch.Size([4, 256, 10])\n",
            "y_predict.shape:  torch.Size([1024, 10])\n",
            "Progress222\n",
            "Progress2\n",
            "Progress3\n",
            "Progress4\n"
          ]
        },
        {
          "output_type": "stream",
          "name": "stderr",
          "text": [
            "\rtrain:  38%|███▊      | 175/462 [10:10<16:00,  3.35s/it]"
          ]
        },
        {
          "output_type": "stream",
          "name": "stdout",
          "text": [
            "\n",
            "Progress1\n",
            "\n",
            "Progress111\n",
            "torch.Size([4, 256, 10])\n",
            "y_predict.shape:  torch.Size([1024, 10])\n",
            "Progress222\n",
            "Progress2\n",
            "Progress3\n",
            "Progress4\n"
          ]
        },
        {
          "output_type": "stream",
          "name": "stderr",
          "text": [
            "\rtrain:  38%|███▊      | 176/462 [10:13<15:27,  3.24s/it]"
          ]
        },
        {
          "output_type": "stream",
          "name": "stdout",
          "text": [
            "\n",
            "Progress1\n",
            "\n",
            "Progress111\n",
            "torch.Size([4, 256, 10])\n",
            "y_predict.shape:  torch.Size([1024, 10])\n",
            "Progress222\n",
            "Progress2\n",
            "Progress3\n",
            "Progress4\n"
          ]
        },
        {
          "output_type": "stream",
          "name": "stderr",
          "text": [
            "\rtrain:  38%|███▊      | 177/462 [10:17<16:19,  3.44s/it]"
          ]
        },
        {
          "output_type": "stream",
          "name": "stdout",
          "text": [
            "\n",
            "Progress1\n",
            "\n",
            "Progress111\n",
            "torch.Size([4, 256, 10])\n",
            "y_predict.shape:  torch.Size([1024, 10])\n",
            "Progress222\n",
            "Progress2\n",
            "Progress3\n",
            "Progress4\n"
          ]
        },
        {
          "output_type": "stream",
          "name": "stderr",
          "text": [
            "\rtrain:  39%|███▊      | 178/462 [10:21<16:53,  3.57s/it]"
          ]
        },
        {
          "output_type": "stream",
          "name": "stdout",
          "text": [
            "\n",
            "Progress1\n",
            "\n",
            "Progress111\n",
            "torch.Size([4, 256, 10])\n",
            "y_predict.shape:  torch.Size([1024, 10])\n",
            "Progress222\n",
            "Progress2\n",
            "Progress3\n",
            "Progress4\n"
          ]
        },
        {
          "output_type": "stream",
          "name": "stderr",
          "text": [
            "\rtrain:  39%|███▊      | 179/462 [10:24<16:10,  3.43s/it]"
          ]
        },
        {
          "output_type": "stream",
          "name": "stdout",
          "text": [
            "\n",
            "Progress1\n",
            "\n",
            "Progress111\n",
            "torch.Size([4, 256, 10])\n",
            "y_predict.shape:  torch.Size([1024, 10])\n",
            "Progress222\n",
            "Progress2\n",
            "Progress3\n",
            "Progress4\n"
          ]
        },
        {
          "output_type": "stream",
          "name": "stderr",
          "text": [
            "\rtrain:  39%|███▉      | 180/462 [10:27<15:43,  3.34s/it]"
          ]
        },
        {
          "output_type": "stream",
          "name": "stdout",
          "text": [
            "\n",
            "Progress1\n",
            "\n",
            "Progress111\n",
            "torch.Size([4, 256, 10])\n",
            "y_predict.shape:  torch.Size([1024, 10])\n",
            "Progress222\n",
            "Progress2\n",
            "Progress3\n",
            "Progress4\n"
          ]
        },
        {
          "output_type": "stream",
          "name": "stderr",
          "text": [
            "\rtrain:  39%|███▉      | 181/462 [10:31<16:16,  3.48s/it]"
          ]
        },
        {
          "output_type": "stream",
          "name": "stdout",
          "text": [
            "\n",
            "Progress1\n",
            "\n",
            "Progress111\n",
            "torch.Size([4, 256, 10])\n",
            "y_predict.shape:  torch.Size([1024, 10])\n",
            "Progress222\n",
            "Progress2\n",
            "Progress3\n",
            "Progress4\n"
          ]
        },
        {
          "output_type": "stream",
          "name": "stderr",
          "text": [
            "\rtrain:  39%|███▉      | 182/462 [10:35<17:24,  3.73s/it]"
          ]
        },
        {
          "output_type": "stream",
          "name": "stdout",
          "text": [
            "\n",
            "Progress1\n",
            "\n",
            "Progress111\n",
            "torch.Size([4, 256, 10])\n",
            "y_predict.shape:  torch.Size([1024, 10])\n",
            "Progress222\n",
            "Progress2\n",
            "Progress3\n",
            "Progress4\n"
          ]
        },
        {
          "output_type": "stream",
          "name": "stderr",
          "text": [
            "\rtrain:  40%|███▉      | 183/462 [10:38<16:24,  3.53s/it]"
          ]
        },
        {
          "output_type": "stream",
          "name": "stdout",
          "text": [
            "\n",
            "Progress1\n",
            "\n",
            "Progress111\n",
            "torch.Size([4, 256, 10])\n",
            "y_predict.shape:  torch.Size([1024, 10])\n",
            "Progress222\n",
            "Progress2\n",
            "Progress3\n",
            "Progress4\n"
          ]
        },
        {
          "output_type": "stream",
          "name": "stderr",
          "text": [
            "\rtrain:  40%|███▉      | 184/462 [10:41<15:54,  3.43s/it]"
          ]
        },
        {
          "output_type": "stream",
          "name": "stdout",
          "text": [
            "\n",
            "Progress1\n",
            "\n",
            "Progress111\n",
            "torch.Size([4, 256, 10])\n",
            "y_predict.shape:  torch.Size([1024, 10])\n",
            "Progress222\n",
            "Progress2\n",
            "Progress3\n",
            "Progress4\n"
          ]
        },
        {
          "output_type": "stream",
          "name": "stderr",
          "text": [
            "\rtrain:  40%|████      | 185/462 [10:45<16:09,  3.50s/it]"
          ]
        },
        {
          "output_type": "stream",
          "name": "stdout",
          "text": [
            "\n",
            "Progress1\n",
            "\n",
            "Progress111\n",
            "torch.Size([4, 256, 10])\n",
            "y_predict.shape:  torch.Size([1024, 10])\n",
            "Progress222\n",
            "Progress2\n",
            "Progress3\n",
            "Progress4\n"
          ]
        },
        {
          "output_type": "stream",
          "name": "stderr",
          "text": [
            "\rtrain:  40%|████      | 186/462 [10:49<17:21,  3.77s/it]"
          ]
        },
        {
          "output_type": "stream",
          "name": "stdout",
          "text": [
            "\n",
            "Progress1\n",
            "\n",
            "Progress111\n",
            "torch.Size([4, 256, 10])\n",
            "y_predict.shape:  torch.Size([1024, 10])\n",
            "Progress222\n",
            "Progress2\n",
            "Progress3\n",
            "Progress4\n"
          ]
        },
        {
          "output_type": "stream",
          "name": "stderr",
          "text": [
            "\rtrain:  40%|████      | 187/462 [10:53<16:26,  3.59s/it]"
          ]
        },
        {
          "output_type": "stream",
          "name": "stdout",
          "text": [
            "\n",
            "Progress1\n",
            "\n",
            "Progress111\n",
            "torch.Size([4, 256, 10])\n",
            "y_predict.shape:  torch.Size([1024, 10])\n",
            "Progress222\n",
            "Progress2\n",
            "Progress3\n",
            "Progress4\n"
          ]
        },
        {
          "output_type": "stream",
          "name": "stderr",
          "text": [
            "\rtrain:  41%|████      | 188/462 [10:56<15:44,  3.45s/it]"
          ]
        },
        {
          "output_type": "stream",
          "name": "stdout",
          "text": [
            "\n",
            "Progress1\n",
            "\n",
            "Progress111\n",
            "torch.Size([4, 256, 10])\n",
            "y_predict.shape:  torch.Size([1024, 10])\n",
            "Progress222\n",
            "Progress2\n",
            "Progress3\n",
            "Progress4\n"
          ]
        },
        {
          "output_type": "stream",
          "name": "stderr",
          "text": [
            "\rtrain:  41%|████      | 189/462 [10:59<15:35,  3.43s/it]"
          ]
        },
        {
          "output_type": "stream",
          "name": "stdout",
          "text": [
            "\n",
            "Progress1\n",
            "\n",
            "Progress111\n",
            "torch.Size([4, 256, 10])\n",
            "y_predict.shape:  torch.Size([1024, 10])\n",
            "Progress222\n",
            "Progress2\n",
            "Progress3\n",
            "Progress4\n"
          ]
        },
        {
          "output_type": "stream",
          "name": "stderr",
          "text": [
            "\rtrain:  41%|████      | 190/462 [11:03<16:46,  3.70s/it]"
          ]
        },
        {
          "output_type": "stream",
          "name": "stdout",
          "text": [
            "\n",
            "Progress1\n",
            "\n",
            "Progress111\n",
            "torch.Size([4, 256, 10])\n",
            "y_predict.shape:  torch.Size([1024, 10])\n",
            "Progress222\n",
            "Progress2\n",
            "Progress3\n",
            "Progress4\n"
          ]
        },
        {
          "output_type": "stream",
          "name": "stderr",
          "text": [
            "\rtrain:  41%|████▏     | 191/462 [11:06<15:47,  3.50s/it]"
          ]
        },
        {
          "output_type": "stream",
          "name": "stdout",
          "text": [
            "\n",
            "Progress1\n",
            "\n",
            "Progress111\n",
            "torch.Size([4, 256, 10])\n",
            "y_predict.shape:  torch.Size([1024, 10])\n",
            "Progress222\n",
            "Progress2\n",
            "Progress3\n",
            "Progress4\n"
          ]
        },
        {
          "output_type": "stream",
          "name": "stderr",
          "text": [
            "\rtrain:  42%|████▏     | 192/462 [11:09<15:04,  3.35s/it]"
          ]
        },
        {
          "output_type": "stream",
          "name": "stdout",
          "text": [
            "\n",
            "Progress1\n",
            "\n",
            "Progress111\n",
            "torch.Size([4, 256, 10])\n",
            "y_predict.shape:  torch.Size([1024, 10])\n",
            "Progress222\n",
            "Progress2\n",
            "Progress3\n",
            "Progress4\n"
          ]
        },
        {
          "output_type": "stream",
          "name": "stderr",
          "text": [
            "\rtrain:  42%|████▏     | 193/462 [11:13<14:45,  3.29s/it]"
          ]
        },
        {
          "output_type": "stream",
          "name": "stdout",
          "text": [
            "\n",
            "Progress1\n",
            "\n",
            "Progress111\n",
            "torch.Size([4, 256, 10])\n",
            "y_predict.shape:  torch.Size([1024, 10])\n",
            "Progress222\n",
            "Progress2\n",
            "Progress3\n",
            "Progress4\n"
          ]
        },
        {
          "output_type": "stream",
          "name": "stderr",
          "text": [
            "\rtrain:  42%|████▏     | 194/462 [11:17<16:36,  3.72s/it]"
          ]
        },
        {
          "output_type": "stream",
          "name": "stdout",
          "text": [
            "\n",
            "Progress1\n",
            "\n",
            "Progress111\n",
            "torch.Size([4, 256, 10])\n",
            "y_predict.shape:  torch.Size([1024, 10])\n",
            "Progress222\n",
            "Progress2\n",
            "Progress3\n",
            "Progress4\n"
          ]
        },
        {
          "output_type": "stream",
          "name": "stderr",
          "text": [
            "\rtrain:  42%|████▏     | 195/462 [11:21<15:48,  3.55s/it]"
          ]
        },
        {
          "output_type": "stream",
          "name": "stdout",
          "text": [
            "\n",
            "Progress1\n",
            "\n",
            "Progress111\n",
            "torch.Size([4, 256, 10])\n",
            "y_predict.shape:  torch.Size([1024, 10])\n",
            "Progress222\n",
            "Progress2\n",
            "Progress3\n",
            "Progress4\n"
          ]
        },
        {
          "output_type": "stream",
          "name": "stderr",
          "text": [
            "\rtrain:  42%|████▏     | 196/462 [11:24<15:08,  3.41s/it]"
          ]
        },
        {
          "output_type": "stream",
          "name": "stdout",
          "text": [
            "\n",
            "Progress1\n",
            "\n",
            "Progress111\n",
            "torch.Size([4, 256, 10])\n",
            "y_predict.shape:  torch.Size([1024, 10])\n",
            "Progress222\n",
            "Progress2\n",
            "Progress3\n",
            "Progress4\n"
          ]
        },
        {
          "output_type": "stream",
          "name": "stderr",
          "text": [
            "\rtrain:  43%|████▎     | 197/462 [11:27<14:53,  3.37s/it]"
          ]
        },
        {
          "output_type": "stream",
          "name": "stdout",
          "text": [
            "\n",
            "Progress1\n",
            "\n",
            "Progress111\n",
            "torch.Size([4, 256, 10])\n",
            "y_predict.shape:  torch.Size([1024, 10])\n",
            "Progress222\n",
            "Progress2\n",
            "Progress3\n",
            "Progress4\n"
          ]
        },
        {
          "output_type": "stream",
          "name": "stderr",
          "text": [
            "\rtrain:  43%|████▎     | 198/462 [11:31<16:21,  3.72s/it]"
          ]
        },
        {
          "output_type": "stream",
          "name": "stdout",
          "text": [
            "\n",
            "Progress1\n",
            "\n",
            "Progress111\n",
            "torch.Size([4, 256, 10])\n",
            "y_predict.shape:  torch.Size([1024, 10])\n",
            "Progress222\n",
            "Progress2\n",
            "Progress3\n",
            "Progress4\n"
          ]
        },
        {
          "output_type": "stream",
          "name": "stderr",
          "text": [
            "\rtrain:  43%|████▎     | 199/462 [11:34<15:19,  3.50s/it]"
          ]
        },
        {
          "output_type": "stream",
          "name": "stdout",
          "text": [
            "\n",
            "Progress1\n",
            "\n",
            "Progress111\n",
            "torch.Size([4, 256, 10])\n",
            "y_predict.shape:  torch.Size([1024, 10])\n",
            "Progress222\n",
            "Progress2\n",
            "Progress3\n",
            "Progress4\n"
          ]
        },
        {
          "output_type": "stream",
          "name": "stderr",
          "text": [
            "\rtrain:  43%|████▎     | 200/462 [11:37<14:35,  3.34s/it]"
          ]
        },
        {
          "output_type": "stream",
          "name": "stdout",
          "text": [
            "\n",
            "Progress1\n",
            "\n",
            "Progress111\n",
            "torch.Size([4, 256, 10])\n",
            "y_predict.shape:  torch.Size([1024, 10])\n",
            "Progress222\n",
            "Progress2\n",
            "Progress3\n",
            "Progress4\n"
          ]
        },
        {
          "output_type": "stream",
          "name": "stderr",
          "text": [
            "\rtrain:  44%|████▎     | 201/462 [11:40<14:04,  3.24s/it]"
          ]
        },
        {
          "output_type": "stream",
          "name": "stdout",
          "text": [
            "\n",
            "Progress1\n",
            "\n",
            "Progress111\n",
            "torch.Size([4, 256, 10])\n",
            "y_predict.shape:  torch.Size([1024, 10])\n",
            "Progress222\n",
            "Progress2\n",
            "Progress3\n",
            "Progress4\n"
          ]
        },
        {
          "output_type": "stream",
          "name": "stderr",
          "text": [
            "\rtrain:  44%|████▎     | 202/462 [11:45<15:25,  3.56s/it]"
          ]
        },
        {
          "output_type": "stream",
          "name": "stdout",
          "text": [
            "\n",
            "Progress1\n",
            "\n",
            "Progress111\n",
            "torch.Size([4, 256, 10])\n",
            "y_predict.shape:  torch.Size([1024, 10])\n",
            "Progress222\n",
            "Progress2\n",
            "Progress3\n",
            "Progress4\n"
          ]
        },
        {
          "output_type": "stream",
          "name": "stderr",
          "text": [
            "\rtrain:  44%|████▍     | 203/462 [11:48<15:02,  3.48s/it]"
          ]
        },
        {
          "output_type": "stream",
          "name": "stdout",
          "text": [
            "\n",
            "Progress1\n",
            "\n",
            "Progress111\n",
            "torch.Size([4, 256, 10])\n",
            "y_predict.shape:  torch.Size([1024, 10])\n",
            "Progress222\n",
            "Progress2\n",
            "Progress3\n",
            "Progress4\n"
          ]
        },
        {
          "output_type": "stream",
          "name": "stderr",
          "text": [
            "\rtrain:  44%|████▍     | 204/462 [11:51<14:12,  3.30s/it]"
          ]
        },
        {
          "output_type": "stream",
          "name": "stdout",
          "text": [
            "\n",
            "Progress1\n",
            "\n",
            "Progress111\n",
            "torch.Size([4, 256, 10])\n",
            "y_predict.shape:  torch.Size([1024, 10])\n",
            "Progress222\n",
            "Progress2\n",
            "Progress3\n",
            "Progress4\n"
          ]
        },
        {
          "output_type": "stream",
          "name": "stderr",
          "text": [
            "\rtrain:  44%|████▍     | 205/462 [11:54<13:40,  3.19s/it]"
          ]
        },
        {
          "output_type": "stream",
          "name": "stdout",
          "text": [
            "\n",
            "Progress1\n",
            "\n",
            "Progress111\n",
            "torch.Size([4, 256, 10])\n",
            "y_predict.shape:  torch.Size([1024, 10])\n",
            "Progress222\n",
            "Progress2\n",
            "Progress3\n",
            "Progress4\n"
          ]
        },
        {
          "output_type": "stream",
          "name": "stderr",
          "text": [
            "\rtrain:  45%|████▍     | 206/462 [11:57<13:44,  3.22s/it]"
          ]
        },
        {
          "output_type": "stream",
          "name": "stdout",
          "text": [
            "\n",
            "Progress1\n",
            "\n",
            "Progress111\n",
            "torch.Size([4, 256, 10])\n",
            "y_predict.shape:  torch.Size([1024, 10])\n",
            "Progress222\n",
            "Progress2\n",
            "Progress3\n",
            "Progress4\n"
          ]
        },
        {
          "output_type": "stream",
          "name": "stderr",
          "text": [
            "\rtrain:  45%|████▍     | 207/462 [12:01<14:50,  3.49s/it]"
          ]
        },
        {
          "output_type": "stream",
          "name": "stdout",
          "text": [
            "\n",
            "Progress1\n",
            "\n",
            "Progress111\n",
            "torch.Size([4, 256, 10])\n",
            "y_predict.shape:  torch.Size([1024, 10])\n",
            "Progress222\n",
            "Progress2\n",
            "Progress3\n",
            "Progress4\n"
          ]
        },
        {
          "output_type": "stream",
          "name": "stderr",
          "text": [
            "\rtrain:  45%|████▌     | 208/462 [12:04<14:06,  3.33s/it]"
          ]
        },
        {
          "output_type": "stream",
          "name": "stdout",
          "text": [
            "\n",
            "Progress1\n",
            "\n",
            "Progress111\n",
            "torch.Size([4, 256, 10])\n",
            "y_predict.shape:  torch.Size([1024, 10])\n",
            "Progress222\n",
            "Progress2\n",
            "Progress3\n",
            "Progress4\n"
          ]
        },
        {
          "output_type": "stream",
          "name": "stderr",
          "text": [
            "\rtrain:  45%|████▌     | 209/462 [12:07<13:32,  3.21s/it]"
          ]
        },
        {
          "output_type": "stream",
          "name": "stdout",
          "text": [
            "\n",
            "Progress1\n",
            "\n",
            "Progress111\n",
            "torch.Size([4, 256, 10])\n",
            "y_predict.shape:  torch.Size([1024, 10])\n",
            "Progress222\n",
            "Progress2\n",
            "Progress3\n",
            "Progress4\n"
          ]
        },
        {
          "output_type": "stream",
          "name": "stderr",
          "text": [
            "\rtrain:  45%|████▌     | 210/462 [12:10<13:09,  3.13s/it]"
          ]
        },
        {
          "output_type": "stream",
          "name": "stdout",
          "text": [
            "\n",
            "Progress1\n",
            "\n",
            "Progress111\n",
            "torch.Size([4, 256, 10])\n",
            "y_predict.shape:  torch.Size([1024, 10])\n",
            "Progress222\n",
            "Progress2\n",
            "Progress3\n",
            "Progress4\n"
          ]
        },
        {
          "output_type": "stream",
          "name": "stderr",
          "text": [
            "\rtrain:  46%|████▌     | 211/462 [12:14<14:39,  3.50s/it]"
          ]
        },
        {
          "output_type": "stream",
          "name": "stdout",
          "text": [
            "\n",
            "Progress1\n",
            "\n",
            "Progress111\n",
            "torch.Size([4, 256, 10])\n",
            "y_predict.shape:  torch.Size([1024, 10])\n",
            "Progress222\n",
            "Progress2\n",
            "Progress3\n",
            "Progress4\n"
          ]
        },
        {
          "output_type": "stream",
          "name": "stderr",
          "text": [
            "\rtrain:  46%|████▌     | 212/462 [12:18<14:39,  3.52s/it]"
          ]
        },
        {
          "output_type": "stream",
          "name": "stdout",
          "text": [
            "\n",
            "Progress1\n",
            "\n",
            "Progress111\n",
            "torch.Size([4, 256, 10])\n",
            "y_predict.shape:  torch.Size([1024, 10])\n",
            "Progress222\n",
            "Progress2\n",
            "Progress3\n",
            "Progress4\n"
          ]
        },
        {
          "output_type": "stream",
          "name": "stderr",
          "text": [
            "\rtrain:  46%|████▌     | 213/462 [12:21<13:53,  3.35s/it]"
          ]
        },
        {
          "output_type": "stream",
          "name": "stdout",
          "text": [
            "\n",
            "Progress1\n",
            "\n",
            "Progress111\n",
            "torch.Size([4, 256, 10])\n",
            "y_predict.shape:  torch.Size([1024, 10])\n",
            "Progress222\n",
            "Progress2\n",
            "Progress3\n",
            "Progress4\n"
          ]
        },
        {
          "output_type": "stream",
          "name": "stderr",
          "text": [
            "\rtrain:  46%|████▋     | 214/462 [12:24<13:20,  3.23s/it]"
          ]
        },
        {
          "output_type": "stream",
          "name": "stdout",
          "text": [
            "\n",
            "Progress1\n",
            "\n",
            "Progress111\n",
            "torch.Size([4, 256, 10])\n",
            "y_predict.shape:  torch.Size([1024, 10])\n",
            "Progress222\n",
            "Progress2\n",
            "Progress3\n",
            "Progress4\n"
          ]
        },
        {
          "output_type": "stream",
          "name": "stderr",
          "text": [
            "\rtrain:  47%|████▋     | 215/462 [12:27<13:00,  3.16s/it]"
          ]
        },
        {
          "output_type": "stream",
          "name": "stdout",
          "text": [
            "\n",
            "Progress1\n",
            "\n",
            "Progress111\n",
            "torch.Size([4, 256, 10])\n",
            "y_predict.shape:  torch.Size([1024, 10])\n",
            "Progress222\n",
            "Progress2\n",
            "Progress3\n",
            "Progress4\n"
          ]
        },
        {
          "output_type": "stream",
          "name": "stderr",
          "text": [
            "\rtrain:  47%|████▋     | 216/462 [12:31<14:12,  3.47s/it]"
          ]
        },
        {
          "output_type": "stream",
          "name": "stdout",
          "text": [
            "\n",
            "Progress1\n",
            "\n",
            "Progress111\n",
            "torch.Size([4, 256, 10])\n",
            "y_predict.shape:  torch.Size([1024, 10])\n",
            "Progress222\n",
            "Progress2\n",
            "Progress3\n",
            "Progress4\n"
          ]
        },
        {
          "output_type": "stream",
          "name": "stderr",
          "text": [
            "\rtrain:  47%|████▋     | 217/462 [12:34<14:06,  3.46s/it]"
          ]
        },
        {
          "output_type": "stream",
          "name": "stdout",
          "text": [
            "\n",
            "Progress1\n",
            "\n",
            "Progress111\n",
            "torch.Size([4, 256, 10])\n",
            "y_predict.shape:  torch.Size([1024, 10])\n",
            "Progress222\n",
            "Progress2\n",
            "Progress3\n",
            "Progress4\n"
          ]
        },
        {
          "output_type": "stream",
          "name": "stderr",
          "text": [
            "\rtrain:  47%|████▋     | 218/462 [12:37<13:22,  3.29s/it]"
          ]
        },
        {
          "output_type": "stream",
          "name": "stdout",
          "text": [
            "\n",
            "Progress1\n",
            "\n",
            "Progress111\n",
            "torch.Size([4, 256, 10])\n",
            "y_predict.shape:  torch.Size([1024, 10])\n",
            "Progress222\n",
            "Progress2\n",
            "Progress3\n",
            "Progress4\n"
          ]
        },
        {
          "output_type": "stream",
          "name": "stderr",
          "text": [
            "\rtrain:  47%|████▋     | 219/462 [12:40<12:52,  3.18s/it]"
          ]
        },
        {
          "output_type": "stream",
          "name": "stdout",
          "text": [
            "\n",
            "Progress1\n",
            "\n",
            "Progress111\n",
            "torch.Size([4, 256, 10])\n",
            "y_predict.shape:  torch.Size([1024, 10])\n",
            "Progress222\n",
            "Progress2\n",
            "Progress3\n",
            "Progress4\n"
          ]
        },
        {
          "output_type": "stream",
          "name": "stderr",
          "text": [
            "\rtrain:  48%|████▊     | 220/462 [12:43<12:34,  3.12s/it]"
          ]
        },
        {
          "output_type": "stream",
          "name": "stdout",
          "text": [
            "\n",
            "Progress1\n",
            "\n",
            "Progress111\n",
            "torch.Size([4, 256, 10])\n",
            "y_predict.shape:  torch.Size([1024, 10])\n",
            "Progress222\n",
            "Progress2\n",
            "Progress3\n",
            "Progress4\n"
          ]
        },
        {
          "output_type": "stream",
          "name": "stderr",
          "text": [
            "\rtrain:  48%|████▊     | 221/462 [12:47<13:49,  3.44s/it]"
          ]
        },
        {
          "output_type": "stream",
          "name": "stdout",
          "text": [
            "\n",
            "Progress1\n",
            "\n",
            "Progress111\n",
            "torch.Size([4, 256, 10])\n",
            "y_predict.shape:  torch.Size([1024, 10])\n",
            "Progress222\n",
            "Progress2\n",
            "Progress3\n",
            "Progress4\n"
          ]
        },
        {
          "output_type": "stream",
          "name": "stderr",
          "text": [
            "\rtrain:  48%|████▊     | 222/462 [12:51<13:37,  3.41s/it]"
          ]
        },
        {
          "output_type": "stream",
          "name": "stdout",
          "text": [
            "\n",
            "Progress1\n",
            "\n",
            "Progress111\n",
            "torch.Size([4, 256, 10])\n",
            "y_predict.shape:  torch.Size([1024, 10])\n",
            "Progress222\n",
            "Progress2\n",
            "Progress3\n",
            "Progress4\n"
          ]
        },
        {
          "output_type": "stream",
          "name": "stderr",
          "text": [
            "\rtrain:  48%|████▊     | 223/462 [12:54<12:59,  3.26s/it]"
          ]
        },
        {
          "output_type": "stream",
          "name": "stdout",
          "text": [
            "\n",
            "Progress1\n",
            "\n",
            "Progress111\n",
            "torch.Size([4, 256, 10])\n",
            "y_predict.shape:  torch.Size([1024, 10])\n",
            "Progress222\n",
            "Progress2\n",
            "Progress3\n",
            "Progress4\n"
          ]
        },
        {
          "output_type": "stream",
          "name": "stderr",
          "text": [
            "\rtrain:  48%|████▊     | 224/462 [12:57<12:29,  3.15s/it]"
          ]
        },
        {
          "output_type": "stream",
          "name": "stdout",
          "text": [
            "\n",
            "Progress1\n",
            "\n",
            "Progress111\n",
            "torch.Size([4, 256, 10])\n",
            "y_predict.shape:  torch.Size([1024, 10])\n",
            "Progress222\n",
            "Progress2\n",
            "Progress3\n",
            "Progress4\n"
          ]
        },
        {
          "output_type": "stream",
          "name": "stderr",
          "text": [
            "\rtrain:  49%|████▊     | 225/462 [13:00<12:47,  3.24s/it]"
          ]
        },
        {
          "output_type": "stream",
          "name": "stdout",
          "text": [
            "\n",
            "Progress1\n",
            "\n",
            "Progress111\n",
            "torch.Size([4, 256, 10])\n",
            "y_predict.shape:  torch.Size([1024, 10])\n",
            "Progress222\n",
            "Progress2\n",
            "Progress3\n",
            "Progress4\n"
          ]
        },
        {
          "output_type": "stream",
          "name": "stderr",
          "text": [
            "\rtrain:  49%|████▉     | 226/462 [13:04<13:35,  3.46s/it]"
          ]
        },
        {
          "output_type": "stream",
          "name": "stdout",
          "text": [
            "\n",
            "Progress1\n",
            "\n",
            "Progress111\n",
            "torch.Size([4, 256, 10])\n",
            "y_predict.shape:  torch.Size([1024, 10])\n",
            "Progress222\n",
            "Progress2\n",
            "Progress3\n",
            "Progress4\n"
          ]
        },
        {
          "output_type": "stream",
          "name": "stderr",
          "text": [
            "\rtrain:  49%|████▉     | 227/462 [13:07<12:53,  3.29s/it]"
          ]
        },
        {
          "output_type": "stream",
          "name": "stdout",
          "text": [
            "\n",
            "Progress1\n",
            "\n",
            "Progress111\n",
            "torch.Size([4, 256, 10])\n",
            "y_predict.shape:  torch.Size([1024, 10])\n",
            "Progress222\n",
            "Progress2\n",
            "Progress3\n",
            "Progress4\n"
          ]
        },
        {
          "output_type": "stream",
          "name": "stderr",
          "text": [
            "\rtrain:  49%|████▉     | 228/462 [13:10<12:19,  3.16s/it]"
          ]
        },
        {
          "output_type": "stream",
          "name": "stdout",
          "text": [
            "\n",
            "Progress1\n",
            "\n",
            "Progress111\n",
            "torch.Size([4, 256, 10])\n",
            "y_predict.shape:  torch.Size([1024, 10])\n",
            "Progress222\n",
            "Progress2\n",
            "Progress3\n",
            "Progress4\n"
          ]
        },
        {
          "output_type": "stream",
          "name": "stderr",
          "text": [
            "\rtrain:  50%|████▉     | 229/462 [13:13<11:56,  3.08s/it]"
          ]
        },
        {
          "output_type": "stream",
          "name": "stdout",
          "text": [
            "\n",
            "Progress1\n",
            "\n",
            "Progress111\n",
            "torch.Size([4, 256, 10])\n",
            "y_predict.shape:  torch.Size([1024, 10])\n",
            "Progress222\n",
            "Progress2\n",
            "Progress3\n",
            "Progress4\n"
          ]
        },
        {
          "output_type": "stream",
          "name": "stderr",
          "text": [
            "\rtrain:  50%|████▉     | 230/462 [13:17<13:13,  3.42s/it]"
          ]
        },
        {
          "output_type": "stream",
          "name": "stdout",
          "text": [
            "\n",
            "Progress1\n",
            "\n",
            "Progress111\n",
            "torch.Size([4, 256, 10])\n",
            "y_predict.shape:  torch.Size([1024, 10])\n",
            "Progress222\n",
            "Progress2\n",
            "Progress3\n",
            "Progress4\n"
          ]
        },
        {
          "output_type": "stream",
          "name": "stderr",
          "text": [
            "\rtrain:  50%|█████     | 231/462 [13:20<13:15,  3.44s/it]"
          ]
        },
        {
          "output_type": "stream",
          "name": "stdout",
          "text": [
            "\n",
            "Progress1\n",
            "\n",
            "Progress111\n",
            "torch.Size([4, 256, 10])\n",
            "y_predict.shape:  torch.Size([1024, 10])\n",
            "Progress222\n",
            "Progress2\n",
            "Progress3\n",
            "Progress4\n"
          ]
        },
        {
          "output_type": "stream",
          "name": "stderr",
          "text": [
            "\rtrain:  50%|█████     | 232/462 [13:23<12:36,  3.29s/it]"
          ]
        },
        {
          "output_type": "stream",
          "name": "stdout",
          "text": [
            "\n",
            "Progress1\n",
            "\n",
            "Progress111\n",
            "torch.Size([4, 256, 10])\n",
            "y_predict.shape:  torch.Size([1024, 10])\n",
            "Progress222\n",
            "Progress2\n",
            "Progress3\n",
            "Progress4\n"
          ]
        },
        {
          "output_type": "stream",
          "name": "stderr",
          "text": [
            "\rtrain:  50%|█████     | 233/462 [13:26<12:11,  3.19s/it]"
          ]
        },
        {
          "output_type": "stream",
          "name": "stdout",
          "text": [
            "\n",
            "Progress1\n",
            "\n",
            "Progress111\n",
            "torch.Size([4, 256, 10])\n",
            "y_predict.shape:  torch.Size([1024, 10])\n",
            "Progress222\n",
            "Progress2\n",
            "Progress3\n",
            "Progress4\n"
          ]
        },
        {
          "output_type": "stream",
          "name": "stderr",
          "text": [
            "\rtrain:  51%|█████     | 234/462 [13:30<12:21,  3.25s/it]"
          ]
        },
        {
          "output_type": "stream",
          "name": "stdout",
          "text": [
            "\n",
            "Progress1\n",
            "\n",
            "Progress111\n",
            "torch.Size([4, 256, 10])\n",
            "y_predict.shape:  torch.Size([1024, 10])\n",
            "Progress222\n",
            "Progress2\n",
            "Progress3\n",
            "Progress4\n"
          ]
        },
        {
          "output_type": "stream",
          "name": "stderr",
          "text": [
            "\rtrain:  51%|█████     | 235/462 [13:34<13:22,  3.54s/it]"
          ]
        },
        {
          "output_type": "stream",
          "name": "stdout",
          "text": [
            "\n",
            "Progress1\n",
            "\n",
            "Progress111\n",
            "torch.Size([4, 256, 10])\n",
            "y_predict.shape:  torch.Size([1024, 10])\n",
            "Progress222\n",
            "Progress2\n",
            "Progress3\n",
            "Progress4\n"
          ]
        },
        {
          "output_type": "stream",
          "name": "stderr",
          "text": [
            "\rtrain:  51%|█████     | 236/462 [13:37<12:44,  3.38s/it]"
          ]
        },
        {
          "output_type": "stream",
          "name": "stdout",
          "text": [
            "\n",
            "Progress1\n",
            "\n",
            "Progress111\n",
            "torch.Size([4, 256, 10])\n",
            "y_predict.shape:  torch.Size([1024, 10])\n",
            "Progress222\n",
            "Progress2\n",
            "Progress3\n",
            "Progress4\n"
          ]
        },
        {
          "output_type": "stream",
          "name": "stderr",
          "text": [
            "\rtrain:  51%|█████▏    | 237/462 [13:40<12:11,  3.25s/it]"
          ]
        },
        {
          "output_type": "stream",
          "name": "stdout",
          "text": [
            "\n",
            "Progress1\n",
            "\n",
            "Progress111\n",
            "torch.Size([4, 256, 10])\n",
            "y_predict.shape:  torch.Size([1024, 10])\n",
            "Progress222\n",
            "Progress2\n",
            "Progress3\n",
            "Progress4\n"
          ]
        },
        {
          "output_type": "stream",
          "name": "stderr",
          "text": [
            "\rtrain:  52%|█████▏    | 238/462 [13:43<11:49,  3.17s/it]"
          ]
        },
        {
          "output_type": "stream",
          "name": "stdout",
          "text": [
            "\n",
            "Progress1\n",
            "\n",
            "Progress111\n",
            "torch.Size([4, 256, 10])\n",
            "y_predict.shape:  torch.Size([1024, 10])\n",
            "Progress222\n",
            "Progress2\n",
            "Progress3\n",
            "Progress4\n"
          ]
        },
        {
          "output_type": "stream",
          "name": "stderr",
          "text": [
            "\rtrain:  52%|█████▏    | 239/462 [13:46<12:17,  3.31s/it]"
          ]
        },
        {
          "output_type": "stream",
          "name": "stdout",
          "text": [
            "\n",
            "Progress1\n",
            "\n",
            "Progress111\n",
            "torch.Size([4, 256, 10])\n",
            "y_predict.shape:  torch.Size([1024, 10])\n",
            "Progress222\n",
            "Progress2\n",
            "Progress3\n",
            "Progress4\n"
          ]
        },
        {
          "output_type": "stream",
          "name": "stderr",
          "text": [
            "\rtrain:  52%|█████▏    | 240/462 [13:50<13:02,  3.52s/it]"
          ]
        },
        {
          "output_type": "stream",
          "name": "stdout",
          "text": [
            "\n",
            "Progress1\n",
            "\n",
            "Progress111\n",
            "torch.Size([4, 256, 10])\n",
            "y_predict.shape:  torch.Size([1024, 10])\n",
            "Progress222\n",
            "Progress2\n",
            "Progress3\n",
            "Progress4\n"
          ]
        },
        {
          "output_type": "stream",
          "name": "stderr",
          "text": [
            "\rtrain:  52%|█████▏    | 241/462 [13:53<12:16,  3.33s/it]"
          ]
        },
        {
          "output_type": "stream",
          "name": "stdout",
          "text": [
            "\n",
            "Progress1\n",
            "\n",
            "Progress111\n",
            "torch.Size([4, 256, 10])\n",
            "y_predict.shape:  torch.Size([1024, 10])\n",
            "Progress222\n",
            "Progress2\n",
            "Progress3\n",
            "Progress4\n"
          ]
        },
        {
          "output_type": "stream",
          "name": "stderr",
          "text": [
            "\rtrain:  52%|█████▏    | 242/462 [13:56<11:44,  3.20s/it]"
          ]
        },
        {
          "output_type": "stream",
          "name": "stdout",
          "text": [
            "\n",
            "Progress1\n",
            "\n",
            "Progress111\n",
            "torch.Size([4, 256, 10])\n",
            "y_predict.shape:  torch.Size([1024, 10])\n",
            "Progress222\n",
            "Progress2\n",
            "Progress3\n",
            "Progress4\n"
          ]
        },
        {
          "output_type": "stream",
          "name": "stderr",
          "text": [
            "\rtrain:  53%|█████▎    | 243/462 [13:59<11:21,  3.11s/it]"
          ]
        },
        {
          "output_type": "stream",
          "name": "stdout",
          "text": [
            "\n",
            "Progress1\n",
            "\n",
            "Progress111\n",
            "torch.Size([4, 256, 10])\n",
            "y_predict.shape:  torch.Size([1024, 10])\n",
            "Progress222\n",
            "Progress2\n",
            "Progress3\n",
            "Progress4\n"
          ]
        },
        {
          "output_type": "stream",
          "name": "stderr",
          "text": [
            "\rtrain:  53%|█████▎    | 244/462 [14:03<12:10,  3.35s/it]"
          ]
        },
        {
          "output_type": "stream",
          "name": "stdout",
          "text": [
            "\n",
            "Progress1\n",
            "\n",
            "Progress111\n",
            "torch.Size([4, 256, 10])\n",
            "y_predict.shape:  torch.Size([1024, 10])\n",
            "Progress222\n",
            "Progress2\n",
            "Progress3\n",
            "Progress4\n"
          ]
        },
        {
          "output_type": "stream",
          "name": "stderr",
          "text": [
            "\rtrain:  53%|█████▎    | 245/462 [14:07<12:27,  3.45s/it]"
          ]
        },
        {
          "output_type": "stream",
          "name": "stdout",
          "text": [
            "\n",
            "Progress1\n",
            "\n",
            "Progress111\n",
            "torch.Size([4, 256, 10])\n",
            "y_predict.shape:  torch.Size([1024, 10])\n",
            "Progress222\n",
            "Progress2\n",
            "Progress3\n",
            "Progress4\n"
          ]
        },
        {
          "output_type": "stream",
          "name": "stderr",
          "text": [
            "\rtrain:  53%|█████▎    | 246/462 [14:10<11:50,  3.29s/it]"
          ]
        },
        {
          "output_type": "stream",
          "name": "stdout",
          "text": [
            "\n",
            "Progress1\n",
            "\n",
            "Progress111\n",
            "torch.Size([4, 256, 10])\n",
            "y_predict.shape:  torch.Size([1024, 10])\n",
            "Progress222\n",
            "Progress2\n",
            "Progress3\n",
            "Progress4\n"
          ]
        },
        {
          "output_type": "stream",
          "name": "stderr",
          "text": [
            "\rtrain:  53%|█████▎    | 247/462 [14:13<11:19,  3.16s/it]"
          ]
        },
        {
          "output_type": "stream",
          "name": "stdout",
          "text": [
            "\n",
            "Progress1\n",
            "\n",
            "Progress111\n",
            "torch.Size([4, 256, 10])\n",
            "y_predict.shape:  torch.Size([1024, 10])\n",
            "Progress222\n",
            "Progress2\n",
            "Progress3\n",
            "Progress4\n"
          ]
        },
        {
          "output_type": "stream",
          "name": "stderr",
          "text": [
            "\rtrain:  54%|█████▎    | 248/462 [14:16<11:18,  3.17s/it]"
          ]
        },
        {
          "output_type": "stream",
          "name": "stdout",
          "text": [
            "\n",
            "Progress1\n",
            "\n",
            "Progress111\n",
            "torch.Size([4, 256, 10])\n",
            "y_predict.shape:  torch.Size([1024, 10])\n",
            "Progress222\n",
            "Progress2\n",
            "Progress3\n",
            "Progress4\n"
          ]
        },
        {
          "output_type": "stream",
          "name": "stderr",
          "text": [
            "\rtrain:  54%|█████▍    | 249/462 [14:20<12:36,  3.55s/it]"
          ]
        },
        {
          "output_type": "stream",
          "name": "stdout",
          "text": [
            "\n",
            "Progress1\n",
            "\n",
            "Progress111\n",
            "torch.Size([4, 256, 10])\n",
            "y_predict.shape:  torch.Size([1024, 10])\n",
            "Progress222\n",
            "Progress2\n",
            "Progress3\n",
            "Progress4\n"
          ]
        },
        {
          "output_type": "stream",
          "name": "stderr",
          "text": [
            "\rtrain:  54%|█████▍    | 250/462 [14:23<11:55,  3.37s/it]"
          ]
        },
        {
          "output_type": "stream",
          "name": "stdout",
          "text": [
            "\n",
            "Progress1\n",
            "\n",
            "Progress111\n",
            "torch.Size([4, 256, 10])\n",
            "y_predict.shape:  torch.Size([1024, 10])\n",
            "Progress222\n",
            "Progress2\n",
            "Progress3\n",
            "Progress4\n"
          ]
        },
        {
          "output_type": "stream",
          "name": "stderr",
          "text": [
            "\rtrain:  54%|█████▍    | 251/462 [14:26<11:22,  3.24s/it]"
          ]
        },
        {
          "output_type": "stream",
          "name": "stdout",
          "text": [
            "\n",
            "Progress1\n",
            "\n",
            "Progress111\n",
            "torch.Size([4, 256, 10])\n",
            "y_predict.shape:  torch.Size([1024, 10])\n",
            "Progress222\n",
            "Progress2\n",
            "Progress3\n",
            "Progress4\n"
          ]
        },
        {
          "output_type": "stream",
          "name": "stderr",
          "text": [
            "\rtrain:  55%|█████▍    | 252/462 [14:29<11:01,  3.15s/it]"
          ]
        },
        {
          "output_type": "stream",
          "name": "stdout",
          "text": [
            "\n",
            "Progress1\n",
            "\n",
            "Progress111\n",
            "torch.Size([4, 256, 10])\n",
            "y_predict.shape:  torch.Size([1024, 10])\n",
            "Progress222\n",
            "Progress2\n",
            "Progress3\n",
            "Progress4\n"
          ]
        },
        {
          "output_type": "stream",
          "name": "stderr",
          "text": [
            "\rtrain:  55%|█████▍    | 253/462 [14:33<11:32,  3.31s/it]"
          ]
        },
        {
          "output_type": "stream",
          "name": "stdout",
          "text": [
            "\n",
            "Progress1\n",
            "\n",
            "Progress111\n",
            "torch.Size([4, 256, 10])\n",
            "y_predict.shape:  torch.Size([1024, 10])\n",
            "Progress222\n",
            "Progress2\n",
            "Progress3\n",
            "Progress4\n"
          ]
        },
        {
          "output_type": "stream",
          "name": "stderr",
          "text": [
            "\rtrain:  55%|█████▍    | 254/462 [14:36<12:01,  3.47s/it]"
          ]
        },
        {
          "output_type": "stream",
          "name": "stdout",
          "text": [
            "\n",
            "Progress1\n",
            "\n",
            "Progress111\n",
            "torch.Size([4, 256, 10])\n",
            "y_predict.shape:  torch.Size([1024, 10])\n",
            "Progress222\n",
            "Progress2\n",
            "Progress3\n",
            "Progress4\n"
          ]
        },
        {
          "output_type": "stream",
          "name": "stderr",
          "text": [
            "\rtrain:  55%|█████▌    | 255/462 [14:39<11:22,  3.30s/it]"
          ]
        },
        {
          "output_type": "stream",
          "name": "stdout",
          "text": [
            "\n",
            "Progress1\n",
            "\n",
            "Progress111\n",
            "torch.Size([4, 256, 10])\n",
            "y_predict.shape:  torch.Size([1024, 10])\n",
            "Progress222\n",
            "Progress2\n",
            "Progress3\n",
            "Progress4\n"
          ]
        },
        {
          "output_type": "stream",
          "name": "stderr",
          "text": [
            "\rtrain:  55%|█████▌    | 256/462 [14:42<10:57,  3.19s/it]"
          ]
        },
        {
          "output_type": "stream",
          "name": "stdout",
          "text": [
            "\n",
            "Progress1\n",
            "\n",
            "Progress111\n",
            "torch.Size([4, 256, 10])\n",
            "y_predict.shape:  torch.Size([1024, 10])\n",
            "Progress222\n",
            "Progress2\n",
            "Progress3\n",
            "Progress4\n"
          ]
        },
        {
          "output_type": "stream",
          "name": "stderr",
          "text": [
            "\rtrain:  56%|█████▌    | 257/462 [14:45<10:40,  3.12s/it]"
          ]
        },
        {
          "output_type": "stream",
          "name": "stdout",
          "text": [
            "\n",
            "Progress1\n",
            "\n",
            "Progress111\n",
            "torch.Size([4, 256, 10])\n",
            "y_predict.shape:  torch.Size([1024, 10])\n",
            "Progress222\n",
            "Progress2\n",
            "Progress3\n",
            "Progress4\n"
          ]
        },
        {
          "output_type": "stream",
          "name": "stderr",
          "text": [
            "\rtrain:  56%|█████▌    | 258/462 [14:50<12:05,  3.56s/it]"
          ]
        },
        {
          "output_type": "stream",
          "name": "stdout",
          "text": [
            "\n",
            "Progress1\n",
            "\n",
            "Progress111\n",
            "torch.Size([4, 256, 10])\n",
            "y_predict.shape:  torch.Size([1024, 10])\n",
            "Progress222\n",
            "Progress2\n",
            "Progress3\n",
            "Progress4\n"
          ]
        },
        {
          "output_type": "stream",
          "name": "stderr",
          "text": [
            "\rtrain:  56%|█████▌    | 259/462 [14:53<11:19,  3.35s/it]"
          ]
        },
        {
          "output_type": "stream",
          "name": "stdout",
          "text": [
            "\n",
            "Progress1\n",
            "\n",
            "Progress111\n",
            "torch.Size([4, 256, 10])\n",
            "y_predict.shape:  torch.Size([1024, 10])\n",
            "Progress222\n",
            "Progress2\n",
            "Progress3\n",
            "Progress4\n"
          ]
        },
        {
          "output_type": "stream",
          "name": "stderr",
          "text": [
            "\rtrain:  56%|█████▋    | 260/462 [14:56<10:50,  3.22s/it]"
          ]
        },
        {
          "output_type": "stream",
          "name": "stdout",
          "text": [
            "\n",
            "Progress1\n",
            "\n",
            "Progress111\n",
            "torch.Size([4, 256, 10])\n",
            "y_predict.shape:  torch.Size([1024, 10])\n",
            "Progress222\n",
            "Progress2\n",
            "Progress3\n",
            "Progress4\n"
          ]
        },
        {
          "output_type": "stream",
          "name": "stderr",
          "text": [
            "\rtrain:  56%|█████▋    | 261/462 [14:59<10:28,  3.13s/it]"
          ]
        },
        {
          "output_type": "stream",
          "name": "stdout",
          "text": [
            "\n",
            "Progress1\n",
            "\n",
            "Progress111\n",
            "torch.Size([4, 256, 10])\n",
            "y_predict.shape:  torch.Size([1024, 10])\n",
            "Progress222\n",
            "Progress2\n",
            "Progress3\n",
            "Progress4\n"
          ]
        },
        {
          "output_type": "stream",
          "name": "stderr",
          "text": [
            "\rtrain:  57%|█████▋    | 262/462 [15:02<11:05,  3.33s/it]"
          ]
        },
        {
          "output_type": "stream",
          "name": "stdout",
          "text": [
            "\n",
            "Progress1\n",
            "\n",
            "Progress111\n",
            "torch.Size([4, 256, 10])\n",
            "y_predict.shape:  torch.Size([1024, 10])\n",
            "Progress222\n",
            "Progress2\n",
            "Progress3\n",
            "Progress4\n"
          ]
        },
        {
          "output_type": "stream",
          "name": "stderr",
          "text": [
            "\rtrain:  57%|█████▋    | 263/462 [15:06<11:21,  3.43s/it]"
          ]
        },
        {
          "output_type": "stream",
          "name": "stdout",
          "text": [
            "\n",
            "Progress1\n",
            "\n",
            "Progress111\n",
            "torch.Size([4, 256, 10])\n",
            "y_predict.shape:  torch.Size([1024, 10])\n",
            "Progress222\n",
            "Progress2\n",
            "Progress3\n",
            "Progress4\n"
          ]
        },
        {
          "output_type": "stream",
          "name": "stderr",
          "text": [
            "\rtrain:  57%|█████▋    | 264/462 [15:09<10:46,  3.26s/it]"
          ]
        },
        {
          "output_type": "stream",
          "name": "stdout",
          "text": [
            "\n",
            "Progress1\n",
            "\n",
            "Progress111\n",
            "torch.Size([4, 256, 10])\n",
            "y_predict.shape:  torch.Size([1024, 10])\n",
            "Progress222\n",
            "Progress2\n",
            "Progress3\n",
            "Progress4\n"
          ]
        },
        {
          "output_type": "stream",
          "name": "stderr",
          "text": [
            "\rtrain:  57%|█████▋    | 265/462 [15:12<10:19,  3.14s/it]"
          ]
        },
        {
          "output_type": "stream",
          "name": "stdout",
          "text": [
            "\n",
            "Progress1\n",
            "\n",
            "Progress111\n",
            "torch.Size([4, 256, 10])\n",
            "y_predict.shape:  torch.Size([1024, 10])\n",
            "Progress222\n",
            "Progress2\n",
            "Progress3\n",
            "Progress4\n"
          ]
        },
        {
          "output_type": "stream",
          "name": "stderr",
          "text": [
            "\rtrain:  58%|█████▊    | 266/462 [15:15<10:01,  3.07s/it]"
          ]
        },
        {
          "output_type": "stream",
          "name": "stdout",
          "text": [
            "\n",
            "Progress1\n",
            "\n",
            "Progress111\n",
            "torch.Size([4, 256, 10])\n",
            "y_predict.shape:  torch.Size([1024, 10])\n",
            "Progress222\n",
            "Progress2\n",
            "Progress3\n",
            "Progress4\n"
          ]
        },
        {
          "output_type": "stream",
          "name": "stderr",
          "text": [
            "\rtrain:  58%|█████▊    | 267/462 [15:19<11:11,  3.44s/it]"
          ]
        },
        {
          "output_type": "stream",
          "name": "stdout",
          "text": [
            "\n",
            "Progress1\n",
            "\n",
            "Progress111\n",
            "torch.Size([4, 256, 10])\n",
            "y_predict.shape:  torch.Size([1024, 10])\n",
            "Progress222\n",
            "Progress2\n",
            "Progress3\n",
            "Progress4\n"
          ]
        },
        {
          "output_type": "stream",
          "name": "stderr",
          "text": [
            "\rtrain:  58%|█████▊    | 268/462 [15:22<11:10,  3.46s/it]"
          ]
        },
        {
          "output_type": "stream",
          "name": "stdout",
          "text": [
            "\n",
            "Progress1\n",
            "\n",
            "Progress111\n",
            "torch.Size([4, 256, 10])\n",
            "y_predict.shape:  torch.Size([1024, 10])\n",
            "Progress222\n",
            "Progress2\n",
            "Progress3\n",
            "Progress4\n"
          ]
        },
        {
          "output_type": "stream",
          "name": "stderr",
          "text": [
            "\rtrain:  58%|█████▊    | 269/462 [15:25<10:36,  3.30s/it]"
          ]
        },
        {
          "output_type": "stream",
          "name": "stdout",
          "text": [
            "\n",
            "Progress1\n",
            "\n",
            "Progress111\n",
            "torch.Size([4, 256, 10])\n",
            "y_predict.shape:  torch.Size([1024, 10])\n",
            "Progress222\n",
            "Progress2\n",
            "Progress3\n",
            "Progress4\n"
          ]
        },
        {
          "output_type": "stream",
          "name": "stderr",
          "text": [
            "\rtrain:  58%|█████▊    | 270/462 [15:28<10:06,  3.16s/it]"
          ]
        },
        {
          "output_type": "stream",
          "name": "stdout",
          "text": [
            "\n",
            "Progress1\n",
            "\n",
            "Progress111\n",
            "torch.Size([4, 256, 10])\n",
            "y_predict.shape:  torch.Size([1024, 10])\n",
            "Progress222\n",
            "Progress2\n",
            "Progress3\n",
            "Progress4\n"
          ]
        },
        {
          "output_type": "stream",
          "name": "stderr",
          "text": [
            "\rtrain:  59%|█████▊    | 271/462 [15:32<10:13,  3.21s/it]"
          ]
        },
        {
          "output_type": "stream",
          "name": "stdout",
          "text": [
            "\n",
            "Progress1\n",
            "\n",
            "Progress111\n",
            "torch.Size([4, 256, 10])\n",
            "y_predict.shape:  torch.Size([1024, 10])\n",
            "Progress222\n",
            "Progress2\n",
            "Progress3\n",
            "Progress4\n"
          ]
        },
        {
          "output_type": "stream",
          "name": "stderr",
          "text": [
            "\rtrain:  59%|█████▉    | 272/462 [15:36<11:03,  3.49s/it]"
          ]
        },
        {
          "output_type": "stream",
          "name": "stdout",
          "text": [
            "\n",
            "Progress1\n",
            "\n",
            "Progress111\n",
            "torch.Size([4, 256, 10])\n",
            "y_predict.shape:  torch.Size([1024, 10])\n",
            "Progress222\n",
            "Progress2\n",
            "Progress3\n",
            "Progress4\n"
          ]
        },
        {
          "output_type": "stream",
          "name": "stderr",
          "text": [
            "\rtrain:  59%|█████▉    | 273/462 [15:39<10:27,  3.32s/it]"
          ]
        },
        {
          "output_type": "stream",
          "name": "stdout",
          "text": [
            "\n",
            "Progress1\n",
            "\n",
            "Progress111\n",
            "torch.Size([4, 256, 10])\n",
            "y_predict.shape:  torch.Size([1024, 10])\n",
            "Progress222\n",
            "Progress2\n",
            "Progress3\n",
            "Progress4\n"
          ]
        },
        {
          "output_type": "stream",
          "name": "stderr",
          "text": [
            "\rtrain:  59%|█████▉    | 274/462 [15:42<10:04,  3.21s/it]"
          ]
        },
        {
          "output_type": "stream",
          "name": "stdout",
          "text": [
            "\n",
            "Progress1\n",
            "\n",
            "Progress111\n",
            "torch.Size([4, 256, 10])\n",
            "y_predict.shape:  torch.Size([1024, 10])\n",
            "Progress222\n",
            "Progress2\n",
            "Progress3\n",
            "Progress4\n"
          ]
        },
        {
          "output_type": "stream",
          "name": "stderr",
          "text": [
            "\rtrain:  60%|█████▉    | 275/462 [15:45<09:46,  3.14s/it]"
          ]
        },
        {
          "output_type": "stream",
          "name": "stdout",
          "text": [
            "\n",
            "Progress1\n",
            "\n",
            "Progress111\n",
            "torch.Size([4, 256, 10])\n",
            "y_predict.shape:  torch.Size([1024, 10])\n",
            "Progress222\n",
            "Progress2\n",
            "Progress3\n",
            "Progress4\n"
          ]
        },
        {
          "output_type": "stream",
          "name": "stderr",
          "text": [
            "\rtrain:  60%|█████▉    | 276/462 [15:49<11:05,  3.58s/it]"
          ]
        },
        {
          "output_type": "stream",
          "name": "stdout",
          "text": [
            "\n",
            "Progress1\n",
            "\n",
            "Progress111\n",
            "torch.Size([4, 256, 10])\n",
            "y_predict.shape:  torch.Size([1024, 10])\n",
            "Progress222\n",
            "Progress2\n",
            "Progress3\n",
            "Progress4\n"
          ]
        },
        {
          "output_type": "stream",
          "name": "stderr",
          "text": [
            "\rtrain:  60%|█████▉    | 277/462 [15:52<10:38,  3.45s/it]"
          ]
        },
        {
          "output_type": "stream",
          "name": "stdout",
          "text": [
            "\n",
            "Progress1\n",
            "\n",
            "Progress111\n",
            "torch.Size([4, 256, 10])\n",
            "y_predict.shape:  torch.Size([1024, 10])\n",
            "Progress222\n",
            "Progress2\n",
            "Progress3\n",
            "Progress4\n"
          ]
        },
        {
          "output_type": "stream",
          "name": "stderr",
          "text": [
            "\rtrain:  60%|██████    | 278/462 [15:55<10:06,  3.30s/it]"
          ]
        },
        {
          "output_type": "stream",
          "name": "stdout",
          "text": [
            "\n",
            "Progress1\n",
            "\n",
            "Progress111\n",
            "torch.Size([4, 256, 10])\n",
            "y_predict.shape:  torch.Size([1024, 10])\n",
            "Progress222\n",
            "Progress2\n",
            "Progress3\n",
            "Progress4\n"
          ]
        },
        {
          "output_type": "stream",
          "name": "stderr",
          "text": [
            "\rtrain:  60%|██████    | 279/462 [15:58<09:39,  3.17s/it]"
          ]
        },
        {
          "output_type": "stream",
          "name": "stdout",
          "text": [
            "\n",
            "Progress1\n",
            "\n",
            "Progress111\n",
            "torch.Size([4, 256, 10])\n",
            "y_predict.shape:  torch.Size([1024, 10])\n",
            "Progress222\n",
            "Progress2\n",
            "Progress3\n",
            "Progress4\n"
          ]
        },
        {
          "output_type": "stream",
          "name": "stderr",
          "text": [
            "\rtrain:  61%|██████    | 280/462 [16:02<09:56,  3.28s/it]"
          ]
        },
        {
          "output_type": "stream",
          "name": "stdout",
          "text": [
            "\n",
            "Progress1\n",
            "\n",
            "Progress111\n",
            "torch.Size([4, 256, 10])\n",
            "y_predict.shape:  torch.Size([1024, 10])\n",
            "Progress222\n",
            "Progress2\n",
            "Progress3\n",
            "Progress4\n"
          ]
        },
        {
          "output_type": "stream",
          "name": "stderr",
          "text": [
            "\rtrain:  61%|██████    | 281/462 [16:06<10:43,  3.55s/it]"
          ]
        },
        {
          "output_type": "stream",
          "name": "stdout",
          "text": [
            "\n",
            "Progress1\n",
            "\n",
            "Progress111\n",
            "torch.Size([4, 256, 10])\n",
            "y_predict.shape:  torch.Size([1024, 10])\n",
            "Progress222\n",
            "Progress2\n",
            "Progress3\n",
            "Progress4\n"
          ]
        },
        {
          "output_type": "stream",
          "name": "stderr",
          "text": [
            "\rtrain:  61%|██████    | 282/462 [16:09<10:03,  3.35s/it]"
          ]
        },
        {
          "output_type": "stream",
          "name": "stdout",
          "text": [
            "\n",
            "Progress1\n",
            "\n",
            "Progress111\n",
            "torch.Size([4, 256, 10])\n",
            "y_predict.shape:  torch.Size([1024, 10])\n",
            "Progress222\n",
            "Progress2\n",
            "Progress3\n",
            "Progress4\n"
          ]
        },
        {
          "output_type": "stream",
          "name": "stderr",
          "text": [
            "\rtrain:  61%|██████▏   | 283/462 [16:12<09:38,  3.23s/it]"
          ]
        },
        {
          "output_type": "stream",
          "name": "stdout",
          "text": [
            "\n",
            "Progress1\n",
            "\n",
            "Progress111\n",
            "torch.Size([4, 256, 10])\n",
            "y_predict.shape:  torch.Size([1024, 10])\n",
            "Progress222\n",
            "Progress2\n",
            "Progress3\n",
            "Progress4\n"
          ]
        },
        {
          "output_type": "stream",
          "name": "stderr",
          "text": [
            "\rtrain:  61%|██████▏   | 284/462 [16:15<09:20,  3.15s/it]"
          ]
        },
        {
          "output_type": "stream",
          "name": "stdout",
          "text": [
            "\n",
            "Progress1\n",
            "\n",
            "Progress111\n",
            "torch.Size([4, 256, 10])\n",
            "y_predict.shape:  torch.Size([1024, 10])\n",
            "Progress222\n",
            "Progress2\n",
            "Progress3\n",
            "Progress4\n"
          ]
        },
        {
          "output_type": "stream",
          "name": "stderr",
          "text": [
            "\rtrain:  62%|██████▏   | 285/462 [16:18<09:51,  3.34s/it]"
          ]
        },
        {
          "output_type": "stream",
          "name": "stdout",
          "text": [
            "\n",
            "Progress1\n",
            "\n",
            "Progress111\n",
            "torch.Size([4, 256, 10])\n",
            "y_predict.shape:  torch.Size([1024, 10])\n",
            "Progress222\n",
            "Progress2\n",
            "Progress3\n",
            "Progress4\n"
          ]
        },
        {
          "output_type": "stream",
          "name": "stderr",
          "text": [
            "\rtrain:  62%|██████▏   | 286/462 [16:23<10:31,  3.59s/it]"
          ]
        },
        {
          "output_type": "stream",
          "name": "stdout",
          "text": [
            "\n",
            "Progress1\n",
            "\n",
            "Progress111\n",
            "torch.Size([4, 256, 10])\n",
            "y_predict.shape:  torch.Size([1024, 10])\n",
            "Progress222\n",
            "Progress2\n",
            "Progress3\n",
            "Progress4\n"
          ]
        },
        {
          "output_type": "stream",
          "name": "stderr",
          "text": [
            "\rtrain:  62%|██████▏   | 287/462 [16:26<09:54,  3.40s/it]"
          ]
        },
        {
          "output_type": "stream",
          "name": "stdout",
          "text": [
            "\n",
            "Progress1\n",
            "\n",
            "Progress111\n",
            "torch.Size([4, 256, 10])\n",
            "y_predict.shape:  torch.Size([1024, 10])\n",
            "Progress222\n",
            "Progress2\n",
            "Progress3\n",
            "Progress4\n"
          ]
        },
        {
          "output_type": "stream",
          "name": "stderr",
          "text": [
            "\rtrain:  62%|██████▏   | 288/462 [16:28<09:27,  3.26s/it]"
          ]
        },
        {
          "output_type": "stream",
          "name": "stdout",
          "text": [
            "\n",
            "Progress1\n",
            "\n",
            "Progress111\n",
            "torch.Size([4, 256, 10])\n",
            "y_predict.shape:  torch.Size([1024, 10])\n",
            "Progress222\n",
            "Progress2\n",
            "Progress3\n",
            "Progress4\n"
          ]
        },
        {
          "output_type": "stream",
          "name": "stderr",
          "text": [
            "\rtrain:  63%|██████▎   | 289/462 [16:31<09:06,  3.16s/it]"
          ]
        },
        {
          "output_type": "stream",
          "name": "stdout",
          "text": [
            "\n",
            "Progress1\n",
            "\n",
            "Progress111\n",
            "torch.Size([4, 256, 10])\n",
            "y_predict.shape:  torch.Size([1024, 10])\n",
            "Progress222\n",
            "Progress2\n",
            "Progress3\n",
            "Progress4\n"
          ]
        },
        {
          "output_type": "stream",
          "name": "stderr",
          "text": [
            "\rtrain:  63%|██████▎   | 290/462 [16:35<09:34,  3.34s/it]"
          ]
        },
        {
          "output_type": "stream",
          "name": "stdout",
          "text": [
            "\n",
            "Progress1\n",
            "\n",
            "Progress111\n",
            "torch.Size([4, 256, 10])\n",
            "y_predict.shape:  torch.Size([1024, 10])\n",
            "Progress222\n",
            "Progress2\n",
            "Progress3\n",
            "Progress4\n"
          ]
        },
        {
          "output_type": "stream",
          "name": "stderr",
          "text": [
            "\rtrain:  63%|██████▎   | 291/462 [16:39<10:05,  3.54s/it]"
          ]
        },
        {
          "output_type": "stream",
          "name": "stdout",
          "text": [
            "\n",
            "Progress1\n",
            "\n",
            "Progress111\n",
            "torch.Size([4, 256, 10])\n",
            "y_predict.shape:  torch.Size([1024, 10])\n",
            "Progress222\n",
            "Progress2\n",
            "Progress3\n",
            "Progress4\n"
          ]
        },
        {
          "output_type": "stream",
          "name": "stderr",
          "text": [
            "\rtrain:  63%|██████▎   | 292/462 [16:42<09:30,  3.35s/it]"
          ]
        },
        {
          "output_type": "stream",
          "name": "stdout",
          "text": [
            "\n",
            "Progress1\n",
            "\n",
            "Progress111\n",
            "torch.Size([4, 256, 10])\n",
            "y_predict.shape:  torch.Size([1024, 10])\n",
            "Progress222\n",
            "Progress2\n",
            "Progress3\n",
            "Progress4\n"
          ]
        },
        {
          "output_type": "stream",
          "name": "stderr",
          "text": [
            "\rtrain:  63%|██████▎   | 293/462 [16:45<09:05,  3.23s/it]"
          ]
        },
        {
          "output_type": "stream",
          "name": "stdout",
          "text": [
            "\n",
            "Progress1\n",
            "\n",
            "Progress111\n",
            "torch.Size([4, 256, 10])\n",
            "y_predict.shape:  torch.Size([1024, 10])\n",
            "Progress222\n",
            "Progress2\n",
            "Progress3\n",
            "Progress4\n"
          ]
        },
        {
          "output_type": "stream",
          "name": "stderr",
          "text": [
            "\rtrain:  64%|██████▎   | 294/462 [16:48<08:46,  3.14s/it]"
          ]
        },
        {
          "output_type": "stream",
          "name": "stdout",
          "text": [
            "\n",
            "Progress1\n",
            "\n",
            "Progress111\n",
            "torch.Size([4, 256, 10])\n",
            "y_predict.shape:  torch.Size([1024, 10])\n",
            "Progress222\n",
            "Progress2\n",
            "Progress3\n",
            "Progress4\n"
          ]
        },
        {
          "output_type": "stream",
          "name": "stderr",
          "text": [
            "\rtrain:  64%|██████▍   | 295/462 [16:52<09:24,  3.38s/it]"
          ]
        },
        {
          "output_type": "stream",
          "name": "stdout",
          "text": [
            "\n",
            "Progress1\n",
            "\n",
            "Progress111\n",
            "torch.Size([4, 256, 10])\n",
            "y_predict.shape:  torch.Size([1024, 10])\n",
            "Progress222\n",
            "Progress2\n",
            "Progress3\n",
            "Progress4\n"
          ]
        },
        {
          "output_type": "stream",
          "name": "stderr",
          "text": [
            "\rtrain:  64%|██████▍   | 296/462 [16:56<09:33,  3.45s/it]"
          ]
        },
        {
          "output_type": "stream",
          "name": "stdout",
          "text": [
            "\n",
            "Progress1\n",
            "\n",
            "Progress111\n",
            "torch.Size([4, 256, 10])\n",
            "y_predict.shape:  torch.Size([1024, 10])\n",
            "Progress222\n",
            "Progress2\n",
            "Progress3\n",
            "Progress4\n"
          ]
        },
        {
          "output_type": "stream",
          "name": "stderr",
          "text": [
            "\rtrain:  64%|██████▍   | 297/462 [16:58<09:01,  3.28s/it]"
          ]
        },
        {
          "output_type": "stream",
          "name": "stdout",
          "text": [
            "\n",
            "Progress1\n",
            "\n",
            "Progress111\n",
            "torch.Size([4, 256, 10])\n",
            "y_predict.shape:  torch.Size([1024, 10])\n",
            "Progress222\n",
            "Progress2\n",
            "Progress3\n",
            "Progress4\n"
          ]
        },
        {
          "output_type": "stream",
          "name": "stderr",
          "text": [
            "\rtrain:  65%|██████▍   | 298/462 [17:01<08:37,  3.16s/it]"
          ]
        },
        {
          "output_type": "stream",
          "name": "stdout",
          "text": [
            "\n",
            "Progress1\n",
            "\n",
            "Progress111\n",
            "torch.Size([4, 256, 10])\n",
            "y_predict.shape:  torch.Size([1024, 10])\n",
            "Progress222\n",
            "Progress2\n",
            "Progress3\n",
            "Progress4\n"
          ]
        },
        {
          "output_type": "stream",
          "name": "stderr",
          "text": [
            "\rtrain:  65%|██████▍   | 299/462 [17:04<08:29,  3.13s/it]"
          ]
        },
        {
          "output_type": "stream",
          "name": "stdout",
          "text": [
            "\n",
            "Progress1\n",
            "\n",
            "Progress111\n",
            "torch.Size([4, 256, 10])\n",
            "y_predict.shape:  torch.Size([1024, 10])\n",
            "Progress222\n",
            "Progress2\n",
            "Progress3\n",
            "Progress4\n"
          ]
        },
        {
          "output_type": "stream",
          "name": "stderr",
          "text": [
            "\rtrain:  65%|██████▍   | 300/462 [17:08<09:17,  3.44s/it]"
          ]
        },
        {
          "output_type": "stream",
          "name": "stdout",
          "text": [
            "\n",
            "Progress1\n",
            "\n",
            "Progress111\n",
            "torch.Size([4, 256, 10])\n",
            "y_predict.shape:  torch.Size([1024, 10])\n",
            "Progress222\n",
            "Progress2\n",
            "Progress3\n",
            "Progress4\n"
          ]
        },
        {
          "output_type": "stream",
          "name": "stderr",
          "text": [
            "\rtrain:  65%|██████▌   | 301/462 [17:12<08:58,  3.35s/it]"
          ]
        },
        {
          "output_type": "stream",
          "name": "stdout",
          "text": [
            "\n",
            "Progress1\n",
            "\n",
            "Progress111\n",
            "torch.Size([4, 256, 10])\n",
            "y_predict.shape:  torch.Size([1024, 10])\n",
            "Progress222\n",
            "Progress2\n",
            "Progress3\n",
            "Progress4\n"
          ]
        },
        {
          "output_type": "stream",
          "name": "stderr",
          "text": [
            "\rtrain:  65%|██████▌   | 302/462 [17:14<08:32,  3.20s/it]"
          ]
        },
        {
          "output_type": "stream",
          "name": "stdout",
          "text": [
            "\n",
            "Progress1\n",
            "\n",
            "Progress111\n",
            "torch.Size([4, 256, 10])\n",
            "y_predict.shape:  torch.Size([1024, 10])\n",
            "Progress222\n",
            "Progress2\n",
            "Progress3\n",
            "Progress4\n"
          ]
        },
        {
          "output_type": "stream",
          "name": "stderr",
          "text": [
            "\rtrain:  66%|██████▌   | 303/462 [17:17<08:13,  3.10s/it]"
          ]
        },
        {
          "output_type": "stream",
          "name": "stdout",
          "text": [
            "\n",
            "Progress1\n",
            "\n",
            "Progress111\n",
            "torch.Size([4, 256, 10])\n",
            "y_predict.shape:  torch.Size([1024, 10])\n",
            "Progress222\n",
            "Progress2\n",
            "Progress3\n",
            "Progress4\n"
          ]
        },
        {
          "output_type": "stream",
          "name": "stderr",
          "text": [
            "\rtrain:  66%|██████▌   | 304/462 [17:21<08:23,  3.19s/it]"
          ]
        },
        {
          "output_type": "stream",
          "name": "stdout",
          "text": [
            "\n",
            "Progress1\n",
            "\n",
            "Progress111\n",
            "torch.Size([4, 256, 10])\n",
            "y_predict.shape:  torch.Size([1024, 10])\n",
            "Progress222\n",
            "Progress2\n",
            "Progress3\n",
            "Progress4\n"
          ]
        },
        {
          "output_type": "stream",
          "name": "stderr",
          "text": [
            "\rtrain:  66%|██████▌   | 305/462 [17:25<09:07,  3.49s/it]"
          ]
        },
        {
          "output_type": "stream",
          "name": "stdout",
          "text": [
            "\n",
            "Progress1\n",
            "\n",
            "Progress111\n",
            "torch.Size([4, 256, 10])\n",
            "y_predict.shape:  torch.Size([1024, 10])\n",
            "Progress222\n",
            "Progress2\n",
            "Progress3\n",
            "Progress4\n"
          ]
        },
        {
          "output_type": "stream",
          "name": "stderr",
          "text": [
            "\rtrain:  66%|██████▌   | 306/462 [17:28<08:43,  3.35s/it]"
          ]
        },
        {
          "output_type": "stream",
          "name": "stdout",
          "text": [
            "\n",
            "Progress1\n",
            "\n",
            "Progress111\n",
            "torch.Size([4, 256, 10])\n",
            "y_predict.shape:  torch.Size([1024, 10])\n",
            "Progress222\n",
            "Progress2\n",
            "Progress3\n",
            "Progress4\n"
          ]
        },
        {
          "output_type": "stream",
          "name": "stderr",
          "text": [
            "\rtrain:  66%|██████▋   | 307/462 [17:31<08:19,  3.22s/it]"
          ]
        },
        {
          "output_type": "stream",
          "name": "stdout",
          "text": [
            "\n",
            "Progress1\n",
            "\n",
            "Progress111\n",
            "torch.Size([4, 256, 10])\n",
            "y_predict.shape:  torch.Size([1024, 10])\n",
            "Progress222\n",
            "Progress2\n",
            "Progress3\n",
            "Progress4\n"
          ]
        },
        {
          "output_type": "stream",
          "name": "stderr",
          "text": [
            "\rtrain:  67%|██████▋   | 308/462 [17:34<08:03,  3.14s/it]"
          ]
        },
        {
          "output_type": "stream",
          "name": "stdout",
          "text": [
            "\n",
            "Progress1\n",
            "\n",
            "Progress111\n",
            "torch.Size([4, 256, 10])\n",
            "y_predict.shape:  torch.Size([1024, 10])\n",
            "Progress222\n",
            "Progress2\n",
            "Progress3\n",
            "Progress4\n"
          ]
        },
        {
          "output_type": "stream",
          "name": "stderr",
          "text": [
            "\rtrain:  67%|██████▋   | 309/462 [17:37<08:19,  3.26s/it]"
          ]
        },
        {
          "output_type": "stream",
          "name": "stdout",
          "text": [
            "\n",
            "Progress1\n",
            "\n",
            "Progress111\n",
            "torch.Size([4, 256, 10])\n",
            "y_predict.shape:  torch.Size([1024, 10])\n",
            "Progress222\n",
            "Progress2\n",
            "Progress3\n",
            "Progress4\n"
          ]
        },
        {
          "output_type": "stream",
          "name": "stderr",
          "text": [
            "\rtrain:  67%|██████▋   | 310/462 [17:42<08:58,  3.55s/it]"
          ]
        },
        {
          "output_type": "stream",
          "name": "stdout",
          "text": [
            "\n",
            "Progress1\n",
            "\n",
            "Progress111\n",
            "torch.Size([4, 256, 10])\n",
            "y_predict.shape:  torch.Size([1024, 10])\n",
            "Progress222\n",
            "Progress2\n",
            "Progress3\n",
            "Progress4\n"
          ]
        },
        {
          "output_type": "stream",
          "name": "stderr",
          "text": [
            "\rtrain:  67%|██████▋   | 311/462 [17:44<08:25,  3.35s/it]"
          ]
        },
        {
          "output_type": "stream",
          "name": "stdout",
          "text": [
            "\n",
            "Progress1\n",
            "\n",
            "Progress111\n",
            "torch.Size([4, 256, 10])\n",
            "y_predict.shape:  torch.Size([1024, 10])\n",
            "Progress222\n",
            "Progress2\n",
            "Progress3\n",
            "Progress4\n"
          ]
        },
        {
          "output_type": "stream",
          "name": "stderr",
          "text": [
            "\rtrain:  68%|██████▊   | 312/462 [17:47<08:03,  3.22s/it]"
          ]
        },
        {
          "output_type": "stream",
          "name": "stdout",
          "text": [
            "\n",
            "Progress1\n",
            "\n",
            "Progress111\n",
            "torch.Size([4, 256, 10])\n",
            "y_predict.shape:  torch.Size([1024, 10])\n",
            "Progress222\n",
            "Progress2\n",
            "Progress3\n",
            "Progress4\n"
          ]
        },
        {
          "output_type": "stream",
          "name": "stderr",
          "text": [
            "\rtrain:  68%|██████▊   | 313/462 [17:50<07:51,  3.16s/it]"
          ]
        },
        {
          "output_type": "stream",
          "name": "stdout",
          "text": [
            "\n",
            "Progress1\n",
            "\n",
            "Progress111\n",
            "torch.Size([4, 256, 10])\n",
            "y_predict.shape:  torch.Size([1024, 10])\n",
            "Progress222\n",
            "Progress2\n",
            "Progress3\n",
            "Progress4\n"
          ]
        },
        {
          "output_type": "stream",
          "name": "stderr",
          "text": [
            "\rtrain:  68%|██████▊   | 314/462 [17:54<08:16,  3.35s/it]"
          ]
        },
        {
          "output_type": "stream",
          "name": "stdout",
          "text": [
            "\n",
            "Progress1\n",
            "\n",
            "Progress111\n",
            "torch.Size([4, 256, 10])\n",
            "y_predict.shape:  torch.Size([1024, 10])\n",
            "Progress222\n",
            "Progress2\n",
            "Progress3\n",
            "Progress4\n"
          ]
        },
        {
          "output_type": "stream",
          "name": "stderr",
          "text": [
            "\rtrain:  68%|██████▊   | 315/462 [17:58<08:41,  3.55s/it]"
          ]
        },
        {
          "output_type": "stream",
          "name": "stdout",
          "text": [
            "\n",
            "Progress1\n",
            "\n",
            "Progress111\n",
            "torch.Size([4, 256, 10])\n",
            "y_predict.shape:  torch.Size([1024, 10])\n",
            "Progress222\n",
            "Progress2\n",
            "Progress3\n",
            "Progress4\n"
          ]
        },
        {
          "output_type": "stream",
          "name": "stderr",
          "text": [
            "\rtrain:  68%|██████▊   | 316/462 [18:01<08:08,  3.35s/it]"
          ]
        },
        {
          "output_type": "stream",
          "name": "stdout",
          "text": [
            "\n",
            "Progress1\n",
            "\n",
            "Progress111\n",
            "torch.Size([4, 256, 10])\n",
            "y_predict.shape:  torch.Size([1024, 10])\n",
            "Progress222\n",
            "Progress2\n",
            "Progress3\n",
            "Progress4\n"
          ]
        },
        {
          "output_type": "stream",
          "name": "stderr",
          "text": [
            "\rtrain:  69%|██████▊   | 317/462 [18:04<07:48,  3.23s/it]"
          ]
        },
        {
          "output_type": "stream",
          "name": "stdout",
          "text": [
            "\n",
            "Progress1\n",
            "\n",
            "Progress111\n",
            "torch.Size([4, 256, 10])\n",
            "y_predict.shape:  torch.Size([1024, 10])\n",
            "Progress222\n",
            "Progress2\n",
            "Progress3\n",
            "Progress4\n"
          ]
        },
        {
          "output_type": "stream",
          "name": "stderr",
          "text": [
            "\rtrain:  69%|██████▉   | 318/462 [18:07<07:32,  3.14s/it]"
          ]
        },
        {
          "output_type": "stream",
          "name": "stdout",
          "text": [
            "\n",
            "Progress1\n",
            "\n",
            "Progress111\n",
            "torch.Size([4, 256, 10])\n",
            "y_predict.shape:  torch.Size([1024, 10])\n",
            "Progress222\n",
            "Progress2\n",
            "Progress3\n",
            "Progress4\n"
          ]
        },
        {
          "output_type": "stream",
          "name": "stderr",
          "text": [
            "\rtrain:  69%|██████▉   | 319/462 [18:11<08:14,  3.46s/it]"
          ]
        },
        {
          "output_type": "stream",
          "name": "stdout",
          "text": [
            "\n",
            "Progress1\n",
            "\n",
            "Progress111\n",
            "torch.Size([4, 256, 10])\n",
            "y_predict.shape:  torch.Size([1024, 10])\n",
            "Progress222\n",
            "Progress2\n",
            "Progress3\n",
            "Progress4\n"
          ]
        },
        {
          "output_type": "stream",
          "name": "stderr",
          "text": [
            "\rtrain:  69%|██████▉   | 320/462 [18:15<08:15,  3.49s/it]"
          ]
        },
        {
          "output_type": "stream",
          "name": "stdout",
          "text": [
            "\n",
            "Progress1\n",
            "\n",
            "Progress111\n",
            "torch.Size([4, 256, 10])\n",
            "y_predict.shape:  torch.Size([1024, 10])\n",
            "Progress222\n",
            "Progress2\n",
            "Progress3\n",
            "Progress4\n"
          ]
        },
        {
          "output_type": "stream",
          "name": "stderr",
          "text": [
            "\rtrain:  69%|██████▉   | 321/462 [18:18<07:49,  3.33s/it]"
          ]
        },
        {
          "output_type": "stream",
          "name": "stdout",
          "text": [
            "\n",
            "Progress1\n",
            "\n",
            "Progress111\n",
            "torch.Size([4, 256, 10])\n",
            "y_predict.shape:  torch.Size([1024, 10])\n",
            "Progress222\n",
            "Progress2\n",
            "Progress3\n",
            "Progress4\n"
          ]
        },
        {
          "output_type": "stream",
          "name": "stderr",
          "text": [
            "\rtrain:  70%|██████▉   | 322/462 [18:21<07:29,  3.21s/it]"
          ]
        },
        {
          "output_type": "stream",
          "name": "stdout",
          "text": [
            "\n",
            "Progress1\n",
            "\n",
            "Progress111\n",
            "torch.Size([4, 256, 10])\n",
            "y_predict.shape:  torch.Size([1024, 10])\n",
            "Progress222\n",
            "Progress2\n",
            "Progress3\n",
            "Progress4\n"
          ]
        },
        {
          "output_type": "stream",
          "name": "stderr",
          "text": [
            "\rtrain:  70%|██████▉   | 323/462 [18:24<07:20,  3.17s/it]"
          ]
        },
        {
          "output_type": "stream",
          "name": "stdout",
          "text": [
            "\n",
            "Progress1\n",
            "\n",
            "Progress111\n",
            "torch.Size([4, 256, 10])\n",
            "y_predict.shape:  torch.Size([1024, 10])\n",
            "Progress222\n",
            "Progress2\n",
            "Progress3\n",
            "Progress4\n"
          ]
        },
        {
          "output_type": "stream",
          "name": "stderr",
          "text": [
            "\rtrain:  70%|███████   | 324/462 [18:28<08:06,  3.53s/it]"
          ]
        },
        {
          "output_type": "stream",
          "name": "stdout",
          "text": [
            "\n",
            "Progress1\n",
            "\n",
            "Progress111\n",
            "torch.Size([4, 256, 10])\n",
            "y_predict.shape:  torch.Size([1024, 10])\n",
            "Progress222\n",
            "Progress2\n",
            "Progress3\n",
            "Progress4\n"
          ]
        },
        {
          "output_type": "stream",
          "name": "stderr",
          "text": [
            "\rtrain:  70%|███████   | 325/462 [18:31<07:51,  3.44s/it]"
          ]
        },
        {
          "output_type": "stream",
          "name": "stdout",
          "text": [
            "\n",
            "Progress1\n",
            "\n",
            "Progress111\n",
            "torch.Size([4, 256, 10])\n",
            "y_predict.shape:  torch.Size([1024, 10])\n",
            "Progress222\n",
            "Progress2\n",
            "Progress3\n",
            "Progress4\n"
          ]
        },
        {
          "output_type": "stream",
          "name": "stderr",
          "text": [
            "\rtrain:  71%|███████   | 326/462 [18:34<07:27,  3.29s/it]"
          ]
        },
        {
          "output_type": "stream",
          "name": "stdout",
          "text": [
            "\n",
            "Progress1\n",
            "\n",
            "Progress111\n",
            "torch.Size([4, 256, 10])\n",
            "y_predict.shape:  torch.Size([1024, 10])\n",
            "Progress222\n",
            "Progress2\n",
            "Progress3\n",
            "Progress4\n"
          ]
        },
        {
          "output_type": "stream",
          "name": "stderr",
          "text": [
            "\rtrain:  71%|███████   | 327/462 [18:37<07:09,  3.18s/it]"
          ]
        },
        {
          "output_type": "stream",
          "name": "stdout",
          "text": [
            "\n",
            "Progress1\n",
            "\n",
            "Progress111\n",
            "torch.Size([4, 256, 10])\n",
            "y_predict.shape:  torch.Size([1024, 10])\n",
            "Progress222\n",
            "Progress2\n",
            "Progress3\n",
            "Progress4\n"
          ]
        },
        {
          "output_type": "stream",
          "name": "stderr",
          "text": [
            "\rtrain:  71%|███████   | 328/462 [18:40<07:06,  3.18s/it]"
          ]
        },
        {
          "output_type": "stream",
          "name": "stdout",
          "text": [
            "\n",
            "Progress1\n",
            "\n",
            "Progress111\n",
            "torch.Size([4, 256, 10])\n",
            "y_predict.shape:  torch.Size([1024, 10])\n",
            "Progress222\n",
            "Progress2\n",
            "Progress3\n",
            "Progress4\n"
          ]
        },
        {
          "output_type": "stream",
          "name": "stderr",
          "text": [
            "\rtrain:  71%|███████   | 329/462 [18:45<07:46,  3.51s/it]"
          ]
        },
        {
          "output_type": "stream",
          "name": "stdout",
          "text": [
            "\n",
            "Progress1\n",
            "\n",
            "Progress111\n",
            "torch.Size([4, 256, 10])\n",
            "y_predict.shape:  torch.Size([1024, 10])\n",
            "Progress222\n",
            "Progress2\n",
            "Progress3\n",
            "Progress4\n"
          ]
        },
        {
          "output_type": "stream",
          "name": "stderr",
          "text": [
            "\rtrain:  71%|███████▏  | 330/462 [18:48<07:25,  3.37s/it]"
          ]
        },
        {
          "output_type": "stream",
          "name": "stdout",
          "text": [
            "\n",
            "Progress1\n",
            "\n",
            "Progress111\n",
            "torch.Size([4, 256, 10])\n",
            "y_predict.shape:  torch.Size([1024, 10])\n",
            "Progress222\n",
            "Progress2\n",
            "Progress3\n",
            "Progress4\n"
          ]
        },
        {
          "output_type": "stream",
          "name": "stderr",
          "text": [
            "\rtrain:  72%|███████▏  | 331/462 [18:51<07:02,  3.23s/it]"
          ]
        },
        {
          "output_type": "stream",
          "name": "stdout",
          "text": [
            "\n",
            "Progress1\n",
            "\n",
            "Progress111\n",
            "torch.Size([4, 256, 10])\n",
            "y_predict.shape:  torch.Size([1024, 10])\n",
            "Progress222\n",
            "Progress2\n",
            "Progress3\n",
            "Progress4\n"
          ]
        },
        {
          "output_type": "stream",
          "name": "stderr",
          "text": [
            "\rtrain:  72%|███████▏  | 332/462 [18:54<06:48,  3.14s/it]"
          ]
        },
        {
          "output_type": "stream",
          "name": "stdout",
          "text": [
            "\n",
            "Progress1\n",
            "\n",
            "Progress111\n",
            "torch.Size([4, 256, 10])\n",
            "y_predict.shape:  torch.Size([1024, 10])\n",
            "Progress222\n",
            "Progress2\n",
            "Progress3\n",
            "Progress4\n"
          ]
        },
        {
          "output_type": "stream",
          "name": "stderr",
          "text": [
            "\rtrain:  72%|███████▏  | 333/462 [18:57<06:56,  3.23s/it]"
          ]
        },
        {
          "output_type": "stream",
          "name": "stdout",
          "text": [
            "\n",
            "Progress1\n",
            "\n",
            "Progress111\n",
            "torch.Size([4, 256, 10])\n",
            "y_predict.shape:  torch.Size([1024, 10])\n",
            "Progress222\n",
            "Progress2\n",
            "Progress3\n",
            "Progress4\n"
          ]
        },
        {
          "output_type": "stream",
          "name": "stderr",
          "text": [
            "\rtrain:  72%|███████▏  | 334/462 [19:01<07:20,  3.44s/it]"
          ]
        },
        {
          "output_type": "stream",
          "name": "stdout",
          "text": [
            "\n",
            "Progress1\n",
            "\n",
            "Progress111\n",
            "torch.Size([4, 256, 10])\n",
            "y_predict.shape:  torch.Size([1024, 10])\n",
            "Progress222\n",
            "Progress2\n",
            "Progress3\n",
            "Progress4\n"
          ]
        },
        {
          "output_type": "stream",
          "name": "stderr",
          "text": [
            "\rtrain:  73%|███████▎  | 335/462 [19:04<06:55,  3.27s/it]"
          ]
        },
        {
          "output_type": "stream",
          "name": "stdout",
          "text": [
            "\n",
            "Progress1\n",
            "\n",
            "Progress111\n",
            "torch.Size([4, 256, 10])\n",
            "y_predict.shape:  torch.Size([1024, 10])\n",
            "Progress222\n",
            "Progress2\n",
            "Progress3\n",
            "Progress4\n"
          ]
        },
        {
          "output_type": "stream",
          "name": "stderr",
          "text": [
            "\rtrain:  73%|███████▎  | 336/462 [19:07<06:38,  3.16s/it]"
          ]
        },
        {
          "output_type": "stream",
          "name": "stdout",
          "text": [
            "\n",
            "Progress1\n",
            "\n",
            "Progress111\n",
            "torch.Size([4, 256, 10])\n",
            "y_predict.shape:  torch.Size([1024, 10])\n",
            "Progress222\n",
            "Progress2\n",
            "Progress3\n",
            "Progress4\n"
          ]
        },
        {
          "output_type": "stream",
          "name": "stderr",
          "text": [
            "\rtrain:  73%|███████▎  | 337/462 [19:10<06:25,  3.09s/it]"
          ]
        },
        {
          "output_type": "stream",
          "name": "stdout",
          "text": [
            "\n",
            "Progress1\n",
            "\n",
            "Progress111\n",
            "torch.Size([4, 256, 10])\n",
            "y_predict.shape:  torch.Size([1024, 10])\n",
            "Progress222\n",
            "Progress2\n",
            "Progress3\n",
            "Progress4\n"
          ]
        },
        {
          "output_type": "stream",
          "name": "stderr",
          "text": [
            "\rtrain:  73%|███████▎  | 338/462 [19:14<07:16,  3.52s/it]"
          ]
        },
        {
          "output_type": "stream",
          "name": "stdout",
          "text": [
            "\n",
            "Progress1\n",
            "\n",
            "Progress111\n",
            "torch.Size([4, 256, 10])\n",
            "y_predict.shape:  torch.Size([1024, 10])\n",
            "Progress222\n",
            "Progress2\n",
            "Progress3\n",
            "Progress4\n"
          ]
        },
        {
          "output_type": "stream",
          "name": "stderr",
          "text": [
            "\rtrain:  73%|███████▎  | 339/462 [19:17<06:49,  3.33s/it]"
          ]
        },
        {
          "output_type": "stream",
          "name": "stdout",
          "text": [
            "\n",
            "Progress1\n",
            "\n",
            "Progress111\n",
            "torch.Size([4, 256, 10])\n",
            "y_predict.shape:  torch.Size([1024, 10])\n",
            "Progress222\n",
            "Progress2\n",
            "Progress3\n",
            "Progress4\n"
          ]
        },
        {
          "output_type": "stream",
          "name": "stderr",
          "text": [
            "\rtrain:  74%|███████▎  | 340/462 [19:20<06:31,  3.21s/it]"
          ]
        },
        {
          "output_type": "stream",
          "name": "stdout",
          "text": [
            "\n",
            "Progress1\n",
            "\n",
            "Progress111\n",
            "torch.Size([4, 256, 10])\n",
            "y_predict.shape:  torch.Size([1024, 10])\n",
            "Progress222\n",
            "Progress2\n",
            "Progress3\n",
            "Progress4\n"
          ]
        },
        {
          "output_type": "stream",
          "name": "stderr",
          "text": [
            "\rtrain:  74%|███████▍  | 341/462 [19:23<06:18,  3.12s/it]"
          ]
        },
        {
          "output_type": "stream",
          "name": "stdout",
          "text": [
            "\n",
            "Progress1\n",
            "\n",
            "Progress111\n",
            "torch.Size([4, 256, 10])\n",
            "y_predict.shape:  torch.Size([1024, 10])\n",
            "Progress222\n",
            "Progress2\n",
            "Progress3\n",
            "Progress4\n"
          ]
        },
        {
          "output_type": "stream",
          "name": "stderr",
          "text": [
            "\rtrain:  74%|███████▍  | 342/462 [19:27<06:45,  3.38s/it]"
          ]
        },
        {
          "output_type": "stream",
          "name": "stdout",
          "text": [
            "\n",
            "Progress1\n",
            "\n",
            "Progress111\n",
            "torch.Size([4, 256, 10])\n",
            "y_predict.shape:  torch.Size([1024, 10])\n",
            "Progress222\n",
            "Progress2\n",
            "Progress3\n",
            "Progress4\n"
          ]
        },
        {
          "output_type": "stream",
          "name": "stderr",
          "text": [
            "\rtrain:  74%|███████▍  | 343/462 [19:30<06:48,  3.43s/it]"
          ]
        },
        {
          "output_type": "stream",
          "name": "stdout",
          "text": [
            "\n",
            "Progress1\n",
            "\n",
            "Progress111\n",
            "torch.Size([4, 256, 10])\n",
            "y_predict.shape:  torch.Size([1024, 10])\n",
            "Progress222\n",
            "Progress2\n",
            "Progress3\n",
            "Progress4\n"
          ]
        },
        {
          "output_type": "stream",
          "name": "stderr",
          "text": [
            "\rtrain:  74%|███████▍  | 344/462 [19:33<06:24,  3.26s/it]"
          ]
        },
        {
          "output_type": "stream",
          "name": "stdout",
          "text": [
            "\n",
            "Progress1\n",
            "\n",
            "Progress111\n",
            "torch.Size([4, 256, 10])\n",
            "y_predict.shape:  torch.Size([1024, 10])\n",
            "Progress222\n",
            "Progress2\n",
            "Progress3\n",
            "Progress4\n"
          ]
        },
        {
          "output_type": "stream",
          "name": "stderr",
          "text": [
            "\rtrain:  75%|███████▍  | 345/462 [19:36<06:08,  3.15s/it]"
          ]
        },
        {
          "output_type": "stream",
          "name": "stdout",
          "text": [
            "\n",
            "Progress1\n",
            "\n",
            "Progress111\n",
            "torch.Size([4, 256, 10])\n",
            "y_predict.shape:  torch.Size([1024, 10])\n",
            "Progress222\n",
            "Progress2\n",
            "Progress3\n",
            "Progress4\n"
          ]
        },
        {
          "output_type": "stream",
          "name": "stderr",
          "text": [
            "\rtrain:  75%|███████▍  | 346/462 [19:39<06:06,  3.16s/it]"
          ]
        },
        {
          "output_type": "stream",
          "name": "stdout",
          "text": [
            "\n",
            "Progress1\n",
            "\n",
            "Progress111\n",
            "torch.Size([4, 256, 10])\n",
            "y_predict.shape:  torch.Size([1024, 10])\n",
            "Progress222\n",
            "Progress2\n",
            "Progress3\n",
            "Progress4\n"
          ]
        },
        {
          "output_type": "stream",
          "name": "stderr",
          "text": [
            "\rtrain:  75%|███████▌  | 347/462 [19:44<06:42,  3.50s/it]"
          ]
        },
        {
          "output_type": "stream",
          "name": "stdout",
          "text": [
            "\n",
            "Progress1\n",
            "\n",
            "Progress111\n",
            "torch.Size([4, 256, 10])\n",
            "y_predict.shape:  torch.Size([1024, 10])\n",
            "Progress222\n",
            "Progress2\n",
            "Progress3\n",
            "Progress4\n"
          ]
        },
        {
          "output_type": "stream",
          "name": "stderr",
          "text": [
            "\rtrain:  75%|███████▌  | 348/462 [19:47<06:19,  3.33s/it]"
          ]
        },
        {
          "output_type": "stream",
          "name": "stdout",
          "text": [
            "\n",
            "Progress1\n",
            "\n",
            "Progress111\n",
            "torch.Size([4, 256, 10])\n",
            "y_predict.shape:  torch.Size([1024, 10])\n",
            "Progress222\n",
            "Progress2\n",
            "Progress3\n",
            "Progress4\n"
          ]
        },
        {
          "output_type": "stream",
          "name": "stderr",
          "text": [
            "\rtrain:  76%|███████▌  | 349/462 [19:49<06:01,  3.20s/it]"
          ]
        },
        {
          "output_type": "stream",
          "name": "stdout",
          "text": [
            "\n",
            "Progress1\n",
            "\n",
            "Progress111\n",
            "torch.Size([4, 256, 10])\n",
            "y_predict.shape:  torch.Size([1024, 10])\n",
            "Progress222\n",
            "Progress2\n",
            "Progress3\n",
            "Progress4\n"
          ]
        },
        {
          "output_type": "stream",
          "name": "stderr",
          "text": [
            "\rtrain:  76%|███████▌  | 350/462 [19:52<05:49,  3.12s/it]"
          ]
        },
        {
          "output_type": "stream",
          "name": "stdout",
          "text": [
            "\n",
            "Progress1\n",
            "\n",
            "Progress111\n",
            "torch.Size([4, 256, 10])\n",
            "y_predict.shape:  torch.Size([1024, 10])\n",
            "Progress222\n",
            "Progress2\n",
            "Progress3\n",
            "Progress4\n"
          ]
        },
        {
          "output_type": "stream",
          "name": "stderr",
          "text": [
            "\rtrain:  76%|███████▌  | 351/462 [19:57<06:27,  3.49s/it]"
          ]
        },
        {
          "output_type": "stream",
          "name": "stdout",
          "text": [
            "\n",
            "Progress1\n",
            "\n",
            "Progress111\n",
            "torch.Size([4, 256, 10])\n",
            "y_predict.shape:  torch.Size([1024, 10])\n",
            "Progress222\n",
            "Progress2\n",
            "Progress3\n",
            "Progress4\n"
          ]
        },
        {
          "output_type": "stream",
          "name": "stderr",
          "text": [
            "\rtrain:  76%|███████▌  | 352/462 [20:00<06:21,  3.47s/it]"
          ]
        },
        {
          "output_type": "stream",
          "name": "stdout",
          "text": [
            "\n",
            "Progress1\n",
            "\n",
            "Progress111\n",
            "torch.Size([4, 256, 10])\n",
            "y_predict.shape:  torch.Size([1024, 10])\n",
            "Progress222\n",
            "Progress2\n",
            "Progress3\n",
            "Progress4\n"
          ]
        },
        {
          "output_type": "stream",
          "name": "stderr",
          "text": [
            "\rtrain:  76%|███████▋  | 353/462 [20:03<06:01,  3.31s/it]"
          ]
        },
        {
          "output_type": "stream",
          "name": "stdout",
          "text": [
            "\n",
            "Progress1\n",
            "\n",
            "Progress111\n",
            "torch.Size([4, 256, 10])\n",
            "y_predict.shape:  torch.Size([1024, 10])\n",
            "Progress222\n",
            "Progress2\n",
            "Progress3\n",
            "Progress4\n"
          ]
        },
        {
          "output_type": "stream",
          "name": "stderr",
          "text": [
            "\rtrain:  77%|███████▋  | 354/462 [20:06<05:46,  3.21s/it]"
          ]
        },
        {
          "output_type": "stream",
          "name": "stdout",
          "text": [
            "\n",
            "Progress1\n",
            "\n",
            "Progress111\n",
            "torch.Size([4, 256, 10])\n",
            "y_predict.shape:  torch.Size([1024, 10])\n",
            "Progress222\n",
            "Progress2\n",
            "Progress3\n",
            "Progress4\n"
          ]
        },
        {
          "output_type": "stream",
          "name": "stderr",
          "text": [
            "\rtrain:  77%|███████▋  | 355/462 [20:09<05:50,  3.27s/it]"
          ]
        },
        {
          "output_type": "stream",
          "name": "stdout",
          "text": [
            "\n",
            "Progress1\n",
            "\n",
            "Progress111\n",
            "torch.Size([4, 256, 10])\n",
            "y_predict.shape:  torch.Size([1024, 10])\n",
            "Progress222\n",
            "Progress2\n",
            "Progress3\n",
            "Progress4\n"
          ]
        },
        {
          "output_type": "stream",
          "name": "stderr",
          "text": [
            "\rtrain:  77%|███████▋  | 356/462 [20:14<06:18,  3.57s/it]"
          ]
        },
        {
          "output_type": "stream",
          "name": "stdout",
          "text": [
            "\n",
            "Progress1\n",
            "\n",
            "Progress111\n",
            "torch.Size([4, 256, 10])\n",
            "y_predict.shape:  torch.Size([1024, 10])\n",
            "Progress222\n",
            "Progress2\n",
            "Progress3\n",
            "Progress4\n"
          ]
        },
        {
          "output_type": "stream",
          "name": "stderr",
          "text": [
            "\rtrain:  77%|███████▋  | 357/462 [20:17<06:00,  3.44s/it]"
          ]
        },
        {
          "output_type": "stream",
          "name": "stdout",
          "text": [
            "\n",
            "Progress1\n",
            "\n",
            "Progress111\n",
            "torch.Size([4, 256, 10])\n",
            "y_predict.shape:  torch.Size([1024, 10])\n",
            "Progress222\n",
            "Progress2\n",
            "Progress3\n",
            "Progress4\n"
          ]
        },
        {
          "output_type": "stream",
          "name": "stderr",
          "text": [
            "\rtrain:  77%|███████▋  | 358/462 [20:20<05:42,  3.29s/it]"
          ]
        },
        {
          "output_type": "stream",
          "name": "stdout",
          "text": [
            "\n",
            "Progress1\n",
            "\n",
            "Progress111\n",
            "torch.Size([4, 256, 10])\n",
            "y_predict.shape:  torch.Size([1024, 10])\n",
            "Progress222\n",
            "Progress2\n",
            "Progress3\n",
            "Progress4\n"
          ]
        },
        {
          "output_type": "stream",
          "name": "stderr",
          "text": [
            "\rtrain:  78%|███████▊  | 359/462 [20:23<05:28,  3.19s/it]"
          ]
        },
        {
          "output_type": "stream",
          "name": "stdout",
          "text": [
            "\n",
            "Progress1\n",
            "\n",
            "Progress111\n",
            "torch.Size([4, 256, 10])\n",
            "y_predict.shape:  torch.Size([1024, 10])\n",
            "Progress222\n",
            "Progress2\n",
            "Progress3\n",
            "Progress4\n"
          ]
        },
        {
          "output_type": "stream",
          "name": "stderr",
          "text": [
            "\rtrain:  78%|███████▊  | 360/462 [20:26<05:34,  3.28s/it]"
          ]
        },
        {
          "output_type": "stream",
          "name": "stdout",
          "text": [
            "\n",
            "Progress1\n",
            "\n",
            "Progress111\n",
            "torch.Size([4, 256, 10])\n",
            "y_predict.shape:  torch.Size([1024, 10])\n",
            "Progress222\n",
            "Progress2\n",
            "Progress3\n",
            "Progress4\n"
          ]
        },
        {
          "output_type": "stream",
          "name": "stderr",
          "text": [
            "\rtrain:  78%|███████▊  | 361/462 [20:30<05:58,  3.55s/it]"
          ]
        },
        {
          "output_type": "stream",
          "name": "stdout",
          "text": [
            "\n",
            "Progress1\n",
            "\n",
            "Progress111\n",
            "torch.Size([4, 256, 10])\n",
            "y_predict.shape:  torch.Size([1024, 10])\n",
            "Progress222\n",
            "Progress2\n",
            "Progress3\n",
            "Progress4\n"
          ]
        },
        {
          "output_type": "stream",
          "name": "stderr",
          "text": [
            "\rtrain:  78%|███████▊  | 362/462 [20:34<05:41,  3.41s/it]"
          ]
        },
        {
          "output_type": "stream",
          "name": "stdout",
          "text": [
            "\n",
            "Progress1\n",
            "\n",
            "Progress111\n",
            "torch.Size([4, 256, 10])\n",
            "y_predict.shape:  torch.Size([1024, 10])\n",
            "Progress222\n",
            "Progress2\n",
            "Progress3\n",
            "Progress4\n"
          ]
        },
        {
          "output_type": "stream",
          "name": "stderr",
          "text": [
            "\rtrain:  79%|███████▊  | 363/462 [20:36<05:23,  3.26s/it]"
          ]
        },
        {
          "output_type": "stream",
          "name": "stdout",
          "text": [
            "\n",
            "Progress1\n",
            "\n",
            "Progress111\n",
            "torch.Size([4, 256, 10])\n",
            "y_predict.shape:  torch.Size([1024, 10])\n",
            "Progress222\n",
            "Progress2\n",
            "Progress3\n",
            "Progress4\n"
          ]
        },
        {
          "output_type": "stream",
          "name": "stderr",
          "text": [
            "\rtrain:  79%|███████▉  | 364/462 [20:39<05:10,  3.17s/it]"
          ]
        },
        {
          "output_type": "stream",
          "name": "stdout",
          "text": [
            "\n",
            "Progress1\n",
            "\n",
            "Progress111\n",
            "torch.Size([4, 256, 10])\n",
            "y_predict.shape:  torch.Size([1024, 10])\n",
            "Progress222\n",
            "Progress2\n",
            "Progress3\n",
            "Progress4\n"
          ]
        },
        {
          "output_type": "stream",
          "name": "stderr",
          "text": [
            "\rtrain:  79%|███████▉  | 365/462 [20:43<05:17,  3.27s/it]"
          ]
        },
        {
          "output_type": "stream",
          "name": "stdout",
          "text": [
            "\n",
            "Progress1\n",
            "\n",
            "Progress111\n",
            "torch.Size([4, 256, 10])\n",
            "y_predict.shape:  torch.Size([1024, 10])\n",
            "Progress222\n",
            "Progress2\n",
            "Progress3\n",
            "Progress4\n"
          ]
        },
        {
          "output_type": "stream",
          "name": "stderr",
          "text": [
            "\rtrain:  79%|███████▉  | 366/462 [20:47<05:42,  3.56s/it]"
          ]
        },
        {
          "output_type": "stream",
          "name": "stdout",
          "text": [
            "\n",
            "Progress1\n",
            "\n",
            "Progress111\n",
            "torch.Size([4, 256, 10])\n",
            "y_predict.shape:  torch.Size([1024, 10])\n",
            "Progress222\n",
            "Progress2\n",
            "Progress3\n",
            "Progress4\n"
          ]
        },
        {
          "output_type": "stream",
          "name": "stderr",
          "text": [
            "\rtrain:  79%|███████▉  | 367/462 [20:50<05:19,  3.37s/it]"
          ]
        },
        {
          "output_type": "stream",
          "name": "stdout",
          "text": [
            "\n",
            "Progress1\n",
            "\n",
            "Progress111\n",
            "torch.Size([4, 256, 10])\n",
            "y_predict.shape:  torch.Size([1024, 10])\n",
            "Progress222\n",
            "Progress2\n",
            "Progress3\n",
            "Progress4\n"
          ]
        },
        {
          "output_type": "stream",
          "name": "stderr",
          "text": [
            "\rtrain:  80%|███████▉  | 368/462 [20:53<05:02,  3.22s/it]"
          ]
        },
        {
          "output_type": "stream",
          "name": "stdout",
          "text": [
            "\n",
            "Progress1\n",
            "\n",
            "Progress111\n",
            "torch.Size([4, 256, 10])\n",
            "y_predict.shape:  torch.Size([1024, 10])\n",
            "Progress222\n",
            "Progress2\n",
            "Progress3\n",
            "Progress4\n"
          ]
        },
        {
          "output_type": "stream",
          "name": "stderr",
          "text": [
            "\rtrain:  80%|███████▉  | 369/462 [20:56<04:52,  3.15s/it]"
          ]
        },
        {
          "output_type": "stream",
          "name": "stdout",
          "text": [
            "\n",
            "Progress1\n",
            "\n",
            "Progress111\n",
            "torch.Size([4, 256, 10])\n",
            "y_predict.shape:  torch.Size([1024, 10])\n",
            "Progress222\n",
            "Progress2\n",
            "Progress3\n",
            "Progress4\n"
          ]
        },
        {
          "output_type": "stream",
          "name": "stderr",
          "text": [
            "\rtrain:  80%|████████  | 370/462 [21:00<05:07,  3.35s/it]"
          ]
        },
        {
          "output_type": "stream",
          "name": "stdout",
          "text": [
            "\n",
            "Progress1\n",
            "\n",
            "Progress111\n",
            "torch.Size([4, 256, 10])\n",
            "y_predict.shape:  torch.Size([1024, 10])\n",
            "Progress222\n",
            "Progress2\n",
            "Progress3\n",
            "Progress4\n"
          ]
        },
        {
          "output_type": "stream",
          "name": "stderr",
          "text": [
            "\rtrain:  80%|████████  | 371/462 [21:04<05:26,  3.59s/it]"
          ]
        },
        {
          "output_type": "stream",
          "name": "stdout",
          "text": [
            "\n",
            "Progress1\n",
            "\n",
            "Progress111\n",
            "torch.Size([4, 256, 10])\n",
            "y_predict.shape:  torch.Size([1024, 10])\n",
            "Progress222\n",
            "Progress2\n",
            "Progress3\n",
            "Progress4\n"
          ]
        },
        {
          "output_type": "stream",
          "name": "stderr",
          "text": [
            "\rtrain:  81%|████████  | 372/462 [21:07<05:05,  3.39s/it]"
          ]
        },
        {
          "output_type": "stream",
          "name": "stdout",
          "text": [
            "\n",
            "Progress1\n",
            "\n",
            "Progress111\n",
            "torch.Size([4, 256, 10])\n",
            "y_predict.shape:  torch.Size([1024, 10])\n",
            "Progress222\n",
            "Progress2\n",
            "Progress3\n",
            "Progress4\n"
          ]
        },
        {
          "output_type": "stream",
          "name": "stderr",
          "text": [
            "\rtrain:  81%|████████  | 373/462 [21:10<04:51,  3.27s/it]"
          ]
        },
        {
          "output_type": "stream",
          "name": "stdout",
          "text": [
            "\n",
            "Progress1\n",
            "\n",
            "Progress111\n",
            "torch.Size([4, 256, 10])\n",
            "y_predict.shape:  torch.Size([1024, 10])\n",
            "Progress222\n",
            "Progress2\n",
            "Progress3\n",
            "Progress4\n"
          ]
        },
        {
          "output_type": "stream",
          "name": "stderr",
          "text": [
            "\rtrain:  81%|████████  | 374/462 [21:13<04:39,  3.17s/it]"
          ]
        },
        {
          "output_type": "stream",
          "name": "stdout",
          "text": [
            "\n",
            "Progress1\n",
            "\n",
            "Progress111\n",
            "torch.Size([4, 256, 10])\n",
            "y_predict.shape:  torch.Size([1024, 10])\n",
            "Progress222\n",
            "Progress2\n",
            "Progress3\n",
            "Progress4\n"
          ]
        },
        {
          "output_type": "stream",
          "name": "stderr",
          "text": [
            "\rtrain:  81%|████████  | 375/462 [21:17<04:53,  3.38s/it]"
          ]
        },
        {
          "output_type": "stream",
          "name": "stdout",
          "text": [
            "\n",
            "Progress1\n",
            "\n",
            "Progress111\n",
            "torch.Size([4, 256, 10])\n",
            "y_predict.shape:  torch.Size([1024, 10])\n",
            "Progress222\n",
            "Progress2\n",
            "Progress3\n",
            "Progress4\n"
          ]
        },
        {
          "output_type": "stream",
          "name": "stderr",
          "text": [
            "\rtrain:  81%|████████▏ | 376/462 [21:21<05:09,  3.59s/it]"
          ]
        },
        {
          "output_type": "stream",
          "name": "stdout",
          "text": [
            "\n",
            "Progress1\n",
            "\n",
            "Progress111\n",
            "torch.Size([4, 256, 10])\n",
            "y_predict.shape:  torch.Size([1024, 10])\n",
            "Progress222\n",
            "Progress2\n",
            "Progress3\n",
            "Progress4\n"
          ]
        },
        {
          "output_type": "stream",
          "name": "stderr",
          "text": [
            "\rtrain:  82%|████████▏ | 377/462 [21:24<04:49,  3.41s/it]"
          ]
        },
        {
          "output_type": "stream",
          "name": "stdout",
          "text": [
            "\n",
            "Progress1\n",
            "\n",
            "Progress111\n",
            "torch.Size([4, 256, 10])\n",
            "y_predict.shape:  torch.Size([1024, 10])\n",
            "Progress222\n",
            "Progress2\n",
            "Progress3\n",
            "Progress4\n"
          ]
        },
        {
          "output_type": "stream",
          "name": "stderr",
          "text": [
            "\rtrain:  82%|████████▏ | 378/462 [21:27<04:35,  3.29s/it]"
          ]
        },
        {
          "output_type": "stream",
          "name": "stdout",
          "text": [
            "\n",
            "Progress1\n",
            "\n",
            "Progress111\n",
            "torch.Size([4, 256, 10])\n",
            "y_predict.shape:  torch.Size([1024, 10])\n",
            "Progress222\n",
            "Progress2\n",
            "Progress3\n",
            "Progress4\n"
          ]
        },
        {
          "output_type": "stream",
          "name": "stderr",
          "text": [
            "\rtrain:  82%|████████▏ | 379/462 [21:30<04:24,  3.19s/it]"
          ]
        },
        {
          "output_type": "stream",
          "name": "stdout",
          "text": [
            "\n",
            "Progress1\n",
            "\n",
            "Progress111\n",
            "torch.Size([4, 256, 10])\n",
            "y_predict.shape:  torch.Size([1024, 10])\n",
            "Progress222\n",
            "Progress2\n",
            "Progress3\n",
            "Progress4\n"
          ]
        },
        {
          "output_type": "stream",
          "name": "stderr",
          "text": [
            "\rtrain:  82%|████████▏ | 380/462 [21:34<04:42,  3.44s/it]"
          ]
        },
        {
          "output_type": "stream",
          "name": "stdout",
          "text": [
            "\n",
            "Progress1\n",
            "\n",
            "Progress111\n",
            "torch.Size([4, 256, 10])\n",
            "y_predict.shape:  torch.Size([1024, 10])\n",
            "Progress222\n",
            "Progress2\n",
            "Progress3\n",
            "Progress4\n"
          ]
        },
        {
          "output_type": "stream",
          "name": "stderr",
          "text": [
            "\rtrain:  82%|████████▏ | 381/462 [21:37<04:44,  3.51s/it]"
          ]
        },
        {
          "output_type": "stream",
          "name": "stdout",
          "text": [
            "\n",
            "Progress1\n",
            "\n",
            "Progress111\n",
            "torch.Size([4, 256, 10])\n",
            "y_predict.shape:  torch.Size([1024, 10])\n",
            "Progress222\n",
            "Progress2\n",
            "Progress3\n",
            "Progress4\n"
          ]
        },
        {
          "output_type": "stream",
          "name": "stderr",
          "text": [
            "\rtrain:  83%|████████▎ | 382/462 [21:40<04:26,  3.34s/it]"
          ]
        },
        {
          "output_type": "stream",
          "name": "stdout",
          "text": [
            "\n",
            "Progress1\n",
            "\n",
            "Progress111\n",
            "torch.Size([4, 256, 10])\n",
            "y_predict.shape:  torch.Size([1024, 10])\n",
            "Progress222\n",
            "Progress2\n",
            "Progress3\n",
            "Progress4\n"
          ]
        },
        {
          "output_type": "stream",
          "name": "stderr",
          "text": [
            "\rtrain:  83%|████████▎ | 383/462 [21:43<04:13,  3.21s/it]"
          ]
        },
        {
          "output_type": "stream",
          "name": "stdout",
          "text": [
            "\n",
            "Progress1\n",
            "\n",
            "Progress111\n",
            "torch.Size([4, 256, 10])\n",
            "y_predict.shape:  torch.Size([1024, 10])\n",
            "Progress222\n",
            "Progress2\n",
            "Progress3\n",
            "Progress4\n"
          ]
        },
        {
          "output_type": "stream",
          "name": "stderr",
          "text": [
            "\rtrain:  83%|████████▎ | 384/462 [21:47<04:12,  3.24s/it]"
          ]
        },
        {
          "output_type": "stream",
          "name": "stdout",
          "text": [
            "\n",
            "Progress1\n",
            "\n",
            "Progress111\n",
            "torch.Size([4, 256, 10])\n",
            "y_predict.shape:  torch.Size([1024, 10])\n",
            "Progress222\n",
            "Progress2\n",
            "Progress3\n",
            "Progress4\n"
          ]
        },
        {
          "output_type": "stream",
          "name": "stderr",
          "text": [
            "\rtrain:  83%|████████▎ | 385/462 [21:51<04:32,  3.53s/it]"
          ]
        },
        {
          "output_type": "stream",
          "name": "stdout",
          "text": [
            "\n",
            "Progress1\n",
            "\n",
            "Progress111\n",
            "torch.Size([4, 256, 10])\n",
            "y_predict.shape:  torch.Size([1024, 10])\n",
            "Progress222\n",
            "Progress2\n",
            "Progress3\n",
            "Progress4\n"
          ]
        },
        {
          "output_type": "stream",
          "name": "stderr",
          "text": [
            "\rtrain:  84%|████████▎ | 386/462 [21:54<04:14,  3.34s/it]"
          ]
        },
        {
          "output_type": "stream",
          "name": "stdout",
          "text": [
            "\n",
            "Progress1\n",
            "\n",
            "Progress111\n",
            "torch.Size([4, 256, 10])\n",
            "y_predict.shape:  torch.Size([1024, 10])\n",
            "Progress222\n",
            "Progress2\n",
            "Progress3\n",
            "Progress4\n"
          ]
        },
        {
          "output_type": "stream",
          "name": "stderr",
          "text": [
            "\rtrain:  84%|████████▍ | 387/462 [21:57<04:02,  3.23s/it]"
          ]
        },
        {
          "output_type": "stream",
          "name": "stdout",
          "text": [
            "\n",
            "Progress1\n",
            "\n",
            "Progress111\n",
            "torch.Size([4, 256, 10])\n",
            "y_predict.shape:  torch.Size([1024, 10])\n",
            "Progress222\n",
            "Progress2\n",
            "Progress3\n",
            "Progress4\n"
          ]
        },
        {
          "output_type": "stream",
          "name": "stderr",
          "text": [
            "\rtrain:  84%|████████▍ | 388/462 [22:00<03:53,  3.16s/it]"
          ]
        },
        {
          "output_type": "stream",
          "name": "stdout",
          "text": [
            "\n",
            "Progress1\n",
            "\n",
            "Progress111\n",
            "torch.Size([4, 256, 10])\n",
            "y_predict.shape:  torch.Size([1024, 10])\n",
            "Progress222\n",
            "Progress2\n",
            "Progress3\n",
            "Progress4\n"
          ]
        },
        {
          "output_type": "stream",
          "name": "stderr",
          "text": [
            "\rtrain:  84%|████████▍ | 389/462 [22:04<04:15,  3.50s/it]"
          ]
        },
        {
          "output_type": "stream",
          "name": "stdout",
          "text": [
            "\n",
            "Progress1\n",
            "\n",
            "Progress111\n",
            "torch.Size([4, 256, 10])\n",
            "y_predict.shape:  torch.Size([1024, 10])\n",
            "Progress222\n",
            "Progress2\n",
            "Progress3\n",
            "Progress4\n"
          ]
        },
        {
          "output_type": "stream",
          "name": "stderr",
          "text": [
            "\rtrain:  84%|████████▍ | 390/462 [22:07<04:10,  3.48s/it]"
          ]
        },
        {
          "output_type": "stream",
          "name": "stdout",
          "text": [
            "\n",
            "Progress1\n",
            "\n",
            "Progress111\n",
            "torch.Size([4, 256, 10])\n",
            "y_predict.shape:  torch.Size([1024, 10])\n",
            "Progress222\n",
            "Progress2\n",
            "Progress3\n",
            "Progress4\n"
          ]
        },
        {
          "output_type": "stream",
          "name": "stderr",
          "text": [
            "\rtrain:  85%|████████▍ | 391/462 [22:10<03:55,  3.31s/it]"
          ]
        },
        {
          "output_type": "stream",
          "name": "stdout",
          "text": [
            "\n",
            "Progress1\n",
            "\n",
            "Progress111\n",
            "torch.Size([4, 256, 10])\n",
            "y_predict.shape:  torch.Size([1024, 10])\n",
            "Progress222\n",
            "Progress2\n",
            "Progress3\n",
            "Progress4\n"
          ]
        },
        {
          "output_type": "stream",
          "name": "stderr",
          "text": [
            "\rtrain:  85%|████████▍ | 392/462 [22:13<03:44,  3.21s/it]"
          ]
        },
        {
          "output_type": "stream",
          "name": "stdout",
          "text": [
            "\n",
            "Progress1\n",
            "\n",
            "Progress111\n",
            "torch.Size([4, 256, 10])\n",
            "y_predict.shape:  torch.Size([1024, 10])\n",
            "Progress222\n",
            "Progress2\n",
            "Progress3\n",
            "Progress4\n"
          ]
        },
        {
          "output_type": "stream",
          "name": "stderr",
          "text": [
            "\rtrain:  85%|████████▌ | 393/462 [22:17<03:46,  3.28s/it]"
          ]
        },
        {
          "output_type": "stream",
          "name": "stdout",
          "text": [
            "\n",
            "Progress1\n",
            "\n",
            "Progress111\n",
            "torch.Size([4, 256, 10])\n",
            "y_predict.shape:  torch.Size([1024, 10])\n",
            "Progress222\n",
            "Progress2\n",
            "Progress3\n",
            "Progress4\n"
          ]
        },
        {
          "output_type": "stream",
          "name": "stderr",
          "text": [
            "\rtrain:  85%|████████▌ | 394/462 [22:21<04:04,  3.59s/it]"
          ]
        },
        {
          "output_type": "stream",
          "name": "stdout",
          "text": [
            "\n",
            "Progress1\n",
            "\n",
            "Progress111\n",
            "torch.Size([4, 256, 10])\n",
            "y_predict.shape:  torch.Size([1024, 10])\n",
            "Progress222\n",
            "Progress2\n",
            "Progress3\n",
            "Progress4\n"
          ]
        },
        {
          "output_type": "stream",
          "name": "stderr",
          "text": [
            "\rtrain:  85%|████████▌ | 395/462 [22:24<03:47,  3.40s/it]"
          ]
        },
        {
          "output_type": "stream",
          "name": "stdout",
          "text": [
            "\n",
            "Progress1\n",
            "\n",
            "Progress111\n",
            "torch.Size([4, 256, 10])\n",
            "y_predict.shape:  torch.Size([1024, 10])\n",
            "Progress222\n",
            "Progress2\n",
            "Progress3\n",
            "Progress4\n"
          ]
        },
        {
          "output_type": "stream",
          "name": "stderr",
          "text": [
            "\rtrain:  86%|████████▌ | 396/462 [22:27<03:35,  3.27s/it]"
          ]
        },
        {
          "output_type": "stream",
          "name": "stdout",
          "text": [
            "\n",
            "Progress1\n",
            "\n",
            "Progress111\n",
            "torch.Size([4, 256, 10])\n",
            "y_predict.shape:  torch.Size([1024, 10])\n",
            "Progress222\n",
            "Progress2\n",
            "Progress3\n",
            "Progress4\n"
          ]
        },
        {
          "output_type": "stream",
          "name": "stderr",
          "text": [
            "\rtrain:  86%|████████▌ | 397/462 [22:30<03:25,  3.16s/it]"
          ]
        },
        {
          "output_type": "stream",
          "name": "stdout",
          "text": [
            "\n",
            "Progress1\n",
            "\n",
            "Progress111\n",
            "torch.Size([4, 256, 10])\n",
            "y_predict.shape:  torch.Size([1024, 10])\n",
            "Progress222\n",
            "Progress2\n",
            "Progress3\n",
            "Progress4\n"
          ]
        },
        {
          "output_type": "stream",
          "name": "stderr",
          "text": [
            "\rtrain:  86%|████████▌ | 398/462 [22:34<03:35,  3.36s/it]"
          ]
        },
        {
          "output_type": "stream",
          "name": "stdout",
          "text": [
            "\n",
            "Progress1\n",
            "\n",
            "Progress111\n",
            "torch.Size([4, 256, 10])\n",
            "y_predict.shape:  torch.Size([1024, 10])\n",
            "Progress222\n",
            "Progress2\n",
            "Progress3\n",
            "Progress4\n"
          ]
        },
        {
          "output_type": "stream",
          "name": "stderr",
          "text": [
            "\rtrain:  86%|████████▋ | 399/462 [22:37<03:40,  3.50s/it]"
          ]
        },
        {
          "output_type": "stream",
          "name": "stdout",
          "text": [
            "\n",
            "Progress1\n",
            "\n",
            "Progress111\n",
            "torch.Size([4, 256, 10])\n",
            "y_predict.shape:  torch.Size([1024, 10])\n",
            "Progress222\n",
            "Progress2\n",
            "Progress3\n",
            "Progress4\n"
          ]
        },
        {
          "output_type": "stream",
          "name": "stderr",
          "text": [
            "\rtrain:  87%|████████▋ | 400/462 [22:40<03:26,  3.33s/it]"
          ]
        },
        {
          "output_type": "stream",
          "name": "stdout",
          "text": [
            "\n",
            "Progress1\n",
            "\n",
            "Progress111\n",
            "torch.Size([4, 256, 10])\n",
            "y_predict.shape:  torch.Size([1024, 10])\n",
            "Progress222\n",
            "Progress2\n",
            "Progress3\n",
            "Progress4\n"
          ]
        },
        {
          "output_type": "stream",
          "name": "stderr",
          "text": [
            "\rtrain:  87%|████████▋ | 401/462 [22:43<03:16,  3.22s/it]"
          ]
        },
        {
          "output_type": "stream",
          "name": "stdout",
          "text": [
            "\n",
            "Progress1\n",
            "\n",
            "Progress111\n",
            "torch.Size([4, 256, 10])\n",
            "y_predict.shape:  torch.Size([1024, 10])\n",
            "Progress222\n",
            "Progress2\n",
            "Progress3\n",
            "Progress4\n"
          ]
        },
        {
          "output_type": "stream",
          "name": "stderr",
          "text": [
            "\rtrain:  87%|████████▋ | 402/462 [22:46<03:09,  3.16s/it]"
          ]
        },
        {
          "output_type": "stream",
          "name": "stdout",
          "text": [
            "\n",
            "Progress1\n",
            "\n",
            "Progress111\n",
            "torch.Size([4, 256, 10])\n",
            "y_predict.shape:  torch.Size([1024, 10])\n",
            "Progress222\n",
            "Progress2\n",
            "Progress3\n",
            "Progress4\n"
          ]
        },
        {
          "output_type": "stream",
          "name": "stderr",
          "text": [
            "\rtrain:  87%|████████▋ | 403/462 [22:51<03:27,  3.52s/it]"
          ]
        },
        {
          "output_type": "stream",
          "name": "stdout",
          "text": [
            "\n",
            "Progress1\n",
            "\n",
            "Progress111\n",
            "torch.Size([4, 256, 10])\n",
            "y_predict.shape:  torch.Size([1024, 10])\n",
            "Progress222\n",
            "Progress2\n",
            "Progress3\n",
            "Progress4\n"
          ]
        },
        {
          "output_type": "stream",
          "name": "stderr",
          "text": [
            "\rtrain:  87%|████████▋ | 404/462 [22:54<03:18,  3.42s/it]"
          ]
        },
        {
          "output_type": "stream",
          "name": "stdout",
          "text": [
            "\n",
            "Progress1\n",
            "\n",
            "Progress111\n",
            "torch.Size([4, 256, 10])\n",
            "y_predict.shape:  torch.Size([1024, 10])\n",
            "Progress222\n",
            "Progress2\n",
            "Progress3\n",
            "Progress4\n"
          ]
        },
        {
          "output_type": "stream",
          "name": "stderr",
          "text": [
            "\rtrain:  88%|████████▊ | 405/462 [22:57<03:05,  3.26s/it]"
          ]
        },
        {
          "output_type": "stream",
          "name": "stdout",
          "text": [
            "\n",
            "Progress1\n",
            "\n",
            "Progress111\n",
            "torch.Size([4, 256, 10])\n",
            "y_predict.shape:  torch.Size([1024, 10])\n",
            "Progress222\n",
            "Progress2\n",
            "Progress3\n",
            "Progress4\n"
          ]
        },
        {
          "output_type": "stream",
          "name": "stderr",
          "text": [
            "\rtrain:  88%|████████▊ | 406/462 [23:00<02:56,  3.15s/it]"
          ]
        },
        {
          "output_type": "stream",
          "name": "stdout",
          "text": [
            "\n",
            "Progress1\n",
            "\n",
            "Progress111\n",
            "torch.Size([4, 256, 10])\n",
            "y_predict.shape:  torch.Size([1024, 10])\n",
            "Progress222\n",
            "Progress2\n",
            "Progress3\n",
            "Progress4\n"
          ]
        },
        {
          "output_type": "stream",
          "name": "stderr",
          "text": [
            "\rtrain:  88%|████████▊ | 407/462 [23:03<02:56,  3.21s/it]"
          ]
        },
        {
          "output_type": "stream",
          "name": "stdout",
          "text": [
            "\n",
            "Progress1\n",
            "\n",
            "Progress111\n",
            "torch.Size([4, 256, 10])\n",
            "y_predict.shape:  torch.Size([1024, 10])\n",
            "Progress222\n",
            "Progress2\n",
            "Progress3\n",
            "Progress4\n"
          ]
        },
        {
          "output_type": "stream",
          "name": "stderr",
          "text": [
            "\rtrain:  88%|████████▊ | 408/462 [23:07<03:07,  3.48s/it]"
          ]
        },
        {
          "output_type": "stream",
          "name": "stdout",
          "text": [
            "\n",
            "Progress1\n",
            "\n",
            "Progress111\n",
            "torch.Size([4, 256, 10])\n",
            "y_predict.shape:  torch.Size([1024, 10])\n",
            "Progress222\n",
            "Progress2\n",
            "Progress3\n",
            "Progress4\n"
          ]
        },
        {
          "output_type": "stream",
          "name": "stderr",
          "text": [
            "\rtrain:  89%|████████▊ | 409/462 [23:10<02:56,  3.33s/it]"
          ]
        },
        {
          "output_type": "stream",
          "name": "stdout",
          "text": [
            "\n",
            "Progress1\n",
            "\n",
            "Progress111\n",
            "torch.Size([4, 256, 10])\n",
            "y_predict.shape:  torch.Size([1024, 10])\n",
            "Progress222\n",
            "Progress2\n",
            "Progress3\n",
            "Progress4\n"
          ]
        },
        {
          "output_type": "stream",
          "name": "stderr",
          "text": [
            "\rtrain:  89%|████████▊ | 410/462 [23:13<02:45,  3.19s/it]"
          ]
        },
        {
          "output_type": "stream",
          "name": "stdout",
          "text": [
            "\n",
            "Progress1\n",
            "\n",
            "Progress111\n",
            "torch.Size([4, 256, 10])\n",
            "y_predict.shape:  torch.Size([1024, 10])\n",
            "Progress222\n",
            "Progress2\n",
            "Progress3\n",
            "Progress4\n"
          ]
        },
        {
          "output_type": "stream",
          "name": "stderr",
          "text": [
            "\rtrain:  89%|████████▉ | 411/462 [23:16<02:38,  3.10s/it]"
          ]
        },
        {
          "output_type": "stream",
          "name": "stdout",
          "text": [
            "\n",
            "Progress1\n",
            "\n",
            "Progress111\n",
            "torch.Size([4, 256, 10])\n",
            "y_predict.shape:  torch.Size([1024, 10])\n",
            "Progress222\n",
            "Progress2\n",
            "Progress3\n",
            "Progress4\n"
          ]
        },
        {
          "output_type": "stream",
          "name": "stderr",
          "text": [
            "\rtrain:  89%|████████▉ | 412/462 [23:19<02:37,  3.15s/it]"
          ]
        },
        {
          "output_type": "stream",
          "name": "stdout",
          "text": [
            "\n",
            "Progress1\n",
            "\n",
            "Progress111\n",
            "torch.Size([4, 256, 10])\n",
            "y_predict.shape:  torch.Size([1024, 10])\n",
            "Progress222\n",
            "Progress2\n",
            "Progress3\n",
            "Progress4\n"
          ]
        },
        {
          "output_type": "stream",
          "name": "stderr",
          "text": [
            "\rtrain:  89%|████████▉ | 413/462 [23:23<02:50,  3.47s/it]"
          ]
        },
        {
          "output_type": "stream",
          "name": "stdout",
          "text": [
            "\n",
            "Progress1\n",
            "\n",
            "Progress111\n",
            "torch.Size([4, 256, 10])\n",
            "y_predict.shape:  torch.Size([1024, 10])\n",
            "Progress222\n",
            "Progress2\n",
            "Progress3\n",
            "Progress4\n"
          ]
        },
        {
          "output_type": "stream",
          "name": "stderr",
          "text": [
            "\rtrain:  90%|████████▉ | 414/462 [23:26<02:40,  3.34s/it]"
          ]
        },
        {
          "output_type": "stream",
          "name": "stdout",
          "text": [
            "\n",
            "Progress1\n",
            "\n",
            "Progress111\n",
            "torch.Size([4, 256, 10])\n",
            "y_predict.shape:  torch.Size([1024, 10])\n",
            "Progress222\n",
            "Progress2\n",
            "Progress3\n",
            "Progress4\n"
          ]
        },
        {
          "output_type": "stream",
          "name": "stderr",
          "text": [
            "\rtrain:  90%|████████▉ | 415/462 [23:29<02:30,  3.21s/it]"
          ]
        },
        {
          "output_type": "stream",
          "name": "stdout",
          "text": [
            "\n",
            "Progress1\n",
            "\n",
            "Progress111\n",
            "torch.Size([4, 256, 10])\n",
            "y_predict.shape:  torch.Size([1024, 10])\n",
            "Progress222\n",
            "Progress2\n",
            "Progress3\n",
            "Progress4\n"
          ]
        },
        {
          "output_type": "stream",
          "name": "stderr",
          "text": [
            "\rtrain:  90%|█████████ | 416/462 [23:32<02:24,  3.13s/it]"
          ]
        },
        {
          "output_type": "stream",
          "name": "stdout",
          "text": [
            "\n",
            "Progress1\n",
            "\n",
            "Progress111\n",
            "torch.Size([4, 256, 10])\n",
            "y_predict.shape:  torch.Size([1024, 10])\n",
            "Progress222\n",
            "Progress2\n",
            "Progress3\n",
            "Progress4\n"
          ]
        },
        {
          "output_type": "stream",
          "name": "stderr",
          "text": [
            "\rtrain:  90%|█████████ | 417/462 [23:36<02:26,  3.27s/it]"
          ]
        },
        {
          "output_type": "stream",
          "name": "stdout",
          "text": [
            "\n",
            "Progress1\n",
            "\n",
            "Progress111\n",
            "torch.Size([4, 256, 10])\n",
            "y_predict.shape:  torch.Size([1024, 10])\n",
            "Progress222\n",
            "Progress2\n",
            "Progress3\n",
            "Progress4\n"
          ]
        },
        {
          "output_type": "stream",
          "name": "stderr",
          "text": [
            "\rtrain:  90%|█████████ | 418/462 [23:40<02:35,  3.52s/it]"
          ]
        },
        {
          "output_type": "stream",
          "name": "stdout",
          "text": [
            "\n",
            "Progress1\n",
            "\n",
            "Progress111\n",
            "torch.Size([4, 256, 10])\n",
            "y_predict.shape:  torch.Size([1024, 10])\n",
            "Progress222\n",
            "Progress2\n",
            "Progress3\n",
            "Progress4\n"
          ]
        },
        {
          "output_type": "stream",
          "name": "stderr",
          "text": [
            "\rtrain:  91%|█████████ | 419/462 [23:43<02:23,  3.34s/it]"
          ]
        },
        {
          "output_type": "stream",
          "name": "stdout",
          "text": [
            "\n",
            "Progress1\n",
            "\n",
            "Progress111\n",
            "torch.Size([4, 256, 10])\n",
            "y_predict.shape:  torch.Size([1024, 10])\n",
            "Progress222\n",
            "Progress2\n",
            "Progress3\n",
            "Progress4\n"
          ]
        },
        {
          "output_type": "stream",
          "name": "stderr",
          "text": [
            "\rtrain:  91%|█████████ | 420/462 [23:46<02:14,  3.20s/it]"
          ]
        },
        {
          "output_type": "stream",
          "name": "stdout",
          "text": [
            "\n",
            "Progress1\n",
            "\n",
            "Progress111\n",
            "torch.Size([4, 256, 10])\n",
            "y_predict.shape:  torch.Size([1024, 10])\n",
            "Progress222\n",
            "Progress2\n",
            "Progress3\n",
            "Progress4\n"
          ]
        },
        {
          "output_type": "stream",
          "name": "stderr",
          "text": [
            "\rtrain:  91%|█████████ | 421/462 [23:49<02:06,  3.09s/it]"
          ]
        },
        {
          "output_type": "stream",
          "name": "stdout",
          "text": [
            "\n",
            "Progress1\n",
            "\n",
            "Progress111\n",
            "torch.Size([4, 256, 10])\n",
            "y_predict.shape:  torch.Size([1024, 10])\n",
            "Progress222\n",
            "Progress2\n",
            "Progress3\n",
            "Progress4\n"
          ]
        },
        {
          "output_type": "stream",
          "name": "stderr",
          "text": [
            "\rtrain:  91%|█████████▏| 422/462 [23:52<02:11,  3.28s/it]"
          ]
        },
        {
          "output_type": "stream",
          "name": "stdout",
          "text": [
            "\n",
            "Progress1\n",
            "\n",
            "Progress111\n",
            "torch.Size([4, 256, 10])\n",
            "y_predict.shape:  torch.Size([1024, 10])\n",
            "Progress222\n",
            "Progress2\n",
            "Progress3\n",
            "Progress4\n"
          ]
        },
        {
          "output_type": "stream",
          "name": "stderr",
          "text": [
            "\rtrain:  92%|█████████▏| 423/462 [23:56<02:14,  3.44s/it]"
          ]
        },
        {
          "output_type": "stream",
          "name": "stdout",
          "text": [
            "\n",
            "Progress1\n",
            "\n",
            "Progress111\n",
            "torch.Size([4, 256, 10])\n",
            "y_predict.shape:  torch.Size([1024, 10])\n",
            "Progress222\n",
            "Progress2\n",
            "Progress3\n",
            "Progress4\n"
          ]
        },
        {
          "output_type": "stream",
          "name": "stderr",
          "text": [
            "\rtrain:  92%|█████████▏| 424/462 [23:59<02:04,  3.27s/it]"
          ]
        },
        {
          "output_type": "stream",
          "name": "stdout",
          "text": [
            "\n",
            "Progress1\n",
            "\n",
            "Progress111\n",
            "torch.Size([4, 256, 10])\n",
            "y_predict.shape:  torch.Size([1024, 10])\n",
            "Progress222\n",
            "Progress2\n",
            "Progress3\n",
            "Progress4\n"
          ]
        },
        {
          "output_type": "stream",
          "name": "stderr",
          "text": [
            "\rtrain:  92%|█████████▏| 425/462 [24:02<01:57,  3.16s/it]"
          ]
        },
        {
          "output_type": "stream",
          "name": "stdout",
          "text": [
            "\n",
            "Progress1\n",
            "\n",
            "Progress111\n",
            "torch.Size([4, 256, 10])\n",
            "y_predict.shape:  torch.Size([1024, 10])\n",
            "Progress222\n",
            "Progress2\n",
            "Progress3\n",
            "Progress4\n"
          ]
        },
        {
          "output_type": "stream",
          "name": "stderr",
          "text": [
            "\rtrain:  92%|█████████▏| 426/462 [24:05<01:51,  3.09s/it]"
          ]
        },
        {
          "output_type": "stream",
          "name": "stdout",
          "text": [
            "\n",
            "Progress1\n",
            "\n",
            "Progress111\n",
            "torch.Size([4, 256, 10])\n",
            "y_predict.shape:  torch.Size([1024, 10])\n",
            "Progress222\n",
            "Progress2\n",
            "Progress3\n",
            "Progress4\n"
          ]
        },
        {
          "output_type": "stream",
          "name": "stderr",
          "text": [
            "\rtrain:  92%|█████████▏| 427/462 [24:09<02:01,  3.49s/it]"
          ]
        },
        {
          "output_type": "stream",
          "name": "stdout",
          "text": [
            "\n",
            "Progress1\n",
            "\n",
            "Progress111\n",
            "torch.Size([4, 256, 10])\n",
            "y_predict.shape:  torch.Size([1024, 10])\n",
            "Progress222\n",
            "Progress2\n",
            "Progress3\n",
            "Progress4\n"
          ]
        },
        {
          "output_type": "stream",
          "name": "stderr",
          "text": [
            "\rtrain:  93%|█████████▎| 428/462 [24:12<01:52,  3.30s/it]"
          ]
        },
        {
          "output_type": "stream",
          "name": "stdout",
          "text": [
            "\n",
            "Progress1\n",
            "\n",
            "Progress111\n",
            "torch.Size([4, 256, 10])\n",
            "y_predict.shape:  torch.Size([1024, 10])\n",
            "Progress222\n",
            "Progress2\n",
            "Progress3\n",
            "Progress4\n"
          ]
        },
        {
          "output_type": "stream",
          "name": "stderr",
          "text": [
            "\rtrain:  93%|█████████▎| 429/462 [24:15<01:45,  3.19s/it]"
          ]
        },
        {
          "output_type": "stream",
          "name": "stdout",
          "text": [
            "\n",
            "Progress1\n",
            "\n",
            "Progress111\n",
            "torch.Size([4, 256, 10])\n",
            "y_predict.shape:  torch.Size([1024, 10])\n",
            "Progress222\n",
            "Progress2\n",
            "Progress3\n",
            "Progress4\n"
          ]
        },
        {
          "output_type": "stream",
          "name": "stderr",
          "text": [
            "\rtrain:  93%|█████████▎| 430/462 [24:18<01:39,  3.11s/it]"
          ]
        },
        {
          "output_type": "stream",
          "name": "stdout",
          "text": [
            "\n",
            "Progress1\n",
            "\n",
            "Progress111\n",
            "torch.Size([4, 256, 10])\n",
            "y_predict.shape:  torch.Size([1024, 10])\n",
            "Progress222\n",
            "Progress2\n",
            "Progress3\n",
            "Progress4\n"
          ]
        },
        {
          "output_type": "stream",
          "name": "stderr",
          "text": [
            "\rtrain:  93%|█████████▎| 431/462 [24:22<01:45,  3.39s/it]"
          ]
        },
        {
          "output_type": "stream",
          "name": "stdout",
          "text": [
            "\n",
            "Progress1\n",
            "\n",
            "Progress111\n",
            "torch.Size([4, 256, 10])\n",
            "y_predict.shape:  torch.Size([1024, 10])\n",
            "Progress222\n",
            "Progress2\n",
            "Progress3\n",
            "Progress4\n"
          ]
        },
        {
          "output_type": "stream",
          "name": "stderr",
          "text": [
            "\rtrain:  94%|█████████▎| 432/462 [24:25<01:42,  3.42s/it]"
          ]
        },
        {
          "output_type": "stream",
          "name": "stdout",
          "text": [
            "\n",
            "Progress1\n",
            "\n",
            "Progress111\n",
            "torch.Size([4, 256, 10])\n",
            "y_predict.shape:  torch.Size([1024, 10])\n",
            "Progress222\n",
            "Progress2\n",
            "Progress3\n",
            "Progress4\n"
          ]
        },
        {
          "output_type": "stream",
          "name": "stderr",
          "text": [
            "\rtrain:  94%|█████████▎| 433/462 [24:28<01:34,  3.25s/it]"
          ]
        },
        {
          "output_type": "stream",
          "name": "stdout",
          "text": [
            "\n",
            "Progress1\n",
            "\n",
            "Progress111\n",
            "torch.Size([4, 256, 10])\n",
            "y_predict.shape:  torch.Size([1024, 10])\n",
            "Progress222\n",
            "Progress2\n",
            "Progress3\n",
            "Progress4\n"
          ]
        },
        {
          "output_type": "stream",
          "name": "stderr",
          "text": [
            "\rtrain:  94%|█████████▍| 434/462 [24:31<01:28,  3.15s/it]"
          ]
        },
        {
          "output_type": "stream",
          "name": "stdout",
          "text": [
            "\n",
            "Progress1\n",
            "\n",
            "Progress111\n",
            "torch.Size([4, 256, 10])\n",
            "y_predict.shape:  torch.Size([1024, 10])\n",
            "Progress222\n",
            "Progress2\n",
            "Progress3\n",
            "Progress4\n"
          ]
        },
        {
          "output_type": "stream",
          "name": "stderr",
          "text": [
            "\rtrain:  94%|█████████▍| 435/462 [24:34<01:24,  3.15s/it]"
          ]
        },
        {
          "output_type": "stream",
          "name": "stdout",
          "text": [
            "\n",
            "Progress1\n",
            "\n",
            "Progress111\n",
            "torch.Size([4, 256, 10])\n",
            "y_predict.shape:  torch.Size([1024, 10])\n",
            "Progress222\n",
            "Progress2\n",
            "Progress3\n",
            "Progress4\n"
          ]
        },
        {
          "output_type": "stream",
          "name": "stderr",
          "text": [
            "\rtrain:  94%|█████████▍| 436/462 [24:39<01:31,  3.52s/it]"
          ]
        },
        {
          "output_type": "stream",
          "name": "stdout",
          "text": [
            "\n",
            "Progress1\n",
            "\n",
            "Progress111\n",
            "torch.Size([4, 256, 10])\n",
            "y_predict.shape:  torch.Size([1024, 10])\n",
            "Progress222\n",
            "Progress2\n",
            "Progress3\n",
            "Progress4\n"
          ]
        },
        {
          "output_type": "stream",
          "name": "stderr",
          "text": [
            "\rtrain:  95%|█████████▍| 437/462 [24:42<01:23,  3.34s/it]"
          ]
        },
        {
          "output_type": "stream",
          "name": "stdout",
          "text": [
            "\n",
            "Progress1\n",
            "\n",
            "Progress111\n",
            "torch.Size([4, 256, 10])\n",
            "y_predict.shape:  torch.Size([1024, 10])\n",
            "Progress222\n",
            "Progress2\n",
            "Progress3\n",
            "Progress4\n"
          ]
        },
        {
          "output_type": "stream",
          "name": "stderr",
          "text": [
            "\rtrain:  95%|█████████▍| 438/462 [24:45<01:17,  3.21s/it]"
          ]
        },
        {
          "output_type": "stream",
          "name": "stdout",
          "text": [
            "\n",
            "Progress1\n",
            "\n",
            "Progress111\n",
            "torch.Size([4, 256, 10])\n",
            "y_predict.shape:  torch.Size([1024, 10])\n",
            "Progress222\n",
            "Progress2\n",
            "Progress3\n",
            "Progress4\n"
          ]
        },
        {
          "output_type": "stream",
          "name": "stderr",
          "text": [
            "\rtrain:  95%|█████████▌| 439/462 [24:47<01:11,  3.12s/it]"
          ]
        },
        {
          "output_type": "stream",
          "name": "stdout",
          "text": [
            "\n",
            "Progress1\n",
            "\n",
            "Progress111\n",
            "torch.Size([4, 256, 10])\n",
            "y_predict.shape:  torch.Size([1024, 10])\n",
            "Progress222\n",
            "Progress2\n",
            "Progress3\n",
            "Progress4\n"
          ]
        },
        {
          "output_type": "stream",
          "name": "stderr",
          "text": [
            "\rtrain:  95%|█████████▌| 440/462 [24:51<01:14,  3.37s/it]"
          ]
        },
        {
          "output_type": "stream",
          "name": "stdout",
          "text": [
            "\n",
            "Progress1\n",
            "\n",
            "Progress111\n",
            "torch.Size([4, 256, 10])\n",
            "y_predict.shape:  torch.Size([1024, 10])\n",
            "Progress222\n",
            "Progress2\n",
            "Progress3\n",
            "Progress4\n"
          ]
        },
        {
          "output_type": "stream",
          "name": "stderr",
          "text": [
            "\rtrain:  95%|█████████▌| 441/462 [24:55<01:11,  3.42s/it]"
          ]
        },
        {
          "output_type": "stream",
          "name": "stdout",
          "text": [
            "\n",
            "Progress1\n",
            "\n",
            "Progress111\n",
            "torch.Size([4, 256, 10])\n",
            "y_predict.shape:  torch.Size([1024, 10])\n",
            "Progress222\n",
            "Progress2\n",
            "Progress3\n",
            "Progress4\n"
          ]
        },
        {
          "output_type": "stream",
          "name": "stderr",
          "text": [
            "\rtrain:  96%|█████████▌| 442/462 [24:58<01:04,  3.25s/it]"
          ]
        },
        {
          "output_type": "stream",
          "name": "stdout",
          "text": [
            "\n",
            "Progress1\n",
            "\n",
            "Progress111\n",
            "torch.Size([4, 256, 10])\n",
            "y_predict.shape:  torch.Size([1024, 10])\n",
            "Progress222\n",
            "Progress2\n",
            "Progress3\n",
            "Progress4\n"
          ]
        },
        {
          "output_type": "stream",
          "name": "stderr",
          "text": [
            "\rtrain:  96%|█████████▌| 443/462 [25:01<00:59,  3.14s/it]"
          ]
        },
        {
          "output_type": "stream",
          "name": "stdout",
          "text": [
            "\n",
            "Progress1\n",
            "\n",
            "Progress111\n",
            "torch.Size([4, 256, 10])\n",
            "y_predict.shape:  torch.Size([1024, 10])\n",
            "Progress222\n",
            "Progress2\n",
            "Progress3\n",
            "Progress4\n"
          ]
        },
        {
          "output_type": "stream",
          "name": "stderr",
          "text": [
            "\rtrain:  96%|█████████▌| 444/462 [25:04<00:56,  3.14s/it]"
          ]
        },
        {
          "output_type": "stream",
          "name": "stdout",
          "text": [
            "\n",
            "Progress1\n",
            "\n",
            "Progress111\n",
            "torch.Size([4, 256, 10])\n",
            "y_predict.shape:  torch.Size([1024, 10])\n",
            "Progress222\n",
            "Progress2\n",
            "Progress3\n",
            "Progress4\n"
          ]
        },
        {
          "output_type": "stream",
          "name": "stderr",
          "text": [
            "\rtrain:  96%|█████████▋| 445/462 [25:08<00:58,  3.47s/it]"
          ]
        },
        {
          "output_type": "stream",
          "name": "stdout",
          "text": [
            "\n",
            "Progress1\n",
            "\n",
            "Progress111\n",
            "torch.Size([4, 256, 10])\n",
            "y_predict.shape:  torch.Size([1024, 10])\n",
            "Progress222\n",
            "Progress2\n",
            "Progress3\n",
            "Progress4\n"
          ]
        },
        {
          "output_type": "stream",
          "name": "stderr",
          "text": [
            "\rtrain:  97%|█████████▋| 446/462 [25:11<00:53,  3.36s/it]"
          ]
        },
        {
          "output_type": "stream",
          "name": "stdout",
          "text": [
            "\n",
            "Progress1\n",
            "\n",
            "Progress111\n",
            "torch.Size([4, 256, 10])\n",
            "y_predict.shape:  torch.Size([1024, 10])\n",
            "Progress222\n",
            "Progress2\n",
            "Progress3\n",
            "Progress4\n"
          ]
        },
        {
          "output_type": "stream",
          "name": "stderr",
          "text": [
            "\rtrain:  97%|█████████▋| 447/462 [25:14<00:47,  3.20s/it]"
          ]
        },
        {
          "output_type": "stream",
          "name": "stdout",
          "text": [
            "\n",
            "Progress1\n",
            "\n",
            "Progress111\n",
            "torch.Size([4, 256, 10])\n",
            "y_predict.shape:  torch.Size([1024, 10])\n",
            "Progress222\n",
            "Progress2\n",
            "Progress3\n",
            "Progress4\n"
          ]
        },
        {
          "output_type": "stream",
          "name": "stderr",
          "text": [
            "\rtrain:  97%|█████████▋| 448/462 [25:17<00:43,  3.10s/it]"
          ]
        },
        {
          "output_type": "stream",
          "name": "stdout",
          "text": [
            "\n",
            "Progress1\n",
            "\n",
            "Progress111\n",
            "torch.Size([4, 256, 10])\n",
            "y_predict.shape:  torch.Size([1024, 10])\n",
            "Progress222\n",
            "Progress2\n",
            "Progress3\n",
            "Progress4\n"
          ]
        },
        {
          "output_type": "stream",
          "name": "stderr",
          "text": [
            "\rtrain:  97%|█████████▋| 449/462 [25:20<00:41,  3.16s/it]"
          ]
        },
        {
          "output_type": "stream",
          "name": "stdout",
          "text": [
            "\n",
            "Progress1\n",
            "\n",
            "Progress111\n",
            "torch.Size([4, 256, 10])\n",
            "y_predict.shape:  torch.Size([1024, 10])\n",
            "Progress222\n",
            "Progress2\n",
            "Progress3\n",
            "Progress4\n"
          ]
        },
        {
          "output_type": "stream",
          "name": "stderr",
          "text": [
            "\rtrain:  97%|█████████▋| 450/462 [25:24<00:41,  3.46s/it]"
          ]
        },
        {
          "output_type": "stream",
          "name": "stdout",
          "text": [
            "\n",
            "Progress1\n",
            "\n",
            "Progress111\n",
            "torch.Size([4, 256, 10])\n",
            "y_predict.shape:  torch.Size([1024, 10])\n",
            "Progress222\n",
            "Progress2\n",
            "Progress3\n",
            "Progress4\n"
          ]
        },
        {
          "output_type": "stream",
          "name": "stderr",
          "text": [
            "\rtrain:  98%|█████████▊| 451/462 [25:27<00:36,  3.34s/it]"
          ]
        },
        {
          "output_type": "stream",
          "name": "stdout",
          "text": [
            "\n",
            "Progress1\n",
            "\n",
            "Progress111\n",
            "torch.Size([4, 256, 10])\n",
            "y_predict.shape:  torch.Size([1024, 10])\n",
            "Progress222\n",
            "Progress2\n",
            "Progress3\n",
            "Progress4\n"
          ]
        },
        {
          "output_type": "stream",
          "name": "stderr",
          "text": [
            "\rtrain:  98%|█████████▊| 452/462 [25:30<00:32,  3.24s/it]"
          ]
        },
        {
          "output_type": "stream",
          "name": "stdout",
          "text": [
            "\n",
            "Progress1\n",
            "\n",
            "Progress111\n",
            "torch.Size([4, 256, 10])\n",
            "y_predict.shape:  torch.Size([1024, 10])\n",
            "Progress222\n",
            "Progress2\n",
            "Progress3\n",
            "Progress4\n"
          ]
        },
        {
          "output_type": "stream",
          "name": "stderr",
          "text": [
            "\rtrain:  98%|█████████▊| 453/462 [25:33<00:28,  3.15s/it]"
          ]
        },
        {
          "output_type": "stream",
          "name": "stdout",
          "text": [
            "\n",
            "Progress1\n",
            "\n",
            "Progress111\n",
            "torch.Size([4, 256, 10])\n",
            "y_predict.shape:  torch.Size([1024, 10])\n",
            "Progress222\n",
            "Progress2\n",
            "Progress3\n",
            "Progress4\n"
          ]
        },
        {
          "output_type": "stream",
          "name": "stderr",
          "text": [
            "\rtrain:  98%|█████████▊| 454/462 [25:37<00:25,  3.24s/it]"
          ]
        },
        {
          "output_type": "stream",
          "name": "stdout",
          "text": [
            "\n",
            "Progress1\n",
            "\n",
            "Progress111\n",
            "torch.Size([4, 256, 10])\n",
            "y_predict.shape:  torch.Size([1024, 10])\n",
            "Progress222\n",
            "Progress2\n",
            "Progress3\n",
            "Progress4\n"
          ]
        },
        {
          "output_type": "stream",
          "name": "stderr",
          "text": [
            "\rtrain:  98%|█████████▊| 455/462 [25:41<00:24,  3.51s/it]"
          ]
        },
        {
          "output_type": "stream",
          "name": "stdout",
          "text": [
            "\n",
            "Progress1\n",
            "\n",
            "Progress111\n",
            "torch.Size([4, 256, 10])\n",
            "y_predict.shape:  torch.Size([1024, 10])\n",
            "Progress222\n",
            "Progress2\n",
            "Progress3\n",
            "Progress4\n"
          ]
        },
        {
          "output_type": "stream",
          "name": "stderr",
          "text": [
            "\rtrain:  99%|█████████▊| 456/462 [25:44<00:19,  3.33s/it]"
          ]
        },
        {
          "output_type": "stream",
          "name": "stdout",
          "text": [
            "\n",
            "Progress1\n",
            "\n",
            "Progress111\n",
            "torch.Size([4, 256, 10])\n",
            "y_predict.shape:  torch.Size([1024, 10])\n",
            "Progress222\n",
            "Progress2\n",
            "Progress3\n",
            "Progress4\n"
          ]
        },
        {
          "output_type": "stream",
          "name": "stderr",
          "text": [
            "\rtrain:  99%|█████████▉| 457/462 [25:47<00:16,  3.20s/it]"
          ]
        },
        {
          "output_type": "stream",
          "name": "stdout",
          "text": [
            "\n",
            "Progress1\n",
            "\n",
            "Progress111\n",
            "torch.Size([4, 256, 10])\n",
            "y_predict.shape:  torch.Size([1024, 10])\n",
            "Progress222\n",
            "Progress2\n",
            "Progress3\n",
            "Progress4\n"
          ]
        },
        {
          "output_type": "stream",
          "name": "stderr",
          "text": [
            "\rtrain:  99%|█████████▉| 458/462 [25:50<00:12,  3.12s/it]"
          ]
        },
        {
          "output_type": "stream",
          "name": "stdout",
          "text": [
            "\n",
            "Progress1\n",
            "\n",
            "Progress111\n",
            "torch.Size([4, 256, 10])\n",
            "y_predict.shape:  torch.Size([1024, 10])\n",
            "Progress222\n",
            "Progress2\n",
            "Progress3\n",
            "Progress4\n"
          ]
        },
        {
          "output_type": "stream",
          "name": "stderr",
          "text": [
            "\rtrain:  99%|█████████▉| 459/462 [25:53<00:09,  3.30s/it]"
          ]
        },
        {
          "output_type": "stream",
          "name": "stdout",
          "text": [
            "\n",
            "Progress1\n",
            "\n",
            "Progress111\n",
            "torch.Size([4, 256, 10])\n",
            "y_predict.shape:  torch.Size([1024, 10])\n",
            "Progress222\n",
            "Progress2\n",
            "Progress3\n",
            "Progress4\n"
          ]
        },
        {
          "output_type": "stream",
          "name": "stderr",
          "text": [
            "\rtrain: 100%|█████████▉| 460/462 [25:57<00:06,  3.45s/it]"
          ]
        },
        {
          "output_type": "stream",
          "name": "stdout",
          "text": [
            "\n",
            "Progress1\n",
            "\n",
            "Progress111\n",
            "torch.Size([4, 256, 10])\n",
            "y_predict.shape:  torch.Size([1024, 10])\n",
            "Progress222\n",
            "Progress2\n",
            "Progress3\n",
            "Progress4\n"
          ]
        },
        {
          "output_type": "stream",
          "name": "stderr",
          "text": [
            "\rtrain: 100%|█████████▉| 461/462 [26:00<00:03,  3.26s/it]"
          ]
        },
        {
          "output_type": "stream",
          "name": "stdout",
          "text": [
            "\n",
            "Progress1\n",
            "\n",
            "Progress111\n",
            "torch.Size([1, 256, 10])\n",
            "y_predict.shape:  torch.Size([256, 10])\n",
            "Progress222\n",
            "Progress2\n",
            "Progress3\n",
            "Progress4\n"
          ]
        },
        {
          "output_type": "stream",
          "name": "stderr",
          "text": [
            "train: 100%|██████████| 462/462 [26:02<00:00,  3.38s/it]\n"
          ]
        },
        {
          "output_type": "stream",
          "name": "stdout",
          "text": [
            "epoch: 1, Train loss: 0.250714235797976, Train accuracy: 0.8654603791293339\n",
            "\n"
          ]
        },
        {
          "output_type": "stream",
          "name": "stderr",
          "text": [
            "eval: 100%|██████████| 139/139 [02:18<00:00,  1.00it/s]"
          ]
        },
        {
          "output_type": "stream",
          "name": "stdout",
          "text": [
            "epoch: 1, Val loss: 0.17774553779217836, Val accuracy: 0.9063121492722598\n",
            "\n"
          ]
        },
        {
          "output_type": "stream",
          "name": "stderr",
          "text": [
            "\n"
          ]
        },
        {
          "output_type": "stream",
          "name": "stdout",
          "text": [
            "Best validation Acc: 0.9063121492722598\n",
            "\n"
          ]
        }
      ]
    },
    {
      "cell_type": "code",
      "source": [
        "debug_other = f'{common_path}/Аннушка.txt'"
      ],
      "metadata": {
        "id": "vML5Dvjt18nC"
      },
      "execution_count": null,
      "outputs": []
    },
    {
      "cell_type": "code",
      "source": [
        "tokenizer = PRETRAINED_MODELS[pretrained_model][1].from_pretrained(pretrained_model)\n",
        "token_style = PRETRAINED_MODELS[pretrained_model][3]\n",
        "SEQ_LEN = sequence_length\n",
        "# CONFIG AUGMENTATION\n",
        "AUG_RATE = 0.\n",
        "AUG_TYPE = 'all'\n",
        "# DATASETS\n",
        "data_loader_params = {\n",
        "    'batch_size': 4,\n",
        "    'shuffle': True,\n",
        "    'num_workers': 1\n",
        "}"
      ],
      "metadata": {
        "id": "XQLR3Zty2KlK"
      },
      "execution_count": null,
      "outputs": []
    },
    {
      "cell_type": "code",
      "source": [
        "#  x, y, att, and y_mask are the input features, target labels, attention masks,\n",
        "#  and target masks, respectively, for each batch of data in the dataloader.\n",
        "import pandas as pd\n",
        "pd.set_option('display.max_rows', None)\n",
        "\n",
        "targets_inversed = {v: k for k, v in TARGETS.items()}\n",
        "\n",
        "test2_dataset = RepunctDataset(debug_other, tokenizer=tokenizer, targets=TARGETS, #f'{common_path}/debug_sentences.txt'\n",
        "                                      sequence_len=SEQ_LEN, token_style=token_style,\n",
        "                                      is_train=False, augment_rate=AUG_RATE, #istrainwastrue\n",
        "                                      augment_type=AUG_TYPE)\n",
        "test2_loader = DataLoader(test2_dataset, **data_loader_params)\n",
        "\n",
        "\n",
        "def predict_one(model: nn.Module,\n",
        "                loader: DataLoader,\n",
        "                criterion: nn.Module) -> Tuple[float, float]:\n",
        "\n",
        "    num_iteration = 0\n",
        "    correct = 0.\n",
        "    total = 0.\n",
        "    val_loss = 0.0\n",
        "\n",
        "    model.eval()\n",
        "    with torch.no_grad():\n",
        "        for x, y, att, y_mask in tqdm(test2_loader, desc='eval'):\n",
        "            x = x.to(DEVICE)\n",
        "            y = y.view(-1).to(DEVICE)\n",
        "            att = att.to(DEVICE)\n",
        "            y_mask = y_mask.view(-1).to(DEVICE)\n",
        "\n",
        "            y_predict = model(x, att)\n",
        "            y_predict = y_predict.view(-1, y_predict.shape[2])\n",
        "\n",
        "            loss = criterion(y_predict, y)\n",
        "            y_predict = torch.argmax(y_predict, dim=1).view(-1)\n",
        "\n",
        "            val_loss += loss.item()\n",
        "            num_iteration += 1\n",
        "            y_mask = y_mask.view(-1)\n",
        "\n",
        "            non_O_keys = \" + \".join(list(TARGETS)[1:])\n",
        "            # targets = list(TARGETS) + [non_O_keys]\n",
        "            # for i, target in enumerate(targets):\n",
        "            preds_labels = []\n",
        "            tokens = []\n",
        "            # for i in range(x.shape[0]):\n",
        "            #     tokens.append(tokenizer.decode(x[i]))\n",
        "\n",
        "            for i in range(x.shape[0]):\n",
        "                token_ids = x[i].tolist()\n",
        "                token_subwords = tokenizer.convert_ids_to_tokens(token_ids)\n",
        "                tokens.append(token_subwords)\n",
        "            for i in y_predict.data:\n",
        "                preds_labels.append(targets_inversed[i.item()])\n",
        "\n",
        "            y_true_label = []\n",
        "            for i in y.tolist():\n",
        "                y_true_label.append(targets_inversed[i])\n",
        "\n",
        "            return {'tokens': tokens[0],\n",
        "                    'y_true': y.tolist(),\n",
        "                    'y_true_label': y_true_label,\n",
        "                    'y_predict': y_predict,\n",
        "                    'preds_labels': preds_labels}\n",
        "\n",
        "sent_table = predict_one(MODEL, test2_loader, CRITERION)\n",
        "sent_table = pd.DataFrame.from_dict(sent_table)\n",
        "sent_table\n"
      ],
      "metadata": {
        "id": "juG2quHYBEtf",
        "colab": {
          "base_uri": "https://localhost:8080/",
          "height": 1000
        },
        "outputId": "412c7711-d342-4de2-d12b-18be347515ea"
      },
      "execution_count": null,
      "outputs": [
        {
          "output_type": "stream",
          "name": "stderr",
          "text": [
            "\n",
            "100%|██████████| 17/17 [00:00<00:00, 5178.15it/s]\n",
            "\n",
            "eval:   0%|          | 0/1 [00:00<?, ?it/s]\n"
          ]
        },
        {
          "output_type": "execute_result",
          "data": {
            "text/plain": [
              "        tokens  y_true y_true_label  y_predict preds_labels\n",
              "0        [CLS]       0            O          0            O\n",
              "1         Анну       0            O          0            O\n",
              "2        ##шка       0            O          0            O\n",
              "3          уже       0            O          0            O\n",
              "4       купила       0            O          0            O\n",
              "5      подсолн       0            O          0            O\n",
              "6      ##ечное       0            O          0            O\n",
              "7        масло       4        COMMA          0            O\n",
              "8            и       0            O          0            O\n",
              "9           не       0            O          0            O\n",
              "10      только       0            O          0            O\n",
              "11      купила       4        COMMA          4        COMMA\n",
              "12          но       0            O          0            O\n",
              "13        даже       0            O          0            O\n",
              "14        разл       0            O          0            O\n",
              "15       ##ила       3       PERIOD          3       PERIOD\n",
              "16         Так       0            O          0            O\n",
              "17         что       0            O          0            O\n",
              "18   заседание       0            O          0            O\n",
              "19          не       0            O          0            O\n",
              "20   состоится       3       PERIOD          3       PERIOD\n",
              "21       [SEP]       0            O          0            O\n",
              "22       [PAD]       0            O          0            O\n",
              "23       [PAD]       0            O          0            O\n",
              "24       [PAD]       0            O          0            O\n",
              "25       [PAD]       0            O          0            O\n",
              "26       [PAD]       0            O          0            O\n",
              "27       [PAD]       0            O          0            O\n",
              "28       [PAD]       0            O          0            O\n",
              "29       [PAD]       0            O          0            O\n",
              "30       [PAD]       0            O          0            O\n",
              "31       [PAD]       0            O          0            O\n",
              "32       [PAD]       0            O          0            O\n",
              "33       [PAD]       0            O          0            O\n",
              "34       [PAD]       0            O          0            O\n",
              "35       [PAD]       0            O          0            O\n",
              "36       [PAD]       0            O          0            O\n",
              "37       [PAD]       0            O          0            O\n",
              "38       [PAD]       0            O          0            O\n",
              "39       [PAD]       0            O          0            O\n",
              "40       [PAD]       0            O          0            O\n",
              "41       [PAD]       0            O          0            O\n",
              "42       [PAD]       0            O          0            O\n",
              "43       [PAD]       0            O          0            O\n",
              "44       [PAD]       0            O          0            O\n",
              "45       [PAD]       0            O          0            O\n",
              "46       [PAD]       0            O          0            O\n",
              "47       [PAD]       0            O          0            O\n",
              "48       [PAD]       0            O          0            O\n",
              "49       [PAD]       0            O          0            O\n",
              "50       [PAD]       0            O          0            O\n",
              "51       [PAD]       0            O          0            O\n",
              "52       [PAD]       0            O          0            O\n",
              "53       [PAD]       0            O          0            O\n",
              "54       [PAD]       0            O          0            O\n",
              "55       [PAD]       0            O          0            O\n",
              "56       [PAD]       0            O          0            O\n",
              "57       [PAD]       0            O          0            O\n",
              "58       [PAD]       0            O          0            O\n",
              "59       [PAD]       0            O          0            O\n",
              "60       [PAD]       0            O          0            O\n",
              "61       [PAD]       0            O          0            O\n",
              "62       [PAD]       0            O          0            O\n",
              "63       [PAD]       0            O          0            O\n",
              "64       [PAD]       0            O          0            O\n",
              "65       [PAD]       0            O          0            O\n",
              "66       [PAD]       0            O          0            O\n",
              "67       [PAD]       0            O          0            O\n",
              "68       [PAD]       0            O          0            O\n",
              "69       [PAD]       0            O          0            O\n",
              "70       [PAD]       0            O          0            O\n",
              "71       [PAD]       0            O          0            O\n",
              "72       [PAD]       0            O          0            O\n",
              "73       [PAD]       0            O          0            O\n",
              "74       [PAD]       0            O          0            O\n",
              "75       [PAD]       0            O          0            O\n",
              "76       [PAD]       0            O          0            O\n",
              "77       [PAD]       0            O          0            O\n",
              "78       [PAD]       0            O          0            O\n",
              "79       [PAD]       0            O          0            O\n",
              "80       [PAD]       0            O          0            O\n",
              "81       [PAD]       0            O          0            O\n",
              "82       [PAD]       0            O          0            O\n",
              "83       [PAD]       0            O          0            O\n",
              "84       [PAD]       0            O          0            O\n",
              "85       [PAD]       0            O          0            O\n",
              "86       [PAD]       0            O          0            O\n",
              "87       [PAD]       0            O          0            O\n",
              "88       [PAD]       0            O          0            O\n",
              "89       [PAD]       0            O          0            O\n",
              "90       [PAD]       0            O          0            O\n",
              "91       [PAD]       0            O          0            O\n",
              "92       [PAD]       0            O          0            O\n",
              "93       [PAD]       0            O          0            O\n",
              "94       [PAD]       0            O          0            O\n",
              "95       [PAD]       0            O          0            O\n",
              "96       [PAD]       0            O          0            O\n",
              "97       [PAD]       0            O          0            O\n",
              "98       [PAD]       0            O          0            O\n",
              "99       [PAD]       0            O          0            O\n",
              "100      [PAD]       0            O          0            O\n",
              "101      [PAD]       0            O          0            O\n",
              "102      [PAD]       0            O          0            O\n",
              "103      [PAD]       0            O          0            O\n",
              "104      [PAD]       0            O          0            O\n",
              "105      [PAD]       0            O          0            O\n",
              "106      [PAD]       0            O          0            O\n",
              "107      [PAD]       0            O          0            O\n",
              "108      [PAD]       0            O          0            O\n",
              "109      [PAD]       0            O          0            O\n",
              "110      [PAD]       0            O          0            O\n",
              "111      [PAD]       0            O          0            O\n",
              "112      [PAD]       0            O          0            O\n",
              "113      [PAD]       0            O          0            O\n",
              "114      [PAD]       0            O          0            O\n",
              "115      [PAD]       0            O          0            O\n",
              "116      [PAD]       0            O          0            O\n",
              "117      [PAD]       0            O          0            O\n",
              "118      [PAD]       0            O          0            O\n",
              "119      [PAD]       0            O          0            O\n",
              "120      [PAD]       0            O          0            O\n",
              "121      [PAD]       0            O          0            O\n",
              "122      [PAD]       0            O          0            O\n",
              "123      [PAD]       0            O          0            O\n",
              "124      [PAD]       0            O          0            O\n",
              "125      [PAD]       0            O          0            O\n",
              "126      [PAD]       0            O          0            O\n",
              "127      [PAD]       0            O          0            O\n",
              "128      [PAD]       0            O          0            O\n",
              "129      [PAD]       0            O          0            O\n",
              "130      [PAD]       0            O          0            O\n",
              "131      [PAD]       0            O          0            O\n",
              "132      [PAD]       0            O          0            O\n",
              "133      [PAD]       0            O          0            O\n",
              "134      [PAD]       0            O          0            O\n",
              "135      [PAD]       0            O          0            O\n",
              "136      [PAD]       0            O          0            O\n",
              "137      [PAD]       0            O          0            O\n",
              "138      [PAD]       0            O          0            O\n",
              "139      [PAD]       0            O          0            O\n",
              "140      [PAD]       0            O          0            O\n",
              "141      [PAD]       0            O          0            O\n",
              "142      [PAD]       0            O          0            O\n",
              "143      [PAD]       0            O          0            O\n",
              "144      [PAD]       0            O          0            O\n",
              "145      [PAD]       0            O          0            O\n",
              "146      [PAD]       0            O          0            O\n",
              "147      [PAD]       0            O          0            O\n",
              "148      [PAD]       0            O          0            O\n",
              "149      [PAD]       0            O          0            O\n",
              "150      [PAD]       0            O          0            O\n",
              "151      [PAD]       0            O          0            O\n",
              "152      [PAD]       0            O          0            O\n",
              "153      [PAD]       0            O          0            O\n",
              "154      [PAD]       0            O          0            O\n",
              "155      [PAD]       0            O          0            O\n",
              "156      [PAD]       0            O          0            O\n",
              "157      [PAD]       0            O          0            O\n",
              "158      [PAD]       0            O          0            O\n",
              "159      [PAD]       0            O          0            O\n",
              "160      [PAD]       0            O          0            O\n",
              "161      [PAD]       0            O          0            O\n",
              "162      [PAD]       0            O          0            O\n",
              "163      [PAD]       0            O          0            O\n",
              "164      [PAD]       0            O          0            O\n",
              "165      [PAD]       0            O          0            O\n",
              "166      [PAD]       0            O          0            O\n",
              "167      [PAD]       0            O          0            O\n",
              "168      [PAD]       0            O          0            O\n",
              "169      [PAD]       0            O          0            O\n",
              "170      [PAD]       0            O          0            O\n",
              "171      [PAD]       0            O          0            O\n",
              "172      [PAD]       0            O          0            O\n",
              "173      [PAD]       0            O          0            O\n",
              "174      [PAD]       0            O          0            O\n",
              "175      [PAD]       0            O          0            O\n",
              "176      [PAD]       0            O          0            O\n",
              "177      [PAD]       0            O          0            O\n",
              "178      [PAD]       0            O          0            O\n",
              "179      [PAD]       0            O          0            O\n",
              "180      [PAD]       0            O          0            O\n",
              "181      [PAD]       0            O          0            O\n",
              "182      [PAD]       0            O          0            O\n",
              "183      [PAD]       0            O          0            O\n",
              "184      [PAD]       0            O          0            O\n",
              "185      [PAD]       0            O          0            O\n",
              "186      [PAD]       0            O          0            O\n",
              "187      [PAD]       0            O          0            O\n",
              "188      [PAD]       0            O          0            O\n",
              "189      [PAD]       0            O          0            O\n",
              "190      [PAD]       0            O          0            O\n",
              "191      [PAD]       0            O          0            O\n",
              "192      [PAD]       0            O          0            O\n",
              "193      [PAD]       0            O          0            O\n",
              "194      [PAD]       0            O          0            O\n",
              "195      [PAD]       0            O          0            O\n",
              "196      [PAD]       0            O          0            O\n",
              "197      [PAD]       0            O          0            O\n",
              "198      [PAD]       0            O          0            O\n",
              "199      [PAD]       0            O          0            O\n",
              "200      [PAD]       0            O          0            O\n",
              "201      [PAD]       0            O          0            O\n",
              "202      [PAD]       0            O          0            O\n",
              "203      [PAD]       0            O          0            O\n",
              "204      [PAD]       0            O          0            O\n",
              "205      [PAD]       0            O          0            O\n",
              "206      [PAD]       0            O          0            O\n",
              "207      [PAD]       0            O          0            O\n",
              "208      [PAD]       0            O          0            O\n",
              "209      [PAD]       0            O          0            O\n",
              "210      [PAD]       0            O          0            O\n",
              "211      [PAD]       0            O          0            O\n",
              "212      [PAD]       0            O          0            O\n",
              "213      [PAD]       0            O          0            O\n",
              "214      [PAD]       0            O          0            O\n",
              "215      [PAD]       0            O          0            O\n",
              "216      [PAD]       0            O          0            O\n",
              "217      [PAD]       0            O          0            O\n",
              "218      [PAD]       0            O          0            O\n",
              "219      [PAD]       0            O          0            O\n",
              "220      [PAD]       0            O          0            O\n",
              "221      [PAD]       0            O          0            O\n",
              "222      [PAD]       0            O          0            O\n",
              "223      [PAD]       0            O          0            O\n",
              "224      [PAD]       0            O          0            O\n",
              "225      [PAD]       0            O          0            O\n",
              "226      [PAD]       0            O          0            O\n",
              "227      [PAD]       0            O          0            O\n",
              "228      [PAD]       0            O          0            O\n",
              "229      [PAD]       0            O          0            O\n",
              "230      [PAD]       0            O          0            O\n",
              "231      [PAD]       0            O          0            O\n",
              "232      [PAD]       0            O          0            O\n",
              "233      [PAD]       0            O          0            O\n",
              "234      [PAD]       0            O          0            O\n",
              "235      [PAD]       0            O          0            O\n",
              "236      [PAD]       0            O          0            O\n",
              "237      [PAD]       0            O          0            O\n",
              "238      [PAD]       0            O          0            O\n",
              "239      [PAD]       0            O          0            O\n",
              "240      [PAD]       0            O          0            O\n",
              "241      [PAD]       0            O          0            O\n",
              "242      [PAD]       0            O          0            O\n",
              "243      [PAD]       0            O          0            O\n",
              "244      [PAD]       0            O          0            O\n",
              "245      [PAD]       0            O          0            O\n",
              "246      [PAD]       0            O          0            O\n",
              "247      [PAD]       0            O          0            O\n",
              "248      [PAD]       0            O          0            O\n",
              "249      [PAD]       0            O          0            O\n",
              "250      [PAD]       0            O          0            O\n",
              "251      [PAD]       0            O          0            O\n",
              "252      [PAD]       0            O          0            O\n",
              "253      [PAD]       0            O          0            O\n",
              "254      [PAD]       0            O          0            O\n",
              "255      [PAD]       0            O          0            O"
            ],
            "text/html": [
              "\n",
              "  <div id=\"df-a10a2348-d4a5-4fc8-9b77-21f485d0422e\" class=\"colab-df-container\">\n",
              "    <div>\n",
              "<style scoped>\n",
              "    .dataframe tbody tr th:only-of-type {\n",
              "        vertical-align: middle;\n",
              "    }\n",
              "\n",
              "    .dataframe tbody tr th {\n",
              "        vertical-align: top;\n",
              "    }\n",
              "\n",
              "    .dataframe thead th {\n",
              "        text-align: right;\n",
              "    }\n",
              "</style>\n",
              "<table border=\"1\" class=\"dataframe\">\n",
              "  <thead>\n",
              "    <tr style=\"text-align: right;\">\n",
              "      <th></th>\n",
              "      <th>tokens</th>\n",
              "      <th>y_true</th>\n",
              "      <th>y_true_label</th>\n",
              "      <th>y_predict</th>\n",
              "      <th>preds_labels</th>\n",
              "    </tr>\n",
              "  </thead>\n",
              "  <tbody>\n",
              "    <tr>\n",
              "      <th>0</th>\n",
              "      <td>[CLS]</td>\n",
              "      <td>0</td>\n",
              "      <td>O</td>\n",
              "      <td>0</td>\n",
              "      <td>O</td>\n",
              "    </tr>\n",
              "    <tr>\n",
              "      <th>1</th>\n",
              "      <td>Анну</td>\n",
              "      <td>0</td>\n",
              "      <td>O</td>\n",
              "      <td>0</td>\n",
              "      <td>O</td>\n",
              "    </tr>\n",
              "    <tr>\n",
              "      <th>2</th>\n",
              "      <td>##шка</td>\n",
              "      <td>0</td>\n",
              "      <td>O</td>\n",
              "      <td>0</td>\n",
              "      <td>O</td>\n",
              "    </tr>\n",
              "    <tr>\n",
              "      <th>3</th>\n",
              "      <td>уже</td>\n",
              "      <td>0</td>\n",
              "      <td>O</td>\n",
              "      <td>0</td>\n",
              "      <td>O</td>\n",
              "    </tr>\n",
              "    <tr>\n",
              "      <th>4</th>\n",
              "      <td>купила</td>\n",
              "      <td>0</td>\n",
              "      <td>O</td>\n",
              "      <td>0</td>\n",
              "      <td>O</td>\n",
              "    </tr>\n",
              "    <tr>\n",
              "      <th>5</th>\n",
              "      <td>подсолн</td>\n",
              "      <td>0</td>\n",
              "      <td>O</td>\n",
              "      <td>0</td>\n",
              "      <td>O</td>\n",
              "    </tr>\n",
              "    <tr>\n",
              "      <th>6</th>\n",
              "      <td>##ечное</td>\n",
              "      <td>0</td>\n",
              "      <td>O</td>\n",
              "      <td>0</td>\n",
              "      <td>O</td>\n",
              "    </tr>\n",
              "    <tr>\n",
              "      <th>7</th>\n",
              "      <td>масло</td>\n",
              "      <td>4</td>\n",
              "      <td>COMMA</td>\n",
              "      <td>0</td>\n",
              "      <td>O</td>\n",
              "    </tr>\n",
              "    <tr>\n",
              "      <th>8</th>\n",
              "      <td>и</td>\n",
              "      <td>0</td>\n",
              "      <td>O</td>\n",
              "      <td>0</td>\n",
              "      <td>O</td>\n",
              "    </tr>\n",
              "    <tr>\n",
              "      <th>9</th>\n",
              "      <td>не</td>\n",
              "      <td>0</td>\n",
              "      <td>O</td>\n",
              "      <td>0</td>\n",
              "      <td>O</td>\n",
              "    </tr>\n",
              "    <tr>\n",
              "      <th>10</th>\n",
              "      <td>только</td>\n",
              "      <td>0</td>\n",
              "      <td>O</td>\n",
              "      <td>0</td>\n",
              "      <td>O</td>\n",
              "    </tr>\n",
              "    <tr>\n",
              "      <th>11</th>\n",
              "      <td>купила</td>\n",
              "      <td>4</td>\n",
              "      <td>COMMA</td>\n",
              "      <td>4</td>\n",
              "      <td>COMMA</td>\n",
              "    </tr>\n",
              "    <tr>\n",
              "      <th>12</th>\n",
              "      <td>но</td>\n",
              "      <td>0</td>\n",
              "      <td>O</td>\n",
              "      <td>0</td>\n",
              "      <td>O</td>\n",
              "    </tr>\n",
              "    <tr>\n",
              "      <th>13</th>\n",
              "      <td>даже</td>\n",
              "      <td>0</td>\n",
              "      <td>O</td>\n",
              "      <td>0</td>\n",
              "      <td>O</td>\n",
              "    </tr>\n",
              "    <tr>\n",
              "      <th>14</th>\n",
              "      <td>разл</td>\n",
              "      <td>0</td>\n",
              "      <td>O</td>\n",
              "      <td>0</td>\n",
              "      <td>O</td>\n",
              "    </tr>\n",
              "    <tr>\n",
              "      <th>15</th>\n",
              "      <td>##ила</td>\n",
              "      <td>3</td>\n",
              "      <td>PERIOD</td>\n",
              "      <td>3</td>\n",
              "      <td>PERIOD</td>\n",
              "    </tr>\n",
              "    <tr>\n",
              "      <th>16</th>\n",
              "      <td>Так</td>\n",
              "      <td>0</td>\n",
              "      <td>O</td>\n",
              "      <td>0</td>\n",
              "      <td>O</td>\n",
              "    </tr>\n",
              "    <tr>\n",
              "      <th>17</th>\n",
              "      <td>что</td>\n",
              "      <td>0</td>\n",
              "      <td>O</td>\n",
              "      <td>0</td>\n",
              "      <td>O</td>\n",
              "    </tr>\n",
              "    <tr>\n",
              "      <th>18</th>\n",
              "      <td>заседание</td>\n",
              "      <td>0</td>\n",
              "      <td>O</td>\n",
              "      <td>0</td>\n",
              "      <td>O</td>\n",
              "    </tr>\n",
              "    <tr>\n",
              "      <th>19</th>\n",
              "      <td>не</td>\n",
              "      <td>0</td>\n",
              "      <td>O</td>\n",
              "      <td>0</td>\n",
              "      <td>O</td>\n",
              "    </tr>\n",
              "    <tr>\n",
              "      <th>20</th>\n",
              "      <td>состоится</td>\n",
              "      <td>3</td>\n",
              "      <td>PERIOD</td>\n",
              "      <td>3</td>\n",
              "      <td>PERIOD</td>\n",
              "    </tr>\n",
              "    <tr>\n",
              "      <th>21</th>\n",
              "      <td>[SEP]</td>\n",
              "      <td>0</td>\n",
              "      <td>O</td>\n",
              "      <td>0</td>\n",
              "      <td>O</td>\n",
              "    </tr>\n",
              "    <tr>\n",
              "      <th>22</th>\n",
              "      <td>[PAD]</td>\n",
              "      <td>0</td>\n",
              "      <td>O</td>\n",
              "      <td>0</td>\n",
              "      <td>O</td>\n",
              "    </tr>\n",
              "    <tr>\n",
              "      <th>23</th>\n",
              "      <td>[PAD]</td>\n",
              "      <td>0</td>\n",
              "      <td>O</td>\n",
              "      <td>0</td>\n",
              "      <td>O</td>\n",
              "    </tr>\n",
              "    <tr>\n",
              "      <th>24</th>\n",
              "      <td>[PAD]</td>\n",
              "      <td>0</td>\n",
              "      <td>O</td>\n",
              "      <td>0</td>\n",
              "      <td>O</td>\n",
              "    </tr>\n",
              "    <tr>\n",
              "      <th>25</th>\n",
              "      <td>[PAD]</td>\n",
              "      <td>0</td>\n",
              "      <td>O</td>\n",
              "      <td>0</td>\n",
              "      <td>O</td>\n",
              "    </tr>\n",
              "    <tr>\n",
              "      <th>26</th>\n",
              "      <td>[PAD]</td>\n",
              "      <td>0</td>\n",
              "      <td>O</td>\n",
              "      <td>0</td>\n",
              "      <td>O</td>\n",
              "    </tr>\n",
              "    <tr>\n",
              "      <th>27</th>\n",
              "      <td>[PAD]</td>\n",
              "      <td>0</td>\n",
              "      <td>O</td>\n",
              "      <td>0</td>\n",
              "      <td>O</td>\n",
              "    </tr>\n",
              "    <tr>\n",
              "      <th>28</th>\n",
              "      <td>[PAD]</td>\n",
              "      <td>0</td>\n",
              "      <td>O</td>\n",
              "      <td>0</td>\n",
              "      <td>O</td>\n",
              "    </tr>\n",
              "    <tr>\n",
              "      <th>29</th>\n",
              "      <td>[PAD]</td>\n",
              "      <td>0</td>\n",
              "      <td>O</td>\n",
              "      <td>0</td>\n",
              "      <td>O</td>\n",
              "    </tr>\n",
              "    <tr>\n",
              "      <th>30</th>\n",
              "      <td>[PAD]</td>\n",
              "      <td>0</td>\n",
              "      <td>O</td>\n",
              "      <td>0</td>\n",
              "      <td>O</td>\n",
              "    </tr>\n",
              "    <tr>\n",
              "      <th>31</th>\n",
              "      <td>[PAD]</td>\n",
              "      <td>0</td>\n",
              "      <td>O</td>\n",
              "      <td>0</td>\n",
              "      <td>O</td>\n",
              "    </tr>\n",
              "    <tr>\n",
              "      <th>32</th>\n",
              "      <td>[PAD]</td>\n",
              "      <td>0</td>\n",
              "      <td>O</td>\n",
              "      <td>0</td>\n",
              "      <td>O</td>\n",
              "    </tr>\n",
              "    <tr>\n",
              "      <th>33</th>\n",
              "      <td>[PAD]</td>\n",
              "      <td>0</td>\n",
              "      <td>O</td>\n",
              "      <td>0</td>\n",
              "      <td>O</td>\n",
              "    </tr>\n",
              "    <tr>\n",
              "      <th>34</th>\n",
              "      <td>[PAD]</td>\n",
              "      <td>0</td>\n",
              "      <td>O</td>\n",
              "      <td>0</td>\n",
              "      <td>O</td>\n",
              "    </tr>\n",
              "    <tr>\n",
              "      <th>35</th>\n",
              "      <td>[PAD]</td>\n",
              "      <td>0</td>\n",
              "      <td>O</td>\n",
              "      <td>0</td>\n",
              "      <td>O</td>\n",
              "    </tr>\n",
              "    <tr>\n",
              "      <th>36</th>\n",
              "      <td>[PAD]</td>\n",
              "      <td>0</td>\n",
              "      <td>O</td>\n",
              "      <td>0</td>\n",
              "      <td>O</td>\n",
              "    </tr>\n",
              "    <tr>\n",
              "      <th>37</th>\n",
              "      <td>[PAD]</td>\n",
              "      <td>0</td>\n",
              "      <td>O</td>\n",
              "      <td>0</td>\n",
              "      <td>O</td>\n",
              "    </tr>\n",
              "    <tr>\n",
              "      <th>38</th>\n",
              "      <td>[PAD]</td>\n",
              "      <td>0</td>\n",
              "      <td>O</td>\n",
              "      <td>0</td>\n",
              "      <td>O</td>\n",
              "    </tr>\n",
              "    <tr>\n",
              "      <th>39</th>\n",
              "      <td>[PAD]</td>\n",
              "      <td>0</td>\n",
              "      <td>O</td>\n",
              "      <td>0</td>\n",
              "      <td>O</td>\n",
              "    </tr>\n",
              "    <tr>\n",
              "      <th>40</th>\n",
              "      <td>[PAD]</td>\n",
              "      <td>0</td>\n",
              "      <td>O</td>\n",
              "      <td>0</td>\n",
              "      <td>O</td>\n",
              "    </tr>\n",
              "    <tr>\n",
              "      <th>41</th>\n",
              "      <td>[PAD]</td>\n",
              "      <td>0</td>\n",
              "      <td>O</td>\n",
              "      <td>0</td>\n",
              "      <td>O</td>\n",
              "    </tr>\n",
              "    <tr>\n",
              "      <th>42</th>\n",
              "      <td>[PAD]</td>\n",
              "      <td>0</td>\n",
              "      <td>O</td>\n",
              "      <td>0</td>\n",
              "      <td>O</td>\n",
              "    </tr>\n",
              "    <tr>\n",
              "      <th>43</th>\n",
              "      <td>[PAD]</td>\n",
              "      <td>0</td>\n",
              "      <td>O</td>\n",
              "      <td>0</td>\n",
              "      <td>O</td>\n",
              "    </tr>\n",
              "    <tr>\n",
              "      <th>44</th>\n",
              "      <td>[PAD]</td>\n",
              "      <td>0</td>\n",
              "      <td>O</td>\n",
              "      <td>0</td>\n",
              "      <td>O</td>\n",
              "    </tr>\n",
              "    <tr>\n",
              "      <th>45</th>\n",
              "      <td>[PAD]</td>\n",
              "      <td>0</td>\n",
              "      <td>O</td>\n",
              "      <td>0</td>\n",
              "      <td>O</td>\n",
              "    </tr>\n",
              "    <tr>\n",
              "      <th>46</th>\n",
              "      <td>[PAD]</td>\n",
              "      <td>0</td>\n",
              "      <td>O</td>\n",
              "      <td>0</td>\n",
              "      <td>O</td>\n",
              "    </tr>\n",
              "    <tr>\n",
              "      <th>47</th>\n",
              "      <td>[PAD]</td>\n",
              "      <td>0</td>\n",
              "      <td>O</td>\n",
              "      <td>0</td>\n",
              "      <td>O</td>\n",
              "    </tr>\n",
              "    <tr>\n",
              "      <th>48</th>\n",
              "      <td>[PAD]</td>\n",
              "      <td>0</td>\n",
              "      <td>O</td>\n",
              "      <td>0</td>\n",
              "      <td>O</td>\n",
              "    </tr>\n",
              "    <tr>\n",
              "      <th>49</th>\n",
              "      <td>[PAD]</td>\n",
              "      <td>0</td>\n",
              "      <td>O</td>\n",
              "      <td>0</td>\n",
              "      <td>O</td>\n",
              "    </tr>\n",
              "    <tr>\n",
              "      <th>50</th>\n",
              "      <td>[PAD]</td>\n",
              "      <td>0</td>\n",
              "      <td>O</td>\n",
              "      <td>0</td>\n",
              "      <td>O</td>\n",
              "    </tr>\n",
              "    <tr>\n",
              "      <th>51</th>\n",
              "      <td>[PAD]</td>\n",
              "      <td>0</td>\n",
              "      <td>O</td>\n",
              "      <td>0</td>\n",
              "      <td>O</td>\n",
              "    </tr>\n",
              "    <tr>\n",
              "      <th>52</th>\n",
              "      <td>[PAD]</td>\n",
              "      <td>0</td>\n",
              "      <td>O</td>\n",
              "      <td>0</td>\n",
              "      <td>O</td>\n",
              "    </tr>\n",
              "    <tr>\n",
              "      <th>53</th>\n",
              "      <td>[PAD]</td>\n",
              "      <td>0</td>\n",
              "      <td>O</td>\n",
              "      <td>0</td>\n",
              "      <td>O</td>\n",
              "    </tr>\n",
              "    <tr>\n",
              "      <th>54</th>\n",
              "      <td>[PAD]</td>\n",
              "      <td>0</td>\n",
              "      <td>O</td>\n",
              "      <td>0</td>\n",
              "      <td>O</td>\n",
              "    </tr>\n",
              "    <tr>\n",
              "      <th>55</th>\n",
              "      <td>[PAD]</td>\n",
              "      <td>0</td>\n",
              "      <td>O</td>\n",
              "      <td>0</td>\n",
              "      <td>O</td>\n",
              "    </tr>\n",
              "    <tr>\n",
              "      <th>56</th>\n",
              "      <td>[PAD]</td>\n",
              "      <td>0</td>\n",
              "      <td>O</td>\n",
              "      <td>0</td>\n",
              "      <td>O</td>\n",
              "    </tr>\n",
              "    <tr>\n",
              "      <th>57</th>\n",
              "      <td>[PAD]</td>\n",
              "      <td>0</td>\n",
              "      <td>O</td>\n",
              "      <td>0</td>\n",
              "      <td>O</td>\n",
              "    </tr>\n",
              "    <tr>\n",
              "      <th>58</th>\n",
              "      <td>[PAD]</td>\n",
              "      <td>0</td>\n",
              "      <td>O</td>\n",
              "      <td>0</td>\n",
              "      <td>O</td>\n",
              "    </tr>\n",
              "    <tr>\n",
              "      <th>59</th>\n",
              "      <td>[PAD]</td>\n",
              "      <td>0</td>\n",
              "      <td>O</td>\n",
              "      <td>0</td>\n",
              "      <td>O</td>\n",
              "    </tr>\n",
              "    <tr>\n",
              "      <th>60</th>\n",
              "      <td>[PAD]</td>\n",
              "      <td>0</td>\n",
              "      <td>O</td>\n",
              "      <td>0</td>\n",
              "      <td>O</td>\n",
              "    </tr>\n",
              "    <tr>\n",
              "      <th>61</th>\n",
              "      <td>[PAD]</td>\n",
              "      <td>0</td>\n",
              "      <td>O</td>\n",
              "      <td>0</td>\n",
              "      <td>O</td>\n",
              "    </tr>\n",
              "    <tr>\n",
              "      <th>62</th>\n",
              "      <td>[PAD]</td>\n",
              "      <td>0</td>\n",
              "      <td>O</td>\n",
              "      <td>0</td>\n",
              "      <td>O</td>\n",
              "    </tr>\n",
              "    <tr>\n",
              "      <th>63</th>\n",
              "      <td>[PAD]</td>\n",
              "      <td>0</td>\n",
              "      <td>O</td>\n",
              "      <td>0</td>\n",
              "      <td>O</td>\n",
              "    </tr>\n",
              "    <tr>\n",
              "      <th>64</th>\n",
              "      <td>[PAD]</td>\n",
              "      <td>0</td>\n",
              "      <td>O</td>\n",
              "      <td>0</td>\n",
              "      <td>O</td>\n",
              "    </tr>\n",
              "    <tr>\n",
              "      <th>65</th>\n",
              "      <td>[PAD]</td>\n",
              "      <td>0</td>\n",
              "      <td>O</td>\n",
              "      <td>0</td>\n",
              "      <td>O</td>\n",
              "    </tr>\n",
              "    <tr>\n",
              "      <th>66</th>\n",
              "      <td>[PAD]</td>\n",
              "      <td>0</td>\n",
              "      <td>O</td>\n",
              "      <td>0</td>\n",
              "      <td>O</td>\n",
              "    </tr>\n",
              "    <tr>\n",
              "      <th>67</th>\n",
              "      <td>[PAD]</td>\n",
              "      <td>0</td>\n",
              "      <td>O</td>\n",
              "      <td>0</td>\n",
              "      <td>O</td>\n",
              "    </tr>\n",
              "    <tr>\n",
              "      <th>68</th>\n",
              "      <td>[PAD]</td>\n",
              "      <td>0</td>\n",
              "      <td>O</td>\n",
              "      <td>0</td>\n",
              "      <td>O</td>\n",
              "    </tr>\n",
              "    <tr>\n",
              "      <th>69</th>\n",
              "      <td>[PAD]</td>\n",
              "      <td>0</td>\n",
              "      <td>O</td>\n",
              "      <td>0</td>\n",
              "      <td>O</td>\n",
              "    </tr>\n",
              "    <tr>\n",
              "      <th>70</th>\n",
              "      <td>[PAD]</td>\n",
              "      <td>0</td>\n",
              "      <td>O</td>\n",
              "      <td>0</td>\n",
              "      <td>O</td>\n",
              "    </tr>\n",
              "    <tr>\n",
              "      <th>71</th>\n",
              "      <td>[PAD]</td>\n",
              "      <td>0</td>\n",
              "      <td>O</td>\n",
              "      <td>0</td>\n",
              "      <td>O</td>\n",
              "    </tr>\n",
              "    <tr>\n",
              "      <th>72</th>\n",
              "      <td>[PAD]</td>\n",
              "      <td>0</td>\n",
              "      <td>O</td>\n",
              "      <td>0</td>\n",
              "      <td>O</td>\n",
              "    </tr>\n",
              "    <tr>\n",
              "      <th>73</th>\n",
              "      <td>[PAD]</td>\n",
              "      <td>0</td>\n",
              "      <td>O</td>\n",
              "      <td>0</td>\n",
              "      <td>O</td>\n",
              "    </tr>\n",
              "    <tr>\n",
              "      <th>74</th>\n",
              "      <td>[PAD]</td>\n",
              "      <td>0</td>\n",
              "      <td>O</td>\n",
              "      <td>0</td>\n",
              "      <td>O</td>\n",
              "    </tr>\n",
              "    <tr>\n",
              "      <th>75</th>\n",
              "      <td>[PAD]</td>\n",
              "      <td>0</td>\n",
              "      <td>O</td>\n",
              "      <td>0</td>\n",
              "      <td>O</td>\n",
              "    </tr>\n",
              "    <tr>\n",
              "      <th>76</th>\n",
              "      <td>[PAD]</td>\n",
              "      <td>0</td>\n",
              "      <td>O</td>\n",
              "      <td>0</td>\n",
              "      <td>O</td>\n",
              "    </tr>\n",
              "    <tr>\n",
              "      <th>77</th>\n",
              "      <td>[PAD]</td>\n",
              "      <td>0</td>\n",
              "      <td>O</td>\n",
              "      <td>0</td>\n",
              "      <td>O</td>\n",
              "    </tr>\n",
              "    <tr>\n",
              "      <th>78</th>\n",
              "      <td>[PAD]</td>\n",
              "      <td>0</td>\n",
              "      <td>O</td>\n",
              "      <td>0</td>\n",
              "      <td>O</td>\n",
              "    </tr>\n",
              "    <tr>\n",
              "      <th>79</th>\n",
              "      <td>[PAD]</td>\n",
              "      <td>0</td>\n",
              "      <td>O</td>\n",
              "      <td>0</td>\n",
              "      <td>O</td>\n",
              "    </tr>\n",
              "    <tr>\n",
              "      <th>80</th>\n",
              "      <td>[PAD]</td>\n",
              "      <td>0</td>\n",
              "      <td>O</td>\n",
              "      <td>0</td>\n",
              "      <td>O</td>\n",
              "    </tr>\n",
              "    <tr>\n",
              "      <th>81</th>\n",
              "      <td>[PAD]</td>\n",
              "      <td>0</td>\n",
              "      <td>O</td>\n",
              "      <td>0</td>\n",
              "      <td>O</td>\n",
              "    </tr>\n",
              "    <tr>\n",
              "      <th>82</th>\n",
              "      <td>[PAD]</td>\n",
              "      <td>0</td>\n",
              "      <td>O</td>\n",
              "      <td>0</td>\n",
              "      <td>O</td>\n",
              "    </tr>\n",
              "    <tr>\n",
              "      <th>83</th>\n",
              "      <td>[PAD]</td>\n",
              "      <td>0</td>\n",
              "      <td>O</td>\n",
              "      <td>0</td>\n",
              "      <td>O</td>\n",
              "    </tr>\n",
              "    <tr>\n",
              "      <th>84</th>\n",
              "      <td>[PAD]</td>\n",
              "      <td>0</td>\n",
              "      <td>O</td>\n",
              "      <td>0</td>\n",
              "      <td>O</td>\n",
              "    </tr>\n",
              "    <tr>\n",
              "      <th>85</th>\n",
              "      <td>[PAD]</td>\n",
              "      <td>0</td>\n",
              "      <td>O</td>\n",
              "      <td>0</td>\n",
              "      <td>O</td>\n",
              "    </tr>\n",
              "    <tr>\n",
              "      <th>86</th>\n",
              "      <td>[PAD]</td>\n",
              "      <td>0</td>\n",
              "      <td>O</td>\n",
              "      <td>0</td>\n",
              "      <td>O</td>\n",
              "    </tr>\n",
              "    <tr>\n",
              "      <th>87</th>\n",
              "      <td>[PAD]</td>\n",
              "      <td>0</td>\n",
              "      <td>O</td>\n",
              "      <td>0</td>\n",
              "      <td>O</td>\n",
              "    </tr>\n",
              "    <tr>\n",
              "      <th>88</th>\n",
              "      <td>[PAD]</td>\n",
              "      <td>0</td>\n",
              "      <td>O</td>\n",
              "      <td>0</td>\n",
              "      <td>O</td>\n",
              "    </tr>\n",
              "    <tr>\n",
              "      <th>89</th>\n",
              "      <td>[PAD]</td>\n",
              "      <td>0</td>\n",
              "      <td>O</td>\n",
              "      <td>0</td>\n",
              "      <td>O</td>\n",
              "    </tr>\n",
              "    <tr>\n",
              "      <th>90</th>\n",
              "      <td>[PAD]</td>\n",
              "      <td>0</td>\n",
              "      <td>O</td>\n",
              "      <td>0</td>\n",
              "      <td>O</td>\n",
              "    </tr>\n",
              "    <tr>\n",
              "      <th>91</th>\n",
              "      <td>[PAD]</td>\n",
              "      <td>0</td>\n",
              "      <td>O</td>\n",
              "      <td>0</td>\n",
              "      <td>O</td>\n",
              "    </tr>\n",
              "    <tr>\n",
              "      <th>92</th>\n",
              "      <td>[PAD]</td>\n",
              "      <td>0</td>\n",
              "      <td>O</td>\n",
              "      <td>0</td>\n",
              "      <td>O</td>\n",
              "    </tr>\n",
              "    <tr>\n",
              "      <th>93</th>\n",
              "      <td>[PAD]</td>\n",
              "      <td>0</td>\n",
              "      <td>O</td>\n",
              "      <td>0</td>\n",
              "      <td>O</td>\n",
              "    </tr>\n",
              "    <tr>\n",
              "      <th>94</th>\n",
              "      <td>[PAD]</td>\n",
              "      <td>0</td>\n",
              "      <td>O</td>\n",
              "      <td>0</td>\n",
              "      <td>O</td>\n",
              "    </tr>\n",
              "    <tr>\n",
              "      <th>95</th>\n",
              "      <td>[PAD]</td>\n",
              "      <td>0</td>\n",
              "      <td>O</td>\n",
              "      <td>0</td>\n",
              "      <td>O</td>\n",
              "    </tr>\n",
              "    <tr>\n",
              "      <th>96</th>\n",
              "      <td>[PAD]</td>\n",
              "      <td>0</td>\n",
              "      <td>O</td>\n",
              "      <td>0</td>\n",
              "      <td>O</td>\n",
              "    </tr>\n",
              "    <tr>\n",
              "      <th>97</th>\n",
              "      <td>[PAD]</td>\n",
              "      <td>0</td>\n",
              "      <td>O</td>\n",
              "      <td>0</td>\n",
              "      <td>O</td>\n",
              "    </tr>\n",
              "    <tr>\n",
              "      <th>98</th>\n",
              "      <td>[PAD]</td>\n",
              "      <td>0</td>\n",
              "      <td>O</td>\n",
              "      <td>0</td>\n",
              "      <td>O</td>\n",
              "    </tr>\n",
              "    <tr>\n",
              "      <th>99</th>\n",
              "      <td>[PAD]</td>\n",
              "      <td>0</td>\n",
              "      <td>O</td>\n",
              "      <td>0</td>\n",
              "      <td>O</td>\n",
              "    </tr>\n",
              "    <tr>\n",
              "      <th>100</th>\n",
              "      <td>[PAD]</td>\n",
              "      <td>0</td>\n",
              "      <td>O</td>\n",
              "      <td>0</td>\n",
              "      <td>O</td>\n",
              "    </tr>\n",
              "    <tr>\n",
              "      <th>101</th>\n",
              "      <td>[PAD]</td>\n",
              "      <td>0</td>\n",
              "      <td>O</td>\n",
              "      <td>0</td>\n",
              "      <td>O</td>\n",
              "    </tr>\n",
              "    <tr>\n",
              "      <th>102</th>\n",
              "      <td>[PAD]</td>\n",
              "      <td>0</td>\n",
              "      <td>O</td>\n",
              "      <td>0</td>\n",
              "      <td>O</td>\n",
              "    </tr>\n",
              "    <tr>\n",
              "      <th>103</th>\n",
              "      <td>[PAD]</td>\n",
              "      <td>0</td>\n",
              "      <td>O</td>\n",
              "      <td>0</td>\n",
              "      <td>O</td>\n",
              "    </tr>\n",
              "    <tr>\n",
              "      <th>104</th>\n",
              "      <td>[PAD]</td>\n",
              "      <td>0</td>\n",
              "      <td>O</td>\n",
              "      <td>0</td>\n",
              "      <td>O</td>\n",
              "    </tr>\n",
              "    <tr>\n",
              "      <th>105</th>\n",
              "      <td>[PAD]</td>\n",
              "      <td>0</td>\n",
              "      <td>O</td>\n",
              "      <td>0</td>\n",
              "      <td>O</td>\n",
              "    </tr>\n",
              "    <tr>\n",
              "      <th>106</th>\n",
              "      <td>[PAD]</td>\n",
              "      <td>0</td>\n",
              "      <td>O</td>\n",
              "      <td>0</td>\n",
              "      <td>O</td>\n",
              "    </tr>\n",
              "    <tr>\n",
              "      <th>107</th>\n",
              "      <td>[PAD]</td>\n",
              "      <td>0</td>\n",
              "      <td>O</td>\n",
              "      <td>0</td>\n",
              "      <td>O</td>\n",
              "    </tr>\n",
              "    <tr>\n",
              "      <th>108</th>\n",
              "      <td>[PAD]</td>\n",
              "      <td>0</td>\n",
              "      <td>O</td>\n",
              "      <td>0</td>\n",
              "      <td>O</td>\n",
              "    </tr>\n",
              "    <tr>\n",
              "      <th>109</th>\n",
              "      <td>[PAD]</td>\n",
              "      <td>0</td>\n",
              "      <td>O</td>\n",
              "      <td>0</td>\n",
              "      <td>O</td>\n",
              "    </tr>\n",
              "    <tr>\n",
              "      <th>110</th>\n",
              "      <td>[PAD]</td>\n",
              "      <td>0</td>\n",
              "      <td>O</td>\n",
              "      <td>0</td>\n",
              "      <td>O</td>\n",
              "    </tr>\n",
              "    <tr>\n",
              "      <th>111</th>\n",
              "      <td>[PAD]</td>\n",
              "      <td>0</td>\n",
              "      <td>O</td>\n",
              "      <td>0</td>\n",
              "      <td>O</td>\n",
              "    </tr>\n",
              "    <tr>\n",
              "      <th>112</th>\n",
              "      <td>[PAD]</td>\n",
              "      <td>0</td>\n",
              "      <td>O</td>\n",
              "      <td>0</td>\n",
              "      <td>O</td>\n",
              "    </tr>\n",
              "    <tr>\n",
              "      <th>113</th>\n",
              "      <td>[PAD]</td>\n",
              "      <td>0</td>\n",
              "      <td>O</td>\n",
              "      <td>0</td>\n",
              "      <td>O</td>\n",
              "    </tr>\n",
              "    <tr>\n",
              "      <th>114</th>\n",
              "      <td>[PAD]</td>\n",
              "      <td>0</td>\n",
              "      <td>O</td>\n",
              "      <td>0</td>\n",
              "      <td>O</td>\n",
              "    </tr>\n",
              "    <tr>\n",
              "      <th>115</th>\n",
              "      <td>[PAD]</td>\n",
              "      <td>0</td>\n",
              "      <td>O</td>\n",
              "      <td>0</td>\n",
              "      <td>O</td>\n",
              "    </tr>\n",
              "    <tr>\n",
              "      <th>116</th>\n",
              "      <td>[PAD]</td>\n",
              "      <td>0</td>\n",
              "      <td>O</td>\n",
              "      <td>0</td>\n",
              "      <td>O</td>\n",
              "    </tr>\n",
              "    <tr>\n",
              "      <th>117</th>\n",
              "      <td>[PAD]</td>\n",
              "      <td>0</td>\n",
              "      <td>O</td>\n",
              "      <td>0</td>\n",
              "      <td>O</td>\n",
              "    </tr>\n",
              "    <tr>\n",
              "      <th>118</th>\n",
              "      <td>[PAD]</td>\n",
              "      <td>0</td>\n",
              "      <td>O</td>\n",
              "      <td>0</td>\n",
              "      <td>O</td>\n",
              "    </tr>\n",
              "    <tr>\n",
              "      <th>119</th>\n",
              "      <td>[PAD]</td>\n",
              "      <td>0</td>\n",
              "      <td>O</td>\n",
              "      <td>0</td>\n",
              "      <td>O</td>\n",
              "    </tr>\n",
              "    <tr>\n",
              "      <th>120</th>\n",
              "      <td>[PAD]</td>\n",
              "      <td>0</td>\n",
              "      <td>O</td>\n",
              "      <td>0</td>\n",
              "      <td>O</td>\n",
              "    </tr>\n",
              "    <tr>\n",
              "      <th>121</th>\n",
              "      <td>[PAD]</td>\n",
              "      <td>0</td>\n",
              "      <td>O</td>\n",
              "      <td>0</td>\n",
              "      <td>O</td>\n",
              "    </tr>\n",
              "    <tr>\n",
              "      <th>122</th>\n",
              "      <td>[PAD]</td>\n",
              "      <td>0</td>\n",
              "      <td>O</td>\n",
              "      <td>0</td>\n",
              "      <td>O</td>\n",
              "    </tr>\n",
              "    <tr>\n",
              "      <th>123</th>\n",
              "      <td>[PAD]</td>\n",
              "      <td>0</td>\n",
              "      <td>O</td>\n",
              "      <td>0</td>\n",
              "      <td>O</td>\n",
              "    </tr>\n",
              "    <tr>\n",
              "      <th>124</th>\n",
              "      <td>[PAD]</td>\n",
              "      <td>0</td>\n",
              "      <td>O</td>\n",
              "      <td>0</td>\n",
              "      <td>O</td>\n",
              "    </tr>\n",
              "    <tr>\n",
              "      <th>125</th>\n",
              "      <td>[PAD]</td>\n",
              "      <td>0</td>\n",
              "      <td>O</td>\n",
              "      <td>0</td>\n",
              "      <td>O</td>\n",
              "    </tr>\n",
              "    <tr>\n",
              "      <th>126</th>\n",
              "      <td>[PAD]</td>\n",
              "      <td>0</td>\n",
              "      <td>O</td>\n",
              "      <td>0</td>\n",
              "      <td>O</td>\n",
              "    </tr>\n",
              "    <tr>\n",
              "      <th>127</th>\n",
              "      <td>[PAD]</td>\n",
              "      <td>0</td>\n",
              "      <td>O</td>\n",
              "      <td>0</td>\n",
              "      <td>O</td>\n",
              "    </tr>\n",
              "    <tr>\n",
              "      <th>128</th>\n",
              "      <td>[PAD]</td>\n",
              "      <td>0</td>\n",
              "      <td>O</td>\n",
              "      <td>0</td>\n",
              "      <td>O</td>\n",
              "    </tr>\n",
              "    <tr>\n",
              "      <th>129</th>\n",
              "      <td>[PAD]</td>\n",
              "      <td>0</td>\n",
              "      <td>O</td>\n",
              "      <td>0</td>\n",
              "      <td>O</td>\n",
              "    </tr>\n",
              "    <tr>\n",
              "      <th>130</th>\n",
              "      <td>[PAD]</td>\n",
              "      <td>0</td>\n",
              "      <td>O</td>\n",
              "      <td>0</td>\n",
              "      <td>O</td>\n",
              "    </tr>\n",
              "    <tr>\n",
              "      <th>131</th>\n",
              "      <td>[PAD]</td>\n",
              "      <td>0</td>\n",
              "      <td>O</td>\n",
              "      <td>0</td>\n",
              "      <td>O</td>\n",
              "    </tr>\n",
              "    <tr>\n",
              "      <th>132</th>\n",
              "      <td>[PAD]</td>\n",
              "      <td>0</td>\n",
              "      <td>O</td>\n",
              "      <td>0</td>\n",
              "      <td>O</td>\n",
              "    </tr>\n",
              "    <tr>\n",
              "      <th>133</th>\n",
              "      <td>[PAD]</td>\n",
              "      <td>0</td>\n",
              "      <td>O</td>\n",
              "      <td>0</td>\n",
              "      <td>O</td>\n",
              "    </tr>\n",
              "    <tr>\n",
              "      <th>134</th>\n",
              "      <td>[PAD]</td>\n",
              "      <td>0</td>\n",
              "      <td>O</td>\n",
              "      <td>0</td>\n",
              "      <td>O</td>\n",
              "    </tr>\n",
              "    <tr>\n",
              "      <th>135</th>\n",
              "      <td>[PAD]</td>\n",
              "      <td>0</td>\n",
              "      <td>O</td>\n",
              "      <td>0</td>\n",
              "      <td>O</td>\n",
              "    </tr>\n",
              "    <tr>\n",
              "      <th>136</th>\n",
              "      <td>[PAD]</td>\n",
              "      <td>0</td>\n",
              "      <td>O</td>\n",
              "      <td>0</td>\n",
              "      <td>O</td>\n",
              "    </tr>\n",
              "    <tr>\n",
              "      <th>137</th>\n",
              "      <td>[PAD]</td>\n",
              "      <td>0</td>\n",
              "      <td>O</td>\n",
              "      <td>0</td>\n",
              "      <td>O</td>\n",
              "    </tr>\n",
              "    <tr>\n",
              "      <th>138</th>\n",
              "      <td>[PAD]</td>\n",
              "      <td>0</td>\n",
              "      <td>O</td>\n",
              "      <td>0</td>\n",
              "      <td>O</td>\n",
              "    </tr>\n",
              "    <tr>\n",
              "      <th>139</th>\n",
              "      <td>[PAD]</td>\n",
              "      <td>0</td>\n",
              "      <td>O</td>\n",
              "      <td>0</td>\n",
              "      <td>O</td>\n",
              "    </tr>\n",
              "    <tr>\n",
              "      <th>140</th>\n",
              "      <td>[PAD]</td>\n",
              "      <td>0</td>\n",
              "      <td>O</td>\n",
              "      <td>0</td>\n",
              "      <td>O</td>\n",
              "    </tr>\n",
              "    <tr>\n",
              "      <th>141</th>\n",
              "      <td>[PAD]</td>\n",
              "      <td>0</td>\n",
              "      <td>O</td>\n",
              "      <td>0</td>\n",
              "      <td>O</td>\n",
              "    </tr>\n",
              "    <tr>\n",
              "      <th>142</th>\n",
              "      <td>[PAD]</td>\n",
              "      <td>0</td>\n",
              "      <td>O</td>\n",
              "      <td>0</td>\n",
              "      <td>O</td>\n",
              "    </tr>\n",
              "    <tr>\n",
              "      <th>143</th>\n",
              "      <td>[PAD]</td>\n",
              "      <td>0</td>\n",
              "      <td>O</td>\n",
              "      <td>0</td>\n",
              "      <td>O</td>\n",
              "    </tr>\n",
              "    <tr>\n",
              "      <th>144</th>\n",
              "      <td>[PAD]</td>\n",
              "      <td>0</td>\n",
              "      <td>O</td>\n",
              "      <td>0</td>\n",
              "      <td>O</td>\n",
              "    </tr>\n",
              "    <tr>\n",
              "      <th>145</th>\n",
              "      <td>[PAD]</td>\n",
              "      <td>0</td>\n",
              "      <td>O</td>\n",
              "      <td>0</td>\n",
              "      <td>O</td>\n",
              "    </tr>\n",
              "    <tr>\n",
              "      <th>146</th>\n",
              "      <td>[PAD]</td>\n",
              "      <td>0</td>\n",
              "      <td>O</td>\n",
              "      <td>0</td>\n",
              "      <td>O</td>\n",
              "    </tr>\n",
              "    <tr>\n",
              "      <th>147</th>\n",
              "      <td>[PAD]</td>\n",
              "      <td>0</td>\n",
              "      <td>O</td>\n",
              "      <td>0</td>\n",
              "      <td>O</td>\n",
              "    </tr>\n",
              "    <tr>\n",
              "      <th>148</th>\n",
              "      <td>[PAD]</td>\n",
              "      <td>0</td>\n",
              "      <td>O</td>\n",
              "      <td>0</td>\n",
              "      <td>O</td>\n",
              "    </tr>\n",
              "    <tr>\n",
              "      <th>149</th>\n",
              "      <td>[PAD]</td>\n",
              "      <td>0</td>\n",
              "      <td>O</td>\n",
              "      <td>0</td>\n",
              "      <td>O</td>\n",
              "    </tr>\n",
              "    <tr>\n",
              "      <th>150</th>\n",
              "      <td>[PAD]</td>\n",
              "      <td>0</td>\n",
              "      <td>O</td>\n",
              "      <td>0</td>\n",
              "      <td>O</td>\n",
              "    </tr>\n",
              "    <tr>\n",
              "      <th>151</th>\n",
              "      <td>[PAD]</td>\n",
              "      <td>0</td>\n",
              "      <td>O</td>\n",
              "      <td>0</td>\n",
              "      <td>O</td>\n",
              "    </tr>\n",
              "    <tr>\n",
              "      <th>152</th>\n",
              "      <td>[PAD]</td>\n",
              "      <td>0</td>\n",
              "      <td>O</td>\n",
              "      <td>0</td>\n",
              "      <td>O</td>\n",
              "    </tr>\n",
              "    <tr>\n",
              "      <th>153</th>\n",
              "      <td>[PAD]</td>\n",
              "      <td>0</td>\n",
              "      <td>O</td>\n",
              "      <td>0</td>\n",
              "      <td>O</td>\n",
              "    </tr>\n",
              "    <tr>\n",
              "      <th>154</th>\n",
              "      <td>[PAD]</td>\n",
              "      <td>0</td>\n",
              "      <td>O</td>\n",
              "      <td>0</td>\n",
              "      <td>O</td>\n",
              "    </tr>\n",
              "    <tr>\n",
              "      <th>155</th>\n",
              "      <td>[PAD]</td>\n",
              "      <td>0</td>\n",
              "      <td>O</td>\n",
              "      <td>0</td>\n",
              "      <td>O</td>\n",
              "    </tr>\n",
              "    <tr>\n",
              "      <th>156</th>\n",
              "      <td>[PAD]</td>\n",
              "      <td>0</td>\n",
              "      <td>O</td>\n",
              "      <td>0</td>\n",
              "      <td>O</td>\n",
              "    </tr>\n",
              "    <tr>\n",
              "      <th>157</th>\n",
              "      <td>[PAD]</td>\n",
              "      <td>0</td>\n",
              "      <td>O</td>\n",
              "      <td>0</td>\n",
              "      <td>O</td>\n",
              "    </tr>\n",
              "    <tr>\n",
              "      <th>158</th>\n",
              "      <td>[PAD]</td>\n",
              "      <td>0</td>\n",
              "      <td>O</td>\n",
              "      <td>0</td>\n",
              "      <td>O</td>\n",
              "    </tr>\n",
              "    <tr>\n",
              "      <th>159</th>\n",
              "      <td>[PAD]</td>\n",
              "      <td>0</td>\n",
              "      <td>O</td>\n",
              "      <td>0</td>\n",
              "      <td>O</td>\n",
              "    </tr>\n",
              "    <tr>\n",
              "      <th>160</th>\n",
              "      <td>[PAD]</td>\n",
              "      <td>0</td>\n",
              "      <td>O</td>\n",
              "      <td>0</td>\n",
              "      <td>O</td>\n",
              "    </tr>\n",
              "    <tr>\n",
              "      <th>161</th>\n",
              "      <td>[PAD]</td>\n",
              "      <td>0</td>\n",
              "      <td>O</td>\n",
              "      <td>0</td>\n",
              "      <td>O</td>\n",
              "    </tr>\n",
              "    <tr>\n",
              "      <th>162</th>\n",
              "      <td>[PAD]</td>\n",
              "      <td>0</td>\n",
              "      <td>O</td>\n",
              "      <td>0</td>\n",
              "      <td>O</td>\n",
              "    </tr>\n",
              "    <tr>\n",
              "      <th>163</th>\n",
              "      <td>[PAD]</td>\n",
              "      <td>0</td>\n",
              "      <td>O</td>\n",
              "      <td>0</td>\n",
              "      <td>O</td>\n",
              "    </tr>\n",
              "    <tr>\n",
              "      <th>164</th>\n",
              "      <td>[PAD]</td>\n",
              "      <td>0</td>\n",
              "      <td>O</td>\n",
              "      <td>0</td>\n",
              "      <td>O</td>\n",
              "    </tr>\n",
              "    <tr>\n",
              "      <th>165</th>\n",
              "      <td>[PAD]</td>\n",
              "      <td>0</td>\n",
              "      <td>O</td>\n",
              "      <td>0</td>\n",
              "      <td>O</td>\n",
              "    </tr>\n",
              "    <tr>\n",
              "      <th>166</th>\n",
              "      <td>[PAD]</td>\n",
              "      <td>0</td>\n",
              "      <td>O</td>\n",
              "      <td>0</td>\n",
              "      <td>O</td>\n",
              "    </tr>\n",
              "    <tr>\n",
              "      <th>167</th>\n",
              "      <td>[PAD]</td>\n",
              "      <td>0</td>\n",
              "      <td>O</td>\n",
              "      <td>0</td>\n",
              "      <td>O</td>\n",
              "    </tr>\n",
              "    <tr>\n",
              "      <th>168</th>\n",
              "      <td>[PAD]</td>\n",
              "      <td>0</td>\n",
              "      <td>O</td>\n",
              "      <td>0</td>\n",
              "      <td>O</td>\n",
              "    </tr>\n",
              "    <tr>\n",
              "      <th>169</th>\n",
              "      <td>[PAD]</td>\n",
              "      <td>0</td>\n",
              "      <td>O</td>\n",
              "      <td>0</td>\n",
              "      <td>O</td>\n",
              "    </tr>\n",
              "    <tr>\n",
              "      <th>170</th>\n",
              "      <td>[PAD]</td>\n",
              "      <td>0</td>\n",
              "      <td>O</td>\n",
              "      <td>0</td>\n",
              "      <td>O</td>\n",
              "    </tr>\n",
              "    <tr>\n",
              "      <th>171</th>\n",
              "      <td>[PAD]</td>\n",
              "      <td>0</td>\n",
              "      <td>O</td>\n",
              "      <td>0</td>\n",
              "      <td>O</td>\n",
              "    </tr>\n",
              "    <tr>\n",
              "      <th>172</th>\n",
              "      <td>[PAD]</td>\n",
              "      <td>0</td>\n",
              "      <td>O</td>\n",
              "      <td>0</td>\n",
              "      <td>O</td>\n",
              "    </tr>\n",
              "    <tr>\n",
              "      <th>173</th>\n",
              "      <td>[PAD]</td>\n",
              "      <td>0</td>\n",
              "      <td>O</td>\n",
              "      <td>0</td>\n",
              "      <td>O</td>\n",
              "    </tr>\n",
              "    <tr>\n",
              "      <th>174</th>\n",
              "      <td>[PAD]</td>\n",
              "      <td>0</td>\n",
              "      <td>O</td>\n",
              "      <td>0</td>\n",
              "      <td>O</td>\n",
              "    </tr>\n",
              "    <tr>\n",
              "      <th>175</th>\n",
              "      <td>[PAD]</td>\n",
              "      <td>0</td>\n",
              "      <td>O</td>\n",
              "      <td>0</td>\n",
              "      <td>O</td>\n",
              "    </tr>\n",
              "    <tr>\n",
              "      <th>176</th>\n",
              "      <td>[PAD]</td>\n",
              "      <td>0</td>\n",
              "      <td>O</td>\n",
              "      <td>0</td>\n",
              "      <td>O</td>\n",
              "    </tr>\n",
              "    <tr>\n",
              "      <th>177</th>\n",
              "      <td>[PAD]</td>\n",
              "      <td>0</td>\n",
              "      <td>O</td>\n",
              "      <td>0</td>\n",
              "      <td>O</td>\n",
              "    </tr>\n",
              "    <tr>\n",
              "      <th>178</th>\n",
              "      <td>[PAD]</td>\n",
              "      <td>0</td>\n",
              "      <td>O</td>\n",
              "      <td>0</td>\n",
              "      <td>O</td>\n",
              "    </tr>\n",
              "    <tr>\n",
              "      <th>179</th>\n",
              "      <td>[PAD]</td>\n",
              "      <td>0</td>\n",
              "      <td>O</td>\n",
              "      <td>0</td>\n",
              "      <td>O</td>\n",
              "    </tr>\n",
              "    <tr>\n",
              "      <th>180</th>\n",
              "      <td>[PAD]</td>\n",
              "      <td>0</td>\n",
              "      <td>O</td>\n",
              "      <td>0</td>\n",
              "      <td>O</td>\n",
              "    </tr>\n",
              "    <tr>\n",
              "      <th>181</th>\n",
              "      <td>[PAD]</td>\n",
              "      <td>0</td>\n",
              "      <td>O</td>\n",
              "      <td>0</td>\n",
              "      <td>O</td>\n",
              "    </tr>\n",
              "    <tr>\n",
              "      <th>182</th>\n",
              "      <td>[PAD]</td>\n",
              "      <td>0</td>\n",
              "      <td>O</td>\n",
              "      <td>0</td>\n",
              "      <td>O</td>\n",
              "    </tr>\n",
              "    <tr>\n",
              "      <th>183</th>\n",
              "      <td>[PAD]</td>\n",
              "      <td>0</td>\n",
              "      <td>O</td>\n",
              "      <td>0</td>\n",
              "      <td>O</td>\n",
              "    </tr>\n",
              "    <tr>\n",
              "      <th>184</th>\n",
              "      <td>[PAD]</td>\n",
              "      <td>0</td>\n",
              "      <td>O</td>\n",
              "      <td>0</td>\n",
              "      <td>O</td>\n",
              "    </tr>\n",
              "    <tr>\n",
              "      <th>185</th>\n",
              "      <td>[PAD]</td>\n",
              "      <td>0</td>\n",
              "      <td>O</td>\n",
              "      <td>0</td>\n",
              "      <td>O</td>\n",
              "    </tr>\n",
              "    <tr>\n",
              "      <th>186</th>\n",
              "      <td>[PAD]</td>\n",
              "      <td>0</td>\n",
              "      <td>O</td>\n",
              "      <td>0</td>\n",
              "      <td>O</td>\n",
              "    </tr>\n",
              "    <tr>\n",
              "      <th>187</th>\n",
              "      <td>[PAD]</td>\n",
              "      <td>0</td>\n",
              "      <td>O</td>\n",
              "      <td>0</td>\n",
              "      <td>O</td>\n",
              "    </tr>\n",
              "    <tr>\n",
              "      <th>188</th>\n",
              "      <td>[PAD]</td>\n",
              "      <td>0</td>\n",
              "      <td>O</td>\n",
              "      <td>0</td>\n",
              "      <td>O</td>\n",
              "    </tr>\n",
              "    <tr>\n",
              "      <th>189</th>\n",
              "      <td>[PAD]</td>\n",
              "      <td>0</td>\n",
              "      <td>O</td>\n",
              "      <td>0</td>\n",
              "      <td>O</td>\n",
              "    </tr>\n",
              "    <tr>\n",
              "      <th>190</th>\n",
              "      <td>[PAD]</td>\n",
              "      <td>0</td>\n",
              "      <td>O</td>\n",
              "      <td>0</td>\n",
              "      <td>O</td>\n",
              "    </tr>\n",
              "    <tr>\n",
              "      <th>191</th>\n",
              "      <td>[PAD]</td>\n",
              "      <td>0</td>\n",
              "      <td>O</td>\n",
              "      <td>0</td>\n",
              "      <td>O</td>\n",
              "    </tr>\n",
              "    <tr>\n",
              "      <th>192</th>\n",
              "      <td>[PAD]</td>\n",
              "      <td>0</td>\n",
              "      <td>O</td>\n",
              "      <td>0</td>\n",
              "      <td>O</td>\n",
              "    </tr>\n",
              "    <tr>\n",
              "      <th>193</th>\n",
              "      <td>[PAD]</td>\n",
              "      <td>0</td>\n",
              "      <td>O</td>\n",
              "      <td>0</td>\n",
              "      <td>O</td>\n",
              "    </tr>\n",
              "    <tr>\n",
              "      <th>194</th>\n",
              "      <td>[PAD]</td>\n",
              "      <td>0</td>\n",
              "      <td>O</td>\n",
              "      <td>0</td>\n",
              "      <td>O</td>\n",
              "    </tr>\n",
              "    <tr>\n",
              "      <th>195</th>\n",
              "      <td>[PAD]</td>\n",
              "      <td>0</td>\n",
              "      <td>O</td>\n",
              "      <td>0</td>\n",
              "      <td>O</td>\n",
              "    </tr>\n",
              "    <tr>\n",
              "      <th>196</th>\n",
              "      <td>[PAD]</td>\n",
              "      <td>0</td>\n",
              "      <td>O</td>\n",
              "      <td>0</td>\n",
              "      <td>O</td>\n",
              "    </tr>\n",
              "    <tr>\n",
              "      <th>197</th>\n",
              "      <td>[PAD]</td>\n",
              "      <td>0</td>\n",
              "      <td>O</td>\n",
              "      <td>0</td>\n",
              "      <td>O</td>\n",
              "    </tr>\n",
              "    <tr>\n",
              "      <th>198</th>\n",
              "      <td>[PAD]</td>\n",
              "      <td>0</td>\n",
              "      <td>O</td>\n",
              "      <td>0</td>\n",
              "      <td>O</td>\n",
              "    </tr>\n",
              "    <tr>\n",
              "      <th>199</th>\n",
              "      <td>[PAD]</td>\n",
              "      <td>0</td>\n",
              "      <td>O</td>\n",
              "      <td>0</td>\n",
              "      <td>O</td>\n",
              "    </tr>\n",
              "    <tr>\n",
              "      <th>200</th>\n",
              "      <td>[PAD]</td>\n",
              "      <td>0</td>\n",
              "      <td>O</td>\n",
              "      <td>0</td>\n",
              "      <td>O</td>\n",
              "    </tr>\n",
              "    <tr>\n",
              "      <th>201</th>\n",
              "      <td>[PAD]</td>\n",
              "      <td>0</td>\n",
              "      <td>O</td>\n",
              "      <td>0</td>\n",
              "      <td>O</td>\n",
              "    </tr>\n",
              "    <tr>\n",
              "      <th>202</th>\n",
              "      <td>[PAD]</td>\n",
              "      <td>0</td>\n",
              "      <td>O</td>\n",
              "      <td>0</td>\n",
              "      <td>O</td>\n",
              "    </tr>\n",
              "    <tr>\n",
              "      <th>203</th>\n",
              "      <td>[PAD]</td>\n",
              "      <td>0</td>\n",
              "      <td>O</td>\n",
              "      <td>0</td>\n",
              "      <td>O</td>\n",
              "    </tr>\n",
              "    <tr>\n",
              "      <th>204</th>\n",
              "      <td>[PAD]</td>\n",
              "      <td>0</td>\n",
              "      <td>O</td>\n",
              "      <td>0</td>\n",
              "      <td>O</td>\n",
              "    </tr>\n",
              "    <tr>\n",
              "      <th>205</th>\n",
              "      <td>[PAD]</td>\n",
              "      <td>0</td>\n",
              "      <td>O</td>\n",
              "      <td>0</td>\n",
              "      <td>O</td>\n",
              "    </tr>\n",
              "    <tr>\n",
              "      <th>206</th>\n",
              "      <td>[PAD]</td>\n",
              "      <td>0</td>\n",
              "      <td>O</td>\n",
              "      <td>0</td>\n",
              "      <td>O</td>\n",
              "    </tr>\n",
              "    <tr>\n",
              "      <th>207</th>\n",
              "      <td>[PAD]</td>\n",
              "      <td>0</td>\n",
              "      <td>O</td>\n",
              "      <td>0</td>\n",
              "      <td>O</td>\n",
              "    </tr>\n",
              "    <tr>\n",
              "      <th>208</th>\n",
              "      <td>[PAD]</td>\n",
              "      <td>0</td>\n",
              "      <td>O</td>\n",
              "      <td>0</td>\n",
              "      <td>O</td>\n",
              "    </tr>\n",
              "    <tr>\n",
              "      <th>209</th>\n",
              "      <td>[PAD]</td>\n",
              "      <td>0</td>\n",
              "      <td>O</td>\n",
              "      <td>0</td>\n",
              "      <td>O</td>\n",
              "    </tr>\n",
              "    <tr>\n",
              "      <th>210</th>\n",
              "      <td>[PAD]</td>\n",
              "      <td>0</td>\n",
              "      <td>O</td>\n",
              "      <td>0</td>\n",
              "      <td>O</td>\n",
              "    </tr>\n",
              "    <tr>\n",
              "      <th>211</th>\n",
              "      <td>[PAD]</td>\n",
              "      <td>0</td>\n",
              "      <td>O</td>\n",
              "      <td>0</td>\n",
              "      <td>O</td>\n",
              "    </tr>\n",
              "    <tr>\n",
              "      <th>212</th>\n",
              "      <td>[PAD]</td>\n",
              "      <td>0</td>\n",
              "      <td>O</td>\n",
              "      <td>0</td>\n",
              "      <td>O</td>\n",
              "    </tr>\n",
              "    <tr>\n",
              "      <th>213</th>\n",
              "      <td>[PAD]</td>\n",
              "      <td>0</td>\n",
              "      <td>O</td>\n",
              "      <td>0</td>\n",
              "      <td>O</td>\n",
              "    </tr>\n",
              "    <tr>\n",
              "      <th>214</th>\n",
              "      <td>[PAD]</td>\n",
              "      <td>0</td>\n",
              "      <td>O</td>\n",
              "      <td>0</td>\n",
              "      <td>O</td>\n",
              "    </tr>\n",
              "    <tr>\n",
              "      <th>215</th>\n",
              "      <td>[PAD]</td>\n",
              "      <td>0</td>\n",
              "      <td>O</td>\n",
              "      <td>0</td>\n",
              "      <td>O</td>\n",
              "    </tr>\n",
              "    <tr>\n",
              "      <th>216</th>\n",
              "      <td>[PAD]</td>\n",
              "      <td>0</td>\n",
              "      <td>O</td>\n",
              "      <td>0</td>\n",
              "      <td>O</td>\n",
              "    </tr>\n",
              "    <tr>\n",
              "      <th>217</th>\n",
              "      <td>[PAD]</td>\n",
              "      <td>0</td>\n",
              "      <td>O</td>\n",
              "      <td>0</td>\n",
              "      <td>O</td>\n",
              "    </tr>\n",
              "    <tr>\n",
              "      <th>218</th>\n",
              "      <td>[PAD]</td>\n",
              "      <td>0</td>\n",
              "      <td>O</td>\n",
              "      <td>0</td>\n",
              "      <td>O</td>\n",
              "    </tr>\n",
              "    <tr>\n",
              "      <th>219</th>\n",
              "      <td>[PAD]</td>\n",
              "      <td>0</td>\n",
              "      <td>O</td>\n",
              "      <td>0</td>\n",
              "      <td>O</td>\n",
              "    </tr>\n",
              "    <tr>\n",
              "      <th>220</th>\n",
              "      <td>[PAD]</td>\n",
              "      <td>0</td>\n",
              "      <td>O</td>\n",
              "      <td>0</td>\n",
              "      <td>O</td>\n",
              "    </tr>\n",
              "    <tr>\n",
              "      <th>221</th>\n",
              "      <td>[PAD]</td>\n",
              "      <td>0</td>\n",
              "      <td>O</td>\n",
              "      <td>0</td>\n",
              "      <td>O</td>\n",
              "    </tr>\n",
              "    <tr>\n",
              "      <th>222</th>\n",
              "      <td>[PAD]</td>\n",
              "      <td>0</td>\n",
              "      <td>O</td>\n",
              "      <td>0</td>\n",
              "      <td>O</td>\n",
              "    </tr>\n",
              "    <tr>\n",
              "      <th>223</th>\n",
              "      <td>[PAD]</td>\n",
              "      <td>0</td>\n",
              "      <td>O</td>\n",
              "      <td>0</td>\n",
              "      <td>O</td>\n",
              "    </tr>\n",
              "    <tr>\n",
              "      <th>224</th>\n",
              "      <td>[PAD]</td>\n",
              "      <td>0</td>\n",
              "      <td>O</td>\n",
              "      <td>0</td>\n",
              "      <td>O</td>\n",
              "    </tr>\n",
              "    <tr>\n",
              "      <th>225</th>\n",
              "      <td>[PAD]</td>\n",
              "      <td>0</td>\n",
              "      <td>O</td>\n",
              "      <td>0</td>\n",
              "      <td>O</td>\n",
              "    </tr>\n",
              "    <tr>\n",
              "      <th>226</th>\n",
              "      <td>[PAD]</td>\n",
              "      <td>0</td>\n",
              "      <td>O</td>\n",
              "      <td>0</td>\n",
              "      <td>O</td>\n",
              "    </tr>\n",
              "    <tr>\n",
              "      <th>227</th>\n",
              "      <td>[PAD]</td>\n",
              "      <td>0</td>\n",
              "      <td>O</td>\n",
              "      <td>0</td>\n",
              "      <td>O</td>\n",
              "    </tr>\n",
              "    <tr>\n",
              "      <th>228</th>\n",
              "      <td>[PAD]</td>\n",
              "      <td>0</td>\n",
              "      <td>O</td>\n",
              "      <td>0</td>\n",
              "      <td>O</td>\n",
              "    </tr>\n",
              "    <tr>\n",
              "      <th>229</th>\n",
              "      <td>[PAD]</td>\n",
              "      <td>0</td>\n",
              "      <td>O</td>\n",
              "      <td>0</td>\n",
              "      <td>O</td>\n",
              "    </tr>\n",
              "    <tr>\n",
              "      <th>230</th>\n",
              "      <td>[PAD]</td>\n",
              "      <td>0</td>\n",
              "      <td>O</td>\n",
              "      <td>0</td>\n",
              "      <td>O</td>\n",
              "    </tr>\n",
              "    <tr>\n",
              "      <th>231</th>\n",
              "      <td>[PAD]</td>\n",
              "      <td>0</td>\n",
              "      <td>O</td>\n",
              "      <td>0</td>\n",
              "      <td>O</td>\n",
              "    </tr>\n",
              "    <tr>\n",
              "      <th>232</th>\n",
              "      <td>[PAD]</td>\n",
              "      <td>0</td>\n",
              "      <td>O</td>\n",
              "      <td>0</td>\n",
              "      <td>O</td>\n",
              "    </tr>\n",
              "    <tr>\n",
              "      <th>233</th>\n",
              "      <td>[PAD]</td>\n",
              "      <td>0</td>\n",
              "      <td>O</td>\n",
              "      <td>0</td>\n",
              "      <td>O</td>\n",
              "    </tr>\n",
              "    <tr>\n",
              "      <th>234</th>\n",
              "      <td>[PAD]</td>\n",
              "      <td>0</td>\n",
              "      <td>O</td>\n",
              "      <td>0</td>\n",
              "      <td>O</td>\n",
              "    </tr>\n",
              "    <tr>\n",
              "      <th>235</th>\n",
              "      <td>[PAD]</td>\n",
              "      <td>0</td>\n",
              "      <td>O</td>\n",
              "      <td>0</td>\n",
              "      <td>O</td>\n",
              "    </tr>\n",
              "    <tr>\n",
              "      <th>236</th>\n",
              "      <td>[PAD]</td>\n",
              "      <td>0</td>\n",
              "      <td>O</td>\n",
              "      <td>0</td>\n",
              "      <td>O</td>\n",
              "    </tr>\n",
              "    <tr>\n",
              "      <th>237</th>\n",
              "      <td>[PAD]</td>\n",
              "      <td>0</td>\n",
              "      <td>O</td>\n",
              "      <td>0</td>\n",
              "      <td>O</td>\n",
              "    </tr>\n",
              "    <tr>\n",
              "      <th>238</th>\n",
              "      <td>[PAD]</td>\n",
              "      <td>0</td>\n",
              "      <td>O</td>\n",
              "      <td>0</td>\n",
              "      <td>O</td>\n",
              "    </tr>\n",
              "    <tr>\n",
              "      <th>239</th>\n",
              "      <td>[PAD]</td>\n",
              "      <td>0</td>\n",
              "      <td>O</td>\n",
              "      <td>0</td>\n",
              "      <td>O</td>\n",
              "    </tr>\n",
              "    <tr>\n",
              "      <th>240</th>\n",
              "      <td>[PAD]</td>\n",
              "      <td>0</td>\n",
              "      <td>O</td>\n",
              "      <td>0</td>\n",
              "      <td>O</td>\n",
              "    </tr>\n",
              "    <tr>\n",
              "      <th>241</th>\n",
              "      <td>[PAD]</td>\n",
              "      <td>0</td>\n",
              "      <td>O</td>\n",
              "      <td>0</td>\n",
              "      <td>O</td>\n",
              "    </tr>\n",
              "    <tr>\n",
              "      <th>242</th>\n",
              "      <td>[PAD]</td>\n",
              "      <td>0</td>\n",
              "      <td>O</td>\n",
              "      <td>0</td>\n",
              "      <td>O</td>\n",
              "    </tr>\n",
              "    <tr>\n",
              "      <th>243</th>\n",
              "      <td>[PAD]</td>\n",
              "      <td>0</td>\n",
              "      <td>O</td>\n",
              "      <td>0</td>\n",
              "      <td>O</td>\n",
              "    </tr>\n",
              "    <tr>\n",
              "      <th>244</th>\n",
              "      <td>[PAD]</td>\n",
              "      <td>0</td>\n",
              "      <td>O</td>\n",
              "      <td>0</td>\n",
              "      <td>O</td>\n",
              "    </tr>\n",
              "    <tr>\n",
              "      <th>245</th>\n",
              "      <td>[PAD]</td>\n",
              "      <td>0</td>\n",
              "      <td>O</td>\n",
              "      <td>0</td>\n",
              "      <td>O</td>\n",
              "    </tr>\n",
              "    <tr>\n",
              "      <th>246</th>\n",
              "      <td>[PAD]</td>\n",
              "      <td>0</td>\n",
              "      <td>O</td>\n",
              "      <td>0</td>\n",
              "      <td>O</td>\n",
              "    </tr>\n",
              "    <tr>\n",
              "      <th>247</th>\n",
              "      <td>[PAD]</td>\n",
              "      <td>0</td>\n",
              "      <td>O</td>\n",
              "      <td>0</td>\n",
              "      <td>O</td>\n",
              "    </tr>\n",
              "    <tr>\n",
              "      <th>248</th>\n",
              "      <td>[PAD]</td>\n",
              "      <td>0</td>\n",
              "      <td>O</td>\n",
              "      <td>0</td>\n",
              "      <td>O</td>\n",
              "    </tr>\n",
              "    <tr>\n",
              "      <th>249</th>\n",
              "      <td>[PAD]</td>\n",
              "      <td>0</td>\n",
              "      <td>O</td>\n",
              "      <td>0</td>\n",
              "      <td>O</td>\n",
              "    </tr>\n",
              "    <tr>\n",
              "      <th>250</th>\n",
              "      <td>[PAD]</td>\n",
              "      <td>0</td>\n",
              "      <td>O</td>\n",
              "      <td>0</td>\n",
              "      <td>O</td>\n",
              "    </tr>\n",
              "    <tr>\n",
              "      <th>251</th>\n",
              "      <td>[PAD]</td>\n",
              "      <td>0</td>\n",
              "      <td>O</td>\n",
              "      <td>0</td>\n",
              "      <td>O</td>\n",
              "    </tr>\n",
              "    <tr>\n",
              "      <th>252</th>\n",
              "      <td>[PAD]</td>\n",
              "      <td>0</td>\n",
              "      <td>O</td>\n",
              "      <td>0</td>\n",
              "      <td>O</td>\n",
              "    </tr>\n",
              "    <tr>\n",
              "      <th>253</th>\n",
              "      <td>[PAD]</td>\n",
              "      <td>0</td>\n",
              "      <td>O</td>\n",
              "      <td>0</td>\n",
              "      <td>O</td>\n",
              "    </tr>\n",
              "    <tr>\n",
              "      <th>254</th>\n",
              "      <td>[PAD]</td>\n",
              "      <td>0</td>\n",
              "      <td>O</td>\n",
              "      <td>0</td>\n",
              "      <td>O</td>\n",
              "    </tr>\n",
              "    <tr>\n",
              "      <th>255</th>\n",
              "      <td>[PAD]</td>\n",
              "      <td>0</td>\n",
              "      <td>O</td>\n",
              "      <td>0</td>\n",
              "      <td>O</td>\n",
              "    </tr>\n",
              "  </tbody>\n",
              "</table>\n",
              "</div>\n",
              "    <div class=\"colab-df-buttons\">\n",
              "\n",
              "  <div class=\"colab-df-container\">\n",
              "    <button class=\"colab-df-convert\" onclick=\"convertToInteractive('df-a10a2348-d4a5-4fc8-9b77-21f485d0422e')\"\n",
              "            title=\"Convert this dataframe to an interactive table.\"\n",
              "            style=\"display:none;\">\n",
              "\n",
              "  <svg xmlns=\"http://www.w3.org/2000/svg\" height=\"24px\" viewBox=\"0 -960 960 960\">\n",
              "    <path d=\"M120-120v-720h720v720H120Zm60-500h600v-160H180v160Zm220 220h160v-160H400v160Zm0 220h160v-160H400v160ZM180-400h160v-160H180v160Zm440 0h160v-160H620v160ZM180-180h160v-160H180v160Zm440 0h160v-160H620v160Z\"/>\n",
              "  </svg>\n",
              "    </button>\n",
              "\n",
              "  <style>\n",
              "    .colab-df-container {\n",
              "      display:flex;\n",
              "      gap: 12px;\n",
              "    }\n",
              "\n",
              "    .colab-df-convert {\n",
              "      background-color: #E8F0FE;\n",
              "      border: none;\n",
              "      border-radius: 50%;\n",
              "      cursor: pointer;\n",
              "      display: none;\n",
              "      fill: #1967D2;\n",
              "      height: 32px;\n",
              "      padding: 0 0 0 0;\n",
              "      width: 32px;\n",
              "    }\n",
              "\n",
              "    .colab-df-convert:hover {\n",
              "      background-color: #E2EBFA;\n",
              "      box-shadow: 0px 1px 2px rgba(60, 64, 67, 0.3), 0px 1px 3px 1px rgba(60, 64, 67, 0.15);\n",
              "      fill: #174EA6;\n",
              "    }\n",
              "\n",
              "    .colab-df-buttons div {\n",
              "      margin-bottom: 4px;\n",
              "    }\n",
              "\n",
              "    [theme=dark] .colab-df-convert {\n",
              "      background-color: #3B4455;\n",
              "      fill: #D2E3FC;\n",
              "    }\n",
              "\n",
              "    [theme=dark] .colab-df-convert:hover {\n",
              "      background-color: #434B5C;\n",
              "      box-shadow: 0px 1px 3px 1px rgba(0, 0, 0, 0.15);\n",
              "      filter: drop-shadow(0px 1px 2px rgba(0, 0, 0, 0.3));\n",
              "      fill: #FFFFFF;\n",
              "    }\n",
              "  </style>\n",
              "\n",
              "    <script>\n",
              "      const buttonEl =\n",
              "        document.querySelector('#df-a10a2348-d4a5-4fc8-9b77-21f485d0422e button.colab-df-convert');\n",
              "      buttonEl.style.display =\n",
              "        google.colab.kernel.accessAllowed ? 'block' : 'none';\n",
              "\n",
              "      async function convertToInteractive(key) {\n",
              "        const element = document.querySelector('#df-a10a2348-d4a5-4fc8-9b77-21f485d0422e');\n",
              "        const dataTable =\n",
              "          await google.colab.kernel.invokeFunction('convertToInteractive',\n",
              "                                                    [key], {});\n",
              "        if (!dataTable) return;\n",
              "\n",
              "        const docLinkHtml = 'Like what you see? Visit the ' +\n",
              "          '<a target=\"_blank\" href=https://colab.research.google.com/notebooks/data_table.ipynb>data table notebook</a>'\n",
              "          + ' to learn more about interactive tables.';\n",
              "        element.innerHTML = '';\n",
              "        dataTable['output_type'] = 'display_data';\n",
              "        await google.colab.output.renderOutput(dataTable, element);\n",
              "        const docLink = document.createElement('div');\n",
              "        docLink.innerHTML = docLinkHtml;\n",
              "        element.appendChild(docLink);\n",
              "      }\n",
              "    </script>\n",
              "  </div>\n",
              "\n",
              "\n",
              "<div id=\"df-dd3b013f-728f-4391-9308-d2a4d052ea62\">\n",
              "  <button class=\"colab-df-quickchart\" onclick=\"quickchart('df-dd3b013f-728f-4391-9308-d2a4d052ea62')\"\n",
              "            title=\"Suggest charts\"\n",
              "            style=\"display:none;\">\n",
              "\n",
              "<svg xmlns=\"http://www.w3.org/2000/svg\" height=\"24px\"viewBox=\"0 0 24 24\"\n",
              "     width=\"24px\">\n",
              "    <g>\n",
              "        <path d=\"M19 3H5c-1.1 0-2 .9-2 2v14c0 1.1.9 2 2 2h14c1.1 0 2-.9 2-2V5c0-1.1-.9-2-2-2zM9 17H7v-7h2v7zm4 0h-2V7h2v10zm4 0h-2v-4h2v4z\"/>\n",
              "    </g>\n",
              "</svg>\n",
              "  </button>\n",
              "\n",
              "<style>\n",
              "  .colab-df-quickchart {\n",
              "      --bg-color: #E8F0FE;\n",
              "      --fill-color: #1967D2;\n",
              "      --hover-bg-color: #E2EBFA;\n",
              "      --hover-fill-color: #174EA6;\n",
              "      --disabled-fill-color: #AAA;\n",
              "      --disabled-bg-color: #DDD;\n",
              "  }\n",
              "\n",
              "  [theme=dark] .colab-df-quickchart {\n",
              "      --bg-color: #3B4455;\n",
              "      --fill-color: #D2E3FC;\n",
              "      --hover-bg-color: #434B5C;\n",
              "      --hover-fill-color: #FFFFFF;\n",
              "      --disabled-bg-color: #3B4455;\n",
              "      --disabled-fill-color: #666;\n",
              "  }\n",
              "\n",
              "  .colab-df-quickchart {\n",
              "    background-color: var(--bg-color);\n",
              "    border: none;\n",
              "    border-radius: 50%;\n",
              "    cursor: pointer;\n",
              "    display: none;\n",
              "    fill: var(--fill-color);\n",
              "    height: 32px;\n",
              "    padding: 0;\n",
              "    width: 32px;\n",
              "  }\n",
              "\n",
              "  .colab-df-quickchart:hover {\n",
              "    background-color: var(--hover-bg-color);\n",
              "    box-shadow: 0 1px 2px rgba(60, 64, 67, 0.3), 0 1px 3px 1px rgba(60, 64, 67, 0.15);\n",
              "    fill: var(--button-hover-fill-color);\n",
              "  }\n",
              "\n",
              "  .colab-df-quickchart-complete:disabled,\n",
              "  .colab-df-quickchart-complete:disabled:hover {\n",
              "    background-color: var(--disabled-bg-color);\n",
              "    fill: var(--disabled-fill-color);\n",
              "    box-shadow: none;\n",
              "  }\n",
              "\n",
              "  .colab-df-spinner {\n",
              "    border: 2px solid var(--fill-color);\n",
              "    border-color: transparent;\n",
              "    border-bottom-color: var(--fill-color);\n",
              "    animation:\n",
              "      spin 1s steps(1) infinite;\n",
              "  }\n",
              "\n",
              "  @keyframes spin {\n",
              "    0% {\n",
              "      border-color: transparent;\n",
              "      border-bottom-color: var(--fill-color);\n",
              "      border-left-color: var(--fill-color);\n",
              "    }\n",
              "    20% {\n",
              "      border-color: transparent;\n",
              "      border-left-color: var(--fill-color);\n",
              "      border-top-color: var(--fill-color);\n",
              "    }\n",
              "    30% {\n",
              "      border-color: transparent;\n",
              "      border-left-color: var(--fill-color);\n",
              "      border-top-color: var(--fill-color);\n",
              "      border-right-color: var(--fill-color);\n",
              "    }\n",
              "    40% {\n",
              "      border-color: transparent;\n",
              "      border-right-color: var(--fill-color);\n",
              "      border-top-color: var(--fill-color);\n",
              "    }\n",
              "    60% {\n",
              "      border-color: transparent;\n",
              "      border-right-color: var(--fill-color);\n",
              "    }\n",
              "    80% {\n",
              "      border-color: transparent;\n",
              "      border-right-color: var(--fill-color);\n",
              "      border-bottom-color: var(--fill-color);\n",
              "    }\n",
              "    90% {\n",
              "      border-color: transparent;\n",
              "      border-bottom-color: var(--fill-color);\n",
              "    }\n",
              "  }\n",
              "</style>\n",
              "\n",
              "  <script>\n",
              "    async function quickchart(key) {\n",
              "      const quickchartButtonEl =\n",
              "        document.querySelector('#' + key + ' button');\n",
              "      quickchartButtonEl.disabled = true;  // To prevent multiple clicks.\n",
              "      quickchartButtonEl.classList.add('colab-df-spinner');\n",
              "      try {\n",
              "        const charts = await google.colab.kernel.invokeFunction(\n",
              "            'suggestCharts', [key], {});\n",
              "      } catch (error) {\n",
              "        console.error('Error during call to suggestCharts:', error);\n",
              "      }\n",
              "      quickchartButtonEl.classList.remove('colab-df-spinner');\n",
              "      quickchartButtonEl.classList.add('colab-df-quickchart-complete');\n",
              "    }\n",
              "    (() => {\n",
              "      let quickchartButtonEl =\n",
              "        document.querySelector('#df-dd3b013f-728f-4391-9308-d2a4d052ea62 button');\n",
              "      quickchartButtonEl.style.display =\n",
              "        google.colab.kernel.accessAllowed ? 'block' : 'none';\n",
              "    })();\n",
              "  </script>\n",
              "</div>\n",
              "    </div>\n",
              "  </div>\n"
            ]
          },
          "metadata": {},
          "execution_count": 33
        }
      ]
    },
    {
      "cell_type": "code",
      "source": [],
      "metadata": {
        "id": "LlTkkSiF_8RS"
      },
      "execution_count": null,
      "outputs": []
    }
  ]
}